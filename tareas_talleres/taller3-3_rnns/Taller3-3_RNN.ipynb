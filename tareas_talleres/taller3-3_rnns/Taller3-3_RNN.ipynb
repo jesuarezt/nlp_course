{
 "cells": [
  {
   "cell_type": "markdown",
   "metadata": {},
   "source": [
    "# Taller 3-3. Redes Neuronales Recurrentes"
   ]
  },
  {
   "cell_type": "markdown",
   "metadata": {},
   "source": [
    "Este taller consiste en actualizar el taller anterior (3), es decir, usar redes neuronales recurrentes, en vez de redes neuronales multicapa (MLP, multilayer perceptron)."
   ]
  },
  {
   "cell_type": "markdown",
   "metadata": {},
   "source": [
    "## Ejercicio 1. \n",
    "Use el dataset de `progressive-tweet-sentiment.csv` (el del taller anterior), para realizar una clasificación de las 4 clases en que pertenece cada tweet, usando redes neuronales recurrentes. Es decir, que esta vez, no va a usar sólo capas MLP, sino una o varias capas recurrentes, seguida de una capa lineal (full connected, o densa). Pruebe diferentes configuraciones (use recurrente básica, LSTM, GRU y bidireccionalidad). \n",
    "\n",
    "Debe utilizar pytorch. Grafique el loss y el accuracy, tanto para el entrenamiento como para la validación. Escoja el mejor modelo probando con un buen número de epochs (use el optimizador de Adam con learning rate por defecto de 0.001).\n",
    "\n",
    "Recuerde que en este ejercicio no va a usar word2vec, sino una capa de embeddings."
   ]
  },
  {
   "cell_type": "markdown",
   "metadata": {},
   "source": [
    "A continuación muestro como leer el conjunto de datos, crear un `Dataset`de pytorch y dividir en un training y validation set (si se quiere un test se puede repetir el proceso)"
   ]
  },
  {
   "cell_type": "code",
   "execution_count": 1,
   "metadata": {},
   "outputs": [],
   "source": [
    "import torch\n",
    "import pandas as pd\n",
    "\n",
    "from torch.utils.data import Dataset\n",
    "from torch.utils.data.dataset import random_split"
   ]
  },
  {
   "cell_type": "code",
   "execution_count": 2,
   "metadata": {},
   "outputs": [],
   "source": [
    "class TextData(Dataset):\n",
    "    '''\n",
    "    Dataset basico para leer los datos de tweets\n",
    "    '''\n",
    "    def __init__(self, filename):\n",
    "        super(TextData, self).__init__()\n",
    "        df = pd.read_csv(filename,encoding='latin-1')\n",
    "        self.df = df[[\"target\", \"tweet\"]]\n",
    "        \n",
    "    def __getitem__(self, index):\n",
    "        return self.df.iloc[index,0], self.df.iloc[index,1]\n",
    "    \n",
    "    def __len__(self):\n",
    "        return len(self.df)"
   ]
  },
  {
   "cell_type": "code",
   "execution_count": 4,
   "metadata": {},
   "outputs": [],
   "source": [
    "ds = TextData(\"data/progressive-tweet-sentiment.csv\")\n",
    "train_dataset, valid_dataset = random_split(ds,\n",
    " [int(len(ds)*0.7),len(ds) - int(len(ds)*0.7)], torch.manual_seed(42))"
   ]
  },
  {
   "cell_type": "markdown",
   "metadata": {},
   "source": [
    "## Ejercicio 2.\n",
    "Ahora proceda a actualizar el ejercicio 5 del taller 3, pero usando RNNs. Es decir, debe solucionar un problema de Name Entity Recognition (NER), con un dataset pequeño creado por ustedes (con varias entidades), pero usando redes recurrentes (RNN básica, LSTM, GRU). Use GRU o LSTM.\n",
    "\n",
    "Este ejercicio es en realidad más simple que el del anterior taller, ya que no hay necesidad de organizar las sentencias centradas en cada palabra, sino que se toma directamente cada frase (o secuencia). \n",
    "\n",
    "Lo importante ahora, es utilizar todos los estados de salida de la red recurrente y llevarlos a una capa lineal de clasificación. \n",
    "\n",
    "[Este tutorial](https://pytorch.org/tutorials/beginner/nlp/sequence_models_tutorial.html) le puede ser muy útil para desarrollar este punto. "
   ]
  },
  {
   "cell_type": "markdown",
   "metadata": {},
   "source": [
    "### Nota: puede usar las herramientas de pytorch para crear el vocabulario, y las herramientas de relleno (pad)"
   ]
  }
 ],
 "metadata": {
  "kernelspec": {
   "display_name": "Python 3 (ipykernel)",
   "language": "python",
   "name": "python3"
  },
  "language_info": {
   "codemirror_mode": {
    "name": "ipython",
    "version": 3
   },
   "file_extension": ".py",
   "mimetype": "text/x-python",
   "name": "python",
   "nbconvert_exporter": "python",
   "pygments_lexer": "ipython3",
   "version": "3.10.4"
  }
 },
 "nbformat": 4,
 "nbformat_minor": 2
}
