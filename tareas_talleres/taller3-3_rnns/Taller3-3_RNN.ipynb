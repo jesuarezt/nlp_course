{
 "cells": [
  {
   "cell_type": "markdown",
   "metadata": {},
   "source": [
    "# Taller 3-3. Redes Neuronales Recurrentes"
   ]
  },
  {
   "cell_type": "markdown",
   "metadata": {},
   "source": [
    "Este taller consiste en actualizar el taller anterior (3), es decir, usar redes neuronales recurrentes, en vez de redes neuronales multicapa (MLP, multilayer perceptron)."
   ]
  },
  {
   "cell_type": "markdown",
   "metadata": {},
   "source": [
    "## Ejercicio 1. \n",
    "Use el dataset de `progressive-tweet-sentiment.csv` (el del taller anterior), para realizar una clasificación de las 4 clases en que pertenece cada tweet, usando redes neuronales recurrentes. Es decir, que esta vez, no va a usar sólo capas MLP, sino una o varias capas recurrentes, seguida de una capa lineal (full connected, o densa). Pruebe diferentes configuraciones (use recurrente básica, LSTM, GRU y bidireccionalidad). \n",
    "\n",
    "Debe utilizar pytorch. Grafique el loss y el accuracy, tanto para el entrenamiento como para la validación. Escoja el mejor modelo probando con un buen número de epochs (use el optimizador de Adam con learning rate por defecto de 0.001).\n",
    "\n",
    "Recuerde que en este ejercicio no va a usar word2vec, sino una capa de embeddings."
   ]
  },
  {
   "cell_type": "markdown",
   "metadata": {},
   "source": [
    "A continuación muestro como leer el conjunto de datos, crear un `Dataset`de pytorch y dividir en un training y validation set (si se quiere un test se puede repetir el proceso)"
   ]
  },
  {
   "cell_type": "code",
   "execution_count": 2,
   "metadata": {},
   "outputs": [],
   "source": [
    "import torch\n",
    "import pandas as pd\n",
    "\n",
    "from torch.utils.data import Dataset\n",
    "from torch.utils.data.dataset import random_split\n",
    "\n",
    "# tokenizacion \n",
    "import re\n",
    "import nltk\n",
    "from nltk.corpus import stopwords\n",
    "from nltk.tokenize import word_tokenize\n",
    "import re\n",
    "from collections import Counter, OrderedDict\n",
    "\n",
    "#indexando tokens\n",
    "from torchtext.vocab import vocab\n",
    "\n",
    "#Definir funciones de transformacion\n",
    "import torch\n",
    "import torch.nn as nn\n",
    "\n",
    "# para batch\n",
    "from torch.utils.data import DataLoader\n"
   ]
  },
  {
   "cell_type": "code",
   "execution_count": 3,
   "metadata": {},
   "outputs": [],
   "source": [
    "# Global variables\n",
    "SEED_SET = torch.manual_seed(1)\n",
    "device = torch.device('cuda:0' if torch.cuda.is_available() else 'cpu')"
   ]
  },
  {
   "cell_type": "code",
   "execution_count": 4,
   "metadata": {},
   "outputs": [],
   "source": [
    "class TextData(Dataset):\n",
    "    '''\n",
    "    Dataset basico para leer los datos de tweets\n",
    "    '''\n",
    "    def __init__(self, filename):\n",
    "        super(TextData, self).__init__()\n",
    "        df = pd.read_csv(filename,encoding='latin-1')\n",
    "        self.df = df[[\"target\", \"tweet\"]]\n",
    "        \n",
    "    def __getitem__(self, index):\n",
    "        return self.df.iloc[index,0], self.df.iloc[index,1]\n",
    "    \n",
    "    def __len__(self):\n",
    "        return len(self.df)"
   ]
  },
  {
   "cell_type": "code",
   "execution_count": 5,
   "metadata": {},
   "outputs": [],
   "source": [
    "ds = TextData(\"data/progressive-tweet-sentiment.csv\")\n",
    "train_dataset, valid_dataset = random_split(ds,\n",
    " [int(len(ds)*0.7),len(ds) - int(len(ds)*0.7)], SEED_SET)"
   ]
  },
  {
   "cell_type": "code",
   "execution_count": 6,
   "metadata": {},
   "outputs": [],
   "source": [
    "#Generando test_dataset \n",
    "temp_ds = list(train_dataset)\n",
    "train_dataset, test_dataset = random_split(temp_ds,\n",
    " [int(len(temp_ds)*0.7),len(temp_ds)-int(len(temp_ds)*0.7)], SEED_SET)\n",
    "del temp_ds"
   ]
  },
  {
   "cell_type": "markdown",
   "metadata": {},
   "source": [
    "#### Tokenización"
   ]
  },
  {
   "cell_type": "code",
   "execution_count": 7,
   "metadata": {},
   "outputs": [
    {
     "name": "stderr",
     "output_type": "stream",
     "text": [
      "[nltk_data] Downloading package stopwords to\n",
      "[nltk_data]     /Users/jessuarez/nltk_data...\n",
      "[nltk_data]   Package stopwords is already up-to-date!\n",
      "[nltk_data] Downloading package punkt to /Users/jessuarez/nltk_data...\n",
      "[nltk_data]   Package punkt is already up-to-date!\n"
     ]
    }
   ],
   "source": [
    "nltk.download(\"stopwords\")\n",
    "misstop = stopwords.words('english')\n",
    "nltk.download(\"punkt\")\n",
    "\n",
    "#funcion de limpieza de tweets\n",
    "def tokenizacion(text):\n",
    "  def limpieza(text):\n",
    "    text=re.sub(r'@_[A-Za-z0-9]+_','',text) #Remover @_menciones_\n",
    "    text=re.sub(r'@[A-Za-z0-9]+_[A-Za-z0-9]+','',text) #Remover @menciones_\n",
    "    text=re.sub(r'@[A-Za-z0-9]+','',text) #Remover @menciones\n",
    "    text=re.sub(r'https?:\\/\\/\\S+','',text) #Remover Hypervinculos\n",
    "    text=re.sub(r'RT[\\s]+','',text) #Remover Retweets\n",
    "    text=re.sub(r'[^\\w\\s]',\"\",text) #remover signos de puntuacion\n",
    "    text=re.sub(r'#[A-Za-z0-9]+','',text) #Remover \"#\"\n",
    "    #text=re.sub(r'[0-9]','',text) #remover numeros\n",
    "    text=re.sub(r'[^\\w\\s]',\"\",text) #remover signos de puntuacion\n",
    "    text=re.sub(r'\\n|\\t',' ',text) #remover saltos de linea\n",
    "    text=re.sub(r'\\@',' ',text) #remover \"@\"\n",
    "    text=re.sub(r'[\\s]+',' ',text) #reemplazar espacios dobles por espacion sencillos\n",
    "    text=re.sub(r\"^[\\s]\",' ',text) #eliminar espacios al inicio de cada tweet\n",
    "    text=text.lower() #todo a minuscula\n",
    "    return text\n",
    "  \n",
    "  text2=limpieza(text)\n",
    "\n",
    "  #tokenizar tweet eliminando stopwords\n",
    "  token1=word_tokenize(text2)\n",
    "  token2=[]\n",
    "  for word in token1:\n",
    "    if word not in misstop: \n",
    "      token2.append(word)\n",
    "  return token2"
   ]
  },
  {
   "cell_type": "code",
   "execution_count": 8,
   "metadata": {
    "colab": {
     "base_uri": "https://localhost:8080/"
    },
    "id": "babxDY_e84yP",
    "outputId": "ebfef86a-490e-49b0-fa18-c82a2f9f7502"
   },
   "outputs": [
    {
     "name": "stdout",
     "output_type": "stream",
     "text": [
      "Vocab-size: 2584\n"
     ]
    }
   ],
   "source": [
    "token_counts = Counter()\n",
    "for label, line in train_dataset:\n",
    "    tokens = tokenizacion(line)\n",
    "    token_counts.update(tokens)\n",
    "\n",
    "\n",
    "print('Vocab-size:', len(token_counts))"
   ]
  },
  {
   "cell_type": "markdown",
   "metadata": {
    "id": "Ag0HsAGh9rYt"
   },
   "source": [
    "#### Indexando Tokens"
   ]
  },
  {
   "cell_type": "code",
   "execution_count": 9,
   "metadata": {
    "colab": {
     "base_uri": "https://localhost:8080/"
    },
    "id": "60S9yWib9d9L",
    "outputId": "9e28af80-5a33-47e6-8ed6-af7bf38a62a7"
   },
   "outputs": [
    {
     "name": "stdout",
     "output_type": "stream",
     "text": [
      "[1, 1, 1, 1249]\n"
     ]
    }
   ],
   "source": [
    "## Paso 3: Codificación de cada token único en enteros\n",
    "\n",
    "sorted_by_freq_tuples = sorted(token_counts.items(), key=lambda x: x[1], reverse=True)\n",
    "ordered_dict = OrderedDict(sorted_by_freq_tuples)\n",
    "\n",
    "vocab = vocab(ordered_dict)\n",
    "\n",
    "vocab.insert_token(\"<pad>\", 0)\n",
    "vocab.insert_token(\"<unk>\", 1)\n",
    "vocab.set_default_index(1)\n",
    "\n",
    "print([vocab[token] for token in ['this', 'is', 'an', 'example']])"
   ]
  },
  {
   "cell_type": "markdown",
   "metadata": {
    "id": "SpckIaYTAN25"
   },
   "source": [
    "**Paso 4: Etiquetado y Codificacion**"
   ]
  },
  {
   "cell_type": "code",
   "execution_count": 10,
   "metadata": {
    "id": "PLWeVJDC-Fia"
   },
   "outputs": [],
   "source": [
    "text_pipeline = lambda x: [vocab[token] for token in tokenizacion(x)]\n",
    "label_pipeline = lambda x: 0. if x == 'Atheism' else 1. if x=='Feminist Movement' else 2. if x=='Hillary Clinton' else 3. if x=='Legalization of Abortion' else -1.\n",
    "\n",
    "#Definir funcion de trnasformacion y codificacion\n",
    "def collate_batch(batch):\n",
    "    label_list, text_list, lengths = [], [], []\n",
    "    for _label, _text in batch:\n",
    "        label_list.append(label_pipeline(_label))\n",
    "        processed_text = torch.tensor(text_pipeline(_text), \n",
    "                                      dtype=torch.int64)\n",
    "        text_list.append(processed_text)\n",
    "        lengths.append(processed_text.size(0))\n",
    "    label_list = torch.tensor(label_list)\n",
    "    lengths = torch.tensor(lengths)\n",
    "    padded_text_list = nn.utils.rnn.pad_sequence(\n",
    "        text_list, batch_first=True)\n",
    "    return padded_text_list.to(device), label_list.to(device), lengths.to(device)"
   ]
  },
  {
   "cell_type": "code",
   "execution_count": 11,
   "metadata": {},
   "outputs": [
    {
     "name": "stdout",
     "output_type": "stream",
     "text": [
      "tensor([[ 88, 790, 197,   3,  22,  13,  11, 107, 435, 436, 437],\n",
      "        [ 55, 791, 792, 438, 289, 793,  24, 157,   0,   0,   0],\n",
      "        [794,  17,  22,  17, 158,  23, 439,   0,   0,   0,   0],\n",
      "        [440, 198, 441,  34, 442, 443,   0,   0,   0,   0,   0],\n",
      "        [  5, 290, 795, 290, 796, 290, 159, 444, 797, 108,   0]])\n",
      "tensor([2., 2., 2., 2., 2.])\n",
      "tensor([11,  8,  7,  6, 10])\n",
      "torch.Size([5, 11])\n"
     ]
    }
   ],
   "source": [
    "## Toma un pequeño batch\n",
    "dataloader = DataLoader(train_dataset, batch_size=5, shuffle=False, collate_fn=collate_batch)\n",
    "\n",
    "text_batch, label_batch, length_batch = next(iter(dataloader))\n",
    "print(text_batch)\n",
    "print(label_batch)\n",
    "print(length_batch)\n",
    "print(text_batch.shape)"
   ]
  },
  {
   "cell_type": "markdown",
   "metadata": {
    "id": "TNWfunEuG02A"
   },
   "source": [
    "**Batching de los datasets**"
   ]
  },
  {
   "cell_type": "code",
   "execution_count": 12,
   "metadata": {
    "id": "K-FY-0QjC7zw"
   },
   "outputs": [],
   "source": [
    "batch_size = 256\n",
    "\n",
    "train_dl = DataLoader(train_dataset, batch_size=batch_size,\n",
    "                      shuffle=True, collate_fn=collate_batch)\n",
    "valid_dl = DataLoader(valid_dataset, batch_size=batch_size,\n",
    "                      shuffle=False, collate_fn=collate_batch)\n",
    "test_dl = DataLoader(test_dataset, batch_size=batch_size,\n",
    "                     shuffle=False, collate_fn=collate_batch)\n"
   ]
  },
  {
   "cell_type": "markdown",
   "metadata": {
    "id": "C8KhsapMHu6w"
   },
   "source": [
    "**Modelacion**"
   ]
  },
  {
   "cell_type": "markdown",
   "metadata": {
    "id": "UpQAVsy9IS8i"
   },
   "source": [
    "Parametros "
   ]
  },
  {
   "cell_type": "code",
   "execution_count": 13,
   "metadata": {
    "colab": {
     "base_uri": "https://localhost:8080/"
    },
    "id": "L4LQWongIR9C",
    "outputId": "bef2d238-447b-408c-ba5b-5df5084acb07"
   },
   "outputs": [
    {
     "data": {
      "text/plain": [
       "<torch._C.Generator at 0x11a4edb70>"
      ]
     },
     "execution_count": 13,
     "metadata": {},
     "output_type": "execute_result"
    }
   ],
   "source": [
    "vocab_size = len(vocab)\n",
    "embed_dim = 64\n",
    "rnn_hidden_size = 64\n",
    "fc_hidden_size = 64\n",
    "num_epochs = 500\n",
    "lr=0.001\n",
    "num_classes=4\n",
    "DEVICE = torch.device('cuda:0' if torch.cuda.is_available() else 'cpu') #carga de la red neuronal en la CPU o en la GPU\n",
    "torch.manual_seed(1)"
   ]
  },
  {
   "cell_type": "markdown",
   "metadata": {
    "id": "EZkEmCsBMz1n"
   },
   "source": [
    "Modelo 1: Red Neuronal Recurrente Simple"
   ]
  },
  {
   "cell_type": "code",
   "execution_count": 14,
   "metadata": {
    "id": "ivAcqBBQOeCN"
   },
   "outputs": [],
   "source": [
    "class RNN_Simple(nn.Module):\n",
    "    def __init__(self, vocab_size, embed_dim, rnn_hidden_size, fc_hidden_size):\n",
    "        super().__init__()\n",
    "        self.embedding = nn.Embedding(vocab_size, \n",
    "                                      embed_dim, \n",
    "                                      padding_idx=0) \n",
    "        self.rnn = nn.RNN(embed_dim, rnn_hidden_size,\n",
    "                           batch_first=True)\n",
    "        self.fc1 = nn.Linear(rnn_hidden_size, fc_hidden_size)\n",
    "        self.relu = nn.ReLU()\n",
    "        self.fc2 = nn.Linear(fc_hidden_size, num_classes)\n",
    "        self.sigmoid = nn.Sigmoid()\n",
    "        \n",
    "\n",
    "    def forward(self, text, lengths):\n",
    "        out = self.embedding(text)\n",
    "        out = nn.utils.rnn.pack_padded_sequence(out, lengths.cpu().numpy(), enforce_sorted=False, batch_first=True)\n",
    "        out, (hidden) = self.rnn(out)\n",
    "        out = hidden[-1, :, :]\n",
    "        out = self.fc1(out)\n",
    "        out = self.relu(out)\n",
    "        out = self.fc2(out)\n",
    "        out = self.sigmoid(out)\n",
    "        return out\n",
    "\n",
    "model1 = RNN_Simple(vocab_size, embed_dim, rnn_hidden_size, fc_hidden_size) \n",
    "model1 = model1.to(device)"
   ]
  },
  {
   "cell_type": "code",
   "execution_count": 15,
   "metadata": {
    "id": "TjNS5-HahyBv"
   },
   "outputs": [],
   "source": [
    "import numpy as np\n",
    "def train(dataloader):\n",
    "    model1.train()\n",
    "    total_acc, total_loss = 0, 0\n",
    "    losses,acc_acum,nums=0,0,0\n",
    "\n",
    "    for text_batch, label_batch, lengths in dataloader:\n",
    "        optimizer.zero_grad()\n",
    "        y_test=label_batch.long()\n",
    "        y_pred = torch.argmax(model1(text_batch, lengths), 1)\n",
    "\n",
    "        pred = model1(text_batch, lengths)\n",
    "        loss = loss_func(pred, y_test)\n",
    "        loss.backward()\n",
    "        optimizer.step()\n",
    "  \n",
    "        total_acc += (y_pred == label_batch).float().sum().item()\n",
    "        total_loss += loss.item()*label_batch.size(0)\n",
    "\n",
    "    return total_acc/len(dataloader.dataset), total_loss/len(dataloader.dataset)\n",
    "\n",
    "def evaluate(dataloader):\n",
    "    model1.eval()\n",
    "    total_acc, total_loss = 0, 0\n",
    "    with torch.no_grad():\n",
    "        for text_batch, label_batch, lengths in dataloader:\n",
    "            #revisar funcion de perdida\n",
    "            y_pred = torch.argmax(model1(text_batch, lengths), 1)\n",
    "            y_test=label_batch.long()\n",
    "            pred = model1(text_batch, lengths)\n",
    "            loss = loss_func(pred, y_test)\n",
    "            total_acc += (y_pred == label_batch).float().sum().item()\n",
    "            total_loss += loss.item()*label_batch.size(0)\n",
    "    return total_acc/len(dataloader.dataset), total_loss/len(dataloader.dataset)"
   ]
  },
  {
   "cell_type": "code",
   "execution_count": 17,
   "metadata": {
    "colab": {
     "base_uri": "https://localhost:8080/",
     "height": 1000
    },
    "id": "5JGPjc1rPikU",
    "outputId": "c56b8fdb-dd4c-4792-fcce-39f0a9e18731"
   },
   "outputs": [
    {
     "name": "stdout",
     "output_type": "stream",
     "text": [
      "epoch: 0,    train_loss: 1.3832     valid_loss: 1.3844, valid_acc: 0.2270\n",
      "epoch: 10,    train_loss: 1.3770     valid_loss: 1.3831, valid_acc: 0.2299\n",
      "epoch: 20,    train_loss: 1.3721     valid_loss: 1.3818, valid_acc: 0.2270\n",
      "epoch: 30,    train_loss: 1.3673     valid_loss: 1.3806, valid_acc: 0.2356\n",
      "epoch: 40,    train_loss: 1.3625     valid_loss: 1.3794, valid_acc: 0.2414\n",
      "epoch: 50,    train_loss: 1.3573     valid_loss: 1.3782, valid_acc: 0.2500\n",
      "epoch: 60,    train_loss: 1.3519     valid_loss: 1.3771, valid_acc: 0.2500\n",
      "epoch: 70,    train_loss: 1.3460     valid_loss: 1.3761, valid_acc: 0.2471\n",
      "epoch: 80,    train_loss: 1.3394     valid_loss: 1.3752, valid_acc: 0.2500\n",
      "epoch: 90,    train_loss: 1.3319     valid_loss: 1.3743, valid_acc: 0.2529\n",
      "epoch: 100,    train_loss: 1.3234     valid_loss: 1.3736, valid_acc: 0.2586\n",
      "epoch: 110,    train_loss: 1.3139     valid_loss: 1.3731, valid_acc: 0.2644\n",
      "epoch: 120,    train_loss: 1.3029     valid_loss: 1.3728, valid_acc: 0.2759\n",
      "epoch: 130,    train_loss: 1.2906     valid_loss: 1.3731, valid_acc: 0.2816\n",
      "epoch: 140,    train_loss: 1.2768     valid_loss: 1.3743, valid_acc: 0.2701\n",
      "epoch: 150,    train_loss: 1.2607     valid_loss: 1.3753, valid_acc: 0.2557\n",
      "epoch: 160,    train_loss: 1.2425     valid_loss: 1.3767, valid_acc: 0.2787\n",
      "epoch: 170,    train_loss: 1.2225     valid_loss: 1.3786, valid_acc: 0.2931\n",
      "epoch: 180,    train_loss: 1.2004     valid_loss: 1.3804, valid_acc: 0.3103\n",
      "epoch: 190,    train_loss: 1.1763     valid_loss: 1.3807, valid_acc: 0.3247\n",
      "epoch: 200,    train_loss: 1.1530     valid_loss: 1.3816, valid_acc: 0.3391\n",
      "epoch: 210,    train_loss: 1.1277     valid_loss: 1.3797, valid_acc: 0.3333\n",
      "epoch: 220,    train_loss: 1.1023     valid_loss: 1.3750, valid_acc: 0.3305\n",
      "epoch: 230,    train_loss: 1.0778     valid_loss: 1.3703, valid_acc: 0.3333\n",
      "epoch: 240,    train_loss: 1.0541     valid_loss: 1.3680, valid_acc: 0.3276\n",
      "epoch: 250,    train_loss: 1.0303     valid_loss: 1.3690, valid_acc: 0.3305\n",
      "epoch: 260,    train_loss: 1.0078     valid_loss: 1.3676, valid_acc: 0.3333\n",
      "epoch: 270,    train_loss: 0.9867     valid_loss: 1.3624, valid_acc: 0.3448\n",
      "epoch: 280,    train_loss: 0.9660     valid_loss: 1.3567, valid_acc: 0.3534\n",
      "epoch: 290,    train_loss: 0.9467     valid_loss: 1.3496, valid_acc: 0.3649\n",
      "epoch: 300,    train_loss: 0.9287     valid_loss: 1.3479, valid_acc: 0.3736\n",
      "epoch: 310,    train_loss: 0.9121     valid_loss: 1.3491, valid_acc: 0.3736\n",
      "epoch: 320,    train_loss: 0.8966     valid_loss: 1.3506, valid_acc: 0.3678\n",
      "epoch: 330,    train_loss: 0.8825     valid_loss: 1.3496, valid_acc: 0.3707\n",
      "epoch: 340,    train_loss: 0.8691     valid_loss: 1.3460, valid_acc: 0.3764\n",
      "epoch: 350,    train_loss: 0.8566     valid_loss: 1.3463, valid_acc: 0.3736\n",
      "epoch: 360,    train_loss: 0.8449     valid_loss: 1.3472, valid_acc: 0.3678\n",
      "epoch: 370,    train_loss: 0.8346     valid_loss: 1.3446, valid_acc: 0.3678\n",
      "epoch: 380,    train_loss: 0.8249     valid_loss: 1.3423, valid_acc: 0.3793\n",
      "epoch: 390,    train_loss: 0.8165     valid_loss: 1.3432, valid_acc: 0.3764\n",
      "epoch: 400,    train_loss: 0.8087     valid_loss: 1.3416, valid_acc: 0.3736\n",
      "epoch: 410,    train_loss: 0.8023     valid_loss: 1.3384, valid_acc: 0.3793\n",
      "epoch: 420,    train_loss: 0.7966     valid_loss: 1.3362, valid_acc: 0.3822\n",
      "epoch: 430,    train_loss: 0.7910     valid_loss: 1.3359, valid_acc: 0.3851\n",
      "epoch: 440,    train_loss: 0.7862     valid_loss: 1.3357, valid_acc: 0.3822\n",
      "epoch: 450,    train_loss: 0.7820     valid_loss: 1.3362, valid_acc: 0.3822\n",
      "epoch: 460,    train_loss: 0.7785     valid_loss: 1.3376, valid_acc: 0.3822\n",
      "epoch: 470,    train_loss: 0.7753     valid_loss: 1.3386, valid_acc: 0.3793\n",
      "epoch: 480,    train_loss: 0.7728     valid_loss: 1.3386, valid_acc: 0.3764\n",
      "epoch: 490,    train_loss: 0.7703     valid_loss: 1.3393, valid_acc: 0.3793\n"
     ]
    },
    {
     "data": {
      "text/plain": [
       "<matplotlib.legend.Legend at 0x299a42eb0>"
      ]
     },
     "execution_count": 17,
     "metadata": {},
     "output_type": "execute_result"
    },
    {
     "data": {
      "image/png": "[encoded data removed]",
      "text/plain": [
       "<Figure size 640x480 with 1 Axes>"
      ]
     },
     "metadata": {},
     "output_type": "display_data"
    }
   ],
   "source": [
    "import matplotlib.pyplot as plt\n",
    "import torch.nn.functional as F\n",
    "#loss_fn = nn.CrossEntropyLoss()\n",
    "\n",
    "loss_func = F.cross_entropy\n",
    "optimizer = torch.optim.Adam(model1.parameters(), lr=lr)\n",
    "\n",
    "train_losses = []\n",
    "valid_losses = []\n",
    "\n",
    "for epoch in range(num_epochs):\n",
    "\n",
    "  if epoch % 10 == 0:\n",
    "    acc_train, loss_train = train(train_dl)\n",
    "    acc_valid, loss_valid = evaluate(valid_dl)\n",
    "    train_losses.append(loss_train)\n",
    "    valid_losses.append(loss_valid)\n",
    "    print(f\"epoch: {epoch},    train_loss: {loss_train:.4f} \\\n",
    "    valid_loss: {loss_valid:.4f}, valid_acc: {acc_valid:.4f}\")\n",
    "\n",
    "plt.plot(range(len(train_losses)), train_losses, 'r', label='train')\n",
    "plt.plot(range(len(train_losses)), valid_losses, 'b', label = 'valid')\n",
    "plt.legend()"
   ]
  },
  {
   "cell_type": "code",
   "execution_count": 18,
   "metadata": {
    "colab": {
     "base_uri": "https://localhost:8080/"
    },
    "id": "9HnOPAb43XmA",
    "outputId": "8800af2e-f302-49b9-977d-d18c5cc60392"
   },
   "outputs": [
    {
     "name": "stdout",
     "output_type": "stream",
     "text": [
      "test_accuracy: 0.4098\n"
     ]
    }
   ],
   "source": [
    "acc_test, _ = evaluate(test_dl)\n",
    "print(f'test_accuracy: {acc_test:.4f}') "
   ]
  },
  {
   "cell_type": "markdown",
   "metadata": {
    "id": "iua2k8JZC6gp"
   },
   "source": [
    "Modelo 1.1 Red Neuronal Recurrente Bidireccional Simple"
   ]
  },
  {
   "cell_type": "code",
   "execution_count": 19,
   "metadata": {
    "id": "QekZK2wAC56B"
   },
   "outputs": [],
   "source": [
    "class RNN_BI(nn.Module):\n",
    "    def __init__(self, vocab_size, embed_dim, rnn_hidden_size, fc_hidden_size):\n",
    "        super().__init__()\n",
    "        self.embedding = nn.Embedding(vocab_size, \n",
    "                                      embed_dim, \n",
    "                                      padding_idx=0) \n",
    "        self.rnn = nn.RNN(embed_dim, rnn_hidden_size, \n",
    "                           batch_first=True, bidirectional=True)\n",
    "        self.fc1 = nn.Linear(rnn_hidden_size*2, fc_hidden_size)\n",
    "        self.relu = nn.ReLU()\n",
    "        self.fc2 = nn.Linear(fc_hidden_size, num_classes)\n",
    "        self.sigmoid = nn.Sigmoid()\n",
    "\n",
    "    def forward(self, text, lengths):\n",
    "        out = self.embedding(text)\n",
    "        out = nn.utils.rnn.pack_padded_sequence(out, lengths.cpu().numpy(), enforce_sorted=False, batch_first=True)\n",
    "        _, (hidden) = self.rnn(out)\n",
    "        out = torch.cat((hidden[-2, :, :], hidden[-1, :, :]), dim=1)\n",
    "        out = self.fc1(out)\n",
    "        out = self.relu(out)\n",
    "        out = self.fc2(out)\n",
    "        out = self.sigmoid(out)\n",
    "        return out\n",
    "\n",
    "model1_1 = RNN_BI(vocab_size, embed_dim, rnn_hidden_size, fc_hidden_size) \n",
    "model1_1 = model1_1.to(device)"
   ]
  },
  {
   "cell_type": "code",
   "execution_count": 20,
   "metadata": {
    "id": "jixUYY3ZDxbI"
   },
   "outputs": [],
   "source": [
    "import numpy as np\n",
    "def train_BI(dataloader):\n",
    "    model1_1.train()\n",
    "    total_acc, total_loss = 0, 0\n",
    "\n",
    "    for text_batch, label_batch, lengths in dataloader:\n",
    "        optimizer.zero_grad()\n",
    "        y_test=label_batch.long()\n",
    "        y_pred = torch.argmax(model1_1(text_batch, lengths), 1)\n",
    "\n",
    "        pred = model1_1(text_batch, lengths)\n",
    "        loss = loss_func(pred, y_test)\n",
    "        loss.backward()\n",
    "        optimizer.step()\n",
    "  \n",
    "        total_acc += (y_pred == label_batch).float().sum().item()\n",
    "        total_loss += loss.item()*label_batch.size(0)\n",
    "\n",
    "    return total_acc/len(dataloader.dataset), total_loss/len(dataloader.dataset)\n",
    "\n",
    "def evaluate_BI(dataloader):\n",
    "    model1_1.eval()\n",
    "    total_acc, total_loss = 0, 0\n",
    "    with torch.no_grad():\n",
    "        for text_batch, label_batch, lengths in dataloader:\n",
    "            #revisar funcion de perdida\n",
    "            y_pred = torch.argmax(model1_1(text_batch, lengths), 1)\n",
    "            y_test=label_batch.long()\n",
    "            pred = model1_1(text_batch, lengths)\n",
    "            loss = loss_func(pred, y_test)\n",
    "            total_acc += (y_pred == label_batch).float().sum().item()\n",
    "            total_loss += loss.item()*label_batch.size(0)\n",
    "    return total_acc/len(dataloader.dataset), total_loss/len(dataloader.dataset)"
   ]
  },
  {
   "cell_type": "code",
   "execution_count": 21,
   "metadata": {
    "colab": {
     "base_uri": "https://localhost:8080/",
     "height": 1000
    },
    "id": "7srIEIFpDT-W",
    "outputId": "a60032b9-3574-4286-a6f4-08a55b4f4509"
   },
   "outputs": [
    {
     "name": "stdout",
     "output_type": "stream",
     "text": [
      "epoch: 0,    train_loss: 1.3943     valid_loss: 1.3876, valid_acc: 0.2557\n",
      "epoch: 10,    train_loss: 1.3842     valid_loss: 1.3854, valid_acc: 0.2759\n",
      "epoch: 20,    train_loss: 1.3763     valid_loss: 1.3832, valid_acc: 0.2989\n",
      "epoch: 30,    train_loss: 1.3689     valid_loss: 1.3809, valid_acc: 0.3218\n",
      "epoch: 40,    train_loss: 1.3614     valid_loss: 1.3787, valid_acc: 0.3276\n",
      "epoch: 50,    train_loss: 1.3535     valid_loss: 1.3765, valid_acc: 0.3161\n",
      "epoch: 60,    train_loss: 1.3445     valid_loss: 1.3744, valid_acc: 0.3103\n",
      "epoch: 70,    train_loss: 1.3347     valid_loss: 1.3721, valid_acc: 0.3305\n",
      "epoch: 80,    train_loss: 1.3233     valid_loss: 1.3697, valid_acc: 0.3305\n",
      "epoch: 90,    train_loss: 1.3100     valid_loss: 1.3674, valid_acc: 0.3420\n",
      "epoch: 100,    train_loss: 1.2949     valid_loss: 1.3651, valid_acc: 0.3477\n",
      "epoch: 110,    train_loss: 1.2771     valid_loss: 1.3624, valid_acc: 0.3448\n",
      "epoch: 120,    train_loss: 1.2571     valid_loss: 1.3595, valid_acc: 0.3621\n",
      "epoch: 130,    train_loss: 1.2338     valid_loss: 1.3553, valid_acc: 0.3621\n",
      "epoch: 140,    train_loss: 1.2084     valid_loss: 1.3523, valid_acc: 0.3736\n",
      "epoch: 150,    train_loss: 1.1813     valid_loss: 1.3521, valid_acc: 0.3707\n",
      "epoch: 160,    train_loss: 1.1529     valid_loss: 1.3535, valid_acc: 0.3621\n",
      "epoch: 170,    train_loss: 1.1243     valid_loss: 1.3502, valid_acc: 0.3592\n",
      "epoch: 180,    train_loss: 1.0964     valid_loss: 1.3479, valid_acc: 0.3477\n",
      "epoch: 190,    train_loss: 1.0693     valid_loss: 1.3512, valid_acc: 0.3534\n",
      "epoch: 200,    train_loss: 1.0419     valid_loss: 1.3485, valid_acc: 0.3592\n",
      "epoch: 210,    train_loss: 1.0143     valid_loss: 1.3391, valid_acc: 0.3649\n",
      "epoch: 220,    train_loss: 0.9895     valid_loss: 1.3344, valid_acc: 0.3678\n",
      "epoch: 230,    train_loss: 0.9650     valid_loss: 1.3374, valid_acc: 0.3707\n",
      "epoch: 240,    train_loss: 0.9416     valid_loss: 1.3406, valid_acc: 0.3592\n",
      "epoch: 250,    train_loss: 0.9196     valid_loss: 1.3379, valid_acc: 0.3506\n",
      "epoch: 260,    train_loss: 0.8997     valid_loss: 1.3371, valid_acc: 0.3448\n",
      "epoch: 270,    train_loss: 0.8801     valid_loss: 1.3379, valid_acc: 0.3649\n",
      "epoch: 280,    train_loss: 0.8631     valid_loss: 1.3384, valid_acc: 0.3621\n",
      "epoch: 290,    train_loss: 0.8477     valid_loss: 1.3399, valid_acc: 0.3621\n",
      "epoch: 300,    train_loss: 0.8341     valid_loss: 1.3433, valid_acc: 0.3448\n",
      "epoch: 310,    train_loss: 0.8222     valid_loss: 1.3441, valid_acc: 0.3563\n",
      "epoch: 320,    train_loss: 0.8122     valid_loss: 1.3416, valid_acc: 0.3621\n",
      "epoch: 330,    train_loss: 0.8033     valid_loss: 1.3402, valid_acc: 0.3592\n",
      "epoch: 340,    train_loss: 0.7959     valid_loss: 1.3399, valid_acc: 0.3506\n",
      "epoch: 350,    train_loss: 0.7898     valid_loss: 1.3423, valid_acc: 0.3506\n",
      "epoch: 360,    train_loss: 0.7844     valid_loss: 1.3455, valid_acc: 0.3563\n",
      "epoch: 370,    train_loss: 0.7801     valid_loss: 1.3451, valid_acc: 0.3534\n",
      "epoch: 380,    train_loss: 0.7763     valid_loss: 1.3415, valid_acc: 0.3649\n",
      "epoch: 390,    train_loss: 0.7730     valid_loss: 1.3387, valid_acc: 0.3707\n",
      "epoch: 400,    train_loss: 0.7703     valid_loss: 1.3378, valid_acc: 0.3736\n",
      "epoch: 410,    train_loss: 0.7679     valid_loss: 1.3388, valid_acc: 0.3764\n",
      "epoch: 420,    train_loss: 0.7657     valid_loss: 1.3409, valid_acc: 0.3764\n",
      "epoch: 430,    train_loss: 0.7640     valid_loss: 1.3404, valid_acc: 0.3764\n",
      "epoch: 440,    train_loss: 0.7626     valid_loss: 1.3390, valid_acc: 0.3822\n",
      "epoch: 450,    train_loss: 0.7615     valid_loss: 1.3376, valid_acc: 0.3908\n",
      "epoch: 460,    train_loss: 0.7606     valid_loss: 1.3366, valid_acc: 0.3908\n",
      "epoch: 470,    train_loss: 0.7598     valid_loss: 1.3367, valid_acc: 0.3908\n",
      "epoch: 480,    train_loss: 0.7590     valid_loss: 1.3382, valid_acc: 0.3908\n",
      "epoch: 490,    train_loss: 0.7581     valid_loss: 1.3392, valid_acc: 0.3908\n"
     ]
    },
    {
     "data": {
      "text/plain": [
       "<matplotlib.legend.Legend at 0x299484a60>"
      ]
     },
     "execution_count": 21,
     "metadata": {},
     "output_type": "execute_result"
    },
    {
     "data": {
      "image/png": "[encoded data removed]",
      "text/plain": [
       "<Figure size 640x480 with 1 Axes>"
      ]
     },
     "metadata": {},
     "output_type": "display_data"
    }
   ],
   "source": [
    "import matplotlib.pyplot as plt\n",
    "import torch.nn.functional as F\n",
    "#loss_fn = nn.CrossEntropyLoss()\n",
    "\n",
    "loss_func = F.cross_entropy\n",
    "optimizer = torch.optim.Adam(model1_1.parameters(), lr=lr)\n",
    "\n",
    "train_losses = []\n",
    "valid_losses = []\n",
    "\n",
    "for epoch in range(num_epochs):\n",
    "\n",
    "  if epoch % 10 == 0:\n",
    "    acc_train, loss_train = train_BI(train_dl)\n",
    "    acc_valid, loss_valid = evaluate_BI(valid_dl)\n",
    "    train_losses.append(loss_train)\n",
    "    valid_losses.append(loss_valid)\n",
    "    print(f\"epoch: {epoch},    train_loss: {loss_train:.4f} \\\n",
    "    valid_loss: {loss_valid:.4f}, valid_acc: {acc_valid:.4f}\")\n",
    "\n",
    "plt.plot(range(len(train_losses)), train_losses, 'r', label='train')\n",
    "plt.plot(range(len(train_losses)), valid_losses, 'b', label = 'valid')\n",
    "plt.legend()"
   ]
  },
  {
   "cell_type": "code",
   "execution_count": 22,
   "metadata": {
    "colab": {
     "base_uri": "https://localhost:8080/"
    },
    "id": "Fb5MPEYxDo82",
    "outputId": "f67b8db8-8a22-4aad-9c6e-2abcaaf5c3b4"
   },
   "outputs": [
    {
     "name": "stdout",
     "output_type": "stream",
     "text": [
      "test_accuracy: 0.4057\n"
     ]
    }
   ],
   "source": [
    "acc_test, _ = evaluate_BI(test_dl)\n",
    "print(f'test_accuracy: {acc_test:.4f}') "
   ]
  },
  {
   "cell_type": "markdown",
   "metadata": {
    "id": "Vz_-o-4qAOFz"
   },
   "source": [
    "Modelo 2: Red Neuronal Recurrente Cerrada GRU"
   ]
  },
  {
   "cell_type": "code",
   "execution_count": 23,
   "metadata": {
    "id": "fuMsRWBJ4ArN"
   },
   "outputs": [],
   "source": [
    "class RNN_GRU(nn.Module):\n",
    "    def __init__(self, vocab_size, embed_dim, rnn_hidden_size, fc_hidden_size):\n",
    "        super().__init__()\n",
    "        self.embedding = nn.Embedding(vocab_size, \n",
    "                                      embed_dim, \n",
    "                                      padding_idx=0) \n",
    "        self.rnn = nn.GRU(embed_dim, rnn_hidden_size,\n",
    "                           batch_first=True)\n",
    "        self.fc1 = nn.Linear(rnn_hidden_size, fc_hidden_size)\n",
    "        self.relu = nn.ReLU()\n",
    "        self.fc2 = nn.Linear(fc_hidden_size, num_classes)\n",
    "        self.sigmoid = nn.Sigmoid()\n",
    "        \n",
    "\n",
    "    def forward(self, text, lengths):\n",
    "        out = self.embedding(text)\n",
    "        out = nn.utils.rnn.pack_padded_sequence(out, lengths.cpu().numpy(), enforce_sorted=False, batch_first=True)\n",
    "        out, (hidden) = self.rnn(out)\n",
    "        out = hidden[-1, :, :]\n",
    "        out = self.fc1(out)\n",
    "        out = self.relu(out)\n",
    "        out = self.fc2(out)\n",
    "        out = self.sigmoid(out)\n",
    "        return out\n",
    "\n",
    "model2 = RNN_GRU(vocab_size, embed_dim, rnn_hidden_size, fc_hidden_size) \n",
    "model2 = model2.to(device)"
   ]
  },
  {
   "cell_type": "code",
   "execution_count": 24,
   "metadata": {
    "id": "rDFYAcEP4NGv"
   },
   "outputs": [],
   "source": [
    "import numpy as np\n",
    "def train_GRU(dataloader):\n",
    "    model2.train()\n",
    "    total_acc, total_loss = 0, 0\n",
    "    losses,acc_acum,nums=0,0,0\n",
    "\n",
    "    for text_batch, label_batch, lengths in dataloader:\n",
    "        optimizer.zero_grad()\n",
    "        y_test=label_batch.long()\n",
    "        y_pred = torch.argmax(model2(text_batch, lengths), 1)\n",
    "\n",
    "        pred = model2(text_batch, lengths)\n",
    "        loss = loss_func(pred, y_test)\n",
    "        loss.backward()\n",
    "        optimizer.step()\n",
    "  \n",
    "        total_acc += (y_pred == label_batch).float().sum().item()\n",
    "        total_loss += loss.item()*label_batch.size(0)\n",
    "\n",
    "    return total_acc/len(dataloader.dataset), total_loss/len(dataloader.dataset)\n",
    "\n",
    "def evaluate_GRU(dataloader):\n",
    "    model2.eval()\n",
    "    total_acc, total_loss = 0, 0\n",
    "    with torch.no_grad():\n",
    "        for text_batch, label_batch, lengths in dataloader:\n",
    "            #revisar funcion de perdida\n",
    "            y_pred = torch.argmax(model2(text_batch, lengths), 1)\n",
    "            y_test=label_batch.long()\n",
    "            pred = model2(text_batch, lengths)\n",
    "            loss = loss_func(pred, y_test)\n",
    "            total_acc += (y_pred == label_batch).float().sum().item()\n",
    "            total_loss += loss.item()*label_batch.size(0)\n",
    "    return total_acc/len(dataloader.dataset), total_loss/len(dataloader.dataset)"
   ]
  },
  {
   "cell_type": "code",
   "execution_count": 25,
   "metadata": {
    "colab": {
     "base_uri": "https://localhost:8080/",
     "height": 1000
    },
    "id": "d1uzhrQhAsLg",
    "outputId": "c05f20a5-7bcf-4652-c97b-fcaaef070d05"
   },
   "outputs": [
    {
     "name": "stdout",
     "output_type": "stream",
     "text": [
      "epoch: 0,    train_loss: 1.3854     valid_loss: 1.3858, valid_acc: 0.2586\n",
      "epoch: 10,    train_loss: 1.3803     valid_loss: 1.3839, valid_acc: 0.2644\n",
      "epoch: 20,    train_loss: 1.3762     valid_loss: 1.3822, valid_acc: 0.2874\n",
      "epoch: 30,    train_loss: 1.3718     valid_loss: 1.3805, valid_acc: 0.2874\n",
      "epoch: 40,    train_loss: 1.3674     valid_loss: 1.3786, valid_acc: 0.2816\n",
      "epoch: 50,    train_loss: 1.3624     valid_loss: 1.3765, valid_acc: 0.2874\n",
      "epoch: 60,    train_loss: 1.3567     valid_loss: 1.3741, valid_acc: 0.3132\n",
      "epoch: 70,    train_loss: 1.3503     valid_loss: 1.3714, valid_acc: 0.3218\n",
      "epoch: 80,    train_loss: 1.3430     valid_loss: 1.3682, valid_acc: 0.3276\n",
      "epoch: 90,    train_loss: 1.3343     valid_loss: 1.3646, valid_acc: 0.3333\n",
      "epoch: 100,    train_loss: 1.3244     valid_loss: 1.3605, valid_acc: 0.3391\n",
      "epoch: 110,    train_loss: 1.3133     valid_loss: 1.3559, valid_acc: 0.3362\n",
      "epoch: 120,    train_loss: 1.3000     valid_loss: 1.3506, valid_acc: 0.3477\n",
      "epoch: 130,    train_loss: 1.2861     valid_loss: 1.3449, valid_acc: 0.3592\n",
      "epoch: 140,    train_loss: 1.2702     valid_loss: 1.3389, valid_acc: 0.3678\n",
      "epoch: 150,    train_loss: 1.2530     valid_loss: 1.3320, valid_acc: 0.3822\n",
      "epoch: 160,    train_loss: 1.2343     valid_loss: 1.3241, valid_acc: 0.3908\n",
      "epoch: 170,    train_loss: 1.2137     valid_loss: 1.3158, valid_acc: 0.3994\n",
      "epoch: 180,    train_loss: 1.1919     valid_loss: 1.3069, valid_acc: 0.4167\n",
      "epoch: 190,    train_loss: 1.1686     valid_loss: 1.2980, valid_acc: 0.4569\n",
      "epoch: 200,    train_loss: 1.1439     valid_loss: 1.2890, valid_acc: 0.4540\n",
      "epoch: 210,    train_loss: 1.1190     valid_loss: 1.2805, valid_acc: 0.4626\n",
      "epoch: 220,    train_loss: 1.0937     valid_loss: 1.2722, valid_acc: 0.4684\n",
      "epoch: 230,    train_loss: 1.0691     valid_loss: 1.2641, valid_acc: 0.4914\n",
      "epoch: 240,    train_loss: 1.0439     valid_loss: 1.2525, valid_acc: 0.5057\n",
      "epoch: 250,    train_loss: 1.0201     valid_loss: 1.2425, valid_acc: 0.5144\n",
      "epoch: 260,    train_loss: 0.9966     valid_loss: 1.2345, valid_acc: 0.5144\n",
      "epoch: 270,    train_loss: 0.9745     valid_loss: 1.2300, valid_acc: 0.5230\n",
      "epoch: 280,    train_loss: 0.9542     valid_loss: 1.2253, valid_acc: 0.5115\n",
      "epoch: 290,    train_loss: 0.9339     valid_loss: 1.2193, valid_acc: 0.5029\n",
      "epoch: 300,    train_loss: 0.9161     valid_loss: 1.2139, valid_acc: 0.5086\n",
      "epoch: 310,    train_loss: 0.8989     valid_loss: 1.2121, valid_acc: 0.5201\n",
      "epoch: 320,    train_loss: 0.8822     valid_loss: 1.2126, valid_acc: 0.5144\n",
      "epoch: 330,    train_loss: 0.8682     valid_loss: 1.2136, valid_acc: 0.5086\n",
      "epoch: 340,    train_loss: 0.8544     valid_loss: 1.2155, valid_acc: 0.4971\n",
      "epoch: 350,    train_loss: 0.8426     valid_loss: 1.2188, valid_acc: 0.4856\n",
      "epoch: 360,    train_loss: 0.8313     valid_loss: 1.2216, valid_acc: 0.4856\n",
      "epoch: 370,    train_loss: 0.8209     valid_loss: 1.2252, valid_acc: 0.4828\n",
      "epoch: 380,    train_loss: 0.8115     valid_loss: 1.2279, valid_acc: 0.4885\n",
      "epoch: 390,    train_loss: 0.8031     valid_loss: 1.2309, valid_acc: 0.4856\n",
      "epoch: 400,    train_loss: 0.7951     valid_loss: 1.2334, valid_acc: 0.4856\n",
      "epoch: 410,    train_loss: 0.7889     valid_loss: 1.2325, valid_acc: 0.4828\n",
      "epoch: 420,    train_loss: 0.7827     valid_loss: 1.2306, valid_acc: 0.4885\n",
      "epoch: 430,    train_loss: 0.7779     valid_loss: 1.2293, valid_acc: 0.4914\n",
      "epoch: 440,    train_loss: 0.7739     valid_loss: 1.2324, valid_acc: 0.4885\n",
      "epoch: 450,    train_loss: 0.7702     valid_loss: 1.2388, valid_acc: 0.4770\n",
      "epoch: 460,    train_loss: 0.7676     valid_loss: 1.2421, valid_acc: 0.4741\n",
      "epoch: 470,    train_loss: 0.7655     valid_loss: 1.2414, valid_acc: 0.4770\n",
      "epoch: 480,    train_loss: 0.7636     valid_loss: 1.2397, valid_acc: 0.4856\n",
      "epoch: 490,    train_loss: 0.7625     valid_loss: 1.2399, valid_acc: 0.4856\n"
     ]
    },
    {
     "data": {
      "text/plain": [
       "<matplotlib.legend.Legend at 0x299b63ca0>"
      ]
     },
     "execution_count": 25,
     "metadata": {},
     "output_type": "execute_result"
    },
    {
     "data": {
      "image/png": "[encoded data removed]",
      "text/plain": [
       "<Figure size 640x480 with 1 Axes>"
      ]
     },
     "metadata": {},
     "output_type": "display_data"
    }
   ],
   "source": [
    "import matplotlib.pyplot as plt\n",
    "import torch.nn.functional as F\n",
    "#loss_fn = nn.CrossEntropyLoss()\n",
    "\n",
    "loss_func = F.cross_entropy\n",
    "optimizer = torch.optim.Adam(model2.parameters(), lr=lr)\n",
    "\n",
    "train_losses = []\n",
    "valid_losses = []\n",
    "\n",
    "for epoch in range(num_epochs):\n",
    "\n",
    "  if epoch % 10 == 0:\n",
    "    acc_train, loss_train = train_GRU(train_dl)\n",
    "    acc_valid, loss_valid = evaluate_GRU(valid_dl)\n",
    "    train_losses.append(loss_train)\n",
    "    valid_losses.append(loss_valid)\n",
    "    print(f\"epoch: {epoch},    train_loss: {loss_train:.4f} \\\n",
    "    valid_loss: {loss_valid:.4f}, valid_acc: {acc_valid:.4f}\")\n",
    "\n",
    "plt.plot(range(len(train_losses)), train_losses, 'r', label='train')\n",
    "plt.plot(range(len(train_losses)), valid_losses, 'b', label = 'valid')\n",
    "plt.legend()"
   ]
  },
  {
   "cell_type": "code",
   "execution_count": 26,
   "metadata": {
    "colab": {
     "base_uri": "https://localhost:8080/"
    },
    "id": "4Gz5mbUkAJNk",
    "outputId": "0d150833-bb19-4add-a453-4f9ae9bc51c1"
   },
   "outputs": [
    {
     "name": "stdout",
     "output_type": "stream",
     "text": [
      "test_accuracy: 0.5164\n"
     ]
    }
   ],
   "source": [
    "acc_test, _ = evaluate_GRU(test_dl)\n",
    "print(f'test_accuracy: {acc_test:.4f}') "
   ]
  },
  {
   "cell_type": "markdown",
   "metadata": {
    "id": "6sLUTFhdFzXf"
   },
   "source": [
    "Modelo 2.1: Red Neuronal Recurrente Cerrada (GRU) Bidireccional"
   ]
  },
  {
   "cell_type": "code",
   "execution_count": 27,
   "metadata": {
    "id": "z4phUQYsGECZ"
   },
   "outputs": [],
   "source": [
    "class RNN_GRU_BI(nn.Module):\n",
    "    def __init__(self, vocab_size, embed_dim, rnn_hidden_size, fc_hidden_size):\n",
    "        super().__init__()\n",
    "        self.embedding = nn.Embedding(vocab_size, \n",
    "                                      embed_dim, \n",
    "                                      padding_idx=0) \n",
    "        self.rnn = nn.GRU(embed_dim, rnn_hidden_size, \n",
    "                           batch_first=True, bidirectional=True)\n",
    "        self.fc1 = nn.Linear(rnn_hidden_size*2, fc_hidden_size)\n",
    "        self.relu = nn.ReLU()\n",
    "        self.fc2 = nn.Linear(fc_hidden_size, num_classes)\n",
    "        self.sigmoid = nn.Sigmoid()\n",
    "\n",
    "    def forward(self, text, lengths):\n",
    "        out = self.embedding(text)\n",
    "        out = nn.utils.rnn.pack_padded_sequence(out, lengths.cpu().numpy(), enforce_sorted=False, batch_first=True)\n",
    "        _, (hidden) = self.rnn(out)\n",
    "        out = torch.cat((hidden[-2, :, :], hidden[-1, :, :]), dim=1)\n",
    "        out = self.fc1(out)\n",
    "        out = self.relu(out)\n",
    "        out = self.fc2(out)\n",
    "        out = self.sigmoid(out)\n",
    "        return out\n",
    " \n",
    "model2_1 = RNN_GRU_BI(vocab_size, embed_dim, rnn_hidden_size, fc_hidden_size) \n",
    "model2_1 = model2_1.to(device)"
   ]
  },
  {
   "cell_type": "code",
   "execution_count": 28,
   "metadata": {
    "id": "coLNl_t8GY_z"
   },
   "outputs": [],
   "source": [
    "import numpy as np\n",
    "def train_GRU_BI(dataloader):\n",
    "    model2_1.train()\n",
    "    total_acc, total_loss = 0, 0\n",
    "    losses,acc_acum,nums=0,0,0\n",
    "\n",
    "    for text_batch, label_batch, lengths in dataloader:\n",
    "        optimizer.zero_grad()\n",
    "        y_test=label_batch.long()\n",
    "        y_pred = torch.argmax(model2_1(text_batch, lengths), 1)\n",
    "\n",
    "        pred = model2_1(text_batch, lengths)\n",
    "        loss = loss_func(pred, y_test)\n",
    "        loss.backward()\n",
    "        optimizer.step()\n",
    "  \n",
    "        total_acc += (y_pred == label_batch).float().sum().item()\n",
    "        total_loss += loss.item()*label_batch.size(0)\n",
    "\n",
    "    return total_acc/len(dataloader.dataset), total_loss/len(dataloader.dataset)\n",
    "\n",
    "def evaluate_GRU_BI(dataloader):\n",
    "    model2_1.eval()\n",
    "    total_acc, total_loss = 0, 0\n",
    "    with torch.no_grad():\n",
    "        for text_batch, label_batch, lengths in dataloader:\n",
    "            #revisar funcion de perdida\n",
    "            y_pred = torch.argmax(model2_1(text_batch, lengths), 1)\n",
    "            y_test=label_batch.long()\n",
    "            pred = model2_1(text_batch, lengths)\n",
    "            loss = loss_func(pred, y_test)\n",
    "            total_acc += (y_pred == label_batch).float().sum().item()\n",
    "            total_loss += loss.item()*label_batch.size(0)\n",
    "    return total_acc/len(dataloader.dataset), total_loss/len(dataloader.dataset)"
   ]
  },
  {
   "cell_type": "code",
   "execution_count": 29,
   "metadata": {
    "colab": {
     "base_uri": "https://localhost:8080/",
     "height": 1000
    },
    "id": "nFcFysTOGiQN",
    "outputId": "e1052433-7395-489e-a744-2975aa71e9ef"
   },
   "outputs": [
    {
     "name": "stdout",
     "output_type": "stream",
     "text": [
      "epoch: 0,    train_loss: 1.3889     valid_loss: 1.3852, valid_acc: 0.2874\n",
      "epoch: 10,    train_loss: 1.3827     valid_loss: 1.3839, valid_acc: 0.2902\n",
      "epoch: 20,    train_loss: 1.3775     valid_loss: 1.3826, valid_acc: 0.2902\n",
      "epoch: 30,    train_loss: 1.3725     valid_loss: 1.3812, valid_acc: 0.3046\n",
      "epoch: 40,    train_loss: 1.3669     valid_loss: 1.3798, valid_acc: 0.3075\n",
      "epoch: 50,    train_loss: 1.3607     valid_loss: 1.3781, valid_acc: 0.3534\n",
      "epoch: 60,    train_loss: 1.3536     valid_loss: 1.3761, valid_acc: 0.3649\n",
      "epoch: 70,    train_loss: 1.3451     valid_loss: 1.3738, valid_acc: 0.3534\n",
      "epoch: 80,    train_loss: 1.3349     valid_loss: 1.3708, valid_acc: 0.3621\n",
      "epoch: 90,    train_loss: 1.3226     valid_loss: 1.3675, valid_acc: 0.3649\n",
      "epoch: 100,    train_loss: 1.3081     valid_loss: 1.3635, valid_acc: 0.3908\n",
      "epoch: 110,    train_loss: 1.2902     valid_loss: 1.3588, valid_acc: 0.3937\n",
      "epoch: 120,    train_loss: 1.2702     valid_loss: 1.3532, valid_acc: 0.3908\n",
      "epoch: 130,    train_loss: 1.2467     valid_loss: 1.3469, valid_acc: 0.3908\n",
      "epoch: 140,    train_loss: 1.2210     valid_loss: 1.3403, valid_acc: 0.3764\n",
      "epoch: 150,    train_loss: 1.1929     valid_loss: 1.3339, valid_acc: 0.3707\n",
      "epoch: 160,    train_loss: 1.1629     valid_loss: 1.3280, valid_acc: 0.3707\n",
      "epoch: 170,    train_loss: 1.1301     valid_loss: 1.3233, valid_acc: 0.3678\n",
      "epoch: 180,    train_loss: 1.0971     valid_loss: 1.3198, valid_acc: 0.3707\n",
      "epoch: 190,    train_loss: 1.0628     valid_loss: 1.3152, valid_acc: 0.3822\n",
      "epoch: 200,    train_loss: 1.0287     valid_loss: 1.3099, valid_acc: 0.3908\n",
      "epoch: 210,    train_loss: 0.9957     valid_loss: 1.3005, valid_acc: 0.3994\n",
      "epoch: 220,    train_loss: 0.9651     valid_loss: 1.2903, valid_acc: 0.4195\n",
      "epoch: 230,    train_loss: 0.9368     valid_loss: 1.2825, valid_acc: 0.4368\n",
      "epoch: 240,    train_loss: 0.9130     valid_loss: 1.2755, valid_acc: 0.4483\n",
      "epoch: 250,    train_loss: 0.8915     valid_loss: 1.2668, valid_acc: 0.4626\n",
      "epoch: 260,    train_loss: 0.8732     valid_loss: 1.2530, valid_acc: 0.4684\n",
      "epoch: 270,    train_loss: 0.8557     valid_loss: 1.2445, valid_acc: 0.4914\n",
      "epoch: 280,    train_loss: 0.8408     valid_loss: 1.2416, valid_acc: 0.4914\n",
      "epoch: 290,    train_loss: 0.8280     valid_loss: 1.2385, valid_acc: 0.4943\n",
      "epoch: 300,    train_loss: 0.8171     valid_loss: 1.2319, valid_acc: 0.4971\n",
      "epoch: 310,    train_loss: 0.8083     valid_loss: 1.2236, valid_acc: 0.5000\n",
      "epoch: 320,    train_loss: 0.8005     valid_loss: 1.2210, valid_acc: 0.5115\n",
      "epoch: 330,    train_loss: 0.7944     valid_loss: 1.2226, valid_acc: 0.5115\n",
      "epoch: 340,    train_loss: 0.7893     valid_loss: 1.2253, valid_acc: 0.4971\n",
      "epoch: 350,    train_loss: 0.7849     valid_loss: 1.2245, valid_acc: 0.5057\n",
      "epoch: 360,    train_loss: 0.7805     valid_loss: 1.2254, valid_acc: 0.4971\n",
      "epoch: 370,    train_loss: 0.7770     valid_loss: 1.2279, valid_acc: 0.5057\n",
      "epoch: 380,    train_loss: 0.7733     valid_loss: 1.2295, valid_acc: 0.5029\n",
      "epoch: 390,    train_loss: 0.7700     valid_loss: 1.2305, valid_acc: 0.4885\n",
      "epoch: 400,    train_loss: 0.7676     valid_loss: 1.2320, valid_acc: 0.4856\n",
      "epoch: 410,    train_loss: 0.7651     valid_loss: 1.2300, valid_acc: 0.4856\n",
      "epoch: 420,    train_loss: 0.7634     valid_loss: 1.2265, valid_acc: 0.4828\n",
      "epoch: 430,    train_loss: 0.7619     valid_loss: 1.2228, valid_acc: 0.4885\n",
      "epoch: 440,    train_loss: 0.7606     valid_loss: 1.2201, valid_acc: 0.4885\n",
      "epoch: 450,    train_loss: 0.7595     valid_loss: 1.2182, valid_acc: 0.4856\n",
      "epoch: 460,    train_loss: 0.7585     valid_loss: 1.2156, valid_acc: 0.4914\n",
      "epoch: 470,    train_loss: 0.7569     valid_loss: 1.2137, valid_acc: 0.4828\n",
      "epoch: 480,    train_loss: 0.7557     valid_loss: 1.2119, valid_acc: 0.4914\n",
      "epoch: 490,    train_loss: 0.7549     valid_loss: 1.2122, valid_acc: 0.4856\n"
     ]
    },
    {
     "data": {
      "text/plain": [
       "<matplotlib.legend.Legend at 0x29a871d90>"
      ]
     },
     "execution_count": 29,
     "metadata": {},
     "output_type": "execute_result"
    },
    {
     "data": {
      "image/png": "[encoded data removed]",
      "text/plain": [
       "<Figure size 640x480 with 1 Axes>"
      ]
     },
     "metadata": {},
     "output_type": "display_data"
    }
   ],
   "source": [
    "import matplotlib.pyplot as plt\n",
    "import torch.nn.functional as F\n",
    "#loss_fn = nn.CrossEntropyLoss()\n",
    "\n",
    "loss_func = F.cross_entropy\n",
    "optimizer = torch.optim.Adam(model2_1.parameters(), lr=lr)\n",
    "\n",
    "train_losses = []\n",
    "valid_losses = []\n",
    "\n",
    "for epoch in range(num_epochs):\n",
    "\n",
    "  if epoch % 10 == 0:\n",
    "    acc_train, loss_train = train_GRU_BI(train_dl)\n",
    "    acc_valid, loss_valid = evaluate_GRU_BI(valid_dl)\n",
    "    train_losses.append(loss_train)\n",
    "    valid_losses.append(loss_valid)\n",
    "    print(f\"epoch: {epoch},    train_loss: {loss_train:.4f} \\\n",
    "    valid_loss: {loss_valid:.4f}, valid_acc: {acc_valid:.4f}\")\n",
    "\n",
    "plt.plot(range(len(train_losses)), train_losses, 'r', label='train')\n",
    "plt.plot(range(len(train_losses)), valid_losses, 'b', label = 'valid')\n",
    "plt.legend()"
   ]
  },
  {
   "cell_type": "code",
   "execution_count": 30,
   "metadata": {
    "colab": {
     "base_uri": "https://localhost:8080/"
    },
    "id": "x5lrKcDWGm11",
    "outputId": "575afa27-2132-4545-c895-866cf6e3b605"
   },
   "outputs": [
    {
     "name": "stdout",
     "output_type": "stream",
     "text": [
      "test_accuracy: 0.5328\n"
     ]
    }
   ],
   "source": [
    "acc_test, _ = evaluate_GRU_BI(test_dl)\n",
    "print(f'test_accuracy: {acc_test:.4f}') "
   ]
  },
  {
   "cell_type": "markdown",
   "metadata": {
    "id": "WValkgaGIASx"
   },
   "source": [
    "Modelo 3:Red Neuronal Recurrente con memoria a largo plazo LSTM"
   ]
  },
  {
   "cell_type": "code",
   "execution_count": 31,
   "metadata": {
    "id": "NKN3ofkrISgj"
   },
   "outputs": [],
   "source": [
    "class RNN_LSTM(nn.Module):\n",
    "    def __init__(self, vocab_size, embed_dim, rnn_hidden_size, fc_hidden_size):\n",
    "        super().__init__()\n",
    "        self.embedding = nn.Embedding(vocab_size, \n",
    "                                      embed_dim, \n",
    "                                      padding_idx=0) \n",
    "        self.rnn = nn.LSTM(embed_dim, rnn_hidden_size, \n",
    "                           batch_first=True)\n",
    "        self.fc1 = nn.Linear(rnn_hidden_size, fc_hidden_size)\n",
    "        self.relu = nn.ReLU()\n",
    "        self.fc2 = nn.Linear(fc_hidden_size, num_classes)\n",
    "        self.sigmoid = nn.Sigmoid()\n",
    "\n",
    "    def forward(self, text, lengths):\n",
    "        out = self.embedding(text)\n",
    "        out = nn.utils.rnn.pack_padded_sequence(out, lengths.cpu().numpy(), enforce_sorted=False, batch_first=True)\n",
    "        out, (hidden, cell) = self.rnn(out)\n",
    "        out = hidden[-1, :, :]\n",
    "        out = self.fc1(out)\n",
    "        out = self.relu(out)\n",
    "        out = self.fc2(out)\n",
    "        out = self.sigmoid(out)\n",
    "        return out\n",
    "\n",
    "\n",
    "\n",
    "model3 = RNN_LSTM(vocab_size, embed_dim, rnn_hidden_size, fc_hidden_size) \n",
    "model3 = model3.to(device)"
   ]
  },
  {
   "cell_type": "code",
   "execution_count": 32,
   "metadata": {
    "id": "X8vdR2OHIzno"
   },
   "outputs": [],
   "source": [
    "import numpy as np\n",
    "def train_LSTM(dataloader):\n",
    "    model3.train()\n",
    "    total_acc, total_loss = 0, 0\n",
    "    losses,acc_acum,nums=0,0,0\n",
    "\n",
    "    for text_batch, label_batch, lengths in dataloader:\n",
    "        optimizer.zero_grad()\n",
    "        y_test=label_batch.long()\n",
    "        y_pred = torch.argmax(model3(text_batch, lengths), 1)\n",
    "\n",
    "        pred = model3(text_batch, lengths)\n",
    "        loss = loss_func(pred, y_test)\n",
    "        loss.backward()\n",
    "        optimizer.step()\n",
    "  \n",
    "        total_acc += (y_pred == label_batch).float().sum().item()\n",
    "        total_loss += loss.item()*label_batch.size(0)\n",
    "\n",
    "    return total_acc/len(dataloader.dataset), total_loss/len(dataloader.dataset)\n",
    "\n",
    "def evaluate_LSTM(dataloader):\n",
    "    model3.eval()\n",
    "    total_acc, total_loss = 0, 0\n",
    "    with torch.no_grad():\n",
    "        for text_batch, label_batch, lengths in dataloader:\n",
    "            #revisar funcion de perdida\n",
    "            y_pred = torch.argmax(model3(text_batch, lengths), 1)\n",
    "            y_test=label_batch.long()\n",
    "            pred = model3(text_batch, lengths)\n",
    "            loss = loss_func(pred, y_test)\n",
    "            total_acc += (y_pred == label_batch).float().sum().item()\n",
    "            total_loss += loss.item()*label_batch.size(0)\n",
    "    return total_acc/len(dataloader.dataset), total_loss/len(dataloader.dataset)"
   ]
  },
  {
   "cell_type": "code",
   "execution_count": 33,
   "metadata": {
    "colab": {
     "base_uri": "https://localhost:8080/",
     "height": 1000
    },
    "id": "ASSvYJV3I9eg",
    "outputId": "89cf1b76-2281-43a6-e4ad-acf4e4ed2a78"
   },
   "outputs": [
    {
     "name": "stdout",
     "output_type": "stream",
     "text": [
      "epoch: 0,    train_loss: 1.3864     valid_loss: 1.3872, valid_acc: 0.2759\n",
      "epoch: 10,    train_loss: 1.3842     valid_loss: 1.3867, valid_acc: 0.2759\n",
      "epoch: 20,    train_loss: 1.3823     valid_loss: 1.3862, valid_acc: 0.2816\n",
      "epoch: 30,    train_loss: 1.3803     valid_loss: 1.3858, valid_acc: 0.2787\n",
      "epoch: 40,    train_loss: 1.3783     valid_loss: 1.3852, valid_acc: 0.2759\n",
      "epoch: 50,    train_loss: 1.3761     valid_loss: 1.3846, valid_acc: 0.2759\n",
      "epoch: 60,    train_loss: 1.3735     valid_loss: 1.3839, valid_acc: 0.2816\n",
      "epoch: 70,    train_loss: 1.3704     valid_loss: 1.3830, valid_acc: 0.2816\n",
      "epoch: 80,    train_loss: 1.3668     valid_loss: 1.3820, valid_acc: 0.2845\n",
      "epoch: 90,    train_loss: 1.3624     valid_loss: 1.3808, valid_acc: 0.2874\n",
      "epoch: 100,    train_loss: 1.3571     valid_loss: 1.3793, valid_acc: 0.2845\n",
      "epoch: 110,    train_loss: 1.3506     valid_loss: 1.3773, valid_acc: 0.2845\n",
      "epoch: 120,    train_loss: 1.3421     valid_loss: 1.3747, valid_acc: 0.2960\n",
      "epoch: 130,    train_loss: 1.3319     valid_loss: 1.3714, valid_acc: 0.3075\n",
      "epoch: 140,    train_loss: 1.3186     valid_loss: 1.3672, valid_acc: 0.3132\n",
      "epoch: 150,    train_loss: 1.3030     valid_loss: 1.3624, valid_acc: 0.3218\n",
      "epoch: 160,    train_loss: 1.2863     valid_loss: 1.3574, valid_acc: 0.3391\n",
      "epoch: 170,    train_loss: 1.2674     valid_loss: 1.3515, valid_acc: 0.3678\n",
      "epoch: 180,    train_loss: 1.2447     valid_loss: 1.3454, valid_acc: 0.4109\n",
      "epoch: 190,    train_loss: 1.2203     valid_loss: 1.3386, valid_acc: 0.4080\n",
      "epoch: 200,    train_loss: 1.1934     valid_loss: 1.3303, valid_acc: 0.3966\n",
      "epoch: 210,    train_loss: 1.1613     valid_loss: 1.3202, valid_acc: 0.4080\n",
      "epoch: 220,    train_loss: 1.1285     valid_loss: 1.3093, valid_acc: 0.4224\n",
      "epoch: 230,    train_loss: 1.0945     valid_loss: 1.3016, valid_acc: 0.4339\n",
      "epoch: 240,    train_loss: 1.0618     valid_loss: 1.2948, valid_acc: 0.4368\n",
      "epoch: 250,    train_loss: 1.0316     valid_loss: 1.2849, valid_acc: 0.4368\n",
      "epoch: 260,    train_loss: 1.0017     valid_loss: 1.2764, valid_acc: 0.4454\n",
      "epoch: 270,    train_loss: 0.9744     valid_loss: 1.2699, valid_acc: 0.4454\n",
      "epoch: 280,    train_loss: 0.9483     valid_loss: 1.2624, valid_acc: 0.4540\n",
      "epoch: 290,    train_loss: 0.9293     valid_loss: 1.2585, valid_acc: 0.4626\n",
      "epoch: 300,    train_loss: 0.9047     valid_loss: 1.2602, valid_acc: 0.4483\n",
      "epoch: 310,    train_loss: 0.8918     valid_loss: 1.2601, valid_acc: 0.4454\n",
      "epoch: 320,    train_loss: 0.8746     valid_loss: 1.2568, valid_acc: 0.4454\n",
      "epoch: 330,    train_loss: 0.8574     valid_loss: 1.2547, valid_acc: 0.4483\n",
      "epoch: 340,    train_loss: 0.8452     valid_loss: 1.2552, valid_acc: 0.4483\n",
      "epoch: 350,    train_loss: 0.8330     valid_loss: 1.2565, valid_acc: 0.4511\n",
      "epoch: 360,    train_loss: 0.8216     valid_loss: 1.2587, valid_acc: 0.4540\n",
      "epoch: 370,    train_loss: 0.8130     valid_loss: 1.2611, valid_acc: 0.4540\n",
      "epoch: 380,    train_loss: 0.8057     valid_loss: 1.2621, valid_acc: 0.4483\n",
      "epoch: 390,    train_loss: 0.7982     valid_loss: 1.2618, valid_acc: 0.4339\n",
      "epoch: 400,    train_loss: 0.7924     valid_loss: 1.2618, valid_acc: 0.4397\n",
      "epoch: 410,    train_loss: 0.7887     valid_loss: 1.2618, valid_acc: 0.4454\n",
      "epoch: 420,    train_loss: 0.7840     valid_loss: 1.2622, valid_acc: 0.4425\n",
      "epoch: 430,    train_loss: 0.7803     valid_loss: 1.2619, valid_acc: 0.4425\n",
      "epoch: 440,    train_loss: 0.7777     valid_loss: 1.2613, valid_acc: 0.4425\n",
      "epoch: 450,    train_loss: 0.7757     valid_loss: 1.2607, valid_acc: 0.4483\n",
      "epoch: 460,    train_loss: 0.7736     valid_loss: 1.2606, valid_acc: 0.4511\n",
      "epoch: 470,    train_loss: 0.7719     valid_loss: 1.2610, valid_acc: 0.4511\n",
      "epoch: 480,    train_loss: 0.7702     valid_loss: 1.2611, valid_acc: 0.4511\n",
      "epoch: 490,    train_loss: 0.7684     valid_loss: 1.2608, valid_acc: 0.4483\n"
     ]
    },
    {
     "data": {
      "text/plain": [
       "<matplotlib.legend.Legend at 0x29a85c670>"
      ]
     },
     "execution_count": 33,
     "metadata": {},
     "output_type": "execute_result"
    },
    {
     "data": {
      "image/png": "[encoded data removed]",
      "text/plain": [
       "<Figure size 640x480 with 1 Axes>"
      ]
     },
     "metadata": {},
     "output_type": "display_data"
    }
   ],
   "source": [
    "import matplotlib.pyplot as plt\n",
    "import torch.nn.functional as F\n",
    "#loss_fn = nn.CrossEntropyLoss()\n",
    "\n",
    "loss_func = F.cross_entropy\n",
    "optimizer = torch.optim.Adam(model3.parameters(), lr=lr)\n",
    "\n",
    "train_losses = []\n",
    "valid_losses = []\n",
    "\n",
    "for epoch in range(num_epochs):\n",
    "\n",
    "  if epoch % 10 == 0:\n",
    "    acc_train, loss_train = train_LSTM(train_dl)\n",
    "    acc_valid, loss_valid = evaluate_LSTM(valid_dl)\n",
    "    train_losses.append(loss_train)\n",
    "    valid_losses.append(loss_valid)\n",
    "    print(f\"epoch: {epoch},    train_loss: {loss_train:.4f} \\\n",
    "    valid_loss: {loss_valid:.4f}, valid_acc: {acc_valid:.4f}\")\n",
    "\n",
    "plt.plot(range(len(train_losses)), train_losses, 'r', label='train')\n",
    "plt.plot(range(len(train_losses)), valid_losses, 'b', label = 'valid')\n",
    "plt.legend()"
   ]
  },
  {
   "cell_type": "code",
   "execution_count": 34,
   "metadata": {
    "colab": {
     "base_uri": "https://localhost:8080/"
    },
    "id": "ORxSVkiaLBRJ",
    "outputId": "1573c991-0ffd-4d53-f10f-6274e9e87d32"
   },
   "outputs": [
    {
     "name": "stdout",
     "output_type": "stream",
     "text": [
      "test_accuracy: 0.4590\n"
     ]
    }
   ],
   "source": [
    "acc_test, _ = evaluate_LSTM(test_dl)\n",
    "print(f'test_accuracy: {acc_test:.4f}') "
   ]
  },
  {
   "cell_type": "markdown",
   "metadata": {
    "id": "1lWJYOTwHP7b"
   },
   "source": [
    "Modelo 3.1: Red Neuronal Recurrente LSTM Bidireccional"
   ]
  },
  {
   "cell_type": "code",
   "execution_count": 35,
   "metadata": {
    "id": "8gd--FYTHYjF"
   },
   "outputs": [],
   "source": [
    "class RNN_LSTM_BI(nn.Module):\n",
    "    def __init__(self, vocab_size, embed_dim, rnn_hidden_size, fc_hidden_size):\n",
    "        super().__init__()\n",
    "        self.embedding = nn.Embedding(vocab_size, \n",
    "                                      embed_dim, \n",
    "                                      padding_idx=0) \n",
    "        self.rnn = nn.LSTM(embed_dim, rnn_hidden_size, \n",
    "                           batch_first=True, bidirectional=True)\n",
    "        self.fc1 = nn.Linear(rnn_hidden_size*2, fc_hidden_size)\n",
    "        self.relu = nn.ReLU()\n",
    "        self.fc2 = nn.Linear(fc_hidden_size, num_classes)\n",
    "        self.sigmoid = nn.Sigmoid()\n",
    "\n",
    "    def forward(self, text, lengths):\n",
    "        out = self.embedding(text)\n",
    "        out = nn.utils.rnn.pack_padded_sequence(out, lengths.cpu().numpy(), enforce_sorted=False, batch_first=True)\n",
    "        _, (hidden, cell) = self.rnn(out)\n",
    "        out = torch.cat((hidden[-2, :, :], hidden[-1, :, :]), dim=1)\n",
    "        out = self.fc1(out)\n",
    "        out = self.relu(out)\n",
    "        out = self.fc2(out)\n",
    "        out = self.sigmoid(out)\n",
    "        return out\n",
    "    \n",
    "\n",
    "model3_1 = RNN_LSTM_BI(vocab_size, embed_dim, rnn_hidden_size, fc_hidden_size) \n",
    "model3_1 = model3_1.to(device)"
   ]
  },
  {
   "cell_type": "code",
   "execution_count": 36,
   "metadata": {
    "id": "ZAKecJ9CHl19"
   },
   "outputs": [],
   "source": [
    "import numpy as np\n",
    "def train_LSTM_BI(dataloader):\n",
    "    model3_1.train()\n",
    "    total_acc, total_loss = 0, 0\n",
    "    losses,acc_acum,nums=0,0,0\n",
    "\n",
    "    for text_batch, label_batch, lengths in dataloader:\n",
    "        optimizer.zero_grad()\n",
    "        y_test=label_batch.long()\n",
    "        y_pred = torch.argmax(model3_1(text_batch, lengths), 1)\n",
    "\n",
    "        pred = model3_1(text_batch, lengths)\n",
    "        loss = loss_func(pred, y_test)\n",
    "        loss.backward()\n",
    "        optimizer.step()\n",
    "  \n",
    "        total_acc += (y_pred == label_batch).float().sum().item()\n",
    "        total_loss += loss.item()*label_batch.size(0)\n",
    "\n",
    "    return total_acc/len(dataloader.dataset), total_loss/len(dataloader.dataset)\n",
    "\n",
    "def evaluate_LSTM_BI(dataloader):\n",
    "    model3_1.eval()\n",
    "    total_acc, total_loss = 0, 0\n",
    "    with torch.no_grad():\n",
    "        for text_batch, label_batch, lengths in dataloader:\n",
    "            #revisar funcion de perdida\n",
    "            y_pred = torch.argmax(model3_1(text_batch, lengths), 1)\n",
    "            y_test=label_batch.long()\n",
    "            pred = model3_1(text_batch, lengths)\n",
    "            loss = loss_func(pred, y_test)\n",
    "            total_acc += (y_pred == label_batch).float().sum().item()\n",
    "            total_loss += loss.item()*label_batch.size(0)\n",
    "    return total_acc/len(dataloader.dataset), total_loss/len(dataloader.dataset)"
   ]
  },
  {
   "cell_type": "code",
   "execution_count": 37,
   "metadata": {
    "colab": {
     "base_uri": "https://localhost:8080/",
     "height": 1000
    },
    "id": "RjSNt616Hwo-",
    "outputId": "d66ad7b6-f79f-451c-9fad-d04af5d1bcb1"
   },
   "outputs": [
    {
     "name": "stdout",
     "output_type": "stream",
     "text": [
      "epoch: 0,    train_loss: 1.3882     valid_loss: 1.3865, valid_acc: 0.2730\n",
      "epoch: 10,    train_loss: 1.3851     valid_loss: 1.3858, valid_acc: 0.2701\n",
      "epoch: 20,    train_loss: 1.3823     valid_loss: 1.3851, valid_acc: 0.2759\n",
      "epoch: 30,    train_loss: 1.3797     valid_loss: 1.3843, valid_acc: 0.2615\n",
      "epoch: 40,    train_loss: 1.3767     valid_loss: 1.3835, valid_acc: 0.2759\n",
      "epoch: 50,    train_loss: 1.3734     valid_loss: 1.3825, valid_acc: 0.2759\n",
      "epoch: 60,    train_loss: 1.3694     valid_loss: 1.3812, valid_acc: 0.2759\n",
      "epoch: 70,    train_loss: 1.3643     valid_loss: 1.3796, valid_acc: 0.2787\n",
      "epoch: 80,    train_loss: 1.3583     valid_loss: 1.3775, valid_acc: 0.2787\n",
      "epoch: 90,    train_loss: 1.3507     valid_loss: 1.3748, valid_acc: 0.2845\n",
      "epoch: 100,    train_loss: 1.3408     valid_loss: 1.3715, valid_acc: 0.2874\n",
      "epoch: 110,    train_loss: 1.3288     valid_loss: 1.3675, valid_acc: 0.3017\n",
      "epoch: 120,    train_loss: 1.3132     valid_loss: 1.3628, valid_acc: 0.3075\n",
      "epoch: 130,    train_loss: 1.2942     valid_loss: 1.3575, valid_acc: 0.3420\n",
      "epoch: 140,    train_loss: 1.2713     valid_loss: 1.3514, valid_acc: 0.3506\n",
      "epoch: 150,    train_loss: 1.2448     valid_loss: 1.3447, valid_acc: 0.3448\n",
      "epoch: 160,    train_loss: 1.2145     valid_loss: 1.3383, valid_acc: 0.3736\n",
      "epoch: 170,    train_loss: 1.1800     valid_loss: 1.3334, valid_acc: 0.3851\n",
      "epoch: 180,    train_loss: 1.1422     valid_loss: 1.3287, valid_acc: 0.3908\n",
      "epoch: 190,    train_loss: 1.1033     valid_loss: 1.3187, valid_acc: 0.3994\n",
      "epoch: 200,    train_loss: 1.0620     valid_loss: 1.3082, valid_acc: 0.4109\n",
      "epoch: 210,    train_loss: 1.0281     valid_loss: 1.3188, valid_acc: 0.4052\n",
      "epoch: 220,    train_loss: 0.9925     valid_loss: 1.3191, valid_acc: 0.4023\n",
      "epoch: 230,    train_loss: 0.9630     valid_loss: 1.3131, valid_acc: 0.4138\n",
      "epoch: 240,    train_loss: 0.9316     valid_loss: 1.3158, valid_acc: 0.4080\n",
      "epoch: 250,    train_loss: 0.9090     valid_loss: 1.3102, valid_acc: 0.4195\n",
      "epoch: 260,    train_loss: 0.8847     valid_loss: 1.3022, valid_acc: 0.4195\n",
      "epoch: 270,    train_loss: 0.8652     valid_loss: 1.3032, valid_acc: 0.4253\n",
      "epoch: 280,    train_loss: 0.8462     valid_loss: 1.3088, valid_acc: 0.4282\n",
      "epoch: 290,    train_loss: 0.8307     valid_loss: 1.3052, valid_acc: 0.4282\n",
      "epoch: 300,    train_loss: 0.8178     valid_loss: 1.2976, valid_acc: 0.4425\n",
      "epoch: 310,    train_loss: 0.8068     valid_loss: 1.2916, valid_acc: 0.4511\n",
      "epoch: 320,    train_loss: 0.7982     valid_loss: 1.2910, valid_acc: 0.4540\n",
      "epoch: 330,    train_loss: 0.7904     valid_loss: 1.2918, valid_acc: 0.4454\n",
      "epoch: 340,    train_loss: 0.7845     valid_loss: 1.2895, valid_acc: 0.4454\n",
      "epoch: 350,    train_loss: 0.7787     valid_loss: 1.2855, valid_acc: 0.4483\n",
      "epoch: 360,    train_loss: 0.7745     valid_loss: 1.2842, valid_acc: 0.4511\n",
      "epoch: 370,    train_loss: 0.7713     valid_loss: 1.2837, valid_acc: 0.4540\n",
      "epoch: 380,    train_loss: 0.7680     valid_loss: 1.2833, valid_acc: 0.4540\n",
      "epoch: 390,    train_loss: 0.7658     valid_loss: 1.2837, valid_acc: 0.4511\n",
      "epoch: 400,    train_loss: 0.7638     valid_loss: 1.2825, valid_acc: 0.4540\n",
      "epoch: 410,    train_loss: 0.7618     valid_loss: 1.2819, valid_acc: 0.4569\n",
      "epoch: 420,    train_loss: 0.7606     valid_loss: 1.2815, valid_acc: 0.4626\n",
      "epoch: 430,    train_loss: 0.7595     valid_loss: 1.2813, valid_acc: 0.4598\n",
      "epoch: 440,    train_loss: 0.7583     valid_loss: 1.2813, valid_acc: 0.4540\n",
      "epoch: 450,    train_loss: 0.7574     valid_loss: 1.2811, valid_acc: 0.4511\n",
      "epoch: 460,    train_loss: 0.7565     valid_loss: 1.2808, valid_acc: 0.4511\n",
      "epoch: 470,    train_loss: 0.7559     valid_loss: 1.2809, valid_acc: 0.4511\n",
      "epoch: 480,    train_loss: 0.7552     valid_loss: 1.2810, valid_acc: 0.4511\n",
      "epoch: 490,    train_loss: 0.7546     valid_loss: 1.2816, valid_acc: 0.4540\n"
     ]
    },
    {
     "data": {
      "text/plain": [
       "<matplotlib.legend.Legend at 0x29a8eedc0>"
      ]
     },
     "execution_count": 37,
     "metadata": {},
     "output_type": "execute_result"
    },
    {
     "data": {
      "image/png": "[encoded data removed]",
      "text/plain": [
       "<Figure size 640x480 with 1 Axes>"
      ]
     },
     "metadata": {},
     "output_type": "display_data"
    }
   ],
   "source": [
    "import matplotlib.pyplot as plt\n",
    "import torch.nn.functional as F\n",
    "#loss_fn = nn.CrossEntropyLoss()\n",
    "\n",
    "loss_func = F.cross_entropy\n",
    "optimizer = torch.optim.Adam(model3_1.parameters(), lr=lr)\n",
    "\n",
    "train_losses = []\n",
    "valid_losses = []\n",
    "\n",
    "for epoch in range(num_epochs):\n",
    "\n",
    "  if epoch % 10 == 0:\n",
    "    acc_train, loss_train = train_LSTM_BI(train_dl)\n",
    "    acc_valid, loss_valid = evaluate_LSTM_BI(valid_dl)\n",
    "    train_losses.append(loss_train)\n",
    "    valid_losses.append(loss_valid)\n",
    "    print(f\"epoch: {epoch},    train_loss: {loss_train:.4f} \\\n",
    "    valid_loss: {loss_valid:.4f}, valid_acc: {acc_valid:.4f}\")\n",
    "\n",
    "plt.plot(range(len(train_losses)), train_losses, 'r', label='train')\n",
    "plt.plot(range(len(train_losses)), valid_losses, 'b', label = 'valid')\n",
    "plt.legend()"
   ]
  },
  {
   "cell_type": "code",
   "execution_count": 38,
   "metadata": {
    "colab": {
     "base_uri": "https://localhost:8080/"
    },
    "id": "DE8AkFPwIKGK",
    "outputId": "02dd7a0b-695f-4717-a891-aa09070d8332"
   },
   "outputs": [
    {
     "name": "stdout",
     "output_type": "stream",
     "text": [
      "test_accuracy: 0.4467\n"
     ]
    }
   ],
   "source": [
    "acc_test, _ = evaluate_LSTM_BI(test_dl)\n",
    "print(f'test_accuracy: {acc_test:.4f}') "
   ]
  },
  {
   "cell_type": "code",
   "execution_count": null,
   "metadata": {},
   "outputs": [],
   "source": []
  },
  {
   "cell_type": "code",
   "execution_count": 39,
   "metadata": {},
   "outputs": [
    {
     "name": "stdout",
     "output_type": "stream",
     "text": [
      "FINALIZA Y CORRE EXITOSO\n"
     ]
    }
   ],
   "source": [
    "print ('FINALIZA Y CORRE EXITOSO')"
   ]
  },
  {
   "cell_type": "code",
   "execution_count": null,
   "metadata": {},
   "outputs": [],
   "source": []
  },
  {
   "cell_type": "code",
   "execution_count": null,
   "metadata": {},
   "outputs": [],
   "source": []
  },
  {
   "cell_type": "code",
   "execution_count": null,
   "metadata": {},
   "outputs": [],
   "source": []
  },
  {
   "cell_type": "code",
   "execution_count": null,
   "metadata": {},
   "outputs": [],
   "source": []
  },
  {
   "cell_type": "markdown",
   "metadata": {},
   "source": [
    "## Ejercicio 2.\n",
    "Ahora proceda a actualizar el ejercicio 5 del taller 3, pero usando RNNs. Es decir, debe solucionar un problema de Name Entity Recognition (NER), con un dataset pequeño creado por ustedes (con varias entidades), pero usando redes recurrentes (RNN básica, LSTM, GRU). Use GRU o LSTM.\n",
    "\n",
    "Este ejercicio es en realidad más simple que el del anterior taller, ya que no hay necesidad de organizar las sentencias centradas en cada palabra, sino que se toma directamente cada frase (o secuencia). \n",
    "\n",
    "Lo importante ahora, es utilizar todos los estados de salida de la red recurrente y llevarlos a una capa lineal de clasificación. \n",
    "\n",
    "[Este tutorial](https://pytorch.org/tutorials/beginner/nlp/sequence_models_tutorial.html) le puede ser muy útil para desarrollar este punto. "
   ]
  },
  {
   "cell_type": "markdown",
   "metadata": {},
   "source": [
    "### Nota: puede usar las herramientas de pytorch para crear el vocabulario, y las herramientas de relleno (pad)"
   ]
  },
  {
   "cell_type": "code",
   "execution_count": null,
   "metadata": {},
   "outputs": [],
   "source": []
  },
  {
   "cell_type": "code",
   "execution_count": null,
   "metadata": {},
   "outputs": [],
   "source": []
  },
  {
   "cell_type": "code",
   "execution_count": null,
   "metadata": {},
   "outputs": [],
   "source": []
  },
  {
   "cell_type": "markdown",
   "metadata": {
    "id": "RczxL4GUSojh"
   },
   "source": [
    "**Paso 1: Preparacion de los datos**"
   ]
  },
  {
   "cell_type": "code",
   "execution_count": 40,
   "metadata": {
    "id": "SK3B6UJ0Seyp"
   },
   "outputs": [],
   "source": [
    "# Nuestros datos sin procesar, que consisten en oraciones\n",
    "corpus = [\n",
    "          \"La gratitud es la memoria del corazón\",\n",
    "          \"Tu sueño nunca se desvanecerá si no le dejas marchar\",\n",
    "          \"Reciclar es muy importante en el mundo\",\n",
    "          \"Tu vivencia más difícil es tu mejor maestra\",\n",
    "          \"La esperanza es lo último que se pierde\",\n",
    "          \"Tu libertad termina donde empieza la de los demás\",\n",
    "          \"Sin sacrificio no hay victoria\"\n",
    "         ]"
   ]
  },
  {
   "cell_type": "code",
   "execution_count": 41,
   "metadata": {
    "id": "G4FAiL5oaqJh"
   },
   "outputs": [],
   "source": [
    "import re\n",
    "from unicodedata import normalize\n",
    "def quitartildes(s):\n",
    "    # -> NFD y eliminar diacríticos\n",
    "    s = re.sub(\n",
    "            r\"([^n\\u0300-\\u036f]|n(?!\\u0303(?![\\u0300-\\u036f])))[\\u0300-\\u036f]+\", r\"\\1\", \n",
    "            normalize( \"NFD\", s), 0, re.I\n",
    "        )\n",
    "\n",
    "    # -> NFCNosotros\n",
    "    return normalize( 'NFC', s)\n",
    "\n",
    "\n",
    "# La función de preprocesamiento que usaremos para generar nuestros ejemplos de entrenamiento\n",
    "# Nuestra función es simple, ponemos las letras en minúsculas, quitamos tildes\n",
    "# y luego tokenizamos las palabras.\n",
    "def preprocess_sentence(sentence):\n",
    "  return quitartildes(sentence).lower().split()\n"
   ]
  },
  {
   "cell_type": "code",
   "execution_count": 42,
   "metadata": {},
   "outputs": [],
   "source": [
    "#importar libreria de spacy y el corpus de español\n",
    "import spacy"
   ]
  },
  {
   "cell_type": "code",
   "execution_count": 43,
   "metadata": {
    "colab": {
     "base_uri": "https://localhost:8080/"
    },
    "id": "LeUIVD1hXRbd",
    "outputId": "61129fd4-c625-4b08-966c-7a775c4176fc"
   },
   "outputs": [
    {
     "name": "stdout",
     "output_type": "stream",
     "text": [
      "\u001b[38;5;3m⚠ As of spaCy v3.0, shortcuts like 'es' are deprecated. Please use the\n",
      "full pipeline package name 'es_core_news_sm' instead.\u001b[0m\n",
      "Collecting es-core-news-sm==3.4.0\n",
      "  Downloading https://github.com/explosion/spacy-models/releases/download/es_core_news_sm-3.4.0/es_core_news_sm-3.4.0-py3-none-any.whl (12.9 MB)\n",
      "     ━━━━━━━━━━━━━━━━━━━━━━━━━━━━━━━━━━━━━━━━ 12.9/12.9 MB 13.6 MB/s eta 0:00:00\n",
      "Requirement already satisfied: spacy<3.5.0,>=3.4.0 in /Users/jessuarez/.pyenv/versions/3.8.14/envs/nlp-env/lib/python3.8/site-packages (from es-core-news-sm==3.4.0) (3.4.2)\n",
      "Requirement already satisfied: spacy-legacy<3.1.0,>=3.0.10 in /Users/jessuarez/.pyenv/versions/3.8.14/envs/nlp-env/lib/python3.8/site-packages (from spacy<3.5.0,>=3.4.0->es-core-news-sm==3.4.0) (3.0.10)\n",
      "Requirement already satisfied: wasabi<1.1.0,>=0.9.1 in /Users/jessuarez/.pyenv/versions/3.8.14/envs/nlp-env/lib/python3.8/site-packages (from spacy<3.5.0,>=3.4.0->es-core-news-sm==3.4.0) (0.10.1)\n",
      "Requirement already satisfied: requests<3.0.0,>=2.13.0 in /Users/jessuarez/.pyenv/versions/3.8.14/envs/nlp-env/lib/python3.8/site-packages (from spacy<3.5.0,>=3.4.0->es-core-news-sm==3.4.0) (2.28.1)\n",
      "Requirement already satisfied: srsly<3.0.0,>=2.4.3 in /Users/jessuarez/.pyenv/versions/3.8.14/envs/nlp-env/lib/python3.8/site-packages (from spacy<3.5.0,>=3.4.0->es-core-news-sm==3.4.0) (2.4.5)\n",
      "Requirement already satisfied: spacy-loggers<2.0.0,>=1.0.0 in /Users/jessuarez/.pyenv/versions/3.8.14/envs/nlp-env/lib/python3.8/site-packages (from spacy<3.5.0,>=3.4.0->es-core-news-sm==3.4.0) (1.0.3)\n",
      "Requirement already satisfied: tqdm<5.0.0,>=4.38.0 in /Users/jessuarez/.pyenv/versions/3.8.14/envs/nlp-env/lib/python3.8/site-packages (from spacy<3.5.0,>=3.4.0->es-core-news-sm==3.4.0) (4.64.1)\n",
      "Requirement already satisfied: thinc<8.2.0,>=8.1.0 in /Users/jessuarez/.pyenv/versions/3.8.14/envs/nlp-env/lib/python3.8/site-packages (from spacy<3.5.0,>=3.4.0->es-core-news-sm==3.4.0) (8.1.5)\n",
      "Requirement already satisfied: cymem<2.1.0,>=2.0.2 in /Users/jessuarez/.pyenv/versions/3.8.14/envs/nlp-env/lib/python3.8/site-packages (from spacy<3.5.0,>=3.4.0->es-core-news-sm==3.4.0) (2.0.7)\n",
      "Requirement already satisfied: murmurhash<1.1.0,>=0.28.0 in /Users/jessuarez/.pyenv/versions/3.8.14/envs/nlp-env/lib/python3.8/site-packages (from spacy<3.5.0,>=3.4.0->es-core-news-sm==3.4.0) (1.0.9)\n",
      "Requirement already satisfied: preshed<3.1.0,>=3.0.2 in /Users/jessuarez/.pyenv/versions/3.8.14/envs/nlp-env/lib/python3.8/site-packages (from spacy<3.5.0,>=3.4.0->es-core-news-sm==3.4.0) (3.0.8)\n",
      "Requirement already satisfied: setuptools in /Users/jessuarez/.pyenv/versions/3.8.14/envs/nlp-env/lib/python3.8/site-packages (from spacy<3.5.0,>=3.4.0->es-core-news-sm==3.4.0) (56.0.0)\n",
      "Requirement already satisfied: catalogue<2.1.0,>=2.0.6 in /Users/jessuarez/.pyenv/versions/3.8.14/envs/nlp-env/lib/python3.8/site-packages (from spacy<3.5.0,>=3.4.0->es-core-news-sm==3.4.0) (2.0.8)\n",
      "Requirement already satisfied: pathy>=0.3.5 in /Users/jessuarez/.pyenv/versions/3.8.14/envs/nlp-env/lib/python3.8/site-packages (from spacy<3.5.0,>=3.4.0->es-core-news-sm==3.4.0) (0.6.2)\n",
      "Requirement already satisfied: jinja2 in /Users/jessuarez/.pyenv/versions/3.8.14/envs/nlp-env/lib/python3.8/site-packages (from spacy<3.5.0,>=3.4.0->es-core-news-sm==3.4.0) (3.1.2)\n",
      "Requirement already satisfied: packaging>=20.0 in /Users/jessuarez/.pyenv/versions/3.8.14/envs/nlp-env/lib/python3.8/site-packages (from spacy<3.5.0,>=3.4.0->es-core-news-sm==3.4.0) (21.3)\n",
      "Requirement already satisfied: typer<0.5.0,>=0.3.0 in /Users/jessuarez/.pyenv/versions/3.8.14/envs/nlp-env/lib/python3.8/site-packages (from spacy<3.5.0,>=3.4.0->es-core-news-sm==3.4.0) (0.4.2)\n",
      "Requirement already satisfied: numpy>=1.15.0 in /Users/jessuarez/.pyenv/versions/3.8.14/envs/nlp-env/lib/python3.8/site-packages (from spacy<3.5.0,>=3.4.0->es-core-news-sm==3.4.0) (1.23.4)\n",
      "Requirement already satisfied: langcodes<4.0.0,>=3.2.0 in /Users/jessuarez/.pyenv/versions/3.8.14/envs/nlp-env/lib/python3.8/site-packages (from spacy<3.5.0,>=3.4.0->es-core-news-sm==3.4.0) (3.3.0)\n",
      "Requirement already satisfied: pydantic!=1.8,!=1.8.1,<1.11.0,>=1.7.4 in /Users/jessuarez/.pyenv/versions/3.8.14/envs/nlp-env/lib/python3.8/site-packages (from spacy<3.5.0,>=3.4.0->es-core-news-sm==3.4.0) (1.10.2)\n",
      "Requirement already satisfied: pyparsing!=3.0.5,>=2.0.2 in /Users/jessuarez/.pyenv/versions/3.8.14/envs/nlp-env/lib/python3.8/site-packages (from packaging>=20.0->spacy<3.5.0,>=3.4.0->es-core-news-sm==3.4.0) (3.0.9)\n",
      "Requirement already satisfied: smart-open<6.0.0,>=5.2.1 in /Users/jessuarez/.pyenv/versions/3.8.14/envs/nlp-env/lib/python3.8/site-packages (from pathy>=0.3.5->spacy<3.5.0,>=3.4.0->es-core-news-sm==3.4.0) (5.2.1)\n",
      "Requirement already satisfied: typing-extensions>=4.1.0 in /Users/jessuarez/.pyenv/versions/3.8.14/envs/nlp-env/lib/python3.8/site-packages (from pydantic!=1.8,!=1.8.1,<1.11.0,>=1.7.4->spacy<3.5.0,>=3.4.0->es-core-news-sm==3.4.0) (4.4.0)\n",
      "Requirement already satisfied: urllib3<1.27,>=1.21.1 in /Users/jessuarez/.pyenv/versions/3.8.14/envs/nlp-env/lib/python3.8/site-packages (from requests<3.0.0,>=2.13.0->spacy<3.5.0,>=3.4.0->es-core-news-sm==3.4.0) (1.26.12)\n",
      "Requirement already satisfied: charset-normalizer<3,>=2 in /Users/jessuarez/.pyenv/versions/3.8.14/envs/nlp-env/lib/python3.8/site-packages (from requests<3.0.0,>=2.13.0->spacy<3.5.0,>=3.4.0->es-core-news-sm==3.4.0) (2.1.1)\n",
      "Requirement already satisfied: certifi>=2017.4.17 in /Users/jessuarez/.pyenv/versions/3.8.14/envs/nlp-env/lib/python3.8/site-packages (from requests<3.0.0,>=2.13.0->spacy<3.5.0,>=3.4.0->es-core-news-sm==3.4.0) (2022.9.24)\n",
      "Requirement already satisfied: idna<4,>=2.5 in /Users/jessuarez/.pyenv/versions/3.8.14/envs/nlp-env/lib/python3.8/site-packages (from requests<3.0.0,>=2.13.0->spacy<3.5.0,>=3.4.0->es-core-news-sm==3.4.0) (3.4)\n",
      "Requirement already satisfied: confection<1.0.0,>=0.0.1 in /Users/jessuarez/.pyenv/versions/3.8.14/envs/nlp-env/lib/python3.8/site-packages (from thinc<8.2.0,>=8.1.0->spacy<3.5.0,>=3.4.0->es-core-news-sm==3.4.0) (0.0.3)\n",
      "Requirement already satisfied: blis<0.8.0,>=0.7.8 in /Users/jessuarez/.pyenv/versions/3.8.14/envs/nlp-env/lib/python3.8/site-packages (from thinc<8.2.0,>=8.1.0->spacy<3.5.0,>=3.4.0->es-core-news-sm==3.4.0) (0.7.9)\n",
      "Requirement already satisfied: click<9.0.0,>=7.1.1 in /Users/jessuarez/.pyenv/versions/3.8.14/envs/nlp-env/lib/python3.8/site-packages (from typer<0.5.0,>=0.3.0->spacy<3.5.0,>=3.4.0->es-core-news-sm==3.4.0) (8.1.3)\n",
      "Requirement already satisfied: MarkupSafe>=2.0 in /Users/jessuarez/.pyenv/versions/3.8.14/envs/nlp-env/lib/python3.8/site-packages (from jinja2->spacy<3.5.0,>=3.4.0->es-core-news-sm==3.4.0) (2.1.1)\n",
      "Installing collected packages: es-core-news-sm\n",
      "Successfully installed es-core-news-sm-3.4.0\n",
      "\u001b[38;5;2m✔ Download and installation successful\u001b[0m\n",
      "You can now load the package via spacy.load('es_core_news_sm')\n"
     ]
    },
    {
     "name": "stderr",
     "output_type": "stream",
     "text": [
      "WARNING: You are using pip version 22.0.4; however, version 22.3.1 is available.\n",
      "You should consider upgrading via the '/Users/jessuarez/.pyenv/versions/nlp-env/bin/python3.8 -m pip install --upgrade pip' command.\n"
     ]
    }
   ],
   "source": [
    "\n",
    "spacy.cli.download(\"es\")\n",
    "nlp=spacy.load(\"es_core_news_sm\")"
   ]
  },
  {
   "cell_type": "code",
   "execution_count": 44,
   "metadata": {
    "colab": {
     "base_uri": "https://localhost:8080/"
    },
    "id": "ox4Aw6RkXULd",
    "outputId": "cdf3b65d-1261-49b0-f97e-8093b0b7fe9d"
   },
   "outputs": [
    {
     "data": {
      "text/plain": [
       "[['gratitud', 'gratitud', 'NOUN', 'NOUN', '', False],\n",
       " ['es', 'ser', 'AUX', 'AUX', '', True],\n",
       " ['la', 'el', 'DET', 'DET', '', True],\n",
       " ['memoria', 'memoria', 'NOUN', 'NOUN', '', False],\n",
       " ['del', 'del', 'ADP', 'ADP', '', True],\n",
       " ['corazon', 'corazon', 'NOUN', 'NOUN', '', False],\n",
       " ['tu', 'tu', 'DET', 'DET', '', True],\n",
       " ['sueño', 'sueño', 'NOUN', 'NOUN', '', False],\n",
       " ['nunca', 'nunca', 'ADV', 'ADV', '', True],\n",
       " ['se', 'él', 'PRON', 'PRON', '', True],\n",
       " ['desvanecera', 'desvanecerar', 'VERB', 'VERB', '', False],\n",
       " ['si', 'si', 'SCONJ', 'SCONJ', '', True],\n",
       " ['no', 'no', 'ADV', 'ADV', '', True],\n",
       " ['le', 'él', 'PRON', 'PRON', '', True],\n",
       " ['dejas', 'dejar', 'VERB', 'VERB', '', False],\n",
       " ['marchar', 'marchar', 'VERB', 'VERB', '', False],\n",
       " ['reciclar', 'reciclar', 'VERB', 'VERB', '', False],\n",
       " ['es', 'ser', 'AUX', 'AUX', '', True],\n",
       " ['muy', 'mucho', 'ADV', 'ADV', '', True],\n",
       " ['importante', 'importante', 'ADJ', 'ADJ', '', False],\n",
       " ['en', 'en', 'ADP', 'ADP', '', True],\n",
       " ['el', 'el', 'DET', 'DET', '', True],\n",
       " ['mundo', 'mundo', 'NOUN', 'NOUN', '', False],\n",
       " ['tu', 'tu', 'DET', 'DET', '', True],\n",
       " ['vivencia', 'vivencia', 'NOUN', 'NOUN', '', False],\n",
       " ['mas', 'mas', 'ADV', 'ADV', '', True],\n",
       " ['dificil', 'dificil', 'ADJ', 'ADJ', '', False],\n",
       " ['es', 'ser', 'AUX', 'AUX', '', True],\n",
       " ['tu', 'tu', 'DET', 'DET', '', True],\n",
       " ['mejor', 'mejor', 'ADJ', 'ADJ', '', True],\n",
       " ['maestra', 'maestrar', 'VERB', 'VERB', '', False],\n",
       " ['la', 'el', 'DET', 'DET', '', True],\n",
       " ['esperanza', 'esperanza', 'NOUN', 'NOUN', '', False],\n",
       " ['es', 'ser', 'AUX', 'AUX', '', True],\n",
       " ['lo', 'él', 'PRON', 'PRON', '', True],\n",
       " ['ultimo', 'ultimo', 'ADJ', 'ADJ', '', True],\n",
       " ['que', 'que', 'PRON', 'PRON', '', True],\n",
       " ['se', 'él', 'PRON', 'PRON', '', True],\n",
       " ['pierde', 'perder', 'VERB', 'VERB', '', False],\n",
       " ['tu', 'tu', 'DET', 'DET', '', True],\n",
       " ['libertad', 'libertad', 'NOUN', 'NOUN', '', False],\n",
       " ['termina', 'termín', 'ADJ', 'ADJ', '', False],\n",
       " ['donde', 'donde', 'PRON', 'PRON', '', True],\n",
       " ['empieza', 'empezar', 'VERB', 'VERB', '', False],\n",
       " ['la', 'el', 'DET', 'DET', '', True],\n",
       " ['de', 'de', 'ADP', 'ADP', '', True],\n",
       " ['los', 'el', 'DET', 'DET', '', True],\n",
       " ['demas', 'dema', 'NOUN', 'NOUN', '', False],\n",
       " ['sin', 'sin', 'ADP', 'ADP', '', True],\n",
       " ['sacrificio', 'sacrificio', 'NOUN', 'NOUN', '', False],\n",
       " ['no', 'no', 'ADV', 'ADV', '', True],\n",
       " ['hay', 'haber', 'AUX', 'AUX', '', True],\n",
       " ['victoria', 'victoria', 'NOUN', 'NOUN', '', False]]"
      ]
     },
     "execution_count": 44,
     "metadata": {},
     "output_type": "execute_result"
    }
   ],
   "source": [
    "#tokenizar el corpus\n",
    "base=\" \".join(corpus).lower()\n",
    "base=base=quitartildes(base)\n",
    "doc1=nlp(base)\n",
    "\n",
    "partes=[]\n",
    "for x in range(1,len(doc1)):\n",
    "    partes.append([doc1[x].text, doc1[x].lemma_,doc1[x].pos_, doc1[x].tag_, doc1[x].ent_type_,doc1[x].is_stop])\n",
    "partes"
   ]
  },
  {
   "cell_type": "code",
   "execution_count": 45,
   "metadata": {
    "colab": {
     "base_uri": "https://localhost:8080/"
    },
    "id": "XXGtXgFu-MPy",
    "outputId": "36fccdf0-9f3a-4de1-8fdb-ebff3995d1c7"
   },
   "outputs": [
    {
     "data": {
      "text/plain": [
       "[['la', 'gratitud', 'es', 'la', 'memoria', 'del', 'corazon'],\n",
       " ['tu',\n",
       "  'sueño',\n",
       "  'nunca',\n",
       "  'se',\n",
       "  'desvanecera',\n",
       "  'si',\n",
       "  'no',\n",
       "  'le',\n",
       "  'dejas',\n",
       "  'marchar'],\n",
       " ['reciclar', 'es', 'muy', 'importante', 'en', 'el', 'mundo'],\n",
       " ['tu', 'vivencia', 'mas', 'dificil', 'es', 'tu', 'mejor', 'maestra'],\n",
       " ['la', 'esperanza', 'es', 'lo', 'ultimo', 'que', 'se', 'pierde'],\n",
       " ['tu', 'libertad', 'termina', 'donde', 'empieza', 'la', 'de', 'los', 'demas'],\n",
       " ['sin', 'sacrificio', 'no', 'hay', 'victoria']]"
      ]
     },
     "execution_count": 45,
     "metadata": {},
     "output_type": "execute_result"
    }
   ],
   "source": [
    "# Crea nuestro conjunto de entrenamiento\n",
    "train_sentences = [preprocess_sentence(sent) for sent in corpus]\n",
    "train_sentences"
   ]
  },
  {
   "cell_type": "code",
   "execution_count": 46,
   "metadata": {
    "id": "V1MDPAoOcLzW"
   },
   "outputs": [],
   "source": [
    "def buscar_POS(word):\n",
    "  pos=\"OTHER\"\n",
    "  for i in range(len(partes)):\n",
    "      if partes[i][0]==word:\n",
    "        pos=partes[i][2]\n",
    "        break\n",
    "  return pos"
   ]
  },
  {
   "cell_type": "code",
   "execution_count": 47,
   "metadata": {
    "colab": {
     "base_uri": "https://localhost:8080/"
    },
    "id": "LoT82WqLcqXj",
    "outputId": "ce7301ea-4f20-4f9b-af6b-42a3bfe993cd"
   },
   "outputs": [
    {
     "data": {
      "text/plain": [
       "[['DET', 'NOUN', 'AUX', 'DET', 'NOUN', 'ADP', 'NOUN'],\n",
       " ['DET',\n",
       "  'NOUN',\n",
       "  'ADV',\n",
       "  'PRON',\n",
       "  'VERB',\n",
       "  'SCONJ',\n",
       "  'ADV',\n",
       "  'PRON',\n",
       "  'VERB',\n",
       "  'VERB'],\n",
       " ['VERB', 'AUX', 'ADV', 'ADJ', 'ADP', 'DET', 'NOUN'],\n",
       " ['DET', 'NOUN', 'ADV', 'ADJ', 'AUX', 'DET', 'ADJ', 'VERB'],\n",
       " ['DET', 'NOUN', 'AUX', 'PRON', 'ADJ', 'PRON', 'PRON', 'VERB'],\n",
       " ['DET', 'NOUN', 'ADJ', 'PRON', 'VERB', 'DET', 'ADP', 'DET', 'NOUN'],\n",
       " ['ADP', 'NOUN', 'ADV', 'AUX', 'NOUN']]"
      ]
     },
     "execution_count": 47,
     "metadata": {},
     "output_type": "execute_result"
    }
   ],
   "source": [
    "# Nuestras etiquetas de entrenamiento\n",
    "train_labels = [[buscar_POS(word) for word in sent] for sent in train_sentences]\n",
    "train_labels"
   ]
  },
  {
   "cell_type": "code",
   "execution_count": 48,
   "metadata": {
    "id": "Mt_bMlLwcftN"
   },
   "outputs": [],
   "source": [
    "# Encuentra todas las palabras únicas en nuestro corpus\n",
    "vocabulary = set(w for s in train_sentences for w in s)\n",
    "\n",
    "# Agrega el token desconocido a nuestro vocabulario\n",
    "vocabulary.add(\"<unk>\")\n",
    "\n",
    "# Agregua el token <pad> a nuestro vocabulario\n",
    "vocabulary.add(\"<pad>\")"
   ]
  },
  {
   "cell_type": "code",
   "execution_count": 49,
   "metadata": {
    "colab": {
     "base_uri": "https://localhost:8080/"
    },
    "id": "sMH-FdtHcyhI",
    "outputId": "aa56fd89-9356-470d-c64d-129e00504731"
   },
   "outputs": [
    {
     "data": {
      "text/plain": [
       "{'<pad>': 0,\n",
       " '<unk>': 1,\n",
       " 'corazon': 2,\n",
       " 'de': 3,\n",
       " 'dejas': 4,\n",
       " 'del': 5,\n",
       " 'demas': 6,\n",
       " 'desvanecera': 7,\n",
       " 'dificil': 8,\n",
       " 'donde': 9,\n",
       " 'el': 10,\n",
       " 'empieza': 11,\n",
       " 'en': 12,\n",
       " 'es': 13,\n",
       " 'esperanza': 14,\n",
       " 'gratitud': 15,\n",
       " 'hay': 16,\n",
       " 'importante': 17,\n",
       " 'la': 18,\n",
       " 'le': 19,\n",
       " 'libertad': 20,\n",
       " 'lo': 21,\n",
       " 'los': 22,\n",
       " 'maestra': 23,\n",
       " 'marchar': 24,\n",
       " 'mas': 25,\n",
       " 'mejor': 26,\n",
       " 'memoria': 27,\n",
       " 'mundo': 28,\n",
       " 'muy': 29,\n",
       " 'no': 30,\n",
       " 'nunca': 31,\n",
       " 'pierde': 32,\n",
       " 'que': 33,\n",
       " 'reciclar': 34,\n",
       " 'sacrificio': 35,\n",
       " 'se': 36,\n",
       " 'si': 37,\n",
       " 'sin': 38,\n",
       " 'sueño': 39,\n",
       " 'termina': 40,\n",
       " 'tu': 41,\n",
       " 'ultimo': 42,\n",
       " 'victoria': 43,\n",
       " 'vivencia': 44}"
      ]
     },
     "execution_count": 49,
     "metadata": {},
     "output_type": "execute_result"
    }
   ],
   "source": [
    "# Creando un diccionario para encontrar el índice de una palabra dada\n",
    "ix_to_word = sorted(list(vocabulary))\n",
    "word_to_ix = {word: ind for ind, word in enumerate(ix_to_word)}\n",
    "word_to_ix"
   ]
  },
  {
   "cell_type": "code",
   "execution_count": 50,
   "metadata": {
    "colab": {
     "base_uri": "https://localhost:8080/"
    },
    "id": "2k26VBCHftzy",
    "outputId": "e5aa00fe-0d15-40ed-e189-cf4338d8e795"
   },
   "outputs": [
    {
     "data": {
      "text/plain": [
       "{'NOUN': 0,\n",
       " 'ADJ': 1,\n",
       " 'SCONJ': 2,\n",
       " 'DET': 3,\n",
       " 'VERB': 4,\n",
       " 'AUX': 5,\n",
       " 'ADP': 6,\n",
       " 'PRON': 7,\n",
       " 'ADV': 8,\n",
       " 'OTHER': 9}"
      ]
     },
     "execution_count": 50,
     "metadata": {},
     "output_type": "execute_result"
    }
   ],
   "source": [
    "#ETIQUETADO\n",
    "\n",
    "ix_to_tag=set([item[2] for item in partes])\n",
    "ix_to_tag.add(\"OTHER\")\n",
    "tag_to_ix = {tag: ind for ind, tag in enumerate(ix_to_tag)}\n",
    "tag_to_ix"
   ]
  },
  {
   "cell_type": "code",
   "execution_count": 51,
   "metadata": {
    "id": "HntqhlChd-TI"
   },
   "outputs": [],
   "source": [
    "#Se requiere que todas las sentencias esten del mismo tamaño\n",
    "#se crea una funcion para rellenar las sentencias y el vector de etiquetas\n",
    "\n",
    "maxlength=max(len(sent) for sent in train_sentences)\n",
    "\n",
    "def rellenar(v1,word):\n",
    "  aux=[word for i in range(len(v1)+1,maxlength)]\n",
    "  v2=v1+aux\n",
    "  return v2\n",
    "\n",
    "#rellenar el corpus de prueba\n",
    "train_sentences2=[]\n",
    "for sent in train_sentences:\n",
    "  sent2=rellenar(sent,'<pad>')\n",
    "  train_sentences2.append(sent2)\n",
    "\n",
    "#como el etiquetado\n",
    "train_labels2=[]\n",
    "for sent in train_labels:\n",
    "  sent2=rellenar(sent,'OTHER')\n",
    "  train_labels2.append(sent2)\n",
    "\n",
    "#unir los dos dataset\n",
    "training_data=zip(train_sentences2,train_labels2)\n",
    "training_data=list(training_data)\n",
    "\n",
    "\n",
    "# These will usually be more like 32 or 64 dimensional.\n",
    "# We will keep them small, so we can see how the weights change as we train.\n",
    "EMBEDDING_DIM = 32\n",
    "HIDDEN_DIM = 50"
   ]
  },
  {
   "cell_type": "markdown",
   "metadata": {
    "id": "-ULgZGUNVuve"
   },
   "source": [
    "**Paso 2: Modelacion**"
   ]
  },
  {
   "cell_type": "code",
   "execution_count": 52,
   "metadata": {
    "id": "dyNwF1Z7VyDn"
   },
   "outputs": [],
   "source": [
    "import torch\n",
    "import torch.nn as nn\n",
    "\n",
    "class LSTMTagger(nn.Module):\n",
    "\n",
    "    def __init__(self, embedding_dim, hidden_dim, vocab_size, tagset_size):\n",
    "        super(LSTMTagger, self).__init__()\n",
    "        self.hidden_dim = hidden_dim\n",
    "\n",
    "        self.word_embeddings = nn.Embedding(vocab_size, embedding_dim)\n",
    "\n",
    "        # The LSTM takes word embeddings as inputs, and outputs hidden states\n",
    "        # with dimensionality hidden_dim.\n",
    "        self.lstm = nn.LSTM(embedding_dim, hidden_dim)\n",
    "\n",
    "        # The linear layer that maps from hidden state space to tag space\n",
    "        self.hidden2tag = nn.Linear(hidden_dim, tagset_size)\n",
    "\n",
    "    def forward(self, sentence):\n",
    "        embeds = self.word_embeddings(sentence)\n",
    "        lstm_out, _ = self.lstm(embeds.view(len(sentence), 1, -1))\n",
    "        tag_space = self.hidden2tag(lstm_out.view(len(sentence), -1))\n",
    "        tag_scores = F.log_softmax(tag_space, dim=1)\n",
    "        return tag_scores"
   ]
  },
  {
   "cell_type": "markdown",
   "metadata": {
    "id": "-sAg8rJVV3ov"
   },
   "source": [
    "**Paso 3: Entrenamiento**"
   ]
  },
  {
   "cell_type": "code",
   "execution_count": 53,
   "metadata": {
    "id": "oS634V5aV6lP"
   },
   "outputs": [],
   "source": [
    "import torch\n",
    "import torch.nn as nn\n",
    "import torch.nn.functional as F\n",
    "import torch.optim as optim\n",
    "\n",
    "\n",
    "\n",
    "torch.manual_seed(1)\n",
    "\n",
    "def prepare_sequence(seq, to_ix):\n",
    "    idxs = [to_ix[w] for w in seq]\n",
    "    return torch.tensor(idxs, dtype=torch.long)\n",
    "\n",
    "model = LSTMTagger(EMBEDDING_DIM, HIDDEN_DIM, len(word_to_ix), len(tag_to_ix))\n",
    "loss_function = nn.NLLLoss()\n",
    "optimizer = optim.Adam(model.parameters(), lr=0.001)\n",
    "\n",
    "for epoch in range(300):  # again, normally you would NOT do 300 epochs, it is toy data\n",
    "    for sentence, tags in training_data:\n",
    "        # Step 1. Remember that Pytorch accumulates gradients.\n",
    "        # We need to clear them out before each instance\n",
    "        model.zero_grad()\n",
    "\n",
    "        # Step 2. Get our inputs ready for the network, that is, turn them into\n",
    "        # Tensors of word indices.\n",
    "        sentence_in = prepare_sequence(sentence, word_to_ix)\n",
    "        targets = prepare_sequence(tags, tag_to_ix)\n",
    "\n",
    "        # Step 3. Run our forward pass.\n",
    "        tag_scores = model(sentence_in)\n",
    "\n",
    "        # Step 4. Compute the loss, gradients, and update the parameters by\n",
    "        #  calling optimizer.step()\n",
    "        loss = loss_function(tag_scores, targets)\n",
    "        loss.backward()\n",
    "        optimizer.step()\n"
   ]
  },
  {
   "cell_type": "markdown",
   "metadata": {
    "id": "0Kcm1tNRWilc"
   },
   "source": [
    "**Paso 4: Validacion**"
   ]
  },
  {
   "cell_type": "code",
   "execution_count": 54,
   "metadata": {
    "colab": {
     "base_uri": "https://localhost:8080/"
    },
    "id": "xOJvR8GtXGs_",
    "outputId": "533c52ae-2fad-4c5a-cc24-7f68342be2f9"
   },
   "outputs": [
    {
     "data": {
      "text/plain": [
       "['la', 'gratitud', 'es', 'la', 'memoria', 'del', 'corazon', '<pad>', '<pad>']"
      ]
     },
     "execution_count": 54,
     "metadata": {},
     "output_type": "execute_result"
    }
   ],
   "source": [
    "training_data[0][0]"
   ]
  },
  {
   "cell_type": "code",
   "execution_count": 55,
   "metadata": {
    "colab": {
     "base_uri": "https://localhost:8080/"
    },
    "id": "tjk1I6-tXug3",
    "outputId": "c8cd01fa-7582-4187-f9f5-8c125bb17882"
   },
   "outputs": [
    {
     "data": {
      "text/plain": [
       "['DET', 'NOUN', 'AUX', 'DET', 'NOUN', 'ADP', 'NOUN', 'OTHER', 'OTHER']"
      ]
     },
     "execution_count": 55,
     "metadata": {},
     "output_type": "execute_result"
    }
   ],
   "source": [
    "training_data[0][1]"
   ]
  },
  {
   "cell_type": "code",
   "execution_count": 56,
   "metadata": {
    "colab": {
     "base_uri": "https://localhost:8080/"
    },
    "id": "0EzSCjXkZDip",
    "outputId": "c6e09bac-c370-4ae4-89e3-7c699d8f8f26"
   },
   "outputs": [
    {
     "data": {
      "text/plain": [
       "{'NOUN': 0,\n",
       " 'ADJ': 1,\n",
       " 'SCONJ': 2,\n",
       " 'DET': 3,\n",
       " 'VERB': 4,\n",
       " 'AUX': 5,\n",
       " 'ADP': 6,\n",
       " 'PRON': 7,\n",
       " 'ADV': 8,\n",
       " 'OTHER': 9}"
      ]
     },
     "execution_count": 56,
     "metadata": {},
     "output_type": "execute_result"
    }
   ],
   "source": [
    "tag_to_ix"
   ]
  },
  {
   "cell_type": "code",
   "execution_count": 57,
   "metadata": {
    "colab": {
     "base_uri": "https://localhost:8080/"
    },
    "id": "e3_0XyimWtI-",
    "outputId": "c9be7bc6-2679-4df6-c827-caac79d865df"
   },
   "outputs": [
    {
     "name": "stdout",
     "output_type": "stream",
     "text": [
      "torch.return_types.max(\n",
      "values=tensor([-0.0014, -0.0007, -0.0008, -0.0010, -0.0006, -0.0013, -0.0012, -0.0009,\n",
      "        -0.0003]),\n",
      "indices=tensor([3, 0, 5, 3, 0, 6, 0, 9, 9]))\n"
     ]
    },
    {
     "data": {
      "text/plain": [
       "['DET', 'NOUN', 'AUX', 'DET', 'NOUN', 'ADP', 'NOUN', 'OTHER', 'OTHER']"
      ]
     },
     "execution_count": 57,
     "metadata": {},
     "output_type": "execute_result"
    }
   ],
   "source": [
    "tags=[]\n",
    "with torch.no_grad():\n",
    "    #traer el tensor final\n",
    "    inputs = prepare_sequence(training_data[0][0], word_to_ix)\n",
    "    tag_scores = model(inputs)\n",
    "    #elegir de cada fila el valor maximo ya que esa es la etiqueta final\n",
    "    print(tag_scores.max(axis=1))\n",
    "    v = torch.argmax(tag_scores, axis=1)\n",
    "    for i in v:\n",
    "      tags.append((list(tag_to_ix.keys())[list(tag_to_ix.values()).index(i.item())])) \n",
    "\n",
    "tags\n"
   ]
  },
  {
   "cell_type": "markdown",
   "metadata": {},
   "source": [
    "# FIN"
   ]
  },
  {
   "cell_type": "code",
   "execution_count": null,
   "metadata": {},
   "outputs": [],
   "source": []
  }
 ],
 "metadata": {
  "kernelspec": {
   "display_name": "Python 3.8.14 64-bit ('nlp-env')",
   "language": "python",
   "name": "python3"
  },
  "language_info": {
   "codemirror_mode": {
    "name": "ipython",
    "version": 3
   },
   "file_extension": ".py",
   "mimetype": "text/x-python",
   "name": "python",
   "nbconvert_exporter": "python",
   "pygments_lexer": "ipython3",
   "version": "3.8.14"
  },
  "vscode": {
   "interpreter": {
    "hash": "c82f75949d34d03fdaae804566e8e1917c03c7d29ee0534da91b332696d05941"
   }
  }
 },
 "nbformat": 4,
 "nbformat_minor": 2
}
