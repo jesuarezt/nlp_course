{
  "cells": [
    {
      "cell_type": "markdown",
      "metadata": {
        "id": "yw5unCujOFBn"
      },
      "source": [
        "# Taller 3-3. Redes Neuronales Recurrentes"
      ]
    },
    {
      "cell_type": "markdown",
      "metadata": {
        "id": "6okfKx_COFBr"
      },
      "source": [
        "Este taller consiste en actualizar el taller anterior (3), es decir, usar redes neuronales recurrentes, en vez de redes neuronales multicapa (MLP, multilayer perceptron)."
      ]
    },
    {
      "cell_type": "markdown",
      "metadata": {
        "id": "_R124eIyOFBs"
      },
      "source": [
        "## Ejercicio 1. \n",
        "Use el dataset de `progressive-tweet-sentiment.csv` (el del taller anterior), para realizar una clasificación de las 4 clases en que pertenece cada tweet, usando redes neuronales recurrentes. Es decir, que esta vez, no va a usar sólo capas MLP, sino una o varias capas recurrentes, seguida de una capa lineal (full connected, o densa). Pruebe diferentes configuraciones (use recurrente básica, LSTM, GRU y bidireccionalidad). \n",
        "\n",
        "Debe utilizar pytorch. Grafique el loss y el accuracy, tanto para el entrenamiento como para la validación. Escoja el mejor modelo probando con un buen número de epochs (use el optimizador de Adam con learning rate por defecto de 0.001).\n",
        "\n",
        "Recuerde que en este ejercicio no va a usar word2vec, sino una capa de embeddings."
      ]
    },
    {
      "cell_type": "markdown",
      "metadata": {
        "id": "HDNuaU4WOFBs"
      },
      "source": [
        "A continuación muestro como leer el conjunto de datos, crear un `Dataset`de pytorch y dividir en un training y validation set (si se quiere un test se puede repetir el proceso)"
      ]
    },
    {
      "cell_type": "code",
      "execution_count": null,
      "metadata": {
        "colab": {
          "base_uri": "https://localhost:8080/"
        },
        "id": "O6dgPKKF2yEd",
        "outputId": "bdc9bcb0-7331-4793-85ab-5f8b7e8b2226"
      },
      "outputs": [
        {
          "name": "stdout",
          "output_type": "stream",
          "text": [
            "Mounted at /content/drive\n"
          ]
        }
      ],
      "source": [
        "#conectarse a google drive\n",
        "from google.colab import drive\n",
        "drive.mount('/content/drive')"
      ]
    },
    {
      "cell_type": "code",
      "execution_count": null,
      "metadata": {
        "id": "TZJ5WplZOFBt"
      },
      "outputs": [],
      "source": [
        "import torch\n",
        "import pandas as pd\n",
        "\n",
        "from torch.utils.data import Dataset\n",
        "from torch.utils.data.dataset import random_split"
      ]
    },
    {
      "cell_type": "markdown",
      "metadata": {
        "id": "5SFyacei3TOg"
      },
      "source": [
        "**Paso 1: Cargue de datos y division de la data de entrenamiento y test**"
      ]
    },
    {
      "cell_type": "code",
      "execution_count": null,
      "metadata": {
        "id": "F7Xw-qvWOFBu"
      },
      "outputs": [],
      "source": [
        "class TextData(Dataset):\n",
        "    '''\n",
        "    Dataset basico para leer los datos de tweets\n",
        "    '''\n",
        "    def __init__(self, filename):\n",
        "        super(TextData, self).__init__()\n",
        "        df = pd.read_csv(filename,encoding='latin-1')\n",
        "        self.df = df[[\"target\", \"tweet\"]]\n",
        "        \n",
        "    def __getitem__(self, index):\n",
        "        return self.df.iloc[index,0], self.df.iloc[index,1]\n",
        "    \n",
        "    def __len__(self):\n",
        "        return len(self.df)"
      ]
    },
    {
      "cell_type": "code",
      "execution_count": null,
      "metadata": {
        "id": "b-DjaQ10OFBu"
      },
      "outputs": [],
      "source": [
        "df = TextData(\"/content/drive/MyDrive/Maestria en Analitica I/Procesamiento del Lenguaje Natural/Archivos/progressive-tweet-sentiment V2.csv\")\n",
        "train_dataset, test_dataset = random_split(df,\n",
        " [int(len(df)*0.7),len(df) - int(len(df)*0.7)], torch.manual_seed(1))\n",
        "\n",
        "train_dataset, valid_dataset = random_split(\n",
        "    list(train_dataset), [int(len(train_dataset)*0.8),len(train_dataset)-int(len(train_dataset)*0.8)], torch.manual_seed(1))"
      ]
    },
    {
      "cell_type": "markdown",
      "metadata": {
        "id": "j6Dlmvji7Lp4"
      },
      "source": [
        "**Paso 2: Tokenizacion**"
      ]
    },
    {
      "cell_type": "code",
      "execution_count": null,
      "metadata": {
        "colab": {
          "base_uri": "https://localhost:8080/"
        },
        "id": "QPEpq-pD7U3K",
        "outputId": "c45c31bb-aff2-49f8-9f46-5a8769e918b6"
      },
      "outputs": [
        {
          "name": "stderr",
          "output_type": "stream",
          "text": [
            "[nltk_data] Downloading package stopwords to /root/nltk_data...\n",
            "[nltk_data]   Unzipping corpora/stopwords.zip.\n",
            "[nltk_data] Downloading package punkt to /root/nltk_data...\n",
            "[nltk_data]   Unzipping tokenizers/punkt.zip.\n"
          ]
        },
        {
          "data": {
            "text/plain": [
              "True"
            ]
          },
          "execution_count": 5,
          "metadata": {},
          "output_type": "execute_result"
        }
      ],
      "source": [
        "#importar libreria nltk\n",
        "import nltk\n",
        "nltk.download(\"stopwords\")\n",
        "from nltk.corpus import stopwords\n",
        "misstop = stopwords.words('english')\n",
        "\n",
        "from nltk.tokenize import word_tokenize\n",
        "nltk.download(\"punkt\")\n"
      ]
    },
    {
      "cell_type": "code",
      "execution_count": null,
      "metadata": {
        "id": "uucnKCDH4KvA"
      },
      "outputs": [],
      "source": [
        "#funcion de limpieza de tweets\n",
        "\n",
        "def tokenizacion(text):\n",
        "  def limpieza(text):\n",
        "    text=re.sub(r'@_[A-Za-z0-9]+_','',text) #Remover @_menciones_\n",
        "    #text=re.sub(r'@[A-Za-z0-9]+_[A-Za-z0-9]+','',text) #Remover @menciones_\n",
        "    #text=re.sub(r'@[A-Za-z0-9]+','',text) #Remover @menciones\n",
        "    text=re.sub(r'https?:\\/\\/\\S+','',text) #Remover Hypervinculos\n",
        "    text=re.sub(r'RT[\\s]+','',text) #Remover Retweets\n",
        "    text=re.sub(r'[^\\w\\s]',\"\",text) #remover signos de puntuacion\n",
        "    text=re.sub(r'#[A-Za-z0-9]+','',text) #Remover \"#\"\n",
        "    #text=re.sub(r'[0-9]','',text) #remover numeros\n",
        "    text=re.sub(r'[^\\w\\s]',\"\",text) #remover signos de puntuacion\n",
        "    text=re.sub(r'\\n|\\t',' ',text) #remover saltos de linea\n",
        "    text=re.sub(r'\\@',' ',text) #remover \"@\"\n",
        "    text=re.sub(r'[\\s]+',' ',text) #reemplazar espacios dobles por espacion sencillos\n",
        "    text=re.sub(r\"^[\\s]\",' ',text) #eliminar espacios al inicio de cada tweet\n",
        "    text=text.lower() #todo a minuscula\n",
        "    return text\n",
        "  \n",
        "  text2=limpieza(text)\n",
        "\n",
        "  #tokenizar tweet eliminando stopwords\n",
        "  token1=word_tokenize(text2)\n",
        "  token2=[]\n",
        "  for word in token1:\n",
        "    if word not in misstop: \n",
        "      token2.append(word)\n",
        "  return token2"
      ]
    },
    {
      "cell_type": "code",
      "execution_count": null,
      "metadata": {
        "colab": {
          "base_uri": "https://localhost:8080/"
        },
        "id": "babxDY_e84yP",
        "outputId": "ebfef86a-490e-49b0-fa18-c82a2f9f7502"
      },
      "outputs": [
        {
          "name": "stdout",
          "output_type": "stream",
          "text": [
            "Vocab-size: 3168\n"
          ]
        }
      ],
      "source": [
        "import re\n",
        "from collections import Counter, OrderedDict\n",
        "\n",
        "token_counts = Counter()\n",
        "for label, line in train_dataset:\n",
        "    tokens = tokenizacion(line)\n",
        "    token_counts.update(tokens)\n",
        "\n",
        "\n",
        "print('Vocab-size:', len(token_counts))"
      ]
    },
    {
      "cell_type": "markdown",
      "metadata": {
        "id": "Ag0HsAGh9rYt"
      },
      "source": [
        "**Paso 3:Indexacion de Tokens**"
      ]
    },
    {
      "cell_type": "code",
      "execution_count": null,
      "metadata": {
        "colab": {
          "base_uri": "https://localhost:8080/"
        },
        "id": "60S9yWib9d9L",
        "outputId": "9e28af80-5a33-47e6-8ed6-af7bf38a62a7"
      },
      "outputs": [
        {
          "name": "stdout",
          "output_type": "stream",
          "text": [
            "[1, 1, 1, 2162]\n"
          ]
        }
      ],
      "source": [
        "## Paso 3: Codificación de cada token único en enteros\n",
        "\n",
        "from torchtext.vocab import vocab\n",
        "\n",
        "sorted_by_freq_tuples = sorted(token_counts.items(), key=lambda x: x[1], reverse=True)\n",
        "ordered_dict = OrderedDict(sorted_by_freq_tuples)\n",
        "\n",
        "vocab = vocab(ordered_dict)\n",
        "\n",
        "vocab.insert_token(\"<pad>\", 0)\n",
        "vocab.insert_token(\"<unk>\", 1)\n",
        "vocab.set_default_index(1)\n",
        "\n",
        "print([vocab[token] for token in ['this', 'is', 'an', 'example']])"
      ]
    },
    {
      "cell_type": "markdown",
      "metadata": {
        "id": "SpckIaYTAN25"
      },
      "source": [
        "**Paso 4: Etiquetado y Codificacion**"
      ]
    },
    {
      "cell_type": "code",
      "execution_count": null,
      "metadata": {
        "id": "PLWeVJDC-Fia"
      },
      "outputs": [],
      "source": [
        "#Definir funciones de transformacion\n",
        "import torch\n",
        "import torch.nn as nn\n",
        "device = torch.device('cuda:0' if torch.cuda.is_available() else 'cpu')\n",
        "\n",
        "text_pipeline = lambda x: [vocab[token] for token in tokenizacion(x)]\n",
        "label_pipeline = lambda x: 0. if x == 'Atheism' else 1. if x=='Feminist Movement' else 2. if x=='Hillary Clinton' else 3. if x=='Legalization of Abortion' else -1.\n",
        "\n",
        "#Definir funcion de trnasformacion y codificacion\n",
        "def collate_batch(batch):\n",
        "    label_list, text_list, lengths = [], [], []\n",
        "    for _label, _text in batch:\n",
        "        label_list.append(label_pipeline(_label))\n",
        "        processed_text = torch.tensor(text_pipeline(_text), \n",
        "                                      dtype=torch.int64)\n",
        "        text_list.append(processed_text)\n",
        "        lengths.append(processed_text.size(0))\n",
        "    label_list = torch.tensor(label_list)\n",
        "    lengths = torch.tensor(lengths)\n",
        "    padded_text_list = nn.utils.rnn.pad_sequence(\n",
        "        text_list, batch_first=True)\n",
        "    return padded_text_list.to(device), label_list.to(device), lengths.to(device)"
      ]
    },
    {
      "cell_type": "code",
      "execution_count": null,
      "metadata": {
        "colab": {
          "base_uri": "https://localhost:8080/"
        },
        "id": "AY0rFx5PAKfb",
        "outputId": "c193f06a-413b-4fa6-ac04-7e94745d30ce"
      },
      "outputs": [
        {
          "name": "stdout",
          "output_type": "stream",
          "text": [
            "tensor([[917, 330,  65, 175, 918, 331, 919, 920,  19, 921, 922, 923],\n",
            "        [ 12, 332,  54,  35,   6,  66, 235, 486, 136, 333, 334,   0],\n",
            "        [  5, 176, 335, 924, 336, 487, 488, 177, 236, 925, 926, 927],\n",
            "        [113,  28, 489, 928,  55,  87, 337,  42, 237, 238, 490,   0]])\n",
            "tensor([3., 1., 2., 3.])\n",
            "tensor([12, 11, 12, 11])\n",
            "torch.Size([4, 12])\n"
          ]
        }
      ],
      "source": [
        "## Toma un pequeño batch\n",
        "\n",
        "from torch.utils.data import DataLoader\n",
        "dataloader = DataLoader(train_dataset, batch_size=4, shuffle=False, collate_fn=collate_batch)\n",
        "text_batch, label_batch, length_batch = next(iter(dataloader))\n",
        "print(text_batch)\n",
        "print(label_batch)\n",
        "print(length_batch)\n",
        "print(text_batch.shape)"
      ]
    },
    {
      "cell_type": "markdown",
      "metadata": {
        "id": "TNWfunEuG02A"
      },
      "source": [
        "**Batching de los datasets**"
      ]
    },
    {
      "cell_type": "code",
      "execution_count": null,
      "metadata": {
        "id": "K-FY-0QjC7zw"
      },
      "outputs": [],
      "source": [
        "batch_size = 256\n",
        "\n",
        "train_dl = DataLoader(train_dataset, batch_size=batch_size,\n",
        "                      shuffle=True, collate_fn=collate_batch)\n",
        "valid_dl = DataLoader(valid_dataset, batch_size=batch_size,\n",
        "                      shuffle=False, collate_fn=collate_batch)\n",
        "test_dl = DataLoader(test_dataset, batch_size=batch_size,\n",
        "                     shuffle=False, collate_fn=collate_batch)\n"
      ]
    },
    {
      "cell_type": "markdown",
      "metadata": {
        "id": "C8KhsapMHu6w"
      },
      "source": [
        "**Modelacion**"
      ]
    },
    {
      "cell_type": "markdown",
      "metadata": {
        "id": "UpQAVsy9IS8i"
      },
      "source": [
        "Parametros "
      ]
    },
    {
      "cell_type": "code",
      "execution_count": null,
      "metadata": {
        "colab": {
          "base_uri": "https://localhost:8080/"
        },
        "id": "L4LQWongIR9C",
        "outputId": "bef2d238-447b-408c-ba5b-5df5084acb07"
      },
      "outputs": [
        {
          "data": {
            "text/plain": [
              "<torch._C.Generator at 0x7f79fcfa05d0>"
            ]
          },
          "execution_count": 249,
          "metadata": {},
          "output_type": "execute_result"
        }
      ],
      "source": [
        "vocab_size = len(vocab)\n",
        "embed_dim = 64\n",
        "rnn_hidden_size = 64\n",
        "fc_hidden_size = 64\n",
        "num_epochs = 500\n",
        "lr=0.001\n",
        "num_classes=4\n",
        "DEVICE = torch.device('cuda:0' if torch.cuda.is_available() else 'cpu') #carga de la red neuronal en la CPU o en la GPU\n",
        "torch.manual_seed(1)"
      ]
    },
    {
      "cell_type": "markdown",
      "metadata": {
        "id": "EZkEmCsBMz1n"
      },
      "source": [
        "Modelo 1: Red Neuronal Recurrente Simple"
      ]
    },
    {
      "cell_type": "code",
      "execution_count": null,
      "metadata": {
        "id": "ivAcqBBQOeCN"
      },
      "outputs": [],
      "source": [
        "class RNN_Simple(nn.Module):\n",
        "    def __init__(self, vocab_size, embed_dim, rnn_hidden_size, fc_hidden_size):\n",
        "        super().__init__()\n",
        "        self.embedding = nn.Embedding(vocab_size, \n",
        "                                      embed_dim, \n",
        "                                      padding_idx=0) \n",
        "        self.rnn = nn.RNN(embed_dim, rnn_hidden_size,\n",
        "                           batch_first=True)\n",
        "        self.fc1 = nn.Linear(rnn_hidden_size, fc_hidden_size)\n",
        "        self.relu = nn.ReLU()\n",
        "        self.fc2 = nn.Linear(fc_hidden_size, num_classes)\n",
        "        self.sigmoid = nn.Sigmoid()\n",
        "        \n",
        "\n",
        "    def forward(self, text, lengths):\n",
        "        out = self.embedding(text)\n",
        "        out = nn.utils.rnn.pack_padded_sequence(out, lengths.cpu().numpy(), enforce_sorted=False, batch_first=True)\n",
        "        out, (hidden) = self.rnn(out)\n",
        "        out = hidden[-1, :, :]\n",
        "        out = self.fc1(out)\n",
        "        out = self.relu(out)\n",
        "        out = self.fc2(out)\n",
        "        out = self.sigmoid(out)\n",
        "        return out\n",
        "\n",
        "model1 = RNN_Simple(vocab_size, embed_dim, rnn_hidden_size, fc_hidden_size) \n",
        "model1 = model1.to(device)"
      ]
    },
    {
      "cell_type": "code",
      "execution_count": null,
      "metadata": {
        "id": "TjNS5-HahyBv"
      },
      "outputs": [],
      "source": [
        "import numpy as np\n",
        "def train(dataloader):\n",
        "    model1.train()\n",
        "    total_acc, total_loss = 0, 0\n",
        "    losses,acc_acum,nums=0,0,0\n",
        "\n",
        "    for text_batch, label_batch, lengths in dataloader:\n",
        "        optimizer.zero_grad()\n",
        "        y_test=label_batch.long()\n",
        "        y_pred = torch.argmax(model1(text_batch, lengths), 1)\n",
        "\n",
        "        pred = model1(text_batch, lengths)\n",
        "        loss = loss_func(pred, y_test)\n",
        "        loss.backward()\n",
        "        optimizer.step()\n",
        "  \n",
        "        total_acc += (y_pred == label_batch).float().sum().item()\n",
        "        total_loss += loss.item()*label_batch.size(0)\n",
        "\n",
        "    return total_acc/len(dataloader.dataset), total_loss/len(dataloader.dataset)\n",
        "\n",
        "def evaluate(dataloader):\n",
        "    model1.eval()\n",
        "    total_acc, total_loss = 0, 0\n",
        "    with torch.no_grad():\n",
        "        for text_batch, label_batch, lengths in dataloader:\n",
        "            #revisar funcion de perdida\n",
        "            y_pred = torch.argmax(model1(text_batch, lengths), 1)\n",
        "            y_test=label_batch.long()\n",
        "            pred = model1(text_batch, lengths)\n",
        "            loss = loss_func(pred, y_test)\n",
        "            total_acc += (y_pred == label_batch).float().sum().item()\n",
        "            total_loss += loss.item()*label_batch.size(0)\n",
        "    return total_acc/len(dataloader.dataset), total_loss/len(dataloader.dataset)"
      ]
    },
    {
      "cell_type": "code",
      "execution_count": null,
      "metadata": {
        "colab": {
          "base_uri": "https://localhost:8080/",
          "height": 1000
        },
        "id": "5JGPjc1rPikU",
        "outputId": "c56b8fdb-dd4c-4792-fcce-39f0a9e18731"
      },
      "outputs": [
        {
          "name": "stdout",
          "output_type": "stream",
          "text": [
            "epoch: 0,    train_loss: 1.3894     valid_loss: 1.3844, valid_acc: 0.2883\n",
            "epoch: 10,    train_loss: 1.3834     valid_loss: 1.3820, valid_acc: 0.3742\n",
            "epoch: 20,    train_loss: 1.3784     valid_loss: 1.3797, valid_acc: 0.3804\n",
            "epoch: 30,    train_loss: 1.3734     valid_loss: 1.3773, valid_acc: 0.3681\n",
            "epoch: 40,    train_loss: 1.3684     valid_loss: 1.3748, valid_acc: 0.3865\n",
            "epoch: 50,    train_loss: 1.3630     valid_loss: 1.3720, valid_acc: 0.3742\n",
            "epoch: 60,    train_loss: 1.3570     valid_loss: 1.3689, valid_acc: 0.3804\n",
            "epoch: 70,    train_loss: 1.3501     valid_loss: 1.3654, valid_acc: 0.3926\n",
            "epoch: 80,    train_loss: 1.3423     valid_loss: 1.3614, valid_acc: 0.3865\n",
            "epoch: 90,    train_loss: 1.3333     valid_loss: 1.3566, valid_acc: 0.4049\n",
            "epoch: 100,    train_loss: 1.3224     valid_loss: 1.3511, valid_acc: 0.3926\n",
            "epoch: 110,    train_loss: 1.3094     valid_loss: 1.3446, valid_acc: 0.3865\n",
            "epoch: 120,    train_loss: 1.2943     valid_loss: 1.3370, valid_acc: 0.3865\n",
            "epoch: 130,    train_loss: 1.2771     valid_loss: 1.3283, valid_acc: 0.3988\n",
            "epoch: 140,    train_loss: 1.2572     valid_loss: 1.3184, valid_acc: 0.4233\n",
            "epoch: 150,    train_loss: 1.2359     valid_loss: 1.3075, valid_acc: 0.4233\n",
            "epoch: 160,    train_loss: 1.2137     valid_loss: 1.2968, valid_acc: 0.4356\n",
            "epoch: 170,    train_loss: 1.1904     valid_loss: 1.2878, valid_acc: 0.4663\n",
            "epoch: 180,    train_loss: 1.1658     valid_loss: 1.2787, valid_acc: 0.4785\n",
            "epoch: 190,    train_loss: 1.1425     valid_loss: 1.2703, valid_acc: 0.4847\n",
            "epoch: 200,    train_loss: 1.1181     valid_loss: 1.2622, valid_acc: 0.4785\n",
            "epoch: 210,    train_loss: 1.0940     valid_loss: 1.2543, valid_acc: 0.4785\n",
            "epoch: 220,    train_loss: 1.0718     valid_loss: 1.2490, valid_acc: 0.4969\n",
            "epoch: 230,    train_loss: 1.0496     valid_loss: 1.2459, valid_acc: 0.4969\n",
            "epoch: 240,    train_loss: 1.0291     valid_loss: 1.2423, valid_acc: 0.4847\n",
            "epoch: 250,    train_loss: 1.0090     valid_loss: 1.2331, valid_acc: 0.4908\n",
            "epoch: 260,    train_loss: 0.9907     valid_loss: 1.2254, valid_acc: 0.4969\n",
            "epoch: 270,    train_loss: 0.9728     valid_loss: 1.2262, valid_acc: 0.4724\n",
            "epoch: 280,    train_loss: 0.9560     valid_loss: 1.2223, valid_acc: 0.4724\n",
            "epoch: 290,    train_loss: 0.9392     valid_loss: 1.2119, valid_acc: 0.5092\n",
            "epoch: 300,    train_loss: 0.9235     valid_loss: 1.2100, valid_acc: 0.4847\n",
            "epoch: 310,    train_loss: 0.9077     valid_loss: 1.2123, valid_acc: 0.4969\n",
            "epoch: 320,    train_loss: 0.8928     valid_loss: 1.2065, valid_acc: 0.5092\n",
            "epoch: 330,    train_loss: 0.8781     valid_loss: 1.2061, valid_acc: 0.5153\n",
            "epoch: 340,    train_loss: 0.8648     valid_loss: 1.2075, valid_acc: 0.5092\n",
            "epoch: 350,    train_loss: 0.8524     valid_loss: 1.2055, valid_acc: 0.5092\n",
            "epoch: 360,    train_loss: 0.8400     valid_loss: 1.2024, valid_acc: 0.5153\n",
            "epoch: 370,    train_loss: 0.8293     valid_loss: 1.2037, valid_acc: 0.5092\n",
            "epoch: 380,    train_loss: 0.8187     valid_loss: 1.2050, valid_acc: 0.5092\n",
            "epoch: 390,    train_loss: 0.8091     valid_loss: 1.2075, valid_acc: 0.5092\n",
            "epoch: 400,    train_loss: 0.8010     valid_loss: 1.2071, valid_acc: 0.5031\n",
            "epoch: 410,    train_loss: 0.7936     valid_loss: 1.2058, valid_acc: 0.5153\n",
            "epoch: 420,    train_loss: 0.7875     valid_loss: 1.2022, valid_acc: 0.5215\n",
            "epoch: 430,    train_loss: 0.7828     valid_loss: 1.1997, valid_acc: 0.5276\n",
            "epoch: 440,    train_loss: 0.7785     valid_loss: 1.1996, valid_acc: 0.5215\n",
            "epoch: 450,    train_loss: 0.7751     valid_loss: 1.1993, valid_acc: 0.5337\n",
            "epoch: 460,    train_loss: 0.7719     valid_loss: 1.1997, valid_acc: 0.5276\n",
            "epoch: 470,    train_loss: 0.7695     valid_loss: 1.2013, valid_acc: 0.5399\n",
            "epoch: 480,    train_loss: 0.7675     valid_loss: 1.2031, valid_acc: 0.5337\n",
            "epoch: 490,    train_loss: 0.7658     valid_loss: 1.2033, valid_acc: 0.5337\n"
          ]
        },
        {
          "data": {
            "text/plain": [
              "<matplotlib.legend.Legend at 0x7f79e2725a10>"
            ]
          },
          "execution_count": 252,
          "metadata": {},
          "output_type": "execute_result"
        },
        {
          "data": {
            "image/png": "[encoded data removed]",
            "text/plain": [
              "<Figure size 432x288 with 1 Axes>"
            ]
          },
          "metadata": {
            "needs_background": "light"
          },
          "output_type": "display_data"
        }
      ],
      "source": [
        "import matplotlib.pyplot as plt\n",
        "import torch.nn.functional as F\n",
        "#loss_fn = nn.CrossEntropyLoss()\n",
        "\n",
        "loss_func = F.cross_entropy\n",
        "optimizer = torch.optim.Adam(model1.parameters(), lr=lr)\n",
        "\n",
        "train_losses = []\n",
        "valid_losses = []\n",
        "\n",
        "for epoch in range(num_epochs):\n",
        "\n",
        "  if epoch % 10 == 0:\n",
        "    acc_train, loss_train = train(train_dl)\n",
        "    acc_valid, loss_valid = evaluate(valid_dl)\n",
        "    train_losses.append(loss_train)\n",
        "    valid_losses.append(loss_valid)\n",
        "    print(f\"epoch: {epoch},    train_loss: {loss_train:.4f} \\\n",
        "    valid_loss: {loss_valid:.4f}, valid_acc: {acc_valid:.4f}\")\n",
        "\n",
        "plt.plot(range(len(train_losses)), train_losses, 'r', label='train')\n",
        "plt.plot(range(len(train_losses)), valid_losses, 'b', label = 'valid')\n",
        "plt.legend()"
      ]
    },
    {
      "cell_type": "code",
      "execution_count": null,
      "metadata": {
        "colab": {
          "base_uri": "https://localhost:8080/"
        },
        "id": "9HnOPAb43XmA",
        "outputId": "8800af2e-f302-49b9-977d-d18c5cc60392"
      },
      "outputs": [
        {
          "name": "stdout",
          "output_type": "stream",
          "text": [
            "test_accuracy: 0.5029\n"
          ]
        }
      ],
      "source": [
        "acc_test, _ = evaluate(test_dl)\n",
        "print(f'test_accuracy: {acc_test:.4f}') "
      ]
    },
    {
      "cell_type": "markdown",
      "metadata": {
        "id": "iua2k8JZC6gp"
      },
      "source": [
        "Modelo 1.1 Red Neuronal Recurrente Bidireccional Simple"
      ]
    },
    {
      "cell_type": "code",
      "execution_count": null,
      "metadata": {
        "id": "QekZK2wAC56B"
      },
      "outputs": [],
      "source": [
        "class RNN_BI(nn.Module):\n",
        "    def __init__(self, vocab_size, embed_dim, rnn_hidden_size, fc_hidden_size):\n",
        "        super().__init__()\n",
        "        self.embedding = nn.Embedding(vocab_size, \n",
        "                                      embed_dim, \n",
        "                                      padding_idx=0) \n",
        "        self.rnn = nn.RNN(embed_dim, rnn_hidden_size, \n",
        "                           batch_first=True, bidirectional=True)\n",
        "        self.fc1 = nn.Linear(rnn_hidden_size*2, fc_hidden_size)\n",
        "        self.relu = nn.ReLU()\n",
        "        self.fc2 = nn.Linear(fc_hidden_size, num_classes)\n",
        "        self.sigmoid = nn.Sigmoid()\n",
        "\n",
        "    def forward(self, text, lengths):\n",
        "        out = self.embedding(text)\n",
        "        out = nn.utils.rnn.pack_padded_sequence(out, lengths.cpu().numpy(), enforce_sorted=False, batch_first=True)\n",
        "        _, (hidden) = self.rnn(out)\n",
        "        out = torch.cat((hidden[-2, :, :], hidden[-1, :, :]), dim=1)\n",
        "        out = self.fc1(out)\n",
        "        out = self.relu(out)\n",
        "        out = self.fc2(out)\n",
        "        out = self.sigmoid(out)\n",
        "        return out\n",
        "\n",
        "model1_1 = RNN_BI(vocab_size, embed_dim, rnn_hidden_size, fc_hidden_size) \n",
        "model1_1 = model1_1.to(device)"
      ]
    },
    {
      "cell_type": "code",
      "execution_count": null,
      "metadata": {
        "id": "jixUYY3ZDxbI"
      },
      "outputs": [],
      "source": [
        "import numpy as np\n",
        "def train_BI(dataloader):\n",
        "    model1_1.train()\n",
        "    total_acc, total_loss = 0, 0\n",
        "\n",
        "    for text_batch, label_batch, lengths in dataloader:\n",
        "        optimizer.zero_grad()\n",
        "        y_test=label_batch.long()\n",
        "        y_pred = torch.argmax(model1_1(text_batch, lengths), 1)\n",
        "\n",
        "        pred = model1_1(text_batch, lengths)\n",
        "        loss = loss_func(pred, y_test)\n",
        "        loss.backward()\n",
        "        optimizer.step()\n",
        "  \n",
        "        total_acc += (y_pred == label_batch).float().sum().item()\n",
        "        total_loss += loss.item()*label_batch.size(0)\n",
        "\n",
        "    return total_acc/len(dataloader.dataset), total_loss/len(dataloader.dataset)\n",
        "\n",
        "def evaluate_BI(dataloader):\n",
        "    model1_1.eval()\n",
        "    total_acc, total_loss = 0, 0\n",
        "    with torch.no_grad():\n",
        "        for text_batch, label_batch, lengths in dataloader:\n",
        "            #revisar funcion de perdida\n",
        "            y_pred = torch.argmax(model1_1(text_batch, lengths), 1)\n",
        "            y_test=label_batch.long()\n",
        "            pred = model1_1(text_batch, lengths)\n",
        "            loss = loss_func(pred, y_test)\n",
        "            total_acc += (y_pred == label_batch).float().sum().item()\n",
        "            total_loss += loss.item()*label_batch.size(0)\n",
        "    return total_acc/len(dataloader.dataset), total_loss/len(dataloader.dataset)"
      ]
    },
    {
      "cell_type": "code",
      "execution_count": null,
      "metadata": {
        "colab": {
          "base_uri": "https://localhost:8080/",
          "height": 1000
        },
        "id": "7srIEIFpDT-W",
        "outputId": "a60032b9-3574-4286-a6f4-08a55b4f4509"
      },
      "outputs": [
        {
          "name": "stdout",
          "output_type": "stream",
          "text": [
            "epoch: 0,    train_loss: 1.3852     valid_loss: 1.3865, valid_acc: 0.2577\n",
            "epoch: 10,    train_loss: 1.3758     valid_loss: 1.3841, valid_acc: 0.2454\n",
            "epoch: 20,    train_loss: 1.3680     valid_loss: 1.3819, valid_acc: 0.2699\n",
            "epoch: 30,    train_loss: 1.3602     valid_loss: 1.3795, valid_acc: 0.2638\n",
            "epoch: 40,    train_loss: 1.3521     valid_loss: 1.3768, valid_acc: 0.2883\n",
            "epoch: 50,    train_loss: 1.3435     valid_loss: 1.3738, valid_acc: 0.3129\n",
            "epoch: 60,    train_loss: 1.3336     valid_loss: 1.3704, valid_acc: 0.3252\n",
            "epoch: 70,    train_loss: 1.3224     valid_loss: 1.3665, valid_acc: 0.3067\n",
            "epoch: 80,    train_loss: 1.3094     valid_loss: 1.3620, valid_acc: 0.3374\n",
            "epoch: 90,    train_loss: 1.2940     valid_loss: 1.3566, valid_acc: 0.3374\n",
            "epoch: 100,    train_loss: 1.2759     valid_loss: 1.3505, valid_acc: 0.3497\n",
            "epoch: 110,    train_loss: 1.2553     valid_loss: 1.3431, valid_acc: 0.3681\n",
            "epoch: 120,    train_loss: 1.2309     valid_loss: 1.3346, valid_acc: 0.4049\n",
            "epoch: 130,    train_loss: 1.2040     valid_loss: 1.3249, valid_acc: 0.3988\n",
            "epoch: 140,    train_loss: 1.1739     valid_loss: 1.3144, valid_acc: 0.3926\n",
            "epoch: 150,    train_loss: 1.1424     valid_loss: 1.3043, valid_acc: 0.4049\n",
            "epoch: 160,    train_loss: 1.1100     valid_loss: 1.2966, valid_acc: 0.4172\n",
            "epoch: 170,    train_loss: 1.0772     valid_loss: 1.2910, valid_acc: 0.4110\n",
            "epoch: 180,    train_loss: 1.0430     valid_loss: 1.2881, valid_acc: 0.4110\n",
            "epoch: 190,    train_loss: 1.0099     valid_loss: 1.2859, valid_acc: 0.4049\n",
            "epoch: 200,    train_loss: 0.9776     valid_loss: 1.2858, valid_acc: 0.4172\n",
            "epoch: 210,    train_loss: 0.9466     valid_loss: 1.2818, valid_acc: 0.4172\n",
            "epoch: 220,    train_loss: 0.9176     valid_loss: 1.2800, valid_acc: 0.4294\n",
            "epoch: 230,    train_loss: 0.8909     valid_loss: 1.2811, valid_acc: 0.4294\n",
            "epoch: 240,    train_loss: 0.8679     valid_loss: 1.2761, valid_acc: 0.4356\n",
            "epoch: 250,    train_loss: 0.8484     valid_loss: 1.2706, valid_acc: 0.4356\n",
            "epoch: 260,    train_loss: 0.8300     valid_loss: 1.2775, valid_acc: 0.4479\n",
            "epoch: 270,    train_loss: 0.8155     valid_loss: 1.2724, valid_acc: 0.4294\n",
            "epoch: 280,    train_loss: 0.8031     valid_loss: 1.2663, valid_acc: 0.4356\n",
            "epoch: 290,    train_loss: 0.7927     valid_loss: 1.2738, valid_acc: 0.4417\n",
            "epoch: 300,    train_loss: 0.7848     valid_loss: 1.2781, valid_acc: 0.4356\n",
            "epoch: 310,    train_loss: 0.7787     valid_loss: 1.2756, valid_acc: 0.4233\n",
            "epoch: 320,    train_loss: 0.7735     valid_loss: 1.2735, valid_acc: 0.4294\n",
            "epoch: 330,    train_loss: 0.7694     valid_loss: 1.2759, valid_acc: 0.4233\n",
            "epoch: 340,    train_loss: 0.7662     valid_loss: 1.2773, valid_acc: 0.4233\n",
            "epoch: 350,    train_loss: 0.7640     valid_loss: 1.2761, valid_acc: 0.4294\n",
            "epoch: 360,    train_loss: 0.7621     valid_loss: 1.2735, valid_acc: 0.4233\n",
            "epoch: 370,    train_loss: 0.7607     valid_loss: 1.2735, valid_acc: 0.4233\n",
            "epoch: 380,    train_loss: 0.7597     valid_loss: 1.2770, valid_acc: 0.4233\n",
            "epoch: 390,    train_loss: 0.7588     valid_loss: 1.2798, valid_acc: 0.4233\n",
            "epoch: 400,    train_loss: 0.7580     valid_loss: 1.2792, valid_acc: 0.4233\n",
            "epoch: 410,    train_loss: 0.7573     valid_loss: 1.2774, valid_acc: 0.4233\n",
            "epoch: 420,    train_loss: 0.7567     valid_loss: 1.2757, valid_acc: 0.4294\n",
            "epoch: 430,    train_loss: 0.7563     valid_loss: 1.2753, valid_acc: 0.4294\n",
            "epoch: 440,    train_loss: 0.7559     valid_loss: 1.2761, valid_acc: 0.4294\n",
            "epoch: 450,    train_loss: 0.7556     valid_loss: 1.2774, valid_acc: 0.4233\n",
            "epoch: 460,    train_loss: 0.7553     valid_loss: 1.2776, valid_acc: 0.4233\n",
            "epoch: 470,    train_loss: 0.7549     valid_loss: 1.2778, valid_acc: 0.4172\n",
            "epoch: 480,    train_loss: 0.7545     valid_loss: 1.2776, valid_acc: 0.4172\n",
            "epoch: 490,    train_loss: 0.7540     valid_loss: 1.2768, valid_acc: 0.4233\n"
          ]
        },
        {
          "data": {
            "text/plain": [
              "<matplotlib.legend.Legend at 0x7f79e28a97d0>"
            ]
          },
          "execution_count": 207,
          "metadata": {},
          "output_type": "execute_result"
        },
        {
          "data": {
            "image/png": "[encoded data removed]",
            "text/plain": [
              "<Figure size 432x288 with 1 Axes>"
            ]
          },
          "metadata": {
            "needs_background": "light"
          },
          "output_type": "display_data"
        }
      ],
      "source": [
        "import matplotlib.pyplot as plt\n",
        "import torch.nn.functional as F\n",
        "#loss_fn = nn.CrossEntropyLoss()\n",
        "\n",
        "loss_func = F.cross_entropy\n",
        "optimizer = torch.optim.Adam(model1_1.parameters(), lr=lr)\n",
        "\n",
        "train_losses = []\n",
        "valid_losses = []\n",
        "\n",
        "for epoch in range(num_epochs):\n",
        "\n",
        "  if epoch % 10 == 0:\n",
        "    acc_train, loss_train = train_BI(train_dl)\n",
        "    acc_valid, loss_valid = evaluate_BI(valid_dl)\n",
        "    train_losses.append(loss_train)\n",
        "    valid_losses.append(loss_valid)\n",
        "    print(f\"epoch: {epoch},    train_loss: {loss_train:.4f} \\\n",
        "    valid_loss: {loss_valid:.4f}, valid_acc: {acc_valid:.4f}\")\n",
        "\n",
        "plt.plot(range(len(train_losses)), train_losses, 'r', label='train')\n",
        "plt.plot(range(len(train_losses)), valid_losses, 'b', label = 'valid')\n",
        "plt.legend()"
      ]
    },
    {
      "cell_type": "code",
      "execution_count": null,
      "metadata": {
        "colab": {
          "base_uri": "https://localhost:8080/"
        },
        "id": "Fb5MPEYxDo82",
        "outputId": "f67b8db8-8a22-4aad-9c6e-2abcaaf5c3b4"
      },
      "outputs": [
        {
          "name": "stdout",
          "output_type": "stream",
          "text": [
            "test_accuracy: 0.4397\n"
          ]
        }
      ],
      "source": [
        "acc_test, _ = evaluate_BI(test_dl)\n",
        "print(f'test_accuracy: {acc_test:.4f}') "
      ]
    },
    {
      "cell_type": "markdown",
      "metadata": {
        "id": "Vz_-o-4qAOFz"
      },
      "source": [
        "Modelo 2: Red Neuronal Recurrente Cerrada GRU"
      ]
    },
    {
      "cell_type": "code",
      "execution_count": null,
      "metadata": {
        "id": "fuMsRWBJ4ArN"
      },
      "outputs": [],
      "source": [
        "class RNN_GRU(nn.Module):\n",
        "    def __init__(self, vocab_size, embed_dim, rnn_hidden_size, fc_hidden_size):\n",
        "        super().__init__()\n",
        "        self.embedding = nn.Embedding(vocab_size, \n",
        "                                      embed_dim, \n",
        "                                      padding_idx=0) \n",
        "        self.rnn = nn.GRU(embed_dim, rnn_hidden_size,\n",
        "                           batch_first=True)\n",
        "        self.fc1 = nn.Linear(rnn_hidden_size, fc_hidden_size)\n",
        "        self.relu = nn.ReLU()\n",
        "        self.fc2 = nn.Linear(fc_hidden_size, num_classes)\n",
        "        self.sigmoid = nn.Sigmoid()\n",
        "        \n",
        "\n",
        "    def forward(self, text, lengths):\n",
        "        out = self.embedding(text)\n",
        "        out = nn.utils.rnn.pack_padded_sequence(out, lengths.cpu().numpy(), enforce_sorted=False, batch_first=True)\n",
        "        out, (hidden) = self.rnn(out)\n",
        "        out = hidden[-1, :, :]\n",
        "        out = self.fc1(out)\n",
        "        out = self.relu(out)\n",
        "        out = self.fc2(out)\n",
        "        out = self.sigmoid(out)\n",
        "        return out\n",
        "\n",
        "model2 = RNN_GRU(vocab_size, embed_dim, rnn_hidden_size, fc_hidden_size) \n",
        "model2 = model2.to(device)"
      ]
    },
    {
      "cell_type": "code",
      "execution_count": null,
      "metadata": {
        "id": "rDFYAcEP4NGv"
      },
      "outputs": [],
      "source": [
        "import numpy as np\n",
        "def train_GRU(dataloader):\n",
        "    model2.train()\n",
        "    total_acc, total_loss = 0, 0\n",
        "    losses,acc_acum,nums=0,0,0\n",
        "\n",
        "    for text_batch, label_batch, lengths in dataloader:\n",
        "        optimizer.zero_grad()\n",
        "        y_test=label_batch.long()\n",
        "        y_pred = torch.argmax(model2(text_batch, lengths), 1)\n",
        "\n",
        "        pred = model2(text_batch, lengths)\n",
        "        loss = loss_func(pred, y_test)\n",
        "        loss.backward()\n",
        "        optimizer.step()\n",
        "  \n",
        "        total_acc += (y_pred == label_batch).float().sum().item()\n",
        "        total_loss += loss.item()*label_batch.size(0)\n",
        "\n",
        "    return total_acc/len(dataloader.dataset), total_loss/len(dataloader.dataset)\n",
        "\n",
        "def evaluate_GRU(dataloader):\n",
        "    model2.eval()\n",
        "    total_acc, total_loss = 0, 0\n",
        "    with torch.no_grad():\n",
        "        for text_batch, label_batch, lengths in dataloader:\n",
        "            #revisar funcion de perdida\n",
        "            y_pred = torch.argmax(model2(text_batch, lengths), 1)\n",
        "            y_test=label_batch.long()\n",
        "            pred = model2(text_batch, lengths)\n",
        "            loss = loss_func(pred, y_test)\n",
        "            total_acc += (y_pred == label_batch).float().sum().item()\n",
        "            total_loss += loss.item()*label_batch.size(0)\n",
        "    return total_acc/len(dataloader.dataset), total_loss/len(dataloader.dataset)"
      ]
    },
    {
      "cell_type": "code",
      "execution_count": null,
      "metadata": {
        "colab": {
          "base_uri": "https://localhost:8080/",
          "height": 1000
        },
        "id": "d1uzhrQhAsLg",
        "outputId": "c05f20a5-7bcf-4652-c97b-fcaaef070d05"
      },
      "outputs": [
        {
          "name": "stdout",
          "output_type": "stream",
          "text": [
            "epoch: 0,    train_loss: 1.3849     valid_loss: 1.3870, valid_acc: 0.2638\n",
            "epoch: 10,    train_loss: 1.3806     valid_loss: 1.3849, valid_acc: 0.3067\n",
            "epoch: 20,    train_loss: 1.3766     valid_loss: 1.3829, valid_acc: 0.2945\n",
            "epoch: 30,    train_loss: 1.3726     valid_loss: 1.3810, valid_acc: 0.2945\n",
            "epoch: 40,    train_loss: 1.3682     valid_loss: 1.3788, valid_acc: 0.3252\n",
            "epoch: 50,    train_loss: 1.3635     valid_loss: 1.3765, valid_acc: 0.3374\n",
            "epoch: 60,    train_loss: 1.3579     valid_loss: 1.3737, valid_acc: 0.3497\n",
            "epoch: 70,    train_loss: 1.3512     valid_loss: 1.3703, valid_acc: 0.3742\n",
            "epoch: 80,    train_loss: 1.3433     valid_loss: 1.3662, valid_acc: 0.3742\n",
            "epoch: 90,    train_loss: 1.3338     valid_loss: 1.3610, valid_acc: 0.3742\n",
            "epoch: 100,    train_loss: 1.3227     valid_loss: 1.3547, valid_acc: 0.3926\n",
            "epoch: 110,    train_loss: 1.3091     valid_loss: 1.3475, valid_acc: 0.4110\n",
            "epoch: 120,    train_loss: 1.2930     valid_loss: 1.3390, valid_acc: 0.4172\n",
            "epoch: 130,    train_loss: 1.2741     valid_loss: 1.3295, valid_acc: 0.4417\n",
            "epoch: 140,    train_loss: 1.2532     valid_loss: 1.3191, valid_acc: 0.4294\n",
            "epoch: 150,    train_loss: 1.2291     valid_loss: 1.3089, valid_acc: 0.4479\n",
            "epoch: 160,    train_loss: 1.2031     valid_loss: 1.2988, valid_acc: 0.4479\n",
            "epoch: 170,    train_loss: 1.1752     valid_loss: 1.2896, valid_acc: 0.4417\n",
            "epoch: 180,    train_loss: 1.1490     valid_loss: 1.2837, valid_acc: 0.4601\n",
            "epoch: 190,    train_loss: 1.1238     valid_loss: 1.2829, valid_acc: 0.4356\n",
            "epoch: 200,    train_loss: 1.1001     valid_loss: 1.2837, valid_acc: 0.4356\n",
            "epoch: 210,    train_loss: 1.0770     valid_loss: 1.2800, valid_acc: 0.4294\n",
            "epoch: 220,    train_loss: 1.0543     valid_loss: 1.2744, valid_acc: 0.4417\n",
            "epoch: 230,    train_loss: 1.0323     valid_loss: 1.2712, valid_acc: 0.4294\n",
            "epoch: 240,    train_loss: 1.0124     valid_loss: 1.2694, valid_acc: 0.4049\n",
            "epoch: 250,    train_loss: 0.9929     valid_loss: 1.2647, valid_acc: 0.4049\n",
            "epoch: 260,    train_loss: 0.9748     valid_loss: 1.2604, valid_acc: 0.4049\n",
            "epoch: 270,    train_loss: 0.9583     valid_loss: 1.2561, valid_acc: 0.4110\n",
            "epoch: 280,    train_loss: 0.9424     valid_loss: 1.2534, valid_acc: 0.3988\n",
            "epoch: 290,    train_loss: 0.9270     valid_loss: 1.2523, valid_acc: 0.4049\n",
            "epoch: 300,    train_loss: 0.9134     valid_loss: 1.2510, valid_acc: 0.4110\n",
            "epoch: 310,    train_loss: 0.8995     valid_loss: 1.2495, valid_acc: 0.4110\n",
            "epoch: 320,    train_loss: 0.8866     valid_loss: 1.2484, valid_acc: 0.4110\n",
            "epoch: 330,    train_loss: 0.8739     valid_loss: 1.2470, valid_acc: 0.4479\n",
            "epoch: 340,    train_loss: 0.8614     valid_loss: 1.2489, valid_acc: 0.4601\n",
            "epoch: 350,    train_loss: 0.8484     valid_loss: 1.2515, valid_acc: 0.4601\n",
            "epoch: 360,    train_loss: 0.8358     valid_loss: 1.2518, valid_acc: 0.4540\n",
            "epoch: 370,    train_loss: 0.8237     valid_loss: 1.2552, valid_acc: 0.4540\n",
            "epoch: 380,    train_loss: 0.8127     valid_loss: 1.2630, valid_acc: 0.4479\n",
            "epoch: 390,    train_loss: 0.8023     valid_loss: 1.2665, valid_acc: 0.4417\n",
            "epoch: 400,    train_loss: 0.7935     valid_loss: 1.2719, valid_acc: 0.4294\n",
            "epoch: 410,    train_loss: 0.7851     valid_loss: 1.2753, valid_acc: 0.4294\n",
            "epoch: 420,    train_loss: 0.7779     valid_loss: 1.2801, valid_acc: 0.4294\n",
            "epoch: 430,    train_loss: 0.7720     valid_loss: 1.2815, valid_acc: 0.4294\n",
            "epoch: 440,    train_loss: 0.7671     valid_loss: 1.2848, valid_acc: 0.4294\n",
            "epoch: 450,    train_loss: 0.7631     valid_loss: 1.2902, valid_acc: 0.4294\n",
            "epoch: 460,    train_loss: 0.7599     valid_loss: 1.2939, valid_acc: 0.4294\n",
            "epoch: 470,    train_loss: 0.7568     valid_loss: 1.2939, valid_acc: 0.4233\n",
            "epoch: 480,    train_loss: 0.7546     valid_loss: 1.2944, valid_acc: 0.4294\n",
            "epoch: 490,    train_loss: 0.7531     valid_loss: 1.2949, valid_acc: 0.4294\n"
          ]
        },
        {
          "data": {
            "text/plain": [
              "<matplotlib.legend.Legend at 0x7f79e2879e10>"
            ]
          },
          "execution_count": 211,
          "metadata": {},
          "output_type": "execute_result"
        },
        {
          "data": {
            "image/png": "[encoded data removed]",
            "text/plain": [
              "<Figure size 432x288 with 1 Axes>"
            ]
          },
          "metadata": {
            "needs_background": "light"
          },
          "output_type": "display_data"
        }
      ],
      "source": [
        "import matplotlib.pyplot as plt\n",
        "import torch.nn.functional as F\n",
        "#loss_fn = nn.CrossEntropyLoss()\n",
        "\n",
        "loss_func = F.cross_entropy\n",
        "optimizer = torch.optim.Adam(model2.parameters(), lr=lr)\n",
        "\n",
        "train_losses = []\n",
        "valid_losses = []\n",
        "\n",
        "for epoch in range(num_epochs):\n",
        "\n",
        "  if epoch % 10 == 0:\n",
        "    acc_train, loss_train = train_GRU(train_dl)\n",
        "    acc_valid, loss_valid = evaluate_GRU(valid_dl)\n",
        "    train_losses.append(loss_train)\n",
        "    valid_losses.append(loss_valid)\n",
        "    print(f\"epoch: {epoch},    train_loss: {loss_train:.4f} \\\n",
        "    valid_loss: {loss_valid:.4f}, valid_acc: {acc_valid:.4f}\")\n",
        "\n",
        "plt.plot(range(len(train_losses)), train_losses, 'r', label='train')\n",
        "plt.plot(range(len(train_losses)), valid_losses, 'b', label = 'valid')\n",
        "plt.legend()"
      ]
    },
    {
      "cell_type": "code",
      "execution_count": null,
      "metadata": {
        "colab": {
          "base_uri": "https://localhost:8080/"
        },
        "id": "4Gz5mbUkAJNk",
        "outputId": "0d150833-bb19-4add-a453-4f9ae9bc51c1"
      },
      "outputs": [
        {
          "name": "stdout",
          "output_type": "stream",
          "text": [
            "test_accuracy: 0.4310\n"
          ]
        }
      ],
      "source": [
        "acc_test, _ = evaluate_GRU(test_dl)\n",
        "print(f'test_accuracy: {acc_test:.4f}') "
      ]
    },
    {
      "cell_type": "markdown",
      "metadata": {
        "id": "6sLUTFhdFzXf"
      },
      "source": [
        "Modelo 2.1: Red Neuronal Recurrente Cerrada (GRU) Bidireccional"
      ]
    },
    {
      "cell_type": "code",
      "execution_count": null,
      "metadata": {
        "id": "z4phUQYsGECZ"
      },
      "outputs": [],
      "source": [
        "class RNN_GRU_BI(nn.Module):\n",
        "    def __init__(self, vocab_size, embed_dim, rnn_hidden_size, fc_hidden_size):\n",
        "        super().__init__()\n",
        "        self.embedding = nn.Embedding(vocab_size, \n",
        "                                      embed_dim, \n",
        "                                      padding_idx=0) \n",
        "        self.rnn = nn.GRU(embed_dim, rnn_hidden_size, \n",
        "                           batch_first=True, bidirectional=True)\n",
        "        self.fc1 = nn.Linear(rnn_hidden_size*2, fc_hidden_size)\n",
        "        self.relu = nn.ReLU()\n",
        "        self.fc2 = nn.Linear(fc_hidden_size, num_classes)\n",
        "        self.sigmoid = nn.Sigmoid()\n",
        "\n",
        "    def forward(self, text, lengths):\n",
        "        out = self.embedding(text)\n",
        "        out = nn.utils.rnn.pack_padded_sequence(out, lengths.cpu().numpy(), enforce_sorted=False, batch_first=True)\n",
        "        _, (hidden) = self.rnn(out)\n",
        "        out = torch.cat((hidden[-2, :, :], hidden[-1, :, :]), dim=1)\n",
        "        out = self.fc1(out)\n",
        "        out = self.relu(out)\n",
        "        out = self.fc2(out)\n",
        "        out = self.sigmoid(out)\n",
        "        return out\n",
        " \n",
        "model2_1 = RNN_GRU_BI(vocab_size, embed_dim, rnn_hidden_size, fc_hidden_size) \n",
        "model2_1 = model2_1.to(device)"
      ]
    },
    {
      "cell_type": "code",
      "execution_count": null,
      "metadata": {
        "id": "coLNl_t8GY_z"
      },
      "outputs": [],
      "source": [
        "import numpy as np\n",
        "def train_GRU_BI(dataloader):\n",
        "    model2_1.train()\n",
        "    total_acc, total_loss = 0, 0\n",
        "    losses,acc_acum,nums=0,0,0\n",
        "\n",
        "    for text_batch, label_batch, lengths in dataloader:\n",
        "        optimizer.zero_grad()\n",
        "        y_test=label_batch.long()\n",
        "        y_pred = torch.argmax(model2_1(text_batch, lengths), 1)\n",
        "\n",
        "        pred = model2_1(text_batch, lengths)\n",
        "        loss = loss_func(pred, y_test)\n",
        "        loss.backward()\n",
        "        optimizer.step()\n",
        "  \n",
        "        total_acc += (y_pred == label_batch).float().sum().item()\n",
        "        total_loss += loss.item()*label_batch.size(0)\n",
        "\n",
        "    return total_acc/len(dataloader.dataset), total_loss/len(dataloader.dataset)\n",
        "\n",
        "def evaluate_GRU_BI(dataloader):\n",
        "    model2_1.eval()\n",
        "    total_acc, total_loss = 0, 0\n",
        "    with torch.no_grad():\n",
        "        for text_batch, label_batch, lengths in dataloader:\n",
        "            #revisar funcion de perdida\n",
        "            y_pred = torch.argmax(model2_1(text_batch, lengths), 1)\n",
        "            y_test=label_batch.long()\n",
        "            pred = model2_1(text_batch, lengths)\n",
        "            loss = loss_func(pred, y_test)\n",
        "            total_acc += (y_pred == label_batch).float().sum().item()\n",
        "            total_loss += loss.item()*label_batch.size(0)\n",
        "    return total_acc/len(dataloader.dataset), total_loss/len(dataloader.dataset)"
      ]
    },
    {
      "cell_type": "code",
      "execution_count": null,
      "metadata": {
        "colab": {
          "base_uri": "https://localhost:8080/",
          "height": 1000
        },
        "id": "nFcFysTOGiQN",
        "outputId": "e1052433-7395-489e-a744-2975aa71e9ef"
      },
      "outputs": [
        {
          "name": "stdout",
          "output_type": "stream",
          "text": [
            "epoch: 0,    train_loss: 1.3867     valid_loss: 1.3853, valid_acc: 0.2331\n",
            "epoch: 10,    train_loss: 1.3807     valid_loss: 1.3830, valid_acc: 0.3190\n",
            "epoch: 20,    train_loss: 1.3753     valid_loss: 1.3805, valid_acc: 0.3681\n",
            "epoch: 30,    train_loss: 1.3695     valid_loss: 1.3777, valid_acc: 0.3865\n",
            "epoch: 40,    train_loss: 1.3631     valid_loss: 1.3744, valid_acc: 0.4110\n",
            "epoch: 50,    train_loss: 1.3555     valid_loss: 1.3704, valid_acc: 0.3988\n",
            "epoch: 60,    train_loss: 1.3465     valid_loss: 1.3653, valid_acc: 0.3988\n",
            "epoch: 70,    train_loss: 1.3355     valid_loss: 1.3590, valid_acc: 0.4110\n",
            "epoch: 80,    train_loss: 1.3216     valid_loss: 1.3510, valid_acc: 0.4294\n",
            "epoch: 90,    train_loss: 1.3050     valid_loss: 1.3410, valid_acc: 0.4540\n",
            "epoch: 100,    train_loss: 1.2842     valid_loss: 1.3291, valid_acc: 0.4540\n",
            "epoch: 110,    train_loss: 1.2597     valid_loss: 1.3150, valid_acc: 0.4356\n",
            "epoch: 120,    train_loss: 1.2314     valid_loss: 1.2989, valid_acc: 0.4663\n",
            "epoch: 130,    train_loss: 1.2000     valid_loss: 1.2816, valid_acc: 0.4785\n",
            "epoch: 140,    train_loss: 1.1677     valid_loss: 1.2635, valid_acc: 0.4724\n",
            "epoch: 150,    train_loss: 1.1346     valid_loss: 1.2455, valid_acc: 0.4785\n",
            "epoch: 160,    train_loss: 1.0998     valid_loss: 1.2290, valid_acc: 0.5153\n",
            "epoch: 170,    train_loss: 1.0666     valid_loss: 1.2139, valid_acc: 0.5460\n",
            "epoch: 180,    train_loss: 1.0344     valid_loss: 1.2003, valid_acc: 0.5828\n",
            "epoch: 190,    train_loss: 1.0036     valid_loss: 1.1898, valid_acc: 0.5706\n",
            "epoch: 200,    train_loss: 0.9732     valid_loss: 1.1775, valid_acc: 0.5706\n",
            "epoch: 210,    train_loss: 0.9456     valid_loss: 1.1682, valid_acc: 0.5706\n",
            "epoch: 220,    train_loss: 0.9198     valid_loss: 1.1630, valid_acc: 0.5767\n",
            "epoch: 230,    train_loss: 0.8965     valid_loss: 1.1591, valid_acc: 0.5951\n",
            "epoch: 240,    train_loss: 0.8756     valid_loss: 1.1575, valid_acc: 0.6196\n",
            "epoch: 250,    train_loss: 0.8568     valid_loss: 1.1548, valid_acc: 0.6258\n",
            "epoch: 260,    train_loss: 0.8393     valid_loss: 1.1516, valid_acc: 0.6319\n",
            "epoch: 270,    train_loss: 0.8242     valid_loss: 1.1478, valid_acc: 0.6196\n",
            "epoch: 280,    train_loss: 0.8116     valid_loss: 1.1450, valid_acc: 0.6074\n",
            "epoch: 290,    train_loss: 0.7999     valid_loss: 1.1419, valid_acc: 0.6074\n",
            "epoch: 300,    train_loss: 0.7904     valid_loss: 1.1421, valid_acc: 0.6135\n",
            "epoch: 310,    train_loss: 0.7821     valid_loss: 1.1439, valid_acc: 0.6074\n",
            "epoch: 320,    train_loss: 0.7750     valid_loss: 1.1457, valid_acc: 0.6012\n",
            "epoch: 330,    train_loss: 0.7697     valid_loss: 1.1470, valid_acc: 0.5890\n",
            "epoch: 340,    train_loss: 0.7650     valid_loss: 1.1456, valid_acc: 0.5828\n",
            "epoch: 350,    train_loss: 0.7614     valid_loss: 1.1427, valid_acc: 0.5828\n",
            "epoch: 360,    train_loss: 0.7586     valid_loss: 1.1402, valid_acc: 0.5951\n",
            "epoch: 370,    train_loss: 0.7564     valid_loss: 1.1390, valid_acc: 0.6012\n",
            "epoch: 380,    train_loss: 0.7549     valid_loss: 1.1389, valid_acc: 0.6012\n",
            "epoch: 390,    train_loss: 0.7535     valid_loss: 1.1398, valid_acc: 0.5890\n",
            "epoch: 400,    train_loss: 0.7526     valid_loss: 1.1408, valid_acc: 0.5828\n",
            "epoch: 410,    train_loss: 0.7518     valid_loss: 1.1422, valid_acc: 0.5890\n",
            "epoch: 420,    train_loss: 0.7513     valid_loss: 1.1432, valid_acc: 0.5767\n",
            "epoch: 430,    train_loss: 0.7508     valid_loss: 1.1436, valid_acc: 0.5706\n",
            "epoch: 440,    train_loss: 0.7504     valid_loss: 1.1433, valid_acc: 0.5706\n",
            "epoch: 450,    train_loss: 0.7500     valid_loss: 1.1422, valid_acc: 0.5767\n",
            "epoch: 460,    train_loss: 0.7497     valid_loss: 1.1413, valid_acc: 0.5767\n",
            "epoch: 470,    train_loss: 0.7494     valid_loss: 1.1400, valid_acc: 0.5828\n",
            "epoch: 480,    train_loss: 0.7492     valid_loss: 1.1390, valid_acc: 0.5890\n",
            "epoch: 490,    train_loss: 0.7490     valid_loss: 1.1394, valid_acc: 0.5890\n"
          ]
        },
        {
          "data": {
            "text/plain": [
              "<matplotlib.legend.Legend at 0x7f79e28130d0>"
            ]
          },
          "execution_count": 219,
          "metadata": {},
          "output_type": "execute_result"
        },
        {
          "data": {
            "image/png": "[encoded data removed]",
            "text/plain": [
              "<Figure size 432x288 with 1 Axes>"
            ]
          },
          "metadata": {
            "needs_background": "light"
          },
          "output_type": "display_data"
        }
      ],
      "source": [
        "import matplotlib.pyplot as plt\n",
        "import torch.nn.functional as F\n",
        "#loss_fn = nn.CrossEntropyLoss()\n",
        "\n",
        "loss_func = F.cross_entropy\n",
        "optimizer = torch.optim.Adam(model2_1.parameters(), lr=lr)\n",
        "\n",
        "train_losses = []\n",
        "valid_losses = []\n",
        "\n",
        "for epoch in range(num_epochs):\n",
        "\n",
        "  if epoch % 10 == 0:\n",
        "    acc_train, loss_train = train_GRU_BI(train_dl)\n",
        "    acc_valid, loss_valid = evaluate_GRU_BI(valid_dl)\n",
        "    train_losses.append(loss_train)\n",
        "    valid_losses.append(loss_valid)\n",
        "    print(f\"epoch: {epoch},    train_loss: {loss_train:.4f} \\\n",
        "    valid_loss: {loss_valid:.4f}, valid_acc: {acc_valid:.4f}\")\n",
        "\n",
        "plt.plot(range(len(train_losses)), train_losses, 'r', label='train')\n",
        "plt.plot(range(len(train_losses)), valid_losses, 'b', label = 'valid')\n",
        "plt.legend()"
      ]
    },
    {
      "cell_type": "code",
      "execution_count": null,
      "metadata": {
        "colab": {
          "base_uri": "https://localhost:8080/"
        },
        "id": "x5lrKcDWGm11",
        "outputId": "575afa27-2132-4545-c895-866cf6e3b605"
      },
      "outputs": [
        {
          "name": "stdout",
          "output_type": "stream",
          "text": [
            "test_accuracy: 0.5259\n"
          ]
        }
      ],
      "source": [
        "acc_test, _ = evaluate_GRU_BI(test_dl)\n",
        "print(f'test_accuracy: {acc_test:.4f}') "
      ]
    },
    {
      "cell_type": "markdown",
      "metadata": {
        "id": "WValkgaGIASx"
      },
      "source": [
        "Modelo 3:Red Neuronal Recurrente con memoria a largo plazo LSTM"
      ]
    },
    {
      "cell_type": "code",
      "execution_count": null,
      "metadata": {
        "id": "NKN3ofkrISgj"
      },
      "outputs": [],
      "source": [
        "class RNN_LSTM(nn.Module):\n",
        "    def __init__(self, vocab_size, embed_dim, rnn_hidden_size, fc_hidden_size):\n",
        "        super().__init__()\n",
        "        self.embedding = nn.Embedding(vocab_size, \n",
        "                                      embed_dim, \n",
        "                                      padding_idx=0) \n",
        "        self.rnn = nn.LSTM(embed_dim, rnn_hidden_size, \n",
        "                           batch_first=True)\n",
        "        self.fc1 = nn.Linear(rnn_hidden_size, fc_hidden_size)\n",
        "        self.relu = nn.ReLU()\n",
        "        self.fc2 = nn.Linear(fc_hidden_size, num_classes)\n",
        "        self.sigmoid = nn.Sigmoid()\n",
        "\n",
        "    def forward(self, text, lengths):\n",
        "        out = self.embedding(text)\n",
        "        out = nn.utils.rnn.pack_padded_sequence(out, lengths.cpu().numpy(), enforce_sorted=False, batch_first=True)\n",
        "        out, (hidden, cell) = self.rnn(out)\n",
        "        out = hidden[-1, :, :]\n",
        "        out = self.fc1(out)\n",
        "        out = self.relu(out)\n",
        "        out = self.fc2(out)\n",
        "        out = self.sigmoid(out)\n",
        "        return out\n",
        "\n",
        "\n",
        "\n",
        "model3 = RNN_LSTM(vocab_size, embed_dim, rnn_hidden_size, fc_hidden_size) \n",
        "model3 = model3.to(device)"
      ]
    },
    {
      "cell_type": "code",
      "execution_count": null,
      "metadata": {
        "id": "X8vdR2OHIzno"
      },
      "outputs": [],
      "source": [
        "import numpy as np\n",
        "def train_LSTM(dataloader):\n",
        "    model3.train()\n",
        "    total_acc, total_loss = 0, 0\n",
        "    losses,acc_acum,nums=0,0,0\n",
        "\n",
        "    for text_batch, label_batch, lengths in dataloader:\n",
        "        optimizer.zero_grad()\n",
        "        y_test=label_batch.long()\n",
        "        y_pred = torch.argmax(model3(text_batch, lengths), 1)\n",
        "\n",
        "        pred = model3(text_batch, lengths)\n",
        "        loss = loss_func(pred, y_test)\n",
        "        loss.backward()\n",
        "        optimizer.step()\n",
        "  \n",
        "        total_acc += (y_pred == label_batch).float().sum().item()\n",
        "        total_loss += loss.item()*label_batch.size(0)\n",
        "\n",
        "    return total_acc/len(dataloader.dataset), total_loss/len(dataloader.dataset)\n",
        "\n",
        "def evaluate_LSTM(dataloader):\n",
        "    model3.eval()\n",
        "    total_acc, total_loss = 0, 0\n",
        "    with torch.no_grad():\n",
        "        for text_batch, label_batch, lengths in dataloader:\n",
        "            #revisar funcion de perdida\n",
        "            y_pred = torch.argmax(model3(text_batch, lengths), 1)\n",
        "            y_test=label_batch.long()\n",
        "            pred = model3(text_batch, lengths)\n",
        "            loss = loss_func(pred, y_test)\n",
        "            total_acc += (y_pred == label_batch).float().sum().item()\n",
        "            total_loss += loss.item()*label_batch.size(0)\n",
        "    return total_acc/len(dataloader.dataset), total_loss/len(dataloader.dataset)"
      ]
    },
    {
      "cell_type": "code",
      "execution_count": null,
      "metadata": {
        "colab": {
          "base_uri": "https://localhost:8080/",
          "height": 1000
        },
        "id": "ASSvYJV3I9eg",
        "outputId": "89cf1b76-2281-43a6-e4ad-acf4e4ed2a78"
      },
      "outputs": [
        {
          "name": "stdout",
          "output_type": "stream",
          "text": [
            "epoch: 0,    train_loss: 1.3904     valid_loss: 1.3893, valid_acc: 0.1963\n",
            "epoch: 10,    train_loss: 1.3881     valid_loss: 1.3882, valid_acc: 0.2025\n",
            "epoch: 20,    train_loss: 1.3861     valid_loss: 1.3870, valid_acc: 0.2270\n",
            "epoch: 30,    train_loss: 1.3842     valid_loss: 1.3859, valid_acc: 0.2454\n",
            "epoch: 40,    train_loss: 1.3821     valid_loss: 1.3846, valid_acc: 0.2270\n",
            "epoch: 50,    train_loss: 1.3796     valid_loss: 1.3832, valid_acc: 0.2393\n",
            "epoch: 60,    train_loss: 1.3768     valid_loss: 1.3817, valid_acc: 0.2883\n",
            "epoch: 70,    train_loss: 1.3735     valid_loss: 1.3797, valid_acc: 0.3436\n",
            "epoch: 80,    train_loss: 1.3694     valid_loss: 1.3773, valid_acc: 0.3681\n",
            "epoch: 90,    train_loss: 1.3644     valid_loss: 1.3743, valid_acc: 0.3865\n",
            "epoch: 100,    train_loss: 1.3579     valid_loss: 1.3704, valid_acc: 0.4233\n",
            "epoch: 110,    train_loss: 1.3490     valid_loss: 1.3654, valid_acc: 0.3988\n",
            "epoch: 120,    train_loss: 1.3379     valid_loss: 1.3586, valid_acc: 0.4172\n",
            "epoch: 130,    train_loss: 1.3230     valid_loss: 1.3498, valid_acc: 0.3988\n",
            "epoch: 140,    train_loss: 1.3040     valid_loss: 1.3393, valid_acc: 0.4049\n",
            "epoch: 150,    train_loss: 1.2802     valid_loss: 1.3292, valid_acc: 0.3988\n",
            "epoch: 160,    train_loss: 1.2547     valid_loss: 1.3186, valid_acc: 0.3865\n",
            "epoch: 170,    train_loss: 1.2265     valid_loss: 1.3064, valid_acc: 0.4110\n",
            "epoch: 180,    train_loss: 1.1947     valid_loss: 1.2960, valid_acc: 0.4294\n",
            "epoch: 190,    train_loss: 1.1650     valid_loss: 1.2880, valid_acc: 0.4540\n",
            "epoch: 200,    train_loss: 1.1367     valid_loss: 1.2809, valid_acc: 0.4479\n",
            "epoch: 210,    train_loss: 1.1091     valid_loss: 1.2750, valid_acc: 0.4601\n",
            "epoch: 220,    train_loss: 1.0828     valid_loss: 1.2714, valid_acc: 0.4417\n",
            "epoch: 230,    train_loss: 1.0609     valid_loss: 1.2685, valid_acc: 0.4479\n",
            "epoch: 240,    train_loss: 1.0405     valid_loss: 1.2629, valid_acc: 0.4540\n",
            "epoch: 250,    train_loss: 1.0209     valid_loss: 1.2575, valid_acc: 0.4417\n",
            "epoch: 260,    train_loss: 1.0030     valid_loss: 1.2534, valid_acc: 0.4540\n",
            "epoch: 270,    train_loss: 0.9854     valid_loss: 1.2480, valid_acc: 0.4540\n",
            "epoch: 280,    train_loss: 0.9676     valid_loss: 1.2494, valid_acc: 0.4479\n",
            "epoch: 290,    train_loss: 0.9517     valid_loss: 1.2487, valid_acc: 0.4540\n",
            "epoch: 300,    train_loss: 0.9367     valid_loss: 1.2426, valid_acc: 0.4847\n",
            "epoch: 310,    train_loss: 0.9229     valid_loss: 1.2384, valid_acc: 0.4785\n",
            "epoch: 320,    train_loss: 0.9101     valid_loss: 1.2297, valid_acc: 0.4969\n",
            "epoch: 330,    train_loss: 0.8981     valid_loss: 1.2405, valid_acc: 0.4847\n",
            "epoch: 340,    train_loss: 0.8887     valid_loss: 1.2281, valid_acc: 0.5031\n",
            "epoch: 350,    train_loss: 0.8799     valid_loss: 1.2271, valid_acc: 0.4969\n",
            "epoch: 360,    train_loss: 0.8723     valid_loss: 1.2357, valid_acc: 0.4847\n",
            "epoch: 370,    train_loss: 0.8650     valid_loss: 1.2300, valid_acc: 0.4908\n",
            "epoch: 380,    train_loss: 0.8578     valid_loss: 1.2279, valid_acc: 0.5031\n",
            "epoch: 390,    train_loss: 0.8511     valid_loss: 1.2307, valid_acc: 0.5031\n",
            "epoch: 400,    train_loss: 0.8435     valid_loss: 1.2317, valid_acc: 0.4969\n",
            "epoch: 410,    train_loss: 0.8353     valid_loss: 1.2238, valid_acc: 0.5153\n",
            "epoch: 420,    train_loss: 0.8281     valid_loss: 1.2240, valid_acc: 0.5153\n",
            "epoch: 430,    train_loss: 0.8222     valid_loss: 1.2262, valid_acc: 0.5153\n",
            "epoch: 440,    train_loss: 0.8165     valid_loss: 1.2231, valid_acc: 0.5153\n",
            "epoch: 450,    train_loss: 0.8105     valid_loss: 1.2280, valid_acc: 0.5031\n",
            "epoch: 460,    train_loss: 0.8048     valid_loss: 1.2349, valid_acc: 0.4969\n",
            "epoch: 470,    train_loss: 0.7995     valid_loss: 1.2237, valid_acc: 0.5031\n",
            "epoch: 480,    train_loss: 0.7954     valid_loss: 1.2141, valid_acc: 0.5092\n",
            "epoch: 490,    train_loss: 0.7910     valid_loss: 1.2203, valid_acc: 0.4969\n"
          ]
        },
        {
          "data": {
            "text/plain": [
              "<matplotlib.legend.Legend at 0x7f79e26fbe50>"
            ]
          },
          "execution_count": 223,
          "metadata": {},
          "output_type": "execute_result"
        },
        {
          "data": {
            "image/png": "[encoded data removed]",
            "text/plain": [
              "<Figure size 432x288 with 1 Axes>"
            ]
          },
          "metadata": {
            "needs_background": "light"
          },
          "output_type": "display_data"
        }
      ],
      "source": [
        "import matplotlib.pyplot as plt\n",
        "import torch.nn.functional as F\n",
        "#loss_fn = nn.CrossEntropyLoss()\n",
        "\n",
        "loss_func = F.cross_entropy\n",
        "optimizer = torch.optim.Adam(model3.parameters(), lr=lr)\n",
        "\n",
        "train_losses = []\n",
        "valid_losses = []\n",
        "\n",
        "for epoch in range(num_epochs):\n",
        "\n",
        "  if epoch % 10 == 0:\n",
        "    acc_train, loss_train = train_LSTM(train_dl)\n",
        "    acc_valid, loss_valid = evaluate_LSTM(valid_dl)\n",
        "    train_losses.append(loss_train)\n",
        "    valid_losses.append(loss_valid)\n",
        "    print(f\"epoch: {epoch},    train_loss: {loss_train:.4f} \\\n",
        "    valid_loss: {loss_valid:.4f}, valid_acc: {acc_valid:.4f}\")\n",
        "\n",
        "plt.plot(range(len(train_losses)), train_losses, 'r', label='train')\n",
        "plt.plot(range(len(train_losses)), valid_losses, 'b', label = 'valid')\n",
        "plt.legend()"
      ]
    },
    {
      "cell_type": "code",
      "execution_count": null,
      "metadata": {
        "colab": {
          "base_uri": "https://localhost:8080/"
        },
        "id": "ORxSVkiaLBRJ",
        "outputId": "1573c991-0ffd-4d53-f10f-6274e9e87d32"
      },
      "outputs": [
        {
          "name": "stdout",
          "output_type": "stream",
          "text": [
            "test_accuracy: 0.5115\n"
          ]
        }
      ],
      "source": [
        "acc_test, _ = evaluate_LSTM(test_dl)\n",
        "print(f'test_accuracy: {acc_test:.4f}') "
      ]
    },
    {
      "cell_type": "markdown",
      "metadata": {
        "id": "1lWJYOTwHP7b"
      },
      "source": [
        "Modelo 3.1: Red Neuronal Recurrente LSTM Bidireccional"
      ]
    },
    {
      "cell_type": "code",
      "execution_count": null,
      "metadata": {
        "id": "8gd--FYTHYjF"
      },
      "outputs": [],
      "source": [
        "class RNN_LSTM_BI(nn.Module):\n",
        "    def __init__(self, vocab_size, embed_dim, rnn_hidden_size, fc_hidden_size):\n",
        "        super().__init__()\n",
        "        self.embedding = nn.Embedding(vocab_size, \n",
        "                                      embed_dim, \n",
        "                                      padding_idx=0) \n",
        "        self.rnn = nn.LSTM(embed_dim, rnn_hidden_size, \n",
        "                           batch_first=True, bidirectional=True)\n",
        "        self.fc1 = nn.Linear(rnn_hidden_size*2, fc_hidden_size)\n",
        "        self.relu = nn.ReLU()\n",
        "        self.fc2 = nn.Linear(fc_hidden_size, num_classes)\n",
        "        self.sigmoid = nn.Sigmoid()\n",
        "\n",
        "    def forward(self, text, lengths):\n",
        "        out = self.embedding(text)\n",
        "        out = nn.utils.rnn.pack_padded_sequence(out, lengths.cpu().numpy(), enforce_sorted=False, batch_first=True)\n",
        "        _, (hidden, cell) = self.rnn(out)\n",
        "        out = torch.cat((hidden[-2, :, :], hidden[-1, :, :]), dim=1)\n",
        "        out = self.fc1(out)\n",
        "        out = self.relu(out)\n",
        "        out = self.fc2(out)\n",
        "        out = self.sigmoid(out)\n",
        "        return out\n",
        "    \n",
        "\n",
        "model3_1 = RNN_LSTM_BI(vocab_size, embed_dim, rnn_hidden_size, fc_hidden_size) \n",
        "model3_1 = model3_1.to(device)"
      ]
    },
    {
      "cell_type": "code",
      "execution_count": null,
      "metadata": {
        "id": "ZAKecJ9CHl19"
      },
      "outputs": [],
      "source": [
        "import numpy as np\n",
        "def train_LSTM_BI(dataloader):\n",
        "    model3_1.train()\n",
        "    total_acc, total_loss = 0, 0\n",
        "    losses,acc_acum,nums=0,0,0\n",
        "\n",
        "    for text_batch, label_batch, lengths in dataloader:\n",
        "        optimizer.zero_grad()\n",
        "        y_test=label_batch.long()\n",
        "        y_pred = torch.argmax(model3_1(text_batch, lengths), 1)\n",
        "\n",
        "        pred = model3_1(text_batch, lengths)\n",
        "        loss = loss_func(pred, y_test)\n",
        "        loss.backward()\n",
        "        optimizer.step()\n",
        "  \n",
        "        total_acc += (y_pred == label_batch).float().sum().item()\n",
        "        total_loss += loss.item()*label_batch.size(0)\n",
        "\n",
        "    return total_acc/len(dataloader.dataset), total_loss/len(dataloader.dataset)\n",
        "\n",
        "def evaluate_LSTM_BI(dataloader):\n",
        "    model3_1.eval()\n",
        "    total_acc, total_loss = 0, 0\n",
        "    with torch.no_grad():\n",
        "        for text_batch, label_batch, lengths in dataloader:\n",
        "            #revisar funcion de perdida\n",
        "            y_pred = torch.argmax(model3_1(text_batch, lengths), 1)\n",
        "            y_test=label_batch.long()\n",
        "            pred = model3_1(text_batch, lengths)\n",
        "            loss = loss_func(pred, y_test)\n",
        "            total_acc += (y_pred == label_batch).float().sum().item()\n",
        "            total_loss += loss.item()*label_batch.size(0)\n",
        "    return total_acc/len(dataloader.dataset), total_loss/len(dataloader.dataset)"
      ]
    },
    {
      "cell_type": "code",
      "execution_count": null,
      "metadata": {
        "colab": {
          "base_uri": "https://localhost:8080/",
          "height": 1000
        },
        "id": "RjSNt616Hwo-",
        "outputId": "d66ad7b6-f79f-451c-9fad-d04af5d1bcb1"
      },
      "outputs": [
        {
          "name": "stdout",
          "output_type": "stream",
          "text": [
            "epoch: 0,    train_loss: 1.3798     valid_loss: 1.3811, valid_acc: 0.3681\n",
            "epoch: 10,    train_loss: 1.3762     valid_loss: 1.3788, valid_acc: 0.4356\n",
            "epoch: 20,    train_loss: 1.3724     valid_loss: 1.3762, valid_acc: 0.4110\n",
            "epoch: 30,    train_loss: 1.3678     valid_loss: 1.3729, valid_acc: 0.3926\n",
            "epoch: 40,    train_loss: 1.3621     valid_loss: 1.3689, valid_acc: 0.3926\n",
            "epoch: 50,    train_loss: 1.3549     valid_loss: 1.3638, valid_acc: 0.3926\n",
            "epoch: 60,    train_loss: 1.3457     valid_loss: 1.3574, valid_acc: 0.3804\n",
            "epoch: 70,    train_loss: 1.3336     valid_loss: 1.3492, valid_acc: 0.3742\n",
            "epoch: 80,    train_loss: 1.3182     valid_loss: 1.3392, valid_acc: 0.3681\n",
            "epoch: 90,    train_loss: 1.2975     valid_loss: 1.3279, valid_acc: 0.3681\n",
            "epoch: 100,    train_loss: 1.2720     valid_loss: 1.3166, valid_acc: 0.3681\n",
            "epoch: 110,    train_loss: 1.2430     valid_loss: 1.3062, valid_acc: 0.3742\n",
            "epoch: 120,    train_loss: 1.2108     valid_loss: 1.2924, valid_acc: 0.3742\n",
            "epoch: 130,    train_loss: 1.1758     valid_loss: 1.2744, valid_acc: 0.4172\n",
            "epoch: 140,    train_loss: 1.1382     valid_loss: 1.2601, valid_acc: 0.4294\n",
            "epoch: 150,    train_loss: 1.0996     valid_loss: 1.2558, valid_acc: 0.4417\n",
            "epoch: 160,    train_loss: 1.0631     valid_loss: 1.2530, valid_acc: 0.4417\n",
            "epoch: 170,    train_loss: 1.0271     valid_loss: 1.2539, valid_acc: 0.4294\n",
            "epoch: 180,    train_loss: 0.9925     valid_loss: 1.2448, valid_acc: 0.4540\n",
            "epoch: 190,    train_loss: 0.9606     valid_loss: 1.2460, valid_acc: 0.4417\n",
            "epoch: 200,    train_loss: 0.9294     valid_loss: 1.2548, valid_acc: 0.4540\n",
            "epoch: 210,    train_loss: 0.9032     valid_loss: 1.2478, valid_acc: 0.4540\n",
            "epoch: 220,    train_loss: 0.8792     valid_loss: 1.2376, valid_acc: 0.4724\n",
            "epoch: 230,    train_loss: 0.8588     valid_loss: 1.2502, valid_acc: 0.4479\n",
            "epoch: 240,    train_loss: 0.8409     valid_loss: 1.2540, valid_acc: 0.4356\n",
            "epoch: 250,    train_loss: 0.8251     valid_loss: 1.2451, valid_acc: 0.4356\n",
            "epoch: 260,    train_loss: 0.8127     valid_loss: 1.2444, valid_acc: 0.4356\n",
            "epoch: 270,    train_loss: 0.8016     valid_loss: 1.2555, valid_acc: 0.4356\n",
            "epoch: 280,    train_loss: 0.7933     valid_loss: 1.2544, valid_acc: 0.4356\n",
            "epoch: 290,    train_loss: 0.7858     valid_loss: 1.2543, valid_acc: 0.4417\n",
            "epoch: 300,    train_loss: 0.7801     valid_loss: 1.2561, valid_acc: 0.4417\n",
            "epoch: 310,    train_loss: 0.7750     valid_loss: 1.2637, valid_acc: 0.4294\n",
            "epoch: 320,    train_loss: 0.7708     valid_loss: 1.2669, valid_acc: 0.4294\n",
            "epoch: 330,    train_loss: 0.7671     valid_loss: 1.2681, valid_acc: 0.4294\n",
            "epoch: 340,    train_loss: 0.7640     valid_loss: 1.2675, valid_acc: 0.4356\n",
            "epoch: 350,    train_loss: 0.7613     valid_loss: 1.2672, valid_acc: 0.4356\n",
            "epoch: 360,    train_loss: 0.7583     valid_loss: 1.2668, valid_acc: 0.4417\n",
            "epoch: 370,    train_loss: 0.7563     valid_loss: 1.2703, valid_acc: 0.4356\n",
            "epoch: 380,    train_loss: 0.7550     valid_loss: 1.2746, valid_acc: 0.4294\n",
            "epoch: 390,    train_loss: 0.7539     valid_loss: 1.2766, valid_acc: 0.4356\n",
            "epoch: 400,    train_loss: 0.7530     valid_loss: 1.2752, valid_acc: 0.4356\n",
            "epoch: 410,    train_loss: 0.7523     valid_loss: 1.2732, valid_acc: 0.4417\n",
            "epoch: 420,    train_loss: 0.7517     valid_loss: 1.2718, valid_acc: 0.4417\n",
            "epoch: 430,    train_loss: 0.7512     valid_loss: 1.2703, valid_acc: 0.4417\n",
            "epoch: 440,    train_loss: 0.7504     valid_loss: 1.2691, valid_acc: 0.4479\n",
            "epoch: 450,    train_loss: 0.7497     valid_loss: 1.2676, valid_acc: 0.4601\n",
            "epoch: 460,    train_loss: 0.7494     valid_loss: 1.2702, valid_acc: 0.4601\n",
            "epoch: 470,    train_loss: 0.7490     valid_loss: 1.2730, valid_acc: 0.4479\n",
            "epoch: 480,    train_loss: 0.7488     valid_loss: 1.2742, valid_acc: 0.4294\n",
            "epoch: 490,    train_loss: 0.7486     valid_loss: 1.2740, valid_acc: 0.4294\n"
          ]
        },
        {
          "data": {
            "text/plain": [
              "<matplotlib.legend.Legend at 0x7f79e268be10>"
            ]
          },
          "execution_count": 230,
          "metadata": {},
          "output_type": "execute_result"
        },
        {
          "data": {
            "image/png": "[encoded data removed]",
            "text/plain": [
              "<Figure size 432x288 with 1 Axes>"
            ]
          },
          "metadata": {
            "needs_background": "light"
          },
          "output_type": "display_data"
        }
      ],
      "source": [
        "import matplotlib.pyplot as plt\n",
        "import torch.nn.functional as F\n",
        "#loss_fn = nn.CrossEntropyLoss()\n",
        "\n",
        "loss_func = F.cross_entropy\n",
        "optimizer = torch.optim.Adam(model3_1.parameters(), lr=lr)\n",
        "\n",
        "train_losses = []\n",
        "valid_losses = []\n",
        "\n",
        "for epoch in range(num_epochs):\n",
        "\n",
        "  if epoch % 10 == 0:\n",
        "    acc_train, loss_train = train_LSTM_BI(train_dl)\n",
        "    acc_valid, loss_valid = evaluate_LSTM_BI(valid_dl)\n",
        "    train_losses.append(loss_train)\n",
        "    valid_losses.append(loss_valid)\n",
        "    print(f\"epoch: {epoch},    train_loss: {loss_train:.4f} \\\n",
        "    valid_loss: {loss_valid:.4f}, valid_acc: {acc_valid:.4f}\")\n",
        "\n",
        "plt.plot(range(len(train_losses)), train_losses, 'r', label='train')\n",
        "plt.plot(range(len(train_losses)), valid_losses, 'b', label = 'valid')\n",
        "plt.legend()"
      ]
    },
    {
      "cell_type": "code",
      "execution_count": null,
      "metadata": {
        "colab": {
          "base_uri": "https://localhost:8080/"
        },
        "id": "DE8AkFPwIKGK",
        "outputId": "02dd7a0b-695f-4717-a891-aa09070d8332"
      },
      "outputs": [
        {
          "name": "stdout",
          "output_type": "stream",
          "text": [
            "test_accuracy: 0.3994\n"
          ]
        }
      ],
      "source": [
        "acc_test, _ = evaluate_LSTM_BI(test_dl)\n",
        "print(f'test_accuracy: {acc_test:.4f}') "
      ]
    },
    {
      "cell_type": "markdown",
      "metadata": {
        "id": "4Pj40Rt8OFBv"
      },
      "source": [
        "## Ejercicio 2.\n",
        "Ahora proceda a actualizar el ejercicio 5 del taller 3, pero usando RNNs. Es decir, debe solucionar un problema de Name Entity Recognition (NER), con un dataset pequeño creado por ustedes (con varias entidades), pero usando redes recurrentes (RNN básica, LSTM, GRU). Use GRU o LSTM.\n",
        "\n",
        "Este ejercicio es en realidad más simple que el del anterior taller, ya que no hay necesidad de organizar las sentencias centradas en cada palabra, sino que se toma directamente cada frase (o secuencia). \n",
        "\n",
        "Lo importante ahora, es utilizar todos los estados de salida de la red recurrente y llevarlos a una capa lineal de clasificación. \n",
        "\n",
        "[Este tutorial](https://pytorch.org/tutorials/beginner/nlp/sequence_models_tutorial.html) le puede ser muy útil para desarrollar este punto. "
      ]
    },
    {
      "cell_type": "markdown",
      "metadata": {
        "id": "gOXSBrJTOFBv"
      },
      "source": [
        "### Nota: puede usar las herramientas de pytorch para crear el vocabulario, y las herramientas de relleno (pad)"
      ]
    },
    {
      "cell_type": "markdown",
      "metadata": {
        "id": "RczxL4GUSojh"
      },
      "source": [
        "**Paso 1: Preparacion de los datos**"
      ]
    },
    {
      "cell_type": "code",
      "execution_count": 1,
      "metadata": {
        "id": "SK3B6UJ0Seyp"
      },
      "outputs": [],
      "source": [
        "# Nuestros datos sin procesar, que consisten en oraciones\n",
        "corpus = [\n",
        "          \"La gratitud es la memoria del corazón\",\n",
        "          \"Tu sueño nunca se desvanecerá si no le dejas marchar\",\n",
        "          \"Reciclar es muy importante en el mundo\",\n",
        "          \"Tu vivencia más difícil es tu mejor maestra\",\n",
        "          \"La esperanza es lo último que se pierde\",\n",
        "          \"Tu libertad termina donde empieza la de los demás\",\n",
        "          \"Sin sacrificio no hay victoria\"\n",
        "         ]"
      ]
    },
    {
      "cell_type": "code",
      "execution_count": 2,
      "metadata": {
        "id": "G4FAiL5oaqJh"
      },
      "outputs": [],
      "source": [
        "import re\n",
        "from unicodedata import normalize\n",
        "def quitartildes(s):\n",
        "    # -> NFD y eliminar diacríticos\n",
        "    s = re.sub(\n",
        "            r\"([^n\\u0300-\\u036f]|n(?!\\u0303(?![\\u0300-\\u036f])))[\\u0300-\\u036f]+\", r\"\\1\", \n",
        "            normalize( \"NFD\", s), 0, re.I\n",
        "        )\n",
        "\n",
        "    # -> NFCNosotros\n",
        "    return normalize( 'NFC', s)\n",
        "\n",
        "\n",
        "# La función de preprocesamiento que usaremos para generar nuestros ejemplos de entrenamiento\n",
        "# Nuestra función es simple, ponemos las letras en minúsculas, quitamos tildes\n",
        "# y luego tokenizamos las palabras.\n",
        "def preprocess_sentence(sentence):\n",
        "  return quitartildes(sentence).lower().split()\n"
      ]
    },
    {
      "cell_type": "code",
      "execution_count": 3,
      "metadata": {
        "colab": {
          "base_uri": "https://localhost:8080/"
        },
        "id": "LeUIVD1hXRbd",
        "outputId": "61129fd4-c625-4b08-966c-7a775c4176fc"
      },
      "outputs": [
        {
          "name": "stdout",
          "output_type": "stream",
          "text": [
            "\u001b[38;5;3m⚠ As of spaCy v3.0, shortcuts like 'es' are deprecated. Please use the\n",
            "full pipeline package name 'es_core_news_sm' instead.\u001b[0m\n",
            "\u001b[38;5;2m✔ Download and installation successful\u001b[0m\n",
            "You can now load the package via spacy.load('es_core_news_sm')\n"
          ]
        }
      ],
      "source": [
        "#importar libreria de spacy y el corpus de español\n",
        "import spacy\n",
        "spacy.cli.download(\"es\")\n",
        "nlp=spacy.load(\"es_core_news_sm\")"
      ]
    },
    {
      "cell_type": "code",
      "execution_count": 4,
      "metadata": {
        "colab": {
          "base_uri": "https://localhost:8080/"
        },
        "id": "ox4Aw6RkXULd",
        "outputId": "cdf3b65d-1261-49b0-f97e-8093b0b7fe9d"
      },
      "outputs": [
        {
          "data": {
            "text/plain": [
              "[['gratitud', 'gratitud', 'NOUN', 'NOUN', '', False],\n",
              " ['es', 'ser', 'AUX', 'AUX', '', True],\n",
              " ['la', 'el', 'DET', 'DET', '', True],\n",
              " ['memoria', 'memoria', 'NOUN', 'NOUN', '', False],\n",
              " ['del', 'del', 'ADP', 'ADP', '', True],\n",
              " ['corazon', 'corazon', 'NOUN', 'NOUN', '', False],\n",
              " ['tu', 'tu', 'DET', 'DET', '', True],\n",
              " ['sueño', 'sueño', 'NOUN', 'NOUN', '', False],\n",
              " ['nunca', 'nunca', 'ADV', 'ADV', '', True],\n",
              " ['se', 'él', 'PRON', 'PRON', '', True],\n",
              " ['desvanecera', 'desvanecerar', 'VERB', 'VERB', '', False],\n",
              " ['si', 'si', 'SCONJ', 'SCONJ', '', True],\n",
              " ['no', 'no', 'ADV', 'ADV', '', True],\n",
              " ['le', 'él', 'PRON', 'PRON', '', True],\n",
              " ['dejas', 'dejar', 'VERB', 'VERB', '', False],\n",
              " ['marchar', 'marchar', 'VERB', 'VERB', '', False],\n",
              " ['reciclar', 'reciclar', 'VERB', 'VERB', '', False],\n",
              " ['es', 'ser', 'AUX', 'AUX', '', True],\n",
              " ['muy', 'mucho', 'ADV', 'ADV', '', True],\n",
              " ['importante', 'importante', 'ADJ', 'ADJ', '', False],\n",
              " ['en', 'en', 'ADP', 'ADP', '', True],\n",
              " ['el', 'el', 'DET', 'DET', '', True],\n",
              " ['mundo', 'mundo', 'NOUN', 'NOUN', '', False],\n",
              " ['tu', 'tu', 'DET', 'DET', '', True],\n",
              " ['vivencia', 'vivencia', 'NOUN', 'NOUN', '', False],\n",
              " ['mas', 'mas', 'ADV', 'ADV', '', True],\n",
              " ['dificil', 'dificil', 'ADJ', 'ADJ', '', False],\n",
              " ['es', 'ser', 'AUX', 'AUX', '', True],\n",
              " ['tu', 'tu', 'DET', 'DET', '', True],\n",
              " ['mejor', 'mejor', 'ADJ', 'ADJ', '', True],\n",
              " ['maestra', 'maestrar', 'VERB', 'VERB', '', False],\n",
              " ['la', 'el', 'DET', 'DET', '', True],\n",
              " ['esperanza', 'esperanza', 'NOUN', 'NOUN', '', False],\n",
              " ['es', 'ser', 'AUX', 'AUX', '', True],\n",
              " ['lo', 'él', 'PRON', 'PRON', '', True],\n",
              " ['ultimo', 'ultimo', 'ADJ', 'ADJ', '', True],\n",
              " ['que', 'que', 'PRON', 'PRON', '', True],\n",
              " ['se', 'él', 'PRON', 'PRON', '', True],\n",
              " ['pierde', 'perder', 'VERB', 'VERB', '', False],\n",
              " ['tu', 'tu', 'DET', 'DET', '', True],\n",
              " ['libertad', 'libertad', 'NOUN', 'NOUN', '', False],\n",
              " ['termina', 'termín', 'ADJ', 'ADJ', '', False],\n",
              " ['donde', 'donde', 'PRON', 'PRON', '', True],\n",
              " ['empieza', 'empezar', 'VERB', 'VERB', '', False],\n",
              " ['la', 'el', 'DET', 'DET', '', True],\n",
              " ['de', 'de', 'ADP', 'ADP', '', True],\n",
              " ['los', 'el', 'DET', 'DET', '', True],\n",
              " ['demas', 'dema', 'NOUN', 'NOUN', '', False],\n",
              " ['sin', 'sin', 'ADP', 'ADP', '', True],\n",
              " ['sacrificio', 'sacrificio', 'NOUN', 'NOUN', '', False],\n",
              " ['no', 'no', 'ADV', 'ADV', '', True],\n",
              " ['hay', 'haber', 'AUX', 'AUX', '', True],\n",
              " ['victoria', 'victoria', 'NOUN', 'NOUN', '', False]]"
            ]
          },
          "execution_count": 4,
          "metadata": {},
          "output_type": "execute_result"
        }
      ],
      "source": [
        "#tokenizar el corpus\n",
        "base=\" \".join(corpus).lower()\n",
        "base=base=quitartildes(base)\n",
        "doc1=nlp(base)\n",
        "\n",
        "partes=[]\n",
        "for x in range(1,len(doc1)):\n",
        "    partes.append([doc1[x].text, doc1[x].lemma_,doc1[x].pos_, doc1[x].tag_, doc1[x].ent_type_,doc1[x].is_stop])\n",
        "partes"
      ]
    },
    {
      "cell_type": "code",
      "execution_count": 5,
      "metadata": {
        "colab": {
          "base_uri": "https://localhost:8080/"
        },
        "id": "XXGtXgFu-MPy",
        "outputId": "36fccdf0-9f3a-4de1-8fdb-ebff3995d1c7"
      },
      "outputs": [
        {
          "data": {
            "text/plain": [
              "[['la', 'gratitud', 'es', 'la', 'memoria', 'del', 'corazon'],\n",
              " ['tu',\n",
              "  'sueño',\n",
              "  'nunca',\n",
              "  'se',\n",
              "  'desvanecera',\n",
              "  'si',\n",
              "  'no',\n",
              "  'le',\n",
              "  'dejas',\n",
              "  'marchar'],\n",
              " ['reciclar', 'es', 'muy', 'importante', 'en', 'el', 'mundo'],\n",
              " ['tu', 'vivencia', 'mas', 'dificil', 'es', 'tu', 'mejor', 'maestra'],\n",
              " ['la', 'esperanza', 'es', 'lo', 'ultimo', 'que', 'se', 'pierde'],\n",
              " ['tu', 'libertad', 'termina', 'donde', 'empieza', 'la', 'de', 'los', 'demas'],\n",
              " ['sin', 'sacrificio', 'no', 'hay', 'victoria']]"
            ]
          },
          "execution_count": 5,
          "metadata": {},
          "output_type": "execute_result"
        }
      ],
      "source": [
        "# Crea nuestro conjunto de entrenamiento\n",
        "train_sentences = [preprocess_sentence(sent) for sent in corpus]\n",
        "train_sentences"
      ]
    },
    {
      "cell_type": "code",
      "execution_count": 6,
      "metadata": {
        "id": "V1MDPAoOcLzW"
      },
      "outputs": [],
      "source": [
        "def buscar_POS(word):\n",
        "  pos=\"OTHER\"\n",
        "  for i in range(len(partes)):\n",
        "      if partes[i][0]==word:\n",
        "        pos=partes[i][2]\n",
        "        break\n",
        "  return pos"
      ]
    },
    {
      "cell_type": "code",
      "execution_count": 7,
      "metadata": {
        "colab": {
          "base_uri": "https://localhost:8080/"
        },
        "id": "LoT82WqLcqXj",
        "outputId": "ce7301ea-4f20-4f9b-af6b-42a3bfe993cd"
      },
      "outputs": [
        {
          "data": {
            "text/plain": [
              "[['DET', 'NOUN', 'AUX', 'DET', 'NOUN', 'ADP', 'NOUN'],\n",
              " ['DET',\n",
              "  'NOUN',\n",
              "  'ADV',\n",
              "  'PRON',\n",
              "  'VERB',\n",
              "  'SCONJ',\n",
              "  'ADV',\n",
              "  'PRON',\n",
              "  'VERB',\n",
              "  'VERB'],\n",
              " ['VERB', 'AUX', 'ADV', 'ADJ', 'ADP', 'DET', 'NOUN'],\n",
              " ['DET', 'NOUN', 'ADV', 'ADJ', 'AUX', 'DET', 'ADJ', 'VERB'],\n",
              " ['DET', 'NOUN', 'AUX', 'PRON', 'ADJ', 'PRON', 'PRON', 'VERB'],\n",
              " ['DET', 'NOUN', 'ADJ', 'PRON', 'VERB', 'DET', 'ADP', 'DET', 'NOUN'],\n",
              " ['ADP', 'NOUN', 'ADV', 'AUX', 'NOUN']]"
            ]
          },
          "execution_count": 7,
          "metadata": {},
          "output_type": "execute_result"
        }
      ],
      "source": [
        "# Nuestras etiquetas de entrenamiento\n",
        "train_labels = [[buscar_POS(word) for word in sent] for sent in train_sentences]\n",
        "train_labels"
      ]
    },
    {
      "cell_type": "code",
      "execution_count": 8,
      "metadata": {
        "id": "Mt_bMlLwcftN"
      },
      "outputs": [],
      "source": [
        "# Encuentra todas las palabras únicas en nuestro corpus\n",
        "vocabulary = set(w for s in train_sentences for w in s)\n",
        "\n",
        "# Agrega el token desconocido a nuestro vocabulario\n",
        "vocabulary.add(\"<unk>\")\n",
        "\n",
        "# Agregua el token <pad> a nuestro vocabulario\n",
        "vocabulary.add(\"<pad>\")"
      ]
    },
    {
      "cell_type": "code",
      "execution_count": 9,
      "metadata": {
        "colab": {
          "base_uri": "https://localhost:8080/"
        },
        "id": "sMH-FdtHcyhI",
        "outputId": "aa56fd89-9356-470d-c64d-129e00504731"
      },
      "outputs": [
        {
          "data": {
            "text/plain": [
              "{'<pad>': 0,\n",
              " '<unk>': 1,\n",
              " 'corazon': 2,\n",
              " 'de': 3,\n",
              " 'dejas': 4,\n",
              " 'del': 5,\n",
              " 'demas': 6,\n",
              " 'desvanecera': 7,\n",
              " 'dificil': 8,\n",
              " 'donde': 9,\n",
              " 'el': 10,\n",
              " 'empieza': 11,\n",
              " 'en': 12,\n",
              " 'es': 13,\n",
              " 'esperanza': 14,\n",
              " 'gratitud': 15,\n",
              " 'hay': 16,\n",
              " 'importante': 17,\n",
              " 'la': 18,\n",
              " 'le': 19,\n",
              " 'libertad': 20,\n",
              " 'lo': 21,\n",
              " 'los': 22,\n",
              " 'maestra': 23,\n",
              " 'marchar': 24,\n",
              " 'mas': 25,\n",
              " 'mejor': 26,\n",
              " 'memoria': 27,\n",
              " 'mundo': 28,\n",
              " 'muy': 29,\n",
              " 'no': 30,\n",
              " 'nunca': 31,\n",
              " 'pierde': 32,\n",
              " 'que': 33,\n",
              " 'reciclar': 34,\n",
              " 'sacrificio': 35,\n",
              " 'se': 36,\n",
              " 'si': 37,\n",
              " 'sin': 38,\n",
              " 'sueño': 39,\n",
              " 'termina': 40,\n",
              " 'tu': 41,\n",
              " 'ultimo': 42,\n",
              " 'victoria': 43,\n",
              " 'vivencia': 44}"
            ]
          },
          "execution_count": 9,
          "metadata": {},
          "output_type": "execute_result"
        }
      ],
      "source": [
        "# Creando un diccionario para encontrar el índice de una palabra dada\n",
        "ix_to_word = sorted(list(vocabulary))\n",
        "word_to_ix = {word: ind for ind, word in enumerate(ix_to_word)}\n",
        "word_to_ix"
      ]
    },
    {
      "cell_type": "code",
      "execution_count": 10,
      "metadata": {
        "colab": {
          "base_uri": "https://localhost:8080/"
        },
        "id": "2k26VBCHftzy",
        "outputId": "e5aa00fe-0d15-40ed-e189-cf4338d8e795"
      },
      "outputs": [
        {
          "data": {
            "text/plain": [
              "{'PRON': 0,\n",
              " 'SCONJ': 1,\n",
              " 'ADV': 2,\n",
              " 'ADP': 3,\n",
              " 'VERB': 4,\n",
              " 'AUX': 5,\n",
              " 'ADJ': 6,\n",
              " 'OTHER': 7,\n",
              " 'DET': 8,\n",
              " 'NOUN': 9}"
            ]
          },
          "execution_count": 10,
          "metadata": {},
          "output_type": "execute_result"
        }
      ],
      "source": [
        "#ETIQUETADO\n",
        "\n",
        "ix_to_tag=set([item[2] for item in partes])\n",
        "ix_to_tag.add(\"OTHER\")\n",
        "tag_to_ix = {tag: ind for ind, tag in enumerate(ix_to_tag)}\n",
        "tag_to_ix"
      ]
    },
    {
      "cell_type": "code",
      "execution_count": 11,
      "metadata": {
        "id": "HntqhlChd-TI"
      },
      "outputs": [],
      "source": [
        "#Se requiere que todas las sentencias esten del mismo tamaño\n",
        "#se crea una funcion para rellenar las sentencias y el vector de etiquetas\n",
        "\n",
        "maxlength=max(len(sent) for sent in train_sentences)\n",
        "\n",
        "def rellenar(v1,word):\n",
        "  aux=[word for i in range(len(v1)+1,maxlength)]\n",
        "  v2=v1+aux\n",
        "  return v2\n",
        "\n",
        "#rellenar el corpus de prueba\n",
        "train_sentences2=[]\n",
        "for sent in train_sentences:\n",
        "  sent2=rellenar(sent,'<pad>')\n",
        "  train_sentences2.append(sent2)\n",
        "\n",
        "#como el etiquetado\n",
        "train_labels2=[]\n",
        "for sent in train_labels:\n",
        "  sent2=rellenar(sent,'OTHER')\n",
        "  train_labels2.append(sent2)\n",
        "\n",
        "#unir los dos dataset\n",
        "training_data=zip(train_sentences2,train_labels2)\n",
        "training_data=list(training_data)\n",
        "\n",
        "\n",
        "# These will usually be more like 32 or 64 dimensional.\n",
        "# We will keep them small, so we can see how the weights change as we train.\n",
        "EMBEDDING_DIM = 32\n",
        "HIDDEN_DIM = 50"
      ]
    },
    {
      "cell_type": "markdown",
      "metadata": {
        "id": "-ULgZGUNVuve"
      },
      "source": [
        "**Paso 2: Modelacion**"
      ]
    },
    {
      "cell_type": "code",
      "execution_count": 12,
      "metadata": {
        "id": "dyNwF1Z7VyDn"
      },
      "outputs": [],
      "source": [
        "import torch\n",
        "import torch.nn as nn\n",
        "\n",
        "class LSTMTagger(nn.Module):\n",
        "\n",
        "    def __init__(self, embedding_dim, hidden_dim, vocab_size, tagset_size):\n",
        "        super(LSTMTagger, self).__init__()\n",
        "        self.hidden_dim = hidden_dim\n",
        "\n",
        "        self.word_embeddings = nn.Embedding(vocab_size, embedding_dim)\n",
        "\n",
        "        # The LSTM takes word embeddings as inputs, and outputs hidden states\n",
        "        # with dimensionality hidden_dim.\n",
        "        self.lstm = nn.LSTM(embedding_dim, hidden_dim)\n",
        "\n",
        "        # The linear layer that maps from hidden state space to tag space\n",
        "        self.hidden2tag = nn.Linear(hidden_dim, tagset_size)\n",
        "\n",
        "    def forward(self, sentence):\n",
        "        embeds = self.word_embeddings(sentence)\n",
        "        lstm_out, _ = self.lstm(embeds.view(len(sentence), 1, -1))\n",
        "        tag_space = self.hidden2tag(lstm_out.view(len(sentence), -1))\n",
        "        tag_scores = F.log_softmax(tag_space, dim=1)\n",
        "        return tag_scores"
      ]
    },
    {
      "cell_type": "markdown",
      "metadata": {
        "id": "-sAg8rJVV3ov"
      },
      "source": [
        "**Paso 3: Entrenamiento**"
      ]
    },
    {
      "cell_type": "code",
      "execution_count": 13,
      "metadata": {
        "id": "oS634V5aV6lP"
      },
      "outputs": [],
      "source": [
        "import torch\n",
        "import torch.nn as nn\n",
        "import torch.nn.functional as F\n",
        "import torch.optim as optim\n",
        "\n",
        "\n",
        "\n",
        "torch.manual_seed(1)\n",
        "\n",
        "def prepare_sequence(seq, to_ix):\n",
        "    idxs = [to_ix[w] for w in seq]\n",
        "    return torch.tensor(idxs, dtype=torch.long)\n",
        "\n",
        "model = LSTMTagger(EMBEDDING_DIM, HIDDEN_DIM, len(word_to_ix), len(tag_to_ix))\n",
        "loss_function = nn.NLLLoss()\n",
        "optimizer = optim.Adam(model.parameters(), lr=0.001)\n",
        "\n",
        "for epoch in range(300):  # again, normally you would NOT do 300 epochs, it is toy data\n",
        "    for sentence, tags in training_data:\n",
        "        # Step 1. Remember that Pytorch accumulates gradients.\n",
        "        # We need to clear them out before each instance\n",
        "        model.zero_grad()\n",
        "\n",
        "        # Step 2. Get our inputs ready for the network, that is, turn them into\n",
        "        # Tensors of word indices.\n",
        "        sentence_in = prepare_sequence(sentence, word_to_ix)\n",
        "        targets = prepare_sequence(tags, tag_to_ix)\n",
        "\n",
        "        # Step 3. Run our forward pass.\n",
        "        tag_scores = model(sentence_in)\n",
        "\n",
        "        # Step 4. Compute the loss, gradients, and update the parameters by\n",
        "        #  calling optimizer.step()\n",
        "        loss = loss_function(tag_scores, targets)\n",
        "        loss.backward()\n",
        "        optimizer.step()\n"
      ]
    },
    {
      "cell_type": "markdown",
      "metadata": {
        "id": "0Kcm1tNRWilc"
      },
      "source": [
        "**Paso 4: Validacion**"
      ]
    },
    {
      "cell_type": "code",
      "execution_count": 14,
      "metadata": {
        "colab": {
          "base_uri": "https://localhost:8080/"
        },
        "id": "xOJvR8GtXGs_",
        "outputId": "533c52ae-2fad-4c5a-cc24-7f68342be2f9"
      },
      "outputs": [
        {
          "data": {
            "text/plain": [
              "['la', 'gratitud', 'es', 'la', 'memoria', 'del', 'corazon', '<pad>', '<pad>']"
            ]
          },
          "execution_count": 14,
          "metadata": {},
          "output_type": "execute_result"
        }
      ],
      "source": [
        "training_data[0][0]"
      ]
    },
    {
      "cell_type": "code",
      "execution_count": 15,
      "metadata": {
        "colab": {
          "base_uri": "https://localhost:8080/"
        },
        "id": "tjk1I6-tXug3",
        "outputId": "c8cd01fa-7582-4187-f9f5-8c125bb17882"
      },
      "outputs": [
        {
          "data": {
            "text/plain": [
              "['DET', 'NOUN', 'AUX', 'DET', 'NOUN', 'ADP', 'NOUN', 'OTHER', 'OTHER']"
            ]
          },
          "execution_count": 15,
          "metadata": {},
          "output_type": "execute_result"
        }
      ],
      "source": [
        "training_data[0][1]"
      ]
    },
    {
      "cell_type": "code",
      "execution_count": 16,
      "metadata": {
        "colab": {
          "base_uri": "https://localhost:8080/"
        },
        "id": "0EzSCjXkZDip",
        "outputId": "c6e09bac-c370-4ae4-89e3-7c699d8f8f26"
      },
      "outputs": [
        {
          "data": {
            "text/plain": [
              "{'PRON': 0,\n",
              " 'SCONJ': 1,\n",
              " 'ADV': 2,\n",
              " 'ADP': 3,\n",
              " 'VERB': 4,\n",
              " 'AUX': 5,\n",
              " 'ADJ': 6,\n",
              " 'OTHER': 7,\n",
              " 'DET': 8,\n",
              " 'NOUN': 9}"
            ]
          },
          "execution_count": 16,
          "metadata": {},
          "output_type": "execute_result"
        }
      ],
      "source": [
        "tag_to_ix"
      ]
    },
    {
      "cell_type": "code",
      "execution_count": 17,
      "metadata": {
        "colab": {
          "base_uri": "https://localhost:8080/"
        },
        "id": "e3_0XyimWtI-",
        "outputId": "c9be7bc6-2679-4df6-c827-caac79d865df"
      },
      "outputs": [
        {
          "name": "stdout",
          "output_type": "stream",
          "text": [
            "torch.return_types.max(\n",
            "values=tensor([-0.0019, -0.0008, -0.0010, -0.0008, -0.0010, -0.0020, -0.0012, -0.0006,\n",
            "        -0.0003]),\n",
            "indices=tensor([8, 9, 5, 8, 9, 3, 9, 7, 7]))\n"
          ]
        },
        {
          "data": {
            "text/plain": [
              "['DET', 'NOUN', 'AUX', 'DET', 'NOUN', 'ADP', 'NOUN', 'OTHER', 'OTHER']"
            ]
          },
          "execution_count": 17,
          "metadata": {},
          "output_type": "execute_result"
        }
      ],
      "source": [
        "tags=[]\n",
        "with torch.no_grad():\n",
        "    #traer el tensor final\n",
        "    inputs = prepare_sequence(training_data[0][0], word_to_ix)\n",
        "    tag_scores = model(inputs)\n",
        "    #elegir de cada fila el valor maximo ya que esa es la etiqueta final\n",
        "    print(tag_scores.max(axis=1))\n",
        "    v = torch.argmax(tag_scores, axis=1)\n",
        "    for i in v:\n",
        "      tags.append((list(tag_to_ix.keys())[list(tag_to_ix.values()).index(i.item())])) \n",
        "\n",
        "tags\n"
      ]
    },
    {
      "cell_type": "markdown",
      "metadata": {},
      "source": [
        "# FIN"
      ]
    }
  ],
  "metadata": {
    "colab": {
      "collapsed_sections": [],
      "provenance": []
    },
    "kernelspec": {
      "display_name": "Python 3.8.15 ('nlp-env')",
      "language": "python",
      "name": "python3"
    },
    "language_info": {
      "codemirror_mode": {
        "name": "ipython",
        "version": 3
      },
      "file_extension": ".py",
      "mimetype": "text/x-python",
      "name": "python",
      "nbconvert_exporter": "python",
      "pygments_lexer": "ipython3",
      "version": "3.8.15"
    },
    "vscode": {
      "interpreter": {
        "hash": "cf856c288227c1985b5319abfa2c7eaa1df0528794ab1c4cb755b7b4904e1cb5"
      }
    }
  },
  "nbformat": 4,
  "nbformat_minor": 0
}
