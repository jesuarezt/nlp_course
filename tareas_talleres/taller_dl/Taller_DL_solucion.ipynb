{
 "cells": [
  {
   "cell_type": "code",
   "execution_count": 2,
   "metadata": {
    "ExecuteTime": {
     "end_time": "2022-02-28T12:01:35.341404Z",
     "start_time": "2022-02-28T12:01:34.914124Z"
    },
    "id": "u0ukr7quvrMx",
    "lang": "en"
   },
   "outputs": [],
   "source": [
    "import torch\n",
    "import torch.nn as nn\n"
   ]
  },
  {
   "cell_type": "markdown",
   "metadata": {
    "lang": "es"
   },
   "source": [
    "### Ejercicio 1\n",
    "\n",
    "Escribe código que cree un `torch.tensor` con los siguientes contenidos:\n",
    "$\\begin{bmatrix} 1 & 2.2 & 9.6 \\\\ 4 & -7.2 & 6.3 \\end{bmatrix}$\n",
    "\n",
    "Ahora calcule el promedio de cada fila (`.mean()`) y cada columna.\n",
    "\n",
    "¿Cuál es la forma de los resultados?"
   ]
  },
  {
   "cell_type": "code",
   "execution_count": 3,
   "metadata": {},
   "outputs": [
    {
     "data": {
      "text/plain": [
       "tensor([[ 1.0000,  2.2000,  9.6000],\n",
       "        [ 4.0000, -7.2000,  6.3000]])"
      ]
     },
     "execution_count": 3,
     "metadata": {},
     "output_type": "execute_result"
    }
   ],
   "source": [
    "# Solución\n",
    "t1 = torch.tensor([1,2.2,9.6,4,-7.2,6.3])\n",
    "t1 = t1.reshape(2,3)\n",
    "t1"
   ]
  },
  {
   "cell_type": "code",
   "execution_count": 4,
   "metadata": {},
   "outputs": [
    {
     "name": "stdout",
     "output_type": "stream",
     "text": [
      "Vector media por columna tensor([ 2.5000, -2.5000,  7.9500])\n",
      "Vector media por filas tensor([4.2667, 1.0333])\n"
     ]
    }
   ],
   "source": [
    "mean_col = t1.mean(dim=0)\n",
    "print(f'Vector media por columna {mean_col}')\n",
    "mean_row = t1.mean(dim=1)\n",
    "print(f'Vector media por filas {mean_row}')"
   ]
  },
  {
   "cell_type": "markdown",
   "metadata": {
    "lang": "es"
   },
   "source": [
    "### Ejercicio 2\n",
    "\n",
    "Escribe código que cree un `torch.tensor` con los siguientes contenidos:\n",
    "$\\begin{bmatrix} 1 & 2.2 & 9.6 \\\\ 4 & -7.2 & 6.3 \\end{bmatrix}$\n",
    "\n",
    "¿Cómo se obtiene la primera columna? ¿La primera fila?"
   ]
  },
  {
   "cell_type": "code",
   "execution_count": 6,
   "metadata": {},
   "outputs": [
    {
     "data": {
      "text/plain": [
       "tensor([[ 1.0000,  2.2000,  9.6000],\n",
       "        [ 4.0000, -7.2000,  6.3000]])"
      ]
     },
     "execution_count": 6,
     "metadata": {},
     "output_type": "execute_result"
    }
   ],
   "source": [
    "t2 = torch.tensor([1,2.2,9.6,4,-7.2,6.3])\n",
    "t2 = t2.reshape(2,3)\n",
    "t2"
   ]
  },
  {
   "cell_type": "code",
   "execution_count": 7,
   "metadata": {},
   "outputs": [
    {
     "name": "stdout",
     "output_type": "stream",
     "text": [
      "primera columna\n",
      "tensor([1., 4.])\n",
      "primera fila\n",
      "tensor([1.0000, 2.2000, 9.6000])\n"
     ]
    }
   ],
   "source": [
    "print('primera columna')\n",
    "print(t2[:,0])\n",
    "print('primera fila')\n",
    "print(t2[0,:])"
   ]
  },
  {
   "cell_type": "markdown",
   "metadata": {},
   "source": [
    "### Ejercicio 3\n",
    "\n",
    "Cree una función vectorial (no lineal) en función de dos o tres vectores, determine sus derivadas respecto a cada componente de los vectores, para valores particulares, usando pytorch. Compruebe el resultado."
   ]
  },
  {
   "cell_type": "code",
   "execution_count": 8,
   "metadata": {},
   "outputs": [
    {
     "data": {
      "text/plain": [
       "(tensor(50.), tensor(1.), tensor(1.))"
      ]
     },
     "execution_count": 8,
     "metadata": {},
     "output_type": "execute_result"
    }
   ],
   "source": [
    "def partial_derivates(f): \n",
    "    \"\"\"_summary_\n",
    "    Args:\n",
    "        f (fuction): _description_: vectorial function\n",
    "    \"\"\"\n",
    "    \n",
    "    #exec('f = lambda x,y,z: 5*x**2 + y + z')\n",
    "    f.backward()\n",
    "\n",
    "    return (x.grad, y.grad, z.grad)\n",
    "\n",
    "x = torch.tensor(float(5), requires_grad=True)\n",
    "y = torch.tensor(float(7), requires_grad=True)\n",
    "z = torch.tensor(float(1), requires_grad=True)\n",
    "    \n",
    "partial_derivates(  f = 5*x**2 + y + z)"
   ]
  },
  {
   "cell_type": "code",
   "execution_count": 9,
   "metadata": {},
   "outputs": [
    {
     "data": {
      "text/plain": [
       "(tensor(7.), tensor(5.), tensor(35.))"
      ]
     },
     "execution_count": 9,
     "metadata": {},
     "output_type": "execute_result"
    }
   ],
   "source": [
    "x = torch.tensor(float(5), requires_grad=True)\n",
    "y = torch.tensor(float(7), requires_grad=True)\n",
    "z = torch.tensor(float(1), requires_grad=True)\n",
    "\n",
    "partial_derivates(f = x*y*z)"
   ]
  },
  {
   "cell_type": "markdown",
   "metadata": {},
   "source": [
    "### Ejercicio 4\n",
    "\n",
    "Use el dataset de `progressive-tweet-sentiment.csv` (el del taller 1), para producir una representación de vectores usando word2vec (máximo 50 vectores). Divida en un conjunto de entrenamiento y otro de prueba. A continuación, realice una clasificación de los tweets con un MLP (multilayer perceptron) de una capa oculta (tendrá que probar cuantas neuronas ocultas), usando como variables la media de los vectores de las palabras de cada tweet. Debe utilizar pytorch. Grafique el loss y el accuracy, tanto para el entrenamiento como para la validación. Escoja el mejor modelo probando con un buen número de epochs (use un learning rate de 0.1 o 0.01).\n"
   ]
  },
  {
   "cell_type": "code",
   "execution_count": 78,
   "metadata": {},
   "outputs": [],
   "source": [
    "# librerias\n",
    "import pandas as pd\n",
    "import re\n",
    "#tokenizar con nltk\n",
    "from nltk.tokenize import word_tokenize\n",
    "#Word2vec\n",
    "from gensim.models import Word2Vec\n",
    "\n",
    "#copy\n",
    "from copy import deepcopy\n",
    "\n",
    "#construccion de la red neuronal multicapa (Multilayer perceptron)\n",
    "#importar librerias\n",
    "from sklearn import datasets\n",
    "from sklearn.model_selection import train_test_split\n",
    "from sklearn.preprocessing import StandardScaler\n",
    "\n",
    "import torch\n",
    "from torch.utils.data import TensorDataset, DataLoader\n",
    "from torch import nn, optim\n",
    "import torch.nn.functional as F\n",
    "\n",
    "import numpy as np\n",
    "\n",
    "import matplotlib.pyplot as plt\n",
    "\n",
    "\n",
    "# para iterar combinaciones\n",
    "from itertools import product\n",
    "\n"
   ]
  },
  {
   "cell_type": "code",
   "execution_count": 2,
   "metadata": {},
   "outputs": [
    {
     "data": {
      "text/html": [
       "<div>\n",
       "<style scoped>\n",
       "    .dataframe tbody tr th:only-of-type {\n",
       "        vertical-align: middle;\n",
       "    }\n",
       "\n",
       "    .dataframe tbody tr th {\n",
       "        vertical-align: top;\n",
       "    }\n",
       "\n",
       "    .dataframe thead th {\n",
       "        text-align: right;\n",
       "    }\n",
       "</style>\n",
       "<table border=\"1\" class=\"dataframe\">\n",
       "  <thead>\n",
       "    <tr style=\"text-align: right;\">\n",
       "      <th></th>\n",
       "      <th>target</th>\n",
       "      <th>tweet</th>\n",
       "    </tr>\n",
       "  </thead>\n",
       "  <tbody>\n",
       "    <tr>\n",
       "      <th>0</th>\n",
       "      <td>Legalization of Abortion</td>\n",
       "      <td>Thank you for another day of life Lord. #Chris...</td>\n",
       "    </tr>\n",
       "    <tr>\n",
       "      <th>1</th>\n",
       "      <td>Legalization of Abortion</td>\n",
       "      <td>@rosaryrevival Lovely to use Glorious Mysterie...</td>\n",
       "    </tr>\n",
       "    <tr>\n",
       "      <th>2</th>\n",
       "      <td>Legalization of Abortion</td>\n",
       "      <td>@Niall250 good thing is that #DUP have consist...</td>\n",
       "    </tr>\n",
       "    <tr>\n",
       "      <th>3</th>\n",
       "      <td>Legalization of Abortion</td>\n",
       "      <td>So, you tell me... is murder okay if the victi...</td>\n",
       "    </tr>\n",
       "    <tr>\n",
       "      <th>4</th>\n",
       "      <td>Legalization of Abortion</td>\n",
       "      <td>@HillaryClinton Don't you mean to say (all chi...</td>\n",
       "    </tr>\n",
       "  </tbody>\n",
       "</table>\n",
       "</div>"
      ],
      "text/plain": [
       "                     target                                              tweet\n",
       "0  Legalization of Abortion  Thank you for another day of life Lord. #Chris...\n",
       "1  Legalization of Abortion  @rosaryrevival Lovely to use Glorious Mysterie...\n",
       "2  Legalization of Abortion  @Niall250 good thing is that #DUP have consist...\n",
       "3  Legalization of Abortion  So, you tell me... is murder okay if the victi...\n",
       "4  Legalization of Abortion  @HillaryClinton Don't you mean to say (all chi..."
      ]
     },
     "execution_count": 2,
     "metadata": {},
     "output_type": "execute_result"
    }
   ],
   "source": [
    "df = pd.read_csv('data/progressive-tweet-sentiment.csv', encoding='latin-1')\n",
    "df = df[[\"target\", \"tweet\"]]\n",
    "df.head()"
   ]
  },
  {
   "cell_type": "code",
   "execution_count": 3,
   "metadata": {},
   "outputs": [
    {
     "name": "stderr",
     "output_type": "stream",
     "text": [
      "[nltk_data] Downloading package stopwords to\n",
      "[nltk_data]     /Users/jessuarez/nltk_data...\n",
      "[nltk_data]   Package stopwords is already up-to-date!\n"
     ]
    },
    {
     "data": {
      "text/plain": [
       "0    thank another day life lord christian catholic...\n",
       "1    lovely use glorious mysteries eastertide mark ...\n",
       "2    good thing dup consistently said murder wrong ...\n",
       "3            tell murder okay victim mentally disabled\n",
       "4    dont mean say children deserve chances except ...\n",
       "Name: text_clean, dtype: object"
      ]
     },
     "execution_count": 3,
     "metadata": {},
     "output_type": "execute_result"
    }
   ],
   "source": [
    "# Limpieza\n",
    "\n",
    "def limpieza(text):\n",
    "  text=re.sub(r'@_[A-Za-z0-9]+_','',text) #Remover @_menciones_\n",
    "  text=re.sub(r'@[A-Za-z0-9]+_[A-Za-z0-9]+','',text) #Remover @menciones_\n",
    "  text=re.sub(r'@[A-Za-z0-9]+','',text) #Remover @menciones\n",
    "  text=re.sub(r'https?:\\/\\/\\S+','',text) #Remover Hypervinculos\n",
    "  text=re.sub(r'RT[\\s]+','',text) #Remover Retweets\n",
    "  text=re.sub(r'[^\\w\\s]',\"\",text) #remover signos de puntuacion\n",
    "  text=re.sub(r'#[A-Za-z0-9]+','',text) #Remover \"#\"\n",
    "  text=re.sub(r'[0-9]','',text) #remover numeros\n",
    "  text=re.sub(r'[^\\w\\s]',\"\",text) #remover signos de puntuacion\n",
    "  text=re.sub(r'\\n|\\t',' ',text) #remover saltos de linea\n",
    "  text=re.sub(r'\\@',' ',text) #remover \"@\"\n",
    "  text=re.sub(r'[\\s]+',' ',text) #reemplazar espacios dobles por espacion sencillos\n",
    "  text=re.sub(r\"^[\\s]\",' ',text) #eliminar espacios al inicio de cada tweet\n",
    "  text=text.lower() #todo a minuscula\n",
    "  return text\n",
    "\n",
    "import nltk\n",
    "nltk.download(\"stopwords\")\n",
    "from nltk.corpus import stopwords\n",
    "stop = stopwords.words('english')\n",
    "\n",
    "#limpieza inicial de los tweetseza)\n",
    "# Excluir stopwords\n",
    "df['text_clean']=df[\"tweet\"].apply(limpieza)\n",
    "df['text_clean'] = df[\"text_clean\"].apply(lambda words: ' '.join(word.lower() for word in words.split() if word not in stop))\n",
    "df['text_clean'].head()"
   ]
  },
  {
   "cell_type": "code",
   "execution_count": 4,
   "metadata": {},
   "outputs": [
    {
     "name": "stderr",
     "output_type": "stream",
     "text": [
      "[nltk_data] Downloading package punkt to /Users/jessuarez/nltk_data...\n",
      "[nltk_data]   Package punkt is already up-to-date!\n"
     ]
    }
   ],
   "source": [
    "# tokenizar\n",
    "nltk.download(\"punkt\")\n",
    "\n",
    "#tokenizar cada tweet eliminando stopwords\n",
    "listado=[]\n",
    "for i in range(len(df)):\n",
    "  aux=word_tokenize(df['text_clean'][i])\n",
    "  aux2=[]\n",
    "  for word in aux:\n",
    "    if word not in stop: \n",
    "      aux2.append(word)\n",
    "  listado.append(aux2) \n"
   ]
  },
  {
   "cell_type": "code",
   "execution_count": 5,
   "metadata": {},
   "outputs": [],
   "source": [
    "# Parametros del modelo word2vec \n",
    "\n",
    "vector_size = 50 # numero de elementos del vector que representa la palabra\n",
    "min_count =3 # Ignores all words with total frequency lower than this. \n",
    "workers = 5 # numero de cpu cores\n",
    "sg = 0 # 0: CBOW, 1: skip-gram\n",
    "window = 6 # Tamano de la ventana de contexto\n",
    "sample = 1e-3 # tasa de submuestreo para terminos frecuentes\n",
    "model = Word2Vec(listado, vector_size=vector_size,min_count=min_count, workers=workers,sg=sg,window=window,sample=sample, seed=123)"
   ]
  },
  {
   "cell_type": "code",
   "execution_count": 6,
   "metadata": {},
   "outputs": [
    {
     "name": "stderr",
     "output_type": "stream",
     "text": [
      "/var/folders/1z/1h5_y8x165n9_dtqpqg0vsw07w60nb/T/ipykernel_16087/2160571216.py:18: SettingWithCopyWarning: \n",
      "A value is trying to be set on a copy of a slice from a DataFrame.\n",
      "Try using .loc[row_indexer,col_indexer] = value instead\n",
      "\n",
      "See the caveats in the documentation: https://pandas.pydata.org/pandas-docs/stable/user_guide/indexing.html#returning-a-view-versus-a-copy\n",
      "  df2['vectors']=tweet_vector\n"
     ]
    },
    {
     "data": {
      "text/html": [
       "<div>\n",
       "<style scoped>\n",
       "    .dataframe tbody tr th:only-of-type {\n",
       "        vertical-align: middle;\n",
       "    }\n",
       "\n",
       "    .dataframe tbody tr th {\n",
       "        vertical-align: top;\n",
       "    }\n",
       "\n",
       "    .dataframe thead th {\n",
       "        text-align: right;\n",
       "    }\n",
       "</style>\n",
       "<table border=\"1\" class=\"dataframe\">\n",
       "  <thead>\n",
       "    <tr style=\"text-align: right;\">\n",
       "      <th></th>\n",
       "      <th>target</th>\n",
       "      <th>tweet</th>\n",
       "      <th>text_clean</th>\n",
       "      <th>vectors</th>\n",
       "    </tr>\n",
       "  </thead>\n",
       "  <tbody>\n",
       "    <tr>\n",
       "      <th>0</th>\n",
       "      <td>Legalization of Abortion</td>\n",
       "      <td>Thank you for another day of life Lord. #Chris...</td>\n",
       "      <td>thank another day life lord christian catholic...</td>\n",
       "      <td>[-10790.094712295533, -5.9132551574707035, -6....</td>\n",
       "    </tr>\n",
       "    <tr>\n",
       "      <th>1</th>\n",
       "      <td>Legalization of Abortion</td>\n",
       "      <td>@rosaryrevival Lovely to use Glorious Mysterie...</td>\n",
       "      <td>lovely use glorious mysteries eastertide mark ...</td>\n",
       "      <td>[270.1289501953125, 1.2329906463623046, 1.7082...</td>\n",
       "    </tr>\n",
       "    <tr>\n",
       "      <th>2</th>\n",
       "      <td>Legalization of Abortion</td>\n",
       "      <td>@Niall250 good thing is that #DUP have consist...</td>\n",
       "      <td>good thing dup consistently said murder wrong ...</td>\n",
       "      <td>[-3.9092163848876953, 10.577837219238281, 80.6...</td>\n",
       "    </tr>\n",
       "    <tr>\n",
       "      <th>3</th>\n",
       "      <td>Legalization of Abortion</td>\n",
       "      <td>So, you tell me... is murder okay if the victi...</td>\n",
       "      <td>tell murder okay victim mentally disabled</td>\n",
       "      <td>[0.19490753173828124, 17.98672149658203, 2.314...</td>\n",
       "    </tr>\n",
       "    <tr>\n",
       "      <th>4</th>\n",
       "      <td>Legalization of Abortion</td>\n",
       "      <td>@HillaryClinton Don't you mean to say (all chi...</td>\n",
       "      <td>dont mean say children deserve chances except ...</td>\n",
       "      <td>[58.33499641418457, 14.90863182067871, -22.120...</td>\n",
       "    </tr>\n",
       "  </tbody>\n",
       "</table>\n",
       "</div>"
      ],
      "text/plain": [
       "                     target  \\\n",
       "0  Legalization of Abortion   \n",
       "1  Legalization of Abortion   \n",
       "2  Legalization of Abortion   \n",
       "3  Legalization of Abortion   \n",
       "4  Legalization of Abortion   \n",
       "\n",
       "                                               tweet  \\\n",
       "0  Thank you for another day of life Lord. #Chris...   \n",
       "1  @rosaryrevival Lovely to use Glorious Mysterie...   \n",
       "2  @Niall250 good thing is that #DUP have consist...   \n",
       "3  So, you tell me... is murder okay if the victi...   \n",
       "4  @HillaryClinton Don't you mean to say (all chi...   \n",
       "\n",
       "                                          text_clean  \\\n",
       "0  thank another day life lord christian catholic...   \n",
       "1  lovely use glorious mysteries eastertide mark ...   \n",
       "2  good thing dup consistently said murder wrong ...   \n",
       "3          tell murder okay victim mentally disabled   \n",
       "4  dont mean say children deserve chances except ...   \n",
       "\n",
       "                                             vectors  \n",
       "0  [-10790.094712295533, -5.9132551574707035, -6....  \n",
       "1  [270.1289501953125, 1.2329906463623046, 1.7082...  \n",
       "2  [-3.9092163848876953, 10.577837219238281, 80.6...  \n",
       "3  [0.19490753173828124, 17.98672149658203, 2.314...  \n",
       "4  [58.33499641418457, 14.90863182067871, -22.120...  "
      ]
     },
     "execution_count": 6,
     "metadata": {},
     "output_type": "execute_result"
    }
   ],
   "source": [
    "#funcion para calcular el promedio de los vectores de cada token por tweet\n",
    "import numpy as np\n",
    "tweet_vector=[]\n",
    "for i in range(len(listado)):\n",
    "  v1=[0 for i in range(vector_size)]\n",
    "  for j in range(len(listado[i])):\n",
    "    if listado[i][j] in model.wv:\n",
    "      v2=model.wv.get_vector(listado[i][j])\n",
    "      v2=1/np.log(1+v2)\n",
    "      v1=[v1[k] + v2[k] for k in range(len(v1))]\n",
    "  v1=[v1[k]/len(v1) for k in range(len(v1))]\n",
    "  tweet_vector.append(v1)\n",
    "\n",
    "#tweet_vector\n",
    "\n",
    "df2=df[:]\n",
    "df2\n",
    "df2['vectors']=tweet_vector\n",
    "df2.head(n=5)\n"
   ]
  },
  {
   "cell_type": "code",
   "execution_count": 104,
   "metadata": {
    "colab": {
     "base_uri": "https://localhost:8080/"
    },
    "id": "jbV12-NsQqle",
    "outputId": "ab22560b-ff2d-4d07-f33b-f59c19660158"
   },
   "outputs": [],
   "source": [
    "# Estandarizando datos Para modelo\n",
    "df2 = df2.assign(total_sum = df2.vectors.apply( lambda x: sum(x)))\n",
    "\n",
    "#Eliminamos aquellos sin representación sparsing\n",
    "df2 = df2.loc[df2.total_sum != 0,:]\n",
    "\n",
    "# creando vector X \n",
    "X=list(df2.vectors)\n",
    "X= np.asarray(X)\n",
    "\n",
    "#Estandarizando\n",
    "sc = StandardScaler()\n",
    "X = sc.fit_transform(X)"
   ]
  },
  {
   "cell_type": "code",
   "execution_count": 105,
   "metadata": {},
   "outputs": [],
   "source": [
    "# creando variable target numerica para la red\n",
    "df2 = df2.assign(target = pd.Categorical(df2.target))\n",
    "df2 = df2.assign(target_codes = df2.target.cat.codes)\n",
    "\n",
    "y = list(deepcopy( df2.target_codes))\n",
    "y= np.asarray(y)"
   ]
  },
  {
   "cell_type": "code",
   "execution_count": 106,
   "metadata": {},
   "outputs": [
    {
     "name": "stdout",
     "output_type": "stream",
     "text": [
      "(1153, 50)\n",
      "(1153,)\n"
     ]
    }
   ],
   "source": [
    "# validando dimensiones\n",
    "print(X.shape)\n",
    "print(y.shape)"
   ]
  },
  {
   "cell_type": "code",
   "execution_count": 107,
   "metadata": {
    "id": "T0QwUm2rctS2"
   },
   "outputs": [],
   "source": [
    "def loss_acc_batch(x,y, model, DEVICE, loss_func, acc = None):\n",
    "    yp = model(x.to(DEVICE))\n",
    "    yt = y.to(DEVICE).long() # .long() porque espera un entero tipo long\n",
    "    loss = loss_func(yp, yt)\n",
    "    out = [loss, len(x)]\n",
    "    \n",
    "    if acc is not None:\n",
    "        y_pred = torch.argmax(model(x.to(DEVICE)), 1) \n",
    "        accuracy = (y_pred == yt).float().mean().item()\n",
    "        out.append(accuracy)#nar todas las palabras de nuestro vocabulario a un índice correspondiente. Podemos hacerlo de la siguiente\n",
    "    return out"
   ]
  },
  {
   "cell_type": "code",
   "execution_count": 108,
   "metadata": {
    "id": "h64FEycoc0zn"
   },
   "outputs": [],
   "source": [
    "def train(model, train_dl,DEVICE, loss_func, opt, NUM_EPOCHS, valid_dl):\n",
    "    \n",
    "    train_losses = []\n",
    "    valid_losses = []\n",
    "    train_accs=[]\n",
    "    valid_accs=[]\n",
    "    for epoch in range(NUM_EPOCHS):\n",
    "        model.train() # importante para activar ciertas funciones como dropout, batchnormalization, etc.\n",
    "        losses = 0\n",
    "        nums = 0\n",
    "        train_acc=[]\n",
    "        for x, y in train_dl:\n",
    "            #loss, l = loss_acc_batch(x,y)\n",
    "            loss, l,acc = loss_acc_batch(x=x,y=y,model=model,loss_func=loss_func,DEVICE=DEVICE,acc=True)\n",
    "            loss.backward()\n",
    "            opt.step()\n",
    "            opt.zero_grad()\n",
    "            \n",
    "            losses += loss.item() * l\n",
    "            nums += l\n",
    "            train_acc.append(acc)\n",
    "        train_loss = losses / nums\n",
    "        train_losses.append(train_loss)\n",
    "\n",
    "        \n",
    "        model.eval()  #importante para desactivar ciertas funciones como dropout, batchnormalization, etc.\n",
    "        with torch.no_grad():\n",
    "            losses, nums, accs = zip(*[loss_acc_batch(x=xb, y=yb,loss_func=loss_func, model = model, DEVICE=DEVICE, acc=True) for xb, yb in valid_dl])\n",
    "        losses = [l.item() for l in losses]\n",
    "        valid_loss = np.sum(np.multiply(losses,nums)) / np.sum(nums)\n",
    "        valid_losses.append(valid_loss)\n",
    "        \n",
    "        valid_acc = np.sum(np.multiply(accs,nums)) / np.sum(nums)\n",
    "        valid_accs.append(valid_acc)\n",
    "        \n",
    "        if epoch % 10 == 0:\n",
    "            print(f\"epoch: {epoch}, train_loss: {train_loss:.4f} \\\n",
    "            valid_loss: {valid_loss:.4f}, valid_acc: {valid_acc:.4f}\")\n",
    "    \n",
    "    \n",
    "    return train_losses,train_accs,valid_losses,valid_accs "
   ]
  },
  {
   "cell_type": "markdown",
   "metadata": {},
   "source": [
    "# Unificando para validar diferentes EPOCAS"
   ]
  },
  {
   "cell_type": "code",
   "execution_count": 109,
   "metadata": {},
   "outputs": [],
   "source": [
    "def grid_excercise(X, y, RANDOM_SEED=1, BATCH_SIZE=20, NUM_EPOCHS=100, lr=0.01, NUM_HIDDEN = 20, DEVICE = None, get_results =False):\n",
    "    \n",
    "    \n",
    "\n",
    "\n",
    "    ########################################################\n",
    "    # Ajustando dataset para el modelo\n",
    "    ########################################################\n",
    "    torch.manual_seed(RANDOM_SEED); # configurar semilla\n",
    "\n",
    "    #separar en datos de test y de entrenamiento\n",
    "    X_train,X_valid,y_train,y_valid = train_test_split(X, y, test_size=0.3, random_state=RANDOM_SEED)\n",
    "\n",
    "    #convertir numpy arrays a tensores\n",
    "    X_train, y_train, X_valid, y_valid = map( lambda x: torch.tensor(x, dtype=torch.float32),\n",
    "                                            (X_train, y_train, X_valid, y_valid) )\n",
    "\n",
    "    #convertir a tensor dataset\n",
    "    train_ds = TensorDataset(X_train, y_train.long())\n",
    "    valid_ds = TensorDataset(X_valid, y_valid.long())\n",
    "\n",
    "    #convertir a dataloader\n",
    "    train_dl = DataLoader(train_ds, batch_size=BATCH_SIZE, shuffle=True)\n",
    "    valid_dl = DataLoader(valid_ds, batch_size = 2*BATCH_SIZE)\n",
    "\n",
    "\n",
    "    print('tam muestra de entrenamiento')\n",
    "    print(X_train.shape)\n",
    "    print(y_train.shape)\n",
    "\n",
    "    ########################################################\n",
    "    # Definiendo modelo\n",
    "    ########################################################\n",
    "    num_features = X.shape[1]\n",
    "    num_hidden = NUM_HIDDEN\n",
    "    num_classes = len(torch.unique(y_train))\n",
    "\n",
    "    model = nn.Sequential(\n",
    "        nn.Linear(num_features,num_hidden),\n",
    "        nn.ReLU(),\n",
    "        nn.Linear(num_hidden, num_classes)\n",
    "    )\n",
    "\n",
    "    loss_func = F.cross_entropy\n",
    "\n",
    "    model = model.to(DEVICE)\n",
    "\n",
    "    opt = optim.SGD(model.parameters(),lr = lr)\n",
    "\n",
    "    train_losses,train_accs,valid_losses,valid_accs=train(model=model,train_dl=train_dl, valid_dl = valid_dl,\n",
    "                                                            DEVICE=DEVICE, loss_func=loss_func,\n",
    "                                                            opt = opt, NUM_EPOCHS=NUM_EPOCHS)\n",
    "\n",
    "\n",
    "    if get_results:\n",
    "        return train_losses,train_accs,valid_losses,valid_accs\n",
    "    else:\n",
    "        return valid_accs[-1]\n",
    "\n",
    "\n"
   ]
  },
  {
   "cell_type": "code",
   "execution_count": 110,
   "metadata": {},
   "outputs": [],
   "source": [
    "params_ = {'learning_rate': [0.1, 0.01],\n",
    "            'NUM_HIDDEN': [10,50,100],\n",
    "            'epochs': [10,50, 75,100,200]}"
   ]
  },
  {
   "cell_type": "code",
   "execution_count": 111,
   "metadata": {},
   "outputs": [
    {
     "name": "stderr",
     "output_type": "stream",
     "text": [
      "<timed exec>:10: FutureWarning: The frame.append method is deprecated and will be removed from pandas in a future version. Use pandas.concat instead.\n"
     ]
    },
    {
     "name": "stdout",
     "output_type": "stream",
     "text": [
      "tam muestra de entrenamiento\n",
      "torch.Size([807, 50])\n",
      "torch.Size([807])\n",
      "epoch: 0, train_loss: 1.3863             valid_loss: 1.3919, valid_acc: 0.2832\n"
     ]
    },
    {
     "name": "stderr",
     "output_type": "stream",
     "text": [
      "<timed exec>:10: FutureWarning: The frame.append method is deprecated and will be removed from pandas in a future version. Use pandas.concat instead.\n"
     ]
    },
    {
     "name": "stdout",
     "output_type": "stream",
     "text": [
      "tam muestra de entrenamiento\n",
      "torch.Size([807, 50])\n",
      "torch.Size([807])\n",
      "epoch: 0, train_loss: 1.3863             valid_loss: 1.3919, valid_acc: 0.2832\n",
      "epoch: 10, train_loss: 1.1781             valid_loss: 1.3433, valid_acc: 0.3873\n",
      "epoch: 20, train_loss: 1.0796             valid_loss: 1.3386, valid_acc: 0.3960\n",
      "epoch: 30, train_loss: 1.0196             valid_loss: 1.3705, valid_acc: 0.4017\n",
      "epoch: 40, train_loss: 0.9823             valid_loss: 1.3969, valid_acc: 0.3960\n"
     ]
    },
    {
     "name": "stderr",
     "output_type": "stream",
     "text": [
      "<timed exec>:10: FutureWarning: The frame.append method is deprecated and will be removed from pandas in a future version. Use pandas.concat instead.\n"
     ]
    },
    {
     "name": "stdout",
     "output_type": "stream",
     "text": [
      "tam muestra de entrenamiento\n",
      "torch.Size([807, 50])\n",
      "torch.Size([807])\n",
      "epoch: 0, train_loss: 1.3863             valid_loss: 1.3919, valid_acc: 0.2832\n",
      "epoch: 10, train_loss: 1.1781             valid_loss: 1.3433, valid_acc: 0.3873\n",
      "epoch: 20, train_loss: 1.0796             valid_loss: 1.3386, valid_acc: 0.3960\n",
      "epoch: 30, train_loss: 1.0196             valid_loss: 1.3705, valid_acc: 0.4017\n",
      "epoch: 40, train_loss: 0.9823             valid_loss: 1.3969, valid_acc: 0.3960\n",
      "epoch: 50, train_loss: 0.9308             valid_loss: 1.4041, valid_acc: 0.3931\n",
      "epoch: 60, train_loss: 0.8926             valid_loss: 1.4790, valid_acc: 0.4075\n",
      "epoch: 70, train_loss: 0.8741             valid_loss: 1.5217, valid_acc: 0.3902\n",
      "tam muestra de entrenamiento\n",
      "torch.Size([807, 50])\n",
      "torch.Size([807])\n",
      "epoch: 0, train_loss: 1.3863             valid_loss: 1.3919, valid_acc: 0.2832\n"
     ]
    },
    {
     "name": "stderr",
     "output_type": "stream",
     "text": [
      "<timed exec>:10: FutureWarning: The frame.append method is deprecated and will be removed from pandas in a future version. Use pandas.concat instead.\n"
     ]
    },
    {
     "name": "stdout",
     "output_type": "stream",
     "text": [
      "epoch: 10, train_loss: 1.1781             valid_loss: 1.3433, valid_acc: 0.3873\n",
      "epoch: 20, train_loss: 1.0796             valid_loss: 1.3386, valid_acc: 0.3960\n",
      "epoch: 30, train_loss: 1.0196             valid_loss: 1.3705, valid_acc: 0.4017\n",
      "epoch: 40, train_loss: 0.9823             valid_loss: 1.3969, valid_acc: 0.3960\n",
      "epoch: 50, train_loss: 0.9308             valid_loss: 1.4041, valid_acc: 0.3931\n",
      "epoch: 60, train_loss: 0.8926             valid_loss: 1.4790, valid_acc: 0.4075\n",
      "epoch: 70, train_loss: 0.8741             valid_loss: 1.5217, valid_acc: 0.3902\n",
      "epoch: 80, train_loss: 0.8407             valid_loss: 1.5964, valid_acc: 0.4046\n",
      "epoch: 90, train_loss: 0.8406             valid_loss: 1.6542, valid_acc: 0.4104\n",
      "tam muestra de entrenamiento\n",
      "torch.Size([807, 50])\n",
      "torch.Size([807])\n",
      "epoch: 0, train_loss: 1.3863             valid_loss: 1.3919, valid_acc: 0.2832\n"
     ]
    },
    {
     "name": "stderr",
     "output_type": "stream",
     "text": [
      "<timed exec>:10: FutureWarning: The frame.append method is deprecated and will be removed from pandas in a future version. Use pandas.concat instead.\n"
     ]
    },
    {
     "name": "stdout",
     "output_type": "stream",
     "text": [
      "epoch: 10, train_loss: 1.1781             valid_loss: 1.3433, valid_acc: 0.3873\n",
      "epoch: 20, train_loss: 1.0796             valid_loss: 1.3386, valid_acc: 0.3960\n",
      "epoch: 30, train_loss: 1.0196             valid_loss: 1.3705, valid_acc: 0.4017\n",
      "epoch: 40, train_loss: 0.9823             valid_loss: 1.3969, valid_acc: 0.3960\n",
      "epoch: 50, train_loss: 0.9308             valid_loss: 1.4041, valid_acc: 0.3931\n",
      "epoch: 60, train_loss: 0.8926             valid_loss: 1.4790, valid_acc: 0.4075\n",
      "epoch: 70, train_loss: 0.8741             valid_loss: 1.5217, valid_acc: 0.3902\n",
      "epoch: 80, train_loss: 0.8407             valid_loss: 1.5964, valid_acc: 0.4046\n",
      "epoch: 90, train_loss: 0.8406             valid_loss: 1.6542, valid_acc: 0.4104\n",
      "epoch: 100, train_loss: 0.8018             valid_loss: 1.7338, valid_acc: 0.3902\n",
      "epoch: 110, train_loss: 0.7916             valid_loss: 1.7828, valid_acc: 0.4104\n",
      "epoch: 120, train_loss: 0.7736             valid_loss: 1.8493, valid_acc: 0.4191\n",
      "epoch: 130, train_loss: 0.7656             valid_loss: 1.8771, valid_acc: 0.4046\n",
      "epoch: 140, train_loss: 0.7653             valid_loss: 1.9472, valid_acc: 0.3988\n",
      "epoch: 150, train_loss: 0.7387             valid_loss: 1.9949, valid_acc: 0.4162\n",
      "epoch: 160, train_loss: 0.7431             valid_loss: 2.0495, valid_acc: 0.4104\n",
      "epoch: 170, train_loss: 0.7476             valid_loss: 2.1246, valid_acc: 0.4162\n",
      "epoch: 180, train_loss: 0.7295             valid_loss: 2.1655, valid_acc: 0.4133\n",
      "epoch: 190, train_loss: 0.7063             valid_loss: 2.1676, valid_acc: 0.4017\n"
     ]
    },
    {
     "name": "stderr",
     "output_type": "stream",
     "text": [
      "<timed exec>:10: FutureWarning: The frame.append method is deprecated and will be removed from pandas in a future version. Use pandas.concat instead.\n"
     ]
    },
    {
     "name": "stdout",
     "output_type": "stream",
     "text": [
      "tam muestra de entrenamiento\n",
      "torch.Size([807, 50])\n",
      "torch.Size([807])\n",
      "epoch: 0, train_loss: 1.3862             valid_loss: 1.3622, valid_acc: 0.3179\n"
     ]
    },
    {
     "name": "stderr",
     "output_type": "stream",
     "text": [
      "<timed exec>:10: FutureWarning: The frame.append method is deprecated and will be removed from pandas in a future version. Use pandas.concat instead.\n"
     ]
    },
    {
     "name": "stdout",
     "output_type": "stream",
     "text": [
      "tam muestra de entrenamiento\n",
      "torch.Size([807, 50])\n",
      "torch.Size([807])\n",
      "epoch: 0, train_loss: 1.3862             valid_loss: 1.3622, valid_acc: 0.3179\n",
      "epoch: 10, train_loss: 1.1130             valid_loss: 1.3234, valid_acc: 0.3699\n",
      "epoch: 20, train_loss: 0.9698             valid_loss: 1.3738, valid_acc: 0.4075\n",
      "epoch: 30, train_loss: 0.8663             valid_loss: 1.4125, valid_acc: 0.4249\n",
      "epoch: 40, train_loss: 0.7723             valid_loss: 1.5189, valid_acc: 0.4162\n"
     ]
    },
    {
     "name": "stderr",
     "output_type": "stream",
     "text": [
      "<timed exec>:10: FutureWarning: The frame.append method is deprecated and will be removed from pandas in a future version. Use pandas.concat instead.\n"
     ]
    },
    {
     "name": "stdout",
     "output_type": "stream",
     "text": [
      "tam muestra de entrenamiento\n",
      "torch.Size([807, 50])\n",
      "torch.Size([807])\n",
      "epoch: 0, train_loss: 1.3862             valid_loss: 1.3622, valid_acc: 0.3179\n",
      "epoch: 10, train_loss: 1.1130             valid_loss: 1.3234, valid_acc: 0.3699\n",
      "epoch: 20, train_loss: 0.9698             valid_loss: 1.3738, valid_acc: 0.4075\n",
      "epoch: 30, train_loss: 0.8663             valid_loss: 1.4125, valid_acc: 0.4249\n",
      "epoch: 40, train_loss: 0.7723             valid_loss: 1.5189, valid_acc: 0.4162\n",
      "epoch: 50, train_loss: 0.7034             valid_loss: 1.5674, valid_acc: 0.4162\n",
      "epoch: 60, train_loss: 0.6321             valid_loss: 1.6721, valid_acc: 0.4104\n",
      "epoch: 70, train_loss: 0.5759             valid_loss: 1.7243, valid_acc: 0.4422\n",
      "tam muestra de entrenamiento\n",
      "torch.Size([807, 50])\n",
      "torch.Size([807])\n"
     ]
    },
    {
     "name": "stderr",
     "output_type": "stream",
     "text": [
      "<timed exec>:10: FutureWarning: The frame.append method is deprecated and will be removed from pandas in a future version. Use pandas.concat instead.\n"
     ]
    },
    {
     "name": "stdout",
     "output_type": "stream",
     "text": [
      "epoch: 0, train_loss: 1.3862             valid_loss: 1.3622, valid_acc: 0.3179\n",
      "epoch: 10, train_loss: 1.1130             valid_loss: 1.3234, valid_acc: 0.3699\n",
      "epoch: 20, train_loss: 0.9698             valid_loss: 1.3738, valid_acc: 0.4075\n",
      "epoch: 30, train_loss: 0.8663             valid_loss: 1.4125, valid_acc: 0.4249\n",
      "epoch: 40, train_loss: 0.7723             valid_loss: 1.5189, valid_acc: 0.4162\n",
      "epoch: 50, train_loss: 0.7034             valid_loss: 1.5674, valid_acc: 0.4162\n",
      "epoch: 60, train_loss: 0.6321             valid_loss: 1.6721, valid_acc: 0.4104\n",
      "epoch: 70, train_loss: 0.5759             valid_loss: 1.7243, valid_acc: 0.4422\n",
      "epoch: 80, train_loss: 0.5244             valid_loss: 1.8678, valid_acc: 0.4422\n",
      "epoch: 90, train_loss: 0.4782             valid_loss: 1.8962, valid_acc: 0.4480\n"
     ]
    },
    {
     "name": "stderr",
     "output_type": "stream",
     "text": [
      "<timed exec>:10: FutureWarning: The frame.append method is deprecated and will be removed from pandas in a future version. Use pandas.concat instead.\n"
     ]
    },
    {
     "name": "stdout",
     "output_type": "stream",
     "text": [
      "tam muestra de entrenamiento\n",
      "torch.Size([807, 50])\n",
      "torch.Size([807])\n",
      "epoch: 0, train_loss: 1.3862             valid_loss: 1.3622, valid_acc: 0.3179\n",
      "epoch: 10, train_loss: 1.1130             valid_loss: 1.3234, valid_acc: 0.3699\n",
      "epoch: 20, train_loss: 0.9698             valid_loss: 1.3738, valid_acc: 0.4075\n",
      "epoch: 30, train_loss: 0.8663             valid_loss: 1.4125, valid_acc: 0.4249\n",
      "epoch: 40, train_loss: 0.7723             valid_loss: 1.5189, valid_acc: 0.4162\n",
      "epoch: 50, train_loss: 0.7034             valid_loss: 1.5674, valid_acc: 0.4162\n",
      "epoch: 60, train_loss: 0.6321             valid_loss: 1.6721, valid_acc: 0.4104\n",
      "epoch: 70, train_loss: 0.5759             valid_loss: 1.7243, valid_acc: 0.4422\n",
      "epoch: 80, train_loss: 0.5244             valid_loss: 1.8678, valid_acc: 0.4422\n",
      "epoch: 90, train_loss: 0.4782             valid_loss: 1.8962, valid_acc: 0.4480\n",
      "epoch: 100, train_loss: 0.4355             valid_loss: 2.0092, valid_acc: 0.4422\n",
      "epoch: 110, train_loss: 0.4427             valid_loss: 2.1047, valid_acc: 0.4306\n",
      "epoch: 120, train_loss: 0.3633             valid_loss: 2.2490, valid_acc: 0.4422\n",
      "epoch: 130, train_loss: 0.4332             valid_loss: 2.3669, valid_acc: 0.4451\n",
      "epoch: 140, train_loss: 0.3207             valid_loss: 2.4494, valid_acc: 0.4335\n",
      "epoch: 150, train_loss: 0.2989             valid_loss: 2.5585, valid_acc: 0.4364\n",
      "epoch: 160, train_loss: 0.3156             valid_loss: 2.6767, valid_acc: 0.4393\n",
      "epoch: 170, train_loss: 0.2648             valid_loss: 2.7902, valid_acc: 0.4220\n",
      "epoch: 180, train_loss: 0.2323             valid_loss: 2.9018, valid_acc: 0.4277\n",
      "epoch: 190, train_loss: 0.2176             valid_loss: 3.0105, valid_acc: 0.4220\n"
     ]
    },
    {
     "name": "stderr",
     "output_type": "stream",
     "text": [
      "<timed exec>:10: FutureWarning: The frame.append method is deprecated and will be removed from pandas in a future version. Use pandas.concat instead.\n"
     ]
    },
    {
     "name": "stdout",
     "output_type": "stream",
     "text": [
      "tam muestra de entrenamiento\n",
      "torch.Size([807, 50])\n",
      "torch.Size([807])\n",
      "epoch: 0, train_loss: 1.4001             valid_loss: 1.3572, valid_acc: 0.2919\n"
     ]
    },
    {
     "name": "stderr",
     "output_type": "stream",
     "text": [
      "<timed exec>:10: FutureWarning: The frame.append method is deprecated and will be removed from pandas in a future version. Use pandas.concat instead.\n"
     ]
    },
    {
     "name": "stdout",
     "output_type": "stream",
     "text": [
      "tam muestra de entrenamiento\n",
      "torch.Size([807, 50])\n",
      "torch.Size([807])\n",
      "epoch: 0, train_loss: 1.4001             valid_loss: 1.3572, valid_acc: 0.2919\n",
      "epoch: 10, train_loss: 1.0929             valid_loss: 1.3090, valid_acc: 0.3931\n",
      "epoch: 20, train_loss: 0.9415             valid_loss: 1.3633, valid_acc: 0.4017\n",
      "epoch: 30, train_loss: 0.8268             valid_loss: 1.4271, valid_acc: 0.4393\n",
      "epoch: 40, train_loss: 0.7268             valid_loss: 1.5314, valid_acc: 0.4364\n"
     ]
    },
    {
     "name": "stderr",
     "output_type": "stream",
     "text": [
      "<timed exec>:10: FutureWarning: The frame.append method is deprecated and will be removed from pandas in a future version. Use pandas.concat instead.\n"
     ]
    },
    {
     "name": "stdout",
     "output_type": "stream",
     "text": [
      "tam muestra de entrenamiento\n",
      "torch.Size([807, 50])\n",
      "torch.Size([807])\n",
      "epoch: 0, train_loss: 1.4001             valid_loss: 1.3572, valid_acc: 0.2919\n",
      "epoch: 10, train_loss: 1.0929             valid_loss: 1.3090, valid_acc: 0.3931\n",
      "epoch: 20, train_loss: 0.9415             valid_loss: 1.3633, valid_acc: 0.4017\n",
      "epoch: 30, train_loss: 0.8268             valid_loss: 1.4271, valid_acc: 0.4393\n",
      "epoch: 40, train_loss: 0.7268             valid_loss: 1.5314, valid_acc: 0.4364\n",
      "epoch: 50, train_loss: 0.6419             valid_loss: 1.6128, valid_acc: 0.4393\n",
      "epoch: 60, train_loss: 0.5732             valid_loss: 1.6896, valid_acc: 0.4335\n",
      "epoch: 70, train_loss: 0.5156             valid_loss: 1.7746, valid_acc: 0.4220\n",
      "tam muestra de entrenamiento\n",
      "torch.Size([807, 50])\n",
      "torch.Size([807])\n",
      "epoch: 0, train_loss: 1.4001             valid_loss: 1.3572, valid_acc: 0.2919\n"
     ]
    },
    {
     "name": "stderr",
     "output_type": "stream",
     "text": [
      "<timed exec>:10: FutureWarning: The frame.append method is deprecated and will be removed from pandas in a future version. Use pandas.concat instead.\n"
     ]
    },
    {
     "name": "stdout",
     "output_type": "stream",
     "text": [
      "epoch: 10, train_loss: 1.0929             valid_loss: 1.3090, valid_acc: 0.3931\n",
      "epoch: 20, train_loss: 0.9415             valid_loss: 1.3633, valid_acc: 0.4017\n",
      "epoch: 30, train_loss: 0.8268             valid_loss: 1.4271, valid_acc: 0.4393\n",
      "epoch: 40, train_loss: 0.7268             valid_loss: 1.5314, valid_acc: 0.4364\n",
      "epoch: 50, train_loss: 0.6419             valid_loss: 1.6128, valid_acc: 0.4393\n",
      "epoch: 60, train_loss: 0.5732             valid_loss: 1.6896, valid_acc: 0.4335\n",
      "epoch: 70, train_loss: 0.5156             valid_loss: 1.7746, valid_acc: 0.4220\n",
      "epoch: 80, train_loss: 0.4588             valid_loss: 1.8672, valid_acc: 0.4277\n",
      "epoch: 90, train_loss: 0.4019             valid_loss: 1.9688, valid_acc: 0.4624\n"
     ]
    },
    {
     "name": "stderr",
     "output_type": "stream",
     "text": [
      "<timed exec>:10: FutureWarning: The frame.append method is deprecated and will be removed from pandas in a future version. Use pandas.concat instead.\n"
     ]
    },
    {
     "name": "stdout",
     "output_type": "stream",
     "text": [
      "tam muestra de entrenamiento\n",
      "torch.Size([807, 50])\n",
      "torch.Size([807])\n",
      "epoch: 0, train_loss: 1.4001             valid_loss: 1.3572, valid_acc: 0.2919\n",
      "epoch: 10, train_loss: 1.0929             valid_loss: 1.3090, valid_acc: 0.3931\n",
      "epoch: 20, train_loss: 0.9415             valid_loss: 1.3633, valid_acc: 0.4017\n",
      "epoch: 30, train_loss: 0.8268             valid_loss: 1.4271, valid_acc: 0.4393\n",
      "epoch: 40, train_loss: 0.7268             valid_loss: 1.5314, valid_acc: 0.4364\n",
      "epoch: 50, train_loss: 0.6419             valid_loss: 1.6128, valid_acc: 0.4393\n",
      "epoch: 60, train_loss: 0.5732             valid_loss: 1.6896, valid_acc: 0.4335\n",
      "epoch: 70, train_loss: 0.5156             valid_loss: 1.7746, valid_acc: 0.4220\n",
      "epoch: 80, train_loss: 0.4588             valid_loss: 1.8672, valid_acc: 0.4277\n",
      "epoch: 90, train_loss: 0.4019             valid_loss: 1.9688, valid_acc: 0.4624\n",
      "epoch: 100, train_loss: 0.3622             valid_loss: 2.0900, valid_acc: 0.4364\n",
      "epoch: 110, train_loss: 0.3439             valid_loss: 2.2253, valid_acc: 0.4306\n",
      "epoch: 120, train_loss: 0.3191             valid_loss: 2.3066, valid_acc: 0.4451\n",
      "epoch: 130, train_loss: 0.2720             valid_loss: 2.5687, valid_acc: 0.4249\n",
      "epoch: 140, train_loss: 0.3299             valid_loss: 2.4741, valid_acc: 0.4277\n",
      "epoch: 150, train_loss: 0.2265             valid_loss: 2.5904, valid_acc: 0.4393\n",
      "epoch: 160, train_loss: 0.2036             valid_loss: 2.7172, valid_acc: 0.4422\n",
      "epoch: 170, train_loss: 0.1832             valid_loss: 2.8267, valid_acc: 0.4509\n",
      "epoch: 180, train_loss: 0.1750             valid_loss: 2.9500, valid_acc: 0.4566\n",
      "epoch: 190, train_loss: 0.1643             valid_loss: 3.0676, valid_acc: 0.4480\n"
     ]
    },
    {
     "name": "stderr",
     "output_type": "stream",
     "text": [
      "<timed exec>:10: FutureWarning: The frame.append method is deprecated and will be removed from pandas in a future version. Use pandas.concat instead.\n"
     ]
    },
    {
     "name": "stdout",
     "output_type": "stream",
     "text": [
      "tam muestra de entrenamiento\n",
      "torch.Size([807, 50])\n",
      "torch.Size([807])\n",
      "epoch: 0, train_loss: 1.4002             valid_loss: 1.4090, valid_acc: 0.2514\n"
     ]
    },
    {
     "name": "stderr",
     "output_type": "stream",
     "text": [
      "<timed exec>:10: FutureWarning: The frame.append method is deprecated and will be removed from pandas in a future version. Use pandas.concat instead.\n"
     ]
    },
    {
     "name": "stdout",
     "output_type": "stream",
     "text": [
      "tam muestra de entrenamiento\n",
      "torch.Size([807, 50])\n",
      "torch.Size([807])\n",
      "epoch: 0, train_loss: 1.4002             valid_loss: 1.4090, valid_acc: 0.2514\n",
      "epoch: 10, train_loss: 1.3567             valid_loss: 1.3895, valid_acc: 0.2861\n",
      "epoch: 20, train_loss: 1.3263             valid_loss: 1.3789, valid_acc: 0.3208\n",
      "epoch: 30, train_loss: 1.2997             valid_loss: 1.3711, valid_acc: 0.3179\n",
      "epoch: 40, train_loss: 1.2751             valid_loss: 1.3660, valid_acc: 0.3266\n"
     ]
    },
    {
     "name": "stderr",
     "output_type": "stream",
     "text": [
      "<timed exec>:10: FutureWarning: The frame.append method is deprecated and will be removed from pandas in a future version. Use pandas.concat instead.\n"
     ]
    },
    {
     "name": "stdout",
     "output_type": "stream",
     "text": [
      "tam muestra de entrenamiento\n",
      "torch.Size([807, 50])\n",
      "torch.Size([807])\n",
      "epoch: 0, train_loss: 1.4002             valid_loss: 1.4090, valid_acc: 0.2514\n",
      "epoch: 10, train_loss: 1.3567             valid_loss: 1.3895, valid_acc: 0.2861\n",
      "epoch: 20, train_loss: 1.3263             valid_loss: 1.3789, valid_acc: 0.3208\n",
      "epoch: 30, train_loss: 1.2997             valid_loss: 1.3711, valid_acc: 0.3179\n",
      "epoch: 40, train_loss: 1.2751             valid_loss: 1.3660, valid_acc: 0.3266\n",
      "epoch: 50, train_loss: 1.2524             valid_loss: 1.3601, valid_acc: 0.3526\n",
      "epoch: 60, train_loss: 1.2316             valid_loss: 1.3568, valid_acc: 0.3526\n",
      "epoch: 70, train_loss: 1.2128             valid_loss: 1.3527, valid_acc: 0.3642\n",
      "tam muestra de entrenamiento\n",
      "torch.Size([807, 50])\n",
      "torch.Size([807])\n"
     ]
    },
    {
     "name": "stderr",
     "output_type": "stream",
     "text": [
      "<timed exec>:10: FutureWarning: The frame.append method is deprecated and will be removed from pandas in a future version. Use pandas.concat instead.\n"
     ]
    },
    {
     "name": "stdout",
     "output_type": "stream",
     "text": [
      "epoch: 0, train_loss: 1.4002             valid_loss: 1.4090, valid_acc: 0.2514\n",
      "epoch: 10, train_loss: 1.3567             valid_loss: 1.3895, valid_acc: 0.2861\n",
      "epoch: 20, train_loss: 1.3263             valid_loss: 1.3789, valid_acc: 0.3208\n",
      "epoch: 30, train_loss: 1.2997             valid_loss: 1.3711, valid_acc: 0.3179\n",
      "epoch: 40, train_loss: 1.2751             valid_loss: 1.3660, valid_acc: 0.3266\n",
      "epoch: 50, train_loss: 1.2524             valid_loss: 1.3601, valid_acc: 0.3526\n",
      "epoch: 60, train_loss: 1.2316             valid_loss: 1.3568, valid_acc: 0.3526\n",
      "epoch: 70, train_loss: 1.2128             valid_loss: 1.3527, valid_acc: 0.3642\n",
      "epoch: 80, train_loss: 1.1962             valid_loss: 1.3492, valid_acc: 0.3642\n",
      "epoch: 90, train_loss: 1.1811             valid_loss: 1.3479, valid_acc: 0.3757\n"
     ]
    },
    {
     "name": "stderr",
     "output_type": "stream",
     "text": [
      "<timed exec>:10: FutureWarning: The frame.append method is deprecated and will be removed from pandas in a future version. Use pandas.concat instead.\n"
     ]
    },
    {
     "name": "stdout",
     "output_type": "stream",
     "text": [
      "tam muestra de entrenamiento\n",
      "torch.Size([807, 50])\n",
      "torch.Size([807])\n",
      "epoch: 0, train_loss: 1.4002             valid_loss: 1.4090, valid_acc: 0.2514\n",
      "epoch: 10, train_loss: 1.3567             valid_loss: 1.3895, valid_acc: 0.2861\n",
      "epoch: 20, train_loss: 1.3263             valid_loss: 1.3789, valid_acc: 0.3208\n",
      "epoch: 30, train_loss: 1.2997             valid_loss: 1.3711, valid_acc: 0.3179\n",
      "epoch: 40, train_loss: 1.2751             valid_loss: 1.3660, valid_acc: 0.3266\n",
      "epoch: 50, train_loss: 1.2524             valid_loss: 1.3601, valid_acc: 0.3526\n",
      "epoch: 60, train_loss: 1.2316             valid_loss: 1.3568, valid_acc: 0.3526\n",
      "epoch: 70, train_loss: 1.2128             valid_loss: 1.3527, valid_acc: 0.3642\n",
      "epoch: 80, train_loss: 1.1962             valid_loss: 1.3492, valid_acc: 0.3642\n",
      "epoch: 90, train_loss: 1.1811             valid_loss: 1.3479, valid_acc: 0.3757\n",
      "epoch: 100, train_loss: 1.1665             valid_loss: 1.3458, valid_acc: 0.3815\n",
      "epoch: 110, train_loss: 1.1531             valid_loss: 1.3445, valid_acc: 0.3844\n",
      "epoch: 120, train_loss: 1.1402             valid_loss: 1.3441, valid_acc: 0.3844\n",
      "epoch: 130, train_loss: 1.1277             valid_loss: 1.3418, valid_acc: 0.3960\n",
      "epoch: 140, train_loss: 1.1164             valid_loss: 1.3421, valid_acc: 0.3873\n",
      "epoch: 150, train_loss: 1.1059             valid_loss: 1.3413, valid_acc: 0.3844\n",
      "epoch: 160, train_loss: 1.0960             valid_loss: 1.3407, valid_acc: 0.3960\n",
      "epoch: 170, train_loss: 1.0862             valid_loss: 1.3419, valid_acc: 0.3988\n",
      "epoch: 180, train_loss: 1.0770             valid_loss: 1.3434, valid_acc: 0.3960\n",
      "epoch: 190, train_loss: 1.0679             valid_loss: 1.3466, valid_acc: 0.4046\n"
     ]
    },
    {
     "name": "stderr",
     "output_type": "stream",
     "text": [
      "<timed exec>:10: FutureWarning: The frame.append method is deprecated and will be removed from pandas in a future version. Use pandas.concat instead.\n"
     ]
    },
    {
     "name": "stdout",
     "output_type": "stream",
     "text": [
      "tam muestra de entrenamiento\n",
      "torch.Size([807, 50])\n",
      "torch.Size([807])\n",
      "epoch: 0, train_loss: 1.4136             valid_loss: 1.3953, valid_acc: 0.3439\n"
     ]
    },
    {
     "name": "stderr",
     "output_type": "stream",
     "text": [
      "<timed exec>:10: FutureWarning: The frame.append method is deprecated and will be removed from pandas in a future version. Use pandas.concat instead.\n"
     ]
    },
    {
     "name": "stdout",
     "output_type": "stream",
     "text": [
      "tam muestra de entrenamiento\n",
      "torch.Size([807, 50])\n",
      "torch.Size([807])\n",
      "epoch: 0, train_loss: 1.4136             valid_loss: 1.3953, valid_acc: 0.3439\n",
      "epoch: 10, train_loss: 1.3406             valid_loss: 1.3648, valid_acc: 0.3266\n",
      "epoch: 20, train_loss: 1.3059             valid_loss: 1.3560, valid_acc: 0.3353\n",
      "epoch: 30, train_loss: 1.2754             valid_loss: 1.3466, valid_acc: 0.3699\n",
      "epoch: 40, train_loss: 1.2457             valid_loss: 1.3392, valid_acc: 0.3757\n"
     ]
    },
    {
     "name": "stderr",
     "output_type": "stream",
     "text": [
      "<timed exec>:10: FutureWarning: The frame.append method is deprecated and will be removed from pandas in a future version. Use pandas.concat instead.\n"
     ]
    },
    {
     "name": "stdout",
     "output_type": "stream",
     "text": [
      "tam muestra de entrenamiento\n",
      "torch.Size([807, 50])\n",
      "torch.Size([807])\n",
      "epoch: 0, train_loss: 1.4136             valid_loss: 1.3953, valid_acc: 0.3439\n",
      "epoch: 10, train_loss: 1.3406             valid_loss: 1.3648, valid_acc: 0.3266\n",
      "epoch: 20, train_loss: 1.3059             valid_loss: 1.3560, valid_acc: 0.3353\n",
      "epoch: 30, train_loss: 1.2754             valid_loss: 1.3466, valid_acc: 0.3699\n",
      "epoch: 40, train_loss: 1.2457             valid_loss: 1.3392, valid_acc: 0.3757\n",
      "epoch: 50, train_loss: 1.2173             valid_loss: 1.3332, valid_acc: 0.3728\n",
      "epoch: 60, train_loss: 1.1901             valid_loss: 1.3278, valid_acc: 0.3613\n",
      "epoch: 70, train_loss: 1.1644             valid_loss: 1.3250, valid_acc: 0.3728\n"
     ]
    },
    {
     "name": "stderr",
     "output_type": "stream",
     "text": [
      "<timed exec>:10: FutureWarning: The frame.append method is deprecated and will be removed from pandas in a future version. Use pandas.concat instead.\n"
     ]
    },
    {
     "name": "stdout",
     "output_type": "stream",
     "text": [
      "tam muestra de entrenamiento\n",
      "torch.Size([807, 50])\n",
      "torch.Size([807])\n",
      "epoch: 0, train_loss: 1.4136             valid_loss: 1.3953, valid_acc: 0.3439\n",
      "epoch: 10, train_loss: 1.3406             valid_loss: 1.3648, valid_acc: 0.3266\n",
      "epoch: 20, train_loss: 1.3059             valid_loss: 1.3560, valid_acc: 0.3353\n",
      "epoch: 30, train_loss: 1.2754             valid_loss: 1.3466, valid_acc: 0.3699\n",
      "epoch: 40, train_loss: 1.2457             valid_loss: 1.3392, valid_acc: 0.3757\n",
      "epoch: 50, train_loss: 1.2173             valid_loss: 1.3332, valid_acc: 0.3728\n",
      "epoch: 60, train_loss: 1.1901             valid_loss: 1.3278, valid_acc: 0.3613\n",
      "epoch: 70, train_loss: 1.1644             valid_loss: 1.3250, valid_acc: 0.3728\n",
      "epoch: 80, train_loss: 1.1399             valid_loss: 1.3246, valid_acc: 0.3757\n",
      "epoch: 90, train_loss: 1.1175             valid_loss: 1.3238, valid_acc: 0.3728\n"
     ]
    },
    {
     "name": "stderr",
     "output_type": "stream",
     "text": [
      "<timed exec>:10: FutureWarning: The frame.append method is deprecated and will be removed from pandas in a future version. Use pandas.concat instead.\n"
     ]
    },
    {
     "name": "stdout",
     "output_type": "stream",
     "text": [
      "tam muestra de entrenamiento\n",
      "torch.Size([807, 50])\n",
      "torch.Size([807])\n",
      "epoch: 0, train_loss: 1.4136             valid_loss: 1.3953, valid_acc: 0.3439\n",
      "epoch: 10, train_loss: 1.3406             valid_loss: 1.3648, valid_acc: 0.3266\n",
      "epoch: 20, train_loss: 1.3059             valid_loss: 1.3560, valid_acc: 0.3353\n",
      "epoch: 30, train_loss: 1.2754             valid_loss: 1.3466, valid_acc: 0.3699\n",
      "epoch: 40, train_loss: 1.2457             valid_loss: 1.3392, valid_acc: 0.3757\n",
      "epoch: 50, train_loss: 1.2173             valid_loss: 1.3332, valid_acc: 0.3728\n",
      "epoch: 60, train_loss: 1.1901             valid_loss: 1.3278, valid_acc: 0.3613\n",
      "epoch: 70, train_loss: 1.1644             valid_loss: 1.3250, valid_acc: 0.3728\n",
      "epoch: 80, train_loss: 1.1399             valid_loss: 1.3246, valid_acc: 0.3757\n",
      "epoch: 90, train_loss: 1.1175             valid_loss: 1.3238, valid_acc: 0.3728\n",
      "epoch: 100, train_loss: 1.0968             valid_loss: 1.3250, valid_acc: 0.3786\n",
      "epoch: 110, train_loss: 1.0770             valid_loss: 1.3260, valid_acc: 0.3757\n",
      "epoch: 120, train_loss: 1.0585             valid_loss: 1.3308, valid_acc: 0.3815\n",
      "epoch: 130, train_loss: 1.0412             valid_loss: 1.3370, valid_acc: 0.3757\n",
      "epoch: 140, train_loss: 1.0251             valid_loss: 1.3410, valid_acc: 0.3931\n",
      "epoch: 150, train_loss: 1.0093             valid_loss: 1.3455, valid_acc: 0.3960\n",
      "epoch: 160, train_loss: 0.9949             valid_loss: 1.3521, valid_acc: 0.3988\n",
      "epoch: 170, train_loss: 0.9810             valid_loss: 1.3557, valid_acc: 0.3988\n",
      "epoch: 180, train_loss: 0.9677             valid_loss: 1.3597, valid_acc: 0.4046\n",
      "epoch: 190, train_loss: 0.9547             valid_loss: 1.3635, valid_acc: 0.4075\n"
     ]
    },
    {
     "name": "stderr",
     "output_type": "stream",
     "text": [
      "<timed exec>:10: FutureWarning: The frame.append method is deprecated and will be removed from pandas in a future version. Use pandas.concat instead.\n"
     ]
    },
    {
     "name": "stdout",
     "output_type": "stream",
     "text": [
      "tam muestra de entrenamiento\n",
      "torch.Size([807, 50])\n",
      "torch.Size([807])\n",
      "epoch: 0, train_loss: 1.4372             valid_loss: 1.3996, valid_acc: 0.2486\n"
     ]
    },
    {
     "name": "stderr",
     "output_type": "stream",
     "text": [
      "<timed exec>:10: FutureWarning: The frame.append method is deprecated and will be removed from pandas in a future version. Use pandas.concat instead.\n"
     ]
    },
    {
     "name": "stdout",
     "output_type": "stream",
     "text": [
      "tam muestra de entrenamiento\n",
      "torch.Size([807, 50])\n",
      "torch.Size([807])\n",
      "epoch: 0, train_loss: 1.4372             valid_loss: 1.3996, valid_acc: 0.2486\n",
      "epoch: 10, train_loss: 1.3427             valid_loss: 1.3546, valid_acc: 0.2890\n",
      "epoch: 20, train_loss: 1.2975             valid_loss: 1.3392, valid_acc: 0.3382\n",
      "epoch: 30, train_loss: 1.2623             valid_loss: 1.3298, valid_acc: 0.3526\n",
      "epoch: 40, train_loss: 1.2299             valid_loss: 1.3219, valid_acc: 0.3671\n"
     ]
    },
    {
     "name": "stderr",
     "output_type": "stream",
     "text": [
      "<timed exec>:10: FutureWarning: The frame.append method is deprecated and will be removed from pandas in a future version. Use pandas.concat instead.\n"
     ]
    },
    {
     "name": "stdout",
     "output_type": "stream",
     "text": [
      "tam muestra de entrenamiento\n",
      "torch.Size([807, 50])\n",
      "torch.Size([807])\n",
      "epoch: 0, train_loss: 1.4372             valid_loss: 1.3996, valid_acc: 0.2486\n",
      "epoch: 10, train_loss: 1.3427             valid_loss: 1.3546, valid_acc: 0.2890\n",
      "epoch: 20, train_loss: 1.2975             valid_loss: 1.3392, valid_acc: 0.3382\n",
      "epoch: 30, train_loss: 1.2623             valid_loss: 1.3298, valid_acc: 0.3526\n",
      "epoch: 40, train_loss: 1.2299             valid_loss: 1.3219, valid_acc: 0.3671\n",
      "epoch: 50, train_loss: 1.2007             valid_loss: 1.3143, valid_acc: 0.3699\n",
      "epoch: 60, train_loss: 1.1734             valid_loss: 1.3091, valid_acc: 0.3844\n",
      "epoch: 70, train_loss: 1.1474             valid_loss: 1.3061, valid_acc: 0.3786\n"
     ]
    },
    {
     "name": "stderr",
     "output_type": "stream",
     "text": [
      "<timed exec>:10: FutureWarning: The frame.append method is deprecated and will be removed from pandas in a future version. Use pandas.concat instead.\n"
     ]
    },
    {
     "name": "stdout",
     "output_type": "stream",
     "text": [
      "tam muestra de entrenamiento\n",
      "torch.Size([807, 50])\n",
      "torch.Size([807])\n",
      "epoch: 0, train_loss: 1.4372             valid_loss: 1.3996, valid_acc: 0.2486\n",
      "epoch: 10, train_loss: 1.3427             valid_loss: 1.3546, valid_acc: 0.2890\n",
      "epoch: 20, train_loss: 1.2975             valid_loss: 1.3392, valid_acc: 0.3382\n",
      "epoch: 30, train_loss: 1.2623             valid_loss: 1.3298, valid_acc: 0.3526\n",
      "epoch: 40, train_loss: 1.2299             valid_loss: 1.3219, valid_acc: 0.3671\n",
      "epoch: 50, train_loss: 1.2007             valid_loss: 1.3143, valid_acc: 0.3699\n",
      "epoch: 60, train_loss: 1.1734             valid_loss: 1.3091, valid_acc: 0.3844\n",
      "epoch: 70, train_loss: 1.1474             valid_loss: 1.3061, valid_acc: 0.3786\n",
      "epoch: 80, train_loss: 1.1234             valid_loss: 1.3025, valid_acc: 0.3960\n",
      "epoch: 90, train_loss: 1.1002             valid_loss: 1.3029, valid_acc: 0.3931\n"
     ]
    },
    {
     "name": "stderr",
     "output_type": "stream",
     "text": [
      "<timed exec>:10: FutureWarning: The frame.append method is deprecated and will be removed from pandas in a future version. Use pandas.concat instead.\n"
     ]
    },
    {
     "name": "stdout",
     "output_type": "stream",
     "text": [
      "tam muestra de entrenamiento\n",
      "torch.Size([807, 50])\n",
      "torch.Size([807])\n",
      "epoch: 0, train_loss: 1.4372             valid_loss: 1.3996, valid_acc: 0.2486\n",
      "epoch: 10, train_loss: 1.3427             valid_loss: 1.3546, valid_acc: 0.2890\n",
      "epoch: 20, train_loss: 1.2975             valid_loss: 1.3392, valid_acc: 0.3382\n",
      "epoch: 30, train_loss: 1.2623             valid_loss: 1.3298, valid_acc: 0.3526\n",
      "epoch: 40, train_loss: 1.2299             valid_loss: 1.3219, valid_acc: 0.3671\n",
      "epoch: 50, train_loss: 1.2007             valid_loss: 1.3143, valid_acc: 0.3699\n",
      "epoch: 60, train_loss: 1.1734             valid_loss: 1.3091, valid_acc: 0.3844\n",
      "epoch: 70, train_loss: 1.1474             valid_loss: 1.3061, valid_acc: 0.3786\n",
      "epoch: 80, train_loss: 1.1234             valid_loss: 1.3025, valid_acc: 0.3960\n",
      "epoch: 90, train_loss: 1.1002             valid_loss: 1.3029, valid_acc: 0.3931\n",
      "epoch: 100, train_loss: 1.0789             valid_loss: 1.3038, valid_acc: 0.4046\n",
      "epoch: 110, train_loss: 1.0583             valid_loss: 1.3088, valid_acc: 0.4046\n",
      "epoch: 120, train_loss: 1.0394             valid_loss: 1.3099, valid_acc: 0.3931\n",
      "epoch: 130, train_loss: 1.0209             valid_loss: 1.3136, valid_acc: 0.4075\n",
      "epoch: 140, train_loss: 1.0037             valid_loss: 1.3182, valid_acc: 0.4075\n",
      "epoch: 150, train_loss: 0.9869             valid_loss: 1.3227, valid_acc: 0.4133\n",
      "epoch: 160, train_loss: 0.9705             valid_loss: 1.3263, valid_acc: 0.4046\n",
      "epoch: 170, train_loss: 0.9553             valid_loss: 1.3319, valid_acc: 0.4162\n",
      "epoch: 180, train_loss: 0.9407             valid_loss: 1.3378, valid_acc: 0.4220\n",
      "epoch: 190, train_loss: 0.9260             valid_loss: 1.3428, valid_acc: 0.4075\n",
      "CPU times: user 3min 30s, sys: 1min 5s, total: 4min 35s\n",
      "Wall time: 2min 23s\n"
     ]
    }
   ],
   "source": [
    "%%time\n",
    "param_names = list(params_.keys())\n",
    "# zip with parameter names in order to get original property\n",
    "param_values = (zip(param_names, x) for x in product(*params_.values()))\n",
    "\n",
    "result_val_acc = list()\n",
    "output = pd.DataFrame()\n",
    "for paramset in param_values:\n",
    "    # use the dict from iterator of tuples constructor\n",
    "    dict_temp = dict(paramset)\n",
    "    output = output.append(dict_temp, ignore_index=True)\n",
    "    # operando la grilla para tener el accuracy y guardar en lista\n",
    "\n",
    "\n",
    "    result_val_acc.append(grid_excercise(X=X,\n",
    "                y=y,\n",
    "                RANDOM_SEED=123,\n",
    "                BATCH_SIZE=50,\n",
    "                NUM_EPOCHS=dict_temp['epochs'],\n",
    "                lr=dict_temp['learning_rate'],\n",
    "                NUM_HIDDEN = dict_temp['NUM_HIDDEN'],\n",
    "                DEVICE = torch.device('cuda:0' if torch.cuda.is_available() else 'cpu'), #carga de la red neuronal en la CPU o en la GPU\n",
    "                get_results= False\n",
    "                    ))\n",
    "    "
   ]
  },
  {
   "cell_type": "code",
   "execution_count": 116,
   "metadata": {},
   "outputs": [
    {
     "name": "stdout",
     "output_type": "stream",
     "text": [
      "MEJOR COMBINACIÓN DE Parametros\n"
     ]
    },
    {
     "data": {
      "text/html": [
       "<div>\n",
       "<style scoped>\n",
       "    .dataframe tbody tr th:only-of-type {\n",
       "        vertical-align: middle;\n",
       "    }\n",
       "\n",
       "    .dataframe tbody tr th {\n",
       "        vertical-align: top;\n",
       "    }\n",
       "\n",
       "    .dataframe thead th {\n",
       "        text-align: right;\n",
       "    }\n",
       "</style>\n",
       "<table border=\"1\" class=\"dataframe\">\n",
       "  <thead>\n",
       "    <tr style=\"text-align: right;\">\n",
       "      <th></th>\n",
       "      <th>index</th>\n",
       "      <th>learning_rate</th>\n",
       "      <th>NUM_HIDDEN</th>\n",
       "      <th>epochs</th>\n",
       "      <th>acc_val</th>\n",
       "    </tr>\n",
       "  </thead>\n",
       "  <tbody>\n",
       "    <tr>\n",
       "      <th>0</th>\n",
       "      <td>8</td>\n",
       "      <td>0.1</td>\n",
       "      <td>50.0</td>\n",
       "      <td>100.0</td>\n",
       "      <td>0.445087</td>\n",
       "    </tr>\n",
       "  </tbody>\n",
       "</table>\n",
       "</div>"
      ],
      "text/plain": [
       "   index  learning_rate  NUM_HIDDEN  epochs   acc_val\n",
       "0      8            0.1        50.0   100.0  0.445087"
      ]
     },
     "execution_count": 116,
     "metadata": {},
     "output_type": "execute_result"
    }
   ],
   "source": [
    "output = output.assign(acc_val = result_val_acc)\n",
    "print('MEJOR COMBINACIÓN DE Parametros')\n",
    "best_params = output.loc[output.acc_val == output.acc_val.max()].reset_index()\n",
    "best_params"
   ]
  },
  {
   "cell_type": "code",
   "execution_count": 138,
   "metadata": {},
   "outputs": [],
   "source": [
    "LR= best_params.learning_rate[0]\n",
    "NUM_EPOCHS = int(best_params.epochs[0])\n",
    "NUM_HIDDEN = int(best_params.NUM_HIDDEN[0])"
   ]
  },
  {
   "cell_type": "code",
   "execution_count": 139,
   "metadata": {},
   "outputs": [
    {
     "name": "stdout",
     "output_type": "stream",
     "text": [
      "tam muestra de entrenamiento\n",
      "torch.Size([807, 50])\n",
      "torch.Size([807])\n",
      "epoch: 0, train_loss: 1.3862             valid_loss: 1.3622, valid_acc: 0.3179\n",
      "epoch: 10, train_loss: 1.1130             valid_loss: 1.3234, valid_acc: 0.3699\n",
      "epoch: 20, train_loss: 0.9698             valid_loss: 1.3738, valid_acc: 0.4075\n",
      "epoch: 30, train_loss: 0.8663             valid_loss: 1.4125, valid_acc: 0.4249\n",
      "epoch: 40, train_loss: 0.7723             valid_loss: 1.5189, valid_acc: 0.4162\n",
      "epoch: 50, train_loss: 0.7034             valid_loss: 1.5674, valid_acc: 0.4162\n",
      "epoch: 60, train_loss: 0.6321             valid_loss: 1.6721, valid_acc: 0.4104\n",
      "epoch: 70, train_loss: 0.5759             valid_loss: 1.7243, valid_acc: 0.4422\n",
      "epoch: 80, train_loss: 0.5244             valid_loss: 1.8678, valid_acc: 0.4422\n",
      "epoch: 90, train_loss: 0.4782             valid_loss: 1.8962, valid_acc: 0.4480\n"
     ]
    }
   ],
   "source": [
    "train_losses,train_accs,valid_losses,valid_accs = grid_excercise(X=X,\n",
    "                                                                 y=y,\n",
    "                                                                 RANDOM_SEED=123,\n",
    "                                                                 BATCH_SIZE=50,\n",
    "                                                                 NUM_EPOCHS=NUM_EPOCHS,\n",
    "                                                                 lr=LR,\n",
    "                                                                 NUM_HIDDEN = NUM_HIDDEN,\n",
    "                                                                 DEVICE = torch.device('cuda:0' if torch.cuda.is_available() else 'cpu'), #carga de la red neuronal en la CPU o en la GPU\n",
    "                                                                 get_results= True)"
   ]
  },
  {
   "cell_type": "code",
   "execution_count": 140,
   "metadata": {},
   "outputs": [
    {
     "data": {
      "text/plain": [
       "Text(0.5, 1.0, 'Loss')"
      ]
     },
     "execution_count": 140,
     "metadata": {},
     "output_type": "execute_result"
    },
    {
     "data": {
      "image/png": "[encoded data removed]",
      "text/plain": [
       "<Figure size 640x480 with 1 Axes>"
      ]
     },
     "metadata": {},
     "output_type": "display_data"
    }
   ],
   "source": [
    "NUM_EPOCHS=100\n",
    "\n",
    "plt.plot(range(NUM_EPOCHS), train_losses, 'r', label='train')\n",
    "plt.plot(range(NUM_EPOCHS), valid_losses, 'b', label = 'valid')\n",
    "plt.legend()\n",
    "plt.title('Loss')"
   ]
  },
  {
   "cell_type": "code",
   "execution_count": 141,
   "metadata": {},
   "outputs": [
    {
     "data": {
      "text/plain": [
       "Text(0.5, 1.0, 'Accuracy')"
      ]
     },
     "execution_count": 141,
     "metadata": {},
     "output_type": "execute_result"
    },
    {
     "data": {
      "image/png": "[encoded data removed]",
      "text/plain": [
       "<Figure size 640x480 with 1 Axes>"
      ]
     },
     "metadata": {},
     "output_type": "display_data"
    }
   ],
   "source": [
    "plt.plot(range(NUM_EPOCHS), valid_accs, 'y', label = 'test')\n",
    "plt.legend()\n",
    "plt.title('Accuracy')"
   ]
  },
  {
   "cell_type": "markdown",
   "metadata": {},
   "source": [
    "-----"
   ]
  },
  {
   "cell_type": "markdown",
   "metadata": {},
   "source": [
    "### Ejercicio 5\n",
    "Este ejercicio, es más bien un tutorial de como realizar un clasificador de ventanas de palabras, acercandónos a un problema de NLP conocido como \"Name Entity Recognition\" (NER), el cual busca clasificar cada palabra en por ejemplo si es un nombre, pronombre, verbo, lugar, etc. Esto es muy importante, porque introduce varias cuestiones claves que se usan en el NLP con deep learning. Al final, el ejercicio será (1) entender cada parte y (2) realizar el mismo procedimiento pero clasificando entre varios tipos de palabras (no sólo una). "
   ]
  },
  {
   "cell_type": "markdown",
   "metadata": {
    "lang": "es"
   },
   "source": [
    "### Clasificación de ventanas de palabras (Word Window Classification) paso a paso\n",
    "\n",
    "En esta tarea de NLP aprenderemos:\n",
    "\n",
    "1. Datos: creación de un conjunto de datos de tensores por batches\n",
    "2. Modelado\n",
    "3. Entrenamiento\n",
    "4. Predicción\n",
    "\n",
    "En esta sección, nuestro objetivo será entrenar un modelo que encuentre las palabras en una oración correspondiente a una 'UBICACIÓN', que siempre tendrá un intervalo de '1' (lo que significa que 'San Francisco' no se reconocerá como un `UBICACIÓN`). Nuestra tarea se llama `Clasificación de ventana de palabras` por una razón. En lugar de permitir que nuestro modelo solo eche un vistazo a una palabra en cada paso hacia adelante, nos gustaría que pudiera considerar el contexto de la palabra en cuestión. Es decir, para cada palabra, queremos que nuestro modelo sea consciente de las palabras que lo rodean."
   ]
  },
  {
   "cell_type": "code",
   "execution_count": 142,
   "metadata": {
    "ExecuteTime": {
     "end_time": "2022-02-28T12:01:54.597689Z",
     "start_time": "2022-02-28T12:01:54.594870Z"
    },
    "lang": "es"
   },
   "outputs": [],
   "source": [
    "# Nuestros datos sin procesar, que consisten en oraciones\n",
    "corpus = [\n",
    "          \"Nosotros siempre venimos a París\",\n",
    "          \"El profesor es de Australia\",\n",
    "          \"Yo vivo en Bogotá\",\n",
    "          \"Él viene de Taiwán\",\n",
    "          \"La capital de Turquía es Ankara\"\n",
    "         ]"
   ]
  },
  {
   "cell_type": "markdown",
   "metadata": {
    "lang": "es"
   },
   "source": [
    "#### Preprocesamiento\n",
    "\n",
    "Para facilitar el aprendizaje de nuestros modelos, generalmente aplicamos algunos pasos de preprocesamiento a nuestros datos. Esto es especialmente importante cuando se trata de datos de texto. Estos son algunos ejemplos de preprocesamiento de texto:\n",
    "* **Tokenización**: Tokenización de oraciones en palabras.\n",
    "* **Lowercasing**: Cambiar todas las letras a minúsculas.\n",
    "* **Eliminación de ruido**: Eliminación de caracteres especiales (como signos de puntuación o quitar tíldes).\n",
    "* **Eliminación de palabras vacías**: eliminación de palabras de uso común.\n",
    "\n",
    "Los pasos de preprocesamiento necesarios están determinados por la tarea en cuestión. Por ejemplo, aunque es útil eliminar caracteres especiales en algunas tareas, para otras pueden ser importantes (por ejemplo, si estamos hablando de varios idiomas). Para nuestra tarea, escribiremos en minúsculas nuestras palabras y tokenizaremos."
   ]
  },
  {
   "cell_type": "code",
   "execution_count": 143,
   "metadata": {
    "ExecuteTime": {
     "end_time": "2022-02-28T17:29:42.298122Z",
     "start_time": "2022-02-28T17:29:42.294408Z"
    }
   },
   "outputs": [],
   "source": [
    "import re\n",
    "from unicodedata import normalize\n",
    "def quitartildes(s):\n",
    "    # -> NFD y eliminar diacríticos\n",
    "    s = re.sub(\n",
    "            r\"([^n\\u0300-\\u036f]|n(?!\\u0303(?![\\u0300-\\u036f])))[\\u0300-\\u036f]+\", r\"\\1\", \n",
    "            normalize( \"NFD\", s), 0, re.I\n",
    "        )\n",
    "\n",
    "    # -> NFCNosotros\n",
    "    return normalize( 'NFC', s)"
   ]
  },
  {
   "cell_type": "code",
   "execution_count": 144,
   "metadata": {
    "ExecuteTime": {
     "end_time": "2022-02-28T12:02:33.349815Z",
     "start_time": "2022-02-28T12:02:33.338195Z"
    },
    "colab": {
     "base_uri": "https://localhost:8080/"
    },
    "id": "fTGn8ANTzZXT",
    "lang": "en",
    "outputId": "0ed249ae-7272-4400-9319-d7cc9dca02d4"
   },
   "outputs": [
    {
     "data": {
      "text/plain": [
       "[['nosotros', 'siempre', 'venimos', 'a', 'paris'],\n",
       " ['el', 'profesor', 'es', 'de', 'australia'],\n",
       " ['yo', 'vivo', 'en', 'bogota'],\n",
       " ['el', 'viene', 'de', 'taiwan'],\n",
       " ['la', 'capital', 'de', 'turquia', 'es', 'ankara']]"
      ]
     },
     "execution_count": 144,
     "metadata": {},
     "output_type": "execute_result"
    }
   ],
   "source": [
    "# La función de preprocesamiento que usaremos para generar nuestros ejemplos de entrenamiento\n",
    "# Nuestra función es simple, ponemos las letras en minúsculas, quitamos tildes\n",
    "# y luego tokenizamos las palabras.\n",
    "def preprocess_sentence(sentence):\n",
    "  return quitartildes(sentence).lower().split()\n",
    "\n",
    "# Crea nuestro conjunto de entrenamiento\n",
    "train_sentences = [preprocess_sentence(sent) for sent in corpus]\n",
    "train_sentences"
   ]
  },
  {
   "cell_type": "markdown",
   "metadata": {
    "lang": "es"
   },
   "source": [
    "Para cada ejemplo de entrenamiento que tengamos, también deberíamos tener una etiqueta correspondiente. Recuerde que el objetivo de nuestro modelo era determinar qué palabras corresponden a una `UBICACIÓN`. Es decir, queremos que nuestro modelo genere `0` para todas las palabras que no sean `UBICACION` y `1` para las que sean `UBICACION`."
   ]
  },
  {
   "cell_type": "code",
   "execution_count": 145,
   "metadata": {
    "ExecuteTime": {
     "end_time": "2022-02-28T12:04:05.416956Z",
     "start_time": "2022-02-28T12:04:05.411731Z"
    },
    "colab": {
     "base_uri": "https://localhost:8080/"
    },
    "id": "3wo1kcMAHFw7",
    "outputId": "f064cb0b-7176-4825-bab9-f7c00accff3a"
   },
   "outputs": [
    {
     "data": {
      "text/plain": [
       "[[0, 0, 0, 0, 1],\n",
       " [0, 0, 0, 0, 1],\n",
       " [0, 0, 0, 1],\n",
       " [0, 0, 0, 1],\n",
       " [0, 0, 0, 1, 0, 1]]"
      ]
     },
     "execution_count": 145,
     "metadata": {},
     "output_type": "execute_result"
    }
   ],
   "source": [
    "# Set de ubicaciones que aparecen en el corpus\n",
    "locations = set([\"australia\", \"ankara\", \"paris\", \"bogota\", \"taiwan\", \"turquia\"])\n",
    "\n",
    "# Nuestras etiquetas de entrenamiento\n",
    "train_labels = [[1 if word in locations else 0 for word in sent] for sent in train_sentences]\n",
    "train_labels"
   ]
  },
  {
   "cell_type": "markdown",
   "metadata": {
    "lang": "es"
   },
   "source": [
    "#### Convertir palabras a Embeddings\n",
    "\n",
    "Veamos nuestros datos de entrenamiento un poco más de cerca. Cada punto de datos que tenemos es una secuencia de palabras. Por otro lado, sabemos que los modelos de aprendizaje automático funcionan con números en vectores. ¿Cómo vamos a convertir las palabras en números? ¡A través de los embeddings!\n",
    "\n",
    "Imagine que tenemos una tabla de búsqueda de embeddings `E`, donde cada fila corresponde a un embedding. Es decir, cada palabra de nuestro vocabulario tendría una fila de embedding `i` correspondiente en esta tabla. Siempre que queramos encontrar una embedding para una palabra, seguiremos estos pasos:\n",
    "1. Buscar el índice correspondiente `i` de la palabra en la tabla de embedding: `palabra->índice`.\n",
    "2. Indexar en la tabla de embedding y obtener el embedding: `índice->embedding`.\n",
    "\n",
    "Veamos el primer paso. Deberíamos asignar todas las palabras de nuestro vocabulario a un índice correspondiente. Podemos hacerlo de la siguiente manera:\n",
    "1. Encontrando todas las palabras únicas en nuestro corpus.\n",
    "2. Asignando un índice a cada uno."
   ]
  },
  {
   "cell_type": "code",
   "execution_count": 146,
   "metadata": {
    "ExecuteTime": {
     "end_time": "2022-02-28T12:19:17.566727Z",
     "start_time": "2022-02-28T12:19:17.562687Z"
    },
    "colab": {
     "base_uri": "https://localhost:8080/"
    },
    "id": "SjTDlfPyVp5z",
    "lang": "en",
    "outputId": "bce95386-3b75-470b-8c9b-9c2255203c4e"
   },
   "outputs": [
    {
     "data": {
      "text/plain": [
       "{'a',\n",
       " 'ankara',\n",
       " 'australia',\n",
       " 'bogota',\n",
       " 'capital',\n",
       " 'de',\n",
       " 'el',\n",
       " 'en',\n",
       " 'es',\n",
       " 'la',\n",
       " 'nosotros',\n",
       " 'paris',\n",
       " 'profesor',\n",
       " 'siempre',\n",
       " 'taiwan',\n",
       " 'turquia',\n",
       " 'venimos',\n",
       " 'viene',\n",
       " 'vivo',\n",
       " 'yo'}"
      ]
     },
     "execution_count": 146,
     "metadata": {},
     "output_type": "execute_result"
    }
   ],
   "source": [
    "# Encuentra todas las palabras únicas en nuestro corpus\n",
    "vocabulary = set(w for s in train_sentences for w in s)\n",
    "vocabulary"
   ]
  },
  {
   "cell_type": "markdown",
   "metadata": {
    "lang": "es"
   },
   "source": [
    "`vocabulary` ahora contiene todas las palabras en nuestro corpus. Por otro lado, durante la (evaluación con el conjunto de) prueba, podemos ver palabras que no están contenidas en nuestro vocabulario. Si podemos encontrar una forma de representar las palabras desconocidas, nuestro modelo aún podría razonar sobre si son una 'UBICACIÓN' o no, ya que también estamos mirando las palabras vecinas para cada predicción.\n",
    "\n",
    "Introducimos un token especial, `<unk>`, para abordar las palabras que están fuera del vocabulario. Podríamos elegir otra cadena para nuestro token desconocido si quisiéramos. El único requisito aquí es que nuestro token debe ser único: solo debemos usar este token para palabras desconocidas. También agregaremos este token especial a nuestro vocabulario."
   ]
  },
  {
   "cell_type": "code",
   "execution_count": 147,
   "metadata": {
    "ExecuteTime": {
     "end_time": "2022-02-28T12:20:46.951737Z",
     "start_time": "2022-02-28T12:20:46.949319Z"
    },
    "lang": "es"
   },
   "outputs": [],
   "source": [
    "# Agrega el token desconocido a nuestro vocabulario\n",
    "vocabulary.add(\"<unk>\")"
   ]
  },
  {
   "cell_type": "markdown",
   "metadata": {
    "lang": "es"
   },
   "source": [
    "Anteriormente mencionamos que nuestra tarea se llamaba \"Clasificación de ventana de palabras\" porque nuestro modelo está mirando las palabras circundantes además de la palabra central, cuando se necesita hacer una predicción.\n",
    "\n",
    "Por ejemplo, tomemos la oración \"Nosotros siempre venimos a París\". La etiqueta de entrenamiento correspondiente para esta oración es `0, 0, 0, 0, 1` ya que solo París, la última palabra, es una `UBICACIÓN`. En una sola pasada (es decir, una llamada a `forward()`), nuestro modelo intentará generar la etiqueta correcta para una palabra. Digamos que nuestro modelo intenta generar la etiqueta correcta `1` para `París`. Si solo permitimos que nuestro modelo vea `París`, pero nada más, nos perderemos información importante, como por ejemplo, de que la palabra 'a' aparece muchas veces con `UBICACIONES`.\n",
    "\n",
    "Las ventanas de palabras permiten que nuestro modelo considere `+N` o `-N` palabras alrededor de cada palabra al hacer una predicción. En nuestro ejemplo anterior para `París`, si tenemos un tamaño de ventana de 1, eso significa que nuestro modelo mirará las palabras que vienen inmediatamente antes e inmediatamente después de `París`, que son `a` y, *ninguna palabra*. Ahora bien, esto plantea otro problema. `París` está al final de nuestra oración, por lo que no hay otra palabra que la siga. Recuerde que definimos las dimensiones de entrada de nuestros modelos en `PyTorch` cuando los inicializamos. Si establecemos el tamaño de la ventana en `1`, significa que nuestro modelo aceptará `3` palabras en cada paso. No podemos hacer que nuestro modelo espere `2` palabras de vez en cuando.\n",
    "\n",
    "La solución es introducir un token especial, `<pad>`, que se agregará a nuestras oraciones para asegurarnos de que cada palabra tenga una ventana válida alrededor. Similar al token `<unk>`, podríamos elegir otra cadena para nuestro token de relleno si quisiéramos, siempre y cuando nos aseguremos de que se use para un propósito único."
   ]
  },
  {
   "cell_type": "code",
   "execution_count": 148,
   "metadata": {
    "ExecuteTime": {
     "end_time": "2022-02-28T12:24:59.410072Z",
     "start_time": "2022-02-28T12:24:59.405189Z"
    },
    "colab": {
     "base_uri": "https://localhost:8080/"
    },
    "id": "ZVQsjYi6ZegI",
    "lang": "en",
    "outputId": "f0f45f18-0e91-48e5-f5b7-229c2c36a694"
   },
   "outputs": [
    {
     "data": {
      "text/plain": [
       "['<pad>',\n",
       " '<pad>',\n",
       " 'nosotros',\n",
       " 'siempre',\n",
       " 'venimos',\n",
       " 'a',\n",
       " 'paris',\n",
       " '<pad>',\n",
       " '<pad>']"
      ]
     },
     "execution_count": 148,
     "metadata": {},
     "output_type": "execute_result"
    }
   ],
   "source": [
    "# Agregua el token <pad> a nuestro vocabulario\n",
    "vocabulary.add(\"<pad>\")\n",
    "\n",
    "# Función que rellena la oración dada\n",
    "# Estamos introduciendo esta función aquí como un ejemplo\n",
    "# Lo utilizaremos más adelante en el tutorial.\n",
    "def pad_window(sentence, window_size, pad_token=\"<pad>\"):\n",
    "  window = [pad_token] * window_size\n",
    "  return window + sentence + window\n",
    "\n",
    "# Muestra un ejemplo de relleno\n",
    "window_size = 2\n",
    "pad_window(train_sentences[0], window_size=window_size)"
   ]
  },
  {
   "cell_type": "markdown",
   "metadata": {
    "lang": "es"
   },
   "source": [
    "Ahora que nuestro vocabulario está listo, asignemos un índice a cada una de nuestras palabras."
   ]
  },
  {
   "cell_type": "code",
   "execution_count": 149,
   "metadata": {
    "ExecuteTime": {
     "end_time": "2022-02-28T12:51:17.026347Z",
     "start_time": "2022-02-28T12:51:17.020997Z"
    },
    "colab": {
     "base_uri": "https://localhost:8080/"
    },
    "id": "BNCTQnKDa4oh",
    "lang": "en",
    "outputId": "dedbe39a-40c2-42e8-be56-96b6d961fd99"
   },
   "outputs": [
    {
     "data": {
      "text/plain": [
       "{'<pad>': 0,\n",
       " '<unk>': 1,\n",
       " 'a': 2,\n",
       " 'ankara': 3,\n",
       " 'australia': 4,\n",
       " 'bogota': 5,\n",
       " 'capital': 6,\n",
       " 'de': 7,\n",
       " 'el': 8,\n",
       " 'en': 9,\n",
       " 'es': 10,\n",
       " 'la': 11,\n",
       " 'nosotros': 12,\n",
       " 'paris': 13,\n",
       " 'profesor': 14,\n",
       " 'siempre': 15,\n",
       " 'taiwan': 16,\n",
       " 'turquia': 17,\n",
       " 'venimos': 18,\n",
       " 'viene': 19,\n",
       " 'vivo': 20,\n",
       " 'yo': 21}"
      ]
     },
     "execution_count": 149,
     "metadata": {},
     "output_type": "execute_result"
    }
   ],
   "source": [
    "# Solo estamos convirtiendo nuestro vocabulario en una lista para poder indexarla\n",
    "# Aunque ordenar no es necesario, ordenamos para mostrar un diccionario word_to_ind ordenado\n",
    "# Dicho esto, veremos que tener el índice para el token de relleno\n",
    "# como 0 es conveniente ya que algunas funciones de PyTorch lo usan como valor predeterminado\n",
    "# como sucede con nn.utils.rnn.pad_sequence, que veremos en un momento\n",
    "ix_to_word = sorted(list(vocabulary))\n",
    "\n",
    "# Creando un diccionario para encontrar el índice de una palabra dada\n",
    "word_to_ix = {word: ind for ind, word in enumerate(ix_to_word)}\n",
    "word_to_ix"
   ]
  },
  {
   "cell_type": "code",
   "execution_count": 150,
   "metadata": {
    "ExecuteTime": {
     "end_time": "2022-02-28T12:51:20.976293Z",
     "start_time": "2022-02-28T12:51:20.972583Z"
    },
    "colab": {
     "base_uri": "https://localhost:8080/",
     "height": 35
    },
    "id": "pt-0SK67hMVo",
    "outputId": "a8516317-65c7-4548-c0ac-6f6711a5370c"
   },
   "outputs": [
    {
     "data": {
      "text/plain": [
       "'<unk>'"
      ]
     },
     "execution_count": 150,
     "metadata": {},
     "output_type": "execute_result"
    }
   ],
   "source": [
    "ix_to_word[1]"
   ]
  },
  {
   "cell_type": "markdown",
   "metadata": {
    "lang": "es"
   },
   "source": [
    "Ahora, estamos listos para convertir nuestras oraciones de entrenamiento en una secuencia de índices correspondientes a cada token."
   ]
  },
  {
   "cell_type": "code",
   "execution_count": 151,
   "metadata": {
    "ExecuteTime": {
     "end_time": "2022-02-28T12:52:06.907826Z",
     "start_time": "2022-02-28T12:52:06.901238Z"
    },
    "colab": {
     "base_uri": "https://localhost:8080/"
    },
    "id": "ZNOxip15bMfH",
    "lang": "en",
    "outputId": "74f8344f-bdeb-4a37-9442-b317013cdc10"
   },
   "outputs": [
    {
     "name": "stdout",
     "output_type": "stream",
     "text": [
      "La oración original es: ['nosotros', 'siempre', 'venimos', 'a', 'kuwait']\n",
      "Pasar de palabras a índices: [12, 15, 18, 2, 1]\n",
      "Pasando de índices a palabras: ['nosotros', 'siempre', 'venimos', 'a', '<unk>']\n"
     ]
    }
   ],
   "source": [
    "# Dada una sentencia de tokens, devuelve los índices correspondientes\n",
    "def convert_token_to_indices(sentence, word_to_ix):\n",
    "  indices = []\n",
    "  for token in sentence:\n",
    "    # Comprueba si el token está en nuestro vocabulario. Si es así, obtiene su índice.\n",
    "    # Si no, obtiene el índice del token desconocido.\n",
    "    if token in word_to_ix:\n",
    "      index = word_to_ix[token]\n",
    "    else:\n",
    "      index = word_to_ix[\"<unk>\"]\n",
    "    indices.append(index)\n",
    "  return indices\n",
    "\n",
    "# Versión más compacta de la misma función\n",
    "def _convert_token_to_indices(sentence, word_to_ix):\n",
    "  return [word_to_ix.get(token, word_to_ix[\"<unk>\"]) for token in sentence]\n",
    "\n",
    "# Muestra un ejemplo\n",
    "example_sentence = [\"nosotros\", \"siempre\", \"venimos\", \"a\", \"kuwait\"]\n",
    "example_indices = convert_token_to_indices(example_sentence, word_to_ix)\n",
    "restored_example = [ix_to_word[ind] for ind in example_indices]\n",
    "\n",
    "print(f\"La oración original es: {example_sentence}\")\n",
    "print(f\"Pasar de palabras a índices: {example_indices}\")\n",
    "print(f\"Pasando de índices a palabras: {restored_example}\")"
   ]
  },
  {
   "cell_type": "markdown",
   "metadata": {
    "lang": "es"
   },
   "source": [
    "En el ejemplo anterior, `kuwait` aparece como `<unk>`, porque no está incluido en nuestro vocabulario. Convirtamos nuestras `train_sentences` a `example_padded_indices`."
   ]
  },
  {
   "cell_type": "code",
   "execution_count": 152,
   "metadata": {
    "ExecuteTime": {
     "end_time": "2022-02-28T12:52:24.599737Z",
     "start_time": "2022-02-28T12:52:24.595267Z"
    },
    "colab": {
     "base_uri": "https://localhost:8080/"
    },
    "id": "JRaKQwSJH-1d",
    "outputId": "ac2c370a-4d6e-41a7-afd2-652c76f6c235"
   },
   "outputs": [
    {
     "data": {
      "text/plain": [
       "[[12, 15, 18, 2, 13],\n",
       " [8, 14, 10, 7, 4],\n",
       " [21, 20, 9, 5],\n",
       " [8, 19, 7, 16],\n",
       " [11, 6, 7, 17, 10, 3]]"
      ]
     },
     "execution_count": 152,
     "metadata": {},
     "output_type": "execute_result"
    }
   ],
   "source": [
    "# Convirtiendo nuestras sentencias a indices\n",
    "example_padded_indices = [convert_token_to_indices(s, word_to_ix) for s in train_sentences]\n",
    "example_padded_indices"
   ]
  },
  {
   "cell_type": "markdown",
   "metadata": {
    "lang": "es"
   },
   "source": [
    "Ahora que tenemos un índice para cada palabra en nuestro vocabulario, podemos crear una tabla de embedding con la clase `nn.Embedding` de `PyTorch`. Se llama de la siguiente manera `nn.Embedding(num_words, embedding_dimension)` donde `num_words` es el número de palabras en nuestro vocabulario y `embedding_dimension` es la dimensión de los embeddings que queremos tener. No hay nada sofisticado en `nn.Embedding`: es solo una clase wrapper alrededor de un tensor dimensional entrenable de tamaño `NxE` , donde `N` es el número de palabras en nuestro vocabulario y `E` es el número de dimensiones incrustadas. Esta tabla es inicialmente aleatoria, pero cambiará con el tiempo. A medida que entrenamos nuestra red, los gradientes se propagarán hacia atrás hasta la capa de embedding y, por lo tanto, nuestros embeddings de palabras se actualizarán. Posteriormente, inicializaremos la capa de embedding que usaremos para nuestro modelo dentro de nuestro modelo, pero a continuación mostramos un ejemplo."
   ]
  },
  {
   "cell_type": "code",
   "execution_count": 153,
   "metadata": {
    "ExecuteTime": {
     "end_time": "2022-02-28T12:54:24.057777Z",
     "start_time": "2022-02-28T12:54:24.052087Z"
    },
    "colab": {
     "base_uri": "https://localhost:8080/"
    },
    "id": "F4AgHzv91VXx",
    "lang": "en",
    "outputId": "5404f7e3-919b-4e98-9411-0f92bd5248e1"
   },
   "outputs": [
    {
     "data": {
      "text/plain": [
       "[Parameter containing:\n",
       " tensor([[-0.4110,  0.7651, -1.8329, -0.4019,  0.5075],\n",
       "         [-0.1117, -1.6991, -0.5449, -0.1300, -0.2224],\n",
       "         [-1.1169,  0.9824, -0.3199,  0.7147,  0.4981],\n",
       "         [-0.1198, -1.2903,  0.3121, -1.7891,  0.0537],\n",
       "         [-0.5874,  1.0565, -0.0737, -0.9469,  0.0044],\n",
       "         [ 1.3326, -0.9274, -1.0808, -0.6459,  1.0769],\n",
       "         [ 0.1972, -0.6360,  0.1849, -0.8563,  1.7873],\n",
       "         [-0.1741,  0.2204, -0.5506,  0.2835,  2.1300],\n",
       "         [ 0.2664, -1.0898, -0.7852,  0.5174, -0.3375],\n",
       "         [ 1.1260,  0.0562,  0.0324,  0.2324, -0.1045],\n",
       "         [ 0.2863, -0.6724,  0.6202, -1.6611,  0.1426],\n",
       "         [ 0.3941, -0.6207,  1.2244, -0.6203, -0.7929],\n",
       "         [ 0.0938,  0.5932, -0.1518,  0.2828, -0.0314],\n",
       "         [ 0.5404, -1.0683,  1.5781,  0.6407,  1.3701],\n",
       "         [ 0.3492,  0.3039,  0.9979,  0.5742, -1.8761],\n",
       "         [ 0.1500, -1.3260, -0.2057,  1.7319, -1.3456],\n",
       "         [-0.3612, -1.1221, -1.0683, -1.7119,  0.0965],\n",
       "         [ 0.9663, -0.5395, -0.3468,  0.4290, -0.4222],\n",
       "         [-0.4349,  0.2923,  1.6918,  0.4843,  0.3867],\n",
       "         [ 1.5552, -1.0076, -0.7656, -0.4300,  0.4482],\n",
       "         [ 0.8880, -0.1458, -0.6517, -0.1083,  0.1789],\n",
       "         [ 1.9432, -0.1924,  0.8609, -0.7172, -0.5686]], requires_grad=True)]"
      ]
     },
     "execution_count": 153,
     "metadata": {},
     "output_type": "execute_result"
    }
   ],
   "source": [
    "# Creando una tabla de embedding para nuestras palabras\n",
    "embedding_dim = 5\n",
    "embeds = nn.Embedding(len(vocabulary), embedding_dim)\n",
    "\n",
    "# Imprimiendo los parámetros en nuestra tabla de embedding\n",
    "list(embeds.parameters())"
   ]
  },
  {
   "cell_type": "markdown",
   "metadata": {
    "lang": "es"
   },
   "source": [
    "Para obtener el embedding de la palabra para una palabra en nuestro vocabulario, todo lo que tenemos que hacer es crear un tensor de búsqueda. El tensor de búsqueda es solo un tensor que contiene el índice que queremos buscar. La clase `nn.Embedding` espera un tensor de índices que sea del tipo `Long` Tensor, por lo que debemos crear nuestro tensor en consecuencia."
   ]
  },
  {
   "cell_type": "code",
   "execution_count": 154,
   "metadata": {
    "ExecuteTime": {
     "end_time": "2022-02-28T12:55:18.168568Z",
     "start_time": "2022-02-28T12:55:18.163797Z"
    },
    "colab": {
     "base_uri": "https://localhost:8080/"
    },
    "id": "nkldmcepjfh_",
    "outputId": "b9e24c31-547d-41e5-9509-fb9e9777cd01"
   },
   "outputs": [
    {
     "data": {
      "text/plain": [
       "tensor([ 0.5404, -1.0683,  1.5781,  0.6407,  1.3701],\n",
       "       grad_fn=<EmbeddingBackward0>)"
      ]
     },
     "execution_count": 154,
     "metadata": {},
     "output_type": "execute_result"
    }
   ],
   "source": [
    "# Obtiene el embedding para la palabra paris\n",
    "index = word_to_ix[\"paris\"]\n",
    "index_tensor = torch.tensor(index, dtype=torch.long)\n",
    "paris_embed = embeds(index_tensor)\n",
    "paris_embed"
   ]
  },
  {
   "cell_type": "code",
   "execution_count": 155,
   "metadata": {
    "ExecuteTime": {
     "end_time": "2022-02-28T12:55:26.937443Z",
     "start_time": "2022-02-28T12:55:26.932027Z"
    },
    "colab": {
     "base_uri": "https://localhost:8080/"
    },
    "id": "mUsdwBOxm6B4",
    "lang": "en",
    "outputId": "5b8cb8fe-0787-4e93-946b-ed719efcdd8b"
   },
   "outputs": [
    {
     "data": {
      "text/plain": [
       "tensor([[ 0.5404, -1.0683,  1.5781,  0.6407,  1.3701],\n",
       "        [-0.1198, -1.2903,  0.3121, -1.7891,  0.0537]],\n",
       "       grad_fn=<EmbeddingBackward0>)"
      ]
     },
     "execution_count": 155,
     "metadata": {},
     "output_type": "execute_result"
    }
   ],
   "source": [
    "# También podemos obtener múltiples embeddings a la vez\n",
    "index_paris = word_to_ix[\"paris\"]\n",
    "index_ankara = word_to_ix[\"ankara\"]\n",
    "indices = [index_paris, index_ankara]\n",
    "indices_tensor = torch.tensor(indices, dtype=torch.long)\n",
    "embeddings = embeds(indices_tensor)\n",
    "embeddings"
   ]
  },
  {
   "cell_type": "markdown",
   "metadata": {
    "lang": "es"
   },
   "source": [
    "Por lo general, definimos la capa de embedding como parte de nuestro modelo, que veremos en las secciones posteriores de nuestro cuaderno."
   ]
  },
  {
   "cell_type": "code",
   "execution_count": 156,
   "metadata": {
    "ExecuteTime": {
     "end_time": "2022-02-28T13:21:28.900312Z",
     "start_time": "2022-02-28T13:21:28.892271Z"
    },
    "id": "OkvvVlo4jgFm",
    "lang": "en"
   },
   "outputs": [],
   "source": [
    "from torch.utils.data import DataLoader\n",
    "from functools import partial\n",
    "\n",
    "def custom_collate_fn(batch, window_size, word_to_ix):\n",
    "  # Divide nuestro batch en muestras de entrenamiento (x) y etiquetas (y)\n",
    "  # Estamos convirtiendo nuestra x e y en tensores porque el método nn.utils.rnn.pad_secuence\n",
    "  # espera tensores. Esto también es útil ya que nuestro modelo estará esperando tensores como\n",
    "  # entradas.\n",
    "  x, y = zip(*batch)\n",
    "\n",
    "  # Ahora necesitamos rellenar las ventanas de nuestrass muestras de entrenamiento.\n",
    "  # Ya hemos definido una función para manejar el relleno de la ventana. Lo incluimos aquí\n",
    "  # de nuevo para que todo está en un solo lugar.\n",
    "  def pad_window(sentence, window_size, pad_token=\"<pad>\"):\n",
    "    window = [pad_token] * window_size\n",
    "    return window + sentence + window\n",
    "\n",
    "  # Rellena las muestras de entrenamiento\n",
    "  x = [pad_window(s, window_size=window_size) for s in x]\n",
    "\n",
    "  # Ahora necesitamos convertir las palabras de nuestras muestras de entrenamiento a índices.\n",
    "  # Estamos copiando la función definida anteriormente por el mismo motivo anterior.\n",
    "  def convert_tokens_to_indices(sentence, word_to_ix):\n",
    "    return [word_to_ix.get(token, word_to_ix[\"<unk>\"]) for token in sentence]\n",
    "\n",
    "  # Convierte las muestras de entrenamiento a indices.\n",
    "  x = [convert_tokens_to_indices(s, word_to_ix) for s in x]\n",
    "\n",
    "  # Ahora rellenaremos las muestras para que las longitudes de todas las muestras en\n",
    "  # un batch sean iguales, lo que permite realizar operaciones matriciales.\n",
    "  # Establecemos el parámetro batch_first en True para que la matriz devuelta tenga\n",
    "  # como la primera dimensión el batch.\n",
    "  pad_token_ix = word_to_ix[\"<pad>\"]\n",
    "\n",
    "\n",
    "  # la función pad_sequence espera que la entrada sea un tensor, por lo que convertimos x en uno\n",
    "  x = [torch.LongTensor(x_i) for x_i in x]\n",
    "  x_padded = nn.utils.rnn.pad_sequence(x, batch_first=True, padding_value=pad_token_ix)\n",
    "\n",
    "  # También rellenaremos las etiquetas. Antes de hacerlo, guardaremos el número\n",
    "  # de etiquetas para que sepamos cuantas palabras existieron en cada ejemplo.\n",
    "  lengths = [len(label) for label in y]\n",
    "  lenghts = torch.LongTensor(lengths)\n",
    "\n",
    "  y = [torch.LongTensor(y_i) for y_i in y]\n",
    "  y_padded = nn.utils.rnn.pad_sequence(y, batch_first=True, padding_value=0)\n",
    "\n",
    "  # Ahora estamos listos para devolver nuestras variables. El orden en que devolvemos\n",
    "  #  nuestras variables coincidirá con el orden en que los leemos en nuestro ciclo de entrenamiento.\n",
    "  return x_padded, y_padded, lenghts  "
   ]
  },
  {
   "cell_type": "markdown",
   "metadata": {
    "lang": "es"
   },
   "source": [
    "Esta función parece larga, pero realmente no tiene por qué serlo. Veamos una versión alternativa a continuación, en donde eliminamos las declaraciones y comentarios de funciones adicionales."
   ]
  },
  {
   "cell_type": "code",
   "execution_count": 157,
   "metadata": {
    "ExecuteTime": {
     "end_time": "2022-02-28T13:21:33.159405Z",
     "start_time": "2022-02-28T13:21:33.153974Z"
    },
    "id": "dZfcmAJXbLcq"
   },
   "outputs": [],
   "source": [
    "def _custom_collate_fn(batch, window_size, word_to_ix):\n",
    "  # preparando los puntos de datos\n",
    "  x, y = zip(*batch)  \n",
    "  x = [pad_window(s, window_size=window_size) for s in x]\n",
    "  x = [convert_tokens_to_indices(s, word_to_ix) for s in x]\n",
    "\n",
    "  # rellena x tal que todas las muestras en el batch tengan el mismo tamano\n",
    "  pad_token_ix = word_to_ix[\"<pad>\"]\n",
    "  x = [torch.LongTensor(x_i) for x_i in x]\n",
    "  x_padded = nn.utils.rnn.pad_sequence(x, batch_first=True, padding_value=pad_token_ix)\n",
    "\n",
    "  # Rellena \"y\" y guarda la longitud\n",
    "  lengths = [len(label) for label in y]\n",
    "  lenghts = torch.LongTensor(lengths)\n",
    "  y = [torch.LongTensor(y_i) for y_i in y]\n",
    "  y_padded = nn.utils.rnn.pad_sequence(y, batch_first=True, padding_value=0)\n",
    "\n",
    "  return x_padded, y_padded, lenghts  "
   ]
  },
  {
   "cell_type": "markdown",
   "metadata": {
    "lang": "es"
   },
   "source": [
    "Ahora, podemos ver el `DataLoader` en acción."
   ]
  },
  {
   "cell_type": "code",
   "execution_count": 158,
   "metadata": {
    "ExecuteTime": {
     "end_time": "2022-02-28T13:27:44.710065Z",
     "start_time": "2022-02-28T13:27:44.691587Z"
    },
    "colab": {
     "base_uri": "https://localhost:8080/"
    },
    "id": "RfB0JKL2vZ6p",
    "lang": "en",
    "outputId": "663b5215-01b3-475f-edb6-ad29186a967c"
   },
   "outputs": [
    {
     "name": "stdout",
     "output_type": "stream",
     "text": [
      "Iteration 0\n",
      "Batched Input:\n",
      "tensor([[ 0,  0, 11,  6,  7, 17, 10,  3,  0,  0],\n",
      "        [ 0,  0,  8, 19,  7, 16,  0,  0,  0,  0]])\n",
      "Batched Labels:\n",
      "tensor([[0, 0, 0, 1, 0, 1],\n",
      "        [0, 0, 0, 1, 0, 0]])\n",
      "Batched Lengths:\n",
      "tensor([6, 4])\n",
      "\n",
      "Iteration 1\n",
      "Batched Input:\n",
      "tensor([[ 0,  0, 12, 15, 18,  2, 13,  0,  0],\n",
      "        [ 0,  0,  8, 14, 10,  7,  4,  0,  0]])\n",
      "Batched Labels:\n",
      "tensor([[0, 0, 0, 0, 1],\n",
      "        [0, 0, 0, 0, 1]])\n",
      "Batched Lengths:\n",
      "tensor([5, 5])\n",
      "\n",
      "Iteration 2\n",
      "Batched Input:\n",
      "tensor([[ 0,  0, 21, 20,  9,  5,  0,  0]])\n",
      "Batched Labels:\n",
      "tensor([[0, 0, 0, 1]])\n",
      "Batched Lengths:\n",
      "tensor([4])\n",
      "\n"
     ]
    }
   ],
   "source": [
    "# Parámetros a pasar al DataLoader\n",
    "data = list(zip(train_sentences, train_labels))\n",
    "batch_size = 2\n",
    "shuffle = True\n",
    "window_size = 2\n",
    "collate_fn = partial(custom_collate_fn, window_size=window_size, word_to_ix=word_to_ix)\n",
    "\n",
    "# Instancia el DataLoader\n",
    "loader = DataLoader(data, batch_size=batch_size, shuffle=shuffle, collate_fn=collate_fn)\n",
    "\n",
    "# Va a traves de un ciclo\n",
    "counter = 0\n",
    "for batched_x, batched_y, batched_lengths in loader:\n",
    "  print(f\"Iteration {counter}\")\n",
    "  print(\"Batched Input:\")\n",
    "  print(batched_x)\n",
    "  print(\"Batched Labels:\")\n",
    "  print(batched_y)\n",
    "  print(\"Batched Lengths:\")\n",
    "  print(batched_lengths)\n",
    "  print(\"\")\n",
    "  counter += 1"
   ]
  },
  {
   "cell_type": "markdown",
   "metadata": {
    "lang": "es"
   },
   "source": [
    "Los tensores de entrada por batch que vimos antes se pasarán a nuestro modelo. Por otro lado, comenzamos diciendo que nuestro modelo será un clasificador de ventanas de palabras. Por la forma en que nuestros tensores de entrada están formateados actualmente, tenemos todas las palabras en una sentencia en un punto de datos. Cuando pasamos esta entrada a nuestro modelo, éste necesita crear las ventanas para cada palabra, hacer una predicción sobre si la palabra central es una `UBICACIÓN` o no, para cada ventana, juntar las predicciones y volver a hacerlo.\n",
    "\n",
    "Podríamos evitar este problema si formateamos nuestros datos dividiéndolos en ventanas de antemano. En este ejemplo, en cambio, veremos cómo nuestro modelo se ocupa del formateo.\n",
    "\n",
    "Dado que nuestro `window_size` es `N`, queremos que nuestro modelo haga una predicción sobre cada `2N+1` tokens. Es decir, si tenemos una entrada con `9` tokens y un `window_size` de `2`, queremos que nuestro modelo devuelva `5` predicciones. Esto tiene sentido porque antes de rellenarlo con `2` tokens en cada lado, nuestra entrada también tenía \"5\" tokens.\n",
    "\n",
    "Podemos crear estas ventanas usando bucles for, pero hay una alternativa más rápida a `PyTorch`, que es el método `unfold(dimension, size, step)`. Podemos crear las ventanas que necesitamos usando este método de la siguiente manera:"
   ]
  },
  {
   "cell_type": "code",
   "execution_count": 160,
   "metadata": {
    "ExecuteTime": {
     "end_time": "2022-02-28T13:27:50.764906Z",
     "start_time": "2022-02-28T13:27:50.754375Z"
    },
    "colab": {
     "base_uri": "https://localhost:8080/"
    },
    "id": "RMZu-pxLVxHQ",
    "outputId": "2bff1c6a-62f5-46ab-e9d4-282ba405db6d"
   },
   "outputs": [
    {
     "name": "stdout",
     "output_type": "stream",
     "text": [
      "Original Tensor: \n",
      "tensor([[ 0,  0, 21, 20,  9,  5,  0,  0]])\n",
      "\n",
      "Windows: \n",
      "tensor([[[ 0,  0, 21, 20,  9],\n",
      "         [ 0, 21, 20,  9,  5],\n",
      "         [21, 20,  9,  5,  0],\n",
      "         [20,  9,  5,  0,  0]]])\n"
     ]
    }
   ],
   "source": [
    "# muestra el tensor original\n",
    "print(f\"Original Tensor: \")\n",
    "print(batched_x)\n",
    "print(\"\")\n",
    "\n",
    "# Crea los 2 * 2 + 1 chunkstrozos\n",
    "chunk = batched_x.unfold(1, window_size*2 + 1, 1)\n",
    "print(f\"Windows: \")\n",
    "print(chunk)"
   ]
  },
  {
   "cell_type": "markdown",
   "metadata": {},
   "source": [
    "### Modelo\n",
    "Ahora que hemos preparado nuestro datos, estamos listos para construir nuestro modelo. Lo haremos a través de la creación de una clase que hereda de la clase `nn.Module` (ya lo hemos visto con la regresión logística y la MLP)."
   ]
  },
  {
   "cell_type": "code",
   "execution_count": 161,
   "metadata": {
    "ExecuteTime": {
     "end_time": "2022-02-28T13:45:57.599508Z",
     "start_time": "2022-02-28T13:45:57.589397Z"
    },
    "id": "JLTU4h76NLYm"
   },
   "outputs": [],
   "source": [
    "class WordWindowClassifier(nn.Module):\n",
    "\n",
    "  def __init__(self, hyperparameters, vocab_size, pad_ix=0):\n",
    "    super(WordWindowClassifier, self).__init__()\n",
    "    \n",
    "    \"\"\" Instancia las variabless \"\"\"\n",
    "    self.window_size = hyperparameters[\"window_size\"]\n",
    "    self.embed_dim = hyperparameters[\"embed_dim\"]\n",
    "    self.hidden_dim = hyperparameters[\"hidden_dim\"]\n",
    "    self.freeze_embeddings = hyperparameters[\"freeze_embeddings\"]\n",
    "\n",
    "    \"\"\" Capa de Embedding      \n",
    "    Toma un tensor que contiene los índices de los embeddings y devuelve los embeddings\n",
    "    correspondientes. La salida es de dimensión (número_de_índices * dimension_embedding).\n",
    "\n",
    "     Si freeze_embeddings es True, configura los parámetros de la capa de embedding para que sean\n",
    "     no entrenables. Esto es útil si solo queremos cambiar los parámetros que no sean de los embeddings.\n",
    "\n",
    "    \"\"\"\n",
    "    self.embeds = nn.Embedding(vocab_size, self.embed_dim, padding_idx=pad_ix)\n",
    "    if self.freeze_embeddings:\n",
    "      self.embed_layer.weight.requires_grad = False\n",
    "\n",
    "    \"\"\" Capa Oculta\n",
    "    \"\"\"\n",
    "    full_window_size = 2 * window_size + 1\n",
    "    self.hidden_layer = nn.Sequential(\n",
    "      nn.Linear(full_window_size * self.embed_dim, self.hidden_dim), \n",
    "      nn.Tanh()\n",
    "    )\n",
    "\n",
    "    \"\"\" Caba de salida\n",
    "    \"\"\"\n",
    "    self.output_layer = nn.Linear(self.hidden_dim, 1)\n",
    "\n",
    "    \"\"\" Probabilidades \n",
    "    \"\"\"\n",
    "    self.probabilities = nn.Sigmoid()\n",
    "\n",
    "  def forward(self, inputs):\n",
    "    \"\"\"\n",
    "    Sea B:= batch_size\n",
    "        L:= longitud de la ventana de la sentencia rellenada\n",
    "        D:= self.embed_dim\n",
    "        S:= self.window_size\n",
    "        H:= self.hidden_dim\n",
    "        \n",
    "    entradas: un tensor (B, L) de los indices de los tokens\n",
    "    \"\"\"\n",
    "    B, L = inputs.size()\n",
    "\n",
    "    \"\"\"\n",
    "    Reshaping.\n",
    "    Entra un tensor de tipo Long (B, L) \n",
    "    Produce un tensor de tipo Long (B, L~, S)\n",
    "    \"\"\"\n",
    "    # Primero, obtiene las ventanas de palabras para cada palabra de entrada.\n",
    "    token_windows = inputs.unfold(1, 2 * self.window_size + 1, 1)\n",
    "    _, adjusted_length, _ = token_windows.size()\n",
    "\n",
    "    # Es buena idea hacer verificaciones internas del tamaño de un tensor\n",
    "    assert token_windows.size() == (B, adjusted_length, 2 * self.window_size + 1)\n",
    "\n",
    "    \"\"\"\n",
    "    Embedding.\n",
    "    Entra un torch.LongTensor de tamano (B, L~, S) \n",
    "    Produce un (B, L~, S, D) FloatTensor.\n",
    "    \"\"\"\n",
    "    embedded_windows = self.embeds(token_windows)\n",
    "\n",
    "    \"\"\"\n",
    "    Reshaping.\n",
    "    Entra un (B, L~, S, D) FloatTensor.\n",
    "    Cambia su tamano a (B, L~, S*D) FloatTensor.\n",
    "    El argumento -1  \"infiere\" ser la última dimensión segun los ejes sobrantes.\n",
    "    \"\"\"\n",
    "    embedded_windows = embedded_windows.view(B, adjusted_length, -1)\n",
    "\n",
    "    \"\"\"\n",
    "    Capa 1.\n",
    "    Entra un (B, L~, S*D) FloatTensor.\n",
    "    Cambia su tamaño a un (B, L~, H) FloatTensor\n",
    "    \"\"\"\n",
    "    layer_1 = self.hidden_layer(embedded_windows)\n",
    "\n",
    "    \"\"\"\n",
    "    Capa 2\n",
    "    Entra un (B, L~, H) FloatTensor.\n",
    "    cambia su tamano a un (B, L~, 1) FloatTensor.\n",
    "    \"\"\"\n",
    "    output = self.output_layer(layer_1)\n",
    "\n",
    "    \"\"\"\n",
    "    Softmax.\n",
    "    Entra un (B, L~, 1) FloatTensor de scores de clases no normalizados.\n",
    "    Produce un (B, L~, 1) FloatTensor de scores de clases (log-)normalizados.\n",
    "    \"\"\"\n",
    "    output = self.probabilities(output)\n",
    "    output = output.view(B, -1)\n",
    "\n",
    "    return output"
   ]
  },
  {
   "cell_type": "markdown",
   "metadata": {},
   "source": [
    "### Entrenamiento\n",
    "\n",
    "Ahora estamos listos para poner todo junto. Empecemos por preparar nuestros datos e inicializar nuestro modelo. Luego, podemos inicializar nuestro optimizador y definir nuestra función de loss. Esta vez, en lugar de usar una de las funciones de loss predefinidas, definiremos nuestra propia función de loss."
   ]
  },
  {
   "cell_type": "code",
   "execution_count": 162,
   "metadata": {
    "ExecuteTime": {
     "end_time": "2022-02-28T13:50:59.158389Z",
     "start_time": "2022-02-28T13:50:59.144513Z"
    },
    "id": "bInu1VqjHsfj"
   },
   "outputs": [],
   "source": [
    "# Prepara los datos\n",
    "data = list(zip(train_sentences, train_labels))\n",
    "batch_size = 2\n",
    "shuffle = True\n",
    "window_size = 2\n",
    "collate_fn = partial(custom_collate_fn, window_size=window_size, word_to_ix=word_to_ix)\n",
    "\n",
    "# Instancia el dataloader\n",
    "loader = DataLoader(data, batch_size=batch_size, shuffle=shuffle, collate_fn=collate_fn)\n",
    "\n",
    "# Inicializa el modelo\n",
    "# Es util colocar todos los hiperparamentros en un diccionario\n",
    "model_hyperparameters = {\n",
    "    \"batch_size\": 4,\n",
    "    \"window_size\": 2,\n",
    "    \"embed_dim\": 25,\n",
    "    \"hidden_dim\": 25,\n",
    "    \"freeze_embeddings\": False,\n",
    "}\n",
    "\n",
    "vocab_size = len(word_to_ix)\n",
    "model = WordWindowClassifier(model_hyperparameters, vocab_size)\n",
    "\n",
    "# define un optimizador\n",
    "learning_rate = 0.01\n",
    "optimizer = torch.optim.SGD(model.parameters(), lr=learning_rate)\n",
    "\n",
    "# Definir una función de pérdida, que calcula el binary cross entropy \n",
    "def loss_function(batch_outputs, batch_labels, batch_lengths):   \n",
    "    # calcula el loss para todo el batch\n",
    "    bceloss = nn.BCELoss()\n",
    "    loss = bceloss(batch_outputs, batch_labels.float())\n",
    "\n",
    "    # Reescala el loss. Recuerde que hemos utilizado longitudes para almacenar el\n",
    "    # número de palabras en cada muestra de entrenamiento\n",
    "    loss = loss / batch_lengths.sum().float()\n",
    "\n",
    "    return loss"
   ]
  },
  {
   "cell_type": "code",
   "execution_count": 163,
   "metadata": {
    "ExecuteTime": {
     "end_time": "2022-02-28T13:53:20.964908Z",
     "start_time": "2022-02-28T13:53:20.959970Z"
    },
    "id": "QL9IDgIOvHca"
   },
   "outputs": [],
   "source": [
    "# Funcion que se llamara en cada epoch\n",
    "def train_epoch(loss_function, optimizer, model, loader):\n",
    "  \n",
    "  # guarda el registro del loss para cada epoch\n",
    "  total_loss = 0\n",
    "  for batch_inputs, batch_labels, batch_lengths in loader:\n",
    "    # limpia los gradientes\n",
    "    optimizer.zero_grad()\n",
    "    # corre un forward pass\n",
    "    outputs = model.forward(batch_inputs)\n",
    "    # calcula el loss para un batch\n",
    "    loss = loss_function(outputs, batch_labels, batch_lengths)\n",
    "    # Calcula los gradientes\n",
    "    loss.backward()\n",
    "    # Actualiza los parámetros\n",
    "    optimizer.step()\n",
    "    total_loss += loss.item()\n",
    "\n",
    "  return total_loss\n",
    "\n",
    "\n",
    "# Función que contiene el loop principal\n",
    "def train(loss_function, optimizer, model, loader, num_epochs=10000):\n",
    "\n",
    "  # Itera a traves de cada epoch y llama la funcion de train_epoch function\n",
    "  for epoch in range(num_epochs):\n",
    "    epoch_loss = train_epoch(loss_function, optimizer, model, loader)\n",
    "    if epoch % 100 == 0: print(epoch_loss)"
   ]
  },
  {
   "cell_type": "code",
   "execution_count": 164,
   "metadata": {
    "ExecuteTime": {
     "end_time": "2022-02-28T13:53:28.426400Z",
     "start_time": "2022-02-28T13:53:27.231079Z"
    },
    "colab": {
     "base_uri": "https://localhost:8080/"
    },
    "id": "Kav8kwVBJ6XW",
    "outputId": "28dafd55-14b7-4a21-b7d0-fd8cde687fb4"
   },
   "outputs": [
    {
     "name": "stdout",
     "output_type": "stream",
     "text": [
      "0.25630899518728256\n",
      "0.2417222522199154\n",
      "0.1901434361934662\n",
      "0.14375285804271698\n",
      "0.1145361177623272\n",
      "0.08203006349503994\n",
      "0.07387428171932697\n",
      "0.05722733214497566\n",
      "0.04723059665411711\n",
      "0.047401100397109985\n"
     ]
    }
   ],
   "source": [
    "num_epochs = 1000\n",
    "train(loss_function, optimizer, model, loader, num_epochs=num_epochs)"
   ]
  },
  {
   "cell_type": "markdown",
   "metadata": {
    "id": "T-k7Pav4LdQJ"
   },
   "source": [
    "### Predicción\n",
    "\n",
    "Veamos qué tan bien nuestro modelo hace predicciones. Podemos comenzar creando nuestros datos de prueba."
   ]
  },
  {
   "cell_type": "code",
   "execution_count": 165,
   "metadata": {
    "ExecuteTime": {
     "end_time": "2022-02-28T13:54:23.027939Z",
     "start_time": "2022-02-28T13:54:23.023633Z"
    },
    "id": "-v5X69a2Lkbm"
   },
   "outputs": [],
   "source": [
    "# Creando una sentencia de prueba\n",
    "test_corpus = [\"Ella viene de Paris\"]\n",
    "test_sentences = [s.lower().split() for s in test_corpus]\n",
    "test_labels = [[0, 0, 0, 1]]\n",
    "\n",
    "# Crea un dataloader de prueba\n",
    "test_data = list(zip(test_sentences, test_labels))\n",
    "batch_size = 1\n",
    "shuffle = False\n",
    "window_size = 2\n",
    "collate_fn = partial(custom_collate_fn, window_size=2, word_to_ix=word_to_ix)\n",
    "test_loader = torch.utils.data.DataLoader(test_data, \n",
    "                                           batch_size=1, \n",
    "                                           shuffle=False, \n",
    "                                           collate_fn=collate_fn)"
   ]
  },
  {
   "cell_type": "code",
   "execution_count": 166,
   "metadata": {
    "ExecuteTime": {
     "end_time": "2022-02-28T13:54:43.051656Z",
     "start_time": "2022-02-28T13:54:43.047193Z"
    },
    "colab": {
     "base_uri": "https://localhost:8080/"
    },
    "id": "dGYn8CAoMTjX",
    "outputId": "e63fce32-9d1d-4a80-a2f9-dd555928f852"
   },
   "outputs": [
    {
     "name": "stdout",
     "output_type": "stream",
     "text": [
      "tensor([[0, 0, 0, 1]])\n",
      "tensor([[0.0488, 0.0914, 0.1112, 0.9367]], grad_fn=<ViewBackward0>)\n"
     ]
    }
   ],
   "source": [
    "for test_instance, labels, _ in test_loader:\n",
    "  outputs = model.forward(test_instance)\n",
    "  print(labels)\n",
    "  print(outputs)"
   ]
  },
  {
   "cell_type": "code",
   "execution_count": 167,
   "metadata": {
    "ExecuteTime": {
     "end_time": "2022-02-28T13:54:48.755212Z",
     "start_time": "2022-02-28T13:54:48.750982Z"
    },
    "id": "iebrU4ZibVIR"
   },
   "outputs": [
    {
     "data": {
      "text/plain": [
       "[(['nosotros', 'siempre', 'venimos', 'a', 'paris'], [0, 0, 0, 0, 1]),\n",
       " (['el', 'profesor', 'es', 'de', 'australia'], [0, 0, 0, 0, 1]),\n",
       " (['yo', 'vivo', 'en', 'bogota'], [0, 0, 0, 1]),\n",
       " (['el', 'viene', 'de', 'taiwan'], [0, 0, 0, 1]),\n",
       " (['la', 'capital', 'de', 'turquia', 'es', 'ankara'], [0, 0, 0, 1, 0, 1])]"
      ]
     },
     "execution_count": 167,
     "metadata": {},
     "output_type": "execute_result"
    }
   ],
   "source": [
    "data"
   ]
  },
  {
   "cell_type": "markdown",
   "metadata": {},
   "source": [
    "### Ejercicio \n",
    "Cree unas frases con sus respectivas etiquetas para diferentes tipos de palabras: por ejemplo: nombre, verbo, lugar y otros, y realice un proceso simila al anterior donde clasificara las palabras usando ventanas."
   ]
  },
  {
   "cell_type": "markdown",
   "metadata": {},
   "source": [
    "## Algunas pruebas para entender más acerca de las dimensiones"
   ]
  },
  {
   "cell_type": "code",
   "execution_count": 168,
   "metadata": {
    "ExecuteTime": {
     "end_time": "2022-02-28T17:25:29.557855Z",
     "start_time": "2022-02-28T17:25:29.554154Z"
    }
   },
   "outputs": [
    {
     "name": "stdout",
     "output_type": "stream",
     "text": [
      "tensor([[0.2127, 0.4034, 0.7925],\n",
      "        [0.2924, 0.2298, 0.4945],\n",
      "        [0.8519, 0.9316, 0.9276],\n",
      "        [0.4922, 0.7719, 0.0890]])\n"
     ]
    }
   ],
   "source": [
    "w = torch.rand(4,3)\n",
    "print(w)"
   ]
  },
  {
   "cell_type": "code",
   "execution_count": 169,
   "metadata": {},
   "outputs": [
    {
     "data": {
      "text/plain": [
       "tensor([5.3219, 6.7455, 4.9202])"
      ]
     },
     "execution_count": 169,
     "metadata": {},
     "output_type": "execute_result"
    }
   ],
   "source": [
    "x = torch.tensor([1,2,3,4],dtype=torch.float)\n",
    "x @ w"
   ]
  },
  {
   "cell_type": "code",
   "execution_count": 171,
   "metadata": {},
   "outputs": [
    {
     "data": {
      "text/plain": [
       "tensor([[ 9.5921, 12.0173,  9.3183],\n",
       "        [ 8.6061, 11.1908,  9.5426],\n",
       "        [ 8.7001, 10.8080, 14.1233],\n",
       "        [ 7.8873, 10.8364,  9.7056],\n",
       "        [10.0159, 13.5416, 11.3056],\n",
       "        [ 8.2211,  9.2504, 11.1495],\n",
       "        [12.1875, 13.7136, 13.4528]])"
      ]
     },
     "execution_count": 171,
     "metadata": {},
     "output_type": "execute_result"
    }
   ],
   "source": [
    "X = torch.randint(1,10,(7,4), dtype=torch.float)\n",
    "X @ w"
   ]
  },
  {
   "cell_type": "code",
   "execution_count": 172,
   "metadata": {},
   "outputs": [
    {
     "name": "stdout",
     "output_type": "stream",
     "text": [
      "tensor([[[2., 6., 5., 9.],\n",
      "         [2., 3., 5., 4.],\n",
      "         [7., 1., 8., 2.],\n",
      "         [6., 4., 7., 5.],\n",
      "         [2., 7., 2., 3.],\n",
      "         [5., 7., 6., 8.],\n",
      "         [5., 3., 2., 2.]],\n",
      "\n",
      "        [[9., 3., 5., 8.],\n",
      "         [4., 5., 5., 3.],\n",
      "         [5., 7., 4., 1.],\n",
      "         [4., 1., 5., 5.],\n",
      "         [6., 8., 4., 8.],\n",
      "         [6., 7., 4., 5.],\n",
      "         [5., 6., 7., 6.]]])\n"
     ]
    }
   ],
   "source": [
    "X_big = X = torch.randint(1,10,(2,7,4), dtype=torch.float)\n",
    "print(X_big)"
   ]
  },
  {
   "cell_type": "code",
   "execution_count": 173,
   "metadata": {},
   "outputs": [
    {
     "data": {
      "text/plain": [
       "tensor([[[10.8688, 13.7909,  9.9907],\n",
       "         [ 7.5308,  9.2418,  8.0625],\n",
       "         [ 9.5811, 12.0503, 13.6413],\n",
       "         [10.8701, 13.7205, 13.6714],\n",
       "         [ 5.6524,  6.5944,  7.1685],\n",
       "         [12.1591, 15.3907, 13.7015],\n",
       "         [ 4.6290,  6.1136,  7.4793]],\n",
       "\n",
       "        [[10.9887, 15.1538, 13.9661],\n",
       "         [ 8.0489,  9.7364, 10.5476],\n",
       "         [ 7.0101,  8.1240, 11.2235],\n",
       "         [ 7.8637, 10.3611,  8.7476],\n",
       "         [10.9604, 14.1608, 13.1332],\n",
       "         [ 9.1916, 11.6152, 12.3719],\n",
       "         [11.7343, 14.5486, 13.9567]]])"
      ]
     },
     "execution_count": 173,
     "metadata": {},
     "output_type": "execute_result"
    }
   ],
   "source": [
    "X_big @ w"
   ]
  },
  {
   "cell_type": "code",
   "execution_count": 174,
   "metadata": {},
   "outputs": [
    {
     "name": "stdout",
     "output_type": "stream",
     "text": [
      "tensor([[[68.4227],\n",
      "         [50.2020],\n",
      "         [74.6055],\n",
      "         [79.3252],\n",
      "         [40.3468],\n",
      "         [84.0449],\n",
      "         [39.2942]],\n",
      "\n",
      "        [[83.1946],\n",
      "         [59.1643],\n",
      "         [56.9286],\n",
      "         [54.8287],\n",
      "         [78.6817],\n",
      "         [69.5376],\n",
      "         [82.7016]]])\n"
     ]
    }
   ],
   "source": [
    "new = (X_big @ w) @ torch.tensor([1.,2.,3.]).view(-1,1)\n",
    "print(new)"
   ]
  },
  {
   "cell_type": "code",
   "execution_count": 175,
   "metadata": {},
   "outputs": [
    {
     "data": {
      "text/plain": [
       "torch.Size([2, 7, 1])"
      ]
     },
     "execution_count": 175,
     "metadata": {},
     "output_type": "execute_result"
    }
   ],
   "source": [
    "new.shape"
   ]
  },
  {
   "cell_type": "code",
   "execution_count": 176,
   "metadata": {},
   "outputs": [
    {
     "data": {
      "text/plain": [
       "tensor([[68.4227, 50.2020, 74.6055, 79.3252, 40.3468, 84.0449, 39.2942],\n",
       "        [83.1946, 59.1643, 56.9286, 54.8287, 78.6817, 69.5376, 82.7016]])"
      ]
     },
     "execution_count": 176,
     "metadata": {},
     "output_type": "execute_result"
    }
   ],
   "source": [
    "new.view(2,-1) # new.squeeze(2)"
   ]
  },
  {
   "cell_type": "markdown",
   "metadata": {},
   "source": [
    "# Solución punto 5"
   ]
  },
  {
   "cell_type": "markdown",
   "metadata": {},
   "source": []
  }
 ],
 "metadata": {
  "colab": {
   "collapsed_sections": [],
   "name": "CS224N PyTorch Tutorial.ipynb",
   "provenance": []
  },
  "kernelspec": {
   "display_name": "Python 3.8.15 ('nlp-env')",
   "language": "python",
   "name": "python3"
  },
  "language_info": {
   "codemirror_mode": {
    "name": "ipython",
    "version": 3
   },
   "file_extension": ".py",
   "mimetype": "text/x-python",
   "name": "python",
   "nbconvert_exporter": "python",
   "pygments_lexer": "ipython3",
   "version": "3.8.15"
  },
  "nbTranslate": {
   "displayLangs": [
    "*"
   ],
   "hotkey": "alt-t",
   "langInMainMenu": true,
   "sourceLang": "en",
   "targetLang": "es",
   "useGoogleTranslate": true
  },
  "vscode": {
   "interpreter": {
    "hash": "cf856c288227c1985b5319abfa2c7eaa1df0528794ab1c4cb755b7b4904e1cb5"
   }
  }
 },
 "nbformat": 4,
 "nbformat_minor": 1
}
