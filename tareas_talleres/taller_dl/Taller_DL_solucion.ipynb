{
 "cells": [
  {
   "cell_type": "code",
   "execution_count": 1,
   "metadata": {
    "ExecuteTime": {
     "end_time": "2022-02-28T12:01:35.341404Z",
     "start_time": "2022-02-28T12:01:34.914124Z"
    },
    "id": "u0ukr7quvrMx",
    "lang": "en"
   },
   "outputs": [],
   "source": [
    "import torch\n",
    "import torch.nn as nn\n"
   ]
  },
  {
   "cell_type": "markdown",
   "metadata": {
    "lang": "es"
   },
   "source": [
    "### Ejercicio 1\n",
    "\n",
    "Escribe código que cree un `torch.tensor` con los siguientes contenidos:\n",
    "$\\begin{bmatrix} 1 & 2.2 & 9.6 \\\\ 4 & -7.2 & 6.3 \\end{bmatrix}$\n",
    "\n",
    "Ahora calcule el promedio de cada fila (`.mean()`) y cada columna.\n",
    "\n",
    "¿Cuál es la forma de los resultados?"
   ]
  },
  {
   "cell_type": "code",
   "execution_count": 2,
   "metadata": {},
   "outputs": [
    {
     "data": {
      "text/plain": [
       "tensor([[ 1.0000,  2.2000,  9.6000],\n",
       "        [ 4.0000, -7.2000,  6.3000]])"
      ]
     },
     "execution_count": 2,
     "metadata": {},
     "output_type": "execute_result"
    }
   ],
   "source": [
    "# Solución\n",
    "t1 = torch.tensor([1,2.2,9.6,4,-7.2,6.3])\n",
    "t1 = t1.reshape(2,3)\n",
    "t1"
   ]
  },
  {
   "cell_type": "code",
   "execution_count": 3,
   "metadata": {},
   "outputs": [
    {
     "name": "stdout",
     "output_type": "stream",
     "text": [
      "Vector media por columna tensor([ 2.5000, -2.5000,  7.9500])\n",
      "Vector media por filas tensor([4.2667, 1.0333])\n"
     ]
    }
   ],
   "source": [
    "mean_col = t1.mean(dim=0)\n",
    "print(f'Vector media por columna {mean_col}')\n",
    "mean_row = t1.mean(dim=1)\n",
    "print(f'Vector media por filas {mean_row}')"
   ]
  },
  {
   "cell_type": "markdown",
   "metadata": {
    "lang": "es"
   },
   "source": [
    "### Ejercicio 2\n",
    "\n",
    "Escribe código que cree un `torch.tensor` con los siguientes contenidos:\n",
    "$\\begin{bmatrix} 1 & 2.2 & 9.6 \\\\ 4 & -7.2 & 6.3 \\end{bmatrix}$\n",
    "\n",
    "¿Cómo se obtiene la primera columna? ¿La primera fila?"
   ]
  },
  {
   "cell_type": "code",
   "execution_count": 4,
   "metadata": {},
   "outputs": [
    {
     "data": {
      "text/plain": [
       "tensor([[ 1.0000,  2.2000,  9.6000],\n",
       "        [ 4.0000, -7.2000,  6.3000]])"
      ]
     },
     "execution_count": 4,
     "metadata": {},
     "output_type": "execute_result"
    }
   ],
   "source": [
    "t2 = torch.tensor([1,2.2,9.6,4,-7.2,6.3])\n",
    "t2 = t2.reshape(2,3)\n",
    "t2"
   ]
  },
  {
   "cell_type": "code",
   "execution_count": 5,
   "metadata": {},
   "outputs": [
    {
     "name": "stdout",
     "output_type": "stream",
     "text": [
      "primera columna\n",
      "tensor([1., 4.])\n",
      "primera fila\n",
      "tensor([1.0000, 2.2000, 9.6000])\n"
     ]
    }
   ],
   "source": [
    "print('primera columna')\n",
    "print(t2[:,0])\n",
    "print('primera fila')\n",
    "print(t2[0,:])"
   ]
  },
  {
   "cell_type": "markdown",
   "metadata": {},
   "source": [
    "### Ejercicio 3\n",
    "\n",
    "Cree una función vectorial (no lineal) en función de dos o tres vectores, determine sus derivadas respecto a cada componente de los vectores, para valores particulares, usando pytorch. Compruebe el resultado."
   ]
  },
  {
   "cell_type": "code",
   "execution_count": 6,
   "metadata": {},
   "outputs": [
    {
     "data": {
      "text/plain": [
       "(tensor(50.), tensor(1.), tensor(1.))"
      ]
     },
     "execution_count": 6,
     "metadata": {},
     "output_type": "execute_result"
    }
   ],
   "source": [
    "def partial_derivates(f): \n",
    "    \"\"\"_summary_\n",
    "    Args:\n",
    "        f (fuction): _description_: vectorial function\n",
    "    \"\"\"\n",
    "    \n",
    "    #exec('f = lambda x,y,z: 5*x**2 + y + z')\n",
    "    f.backward()\n",
    "\n",
    "    return (x.grad, y.grad, z.grad)\n",
    "\n",
    "x = torch.tensor(float(5), requires_grad=True)\n",
    "y = torch.tensor(float(7), requires_grad=True)\n",
    "z = torch.tensor(float(1), requires_grad=True)\n",
    "    \n",
    "partial_derivates(  f = 5*x**2 + y + z)"
   ]
  },
  {
   "cell_type": "code",
   "execution_count": 7,
   "metadata": {},
   "outputs": [
    {
     "data": {
      "text/plain": [
       "(tensor(7.), tensor(5.), tensor(35.))"
      ]
     },
     "execution_count": 7,
     "metadata": {},
     "output_type": "execute_result"
    }
   ],
   "source": [
    "x = torch.tensor(float(5), requires_grad=True)\n",
    "y = torch.tensor(float(7), requires_grad=True)\n",
    "z = torch.tensor(float(1), requires_grad=True)\n",
    "\n",
    "partial_derivates(f = x*y*z)"
   ]
  },
  {
   "cell_type": "markdown",
   "metadata": {},
   "source": [
    "### Ejercicio 4\n",
    "\n",
    "Use el dataset de `progressive-tweet-sentiment.csv` (el del taller 1), para producir una representación de vectores usando word2vec (máximo 50 vectores). Divida en un conjunto de entrenamiento y otro de prueba. A continuación, realice una clasificación de los tweets con un MLP (multilayer perceptron) de una capa oculta (tendrá que probar cuantas neuronas ocultas), usando como variables la media de los vectores de las palabras de cada tweet. Debe utilizar pytorch. Grafique el loss y el accuracy, tanto para el entrenamiento como para la validación. Escoja el mejor modelo probando con un buen número de epochs (use un learning rate de 0.1 o 0.01).\n"
   ]
  },
  {
   "cell_type": "code",
   "execution_count": 8,
   "metadata": {},
   "outputs": [],
   "source": [
    "# librerias\n",
    "import pandas as pd\n",
    "import re\n",
    "#tokenizar con nltk\n",
    "from nltk.tokenize import word_tokenize\n",
    "#Word2vec\n",
    "from gensim.models import Word2Vec\n",
    "\n",
    "#copy\n",
    "from copy import deepcopy\n",
    "\n",
    "#construccion de la red neuronal multicapa (Multilayer perceptron)\n",
    "#importar librerias\n",
    "from sklearn import datasets\n",
    "from sklearn.model_selection import train_test_split\n",
    "from sklearn.preprocessing import StandardScaler\n",
    "\n",
    "import torch\n",
    "from torch.utils.data import TensorDataset, DataLoader\n",
    "from torch import nn, optim\n",
    "import torch.nn.functional as F\n",
    "\n",
    "import numpy as np\n",
    "\n",
    "import matplotlib.pyplot as plt\n",
    "\n",
    "\n",
    "# para iterar combinaciones\n",
    "from itertools import product\n",
    "\n"
   ]
  },
  {
   "cell_type": "code",
   "execution_count": 9,
   "metadata": {},
   "outputs": [
    {
     "data": {
      "text/html": [
       "<div>\n",
       "<style scoped>\n",
       "    .dataframe tbody tr th:only-of-type {\n",
       "        vertical-align: middle;\n",
       "    }\n",
       "\n",
       "    .dataframe tbody tr th {\n",
       "        vertical-align: top;\n",
       "    }\n",
       "\n",
       "    .dataframe thead th {\n",
       "        text-align: right;\n",
       "    }\n",
       "</style>\n",
       "<table border=\"1\" class=\"dataframe\">\n",
       "  <thead>\n",
       "    <tr style=\"text-align: right;\">\n",
       "      <th></th>\n",
       "      <th>target</th>\n",
       "      <th>tweet</th>\n",
       "    </tr>\n",
       "  </thead>\n",
       "  <tbody>\n",
       "    <tr>\n",
       "      <th>0</th>\n",
       "      <td>Legalization of Abortion</td>\n",
       "      <td>Thank you for another day of life Lord. #Chris...</td>\n",
       "    </tr>\n",
       "    <tr>\n",
       "      <th>1</th>\n",
       "      <td>Legalization of Abortion</td>\n",
       "      <td>@rosaryrevival Lovely to use Glorious Mysterie...</td>\n",
       "    </tr>\n",
       "    <tr>\n",
       "      <th>2</th>\n",
       "      <td>Legalization of Abortion</td>\n",
       "      <td>@Niall250 good thing is that #DUP have consist...</td>\n",
       "    </tr>\n",
       "    <tr>\n",
       "      <th>3</th>\n",
       "      <td>Legalization of Abortion</td>\n",
       "      <td>So, you tell me... is murder okay if the victi...</td>\n",
       "    </tr>\n",
       "    <tr>\n",
       "      <th>4</th>\n",
       "      <td>Legalization of Abortion</td>\n",
       "      <td>@HillaryClinton Don't you mean to say (all chi...</td>\n",
       "    </tr>\n",
       "  </tbody>\n",
       "</table>\n",
       "</div>"
      ],
      "text/plain": [
       "                     target                                              tweet\n",
       "0  Legalization of Abortion  Thank you for another day of life Lord. #Chris...\n",
       "1  Legalization of Abortion  @rosaryrevival Lovely to use Glorious Mysterie...\n",
       "2  Legalization of Abortion  @Niall250 good thing is that #DUP have consist...\n",
       "3  Legalization of Abortion  So, you tell me... is murder okay if the victi...\n",
       "4  Legalization of Abortion  @HillaryClinton Don't you mean to say (all chi..."
      ]
     },
     "execution_count": 9,
     "metadata": {},
     "output_type": "execute_result"
    }
   ],
   "source": [
    "df = pd.read_csv('data/progressive-tweet-sentiment.csv', encoding='latin-1')\n",
    "df = df[[\"target\", \"tweet\"]]\n",
    "df.head()"
   ]
  },
  {
   "cell_type": "code",
   "execution_count": 10,
   "metadata": {},
   "outputs": [
    {
     "name": "stderr",
     "output_type": "stream",
     "text": [
      "[nltk_data] Downloading package stopwords to\n",
      "[nltk_data]     /Users/jessuarez/nltk_data...\n",
      "[nltk_data]   Package stopwords is already up-to-date!\n"
     ]
    },
    {
     "data": {
      "text/plain": [
       "0    thank another day life lord christian catholic...\n",
       "1    lovely use glorious mysteries eastertide mark ...\n",
       "2    good thing dup consistently said murder wrong ...\n",
       "3            tell murder okay victim mentally disabled\n",
       "4    dont mean say children deserve chances except ...\n",
       "Name: text_clean, dtype: object"
      ]
     },
     "execution_count": 10,
     "metadata": {},
     "output_type": "execute_result"
    }
   ],
   "source": [
    "# Limpieza\n",
    "\n",
    "def limpieza(text):\n",
    "  text=re.sub(r'@_[A-Za-z0-9]+_','',text) #Remover @_menciones_\n",
    "  text=re.sub(r'@[A-Za-z0-9]+_[A-Za-z0-9]+','',text) #Remover @menciones_\n",
    "  text=re.sub(r'@[A-Za-z0-9]+','',text) #Remover @menciones\n",
    "  text=re.sub(r'https?:\\/\\/\\S+','',text) #Remover Hypervinculos\n",
    "  text=re.sub(r'RT[\\s]+','',text) #Remover Retweets\n",
    "  text=re.sub(r'[^\\w\\s]',\"\",text) #remover signos de puntuacion\n",
    "  text=re.sub(r'#[A-Za-z0-9]+','',text) #Remover \"#\"\n",
    "  text=re.sub(r'[0-9]','',text) #remover numeros\n",
    "  text=re.sub(r'[^\\w\\s]',\"\",text) #remover signos de puntuacion\n",
    "  text=re.sub(r'\\n|\\t',' ',text) #remover saltos de linea\n",
    "  text=re.sub(r'\\@',' ',text) #remover \"@\"\n",
    "  text=re.sub(r'[\\s]+',' ',text) #reemplazar espacios dobles por espacion sencillos\n",
    "  text=re.sub(r\"^[\\s]\",' ',text) #eliminar espacios al inicio de cada tweet\n",
    "  text=text.lower() #todo a minuscula\n",
    "  return text\n",
    "\n",
    "import nltk\n",
    "nltk.download(\"stopwords\")\n",
    "from nltk.corpus import stopwords\n",
    "stop = stopwords.words('english')\n",
    "\n",
    "#limpieza inicial de los tweetseza)\n",
    "# Excluir stopwords\n",
    "df['text_clean']=df[\"tweet\"].apply(limpieza)\n",
    "df['text_clean'] = df[\"text_clean\"].apply(lambda words: ' '.join(word.lower() for word in words.split() if word not in stop))\n",
    "df['text_clean'].head()"
   ]
  },
  {
   "cell_type": "code",
   "execution_count": 11,
   "metadata": {},
   "outputs": [
    {
     "name": "stderr",
     "output_type": "stream",
     "text": [
      "[nltk_data] Downloading package punkt to /Users/jessuarez/nltk_data...\n",
      "[nltk_data]   Package punkt is already up-to-date!\n"
     ]
    }
   ],
   "source": [
    "# tokenizar\n",
    "nltk.download(\"punkt\")\n",
    "\n",
    "#tokenizar cada tweet eliminando stopwords\n",
    "listado=[]\n",
    "for i in range(len(df)):\n",
    "  aux=word_tokenize(df['text_clean'][i])\n",
    "  aux2=[]\n",
    "  for word in aux:\n",
    "    if word not in stop: \n",
    "      aux2.append(word)\n",
    "  listado.append(aux2) \n"
   ]
  },
  {
   "cell_type": "code",
   "execution_count": 12,
   "metadata": {},
   "outputs": [],
   "source": [
    "# Parametros del modelo word2vec \n",
    "\n",
    "vector_size = 50 # numero de elementos del vector que representa la palabra\n",
    "min_count =3 # Ignores all words with total frequency lower than this. \n",
    "workers = 5 # numero de cpu cores\n",
    "sg = 0 # 0: CBOW, 1: skip-gram\n",
    "window = 6 # Tamano de la ventana de contexto\n",
    "sample = 1e-3 # tasa de submuestreo para terminos frecuentes\n",
    "model = Word2Vec(listado, vector_size=vector_size,min_count=min_count, workers=workers,sg=sg,window=window,sample=sample, seed=123)"
   ]
  },
  {
   "cell_type": "code",
   "execution_count": 13,
   "metadata": {},
   "outputs": [
    {
     "name": "stderr",
     "output_type": "stream",
     "text": [
      "/var/folders/1z/1h5_y8x165n9_dtqpqg0vsw07w60nb/T/ipykernel_2233/2160571216.py:18: SettingWithCopyWarning: \n",
      "A value is trying to be set on a copy of a slice from a DataFrame.\n",
      "Try using .loc[row_indexer,col_indexer] = value instead\n",
      "\n",
      "See the caveats in the documentation: https://pandas.pydata.org/pandas-docs/stable/user_guide/indexing.html#returning-a-view-versus-a-copy\n",
      "  df2['vectors']=tweet_vector\n"
     ]
    },
    {
     "data": {
      "text/html": [
       "<div>\n",
       "<style scoped>\n",
       "    .dataframe tbody tr th:only-of-type {\n",
       "        vertical-align: middle;\n",
       "    }\n",
       "\n",
       "    .dataframe tbody tr th {\n",
       "        vertical-align: top;\n",
       "    }\n",
       "\n",
       "    .dataframe thead th {\n",
       "        text-align: right;\n",
       "    }\n",
       "</style>\n",
       "<table border=\"1\" class=\"dataframe\">\n",
       "  <thead>\n",
       "    <tr style=\"text-align: right;\">\n",
       "      <th></th>\n",
       "      <th>target</th>\n",
       "      <th>tweet</th>\n",
       "      <th>text_clean</th>\n",
       "      <th>vectors</th>\n",
       "    </tr>\n",
       "  </thead>\n",
       "  <tbody>\n",
       "    <tr>\n",
       "      <th>0</th>\n",
       "      <td>Legalization of Abortion</td>\n",
       "      <td>Thank you for another day of life Lord. #Chris...</td>\n",
       "      <td>thank another day life lord christian catholic...</td>\n",
       "      <td>[-710.8521343231201, -5.7086110687255855, -7.3...</td>\n",
       "    </tr>\n",
       "    <tr>\n",
       "      <th>1</th>\n",
       "      <td>Legalization of Abortion</td>\n",
       "      <td>@rosaryrevival Lovely to use Glorious Mysterie...</td>\n",
       "      <td>lovely use glorious mysteries eastertide mark ...</td>\n",
       "      <td>[258.9428883361816, 1.2344049072265626, 1.6824...</td>\n",
       "    </tr>\n",
       "    <tr>\n",
       "      <th>2</th>\n",
       "      <td>Legalization of Abortion</td>\n",
       "      <td>@Niall250 good thing is that #DUP have consist...</td>\n",
       "      <td>good thing dup consistently said murder wrong ...</td>\n",
       "      <td>[-3.891765289306641, 10.893544616699218, 73.47...</td>\n",
       "    </tr>\n",
       "    <tr>\n",
       "      <th>3</th>\n",
       "      <td>Legalization of Abortion</td>\n",
       "      <td>So, you tell me... is murder okay if the victi...</td>\n",
       "      <td>tell murder okay victim mentally disabled</td>\n",
       "      <td>[0.20331680297851562, 18.243045349121093, 2.25...</td>\n",
       "    </tr>\n",
       "    <tr>\n",
       "      <th>4</th>\n",
       "      <td>Legalization of Abortion</td>\n",
       "      <td>@HillaryClinton Don't you mean to say (all chi...</td>\n",
       "      <td>dont mean say children deserve chances except ...</td>\n",
       "      <td>[58.7990193939209, 15.21827392578125, -22.5602...</td>\n",
       "    </tr>\n",
       "  </tbody>\n",
       "</table>\n",
       "</div>"
      ],
      "text/plain": [
       "                     target  \\\n",
       "0  Legalization of Abortion   \n",
       "1  Legalization of Abortion   \n",
       "2  Legalization of Abortion   \n",
       "3  Legalization of Abortion   \n",
       "4  Legalization of Abortion   \n",
       "\n",
       "                                               tweet  \\\n",
       "0  Thank you for another day of life Lord. #Chris...   \n",
       "1  @rosaryrevival Lovely to use Glorious Mysterie...   \n",
       "2  @Niall250 good thing is that #DUP have consist...   \n",
       "3  So, you tell me... is murder okay if the victi...   \n",
       "4  @HillaryClinton Don't you mean to say (all chi...   \n",
       "\n",
       "                                          text_clean  \\\n",
       "0  thank another day life lord christian catholic...   \n",
       "1  lovely use glorious mysteries eastertide mark ...   \n",
       "2  good thing dup consistently said murder wrong ...   \n",
       "3          tell murder okay victim mentally disabled   \n",
       "4  dont mean say children deserve chances except ...   \n",
       "\n",
       "                                             vectors  \n",
       "0  [-710.8521343231201, -5.7086110687255855, -7.3...  \n",
       "1  [258.9428883361816, 1.2344049072265626, 1.6824...  \n",
       "2  [-3.891765289306641, 10.893544616699218, 73.47...  \n",
       "3  [0.20331680297851562, 18.243045349121093, 2.25...  \n",
       "4  [58.7990193939209, 15.21827392578125, -22.5602...  "
      ]
     },
     "execution_count": 13,
     "metadata": {},
     "output_type": "execute_result"
    }
   ],
   "source": [
    "#funcion para calcular el promedio de los vectores de cada token por tweet\n",
    "import numpy as np\n",
    "tweet_vector=[]\n",
    "for i in range(len(listado)):\n",
    "  v1=[0 for i in range(vector_size)]\n",
    "  for j in range(len(listado[i])):\n",
    "    if listado[i][j] in model.wv:\n",
    "      v2=model.wv.get_vector(listado[i][j])\n",
    "      v2=1/np.log(1+v2)\n",
    "      v1=[v1[k] + v2[k] for k in range(len(v1))]\n",
    "  v1=[v1[k]/len(v1) for k in range(len(v1))]\n",
    "  tweet_vector.append(v1)\n",
    "\n",
    "#tweet_vector\n",
    "\n",
    "df2=df[:]\n",
    "df2\n",
    "df2['vectors']=tweet_vector\n",
    "df2.head(n=5)\n"
   ]
  },
  {
   "cell_type": "code",
   "execution_count": 14,
   "metadata": {
    "colab": {
     "base_uri": "https://localhost:8080/"
    },
    "id": "jbV12-NsQqle",
    "outputId": "ab22560b-ff2d-4d07-f33b-f59c19660158"
   },
   "outputs": [],
   "source": [
    "# Estandarizando datos Para modelo\n",
    "df2 = df2.assign(total_sum = df2.vectors.apply( lambda x: sum(x)))\n",
    "\n",
    "#Eliminamos aquellos sin representación sparsing\n",
    "df2 = df2.loc[df2.total_sum != 0,:]\n",
    "\n",
    "# creando vector X \n",
    "X=list(df2.vectors)\n",
    "X= np.asarray(X)\n",
    "\n",
    "#Estandarizando\n",
    "sc = StandardScaler()\n",
    "X = sc.fit_transform(X)"
   ]
  },
  {
   "cell_type": "code",
   "execution_count": 15,
   "metadata": {},
   "outputs": [],
   "source": [
    "# creando variable target numerica para la red\n",
    "df2 = df2.assign(target = pd.Categorical(df2.target))\n",
    "df2 = df2.assign(target_codes = df2.target.cat.codes)\n",
    "\n",
    "y = list(deepcopy( df2.target_codes))\n",
    "y= np.asarray(y)"
   ]
  },
  {
   "cell_type": "code",
   "execution_count": 16,
   "metadata": {},
   "outputs": [
    {
     "name": "stdout",
     "output_type": "stream",
     "text": [
      "(1153, 50)\n",
      "(1153,)\n"
     ]
    }
   ],
   "source": [
    "# validando dimensiones\n",
    "print(X.shape)\n",
    "print(y.shape)"
   ]
  },
  {
   "cell_type": "code",
   "execution_count": 17,
   "metadata": {
    "id": "T0QwUm2rctS2"
   },
   "outputs": [],
   "source": [
    "def loss_acc_batch(x,y, model, DEVICE, loss_func, acc = None):\n",
    "    yp = model(x.to(DEVICE))\n",
    "    yt = y.to(DEVICE).long() # .long() porque espera un entero tipo long\n",
    "    loss = loss_func(yp, yt)\n",
    "    out = [loss, len(x)]\n",
    "    \n",
    "    if acc is not None:\n",
    "        y_pred = torch.argmax(model(x.to(DEVICE)), 1) \n",
    "        accuracy = (y_pred == yt).float().mean().item()\n",
    "        out.append(accuracy)#nar todas las palabras de nuestro vocabulario a un índice correspondiente. Podemos hacerlo de la siguiente\n",
    "    return out"
   ]
  },
  {
   "cell_type": "code",
   "execution_count": 18,
   "metadata": {
    "id": "h64FEycoc0zn"
   },
   "outputs": [],
   "source": [
    "def train(model, train_dl,DEVICE, loss_func, opt, NUM_EPOCHS, valid_dl):\n",
    "    \n",
    "    train_losses = []\n",
    "    valid_losses = []\n",
    "    train_accs=[]\n",
    "    valid_accs=[]\n",
    "    for epoch in range(NUM_EPOCHS):\n",
    "        model.train() # importante para activar ciertas funciones como dropout, batchnormalization, etc.\n",
    "        losses = 0\n",
    "        nums = 0\n",
    "        train_acc=[]\n",
    "        for x, y in train_dl:\n",
    "            #loss, l = loss_acc_batch(x,y)\n",
    "            loss, l,acc = loss_acc_batch(x=x,y=y,model=model,loss_func=loss_func,DEVICE=DEVICE,acc=True)\n",
    "            loss.backward()\n",
    "            opt.step()\n",
    "            opt.zero_grad()\n",
    "            \n",
    "            losses += loss.item() * l\n",
    "            nums += l\n",
    "            train_acc.append(acc)\n",
    "        train_loss = losses / nums\n",
    "        train_losses.append(train_loss)\n",
    "\n",
    "        \n",
    "        model.eval()  #importante para desactivar ciertas funciones como dropout, batchnormalization, etc.\n",
    "        with torch.no_grad():\n",
    "            losses, nums, accs = zip(*[loss_acc_batch(x=xb, y=yb,loss_func=loss_func, model = model, DEVICE=DEVICE, acc=True) for xb, yb in valid_dl])\n",
    "        losses = [l.item() for l in losses]\n",
    "        valid_loss = np.sum(np.multiply(losses,nums)) / np.sum(nums)\n",
    "        valid_losses.append(valid_loss)\n",
    "        \n",
    "        valid_acc = np.sum(np.multiply(accs,nums)) / np.sum(nums)\n",
    "        valid_accs.append(valid_acc)\n",
    "        \n",
    "        if epoch % 10 == 0:\n",
    "            print(f\"epoch: {epoch}, train_loss: {train_loss:.4f} \\\n",
    "            valid_loss: {valid_loss:.4f}, valid_acc: {valid_acc:.4f}\")\n",
    "    \n",
    "    \n",
    "    return train_losses,train_accs,valid_losses,valid_accs "
   ]
  },
  {
   "cell_type": "markdown",
   "metadata": {},
   "source": [
    "# Unificando para validar diferentes EPOCAS"
   ]
  },
  {
   "cell_type": "code",
   "execution_count": 19,
   "metadata": {},
   "outputs": [],
   "source": [
    "def grid_excercise(X, y, RANDOM_SEED=1, BATCH_SIZE=20, NUM_EPOCHS=100, lr=0.01, NUM_HIDDEN = 20, DEVICE = None, get_results =False):\n",
    "    \n",
    "    \n",
    "\n",
    "\n",
    "    ########################################################\n",
    "    # Ajustando dataset para el modelo\n",
    "    ########################################################\n",
    "    torch.manual_seed(RANDOM_SEED); # configurar semilla\n",
    "\n",
    "    #separar en datos de test y de entrenamiento\n",
    "    X_train,X_valid,y_train,y_valid = train_test_split(X, y, test_size=0.3, random_state=RANDOM_SEED)\n",
    "\n",
    "    #convertir numpy arrays a tensores\n",
    "    X_train, y_train, X_valid, y_valid = map( lambda x: torch.tensor(x, dtype=torch.float32),\n",
    "                                            (X_train, y_train, X_valid, y_valid) )\n",
    "\n",
    "    #convertir a tensor dataset\n",
    "    train_ds = TensorDataset(X_train, y_train.long())\n",
    "    valid_ds = TensorDataset(X_valid, y_valid.long())\n",
    "\n",
    "    #convertir a dataloader\n",
    "    train_dl = DataLoader(train_ds, batch_size=BATCH_SIZE, shuffle=True)\n",
    "    valid_dl = DataLoader(valid_ds, batch_size = 2*BATCH_SIZE)\n",
    "\n",
    "\n",
    "    print('tam muestra de entrenamiento')\n",
    "    print(X_train.shape)\n",
    "    print(y_train.shape)\n",
    "\n",
    "    ########################################################\n",
    "    # Definiendo modelo\n",
    "    ########################################################\n",
    "    num_features = X.shape[1]\n",
    "    num_hidden = NUM_HIDDEN\n",
    "    num_classes = len(torch.unique(y_train))\n",
    "\n",
    "    model = nn.Sequential(\n",
    "        nn.Linear(num_features,num_hidden),\n",
    "        nn.ReLU(),\n",
    "        nn.Linear(num_hidden, num_classes)\n",
    "    )\n",
    "\n",
    "    loss_func = F.cross_entropy\n",
    "\n",
    "    model = model.to(DEVICE)\n",
    "\n",
    "    opt = optim.SGD(model.parameters(),lr = lr)\n",
    "\n",
    "    train_losses,train_accs,valid_losses,valid_accs=train(model=model,train_dl=train_dl, valid_dl = valid_dl,\n",
    "                                                            DEVICE=DEVICE, loss_func=loss_func,\n",
    "                                                            opt = opt, NUM_EPOCHS=NUM_EPOCHS)\n",
    "\n",
    "\n",
    "    if get_results:\n",
    "        return train_losses,train_accs,valid_losses,valid_accs\n",
    "    else:\n",
    "        return valid_accs[-1]\n",
    "\n",
    "\n"
   ]
  },
  {
   "cell_type": "code",
   "execution_count": 20,
   "metadata": {},
   "outputs": [],
   "source": [
    "params_ = {'learning_rate': [0.1, 0.01],\n",
    "            'NUM_HIDDEN': [10,50,100],\n",
    "            'epochs': [10,50, 75,100,200]}"
   ]
  },
  {
   "cell_type": "code",
   "execution_count": 21,
   "metadata": {},
   "outputs": [
    {
     "name": "stdout",
     "output_type": "stream",
     "text": [
      "tam muestra de entrenamiento\n",
      "torch.Size([807, 50])\n",
      "torch.Size([807])\n",
      "epoch: 0, train_loss: 1.3853             valid_loss: 1.3893, valid_acc: 0.2861\n"
     ]
    },
    {
     "name": "stderr",
     "output_type": "stream",
     "text": [
      "<timed exec>:10: FutureWarning: The frame.append method is deprecated and will be removed from pandas in a future version. Use pandas.concat instead.\n",
      "<timed exec>:10: FutureWarning: The frame.append method is deprecated and will be removed from pandas in a future version. Use pandas.concat instead.\n"
     ]
    },
    {
     "name": "stdout",
     "output_type": "stream",
     "text": [
      "tam muestra de entrenamiento\n",
      "torch.Size([807, 50])\n",
      "torch.Size([807])\n",
      "epoch: 0, train_loss: 1.3853             valid_loss: 1.3893, valid_acc: 0.2861\n",
      "epoch: 10, train_loss: 1.1967             valid_loss: 1.3389, valid_acc: 0.3728\n",
      "epoch: 20, train_loss: 1.0951             valid_loss: 1.3419, valid_acc: 0.4249\n",
      "epoch: 30, train_loss: 1.0314             valid_loss: 1.4035, valid_acc: 0.4104\n",
      "epoch: 40, train_loss: 0.9933             valid_loss: 1.4386, valid_acc: 0.4306\n",
      "tam muestra de entrenamiento\n",
      "torch.Size([807, 50])\n",
      "torch.Size([807])\n"
     ]
    },
    {
     "name": "stderr",
     "output_type": "stream",
     "text": [
      "<timed exec>:10: FutureWarning: The frame.append method is deprecated and will be removed from pandas in a future version. Use pandas.concat instead.\n"
     ]
    },
    {
     "name": "stdout",
     "output_type": "stream",
     "text": [
      "epoch: 0, train_loss: 1.3853             valid_loss: 1.3893, valid_acc: 0.2861\n",
      "epoch: 10, train_loss: 1.1967             valid_loss: 1.3389, valid_acc: 0.3728\n",
      "epoch: 20, train_loss: 1.0951             valid_loss: 1.3419, valid_acc: 0.4249\n",
      "epoch: 30, train_loss: 1.0314             valid_loss: 1.4035, valid_acc: 0.4104\n",
      "epoch: 40, train_loss: 0.9933             valid_loss: 1.4386, valid_acc: 0.4306\n",
      "epoch: 50, train_loss: 0.9522             valid_loss: 1.4800, valid_acc: 0.3960\n",
      "epoch: 60, train_loss: 0.9052             valid_loss: 1.5276, valid_acc: 0.3931\n",
      "epoch: 70, train_loss: 0.8754             valid_loss: 1.5593, valid_acc: 0.4046\n",
      "tam muestra de entrenamiento\n",
      "torch.Size([807, 50])\n",
      "torch.Size([807])\n",
      "epoch: 0, train_loss: 1.3853             valid_loss: 1.3893, valid_acc: 0.2861\n"
     ]
    },
    {
     "name": "stderr",
     "output_type": "stream",
     "text": [
      "<timed exec>:10: FutureWarning: The frame.append method is deprecated and will be removed from pandas in a future version. Use pandas.concat instead.\n"
     ]
    },
    {
     "name": "stdout",
     "output_type": "stream",
     "text": [
      "epoch: 10, train_loss: 1.1967             valid_loss: 1.3389, valid_acc: 0.3728\n",
      "epoch: 20, train_loss: 1.0951             valid_loss: 1.3419, valid_acc: 0.4249\n",
      "epoch: 30, train_loss: 1.0314             valid_loss: 1.4035, valid_acc: 0.4104\n",
      "epoch: 40, train_loss: 0.9933             valid_loss: 1.4386, valid_acc: 0.4306\n",
      "epoch: 50, train_loss: 0.9522             valid_loss: 1.4800, valid_acc: 0.3960\n",
      "epoch: 60, train_loss: 0.9052             valid_loss: 1.5276, valid_acc: 0.3931\n",
      "epoch: 70, train_loss: 0.8754             valid_loss: 1.5593, valid_acc: 0.4046\n",
      "epoch: 80, train_loss: 0.8499             valid_loss: 1.6084, valid_acc: 0.4277\n",
      "epoch: 90, train_loss: 0.8541             valid_loss: 1.6682, valid_acc: 0.4220\n",
      "tam muestra de entrenamiento\n",
      "torch.Size([807, 50])\n",
      "torch.Size([807])\n"
     ]
    },
    {
     "name": "stderr",
     "output_type": "stream",
     "text": [
      "<timed exec>:10: FutureWarning: The frame.append method is deprecated and will be removed from pandas in a future version. Use pandas.concat instead.\n"
     ]
    },
    {
     "name": "stdout",
     "output_type": "stream",
     "text": [
      "epoch: 0, train_loss: 1.3853             valid_loss: 1.3893, valid_acc: 0.2861\n",
      "epoch: 10, train_loss: 1.1967             valid_loss: 1.3389, valid_acc: 0.3728\n",
      "epoch: 20, train_loss: 1.0951             valid_loss: 1.3419, valid_acc: 0.4249\n",
      "epoch: 30, train_loss: 1.0314             valid_loss: 1.4035, valid_acc: 0.4104\n",
      "epoch: 40, train_loss: 0.9933             valid_loss: 1.4386, valid_acc: 0.4306\n",
      "epoch: 50, train_loss: 0.9522             valid_loss: 1.4800, valid_acc: 0.3960\n",
      "epoch: 60, train_loss: 0.9052             valid_loss: 1.5276, valid_acc: 0.3931\n",
      "epoch: 70, train_loss: 0.8754             valid_loss: 1.5593, valid_acc: 0.4046\n",
      "epoch: 80, train_loss: 0.8499             valid_loss: 1.6084, valid_acc: 0.4277\n",
      "epoch: 90, train_loss: 0.8541             valid_loss: 1.6682, valid_acc: 0.4220\n",
      "epoch: 100, train_loss: 0.8091             valid_loss: 1.7286, valid_acc: 0.4249\n",
      "epoch: 110, train_loss: 0.7948             valid_loss: 1.8083, valid_acc: 0.3815\n",
      "epoch: 120, train_loss: 0.7701             valid_loss: 1.9076, valid_acc: 0.3873\n",
      "epoch: 130, train_loss: 0.7638             valid_loss: 1.9108, valid_acc: 0.4104\n",
      "epoch: 140, train_loss: 0.7590             valid_loss: 1.9559, valid_acc: 0.4191\n",
      "epoch: 150, train_loss: 0.7529             valid_loss: 2.0215, valid_acc: 0.4133\n",
      "epoch: 160, train_loss: 0.7378             valid_loss: 2.0734, valid_acc: 0.4162\n",
      "epoch: 170, train_loss: 0.7342             valid_loss: 2.1216, valid_acc: 0.4104\n",
      "epoch: 180, train_loss: 0.7151             valid_loss: 2.1929, valid_acc: 0.4133\n",
      "epoch: 190, train_loss: 0.7045             valid_loss: 2.2164, valid_acc: 0.4104\n"
     ]
    },
    {
     "name": "stderr",
     "output_type": "stream",
     "text": [
      "<timed exec>:10: FutureWarning: The frame.append method is deprecated and will be removed from pandas in a future version. Use pandas.concat instead.\n"
     ]
    },
    {
     "name": "stdout",
     "output_type": "stream",
     "text": [
      "tam muestra de entrenamiento\n",
      "torch.Size([807, 50])\n",
      "torch.Size([807])\n",
      "epoch: 0, train_loss: 1.3852             valid_loss: 1.3661, valid_acc: 0.3035\n"
     ]
    },
    {
     "name": "stderr",
     "output_type": "stream",
     "text": [
      "<timed exec>:10: FutureWarning: The frame.append method is deprecated and will be removed from pandas in a future version. Use pandas.concat instead.\n"
     ]
    },
    {
     "name": "stdout",
     "output_type": "stream",
     "text": [
      "tam muestra de entrenamiento\n",
      "torch.Size([807, 50])\n",
      "torch.Size([807])\n",
      "epoch: 0, train_loss: 1.3852             valid_loss: 1.3661, valid_acc: 0.3035\n",
      "epoch: 10, train_loss: 1.1224             valid_loss: 1.3350, valid_acc: 0.3902\n",
      "epoch: 20, train_loss: 0.9840             valid_loss: 1.3899, valid_acc: 0.3931\n",
      "epoch: 30, train_loss: 0.8789             valid_loss: 1.4364, valid_acc: 0.4220\n",
      "epoch: 40, train_loss: 0.7891             valid_loss: 1.5433, valid_acc: 0.4104\n"
     ]
    },
    {
     "name": "stderr",
     "output_type": "stream",
     "text": [
      "<timed exec>:10: FutureWarning: The frame.append method is deprecated and will be removed from pandas in a future version. Use pandas.concat instead.\n"
     ]
    },
    {
     "name": "stdout",
     "output_type": "stream",
     "text": [
      "tam muestra de entrenamiento\n",
      "torch.Size([807, 50])\n",
      "torch.Size([807])\n",
      "epoch: 0, train_loss: 1.3852             valid_loss: 1.3661, valid_acc: 0.3035\n",
      "epoch: 10, train_loss: 1.1224             valid_loss: 1.3350, valid_acc: 0.3902\n",
      "epoch: 20, train_loss: 0.9840             valid_loss: 1.3899, valid_acc: 0.3931\n",
      "epoch: 30, train_loss: 0.8789             valid_loss: 1.4364, valid_acc: 0.4220\n",
      "epoch: 40, train_loss: 0.7891             valid_loss: 1.5433, valid_acc: 0.4104\n",
      "epoch: 50, train_loss: 0.7152             valid_loss: 1.6288, valid_acc: 0.4046\n",
      "epoch: 60, train_loss: 0.6444             valid_loss: 1.7546, valid_acc: 0.4075\n",
      "epoch: 70, train_loss: 0.6088             valid_loss: 1.7979, valid_acc: 0.4364\n",
      "tam muestra de entrenamiento\n",
      "torch.Size([807, 50])\n",
      "torch.Size([807])\n"
     ]
    },
    {
     "name": "stderr",
     "output_type": "stream",
     "text": [
      "<timed exec>:10: FutureWarning: The frame.append method is deprecated and will be removed from pandas in a future version. Use pandas.concat instead.\n"
     ]
    },
    {
     "name": "stdout",
     "output_type": "stream",
     "text": [
      "epoch: 0, train_loss: 1.3852             valid_loss: 1.3661, valid_acc: 0.3035\n",
      "epoch: 10, train_loss: 1.1224             valid_loss: 1.3350, valid_acc: 0.3902\n",
      "epoch: 20, train_loss: 0.9840             valid_loss: 1.3899, valid_acc: 0.3931\n",
      "epoch: 30, train_loss: 0.8789             valid_loss: 1.4364, valid_acc: 0.4220\n",
      "epoch: 40, train_loss: 0.7891             valid_loss: 1.5433, valid_acc: 0.4104\n",
      "epoch: 50, train_loss: 0.7152             valid_loss: 1.6288, valid_acc: 0.4046\n",
      "epoch: 60, train_loss: 0.6444             valid_loss: 1.7546, valid_acc: 0.4075\n",
      "epoch: 70, train_loss: 0.6088             valid_loss: 1.7979, valid_acc: 0.4364\n",
      "epoch: 80, train_loss: 0.5274             valid_loss: 1.9383, valid_acc: 0.4220\n",
      "epoch: 90, train_loss: 0.4940             valid_loss: 2.1502, valid_acc: 0.4335\n"
     ]
    },
    {
     "name": "stderr",
     "output_type": "stream",
     "text": [
      "<timed exec>:10: FutureWarning: The frame.append method is deprecated and will be removed from pandas in a future version. Use pandas.concat instead.\n"
     ]
    },
    {
     "name": "stdout",
     "output_type": "stream",
     "text": [
      "tam muestra de entrenamiento\n",
      "torch.Size([807, 50])\n",
      "torch.Size([807])\n",
      "epoch: 0, train_loss: 1.3852             valid_loss: 1.3661, valid_acc: 0.3035\n",
      "epoch: 10, train_loss: 1.1224             valid_loss: 1.3350, valid_acc: 0.3902\n",
      "epoch: 20, train_loss: 0.9840             valid_loss: 1.3899, valid_acc: 0.3931\n",
      "epoch: 30, train_loss: 0.8789             valid_loss: 1.4364, valid_acc: 0.4220\n",
      "epoch: 40, train_loss: 0.7891             valid_loss: 1.5433, valid_acc: 0.4104\n",
      "epoch: 50, train_loss: 0.7152             valid_loss: 1.6288, valid_acc: 0.4046\n",
      "epoch: 60, train_loss: 0.6444             valid_loss: 1.7546, valid_acc: 0.4075\n",
      "epoch: 70, train_loss: 0.6088             valid_loss: 1.7979, valid_acc: 0.4364\n",
      "epoch: 80, train_loss: 0.5274             valid_loss: 1.9383, valid_acc: 0.4220\n",
      "epoch: 90, train_loss: 0.4940             valid_loss: 2.1502, valid_acc: 0.4335\n",
      "epoch: 100, train_loss: 0.4381             valid_loss: 2.1216, valid_acc: 0.4249\n",
      "epoch: 110, train_loss: 0.4498             valid_loss: 2.2405, valid_acc: 0.4306\n",
      "epoch: 120, train_loss: 0.3701             valid_loss: 2.3704, valid_acc: 0.4364\n",
      "epoch: 130, train_loss: 0.4148             valid_loss: 2.4778, valid_acc: 0.4277\n",
      "epoch: 140, train_loss: 0.3431             valid_loss: 2.5759, valid_acc: 0.4075\n",
      "epoch: 150, train_loss: 0.3050             valid_loss: 2.6303, valid_acc: 0.4104\n",
      "epoch: 160, train_loss: 0.3412             valid_loss: 2.7287, valid_acc: 0.4191\n",
      "epoch: 170, train_loss: 0.2717             valid_loss: 2.8462, valid_acc: 0.4306\n",
      "epoch: 180, train_loss: 0.2428             valid_loss: 2.9424, valid_acc: 0.4191\n",
      "epoch: 190, train_loss: 0.2422             valid_loss: 3.0432, valid_acc: 0.4133\n"
     ]
    },
    {
     "name": "stderr",
     "output_type": "stream",
     "text": [
      "<timed exec>:10: FutureWarning: The frame.append method is deprecated and will be removed from pandas in a future version. Use pandas.concat instead.\n"
     ]
    },
    {
     "name": "stdout",
     "output_type": "stream",
     "text": [
      "tam muestra de entrenamiento\n",
      "torch.Size([807, 50])\n",
      "torch.Size([807])\n",
      "epoch: 0, train_loss: 1.4035             valid_loss: 1.3774, valid_acc: 0.2803\n"
     ]
    },
    {
     "name": "stderr",
     "output_type": "stream",
     "text": [
      "<timed exec>:10: FutureWarning: The frame.append method is deprecated and will be removed from pandas in a future version. Use pandas.concat instead.\n"
     ]
    },
    {
     "name": "stdout",
     "output_type": "stream",
     "text": [
      "tam muestra de entrenamiento\n",
      "torch.Size([807, 50])\n",
      "torch.Size([807])\n",
      "epoch: 0, train_loss: 1.4035             valid_loss: 1.3774, valid_acc: 0.2803\n",
      "epoch: 10, train_loss: 1.1177             valid_loss: 1.3440, valid_acc: 0.4075\n",
      "epoch: 20, train_loss: 0.9730             valid_loss: 1.4157, valid_acc: 0.3786\n",
      "epoch: 30, train_loss: 0.8580             valid_loss: 1.4899, valid_acc: 0.4220\n",
      "epoch: 40, train_loss: 0.7546             valid_loss: 1.5930, valid_acc: 0.3960\n"
     ]
    },
    {
     "name": "stderr",
     "output_type": "stream",
     "text": [
      "<timed exec>:10: FutureWarning: The frame.append method is deprecated and will be removed from pandas in a future version. Use pandas.concat instead.\n"
     ]
    },
    {
     "name": "stdout",
     "output_type": "stream",
     "text": [
      "tam muestra de entrenamiento\n",
      "torch.Size([807, 50])\n",
      "torch.Size([807])\n",
      "epoch: 0, train_loss: 1.4035             valid_loss: 1.3774, valid_acc: 0.2803\n",
      "epoch: 10, train_loss: 1.1177             valid_loss: 1.3440, valid_acc: 0.4075\n",
      "epoch: 20, train_loss: 0.9730             valid_loss: 1.4157, valid_acc: 0.3786\n",
      "epoch: 30, train_loss: 0.8580             valid_loss: 1.4899, valid_acc: 0.4220\n",
      "epoch: 40, train_loss: 0.7546             valid_loss: 1.5930, valid_acc: 0.3960\n",
      "epoch: 50, train_loss: 0.6793             valid_loss: 1.7262, valid_acc: 0.4335\n",
      "epoch: 60, train_loss: 0.6054             valid_loss: 1.8375, valid_acc: 0.4191\n",
      "epoch: 70, train_loss: 0.5294             valid_loss: 1.9429, valid_acc: 0.4046\n",
      "tam muestra de entrenamiento\n",
      "torch.Size([807, 50])\n",
      "torch.Size([807])\n"
     ]
    },
    {
     "name": "stderr",
     "output_type": "stream",
     "text": [
      "<timed exec>:10: FutureWarning: The frame.append method is deprecated and will be removed from pandas in a future version. Use pandas.concat instead.\n"
     ]
    },
    {
     "name": "stdout",
     "output_type": "stream",
     "text": [
      "epoch: 0, train_loss: 1.4035             valid_loss: 1.3774, valid_acc: 0.2803\n",
      "epoch: 10, train_loss: 1.1177             valid_loss: 1.3440, valid_acc: 0.4075\n",
      "epoch: 20, train_loss: 0.9730             valid_loss: 1.4157, valid_acc: 0.3786\n",
      "epoch: 30, train_loss: 0.8580             valid_loss: 1.4899, valid_acc: 0.4220\n",
      "epoch: 40, train_loss: 0.7546             valid_loss: 1.5930, valid_acc: 0.3960\n",
      "epoch: 50, train_loss: 0.6793             valid_loss: 1.7262, valid_acc: 0.4335\n",
      "epoch: 60, train_loss: 0.6054             valid_loss: 1.8375, valid_acc: 0.4191\n",
      "epoch: 70, train_loss: 0.5294             valid_loss: 1.9429, valid_acc: 0.4046\n",
      "epoch: 80, train_loss: 0.4783             valid_loss: 2.0621, valid_acc: 0.4364\n",
      "epoch: 90, train_loss: 0.4335             valid_loss: 2.1641, valid_acc: 0.4220\n"
     ]
    },
    {
     "name": "stderr",
     "output_type": "stream",
     "text": [
      "<timed exec>:10: FutureWarning: The frame.append method is deprecated and will be removed from pandas in a future version. Use pandas.concat instead.\n"
     ]
    },
    {
     "name": "stdout",
     "output_type": "stream",
     "text": [
      "tam muestra de entrenamiento\n",
      "torch.Size([807, 50])\n",
      "torch.Size([807])\n",
      "epoch: 0, train_loss: 1.4035             valid_loss: 1.3774, valid_acc: 0.2803\n",
      "epoch: 10, train_loss: 1.1177             valid_loss: 1.3440, valid_acc: 0.4075\n",
      "epoch: 20, train_loss: 0.9730             valid_loss: 1.4157, valid_acc: 0.3786\n",
      "epoch: 30, train_loss: 0.8580             valid_loss: 1.4899, valid_acc: 0.4220\n",
      "epoch: 40, train_loss: 0.7546             valid_loss: 1.5930, valid_acc: 0.3960\n",
      "epoch: 50, train_loss: 0.6793             valid_loss: 1.7262, valid_acc: 0.4335\n",
      "epoch: 60, train_loss: 0.6054             valid_loss: 1.8375, valid_acc: 0.4191\n",
      "epoch: 70, train_loss: 0.5294             valid_loss: 1.9429, valid_acc: 0.4046\n",
      "epoch: 80, train_loss: 0.4783             valid_loss: 2.0621, valid_acc: 0.4364\n",
      "epoch: 90, train_loss: 0.4335             valid_loss: 2.1641, valid_acc: 0.4220\n",
      "epoch: 100, train_loss: 0.4018             valid_loss: 2.2890, valid_acc: 0.4364\n",
      "epoch: 110, train_loss: 0.3779             valid_loss: 2.4173, valid_acc: 0.4364\n",
      "epoch: 120, train_loss: 0.3269             valid_loss: 2.4823, valid_acc: 0.4422\n",
      "epoch: 130, train_loss: 0.3039             valid_loss: 2.6295, valid_acc: 0.4133\n",
      "epoch: 140, train_loss: 0.4176             valid_loss: 2.6562, valid_acc: 0.4451\n",
      "epoch: 150, train_loss: 0.2558             valid_loss: 2.7345, valid_acc: 0.4249\n",
      "epoch: 160, train_loss: 0.2334             valid_loss: 2.8678, valid_acc: 0.4364\n",
      "epoch: 170, train_loss: 0.2152             valid_loss: 2.9747, valid_acc: 0.4277\n",
      "epoch: 180, train_loss: 0.2068             valid_loss: 3.0558, valid_acc: 0.4249\n",
      "epoch: 190, train_loss: 0.1873             valid_loss: 3.1817, valid_acc: 0.4277\n"
     ]
    },
    {
     "name": "stderr",
     "output_type": "stream",
     "text": [
      "<timed exec>:10: FutureWarning: The frame.append method is deprecated and will be removed from pandas in a future version. Use pandas.concat instead.\n"
     ]
    },
    {
     "name": "stdout",
     "output_type": "stream",
     "text": [
      "tam muestra de entrenamiento\n",
      "torch.Size([807, 50])\n",
      "torch.Size([807])\n",
      "epoch: 0, train_loss: 1.3971             valid_loss: 1.4037, valid_acc: 0.2601\n"
     ]
    },
    {
     "name": "stderr",
     "output_type": "stream",
     "text": [
      "<timed exec>:10: FutureWarning: The frame.append method is deprecated and will be removed from pandas in a future version. Use pandas.concat instead.\n"
     ]
    },
    {
     "name": "stdout",
     "output_type": "stream",
     "text": [
      "tam muestra de entrenamiento\n",
      "torch.Size([807, 50])\n",
      "torch.Size([807])\n",
      "epoch: 0, train_loss: 1.3971             valid_loss: 1.4037, valid_acc: 0.2601\n",
      "epoch: 10, train_loss: 1.3602             valid_loss: 1.3868, valid_acc: 0.2746\n",
      "epoch: 20, train_loss: 1.3354             valid_loss: 1.3783, valid_acc: 0.2890\n",
      "epoch: 30, train_loss: 1.3138             valid_loss: 1.3723, valid_acc: 0.2919\n",
      "epoch: 40, train_loss: 1.2924             valid_loss: 1.3663, valid_acc: 0.3121\n",
      "tam muestra de entrenamiento\n",
      "torch.Size([807, 50])\n",
      "torch.Size([807])\n",
      "epoch: 0, train_loss: 1.3971             valid_loss: 1.4037, valid_acc: 0.2601\n"
     ]
    },
    {
     "name": "stderr",
     "output_type": "stream",
     "text": [
      "<timed exec>:10: FutureWarning: The frame.append method is deprecated and will be removed from pandas in a future version. Use pandas.concat instead.\n"
     ]
    },
    {
     "name": "stdout",
     "output_type": "stream",
     "text": [
      "epoch: 10, train_loss: 1.3602             valid_loss: 1.3868, valid_acc: 0.2746\n",
      "epoch: 20, train_loss: 1.3354             valid_loss: 1.3783, valid_acc: 0.2890\n",
      "epoch: 30, train_loss: 1.3138             valid_loss: 1.3723, valid_acc: 0.2919\n",
      "epoch: 40, train_loss: 1.2924             valid_loss: 1.3663, valid_acc: 0.3121\n",
      "epoch: 50, train_loss: 1.2716             valid_loss: 1.3600, valid_acc: 0.3295\n",
      "epoch: 60, train_loss: 1.2515             valid_loss: 1.3554, valid_acc: 0.3382\n",
      "epoch: 70, train_loss: 1.2327             valid_loss: 1.3496, valid_acc: 0.3382\n"
     ]
    },
    {
     "name": "stderr",
     "output_type": "stream",
     "text": [
      "<timed exec>:10: FutureWarning: The frame.append method is deprecated and will be removed from pandas in a future version. Use pandas.concat instead.\n"
     ]
    },
    {
     "name": "stdout",
     "output_type": "stream",
     "text": [
      "tam muestra de entrenamiento\n",
      "torch.Size([807, 50])\n",
      "torch.Size([807])\n",
      "epoch: 0, train_loss: 1.3971             valid_loss: 1.4037, valid_acc: 0.2601\n",
      "epoch: 10, train_loss: 1.3602             valid_loss: 1.3868, valid_acc: 0.2746\n",
      "epoch: 20, train_loss: 1.3354             valid_loss: 1.3783, valid_acc: 0.2890\n",
      "epoch: 30, train_loss: 1.3138             valid_loss: 1.3723, valid_acc: 0.2919\n",
      "epoch: 40, train_loss: 1.2924             valid_loss: 1.3663, valid_acc: 0.3121\n",
      "epoch: 50, train_loss: 1.2716             valid_loss: 1.3600, valid_acc: 0.3295\n",
      "epoch: 60, train_loss: 1.2515             valid_loss: 1.3554, valid_acc: 0.3382\n",
      "epoch: 70, train_loss: 1.2327             valid_loss: 1.3496, valid_acc: 0.3382\n",
      "epoch: 80, train_loss: 1.2157             valid_loss: 1.3444, valid_acc: 0.3497\n",
      "epoch: 90, train_loss: 1.2004             valid_loss: 1.3407, valid_acc: 0.3642\n"
     ]
    },
    {
     "name": "stderr",
     "output_type": "stream",
     "text": [
      "<timed exec>:10: FutureWarning: The frame.append method is deprecated and will be removed from pandas in a future version. Use pandas.concat instead.\n"
     ]
    },
    {
     "name": "stdout",
     "output_type": "stream",
     "text": [
      "tam muestra de entrenamiento\n",
      "torch.Size([807, 50])\n",
      "torch.Size([807])\n",
      "epoch: 0, train_loss: 1.3971             valid_loss: 1.4037, valid_acc: 0.2601\n",
      "epoch: 10, train_loss: 1.3602             valid_loss: 1.3868, valid_acc: 0.2746\n",
      "epoch: 20, train_loss: 1.3354             valid_loss: 1.3783, valid_acc: 0.2890\n",
      "epoch: 30, train_loss: 1.3138             valid_loss: 1.3723, valid_acc: 0.2919\n",
      "epoch: 40, train_loss: 1.2924             valid_loss: 1.3663, valid_acc: 0.3121\n",
      "epoch: 50, train_loss: 1.2716             valid_loss: 1.3600, valid_acc: 0.3295\n",
      "epoch: 60, train_loss: 1.2515             valid_loss: 1.3554, valid_acc: 0.3382\n",
      "epoch: 70, train_loss: 1.2327             valid_loss: 1.3496, valid_acc: 0.3382\n",
      "epoch: 80, train_loss: 1.2157             valid_loss: 1.3444, valid_acc: 0.3497\n",
      "epoch: 90, train_loss: 1.2004             valid_loss: 1.3407, valid_acc: 0.3642\n",
      "epoch: 100, train_loss: 1.1852             valid_loss: 1.3370, valid_acc: 0.3613\n",
      "epoch: 110, train_loss: 1.1708             valid_loss: 1.3354, valid_acc: 0.3671\n",
      "epoch: 120, train_loss: 1.1570             valid_loss: 1.3339, valid_acc: 0.3728\n",
      "epoch: 130, train_loss: 1.1447             valid_loss: 1.3319, valid_acc: 0.3642\n",
      "epoch: 140, train_loss: 1.1333             valid_loss: 1.3313, valid_acc: 0.3815\n",
      "epoch: 150, train_loss: 1.1229             valid_loss: 1.3315, valid_acc: 0.3844\n",
      "epoch: 160, train_loss: 1.1130             valid_loss: 1.3314, valid_acc: 0.3931\n",
      "epoch: 170, train_loss: 1.1026             valid_loss: 1.3326, valid_acc: 0.4017\n",
      "epoch: 180, train_loss: 1.0930             valid_loss: 1.3357, valid_acc: 0.4075\n",
      "epoch: 190, train_loss: 1.0841             valid_loss: 1.3399, valid_acc: 0.4075\n",
      "tam muestra de entrenamiento\n",
      "torch.Size([807, 50])\n",
      "torch.Size([807])\n"
     ]
    },
    {
     "name": "stderr",
     "output_type": "stream",
     "text": [
      "<timed exec>:10: FutureWarning: The frame.append method is deprecated and will be removed from pandas in a future version. Use pandas.concat instead.\n"
     ]
    },
    {
     "name": "stdout",
     "output_type": "stream",
     "text": [
      "epoch: 0, train_loss: 1.4101             valid_loss: 1.3938, valid_acc: 0.3295\n"
     ]
    },
    {
     "name": "stderr",
     "output_type": "stream",
     "text": [
      "<timed exec>:10: FutureWarning: The frame.append method is deprecated and will be removed from pandas in a future version. Use pandas.concat instead.\n"
     ]
    },
    {
     "name": "stdout",
     "output_type": "stream",
     "text": [
      "tam muestra de entrenamiento\n",
      "torch.Size([807, 50])\n",
      "torch.Size([807])\n",
      "epoch: 0, train_loss: 1.4101             valid_loss: 1.3938, valid_acc: 0.3295\n",
      "epoch: 10, train_loss: 1.3406             valid_loss: 1.3694, valid_acc: 0.3237\n",
      "epoch: 20, train_loss: 1.3072             valid_loss: 1.3627, valid_acc: 0.3237\n",
      "epoch: 30, train_loss: 1.2783             valid_loss: 1.3548, valid_acc: 0.3353\n",
      "epoch: 40, train_loss: 1.2497             valid_loss: 1.3485, valid_acc: 0.3382\n"
     ]
    },
    {
     "name": "stderr",
     "output_type": "stream",
     "text": [
      "<timed exec>:10: FutureWarning: The frame.append method is deprecated and will be removed from pandas in a future version. Use pandas.concat instead.\n"
     ]
    },
    {
     "name": "stdout",
     "output_type": "stream",
     "text": [
      "tam muestra de entrenamiento\n",
      "torch.Size([807, 50])\n",
      "torch.Size([807])\n",
      "epoch: 0, train_loss: 1.4101             valid_loss: 1.3938, valid_acc: 0.3295\n",
      "epoch: 10, train_loss: 1.3406             valid_loss: 1.3694, valid_acc: 0.3237\n",
      "epoch: 20, train_loss: 1.3072             valid_loss: 1.3627, valid_acc: 0.3237\n",
      "epoch: 30, train_loss: 1.2783             valid_loss: 1.3548, valid_acc: 0.3353\n",
      "epoch: 40, train_loss: 1.2497             valid_loss: 1.3485, valid_acc: 0.3382\n",
      "epoch: 50, train_loss: 1.2217             valid_loss: 1.3442, valid_acc: 0.3382\n",
      "epoch: 60, train_loss: 1.1952             valid_loss: 1.3392, valid_acc: 0.3439\n",
      "epoch: 70, train_loss: 1.1701             valid_loss: 1.3364, valid_acc: 0.3526\n",
      "tam muestra de entrenamiento\n",
      "torch.Size([807, 50])\n",
      "torch.Size([807])\n"
     ]
    },
    {
     "name": "stderr",
     "output_type": "stream",
     "text": [
      "<timed exec>:10: FutureWarning: The frame.append method is deprecated and will be removed from pandas in a future version. Use pandas.concat instead.\n"
     ]
    },
    {
     "name": "stdout",
     "output_type": "stream",
     "text": [
      "epoch: 0, train_loss: 1.4101             valid_loss: 1.3938, valid_acc: 0.3295\n",
      "epoch: 10, train_loss: 1.3406             valid_loss: 1.3694, valid_acc: 0.3237\n",
      "epoch: 20, train_loss: 1.3072             valid_loss: 1.3627, valid_acc: 0.3237\n",
      "epoch: 30, train_loss: 1.2783             valid_loss: 1.3548, valid_acc: 0.3353\n",
      "epoch: 40, train_loss: 1.2497             valid_loss: 1.3485, valid_acc: 0.3382\n",
      "epoch: 50, train_loss: 1.2217             valid_loss: 1.3442, valid_acc: 0.3382\n",
      "epoch: 60, train_loss: 1.1952             valid_loss: 1.3392, valid_acc: 0.3439\n",
      "epoch: 70, train_loss: 1.1701             valid_loss: 1.3364, valid_acc: 0.3526\n",
      "epoch: 80, train_loss: 1.1465             valid_loss: 1.3360, valid_acc: 0.3671\n",
      "epoch: 90, train_loss: 1.1247             valid_loss: 1.3348, valid_acc: 0.3815\n"
     ]
    },
    {
     "name": "stderr",
     "output_type": "stream",
     "text": [
      "<timed exec>:10: FutureWarning: The frame.append method is deprecated and will be removed from pandas in a future version. Use pandas.concat instead.\n"
     ]
    },
    {
     "name": "stdout",
     "output_type": "stream",
     "text": [
      "tam muestra de entrenamiento\n",
      "torch.Size([807, 50])\n",
      "torch.Size([807])\n",
      "epoch: 0, train_loss: 1.4101             valid_loss: 1.3938, valid_acc: 0.3295\n",
      "epoch: 10, train_loss: 1.3406             valid_loss: 1.3694, valid_acc: 0.3237\n",
      "epoch: 20, train_loss: 1.3072             valid_loss: 1.3627, valid_acc: 0.3237\n",
      "epoch: 30, train_loss: 1.2783             valid_loss: 1.3548, valid_acc: 0.3353\n",
      "epoch: 40, train_loss: 1.2497             valid_loss: 1.3485, valid_acc: 0.3382\n",
      "epoch: 50, train_loss: 1.2217             valid_loss: 1.3442, valid_acc: 0.3382\n",
      "epoch: 60, train_loss: 1.1952             valid_loss: 1.3392, valid_acc: 0.3439\n",
      "epoch: 70, train_loss: 1.1701             valid_loss: 1.3364, valid_acc: 0.3526\n",
      "epoch: 80, train_loss: 1.1465             valid_loss: 1.3360, valid_acc: 0.3671\n",
      "epoch: 90, train_loss: 1.1247             valid_loss: 1.3348, valid_acc: 0.3815\n",
      "epoch: 100, train_loss: 1.1044             valid_loss: 1.3353, valid_acc: 0.3873\n",
      "epoch: 110, train_loss: 1.0851             valid_loss: 1.3360, valid_acc: 0.3960\n",
      "epoch: 120, train_loss: 1.0673             valid_loss: 1.3401, valid_acc: 0.3960\n",
      "epoch: 130, train_loss: 1.0508             valid_loss: 1.3444, valid_acc: 0.3960\n",
      "epoch: 140, train_loss: 1.0348             valid_loss: 1.3491, valid_acc: 0.3988\n",
      "epoch: 150, train_loss: 1.0189             valid_loss: 1.3542, valid_acc: 0.4046\n",
      "epoch: 160, train_loss: 1.0044             valid_loss: 1.3597, valid_acc: 0.3988\n",
      "epoch: 170, train_loss: 0.9904             valid_loss: 1.3637, valid_acc: 0.4046\n",
      "epoch: 180, train_loss: 0.9766             valid_loss: 1.3679, valid_acc: 0.3988\n",
      "epoch: 190, train_loss: 0.9633             valid_loss: 1.3738, valid_acc: 0.4017\n"
     ]
    },
    {
     "name": "stderr",
     "output_type": "stream",
     "text": [
      "<timed exec>:10: FutureWarning: The frame.append method is deprecated and will be removed from pandas in a future version. Use pandas.concat instead.\n"
     ]
    },
    {
     "name": "stdout",
     "output_type": "stream",
     "text": [
      "tam muestra de entrenamiento\n",
      "torch.Size([807, 50])\n",
      "torch.Size([807])\n",
      "epoch: 0, train_loss: 1.4396             valid_loss: 1.4219, valid_acc: 0.2514\n"
     ]
    },
    {
     "name": "stderr",
     "output_type": "stream",
     "text": [
      "<timed exec>:10: FutureWarning: The frame.append method is deprecated and will be removed from pandas in a future version. Use pandas.concat instead.\n"
     ]
    },
    {
     "name": "stdout",
     "output_type": "stream",
     "text": [
      "tam muestra de entrenamiento\n",
      "torch.Size([807, 50])\n",
      "torch.Size([807])\n",
      "epoch: 0, train_loss: 1.4396             valid_loss: 1.4219, valid_acc: 0.2514\n",
      "epoch: 10, train_loss: 1.3458             valid_loss: 1.3773, valid_acc: 0.2746\n",
      "epoch: 20, train_loss: 1.3037             valid_loss: 1.3639, valid_acc: 0.3121\n",
      "epoch: 30, train_loss: 1.2698             valid_loss: 1.3551, valid_acc: 0.3237\n",
      "epoch: 40, train_loss: 1.2387             valid_loss: 1.3486, valid_acc: 0.3382\n"
     ]
    },
    {
     "name": "stderr",
     "output_type": "stream",
     "text": [
      "<timed exec>:10: FutureWarning: The frame.append method is deprecated and will be removed from pandas in a future version. Use pandas.concat instead.\n"
     ]
    },
    {
     "name": "stdout",
     "output_type": "stream",
     "text": [
      "tam muestra de entrenamiento\n",
      "torch.Size([807, 50])\n",
      "torch.Size([807])\n",
      "epoch: 0, train_loss: 1.4396             valid_loss: 1.4219, valid_acc: 0.2514\n",
      "epoch: 10, train_loss: 1.3458             valid_loss: 1.3773, valid_acc: 0.2746\n",
      "epoch: 20, train_loss: 1.3037             valid_loss: 1.3639, valid_acc: 0.3121\n",
      "epoch: 30, train_loss: 1.2698             valid_loss: 1.3551, valid_acc: 0.3237\n",
      "epoch: 40, train_loss: 1.2387             valid_loss: 1.3486, valid_acc: 0.3382\n",
      "epoch: 50, train_loss: 1.2112             valid_loss: 1.3420, valid_acc: 0.3497\n",
      "epoch: 60, train_loss: 1.1857             valid_loss: 1.3385, valid_acc: 0.3555\n",
      "epoch: 70, train_loss: 1.1623             valid_loss: 1.3381, valid_acc: 0.3728\n",
      "tam muestra de entrenamiento\n",
      "torch.Size([807, 50])\n",
      "torch.Size([807])\n"
     ]
    },
    {
     "name": "stderr",
     "output_type": "stream",
     "text": [
      "<timed exec>:10: FutureWarning: The frame.append method is deprecated and will be removed from pandas in a future version. Use pandas.concat instead.\n"
     ]
    },
    {
     "name": "stdout",
     "output_type": "stream",
     "text": [
      "epoch: 0, train_loss: 1.4396             valid_loss: 1.4219, valid_acc: 0.2514\n",
      "epoch: 10, train_loss: 1.3458             valid_loss: 1.3773, valid_acc: 0.2746\n",
      "epoch: 20, train_loss: 1.3037             valid_loss: 1.3639, valid_acc: 0.3121\n",
      "epoch: 30, train_loss: 1.2698             valid_loss: 1.3551, valid_acc: 0.3237\n",
      "epoch: 40, train_loss: 1.2387             valid_loss: 1.3486, valid_acc: 0.3382\n",
      "epoch: 50, train_loss: 1.2112             valid_loss: 1.3420, valid_acc: 0.3497\n",
      "epoch: 60, train_loss: 1.1857             valid_loss: 1.3385, valid_acc: 0.3555\n",
      "epoch: 70, train_loss: 1.1623             valid_loss: 1.3381, valid_acc: 0.3728\n",
      "epoch: 80, train_loss: 1.1410             valid_loss: 1.3363, valid_acc: 0.3844\n",
      "epoch: 90, train_loss: 1.1204             valid_loss: 1.3382, valid_acc: 0.3960\n"
     ]
    },
    {
     "name": "stderr",
     "output_type": "stream",
     "text": [
      "<timed exec>:10: FutureWarning: The frame.append method is deprecated and will be removed from pandas in a future version. Use pandas.concat instead.\n"
     ]
    },
    {
     "name": "stdout",
     "output_type": "stream",
     "text": [
      "tam muestra de entrenamiento\n",
      "torch.Size([807, 50])\n",
      "torch.Size([807])\n",
      "epoch: 0, train_loss: 1.4396             valid_loss: 1.4219, valid_acc: 0.2514\n",
      "epoch: 10, train_loss: 1.3458             valid_loss: 1.3773, valid_acc: 0.2746\n",
      "epoch: 20, train_loss: 1.3037             valid_loss: 1.3639, valid_acc: 0.3121\n",
      "epoch: 30, train_loss: 1.2698             valid_loss: 1.3551, valid_acc: 0.3237\n",
      "epoch: 40, train_loss: 1.2387             valid_loss: 1.3486, valid_acc: 0.3382\n",
      "epoch: 50, train_loss: 1.2112             valid_loss: 1.3420, valid_acc: 0.3497\n",
      "epoch: 60, train_loss: 1.1857             valid_loss: 1.3385, valid_acc: 0.3555\n",
      "epoch: 70, train_loss: 1.1623             valid_loss: 1.3381, valid_acc: 0.3728\n",
      "epoch: 80, train_loss: 1.1410             valid_loss: 1.3363, valid_acc: 0.3844\n",
      "epoch: 90, train_loss: 1.1204             valid_loss: 1.3382, valid_acc: 0.3960\n",
      "epoch: 100, train_loss: 1.1014             valid_loss: 1.3399, valid_acc: 0.4017\n",
      "epoch: 110, train_loss: 1.0832             valid_loss: 1.3459, valid_acc: 0.4133\n",
      "epoch: 120, train_loss: 1.0655             valid_loss: 1.3467, valid_acc: 0.3902\n",
      "epoch: 130, train_loss: 1.0483             valid_loss: 1.3515, valid_acc: 0.4104\n",
      "epoch: 140, train_loss: 1.0319             valid_loss: 1.3568, valid_acc: 0.3988\n",
      "epoch: 150, train_loss: 1.0157             valid_loss: 1.3637, valid_acc: 0.4075\n",
      "epoch: 160, train_loss: 1.0000             valid_loss: 1.3696, valid_acc: 0.4133\n",
      "epoch: 170, train_loss: 0.9851             valid_loss: 1.3768, valid_acc: 0.4104\n",
      "epoch: 180, train_loss: 0.9705             valid_loss: 1.3884, valid_acc: 0.4133\n",
      "epoch: 190, train_loss: 0.9556             valid_loss: 1.3937, valid_acc: 0.4133\n",
      "CPU times: user 3min 22s, sys: 1min 3s, total: 4min 25s\n",
      "Wall time: 1min 36s\n"
     ]
    }
   ],
   "source": [
    "%%time\n",
    "param_names = list(params_.keys())\n",
    "# zip with parameter names in order to get original property\n",
    "param_values = (zip(param_names, x) for x in product(*params_.values()))\n",
    "\n",
    "result_val_acc = list()\n",
    "output = pd.DataFrame()\n",
    "for paramset in param_values:\n",
    "    # use the dict from iterator of tuples constructor\n",
    "    dict_temp = dict(paramset)\n",
    "    output = output.append(dict_temp, ignore_index=True)\n",
    "    # operando la grilla para tener el accuracy y guardar en lista\n",
    "\n",
    "\n",
    "    result_val_acc.append(grid_excercise(X=X,\n",
    "                y=y,\n",
    "                RANDOM_SEED=123,\n",
    "                BATCH_SIZE=50,\n",
    "                NUM_EPOCHS=dict_temp['epochs'],\n",
    "                lr=dict_temp['learning_rate'],\n",
    "                NUM_HIDDEN = dict_temp['NUM_HIDDEN'],\n",
    "                DEVICE = torch.device('cuda:0' if torch.cuda.is_available() else 'cpu'), #carga de la red neuronal en la CPU o en la GPU\n",
    "                get_results= False\n",
    "                    ))\n",
    "    "
   ]
  },
  {
   "cell_type": "code",
   "execution_count": 22,
   "metadata": {},
   "outputs": [
    {
     "name": "stdout",
     "output_type": "stream",
     "text": [
      "MEJOR COMBINACIÓN DE Parametros\n"
     ]
    },
    {
     "data": {
      "text/html": [
       "<div>\n",
       "<style scoped>\n",
       "    .dataframe tbody tr th:only-of-type {\n",
       "        vertical-align: middle;\n",
       "    }\n",
       "\n",
       "    .dataframe tbody tr th {\n",
       "        vertical-align: top;\n",
       "    }\n",
       "\n",
       "    .dataframe thead th {\n",
       "        text-align: right;\n",
       "    }\n",
       "</style>\n",
       "<table border=\"1\" class=\"dataframe\">\n",
       "  <thead>\n",
       "    <tr style=\"text-align: right;\">\n",
       "      <th></th>\n",
       "      <th>index</th>\n",
       "      <th>learning_rate</th>\n",
       "      <th>NUM_HIDDEN</th>\n",
       "      <th>epochs</th>\n",
       "      <th>acc_val</th>\n",
       "    </tr>\n",
       "  </thead>\n",
       "  <tbody>\n",
       "    <tr>\n",
       "      <th>0</th>\n",
       "      <td>13</td>\n",
       "      <td>0.1</td>\n",
       "      <td>100.0</td>\n",
       "      <td>100.0</td>\n",
       "      <td>0.439306</td>\n",
       "    </tr>\n",
       "  </tbody>\n",
       "</table>\n",
       "</div>"
      ],
      "text/plain": [
       "   index  learning_rate  NUM_HIDDEN  epochs   acc_val\n",
       "0     13            0.1       100.0   100.0  0.439306"
      ]
     },
     "execution_count": 22,
     "metadata": {},
     "output_type": "execute_result"
    }
   ],
   "source": [
    "output = output.assign(acc_val = result_val_acc)\n",
    "print('MEJOR COMBINACIÓN DE Parametros')\n",
    "best_params = output.loc[output.acc_val == output.acc_val.max()].reset_index()\n",
    "best_params"
   ]
  },
  {
   "cell_type": "code",
   "execution_count": 23,
   "metadata": {},
   "outputs": [],
   "source": [
    "LR= best_params.learning_rate[0]\n",
    "NUM_EPOCHS = int(best_params.epochs[0])\n",
    "NUM_HIDDEN = int(best_params.NUM_HIDDEN[0])"
   ]
  },
  {
   "cell_type": "code",
   "execution_count": 24,
   "metadata": {},
   "outputs": [
    {
     "name": "stdout",
     "output_type": "stream",
     "text": [
      "tam muestra de entrenamiento\n",
      "torch.Size([807, 50])\n",
      "torch.Size([807])\n",
      "epoch: 0, train_loss: 1.4035             valid_loss: 1.3774, valid_acc: 0.2803\n",
      "epoch: 10, train_loss: 1.1177             valid_loss: 1.3440, valid_acc: 0.4075\n",
      "epoch: 20, train_loss: 0.9730             valid_loss: 1.4157, valid_acc: 0.3786\n",
      "epoch: 30, train_loss: 0.8580             valid_loss: 1.4899, valid_acc: 0.4220\n",
      "epoch: 40, train_loss: 0.7546             valid_loss: 1.5930, valid_acc: 0.3960\n",
      "epoch: 50, train_loss: 0.6793             valid_loss: 1.7262, valid_acc: 0.4335\n",
      "epoch: 60, train_loss: 0.6054             valid_loss: 1.8375, valid_acc: 0.4191\n",
      "epoch: 70, train_loss: 0.5294             valid_loss: 1.9429, valid_acc: 0.4046\n",
      "epoch: 80, train_loss: 0.4783             valid_loss: 2.0621, valid_acc: 0.4364\n",
      "epoch: 90, train_loss: 0.4335             valid_loss: 2.1641, valid_acc: 0.4220\n"
     ]
    }
   ],
   "source": [
    "train_losses,train_accs,valid_losses,valid_accs = grid_excercise(X=X,\n",
    "                                                                 y=y,\n",
    "                                                                 RANDOM_SEED=123,\n",
    "                                                                 BATCH_SIZE=50,\n",
    "                                                                 NUM_EPOCHS=NUM_EPOCHS,\n",
    "                                                                 lr=LR,\n",
    "                                                                 NUM_HIDDEN = NUM_HIDDEN,\n",
    "                                                                 DEVICE = torch.device('cuda:0' if torch.cuda.is_available() else 'cpu'), #carga de la red neuronal en la CPU o en la GPU\n",
    "                                                                 get_results= True)"
   ]
  },
  {
   "cell_type": "code",
   "execution_count": 25,
   "metadata": {},
   "outputs": [
    {
     "data": {
      "text/plain": [
       "Text(0.5, 1.0, 'Loss')"
      ]
     },
     "execution_count": 25,
     "metadata": {},
     "output_type": "execute_result"
    },
    {
     "data": {
      "image/png": "[encoded data removed]",
      "text/plain": [
       "<Figure size 640x480 with 1 Axes>"
      ]
     },
     "metadata": {},
     "output_type": "display_data"
    }
   ],
   "source": [
    "plt.plot(range(NUM_EPOCHS), train_losses, 'r', label='train')\n",
    "plt.plot(range(NUM_EPOCHS), valid_losses, 'b', label = 'valid')\n",
    "plt.legend()\n",
    "plt.title('Loss')"
   ]
  },
  {
   "cell_type": "code",
   "execution_count": 26,
   "metadata": {},
   "outputs": [
    {
     "data": {
      "text/plain": [
       "Text(0.5, 1.0, 'Accuracy')"
      ]
     },
     "execution_count": 26,
     "metadata": {},
     "output_type": "execute_result"
    },
    {
     "data": {
      "image/png": "[encoded data removed]",
      "text/plain": [
       "<Figure size 640x480 with 1 Axes>"
      ]
     },
     "metadata": {},
     "output_type": "display_data"
    }
   ],
   "source": [
    "plt.plot(range(NUM_EPOCHS), valid_accs, 'y', label = 'test')\n",
    "plt.legend()\n",
    "plt.title('Accuracy')"
   ]
  },
  {
   "cell_type": "markdown",
   "metadata": {},
   "source": [
    "-----"
   ]
  },
  {
   "cell_type": "markdown",
   "metadata": {},
   "source": [
    "### Ejercicio 5\n",
    "Este ejercicio, es más bien un tutorial de como realizar un clasificador de ventanas de palabras, acercandónos a un problema de NLP conocido como \"Name Entity Recognition\" (NER), el cual busca clasificar cada palabra en por ejemplo si es un nombre, pronombre, verbo, lugar, etc. Esto es muy importante, porque introduce varias cuestiones claves que se usan en el NLP con deep learning. Al final, el ejercicio será (1) entender cada parte y (2) realizar el mismo procedimiento pero clasificando entre varios tipos de palabras (no sólo una). "
   ]
  },
  {
   "cell_type": "markdown",
   "metadata": {
    "lang": "es"
   },
   "source": [
    "### Clasificación de ventanas de palabras (Word Window Classification) paso a paso\n",
    "\n",
    "En esta tarea de NLP aprenderemos:\n",
    "\n",
    "1. Datos: creación de un conjunto de datos de tensores por batches\n",
    "2. Modelado\n",
    "3. Entrenamiento\n",
    "4. Predicción\n",
    "\n",
    "En esta sección, nuestro objetivo será entrenar un modelo que encuentre las palabras en una oración correspondiente a una 'UBICACIÓN', que siempre tendrá un intervalo de '1' (lo que significa que 'San Francisco' no se reconocerá como un `UBICACIÓN`). Nuestra tarea se llama `Clasificación de ventana de palabras` por una razón. En lugar de permitir que nuestro modelo solo eche un vistazo a una palabra en cada paso hacia adelante, nos gustaría que pudiera considerar el contexto de la palabra en cuestión. Es decir, para cada palabra, queremos que nuestro modelo sea consciente de las palabras que lo rodean."
   ]
  },
  {
   "cell_type": "code",
   "execution_count": 27,
   "metadata": {
    "ExecuteTime": {
     "end_time": "2022-02-28T12:01:54.597689Z",
     "start_time": "2022-02-28T12:01:54.594870Z"
    },
    "lang": "es"
   },
   "outputs": [],
   "source": [
    "# Nuestros datos sin procesar, que consisten en oraciones\n",
    "corpus = [\n",
    "          \"Nosotros siempre venimos a París\",\n",
    "          \"El profesor es de Australia\",\n",
    "          \"Yo vivo en Bogotá\",\n",
    "          \"Él viene de Taiwán\",\n",
    "          \"La capital de Turquía es Ankara\"\n",
    "         ]"
   ]
  },
  {
   "cell_type": "markdown",
   "metadata": {
    "lang": "es"
   },
   "source": [
    "#### Preprocesamiento\n",
    "\n",
    "Para facilitar el aprendizaje de nuestros modelos, generalmente aplicamos algunos pasos de preprocesamiento a nuestros datos. Esto es especialmente importante cuando se trata de datos de texto. Estos son algunos ejemplos de preprocesamiento de texto:\n",
    "* **Tokenización**: Tokenización de oraciones en palabras.\n",
    "* **Lowercasing**: Cambiar todas las letras a minúsculas.\n",
    "* **Eliminación de ruido**: Eliminación de caracteres especiales (como signos de puntuación o quitar tíldes).\n",
    "* **Eliminación de palabras vacías**: eliminación de palabras de uso común.\n",
    "\n",
    "Los pasos de preprocesamiento necesarios están determinados por la tarea en cuestión. Por ejemplo, aunque es útil eliminar caracteres especiales en algunas tareas, para otras pueden ser importantes (por ejemplo, si estamos hablando de varios idiomas). Para nuestra tarea, escribiremos en minúsculas nuestras palabras y tokenizaremos."
   ]
  },
  {
   "cell_type": "code",
   "execution_count": 28,
   "metadata": {
    "ExecuteTime": {
     "end_time": "2022-02-28T17:29:42.298122Z",
     "start_time": "2022-02-28T17:29:42.294408Z"
    }
   },
   "outputs": [],
   "source": [
    "import re\n",
    "from unicodedata import normalize\n",
    "def quitartildes(s):\n",
    "    # -> NFD y eliminar diacríticos\n",
    "    s = re.sub(\n",
    "            r\"([^n\\u0300-\\u036f]|n(?!\\u0303(?![\\u0300-\\u036f])))[\\u0300-\\u036f]+\", r\"\\1\", \n",
    "            normalize( \"NFD\", s), 0, re.I\n",
    "        )\n",
    "\n",
    "    # -> NFCNosotros\n",
    "    return normalize( 'NFC', s)"
   ]
  },
  {
   "cell_type": "code",
   "execution_count": 29,
   "metadata": {
    "ExecuteTime": {
     "end_time": "2022-02-28T12:02:33.349815Z",
     "start_time": "2022-02-28T12:02:33.338195Z"
    },
    "colab": {
     "base_uri": "https://localhost:8080/"
    },
    "id": "fTGn8ANTzZXT",
    "lang": "en",
    "outputId": "0ed249ae-7272-4400-9319-d7cc9dca02d4"
   },
   "outputs": [
    {
     "data": {
      "text/plain": [
       "[['nosotros', 'siempre', 'venimos', 'a', 'paris'],\n",
       " ['el', 'profesor', 'es', 'de', 'australia'],\n",
       " ['yo', 'vivo', 'en', 'bogota'],\n",
       " ['el', 'viene', 'de', 'taiwan'],\n",
       " ['la', 'capital', 'de', 'turquia', 'es', 'ankara']]"
      ]
     },
     "execution_count": 29,
     "metadata": {},
     "output_type": "execute_result"
    }
   ],
   "source": [
    "# La función de preprocesamiento que usaremos para generar nuestros ejemplos de entrenamiento\n",
    "# Nuestra función es simple, ponemos las letras en minúsculas, quitamos tildes\n",
    "# y luego tokenizamos las palabras.\n",
    "def preprocess_sentence(sentence):\n",
    "  return quitartildes(sentence).lower().split()\n",
    "\n",
    "# Crea nuestro conjunto de entrenamiento\n",
    "train_sentences = [preprocess_sentence(sent) for sent in corpus]\n",
    "train_sentences"
   ]
  },
  {
   "cell_type": "markdown",
   "metadata": {
    "lang": "es"
   },
   "source": [
    "Para cada ejemplo de entrenamiento que tengamos, también deberíamos tener una etiqueta correspondiente. Recuerde que el objetivo de nuestro modelo era determinar qué palabras corresponden a una `UBICACIÓN`. Es decir, queremos que nuestro modelo genere `0` para todas las palabras que no sean `UBICACION` y `1` para las que sean `UBICACION`."
   ]
  },
  {
   "cell_type": "code",
   "execution_count": 30,
   "metadata": {
    "ExecuteTime": {
     "end_time": "2022-02-28T12:04:05.416956Z",
     "start_time": "2022-02-28T12:04:05.411731Z"
    },
    "colab": {
     "base_uri": "https://localhost:8080/"
    },
    "id": "3wo1kcMAHFw7",
    "outputId": "f064cb0b-7176-4825-bab9-f7c00accff3a"
   },
   "outputs": [
    {
     "data": {
      "text/plain": [
       "[[0, 0, 0, 0, 1],\n",
       " [0, 0, 0, 0, 1],\n",
       " [0, 0, 0, 1],\n",
       " [0, 0, 0, 1],\n",
       " [0, 0, 0, 1, 0, 1]]"
      ]
     },
     "execution_count": 30,
     "metadata": {},
     "output_type": "execute_result"
    }
   ],
   "source": [
    "# Set de ubicaciones que aparecen en el corpus\n",
    "locations = set([\"australia\", \"ankara\", \"paris\", \"bogota\", \"taiwan\", \"turquia\"])\n",
    "\n",
    "# Nuestras etiquetas de entrenamiento\n",
    "train_labels = [[1 if word in locations else 0 for word in sent] for sent in train_sentences]\n",
    "train_labels"
   ]
  },
  {
   "cell_type": "markdown",
   "metadata": {
    "lang": "es"
   },
   "source": [
    "#### Convertir palabras a Embeddings\n",
    "\n",
    "Veamos nuestros datos de entrenamiento un poco más de cerca. Cada punto de datos que tenemos es una secuencia de palabras. Por otro lado, sabemos que los modelos de aprendizaje automático funcionan con números en vectores. ¿Cómo vamos a convertir las palabras en números? ¡A través de los embeddings!\n",
    "\n",
    "Imagine que tenemos una tabla de búsqueda de embeddings `E`, donde cada fila corresponde a un embedding. Es decir, cada palabra de nuestro vocabulario tendría una fila de embedding `i` correspondiente en esta tabla. Siempre que queramos encontrar una embedding para una palabra, seguiremos estos pasos:\n",
    "1. Buscar el índice correspondiente `i` de la palabra en la tabla de embedding: `palabra->índice`.\n",
    "2. Indexar en la tabla de embedding y obtener el embedding: `índice->embedding`.\n",
    "\n",
    "Veamos el primer paso. Deberíamos asignar todas las palabras de nuestro vocabulario a un índice correspondiente. Podemos hacerlo de la siguiente manera:\n",
    "1. Encontrando todas las palabras únicas en nuestro corpus.\n",
    "2. Asignando un índice a cada uno."
   ]
  },
  {
   "cell_type": "code",
   "execution_count": 31,
   "metadata": {
    "ExecuteTime": {
     "end_time": "2022-02-28T12:19:17.566727Z",
     "start_time": "2022-02-28T12:19:17.562687Z"
    },
    "colab": {
     "base_uri": "https://localhost:8080/"
    },
    "id": "SjTDlfPyVp5z",
    "lang": "en",
    "outputId": "bce95386-3b75-470b-8c9b-9c2255203c4e"
   },
   "outputs": [
    {
     "data": {
      "text/plain": [
       "{'a',\n",
       " 'ankara',\n",
       " 'australia',\n",
       " 'bogota',\n",
       " 'capital',\n",
       " 'de',\n",
       " 'el',\n",
       " 'en',\n",
       " 'es',\n",
       " 'la',\n",
       " 'nosotros',\n",
       " 'paris',\n",
       " 'profesor',\n",
       " 'siempre',\n",
       " 'taiwan',\n",
       " 'turquia',\n",
       " 'venimos',\n",
       " 'viene',\n",
       " 'vivo',\n",
       " 'yo'}"
      ]
     },
     "execution_count": 31,
     "metadata": {},
     "output_type": "execute_result"
    }
   ],
   "source": [
    "# Encuentra todas las palabras únicas en nuestro corpus\n",
    "vocabulary = set(w for s in train_sentences for w in s)\n",
    "vocabulary"
   ]
  },
  {
   "cell_type": "markdown",
   "metadata": {
    "lang": "es"
   },
   "source": [
    "`vocabulary` ahora contiene todas las palabras en nuestro corpus. Por otro lado, durante la (evaluación con el conjunto de) prueba, podemos ver palabras que no están contenidas en nuestro vocabulario. Si podemos encontrar una forma de representar las palabras desconocidas, nuestro modelo aún podría razonar sobre si son una 'UBICACIÓN' o no, ya que también estamos mirando las palabras vecinas para cada predicción.\n",
    "\n",
    "Introducimos un token especial, `<unk>`, para abordar las palabras que están fuera del vocabulario. Podríamos elegir otra cadena para nuestro token desconocido si quisiéramos. El único requisito aquí es que nuestro token debe ser único: solo debemos usar este token para palabras desconocidas. También agregaremos este token especial a nuestro vocabulario."
   ]
  },
  {
   "cell_type": "code",
   "execution_count": 32,
   "metadata": {
    "ExecuteTime": {
     "end_time": "2022-02-28T12:20:46.951737Z",
     "start_time": "2022-02-28T12:20:46.949319Z"
    },
    "lang": "es"
   },
   "outputs": [],
   "source": [
    "# Agrega el token desconocido a nuestro vocabulario\n",
    "vocabulary.add(\"<unk>\")"
   ]
  },
  {
   "cell_type": "markdown",
   "metadata": {
    "lang": "es"
   },
   "source": [
    "Anteriormente mencionamos que nuestra tarea se llamaba \"Clasificación de ventana de palabras\" porque nuestro modelo está mirando las palabras circundantes además de la palabra central, cuando se necesita hacer una predicción.\n",
    "\n",
    "Por ejemplo, tomemos la oración \"Nosotros siempre venimos a París\". La etiqueta de entrenamiento correspondiente para esta oración es `0, 0, 0, 0, 1` ya que solo París, la última palabra, es una `UBICACIÓN`. En una sola pasada (es decir, una llamada a `forward()`), nuestro modelo intentará generar la etiqueta correcta para una palabra. Digamos que nuestro modelo intenta generar la etiqueta correcta `1` para `París`. Si solo permitimos que nuestro modelo vea `París`, pero nada más, nos perderemos información importante, como por ejemplo, de que la palabra 'a' aparece muchas veces con `UBICACIONES`.\n",
    "\n",
    "Las ventanas de palabras permiten que nuestro modelo considere `+N` o `-N` palabras alrededor de cada palabra al hacer una predicción. En nuestro ejemplo anterior para `París`, si tenemos un tamaño de ventana de 1, eso significa que nuestro modelo mirará las palabras que vienen inmediatamente antes e inmediatamente después de `París`, que son `a` y, *ninguna palabra*. Ahora bien, esto plantea otro problema. `París` está al final de nuestra oración, por lo que no hay otra palabra que la siga. Recuerde que definimos las dimensiones de entrada de nuestros modelos en `PyTorch` cuando los inicializamos. Si establecemos el tamaño de la ventana en `1`, significa que nuestro modelo aceptará `3` palabras en cada paso. No podemos hacer que nuestro modelo espere `2` palabras de vez en cuando.\n",
    "\n",
    "La solución es introducir un token especial, `<pad>`, que se agregará a nuestras oraciones para asegurarnos de que cada palabra tenga una ventana válida alrededor. Similar al token `<unk>`, podríamos elegir otra cadena para nuestro token de relleno si quisiéramos, siempre y cuando nos aseguremos de que se use para un propósito único."
   ]
  },
  {
   "cell_type": "code",
   "execution_count": 33,
   "metadata": {
    "ExecuteTime": {
     "end_time": "2022-02-28T12:24:59.410072Z",
     "start_time": "2022-02-28T12:24:59.405189Z"
    },
    "colab": {
     "base_uri": "https://localhost:8080/"
    },
    "id": "ZVQsjYi6ZegI",
    "lang": "en",
    "outputId": "f0f45f18-0e91-48e5-f5b7-229c2c36a694"
   },
   "outputs": [
    {
     "data": {
      "text/plain": [
       "['<pad>',\n",
       " '<pad>',\n",
       " 'nosotros',\n",
       " 'siempre',\n",
       " 'venimos',\n",
       " 'a',\n",
       " 'paris',\n",
       " '<pad>',\n",
       " '<pad>']"
      ]
     },
     "execution_count": 33,
     "metadata": {},
     "output_type": "execute_result"
    }
   ],
   "source": [
    "# Agregua el token <pad> a nuestro vocabulario\n",
    "vocabulary.add(\"<pad>\")\n",
    "\n",
    "# Función que rellena la oración dada\n",
    "# Estamos introduciendo esta función aquí como un ejemplo\n",
    "# Lo utilizaremos más adelante en el tutorial.\n",
    "def pad_window(sentence, window_size, pad_token=\"<pad>\"):\n",
    "  window = [pad_token] * window_size\n",
    "  return window + sentence + window\n",
    "\n",
    "# Muestra un ejemplo de relleno\n",
    "window_size = 2\n",
    "pad_window(train_sentences[0], window_size=window_size)"
   ]
  },
  {
   "cell_type": "markdown",
   "metadata": {
    "lang": "es"
   },
   "source": [
    "Ahora que nuestro vocabulario está listo, asignemos un índice a cada una de nuestras palabras."
   ]
  },
  {
   "cell_type": "code",
   "execution_count": 34,
   "metadata": {
    "ExecuteTime": {
     "end_time": "2022-02-28T12:51:17.026347Z",
     "start_time": "2022-02-28T12:51:17.020997Z"
    },
    "colab": {
     "base_uri": "https://localhost:8080/"
    },
    "id": "BNCTQnKDa4oh",
    "lang": "en",
    "outputId": "dedbe39a-40c2-42e8-be56-96b6d961fd99"
   },
   "outputs": [
    {
     "data": {
      "text/plain": [
       "{'<pad>': 0,\n",
       " '<unk>': 1,\n",
       " 'a': 2,\n",
       " 'ankara': 3,\n",
       " 'australia': 4,\n",
       " 'bogota': 5,\n",
       " 'capital': 6,\n",
       " 'de': 7,\n",
       " 'el': 8,\n",
       " 'en': 9,\n",
       " 'es': 10,\n",
       " 'la': 11,\n",
       " 'nosotros': 12,\n",
       " 'paris': 13,\n",
       " 'profesor': 14,\n",
       " 'siempre': 15,\n",
       " 'taiwan': 16,\n",
       " 'turquia': 17,\n",
       " 'venimos': 18,\n",
       " 'viene': 19,\n",
       " 'vivo': 20,\n",
       " 'yo': 21}"
      ]
     },
     "execution_count": 34,
     "metadata": {},
     "output_type": "execute_result"
    }
   ],
   "source": [
    "# Solo estamos convirtiendo nuestro vocabulario en una lista para poder indexarla\n",
    "# Aunque ordenar no es necesario, ordenamos para mostrar un diccionario word_to_ind ordenado\n",
    "# Dicho esto, veremos que tener el índice para el token de relleno\n",
    "# como 0 es conveniente ya que algunas funciones de PyTorch lo usan como valor predeterminado\n",
    "# como sucede con nn.utils.rnn.pad_sequence, que veremos en un momento\n",
    "ix_to_word = sorted(list(vocabulary))\n",
    "\n",
    "# Creando un diccionario para encontrar el índice de una palabra dada\n",
    "word_to_ix = {word: ind for ind, word in enumerate(ix_to_word)}\n",
    "word_to_ix"
   ]
  },
  {
   "cell_type": "code",
   "execution_count": 35,
   "metadata": {
    "ExecuteTime": {
     "end_time": "2022-02-28T12:51:20.976293Z",
     "start_time": "2022-02-28T12:51:20.972583Z"
    },
    "colab": {
     "base_uri": "https://localhost:8080/",
     "height": 35
    },
    "id": "pt-0SK67hMVo",
    "outputId": "a8516317-65c7-4548-c0ac-6f6711a5370c"
   },
   "outputs": [
    {
     "data": {
      "text/plain": [
       "'<unk>'"
      ]
     },
     "execution_count": 35,
     "metadata": {},
     "output_type": "execute_result"
    }
   ],
   "source": [
    "ix_to_word[1]"
   ]
  },
  {
   "cell_type": "markdown",
   "metadata": {
    "lang": "es"
   },
   "source": [
    "Ahora, estamos listos para convertir nuestras oraciones de entrenamiento en una secuencia de índices correspondientes a cada token."
   ]
  },
  {
   "cell_type": "code",
   "execution_count": 36,
   "metadata": {
    "ExecuteTime": {
     "end_time": "2022-02-28T12:52:06.907826Z",
     "start_time": "2022-02-28T12:52:06.901238Z"
    },
    "colab": {
     "base_uri": "https://localhost:8080/"
    },
    "id": "ZNOxip15bMfH",
    "lang": "en",
    "outputId": "74f8344f-bdeb-4a37-9442-b317013cdc10"
   },
   "outputs": [
    {
     "name": "stdout",
     "output_type": "stream",
     "text": [
      "La oración original es: ['nosotros', 'siempre', 'venimos', 'a', 'kuwait']\n",
      "Pasar de palabras a índices: [12, 15, 18, 2, 1]\n",
      "Pasando de índices a palabras: ['nosotros', 'siempre', 'venimos', 'a', '<unk>']\n"
     ]
    }
   ],
   "source": [
    "# Dada una sentencia de tokens, devuelve los índices correspondientes\n",
    "def convert_token_to_indices(sentence, word_to_ix):\n",
    "  indices = []\n",
    "  for token in sentence:\n",
    "    # Comprueba si el token está en nuestro vocabulario. Si es así, obtiene su índice.\n",
    "    # Si no, obtiene el índice del token desconocido.\n",
    "    if token in word_to_ix:\n",
    "      index = word_to_ix[token]\n",
    "    else:\n",
    "      index = word_to_ix[\"<unk>\"]\n",
    "    indices.append(index)\n",
    "  return indices\n",
    "\n",
    "# Versión más compacta de la misma función\n",
    "def _convert_token_to_indices(sentence, word_to_ix):\n",
    "  return [word_to_ix.get(token, word_to_ix[\"<unk>\"]) for token in sentence]\n",
    "\n",
    "# Muestra un ejemplo\n",
    "example_sentence = [\"nosotros\", \"siempre\", \"venimos\", \"a\", \"kuwait\"]\n",
    "example_indices = convert_token_to_indices(example_sentence, word_to_ix)\n",
    "restored_example = [ix_to_word[ind] for ind in example_indices]\n",
    "\n",
    "print(f\"La oración original es: {example_sentence}\")\n",
    "print(f\"Pasar de palabras a índices: {example_indices}\")\n",
    "print(f\"Pasando de índices a palabras: {restored_example}\")"
   ]
  },
  {
   "cell_type": "markdown",
   "metadata": {
    "lang": "es"
   },
   "source": [
    "En el ejemplo anterior, `kuwait` aparece como `<unk>`, porque no está incluido en nuestro vocabulario. Convirtamos nuestras `train_sentences` a `example_padded_indices`."
   ]
  },
  {
   "cell_type": "code",
   "execution_count": 37,
   "metadata": {
    "ExecuteTime": {
     "end_time": "2022-02-28T12:52:24.599737Z",
     "start_time": "2022-02-28T12:52:24.595267Z"
    },
    "colab": {
     "base_uri": "https://localhost:8080/"
    },
    "id": "JRaKQwSJH-1d",
    "outputId": "ac2c370a-4d6e-41a7-afd2-652c76f6c235"
   },
   "outputs": [
    {
     "data": {
      "text/plain": [
       "[[12, 15, 18, 2, 13],\n",
       " [8, 14, 10, 7, 4],\n",
       " [21, 20, 9, 5],\n",
       " [8, 19, 7, 16],\n",
       " [11, 6, 7, 17, 10, 3]]"
      ]
     },
     "execution_count": 37,
     "metadata": {},
     "output_type": "execute_result"
    }
   ],
   "source": [
    "# Convirtiendo nuestras sentencias a indices\n",
    "example_padded_indices = [convert_token_to_indices(s, word_to_ix) for s in train_sentences]\n",
    "example_padded_indices"
   ]
  },
  {
   "cell_type": "markdown",
   "metadata": {
    "lang": "es"
   },
   "source": [
    "Ahora que tenemos un índice para cada palabra en nuestro vocabulario, podemos crear una tabla de embedding con la clase `nn.Embedding` de `PyTorch`. Se llama de la siguiente manera `nn.Embedding(num_words, embedding_dimension)` donde `num_words` es el número de palabras en nuestro vocabulario y `embedding_dimension` es la dimensión de los embeddings que queremos tener. No hay nada sofisticado en `nn.Embedding`: es solo una clase wrapper alrededor de un tensor dimensional entrenable de tamaño `NxE` , donde `N` es el número de palabras en nuestro vocabulario y `E` es el número de dimensiones incrustadas. Esta tabla es inicialmente aleatoria, pero cambiará con el tiempo. A medida que entrenamos nuestra red, los gradientes se propagarán hacia atrás hasta la capa de embedding y, por lo tanto, nuestros embeddings de palabras se actualizarán. Posteriormente, inicializaremos la capa de embedding que usaremos para nuestro modelo dentro de nuestro modelo, pero a continuación mostramos un ejemplo."
   ]
  },
  {
   "cell_type": "code",
   "execution_count": 38,
   "metadata": {
    "ExecuteTime": {
     "end_time": "2022-02-28T12:54:24.057777Z",
     "start_time": "2022-02-28T12:54:24.052087Z"
    },
    "colab": {
     "base_uri": "https://localhost:8080/"
    },
    "id": "F4AgHzv91VXx",
    "lang": "en",
    "outputId": "5404f7e3-919b-4e98-9411-0f92bd5248e1"
   },
   "outputs": [
    {
     "data": {
      "text/plain": [
       "[Parameter containing:\n",
       " tensor([[-0.8676,  0.6643,  0.2593,  1.1185,  0.2696],\n",
       "         [ 0.7057,  0.8347,  0.0582,  0.9345, -1.9410],\n",
       "         [ 0.5403,  0.0910,  0.4039,  0.9030,  0.6413],\n",
       "         [-0.3394,  1.8842,  0.5007, -0.0531, -0.5560],\n",
       "         [-0.2614,  1.5208, -0.6705, -0.1655,  1.2834],\n",
       "         [-2.4897,  2.7110, -1.1815, -0.7080,  1.6242],\n",
       "         [-0.9460,  1.5618,  0.5211, -0.8363, -0.0518],\n",
       "         [ 0.8009, -0.5986, -0.7992, -2.3112,  0.4973],\n",
       "         [ 2.0598, -1.4415,  0.3460, -0.9174,  1.1309],\n",
       "         [ 2.8127,  0.3135,  0.1889, -2.2991,  0.7678],\n",
       "         [-0.9640, -1.3251, -0.1968,  0.6444, -0.4139],\n",
       "         [ 1.8654,  0.6214, -2.1076, -0.1893, -0.2831],\n",
       "         [-0.1021,  0.3817,  0.8964,  0.6160, -0.5837],\n",
       "         [ 1.9835, -0.3968,  0.1149,  1.7424, -1.0732],\n",
       "         [ 1.4446, -0.2759,  0.4274, -1.1219, -1.3957],\n",
       "         [-0.7854,  2.6235,  0.0621, -0.3806,  0.2862],\n",
       "         [ 0.0734, -0.2134,  1.2685, -2.3063,  1.1769],\n",
       "         [-1.4079,  0.6464,  0.2431, -1.2335,  1.2699],\n",
       "         [-1.5812,  0.0592,  0.4769,  1.1063,  0.6159],\n",
       "         [ 0.3695,  0.6389, -3.2011,  2.5583, -0.7280],\n",
       "         [-2.1890, -0.3977, -0.2311,  0.4866,  1.0263],\n",
       "         [ 0.1504,  1.7677,  0.0668, -1.5771, -1.0957]], requires_grad=True)]"
      ]
     },
     "execution_count": 38,
     "metadata": {},
     "output_type": "execute_result"
    }
   ],
   "source": [
    "# Creando una tabla de embedding para nuestras palabras\n",
    "embedding_dim = 5\n",
    "embeds = nn.Embedding(len(vocabulary), embedding_dim)\n",
    "\n",
    "# Imprimiendo los parámetros en nuestra tabla de embedding\n",
    "list(embeds.parameters())"
   ]
  },
  {
   "cell_type": "markdown",
   "metadata": {
    "lang": "es"
   },
   "source": [
    "Para obtener el embedding de la palabra para una palabra en nuestro vocabulario, todo lo que tenemos que hacer es crear un tensor de búsqueda. El tensor de búsqueda es solo un tensor que contiene el índice que queremos buscar. La clase `nn.Embedding` espera un tensor de índices que sea del tipo `Long` Tensor, por lo que debemos crear nuestro tensor en consecuencia."
   ]
  },
  {
   "cell_type": "code",
   "execution_count": 39,
   "metadata": {
    "ExecuteTime": {
     "end_time": "2022-02-28T12:55:18.168568Z",
     "start_time": "2022-02-28T12:55:18.163797Z"
    },
    "colab": {
     "base_uri": "https://localhost:8080/"
    },
    "id": "nkldmcepjfh_",
    "outputId": "b9e24c31-547d-41e5-9509-fb9e9777cd01"
   },
   "outputs": [
    {
     "data": {
      "text/plain": [
       "tensor([ 1.9835, -0.3968,  0.1149,  1.7424, -1.0732],\n",
       "       grad_fn=<EmbeddingBackward0>)"
      ]
     },
     "execution_count": 39,
     "metadata": {},
     "output_type": "execute_result"
    }
   ],
   "source": [
    "# Obtiene el embedding para la palabra paris\n",
    "index = word_to_ix[\"paris\"]\n",
    "index_tensor = torch.tensor(index, dtype=torch.long)\n",
    "paris_embed = embeds(index_tensor)\n",
    "paris_embed"
   ]
  },
  {
   "cell_type": "code",
   "execution_count": 40,
   "metadata": {
    "ExecuteTime": {
     "end_time": "2022-02-28T12:55:26.937443Z",
     "start_time": "2022-02-28T12:55:26.932027Z"
    },
    "colab": {
     "base_uri": "https://localhost:8080/"
    },
    "id": "mUsdwBOxm6B4",
    "lang": "en",
    "outputId": "5b8cb8fe-0787-4e93-946b-ed719efcdd8b"
   },
   "outputs": [
    {
     "data": {
      "text/plain": [
       "tensor([[ 1.9835, -0.3968,  0.1149,  1.7424, -1.0732],\n",
       "        [-0.3394,  1.8842,  0.5007, -0.0531, -0.5560]],\n",
       "       grad_fn=<EmbeddingBackward0>)"
      ]
     },
     "execution_count": 40,
     "metadata": {},
     "output_type": "execute_result"
    }
   ],
   "source": [
    "# También podemos obtener múltiples embeddings a la vez\n",
    "index_paris = word_to_ix[\"paris\"]\n",
    "index_ankara = word_to_ix[\"ankara\"]\n",
    "indices = [index_paris, index_ankara]\n",
    "indices_tensor = torch.tensor(indices, dtype=torch.long)\n",
    "embeddings = embeds(indices_tensor)\n",
    "embeddings"
   ]
  },
  {
   "cell_type": "markdown",
   "metadata": {
    "lang": "es"
   },
   "source": [
    "Por lo general, definimos la capa de embedding como parte de nuestro modelo, que veremos en las secciones posteriores de nuestro cuaderno."
   ]
  },
  {
   "cell_type": "code",
   "execution_count": 41,
   "metadata": {
    "ExecuteTime": {
     "end_time": "2022-02-28T13:21:28.900312Z",
     "start_time": "2022-02-28T13:21:28.892271Z"
    },
    "id": "OkvvVlo4jgFm",
    "lang": "en"
   },
   "outputs": [],
   "source": [
    "from torch.utils.data import DataLoader\n",
    "from functools import partial\n",
    "\n",
    "def custom_collate_fn(batch, window_size, word_to_ix):\n",
    "  # Divide nuestro batch en muestras de entrenamiento (x) y etiquetas (y)\n",
    "  # Estamos convirtiendo nuestra x e y en tensores porque el método nn.utils.rnn.pad_secuence\n",
    "  # espera tensores. Esto también es útil ya que nuestro modelo estará esperando tensores como\n",
    "  # entradas.\n",
    "  x, y = zip(*batch)\n",
    "\n",
    "  # Ahora necesitamos rellenar las ventanas de nuestrass muestras de entrenamiento.\n",
    "  # Ya hemos definido una función para manejar el relleno de la ventana. Lo incluimos aquí\n",
    "  # de nuevo para que todo está en un solo lugar.\n",
    "  def pad_window(sentence, window_size, pad_token=\"<pad>\"):\n",
    "    window = [pad_token] * window_size\n",
    "    return window + sentence + window\n",
    "\n",
    "  # Rellena las muestras de entrenamiento\n",
    "  x = [pad_window(s, window_size=window_size) for s in x]\n",
    "\n",
    "  # Ahora necesitamos convertir las palabras de nuestras muestras de entrenamiento a índices.\n",
    "  # Estamos copiando la función definida anteriormente por el mismo motivo anterior.\n",
    "  def convert_tokens_to_indices(sentence, word_to_ix):\n",
    "    return [word_to_ix.get(token, word_to_ix[\"<unk>\"]) for token in sentence]\n",
    "\n",
    "  # Convierte las muestras de entrenamiento a indices.\n",
    "  x = [convert_tokens_to_indices(s, word_to_ix) for s in x]\n",
    "\n",
    "  # Ahora rellenaremos las muestras para que las longitudes de todas las muestras en\n",
    "  # un batch sean iguales, lo que permite realizar operaciones matriciales.\n",
    "  # Establecemos el parámetro batch_first en True para que la matriz devuelta tenga\n",
    "  # como la primera dimensión el batch.\n",
    "  pad_token_ix = word_to_ix[\"<pad>\"]\n",
    "\n",
    "\n",
    "  # la función pad_sequence espera que la entrada sea un tensor, por lo que convertimos x en uno\n",
    "  x = [torch.LongTensor(x_i) for x_i in x]\n",
    "  x_padded = nn.utils.rnn.pad_sequence(x, batch_first=True, padding_value=pad_token_ix)\n",
    "\n",
    "  # También rellenaremos las etiquetas. Antes de hacerlo, guardaremos el número\n",
    "  # de etiquetas para que sepamos cuantas palabras existieron en cada ejemplo.\n",
    "  lengths = [len(label) for label in y]\n",
    "  lenghts = torch.LongTensor(lengths)\n",
    "\n",
    "  y = [torch.LongTensor(y_i) for y_i in y]\n",
    "  y_padded = nn.utils.rnn.pad_sequence(y, batch_first=True, padding_value=0)\n",
    "\n",
    "  # Ahora estamos listos para devolver nuestras variables. El orden en que devolvemos\n",
    "  #  nuestras variables coincidirá con el orden en que los leemos en nuestro ciclo de entrenamiento.\n",
    "  return x_padded, y_padded, lenghts  "
   ]
  },
  {
   "cell_type": "markdown",
   "metadata": {
    "lang": "es"
   },
   "source": [
    "Esta función parece larga, pero realmente no tiene por qué serlo. Veamos una versión alternativa a continuación, en donde eliminamos las declaraciones y comentarios de funciones adicionales."
   ]
  },
  {
   "cell_type": "code",
   "execution_count": 42,
   "metadata": {
    "ExecuteTime": {
     "end_time": "2022-02-28T13:21:33.159405Z",
     "start_time": "2022-02-28T13:21:33.153974Z"
    },
    "id": "dZfcmAJXbLcq"
   },
   "outputs": [],
   "source": [
    "def _custom_collate_fn(batch, window_size, word_to_ix):\n",
    "  # preparando los puntos de datos\n",
    "  x, y = zip(*batch)  \n",
    "  x = [pad_window(s, window_size=window_size) for s in x]\n",
    "  x = [convert_tokens_to_indices(s, word_to_ix) for s in x]\n",
    "\n",
    "  # rellena x tal que todas las muestras en el batch tengan el mismo tamano\n",
    "  pad_token_ix = word_to_ix[\"<pad>\"]\n",
    "  x = [torch.LongTensor(x_i) for x_i in x]\n",
    "  x_padded = nn.utils.rnn.pad_sequence(x, batch_first=True, padding_value=pad_token_ix)\n",
    "\n",
    "  # Rellena \"y\" y guarda la longitud\n",
    "  lengths = [len(label) for label in y]\n",
    "  lenghts = torch.LongTensor(lengths)\n",
    "  y = [torch.LongTensor(y_i) for y_i in y]\n",
    "  y_padded = nn.utils.rnn.pad_sequence(y, batch_first=True, padding_value=0)\n",
    "\n",
    "  return x_padded, y_padded, lenghts  "
   ]
  },
  {
   "cell_type": "markdown",
   "metadata": {
    "lang": "es"
   },
   "source": [
    "Ahora, podemos ver el `DataLoader` en acción."
   ]
  },
  {
   "cell_type": "code",
   "execution_count": 43,
   "metadata": {
    "ExecuteTime": {
     "end_time": "2022-02-28T13:27:44.710065Z",
     "start_time": "2022-02-28T13:27:44.691587Z"
    },
    "colab": {
     "base_uri": "https://localhost:8080/"
    },
    "id": "RfB0JKL2vZ6p",
    "lang": "en",
    "outputId": "663b5215-01b3-475f-edb6-ad29186a967c"
   },
   "outputs": [
    {
     "name": "stdout",
     "output_type": "stream",
     "text": [
      "Iteration 0\n",
      "Batched Input:\n",
      "tensor([[ 0,  0, 21, 20,  9,  5,  0,  0,  0],\n",
      "        [ 0,  0,  8, 14, 10,  7,  4,  0,  0]])\n",
      "Batched Labels:\n",
      "tensor([[0, 0, 0, 1, 0],\n",
      "        [0, 0, 0, 0, 1]])\n",
      "Batched Lengths:\n",
      "tensor([4, 5])\n",
      "\n",
      "Iteration 1\n",
      "Batched Input:\n",
      "tensor([[ 0,  0, 11,  6,  7, 17, 10,  3,  0,  0],\n",
      "        [ 0,  0, 12, 15, 18,  2, 13,  0,  0,  0]])\n",
      "Batched Labels:\n",
      "tensor([[0, 0, 0, 1, 0, 1],\n",
      "        [0, 0, 0, 0, 1, 0]])\n",
      "Batched Lengths:\n",
      "tensor([6, 5])\n",
      "\n",
      "Iteration 2\n",
      "Batched Input:\n",
      "tensor([[ 0,  0,  8, 19,  7, 16,  0,  0]])\n",
      "Batched Labels:\n",
      "tensor([[0, 0, 0, 1]])\n",
      "Batched Lengths:\n",
      "tensor([4])\n",
      "\n"
     ]
    }
   ],
   "source": [
    "# Parámetros a pasar al DataLoader\n",
    "data = list(zip(train_sentences, train_labels))\n",
    "batch_size = 2\n",
    "shuffle = True\n",
    "window_size = 2\n",
    "collate_fn = partial(custom_collate_fn, window_size=window_size, word_to_ix=word_to_ix)\n",
    "\n",
    "# Instancia el DataLoader\n",
    "loader = DataLoader(data, batch_size=batch_size, shuffle=shuffle, collate_fn=collate_fn)\n",
    "\n",
    "# Va a traves de un ciclo\n",
    "counter = 0\n",
    "for batched_x, batched_y, batched_lengths in loader:\n",
    "  print(f\"Iteration {counter}\")\n",
    "  print(\"Batched Input:\")\n",
    "  print(batched_x)\n",
    "  print(\"Batched Labels:\")\n",
    "  print(batched_y)\n",
    "  print(\"Batched Lengths:\")\n",
    "  print(batched_lengths)\n",
    "  print(\"\")\n",
    "  counter += 1"
   ]
  },
  {
   "cell_type": "markdown",
   "metadata": {
    "lang": "es"
   },
   "source": [
    "Los tensores de entrada por batch que vimos antes se pasarán a nuestro modelo. Por otro lado, comenzamos diciendo que nuestro modelo será un clasificador de ventanas de palabras. Por la forma en que nuestros tensores de entrada están formateados actualmente, tenemos todas las palabras en una sentencia en un punto de datos. Cuando pasamos esta entrada a nuestro modelo, éste necesita crear las ventanas para cada palabra, hacer una predicción sobre si la palabra central es una `UBICACIÓN` o no, para cada ventana, juntar las predicciones y volver a hacerlo.\n",
    "\n",
    "Podríamos evitar este problema si formateamos nuestros datos dividiéndolos en ventanas de antemano. En este ejemplo, en cambio, veremos cómo nuestro modelo se ocupa del formateo.\n",
    "\n",
    "Dado que nuestro `window_size` es `N`, queremos que nuestro modelo haga una predicción sobre cada `2N+1` tokens. Es decir, si tenemos una entrada con `9` tokens y un `window_size` de `2`, queremos que nuestro modelo devuelva `5` predicciones. Esto tiene sentido porque antes de rellenarlo con `2` tokens en cada lado, nuestra entrada también tenía \"5\" tokens.\n",
    "\n",
    "Podemos crear estas ventanas usando bucles for, pero hay una alternativa más rápida a `PyTorch`, que es el método `unfold(dimension, size, step)`. Podemos crear las ventanas que necesitamos usando este método de la siguiente manera:"
   ]
  },
  {
   "cell_type": "code",
   "execution_count": 44,
   "metadata": {
    "ExecuteTime": {
     "end_time": "2022-02-28T13:27:50.764906Z",
     "start_time": "2022-02-28T13:27:50.754375Z"
    },
    "colab": {
     "base_uri": "https://localhost:8080/"
    },
    "id": "RMZu-pxLVxHQ",
    "outputId": "2bff1c6a-62f5-46ab-e9d4-282ba405db6d"
   },
   "outputs": [
    {
     "name": "stdout",
     "output_type": "stream",
     "text": [
      "Original Tensor: \n",
      "tensor([[ 0,  0,  8, 19,  7, 16,  0,  0]])\n",
      "\n",
      "Windows: \n",
      "tensor([[[ 0,  0,  8, 19,  7],\n",
      "         [ 0,  8, 19,  7, 16],\n",
      "         [ 8, 19,  7, 16,  0],\n",
      "         [19,  7, 16,  0,  0]]])\n"
     ]
    }
   ],
   "source": [
    "# muestra el tensor original\n",
    "print(f\"Original Tensor: \")\n",
    "print(batched_x)\n",
    "print(\"\")\n",
    "\n",
    "# Crea los 2 * 2 + 1 chunkstrozos\n",
    "chunk = batched_x.unfold(1, window_size*2 + 1, 1)\n",
    "print(f\"Windows: \")\n",
    "print(chunk)"
   ]
  },
  {
   "cell_type": "markdown",
   "metadata": {},
   "source": [
    "### Modelo\n",
    "Ahora que hemos preparado nuestro datos, estamos listos para construir nuestro modelo. Lo haremos a través de la creación de una clase que hereda de la clase `nn.Module` (ya lo hemos visto con la regresión logística y la MLP)."
   ]
  },
  {
   "cell_type": "code",
   "execution_count": 45,
   "metadata": {
    "ExecuteTime": {
     "end_time": "2022-02-28T13:45:57.599508Z",
     "start_time": "2022-02-28T13:45:57.589397Z"
    },
    "id": "JLTU4h76NLYm"
   },
   "outputs": [],
   "source": [
    "class WordWindowClassifier(nn.Module):\n",
    "\n",
    "  def __init__(self, hyperparameters, vocab_size, pad_ix=0):\n",
    "    super(WordWindowClassifier, self).__init__()\n",
    "    \n",
    "    \"\"\" Instancia las variabless \"\"\"\n",
    "    self.window_size = hyperparameters[\"window_size\"]\n",
    "    self.embed_dim = hyperparameters[\"embed_dim\"]\n",
    "    self.hidden_dim = hyperparameters[\"hidden_dim\"]\n",
    "    self.freeze_embeddings = hyperparameters[\"freeze_embeddings\"]\n",
    "\n",
    "    \"\"\" Capa de Embedding      \n",
    "    Toma un tensor que contiene los índices de los embeddings y devuelve los embeddings\n",
    "    correspondientes. La salida es de dimensión (número_de_índices * dimension_embedding).\n",
    "\n",
    "     Si freeze_embeddings es True, configura los parámetros de la capa de embedding para que sean\n",
    "     no entrenables. Esto es útil si solo queremos cambiar los parámetros que no sean de los embeddings.\n",
    "\n",
    "    \"\"\"\n",
    "    self.embeds = nn.Embedding(vocab_size, self.embed_dim, padding_idx=pad_ix)\n",
    "    if self.freeze_embeddings:\n",
    "      self.embed_layer.weight.requires_grad = False\n",
    "\n",
    "    \"\"\" Capa Oculta\n",
    "    \"\"\"\n",
    "    full_window_size = 2 * window_size + 1\n",
    "    self.hidden_layer = nn.Sequential(\n",
    "      nn.Linear(full_window_size * self.embed_dim, self.hidden_dim), \n",
    "      nn.Tanh()\n",
    "    )\n",
    "\n",
    "    \"\"\" Caba de salida\n",
    "    \"\"\"\n",
    "    self.output_layer = nn.Linear(self.hidden_dim, 1)\n",
    "\n",
    "    \"\"\" Probabilidades \n",
    "    \"\"\"\n",
    "    self.probabilities = nn.Sigmoid()\n",
    "\n",
    "  def forward(self, inputs):\n",
    "    \"\"\"\n",
    "    Sea B:= batch_size\n",
    "        L:= longitud de la ventana de la sentencia rellenada\n",
    "        D:= self.embed_dim\n",
    "        S:= self.window_size\n",
    "        H:= self.hidden_dim\n",
    "        \n",
    "    entradas: un tensor (B, L) de los indices de los tokens\n",
    "    \"\"\"\n",
    "    B, L = inputs.size()\n",
    "\n",
    "    \"\"\"\n",
    "    Reshaping.\n",
    "    Entra un tensor de tipo Long (B, L) \n",
    "    Produce un tensor de tipo Long (B, L~, S)\n",
    "    \"\"\"\n",
    "    # Primero, obtiene las ventanas de palabras para cada palabra de entrada.\n",
    "    token_windows = inputs.unfold(1, 2 * self.window_size + 1, 1)\n",
    "    _, adjusted_length, _ = token_windows.size()\n",
    "\n",
    "    # Es buena idea hacer verificaciones internas del tamaño de un tensor\n",
    "    assert token_windows.size() == (B, adjusted_length, 2 * self.window_size + 1)\n",
    "\n",
    "    \"\"\"\n",
    "    Embedding.\n",
    "    Entra un torch.LongTensor de tamano (B, L~, S) \n",
    "    Produce un (B, L~, S, D) FloatTensor.\n",
    "    \"\"\"\n",
    "    embedded_windows = self.embeds(token_windows)\n",
    "\n",
    "    \"\"\"\n",
    "    Reshaping.\n",
    "    Entra un (B, L~, S, D) FloatTensor.\n",
    "    Cambia su tamano a (B, L~, S*D) FloatTensor.\n",
    "    El argumento -1  \"infiere\" ser la última dimensión segun los ejes sobrantes.\n",
    "    \"\"\"\n",
    "    embedded_windows = embedded_windows.view(B, adjusted_length, -1)\n",
    "\n",
    "    \"\"\"\n",
    "    Capa 1.\n",
    "    Entra un (B, L~, S*D) FloatTensor.\n",
    "    Cambia su tamaño a un (B, L~, H) FloatTensor\n",
    "    \"\"\"\n",
    "    layer_1 = self.hidden_layer(embedded_windows)\n",
    "\n",
    "    \"\"\"\n",
    "    Capa 2\n",
    "    Entra un (B, L~, H) FloatTensor.\n",
    "    cambia su tamano a un (B, L~, 1) FloatTensor.\n",
    "    \"\"\"\n",
    "    output = self.output_layer(layer_1)\n",
    "\n",
    "    \"\"\"\n",
    "    Softmax.\n",
    "    Entra un (B, L~, 1) FloatTensor de scores de clases no normalizados.\n",
    "    Produce un (B, L~, 1) FloatTensor de scores de clases (log-)normalizados.\n",
    "    \"\"\"\n",
    "    output = self.probabilities(output)\n",
    "    output = output.view(B, -1)\n",
    "\n",
    "    return output"
   ]
  },
  {
   "cell_type": "markdown",
   "metadata": {},
   "source": [
    "### Entrenamiento\n",
    "\n",
    "Ahora estamos listos para poner todo junto. Empecemos por preparar nuestros datos e inicializar nuestro modelo. Luego, podemos inicializar nuestro optimizador y definir nuestra función de loss. Esta vez, en lugar de usar una de las funciones de loss predefinidas, definiremos nuestra propia función de loss."
   ]
  },
  {
   "cell_type": "code",
   "execution_count": 46,
   "metadata": {
    "ExecuteTime": {
     "end_time": "2022-02-28T13:50:59.158389Z",
     "start_time": "2022-02-28T13:50:59.144513Z"
    },
    "id": "bInu1VqjHsfj"
   },
   "outputs": [],
   "source": [
    "# Prepara los datos\n",
    "data = list(zip(train_sentences, train_labels))\n",
    "batch_size = 2\n",
    "shuffle = True\n",
    "window_size = 2\n",
    "collate_fn = partial(custom_collate_fn, window_size=window_size, word_to_ix=word_to_ix)\n",
    "\n",
    "# Instancia el dataloader\n",
    "loader = DataLoader(data, batch_size=batch_size, shuffle=shuffle, collate_fn=collate_fn)\n",
    "\n",
    "# Inicializa el modelo\n",
    "# Es util colocar todos los hiperparamentros en un diccionario\n",
    "model_hyperparameters = {\n",
    "    \"batch_size\": 4,\n",
    "    \"window_size\": 2,\n",
    "    \"embed_dim\": 25,\n",
    "    \"hidden_dim\": 25,\n",
    "    \"freeze_embeddings\": False,\n",
    "}\n",
    "\n",
    "vocab_size = len(word_to_ix)\n",
    "model = WordWindowClassifier(model_hyperparameters, vocab_size)\n",
    "\n",
    "# define un optimizador\n",
    "learning_rate = 0.01\n",
    "optimizer = torch.optim.SGD(model.parameters(), lr=learning_rate)\n",
    "\n",
    "# Definir una función de pérdida, que calcula el binary cross entropy \n",
    "def loss_function(batch_outputs, batch_labels, batch_lengths):   \n",
    "    # calcula el loss para todo el batch\n",
    "    bceloss = nn.BCELoss()\n",
    "    loss = bceloss(batch_outputs, batch_labels.float())\n",
    "\n",
    "    # Reescala el loss. Recuerde que hemos utilizado longitudes para almacenar el\n",
    "    # número de palabras en cada muestra de entrenamiento\n",
    "    loss = loss / batch_lengths.sum().float()\n",
    "\n",
    "    return loss"
   ]
  },
  {
   "cell_type": "code",
   "execution_count": 47,
   "metadata": {
    "ExecuteTime": {
     "end_time": "2022-02-28T13:53:20.964908Z",
     "start_time": "2022-02-28T13:53:20.959970Z"
    },
    "id": "QL9IDgIOvHca"
   },
   "outputs": [],
   "source": [
    "# Funcion que se llamara en cada epoch\n",
    "def train_epoch(loss_function, optimizer, model, loader):\n",
    "  \n",
    "  # guarda el registro del loss para cada epoch\n",
    "  total_loss = 0\n",
    "  for batch_inputs, batch_labels, batch_lengths in loader:\n",
    "    # limpia los gradientes\n",
    "    optimizer.zero_grad()\n",
    "    # corre un forward pass\n",
    "    outputs = model.forward(batch_inputs)\n",
    "    # calcula el loss para un batch\n",
    "    loss = loss_function(outputs, batch_labels, batch_lengths)\n",
    "    # Calcula los gradientes\n",
    "    loss.backward()\n",
    "    # Actualiza los parámetros\n",
    "    optimizer.step()\n",
    "    total_loss += loss.item()\n",
    "\n",
    "  return total_loss\n",
    "\n",
    "\n",
    "# Función que contiene el loop principal\n",
    "def train(loss_function, optimizer, model, loader, num_epochs=10000):\n",
    "\n",
    "  # Itera a traves de cada epoch y llama la funcion de train_epoch function\n",
    "  for epoch in range(num_epochs):\n",
    "    epoch_loss = train_epoch(loss_function, optimizer, model, loader)\n",
    "    if epoch % 100 == 0: print(epoch_loss)"
   ]
  },
  {
   "cell_type": "code",
   "execution_count": 48,
   "metadata": {
    "ExecuteTime": {
     "end_time": "2022-02-28T13:53:28.426400Z",
     "start_time": "2022-02-28T13:53:27.231079Z"
    },
    "colab": {
     "base_uri": "https://localhost:8080/"
    },
    "id": "Kav8kwVBJ6XW",
    "outputId": "28dafd55-14b7-4a21-b7d0-fd8cde687fb4"
   },
   "outputs": [
    {
     "name": "stdout",
     "output_type": "stream",
     "text": [
      "0.3098483607172966\n",
      "0.2317947894334793\n",
      "0.19447655603289604\n",
      "0.1381285935640335\n",
      "0.09531340189278126\n",
      "0.07393439672887325\n",
      "0.056153520941734314\n",
      "0.0458388514816761\n",
      "0.0358200604096055\n",
      "0.03131720330566168\n"
     ]
    }
   ],
   "source": [
    "num_epochs = 1000\n",
    "train(loss_function, optimizer, model, loader, num_epochs=num_epochs)"
   ]
  },
  {
   "cell_type": "markdown",
   "metadata": {
    "id": "T-k7Pav4LdQJ"
   },
   "source": [
    "### Predicción\n",
    "\n",
    "Veamos qué tan bien nuestro modelo hace predicciones. Podemos comenzar creando nuestros datos de prueba."
   ]
  },
  {
   "cell_type": "code",
   "execution_count": 49,
   "metadata": {
    "ExecuteTime": {
     "end_time": "2022-02-28T13:54:23.027939Z",
     "start_time": "2022-02-28T13:54:23.023633Z"
    },
    "id": "-v5X69a2Lkbm"
   },
   "outputs": [],
   "source": [
    "# Creando una sentencia de prueba\n",
    "test_corpus = [\"Ella viene de Paris\"]\n",
    "test_sentences = [s.lower().split() for s in test_corpus]\n",
    "test_labels = [[0, 0, 0, 1]]\n",
    "\n",
    "# Crea un dataloader de prueba\n",
    "test_data = list(zip(test_sentences, test_labels))\n",
    "batch_size = 1\n",
    "shuffle = False\n",
    "window_size = 2\n",
    "collate_fn = partial(custom_collate_fn, window_size=2, word_to_ix=word_to_ix)\n",
    "test_loader = torch.utils.data.DataLoader(test_data, \n",
    "                                           batch_size=1, \n",
    "                                           shuffle=False, \n",
    "                                           collate_fn=collate_fn)"
   ]
  },
  {
   "cell_type": "code",
   "execution_count": 50,
   "metadata": {
    "ExecuteTime": {
     "end_time": "2022-02-28T13:54:43.051656Z",
     "start_time": "2022-02-28T13:54:43.047193Z"
    },
    "colab": {
     "base_uri": "https://localhost:8080/"
    },
    "id": "dGYn8CAoMTjX",
    "outputId": "e63fce32-9d1d-4a80-a2f9-dd555928f852"
   },
   "outputs": [
    {
     "name": "stdout",
     "output_type": "stream",
     "text": [
      "tensor([[0, 0, 0, 1]])\n",
      "tensor([[0.0673, 0.0535, 0.0533, 0.9557]], grad_fn=<ViewBackward0>)\n"
     ]
    }
   ],
   "source": [
    "for test_instance, labels, _ in test_loader:\n",
    "  outputs = model.forward(test_instance)\n",
    "  print(labels)\n",
    "  print(outputs)"
   ]
  },
  {
   "cell_type": "code",
   "execution_count": 51,
   "metadata": {
    "ExecuteTime": {
     "end_time": "2022-02-28T13:54:48.755212Z",
     "start_time": "2022-02-28T13:54:48.750982Z"
    },
    "id": "iebrU4ZibVIR"
   },
   "outputs": [
    {
     "data": {
      "text/plain": [
       "[(['nosotros', 'siempre', 'venimos', 'a', 'paris'], [0, 0, 0, 0, 1]),\n",
       " (['el', 'profesor', 'es', 'de', 'australia'], [0, 0, 0, 0, 1]),\n",
       " (['yo', 'vivo', 'en', 'bogota'], [0, 0, 0, 1]),\n",
       " (['el', 'viene', 'de', 'taiwan'], [0, 0, 0, 1]),\n",
       " (['la', 'capital', 'de', 'turquia', 'es', 'ankara'], [0, 0, 0, 1, 0, 1])]"
      ]
     },
     "execution_count": 51,
     "metadata": {},
     "output_type": "execute_result"
    }
   ],
   "source": [
    "data"
   ]
  },
  {
   "cell_type": "markdown",
   "metadata": {},
   "source": [
    "### Ejercicio \n",
    "Cree unas frases con sus respectivas etiquetas para diferentes tipos de palabras: por ejemplo: nombre, verbo, lugar y otros, y realice un proceso simila al anterior donde clasificara las palabras usando ventanas."
   ]
  },
  {
   "cell_type": "markdown",
   "metadata": {},
   "source": [
    "## Algunas pruebas para entender más acerca de las dimensiones"
   ]
  },
  {
   "cell_type": "code",
   "execution_count": 52,
   "metadata": {
    "ExecuteTime": {
     "end_time": "2022-02-28T17:25:29.557855Z",
     "start_time": "2022-02-28T17:25:29.554154Z"
    }
   },
   "outputs": [
    {
     "name": "stdout",
     "output_type": "stream",
     "text": [
      "tensor([[0.1415, 0.2237, 0.0396],\n",
      "        [0.7304, 0.7470, 0.2466],\n",
      "        [0.4285, 0.8204, 0.5544],\n",
      "        [0.7045, 0.5630, 0.1440]])\n"
     ]
    }
   ],
   "source": [
    "w = torch.rand(4,3)\n",
    "print(w)"
   ]
  },
  {
   "cell_type": "code",
   "execution_count": 53,
   "metadata": {},
   "outputs": [
    {
     "data": {
      "text/plain": [
       "tensor([5.7057, 6.4309, 2.7716])"
      ]
     },
     "execution_count": 53,
     "metadata": {},
     "output_type": "execute_result"
    }
   ],
   "source": [
    "x = torch.tensor([1,2,3,4],dtype=torch.float)\n",
    "x @ w"
   ]
  },
  {
   "cell_type": "code",
   "execution_count": 54,
   "metadata": {},
   "outputs": [
    {
     "data": {
      "text/plain": [
       "tensor([[ 9.6487, 11.4413,  5.3579],\n",
       "        [12.8645, 15.7308,  7.3485],\n",
       "        [12.8723, 14.3559,  6.0363],\n",
       "        [ 4.1514,  4.9318,  2.0086],\n",
       "        [12.4391, 15.4657,  6.8483],\n",
       "        [ 8.3176,  9.1935,  3.1947],\n",
       "        [11.0160, 11.2565,  3.3980]])"
      ]
     },
     "execution_count": 54,
     "metadata": {},
     "output_type": "execute_result"
    }
   ],
   "source": [
    "X = torch.randint(1,10,(7,4), dtype=torch.float)\n",
    "X @ w"
   ]
  },
  {
   "cell_type": "code",
   "execution_count": 55,
   "metadata": {},
   "outputs": [
    {
     "name": "stdout",
     "output_type": "stream",
     "text": [
      "tensor([[[3., 4., 4., 5.],\n",
      "         [1., 7., 3., 4.],\n",
      "         [3., 2., 6., 7.],\n",
      "         [3., 7., 6., 1.],\n",
      "         [4., 5., 5., 3.],\n",
      "         [5., 7., 4., 8.],\n",
      "         [7., 4., 8., 2.]],\n",
      "\n",
      "        [[1., 3., 6., 5.],\n",
      "         [8., 4., 4., 2.],\n",
      "         [5., 6., 5., 1.],\n",
      "         [3., 1., 1., 9.],\n",
      "         [3., 3., 3., 1.],\n",
      "         [1., 7., 3., 4.],\n",
      "         [3., 5., 7., 4.]]])\n"
     ]
    }
   ],
   "source": [
    "X_big = X = torch.randint(1,10,(2,7,4), dtype=torch.float)\n",
    "print(X_big)"
   ]
  },
  {
   "cell_type": "code",
   "execution_count": 56,
   "metadata": {},
   "outputs": [
    {
     "data": {
      "text/plain": [
       "tensor([[[ 8.5826,  9.7557,  4.0423],\n",
       "         [ 9.3578, 10.1659,  4.0044],\n",
       "         [ 9.3877, 11.0286,  4.9458],\n",
       "         [ 8.8130, 11.3854,  5.3148],\n",
       "         [ 8.4741, 10.4207,  4.5949],\n",
       "         [13.1703, 14.1331,  5.2930],\n",
       "         [ 8.7493, 12.2430,  5.9863]],\n",
       "\n",
       "        [[ 8.4261, 10.2022,  4.8252],\n",
       "         [ 7.1768,  9.1850,  3.8085],\n",
       "         [ 7.9371, 10.2654,  4.5932],\n",
       "         [ 7.9237,  7.3055,  2.2153],\n",
       "         [ 4.6058,  5.9362,  2.6656],\n",
       "         [ 9.3578, 10.1659,  4.0044],\n",
       "         [ 9.8940, 12.4009,  5.8079]]])"
      ]
     },
     "execution_count": 56,
     "metadata": {},
     "output_type": "execute_result"
    }
   ],
   "source": [
    "X_big @ w"
   ]
  },
  {
   "cell_type": "code",
   "execution_count": 57,
   "metadata": {},
   "outputs": [
    {
     "name": "stdout",
     "output_type": "stream",
     "text": [
      "tensor([[[40.2208],\n",
      "         [41.7027],\n",
      "         [46.2821],\n",
      "         [47.5283],\n",
      "         [43.1003],\n",
      "         [57.3155],\n",
      "         [51.1943]],\n",
      "\n",
      "        [[43.3060],\n",
      "         [36.9725],\n",
      "         [42.2474],\n",
      "         [29.1808],\n",
      "         [24.4749],\n",
      "         [41.7027],\n",
      "         [52.1196]]])\n"
     ]
    }
   ],
   "source": [
    "new = (X_big @ w) @ torch.tensor([1.,2.,3.]).view(-1,1)\n",
    "print(new)"
   ]
  },
  {
   "cell_type": "code",
   "execution_count": 58,
   "metadata": {},
   "outputs": [
    {
     "data": {
      "text/plain": [
       "torch.Size([2, 7, 1])"
      ]
     },
     "execution_count": 58,
     "metadata": {},
     "output_type": "execute_result"
    }
   ],
   "source": [
    "new.shape"
   ]
  },
  {
   "cell_type": "code",
   "execution_count": 59,
   "metadata": {},
   "outputs": [
    {
     "data": {
      "text/plain": [
       "tensor([[40.2208, 41.7027, 46.2821, 47.5283, 43.1003, 57.3155, 51.1943],\n",
       "        [43.3060, 36.9725, 42.2474, 29.1808, 24.4749, 41.7027, 52.1196]])"
      ]
     },
     "execution_count": 59,
     "metadata": {},
     "output_type": "execute_result"
    }
   ],
   "source": [
    "new.view(2,-1) # new.squeeze(2)"
   ]
  },
  {
   "cell_type": "markdown",
   "metadata": {},
   "source": [
    "# Solución punto 5"
   ]
  },
  {
   "cell_type": "code",
   "execution_count": 60,
   "metadata": {},
   "outputs": [],
   "source": [
    "import re\n",
    "from unicodedata import normalize"
   ]
  },
  {
   "cell_type": "code",
   "execution_count": 61,
   "metadata": {},
   "outputs": [],
   "source": [
    "# Nuestros datos sin procesar, que consisten en oraciones\n",
    "# Oraciones obtenidas de https://blogs.uoc.edu/humanitats/es/frases-sobre-arte-dia-mundial-del-arte/\n",
    "corpus = [\n",
    "          \"El arte es lo que dejas salir\",\n",
    "\"El arte no reproduce aquello que es visible sino que hace visible aquello que no siempre lo es.\",\n",
    "\"El arte tiene la bonita costumbre de echar a perder todas las teorías artísticas.\",\n",
    "\"El arte es una garantía de cordura.\",\n",
    "\"Aprende las reglas como un profesional, para que puedas romperlas como un artista.\",\n",
    "\"Nunca pinto sueños o pesadillas. Pinto mi propia realidad.\",\n",
    "\"No tengas miedo de la perfección, nunca la alcanzarás.\",\n",
    "\"El arte deriva de un deseo de la persona para comunicarse con otro.\",\n",
    "\"El papel de las artes representativas\",\n",
    "\"Quería comenzar una revolución, usar el arte para construir el tipo de sociedad que yo misma imaginaba.\",\n",
    "\"Veo el arte y la literatura como un posible ensanchamiento de horizontes hacia la libertad.\",\n",
    "\"Entiendo que un artista es alguien que, entre el silencio de los demás, utiliza su voz para decir algo, y que tiene la obligación que esto no sea algo inútil sino algo que dé un servicio a los hombres.\",\n",
    "\"El arte está ligado a lo que todavía no se crea.\",\n",
    "\"Hay a nuestro alrededor emociones muy bellas y en el arte, donde están las más intensas, no acepto la mediocridad. Hay arte, no arte decorativo. El arte es algo riguroso, el arte decorativo no lo es, es superficial, alborotador.\",\n",
    "\"A veces pienso que lo peor es la actual ‘mundanalidad’ de toda la escena [artística]. Es la cosa más engañosa, corruptora y transitoria, llena de patadas y diversión, pero tan poco que ver con lo que realmente se trata. Tiene que ver con nuestro tiempo, un pacto desesperado sobre el poder de la inmediatez. Pero me siento cada vez menos preocupado por esto como un problema. ¿Y qué? No hay amenaza.\",\n",
    "\"Todo mi trabajo sigue como un péndulo; parece regresar a algo en lo que estuve involucrado anteriormente, o se mueve entre la horizontalidad y la verticalidad, la circularidad o una combinación de ellas. Para mí, supongo que el cambio es la única constante.\",\n",
    "\"Es mi deber expresar los sufrimientos de las personas, los sufrimientos que nunca terminan y que son tan grandes como las montañas.\",\n",
    "\"(La performance es como) el arte que combina el tiempo y el espacio con la presencia de un público que no es un mero espectador, sino que también participa de la acción.\",\n",
    "\"No hay arte sin transformación.\",\n",
    "\"El arte nos atrae solamente cuando revela en nosotros secretos.\",\n",
    "\"Todo arte es autobiográfico.\",\n",
    "\"El arte no cambia nada, el arte te cambia a ti.\",\n",
    "\"Cuando estoy haciendo arte, no tengo absolutamente responsabilidad social alguna. Es como soñar.\",\n",
    "\"La música es tu propia experiencia, tus propios pensamientos, tu sabiduría. Si no la vives no va a salir de tu cuerno. Te dicen que hay una línea limitadora para la música. Pero no hay fronteras para el arte.\",\n",
    "\"Todo buen arte es una indiscreción.\",\n",
    "\"La inspiración es trabajar todos los días.\",\n",
    "\"El arte es lo que resiste: resiste a la muerte, a la servidumbre, a la infamia, a la vergüenza.\",\n",
    "\"Nada es más nocivo para la creatividad que el furor de la inspiración.\",\n",
    "\"El papel del artista es hacer preguntas, no responderlas.\",\n",
    "\"La arquitectura es música congelada.\",\n",
    "\"El hablar de estas cosas y el tratar de comprender su naturaleza y, una vez comprendida, el tratar lentamente, humildemente, constantemente de expresar, de exprimir de nuevo, de la tierra grosera o de lo que la tierra produce, de la forma, del sonido y del color (que son las puertas de la cárcel del alma) una imagen de la belleza que hemos llegado a comprender: eso es el arte.\",\n",
    "\"El arte parece ser el empeño por descifrar o perseguir la huella dejada por una forma perdida de existencia.\",\n",
    "\"La belleza artística no consiste en representar una cosa bella, sino en la bella representación de una cosa.\",\n",
    "\"El objetivo del arte no es representar la apariencia externa de las cosas, sino su significado interior.\",\n",
    "\"La observación de la naturaleza y la meditación han generado el arte.\"\n",
    "         ]"
   ]
  },
  {
   "cell_type": "code",
   "execution_count": 62,
   "metadata": {},
   "outputs": [
    {
     "data": {
      "text/plain": [
       "[['el', 'arte', 'es', 'lo', 'que', 'dejas', 'salir'],\n",
       " ['el',\n",
       "  'arte',\n",
       "  'no',\n",
       "  'reproduce',\n",
       "  'aquello',\n",
       "  'que',\n",
       "  'es',\n",
       "  'visible',\n",
       "  'sino',\n",
       "  'que',\n",
       "  'hace',\n",
       "  'visible',\n",
       "  'aquello',\n",
       "  'que',\n",
       "  'no',\n",
       "  'siempre',\n",
       "  'lo',\n",
       "  'es.'],\n",
       " ['el',\n",
       "  'arte',\n",
       "  'tiene',\n",
       "  'la',\n",
       "  'bonita',\n",
       "  'costumbre',\n",
       "  'de',\n",
       "  'echar',\n",
       "  'a',\n",
       "  'perder',\n",
       "  'todas',\n",
       "  'las',\n",
       "  'teorias',\n",
       "  'artisticas.'],\n",
       " ['el', 'arte', 'es', 'una', 'garantia', 'de', 'cordura.'],\n",
       " ['aprende',\n",
       "  'las',\n",
       "  'reglas',\n",
       "  'como',\n",
       "  'un',\n",
       "  'profesional,',\n",
       "  'para',\n",
       "  'que',\n",
       "  'puedas',\n",
       "  'romperlas',\n",
       "  'como',\n",
       "  'un',\n",
       "  'artista.'],\n",
       " ['nunca',\n",
       "  'pinto',\n",
       "  'sueños',\n",
       "  'o',\n",
       "  'pesadillas.',\n",
       "  'pinto',\n",
       "  'mi',\n",
       "  'propia',\n",
       "  'realidad.'],\n",
       " ['no',\n",
       "  'tengas',\n",
       "  'miedo',\n",
       "  'de',\n",
       "  'la',\n",
       "  'perfeccion,',\n",
       "  'nunca',\n",
       "  'la',\n",
       "  'alcanzaras.'],\n",
       " ['el',\n",
       "  'arte',\n",
       "  'deriva',\n",
       "  'de',\n",
       "  'un',\n",
       "  'deseo',\n",
       "  'de',\n",
       "  'la',\n",
       "  'persona',\n",
       "  'para',\n",
       "  'comunicarse',\n",
       "  'con',\n",
       "  'otro.'],\n",
       " ['el', 'papel', 'de', 'las', 'artes', 'representativas'],\n",
       " ['queria',\n",
       "  'comenzar',\n",
       "  'una',\n",
       "  'revolucion,',\n",
       "  'usar',\n",
       "  'el',\n",
       "  'arte',\n",
       "  'para',\n",
       "  'construir',\n",
       "  'el',\n",
       "  'tipo',\n",
       "  'de',\n",
       "  'sociedad',\n",
       "  'que',\n",
       "  'yo',\n",
       "  'misma',\n",
       "  'imaginaba.'],\n",
       " ['veo',\n",
       "  'el',\n",
       "  'arte',\n",
       "  'y',\n",
       "  'la',\n",
       "  'literatura',\n",
       "  'como',\n",
       "  'un',\n",
       "  'posible',\n",
       "  'ensanchamiento',\n",
       "  'de',\n",
       "  'horizontes',\n",
       "  'hacia',\n",
       "  'la',\n",
       "  'libertad.'],\n",
       " ['entiendo',\n",
       "  'que',\n",
       "  'un',\n",
       "  'artista',\n",
       "  'es',\n",
       "  'alguien',\n",
       "  'que,',\n",
       "  'entre',\n",
       "  'el',\n",
       "  'silencio',\n",
       "  'de',\n",
       "  'los',\n",
       "  'demas,',\n",
       "  'utiliza',\n",
       "  'su',\n",
       "  'voz',\n",
       "  'para',\n",
       "  'decir',\n",
       "  'algo,',\n",
       "  'y',\n",
       "  'que',\n",
       "  'tiene',\n",
       "  'la',\n",
       "  'obligacion',\n",
       "  'que',\n",
       "  'esto',\n",
       "  'no',\n",
       "  'sea',\n",
       "  'algo',\n",
       "  'inutil',\n",
       "  'sino',\n",
       "  'algo',\n",
       "  'que',\n",
       "  'de',\n",
       "  'un',\n",
       "  'servicio',\n",
       "  'a',\n",
       "  'los',\n",
       "  'hombres.'],\n",
       " ['el',\n",
       "  'arte',\n",
       "  'esta',\n",
       "  'ligado',\n",
       "  'a',\n",
       "  'lo',\n",
       "  'que',\n",
       "  'todavia',\n",
       "  'no',\n",
       "  'se',\n",
       "  'crea.'],\n",
       " ['hay',\n",
       "  'a',\n",
       "  'nuestro',\n",
       "  'alrededor',\n",
       "  'emociones',\n",
       "  'muy',\n",
       "  'bellas',\n",
       "  'y',\n",
       "  'en',\n",
       "  'el',\n",
       "  'arte,',\n",
       "  'donde',\n",
       "  'estan',\n",
       "  'las',\n",
       "  'mas',\n",
       "  'intensas,',\n",
       "  'no',\n",
       "  'acepto',\n",
       "  'la',\n",
       "  'mediocridad.',\n",
       "  'hay',\n",
       "  'arte,',\n",
       "  'no',\n",
       "  'arte',\n",
       "  'decorativo.',\n",
       "  'el',\n",
       "  'arte',\n",
       "  'es',\n",
       "  'algo',\n",
       "  'riguroso,',\n",
       "  'el',\n",
       "  'arte',\n",
       "  'decorativo',\n",
       "  'no',\n",
       "  'lo',\n",
       "  'es,',\n",
       "  'es',\n",
       "  'superficial,',\n",
       "  'alborotador.'],\n",
       " ['a',\n",
       "  'veces',\n",
       "  'pienso',\n",
       "  'que',\n",
       "  'lo',\n",
       "  'peor',\n",
       "  'es',\n",
       "  'la',\n",
       "  'actual',\n",
       "  '‘mundanalidad’',\n",
       "  'de',\n",
       "  'toda',\n",
       "  'la',\n",
       "  'escena',\n",
       "  '[artistica].',\n",
       "  'es',\n",
       "  'la',\n",
       "  'cosa',\n",
       "  'mas',\n",
       "  'engañosa,',\n",
       "  'corruptora',\n",
       "  'y',\n",
       "  'transitoria,',\n",
       "  'llena',\n",
       "  'de',\n",
       "  'patadas',\n",
       "  'y',\n",
       "  'diversion,',\n",
       "  'pero',\n",
       "  'tan',\n",
       "  'poco',\n",
       "  'que',\n",
       "  'ver',\n",
       "  'con',\n",
       "  'lo',\n",
       "  'que',\n",
       "  'realmente',\n",
       "  'se',\n",
       "  'trata.',\n",
       "  'tiene',\n",
       "  'que',\n",
       "  'ver',\n",
       "  'con',\n",
       "  'nuestro',\n",
       "  'tiempo,',\n",
       "  'un',\n",
       "  'pacto',\n",
       "  'desesperado',\n",
       "  'sobre',\n",
       "  'el',\n",
       "  'poder',\n",
       "  'de',\n",
       "  'la',\n",
       "  'inmediatez.',\n",
       "  'pero',\n",
       "  'me',\n",
       "  'siento',\n",
       "  'cada',\n",
       "  'vez',\n",
       "  'menos',\n",
       "  'preocupado',\n",
       "  'por',\n",
       "  'esto',\n",
       "  'como',\n",
       "  'un',\n",
       "  'problema.',\n",
       "  '¿y',\n",
       "  'que?',\n",
       "  'no',\n",
       "  'hay',\n",
       "  'amenaza.'],\n",
       " ['todo',\n",
       "  'mi',\n",
       "  'trabajo',\n",
       "  'sigue',\n",
       "  'como',\n",
       "  'un',\n",
       "  'pendulo;',\n",
       "  'parece',\n",
       "  'regresar',\n",
       "  'a',\n",
       "  'algo',\n",
       "  'en',\n",
       "  'lo',\n",
       "  'que',\n",
       "  'estuve',\n",
       "  'involucrado',\n",
       "  'anteriormente,',\n",
       "  'o',\n",
       "  'se',\n",
       "  'mueve',\n",
       "  'entre',\n",
       "  'la',\n",
       "  'horizontalidad',\n",
       "  'y',\n",
       "  'la',\n",
       "  'verticalidad,',\n",
       "  'la',\n",
       "  'circularidad',\n",
       "  'o',\n",
       "  'una',\n",
       "  'combinacion',\n",
       "  'de',\n",
       "  'ellas.',\n",
       "  'para',\n",
       "  'mi,',\n",
       "  'supongo',\n",
       "  'que',\n",
       "  'el',\n",
       "  'cambio',\n",
       "  'es',\n",
       "  'la',\n",
       "  'unica',\n",
       "  'constante.'],\n",
       " ['es',\n",
       "  'mi',\n",
       "  'deber',\n",
       "  'expresar',\n",
       "  'los',\n",
       "  'sufrimientos',\n",
       "  'de',\n",
       "  'las',\n",
       "  'personas,',\n",
       "  'los',\n",
       "  'sufrimientos',\n",
       "  'que',\n",
       "  'nunca',\n",
       "  'terminan',\n",
       "  'y',\n",
       "  'que',\n",
       "  'son',\n",
       "  'tan',\n",
       "  'grandes',\n",
       "  'como',\n",
       "  'las',\n",
       "  'montañas.'],\n",
       " ['(la',\n",
       "  'performance',\n",
       "  'es',\n",
       "  'como)',\n",
       "  'el',\n",
       "  'arte',\n",
       "  'que',\n",
       "  'combina',\n",
       "  'el',\n",
       "  'tiempo',\n",
       "  'y',\n",
       "  'el',\n",
       "  'espacio',\n",
       "  'con',\n",
       "  'la',\n",
       "  'presencia',\n",
       "  'de',\n",
       "  'un',\n",
       "  'publico',\n",
       "  'que',\n",
       "  'no',\n",
       "  'es',\n",
       "  'un',\n",
       "  'mero',\n",
       "  'espectador,',\n",
       "  'sino',\n",
       "  'que',\n",
       "  'tambien',\n",
       "  'participa',\n",
       "  'de',\n",
       "  'la',\n",
       "  'accion.'],\n",
       " ['no', 'hay', 'arte', 'sin', 'transformacion.'],\n",
       " ['el',\n",
       "  'arte',\n",
       "  'nos',\n",
       "  'atrae',\n",
       "  'solamente',\n",
       "  'cuando',\n",
       "  'revela',\n",
       "  'en',\n",
       "  'nosotros',\n",
       "  'secretos.'],\n",
       " ['todo', 'arte', 'es', 'autobiografico.'],\n",
       " ['el',\n",
       "  'arte',\n",
       "  'no',\n",
       "  'cambia',\n",
       "  'nada,',\n",
       "  'el',\n",
       "  'arte',\n",
       "  'te',\n",
       "  'cambia',\n",
       "  'a',\n",
       "  'ti.'],\n",
       " ['cuando',\n",
       "  'estoy',\n",
       "  'haciendo',\n",
       "  'arte,',\n",
       "  'no',\n",
       "  'tengo',\n",
       "  'absolutamente',\n",
       "  'responsabilidad',\n",
       "  'social',\n",
       "  'alguna.',\n",
       "  'es',\n",
       "  'como',\n",
       "  'soñar.'],\n",
       " ['la',\n",
       "  'musica',\n",
       "  'es',\n",
       "  'tu',\n",
       "  'propia',\n",
       "  'experiencia,',\n",
       "  'tus',\n",
       "  'propios',\n",
       "  'pensamientos,',\n",
       "  'tu',\n",
       "  'sabiduria.',\n",
       "  'si',\n",
       "  'no',\n",
       "  'la',\n",
       "  'vives',\n",
       "  'no',\n",
       "  'va',\n",
       "  'a',\n",
       "  'salir',\n",
       "  'de',\n",
       "  'tu',\n",
       "  'cuerno.',\n",
       "  'te',\n",
       "  'dicen',\n",
       "  'que',\n",
       "  'hay',\n",
       "  'una',\n",
       "  'linea',\n",
       "  'limitadora',\n",
       "  'para',\n",
       "  'la',\n",
       "  'musica.',\n",
       "  'pero',\n",
       "  'no',\n",
       "  'hay',\n",
       "  'fronteras',\n",
       "  'para',\n",
       "  'el',\n",
       "  'arte.'],\n",
       " ['todo', 'buen', 'arte', 'es', 'una', 'indiscrecion.'],\n",
       " ['la', 'inspiracion', 'es', 'trabajar', 'todos', 'los', 'dias.'],\n",
       " ['el',\n",
       "  'arte',\n",
       "  'es',\n",
       "  'lo',\n",
       "  'que',\n",
       "  'resiste:',\n",
       "  'resiste',\n",
       "  'a',\n",
       "  'la',\n",
       "  'muerte,',\n",
       "  'a',\n",
       "  'la',\n",
       "  'servidumbre,',\n",
       "  'a',\n",
       "  'la',\n",
       "  'infamia,',\n",
       "  'a',\n",
       "  'la',\n",
       "  'verguenza.'],\n",
       " ['nada',\n",
       "  'es',\n",
       "  'mas',\n",
       "  'nocivo',\n",
       "  'para',\n",
       "  'la',\n",
       "  'creatividad',\n",
       "  'que',\n",
       "  'el',\n",
       "  'furor',\n",
       "  'de',\n",
       "  'la',\n",
       "  'inspiracion.'],\n",
       " ['el',\n",
       "  'papel',\n",
       "  'del',\n",
       "  'artista',\n",
       "  'es',\n",
       "  'hacer',\n",
       "  'preguntas,',\n",
       "  'no',\n",
       "  'responderlas.'],\n",
       " ['la', 'arquitectura', 'es', 'musica', 'congelada.'],\n",
       " ['el',\n",
       "  'hablar',\n",
       "  'de',\n",
       "  'estas',\n",
       "  'cosas',\n",
       "  'y',\n",
       "  'el',\n",
       "  'tratar',\n",
       "  'de',\n",
       "  'comprender',\n",
       "  'su',\n",
       "  'naturaleza',\n",
       "  'y,',\n",
       "  'una',\n",
       "  'vez',\n",
       "  'comprendida,',\n",
       "  'el',\n",
       "  'tratar',\n",
       "  'lentamente,',\n",
       "  'humildemente,',\n",
       "  'constantemente',\n",
       "  'de',\n",
       "  'expresar,',\n",
       "  'de',\n",
       "  'exprimir',\n",
       "  'de',\n",
       "  'nuevo,',\n",
       "  'de',\n",
       "  'la',\n",
       "  'tierra',\n",
       "  'grosera',\n",
       "  'o',\n",
       "  'de',\n",
       "  'lo',\n",
       "  'que',\n",
       "  'la',\n",
       "  'tierra',\n",
       "  'produce,',\n",
       "  'de',\n",
       "  'la',\n",
       "  'forma,',\n",
       "  'del',\n",
       "  'sonido',\n",
       "  'y',\n",
       "  'del',\n",
       "  'color',\n",
       "  '(que',\n",
       "  'son',\n",
       "  'las',\n",
       "  'puertas',\n",
       "  'de',\n",
       "  'la',\n",
       "  'carcel',\n",
       "  'del',\n",
       "  'alma)',\n",
       "  'una',\n",
       "  'imagen',\n",
       "  'de',\n",
       "  'la',\n",
       "  'belleza',\n",
       "  'que',\n",
       "  'hemos',\n",
       "  'llegado',\n",
       "  'a',\n",
       "  'comprender:',\n",
       "  'eso',\n",
       "  'es',\n",
       "  'el',\n",
       "  'arte.'],\n",
       " ['el',\n",
       "  'arte',\n",
       "  'parece',\n",
       "  'ser',\n",
       "  'el',\n",
       "  'empeño',\n",
       "  'por',\n",
       "  'descifrar',\n",
       "  'o',\n",
       "  'perseguir',\n",
       "  'la',\n",
       "  'huella',\n",
       "  'dejada',\n",
       "  'por',\n",
       "  'una',\n",
       "  'forma',\n",
       "  'perdida',\n",
       "  'de',\n",
       "  'existencia.'],\n",
       " ['la',\n",
       "  'belleza',\n",
       "  'artistica',\n",
       "  'no',\n",
       "  'consiste',\n",
       "  'en',\n",
       "  'representar',\n",
       "  'una',\n",
       "  'cosa',\n",
       "  'bella,',\n",
       "  'sino',\n",
       "  'en',\n",
       "  'la',\n",
       "  'bella',\n",
       "  'representacion',\n",
       "  'de',\n",
       "  'una',\n",
       "  'cosa.'],\n",
       " ['el',\n",
       "  'objetivo',\n",
       "  'del',\n",
       "  'arte',\n",
       "  'no',\n",
       "  'es',\n",
       "  'representar',\n",
       "  'la',\n",
       "  'apariencia',\n",
       "  'externa',\n",
       "  'de',\n",
       "  'las',\n",
       "  'cosas,',\n",
       "  'sino',\n",
       "  'su',\n",
       "  'significado',\n",
       "  'interior.'],\n",
       " ['la',\n",
       "  'observacion',\n",
       "  'de',\n",
       "  'la',\n",
       "  'naturaleza',\n",
       "  'y',\n",
       "  'la',\n",
       "  'meditacion',\n",
       "  'han',\n",
       "  'generado',\n",
       "  'el',\n",
       "  'arte.']]"
      ]
     },
     "execution_count": 62,
     "metadata": {},
     "output_type": "execute_result"
    }
   ],
   "source": [
    "# cleanning funcitons\n",
    "def quitartildes(s):\n",
    "    # -> NFD y eliminar diacríticos\n",
    "    s = re.sub(\n",
    "            r\"([^n\\u0300-\\u036f]|n(?!\\u0303(?![\\u0300-\\u036f])))[\\u0300-\\u036f]+\", r\"\\1\", \n",
    "            normalize( \"NFD\", s), 0, re.I\n",
    "        )\n",
    "\n",
    "    # -> NFCNosotros\n",
    "    return normalize( 'NFC', s)\n",
    "\n",
    "# tokenization functions\n",
    "def preprocess_sentence(sentence):\n",
    "  return quitartildes(sentence).lower().split()\n",
    "\n",
    "#tokenise al cleanins \n",
    "train_sentences = [preprocess_sentence(sent) for sent in corpus]\n",
    "train_sentences"
   ]
  },
  {
   "cell_type": "code",
   "execution_count": 63,
   "metadata": {
    "id": "MjySEbNHQskV"
   },
   "outputs": [],
   "source": [
    "verbos = set ([\"hacer\", 'pinto', 'revela', 'atrae', 'tratar', 'combina'])\n",
    "arte = set ([\"arte\", 'inspiracion', 'realidad', 'huella', 'bella', 'naturaleza'])\n",
    "palabras = set ([\"sabiduria\", 'vergüenza', 'emociones', 'amenaza', 'infamia', 'servidumbre', 'naturaleza', 'observacion'])\n",
    "\n",
    "validador = {\n",
    "    'verbos': (verbos, 1),\n",
    "    'arte': (arte, 2),\n",
    "    'palabras': (palabras, 3) \n",
    "}"
   ]
  },
  {
   "cell_type": "code",
   "execution_count": 64,
   "metadata": {},
   "outputs": [
    {
     "data": {
      "text/plain": [
       "3"
      ]
     },
     "execution_count": 64,
     "metadata": {},
     "output_type": "execute_result"
    }
   ],
   "source": [
    "def f_cat(x = 'arte'):\n",
    "    for item_ in validador.keys():\n",
    "        if x in validador[item_][0]:\n",
    "            return validador[item_][1]\n",
    "    return 0\n",
    "f_cat('vergüenza')"
   ]
  },
  {
   "cell_type": "code",
   "execution_count": 65,
   "metadata": {},
   "outputs": [
    {
     "data": {
      "text/plain": [
       "[[0, 2, 0, 0, 0, 0, 0],\n",
       " [0, 2, 0, 0, 0, 0, 0, 0, 0, 0, 0, 0, 0, 0, 0, 0, 0, 0],\n",
       " [0, 2, 0, 0, 0, 0, 0, 0, 0, 0, 0, 0, 0, 0],\n",
       " [0, 2, 0, 0, 0, 0, 0],\n",
       " [0, 0, 0, 0, 0, 0, 0, 0, 0, 0, 0, 0, 0],\n",
       " [0, 1, 0, 0, 0, 1, 0, 0, 0],\n",
       " [0, 0, 0, 0, 0, 0, 0, 0, 0],\n",
       " [0, 2, 0, 0, 0, 0, 0, 0, 0, 0, 0, 0, 0],\n",
       " [0, 0, 0, 0, 0, 0],\n",
       " [0, 0, 0, 0, 0, 0, 2, 0, 0, 0, 0, 0, 0, 0, 0, 0, 0],\n",
       " [0, 0, 2, 0, 0, 0, 0, 0, 0, 0, 0, 0, 0, 0, 0],\n",
       " [0,\n",
       "  0,\n",
       "  0,\n",
       "  0,\n",
       "  0,\n",
       "  0,\n",
       "  0,\n",
       "  0,\n",
       "  0,\n",
       "  0,\n",
       "  0,\n",
       "  0,\n",
       "  0,\n",
       "  0,\n",
       "  0,\n",
       "  0,\n",
       "  0,\n",
       "  0,\n",
       "  0,\n",
       "  0,\n",
       "  0,\n",
       "  0,\n",
       "  0,\n",
       "  0,\n",
       "  0,\n",
       "  0,\n",
       "  0,\n",
       "  0,\n",
       "  0,\n",
       "  0,\n",
       "  0,\n",
       "  0,\n",
       "  0,\n",
       "  0,\n",
       "  0,\n",
       "  0,\n",
       "  0,\n",
       "  0,\n",
       "  0],\n",
       " [0, 2, 0, 0, 0, 0, 0, 0, 0, 0, 0],\n",
       " [0,\n",
       "  0,\n",
       "  0,\n",
       "  0,\n",
       "  3,\n",
       "  0,\n",
       "  0,\n",
       "  0,\n",
       "  0,\n",
       "  0,\n",
       "  0,\n",
       "  0,\n",
       "  0,\n",
       "  0,\n",
       "  0,\n",
       "  0,\n",
       "  0,\n",
       "  0,\n",
       "  0,\n",
       "  0,\n",
       "  0,\n",
       "  0,\n",
       "  0,\n",
       "  2,\n",
       "  0,\n",
       "  0,\n",
       "  2,\n",
       "  0,\n",
       "  0,\n",
       "  0,\n",
       "  0,\n",
       "  2,\n",
       "  0,\n",
       "  0,\n",
       "  0,\n",
       "  0,\n",
       "  0,\n",
       "  0,\n",
       "  0],\n",
       " [0,\n",
       "  0,\n",
       "  0,\n",
       "  0,\n",
       "  0,\n",
       "  0,\n",
       "  0,\n",
       "  0,\n",
       "  0,\n",
       "  0,\n",
       "  0,\n",
       "  0,\n",
       "  0,\n",
       "  0,\n",
       "  0,\n",
       "  0,\n",
       "  0,\n",
       "  0,\n",
       "  0,\n",
       "  0,\n",
       "  0,\n",
       "  0,\n",
       "  0,\n",
       "  0,\n",
       "  0,\n",
       "  0,\n",
       "  0,\n",
       "  0,\n",
       "  0,\n",
       "  0,\n",
       "  0,\n",
       "  0,\n",
       "  0,\n",
       "  0,\n",
       "  0,\n",
       "  0,\n",
       "  0,\n",
       "  0,\n",
       "  0,\n",
       "  0,\n",
       "  0,\n",
       "  0,\n",
       "  0,\n",
       "  0,\n",
       "  0,\n",
       "  0,\n",
       "  0,\n",
       "  0,\n",
       "  0,\n",
       "  0,\n",
       "  0,\n",
       "  0,\n",
       "  0,\n",
       "  0,\n",
       "  0,\n",
       "  0,\n",
       "  0,\n",
       "  0,\n",
       "  0,\n",
       "  0,\n",
       "  0,\n",
       "  0,\n",
       "  0,\n",
       "  0,\n",
       "  0,\n",
       "  0,\n",
       "  0,\n",
       "  0,\n",
       "  0,\n",
       "  0,\n",
       "  0],\n",
       " [0,\n",
       "  0,\n",
       "  0,\n",
       "  0,\n",
       "  0,\n",
       "  0,\n",
       "  0,\n",
       "  0,\n",
       "  0,\n",
       "  0,\n",
       "  0,\n",
       "  0,\n",
       "  0,\n",
       "  0,\n",
       "  0,\n",
       "  0,\n",
       "  0,\n",
       "  0,\n",
       "  0,\n",
       "  0,\n",
       "  0,\n",
       "  0,\n",
       "  0,\n",
       "  0,\n",
       "  0,\n",
       "  0,\n",
       "  0,\n",
       "  0,\n",
       "  0,\n",
       "  0,\n",
       "  0,\n",
       "  0,\n",
       "  0,\n",
       "  0,\n",
       "  0,\n",
       "  0,\n",
       "  0,\n",
       "  0,\n",
       "  0,\n",
       "  0,\n",
       "  0,\n",
       "  0,\n",
       "  0],\n",
       " [0, 0, 0, 0, 0, 0, 0, 0, 0, 0, 0, 0, 0, 0, 0, 0, 0, 0, 0, 0, 0, 0],\n",
       " [0,\n",
       "  0,\n",
       "  0,\n",
       "  0,\n",
       "  0,\n",
       "  2,\n",
       "  0,\n",
       "  1,\n",
       "  0,\n",
       "  0,\n",
       "  0,\n",
       "  0,\n",
       "  0,\n",
       "  0,\n",
       "  0,\n",
       "  0,\n",
       "  0,\n",
       "  0,\n",
       "  0,\n",
       "  0,\n",
       "  0,\n",
       "  0,\n",
       "  0,\n",
       "  0,\n",
       "  0,\n",
       "  0,\n",
       "  0,\n",
       "  0,\n",
       "  0,\n",
       "  0,\n",
       "  0,\n",
       "  0],\n",
       " [0, 0, 2, 0, 0],\n",
       " [0, 2, 0, 1, 0, 0, 1, 0, 0, 0],\n",
       " [0, 2, 0, 0],\n",
       " [0, 2, 0, 0, 0, 0, 2, 0, 0, 0, 0],\n",
       " [0, 0, 0, 0, 0, 0, 0, 0, 0, 0, 0, 0, 0],\n",
       " [0,\n",
       "  0,\n",
       "  0,\n",
       "  0,\n",
       "  0,\n",
       "  0,\n",
       "  0,\n",
       "  0,\n",
       "  0,\n",
       "  0,\n",
       "  0,\n",
       "  0,\n",
       "  0,\n",
       "  0,\n",
       "  0,\n",
       "  0,\n",
       "  0,\n",
       "  0,\n",
       "  0,\n",
       "  0,\n",
       "  0,\n",
       "  0,\n",
       "  0,\n",
       "  0,\n",
       "  0,\n",
       "  0,\n",
       "  0,\n",
       "  0,\n",
       "  0,\n",
       "  0,\n",
       "  0,\n",
       "  0,\n",
       "  0,\n",
       "  0,\n",
       "  0,\n",
       "  0,\n",
       "  0,\n",
       "  0,\n",
       "  0],\n",
       " [0, 0, 2, 0, 0, 0],\n",
       " [0, 2, 0, 0, 0, 0, 0],\n",
       " [0, 2, 0, 0, 0, 0, 0, 0, 0, 0, 0, 0, 0, 0, 0, 0, 0, 0, 0],\n",
       " [0, 0, 0, 0, 0, 0, 0, 0, 0, 0, 0, 0, 0],\n",
       " [0, 0, 0, 0, 0, 1, 0, 0, 0],\n",
       " [0, 0, 0, 0, 0],\n",
       " [0,\n",
       "  0,\n",
       "  0,\n",
       "  0,\n",
       "  0,\n",
       "  0,\n",
       "  0,\n",
       "  1,\n",
       "  0,\n",
       "  0,\n",
       "  0,\n",
       "  2,\n",
       "  0,\n",
       "  0,\n",
       "  0,\n",
       "  0,\n",
       "  0,\n",
       "  1,\n",
       "  0,\n",
       "  0,\n",
       "  0,\n",
       "  0,\n",
       "  0,\n",
       "  0,\n",
       "  0,\n",
       "  0,\n",
       "  0,\n",
       "  0,\n",
       "  0,\n",
       "  0,\n",
       "  0,\n",
       "  0,\n",
       "  0,\n",
       "  0,\n",
       "  0,\n",
       "  0,\n",
       "  0,\n",
       "  0,\n",
       "  0,\n",
       "  0,\n",
       "  0,\n",
       "  0,\n",
       "  0,\n",
       "  0,\n",
       "  0,\n",
       "  0,\n",
       "  0,\n",
       "  0,\n",
       "  0,\n",
       "  0,\n",
       "  0,\n",
       "  0,\n",
       "  0,\n",
       "  0,\n",
       "  0,\n",
       "  0,\n",
       "  0,\n",
       "  0,\n",
       "  0,\n",
       "  0,\n",
       "  0,\n",
       "  0,\n",
       "  0,\n",
       "  0,\n",
       "  0,\n",
       "  0,\n",
       "  0,\n",
       "  0,\n",
       "  0],\n",
       " [0, 2, 0, 0, 0, 0, 0, 0, 0, 0, 0, 2, 0, 0, 0, 0, 0, 0, 0],\n",
       " [0, 0, 0, 0, 0, 0, 0, 0, 0, 0, 0, 0, 0, 2, 0, 0, 0, 0],\n",
       " [0, 0, 0, 2, 0, 0, 0, 0, 0, 0, 0, 0, 0, 0, 0, 0, 0],\n",
       " [0, 3, 0, 0, 2, 0, 0, 0, 0, 0, 0, 0]]"
      ]
     },
     "execution_count": 65,
     "metadata": {},
     "output_type": "execute_result"
    }
   ],
   "source": [
    "# Nuestras etiquetas de entrenamiento\n",
    "train_labels = [[f_cat(word) for word in sent] for sent in train_sentences]\n",
    "train_labels"
   ]
  },
  {
   "cell_type": "markdown",
   "metadata": {
    "id": "dQ4urW7IQskW"
   },
   "source": [
    "### Creación del vocabulario"
   ]
  },
  {
   "cell_type": "code",
   "execution_count": 66,
   "metadata": {
    "id": "SwwJ_fISQskW",
    "outputId": "2fe834c1-ea96-491b-d031-95b994f37ddf"
   },
   "outputs": [
    {
     "data": {
      "text/plain": [
       "{'(la',\n",
       " '(que',\n",
       " '[artistica].',\n",
       " 'a',\n",
       " 'absolutamente',\n",
       " 'accion.',\n",
       " 'acepto',\n",
       " 'actual',\n",
       " 'alborotador.',\n",
       " 'alcanzaras.',\n",
       " 'algo',\n",
       " 'algo,',\n",
       " 'alguien',\n",
       " 'alguna.',\n",
       " 'alma)',\n",
       " 'alrededor',\n",
       " 'amenaza.',\n",
       " 'anteriormente,',\n",
       " 'apariencia',\n",
       " 'aprende',\n",
       " 'aquello',\n",
       " 'arquitectura',\n",
       " 'arte',\n",
       " 'arte,',\n",
       " 'arte.',\n",
       " 'artes',\n",
       " 'artista',\n",
       " 'artista.',\n",
       " 'artistica',\n",
       " 'artisticas.',\n",
       " 'atrae',\n",
       " 'autobiografico.',\n",
       " 'bella',\n",
       " 'bella,',\n",
       " 'bellas',\n",
       " 'belleza',\n",
       " 'bonita',\n",
       " 'buen',\n",
       " 'cada',\n",
       " 'cambia',\n",
       " 'cambio',\n",
       " 'carcel',\n",
       " 'circularidad',\n",
       " 'color',\n",
       " 'combina',\n",
       " 'combinacion',\n",
       " 'comenzar',\n",
       " 'como',\n",
       " 'como)',\n",
       " 'comprender',\n",
       " 'comprender:',\n",
       " 'comprendida,',\n",
       " 'comunicarse',\n",
       " 'con',\n",
       " 'congelada.',\n",
       " 'consiste',\n",
       " 'constante.',\n",
       " 'constantemente',\n",
       " 'construir',\n",
       " 'cordura.',\n",
       " 'corruptora',\n",
       " 'cosa',\n",
       " 'cosa.',\n",
       " 'cosas',\n",
       " 'cosas,',\n",
       " 'costumbre',\n",
       " 'crea.',\n",
       " 'creatividad',\n",
       " 'cuando',\n",
       " 'cuerno.',\n",
       " 'de',\n",
       " 'deber',\n",
       " 'decir',\n",
       " 'decorativo',\n",
       " 'decorativo.',\n",
       " 'dejada',\n",
       " 'dejas',\n",
       " 'del',\n",
       " 'demas,',\n",
       " 'deriva',\n",
       " 'descifrar',\n",
       " 'deseo',\n",
       " 'desesperado',\n",
       " 'dias.',\n",
       " 'dicen',\n",
       " 'diversion,',\n",
       " 'donde',\n",
       " 'echar',\n",
       " 'el',\n",
       " 'ellas.',\n",
       " 'emociones',\n",
       " 'empeño',\n",
       " 'en',\n",
       " 'engañosa,',\n",
       " 'ensanchamiento',\n",
       " 'entiendo',\n",
       " 'entre',\n",
       " 'es',\n",
       " 'es,',\n",
       " 'es.',\n",
       " 'escena',\n",
       " 'eso',\n",
       " 'espacio',\n",
       " 'espectador,',\n",
       " 'esta',\n",
       " 'estan',\n",
       " 'estas',\n",
       " 'esto',\n",
       " 'estoy',\n",
       " 'estuve',\n",
       " 'existencia.',\n",
       " 'experiencia,',\n",
       " 'expresar',\n",
       " 'expresar,',\n",
       " 'exprimir',\n",
       " 'externa',\n",
       " 'forma',\n",
       " 'forma,',\n",
       " 'fronteras',\n",
       " 'furor',\n",
       " 'garantia',\n",
       " 'generado',\n",
       " 'grandes',\n",
       " 'grosera',\n",
       " 'hablar',\n",
       " 'hace',\n",
       " 'hacer',\n",
       " 'hacia',\n",
       " 'haciendo',\n",
       " 'han',\n",
       " 'hay',\n",
       " 'hemos',\n",
       " 'hombres.',\n",
       " 'horizontalidad',\n",
       " 'horizontes',\n",
       " 'huella',\n",
       " 'humildemente,',\n",
       " 'imagen',\n",
       " 'imaginaba.',\n",
       " 'indiscrecion.',\n",
       " 'infamia,',\n",
       " 'inmediatez.',\n",
       " 'inspiracion',\n",
       " 'inspiracion.',\n",
       " 'intensas,',\n",
       " 'interior.',\n",
       " 'inutil',\n",
       " 'involucrado',\n",
       " 'la',\n",
       " 'las',\n",
       " 'lentamente,',\n",
       " 'libertad.',\n",
       " 'ligado',\n",
       " 'limitadora',\n",
       " 'linea',\n",
       " 'literatura',\n",
       " 'llegado',\n",
       " 'llena',\n",
       " 'lo',\n",
       " 'los',\n",
       " 'mas',\n",
       " 'me',\n",
       " 'mediocridad.',\n",
       " 'meditacion',\n",
       " 'menos',\n",
       " 'mero',\n",
       " 'mi',\n",
       " 'mi,',\n",
       " 'miedo',\n",
       " 'misma',\n",
       " 'montañas.',\n",
       " 'muerte,',\n",
       " 'mueve',\n",
       " 'musica',\n",
       " 'musica.',\n",
       " 'muy',\n",
       " 'nada',\n",
       " 'nada,',\n",
       " 'naturaleza',\n",
       " 'no',\n",
       " 'nocivo',\n",
       " 'nos',\n",
       " 'nosotros',\n",
       " 'nuestro',\n",
       " 'nuevo,',\n",
       " 'nunca',\n",
       " 'o',\n",
       " 'objetivo',\n",
       " 'obligacion',\n",
       " 'observacion',\n",
       " 'otro.',\n",
       " 'pacto',\n",
       " 'papel',\n",
       " 'para',\n",
       " 'parece',\n",
       " 'participa',\n",
       " 'patadas',\n",
       " 'pendulo;',\n",
       " 'pensamientos,',\n",
       " 'peor',\n",
       " 'perder',\n",
       " 'perdida',\n",
       " 'perfeccion,',\n",
       " 'performance',\n",
       " 'pero',\n",
       " 'perseguir',\n",
       " 'persona',\n",
       " 'personas,',\n",
       " 'pesadillas.',\n",
       " 'pienso',\n",
       " 'pinto',\n",
       " 'poco',\n",
       " 'poder',\n",
       " 'por',\n",
       " 'posible',\n",
       " 'preguntas,',\n",
       " 'preocupado',\n",
       " 'presencia',\n",
       " 'problema.',\n",
       " 'produce,',\n",
       " 'profesional,',\n",
       " 'propia',\n",
       " 'propios',\n",
       " 'publico',\n",
       " 'puedas',\n",
       " 'puertas',\n",
       " 'que',\n",
       " 'que,',\n",
       " 'que?',\n",
       " 'queria',\n",
       " 'realidad.',\n",
       " 'realmente',\n",
       " 'reglas',\n",
       " 'regresar',\n",
       " 'representacion',\n",
       " 'representar',\n",
       " 'representativas',\n",
       " 'reproduce',\n",
       " 'resiste',\n",
       " 'resiste:',\n",
       " 'responderlas.',\n",
       " 'responsabilidad',\n",
       " 'revela',\n",
       " 'revolucion,',\n",
       " 'riguroso,',\n",
       " 'romperlas',\n",
       " 'sabiduria.',\n",
       " 'salir',\n",
       " 'se',\n",
       " 'sea',\n",
       " 'secretos.',\n",
       " 'ser',\n",
       " 'servicio',\n",
       " 'servidumbre,',\n",
       " 'si',\n",
       " 'siempre',\n",
       " 'siento',\n",
       " 'significado',\n",
       " 'sigue',\n",
       " 'silencio',\n",
       " 'sin',\n",
       " 'sino',\n",
       " 'sobre',\n",
       " 'social',\n",
       " 'sociedad',\n",
       " 'solamente',\n",
       " 'son',\n",
       " 'sonido',\n",
       " 'soñar.',\n",
       " 'su',\n",
       " 'sueños',\n",
       " 'sufrimientos',\n",
       " 'superficial,',\n",
       " 'supongo',\n",
       " 'tambien',\n",
       " 'tan',\n",
       " 'te',\n",
       " 'tengas',\n",
       " 'tengo',\n",
       " 'teorias',\n",
       " 'terminan',\n",
       " 'ti.',\n",
       " 'tiempo',\n",
       " 'tiempo,',\n",
       " 'tiene',\n",
       " 'tierra',\n",
       " 'tipo',\n",
       " 'toda',\n",
       " 'todas',\n",
       " 'todavia',\n",
       " 'todo',\n",
       " 'todos',\n",
       " 'trabajar',\n",
       " 'trabajo',\n",
       " 'transformacion.',\n",
       " 'transitoria,',\n",
       " 'trata.',\n",
       " 'tratar',\n",
       " 'tu',\n",
       " 'tus',\n",
       " 'un',\n",
       " 'una',\n",
       " 'unica',\n",
       " 'usar',\n",
       " 'utiliza',\n",
       " 'va',\n",
       " 'veces',\n",
       " 'veo',\n",
       " 'ver',\n",
       " 'verguenza.',\n",
       " 'verticalidad,',\n",
       " 'vez',\n",
       " 'visible',\n",
       " 'vives',\n",
       " 'voz',\n",
       " 'y',\n",
       " 'y,',\n",
       " 'yo',\n",
       " '¿y',\n",
       " '‘mundanalidad’'}"
      ]
     },
     "execution_count": 66,
     "metadata": {},
     "output_type": "execute_result"
    }
   ],
   "source": [
    "# Encuentra todas las palabras únicas en nuestro corpus\n",
    "vocabulary = set(w for s in train_sentences for w in s)\n",
    "vocabulary"
   ]
  },
  {
   "cell_type": "code",
   "execution_count": 67,
   "metadata": {
    "id": "39oh3ZCwQskW"
   },
   "outputs": [],
   "source": [
    "# Agrega el token desconocido a nuestro vocabulario\n",
    "vocabulary.add(\"<unk>\")"
   ]
  },
  {
   "cell_type": "code",
   "execution_count": 68,
   "metadata": {
    "id": "NNnjvOJOQskW",
    "outputId": "c49b0d02-021f-4b84-8a51-a10214ce3721"
   },
   "outputs": [
    {
     "data": {
      "text/plain": [
       "['<pad>',\n",
       " '<pad>',\n",
       " 'el',\n",
       " 'arte',\n",
       " 'es',\n",
       " 'lo',\n",
       " 'que',\n",
       " 'dejas',\n",
       " 'salir',\n",
       " '<pad>',\n",
       " '<pad>']"
      ]
     },
     "execution_count": 68,
     "metadata": {},
     "output_type": "execute_result"
    }
   ],
   "source": [
    "# Agregua el token <pad> a nuestro vocabulario para tener sentencias validas en nuestro alrededor\n",
    "vocabulary.add(\"<pad>\")\n",
    "\n",
    "# Función que rellena la oración dada\n",
    "# Estamos introduciendo esta función aquí como un ejemplo\n",
    "# Lo utilizaremos más adelante en el tutorial.\n",
    "def pad_window(sentence, window_size, pad_token=\"<pad>\"):\n",
    "  window = [pad_token] * window_size\n",
    "  return window + sentence + window\n",
    "\n",
    "# Muestra un ejemplo de relleno\n",
    "window_size = 2\n",
    "pad_window(train_sentences[0], window_size=window_size)"
   ]
  },
  {
   "cell_type": "code",
   "execution_count": 69,
   "metadata": {
    "id": "dZ4l1hglQskX",
    "outputId": "f0a11ec7-ac22-4339-d78b-4c46c0281e3e"
   },
   "outputs": [
    {
     "data": {
      "text/plain": [
       "{'(la': 0,\n",
       " '(que': 1,\n",
       " '<pad>': 2,\n",
       " '<unk>': 3,\n",
       " '[artistica].': 4,\n",
       " 'a': 5,\n",
       " 'absolutamente': 6,\n",
       " 'accion.': 7,\n",
       " 'acepto': 8,\n",
       " 'actual': 9,\n",
       " 'alborotador.': 10,\n",
       " 'alcanzaras.': 11,\n",
       " 'algo': 12,\n",
       " 'algo,': 13,\n",
       " 'alguien': 14,\n",
       " 'alguna.': 15,\n",
       " 'alma)': 16,\n",
       " 'alrededor': 17,\n",
       " 'amenaza.': 18,\n",
       " 'anteriormente,': 19,\n",
       " 'apariencia': 20,\n",
       " 'aprende': 21,\n",
       " 'aquello': 22,\n",
       " 'arquitectura': 23,\n",
       " 'arte': 24,\n",
       " 'arte,': 25,\n",
       " 'arte.': 26,\n",
       " 'artes': 27,\n",
       " 'artista': 28,\n",
       " 'artista.': 29,\n",
       " 'artistica': 30,\n",
       " 'artisticas.': 31,\n",
       " 'atrae': 32,\n",
       " 'autobiografico.': 33,\n",
       " 'bella': 34,\n",
       " 'bella,': 35,\n",
       " 'bellas': 36,\n",
       " 'belleza': 37,\n",
       " 'bonita': 38,\n",
       " 'buen': 39,\n",
       " 'cada': 40,\n",
       " 'cambia': 41,\n",
       " 'cambio': 42,\n",
       " 'carcel': 43,\n",
       " 'circularidad': 44,\n",
       " 'color': 45,\n",
       " 'combina': 46,\n",
       " 'combinacion': 47,\n",
       " 'comenzar': 48,\n",
       " 'como': 49,\n",
       " 'como)': 50,\n",
       " 'comprender': 51,\n",
       " 'comprender:': 52,\n",
       " 'comprendida,': 53,\n",
       " 'comunicarse': 54,\n",
       " 'con': 55,\n",
       " 'congelada.': 56,\n",
       " 'consiste': 57,\n",
       " 'constante.': 58,\n",
       " 'constantemente': 59,\n",
       " 'construir': 60,\n",
       " 'cordura.': 61,\n",
       " 'corruptora': 62,\n",
       " 'cosa': 63,\n",
       " 'cosa.': 64,\n",
       " 'cosas': 65,\n",
       " 'cosas,': 66,\n",
       " 'costumbre': 67,\n",
       " 'crea.': 68,\n",
       " 'creatividad': 69,\n",
       " 'cuando': 70,\n",
       " 'cuerno.': 71,\n",
       " 'de': 72,\n",
       " 'deber': 73,\n",
       " 'decir': 74,\n",
       " 'decorativo': 75,\n",
       " 'decorativo.': 76,\n",
       " 'dejada': 77,\n",
       " 'dejas': 78,\n",
       " 'del': 79,\n",
       " 'demas,': 80,\n",
       " 'deriva': 81,\n",
       " 'descifrar': 82,\n",
       " 'deseo': 83,\n",
       " 'desesperado': 84,\n",
       " 'dias.': 85,\n",
       " 'dicen': 86,\n",
       " 'diversion,': 87,\n",
       " 'donde': 88,\n",
       " 'echar': 89,\n",
       " 'el': 90,\n",
       " 'ellas.': 91,\n",
       " 'emociones': 92,\n",
       " 'empeño': 93,\n",
       " 'en': 94,\n",
       " 'engañosa,': 95,\n",
       " 'ensanchamiento': 96,\n",
       " 'entiendo': 97,\n",
       " 'entre': 98,\n",
       " 'es': 99,\n",
       " 'es,': 100,\n",
       " 'es.': 101,\n",
       " 'escena': 102,\n",
       " 'eso': 103,\n",
       " 'espacio': 104,\n",
       " 'espectador,': 105,\n",
       " 'esta': 106,\n",
       " 'estan': 107,\n",
       " 'estas': 108,\n",
       " 'esto': 109,\n",
       " 'estoy': 110,\n",
       " 'estuve': 111,\n",
       " 'existencia.': 112,\n",
       " 'experiencia,': 113,\n",
       " 'expresar': 114,\n",
       " 'expresar,': 115,\n",
       " 'exprimir': 116,\n",
       " 'externa': 117,\n",
       " 'forma': 118,\n",
       " 'forma,': 119,\n",
       " 'fronteras': 120,\n",
       " 'furor': 121,\n",
       " 'garantia': 122,\n",
       " 'generado': 123,\n",
       " 'grandes': 124,\n",
       " 'grosera': 125,\n",
       " 'hablar': 126,\n",
       " 'hace': 127,\n",
       " 'hacer': 128,\n",
       " 'hacia': 129,\n",
       " 'haciendo': 130,\n",
       " 'han': 131,\n",
       " 'hay': 132,\n",
       " 'hemos': 133,\n",
       " 'hombres.': 134,\n",
       " 'horizontalidad': 135,\n",
       " 'horizontes': 136,\n",
       " 'huella': 137,\n",
       " 'humildemente,': 138,\n",
       " 'imagen': 139,\n",
       " 'imaginaba.': 140,\n",
       " 'indiscrecion.': 141,\n",
       " 'infamia,': 142,\n",
       " 'inmediatez.': 143,\n",
       " 'inspiracion': 144,\n",
       " 'inspiracion.': 145,\n",
       " 'intensas,': 146,\n",
       " 'interior.': 147,\n",
       " 'inutil': 148,\n",
       " 'involucrado': 149,\n",
       " 'la': 150,\n",
       " 'las': 151,\n",
       " 'lentamente,': 152,\n",
       " 'libertad.': 153,\n",
       " 'ligado': 154,\n",
       " 'limitadora': 155,\n",
       " 'linea': 156,\n",
       " 'literatura': 157,\n",
       " 'llegado': 158,\n",
       " 'llena': 159,\n",
       " 'lo': 160,\n",
       " 'los': 161,\n",
       " 'mas': 162,\n",
       " 'me': 163,\n",
       " 'mediocridad.': 164,\n",
       " 'meditacion': 165,\n",
       " 'menos': 166,\n",
       " 'mero': 167,\n",
       " 'mi': 168,\n",
       " 'mi,': 169,\n",
       " 'miedo': 170,\n",
       " 'misma': 171,\n",
       " 'montañas.': 172,\n",
       " 'muerte,': 173,\n",
       " 'mueve': 174,\n",
       " 'musica': 175,\n",
       " 'musica.': 176,\n",
       " 'muy': 177,\n",
       " 'nada': 178,\n",
       " 'nada,': 179,\n",
       " 'naturaleza': 180,\n",
       " 'no': 181,\n",
       " 'nocivo': 182,\n",
       " 'nos': 183,\n",
       " 'nosotros': 184,\n",
       " 'nuestro': 185,\n",
       " 'nuevo,': 186,\n",
       " 'nunca': 187,\n",
       " 'o': 188,\n",
       " 'objetivo': 189,\n",
       " 'obligacion': 190,\n",
       " 'observacion': 191,\n",
       " 'otro.': 192,\n",
       " 'pacto': 193,\n",
       " 'papel': 194,\n",
       " 'para': 195,\n",
       " 'parece': 196,\n",
       " 'participa': 197,\n",
       " 'patadas': 198,\n",
       " 'pendulo;': 199,\n",
       " 'pensamientos,': 200,\n",
       " 'peor': 201,\n",
       " 'perder': 202,\n",
       " 'perdida': 203,\n",
       " 'perfeccion,': 204,\n",
       " 'performance': 205,\n",
       " 'pero': 206,\n",
       " 'perseguir': 207,\n",
       " 'persona': 208,\n",
       " 'personas,': 209,\n",
       " 'pesadillas.': 210,\n",
       " 'pienso': 211,\n",
       " 'pinto': 212,\n",
       " 'poco': 213,\n",
       " 'poder': 214,\n",
       " 'por': 215,\n",
       " 'posible': 216,\n",
       " 'preguntas,': 217,\n",
       " 'preocupado': 218,\n",
       " 'presencia': 219,\n",
       " 'problema.': 220,\n",
       " 'produce,': 221,\n",
       " 'profesional,': 222,\n",
       " 'propia': 223,\n",
       " 'propios': 224,\n",
       " 'publico': 225,\n",
       " 'puedas': 226,\n",
       " 'puertas': 227,\n",
       " 'que': 228,\n",
       " 'que,': 229,\n",
       " 'que?': 230,\n",
       " 'queria': 231,\n",
       " 'realidad.': 232,\n",
       " 'realmente': 233,\n",
       " 'reglas': 234,\n",
       " 'regresar': 235,\n",
       " 'representacion': 236,\n",
       " 'representar': 237,\n",
       " 'representativas': 238,\n",
       " 'reproduce': 239,\n",
       " 'resiste': 240,\n",
       " 'resiste:': 241,\n",
       " 'responderlas.': 242,\n",
       " 'responsabilidad': 243,\n",
       " 'revela': 244,\n",
       " 'revolucion,': 245,\n",
       " 'riguroso,': 246,\n",
       " 'romperlas': 247,\n",
       " 'sabiduria.': 248,\n",
       " 'salir': 249,\n",
       " 'se': 250,\n",
       " 'sea': 251,\n",
       " 'secretos.': 252,\n",
       " 'ser': 253,\n",
       " 'servicio': 254,\n",
       " 'servidumbre,': 255,\n",
       " 'si': 256,\n",
       " 'siempre': 257,\n",
       " 'siento': 258,\n",
       " 'significado': 259,\n",
       " 'sigue': 260,\n",
       " 'silencio': 261,\n",
       " 'sin': 262,\n",
       " 'sino': 263,\n",
       " 'sobre': 264,\n",
       " 'social': 265,\n",
       " 'sociedad': 266,\n",
       " 'solamente': 267,\n",
       " 'son': 268,\n",
       " 'sonido': 269,\n",
       " 'soñar.': 270,\n",
       " 'su': 271,\n",
       " 'sueños': 272,\n",
       " 'sufrimientos': 273,\n",
       " 'superficial,': 274,\n",
       " 'supongo': 275,\n",
       " 'tambien': 276,\n",
       " 'tan': 277,\n",
       " 'te': 278,\n",
       " 'tengas': 279,\n",
       " 'tengo': 280,\n",
       " 'teorias': 281,\n",
       " 'terminan': 282,\n",
       " 'ti.': 283,\n",
       " 'tiempo': 284,\n",
       " 'tiempo,': 285,\n",
       " 'tiene': 286,\n",
       " 'tierra': 287,\n",
       " 'tipo': 288,\n",
       " 'toda': 289,\n",
       " 'todas': 290,\n",
       " 'todavia': 291,\n",
       " 'todo': 292,\n",
       " 'todos': 293,\n",
       " 'trabajar': 294,\n",
       " 'trabajo': 295,\n",
       " 'transformacion.': 296,\n",
       " 'transitoria,': 297,\n",
       " 'trata.': 298,\n",
       " 'tratar': 299,\n",
       " 'tu': 300,\n",
       " 'tus': 301,\n",
       " 'un': 302,\n",
       " 'una': 303,\n",
       " 'unica': 304,\n",
       " 'usar': 305,\n",
       " 'utiliza': 306,\n",
       " 'va': 307,\n",
       " 'veces': 308,\n",
       " 'veo': 309,\n",
       " 'ver': 310,\n",
       " 'verguenza.': 311,\n",
       " 'verticalidad,': 312,\n",
       " 'vez': 313,\n",
       " 'visible': 314,\n",
       " 'vives': 315,\n",
       " 'voz': 316,\n",
       " 'y': 317,\n",
       " 'y,': 318,\n",
       " 'yo': 319,\n",
       " '¿y': 320,\n",
       " '‘mundanalidad’': 321}"
      ]
     },
     "execution_count": 69,
     "metadata": {},
     "output_type": "execute_result"
    }
   ],
   "source": [
    "ix_to_word = sorted(list(vocabulary))\n",
    "\n",
    "# Creando un diccionario para encontrar el índice de una palabra dada\n",
    "word_to_ix = {word: ind for ind, word in enumerate(ix_to_word)}\n",
    "word_to_ix"
   ]
  },
  {
   "cell_type": "markdown",
   "metadata": {
    "id": "ga9gUSuzQskX"
   },
   "source": [
    "### Token a indices"
   ]
  },
  {
   "cell_type": "code",
   "execution_count": 70,
   "metadata": {
    "id": "qSjgFSGUQskX"
   },
   "outputs": [],
   "source": [
    "### Función para convertir tokens en indices\n",
    "\n",
    "def convert_tokens_to_indices(sentence, word_to_ix):\n",
    "  return [word_to_ix.get(token, word_to_ix[\"<unk>\"]) for token in sentence]\n",
    "\n"
   ]
  },
  {
   "cell_type": "markdown",
   "metadata": {
    "id": "weZfus27QskX"
   },
   "source": [
    "### Reemplazo de palabras a indices"
   ]
  },
  {
   "cell_type": "code",
   "execution_count": 71,
   "metadata": {
    "id": "mh3Pt1UaQskX",
    "outputId": "f9464e2a-b5e2-4186-d9b3-c8b962d97009"
   },
   "outputs": [
    {
     "data": {
      "text/plain": [
       "[[90, 24, 99, 160, 228, 78, 249],\n",
       " [90,\n",
       "  24,\n",
       "  181,\n",
       "  239,\n",
       "  22,\n",
       "  228,\n",
       "  99,\n",
       "  314,\n",
       "  263,\n",
       "  228,\n",
       "  127,\n",
       "  314,\n",
       "  22,\n",
       "  228,\n",
       "  181,\n",
       "  257,\n",
       "  160,\n",
       "  101],\n",
       " [90, 24, 286, 150, 38, 67, 72, 89, 5, 202, 290, 151, 281, 31],\n",
       " [90, 24, 99, 303, 122, 72, 61],\n",
       " [21, 151, 234, 49, 302, 222, 195, 228, 226, 247, 49, 302, 29],\n",
       " [187, 212, 272, 188, 210, 212, 168, 223, 232],\n",
       " [181, 279, 170, 72, 150, 204, 187, 150, 11],\n",
       " [90, 24, 81, 72, 302, 83, 72, 150, 208, 195, 54, 55, 192],\n",
       " [90, 194, 72, 151, 27, 238],\n",
       " [231,\n",
       "  48,\n",
       "  303,\n",
       "  245,\n",
       "  305,\n",
       "  90,\n",
       "  24,\n",
       "  195,\n",
       "  60,\n",
       "  90,\n",
       "  288,\n",
       "  72,\n",
       "  266,\n",
       "  228,\n",
       "  319,\n",
       "  171,\n",
       "  140],\n",
       " [309, 90, 24, 317, 150, 157, 49, 302, 216, 96, 72, 136, 129, 150, 153],\n",
       " [97,\n",
       "  228,\n",
       "  302,\n",
       "  28,\n",
       "  99,\n",
       "  14,\n",
       "  229,\n",
       "  98,\n",
       "  90,\n",
       "  261,\n",
       "  72,\n",
       "  161,\n",
       "  80,\n",
       "  306,\n",
       "  271,\n",
       "  316,\n",
       "  195,\n",
       "  74,\n",
       "  13,\n",
       "  317,\n",
       "  228,\n",
       "  286,\n",
       "  150,\n",
       "  190,\n",
       "  228,\n",
       "  109,\n",
       "  181,\n",
       "  251,\n",
       "  12,\n",
       "  148,\n",
       "  263,\n",
       "  12,\n",
       "  228,\n",
       "  72,\n",
       "  302,\n",
       "  254,\n",
       "  5,\n",
       "  161,\n",
       "  134],\n",
       " [90, 24, 106, 154, 5, 160, 228, 291, 181, 250, 68],\n",
       " [132,\n",
       "  5,\n",
       "  185,\n",
       "  17,\n",
       "  92,\n",
       "  177,\n",
       "  36,\n",
       "  317,\n",
       "  94,\n",
       "  90,\n",
       "  25,\n",
       "  88,\n",
       "  107,\n",
       "  151,\n",
       "  162,\n",
       "  146,\n",
       "  181,\n",
       "  8,\n",
       "  150,\n",
       "  164,\n",
       "  132,\n",
       "  25,\n",
       "  181,\n",
       "  24,\n",
       "  76,\n",
       "  90,\n",
       "  24,\n",
       "  99,\n",
       "  12,\n",
       "  246,\n",
       "  90,\n",
       "  24,\n",
       "  75,\n",
       "  181,\n",
       "  160,\n",
       "  100,\n",
       "  99,\n",
       "  274,\n",
       "  10],\n",
       " [5,\n",
       "  308,\n",
       "  211,\n",
       "  228,\n",
       "  160,\n",
       "  201,\n",
       "  99,\n",
       "  150,\n",
       "  9,\n",
       "  321,\n",
       "  72,\n",
       "  289,\n",
       "  150,\n",
       "  102,\n",
       "  4,\n",
       "  99,\n",
       "  150,\n",
       "  63,\n",
       "  162,\n",
       "  95,\n",
       "  62,\n",
       "  317,\n",
       "  297,\n",
       "  159,\n",
       "  72,\n",
       "  198,\n",
       "  317,\n",
       "  87,\n",
       "  206,\n",
       "  277,\n",
       "  213,\n",
       "  228,\n",
       "  310,\n",
       "  55,\n",
       "  160,\n",
       "  228,\n",
       "  233,\n",
       "  250,\n",
       "  298,\n",
       "  286,\n",
       "  228,\n",
       "  310,\n",
       "  55,\n",
       "  185,\n",
       "  285,\n",
       "  302,\n",
       "  193,\n",
       "  84,\n",
       "  264,\n",
       "  90,\n",
       "  214,\n",
       "  72,\n",
       "  150,\n",
       "  143,\n",
       "  206,\n",
       "  163,\n",
       "  258,\n",
       "  40,\n",
       "  313,\n",
       "  166,\n",
       "  218,\n",
       "  215,\n",
       "  109,\n",
       "  49,\n",
       "  302,\n",
       "  220,\n",
       "  320,\n",
       "  230,\n",
       "  181,\n",
       "  132,\n",
       "  18],\n",
       " [292,\n",
       "  168,\n",
       "  295,\n",
       "  260,\n",
       "  49,\n",
       "  302,\n",
       "  199,\n",
       "  196,\n",
       "  235,\n",
       "  5,\n",
       "  12,\n",
       "  94,\n",
       "  160,\n",
       "  228,\n",
       "  111,\n",
       "  149,\n",
       "  19,\n",
       "  188,\n",
       "  250,\n",
       "  174,\n",
       "  98,\n",
       "  150,\n",
       "  135,\n",
       "  317,\n",
       "  150,\n",
       "  312,\n",
       "  150,\n",
       "  44,\n",
       "  188,\n",
       "  303,\n",
       "  47,\n",
       "  72,\n",
       "  91,\n",
       "  195,\n",
       "  169,\n",
       "  275,\n",
       "  228,\n",
       "  90,\n",
       "  42,\n",
       "  99,\n",
       "  150,\n",
       "  304,\n",
       "  58],\n",
       " [99,\n",
       "  168,\n",
       "  73,\n",
       "  114,\n",
       "  161,\n",
       "  273,\n",
       "  72,\n",
       "  151,\n",
       "  209,\n",
       "  161,\n",
       "  273,\n",
       "  228,\n",
       "  187,\n",
       "  282,\n",
       "  317,\n",
       "  228,\n",
       "  268,\n",
       "  277,\n",
       "  124,\n",
       "  49,\n",
       "  151,\n",
       "  172],\n",
       " [0,\n",
       "  205,\n",
       "  99,\n",
       "  50,\n",
       "  90,\n",
       "  24,\n",
       "  228,\n",
       "  46,\n",
       "  90,\n",
       "  284,\n",
       "  317,\n",
       "  90,\n",
       "  104,\n",
       "  55,\n",
       "  150,\n",
       "  219,\n",
       "  72,\n",
       "  302,\n",
       "  225,\n",
       "  228,\n",
       "  181,\n",
       "  99,\n",
       "  302,\n",
       "  167,\n",
       "  105,\n",
       "  263,\n",
       "  228,\n",
       "  276,\n",
       "  197,\n",
       "  72,\n",
       "  150,\n",
       "  7],\n",
       " [181, 132, 24, 262, 296],\n",
       " [90, 24, 183, 32, 267, 70, 244, 94, 184, 252],\n",
       " [292, 24, 99, 33],\n",
       " [90, 24, 181, 41, 179, 90, 24, 278, 41, 5, 283],\n",
       " [70, 110, 130, 25, 181, 280, 6, 243, 265, 15, 99, 49, 270],\n",
       " [150,\n",
       "  175,\n",
       "  99,\n",
       "  300,\n",
       "  223,\n",
       "  113,\n",
       "  301,\n",
       "  224,\n",
       "  200,\n",
       "  300,\n",
       "  248,\n",
       "  256,\n",
       "  181,\n",
       "  150,\n",
       "  315,\n",
       "  181,\n",
       "  307,\n",
       "  5,\n",
       "  249,\n",
       "  72,\n",
       "  300,\n",
       "  71,\n",
       "  278,\n",
       "  86,\n",
       "  228,\n",
       "  132,\n",
       "  303,\n",
       "  156,\n",
       "  155,\n",
       "  195,\n",
       "  150,\n",
       "  176,\n",
       "  206,\n",
       "  181,\n",
       "  132,\n",
       "  120,\n",
       "  195,\n",
       "  90,\n",
       "  26],\n",
       " [292, 39, 24, 99, 303, 141],\n",
       " [150, 144, 99, 294, 293, 161, 85],\n",
       " [90,\n",
       "  24,\n",
       "  99,\n",
       "  160,\n",
       "  228,\n",
       "  241,\n",
       "  240,\n",
       "  5,\n",
       "  150,\n",
       "  173,\n",
       "  5,\n",
       "  150,\n",
       "  255,\n",
       "  5,\n",
       "  150,\n",
       "  142,\n",
       "  5,\n",
       "  150,\n",
       "  311],\n",
       " [178, 99, 162, 182, 195, 150, 69, 228, 90, 121, 72, 150, 145],\n",
       " [90, 194, 79, 28, 99, 128, 217, 181, 242],\n",
       " [150, 23, 99, 175, 56],\n",
       " [90,\n",
       "  126,\n",
       "  72,\n",
       "  108,\n",
       "  65,\n",
       "  317,\n",
       "  90,\n",
       "  299,\n",
       "  72,\n",
       "  51,\n",
       "  271,\n",
       "  180,\n",
       "  318,\n",
       "  303,\n",
       "  313,\n",
       "  53,\n",
       "  90,\n",
       "  299,\n",
       "  152,\n",
       "  138,\n",
       "  59,\n",
       "  72,\n",
       "  115,\n",
       "  72,\n",
       "  116,\n",
       "  72,\n",
       "  186,\n",
       "  72,\n",
       "  150,\n",
       "  287,\n",
       "  125,\n",
       "  188,\n",
       "  72,\n",
       "  160,\n",
       "  228,\n",
       "  150,\n",
       "  287,\n",
       "  221,\n",
       "  72,\n",
       "  150,\n",
       "  119,\n",
       "  79,\n",
       "  269,\n",
       "  317,\n",
       "  79,\n",
       "  45,\n",
       "  1,\n",
       "  268,\n",
       "  151,\n",
       "  227,\n",
       "  72,\n",
       "  150,\n",
       "  43,\n",
       "  79,\n",
       "  16,\n",
       "  303,\n",
       "  139,\n",
       "  72,\n",
       "  150,\n",
       "  37,\n",
       "  228,\n",
       "  133,\n",
       "  158,\n",
       "  5,\n",
       "  52,\n",
       "  103,\n",
       "  99,\n",
       "  90,\n",
       "  26],\n",
       " [90,\n",
       "  24,\n",
       "  196,\n",
       "  253,\n",
       "  90,\n",
       "  93,\n",
       "  215,\n",
       "  82,\n",
       "  188,\n",
       "  207,\n",
       "  150,\n",
       "  137,\n",
       "  77,\n",
       "  215,\n",
       "  303,\n",
       "  118,\n",
       "  203,\n",
       "  72,\n",
       "  112],\n",
       " [150,\n",
       "  37,\n",
       "  30,\n",
       "  181,\n",
       "  57,\n",
       "  94,\n",
       "  237,\n",
       "  303,\n",
       "  63,\n",
       "  35,\n",
       "  263,\n",
       "  94,\n",
       "  150,\n",
       "  34,\n",
       "  236,\n",
       "  72,\n",
       "  303,\n",
       "  64],\n",
       " [90,\n",
       "  189,\n",
       "  79,\n",
       "  24,\n",
       "  181,\n",
       "  99,\n",
       "  237,\n",
       "  150,\n",
       "  20,\n",
       "  117,\n",
       "  72,\n",
       "  151,\n",
       "  66,\n",
       "  263,\n",
       "  271,\n",
       "  259,\n",
       "  147],\n",
       " [150, 191, 72, 150, 180, 317, 150, 165, 131, 123, 90, 26]]"
      ]
     },
     "execution_count": 71,
     "metadata": {},
     "output_type": "execute_result"
    }
   ],
   "source": [
    "# Convirtiendo nuestras sentencias a indices\n",
    "import torch\n",
    "import torch.nn as nn\n",
    "import torch.nn.functional as F\n",
    "example_padded_indices = [convert_token_to_indices(s, word_to_ix) for s in train_sentences]\n",
    "\n",
    "example_padded_indices"
   ]
  },
  {
   "cell_type": "code",
   "execution_count": 72,
   "metadata": {
    "id": "3r25cs3oQskX",
    "outputId": "dbb48bd8-7569-4bc9-89f9-b15959ad7213"
   },
   "outputs": [
    {
     "data": {
      "text/plain": [
       "[Parameter containing:\n",
       " tensor([[-1.5256, -0.7502, -0.6540, -1.6095],\n",
       "         [-0.1002, -0.6092, -0.9798, -1.6091],\n",
       "         [-0.7121,  0.3037, -0.7773, -0.2515],\n",
       "         ...,\n",
       "         [-1.6363, -1.0782, -0.6049, -0.8409],\n",
       "         [ 0.2039, -0.4010, -0.5088,  1.3090],\n",
       "         [ 1.0709,  0.2065, -1.0187, -2.0848]], requires_grad=True)]"
      ]
     },
     "execution_count": 72,
     "metadata": {},
     "output_type": "execute_result"
    }
   ],
   "source": [
    "###### Representamos en vectores de 4 dimensiones\n",
    "# Elegimos 4 debido a que solamente elegimos 4 categorias al inicio.\n",
    "# fijo semilla\n",
    "torch.manual_seed(1)\n",
    "embedding_dim = 4\n",
    "embeds = nn.Embedding(len(vocabulary), embedding_dim)\n",
    "\n",
    "# Imprimiendo los parámetros en nuestra tabla de embedding\n",
    "list(embeds.parameters())"
   ]
  },
  {
   "cell_type": "markdown",
   "metadata": {
    "id": "5s49eGEcQskY"
   },
   "source": [
    "### Definición del dataloader"
   ]
  },
  {
   "cell_type": "code",
   "execution_count": 73,
   "metadata": {
    "id": "gdPzSyHRQskY"
   },
   "outputs": [],
   "source": [
    "from torch.utils.data import DataLoader\n",
    "from functools import partial\n",
    "\n",
    "def custom_collate_fn(batch, window_size, word_to_ix):\n",
    "  # preparando los puntos de datos\n",
    "  x, y = zip(*batch)  # Zip maneja dos dimenciones en simultaneo.\n",
    "  x = [pad_window(s, window_size=window_size) for s in x]\n",
    "  x = [convert_tokens_to_indices(s, word_to_ix) for s in x]\n",
    "\n",
    "  # rellena x tal que todas las muestras en el batch tengan el mismo tamano\n",
    "  pad_token_ix = word_to_ix[\"<pad>\"]\n",
    "  x = [torch.LongTensor(x_i) for x_i in x]\n",
    "  x_padded = nn.utils.rnn.pad_sequence(x, batch_first=True, padding_value=pad_token_ix)\n",
    "\n",
    "  # Rellena \"y\" y guarda la longitud\n",
    "  lengths = [len(label) for label in y]\n",
    "  lenghts = torch.LongTensor(lengths)\n",
    "  y = [torch.LongTensor(y_i) for y_i in y]\n",
    "  y_padded = nn.utils.rnn.pad_sequence(y, batch_first=True, padding_value=0)\n",
    "\n",
    "  return x_padded, y_padded, lenghts  "
   ]
  },
  {
   "cell_type": "code",
   "execution_count": 74,
   "metadata": {
    "id": "tyuTB_uBQskY",
    "outputId": "26163632-2b6a-46b4-fb71-08cf79d225c8"
   },
   "outputs": [
    {
     "name": "stdout",
     "output_type": "stream",
     "text": [
      "Iteration 0\n",
      "Batched Input:\n",
      "tensor([[  2,   2,  90,  24, 181, 239,  22, 228,  99, 314, 263, 228, 127, 314,\n",
      "          22, 228, 181, 257, 160, 101,   2,   2,   2],\n",
      "        [  2,   2,  90,  24, 196, 253,  90,  93, 215,  82, 188, 207, 150, 137,\n",
      "          77, 215, 303, 118, 203,  72, 112,   2,   2]])\n",
      "Batched Labels:\n",
      "tensor([[0, 2, 0, 0, 0, 0, 0, 0, 0, 0, 0, 0, 0, 0, 0, 0, 0, 0, 0],\n",
      "        [0, 2, 0, 0, 0, 0, 0, 0, 0, 0, 0, 2, 0, 0, 0, 0, 0, 0, 0]])\n",
      "Batched Lengths:\n",
      "tensor([18, 19])\n",
      "\n",
      "Iteration 1\n",
      "Batched Input:\n",
      "tensor([[  2,   2, 132,   5, 185,  17,  92, 177,  36, 317,  94,  90,  25,  88,\n",
      "         107, 151, 162, 146, 181,   8, 150, 164, 132,  25, 181,  24,  76,  90,\n",
      "          24,  99,  12, 246,  90,  24,  75, 181, 160, 100,  99, 274,  10,   2,\n",
      "           2],\n",
      "        [  2,   2,  90,  24, 286, 150,  38,  67,  72,  89,   5, 202, 290, 151,\n",
      "         281,  31,   2,   2,   2,   2,   2,   2,   2,   2,   2,   2,   2,   2,\n",
      "           2,   2,   2,   2,   2,   2,   2,   2,   2,   2,   2,   2,   2,   2,\n",
      "           2]])\n",
      "Batched Labels:\n",
      "tensor([[0, 0, 0, 0, 3, 0, 0, 0, 0, 0, 0, 0, 0, 0, 0, 0, 0, 0, 0, 0, 0, 0, 0, 2,\n",
      "         0, 0, 2, 0, 0, 0, 0, 2, 0, 0, 0, 0, 0, 0, 0],\n",
      "        [0, 2, 0, 0, 0, 0, 0, 0, 0, 0, 0, 0, 0, 0, 0, 0, 0, 0, 0, 0, 0, 0, 0, 0,\n",
      "         0, 0, 0, 0, 0, 0, 0, 0, 0, 0, 0, 0, 0, 0, 0]])\n",
      "Batched Lengths:\n",
      "tensor([39, 14])\n",
      "\n",
      "Iteration 2\n",
      "Batched Input:\n",
      "tensor([[  2,   2,  90, 194,  79,  28,  99, 128, 217, 181, 242,   2,   2],\n",
      "        [  2,   2, 292,  24,  99,  33,   2,   2,   2,   2,   2,   2,   2]])\n",
      "Batched Labels:\n",
      "tensor([[0, 0, 0, 0, 0, 1, 0, 0, 0],\n",
      "        [0, 2, 0, 0, 0, 0, 0, 0, 0]])\n",
      "Batched Lengths:\n",
      "tensor([9, 4])\n",
      "\n",
      "Iteration 3\n",
      "Batched Input:\n",
      "tensor([[  2,   2, 150,  23,  99, 175,  56,   2,   2,   2,   2],\n",
      "        [  2,   2,  90,  24,  99, 303, 122,  72,  61,   2,   2]])\n",
      "Batched Labels:\n",
      "tensor([[0, 0, 0, 0, 0, 0, 0],\n",
      "        [0, 2, 0, 0, 0, 0, 0]])\n",
      "Batched Lengths:\n",
      "tensor([5, 7])\n",
      "\n",
      "Iteration 4\n",
      "Batched Input:\n",
      "tensor([[  2,   2, 150, 144,  99, 294, 293, 161,  85,   2,   2,   2,   2,   2,\n",
      "           2,   2,   2,   2,   2,   2,   2,   2,   2,   2,   2,   2,   2,   2,\n",
      "           2,   2,   2,   2,   2,   2,   2,   2,   2,   2,   2,   2,   2,   2,\n",
      "           2],\n",
      "        [  2,   2,  97, 228, 302,  28,  99,  14, 229,  98,  90, 261,  72, 161,\n",
      "          80, 306, 271, 316, 195,  74,  13, 317, 228, 286, 150, 190, 228, 109,\n",
      "         181, 251,  12, 148, 263,  12, 228,  72, 302, 254,   5, 161, 134,   2,\n",
      "           2]])\n",
      "Batched Labels:\n",
      "tensor([[0, 2, 0, 0, 0, 0, 0, 0, 0, 0, 0, 0, 0, 0, 0, 0, 0, 0, 0, 0, 0, 0, 0, 0,\n",
      "         0, 0, 0, 0, 0, 0, 0, 0, 0, 0, 0, 0, 0, 0, 0],\n",
      "        [0, 0, 0, 0, 0, 0, 0, 0, 0, 0, 0, 0, 0, 0, 0, 0, 0, 0, 0, 0, 0, 0, 0, 0,\n",
      "         0, 0, 0, 0, 0, 0, 0, 0, 0, 0, 0, 0, 0, 0, 0]])\n",
      "Batched Lengths:\n",
      "tensor([ 7, 39])\n",
      "\n",
      "Iteration 5\n",
      "Batched Input:\n",
      "tensor([[  2,   2,   5, 308, 211, 228, 160, 201,  99, 150,   9, 321,  72, 289,\n",
      "         150, 102,   4,  99, 150,  63, 162,  95,  62, 317, 297, 159,  72, 198,\n",
      "         317,  87, 206, 277, 213, 228, 310,  55, 160, 228, 233, 250, 298, 286,\n",
      "         228, 310,  55, 185, 285, 302, 193,  84, 264,  90, 214,  72, 150, 143,\n",
      "         206, 163, 258,  40, 313, 166, 218, 215, 109,  49, 302, 220, 320, 230,\n",
      "         181, 132,  18,   2,   2],\n",
      "        [  2,   2,   0, 205,  99,  50,  90,  24, 228,  46,  90, 284, 317,  90,\n",
      "         104,  55, 150, 219,  72, 302, 225, 228, 181,  99, 302, 167, 105, 263,\n",
      "         228, 276, 197,  72, 150,   7,   2,   2,   2,   2,   2,   2,   2,   2,\n",
      "           2,   2,   2,   2,   2,   2,   2,   2,   2,   2,   2,   2,   2,   2,\n",
      "           2,   2,   2,   2,   2,   2,   2,   2,   2,   2,   2,   2,   2,   2,\n",
      "           2,   2,   2,   2,   2]])\n",
      "Batched Labels:\n",
      "tensor([[0, 0, 0, 0, 0, 0, 0, 0, 0, 0, 0, 0, 0, 0, 0, 0, 0, 0, 0, 0, 0, 0, 0, 0,\n",
      "         0, 0, 0, 0, 0, 0, 0, 0, 0, 0, 0, 0, 0, 0, 0, 0, 0, 0, 0, 0, 0, 0, 0, 0,\n",
      "         0, 0, 0, 0, 0, 0, 0, 0, 0, 0, 0, 0, 0, 0, 0, 0, 0, 0, 0, 0, 0, 0, 0],\n",
      "        [0, 0, 0, 0, 0, 2, 0, 1, 0, 0, 0, 0, 0, 0, 0, 0, 0, 0, 0, 0, 0, 0, 0, 0,\n",
      "         0, 0, 0, 0, 0, 0, 0, 0, 0, 0, 0, 0, 0, 0, 0, 0, 0, 0, 0, 0, 0, 0, 0, 0,\n",
      "         0, 0, 0, 0, 0, 0, 0, 0, 0, 0, 0, 0, 0, 0, 0, 0, 0, 0, 0, 0, 0, 0, 0]])\n",
      "Batched Lengths:\n",
      "tensor([71, 32])\n",
      "\n",
      "Iteration 6\n",
      "Batched Input:\n",
      "tensor([[  2,   2, 309,  90,  24, 317, 150, 157,  49, 302, 216,  96,  72, 136,\n",
      "         129, 150, 153,   2,   2],\n",
      "        [  2,   2,  21, 151, 234,  49, 302, 222, 195, 228, 226, 247,  49, 302,\n",
      "          29,   2,   2,   2,   2]])\n",
      "Batched Labels:\n",
      "tensor([[0, 0, 2, 0, 0, 0, 0, 0, 0, 0, 0, 0, 0, 0, 0],\n",
      "        [0, 0, 0, 0, 0, 0, 0, 0, 0, 0, 0, 0, 0, 0, 0]])\n",
      "Batched Lengths:\n",
      "tensor([15, 13])\n",
      "\n",
      "Iteration 7\n",
      "Batched Input:\n",
      "tensor([[  2,   2,  90, 194,  72, 151,  27, 238,   2,   2,   2,   2,   2,   2,\n",
      "           2,   2,   2,   2,   2,   2,   2,   2],\n",
      "        [  2,   2, 150,  37,  30, 181,  57,  94, 237, 303,  63,  35, 263,  94,\n",
      "         150,  34, 236,  72, 303,  64,   2,   2]])\n",
      "Batched Labels:\n",
      "tensor([[0, 0, 0, 0, 0, 0, 0, 0, 0, 0, 0, 0, 0, 0, 0, 0, 0, 0],\n",
      "        [0, 0, 0, 0, 0, 0, 0, 0, 0, 0, 0, 0, 0, 2, 0, 0, 0, 0]])\n",
      "Batched Lengths:\n",
      "tensor([ 6, 18])\n",
      "\n",
      "Iteration 8\n",
      "Batched Input:\n",
      "tensor([[  2,   2, 292, 168, 295, 260,  49, 302, 199, 196, 235,   5,  12,  94,\n",
      "         160, 228, 111, 149,  19, 188, 250, 174,  98, 150, 135, 317, 150, 312,\n",
      "         150,  44, 188, 303,  47,  72,  91, 195, 169, 275, 228,  90,  42,  99,\n",
      "         150, 304,  58,   2,   2],\n",
      "        [  2,   2,  99, 168,  73, 114, 161, 273,  72, 151, 209, 161, 273, 228,\n",
      "         187, 282, 317, 228, 268, 277, 124,  49, 151, 172,   2,   2,   2,   2,\n",
      "           2,   2,   2,   2,   2,   2,   2,   2,   2,   2,   2,   2,   2,   2,\n",
      "           2,   2,   2,   2,   2]])\n",
      "Batched Labels:\n",
      "tensor([[0, 0, 0, 0, 0, 0, 0, 0, 0, 0, 0, 0, 0, 0, 0, 0, 0, 0, 0, 0, 0, 0, 0, 0,\n",
      "         0, 0, 0, 0, 0, 0, 0, 0, 0, 0, 0, 0, 0, 0, 0, 0, 0, 0, 0],\n",
      "        [0, 0, 0, 0, 0, 0, 0, 0, 0, 0, 0, 0, 0, 0, 0, 0, 0, 0, 0, 0, 0, 0, 0, 0,\n",
      "         0, 0, 0, 0, 0, 0, 0, 0, 0, 0, 0, 0, 0, 0, 0, 0, 0, 0, 0]])\n",
      "Batched Lengths:\n",
      "tensor([43, 22])\n",
      "\n",
      "Iteration 9\n",
      "Batched Input:\n",
      "tensor([[  2,   2,  90, 126,  72, 108,  65, 317,  90, 299,  72,  51, 271, 180,\n",
      "         318, 303, 313,  53,  90, 299, 152, 138,  59,  72, 115,  72, 116,  72,\n",
      "         186,  72, 150, 287, 125, 188,  72, 160, 228, 150, 287, 221,  72, 150,\n",
      "         119,  79, 269, 317,  79,  45,   1, 268, 151, 227,  72, 150,  43,  79,\n",
      "          16, 303, 139,  72, 150,  37, 228, 133, 158,   5,  52, 103,  99,  90,\n",
      "          26,   2,   2],\n",
      "        [  2,   2,  90,  24, 183,  32, 267,  70, 244,  94, 184, 252,   2,   2,\n",
      "           2,   2,   2,   2,   2,   2,   2,   2,   2,   2,   2,   2,   2,   2,\n",
      "           2,   2,   2,   2,   2,   2,   2,   2,   2,   2,   2,   2,   2,   2,\n",
      "           2,   2,   2,   2,   2,   2,   2,   2,   2,   2,   2,   2,   2,   2,\n",
      "           2,   2,   2,   2,   2,   2,   2,   2,   2,   2,   2,   2,   2,   2,\n",
      "           2,   2,   2]])\n",
      "Batched Labels:\n",
      "tensor([[0, 0, 0, 0, 0, 0, 0, 1, 0, 0, 0, 2, 0, 0, 0, 0, 0, 1, 0, 0, 0, 0, 0, 0,\n",
      "         0, 0, 0, 0, 0, 0, 0, 0, 0, 0, 0, 0, 0, 0, 0, 0, 0, 0, 0, 0, 0, 0, 0, 0,\n",
      "         0, 0, 0, 0, 0, 0, 0, 0, 0, 0, 0, 0, 0, 0, 0, 0, 0, 0, 0, 0, 0],\n",
      "        [0, 2, 0, 1, 0, 0, 1, 0, 0, 0, 0, 0, 0, 0, 0, 0, 0, 0, 0, 0, 0, 0, 0, 0,\n",
      "         0, 0, 0, 0, 0, 0, 0, 0, 0, 0, 0, 0, 0, 0, 0, 0, 0, 0, 0, 0, 0, 0, 0, 0,\n",
      "         0, 0, 0, 0, 0, 0, 0, 0, 0, 0, 0, 0, 0, 0, 0, 0, 0, 0, 0, 0, 0]])\n",
      "Batched Lengths:\n",
      "tensor([69, 10])\n",
      "\n",
      "Iteration 10\n",
      "Batched Input:\n",
      "tensor([[  2,   2, 178,  99, 162, 182, 195, 150,  69, 228,  90, 121,  72, 150,\n",
      "         145,   2,   2],\n",
      "        [  2,   2, 150, 191,  72, 150, 180, 317, 150, 165, 131, 123,  90,  26,\n",
      "           2,   2,   2]])\n",
      "Batched Labels:\n",
      "tensor([[0, 0, 0, 0, 0, 0, 0, 0, 0, 0, 0, 0, 0],\n",
      "        [0, 3, 0, 0, 2, 0, 0, 0, 0, 0, 0, 0, 0]])\n",
      "Batched Lengths:\n",
      "tensor([13, 12])\n",
      "\n",
      "Iteration 11\n",
      "Batched Input:\n",
      "tensor([[  2,   2,  90,  24,  99, 160, 228,  78, 249,   2,   2,   2,   2,   2,\n",
      "           2,   2,   2,   2,   2,   2,   2,   2,   2],\n",
      "        [  2,   2,  90,  24,  99, 160, 228, 241, 240,   5, 150, 173,   5, 150,\n",
      "         255,   5, 150, 142,   5, 150, 311,   2,   2]])\n",
      "Batched Labels:\n",
      "tensor([[0, 2, 0, 0, 0, 0, 0, 0, 0, 0, 0, 0, 0, 0, 0, 0, 0, 0, 0],\n",
      "        [0, 2, 0, 0, 0, 0, 0, 0, 0, 0, 0, 0, 0, 0, 0, 0, 0, 0, 0]])\n",
      "Batched Lengths:\n",
      "tensor([ 7, 19])\n",
      "\n",
      "Iteration 12\n",
      "Batched Input:\n",
      "tensor([[  2,   2,  90, 189,  79,  24, 181,  99, 237, 150,  20, 117,  72, 151,\n",
      "          66, 263, 271, 259, 147,   2,   2],\n",
      "        [  2,   2,  90,  24,  81,  72, 302,  83,  72, 150, 208, 195,  54,  55,\n",
      "         192,   2,   2,   2,   2,   2,   2]])\n",
      "Batched Labels:\n",
      "tensor([[0, 0, 0, 2, 0, 0, 0, 0, 0, 0, 0, 0, 0, 0, 0, 0, 0],\n",
      "        [0, 2, 0, 0, 0, 0, 0, 0, 0, 0, 0, 0, 0, 0, 0, 0, 0]])\n",
      "Batched Lengths:\n",
      "tensor([17, 13])\n",
      "\n",
      "Iteration 13\n",
      "Batched Input:\n",
      "tensor([[  2,   2, 150, 175,  99, 300, 223, 113, 301, 224, 200, 300, 248, 256,\n",
      "         181, 150, 315, 181, 307,   5, 249,  72, 300,  71, 278,  86, 228, 132,\n",
      "         303, 156, 155, 195, 150, 176, 206, 181, 132, 120, 195,  90,  26,   2,\n",
      "           2],\n",
      "        [  2,   2,  90,  24, 106, 154,   5, 160, 228, 291, 181, 250,  68,   2,\n",
      "           2,   2,   2,   2,   2,   2,   2,   2,   2,   2,   2,   2,   2,   2,\n",
      "           2,   2,   2,   2,   2,   2,   2,   2,   2,   2,   2,   2,   2,   2,\n",
      "           2]])\n",
      "Batched Labels:\n",
      "tensor([[0, 0, 0, 0, 0, 0, 0, 0, 0, 0, 0, 0, 0, 0, 0, 0, 0, 0, 0, 0, 0, 0, 0, 0,\n",
      "         0, 0, 0, 0, 0, 0, 0, 0, 0, 0, 0, 0, 0, 0, 0],\n",
      "        [0, 2, 0, 0, 0, 0, 0, 0, 0, 0, 0, 0, 0, 0, 0, 0, 0, 0, 0, 0, 0, 0, 0, 0,\n",
      "         0, 0, 0, 0, 0, 0, 0, 0, 0, 0, 0, 0, 0, 0, 0]])\n",
      "Batched Lengths:\n",
      "tensor([39, 11])\n",
      "\n",
      "Iteration 14\n",
      "Batched Input:\n",
      "tensor([[  2,   2, 292,  39,  24,  99, 303, 141,   2,   2,   2,   2,   2,   2,\n",
      "           2,   2,   2,   2,   2,   2,   2],\n",
      "        [  2,   2, 231,  48, 303, 245, 305,  90,  24, 195,  60,  90, 288,  72,\n",
      "         266, 228, 319, 171, 140,   2,   2]])\n",
      "Batched Labels:\n",
      "tensor([[0, 0, 2, 0, 0, 0, 0, 0, 0, 0, 0, 0, 0, 0, 0, 0, 0],\n",
      "        [0, 0, 0, 0, 0, 0, 2, 0, 0, 0, 0, 0, 0, 0, 0, 0, 0]])\n",
      "Batched Lengths:\n",
      "tensor([ 6, 17])\n",
      "\n",
      "Iteration 15\n",
      "Batched Input:\n",
      "tensor([[  2,   2, 181, 132,  24, 262, 296,   2,   2,   2,   2,   2,   2],\n",
      "        [  2,   2, 181, 279, 170,  72, 150, 204, 187, 150,  11,   2,   2]])\n",
      "Batched Labels:\n",
      "tensor([[0, 0, 2, 0, 0, 0, 0, 0, 0],\n",
      "        [0, 0, 0, 0, 0, 0, 0, 0, 0]])\n",
      "Batched Lengths:\n",
      "tensor([5, 9])\n",
      "\n",
      "Iteration 16\n",
      "Batched Input:\n",
      "tensor([[  2,   2,  90,  24, 181,  41, 179,  90,  24, 278,  41,   5, 283,   2,\n",
      "           2],\n",
      "        [  2,   2, 187, 212, 272, 188, 210, 212, 168, 223, 232,   2,   2,   2,\n",
      "           2]])\n",
      "Batched Labels:\n",
      "tensor([[0, 2, 0, 0, 0, 0, 2, 0, 0, 0, 0],\n",
      "        [0, 1, 0, 0, 0, 1, 0, 0, 0, 0, 0]])\n",
      "Batched Lengths:\n",
      "tensor([11,  9])\n",
      "\n",
      "Iteration 17\n",
      "Batched Input:\n",
      "tensor([[  2,   2,  70, 110, 130,  25, 181, 280,   6, 243, 265,  15,  99,  49,\n",
      "         270,   2,   2]])\n",
      "Batched Labels:\n",
      "tensor([[0, 0, 0, 0, 0, 0, 0, 0, 0, 0, 0, 0, 0]])\n",
      "Batched Lengths:\n",
      "tensor([13])\n",
      "\n"
     ]
    }
   ],
   "source": [
    "## inicializando DATALOADER\n",
    "#Parámetros a pasar al DataLoader\n",
    "from functools import partial\n",
    "data = list(zip(train_sentences, train_labels))\n",
    "batch_size = 2\n",
    "shuffle = True\n",
    "window_size = 2\n",
    "collate_fn = partial(custom_collate_fn, window_size=window_size, word_to_ix=word_to_ix)\n",
    "\n",
    "# Instancia el DataLoader\n",
    "loader = DataLoader(data, batch_size=batch_size, shuffle=shuffle, collate_fn=collate_fn)\n",
    "\n",
    "# Va a traves de un ciclo\n",
    "counter = 0\n",
    "for batched_x, batched_y, batched_lengths in loader:\n",
    "  print(f\"Iteration {counter}\")\n",
    "  print(\"Batched Input:\")\n",
    "  print(batched_x)\n",
    "  print(\"Batched Labels:\")\n",
    "  print(batched_y)\n",
    "  print(\"Batched Lengths:\")\n",
    "  print(batched_lengths)\n",
    "  print(\"\")\n",
    "  counter += 1"
   ]
  },
  {
   "cell_type": "code",
   "execution_count": 75,
   "metadata": {
    "id": "8PHrT11AQskY",
    "outputId": "7db4a54e-e7df-4513-80c7-960b1bb0fc53"
   },
   "outputs": [
    {
     "name": "stdout",
     "output_type": "stream",
     "text": [
      "Original Tensor: \n",
      "tensor([[  2,   2,  70, 110, 130,  25, 181, 280,   6, 243, 265,  15,  99,  49,\n",
      "         270,   2,   2]])\n",
      "\n",
      "Windows: \n",
      "tensor([[[  2,   2,  70, 110, 130],\n",
      "         [  2,  70, 110, 130,  25],\n",
      "         [ 70, 110, 130,  25, 181],\n",
      "         [110, 130,  25, 181, 280],\n",
      "         [130,  25, 181, 280,   6],\n",
      "         [ 25, 181, 280,   6, 243],\n",
      "         [181, 280,   6, 243, 265],\n",
      "         [280,   6, 243, 265,  15],\n",
      "         [  6, 243, 265,  15,  99],\n",
      "         [243, 265,  15,  99,  49],\n",
      "         [265,  15,  99,  49, 270],\n",
      "         [ 15,  99,  49, 270,   2],\n",
      "         [ 99,  49, 270,   2,   2]]])\n"
     ]
    }
   ],
   "source": [
    "### Representación del tensor original en segmentos de ventanas \n",
    "# muestra el tensor original\n",
    "print(f\"Original Tensor: \")\n",
    "print(batched_x)\n",
    "print(\"\")\n",
    "\n",
    "# Crea los 2 * 2 + 1 chunkstrozos\n",
    "chunk = batched_x.unfold(1, window_size*2 + 1, 1)\n",
    "print(f\"Windows: \")\n",
    "print(chunk)"
   ]
  },
  {
   "cell_type": "markdown",
   "metadata": {
    "id": "7lkALUmwQskZ"
   },
   "source": [
    "### Modelo de clasificacion"
   ]
  },
  {
   "cell_type": "code",
   "execution_count": 76,
   "metadata": {
    "id": "SmyK8dZyQskZ"
   },
   "outputs": [],
   "source": [
    "class WordWindowClassifier(nn.Module):\n",
    "\n",
    "  def __init__(self, hyperparameters, vocab_size, pad_ix=0):\n",
    "    super(WordWindowClassifier, self).__init__()\n",
    "    \n",
    "    \"\"\" Instancia las variabless \"\"\"\n",
    "    self.window_size = hyperparameters[\"window_size\"]\n",
    "    self.embed_dim = hyperparameters[\"embed_dim\"]\n",
    "    self.hidden_dim = hyperparameters[\"hidden_dim\"]\n",
    "    self.freeze_embeddings = hyperparameters[\"freeze_embeddings\"]\n",
    "\n",
    "    \"\"\" Capa de Embedding      \n",
    "    Toma un tensor que contiene los índices de los embeddings y devuelve los embeddings\n",
    "    correspondientes. La salida es de dimensión (número_de_índices * dimension_embedding).\n",
    "\n",
    "     Si freeze_embeddings es True, configura los parámetros de la capa de embedding para que sean\n",
    "     no entrenables. Esto es útil si solo queremos cambiar los parámetros que no sean de los embeddings.\n",
    "\n",
    "    \"\"\"\n",
    "    self.embeds = nn.Embedding(vocab_size, self.embed_dim, padding_idx=pad_ix)\n",
    "    if self.freeze_embeddings:\n",
    "      self.embed_layer.weight.requires_grad = False\n",
    "\n",
    "    \"\"\" Capa Oculta\n",
    "    \"\"\"\n",
    "    full_window_size = 2 * window_size + 1\n",
    "    self.hidden_layer = nn.Sequential(\n",
    "      nn.Linear(full_window_size * self.embed_dim, self.hidden_dim), \n",
    "      nn.Tanh()\n",
    "    )\n",
    "\n",
    "    \"\"\" Caba de salida\n",
    "    \"\"\"\n",
    "    self.output_layer = nn.Linear(self.hidden_dim, 1)\n",
    "\n",
    "    \"\"\" Probabilidades \n",
    "    \"\"\"\n",
    "    self.probabilities = nn.Sigmoid()\n",
    "\n",
    "  def forward(self, inputs):\n",
    "    \"\"\"\n",
    "    Sea B:= batch_size\n",
    "        L:= longitud de la ventana de la sentencia rellenada\n",
    "        D:= self.embed_dim\n",
    "        S:= self.window_size\n",
    "        H:= self.hidden_dim\n",
    "        \n",
    "    entradas: un tensor (B, L) de los indices de los tokens\n",
    "    \"\"\"\n",
    "    B, L = inputs.size()\n",
    "\n",
    "    \"\"\"\n",
    "    Reshaping.\n",
    "    Entra un tensor de tipo Long (B, L) \n",
    "    Produce un tensor de tipo Long (B, L~, S)\n",
    "    \"\"\"\n",
    "    # Primero, obtiene las ventanas de palabras para cada palabra de entrada.\n",
    "    token_windows = inputs.unfold(1, 2 * self.window_size + 1, 1)\n",
    "    _, adjusted_length, _ = token_windows.size()\n",
    "\n",
    "    # Es buena idea hacer verificaciones internas del tamaño de un tensor\n",
    "    assert token_windows.size() == (B, adjusted_length, 2 * self.window_size + 1)\n",
    "\n",
    "    \"\"\"\n",
    "    Embedding.\n",
    "    Entra un torch.LongTensor de tamano (B, L~, S) \n",
    "    Produce un (B, L~, S, D) FloatTensor.\n",
    "    \"\"\"\n",
    "    embedded_windows = self.embeds(token_windows)\n",
    "\n",
    "    \"\"\"\n",
    "    Reshaping.\n",
    "    Entra un (B, L~, S, D) FloatTensor.\n",
    "    Cambia su tamano a (B, L~, S*D) FloatTensor.\n",
    "    El argumento -1  \"infiere\" ser la última dimensión segun los ejes sobrantes.\n",
    "    \"\"\"\n",
    "    embedded_windows = embedded_windows.view(B, adjusted_length, -1)\n",
    "\n",
    "    \"\"\"\n",
    "    Capa 1.\n",
    "    Entra un (B, L~, S*D) FloatTensor.\n",
    "    Cambia su tamaño a un (B, L~, H) FloatTensor\n",
    "    \"\"\"\n",
    "    layer_1 = self.hidden_layer(embedded_windows)\n",
    "\n",
    "    \"\"\"\n",
    "    Capa 2\n",
    "    Entra un (B, L~, H) FloatTensor.\n",
    "    cambia su tamano a un (B, L~, 1) FloatTensor.\n",
    "    \"\"\"\n",
    "    output = self.output_layer(layer_1)\n",
    "\n",
    "    \"\"\"\n",
    "    Softmax.\n",
    "    Entra un (B, L~, 1) FloatTensor de scores de clases no normalizados.\n",
    "    Produce un (B, L~, 1) FloatTensor de scores de clases (log-)normalizados.\n",
    "    \"\"\"\n",
    "    output = self.probabilities(output)\n",
    "    output = output.view(B, -1)\n",
    "\n",
    "    return output"
   ]
  },
  {
   "cell_type": "markdown",
   "metadata": {
    "id": "2aStmaQ9QskZ"
   },
   "source": [
    "### Entrenamiento"
   ]
  },
  {
   "cell_type": "code",
   "execution_count": 77,
   "metadata": {
    "id": "0LbEEsyCQskZ"
   },
   "outputs": [],
   "source": [
    "# Prepara los datos\n",
    "data = list(zip(train_sentences, train_labels))\n",
    "batch_size = 2\n",
    "shuffle = True\n",
    "window_size = 2\n",
    "collate_fn = partial(custom_collate_fn, window_size=window_size, word_to_ix=word_to_ix)\n",
    "\n",
    "# Instancia el dataloader\n",
    "loader = DataLoader(data, batch_size=batch_size, shuffle=shuffle, collate_fn=collate_fn)\n",
    "\n",
    "# Inicializa el modelo\n",
    "# Es util colocar todos los hiperparamentros en un diccionario\n",
    "model_hyperparameters = {\n",
    "    \"batch_size\": 4,\n",
    "    \"window_size\": 2,\n",
    "    \"embed_dim\": 25,\n",
    "    \"hidden_dim\": 25,\n",
    "    \"freeze_embeddings\": False,\n",
    "}\n",
    "\n",
    "vocab_size = len(word_to_ix)\n",
    "model = WordWindowClassifier(model_hyperparameters, vocab_size)\n",
    "\n",
    "# define un optimizador\n",
    "learning_rate = 0.01\n",
    "optimizer = torch.optim.SGD(model.parameters(), lr=learning_rate)\n",
    "\n",
    "# Definir una función de pérdida, que calcula el binary cross entropy \n",
    "def loss_function(batch_outputs, batch_labels, batch_lengths):   \n",
    "    # calcula el loss para todo el batch\n",
    "    bceloss = nn.BCELoss()\n",
    "    loss = bceloss(batch_outputs, batch_labels.float())\n",
    "\n",
    "    # Reescala el loss. Recuerde que hemos utilizado longitudes para almacenar el\n",
    "    # número de palabras en cada muestra de entrenamiento\n",
    "    loss = loss / batch_lengths.sum().float()\n",
    "\n",
    "    return loss"
   ]
  },
  {
   "cell_type": "code",
   "execution_count": 78,
   "metadata": {
    "id": "Ng0M5tCeQskZ"
   },
   "outputs": [],
   "source": [
    "# Funcion que se llamara en cada epoch\n",
    "def train_epoch(loss_function, optimizer, model, loader):\n",
    "  \n",
    "  # guarda el registro del loss para cada epoch\n",
    "  total_loss = 0\n",
    "  for batch_inputs, batch_labels, batch_lengths in loader:\n",
    "    # limpia los gradientes\n",
    "    optimizer.zero_grad()\n",
    "    # corre un forward pass\n",
    "    outputs = model.forward(batch_inputs)\n",
    "    # calcula el loss para un batch\n",
    "    loss = loss_function(outputs, batch_labels, batch_lengths)\n",
    "    # Calcula los gradientes\n",
    "    loss.backward()\n",
    "    # Actualiza los parámetros\n",
    "    optimizer.step()\n",
    "    total_loss += loss.item()\n",
    "\n",
    "  return total_loss\n",
    "\n",
    "\n",
    "# Función que contiene el loop principal\n",
    "def train(loss_function, optimizer, model, loader, num_epochs=10000):\n",
    "\n",
    "  # Itera a traves de cada epoch y llama la funcion de train_epoch function\n",
    "  for epoch in range(num_epochs):\n",
    "    epoch_loss = train_epoch(loss_function, optimizer, model, loader)\n",
    "    if epoch % 100 == 0: print(epoch_loss)"
   ]
  },
  {
   "cell_type": "code",
   "execution_count": 79,
   "metadata": {
    "id": "Rbuk1pRMQska",
    "outputId": "2d873b6a-e691-4169-8448-69b6ff5bd565"
   },
   "outputs": [
    {
     "name": "stdout",
     "output_type": "stream",
     "text": [
      "0.5477850958704948\n",
      "0.2948554502800107\n",
      "0.1939490034710616\n",
      "0.1461947705829516\n",
      "0.07569601654540747\n",
      "0.01756217615911737\n",
      "0.005303380901750643\n",
      "-0.13612786791054532\n",
      "-0.033077325992053375\n",
      "-0.4676091106957756\n"
     ]
    }
   ],
   "source": [
    "num_epochs = 1000\n",
    "train(loss_function, optimizer, model, loader, num_epochs=num_epochs)"
   ]
  },
  {
   "cell_type": "markdown",
   "metadata": {
    "id": "WdLEVQ4fQska"
   },
   "source": [
    "### Validación del modelo."
   ]
  },
  {
   "cell_type": "code",
   "execution_count": 80,
   "metadata": {},
   "outputs": [
    {
     "name": "stdout",
     "output_type": "stream",
     "text": [
      "frase original\n",
      "El arte es una garantía de cordura.\n",
      "train sentences\n",
      "['el', 'arte', 'es', 'una', 'garantia', 'de', 'cordura.']\n",
      "train_label\n",
      "[0, 2, 0, 0, 0, 0, 0]\n"
     ]
    }
   ],
   "source": [
    "element_ = 3\n",
    "print('frase original')\n",
    "print(corpus[element_])\n",
    "print('train sentences')\n",
    "print(train_sentences[element_])\n",
    "print('train_label')\n",
    "print(train_labels[element_])"
   ]
  },
  {
   "cell_type": "code",
   "execution_count": 81,
   "metadata": {
    "id": "1eINCypZQska"
   },
   "outputs": [],
   "source": [
    "# Creando una sentencia de prueba\n",
    "test_corpus = [corpus[element_]]\n",
    "test_sentences = [s.lower().split() for s in test_corpus]\n",
    "test_labels = [train_labels[element_]]\n",
    "\n",
    "# Crea un dataloader de prueba\n",
    "test_data = list(zip(test_sentences, test_labels))\n",
    "batch_size = 1\n",
    "shuffle = False\n",
    "window_size = 2\n",
    "collate_fn = partial(custom_collate_fn, window_size=12, word_to_ix=word_to_ix)\n",
    "test_loader = torch.utils.data.DataLoader(test_data, \n",
    "                                           batch_size=1, \n",
    "                                           shuffle=False, \n",
    "                                           collate_fn=collate_fn)"
   ]
  },
  {
   "cell_type": "code",
   "execution_count": 82,
   "metadata": {
    "id": "l8SDV1MpQska",
    "outputId": "6cc804a9-0ab8-4acf-d4aa-db5b083d14e4"
   },
   "outputs": [
    {
     "name": "stdout",
     "output_type": "stream",
     "text": [
      "tensor([[0, 2, 0, 0, 0, 0, 0]])\n",
      "tensor([[6.4885e-04, 6.4885e-04, 6.4885e-04, 6.4885e-04, 6.4885e-04, 6.4885e-04,\n",
      "         6.4885e-04, 6.4885e-04, 2.6898e-03, 2.7427e-02, 1.3700e-02, 9.9952e-01,\n",
      "         1.5909e-02, 1.0681e-01, 1.2289e-02, 7.6458e-03, 5.8531e-04, 7.8226e-04,\n",
      "         5.6416e-04, 6.4885e-04, 6.4885e-04, 6.4885e-04, 6.4885e-04, 6.4885e-04,\n",
      "         6.4886e-04, 6.4885e-04, 6.4886e-04]], grad_fn=<ViewBackward0>)\n"
     ]
    }
   ],
   "source": [
    "for test_instance, labels, _ in test_loader:\n",
    "  outputs = model.forward(test_instance)\n",
    "  print(labels)\n",
    "  print(outputs)"
   ]
  }
 ],
 "metadata": {
  "colab": {
   "collapsed_sections": [],
   "name": "CS224N PyTorch Tutorial.ipynb",
   "provenance": []
  },
  "kernelspec": {
   "display_name": "Python 3.8.15 ('nlp-env')",
   "language": "python",
   "name": "python3"
  },
  "language_info": {
   "codemirror_mode": {
    "name": "ipython",
    "version": 3
   },
   "file_extension": ".py",
   "mimetype": "text/x-python",
   "name": "python",
   "nbconvert_exporter": "python",
   "pygments_lexer": "ipython3",
   "version": "3.8.15"
  },
  "nbTranslate": {
   "displayLangs": [
    "*"
   ],
   "hotkey": "alt-t",
   "langInMainMenu": true,
   "sourceLang": "en",
   "targetLang": "es",
   "useGoogleTranslate": true
  },
  "vscode": {
   "interpreter": {
    "hash": "cf856c288227c1985b5319abfa2c7eaa1df0528794ab1c4cb755b7b4904e1cb5"
   }
  }
 },
 "nbformat": 4,
 "nbformat_minor": 1
}
