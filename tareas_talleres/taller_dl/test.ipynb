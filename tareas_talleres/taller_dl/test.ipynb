{
  "cells": [
    {
      "cell_type": "code",
      "execution_count": null,
      "metadata": {
        "id": "QjgKdrZYQsjR"
      },
      "outputs": [],
      "source": []
    },
    {
      "cell_type": "markdown",
      "metadata": {
        "id": "EhUgHn6iQsjS"
      },
      "source": [
        "### Desarrollado por Manuel Beltrán \n",
        "Mónica Alexandra Gómez Martínez \n",
        "\n",
        "Manuel Beltrán \n",
        "\n",
        "Cristian Camilo Vasquez Sanchez \n",
        "\n",
        "Jesús Ernesto Suárez Triana \n",
        "\n",
        " "
      ]
    },
    {
      "cell_type": "code",
      "execution_count": null,
      "metadata": {
        "id": "7OBjBe4kQsjU"
      },
      "outputs": [],
      "source": []
    },
    {
      "cell_type": "markdown",
      "metadata": {
        "id": "M5qhLdovQsjU"
      },
      "source": [
        "En el ejercicio 4, se realiza todo el desarrollo de la obtencion del promedio de los twits, para este ejercicio en primera instancia, se ejecuta el  desarrollo de un Mlp con gradiente descendiente para establecer un punto de referencia y conceptualización, posteriormente se realiza con Pytorch y se entregan las graficas solicitadas en el enunciado del ejercicio.\n"
      ]
    },
    {
      "cell_type": "code",
      "execution_count": 1,
      "metadata": {
        "ExecuteTime": {
          "end_time": "2022-02-28T12:01:35.341404Z",
          "start_time": "2022-02-28T12:01:34.914124Z"
        },
        "id": "u0ukr7quvrMx",
        "lang": "en"
      },
      "outputs": [],
      "source": [
        "import torch\n",
        "import torch.nn as nn\n",
        "import numpy as np\n",
        "import os\n",
        "import pandas as pd\n",
        "import re        \n",
        "import nltk\n",
        "import sklearn   \n",
        "import matplotlib\n",
        "import scipy     \n",
        "import gensim   \n",
        "DEVICE = torch.device('cuda:0' if torch.cuda.is_available() else 'cpu')\n"
      ]
    },
    {
      "cell_type": "markdown",
      "metadata": {
        "lang": "es",
        "id": "cYuJrDtaQsjV"
      },
      "source": [
        "### Ejercicio 1\n",
        "\n",
        "Escribe código que cree un `torch.tensor` con los siguientes contenidos:\n",
        "$\\begin{bmatrix} 1 & 2.2 & 9.6 \\\\ 4 & -7.2 & 6.3 \\end{bmatrix}$\n",
        "\n",
        "Ahora calcule el promedio de cada fila (`.mean()`) y cada columna.\n",
        "\n",
        "¿Cuál es la forma de los resultados?"
      ]
    },
    {
      "cell_type": "code",
      "execution_count": 2,
      "metadata": {
        "id": "d9QCk-vRQsjV"
      },
      "outputs": [],
      "source": [
        "a=torch.tensor(np.array([[1, 2.2, 9.6], [4, -7.2, 6.3]]))"
      ]
    },
    {
      "cell_type": "code",
      "execution_count": 3,
      "metadata": {
        "colab": {
          "base_uri": "https://localhost:8080/"
        },
        "id": "3QIM9rZxQsjV",
        "outputId": "d78a857c-ee95-44f4-bf9e-fbf57c007aa3"
      },
      "outputs": [
        {
          "output_type": "execute_result",
          "data": {
            "text/plain": [
              "tensor([[ 1.0000,  2.2000,  9.6000],\n",
              "        [ 4.0000, -7.2000,  6.3000]], dtype=torch.float64)"
            ]
          },
          "metadata": {},
          "execution_count": 3
        }
      ],
      "source": [
        "a"
      ]
    },
    {
      "cell_type": "code",
      "execution_count": 4,
      "metadata": {
        "colab": {
          "base_uri": "https://localhost:8080/"
        },
        "id": "X81UCIWbQsjW",
        "outputId": "36d84288-5e2b-4954-b6e5-0ac27c4b1e02"
      },
      "outputs": [
        {
          "output_type": "execute_result",
          "data": {
            "text/plain": [
              "tensor([ 2.5000, -2.5000,  7.9500], dtype=torch.float64)"
            ]
          },
          "metadata": {},
          "execution_count": 4
        }
      ],
      "source": [
        "a.mean(dim=0)"
      ]
    },
    {
      "cell_type": "markdown",
      "metadata": {
        "lang": "es",
        "id": "BRo65AZMQsjX"
      },
      "source": [
        "### Ejercicio 2\n",
        "\n",
        "Escribe código que cree un `torch.tensor` con los siguientes contenidos:\n",
        "$\\begin{bmatrix} 1 & 2.2 & 9.6 \\\\ 4 & -7.2 & 6.3 \\end{bmatrix}$\n",
        "\n",
        "¿Cómo se obtiene la primera columna? ¿La primera fila?"
      ]
    },
    {
      "cell_type": "code",
      "execution_count": 5,
      "metadata": {
        "id": "lJLQrO0kQsjX"
      },
      "outputs": [],
      "source": [
        "b=torch.tensor(np.array([[1, 2.2, 9.6], [4, -7.2, 6.3]]))"
      ]
    },
    {
      "cell_type": "code",
      "execution_count": 6,
      "metadata": {
        "colab": {
          "base_uri": "https://localhost:8080/"
        },
        "id": "-qTXjnbXQsjX",
        "outputId": "25ce3463-4f4d-46cc-91e7-252a69e14299"
      },
      "outputs": [
        {
          "output_type": "execute_result",
          "data": {
            "text/plain": [
              "tensor([[ 1.0000,  2.2000,  9.6000],\n",
              "        [ 4.0000, -7.2000,  6.3000]], dtype=torch.float64)"
            ]
          },
          "metadata": {},
          "execution_count": 6
        }
      ],
      "source": [
        "b"
      ]
    },
    {
      "cell_type": "code",
      "execution_count": 7,
      "metadata": {
        "colab": {
          "base_uri": "https://localhost:8080/"
        },
        "id": "QL5WP5reQsjX",
        "outputId": "f06e3c80-1529-4d83-d0c0-f609a7c3f3a6"
      },
      "outputs": [
        {
          "output_type": "execute_result",
          "data": {
            "text/plain": [
              "tensor([[1.0000, 2.2000, 9.6000]], dtype=torch.float64)"
            ]
          },
          "metadata": {},
          "execution_count": 7
        }
      ],
      "source": [
        "#Fila\n",
        "b[0:1]"
      ]
    },
    {
      "cell_type": "code",
      "execution_count": 8,
      "metadata": {
        "colab": {
          "base_uri": "https://localhost:8080/"
        },
        "id": "uDk63DPYQsjX",
        "outputId": "8c5336d9-8833-4478-b7f2-d60412a3e477"
      },
      "outputs": [
        {
          "output_type": "execute_result",
          "data": {
            "text/plain": [
              "tensor([9.6000, 6.3000], dtype=torch.float64)"
            ]
          },
          "metadata": {},
          "execution_count": 8
        }
      ],
      "source": [
        "#Columna\n",
        "b[:, 2]"
      ]
    },
    {
      "cell_type": "markdown",
      "metadata": {
        "id": "3VpXucIZQsjY"
      },
      "source": [
        "### Ejercicio 3\n",
        "\n",
        "Cree una función vectorial (no lineal) en función de dos o tres vectores, determine sus derivadas respecto a cada componente de los vectores, para valores particulares, usando pytorch. Compruebe el resultado."
      ]
    },
    {
      "cell_type": "code",
      "execution_count": 9,
      "metadata": {
        "id": "OF3FxXr1QsjY"
      },
      "outputs": [],
      "source": [
        "device = torch.device(\"cuda:0\" if torch.cuda.is_available() else \"cpu\")\n",
        "retain_graph=True\n",
        "c = torch.tensor(np.array([[1, 2, 9],[4, 7, -6]])).float().requires_grad_()\n",
        "d = torch.tensor(np.array([[2, 4, 18],[8, 14, 12]])).float().requires_grad_()\n",
        "e = torch.tensor(np.array([[3, 6, 27],[12, 21, 18]])).float().requires_grad_()"
      ]
    },
    {
      "cell_type": "code",
      "execution_count": 10,
      "metadata": {
        "id": "4LVVBGRgQsjY"
      },
      "outputs": [],
      "source": [
        "def func(x):\n",
        "    return ((x**2))"
      ]
    },
    {
      "cell_type": "code",
      "execution_count": 11,
      "metadata": {
        "colab": {
          "base_uri": "https://localhost:8080/"
        },
        "id": "RduV2JuwQsjY",
        "outputId": "ce6432cd-4258-4a6c-80e4-ec295a971929"
      },
      "outputs": [
        {
          "output_type": "stream",
          "name": "stdout",
          "text": [
            "tensor([[ 9.,  1., 49.],\n",
            "        [16., 49., 36.]], grad_fn=<PowBackward0>)\n"
          ]
        }
      ],
      "source": [
        "x=torch.tensor(np.array([[3,1,7],[4,7, 6]])).float().requires_grad_()\n",
        "y=func(x).float().requires_grad_()\n",
        "print(y)"
      ]
    },
    {
      "cell_type": "code",
      "execution_count": 12,
      "metadata": {
        "scrolled": false,
        "colab": {
          "base_uri": "https://localhost:8080/"
        },
        "id": "Yru58KEfQsjZ",
        "outputId": "75f394cf-91d4-4a88-f2fd-49b08a9f6f17"
      },
      "outputs": [
        {
          "output_type": "execute_result",
          "data": {
            "text/plain": [
              "tensor([[ 6.,  2., 14.],\n",
              "        [ 8., 14., 12.]])"
            ]
          },
          "metadata": {},
          "execution_count": 12
        }
      ],
      "source": [
        "y = torch.sum(y)\n",
        "y.backward()\n",
        "x.grad"
      ]
    },
    {
      "cell_type": "code",
      "execution_count": 13,
      "metadata": {
        "colab": {
          "base_uri": "https://localhost:8080/"
        },
        "id": "6MFwM2I0QsjZ",
        "outputId": "5bf6761e-ab38-426d-a710-7bdfbf850f3b"
      },
      "outputs": [
        {
          "output_type": "stream",
          "name": "stdout",
          "text": [
            "tensor([[ 6.,  2., 14.],\n",
            "        [ 8., 14., 12.]])\n"
          ]
        }
      ],
      "source": [
        "print(x.grad)"
      ]
    },
    {
      "cell_type": "markdown",
      "metadata": {
        "id": "m01w4G-dO5d7"
      },
      "source": [
        "### Ejercicio 4\n",
        "\n",
        "Use el dataset de `progressive-tweet-sentiment.csv` (el del taller 1), para producir una representación de vectores usando word2vec (máximo 50 vectores). Divida en un conjunto de entrenamiento y otro de prueba. A continuación, realice una clasificación de los tweets con un MLP (multilayer perceptron) de una capa oculta (tendrá que probar cuantas neuronas ocultas), usando como variables la media de los vectores de las palabras de cada tweet. Debe utilizar pytorch. Grafique el loss y el accuracy, tanto para el entrenamiento como para la validación. Escoja el mejor modelo probando con un buen número de epochs (use un learning rate de 0.1 o 0.01).\n"
      ]
    },
    {
      "cell_type": "code",
      "source": [
        "#conectarse a google drive\n",
        "from google.colab import drive\n",
        "drive.mount('/content/drive')"
      ],
      "metadata": {
        "colab": {
          "base_uri": "https://localhost:8080/"
        },
        "id": "0b7iPTga5bOv",
        "outputId": "ea71f65a-5037-49c0-99b5-07524d1af3dd"
      },
      "execution_count": 141,
      "outputs": [
        {
          "output_type": "stream",
          "name": "stdout",
          "text": [
            "Drive already mounted at /content/drive; to attempt to forcibly remount, call drive.mount(\"/content/drive\", force_remount=True).\n"
          ]
        }
      ]
    },
    {
      "cell_type": "code",
      "source": [
        "#leer tweets\n",
        "import pandas as pd\n",
        "df = pd.read_csv(\"/content/drive/MyDrive/Maestria en Analitica I/Procesamiento del Lenguaje Natural/Archivos/progressive-tweet-sentiment.csv\",encoding='latin-1')\n",
        "\n",
        "#renombrar columnas del dataset\n",
        "df = df[[\"target\", \"tweet\"]]\n",
        "df.head()"
      ],
      "metadata": {
        "colab": {
          "base_uri": "https://localhost:8080/",
          "height": 206
        },
        "id": "C4yY0gFo1Uz2",
        "outputId": "dde0b70a-c88b-4803-b54b-b380ba631116"
      },
      "execution_count": 142,
      "outputs": [
        {
          "output_type": "execute_result",
          "data": {
            "text/plain": [
              "                     target                                              tweet\n",
              "0  Legalization of Abortion  Thank you for another day of life Lord. #Chris...\n",
              "1  Legalization of Abortion  @rosaryrevival Lovely to use Glorious Mysterie...\n",
              "2  Legalization of Abortion  @Niall250 good thing is that #DUP have consist...\n",
              "3  Legalization of Abortion  So, you tell me... is murder okay if the victi...\n",
              "4  Legalization of Abortion  @HillaryClinton Don't you mean to say (all chi..."
            ],
            "text/html": [
              "\n",
              "  <div id=\"df-aedffe69-db09-4a05-a11b-68227475f317\">\n",
              "    <div class=\"colab-df-container\">\n",
              "      <div>\n",
              "<style scoped>\n",
              "    .dataframe tbody tr th:only-of-type {\n",
              "        vertical-align: middle;\n",
              "    }\n",
              "\n",
              "    .dataframe tbody tr th {\n",
              "        vertical-align: top;\n",
              "    }\n",
              "\n",
              "    .dataframe thead th {\n",
              "        text-align: right;\n",
              "    }\n",
              "</style>\n",
              "<table border=\"1\" class=\"dataframe\">\n",
              "  <thead>\n",
              "    <tr style=\"text-align: right;\">\n",
              "      <th></th>\n",
              "      <th>target</th>\n",
              "      <th>tweet</th>\n",
              "    </tr>\n",
              "  </thead>\n",
              "  <tbody>\n",
              "    <tr>\n",
              "      <th>0</th>\n",
              "      <td>Legalization of Abortion</td>\n",
              "      <td>Thank you for another day of life Lord. #Chris...</td>\n",
              "    </tr>\n",
              "    <tr>\n",
              "      <th>1</th>\n",
              "      <td>Legalization of Abortion</td>\n",
              "      <td>@rosaryrevival Lovely to use Glorious Mysterie...</td>\n",
              "    </tr>\n",
              "    <tr>\n",
              "      <th>2</th>\n",
              "      <td>Legalization of Abortion</td>\n",
              "      <td>@Niall250 good thing is that #DUP have consist...</td>\n",
              "    </tr>\n",
              "    <tr>\n",
              "      <th>3</th>\n",
              "      <td>Legalization of Abortion</td>\n",
              "      <td>So, you tell me... is murder okay if the victi...</td>\n",
              "    </tr>\n",
              "    <tr>\n",
              "      <th>4</th>\n",
              "      <td>Legalization of Abortion</td>\n",
              "      <td>@HillaryClinton Don't you mean to say (all chi...</td>\n",
              "    </tr>\n",
              "  </tbody>\n",
              "</table>\n",
              "</div>\n",
              "      <button class=\"colab-df-convert\" onclick=\"convertToInteractive('df-aedffe69-db09-4a05-a11b-68227475f317')\"\n",
              "              title=\"Convert this dataframe to an interactive table.\"\n",
              "              style=\"display:none;\">\n",
              "        \n",
              "  <svg xmlns=\"http://www.w3.org/2000/svg\" height=\"24px\"viewBox=\"0 0 24 24\"\n",
              "       width=\"24px\">\n",
              "    <path d=\"M0 0h24v24H0V0z\" fill=\"none\"/>\n",
              "    <path d=\"M18.56 5.44l.94 2.06.94-2.06 2.06-.94-2.06-.94-.94-2.06-.94 2.06-2.06.94zm-11 1L8.5 8.5l.94-2.06 2.06-.94-2.06-.94L8.5 2.5l-.94 2.06-2.06.94zm10 10l.94 2.06.94-2.06 2.06-.94-2.06-.94-.94-2.06-.94 2.06-2.06.94z\"/><path d=\"M17.41 7.96l-1.37-1.37c-.4-.4-.92-.59-1.43-.59-.52 0-1.04.2-1.43.59L10.3 9.45l-7.72 7.72c-.78.78-.78 2.05 0 2.83L4 21.41c.39.39.9.59 1.41.59.51 0 1.02-.2 1.41-.59l7.78-7.78 2.81-2.81c.8-.78.8-2.07 0-2.86zM5.41 20L4 18.59l7.72-7.72 1.47 1.35L5.41 20z\"/>\n",
              "  </svg>\n",
              "      </button>\n",
              "      \n",
              "  <style>\n",
              "    .colab-df-container {\n",
              "      display:flex;\n",
              "      flex-wrap:wrap;\n",
              "      gap: 12px;\n",
              "    }\n",
              "\n",
              "    .colab-df-convert {\n",
              "      background-color: #E8F0FE;\n",
              "      border: none;\n",
              "      border-radius: 50%;\n",
              "      cursor: pointer;\n",
              "      display: none;\n",
              "      fill: #1967D2;\n",
              "      height: 32px;\n",
              "      padding: 0 0 0 0;\n",
              "      width: 32px;\n",
              "    }\n",
              "\n",
              "    .colab-df-convert:hover {\n",
              "      background-color: #E2EBFA;\n",
              "      box-shadow: 0px 1px 2px rgba(60, 64, 67, 0.3), 0px 1px 3px 1px rgba(60, 64, 67, 0.15);\n",
              "      fill: #174EA6;\n",
              "    }\n",
              "\n",
              "    [theme=dark] .colab-df-convert {\n",
              "      background-color: #3B4455;\n",
              "      fill: #D2E3FC;\n",
              "    }\n",
              "\n",
              "    [theme=dark] .colab-df-convert:hover {\n",
              "      background-color: #434B5C;\n",
              "      box-shadow: 0px 1px 3px 1px rgba(0, 0, 0, 0.15);\n",
              "      filter: drop-shadow(0px 1px 2px rgba(0, 0, 0, 0.3));\n",
              "      fill: #FFFFFF;\n",
              "    }\n",
              "  </style>\n",
              "\n",
              "      <script>\n",
              "        const buttonEl =\n",
              "          document.querySelector('#df-aedffe69-db09-4a05-a11b-68227475f317 button.colab-df-convert');\n",
              "        buttonEl.style.display =\n",
              "          google.colab.kernel.accessAllowed ? 'block' : 'none';\n",
              "\n",
              "        async function convertToInteractive(key) {\n",
              "          const element = document.querySelector('#df-aedffe69-db09-4a05-a11b-68227475f317');\n",
              "          const dataTable =\n",
              "            await google.colab.kernel.invokeFunction('convertToInteractive',\n",
              "                                                     [key], {});\n",
              "          if (!dataTable) return;\n",
              "\n",
              "          const docLinkHtml = 'Like what you see? Visit the ' +\n",
              "            '<a target=\"_blank\" href=https://colab.research.google.com/notebooks/data_table.ipynb>data table notebook</a>'\n",
              "            + ' to learn more about interactive tables.';\n",
              "          element.innerHTML = '';\n",
              "          dataTable['output_type'] = 'display_data';\n",
              "          await google.colab.output.renderOutput(dataTable, element);\n",
              "          const docLink = document.createElement('div');\n",
              "          docLink.innerHTML = docLinkHtml;\n",
              "          element.appendChild(docLink);\n",
              "        }\n",
              "      </script>\n",
              "    </div>\n",
              "  </div>\n",
              "  "
            ]
          },
          "metadata": {},
          "execution_count": 142
        }
      ]
    },
    {
      "cell_type": "code",
      "source": [
        "#funcion de limpieza de tweets\n",
        "import re\n",
        "def limpieza(text):\n",
        "  text=re.sub(r'@_[A-Za-z0-9]+_','',text) #Remover @_menciones_\n",
        "  text=re.sub(r'@[A-Za-z0-9]+_[A-Za-z0-9]+','',text) #Remover @menciones_\n",
        "  text=re.sub(r'@[A-Za-z0-9]+','',text) #Remover @menciones\n",
        "  text=re.sub(r'https?:\\/\\/\\S+','',text) #Remover Hypervinculos\n",
        "  text=re.sub(r'RT[\\s]+','',text) #Remover Retweets\n",
        "  text=re.sub(r'[^\\w\\s]',\"\",text) #remover signos de puntuacion\n",
        "  text=re.sub(r'#[A-Za-z0-9]+','',text) #Remover \"#\"\n",
        "  text=re.sub(r'[0-9]','',text) #remover numeros\n",
        "  text=re.sub(r'[^\\w\\s]',\"\",text) #remover signos de puntuacion\n",
        "  text=re.sub(r'\\n|\\t',' ',text) #remover saltos de linea\n",
        "  text=re.sub(r'\\@',' ',text) #remover \"@\"\n",
        "  text=re.sub(r'[\\s]+',' ',text) #reemplazar espacios dobles por espacion sencillos\n",
        "  text=re.sub(r\"^[\\s]\",' ',text) #eliminar espacios al inicio de cada tweet\n",
        "  text=text.lower() #todo a minuscula\n",
        "  return text"
      ],
      "metadata": {
        "id": "oCYnSsi97XAK"
      },
      "execution_count": 143,
      "outputs": []
    },
    {
      "cell_type": "code",
      "source": [
        "#excluir stopwords\n",
        "import nltk\n",
        "nltk.download(\"stopwords\")\n",
        "from nltk.corpus import stopwords\n",
        "misstop = stopwords.words('english')\n",
        "\n",
        "#limpieza inicial de los tweetseza)\n",
        "df['text_clean']=df[\"tweet\"].apply(limpieza)\n",
        "\n",
        "#tokenizar con nltk\n",
        "from nltk.tokenize import word_tokenize\n",
        "nltk.download(\"punkt\")\n",
        "\n",
        "#tokenizar cada tweet eliminando stopwords\n",
        "listado=[]\n",
        "for i in range(len(df)):\n",
        "  aux=word_tokenize(df['text_clean'][i])\n",
        "  aux2=[]\n",
        "  for word in aux:\n",
        "    if word not in misstop: \n",
        "      aux2.append(word)\n",
        "  listado.append(aux2) \n",
        "\n",
        "\n",
        "\n",
        "#tokenizar separando por espacio\n",
        "#df['text_clean'] = df[\"text_clean\"].apply(lambda words: ' '.join(word.lower() for word in words.split() if word not in misstop))\n",
        "#df['text_clean'] #concatenar en listas los token creados\n",
        "\n",
        "#listado = []\n",
        "#for i in range(len(df)):\n",
        "  #listado.append (list(df['text_clean'][i].split(' ')))\n",
        "listado[0:5]"
      ],
      "metadata": {
        "colab": {
          "base_uri": "https://localhost:8080/"
        },
        "id": "7WhbWQPa7dcd",
        "outputId": "671f0b3e-9385-4c59-a556-2823f51136bd"
      },
      "execution_count": 144,
      "outputs": [
        {
          "output_type": "stream",
          "name": "stderr",
          "text": [
            "[nltk_data] Downloading package stopwords to /root/nltk_data...\n",
            "[nltk_data]   Package stopwords is already up-to-date!\n",
            "[nltk_data] Downloading package punkt to /root/nltk_data...\n",
            "[nltk_data]   Unzipping tokenizers/punkt.zip.\n"
          ]
        },
        {
          "output_type": "execute_result",
          "data": {
            "text/plain": [
              "[['thank',\n",
              "  'another',\n",
              "  'day',\n",
              "  'life',\n",
              "  'lord',\n",
              "  'christian',\n",
              "  'catholic',\n",
              "  'teamjesus'],\n",
              " ['lovely',\n",
              "  'use',\n",
              "  'glorious',\n",
              "  'mysteries',\n",
              "  'eastertide',\n",
              "  'mark',\n",
              "  'season',\n",
              "  'prayforpersecutedchurch'],\n",
              " ['good',\n",
              "  'thing',\n",
              "  'dup',\n",
              "  'consistently',\n",
              "  'said',\n",
              "  'murder',\n",
              "  'wrong',\n",
              "  'sf',\n",
              "  'pro',\n",
              "  'murderstill'],\n",
              " ['tell', 'murder', 'okay', 'victim', 'mentally', 'disabled'],\n",
              " ['dont',\n",
              "  'mean',\n",
              "  'say',\n",
              "  'children',\n",
              "  'deserve',\n",
              "  'chances',\n",
              "  'except',\n",
              "  'unborn',\n",
              "  'children']]"
            ]
          },
          "metadata": {},
          "execution_count": 144
        }
      ]
    },
    {
      "cell_type": "code",
      "source": [
        "#Parametros de entrada para la representacion Word2Vec\n",
        "vector_size = 48 # numero de elementos del vector que representa la palabra\n",
        "min_count =3 # Ignores all words with total frequency lower than this. \n",
        "workers = 5 # numero de cpu cores\n",
        "sg = 0 # 0: CBOW, 1: skip-gram\n",
        "window = 6 # Tamano de la ventana de contexto\n",
        "sample = 1e-3 # tasa de submuestreo para terminos frecuentes"
      ],
      "metadata": {
        "id": "9C1Gh1Q28Qdd"
      },
      "execution_count": 145,
      "outputs": []
    },
    {
      "cell_type": "code",
      "source": [
        "#Ejecutar modelo\n",
        "from gensim.models import Word2Vec\n",
        "modelword2vec = Word2Vec(listado, size=vector_size,min_count=min_count, workers=workers,sg=sg,window=window,sample=sample)"
      ],
      "metadata": {
        "colab": {
          "base_uri": "https://localhost:8080/"
        },
        "id": "dIQRoqZU8a6H",
        "outputId": "e7944c64-4721-48c3-c461-34cede7ff88a"
      },
      "execution_count": 146,
      "outputs": [
        {
          "output_type": "stream",
          "name": "stderr",
          "text": [
            "WARNING:gensim.models.base_any2vec:under 10 jobs per worker: consider setting a smaller `batch_words' for smoother alpha decay\n"
          ]
        }
      ]
    },
    {
      "cell_type": "code",
      "source": [
        "#funcion para calcular el promedio de los vectores de cada token por tweet\n",
        "import numpy as np\n",
        "tweet_vector=[]\n",
        "for i in range(len(listado)):\n",
        "  v1=[0 for i in range(vector_size)]\n",
        "  for j in range(len(listado[i])):\n",
        "    if listado[i][j] in modelword2vec.wv:\n",
        "      v2=modelword2vec.wv.get_vector(listado[i][j])\n",
        "      v2=1/np.log(1+v2)\n",
        "      v1=[v1[k] + v2[k] for k in range(len(v1))]\n",
        "  v1=[v1[k]/len(v1) for k in range(len(v1))]\n",
        "  tweet_vector.append(v1)\n",
        "\n",
        "#tweet_vector\n",
        "\n",
        "df2=df[:]\n",
        "df2\n",
        "df2['vectors']=tweet_vector\n",
        "df2.head(n=5)"
      ],
      "metadata": {
        "colab": {
          "base_uri": "https://localhost:8080/",
          "height": 293
        },
        "id": "1GZ-dq768rL0",
        "outputId": "7c1ed071-17ca-41af-b393-33ecd88d9349"
      },
      "execution_count": 147,
      "outputs": [
        {
          "output_type": "stream",
          "name": "stderr",
          "text": [
            "/usr/local/lib/python3.7/dist-packages/ipykernel_launcher.py:18: SettingWithCopyWarning: \n",
            "A value is trying to be set on a copy of a slice from a DataFrame.\n",
            "Try using .loc[row_indexer,col_indexer] = value instead\n",
            "\n",
            "See the caveats in the documentation: https://pandas.pydata.org/pandas-docs/stable/user_guide/indexing.html#returning-a-view-versus-a-copy\n"
          ]
        },
        {
          "output_type": "execute_result",
          "data": {
            "text/plain": [
              "                     target  \\\n",
              "0  Legalization of Abortion   \n",
              "1  Legalization of Abortion   \n",
              "2  Legalization of Abortion   \n",
              "3  Legalization of Abortion   \n",
              "4  Legalization of Abortion   \n",
              "\n",
              "                                               tweet  \\\n",
              "0  Thank you for another day of life Lord. #Chris...   \n",
              "1  @rosaryrevival Lovely to use Glorious Mysterie...   \n",
              "2  @Niall250 good thing is that #DUP have consist...   \n",
              "3  So, you tell me... is murder okay if the victi...   \n",
              "4  @HillaryClinton Don't you mean to say (all chi...   \n",
              "\n",
              "                                          text_clean  \\\n",
              "0  thank you for another day of life lord christi...   \n",
              "1   lovely to use glorious mysteries during easte...   \n",
              "2   good thing is that dup have consistently said...   \n",
              "3  so you tell me is murder okay if the victim is...   \n",
              "4   dont you mean to say all children deserve the...   \n",
              "\n",
              "                                             vectors  \n",
              "0  [55.943514823913574, 54.997234185536705, 5.031...  \n",
              "1  [-51.95571645100912, 38.37546412150065, -2.630...  \n",
              "2  [-62.100396156311035, 13.28352952003479, 178.6...  \n",
              "3  [-7.296615282694499, 54.1241184870402, 37.2501...  \n",
              "4  [-16.318838278452557, -21.568068504333496, 56....  "
            ],
            "text/html": [
              "\n",
              "  <div id=\"df-27ad76f7-65e0-4e5d-97fd-1b81be2bebe0\">\n",
              "    <div class=\"colab-df-container\">\n",
              "      <div>\n",
              "<style scoped>\n",
              "    .dataframe tbody tr th:only-of-type {\n",
              "        vertical-align: middle;\n",
              "    }\n",
              "\n",
              "    .dataframe tbody tr th {\n",
              "        vertical-align: top;\n",
              "    }\n",
              "\n",
              "    .dataframe thead th {\n",
              "        text-align: right;\n",
              "    }\n",
              "</style>\n",
              "<table border=\"1\" class=\"dataframe\">\n",
              "  <thead>\n",
              "    <tr style=\"text-align: right;\">\n",
              "      <th></th>\n",
              "      <th>target</th>\n",
              "      <th>tweet</th>\n",
              "      <th>text_clean</th>\n",
              "      <th>vectors</th>\n",
              "    </tr>\n",
              "  </thead>\n",
              "  <tbody>\n",
              "    <tr>\n",
              "      <th>0</th>\n",
              "      <td>Legalization of Abortion</td>\n",
              "      <td>Thank you for another day of life Lord. #Chris...</td>\n",
              "      <td>thank you for another day of life lord christi...</td>\n",
              "      <td>[55.943514823913574, 54.997234185536705, 5.031...</td>\n",
              "    </tr>\n",
              "    <tr>\n",
              "      <th>1</th>\n",
              "      <td>Legalization of Abortion</td>\n",
              "      <td>@rosaryrevival Lovely to use Glorious Mysterie...</td>\n",
              "      <td>lovely to use glorious mysteries during easte...</td>\n",
              "      <td>[-51.95571645100912, 38.37546412150065, -2.630...</td>\n",
              "    </tr>\n",
              "    <tr>\n",
              "      <th>2</th>\n",
              "      <td>Legalization of Abortion</td>\n",
              "      <td>@Niall250 good thing is that #DUP have consist...</td>\n",
              "      <td>good thing is that dup have consistently said...</td>\n",
              "      <td>[-62.100396156311035, 13.28352952003479, 178.6...</td>\n",
              "    </tr>\n",
              "    <tr>\n",
              "      <th>3</th>\n",
              "      <td>Legalization of Abortion</td>\n",
              "      <td>So, you tell me... is murder okay if the victi...</td>\n",
              "      <td>so you tell me is murder okay if the victim is...</td>\n",
              "      <td>[-7.296615282694499, 54.1241184870402, 37.2501...</td>\n",
              "    </tr>\n",
              "    <tr>\n",
              "      <th>4</th>\n",
              "      <td>Legalization of Abortion</td>\n",
              "      <td>@HillaryClinton Don't you mean to say (all chi...</td>\n",
              "      <td>dont you mean to say all children deserve the...</td>\n",
              "      <td>[-16.318838278452557, -21.568068504333496, 56....</td>\n",
              "    </tr>\n",
              "  </tbody>\n",
              "</table>\n",
              "</div>\n",
              "      <button class=\"colab-df-convert\" onclick=\"convertToInteractive('df-27ad76f7-65e0-4e5d-97fd-1b81be2bebe0')\"\n",
              "              title=\"Convert this dataframe to an interactive table.\"\n",
              "              style=\"display:none;\">\n",
              "        \n",
              "  <svg xmlns=\"http://www.w3.org/2000/svg\" height=\"24px\"viewBox=\"0 0 24 24\"\n",
              "       width=\"24px\">\n",
              "    <path d=\"M0 0h24v24H0V0z\" fill=\"none\"/>\n",
              "    <path d=\"M18.56 5.44l.94 2.06.94-2.06 2.06-.94-2.06-.94-.94-2.06-.94 2.06-2.06.94zm-11 1L8.5 8.5l.94-2.06 2.06-.94-2.06-.94L8.5 2.5l-.94 2.06-2.06.94zm10 10l.94 2.06.94-2.06 2.06-.94-2.06-.94-.94-2.06-.94 2.06-2.06.94z\"/><path d=\"M17.41 7.96l-1.37-1.37c-.4-.4-.92-.59-1.43-.59-.52 0-1.04.2-1.43.59L10.3 9.45l-7.72 7.72c-.78.78-.78 2.05 0 2.83L4 21.41c.39.39.9.59 1.41.59.51 0 1.02-.2 1.41-.59l7.78-7.78 2.81-2.81c.8-.78.8-2.07 0-2.86zM5.41 20L4 18.59l7.72-7.72 1.47 1.35L5.41 20z\"/>\n",
              "  </svg>\n",
              "      </button>\n",
              "      \n",
              "  <style>\n",
              "    .colab-df-container {\n",
              "      display:flex;\n",
              "      flex-wrap:wrap;\n",
              "      gap: 12px;\n",
              "    }\n",
              "\n",
              "    .colab-df-convert {\n",
              "      background-color: #E8F0FE;\n",
              "      border: none;\n",
              "      border-radius: 50%;\n",
              "      cursor: pointer;\n",
              "      display: none;\n",
              "      fill: #1967D2;\n",
              "      height: 32px;\n",
              "      padding: 0 0 0 0;\n",
              "      width: 32px;\n",
              "    }\n",
              "\n",
              "    .colab-df-convert:hover {\n",
              "      background-color: #E2EBFA;\n",
              "      box-shadow: 0px 1px 2px rgba(60, 64, 67, 0.3), 0px 1px 3px 1px rgba(60, 64, 67, 0.15);\n",
              "      fill: #174EA6;\n",
              "    }\n",
              "\n",
              "    [theme=dark] .colab-df-convert {\n",
              "      background-color: #3B4455;\n",
              "      fill: #D2E3FC;\n",
              "    }\n",
              "\n",
              "    [theme=dark] .colab-df-convert:hover {\n",
              "      background-color: #434B5C;\n",
              "      box-shadow: 0px 1px 3px 1px rgba(0, 0, 0, 0.15);\n",
              "      filter: drop-shadow(0px 1px 2px rgba(0, 0, 0, 0.3));\n",
              "      fill: #FFFFFF;\n",
              "    }\n",
              "  </style>\n",
              "\n",
              "      <script>\n",
              "        const buttonEl =\n",
              "          document.querySelector('#df-27ad76f7-65e0-4e5d-97fd-1b81be2bebe0 button.colab-df-convert');\n",
              "        buttonEl.style.display =\n",
              "          google.colab.kernel.accessAllowed ? 'block' : 'none';\n",
              "\n",
              "        async function convertToInteractive(key) {\n",
              "          const element = document.querySelector('#df-27ad76f7-65e0-4e5d-97fd-1b81be2bebe0');\n",
              "          const dataTable =\n",
              "            await google.colab.kernel.invokeFunction('convertToInteractive',\n",
              "                                                     [key], {});\n",
              "          if (!dataTable) return;\n",
              "\n",
              "          const docLinkHtml = 'Like what you see? Visit the ' +\n",
              "            '<a target=\"_blank\" href=https://colab.research.google.com/notebooks/data_table.ipynb>data table notebook</a>'\n",
              "            + ' to learn more about interactive tables.';\n",
              "          element.innerHTML = '';\n",
              "          dataTable['output_type'] = 'display_data';\n",
              "          await google.colab.output.renderOutput(dataTable, element);\n",
              "          const docLink = document.createElement('div');\n",
              "          docLink.innerHTML = docLinkHtml;\n",
              "          element.appendChild(docLink);\n",
              "        }\n",
              "      </script>\n",
              "    </div>\n",
              "  </div>\n",
              "  "
            ]
          },
          "metadata": {},
          "execution_count": 147
        }
      ]
    },
    {
      "cell_type": "code",
      "source": [
        "#construccion de la red neuronal multicapa (Multilayer perceptron)\n",
        "#importar librerias\n",
        "from sklearn import datasets\n",
        "from sklearn.model_selection import train_test_split\n",
        "from sklearn.preprocessing import StandardScaler\n",
        "\n",
        "import torch\n",
        "from torch.utils.data import TensorDataset, DataLoader\n",
        "from torch import nn, optim\n",
        "import torch.nn.functional as F\n",
        "\n",
        "import numpy as np\n",
        "\n",
        "import matplotlib.pyplot as plt\n",
        "\n",
        "%matplotlib inline"
      ],
      "metadata": {
        "id": "EI22P_65V55b"
      },
      "execution_count": 148,
      "outputs": []
    },
    {
      "cell_type": "code",
      "source": [
        "#ver etiquetas\n",
        "set(df[\"target\"])"
      ],
      "metadata": {
        "colab": {
          "base_uri": "https://localhost:8080/"
        },
        "id": "jbV12-NsQqle",
        "outputId": "ab22560b-ff2d-4d07-f33b-f59c19660158"
      },
      "execution_count": 149,
      "outputs": [
        {
          "output_type": "execute_result",
          "data": {
            "text/plain": [
              "{'Atheism', 'Feminist Movement', 'Hillary Clinton', 'Legalization of Abortion'}"
            ]
          },
          "metadata": {},
          "execution_count": 149
        }
      ]
    },
    {
      "cell_type": "code",
      "source": [
        "#Preparacion de los datos\n",
        "#separar vector word2vec\n",
        "\n",
        "#filtar aquelos tweets sin representacion sparsing\n",
        "df3=df2[:]\n",
        "total_vector=[]\n",
        "for i in range(len(tweet_vector)):\n",
        "  total=sum(tweet_vector[i][:])\n",
        "  total_vector.append(total)\n",
        "\n",
        "df3[\"total\"]=total_vector\n",
        "\n",
        "df3=df3[df3[\"total\"]!=0]\n",
        "\n",
        "\n",
        "X=list(df3[\"vectors\"])\n",
        "X= np.asarray(X)\n",
        "#X=np.asarray(tweet_vector)\n",
        "#respuesta-reemplazando etiquetas por una seri de 1 a 4\n",
        "\n",
        "y=list(df3['target'].map({'Atheism':0.,\n",
        "                             'Feminist Movement':1.,\n",
        "                             'Hillary Clinton':2.,\n",
        "                             'Legalization of Abortion':3.,\n",
        "                             np.nan:'NY'},\n",
        "                             na_action=None))\n",
        "y=np.asarray(y)\n",
        "\n",
        "#estandarizar vector word2vec\n",
        "X = (X - X.mean(axis=0))/X.std(axis=0)\n",
        "#sc = StandardScaler()\n",
        "#X = sc.fit_transform(X)\n"
      ],
      "metadata": {
        "colab": {
          "base_uri": "https://localhost:8080/"
        },
        "id": "kLf_2tw9OBef",
        "outputId": "4174bfaa-de90-48fa-9f84-ede48eccffe8"
      },
      "execution_count": 150,
      "outputs": [
        {
          "output_type": "stream",
          "name": "stderr",
          "text": [
            "/usr/local/lib/python3.7/dist-packages/ipykernel_launcher.py:11: SettingWithCopyWarning: \n",
            "A value is trying to be set on a copy of a slice from a DataFrame.\n",
            "Try using .loc[row_indexer,col_indexer] = value instead\n",
            "\n",
            "See the caveats in the documentation: https://pandas.pydata.org/pandas-docs/stable/user_guide/indexing.html#returning-a-view-versus-a-copy\n",
            "  # This is added back by InteractiveShellApp.init_path()\n"
          ]
        }
      ]
    },
    {
      "cell_type": "code",
      "source": [
        "print(X.shape)\n",
        "print(y.shape)"
      ],
      "metadata": {
        "colab": {
          "base_uri": "https://localhost:8080/"
        },
        "id": "p3Ar5E-rSyhM",
        "outputId": "1c18bf65-78d7-4459-8184-13db12506578"
      },
      "execution_count": 151,
      "outputs": [
        {
          "output_type": "stream",
          "name": "stdout",
          "text": [
            "(1153, 48)\n",
            "(1153,)\n"
          ]
        }
      ]
    },
    {
      "cell_type": "code",
      "source": [
        "#Parametros de la red Neuronal Multicapa\n",
        "RANDOM_SEED = 1 #semilla\n",
        "BATCH_SIZE = 10 #numero de divisiones del dataset\n",
        "NUM_EPOCHS = 200 #numero de iteraciones completas\n",
        "DEVICE = torch.device('cuda:0' if torch.cuda.is_available() else 'cpu') #carga de la red neuronal en la CPU o en la GPU\n",
        "lr = 0.01 #tasa de aprendizaje\n",
        "\n",
        "torch.manual_seed(RANDOM_SEED); # configurar semilla"
      ],
      "metadata": {
        "id": "yXmaPXB6d_dG"
      },
      "execution_count": 152,
      "outputs": []
    },
    {
      "cell_type": "code",
      "source": [
        "#separar en datos de test y de entrenamiento\n",
        "X_train,X_valid,y_train,y_valid = train_test_split(X, y, test_size=0.3, random_state=RANDOM_SEED)"
      ],
      "metadata": {
        "id": "XC6J-4NNS6Je"
      },
      "execution_count": 153,
      "outputs": []
    },
    {
      "cell_type": "code",
      "source": [
        "#convertir numpy arrays a tensores\n",
        "X_train, y_train, X_valid, y_valid = map( lambda x: torch.tensor(x, dtype=torch.float32),\n",
        "                                         (X_train, y_train, X_valid, y_valid) )\n",
        "\n",
        "#convertir a tensor dataset\n",
        "train_ds = TensorDataset(X_train, y_train.long())\n",
        "valid_ds = TensorDataset(X_valid, y_valid.long())\n",
        "\n",
        "#convertir a dataloader\n",
        "train_dl = DataLoader(train_ds, batch_size=BATCH_SIZE, shuffle=True)\n",
        "valid_dl = DataLoader(valid_ds, batch_size = 2*BATCH_SIZE)\n"
      ],
      "metadata": {
        "id": "IVh05_MkTJ5J"
      },
      "execution_count": 154,
      "outputs": []
    },
    {
      "cell_type": "code",
      "source": [
        "print(X_train.shape)\n",
        "print(y_train.shape)"
      ],
      "metadata": {
        "colab": {
          "base_uri": "https://localhost:8080/"
        },
        "id": "I_kICieeay9P",
        "outputId": "61d622d2-4f9e-4a3b-b73f-e28d3f6398f6"
      },
      "execution_count": 155,
      "outputs": [
        {
          "output_type": "stream",
          "name": "stdout",
          "text": [
            "torch.Size([807, 48])\n",
            "torch.Size([807])\n"
          ]
        }
      ]
    },
    {
      "cell_type": "code",
      "source": [
        "#generar modelo\n",
        "num_features = X.shape[1]\n",
        "num_hidden = 50\n",
        "num_classes = len(torch.unique(y_train))\n",
        "\n",
        "model = nn.Sequential(\n",
        "    nn.Linear(num_features,num_hidden),\n",
        "    nn.ReLU(),\n",
        "    nn.Linear(num_hidden, num_classes)\n",
        ")\n",
        "\n",
        "loss_func = F.cross_entropy\n",
        "\n",
        "model = model.to(DEVICE)\n",
        "\n",
        "opt = optim.SGD(model.parameters(),lr = lr)\n"
      ],
      "metadata": {
        "id": "c6AnYJntljn1"
      },
      "execution_count": 182,
      "outputs": []
    },
    {
      "cell_type": "code",
      "source": [
        "def loss_acc_batch(x,y, acc = None):\n",
        "    yp = model(x.to(DEVICE))\n",
        "    yt = y.to(DEVICE).long() # .long() porque espera un entero tipo long\n",
        "    loss = loss_func(yp, yt)\n",
        "    out = [loss, len(x)]\n",
        "    \n",
        "    if acc is not None:\n",
        "        y_pred = torch.argmax(model(x.to(DEVICE)), 1) \n",
        "        accuracy = (y_pred == yt).float().mean().item()\n",
        "        out.append(accuracy)#nar todas las palabras de nuestro vocabulario a un índice correspondiente. Podemos hacerlo de la siguiente\n",
        "    return out"
      ],
      "metadata": {
        "id": "T0QwUm2rctS2"
      },
      "execution_count": 183,
      "outputs": []
    },
    {
      "cell_type": "code",
      "source": [
        "def train():\n",
        "    \n",
        "    train_losses = []\n",
        "    valid_losses = []\n",
        "    train_accs=[]\n",
        "    valid_accs=[]\n",
        "    for epoch in range(NUM_EPOCHS):\n",
        "        model.train() # importante para activar ciertas funciones como dropout, batchnormalization, etc.\n",
        "        losses = 0\n",
        "        nums = 0\n",
        "        train_acc=[]\n",
        "        for x, y in train_dl:\n",
        "            #loss, l = loss_acc_batch(x,y)\n",
        "            loss, l,acc = loss_acc_batch(x,y,acc=True)\n",
        "            loss.backward()\n",
        "            opt.step()\n",
        "            opt.zero_grad()\n",
        "            \n",
        "            losses += loss.item() * l\n",
        "            nums += l\n",
        "            train_acc.append(acc)\n",
        "        train_loss = losses / nums\n",
        "        train_losses.append(train_loss)\n",
        "\n",
        "        \n",
        "        model.eval()  #importante para desactivar ciertas funciones como dropout, batchnormalization, etc.\n",
        "        with torch.no_grad():\n",
        "            losses, nums, accs = zip(*[loss_acc_batch(xb, yb, acc=True) for xb, yb in valid_dl])\n",
        "        losses = [l.item() for l in losses]\n",
        "        valid_loss = np.sum(np.multiply(losses,nums)) / np.sum(nums)\n",
        "        valid_losses.append(valid_loss)\n",
        "        \n",
        "        valid_acc = np.sum(np.multiply(accs,nums)) / np.sum(nums)\n",
        "        valid_accs.append(valid_acc)\n",
        "        \n",
        "        if epoch % 10 == 0:\n",
        "            print(f\"epoch: {epoch}, train_loss: {train_loss:.4f} \\\n",
        "            valid_loss: {valid_loss:.4f}, valid_acc: {valid_acc:.4f}\")\n",
        "            #print(f\"epoch: {epoch},    train_loss: {train_loss:.4f}, train_acc: {train_acc:.4f}, \\\n",
        "            #test_loss: {valid_loss:.4f}, test_acc: {valid_acc:.4f}\")\n",
        "    \n",
        "  \n",
        "\n",
        "    \n",
        "    return train_losses,train_accs,valid_losses,valid_accs "
      ],
      "metadata": {
        "id": "h64FEycoc0zn"
      },
      "execution_count": 184,
      "outputs": []
    },
    {
      "cell_type": "code",
      "source": [
        "train_losses,train_accs,valid_losses,valid_accs=train()"
      ],
      "metadata": {
        "colab": {
          "base_uri": "https://localhost:8080/"
        },
        "id": "SBDsIheVcunt",
        "outputId": "f378338f-6adc-49d1-9638-627a46738f2b"
      },
      "execution_count": 185,
      "outputs": [
        {
          "output_type": "stream",
          "name": "stdout",
          "text": [
            "epoch: 0, train_loss: 1.4034             valid_loss: 1.3824, valid_acc: 0.2630\n",
            "epoch: 10, train_loss: 1.2172             valid_loss: 1.2951, valid_acc: 0.4017\n",
            "epoch: 20, train_loss: 1.1023             valid_loss: 1.2734, valid_acc: 0.4422\n",
            "epoch: 30, train_loss: 1.0264             valid_loss: 1.2831, valid_acc: 0.4422\n",
            "epoch: 40, train_loss: 0.9640             valid_loss: 1.2987, valid_acc: 0.4509\n",
            "epoch: 50, train_loss: 0.9091             valid_loss: 1.3187, valid_acc: 0.4711\n",
            "epoch: 60, train_loss: 0.8588             valid_loss: 1.3400, valid_acc: 0.4653\n",
            "epoch: 70, train_loss: 0.8126             valid_loss: 1.3663, valid_acc: 0.4595\n",
            "epoch: 80, train_loss: 0.7705             valid_loss: 1.3897, valid_acc: 0.4711\n",
            "epoch: 90, train_loss: 0.7299             valid_loss: 1.4155, valid_acc: 0.4798\n",
            "epoch: 100, train_loss: 0.6922             valid_loss: 1.4435, valid_acc: 0.4740\n",
            "epoch: 110, train_loss: 0.6543             valid_loss: 1.4750, valid_acc: 0.4769\n",
            "epoch: 120, train_loss: 0.6194             valid_loss: 1.5124, valid_acc: 0.4624\n",
            "epoch: 130, train_loss: 0.5866             valid_loss: 1.5459, valid_acc: 0.4624\n",
            "epoch: 140, train_loss: 0.5570             valid_loss: 1.5817, valid_acc: 0.4653\n",
            "epoch: 150, train_loss: 0.5276             valid_loss: 1.6231, valid_acc: 0.4769\n",
            "epoch: 160, train_loss: 0.5015             valid_loss: 1.6682, valid_acc: 0.4682\n",
            "epoch: 170, train_loss: 0.4744             valid_loss: 1.7098, valid_acc: 0.4682\n",
            "epoch: 180, train_loss: 0.4503             valid_loss: 1.7524, valid_acc: 0.4653\n",
            "epoch: 190, train_loss: 0.4275             valid_loss: 1.8018, valid_acc: 0.4624\n"
          ]
        }
      ]
    },
    {
      "cell_type": "code",
      "source": [
        "plt.plot(range(NUM_EPOCHS), train_losses, 'r', label='train')\n",
        "plt.plot(range(NUM_EPOCHS), valid_losses, 'b', label = 'valid')\n",
        "plt.legend()\n",
        "plt.title('Loss')"
      ],
      "metadata": {
        "colab": {
          "base_uri": "https://localhost:8080/",
          "height": 298
        },
        "id": "Q6ukAvIUe2cD",
        "outputId": "7fdd89c0-c7b9-4546-96c8-f728240d4b52"
      },
      "execution_count": 186,
      "outputs": [
        {
          "output_type": "execute_result",
          "data": {
            "text/plain": [
              "Text(0.5, 1.0, 'Loss')"
            ]
          },
          "metadata": {},
          "execution_count": 186
        },
        {
          "output_type": "display_data",
          "data": {
            "text/plain": [
              "<Figure size 432x288 with 1 Axes>"
            ],
            "image/png": "[encoded data removed]"
          },
          "metadata": {
            "needs_background": "light"
          }
        }
      ]
    },
    {
      "cell_type": "code",
      "source": [
        "plt.plot(range(NUM_EPOCHS), valid_accs, 'y', label = 'test')\n",
        "plt.legend()\n",
        "plt.title('Accuracy')"
      ],
      "metadata": {
        "colab": {
          "base_uri": "https://localhost:8080/",
          "height": 298
        },
        "id": "n-S6j4zhe7hc",
        "outputId": "6975660f-02cf-4ee1-9196-bc441bbb02e7"
      },
      "execution_count": 187,
      "outputs": [
        {
          "output_type": "execute_result",
          "data": {
            "text/plain": [
              "Text(0.5, 1.0, 'Accuracy')"
            ]
          },
          "metadata": {},
          "execution_count": 187
        },
        {
          "output_type": "display_data",
          "data": {
            "text/plain": [
              "<Figure size 432x288 with 1 Axes>"
            ],
            "image/png": "[encoded data removed]"
          },
          "metadata": {
            "needs_background": "light"
          }
        }
      ]
    },
    {
      "cell_type": "markdown",
      "metadata": {
        "id": "wPmpZW7MQsj1"
      },
      "source": [
        "### Ejercicio 5\n",
        "Este ejercicio, es más bien un tutorial de como realizar un clasificador de ventanas de palabras, acercandónos a un problema de NLP conocido como \"Name Entity Recognition\" (NER), el cual busca clasificar cada palabra en por ejemplo si es un nombre, pronombre, verbo, lugar, etc. Esto es muy importante, porque introduce varias cuestiones claves que se usan en el NLP con deep learning. Al final, el ejercicio será (1) entender cada parte y (2) realizar el mismo procedimiento pero clasificando entre varios tipos de palabras (no sólo una). "
      ]
    },
    {
      "cell_type": "code",
      "execution_count": null,
      "metadata": {
        "ExecuteTime": {
          "end_time": "2022-02-28T12:01:54.597689Z",
          "start_time": "2022-02-28T12:01:54.594870Z"
        },
        "lang": "es",
        "id": "j5NP0JigQsj1"
      },
      "outputs": [],
      "source": [
        "# Nuestros datos sin procesar, que consisten en oraciones\n",
        "corpus = [\n",
        "          \"Nosotros siempre venimos a París\",\n",
        "          \"El profesor es de Australia\",\n",
        "          \"Yo vivo en Bogotá\",\n",
        "          \"Él viene de Taiwán\",\n",
        "          \"La capital de Turquía es Ankara\"\n",
        "         ]"
      ]
    },
    {
      "cell_type": "markdown",
      "metadata": {
        "lang": "es",
        "id": "1ZZIc51RQsj1"
      },
      "source": [
        "#### Preprocesamiento\n",
        "\n",
        "Para facilitar el aprendizaje de nuestros modelos, generalmente aplicamos algunos pasos de preprocesamiento a nuestros datos. Esto es especialmente importante cuando se trata de datos de texto. Estos son algunos ejemplos de preprocesamiento de texto:\n",
        "* **Tokenización**: Tokenización de oraciones en palabras.\n",
        "* **Lowercasing**: Cambiar todas las letras a minúsculas.\n",
        "* **Eliminación de ruido**: Eliminación de caracteres especiales (como signos de puntuación o quitar tíldes).\n",
        "* **Eliminación de palabras vacías**: eliminación de palabras de uso común.\n",
        "\n",
        "Los pasos de preprocesamiento necesarios están determinados por la tarea en cuestión. Por ejemplo, aunque es útil eliminar caracteres especiales en algunas tareas, para otras pueden ser importantes (por ejemplo, si estamos hablando de varios idiomas). Para nuestra tarea, escribiremos en minúsculas nuestras palabras y tokenizaremos."
      ]
    },
    {
      "cell_type": "code",
      "execution_count": null,
      "metadata": {
        "ExecuteTime": {
          "end_time": "2022-02-28T17:29:42.298122Z",
          "start_time": "2022-02-28T17:29:42.294408Z"
        },
        "id": "6e9nh9_eQsj1"
      },
      "outputs": [],
      "source": [
        "import re\n",
        "from unicodedata import normalize\n",
        "def quitartildes(s):\n",
        "    # -> NFD y eliminar diacríticos\n",
        "    s = re.sub(\n",
        "            r\"([^n\\u0300-\\u036f]|n(?!\\u0303(?![\\u0300-\\u036f])))[\\u0300-\\u036f]+\", r\"\\1\", \n",
        "            normalize( \"NFD\", s), 0, re.I\n",
        "        )\n",
        "\n",
        "    # -> NFCNosotros\n",
        "    return normalize( 'NFC', s)"
      ]
    },
    {
      "cell_type": "code",
      "execution_count": null,
      "metadata": {
        "ExecuteTime": {
          "end_time": "2022-02-28T12:02:33.349815Z",
          "start_time": "2022-02-28T12:02:33.338195Z"
        },
        "colab": {
          "base_uri": "https://localhost:8080/"
        },
        "id": "fTGn8ANTzZXT",
        "lang": "en",
        "outputId": "0ed249ae-7272-4400-9319-d7cc9dca02d4"
      },
      "outputs": [
        {
          "data": {
            "text/plain": [
              "[['nosotros', 'siempre', 'venimos', 'a', 'paris'],\n",
              " ['el', 'profesor', 'es', 'de', 'australia'],\n",
              " ['yo', 'vivo', 'en', 'bogota'],\n",
              " ['el', 'viene', 'de', 'taiwan'],\n",
              " ['la', 'capital', 'de', 'turquia', 'es', 'ankara']]"
            ]
          },
          "execution_count": 401,
          "metadata": {},
          "output_type": "execute_result"
        }
      ],
      "source": [
        "# La función de preprocesamiento que usaremos para generar nuestros ejemplos de entrenamiento\n",
        "# Nuestra función es simple, ponemos las letras en minúsculas, quitamos tildes\n",
        "# y luego tokenizamos las palabras.\n",
        "def preprocess_sentence(sentence):\n",
        "  return quitartildes(sentence).lower().split()\n",
        "\n",
        "# Crea nuestro conjunto de entrenamiento\n",
        "train_sentences = [preprocess_sentence(sent) for sent in corpus]\n",
        "train_sentences"
      ]
    },
    {
      "cell_type": "markdown",
      "metadata": {
        "lang": "es",
        "id": "udP5qpxdQsj2"
      },
      "source": [
        "Para cada ejemplo de entrenamiento que tengamos, también deberíamos tener una etiqueta correspondiente. Recuerde que el objetivo de nuestro modelo era determinar qué palabras corresponden a una `UBICACIÓN`. Es decir, queremos que nuestro modelo genere `0` para todas las palabras que no sean `UBICACION` y `1` para las que sean `UBICACION`."
      ]
    },
    {
      "cell_type": "code",
      "execution_count": null,
      "metadata": {
        "ExecuteTime": {
          "end_time": "2022-02-28T12:04:05.416956Z",
          "start_time": "2022-02-28T12:04:05.411731Z"
        },
        "colab": {
          "base_uri": "https://localhost:8080/"
        },
        "id": "3wo1kcMAHFw7",
        "outputId": "f064cb0b-7176-4825-bab9-f7c00accff3a"
      },
      "outputs": [
        {
          "data": {
            "text/plain": [
              "[[0, 0, 0, 0, 1],\n",
              " [0, 0, 0, 0, 1],\n",
              " [0, 0, 0, 1],\n",
              " [0, 0, 0, 1],\n",
              " [0, 0, 0, 1, 0, 1]]"
            ]
          },
          "execution_count": 402,
          "metadata": {},
          "output_type": "execute_result"
        }
      ],
      "source": [
        "# Set de ubicaciones que aparecen en el corpus\n",
        "locations = set([\"australia\", \"ankara\", \"paris\", \"bogota\", \"taiwan\", \"turquia\"])\n",
        "\n",
        "# Nuestras etiquetas de entrenamiento\n",
        "train_labels = [[1 if word in locations else 0 for word in sent] for sent in train_sentences]\n",
        "train_labels"
      ]
    },
    {
      "cell_type": "markdown",
      "metadata": {
        "lang": "es",
        "id": "cT_zSnfuQsj2"
      },
      "source": [
        "#### Convertir palabras a Embeddings\n",
        "\n",
        "Veamos nuestros datos de entrenamiento un poco más de cerca. Cada punto de datos que tenemos es una secuencia de palabras. Por otro lado, sabemos que los modelos de aprendizaje automático funcionan con números en vectores. ¿Cómo vamos a convertir las palabras en números? ¡A través de los embeddings!\n",
        "\n",
        "Imagine que tenemos una tabla de búsqueda de embeddings `E`, donde cada fila corresponde a un embedding. Es decir, cada palabra de nuestro vocabulario tendría una fila de embedding `i` correspondiente en esta tabla. Siempre que queramos encontrar una embedding para una palabra, seguiremos estos pasos:\n",
        "1. Buscar el índice correspondiente `i` de la palabra en la tabla de embedding: `palabra->índice`.\n",
        "2. Indexar en la tabla de embedding y obtener el embedding: `índice->embedding`.\n",
        "\n",
        "Veamos el primer paso. Deberíamos asignar todas las palabras de nuestro vocabulario a un índice correspondiente. Podemos hacerlo de la siguiente manera:\n",
        "1. Encontrando todas las palabras únicas en nuestro corpus.\n",
        "2. Asignando un índice a cada uno."
      ]
    },
    {
      "cell_type": "code",
      "execution_count": null,
      "metadata": {
        "ExecuteTime": {
          "end_time": "2022-02-28T12:19:17.566727Z",
          "start_time": "2022-02-28T12:19:17.562687Z"
        },
        "colab": {
          "base_uri": "https://localhost:8080/"
        },
        "id": "SjTDlfPyVp5z",
        "lang": "en",
        "outputId": "bce95386-3b75-470b-8c9b-9c2255203c4e"
      },
      "outputs": [
        {
          "data": {
            "text/plain": [
              "{'a',\n",
              " 'ankara',\n",
              " 'australia',\n",
              " 'bogota',\n",
              " 'capital',\n",
              " 'de',\n",
              " 'el',\n",
              " 'en',\n",
              " 'es',\n",
              " 'la',\n",
              " 'nosotros',\n",
              " 'paris',\n",
              " 'profesor',\n",
              " 'siempre',\n",
              " 'taiwan',\n",
              " 'turquia',\n",
              " 'venimos',\n",
              " 'viene',\n",
              " 'vivo',\n",
              " 'yo'}"
            ]
          },
          "execution_count": 403,
          "metadata": {},
          "output_type": "execute_result"
        }
      ],
      "source": [
        "# Encuentra todas las palabras únicas en nuestro corpus\n",
        "vocabulary = set(w for s in train_sentences for w in s)\n",
        "vocabulary"
      ]
    },
    {
      "cell_type": "markdown",
      "metadata": {
        "lang": "es",
        "id": "NyIJiw7fQsj3"
      },
      "source": [
        "`vocabulary` ahora contiene todas las palabras en nuestro corpus. Por otro lado, durante la (evaluación con el conjunto de) prueba, podemos ver palabras que no están contenidas en nuestro vocabulario. Si podemos encontrar una forma de representar las palabras desconocidas, nuestro modelo aún podría razonar sobre si son una 'UBICACIÓN' o no, ya que también estamos mirando las palabras vecinas para cada predicción.\n",
        "\n",
        "Introducimos un token especial, `<unk>`, para abordar las palabras que están fuera del vocabulario. Podríamos elegir otra cadena para nuestro token desconocido si quisiéramos. El único requisito aquí es que nuestro token debe ser único: solo debemos usar este token para palabras desconocidas. También agregaremos este token especial a nuestro vocabulario."
      ]
    },
    {
      "cell_type": "code",
      "execution_count": null,
      "metadata": {
        "ExecuteTime": {
          "end_time": "2022-02-28T12:20:46.951737Z",
          "start_time": "2022-02-28T12:20:46.949319Z"
        },
        "lang": "es",
        "id": "Q7gE-DR5Qsj3"
      },
      "outputs": [],
      "source": [
        "# Agrega el token desconocido a nuestro vocabulario\n",
        "vocabulary.add(\"<unk>\")"
      ]
    },
    {
      "cell_type": "markdown",
      "metadata": {
        "lang": "es",
        "id": "8aT_SqP-Qsj3"
      },
      "source": [
        "Anteriormente mencionamos que nuestra tarea se llamaba \"Clasificación de ventana de palabras\" porque nuestro modelo está mirando las palabras circundantes además de la palabra central, cuando se necesita hacer una predicción.\n",
        "\n",
        "Por ejemplo, tomemos la oración \"Nosotros siempre venimos a París\". La etiqueta de entrenamiento correspondiente para esta oración es `0, 0, 0, 0, 1` ya que solo París, la última palabra, es una `UBICACIÓN`. En una sola pasada (es decir, una llamada a `forward()`), nuestro modelo intentará generar la etiqueta correcta para una palabra. Digamos que nuestro modelo intenta generar la etiqueta correcta `1` para `París`. Si solo permitimos que nuestro modelo vea `París`, pero nada más, nos perderemos información importante, como por ejemplo, de que la palabra 'a' aparece muchas veces con `UBICACIONES`.\n",
        "\n",
        "Las ventanas de palabras permiten que nuestro modelo considere `+N` o `-N` palabras alrededor de cada palabra al hacer una predicción. En nuestro ejemplo anterior para `París`, si tenemos un tamaño de ventana de 1, eso significa que nuestro modelo mirará las palabras que vienen inmediatamente antes e inmediatamente después de `París`, que son `a` y, *ninguna palabra*. Ahora bien, esto plantea otro problema. `París` está al final de nuestra oración, por lo que no hay otra palabra que la siga. Recuerde que definimos las dimensiones de entrada de nuestros modelos en `PyTorch` cuando los inicializamos. Si establecemos el tamaño de la ventana en `1`, significa que nuestro modelo aceptará `3` palabras en cada paso. No podemos hacer que nuestro modelo espere `2` palabras de vez en cuando.\n",
        "\n",
        "La solución es introducir un token especial, `<pad>`, que se agregará a nuestras oraciones para asegurarnos de que cada palabra tenga una ventana válida alrededor. Similar al token `<unk>`, podríamos elegir otra cadena para nuestro token de relleno si quisiéramos, siempre y cuando nos aseguremos de que se use para un propósito único."
      ]
    },
    {
      "cell_type": "code",
      "execution_count": null,
      "metadata": {
        "ExecuteTime": {
          "end_time": "2022-02-28T12:24:59.410072Z",
          "start_time": "2022-02-28T12:24:59.405189Z"
        },
        "colab": {
          "base_uri": "https://localhost:8080/"
        },
        "id": "ZVQsjYi6ZegI",
        "lang": "en",
        "outputId": "f0f45f18-0e91-48e5-f5b7-229c2c36a694"
      },
      "outputs": [
        {
          "data": {
            "text/plain": [
              "['<pad>',\n",
              " '<pad>',\n",
              " 'nosotros',\n",
              " 'siempre',\n",
              " 'venimos',\n",
              " 'a',\n",
              " 'paris',\n",
              " '<pad>',\n",
              " '<pad>']"
            ]
          },
          "execution_count": 405,
          "metadata": {},
          "output_type": "execute_result"
        }
      ],
      "source": [
        "# Agregua el token <pad> a nuestro vocabulario\n",
        "vocabulary.add(\"<pad>\")\n",
        "\n",
        "# Función que rellena la oración dada\n",
        "# Estamos introduciendo esta función aquí como un ejemplo\n",
        "# Lo utilizaremos más adelante en el tutorial.\n",
        "def pad_window(sentence, window_size, pad_token=\"<pad>\"):\n",
        "  window = [pad_token] * window_size\n",
        "  return window + sentence + window\n",
        "\n",
        "# Muestra un ejemplo de relleno\n",
        "window_size = 2\n",
        "pad_window(train_sentences[0], window_size=window_size)"
      ]
    },
    {
      "cell_type": "markdown",
      "metadata": {
        "lang": "es",
        "id": "btMIaOElQsj4"
      },
      "source": [
        "Ahora que nuestro vocabulario está listo, asignemos un índice a cada una de nuestras palabras."
      ]
    },
    {
      "cell_type": "code",
      "execution_count": null,
      "metadata": {
        "ExecuteTime": {
          "end_time": "2022-02-28T12:51:17.026347Z",
          "start_time": "2022-02-28T12:51:17.020997Z"
        },
        "colab": {
          "base_uri": "https://localhost:8080/"
        },
        "id": "BNCTQnKDa4oh",
        "lang": "en",
        "outputId": "dedbe39a-40c2-42e8-be56-96b6d961fd99"
      },
      "outputs": [
        {
          "data": {
            "text/plain": [
              "{'<pad>': 0,\n",
              " '<unk>': 1,\n",
              " 'a': 2,\n",
              " 'ankara': 3,\n",
              " 'australia': 4,\n",
              " 'bogota': 5,\n",
              " 'capital': 6,\n",
              " 'de': 7,\n",
              " 'el': 8,\n",
              " 'en': 9,\n",
              " 'es': 10,\n",
              " 'la': 11,\n",
              " 'nosotros': 12,\n",
              " 'paris': 13,\n",
              " 'profesor': 14,\n",
              " 'siempre': 15,\n",
              " 'taiwan': 16,\n",
              " 'turquia': 17,\n",
              " 'venimos': 18,\n",
              " 'viene': 19,\n",
              " 'vivo': 20,\n",
              " 'yo': 21}"
            ]
          },
          "execution_count": 406,
          "metadata": {},
          "output_type": "execute_result"
        }
      ],
      "source": [
        "# Solo estamos convirtiendo nuestro vocabulario en una lista para poder indexarla\n",
        "# Aunque ordenar no es necesario, ordenamos para mostrar un diccionario word_to_ind ordenado\n",
        "# Dicho esto, veremos que tener el índice para el token de relleno\n",
        "# como 0 es conveniente ya que algunas funciones de PyTorch lo usan como valor predeterminado\n",
        "# como sucede con nn.utils.rnn.pad_sequence, que veremos en un momento\n",
        "ix_to_word = sorted(list(vocabulary))\n",
        "\n",
        "# Creando un diccionario para encontrar el índice de una palabra dada\n",
        "word_to_ix = {word: ind for ind, word in enumerate(ix_to_word)}\n",
        "word_to_ix"
      ]
    },
    {
      "cell_type": "code",
      "execution_count": null,
      "metadata": {
        "ExecuteTime": {
          "end_time": "2022-02-28T12:51:20.976293Z",
          "start_time": "2022-02-28T12:51:20.972583Z"
        },
        "colab": {
          "base_uri": "https://localhost:8080/",
          "height": 35
        },
        "id": "pt-0SK67hMVo",
        "outputId": "a8516317-65c7-4548-c0ac-6f6711a5370c"
      },
      "outputs": [
        {
          "data": {
            "text/plain": [
              "'<unk>'"
            ]
          },
          "execution_count": 407,
          "metadata": {},
          "output_type": "execute_result"
        }
      ],
      "source": [
        "ix_to_word[1]"
      ]
    },
    {
      "cell_type": "markdown",
      "metadata": {
        "lang": "es",
        "id": "IgIGMS8vQsj5"
      },
      "source": [
        "Ahora, estamos listos para convertir nuestras oraciones de entrenamiento en una secuencia de índices correspondientes a cada token."
      ]
    },
    {
      "cell_type": "code",
      "execution_count": null,
      "metadata": {
        "ExecuteTime": {
          "end_time": "2022-02-28T12:52:06.907826Z",
          "start_time": "2022-02-28T12:52:06.901238Z"
        },
        "colab": {
          "base_uri": "https://localhost:8080/"
        },
        "id": "ZNOxip15bMfH",
        "lang": "en",
        "outputId": "74f8344f-bdeb-4a37-9442-b317013cdc10"
      },
      "outputs": [
        {
          "name": "stdout",
          "output_type": "stream",
          "text": [
            "La oración original es: ['nosotros', 'siempre', 'venimos', 'a', 'kuwait']\n",
            "Pasar de palabras a índices: [12, 15, 18, 2, 1]\n",
            "Pasando de índices a palabras: ['nosotros', 'siempre', 'venimos', 'a', '<unk>']\n"
          ]
        }
      ],
      "source": [
        "# Dada una sentencia de tokens, devuelve los índices correspondientes\n",
        "def convert_token_to_indices(sentence, word_to_ix):\n",
        "  indices = []\n",
        "  for token in sentence:\n",
        "    # Comprueba si el token está en nuestro vocabulario. Si es así, obtiene su índice.\n",
        "    # Si no, obtiene el índice del token desconocido.\n",
        "    if token in word_to_ix:\n",
        "      index = word_to_ix[token]\n",
        "    else:\n",
        "      index = word_to_ix[\"<unk>\"]\n",
        "    indices.append(index)\n",
        "  return indices\n",
        "\n",
        "# Versión más compacta de la misma función\n",
        "def _convert_token_to_indices(sentence, word_to_ix):\n",
        "  return [word_to_ix.get(token, word_to_ix[\"<unk>\"]) for token in sentence]\n",
        "\n",
        "# Muestra un ejemplo\n",
        "example_sentence = [\"nosotros\", \"siempre\", \"venimos\", \"a\", \"kuwait\"]\n",
        "example_indices = convert_token_to_indices(example_sentence, word_to_ix)\n",
        "restored_example = [ix_to_word[ind] for ind in example_indices]\n",
        "\n",
        "print(f\"La oración original es: {example_sentence}\")\n",
        "print(f\"Pasar de palabras a índices: {example_indices}\")\n",
        "print(f\"Pasando de índices a palabras: {restored_example}\")"
      ]
    },
    {
      "cell_type": "markdown",
      "metadata": {
        "lang": "es",
        "id": "3DQrkxc1QskL"
      },
      "source": [
        "En el ejemplo anterior, `kuwait` aparece como `<unk>`, porque no está incluido en nuestro vocabulario. Convirtamos nuestras `train_sentences` a `example_padded_indices`."
      ]
    },
    {
      "cell_type": "code",
      "execution_count": null,
      "metadata": {
        "id": "npUR32HGQskM",
        "outputId": "33d95022-4147-4ea0-8596-fbef72add687"
      },
      "outputs": [
        {
          "data": {
            "text/plain": [
              "[['nosotros', 'siempre', 'venimos', 'a', 'paris'],\n",
              " ['el', 'profesor', 'es', 'de', 'australia'],\n",
              " ['yo', 'vivo', 'en', 'bogota'],\n",
              " ['el', 'viene', 'de', 'taiwan'],\n",
              " ['la', 'capital', 'de', 'turquia', 'es', 'ankara']]"
            ]
          },
          "execution_count": 409,
          "metadata": {},
          "output_type": "execute_result"
        }
      ],
      "source": [
        "train_sentences"
      ]
    },
    {
      "cell_type": "code",
      "execution_count": null,
      "metadata": {
        "ExecuteTime": {
          "end_time": "2022-02-28T12:52:24.599737Z",
          "start_time": "2022-02-28T12:52:24.595267Z"
        },
        "colab": {
          "base_uri": "https://localhost:8080/"
        },
        "id": "JRaKQwSJH-1d",
        "outputId": "ac2c370a-4d6e-41a7-afd2-652c76f6c235"
      },
      "outputs": [
        {
          "data": {
            "text/plain": [
              "[[12, 15, 18, 2, 13],\n",
              " [8, 14, 10, 7, 4],\n",
              " [21, 20, 9, 5],\n",
              " [8, 19, 7, 16],\n",
              " [11, 6, 7, 17, 10, 3]]"
            ]
          },
          "execution_count": 410,
          "metadata": {},
          "output_type": "execute_result"
        }
      ],
      "source": [
        "# Convirtiendo nuestras sentencias a indices\n",
        "example_padded_indices = [convert_token_to_indices(s, word_to_ix) for s in train_sentences]\n",
        "import torch\n",
        "import torch.nn as nn\n",
        "import torch.nn.functional as F\n",
        "example_padded_indices"
      ]
    },
    {
      "cell_type": "markdown",
      "metadata": {
        "lang": "es",
        "id": "0FU33F1IQskM"
      },
      "source": [
        "Ahora que tenemos un índice para cada palabra en nuestro vocabulario, podemos crear una tabla de embedding con la clase `nn.Embedding` de `PyTorch`. Se llama de la siguiente manera `nn.Embedding(num_words, embedding_dimension)` donde `num_words` es el número de palabras en nuestro vocabulario y `embedding_dimension` es la dimensión de los embeddings que queremos tener. No hay nada sofisticado en `nn.Embedding`: es solo una clase wrapper alrededor de un tensor dimensional entrenable de tamaño `NxE` , donde `N` es el número de palabras en nuestro vocabulario y `E` es el número de dimensiones incrustadas. Esta tabla es inicialmente aleatoria, pero cambiará con el tiempo. A medida que entrenamos nuestra red, los gradientes se propagarán hacia atrás hasta la capa de embedding y, por lo tanto, nuestros embeddings de palabras se actualizarán. Posteriormente, inicializaremos la capa de embedding que usaremos para nuestro modelo dentro de nuestro modelo, pero a continuación mostramos un ejemplo."
      ]
    },
    {
      "cell_type": "code",
      "execution_count": null,
      "metadata": {
        "ExecuteTime": {
          "end_time": "2022-02-28T12:54:24.057777Z",
          "start_time": "2022-02-28T12:54:24.052087Z"
        },
        "colab": {
          "base_uri": "https://localhost:8080/"
        },
        "id": "F4AgHzv91VXx",
        "lang": "en",
        "outputId": "5404f7e3-919b-4e98-9411-0f92bd5248e1"
      },
      "outputs": [
        {
          "data": {
            "text/plain": [
              "[Parameter containing:\n",
              " tensor([[-0.2701,  1.1325,  1.2827,  0.4025,  1.5574],\n",
              "         [ 2.0379, -0.1133, -1.0065, -0.3798, -0.6784],\n",
              "         [-1.0526,  0.2232,  1.0225,  0.7758,  0.6460],\n",
              "         [ 0.7403, -0.7496, -1.1346,  0.4310, -0.2231],\n",
              "         [ 0.0405,  0.3553,  1.9383, -1.2549,  0.4596],\n",
              "         [ 1.5001,  0.3899,  0.4037, -0.4791, -0.5764],\n",
              "         [-2.3239, -0.2855, -0.5037,  0.5825, -2.6750],\n",
              "         [ 0.1853, -1.3125, -0.7756, -0.0946, -1.1716],\n",
              "         [ 0.5121,  0.3451, -1.1712,  0.2560,  0.4515],\n",
              "         [-0.7774, -2.5793,  1.3328,  0.3100,  0.0807],\n",
              "         [ 0.1372,  1.2757,  0.4263,  0.1225,  0.5575],\n",
              "         [ 0.3046, -0.5084, -0.3842, -0.1862, -0.1642],\n",
              "         [ 0.5038,  1.2022,  0.5476, -0.5097,  1.6420],\n",
              "         [-1.3696, -0.1333,  0.6123, -2.7727,  0.4360],\n",
              "         [ 0.1246,  1.5180,  0.6852,  1.6848, -0.5546],\n",
              "         [-0.3907,  1.0325,  0.1649, -0.5915, -0.0146],\n",
              "         [-0.3801, -0.2620, -0.5226, -0.4227,  0.0772],\n",
              "         [ 1.6050,  1.2685,  0.1908,  0.3624, -1.1096],\n",
              "         [ 0.1569,  0.6185,  1.4835, -0.2636, -0.4409],\n",
              "         [-1.6116,  0.7782, -0.8651, -0.4189,  0.9133],\n",
              "         [ 0.2694,  0.0204, -0.9279, -1.0297, -1.0448],\n",
              "         [-0.8124,  0.4942,  1.2591,  0.0619, -1.3850]], requires_grad=True)]"
            ]
          },
          "execution_count": 411,
          "metadata": {},
          "output_type": "execute_result"
        }
      ],
      "source": [
        "import torch\n",
        "import torch.nn as nn\n",
        "import torch.nn.functional as F\n",
        "\n",
        "# Creando una tabla de embedding para nuestras palabras\n",
        "embedding_dim = 5\n",
        "embeds = nn.Embedding(len(vocabulary), embedding_dim)\n",
        "\n",
        "# Imprimiendo los parámetros en nuestra tabla de embedding\n",
        "list(embeds.parameters())"
      ]
    },
    {
      "cell_type": "markdown",
      "metadata": {
        "lang": "es",
        "id": "nsBckdRbQskN"
      },
      "source": [
        "Para obtener el embedding de la palabra para una palabra en nuestro vocabulario, todo lo que tenemos que hacer es crear un tensor de búsqueda. El tensor de búsqueda es solo un tensor que contiene el índice que queremos buscar. La clase `nn.Embedding` espera un tensor de índices que sea del tipo `Long` Tensor, por lo que debemos crear nuestro tensor en consecuencia."
      ]
    },
    {
      "cell_type": "code",
      "execution_count": null,
      "metadata": {
        "ExecuteTime": {
          "end_time": "2022-02-28T12:55:18.168568Z",
          "start_time": "2022-02-28T12:55:18.163797Z"
        },
        "colab": {
          "base_uri": "https://localhost:8080/"
        },
        "id": "nkldmcepjfh_",
        "outputId": "b9e24c31-547d-41e5-9509-fb9e9777cd01"
      },
      "outputs": [
        {
          "data": {
            "text/plain": [
              "tensor([-1.3696, -0.1333,  0.6123, -2.7727,  0.4360],\n",
              "       grad_fn=<EmbeddingBackward0>)"
            ]
          },
          "execution_count": 412,
          "metadata": {},
          "output_type": "execute_result"
        }
      ],
      "source": [
        "# Obtiene el embedding para la palabra paris\n",
        "index = word_to_ix[\"paris\"]\n",
        "index_tensor = torch.tensor(index, dtype=torch.long)\n",
        "paris_embed = embeds(index_tensor)\n",
        "paris_embed"
      ]
    },
    {
      "cell_type": "code",
      "execution_count": null,
      "metadata": {
        "ExecuteTime": {
          "end_time": "2022-02-28T12:55:26.937443Z",
          "start_time": "2022-02-28T12:55:26.932027Z"
        },
        "colab": {
          "base_uri": "https://localhost:8080/"
        },
        "id": "mUsdwBOxm6B4",
        "lang": "en",
        "outputId": "5b8cb8fe-0787-4e93-946b-ed719efcdd8b"
      },
      "outputs": [
        {
          "data": {
            "text/plain": [
              "tensor([[-1.3696, -0.1333,  0.6123, -2.7727,  0.4360],\n",
              "        [ 0.7403, -0.7496, -1.1346,  0.4310, -0.2231]],\n",
              "       grad_fn=<EmbeddingBackward0>)"
            ]
          },
          "execution_count": 413,
          "metadata": {},
          "output_type": "execute_result"
        }
      ],
      "source": [
        "# También podemos obtener múltiples embeddings a la vez\n",
        "index_paris = word_to_ix[\"paris\"]\n",
        "index_ankara = word_to_ix[\"ankara\"]\n",
        "indices = [index_paris, index_ankara]\n",
        "indices_tensor = torch.tensor(indices, dtype=torch.long)\n",
        "embeddings = embeds(indices_tensor)\n",
        "embeddings"
      ]
    },
    {
      "cell_type": "markdown",
      "metadata": {
        "lang": "es",
        "id": "b2KQx40MQskN"
      },
      "source": [
        "Por lo general, definimos la capa de embedding como parte de nuestro modelo, que veremos en las secciones posteriores de nuestro cuaderno."
      ]
    },
    {
      "cell_type": "markdown",
      "metadata": {
        "lang": "es",
        "id": "woYTdFXrQskO"
      },
      "source": [
        "#### Sentencias (frases) por batch\n",
        "Esperar a que se procese todo nuestro corpus de entrenamiento antes de realizar una actualización (de los pesos) no es eficiente. Por otro lado, actualizar los parámetros después de cada ejemplo de entrenamiento hace que el *loss* sea menos estable entre actualizaciones. Para combatir estos problemas, actualizamos nuestros parámetros después de entrenar con un batch (lote o pedazo) de los datos. Esto nos permite obtener una mejor estimación del gradiente del *loss* global. En esta sección, aprenderemos cómo estructurar nuestros datos en batches usando la clase `torch.util.data.DataLoader`.\n",
        "\n",
        "Llamaremos a la clase `DataLoader` de la siguiente manera: `DataLoader(data, batch_size=batch_size, shuffle=True, collate_fn=collate_fn)`. El parámetro `batch_size` determina el número de muestras por batch. En cada época, estaremos iterando sobre todos los batches usando el `DataLoader`. El orden de los batches es determinista por defecto, pero podemos pedirle a `DataLoader` que mezcle los batches configurando el parámetro `shuffle` en `True`. De esta manera nos aseguramos de no encontrarnos con un batch defectuoso varias veces.\n",
        "\n",
        "Si se proporciona, `DataLoader` pasa los batches que prepara a `collate_fn`. Podemos escribir una función personalizada para pasar al parámetro `collate_fn` para imprimir estadísticas sobre nuestro batch o realizar un procesamiento adicional. En nuestro caso, usaremos `collate_fn` para:\n",
        "\n",
        "1. Rellenar las ventanas de las sentencias de entrenamiento.\n",
        "2. Conviertir las palabras las muestras de entrenamiento a índices.\n",
        "3. Rellenar las muestras de entrenamiento para que todas las sentencias y etiquetas tengan la misma longitud. Del mismo modo, también necesitamos rellenar las etiquetas. Esto crea un problema puesto que al calcular el loss, necesitamos saber el número real de palabras en una muestra dada. También, realizaremos un seguimiento de este número en la función que le pasamos al parámetro `collate_fn`.\n",
        "\n",
        "Debido a que nuestra versión de la función `collate_fn` necesitará acceder a nuestro diccionario `word_to_ix` (para que pueda convertir palabras en índices), haremos uso de la función `partial` de `Python`, que pasa los parámetros que le damos a la función que le pasamos."
      ]
    },
    {
      "cell_type": "code",
      "execution_count": null,
      "metadata": {
        "ExecuteTime": {
          "end_time": "2022-02-28T13:21:28.900312Z",
          "start_time": "2022-02-28T13:21:28.892271Z"
        },
        "id": "OkvvVlo4jgFm",
        "lang": "en"
      },
      "outputs": [],
      "source": [
        "from torch.utils.data import DataLoader\n",
        "from functools import partial\n",
        "\n",
        "def custom_collate_fn(batch, window_size, word_to_ix):\n",
        "  # Divide nuestro batch en muestras de entrenamiento (x) y etiquetas (y)\n",
        "  # Estamos convirtiendo nuestra x e y en tensores porque el método nn.utils.rnn.pad_secuence\n",
        "  # espera tensores. Esto también es útil ya que nuestro modelo estará esperando tensores como\n",
        "  # entradas.\n",
        "  x, y = zip(*batch)\n",
        "\n",
        "  # Ahora necesitamos rellenar las ventanas de nuestrass muestras de entrenamiento.\n",
        "  # Ya hemos definido una función para manejar el relleno de la ventana. Lo incluimos aquí\n",
        "  # de nuevo para que todo está en un solo lugar.\n",
        "  def pad_window(sentence, window_size, pad_token=\"<pad>\"):\n",
        "    window = [pad_token] * window_size\n",
        "    return window + sentence + window\n",
        "\n",
        "  # Rellena las muestras de entrenamiento\n",
        "  x = [pad_window(s, window_size=window_size) for s in x]\n",
        "\n",
        "  # Ahora necesitamos convertir las palabras de nuestras muestras de entrenamiento a índices.\n",
        "  # Estamos copiando la función definida anteriormente por el mismo motivo anterior.\n",
        "  def convert_tokens_to_indices(sentence, word_to_ix):\n",
        "    return [word_to_ix.get(token, word_to_ix[\"<unk>\"]) for token in sentence]\n",
        "\n",
        "  # Convierte las muestras de entrenamiento a indices.\n",
        "  x = [convert_tokens_to_indices(s, word_to_ix) for s in x]\n",
        "\n",
        "  # Ahora rellenaremos las muestras para que las longitudes de todas las muestras en\n",
        "  # un batch sean iguales, lo que permite realizar operaciones matriciales.\n",
        "  # Establecemos el parámetro batch_first en True para que la matriz devuelta tenga\n",
        "  # como la primera dimensión el batch.\n",
        "  pad_token_ix = word_to_ix[\"<pad>\"]\n",
        "\n",
        "\n",
        "  # la función pad_sequence espera que la entrada sea un tensor, por lo que convertimos x en uno\n",
        "  x = [torch.LongTensor(x_i) for x_i in x]\n",
        "  x_padded = nn.utils.rnn.pad_sequence(x, batch_first=True, padding_value=pad_token_ix)\n",
        "\n",
        "  # También rellenaremos las etiquetas. Antes de hacerlo, guardaremos el número\n",
        "  # de etiquetas para que sepamos cuantas palabras existieron en cada ejemplo.\n",
        "  lengths = [len(label) for label in y]\n",
        "  lenghts = torch.LongTensor(lengths)\n",
        "\n",
        "  y = [torch.LongTensor(y_i) for y_i in y]\n",
        "  y_padded = nn.utils.rnn.pad_sequence(y, batch_first=True, padding_value=0)\n",
        "\n",
        "  # Ahora estamos listos para devolver nuestras variables. El orden en que devolvemos\n",
        "  #  nuestras variables coincidirá con el orden en que los leemos en nuestro ciclo de entrenamiento.\n",
        "  return x_padded, y_padded, lenghts  "
      ]
    },
    {
      "cell_type": "markdown",
      "metadata": {
        "lang": "es",
        "id": "5J0GOSJ4QskO"
      },
      "source": [
        "Esta función parece larga, pero realmente no tiene por qué serlo. Veamos una versión alternativa a continuación, en donde eliminamos las declaraciones y comentarios de funciones adicionales."
      ]
    },
    {
      "cell_type": "code",
      "execution_count": null,
      "metadata": {
        "ExecuteTime": {
          "end_time": "2022-02-28T13:21:33.159405Z",
          "start_time": "2022-02-28T13:21:33.153974Z"
        },
        "id": "dZfcmAJXbLcq"
      },
      "outputs": [],
      "source": [
        "def _custom_collate_fn(batch, window_size, word_to_ix):\n",
        "  # preparando los puntos de datos\n",
        "  x, y = zip(*batch)  \n",
        "  x = [pad_window(s, window_size=window_size) for s in x]\n",
        "  x = [convert_tokens_to_indices(s, word_to_ix) for s in x]\n",
        "\n",
        "  # rellena x tal que todas las muestras en el batch tengan el mismo tamano\n",
        "  pad_token_ix = word_to_ix[\"<pad>\"]\n",
        "  x = [torch.LongTensor(x_i) for x_i in x]\n",
        "  x_padded = nn.utils.rnn.pad_sequence(x, batch_first=True, padding_value=pad_token_ix)\n",
        "\n",
        "  # Rellena \"y\" y guarda la longitud\n",
        "  lengths = [len(label) for label in y]\n",
        "  lenghts = torch.LongTensor(lengths)\n",
        "  y = [torch.LongTensor(y_i) for y_i in y]\n",
        "  y_padded = nn.utils.rnn.pad_sequence(y, batch_first=True, padding_value=0)\n",
        "\n",
        "  return x_padded, y_padded, lenghts  "
      ]
    },
    {
      "cell_type": "markdown",
      "metadata": {
        "lang": "es",
        "id": "Gdf-u7ptQskO"
      },
      "source": [
        "Ahora, podemos ver el `DataLoader` en acción."
      ]
    },
    {
      "cell_type": "code",
      "execution_count": null,
      "metadata": {
        "ExecuteTime": {
          "end_time": "2022-02-28T13:27:44.710065Z",
          "start_time": "2022-02-28T13:27:44.691587Z"
        },
        "colab": {
          "base_uri": "https://localhost:8080/"
        },
        "id": "RfB0JKL2vZ6p",
        "lang": "en",
        "outputId": "663b5215-01b3-475f-edb6-ad29186a967c"
      },
      "outputs": [
        {
          "name": "stdout",
          "output_type": "stream",
          "text": [
            "Iteration 0\n",
            "Batched Input:\n",
            "tensor([[ 0,  0,  8, 14, 10,  7,  4,  0,  0,  0],\n",
            "        [ 0,  0, 11,  6,  7, 17, 10,  3,  0,  0]])\n",
            "Batched Labels:\n",
            "tensor([[0, 0, 0, 0, 1, 0],\n",
            "        [0, 0, 0, 1, 0, 1]])\n",
            "Batched Lengths:\n",
            "tensor([5, 6])\n",
            "\n",
            "Iteration 1\n",
            "Batched Input:\n",
            "tensor([[ 0,  0, 12, 15, 18,  2, 13,  0,  0],\n",
            "        [ 0,  0,  8, 19,  7, 16,  0,  0,  0]])\n",
            "Batched Labels:\n",
            "tensor([[0, 0, 0, 0, 1],\n",
            "        [0, 0, 0, 1, 0]])\n",
            "Batched Lengths:\n",
            "tensor([5, 4])\n",
            "\n",
            "Iteration 2\n",
            "Batched Input:\n",
            "tensor([[ 0,  0, 21, 20,  9,  5,  0,  0]])\n",
            "Batched Labels:\n",
            "tensor([[0, 0, 0, 1]])\n",
            "Batched Lengths:\n",
            "tensor([4])\n",
            "\n"
          ]
        }
      ],
      "source": [
        "# Parámetros a pasar al DataLoader\n",
        "data = list(zip(train_sentences, train_labels))\n",
        "batch_size = 2\n",
        "shuffle = True\n",
        "window_size = 2\n",
        "collate_fn = partial(custom_collate_fn, window_size=window_size, word_to_ix=word_to_ix)\n",
        "\n",
        "# Instancia el DataLoader\n",
        "loader = DataLoader(data, batch_size=batch_size, shuffle=shuffle, collate_fn=collate_fn)\n",
        "\n",
        "# Va a traves de un ciclo\n",
        "counter = 0\n",
        "for batched_x, batched_y, batched_lengths in loader:\n",
        "  print(f\"Iteration {counter}\")\n",
        "  print(\"Batched Input:\")\n",
        "  print(batched_x)\n",
        "  print(\"Batched Labels:\")\n",
        "  print(batched_y)\n",
        "  print(\"Batched Lengths:\")\n",
        "  print(batched_lengths)\n",
        "  print(\"\")\n",
        "  counter += 1"
      ]
    },
    {
      "cell_type": "markdown",
      "metadata": {
        "lang": "es",
        "id": "xaPHcgapQskP"
      },
      "source": [
        "Los tensores de entrada por batch que vimos antes se pasarán a nuestro modelo. Por otro lado, comenzamos diciendo que nuestro modelo será un clasificador de ventanas de palabras. Por la forma en que nuestros tensores de entrada están formateados actualmente, tenemos todas las palabras en una sentencia en un punto de datos. Cuando pasamos esta entrada a nuestro modelo, éste necesita crear las ventanas para cada palabra, hacer una predicción sobre si la palabra central es una `UBICACIÓN` o no, para cada ventana, juntar las predicciones y volver a hacerlo.\n",
        "\n",
        "Podríamos evitar este problema si formateamos nuestros datos dividiéndolos en ventanas de antemano. En este ejemplo, en cambio, veremos cómo nuestro modelo se ocupa del formateo.\n",
        "\n",
        "Dado que nuestro `window_size` es `N`, queremos que nuestro modelo haga una predicción sobre cada `2N+1` tokens. Es decir, si tenemos una entrada con `9` tokens y un `window_size` de `2`, queremos que nuestro modelo devuelva `5` predicciones. Esto tiene sentido porque antes de rellenarlo con `2` tokens en cada lado, nuestra entrada también tenía \"5\" tokens.\n",
        "\n",
        "Podemos crear estas ventanas usando bucles for, pero hay una alternativa más rápida a `PyTorch`, que es el método `unfold(dimension, size, step)`. Podemos crear las ventanas que necesitamos usando este método de la siguiente manera:"
      ]
    },
    {
      "cell_type": "code",
      "execution_count": null,
      "metadata": {
        "ExecuteTime": {
          "end_time": "2022-02-28T13:27:50.764906Z",
          "start_time": "2022-02-28T13:27:50.754375Z"
        },
        "colab": {
          "base_uri": "https://localhost:8080/"
        },
        "id": "RMZu-pxLVxHQ",
        "outputId": "2bff1c6a-62f5-46ab-e9d4-282ba405db6d"
      },
      "outputs": [
        {
          "name": "stdout",
          "output_type": "stream",
          "text": [
            "Original Tensor: \n",
            "tensor([[ 0,  0, 21, 20,  9,  5,  0,  0]])\n",
            "\n",
            "Windows: \n",
            "tensor([[[ 0,  0, 21, 20,  9],\n",
            "         [ 0, 21, 20,  9,  5],\n",
            "         [21, 20,  9,  5,  0],\n",
            "         [20,  9,  5,  0,  0]]])\n"
          ]
        }
      ],
      "source": [
        "# muestra el tensor original\n",
        "print(f\"Original Tensor: \")\n",
        "print(batched_x)\n",
        "print(\"\")\n",
        "\n",
        "# Crea los 2 * 2 + 1 chunkstrozos\n",
        "chunk = batched_x.unfold(1, window_size*2 + 1, 1)\n",
        "print(f\"Windows: \")\n",
        "print(chunk)"
      ]
    },
    {
      "cell_type": "markdown",
      "metadata": {
        "id": "hUCNXT7bQskP"
      },
      "source": [
        "### Modelo\n",
        "Ahora que hemos preparado nuestro datos, estamos listos para construir nuestro modelo. Lo haremos a través de la creación de una clase que hereda de la clase `nn.Module` (ya lo hemos visto con la regresión logística y la MLP)."
      ]
    },
    {
      "cell_type": "code",
      "execution_count": null,
      "metadata": {
        "ExecuteTime": {
          "end_time": "2022-02-28T13:45:57.599508Z",
          "start_time": "2022-02-28T13:45:57.589397Z"
        },
        "id": "JLTU4h76NLYm"
      },
      "outputs": [],
      "source": [
        "class WordWindowClassifier(nn.Module):\n",
        "\n",
        "  def __init__(self, hyperparameters, vocab_size, pad_ix=0):\n",
        "    super(WordWindowClassifier, self).__init__()\n",
        "    \n",
        "    \"\"\" Instancia las variabless \"\"\"\n",
        "    self.window_size = hyperparameters[\"window_size\"]\n",
        "    self.embed_dim = hyperparameters[\"embed_dim\"]\n",
        "    self.hidden_dim = hyperparameters[\"hidden_dim\"]\n",
        "    self.freeze_embeddings = hyperparameters[\"freeze_embeddings\"]\n",
        "\n",
        "    \"\"\" Capa de Embedding      \n",
        "    Toma un tensor que contiene los índices de los embeddings y devuelve los embeddings\n",
        "    correspondientes. La salida es de dimensión (número_de_índices * dimension_embedding).\n",
        "\n",
        "     Si freeze_embeddings es True, configura los parámetros de la capa de embedding para que sean\n",
        "     no entrenables. Esto es útil si solo queremos cambiar los parámetros que no sean de los embeddings.\n",
        "\n",
        "    \"\"\"\n",
        "    self.embeds = nn.Embedding(vocab_size, self.embed_dim, padding_idx=pad_ix)\n",
        "    if self.freeze_embeddings:\n",
        "      self.embed_layer.weight.requires_grad = False\n",
        "\n",
        "    \"\"\" Capa Oculta\n",
        "    \"\"\"\n",
        "    full_window_size = 2 * window_size + 1\n",
        "    self.hidden_layer = nn.Sequential(\n",
        "      nn.Linear(full_window_size * self.embed_dim, self.hidden_dim), \n",
        "      nn.Tanh()\n",
        "    )\n",
        "\n",
        "    \"\"\" Caba de salida\n",
        "    \"\"\"\n",
        "    self.output_layer = nn.Linear(self.hidden_dim, 1)\n",
        "\n",
        "    \"\"\" Probabilidades \n",
        "    \"\"\"\n",
        "    self.probabilities = nn.Sigmoid()\n",
        "\n",
        "  def forward(self, inputs):\n",
        "    \"\"\"\n",
        "    Sea B:= batch_size\n",
        "        L:= longitud de la ventana de la sentencia rellenada\n",
        "        D:= self.embed_dim\n",
        "        S:= self.window_size\n",
        "        H:= self.hidden_dim\n",
        "        \n",
        "    entradas: un tensor (B, L) de los indices de los tokens\n",
        "    \"\"\"\n",
        "    B, L = inputs.size()\n",
        "\n",
        "    \"\"\"\n",
        "    Reshaping.\n",
        "    Entra un tensor de tipo Long (B, L) \n",
        "    Produce un tensor de tipo Long (B, L~, S)\n",
        "    \"\"\"\n",
        "    # Primero, obtiene las ventanas de palabras para cada palabra de entrada.\n",
        "    token_windows = inputs.unfold(1, 2 * self.window_size + 1, 1)\n",
        "    _, adjusted_length, _ = token_windows.size()\n",
        "\n",
        "    # Es buena idea hacer verificaciones internas del tamaño de un tensor\n",
        "    assert token_windows.size() == (B, adjusted_length, 2 * self.window_size + 1)\n",
        "\n",
        "    \"\"\"\n",
        "    Embedding.\n",
        "    Entra un torch.LongTensor de tamano (B, L~, S) \n",
        "    Produce un (B, L~, S, D) FloatTensor.\n",
        "    \"\"\"\n",
        "    embedded_windows = self.embeds(token_windows)\n",
        "\n",
        "    \"\"\"\n",
        "    Reshaping.\n",
        "    Entra un (B, L~, S, D) FloatTensor.\n",
        "    Cambia su tamano a (B, L~, S*D) FloatTensor.\n",
        "    El argumento -1  \"infiere\" ser la última dimensión segun los ejes sobrantes.\n",
        "    \"\"\"\n",
        "    embedded_windows = embedded_windows.view(B, adjusted_length, -1)\n",
        "\n",
        "    \"\"\"\n",
        "    Capa 1.\n",
        "    Entra un (B, L~, S*D) FloatTensor.\n",
        "    Cambia su tamaño a un (B, L~, H) FloatTensor\n",
        "    \"\"\"\n",
        "    layer_1 = self.hidden_layer(embedded_windows)\n",
        "\n",
        "    \"\"\"\n",
        "    Capa 2\n",
        "    Entra un (B, L~, H) FloatTensor.\n",
        "    cambia su tamano a un (B, L~, 1) FloatTensor.\n",
        "    \"\"\"\n",
        "    output = self.output_layer(layer_1)\n",
        "\n",
        "    \"\"\"\n",
        "    Softmax.\n",
        "    Entra un (B, L~, 1) FloatTensor de scores de clases no normalizados.\n",
        "    Produce un (B, L~, 1) FloatTensor de scores de clases (log-)normalizados.\n",
        "    \"\"\"\n",
        "    output = self.probabilities(output)\n",
        "    output = output.view(B, -1)\n",
        "\n",
        "    return output"
      ]
    },
    {
      "cell_type": "markdown",
      "metadata": {
        "id": "2iVrgrQcQskQ"
      },
      "source": [
        "### Entrenamiento\n",
        "\n",
        "Ahora estamos listos para poner todo junto. Empecemos por preparar nuestros datos e inicializar nuestro modelo. Luego, podemos inicializar nuestro optimizador y definir nuestra función de loss. Esta vez, en lugar de usar una de las funciones de loss predefinidas, definiremos nuestra propia función de loss."
      ]
    },
    {
      "cell_type": "code",
      "execution_count": null,
      "metadata": {
        "ExecuteTime": {
          "end_time": "2022-02-28T13:50:59.158389Z",
          "start_time": "2022-02-28T13:50:59.144513Z"
        },
        "id": "bInu1VqjHsfj"
      },
      "outputs": [],
      "source": [
        "# Prepara los datos\n",
        "data = list(zip(train_sentences, train_labels))\n",
        "batch_size = 2\n",
        "shuffle = True\n",
        "window_size = 2\n",
        "collate_fn = partial(custom_collate_fn, window_size=window_size, word_to_ix=word_to_ix)\n",
        "\n",
        "# Instancia el dataloader\n",
        "loader = DataLoader(data, batch_size=batch_size, shuffle=shuffle, collate_fn=collate_fn)\n",
        "\n",
        "# Inicializa el modelo\n",
        "# Es util colocar todos los hiperparamentros en un diccionario\n",
        "model_hyperparameters = {\n",
        "    \"batch_size\": 4,\n",
        "    \"window_size\": 2,\n",
        "    \"embed_dim\": 25,\n",
        "    \"hidden_dim\": 25,\n",
        "    \"freeze_embeddings\": False,\n",
        "}\n",
        "\n",
        "vocab_size = len(word_to_ix)\n",
        "model = WordWindowClassifier(model_hyperparameters, vocab_size)\n",
        "\n",
        "# define un optimizador\n",
        "learning_rate = 0.01\n",
        "optimizer = torch.optim.SGD(model.parameters(), lr=learning_rate)\n",
        "\n",
        "# Definir una función de pérdida, que calcula el binary cross entropy \n",
        "def loss_function(batch_outputs, batch_labels, batch_lengths):   \n",
        "    # calcula el loss para todo el batch\n",
        "    bceloss = nn.BCELoss()\n",
        "    loss = bceloss(batch_outputs, batch_labels.float())\n",
        "\n",
        "    # Reescala el loss. Recuerde que hemos utilizado longitudes para almacenar el\n",
        "    # número de palabras en cada muestra de entrenamiento\n",
        "    loss = loss / batch_lengths.sum().float()\n",
        "\n",
        "    return loss"
      ]
    },
    {
      "cell_type": "code",
      "execution_count": null,
      "metadata": {
        "ExecuteTime": {
          "end_time": "2022-02-28T13:53:20.964908Z",
          "start_time": "2022-02-28T13:53:20.959970Z"
        },
        "id": "QL9IDgIOvHca"
      },
      "outputs": [],
      "source": [
        "# Funcion que se llamara en cada epoch\n",
        "def train_epoch(loss_function, optimizer, model, loader):\n",
        "  \n",
        "  # guarda el registro del loss para cada epoch\n",
        "  total_loss = 0\n",
        "  for batch_inputs, batch_labels, batch_lengths in loader:\n",
        "    # limpia los gradientes\n",
        "    optimizer.zero_grad()\n",
        "    # corre un forward pass\n",
        "    outputs = model.forward(batch_inputs)\n",
        "    # calcula el loss para un batch\n",
        "    loss = loss_function(outputs, batch_labels, batch_lengths)\n",
        "    # Calcula los gradientes\n",
        "    loss.backward()\n",
        "    # Actualiza los parámetros\n",
        "    optimizer.step()\n",
        "    total_loss += loss.item()\n",
        "\n",
        "  return total_loss\n",
        "\n",
        "\n",
        "# Función que contiene el loop principal\n",
        "def train(loss_function, optimizer, model, loader, num_epochs=10000):\n",
        "\n",
        "  # Itera a traves de cada epoch y llama la funcion de train_epoch function\n",
        "  for epoch in range(num_epochs):\n",
        "    epoch_loss = train_epoch(loss_function, optimizer, model, loader)\n",
        "    if epoch % 100 == 0: print(epoch_loss)"
      ]
    },
    {
      "cell_type": "code",
      "execution_count": null,
      "metadata": {
        "ExecuteTime": {
          "end_time": "2022-02-28T13:53:28.426400Z",
          "start_time": "2022-02-28T13:53:27.231079Z"
        },
        "colab": {
          "base_uri": "https://localhost:8080/"
        },
        "id": "Kav8kwVBJ6XW",
        "outputId": "28dafd55-14b7-4a21-b7d0-fd8cde687fb4"
      },
      "outputs": [
        {
          "name": "stdout",
          "output_type": "stream",
          "text": [
            "0.33777111768722534\n",
            "0.2017311342060566\n",
            "0.18333816155791283\n",
            "0.1379674170166254\n",
            "0.09901877492666245\n",
            "0.07001945190131664\n",
            "0.05836809333413839\n",
            "0.05023851618170738\n",
            "0.03849619347602129\n",
            "0.02989478874951601\n"
          ]
        }
      ],
      "source": [
        "num_epochs = 1000\n",
        "train(loss_function, optimizer, model, loader, num_epochs=num_epochs)"
      ]
    },
    {
      "cell_type": "markdown",
      "metadata": {
        "id": "T-k7Pav4LdQJ"
      },
      "source": [
        "### Predicción\n",
        "\n",
        "Veamos qué tan bien nuestro modelo hace predicciones. Podemos comenzar creando nuestros datos de prueba."
      ]
    },
    {
      "cell_type": "code",
      "execution_count": null,
      "metadata": {
        "ExecuteTime": {
          "end_time": "2022-02-28T13:54:23.027939Z",
          "start_time": "2022-02-28T13:54:23.023633Z"
        },
        "id": "-v5X69a2Lkbm"
      },
      "outputs": [],
      "source": [
        "from functools import partial\n",
        "# Creando una sentencia de prueba\n",
        "test_corpus = [\"Ella viene de Paris\"]\n",
        "test_sentences = [s.lower().split() for s in test_corpus]\n",
        "test_labels = [[0, 0, 0, 1]]\n",
        "\n",
        "# Crea un dataloader de prueba\n",
        "test_data = list(zip(test_sentences, test_labels))\n",
        "batch_size = 1\n",
        "shuffle = False\n",
        "window_size = 2\n",
        "collate_fn = partial(custom_collate_fn, window_size=2, word_to_ix=word_to_ix)\n",
        "test_loader = torch.utils.data.DataLoader(test_data, \n",
        "                                           batch_size=1, \n",
        "                                           shuffle=False, \n",
        "                                           collate_fn=collate_fn)"
      ]
    },
    {
      "cell_type": "code",
      "execution_count": null,
      "metadata": {
        "ExecuteTime": {
          "end_time": "2022-02-28T13:54:43.051656Z",
          "start_time": "2022-02-28T13:54:43.047193Z"
        },
        "colab": {
          "base_uri": "https://localhost:8080/"
        },
        "id": "dGYn8CAoMTjX",
        "outputId": "e63fce32-9d1d-4a80-a2f9-dd555928f852"
      },
      "outputs": [
        {
          "name": "stdout",
          "output_type": "stream",
          "text": [
            "tensor([[0, 0, 0, 1]])\n",
            "tensor([[0.1216, 0.0225, 0.1052, 0.9160]], grad_fn=<ViewBackward0>)\n"
          ]
        }
      ],
      "source": [
        "for test_instance, labels, _ in test_loader:\n",
        "  outputs = model.forward(test_instance)\n",
        "  print(labels)\n",
        "  print(outputs)"
      ]
    },
    {
      "cell_type": "code",
      "execution_count": null,
      "metadata": {
        "ExecuteTime": {
          "end_time": "2022-02-28T13:54:48.755212Z",
          "start_time": "2022-02-28T13:54:48.750982Z"
        },
        "id": "iebrU4ZibVIR",
        "outputId": "26d3a9af-4827-48a7-e86c-7a577e0e0957"
      },
      "outputs": [
        {
          "data": {
            "text/plain": [
              "[(['nosotros', 'siempre', 'venimos', 'a', 'paris'], [0, 0, 0, 0, 1]),\n",
              " (['el', 'profesor', 'es', 'de', 'australia'], [0, 0, 0, 0, 1]),\n",
              " (['yo', 'vivo', 'en', 'bogota'], [0, 0, 0, 1]),\n",
              " (['el', 'viene', 'de', 'taiwan'], [0, 0, 0, 1]),\n",
              " (['la', 'capital', 'de', 'turquia', 'es', 'ankara'], [0, 0, 0, 1, 0, 1])]"
            ]
          },
          "execution_count": 424,
          "metadata": {},
          "output_type": "execute_result"
        }
      ],
      "source": [
        "data"
      ]
    },
    {
      "cell_type": "markdown",
      "metadata": {
        "id": "5AjWE1rvQskS"
      },
      "source": [
        "### Ejercicio \n",
        "Cree unas frases con sus respectivas etiquetas para diferentes tipos de palabras: por ejemplo: nombre, verbo, lugar y otros, y realice un proceso simila al anterior donde clasificara las palabras usando ventanas."
      ]
    },
    {
      "cell_type": "markdown",
      "metadata": {
        "id": "p5bwHDvjQskS"
      },
      "source": [
        "## Algunas pruebas para entender más acerca de las dimensiones"
      ]
    },
    {
      "cell_type": "code",
      "execution_count": null,
      "metadata": {
        "ExecuteTime": {
          "end_time": "2022-02-28T17:25:29.557855Z",
          "start_time": "2022-02-28T17:25:29.554154Z"
        },
        "id": "cRu1i-kjQskS",
        "outputId": "55f76726-ec54-43ab-9274-ef5200922351"
      },
      "outputs": [
        {
          "name": "stdout",
          "output_type": "stream",
          "text": [
            "tensor([[0.3575, 0.8651, 0.6171],\n",
            "        [0.1396, 0.1307, 0.9259],\n",
            "        [0.9579, 0.7991, 0.9833],\n",
            "        [0.1696, 0.2358, 0.3121]])\n"
          ]
        }
      ],
      "source": [
        "w = torch.rand(4,3)\n",
        "print(w)"
      ]
    },
    {
      "cell_type": "code",
      "execution_count": null,
      "metadata": {
        "id": "uiwdU8sEQskT",
        "outputId": "18d06626-d5ca-46b0-d9d4-a41b469d27ee"
      },
      "outputs": [
        {
          "data": {
            "text/plain": [
              "tensor([4.1889, 4.4670, 6.6670])"
            ]
          },
          "execution_count": 426,
          "metadata": {},
          "output_type": "execute_result"
        }
      ],
      "source": [
        "x = torch.tensor([1,2,3,4],dtype=torch.float)\n",
        "x @ w"
      ]
    },
    {
      "cell_type": "code",
      "execution_count": null,
      "metadata": {
        "id": "XBdkypskQskT",
        "outputId": "32429dd1-d797-4394-e903-e2271195f290"
      },
      "outputs": [
        {
          "data": {
            "text/plain": [
              "tensor([[ 6.8133,  9.8545,  9.8026],\n",
              "        [12.8697, 15.4210, 19.0570],\n",
              "        [ 9.7366,  9.3260, 14.9851],\n",
              "        [ 3.9212,  7.0638,  6.8600],\n",
              "        [ 9.2262,  9.7075, 12.7777],\n",
              "        [ 5.4242,  9.7629, 10.8821],\n",
              "        [13.2652, 16.3896, 23.0477]])"
            ]
          },
          "execution_count": 427,
          "metadata": {},
          "output_type": "execute_result"
        }
      ],
      "source": [
        "X = torch.randint(1,10,(7,4), dtype=torch.float)\n",
        "X @ w"
      ]
    },
    {
      "cell_type": "code",
      "execution_count": null,
      "metadata": {
        "id": "6LU754AgQskT",
        "outputId": "5c95b725-dfef-4b9f-c80e-9f515482618f"
      },
      "outputs": [
        {
          "name": "stdout",
          "output_type": "stream",
          "text": [
            "tensor([[[6., 4., 7., 7.],\n",
            "         [5., 6., 5., 9.],\n",
            "         [8., 7., 1., 3.],\n",
            "         [7., 5., 5., 2.],\n",
            "         [8., 6., 9., 3.],\n",
            "         [5., 4., 5., 2.],\n",
            "         [9., 7., 4., 6.]],\n",
            "\n",
            "        [[2., 3., 9., 6.],\n",
            "         [6., 4., 5., 4.],\n",
            "         [9., 3., 1., 9.],\n",
            "         [4., 3., 4., 2.],\n",
            "         [2., 9., 5., 8.],\n",
            "         [2., 1., 7., 8.],\n",
            "         [1., 6., 8., 5.]]])\n"
          ]
        }
      ],
      "source": [
        "X_big = X = torch.randint(1,10,(2,7,4), dtype=torch.float)\n",
        "print(X_big)"
      ]
    },
    {
      "cell_type": "code",
      "execution_count": null,
      "metadata": {
        "id": "5jq0waiWQskT",
        "outputId": "3c54182c-e80d-4419-b511-6a71318f33c3"
      },
      "outputs": [
        {
          "data": {
            "text/plain": [
              "tensor([[[10.5963, 12.9577, 16.4734],\n",
              "         [ 8.9413, 11.2275, 16.3658],\n",
              "         [ 5.3043,  9.3423, 13.3371],\n",
              "         [ 8.3296, 11.1762, 14.4893],\n",
              "         [12.8281, 15.6042, 20.2773],\n",
              "         [ 7.4750,  9.3153, 12.3293],\n",
              "         [ 9.0444, 13.3121, 17.8403]],\n",
              "\n",
              "        [[10.7728, 10.7289, 14.7337],\n",
              "         [ 8.1717, 10.6521, 13.5706],\n",
              "         [ 6.1210, 11.0997, 12.1234],\n",
              "         [ 6.0199,  7.5205,  9.8031],\n",
              "         [ 8.1179,  8.7883, 16.9801],\n",
              "         [ 8.9170,  9.3410, 11.5397],\n",
              "         [ 9.7066,  9.2209, 15.5989]]])"
            ]
          },
          "execution_count": 429,
          "metadata": {},
          "output_type": "execute_result"
        }
      ],
      "source": [
        "X_big @ w"
      ]
    },
    {
      "cell_type": "code",
      "execution_count": null,
      "metadata": {
        "id": "P7VPtF8tQskT",
        "outputId": "0b05d48c-839b-460c-cb79-f916cb8662a4"
      },
      "outputs": [
        {
          "name": "stdout",
          "output_type": "stream",
          "text": [
            "tensor([[[ 85.9322],\n",
            "         [ 80.4937],\n",
            "         [ 64.0001],\n",
            "         [ 74.1499],\n",
            "         [104.8684],\n",
            "         [ 63.0934],\n",
            "         [ 89.1895]],\n",
            "\n",
            "        [[ 76.4318],\n",
            "         [ 70.1876],\n",
            "         [ 64.6906],\n",
            "         [ 50.4701],\n",
            "         [ 76.6347],\n",
            "         [ 62.2183],\n",
            "         [ 74.9449]]])\n"
          ]
        }
      ],
      "source": [
        "new = (X_big @ w) @ torch.tensor([1.,2.,3.]).view(-1,1)\n",
        "print(new)"
      ]
    },
    {
      "cell_type": "code",
      "execution_count": null,
      "metadata": {
        "id": "EfbqUFsRQskT",
        "outputId": "4ca31549-b7b3-4986-9970-7aab23446b83"
      },
      "outputs": [
        {
          "data": {
            "text/plain": [
              "torch.Size([2, 7, 1])"
            ]
          },
          "execution_count": 431,
          "metadata": {},
          "output_type": "execute_result"
        }
      ],
      "source": [
        "new.shape"
      ]
    },
    {
      "cell_type": "code",
      "execution_count": null,
      "metadata": {
        "id": "h_i5Hm-uQskT",
        "outputId": "4d32ba5e-eb65-45a0-dc01-27d4cd226fbc"
      },
      "outputs": [
        {
          "data": {
            "text/plain": [
              "tensor([[ 85.9322,  80.4937,  64.0001,  74.1499, 104.8684,  63.0934,  89.1895],\n",
              "        [ 76.4318,  70.1876,  64.6906,  50.4701,  76.6347,  62.2183,  74.9449]])"
            ]
          },
          "execution_count": 432,
          "metadata": {},
          "output_type": "execute_result"
        }
      ],
      "source": [
        "new.view(2,-1) # new.squeeze(2)"
      ]
    },
    {
      "cell_type": "markdown",
      "metadata": {
        "id": "z7f0URAeQskU"
      },
      "source": [
        "# Desarrollo Punto 5\n"
      ]
    },
    {
      "cell_type": "markdown",
      "metadata": {
        "id": "1oc69OAlQskU"
      },
      "source": [
        "### FRASES PARA CREAR EL CORPUS"
      ]
    },
    {
      "cell_type": "code",
      "execution_count": null,
      "metadata": {
        "id": "ettUHd52QskU"
      },
      "outputs": [],
      "source": [
        "corpus = [\n",
        "\"Los cuatro primeros Mercurio Venus La Tierra y Marte\",\n",
        "\"tienen algo en común todos se sitúan en las órbitas más cercanas al Sol\",\n",
        "\"cuentan con un núcleo metálico en su interior y están conformados por materiales sólidos\",\n",
        "\"por lo que reciben el nombre de planetas rocosos o planetas interiores\",\n",
        "\"Por su parte las órbitas de Júpiter Saturno Urano y Neptuno se sitúan mucho más lejos del Sol\",\n",
        "\"en la parte exterior del sistema solar\",\n",
        "\"y están conformados en su mayoría por gas\",\n",
        "\"por lo que son conocidos como planetas exteriores o planetas jovianos.\",\n",
        "\"Carlos  Slim es el dueño del cohete que ira al espacio\",\n",
        "\"Francisco de Paula Santander era un heroe\",\n",
        "\"Ronaldo es una estrella del futbol\",\n",
        "\"El tenis es el deporte del mañana\",\n",
        "\"Juan Carlos es el campeón mundial en gritmica\",\n",
        "\"El campeón de Judo, tambien, practica karate\"]"
      ]
    },
    {
      "cell_type": "markdown",
      "metadata": {
        "id": "XMg3kpZhQskU"
      },
      "source": [
        "### LIMPIEZA DE TEXTO "
      ]
    },
    {
      "cell_type": "code",
      "execution_count": null,
      "metadata": {
        "id": "Q1zdu2HLQskU"
      },
      "outputs": [],
      "source": [
        "import re\n",
        "from unicodedata import normalize\n",
        "def quitartildes(s):\n",
        "    # -> NFD y eliminar diacríticos\n",
        "    s = re.sub(\n",
        "            r\"([^n\\u0300-\\u036f]|n(?!\\u0303(?![\\u0300-\\u036f])))[\\u0300-\\u036f]+\", r\"\\1\", \n",
        "            normalize( \"NFD\", s), 0, re.I\n",
        "        )\n",
        "\n",
        "    # -> NFCNosotros\n",
        "    return normalize( 'NFC', s)"
      ]
    },
    {
      "cell_type": "markdown",
      "metadata": {
        "id": "B3wpAhtAQskU"
      },
      "source": [
        "### TOKENIZACION DEL CORPUS"
      ]
    },
    {
      "cell_type": "code",
      "execution_count": null,
      "metadata": {
        "id": "p3lrt9hgQskV",
        "outputId": "e29a474a-f331-497f-e722-ab5f27132290"
      },
      "outputs": [
        {
          "data": {
            "text/plain": [
              "[['los',\n",
              "  'cuatro',\n",
              "  'primeros',\n",
              "  'mercurio',\n",
              "  'venus',\n",
              "  'la',\n",
              "  'tierra',\n",
              "  'y',\n",
              "  'marte'],\n",
              " ['tienen',\n",
              "  'algo',\n",
              "  'en',\n",
              "  'comun',\n",
              "  'todos',\n",
              "  'se',\n",
              "  'situan',\n",
              "  'en',\n",
              "  'las',\n",
              "  'orbitas',\n",
              "  'mas',\n",
              "  'cercanas',\n",
              "  'al',\n",
              "  'sol'],\n",
              " ['cuentan',\n",
              "  'con',\n",
              "  'un',\n",
              "  'nucleo',\n",
              "  'metalico',\n",
              "  'en',\n",
              "  'su',\n",
              "  'interior',\n",
              "  'y',\n",
              "  'estan',\n",
              "  'conformados',\n",
              "  'por',\n",
              "  'materiales',\n",
              "  'solidos'],\n",
              " ['por',\n",
              "  'lo',\n",
              "  'que',\n",
              "  'reciben',\n",
              "  'el',\n",
              "  'nombre',\n",
              "  'de',\n",
              "  'planetas',\n",
              "  'rocosos',\n",
              "  'o',\n",
              "  'planetas',\n",
              "  'interiores'],\n",
              " ['por',\n",
              "  'su',\n",
              "  'parte',\n",
              "  'las',\n",
              "  'orbitas',\n",
              "  'de',\n",
              "  'jupiter',\n",
              "  'saturno',\n",
              "  'urano',\n",
              "  'y',\n",
              "  'neptuno',\n",
              "  'se',\n",
              "  'situan',\n",
              "  'mucho',\n",
              "  'mas',\n",
              "  'lejos',\n",
              "  'del',\n",
              "  'sol'],\n",
              " ['en', 'la', 'parte', 'exterior', 'del', 'sistema', 'solar'],\n",
              " ['y', 'estan', 'conformados', 'en', 'su', 'mayoria', 'por', 'gas'],\n",
              " ['por',\n",
              "  'lo',\n",
              "  'que',\n",
              "  'son',\n",
              "  'conocidos',\n",
              "  'como',\n",
              "  'planetas',\n",
              "  'exteriores',\n",
              "  'o',\n",
              "  'planetas',\n",
              "  'jovianos.'],\n",
              " ['carlos',\n",
              "  'slim',\n",
              "  'es',\n",
              "  'el',\n",
              "  'dueño',\n",
              "  'del',\n",
              "  'cohete',\n",
              "  'que',\n",
              "  'ira',\n",
              "  'al',\n",
              "  'espacio'],\n",
              " ['francisco', 'de', 'paula', 'santander', 'era', 'un', 'heroe'],\n",
              " ['ronaldo', 'es', 'una', 'estrella', 'del', 'futbol'],\n",
              " ['el', 'tenis', 'es', 'el', 'deporte', 'del', 'mañana'],\n",
              " ['juan', 'carlos', 'es', 'el', 'campeon', 'mundial', 'en', 'gritmica'],\n",
              " ['el', 'campeon', 'de', 'judo,', 'tambien,', 'practica', 'karate']]"
            ]
          },
          "execution_count": 461,
          "metadata": {},
          "output_type": "execute_result"
        }
      ],
      "source": [
        "def preprocess_sentence(sentence):\n",
        "  return quitartildes(sentence).lower().split()\n",
        "train_sentences = [preprocess_sentence(sent) for sent in corpus]\n",
        "train_sentences"
      ]
    },
    {
      "cell_type": "markdown",
      "metadata": {
        "id": "OVDIcTDMQskV"
      },
      "source": [
        "### Creación de etiquetas para el Ner"
      ]
    },
    {
      "cell_type": "code",
      "execution_count": null,
      "metadata": {
        "id": "y6N4Wd-iQskV"
      },
      "outputs": [],
      "source": [
        "planetas = set ([\"venus\",\"tierra\",\"marte\",\"jupiter\",\"saturno\",\"urano\",\"neptuno\",\"sol\",\"mercurio\"])"
      ]
    },
    {
      "cell_type": "code",
      "execution_count": null,
      "metadata": {
        "id": "MjySEbNHQskV"
      },
      "outputs": [],
      "source": [
        "verbos = set ([\"tienen\",\"situan\",\"cuentan\",\"estan\",\"reciben\",\"es\",\"era\"])"
      ]
    },
    {
      "cell_type": "code",
      "execution_count": null,
      "metadata": {
        "id": "eU9CGdRgQskV"
      },
      "outputs": [],
      "source": [
        "deportes = set ([\"fsala\",\"tenis\",\"futbol\",\"gritmica\",\"karate\",\"judo\"])"
      ]
    },
    {
      "cell_type": "code",
      "execution_count": null,
      "metadata": {
        "id": "Gv1XLjqwQskV"
      },
      "outputs": [],
      "source": [
        "nombres = set([\"juan\",\"carlos\",\"francisco\",\"ronaldo\"])"
      ]
    },
    {
      "cell_type": "code",
      "execution_count": null,
      "metadata": {
        "id": "LWGE7Rf3QskV"
      },
      "outputs": [],
      "source": [
        "train_labels = [[1 if word in planetas else 2 if word in verbos else 3 if word in deportes else 4 if word in nombres else 0 for word in sent] for sent in train_sentences] "
      ]
    },
    {
      "cell_type": "code",
      "execution_count": null,
      "metadata": {
        "id": "LsUM5PpGQskW",
        "outputId": "e0cfbfcc-1085-408f-ef9c-5f77f247a140"
      },
      "outputs": [
        {
          "data": {
            "text/plain": [
              "[[0, 0, 0, 1, 1, 0, 1, 0, 1],\n",
              " [2, 0, 0, 0, 0, 0, 2, 0, 0, 0, 0, 0, 0, 1],\n",
              " [2, 0, 0, 0, 0, 0, 0, 0, 0, 2, 0, 0, 0, 0],\n",
              " [0, 0, 0, 2, 0, 0, 0, 0, 0, 0, 0, 0],\n",
              " [0, 0, 0, 0, 0, 0, 1, 1, 1, 0, 1, 0, 2, 0, 0, 0, 0, 1],\n",
              " [0, 0, 0, 0, 0, 0, 0],\n",
              " [0, 2, 0, 0, 0, 0, 0, 0],\n",
              " [0, 0, 0, 0, 0, 0, 0, 0, 0, 0, 0],\n",
              " [4, 0, 2, 0, 0, 0, 0, 0, 0, 0, 0],\n",
              " [4, 0, 0, 0, 2, 0, 0],\n",
              " [4, 2, 0, 0, 0, 3],\n",
              " [0, 3, 2, 0, 0, 0, 0],\n",
              " [4, 4, 2, 0, 0, 0, 0, 3],\n",
              " [0, 0, 0, 0, 0, 0, 3]]"
            ]
          },
          "execution_count": 467,
          "metadata": {},
          "output_type": "execute_result"
        }
      ],
      "source": [
        "train_labels"
      ]
    },
    {
      "cell_type": "markdown",
      "metadata": {
        "id": "dQ4urW7IQskW"
      },
      "source": [
        "### Creación del vocabulario"
      ]
    },
    {
      "cell_type": "code",
      "execution_count": null,
      "metadata": {
        "id": "SwwJ_fISQskW",
        "outputId": "2fe834c1-ea96-491b-d031-95b994f37ddf"
      },
      "outputs": [
        {
          "data": {
            "text/plain": [
              "{'al',\n",
              " 'algo',\n",
              " 'campeon',\n",
              " 'carlos',\n",
              " 'cercanas',\n",
              " 'cohete',\n",
              " 'como',\n",
              " 'comun',\n",
              " 'con',\n",
              " 'conformados',\n",
              " 'conocidos',\n",
              " 'cuatro',\n",
              " 'cuentan',\n",
              " 'de',\n",
              " 'del',\n",
              " 'deporte',\n",
              " 'dueño',\n",
              " 'el',\n",
              " 'en',\n",
              " 'era',\n",
              " 'es',\n",
              " 'espacio',\n",
              " 'estan',\n",
              " 'estrella',\n",
              " 'exterior',\n",
              " 'exteriores',\n",
              " 'francisco',\n",
              " 'futbol',\n",
              " 'gas',\n",
              " 'gritmica',\n",
              " 'heroe',\n",
              " 'interior',\n",
              " 'interiores',\n",
              " 'ira',\n",
              " 'jovianos.',\n",
              " 'juan',\n",
              " 'judo,',\n",
              " 'jupiter',\n",
              " 'karate',\n",
              " 'la',\n",
              " 'las',\n",
              " 'lejos',\n",
              " 'lo',\n",
              " 'los',\n",
              " 'marte',\n",
              " 'mas',\n",
              " 'materiales',\n",
              " 'mayoria',\n",
              " 'mañana',\n",
              " 'mercurio',\n",
              " 'metalico',\n",
              " 'mucho',\n",
              " 'mundial',\n",
              " 'neptuno',\n",
              " 'nombre',\n",
              " 'nucleo',\n",
              " 'o',\n",
              " 'orbitas',\n",
              " 'parte',\n",
              " 'paula',\n",
              " 'planetas',\n",
              " 'por',\n",
              " 'practica',\n",
              " 'primeros',\n",
              " 'que',\n",
              " 'reciben',\n",
              " 'rocosos',\n",
              " 'ronaldo',\n",
              " 'santander',\n",
              " 'saturno',\n",
              " 'se',\n",
              " 'sistema',\n",
              " 'situan',\n",
              " 'slim',\n",
              " 'sol',\n",
              " 'solar',\n",
              " 'solidos',\n",
              " 'son',\n",
              " 'su',\n",
              " 'tambien,',\n",
              " 'tenis',\n",
              " 'tienen',\n",
              " 'tierra',\n",
              " 'todos',\n",
              " 'un',\n",
              " 'una',\n",
              " 'urano',\n",
              " 'venus',\n",
              " 'y'}"
            ]
          },
          "execution_count": 468,
          "metadata": {},
          "output_type": "execute_result"
        }
      ],
      "source": [
        "# Encuentra todas las palabras únicas en nuestro corpus\n",
        "vocabulary = set(w for s in train_sentences for w in s)\n",
        "vocabulary"
      ]
    },
    {
      "cell_type": "markdown",
      "metadata": {
        "id": "tbwOlSO9QskW"
      },
      "source": [
        "### Adición de tokens \"Desconocido \"unk\" y Relleno \"pad>\"\""
      ]
    },
    {
      "cell_type": "code",
      "execution_count": null,
      "metadata": {
        "id": "39oh3ZCwQskW"
      },
      "outputs": [],
      "source": [
        "vocabulary.add(\"<unk>\")"
      ]
    },
    {
      "cell_type": "code",
      "execution_count": null,
      "metadata": {
        "id": "NNnjvOJOQskW",
        "outputId": "c49b0d02-021f-4b84-8a51-a10214ce3721"
      },
      "outputs": [
        {
          "data": {
            "text/plain": [
              "['<pad>',\n",
              " '<pad>',\n",
              " 'los',\n",
              " 'cuatro',\n",
              " 'primeros',\n",
              " 'mercurio',\n",
              " 'venus',\n",
              " 'la',\n",
              " 'tierra',\n",
              " 'y',\n",
              " 'marte',\n",
              " '<pad>',\n",
              " '<pad>']"
            ]
          },
          "execution_count": 470,
          "metadata": {},
          "output_type": "execute_result"
        }
      ],
      "source": [
        "# Agregua el token <pad> a nuestro vocabulario\n",
        "vocabulary.add(\"<pad>\")\n",
        "\n",
        "# Función que rellena la oración dada\n",
        "# Estamos introduciendo esta función aquí como un ejemplo\n",
        "# Lo utilizaremos más adelante en el tutorial.\n",
        "def pad_window(sentence, window_size, pad_token=\"<pad>\"):\n",
        "  window = [pad_token] * window_size\n",
        "  return window + sentence + window\n",
        "\n",
        "# Muestra un ejemplo de relleno\n",
        "window_size = 2\n",
        "pad_window(train_sentences[0], window_size=window_size)"
      ]
    },
    {
      "cell_type": "code",
      "execution_count": null,
      "metadata": {
        "id": "dZ4l1hglQskX",
        "outputId": "f0a11ec7-ac22-4339-d78b-4c46c0281e3e"
      },
      "outputs": [
        {
          "data": {
            "text/plain": [
              "{'<pad>': 0,\n",
              " '<unk>': 1,\n",
              " 'al': 2,\n",
              " 'algo': 3,\n",
              " 'campeon': 4,\n",
              " 'carlos': 5,\n",
              " 'cercanas': 6,\n",
              " 'cohete': 7,\n",
              " 'como': 8,\n",
              " 'comun': 9,\n",
              " 'con': 10,\n",
              " 'conformados': 11,\n",
              " 'conocidos': 12,\n",
              " 'cuatro': 13,\n",
              " 'cuentan': 14,\n",
              " 'de': 15,\n",
              " 'del': 16,\n",
              " 'deporte': 17,\n",
              " 'dueño': 18,\n",
              " 'el': 19,\n",
              " 'en': 20,\n",
              " 'era': 21,\n",
              " 'es': 22,\n",
              " 'espacio': 23,\n",
              " 'estan': 24,\n",
              " 'estrella': 25,\n",
              " 'exterior': 26,\n",
              " 'exteriores': 27,\n",
              " 'francisco': 28,\n",
              " 'futbol': 29,\n",
              " 'gas': 30,\n",
              " 'gritmica': 31,\n",
              " 'heroe': 32,\n",
              " 'interior': 33,\n",
              " 'interiores': 34,\n",
              " 'ira': 35,\n",
              " 'jovianos.': 36,\n",
              " 'juan': 37,\n",
              " 'judo,': 38,\n",
              " 'jupiter': 39,\n",
              " 'karate': 40,\n",
              " 'la': 41,\n",
              " 'las': 42,\n",
              " 'lejos': 43,\n",
              " 'lo': 44,\n",
              " 'los': 45,\n",
              " 'marte': 46,\n",
              " 'mas': 47,\n",
              " 'materiales': 48,\n",
              " 'mayoria': 49,\n",
              " 'mañana': 50,\n",
              " 'mercurio': 51,\n",
              " 'metalico': 52,\n",
              " 'mucho': 53,\n",
              " 'mundial': 54,\n",
              " 'neptuno': 55,\n",
              " 'nombre': 56,\n",
              " 'nucleo': 57,\n",
              " 'o': 58,\n",
              " 'orbitas': 59,\n",
              " 'parte': 60,\n",
              " 'paula': 61,\n",
              " 'planetas': 62,\n",
              " 'por': 63,\n",
              " 'practica': 64,\n",
              " 'primeros': 65,\n",
              " 'que': 66,\n",
              " 'reciben': 67,\n",
              " 'rocosos': 68,\n",
              " 'ronaldo': 69,\n",
              " 'santander': 70,\n",
              " 'saturno': 71,\n",
              " 'se': 72,\n",
              " 'sistema': 73,\n",
              " 'situan': 74,\n",
              " 'slim': 75,\n",
              " 'sol': 76,\n",
              " 'solar': 77,\n",
              " 'solidos': 78,\n",
              " 'son': 79,\n",
              " 'su': 80,\n",
              " 'tambien,': 81,\n",
              " 'tenis': 82,\n",
              " 'tienen': 83,\n",
              " 'tierra': 84,\n",
              " 'todos': 85,\n",
              " 'un': 86,\n",
              " 'una': 87,\n",
              " 'urano': 88,\n",
              " 'venus': 89,\n",
              " 'y': 90}"
            ]
          },
          "execution_count": 471,
          "metadata": {},
          "output_type": "execute_result"
        }
      ],
      "source": [
        "ix_to_word = sorted(list(vocabulary))\n",
        "\n",
        "# Creando un diccionario para encontrar el índice de una palabra dada\n",
        "word_to_ix = {word: ind for ind, word in enumerate(ix_to_word)}\n",
        "word_to_ix"
      ]
    },
    {
      "cell_type": "markdown",
      "metadata": {
        "id": "ga9gUSuzQskX"
      },
      "source": [
        "### Token a indices"
      ]
    },
    {
      "cell_type": "code",
      "execution_count": null,
      "metadata": {
        "id": "qSjgFSGUQskX"
      },
      "outputs": [],
      "source": [
        "\"\"\"\n",
        "def convert_token_to_indices(sentence, word_to_ix):\n",
        "  indices = []\n",
        "  for token in sentence:\n",
        "    if token in word_to_ix:\n",
        "      index = word_to_ix[token]\n",
        "    else:\n",
        "      index = word_to_ix[\"<unk>\"]\n",
        "    indices.append(index)\n",
        "  return indices\n",
        "\"\"\"\n",
        "\n",
        "def convert_tokens_to_indices(sentence, word_to_ix):\n",
        "  return [word_to_ix.get(token, word_to_ix[\"<unk>\"]) for token in sentence]\n",
        "\n"
      ]
    },
    {
      "cell_type": "markdown",
      "metadata": {
        "id": "weZfus27QskX"
      },
      "source": [
        "### Reemplazo de palabras a indices"
      ]
    },
    {
      "cell_type": "code",
      "execution_count": null,
      "metadata": {
        "id": "mh3Pt1UaQskX",
        "outputId": "f9464e2a-b5e2-4186-d9b3-c8b962d97009"
      },
      "outputs": [
        {
          "data": {
            "text/plain": [
              "[[45, 13, 65, 51, 89, 41, 84, 90, 46],\n",
              " [83, 3, 20, 9, 85, 72, 74, 20, 42, 59, 47, 6, 2, 76],\n",
              " [14, 10, 86, 57, 52, 20, 80, 33, 90, 24, 11, 63, 48, 78],\n",
              " [63, 44, 66, 67, 19, 56, 15, 62, 68, 58, 62, 34],\n",
              " [63, 80, 60, 42, 59, 15, 39, 71, 88, 90, 55, 72, 74, 53, 47, 43, 16, 76],\n",
              " [20, 41, 60, 26, 16, 73, 77],\n",
              " [90, 24, 11, 20, 80, 49, 63, 30],\n",
              " [63, 44, 66, 79, 12, 8, 62, 27, 58, 62, 36],\n",
              " [5, 75, 22, 19, 18, 16, 7, 66, 35, 2, 23],\n",
              " [28, 15, 61, 70, 21, 86, 32],\n",
              " [69, 22, 87, 25, 16, 29],\n",
              " [19, 82, 22, 19, 17, 16, 50],\n",
              " [37, 5, 22, 19, 4, 54, 20, 31],\n",
              " [19, 4, 15, 38, 81, 64, 40]]"
            ]
          },
          "execution_count": 478,
          "metadata": {},
          "output_type": "execute_result"
        }
      ],
      "source": [
        "# Convirtiendo nuestras sentencias a indices\n",
        "import torch\n",
        "import torch.nn as nn\n",
        "import torch.nn.functional as F\n",
        "example_padded_indices = [convert_token_to_indices(s, word_to_ix) for s in train_sentences]\n",
        "\n",
        "example_padded_indices"
      ]
    },
    {
      "cell_type": "markdown",
      "metadata": {
        "id": "v33aUrjsQskX"
      },
      "source": [
        "### Representación en tensores de 5 dimensiones"
      ]
    },
    {
      "cell_type": "code",
      "execution_count": null,
      "metadata": {
        "id": "3r25cs3oQskX",
        "outputId": "dbb48bd8-7569-4bc9-89f9-b15959ad7213"
      },
      "outputs": [
        {
          "data": {
            "text/plain": [
              "[Parameter containing:\n",
              " tensor([[ 1.2370e+00, -1.2932e+00,  6.2984e-01,  4.2033e-01,  2.5373e-01],\n",
              "         [-2.0543e+00,  4.6928e-01,  7.8205e-01,  3.4379e-01, -8.6358e-01],\n",
              "         [ 3.7037e-02, -6.9988e-01,  5.0014e-02, -1.6358e+00, -1.1797e+00],\n",
              "         [ 5.3883e-01,  1.0702e+00,  2.7944e+00, -1.6779e+00, -1.2948e+00],\n",
              "         [-7.1388e-01,  1.0238e+00,  2.9972e-02, -1.5723e+00,  1.7008e+00],\n",
              "         [-1.3221e-01,  9.8535e-01,  2.1172e+00, -3.3017e-01, -1.2219e-01],\n",
              "         [ 2.4366e+00, -4.4512e-01,  1.0133e+00,  7.9002e-01, -7.8620e-01],\n",
              "         [ 4.5281e-01, -1.9613e-01, -3.7467e-01, -1.6468e+00, -6.1620e-01],\n",
              "         [-3.7040e-01,  4.8799e-01, -1.4160e+00, -1.1425e+00, -3.8690e-01],\n",
              "         [-1.0941e+00, -8.2005e-01,  4.8001e-01,  3.4527e-01, -9.0110e-01],\n",
              "         [ 2.2013e+00,  9.4209e-01, -2.5001e-01,  6.5331e-01,  6.2435e-01],\n",
              "         [ 9.7361e-03,  1.9466e+00,  4.1694e-01, -4.5801e-01, -2.6026e+00],\n",
              "         [ 2.7640e-01,  2.0772e+00,  1.2525e+00,  5.8836e-01, -8.3913e-01],\n",
              "         [-1.2694e-01, -1.0571e-01, -6.7188e-02,  1.3401e+00, -5.3694e-01],\n",
              "         [ 5.5075e-01, -1.8327e+00, -7.9831e-01,  3.4684e-01, -3.1510e-01],\n",
              "         [ 6.3806e-01, -4.8505e-01,  1.4053e+00,  1.3348e+00,  1.2607e+00],\n",
              "         [ 6.9025e-01,  1.0931e+00,  1.0334e+00,  3.3957e-01, -1.5557e-01],\n",
              "         [ 2.5053e-01, -1.4638e-01, -2.7747e-01,  1.5309e-01,  9.5719e-03],\n",
              "         [-9.6222e-02, -1.2330e+00, -1.0552e+00, -5.1591e-01, -2.0681e-01],\n",
              "         [ 4.7033e-01, -1.0115e+00, -8.3427e-01,  4.5471e-01, -1.2460e+00],\n",
              "         [-3.7624e-01, -9.0863e-01,  2.9110e-01, -4.9381e-01, -3.5928e-01],\n",
              "         [ 4.0479e-02,  1.5424e+00, -6.5499e-01, -1.5896e-01, -9.4788e-01],\n",
              "         [ 3.9972e-01,  1.9826e+00, -1.7255e-01, -4.1477e-01, -7.1753e-02],\n",
              "         [-3.3852e-01, -2.8685e+00,  2.1747e-01, -4.1140e-01, -1.2019e+00],\n",
              "         [ 5.4681e-01,  4.9305e-01, -7.1216e-01,  2.9804e-01,  1.1168e+00],\n",
              "         [-8.4205e-02,  8.6712e-01,  1.6815e-01,  1.5278e+00,  7.5819e-01],\n",
              "         [-3.2484e-03,  1.9847e+00,  2.9209e-01, -4.4695e-02,  6.6159e-01],\n",
              "         [ 2.0047e-01, -1.0366e+00,  6.2459e-01,  4.6183e-01, -6.2198e-01],\n",
              "         [-2.4056e-01, -1.1156e-01,  3.4604e-01, -1.2770e+00, -8.1417e-01],\n",
              "         [ 9.6754e-02,  2.0247e+00, -5.6907e-01,  7.0174e-01, -3.0767e-01],\n",
              "         [ 2.8554e-01,  1.5413e-01,  7.7473e-01, -4.8636e-01, -5.8824e-01],\n",
              "         [ 1.4204e-01, -1.1179e+00,  6.4944e-01,  2.2516e+00,  1.1941e+00],\n",
              "         [-1.9134e-01, -9.9280e-01, -1.2828e+00, -1.5158e-01, -3.7357e-02],\n",
              "         [ 4.8983e-01, -3.2931e-01, -5.8623e-01,  6.2031e-02,  2.1725e+00],\n",
              "         [-5.5651e-01,  5.4325e-01,  3.6899e-01,  1.7667e+00,  1.1728e+00],\n",
              "         [-2.9578e-02, -1.3090e+00,  1.3429e+00,  1.8427e+00,  6.4527e-01],\n",
              "         [ 3.7319e-02, -4.6846e-03,  3.7041e-02,  7.6265e-02,  1.0032e+00],\n",
              "         [-2.4883e-01,  1.4705e-01, -6.5285e-01, -8.9007e-01, -6.6708e-01],\n",
              "         [-3.7621e-01, -6.5084e-01,  1.6420e+00, -3.2630e-01, -9.6551e-01],\n",
              "         [-5.5038e-01,  1.9090e-01,  7.0950e-01, -1.3796e+00, -3.9981e+00],\n",
              "         [-1.6407e+00,  1.4849e+00,  2.7588e-01, -1.4287e+00, -1.0982e+00],\n",
              "         [ 3.0532e-01, -6.2863e-01,  1.5550e+00,  2.6090e+00, -1.3863e+00],\n",
              "         [ 7.6498e-01, -5.2772e-01, -8.8725e-01, -9.3161e-01, -1.7689e-02],\n",
              "         [ 1.2649e+00,  9.9705e-01,  3.6491e-01,  2.4409e-01,  7.4471e-01],\n",
              "         [-1.9955e+00, -1.6377e-03, -1.3406e+00,  1.9852e+00, -1.4354e+00],\n",
              "         [ 5.5381e-01,  1.3719e+00,  6.5785e-01, -8.5256e-01, -2.8855e-01],\n",
              "         [ 6.8646e-01,  1.7874e-01, -7.1105e-01, -5.9779e-01,  1.2626e+00],\n",
              "         [-7.0129e-01, -2.0176e+00,  1.2127e+00,  1.3238e+00, -4.7649e-01],\n",
              "         [-6.0109e-01, -1.2742e+00,  1.2810e+00, -4.9389e-01,  5.6689e-01],\n",
              "         [-6.7770e-01,  1.4080e+00,  9.2310e-03,  7.0258e-01,  1.0475e+00],\n",
              "         [-7.7040e-02, -2.5641e+00,  1.3156e-01, -8.1549e-01, -7.4545e-01],\n",
              "         [-7.6604e-01,  2.3158e+00, -1.9241e-01, -1.1692e+00, -1.2223e+00],\n",
              "         [-2.2489e+00, -8.6029e-02,  1.2178e+00, -4.7791e-01, -8.9603e-01],\n",
              "         [ 9.9398e-01,  4.7804e-01, -2.7303e+00,  1.1940e+00,  9.2939e-01],\n",
              "         [-6.1342e-01,  1.1139e+00, -1.5206e+00, -2.3041e-01,  1.1726e-01],\n",
              "         [ 3.1366e-01,  1.0687e+00,  8.1559e-01,  7.1975e-01,  1.4869e+00],\n",
              "         [-9.8987e-01, -9.6283e-01, -3.6146e-03, -4.8676e-01, -9.1465e-01],\n",
              "         [ 1.8000e+00,  7.7794e-01, -1.1324e+00,  1.0122e+00,  1.4688e+00],\n",
              "         [-1.5022e+00,  6.6764e-02,  1.4635e+00,  3.2212e-01, -1.1305e+00],\n",
              "         [-2.4392e+00,  2.3391e+00,  8.0495e-01,  3.7513e-01, -9.8264e-01],\n",
              "         [ 3.2696e-01, -7.0439e-01, -1.5936e-01, -9.6259e-01,  9.3753e-01],\n",
              "         [-1.5073e+00,  2.4299e-01,  2.1263e-01, -4.6831e-01, -4.1233e-01],\n",
              "         [ 2.0721e-01,  1.4833e+00, -1.5615e+00, -7.2321e-01,  1.1031e+00],\n",
              "         [ 6.3114e-02, -2.2738e+00, -8.0952e-01, -6.7809e-01, -1.6744e-02],\n",
              "         [ 3.8664e-01,  1.4421e+00, -9.0072e-01, -1.0348e+00, -1.8648e-01],\n",
              "         [ 5.3461e-02,  1.1908e+00, -3.1561e-01,  6.0590e-01,  2.2464e-01],\n",
              "         [-3.2003e+00,  5.0393e-01, -8.4854e-01, -4.7906e-01,  2.3218e-02],\n",
              "         [ 6.8485e-01,  1.0084e+00,  1.2563e-01, -1.5609e+00, -1.2851e-01],\n",
              "         [-1.3903e+00,  1.0267e+00,  5.6700e-01, -1.1446e+00, -2.1920e+00],\n",
              "         [-1.0259e+00, -1.0908e+00,  3.5177e-01,  2.0882e+00,  1.1957e+00],\n",
              "         [-3.0437e-02, -7.8201e-01, -1.1650e+00, -4.1031e-01,  4.8178e-01],\n",
              "         [-7.7825e-01,  1.6821e+00,  2.0442e+00, -1.0613e+00, -7.4752e-01],\n",
              "         [ 7.1937e-01,  5.5328e-01, -9.7856e-04, -7.4724e-01, -9.6825e-02],\n",
              "         [ 1.2254e-01, -2.7003e-01,  1.3846e+00, -1.5210e+00, -8.6926e-01],\n",
              "         [ 1.1420e+00,  4.9705e-01,  4.6166e-01,  9.2517e-01, -7.3741e-01],\n",
              "         [-3.7745e-01, -1.4323e+00, -1.4220e+00,  6.6869e-01,  1.7575e+00],\n",
              "         [ 4.9128e-01,  2.5427e-01,  1.5030e+00, -5.7202e-01,  1.4925e+00],\n",
              "         [ 2.4012e-01, -1.2817e+00,  5.3964e-01,  2.0332e-01,  2.3422e-01],\n",
              "         [ 9.6806e-01,  5.6562e-02,  2.9515e-01,  1.7325e+00,  1.0643e-01],\n",
              "         [-3.2497e-01,  1.2891e-01,  2.3309e+00,  9.1689e-01, -2.0733e+00],\n",
              "         [-1.2407e+00,  8.6128e-01,  1.7662e+00, -1.3223e-01, -1.0633e+00],\n",
              "         [-2.0157e-01,  9.6688e-01,  5.4417e-02,  8.8280e-02, -2.5327e-02],\n",
              "         [ 6.8212e-01,  5.0706e-01,  2.5943e-01,  7.6978e-01, -2.1961e-01],\n",
              "         [-1.1849e+00, -5.5985e-01, -7.4213e-01,  1.0167e+00,  1.5719e+00],\n",
              "         [-8.0261e-01, -1.1838e+00,  1.2234e+00,  1.2686e-01, -1.9742e+00],\n",
              "         [ 1.8674e+00, -4.9843e-01, -1.0327e+00,  7.6169e-01,  1.5872e+00],\n",
              "         [ 4.5221e-01, -1.5446e+00,  1.8082e-01,  2.0267e-01,  1.9971e+00],\n",
              "         [-8.2666e-01,  1.3819e-01,  4.1100e-01,  2.2344e-02,  7.8136e-01],\n",
              "         [ 5.0106e-01, -6.9689e-01,  3.7924e-01,  2.8491e-01, -4.9438e-01],\n",
              "         [ 9.5283e-01,  7.3053e-01, -5.1941e-01,  7.0709e-02,  3.9147e-01],\n",
              "         [-6.9862e-01,  5.1817e-01,  4.3155e-01,  6.2416e-01,  8.1277e-02]],\n",
              "        requires_grad=True)]"
            ]
          },
          "execution_count": 479,
          "metadata": {},
          "output_type": "execute_result"
        }
      ],
      "source": [
        "embedding_dim = 5\n",
        "embeds = nn.Embedding(len(vocabulary), embedding_dim)\n",
        "\n",
        "# Imprimiendo los parámetros en nuestra tabla de embedding\n",
        "list(embeds.parameters())"
      ]
    },
    {
      "cell_type": "markdown",
      "metadata": {
        "id": "5s49eGEcQskY"
      },
      "source": [
        "### Definición del dataloader"
      ]
    },
    {
      "cell_type": "code",
      "execution_count": null,
      "metadata": {
        "id": "gdPzSyHRQskY"
      },
      "outputs": [],
      "source": [
        "from torch.utils.data import DataLoader\n",
        "from functools import partial\n",
        "\n",
        "def custom_collate_fn(batch, window_size, word_to_ix):\n",
        "  # preparando los puntos de datos\n",
        "  x, y = zip(*batch)  # Zip maneja dos dimenciones en simultaneo.\n",
        "  x = [pad_window(s, window_size=window_size) for s in x]\n",
        "  x = [convert_tokens_to_indices(s, word_to_ix) for s in x]\n",
        "\n",
        "  # rellena x tal que todas las muestras en el batch tengan el mismo tamano\n",
        "  pad_token_ix = word_to_ix[\"<pad>\"]\n",
        "  x = [torch.LongTensor(x_i) for x_i in x]\n",
        "  x_padded = nn.utils.rnn.pad_sequence(x, batch_first=True, padding_value=pad_token_ix)\n",
        "\n",
        "  # Rellena \"y\" y guarda la longitud\n",
        "  lengths = [len(label) for label in y]\n",
        "  lenghts = torch.LongTensor(lengths)\n",
        "  y = [torch.LongTensor(y_i) for y_i in y]\n",
        "  y_padded = nn.utils.rnn.pad_sequence(y, batch_first=True, padding_value=0)\n",
        "\n",
        "  return x_padded, y_padded, lenghts  "
      ]
    },
    {
      "cell_type": "markdown",
      "metadata": {
        "id": "0ENzHfJ5QskY"
      },
      "source": [
        "### Parámetros a entregar al dataloader, e instanciamiento del dataloader"
      ]
    },
    {
      "cell_type": "code",
      "execution_count": null,
      "metadata": {
        "id": "tyuTB_uBQskY",
        "outputId": "26163632-2b6a-46b4-fb71-08cf79d225c8"
      },
      "outputs": [
        {
          "name": "stdout",
          "output_type": "stream",
          "text": [
            "Iteration 0\n",
            "Batched Input:\n",
            "tensor([[ 0,  0, 45, 13, 65, 51, 89, 41, 84, 90, 46,  0,  0,  0,  0,  0,  0,  0],\n",
            "        [ 0,  0, 83,  3, 20,  9, 85, 72, 74, 20, 42, 59, 47,  6,  2, 76,  0,  0]])\n",
            "Batched Labels:\n",
            "tensor([[0, 0, 0, 1, 1, 0, 1, 0, 1, 0, 0, 0, 0, 0],\n",
            "        [2, 0, 0, 0, 0, 0, 2, 0, 0, 0, 0, 0, 0, 1]])\n",
            "Batched Lengths:\n",
            "tensor([ 9, 14])\n",
            "\n",
            "Iteration 1\n",
            "Batched Input:\n",
            "tensor([[ 0,  0, 90, 24, 11, 20, 80, 49, 63, 30,  0,  0,  0,  0,  0,  0,  0,  0,\n",
            "          0,  0,  0,  0],\n",
            "        [ 0,  0, 63, 80, 60, 42, 59, 15, 39, 71, 88, 90, 55, 72, 74, 53, 47, 43,\n",
            "         16, 76,  0,  0]])\n",
            "Batched Labels:\n",
            "tensor([[0, 2, 0, 0, 0, 0, 0, 0, 0, 0, 0, 0, 0, 0, 0, 0, 0, 0],\n",
            "        [0, 0, 0, 0, 0, 0, 1, 1, 1, 0, 1, 0, 2, 0, 0, 0, 0, 1]])\n",
            "Batched Lengths:\n",
            "tensor([ 8, 18])\n",
            "\n",
            "Iteration 2\n",
            "Batched Input:\n",
            "tensor([[ 0,  0, 37,  5, 22, 19,  4, 54, 20, 31,  0,  0],\n",
            "        [ 0,  0, 19,  4, 15, 38, 81, 64, 40,  0,  0,  0]])\n",
            "Batched Labels:\n",
            "tensor([[4, 4, 2, 0, 0, 0, 0, 3],\n",
            "        [0, 0, 0, 0, 0, 0, 3, 0]])\n",
            "Batched Lengths:\n",
            "tensor([8, 7])\n",
            "\n",
            "Iteration 3\n",
            "Batched Input:\n",
            "tensor([[ 0,  0, 63, 44, 66, 67, 19, 56, 15, 62, 68, 58, 62, 34,  0,  0,  0,  0],\n",
            "        [ 0,  0, 14, 10, 86, 57, 52, 20, 80, 33, 90, 24, 11, 63, 48, 78,  0,  0]])\n",
            "Batched Labels:\n",
            "tensor([[0, 0, 0, 2, 0, 0, 0, 0, 0, 0, 0, 0, 0, 0],\n",
            "        [2, 0, 0, 0, 0, 0, 0, 0, 0, 2, 0, 0, 0, 0]])\n",
            "Batched Lengths:\n",
            "tensor([12, 14])\n",
            "\n",
            "Iteration 4\n",
            "Batched Input:\n",
            "tensor([[ 0,  0, 19, 82, 22, 19, 17, 16, 50,  0,  0,  0,  0,  0,  0],\n",
            "        [ 0,  0, 63, 44, 66, 79, 12,  8, 62, 27, 58, 62, 36,  0,  0]])\n",
            "Batched Labels:\n",
            "tensor([[0, 3, 2, 0, 0, 0, 0, 0, 0, 0, 0],\n",
            "        [0, 0, 0, 0, 0, 0, 0, 0, 0, 0, 0]])\n",
            "Batched Lengths:\n",
            "tensor([ 7, 11])\n",
            "\n",
            "Iteration 5\n",
            "Batched Input:\n",
            "tensor([[ 0,  0,  5, 75, 22, 19, 18, 16,  7, 66, 35,  2, 23,  0,  0],\n",
            "        [ 0,  0, 20, 41, 60, 26, 16, 73, 77,  0,  0,  0,  0,  0,  0]])\n",
            "Batched Labels:\n",
            "tensor([[4, 0, 2, 0, 0, 0, 0, 0, 0, 0, 0],\n",
            "        [0, 0, 0, 0, 0, 0, 0, 0, 0, 0, 0]])\n",
            "Batched Lengths:\n",
            "tensor([11,  7])\n",
            "\n",
            "Iteration 6\n",
            "Batched Input:\n",
            "tensor([[ 0,  0, 28, 15, 61, 70, 21, 86, 32,  0,  0],\n",
            "        [ 0,  0, 69, 22, 87, 25, 16, 29,  0,  0,  0]])\n",
            "Batched Labels:\n",
            "tensor([[4, 0, 0, 0, 2, 0, 0],\n",
            "        [4, 2, 0, 0, 0, 3, 0]])\n",
            "Batched Lengths:\n",
            "tensor([7, 6])\n",
            "\n"
          ]
        }
      ],
      "source": [
        "#Parámetros a pasar al DataLoader\n",
        "from functools import partial\n",
        "data = list(zip(train_sentences, train_labels))\n",
        "batch_size = 2\n",
        "shuffle = True\n",
        "window_size = 2\n",
        "collate_fn = partial(custom_collate_fn, window_size=window_size, word_to_ix=word_to_ix)\n",
        "\n",
        "# Instancia el DataLoader\n",
        "loader = DataLoader(data, batch_size=batch_size, shuffle=shuffle, collate_fn=collate_fn)\n",
        "\n",
        "# Va a traves de un ciclo\n",
        "counter = 0\n",
        "for batched_x, batched_y, batched_lengths in loader:\n",
        "  print(f\"Iteration {counter}\")\n",
        "  print(\"Batched Input:\")\n",
        "  print(batched_x)\n",
        "  print(\"Batched Labels:\")\n",
        "  print(batched_y)\n",
        "  print(\"Batched Lengths:\")\n",
        "  print(batched_lengths)\n",
        "  print(\"\")\n",
        "  counter += 1"
      ]
    },
    {
      "cell_type": "markdown",
      "metadata": {
        "id": "NW_b-DuQQskY"
      },
      "source": [
        "### Representación del tensor original en segmentos de ventanas "
      ]
    },
    {
      "cell_type": "code",
      "execution_count": null,
      "metadata": {
        "id": "8PHrT11AQskY",
        "outputId": "7db4a54e-e7df-4513-80c7-960b1bb0fc53"
      },
      "outputs": [
        {
          "name": "stdout",
          "output_type": "stream",
          "text": [
            "Original Tensor: \n",
            "tensor([[ 0,  0, 28, 15, 61, 70, 21, 86, 32,  0,  0],\n",
            "        [ 0,  0, 69, 22, 87, 25, 16, 29,  0,  0,  0]])\n",
            "\n",
            "Windows: \n",
            "tensor([[[ 0,  0, 28, 15, 61],\n",
            "         [ 0, 28, 15, 61, 70],\n",
            "         [28, 15, 61, 70, 21],\n",
            "         [15, 61, 70, 21, 86],\n",
            "         [61, 70, 21, 86, 32],\n",
            "         [70, 21, 86, 32,  0],\n",
            "         [21, 86, 32,  0,  0]],\n",
            "\n",
            "        [[ 0,  0, 69, 22, 87],\n",
            "         [ 0, 69, 22, 87, 25],\n",
            "         [69, 22, 87, 25, 16],\n",
            "         [22, 87, 25, 16, 29],\n",
            "         [87, 25, 16, 29,  0],\n",
            "         [25, 16, 29,  0,  0],\n",
            "         [16, 29,  0,  0,  0]]])\n"
          ]
        }
      ],
      "source": [
        "# muestra el tensor original\n",
        "print(f\"Original Tensor: \")\n",
        "print(batched_x)\n",
        "print(\"\")\n",
        "\n",
        "# Crea los 2 * 2 + 1 chunkstrozos\n",
        "chunk = batched_x.unfold(1, window_size*2 + 1, 1)\n",
        "print(f\"Windows: \")\n",
        "print(chunk)"
      ]
    },
    {
      "cell_type": "markdown",
      "metadata": {
        "id": "7lkALUmwQskZ"
      },
      "source": [
        "### Definición del modelo de calsificación"
      ]
    },
    {
      "cell_type": "code",
      "execution_count": null,
      "metadata": {
        "id": "SmyK8dZyQskZ"
      },
      "outputs": [],
      "source": [
        "class WordWindowClassifier(nn.Module):\n",
        "\n",
        "  def __init__(self, hyperparameters, vocab_size, pad_ix=0):\n",
        "    super(WordWindowClassifier, self).__init__()\n",
        "    \n",
        "    \"\"\" Instancia las variabless \"\"\"\n",
        "    self.window_size = hyperparameters[\"window_size\"]\n",
        "    self.embed_dim = hyperparameters[\"embed_dim\"]\n",
        "    self.hidden_dim = hyperparameters[\"hidden_dim\"]\n",
        "    self.freeze_embeddings = hyperparameters[\"freeze_embeddings\"]\n",
        "\n",
        "    \"\"\" Capa de Embedding      \n",
        "    Toma un tensor que contiene los índices de los embeddings y devuelve los embeddings\n",
        "    correspondientes. La salida es de dimensión (número_de_índices * dimension_embedding).\n",
        "\n",
        "     Si freeze_embeddings es True, configura los parámetros de la capa de embedding para que sean\n",
        "     no entrenables. Esto es útil si solo queremos cambiar los parámetros que no sean de los embeddings.\n",
        "\n",
        "    \"\"\"\n",
        "    self.embeds = nn.Embedding(vocab_size, self.embed_dim, padding_idx=pad_ix)\n",
        "    if self.freeze_embeddings:\n",
        "      self.embed_layer.weight.requires_grad = False\n",
        "\n",
        "    \"\"\" Capa Oculta\n",
        "    \"\"\"\n",
        "    full_window_size = 2 * window_size + 1\n",
        "    self.hidden_layer = nn.Sequential(\n",
        "      nn.Linear(full_window_size * self.embed_dim, self.hidden_dim), \n",
        "      nn.Tanh()\n",
        "    )\n",
        "\n",
        "    \"\"\" Caba de salida\n",
        "    \"\"\"\n",
        "    self.output_layer = nn.Linear(self.hidden_dim, 1)\n",
        "\n",
        "    \"\"\" Probabilidades \n",
        "    \"\"\"\n",
        "    self.probabilities = nn.Sigmoid()\n",
        "\n",
        "  def forward(self, inputs):\n",
        "    \"\"\"\n",
        "    Sea B:= batch_size\n",
        "        L:= longitud de la ventana de la sentencia rellenada\n",
        "        D:= self.embed_dim\n",
        "        S:= self.window_size\n",
        "        H:= self.hidden_dim\n",
        "        \n",
        "    entradas: un tensor (B, L) de los indices de los tokens\n",
        "    \"\"\"\n",
        "    B, L = inputs.size()\n",
        "\n",
        "    \"\"\"\n",
        "    Reshaping.\n",
        "    Entra un tensor de tipo Long (B, L) \n",
        "    Produce un tensor de tipo Long (B, L~, S)\n",
        "    \"\"\"\n",
        "    # Primero, obtiene las ventanas de palabras para cada palabra de entrada.\n",
        "    token_windows = inputs.unfold(1, 2 * self.window_size + 1, 1)\n",
        "    _, adjusted_length, _ = token_windows.size()\n",
        "\n",
        "    # Es buena idea hacer verificaciones internas del tamaño de un tensor\n",
        "    assert token_windows.size() == (B, adjusted_length, 2 * self.window_size + 1)\n",
        "\n",
        "    \"\"\"\n",
        "    Embedding.\n",
        "    Entra un torch.LongTensor de tamano (B, L~, S) \n",
        "    Produce un (B, L~, S, D) FloatTensor.\n",
        "    \"\"\"\n",
        "    embedded_windows = self.embeds(token_windows)\n",
        "\n",
        "    \"\"\"\n",
        "    Reshaping.\n",
        "    Entra un (B, L~, S, D) FloatTensor.\n",
        "    Cambia su tamano a (B, L~, S*D) FloatTensor.\n",
        "    El argumento -1  \"infiere\" ser la última dimensión segun los ejes sobrantes.\n",
        "    \"\"\"\n",
        "    embedded_windows = embedded_windows.view(B, adjusted_length, -1)\n",
        "\n",
        "    \"\"\"\n",
        "    Capa 1.\n",
        "    Entra un (B, L~, S*D) FloatTensor.\n",
        "    Cambia su tamaño a un (B, L~, H) FloatTensor\n",
        "    \"\"\"\n",
        "    layer_1 = self.hidden_layer(embedded_windows)\n",
        "\n",
        "    \"\"\"\n",
        "    Capa 2\n",
        "    Entra un (B, L~, H) FloatTensor.\n",
        "    cambia su tamano a un (B, L~, 1) FloatTensor.\n",
        "    \"\"\"\n",
        "    output = self.output_layer(layer_1)\n",
        "\n",
        "    \"\"\"\n",
        "    Softmax.\n",
        "    Entra un (B, L~, 1) FloatTensor de scores de clases no normalizados.\n",
        "    Produce un (B, L~, 1) FloatTensor de scores de clases (log-)normalizados.\n",
        "    \"\"\"\n",
        "    output = self.probabilities(output)\n",
        "    output = output.view(B, -1)\n",
        "\n",
        "    return output"
      ]
    },
    {
      "cell_type": "markdown",
      "metadata": {
        "id": "2aStmaQ9QskZ"
      },
      "source": [
        "### Preparación de datos para pasar al dataloader"
      ]
    },
    {
      "cell_type": "code",
      "execution_count": null,
      "metadata": {
        "id": "0LbEEsyCQskZ"
      },
      "outputs": [],
      "source": [
        "# Prepara los datos\n",
        "data = list(zip(train_sentences, train_labels))\n",
        "batch_size = 2\n",
        "shuffle = True\n",
        "window_size = 2\n",
        "collate_fn = partial(custom_collate_fn, window_size=window_size, word_to_ix=word_to_ix)\n",
        "\n",
        "# Instancia el dataloader\n",
        "loader = DataLoader(data, batch_size=batch_size, shuffle=shuffle, collate_fn=collate_fn)\n",
        "\n",
        "# Inicializa el modelo\n",
        "# Es util colocar todos los hiperparamentros en un diccionario\n",
        "model_hyperparameters = {\n",
        "    \"batch_size\": 4,\n",
        "    \"window_size\": 2,\n",
        "    \"embed_dim\": 25,\n",
        "    \"hidden_dim\": 25,\n",
        "    \"freeze_embeddings\": False,\n",
        "}\n",
        "\n",
        "vocab_size = len(word_to_ix)\n",
        "model = WordWindowClassifier(model_hyperparameters, vocab_size)\n",
        "\n",
        "# define un optimizador\n",
        "learning_rate = 0.01\n",
        "optimizer = torch.optim.SGD(model.parameters(), lr=learning_rate)\n",
        "\n",
        "# Definir una función de pérdida, que calcula el binary cross entropy \n",
        "def loss_function(batch_outputs, batch_labels, batch_lengths):   \n",
        "    # calcula el loss para todo el batch\n",
        "    bceloss = nn.BCELoss()\n",
        "    loss = bceloss(batch_outputs, batch_labels.float())\n",
        "\n",
        "    # Reescala el loss. Recuerde que hemos utilizado longitudes para almacenar el\n",
        "    # número de palabras en cada muestra de entrenamiento\n",
        "    loss = loss / batch_lengths.sum().float()\n",
        "\n",
        "    return loss"
      ]
    },
    {
      "cell_type": "markdown",
      "metadata": {
        "id": "mhv4S85rQskZ"
      },
      "source": [
        "### Preparación de los datos  pasados en cada epoca"
      ]
    },
    {
      "cell_type": "code",
      "execution_count": null,
      "metadata": {
        "id": "Ng0M5tCeQskZ"
      },
      "outputs": [],
      "source": [
        "# Funcion que se llamara en cada epoch\n",
        "def train_epoch(loss_function, optimizer, model, loader):\n",
        "  \n",
        "  # guarda el registro del loss para cada epoch\n",
        "  total_loss = 0\n",
        "  for batch_inputs, batch_labels, batch_lengths in loader:\n",
        "    # limpia los gradientes\n",
        "    optimizer.zero_grad()\n",
        "    # corre un forward pass\n",
        "    outputs = model.forward(batch_inputs)\n",
        "    # calcula el loss para un batch\n",
        "    loss = loss_function(outputs, batch_labels, batch_lengths)\n",
        "    # Calcula los gradientes\n",
        "    loss.backward()\n",
        "    # Actualiza los parámetros\n",
        "    optimizer.step()\n",
        "    total_loss += loss.item()\n",
        "\n",
        "  return total_loss\n",
        "\n",
        "\n",
        "# Función que contiene el loop principal\n",
        "def train(loss_function, optimizer, model, loader, num_epochs=10000):\n",
        "\n",
        "  # Itera a traves de cada epoch y llama la funcion de train_epoch function\n",
        "  for epoch in range(num_epochs):\n",
        "    epoch_loss = train_epoch(loss_function, optimizer, model, loader)\n",
        "    if epoch % 100 == 0: print(epoch_loss)"
      ]
    },
    {
      "cell_type": "markdown",
      "metadata": {
        "id": "-ea3RWzAQska"
      },
      "source": [
        "### Definición de numero de epocas, llamado de la función de perdida y del optimizador."
      ]
    },
    {
      "cell_type": "code",
      "execution_count": null,
      "metadata": {
        "id": "Rbuk1pRMQska",
        "outputId": "2d873b6a-e691-4169-8448-69b6ff5bd565"
      },
      "outputs": [
        {
          "name": "stdout",
          "output_type": "stream",
          "text": [
            "0.26290438137948513\n",
            "0.2239233423024416\n",
            "0.19668337143957615\n",
            "0.1699308706447482\n",
            "0.13397438445826992\n",
            "0.053684813901782036\n",
            "-0.055263224989175797\n",
            "-0.07690921891480684\n",
            "-0.18260557064786553\n",
            "-0.339735203422606\n"
          ]
        }
      ],
      "source": [
        "num_epochs = 1000\n",
        "train(loss_function, optimizer, model, loader, num_epochs=num_epochs)"
      ]
    },
    {
      "cell_type": "markdown",
      "metadata": {
        "id": "WdLEVQ4fQska"
      },
      "source": [
        "### Validación del modelo. Con sentencia de prueba."
      ]
    },
    {
      "cell_type": "markdown",
      "metadata": {
        "id": "oOXNHkG1Qska"
      },
      "source": [
        "Para efectos del ejercicio, se usarón palabras, existes en el corpus y etiquetadas en la primera parte:\n",
        "1: Planetas\n",
        "2: Verbos\n",
        "3: Deportes\n",
        "4: Nombres\n"
      ]
    },
    {
      "cell_type": "code",
      "execution_count": null,
      "metadata": {
        "id": "1eINCypZQska"
      },
      "outputs": [],
      "source": [
        "# Creando una sentencia de prueba\n",
        "test_corpus = [\"Carlos va a marte\"]\n",
        "test_sentences = [s.lower().split() for s in test_corpus]\n",
        "test_labels = [[4, 2, 0, 1]]\n",
        "\n",
        "# Crea un dataloader de prueba\n",
        "test_data = list(zip(test_sentences, test_labels))\n",
        "batch_size = 1\n",
        "shuffle = False\n",
        "window_size = 2\n",
        "collate_fn = partial(custom_collate_fn, window_size=12, word_to_ix=word_to_ix)\n",
        "test_loader = torch.utils.data.DataLoader(test_data, \n",
        "                                           batch_size=1, \n",
        "                                           shuffle=False, \n",
        "                                           collate_fn=collate_fn)"
      ]
    },
    {
      "cell_type": "code",
      "execution_count": null,
      "metadata": {
        "id": "cp8MKlFnQska"
      },
      "outputs": [],
      "source": []
    },
    {
      "cell_type": "code",
      "execution_count": null,
      "metadata": {
        "id": "l8SDV1MpQska",
        "outputId": "6cc804a9-0ab8-4acf-d4aa-db5b083d14e4"
      },
      "outputs": [
        {
          "name": "stdout",
          "output_type": "stream",
          "text": [
            "tensor([[4, 2, 0, 1]])\n",
            "tensor([[0.3863, 0.3863, 0.3863, 0.3863, 0.3863, 0.3863, 0.3863, 0.3863, 0.6125,\n",
            "         0.9901, 0.9850, 0.0019, 0.0480, 0.6867, 0.4313, 0.0824, 0.3863, 0.3863,\n",
            "         0.3863, 0.3863, 0.3863, 0.3863, 0.3863, 0.3863]],\n",
            "       grad_fn=<ViewBackward0>)\n"
          ]
        }
      ],
      "source": [
        "for test_instance, labels, _ in test_loader:\n",
        "  outputs = model.forward(test_instance)\n",
        "  print(labels)\n",
        "  print(outputs)"
      ]
    },
    {
      "cell_type": "code",
      "execution_count": null,
      "metadata": {
        "id": "vOHiIFa7Qska",
        "outputId": "75deb90c-d6ec-4397-be81-d57ad5db1200"
      },
      "outputs": [
        {
          "data": {
            "text/plain": [
              "[(['los',\n",
              "   'cuatro',\n",
              "   'primeros',\n",
              "   'mercurio',\n",
              "   'venus',\n",
              "   'la',\n",
              "   'tierra',\n",
              "   'y',\n",
              "   'marte'],\n",
              "  [0, 0, 0, 1, 1, 0, 1, 0, 1]),\n",
              " (['tienen',\n",
              "   'algo',\n",
              "   'en',\n",
              "   'comun',\n",
              "   'todos',\n",
              "   'se',\n",
              "   'situan',\n",
              "   'en',\n",
              "   'las',\n",
              "   'orbitas',\n",
              "   'mas',\n",
              "   'cercanas',\n",
              "   'al',\n",
              "   'sol'],\n",
              "  [2, 0, 0, 0, 0, 0, 2, 0, 0, 0, 0, 0, 0, 1]),\n",
              " (['cuentan',\n",
              "   'con',\n",
              "   'un',\n",
              "   'nucleo',\n",
              "   'metalico',\n",
              "   'en',\n",
              "   'su',\n",
              "   'interior',\n",
              "   'y',\n",
              "   'estan',\n",
              "   'conformados',\n",
              "   'por',\n",
              "   'materiales',\n",
              "   'solidos'],\n",
              "  [2, 0, 0, 0, 0, 0, 0, 0, 0, 2, 0, 0, 0, 0]),\n",
              " (['por',\n",
              "   'lo',\n",
              "   'que',\n",
              "   'reciben',\n",
              "   'el',\n",
              "   'nombre',\n",
              "   'de',\n",
              "   'planetas',\n",
              "   'rocosos',\n",
              "   'o',\n",
              "   'planetas',\n",
              "   'interiores'],\n",
              "  [0, 0, 0, 2, 0, 0, 0, 0, 0, 0, 0, 0]),\n",
              " (['por',\n",
              "   'su',\n",
              "   'parte',\n",
              "   'las',\n",
              "   'orbitas',\n",
              "   'de',\n",
              "   'jupiter',\n",
              "   'saturno',\n",
              "   'urano',\n",
              "   'y',\n",
              "   'neptuno',\n",
              "   'se',\n",
              "   'situan',\n",
              "   'mucho',\n",
              "   'mas',\n",
              "   'lejos',\n",
              "   'del',\n",
              "   'sol'],\n",
              "  [0, 0, 0, 0, 0, 0, 1, 1, 1, 0, 1, 0, 2, 0, 0, 0, 0, 1]),\n",
              " (['en', 'la', 'parte', 'exterior', 'del', 'sistema', 'solar'],\n",
              "  [0, 0, 0, 0, 0, 0, 0]),\n",
              " (['y', 'estan', 'conformados', 'en', 'su', 'mayoria', 'por', 'gas'],\n",
              "  [0, 2, 0, 0, 0, 0, 0, 0]),\n",
              " (['por',\n",
              "   'lo',\n",
              "   'que',\n",
              "   'son',\n",
              "   'conocidos',\n",
              "   'como',\n",
              "   'planetas',\n",
              "   'exteriores',\n",
              "   'o',\n",
              "   'planetas',\n",
              "   'jovianos.'],\n",
              "  [0, 0, 0, 0, 0, 0, 0, 0, 0, 0, 0]),\n",
              " (['carlos',\n",
              "   'slim',\n",
              "   'es',\n",
              "   'el',\n",
              "   'dueño',\n",
              "   'del',\n",
              "   'cohete',\n",
              "   'que',\n",
              "   'ira',\n",
              "   'al',\n",
              "   'espacio'],\n",
              "  [4, 0, 2, 0, 0, 0, 0, 0, 0, 0, 0]),\n",
              " (['francisco', 'de', 'paula', 'santander', 'era', 'un', 'heroe'],\n",
              "  [4, 0, 0, 0, 2, 0, 0]),\n",
              " (['ronaldo', 'es', 'una', 'estrella', 'del', 'futbol'], [4, 2, 0, 0, 0, 3]),\n",
              " (['el', 'tenis', 'es', 'el', 'deporte', 'del', 'mañana'],\n",
              "  [0, 3, 2, 0, 0, 0, 0]),\n",
              " (['juan', 'carlos', 'es', 'el', 'campeon', 'mundial', 'en', 'gritmica'],\n",
              "  [4, 4, 2, 0, 0, 0, 0, 3]),\n",
              " (['el', 'campeon', 'de', 'judo,', 'tambien,', 'practica', 'karate'],\n",
              "  [0, 0, 0, 0, 0, 0, 3])]"
            ]
          },
          "execution_count": 489,
          "metadata": {},
          "output_type": "execute_result"
        }
      ],
      "source": [
        "data"
      ]
    }
  ],
  "metadata": {
    "colab": {
      "collapsed_sections": [],
      "provenance": []
    },
    "kernelspec": {
      "display_name": "Python 3 (ipykernel)",
      "language": "python",
      "name": "python3"
    },
    "language_info": {
      "codemirror_mode": {
        "name": "ipython",
        "version": 3
      },
      "file_extension": ".py",
      "mimetype": "text/x-python",
      "name": "python",
      "nbconvert_exporter": "python",
      "pygments_lexer": "ipython3",
      "version": "3.9.13"
    },
    "nbTranslate": {
      "displayLangs": [
        "*"
      ],
      "hotkey": "alt-t",
      "langInMainMenu": true,
      "sourceLang": "en",
      "targetLang": "es",
      "useGoogleTranslate": true
    }
  },
  "nbformat": 4,
  "nbformat_minor": 0
}