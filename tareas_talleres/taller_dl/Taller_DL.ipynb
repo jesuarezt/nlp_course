{
 "cells": [
  {
   "cell_type": "code",
   "execution_count": 1,
   "metadata": {
    "ExecuteTime": {
     "end_time": "2022-02-28T12:01:35.341404Z",
     "start_time": "2022-02-28T12:01:34.914124Z"
    },
    "id": "u0ukr7quvrMx",
    "lang": "en"
   },
   "outputs": [],
   "source": [
    "import torch\n",
    "import torch.nn as nn\n"
   ]
  },
  {
   "cell_type": "markdown",
   "metadata": {
    "lang": "es"
   },
   "source": [
    "### Ejercicio 1\n",
    "\n",
    "Escribe código que cree un `torch.tensor` con los siguientes contenidos:\n",
    "$\\begin{bmatrix} 1 & 2.2 & 9.6 \\\\ 4 & -7.2 & 6.3 \\end{bmatrix}$\n",
    "\n",
    "Ahora calcule el promedio de cada fila (`.mean()`) y cada columna.\n",
    "\n",
    "¿Cuál es la forma de los resultados?"
   ]
  },
  {
   "cell_type": "markdown",
   "metadata": {
    "lang": "es"
   },
   "source": [
    "### Ejercicio 2\n",
    "\n",
    "Escribe código que cree un `torch.tensor` con los siguientes contenidos:\n",
    "$\\begin{bmatrix} 1 & 2.2 & 9.6 \\\\ 4 & -7.2 & 6.3 \\end{bmatrix}$\n",
    "\n",
    "¿Cómo se obtiene la primera columna? ¿La primera fila?"
   ]
  },
  {
   "cell_type": "markdown",
   "metadata": {},
   "source": [
    "### Ejercicio 3\n",
    "\n",
    "Cree una función vectorial (no lineal) en función de dos o tres vectores, determine sus derivadas respecto a cada componente de los vectores, para valores particulares, usando pytorch. Compruebe el resultado."
   ]
  },
  {
   "cell_type": "markdown",
   "metadata": {},
   "source": [
    "### Ejercicio 4\n",
    "\n",
    "Use el dataset de `progressive-tweet-sentiment.csv` (el del taller 1), para producir una representación de vectores usando word2vec (máximo 50 vectores). Divida en un conjunto de entrenamiento y otro de prueba. A continuación, realice una clasificación de los tweets con un MLP (multilayer perceptron) de una capa oculta (tendrá que probar cuantas neuronas ocultas), usando como variables la media de los vectores de las palabras de cada tweet. Debe utilizar pytorch. Grafique el loss y el accuracy, tanto para el entrenamiento como para la validación. Escoja el mejor modelo probando con un buen número de epochs (use un learning rate de 0.1 o 0.01).\n"
   ]
  },
  {
   "cell_type": "markdown",
   "metadata": {},
   "source": [
    "-----"
   ]
  },
  {
   "cell_type": "markdown",
   "metadata": {},
   "source": [
    "### Ejercicio 5\n",
    "Este ejercicio, es más bien un tutorial de como realizar un clasificador de ventanas de palabras, acercandónos a un problema de NLP conocido como \"Name Entity Recognition\" (NER), el cual busca clasificar cada palabra en por ejemplo si es un nombre, pronombre, verbo, lugar, etc. Esto es muy importante, porque introduce varias cuestiones claves que se usan en el NLP con deep learning. Al final, el ejercicio será (1) entender cada parte y (2) realizar el mismo procedimiento pero clasificando entre varios tipos de palabras (no sólo una). "
   ]
  },
  {
   "cell_type": "markdown",
   "metadata": {
    "lang": "es"
   },
   "source": [
    "### Clasificación de ventanas de palabras (Word Window Classification) paso a paso\n",
    "\n",
    "En esta tarea de NLP aprenderemos:\n",
    "\n",
    "1. Datos: creación de un conjunto de datos de tensores por batches\n",
    "2. Modelado\n",
    "3. Entrenamiento\n",
    "4. Predicción\n",
    "\n",
    "En esta sección, nuestro objetivo será entrenar un modelo que encuentre las palabras en una oración correspondiente a una 'UBICACIÓN', que siempre tendrá un intervalo de '1' (lo que significa que 'San Francisco' no se reconocerá como un `UBICACIÓN`). Nuestra tarea se llama `Clasificación de ventana de palabras` por una razón. En lugar de permitir que nuestro modelo solo eche un vistazo a una palabra en cada paso hacia adelante, nos gustaría que pudiera considerar el contexto de la palabra en cuestión. Es decir, para cada palabra, queremos que nuestro modelo sea consciente de las palabras que lo rodean."
   ]
  },
  {
   "cell_type": "code",
   "execution_count": 2,
   "metadata": {
    "ExecuteTime": {
     "end_time": "2022-02-28T12:01:54.597689Z",
     "start_time": "2022-02-28T12:01:54.594870Z"
    },
    "lang": "es"
   },
   "outputs": [],
   "source": [
    "# Nuestros datos sin procesar, que consisten en oraciones\n",
    "corpus = [\n",
    "          \"Nosotros siempre venimos a París\",\n",
    "          \"El profesor es de Australia\",\n",
    "          \"Yo vivo en Bogotá\",\n",
    "          \"Él viene de Taiwán\",\n",
    "          \"La capital de Turquía es Ankara\"\n",
    "         ]"
   ]
  },
  {
   "cell_type": "markdown",
   "metadata": {
    "lang": "es"
   },
   "source": [
    "#### Preprocesamiento\n",
    "\n",
    "Para facilitar el aprendizaje de nuestros modelos, generalmente aplicamos algunos pasos de preprocesamiento a nuestros datos. Esto es especialmente importante cuando se trata de datos de texto. Estos son algunos ejemplos de preprocesamiento de texto:\n",
    "* **Tokenización**: Tokenización de oraciones en palabras.\n",
    "* **Lowercasing**: Cambiar todas las letras a minúsculas.\n",
    "* **Eliminación de ruido**: Eliminación de caracteres especiales (como signos de puntuación o quitar tíldes).\n",
    "* **Eliminación de palabras vacías**: eliminación de palabras de uso común.\n",
    "\n",
    "Los pasos de preprocesamiento necesarios están determinados por la tarea en cuestión. Por ejemplo, aunque es útil eliminar caracteres especiales en algunas tareas, para otras pueden ser importantes (por ejemplo, si estamos hablando de varios idiomas). Para nuestra tarea, escribiremos en minúsculas nuestras palabras y tokenizaremos."
   ]
  },
  {
   "cell_type": "code",
   "execution_count": 3,
   "metadata": {
    "ExecuteTime": {
     "end_time": "2022-02-28T17:29:42.298122Z",
     "start_time": "2022-02-28T17:29:42.294408Z"
    }
   },
   "outputs": [],
   "source": [
    "import re\n",
    "from unicodedata import normalize\n",
    "def quitartildes(s):\n",
    "    # -> NFD y eliminar diacríticos\n",
    "    s = re.sub(\n",
    "            r\"([^n\\u0300-\\u036f]|n(?!\\u0303(?![\\u0300-\\u036f])))[\\u0300-\\u036f]+\", r\"\\1\", \n",
    "            normalize( \"NFD\", s), 0, re.I\n",
    "        )\n",
    "\n",
    "    # -> NFCNosotros\n",
    "    return normalize( 'NFC', s)"
   ]
  },
  {
   "cell_type": "code",
   "execution_count": 4,
   "metadata": {
    "ExecuteTime": {
     "end_time": "2022-02-28T12:02:33.349815Z",
     "start_time": "2022-02-28T12:02:33.338195Z"
    },
    "colab": {
     "base_uri": "https://localhost:8080/"
    },
    "id": "fTGn8ANTzZXT",
    "lang": "en",
    "outputId": "0ed249ae-7272-4400-9319-d7cc9dca02d4"
   },
   "outputs": [
    {
     "data": {
      "text/plain": [
       "[['nosotros', 'siempre', 'venimos', 'a', 'paris'],\n",
       " ['el', 'profesor', 'es', 'de', 'australia'],\n",
       " ['yo', 'vivo', 'en', 'bogota'],\n",
       " ['el', 'viene', 'de', 'taiwan'],\n",
       " ['la', 'capital', 'de', 'turquia', 'es', 'ankara']]"
      ]
     },
     "execution_count": 4,
     "metadata": {},
     "output_type": "execute_result"
    }
   ],
   "source": [
    "# La función de preprocesamiento que usaremos para generar nuestros ejemplos de entrenamiento\n",
    "# Nuestra función es simple, ponemos las letras en minúsculas, quitamos tildes\n",
    "# y luego tokenizamos las palabras.\n",
    "def preprocess_sentence(sentence):\n",
    "  return quitartildes(sentence).lower().split()\n",
    "\n",
    "# Crea nuestro conjunto de entrenamiento\n",
    "train_sentences = [preprocess_sentence(sent) for sent in corpus]\n",
    "train_sentences"
   ]
  },
  {
   "cell_type": "markdown",
   "metadata": {
    "lang": "es"
   },
   "source": [
    "Para cada ejemplo de entrenamiento que tengamos, también deberíamos tener una etiqueta correspondiente. Recuerde que el objetivo de nuestro modelo era determinar qué palabras corresponden a una `UBICACIÓN`. Es decir, queremos que nuestro modelo genere `0` para todas las palabras que no sean `UBICACION` y `1` para las que sean `UBICACION`."
   ]
  },
  {
   "cell_type": "code",
   "execution_count": 5,
   "metadata": {
    "ExecuteTime": {
     "end_time": "2022-02-28T12:04:05.416956Z",
     "start_time": "2022-02-28T12:04:05.411731Z"
    },
    "colab": {
     "base_uri": "https://localhost:8080/"
    },
    "id": "3wo1kcMAHFw7",
    "outputId": "f064cb0b-7176-4825-bab9-f7c00accff3a"
   },
   "outputs": [
    {
     "data": {
      "text/plain": [
       "[[0, 0, 0, 0, 1],\n",
       " [0, 0, 0, 0, 1],\n",
       " [0, 0, 0, 1],\n",
       " [0, 0, 0, 1],\n",
       " [0, 0, 0, 1, 0, 1]]"
      ]
     },
     "execution_count": 5,
     "metadata": {},
     "output_type": "execute_result"
    }
   ],
   "source": [
    "# Set de ubicaciones que aparecen en el corpus\n",
    "locations = set([\"australia\", \"ankara\", \"paris\", \"bogota\", \"taiwan\", \"turquia\"])\n",
    "\n",
    "# Nuestras etiquetas de entrenamiento\n",
    "train_labels = [[1 if word in locations else 0 for word in sent] for sent in train_sentences]\n",
    "train_labels"
   ]
  },
  {
   "cell_type": "markdown",
   "metadata": {
    "lang": "es"
   },
   "source": [
    "#### Convertir palabras a Embeddings\n",
    "\n",
    "Veamos nuestros datos de entrenamiento un poco más de cerca. Cada punto de datos que tenemos es una secuencia de palabras. Por otro lado, sabemos que los modelos de aprendizaje automático funcionan con números en vectores. ¿Cómo vamos a convertir las palabras en números? ¡A través de los embeddings!\n",
    "\n",
    "Imagine que tenemos una tabla de búsqueda de embeddings `E`, donde cada fila corresponde a un embedding. Es decir, cada palabra de nuestro vocabulario tendría una fila de embedding `i` correspondiente en esta tabla. Siempre que queramos encontrar una embedding para una palabra, seguiremos estos pasos:\n",
    "1. Buscar el índice correspondiente `i` de la palabra en la tabla de embedding: `palabra->índice`.\n",
    "2. Indexar en la tabla de embedding y obtener el embedding: `índice->embedding`.\n",
    "\n",
    "Veamos el primer paso. Deberíamos asignar todas las palabras de nuestro vocabulario a un índice correspondiente. Podemos hacerlo de la siguiente manera:\n",
    "1. Encontrando todas las palabras únicas en nuestro corpus.\n",
    "2. Asignando un índice a cada uno."
   ]
  },
  {
   "cell_type": "code",
   "execution_count": 6,
   "metadata": {
    "ExecuteTime": {
     "end_time": "2022-02-28T12:19:17.566727Z",
     "start_time": "2022-02-28T12:19:17.562687Z"
    },
    "colab": {
     "base_uri": "https://localhost:8080/"
    },
    "id": "SjTDlfPyVp5z",
    "lang": "en",
    "outputId": "bce95386-3b75-470b-8c9b-9c2255203c4e"
   },
   "outputs": [
    {
     "data": {
      "text/plain": [
       "{'a',\n",
       " 'ankara',\n",
       " 'australia',\n",
       " 'bogota',\n",
       " 'capital',\n",
       " 'de',\n",
       " 'el',\n",
       " 'en',\n",
       " 'es',\n",
       " 'la',\n",
       " 'nosotros',\n",
       " 'paris',\n",
       " 'profesor',\n",
       " 'siempre',\n",
       " 'taiwan',\n",
       " 'turquia',\n",
       " 'venimos',\n",
       " 'viene',\n",
       " 'vivo',\n",
       " 'yo'}"
      ]
     },
     "execution_count": 6,
     "metadata": {},
     "output_type": "execute_result"
    }
   ],
   "source": [
    "# Encuentra todas las palabras únicas en nuestro corpus\n",
    "vocabulary = set(w for s in train_sentences for w in s)\n",
    "vocabulary"
   ]
  },
  {
   "cell_type": "markdown",
   "metadata": {
    "lang": "es"
   },
   "source": [
    "`vocabulary` ahora contiene todas las palabras en nuestro corpus. Por otro lado, durante la (evaluación con el conjunto de) prueba, podemos ver palabras que no están contenidas en nuestro vocabulario. Si podemos encontrar una forma de representar las palabras desconocidas, nuestro modelo aún podría razonar sobre si son una 'UBICACIÓN' o no, ya que también estamos mirando las palabras vecinas para cada predicción.\n",
    "\n",
    "Introducimos un token especial, `<unk>`, para abordar las palabras que están fuera del vocabulario. Podríamos elegir otra cadena para nuestro token desconocido si quisiéramos. El único requisito aquí es que nuestro token debe ser único: solo debemos usar este token para palabras desconocidas. También agregaremos este token especial a nuestro vocabulario."
   ]
  },
  {
   "cell_type": "code",
   "execution_count": 7,
   "metadata": {
    "ExecuteTime": {
     "end_time": "2022-02-28T12:20:46.951737Z",
     "start_time": "2022-02-28T12:20:46.949319Z"
    },
    "lang": "es"
   },
   "outputs": [],
   "source": [
    "# Agrega el token desconocido a nuestro vocabulario\n",
    "vocabulary.add(\"<unk>\")"
   ]
  },
  {
   "cell_type": "markdown",
   "metadata": {
    "lang": "es"
   },
   "source": [
    "Anteriormente mencionamos que nuestra tarea se llamaba \"Clasificación de ventana de palabras\" porque nuestro modelo está mirando las palabras circundantes además de la palabra central, cuando se necesita hacer una predicción.\n",
    "\n",
    "Por ejemplo, tomemos la oración \"Nosotros siempre venimos a París\". La etiqueta de entrenamiento correspondiente para esta oración es `0, 0, 0, 0, 1` ya que solo París, la última palabra, es una `UBICACIÓN`. En una sola pasada (es decir, una llamada a `forward()`), nuestro modelo intentará generar la etiqueta correcta para una palabra. Digamos que nuestro modelo intenta generar la etiqueta correcta `1` para `París`. Si solo permitimos que nuestro modelo vea `París`, pero nada más, nos perderemos información importante, como por ejemplo, de que la palabra 'a' aparece muchas veces con `UBICACIONES`.\n",
    "\n",
    "Las ventanas de palabras permiten que nuestro modelo considere `+N` o `-N` palabras alrededor de cada palabra al hacer una predicción. En nuestro ejemplo anterior para `París`, si tenemos un tamaño de ventana de 1, eso significa que nuestro modelo mirará las palabras que vienen inmediatamente antes e inmediatamente después de `París`, que son `a` y, *ninguna palabra*. Ahora bien, esto plantea otro problema. `París` está al final de nuestra oración, por lo que no hay otra palabra que la siga. Recuerde que definimos las dimensiones de entrada de nuestros modelos en `PyTorch` cuando los inicializamos. Si establecemos el tamaño de la ventana en `1`, significa que nuestro modelo aceptará `3` palabras en cada paso. No podemos hacer que nuestro modelo espere `2` palabras de vez en cuando.\n",
    "\n",
    "La solución es introducir un token especial, `<pad>`, que se agregará a nuestras oraciones para asegurarnos de que cada palabra tenga una ventana válida alrededor. Similar al token `<unk>`, podríamos elegir otra cadena para nuestro token de relleno si quisiéramos, siempre y cuando nos aseguremos de que se use para un propósito único."
   ]
  },
  {
   "cell_type": "code",
   "execution_count": 8,
   "metadata": {
    "ExecuteTime": {
     "end_time": "2022-02-28T12:24:59.410072Z",
     "start_time": "2022-02-28T12:24:59.405189Z"
    },
    "colab": {
     "base_uri": "https://localhost:8080/"
    },
    "id": "ZVQsjYi6ZegI",
    "lang": "en",
    "outputId": "f0f45f18-0e91-48e5-f5b7-229c2c36a694"
   },
   "outputs": [
    {
     "data": {
      "text/plain": [
       "['<pad>',\n",
       " '<pad>',\n",
       " 'nosotros',\n",
       " 'siempre',\n",
       " 'venimos',\n",
       " 'a',\n",
       " 'paris',\n",
       " '<pad>',\n",
       " '<pad>']"
      ]
     },
     "execution_count": 8,
     "metadata": {},
     "output_type": "execute_result"
    }
   ],
   "source": [
    "# Agregua el token <pad> a nuestro vocabulario\n",
    "vocabulary.add(\"<pad>\")\n",
    "\n",
    "# Función que rellena la oración dada\n",
    "# Estamos introduciendo esta función aquí como un ejemplo\n",
    "# Lo utilizaremos más adelante en el tutorial.\n",
    "def pad_window(sentence, window_size, pad_token=\"<pad>\"):\n",
    "  window = [pad_token] * window_size\n",
    "  return window + sentence + window\n",
    "\n",
    "# Muestra un ejemplo de relleno\n",
    "window_size = 2\n",
    "pad_window(train_sentences[0], window_size=window_size)"
   ]
  },
  {
   "cell_type": "markdown",
   "metadata": {
    "lang": "es"
   },
   "source": [
    "Ahora que nuestro vocabulario está listo, asignemos un índice a cada una de nuestras palabras."
   ]
  },
  {
   "cell_type": "code",
   "execution_count": 9,
   "metadata": {
    "ExecuteTime": {
     "end_time": "2022-02-28T12:51:17.026347Z",
     "start_time": "2022-02-28T12:51:17.020997Z"
    },
    "colab": {
     "base_uri": "https://localhost:8080/"
    },
    "id": "BNCTQnKDa4oh",
    "lang": "en",
    "outputId": "dedbe39a-40c2-42e8-be56-96b6d961fd99"
   },
   "outputs": [
    {
     "data": {
      "text/plain": [
       "{'<pad>': 0,\n",
       " '<unk>': 1,\n",
       " 'a': 2,\n",
       " 'ankara': 3,\n",
       " 'australia': 4,\n",
       " 'bogota': 5,\n",
       " 'capital': 6,\n",
       " 'de': 7,\n",
       " 'el': 8,\n",
       " 'en': 9,\n",
       " 'es': 10,\n",
       " 'la': 11,\n",
       " 'nosotros': 12,\n",
       " 'paris': 13,\n",
       " 'profesor': 14,\n",
       " 'siempre': 15,\n",
       " 'taiwan': 16,\n",
       " 'turquia': 17,\n",
       " 'venimos': 18,\n",
       " 'viene': 19,\n",
       " 'vivo': 20,\n",
       " 'yo': 21}"
      ]
     },
     "execution_count": 9,
     "metadata": {},
     "output_type": "execute_result"
    }
   ],
   "source": [
    "# Solo estamos convirtiendo nuestro vocabulario en una lista para poder indexarla\n",
    "# Aunque ordenar no es necesario, ordenamos para mostrar un diccionario word_to_ind ordenado\n",
    "# Dicho esto, veremos que tener el índice para el token de relleno\n",
    "# como 0 es conveniente ya que algunas funciones de PyTorch lo usan como valor predeterminado\n",
    "# como sucede con nn.utils.rnn.pad_sequence, que veremos en un momento\n",
    "ix_to_word = sorted(list(vocabulary))\n",
    "\n",
    "# Creando un diccionario para encontrar el índice de una palabra dada\n",
    "word_to_ix = {word: ind for ind, word in enumerate(ix_to_word)}\n",
    "word_to_ix"
   ]
  },
  {
   "cell_type": "code",
   "execution_count": 10,
   "metadata": {
    "ExecuteTime": {
     "end_time": "2022-02-28T12:51:20.976293Z",
     "start_time": "2022-02-28T12:51:20.972583Z"
    },
    "colab": {
     "base_uri": "https://localhost:8080/",
     "height": 35
    },
    "id": "pt-0SK67hMVo",
    "outputId": "a8516317-65c7-4548-c0ac-6f6711a5370c"
   },
   "outputs": [
    {
     "data": {
      "text/plain": [
       "'<unk>'"
      ]
     },
     "execution_count": 10,
     "metadata": {},
     "output_type": "execute_result"
    }
   ],
   "source": [
    "ix_to_word[1]"
   ]
  },
  {
   "cell_type": "markdown",
   "metadata": {
    "lang": "es"
   },
   "source": [
    "Ahora, estamos listos para convertir nuestras oraciones de entrenamiento en una secuencia de índices correspondientes a cada token."
   ]
  },
  {
   "cell_type": "code",
   "execution_count": 10,
   "metadata": {
    "ExecuteTime": {
     "end_time": "2022-02-28T12:52:06.907826Z",
     "start_time": "2022-02-28T12:52:06.901238Z"
    },
    "colab": {
     "base_uri": "https://localhost:8080/"
    },
    "id": "ZNOxip15bMfH",
    "lang": "en",
    "outputId": "74f8344f-bdeb-4a37-9442-b317013cdc10"
   },
   "outputs": [
    {
     "name": "stdout",
     "output_type": "stream",
     "text": [
      "La oración original es: ['nosotros', 'siempre', 'venimos', 'a', 'kuwait']\n",
      "Pasar de palabras a índices: [12, 15, 18, 2, 1]\n",
      "Pasando de índices a palabras: ['nosotros', 'siempre', 'venimos', 'a', '<unk>']\n"
     ]
    }
   ],
   "source": [
    "# Dada una sentencia de tokens, devuelve los índices correspondientes\n",
    "def convert_token_to_indices(sentence, word_to_ix):\n",
    "  indices = []\n",
    "  for token in sentence:\n",
    "    # Comprueba si el token está en nuestro vocabulario. Si es así, obtiene su índice.\n",
    "    # Si no, obtiene el índice del token desconocido.\n",
    "    if token in word_to_ix:\n",
    "      index = word_to_ix[token]\n",
    "    else:\n",
    "      index = word_to_ix[\"<unk>\"]\n",
    "    indices.append(index)\n",
    "  return indices\n",
    "\n",
    "# Versión más compacta de la misma función\n",
    "def _convert_token_to_indices(sentence, word_to_ix):\n",
    "  return [word_to_ix.get(token, word_to_ix[\"<unk>\"]) for token in sentence]\n",
    "\n",
    "# Muestra un ejemplo\n",
    "example_sentence = [\"nosotros\", \"siempre\", \"venimos\", \"a\", \"kuwait\"]\n",
    "example_indices = convert_token_to_indices(example_sentence, word_to_ix)\n",
    "restored_example = [ix_to_word[ind] for ind in example_indices]\n",
    "\n",
    "print(f\"La oración original es: {example_sentence}\")\n",
    "print(f\"Pasar de palabras a índices: {example_indices}\")\n",
    "print(f\"Pasando de índices a palabras: {restored_example}\")"
   ]
  },
  {
   "cell_type": "markdown",
   "metadata": {
    "lang": "es"
   },
   "source": [
    "En el ejemplo anterior, `kuwait` aparece como `<unk>`, porque no está incluido en nuestro vocabulario. Convirtamos nuestras `train_sentences` a `example_padded_indices`."
   ]
  },
  {
   "cell_type": "code",
   "execution_count": 11,
   "metadata": {
    "ExecuteTime": {
     "end_time": "2022-02-28T12:52:24.599737Z",
     "start_time": "2022-02-28T12:52:24.595267Z"
    },
    "colab": {
     "base_uri": "https://localhost:8080/"
    },
    "id": "JRaKQwSJH-1d",
    "outputId": "ac2c370a-4d6e-41a7-afd2-652c76f6c235"
   },
   "outputs": [
    {
     "data": {
      "text/plain": [
       "[[12, 15, 18, 2, 13],\n",
       " [8, 14, 10, 7, 4],\n",
       " [21, 20, 9, 5],\n",
       " [8, 19, 7, 16],\n",
       " [11, 6, 7, 17, 10, 3]]"
      ]
     },
     "execution_count": 11,
     "metadata": {},
     "output_type": "execute_result"
    }
   ],
   "source": [
    "# Convirtiendo nuestras sentencias a indices\n",
    "example_padded_indices = [convert_token_to_indices(s, word_to_ix) for s in train_sentences]\n",
    "example_padded_indices"
   ]
  },
  {
   "cell_type": "markdown",
   "metadata": {
    "lang": "es"
   },
   "source": [
    "Ahora que tenemos un índice para cada palabra en nuestro vocabulario, podemos crear una tabla de embedding con la clase `nn.Embedding` de `PyTorch`. Se llama de la siguiente manera `nn.Embedding(num_words, embedding_dimension)` donde `num_words` es el número de palabras en nuestro vocabulario y `embedding_dimension` es la dimensión de los embeddings que queremos tener. No hay nada sofisticado en `nn.Embedding`: es solo una clase wrapper alrededor de un tensor dimensional entrenable de tamaño `NxE` , donde `N` es el número de palabras en nuestro vocabulario y `E` es el número de dimensiones incrustadas. Esta tabla es inicialmente aleatoria, pero cambiará con el tiempo. A medida que entrenamos nuestra red, los gradientes se propagarán hacia atrás hasta la capa de embedding y, por lo tanto, nuestros embeddings de palabras se actualizarán. Posteriormente, inicializaremos la capa de embedding que usaremos para nuestro modelo dentro de nuestro modelo, pero a continuación mostramos un ejemplo."
   ]
  },
  {
   "cell_type": "code",
   "execution_count": 12,
   "metadata": {
    "ExecuteTime": {
     "end_time": "2022-02-28T12:54:24.057777Z",
     "start_time": "2022-02-28T12:54:24.052087Z"
    },
    "colab": {
     "base_uri": "https://localhost:8080/"
    },
    "id": "F4AgHzv91VXx",
    "lang": "en",
    "outputId": "5404f7e3-919b-4e98-9411-0f92bd5248e1"
   },
   "outputs": [
    {
     "data": {
      "text/plain": [
       "[Parameter containing:\n",
       " tensor([[-0.6760, -1.2424,  1.1935,  0.9447,  2.0666],\n",
       "         [ 0.6534, -0.3152,  0.3971,  1.6182,  1.0491],\n",
       "         [-0.1146, -0.3675, -0.4580,  0.8169,  1.3410],\n",
       "         [ 1.4582,  0.8076, -0.5693,  1.5240, -0.2298],\n",
       "         [-0.3818,  0.6022,  1.9722,  0.3425,  1.0157],\n",
       "         [ 1.4128, -0.0446, -0.6814, -0.5371, -2.5826],\n",
       "         [-0.6758, -3.3956, -0.9973,  0.4300, -1.0428],\n",
       "         [-0.5264, -1.1665,  1.1093, -0.1045,  1.0106],\n",
       "         [-0.1248,  1.2877,  0.1218, -0.6983,  0.1149],\n",
       "         [ 0.4013, -0.4627,  0.4280, -1.0467,  1.0539],\n",
       "         [-0.1579,  0.5329, -1.6934, -0.1347,  1.0321],\n",
       "         [ 0.2159,  0.2372,  0.0248, -2.2187, -0.3630],\n",
       "         [ 0.1389,  1.0257, -0.1304,  0.9505, -0.6586],\n",
       "         [-0.2888, -1.3280,  0.3214, -1.2857, -1.4550],\n",
       "         [ 0.2182,  1.0253, -0.2624, -0.0967, -0.7604],\n",
       "         [ 0.5189, -1.2169,  0.0092, -0.1853, -0.7642],\n",
       "         [-1.3709,  0.1705, -0.0514, -0.4626,  0.2259],\n",
       "         [-0.3114,  0.6957, -1.0644, -1.1961,  1.4423],\n",
       "         [-0.7269, -0.0328,  0.2099, -2.1158, -1.1068],\n",
       "         [-0.8896, -0.2842,  0.0367, -1.1522,  0.5149],\n",
       "         [-1.9967,  1.2335, -2.0930, -0.8252, -1.0967],\n",
       "         [ 0.3076,  0.1576,  0.1330,  0.0826,  0.6127]], requires_grad=True)]"
      ]
     },
     "execution_count": 12,
     "metadata": {},
     "output_type": "execute_result"
    }
   ],
   "source": [
    "# Creando una tabla de embedding para nuestras palabras\n",
    "embedding_dim = 5\n",
    "embeds = nn.Embedding(len(vocabulary), embedding_dim)\n",
    "\n",
    "# Imprimiendo los parámetros en nuestra tabla de embedding\n",
    "list(embeds.parameters())"
   ]
  },
  {
   "cell_type": "markdown",
   "metadata": {
    "lang": "es"
   },
   "source": [
    "Para obtener el embedding de la palabra para una palabra en nuestro vocabulario, todo lo que tenemos que hacer es crear un tensor de búsqueda. El tensor de búsqueda es solo un tensor que contiene el índice que queremos buscar. La clase `nn.Embedding` espera un tensor de índices que sea del tipo `Long` Tensor, por lo que debemos crear nuestro tensor en consecuencia."
   ]
  },
  {
   "cell_type": "code",
   "execution_count": 13,
   "metadata": {
    "ExecuteTime": {
     "end_time": "2022-02-28T12:55:18.168568Z",
     "start_time": "2022-02-28T12:55:18.163797Z"
    },
    "colab": {
     "base_uri": "https://localhost:8080/"
    },
    "id": "nkldmcepjfh_",
    "outputId": "b9e24c31-547d-41e5-9509-fb9e9777cd01"
   },
   "outputs": [
    {
     "data": {
      "text/plain": [
       "tensor([-0.2888, -1.3280,  0.3214, -1.2857, -1.4550],\n",
       "       grad_fn=<EmbeddingBackward0>)"
      ]
     },
     "execution_count": 13,
     "metadata": {},
     "output_type": "execute_result"
    }
   ],
   "source": [
    "# Obtiene el embedding para la palabra paris\n",
    "index = word_to_ix[\"paris\"]\n",
    "index_tensor = torch.tensor(index, dtype=torch.long)\n",
    "paris_embed = embeds(index_tensor)\n",
    "paris_embed"
   ]
  },
  {
   "cell_type": "code",
   "execution_count": 14,
   "metadata": {
    "ExecuteTime": {
     "end_time": "2022-02-28T12:55:26.937443Z",
     "start_time": "2022-02-28T12:55:26.932027Z"
    },
    "colab": {
     "base_uri": "https://localhost:8080/"
    },
    "id": "mUsdwBOxm6B4",
    "lang": "en",
    "outputId": "5b8cb8fe-0787-4e93-946b-ed719efcdd8b"
   },
   "outputs": [
    {
     "data": {
      "text/plain": [
       "tensor([[-0.2888, -1.3280,  0.3214, -1.2857, -1.4550],\n",
       "        [ 1.4582,  0.8076, -0.5693,  1.5240, -0.2298]],\n",
       "       grad_fn=<EmbeddingBackward0>)"
      ]
     },
     "execution_count": 14,
     "metadata": {},
     "output_type": "execute_result"
    }
   ],
   "source": [
    "# También podemos obtener múltiples embeddings a la vez\n",
    "index_paris = word_to_ix[\"paris\"]\n",
    "index_ankara = word_to_ix[\"ankara\"]\n",
    "indices = [index_paris, index_ankara]\n",
    "indices_tensor = torch.tensor(indices, dtype=torch.long)\n",
    "embeddings = embeds(indices_tensor)\n",
    "embeddings"
   ]
  },
  {
   "cell_type": "markdown",
   "metadata": {
    "lang": "es"
   },
   "source": [
    "Por lo general, definimos la capa de embedding como parte de nuestro modelo, que veremos en las secciones posteriores de nuestro cuaderno."
   ]
  },
  {
   "cell_type": "markdown",
   "metadata": {
    "lang": "es"
   },
   "source": [
    "#### Sentencias (frases) por batch\n",
    "Esperar a que se procese todo nuestro corpus de entrenamiento antes de realizar una actualización (de los pesos) no es eficiente. Por otro lado, actualizar los parámetros después de cada ejemplo de entrenamiento hace que el *loss* sea menos estable entre actualizaciones. Para combatir estos problemas, actualizamos nuestros parámetros después de entrenar con un batch (lote o pedazo) de los datos. Esto nos permite obtener una mejor estimación del gradiente del *loss* global. En esta sección, aprenderemos cómo estructurar nuestros datos en batches usando la clase `torch.util.data.DataLoader`.\n",
    "\n",
    "Llamaremos a la clase `DataLoader` de la siguiente manera: `DataLoader(data, batch_size=batch_size, shuffle=True, collate_fn=collate_fn)`. El parámetro `batch_size` determina el número de muestras por batch. En cada época, estaremos iterando sobre todos los batches usando el `DataLoader`. El orden de los batches es determinista por defecto, pero podemos pedirle a `DataLoader` que mezcle los batches configurando el parámetro `shuffle` en `True`. De esta manera nos aseguramos de no encontrarnos con un batch defectuoso varias veces.\n",
    "\n",
    "Si se proporciona, `DataLoader` pasa los batches que prepara a `collate_fn`. Podemos escribir una función personalizada para pasar al parámetro `collate_fn` para imprimir estadísticas sobre nuestro batch o realizar un procesamiento adicional. En nuestro caso, usaremos `collate_fn` para:\n",
    "\n",
    "1. Rellenar las ventanas de las sentencias de entrenamiento.\n",
    "2. Conviertir las palabras las muestras de entrenamiento a índices.\n",
    "3. Rellenar las muestras de entrenamiento para que todas las sentencias y etiquetas tengan la misma longitud. Del mismo modo, también necesitamos rellenar las etiquetas. Esto crea un problema puesto que al calcular el loss, necesitamos saber el número real de palabras en una muestra dada. También, realizaremos un seguimiento de este número en la función que le pasamos al parámetro `collate_fn`.\n",
    "\n",
    "Debido a que nuestra versión de la función `collate_fn` necesitará acceder a nuestro diccionario `word_to_ix` (para que pueda convertir palabras en índices), haremos uso de la función `partial` de `Python`, que pasa los parámetros que le damos a la función que le pasamos."
   ]
  },
  {
   "cell_type": "code",
   "execution_count": 15,
   "metadata": {
    "ExecuteTime": {
     "end_time": "2022-02-28T13:21:28.900312Z",
     "start_time": "2022-02-28T13:21:28.892271Z"
    },
    "id": "OkvvVlo4jgFm",
    "lang": "en"
   },
   "outputs": [],
   "source": [
    "from torch.utils.data import DataLoader\n",
    "from functools import partial\n",
    "\n",
    "def custom_collate_fn(batch, window_size, word_to_ix):\n",
    "  # Divide nuestro batch en muestras de entrenamiento (x) y etiquetas (y)\n",
    "  # Estamos convirtiendo nuestra x e y en tensores porque el método nn.utils.rnn.pad_secuence\n",
    "  # espera tensores. Esto también es útil ya que nuestro modelo estará esperando tensores como\n",
    "  # entradas.\n",
    "  x, y = zip(*batch)\n",
    "\n",
    "  # Ahora necesitamos rellenar las ventanas de nuestrass muestras de entrenamiento.\n",
    "  # Ya hemos definido una función para manejar el relleno de la ventana. Lo incluimos aquí\n",
    "  # de nuevo para que todo está en un solo lugar.\n",
    "  def pad_window(sentence, window_size, pad_token=\"<pad>\"):\n",
    "    window = [pad_token] * window_size\n",
    "    return window + sentence + window\n",
    "\n",
    "  # Rellena las muestras de entrenamiento\n",
    "  x = [pad_window(s, window_size=window_size) for s in x]\n",
    "\n",
    "  # Ahora necesitamos convertir las palabras de nuestras muestras de entrenamiento a índices.\n",
    "  # Estamos copiando la función definida anteriormente por el mismo motivo anterior.\n",
    "  def convert_tokens_to_indices(sentence, word_to_ix):\n",
    "    return [word_to_ix.get(token, word_to_ix[\"<unk>\"]) for token in sentence]\n",
    "\n",
    "  # Convierte las muestras de entrenamiento a indices.\n",
    "  x = [convert_tokens_to_indices(s, word_to_ix) for s in x]\n",
    "\n",
    "  # Ahora rellenaremos las muestras para que las longitudes de todas las muestras en\n",
    "  # un batch sean iguales, lo que permite realizar operaciones matriciales.\n",
    "  # Establecemos el parámetro batch_first en True para que la matriz devuelta tenga\n",
    "  # como la primera dimensión el batch.\n",
    "  pad_token_ix = word_to_ix[\"<pad>\"]\n",
    "\n",
    "\n",
    "  # la función pad_sequence espera que la entrada sea un tensor, por lo que convertimos x en uno\n",
    "  x = [torch.LongTensor(x_i) for x_i in x]\n",
    "  x_padded = nn.utils.rnn.pad_sequence(x, batch_first=True, padding_value=pad_token_ix)\n",
    "\n",
    "  # También rellenaremos las etiquetas. Antes de hacerlo, guardaremos el número\n",
    "  # de etiquetas para que sepamos cuantas palabras existieron en cada ejemplo.\n",
    "  lengths = [len(label) for label in y]\n",
    "  lenghts = torch.LongTensor(lengths)\n",
    "\n",
    "  y = [torch.LongTensor(y_i) for y_i in y]\n",
    "  y_padded = nn.utils.rnn.pad_sequence(y, batch_first=True, padding_value=0)\n",
    "\n",
    "  # Ahora estamos listos para devolver nuestras variables. El orden en que devolvemos\n",
    "  #  nuestras variables coincidirá con el orden en que los leemos en nuestro ciclo de entrenamiento.\n",
    "  return x_padded, y_padded, lenghts  "
   ]
  },
  {
   "cell_type": "markdown",
   "metadata": {
    "lang": "es"
   },
   "source": [
    "Esta función parece larga, pero realmente no tiene por qué serlo. Veamos una versión alternativa a continuación, en donde eliminamos las declaraciones y comentarios de funciones adicionales."
   ]
  },
  {
   "cell_type": "code",
   "execution_count": 17,
   "metadata": {
    "ExecuteTime": {
     "end_time": "2022-02-28T13:21:33.159405Z",
     "start_time": "2022-02-28T13:21:33.153974Z"
    },
    "id": "dZfcmAJXbLcq"
   },
   "outputs": [],
   "source": [
    "def _custom_collate_fn(batch, window_size, word_to_ix):\n",
    "  # preparando los puntos de datos\n",
    "  x, y = zip(*batch)  \n",
    "  x = [pad_window(s, window_size=window_size) for s in x]\n",
    "  x = [convert_tokens_to_indices(s, word_to_ix) for s in x]\n",
    "\n",
    "  # rellena x tal que todas las muestras en el batch tengan el mismo tamano\n",
    "  pad_token_ix = word_to_ix[\"<pad>\"]\n",
    "  x = [torch.LongTensor(x_i) for x_i in x]\n",
    "  x_padded = nn.utils.rnn.pad_sequence(x, batch_first=True, padding_value=pad_token_ix)\n",
    "\n",
    "  # Rellena \"y\" y guarda la longitud\n",
    "  lengths = [len(label) for label in y]\n",
    "  lenghts = torch.LongTensor(lengths)\n",
    "  y = [torch.LongTensor(y_i) for y_i in y]\n",
    "  y_padded = nn.utils.rnn.pad_sequence(y, batch_first=True, padding_value=0)\n",
    "\n",
    "  return x_padded, y_padded, lenghts  "
   ]
  },
  {
   "cell_type": "markdown",
   "metadata": {
    "lang": "es"
   },
   "source": [
    "Ahora, podemos ver el `DataLoader` en acción."
   ]
  },
  {
   "cell_type": "code",
   "execution_count": 16,
   "metadata": {
    "ExecuteTime": {
     "end_time": "2022-02-28T13:27:44.710065Z",
     "start_time": "2022-02-28T13:27:44.691587Z"
    },
    "colab": {
     "base_uri": "https://localhost:8080/"
    },
    "id": "RfB0JKL2vZ6p",
    "lang": "en",
    "outputId": "663b5215-01b3-475f-edb6-ad29186a967c"
   },
   "outputs": [
    {
     "name": "stdout",
     "output_type": "stream",
     "text": [
      "Iteration 0\n",
      "Batched Input:\n",
      "tensor([[ 0,  0,  8, 14, 10,  7,  4,  0,  0],\n",
      "        [ 0,  0,  8, 19,  7, 16,  0,  0,  0]])\n",
      "Batched Labels:\n",
      "tensor([[0, 0, 0, 0, 1],\n",
      "        [0, 0, 0, 1, 0]])\n",
      "Batched Lengths:\n",
      "tensor([5, 4])\n",
      "\n",
      "Iteration 1\n",
      "Batched Input:\n",
      "tensor([[ 0,  0, 12, 15, 18,  2, 13,  0,  0],\n",
      "        [ 0,  0, 21, 20,  9,  5,  0,  0,  0]])\n",
      "Batched Labels:\n",
      "tensor([[0, 0, 0, 0, 1],\n",
      "        [0, 0, 0, 1, 0]])\n",
      "Batched Lengths:\n",
      "tensor([5, 4])\n",
      "\n",
      "Iteration 2\n",
      "Batched Input:\n",
      "tensor([[ 0,  0, 11,  6,  7, 17, 10,  3,  0,  0]])\n",
      "Batched Labels:\n",
      "tensor([[0, 0, 0, 1, 0, 1]])\n",
      "Batched Lengths:\n",
      "tensor([6])\n",
      "\n"
     ]
    }
   ],
   "source": [
    "# Parámetros a pasar al DataLoader\n",
    "data = list(zip(train_sentences, train_labels))\n",
    "batch_size = 2\n",
    "shuffle = True\n",
    "window_size = 2\n",
    "collate_fn = partial(custom_collate_fn, window_size=window_size, word_to_ix=word_to_ix)\n",
    "\n",
    "# Instancia el DataLoader\n",
    "loader = DataLoader(data, batch_size=batch_size, shuffle=shuffle, collate_fn=collate_fn)\n",
    "\n",
    "# Va a traves de un ciclo\n",
    "counter = 0\n",
    "for batched_x, batched_y, batched_lengths in loader:\n",
    "  print(f\"Iteration {counter}\")\n",
    "  print(\"Batched Input:\")\n",
    "  print(batched_x)\n",
    "  print(\"Batched Labels:\")\n",
    "  print(batched_y)\n",
    "  print(\"Batched Lengths:\")\n",
    "  print(batched_lengths)\n",
    "  print(\"\")\n",
    "  counter += 1"
   ]
  },
  {
   "cell_type": "markdown",
   "metadata": {
    "lang": "es"
   },
   "source": [
    "Los tensores de entrada por batch que vimos antes se pasarán a nuestro modelo. Por otro lado, comenzamos diciendo que nuestro modelo será un clasificador de ventanas de palabras. Por la forma en que nuestros tensores de entrada están formateados actualmente, tenemos todas las palabras en una sentencia en un punto de datos. Cuando pasamos esta entrada a nuestro modelo, éste necesita crear las ventanas para cada palabra, hacer una predicción sobre si la palabra central es una `UBICACIÓN` o no, para cada ventana, juntar las predicciones y volver a hacerlo.\n",
    "\n",
    "Podríamos evitar este problema si formateamos nuestros datos dividiéndolos en ventanas de antemano. En este ejemplo, en cambio, veremos cómo nuestro modelo se ocupa del formateo.\n",
    "\n",
    "Dado que nuestro `window_size` es `N`, queremos que nuestro modelo haga una predicción sobre cada `2N+1` tokens. Es decir, si tenemos una entrada con `9` tokens y un `window_size` de `2`, queremos que nuestro modelo devuelva `5` predicciones. Esto tiene sentido porque antes de rellenarlo con `2` tokens en cada lado, nuestra entrada también tenía \"5\" tokens.\n",
    "\n",
    "Podemos crear estas ventanas usando bucles for, pero hay una alternativa más rápida a `PyTorch`, que es el método `unfold(dimension, size, step)`. Podemos crear las ventanas que necesitamos usando este método de la siguiente manera:"
   ]
  },
  {
   "cell_type": "code",
   "execution_count": 17,
   "metadata": {
    "ExecuteTime": {
     "end_time": "2022-02-28T13:27:50.764906Z",
     "start_time": "2022-02-28T13:27:50.754375Z"
    },
    "colab": {
     "base_uri": "https://localhost:8080/"
    },
    "id": "RMZu-pxLVxHQ",
    "outputId": "2bff1c6a-62f5-46ab-e9d4-282ba405db6d"
   },
   "outputs": [
    {
     "name": "stdout",
     "output_type": "stream",
     "text": [
      "Original Tensor: \n",
      "tensor([[ 0,  0, 11,  6,  7, 17, 10,  3,  0,  0]])\n",
      "\n",
      "Windows: \n",
      "tensor([[[ 0,  0, 11,  6,  7],\n",
      "         [ 0, 11,  6,  7, 17],\n",
      "         [11,  6,  7, 17, 10],\n",
      "         [ 6,  7, 17, 10,  3],\n",
      "         [ 7, 17, 10,  3,  0],\n",
      "         [17, 10,  3,  0,  0]]])\n"
     ]
    }
   ],
   "source": [
    "# muestra el tensor original\n",
    "print(f\"Original Tensor: \")\n",
    "print(batched_x)\n",
    "print(\"\")\n",
    "\n",
    "# Crea los 2 * 2 + 1 chunkstrozos\n",
    "chunk = batched_x.unfold(1, window_size*2 + 1, 1)\n",
    "print(f\"Windows: \")\n",
    "print(chunk)"
   ]
  },
  {
   "cell_type": "markdown",
   "metadata": {},
   "source": [
    "### Modelo\n",
    "Ahora que hemos preparado nuestro datos, estamos listos para construir nuestro modelo. Lo haremos a través de la creación de una clase que hereda de la clase `nn.Module` (ya lo hemos visto con la regresión logística y la MLP)."
   ]
  },
  {
   "cell_type": "code",
   "execution_count": 18,
   "metadata": {
    "ExecuteTime": {
     "end_time": "2022-02-28T13:45:57.599508Z",
     "start_time": "2022-02-28T13:45:57.589397Z"
    },
    "id": "JLTU4h76NLYm"
   },
   "outputs": [],
   "source": [
    "class WordWindowClassifier(nn.Module):\n",
    "\n",
    "  def __init__(self, hyperparameters, vocab_size, pad_ix=0):\n",
    "    super(WordWindowClassifier, self).__init__()\n",
    "    \n",
    "    \"\"\" Instancia las variabless \"\"\"\n",
    "    self.window_size = hyperparameters[\"window_size\"]\n",
    "    self.embed_dim = hyperparameters[\"embed_dim\"]\n",
    "    self.hidden_dim = hyperparameters[\"hidden_dim\"]\n",
    "    self.freeze_embeddings = hyperparameters[\"freeze_embeddings\"]\n",
    "\n",
    "    \"\"\" Capa de Embedding      \n",
    "    Toma un tensor que contiene los índices de los embeddings y devuelve los embeddings\n",
    "    correspondientes. La salida es de dimensión (número_de_índices * dimension_embedding).\n",
    "\n",
    "     Si freeze_embeddings es True, configura los parámetros de la capa de embedding para que sean\n",
    "     no entrenables. Esto es útil si solo queremos cambiar los parámetros que no sean de los embeddings.\n",
    "\n",
    "    \"\"\"\n",
    "    self.embeds = nn.Embedding(vocab_size, self.embed_dim, padding_idx=pad_ix)\n",
    "    if self.freeze_embeddings:\n",
    "      self.embed_layer.weight.requires_grad = False\n",
    "\n",
    "    \"\"\" Capa Oculta\n",
    "    \"\"\"\n",
    "    full_window_size = 2 * window_size + 1\n",
    "    self.hidden_layer = nn.Sequential(\n",
    "      nn.Linear(full_window_size * self.embed_dim, self.hidden_dim), \n",
    "      nn.Tanh()\n",
    "    )\n",
    "\n",
    "    \"\"\" Caba de salida\n",
    "    \"\"\"\n",
    "    self.output_layer = nn.Linear(self.hidden_dim, 1)\n",
    "\n",
    "    \"\"\" Probabilidades \n",
    "    \"\"\"\n",
    "    self.probabilities = nn.Sigmoid()\n",
    "\n",
    "  def forward(self, inputs):\n",
    "    \"\"\"\n",
    "    Sea B:= batch_size\n",
    "        L:= longitud de la ventana de la sentencia rellenada\n",
    "        D:= self.embed_dim\n",
    "        S:= self.window_size\n",
    "        H:= self.hidden_dim\n",
    "        \n",
    "    entradas: un tensor (B, L) de los indices de los tokens\n",
    "    \"\"\"\n",
    "    B, L = inputs.size()\n",
    "\n",
    "    \"\"\"\n",
    "    Reshaping.\n",
    "    Entra un tensor de tipo Long (B, L) \n",
    "    Produce un tensor de tipo Long (B, L~, S)\n",
    "    \"\"\"\n",
    "    # Primero, obtiene las ventanas de palabras para cada palabra de entrada.\n",
    "    token_windows = inputs.unfold(1, 2 * self.window_size + 1, 1)\n",
    "    _, adjusted_length, _ = token_windows.size()\n",
    "\n",
    "    # Es buena idea hacer verificaciones internas del tamaño de un tensor\n",
    "    assert token_windows.size() == (B, adjusted_length, 2 * self.window_size + 1)\n",
    "\n",
    "    \"\"\"\n",
    "    Embedding.\n",
    "    Entra un torch.LongTensor de tamano (B, L~, S) \n",
    "    Produce un (B, L~, S, D) FloatTensor.\n",
    "    \"\"\"\n",
    "    embedded_windows = self.embeds(token_windows)\n",
    "\n",
    "    \"\"\"\n",
    "    Reshaping.\n",
    "    Entra un (B, L~, S, D) FloatTensor.\n",
    "    Cambia su tamano a (B, L~, S*D) FloatTensor.\n",
    "    El argumento -1  \"infiere\" ser la última dimensión segun los ejes sobrantes.\n",
    "    \"\"\"\n",
    "    embedded_windows = embedded_windows.view(B, adjusted_length, -1)\n",
    "\n",
    "    \"\"\"\n",
    "    Capa 1.\n",
    "    Entra un (B, L~, S*D) FloatTensor.\n",
    "    Cambia su tamaño a un (B, L~, H) FloatTensor\n",
    "    \"\"\"\n",
    "    layer_1 = self.hidden_layer(embedded_windows)\n",
    "\n",
    "    \"\"\"\n",
    "    Capa 2\n",
    "    Entra un (B, L~, H) FloatTensor.\n",
    "    cambia su tamano a un (B, L~, 1) FloatTensor.\n",
    "    \"\"\"\n",
    "    output = self.output_layer(layer_1)\n",
    "\n",
    "    \"\"\"\n",
    "    Softmax.\n",
    "    Entra un (B, L~, 1) FloatTensor de scores de clases no normalizados.\n",
    "    Produce un (B, L~, 1) FloatTensor de scores de clases (log-)normalizados.\n",
    "    \"\"\"\n",
    "    output = self.probabilities(output)\n",
    "    output = output.view(B, -1)\n",
    "\n",
    "    return output"
   ]
  },
  {
   "cell_type": "markdown",
   "metadata": {},
   "source": [
    "### Entrenamiento\n",
    "\n",
    "Ahora estamos listos para poner todo junto. Empecemos por preparar nuestros datos e inicializar nuestro modelo. Luego, podemos inicializar nuestro optimizador y definir nuestra función de loss. Esta vez, en lugar de usar una de las funciones de loss predefinidas, definiremos nuestra propia función de loss."
   ]
  },
  {
   "cell_type": "code",
   "execution_count": 19,
   "metadata": {
    "ExecuteTime": {
     "end_time": "2022-02-28T13:50:59.158389Z",
     "start_time": "2022-02-28T13:50:59.144513Z"
    },
    "id": "bInu1VqjHsfj"
   },
   "outputs": [],
   "source": [
    "# Prepara los datos\n",
    "data = list(zip(train_sentences, train_labels))\n",
    "batch_size = 2\n",
    "shuffle = True\n",
    "window_size = 2\n",
    "collate_fn = partial(custom_collate_fn, window_size=window_size, word_to_ix=word_to_ix)\n",
    "\n",
    "# Instancia el dataloader\n",
    "loader = DataLoader(data, batch_size=batch_size, shuffle=shuffle, collate_fn=collate_fn)\n",
    "\n",
    "# Inicializa el modelo\n",
    "# Es util colocar todos los hiperparamentros en un diccionario\n",
    "model_hyperparameters = {\n",
    "    \"batch_size\": 4,\n",
    "    \"window_size\": 2,\n",
    "    \"embed_dim\": 25,\n",
    "    \"hidden_dim\": 25,\n",
    "    \"freeze_embeddings\": False,\n",
    "}\n",
    "\n",
    "vocab_size = len(word_to_ix)\n",
    "model = WordWindowClassifier(model_hyperparameters, vocab_size)\n",
    "\n",
    "# define un optimizador\n",
    "learning_rate = 0.01\n",
    "optimizer = torch.optim.SGD(model.parameters(), lr=learning_rate)\n",
    "\n",
    "# Definir una función de pérdida, que calcula el binary cross entropy \n",
    "def loss_function(batch_outputs, batch_labels, batch_lengths):   \n",
    "    # calcula el loss para todo el batch\n",
    "    bceloss = nn.BCELoss()\n",
    "    loss = bceloss(batch_outputs, batch_labels.float())\n",
    "\n",
    "    # Reescala el loss. Recuerde que hemos utilizado longitudes para almacenar el\n",
    "    # número de palabras en cada muestra de entrenamiento\n",
    "    loss = loss / batch_lengths.sum().float()\n",
    "\n",
    "    return loss"
   ]
  },
  {
   "cell_type": "code",
   "execution_count": 20,
   "metadata": {
    "ExecuteTime": {
     "end_time": "2022-02-28T13:53:20.964908Z",
     "start_time": "2022-02-28T13:53:20.959970Z"
    },
    "id": "QL9IDgIOvHca"
   },
   "outputs": [],
   "source": [
    "# Funcion que se llamara en cada epoch\n",
    "def train_epoch(loss_function, optimizer, model, loader):\n",
    "  \n",
    "  # guarda el registro del loss para cada epoch\n",
    "  total_loss = 0\n",
    "  for batch_inputs, batch_labels, batch_lengths in loader:\n",
    "    # limpia los gradientes\n",
    "    optimizer.zero_grad()\n",
    "    # corre un forward pass\n",
    "    outputs = model.forward(batch_inputs)\n",
    "    # calcula el loss para un batch\n",
    "    loss = loss_function(outputs, batch_labels, batch_lengths)\n",
    "    # Calcula los gradientes\n",
    "    loss.backward()\n",
    "    # Actualiza los parámetros\n",
    "    optimizer.step()\n",
    "    total_loss += loss.item()\n",
    "\n",
    "  return total_loss\n",
    "\n",
    "\n",
    "# Función que contiene el loop principal\n",
    "def train(loss_function, optimizer, model, loader, num_epochs=10000):\n",
    "\n",
    "  # Itera a traves de cada epoch y llama la funcion de train_epoch function\n",
    "  for epoch in range(num_epochs):\n",
    "    epoch_loss = train_epoch(loss_function, optimizer, model, loader)\n",
    "    if epoch % 100 == 0: print(epoch_loss)"
   ]
  },
  {
   "cell_type": "code",
   "execution_count": 22,
   "metadata": {
    "ExecuteTime": {
     "end_time": "2022-02-28T13:53:28.426400Z",
     "start_time": "2022-02-28T13:53:27.231079Z"
    },
    "colab": {
     "base_uri": "https://localhost:8080/"
    },
    "id": "Kav8kwVBJ6XW",
    "outputId": "28dafd55-14b7-4a21-b7d0-fd8cde687fb4"
   },
   "outputs": [],
   "source": [
    "num_epochs = 1000\n",
    "train(loss_function, optimizer, model, loader, num_epochs=num_epochs)"
   ]
  },
  {
   "cell_type": "markdown",
   "metadata": {
    "id": "T-k7Pav4LdQJ"
   },
   "source": [
    "### Predicción\n",
    "\n",
    "Veamos qué tan bien nuestro modelo hace predicciones. Podemos comenzar creando nuestros datos de prueba."
   ]
  },
  {
   "cell_type": "code",
   "execution_count": 24,
   "metadata": {
    "ExecuteTime": {
     "end_time": "2022-02-28T13:54:23.027939Z",
     "start_time": "2022-02-28T13:54:23.023633Z"
    },
    "id": "-v5X69a2Lkbm"
   },
   "outputs": [],
   "source": [
    "# Creando una sentencia de prueba\n",
    "test_corpus = [\"Ella viene de Paris\"]\n",
    "test_sentences = [s.lower().split() for s in test_corpus]\n",
    "test_labels = [[0, 0, 0, 1]]\n",
    "\n",
    "# Crea un dataloader de prueba\n",
    "test_data = list(zip(test_sentences, test_labels))\n",
    "batch_size = 1\n",
    "shuffle = False\n",
    "window_size = 2\n",
    "collate_fn = partial(custom_collate_fn, window_size=2, word_to_ix=word_to_ix)\n",
    "test_loader = torch.utils.data.DataLoader(test_data, \n",
    "                                           batch_size=1, \n",
    "                                           shuffle=False, \n",
    "                                           collate_fn=collate_fn)"
   ]
  },
  {
   "cell_type": "code",
   "execution_count": 25,
   "metadata": {
    "ExecuteTime": {
     "end_time": "2022-02-28T13:54:43.051656Z",
     "start_time": "2022-02-28T13:54:43.047193Z"
    },
    "colab": {
     "base_uri": "https://localhost:8080/"
    },
    "id": "dGYn8CAoMTjX",
    "outputId": "e63fce32-9d1d-4a80-a2f9-dd555928f852"
   },
   "outputs": [
    {
     "name": "stdout",
     "output_type": "stream",
     "text": [
      "tensor([[0, 0, 0, 1]])\n",
      "tensor([[0.1621, 0.0390, 0.1288, 0.9445]], grad_fn=<ViewBackward0>)\n"
     ]
    }
   ],
   "source": [
    "for test_instance, labels, _ in test_loader:\n",
    "  outputs = model.forward(test_instance)\n",
    "  print(labels)\n",
    "  print(outputs)"
   ]
  },
  {
   "cell_type": "code",
   "execution_count": 26,
   "metadata": {
    "ExecuteTime": {
     "end_time": "2022-02-28T13:54:48.755212Z",
     "start_time": "2022-02-28T13:54:48.750982Z"
    },
    "id": "iebrU4ZibVIR"
   },
   "outputs": [
    {
     "data": {
      "text/plain": [
       "[(['nosotros', 'siempre', 'venimos', 'a', 'paris'], [0, 0, 0, 0, 1]),\n",
       " (['el', 'profesor', 'es', 'de', 'australia'], [0, 0, 0, 0, 1]),\n",
       " (['yo', 'vivo', 'en', 'bogota'], [0, 0, 0, 1]),\n",
       " (['el', 'viene', 'de', 'taiwan'], [0, 0, 0, 1]),\n",
       " (['la', 'capital', 'de', 'turquia', 'es', 'ankara'], [0, 0, 0, 1, 0, 1])]"
      ]
     },
     "execution_count": 26,
     "metadata": {},
     "output_type": "execute_result"
    }
   ],
   "source": [
    "data"
   ]
  },
  {
   "cell_type": "markdown",
   "metadata": {},
   "source": [
    "### Ejercicio \n",
    "Cree unas frases con sus respectivas etiquetas para diferentes tipos de palabras: por ejemplo: nombre, verbo, lugar y otros, y realice un proceso simila al anterior donde clasificara las palabras usando ventanas."
   ]
  },
  {
   "cell_type": "markdown",
   "metadata": {},
   "source": [
    "## Algunas pruebas para entender más acerca de las dimensiones"
   ]
  },
  {
   "cell_type": "code",
   "execution_count": null,
   "metadata": {
    "ExecuteTime": {
     "end_time": "2022-02-28T17:25:29.557855Z",
     "start_time": "2022-02-28T17:25:29.554154Z"
    }
   },
   "outputs": [],
   "source": [
    "w = torch.rand(4,3)\n",
    "print(w)"
   ]
  },
  {
   "cell_type": "code",
   "execution_count": null,
   "metadata": {},
   "outputs": [],
   "source": [
    "x = torch.tensor([1,2,3,4],dtype=torch.float)\n",
    "x @ w"
   ]
  },
  {
   "cell_type": "code",
   "execution_count": null,
   "metadata": {},
   "outputs": [],
   "source": [
    "X = torch.randint(1,10,(7,4), dtype=torch.float)\n",
    "X @ w"
   ]
  },
  {
   "cell_type": "code",
   "execution_count": null,
   "metadata": {},
   "outputs": [],
   "source": [
    "X_big = X = torch.randint(1,10,(2,7,4), dtype=torch.float)\n",
    "print(X_big)"
   ]
  },
  {
   "cell_type": "code",
   "execution_count": null,
   "metadata": {},
   "outputs": [],
   "source": [
    "X_big @ w"
   ]
  },
  {
   "cell_type": "code",
   "execution_count": null,
   "metadata": {},
   "outputs": [],
   "source": [
    "new = (X_big @ w) @ torch.tensor([1.,2.,3.]).view(-1,1)\n",
    "print(new)"
   ]
  },
  {
   "cell_type": "code",
   "execution_count": null,
   "metadata": {},
   "outputs": [],
   "source": [
    "new.shape"
   ]
  },
  {
   "cell_type": "code",
   "execution_count": null,
   "metadata": {},
   "outputs": [],
   "source": [
    "new.view(2,-1) # new.squeeze(2)"
   ]
  }
 ],
 "metadata": {
  "colab": {
   "collapsed_sections": [],
   "name": "CS224N PyTorch Tutorial.ipynb",
   "provenance": []
  },
  "kernelspec": {
   "display_name": "Python 3 (ipykernel)",
   "language": "python",
   "name": "python3"
  },
  "language_info": {
   "codemirror_mode": {
    "name": "ipython",
    "version": 3
   },
   "file_extension": ".py",
   "mimetype": "text/x-python",
   "name": "python",
   "nbconvert_exporter": "python",
   "pygments_lexer": "ipython3",
   "version": "3.10.6"
  },
  "nbTranslate": {
   "displayLangs": [
    "*"
   ],
   "hotkey": "alt-t",
   "langInMainMenu": true,
   "sourceLang": "en",
   "targetLang": "es",
   "useGoogleTranslate": true
  }
 },
 "nbformat": 4,
 "nbformat_minor": 1
}
