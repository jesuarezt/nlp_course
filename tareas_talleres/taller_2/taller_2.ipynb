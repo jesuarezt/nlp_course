{
 "cells": [
  {
   "cell_type": "markdown",
   "id": "a69590b6-5ad2-4634-822a-6262d89a5e27",
   "metadata": {},
   "source": [
    "# Taller dos- Procesamiento de lenguaje natural\n",
    "\n",
    "Se entregan dos potenciales bases de datos:\n",
    "1. más de 1.000 tweets relacionados con el tema energético nacional, divididos en 2 archivos, clasificados por empleados de una empresa energética como positivos y negativos. Los tweets están cortados.\n",
    "2. 800 tweets de propósito general (archivo tweets_800.xlsx) clasificados en positivo (1), negativo (-1) y neutro (0)\n",
    "\n",
    "Su tarea es:\n",
    "- Utilizando Transformers, calificar su sentimiento y encontrar métricas de precisión, recall y F1 score.\n",
    "- Obtener entidades nombradas (NER) y realizar un wordcloud de las mismas.\n",
    "- Apoyado en word embeddings, realizar un gráfico t-sne para los conceptos claves del tema (explicar grupos potenciales que se observan en el gráfico).\n"
   ]
  },
  {
   "cell_type": "code",
   "execution_count": 2,
   "id": "4dcf5a03-04f7-4e01-a52e-5ce1ceae0363",
   "metadata": {},
   "outputs": [],
   "source": [
    "import pandas as pd"
   ]
  },
  {
   "cell_type": "code",
   "execution_count": 4,
   "id": "94617237-9168-4dea-8be7-560dfe949dc3",
   "metadata": {},
   "outputs": [],
   "source": [
    "df = pd.read_excel('tweets_800.xlsx')"
   ]
  },
  {
   "cell_type": "code",
   "execution_count": 5,
   "id": "435f2932-c0ef-4c0f-b180-d3cce3ae8137",
   "metadata": {},
   "outputs": [
    {
     "name": "stdout",
     "output_type": "stream",
     "text": [
      "<class 'pandas.core.frame.DataFrame'>\n",
      "RangeIndex: 800 entries, 0 to 799\n",
      "Data columns (total 2 columns):\n",
      " #   Column          Non-Null Count  Dtype \n",
      "---  ------          --------------  ----- \n",
      " 0   TWEET ORIGINAL  800 non-null    object\n",
      " 1   POLARIDAD       800 non-null    int64 \n",
      "dtypes: int64(1), object(1)\n",
      "memory usage: 12.6+ KB\n"
     ]
    },
    {
     "data": {
      "text/html": [
       "<div>\n",
       "<style scoped>\n",
       "    .dataframe tbody tr th:only-of-type {\n",
       "        vertical-align: middle;\n",
       "    }\n",
       "\n",
       "    .dataframe tbody tr th {\n",
       "        vertical-align: top;\n",
       "    }\n",
       "\n",
       "    .dataframe thead th {\n",
       "        text-align: right;\n",
       "    }\n",
       "</style>\n",
       "<table border=\"1\" class=\"dataframe\">\n",
       "  <thead>\n",
       "    <tr style=\"text-align: right;\">\n",
       "      <th></th>\n",
       "      <th>TWEET ORIGINAL</th>\n",
       "      <th>POLARIDAD</th>\n",
       "    </tr>\n",
       "  </thead>\n",
       "  <tbody>\n",
       "    <tr>\n",
       "      <th>0</th>\n",
       "      <td>@robertobrenes Bueno, no es tanto lo mayor com...</td>\n",
       "      <td>-1</td>\n",
       "    </tr>\n",
       "    <tr>\n",
       "      <th>1</th>\n",
       "      <td>Acabo de ver una chamaca con un piercing de mo...</td>\n",
       "      <td>-1</td>\n",
       "    </tr>\n",
       "    <tr>\n",
       "      <th>2</th>\n",
       "      <td>\"Mae mañana llego a las 10, cuidado te quedas ...</td>\n",
       "      <td>-1</td>\n",
       "    </tr>\n",
       "    <tr>\n",
       "      <th>3</th>\n",
       "      <td>@rociomoram29 que mal y por eso es que están j...</td>\n",
       "      <td>-1</td>\n",
       "    </tr>\n",
       "    <tr>\n",
       "      <th>4</th>\n",
       "      <td>@KristelS18 Acá tengo pero ugh, la canela no m...</td>\n",
       "      <td>-1</td>\n",
       "    </tr>\n",
       "  </tbody>\n",
       "</table>\n",
       "</div>"
      ],
      "text/plain": [
       "                                      TWEET ORIGINAL  POLARIDAD\n",
       "0  @robertobrenes Bueno, no es tanto lo mayor com...         -1\n",
       "1  Acabo de ver una chamaca con un piercing de mo...         -1\n",
       "2  \"Mae mañana llego a las 10, cuidado te quedas ...         -1\n",
       "3  @rociomoram29 que mal y por eso es que están j...         -1\n",
       "4  @KristelS18 Acá tengo pero ugh, la canela no m...         -1"
      ]
     },
     "execution_count": 5,
     "metadata": {},
     "output_type": "execute_result"
    }
   ],
   "source": [
    "df.info()\n",
    "df.head()"
   ]
  },
  {
   "cell_type": "code",
   "execution_count": null,
   "id": "5a7fcdef-4f6c-4264-b978-4a6413092422",
   "metadata": {},
   "outputs": [],
   "source": []
  },
  {
   "cell_type": "code",
   "execution_count": null,
   "id": "a847df0c-087d-4c93-b6f0-08d696827c22",
   "metadata": {},
   "outputs": [],
   "source": []
  }
 ],
 "metadata": {
  "kernelspec": {
   "display_name": "Python 3 (ipykernel)",
   "language": "python",
   "name": "python3"
  },
  "language_info": {
   "codemirror_mode": {
    "name": "ipython",
    "version": 3
   },
   "file_extension": ".py",
   "mimetype": "text/x-python",
   "name": "python",
   "nbconvert_exporter": "python",
   "pygments_lexer": "ipython3",
   "version": "3.8.13"
  }
 },
 "nbformat": 4,
 "nbformat_minor": 5
}
