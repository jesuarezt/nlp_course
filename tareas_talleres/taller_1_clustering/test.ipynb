{
 "cells": [
  {
   "cell_type": "markdown",
   "metadata": {
    "id": "bwHkrRFSDM66"
   },
   "source": [
    "#Preprocesado de los Tweets"
   ]
  },
  {
   "cell_type": "markdown",
   "metadata": {
    "id": "usJuVotVMP0A"
   },
   "source": [
    "Importar Librerias"
   ]
  },
  {
   "cell_type": "code",
   "execution_count": 1,
   "metadata": {
    "id": "7S8wuVHjMC_u"
   },
   "outputs": [],
   "source": [
    "import os, re, string #librerias para el pre-procesamiento de texto\n",
    "import nltk,spacy #libreria para el analisis de textos-lenguaje natural\n",
    "import pandas as pd #libreria para la manipulacion y procesamiento de datos\n",
    "import matplotlib.pyplot as plt #visualizaciones\n",
    "import numpy as np #matlab\n",
    "import gensim #modelos no supervisados para el procesadon de lenguaje natural.\n",
    "import sklearn #modelos de Machine Learning\n",
    "import wordcloud #visualiaciones de nube de palabra\n",
    "import seaborn as sns #visializacoines\n",
    "\n",
    "from wordcloud import WordCloud # visualizacion wordcloud\n",
    "from PIL import Image #importar imagenes\n",
    "from spacy import displacy #visualizar de dependencias-dendogram\n",
    "\n"
   ]
  },
  {
   "cell_type": "markdown",
   "metadata": {
    "id": "Bpo9gyO3MbDh"
   },
   "source": [
    "Leer Archivo de Excel"
   ]
  },
  {
   "cell_type": "code",
   "execution_count": 5,
   "metadata": {
    "colab": {
     "base_uri": "https://localhost:8080/"
    },
    "id": "FqyjCyzIIdWC",
    "outputId": "3f037a8f-ba54-48ce-e43e-1d7e92ee4034"
   },
   "outputs": [
    {
     "name": "stdout",
     "output_type": "stream",
     "text": [
      "(200, 91)\n"
     ]
    },
    {
     "data": {
      "text/html": [
       "<div>\n",
       "<style scoped>\n",
       "    .dataframe tbody tr th:only-of-type {\n",
       "        vertical-align: middle;\n",
       "    }\n",
       "\n",
       "    .dataframe tbody tr th {\n",
       "        vertical-align: top;\n",
       "    }\n",
       "\n",
       "    .dataframe thead th {\n",
       "        text-align: right;\n",
       "    }\n",
       "</style>\n",
       "<table border=\"1\" class=\"dataframe\">\n",
       "  <thead>\n",
       "    <tr style=\"text-align: right;\">\n",
       "      <th></th>\n",
       "      <th>user_id</th>\n",
       "      <th>status_id</th>\n",
       "      <th>created_at</th>\n",
       "      <th>screen_name</th>\n",
       "      <th>text</th>\n",
       "      <th>source</th>\n",
       "      <th>display_text_width</th>\n",
       "      <th>reply_to_status_id</th>\n",
       "      <th>reply_to_user_id</th>\n",
       "      <th>reply_to_screen_name</th>\n",
       "      <th>...</th>\n",
       "      <th>favourites_count</th>\n",
       "      <th>account_created_at</th>\n",
       "      <th>verified</th>\n",
       "      <th>profile_url</th>\n",
       "      <th>profile_expanded_url</th>\n",
       "      <th>account_lang</th>\n",
       "      <th>profile_banner_url</th>\n",
       "      <th>profile_background_url</th>\n",
       "      <th>profile_image_url</th>\n",
       "      <th>text2</th>\n",
       "    </tr>\n",
       "  </thead>\n",
       "  <tbody>\n",
       "    <tr>\n",
       "      <th>0</th>\n",
       "      <td>187077341</td>\n",
       "      <td>1420117682163228672</td>\n",
       "      <td>2021-07-27 20:23:34</td>\n",
       "      <td>Seahawk_Davo</td>\n",
       "      <td>@intensaaa2020 Mmm ya me fastidie, no me gusta...</td>\n",
       "      <td>Twitter for Android</td>\n",
       "      <td>68</td>\n",
       "      <td>1.419892e+18</td>\n",
       "      <td>1.337034e+18</td>\n",
       "      <td>intensaaa2020</td>\n",
       "      <td>...</td>\n",
       "      <td>1856</td>\n",
       "      <td>2010-09-05 05:30:41</td>\n",
       "      <td>False</td>\n",
       "      <td>NaN</td>\n",
       "      <td>NaN</td>\n",
       "      <td>NaN</td>\n",
       "      <td>https://pbs.twimg.com/profile_banners/18707734...</td>\n",
       "      <td>http://abs.twimg.com/images/themes/theme18/bg.gif</td>\n",
       "      <td>http://pbs.twimg.com/profile_images/8402706560...</td>\n",
       "      <td>@intensaaa2020 Mmm ya me fastidie, no me gusta...</td>\n",
       "    </tr>\n",
       "    <tr>\n",
       "      <th>1</th>\n",
       "      <td>754923173422833665</td>\n",
       "      <td>1420117600227536899</td>\n",
       "      <td>2021-07-27 20:23:15</td>\n",
       "      <td>susiurbizu</td>\n",
       "      <td>No saben lo mucho que quisiera que me gustara ...</td>\n",
       "      <td>Twitter for iPhone</td>\n",
       "      <td>70</td>\n",
       "      <td>NaN</td>\n",
       "      <td>NaN</td>\n",
       "      <td>NaN</td>\n",
       "      <td>...</td>\n",
       "      <td>4451</td>\n",
       "      <td>2016-07-18 06:18:05</td>\n",
       "      <td>False</td>\n",
       "      <td>NaN</td>\n",
       "      <td>NaN</td>\n",
       "      <td>NaN</td>\n",
       "      <td>https://pbs.twimg.com/profile_banners/75492317...</td>\n",
       "      <td>NaN</td>\n",
       "      <td>http://pbs.twimg.com/profile_images/1392738046...</td>\n",
       "      <td>No saben lo mucho que quisiera que me gustara ...</td>\n",
       "    </tr>\n",
       "    <tr>\n",
       "      <th>2</th>\n",
       "      <td>4518941727</td>\n",
       "      <td>1420117528110587905</td>\n",
       "      <td>2021-07-27 20:22:57</td>\n",
       "      <td>Veothfolnir</td>\n",
       "      <td>Escribo mal porque he bebido medio litro de ce...</td>\n",
       "      <td>TweetDeck</td>\n",
       "      <td>100</td>\n",
       "      <td>NaN</td>\n",
       "      <td>NaN</td>\n",
       "      <td>NaN</td>\n",
       "      <td>...</td>\n",
       "      <td>25370</td>\n",
       "      <td>2015-12-18 00:02:33</td>\n",
       "      <td>False</td>\n",
       "      <td>https://t.co/0pxjj8LIZr</td>\n",
       "      <td>https://www.youtube.com/channel/UCRsjWfA-Z4veF...</td>\n",
       "      <td>NaN</td>\n",
       "      <td>https://pbs.twimg.com/profile_banners/45189417...</td>\n",
       "      <td>NaN</td>\n",
       "      <td>http://pbs.twimg.com/profile_images/1340260811...</td>\n",
       "      <td>Escribo mal porque he bebido medio litro de ce...</td>\n",
       "    </tr>\n",
       "    <tr>\n",
       "      <th>3</th>\n",
       "      <td>1284180586257670147</td>\n",
       "      <td>1420117527384965121</td>\n",
       "      <td>2021-07-27 20:22:57</td>\n",
       "      <td>tu_tio_teviola</td>\n",
       "      <td>@marlasuarezzz Cerveza, Vino, Whisky, Helado j...</td>\n",
       "      <td>Twitter for Android</td>\n",
       "      <td>42</td>\n",
       "      <td>1.420092e+18</td>\n",
       "      <td>1.282937e+18</td>\n",
       "      <td>marlasuarezzz</td>\n",
       "      <td>...</td>\n",
       "      <td>18904</td>\n",
       "      <td>2020-07-17 17:38:24</td>\n",
       "      <td>False</td>\n",
       "      <td>NaN</td>\n",
       "      <td>NaN</td>\n",
       "      <td>NaN</td>\n",
       "      <td>https://pbs.twimg.com/profile_banners/12841805...</td>\n",
       "      <td>NaN</td>\n",
       "      <td>http://pbs.twimg.com/profile_images/1417326584...</td>\n",
       "      <td>@marlasuarezzz Cerveza, Vino, Whisky, Helado j...</td>\n",
       "    </tr>\n",
       "    <tr>\n",
       "      <th>4</th>\n",
       "      <td>1338605739221413888</td>\n",
       "      <td>1420117511786442752</td>\n",
       "      <td>2021-07-27 20:22:53</td>\n",
       "      <td>topdescuentostg</td>\n",
       "      <td>💥Taza de Café, 18oz Vaso Termico Café Termo Do...</td>\n",
       "      <td>FRIKItwitter</td>\n",
       "      <td>260</td>\n",
       "      <td>NaN</td>\n",
       "      <td>NaN</td>\n",
       "      <td>NaN</td>\n",
       "      <td>...</td>\n",
       "      <td>0</td>\n",
       "      <td>2020-12-14 22:04:48</td>\n",
       "      <td>False</td>\n",
       "      <td>https://t.co/ks5VRb7KD1</td>\n",
       "      <td>https://t.me/TOP_Descuentos</td>\n",
       "      <td>NaN</td>\n",
       "      <td>https://pbs.twimg.com/profile_banners/13386057...</td>\n",
       "      <td>NaN</td>\n",
       "      <td>http://pbs.twimg.com/profile_images/1338609798...</td>\n",
       "      <td>💥Taza de Café, 18oz Vaso Termico Café Termo Do...</td>\n",
       "    </tr>\n",
       "  </tbody>\n",
       "</table>\n",
       "<p>5 rows × 91 columns</p>\n",
       "</div>"
      ],
      "text/plain": [
       "               user_id            status_id           created_at  \\\n",
       "0            187077341  1420117682163228672  2021-07-27 20:23:34   \n",
       "1   754923173422833665  1420117600227536899  2021-07-27 20:23:15   \n",
       "2           4518941727  1420117528110587905  2021-07-27 20:22:57   \n",
       "3  1284180586257670147  1420117527384965121  2021-07-27 20:22:57   \n",
       "4  1338605739221413888  1420117511786442752  2021-07-27 20:22:53   \n",
       "\n",
       "       screen_name                                               text  \\\n",
       "0     Seahawk_Davo  @intensaaa2020 Mmm ya me fastidie, no me gusta...   \n",
       "1       susiurbizu  No saben lo mucho que quisiera que me gustara ...   \n",
       "2      Veothfolnir  Escribo mal porque he bebido medio litro de ce...   \n",
       "3   tu_tio_teviola  @marlasuarezzz Cerveza, Vino, Whisky, Helado j...   \n",
       "4  topdescuentostg  💥Taza de Café, 18oz Vaso Termico Café Termo Do...   \n",
       "\n",
       "                source  display_text_width  reply_to_status_id  \\\n",
       "0  Twitter for Android                  68        1.419892e+18   \n",
       "1   Twitter for iPhone                  70                 NaN   \n",
       "2            TweetDeck                 100                 NaN   \n",
       "3  Twitter for Android                  42        1.420092e+18   \n",
       "4         FRIKItwitter                 260                 NaN   \n",
       "\n",
       "   reply_to_user_id reply_to_screen_name  ...  favourites_count  \\\n",
       "0      1.337034e+18        intensaaa2020  ...              1856   \n",
       "1               NaN                  NaN  ...              4451   \n",
       "2               NaN                  NaN  ...             25370   \n",
       "3      1.282937e+18        marlasuarezzz  ...             18904   \n",
       "4               NaN                  NaN  ...                 0   \n",
       "\n",
       "    account_created_at  verified              profile_url  \\\n",
       "0  2010-09-05 05:30:41     False                      NaN   \n",
       "1  2016-07-18 06:18:05     False                      NaN   \n",
       "2  2015-12-18 00:02:33     False  https://t.co/0pxjj8LIZr   \n",
       "3  2020-07-17 17:38:24     False                      NaN   \n",
       "4  2020-12-14 22:04:48     False  https://t.co/ks5VRb7KD1   \n",
       "\n",
       "                                profile_expanded_url  account_lang  \\\n",
       "0                                                NaN           NaN   \n",
       "1                                                NaN           NaN   \n",
       "2  https://www.youtube.com/channel/UCRsjWfA-Z4veF...           NaN   \n",
       "3                                                NaN           NaN   \n",
       "4                        https://t.me/TOP_Descuentos           NaN   \n",
       "\n",
       "                                  profile_banner_url  \\\n",
       "0  https://pbs.twimg.com/profile_banners/18707734...   \n",
       "1  https://pbs.twimg.com/profile_banners/75492317...   \n",
       "2  https://pbs.twimg.com/profile_banners/45189417...   \n",
       "3  https://pbs.twimg.com/profile_banners/12841805...   \n",
       "4  https://pbs.twimg.com/profile_banners/13386057...   \n",
       "\n",
       "                              profile_background_url  \\\n",
       "0  http://abs.twimg.com/images/themes/theme18/bg.gif   \n",
       "1                                                NaN   \n",
       "2                                                NaN   \n",
       "3                                                NaN   \n",
       "4                                                NaN   \n",
       "\n",
       "                                   profile_image_url  \\\n",
       "0  http://pbs.twimg.com/profile_images/8402706560...   \n",
       "1  http://pbs.twimg.com/profile_images/1392738046...   \n",
       "2  http://pbs.twimg.com/profile_images/1340260811...   \n",
       "3  http://pbs.twimg.com/profile_images/1417326584...   \n",
       "4  http://pbs.twimg.com/profile_images/1338609798...   \n",
       "\n",
       "                                               text2  \n",
       "0  @intensaaa2020 Mmm ya me fastidie, no me gusta...  \n",
       "1  No saben lo mucho que quisiera que me gustara ...  \n",
       "2  Escribo mal porque he bebido medio litro de ce...  \n",
       "3  @marlasuarezzz Cerveza, Vino, Whisky, Helado j...  \n",
       "4  💥Taza de Café, 18oz Vaso Termico Café Termo Do...  \n",
       "\n",
       "[5 rows x 91 columns]"
      ]
     },
     "execution_count": 5,
     "metadata": {},
     "output_type": "execute_result"
    }
   ],
   "source": [
    "#from google.colab import drive\n",
    "#drive.mount('/content/drive')\n",
    "\n",
    "data = pd.read_excel('trinoscerveza.xlsx')\n",
    "data = pd.read_csv('trinos_cerveza.csv', sep='|')\n",
    "print(data.shape)\n",
    "data.head()"
   ]
  },
  {
   "cell_type": "code",
   "execution_count": 6,
   "metadata": {
    "colab": {
     "base_uri": "https://localhost:8080/",
     "height": 852
    },
    "id": "y4xr6opsMg9i",
    "outputId": "d65c291a-1b5a-4b93-c716-5812db1397eb"
   },
   "outputs": [],
   "source": [
    "#data=pd.read_excel(\"/content/drive/MyDrive/Maestria en Analitica I/Procesamiento del Lenguaje Natural/Archivos/trinoscerveza.xlsx\")\n",
    "#data"
   ]
  },
  {
   "cell_type": "markdown",
   "metadata": {
    "id": "oX7GTLjDtXcn"
   },
   "source": [
    "Limpieza de los datos"
   ]
  },
  {
   "cell_type": "code",
   "execution_count": 7,
   "metadata": {
    "colab": {
     "base_uri": "https://localhost:8080/",
     "height": 872
    },
    "id": "M3GnY8zXtaPO",
    "outputId": "cb39590c-d190-4e2a-a884-12fb4712d32a"
   },
   "outputs": [
    {
     "data": {
      "text/html": [
       "<div>\n",
       "<style scoped>\n",
       "    .dataframe tbody tr th:only-of-type {\n",
       "        vertical-align: middle;\n",
       "    }\n",
       "\n",
       "    .dataframe tbody tr th {\n",
       "        vertical-align: top;\n",
       "    }\n",
       "\n",
       "    .dataframe thead th {\n",
       "        text-align: right;\n",
       "    }\n",
       "</style>\n",
       "<table border=\"1\" class=\"dataframe\">\n",
       "  <thead>\n",
       "    <tr style=\"text-align: right;\">\n",
       "      <th></th>\n",
       "      <th>user_id</th>\n",
       "      <th>status_id</th>\n",
       "      <th>created_at</th>\n",
       "      <th>screen_name</th>\n",
       "      <th>text</th>\n",
       "      <th>source</th>\n",
       "      <th>display_text_width</th>\n",
       "      <th>reply_to_status_id</th>\n",
       "      <th>reply_to_user_id</th>\n",
       "      <th>reply_to_screen_name</th>\n",
       "      <th>...</th>\n",
       "      <th>favourites_count</th>\n",
       "      <th>account_created_at</th>\n",
       "      <th>verified</th>\n",
       "      <th>profile_url</th>\n",
       "      <th>profile_expanded_url</th>\n",
       "      <th>account_lang</th>\n",
       "      <th>profile_banner_url</th>\n",
       "      <th>profile_background_url</th>\n",
       "      <th>profile_image_url</th>\n",
       "      <th>text2</th>\n",
       "    </tr>\n",
       "  </thead>\n",
       "  <tbody>\n",
       "    <tr>\n",
       "      <th>0</th>\n",
       "      <td>187077341</td>\n",
       "      <td>1420117682163228672</td>\n",
       "      <td>2021-07-27 20:23:34</td>\n",
       "      <td>Seahawk_Davo</td>\n",
       "      <td>@intensaaa2020 Mmm ya me fastidie, no me gusta...</td>\n",
       "      <td>Twitter for Android</td>\n",
       "      <td>68</td>\n",
       "      <td>1.419892e+18</td>\n",
       "      <td>1.337034e+18</td>\n",
       "      <td>intensaaa2020</td>\n",
       "      <td>...</td>\n",
       "      <td>1856</td>\n",
       "      <td>2010-09-05 05:30:41</td>\n",
       "      <td>False</td>\n",
       "      <td>NaN</td>\n",
       "      <td>NaN</td>\n",
       "      <td>NaN</td>\n",
       "      <td>https://pbs.twimg.com/profile_banners/18707734...</td>\n",
       "      <td>http://abs.twimg.com/images/themes/theme18/bg.gif</td>\n",
       "      <td>http://pbs.twimg.com/profile_images/8402706560...</td>\n",
       "      <td>mmm ya me fastidie no me gusta beber casi nada...</td>\n",
       "    </tr>\n",
       "    <tr>\n",
       "      <th>1</th>\n",
       "      <td>754923173422833665</td>\n",
       "      <td>1420117600227536899</td>\n",
       "      <td>2021-07-27 20:23:15</td>\n",
       "      <td>susiurbizu</td>\n",
       "      <td>No saben lo mucho que quisiera que me gustara ...</td>\n",
       "      <td>Twitter for iPhone</td>\n",
       "      <td>70</td>\n",
       "      <td>NaN</td>\n",
       "      <td>NaN</td>\n",
       "      <td>NaN</td>\n",
       "      <td>...</td>\n",
       "      <td>4451</td>\n",
       "      <td>2016-07-18 06:18:05</td>\n",
       "      <td>False</td>\n",
       "      <td>NaN</td>\n",
       "      <td>NaN</td>\n",
       "      <td>NaN</td>\n",
       "      <td>https://pbs.twimg.com/profile_banners/75492317...</td>\n",
       "      <td>NaN</td>\n",
       "      <td>http://pbs.twimg.com/profile_images/1392738046...</td>\n",
       "      <td>no saben lo mucho que quisiera que me gustara ...</td>\n",
       "    </tr>\n",
       "    <tr>\n",
       "      <th>2</th>\n",
       "      <td>4518941727</td>\n",
       "      <td>1420117528110587905</td>\n",
       "      <td>2021-07-27 20:22:57</td>\n",
       "      <td>Veothfolnir</td>\n",
       "      <td>Escribo mal porque he bebido medio litro de ce...</td>\n",
       "      <td>TweetDeck</td>\n",
       "      <td>100</td>\n",
       "      <td>NaN</td>\n",
       "      <td>NaN</td>\n",
       "      <td>NaN</td>\n",
       "      <td>...</td>\n",
       "      <td>25370</td>\n",
       "      <td>2015-12-18 00:02:33</td>\n",
       "      <td>False</td>\n",
       "      <td>https://t.co/0pxjj8LIZr</td>\n",
       "      <td>https://www.youtube.com/channel/UCRsjWfA-Z4veF...</td>\n",
       "      <td>NaN</td>\n",
       "      <td>https://pbs.twimg.com/profile_banners/45189417...</td>\n",
       "      <td>NaN</td>\n",
       "      <td>http://pbs.twimg.com/profile_images/1340260811...</td>\n",
       "      <td>escribo mal porque he bebido medio litro de ce...</td>\n",
       "    </tr>\n",
       "    <tr>\n",
       "      <th>3</th>\n",
       "      <td>1284180586257670147</td>\n",
       "      <td>1420117527384965121</td>\n",
       "      <td>2021-07-27 20:22:57</td>\n",
       "      <td>tu_tio_teviola</td>\n",
       "      <td>@marlasuarezzz Cerveza, Vino, Whisky, Helado j...</td>\n",
       "      <td>Twitter for Android</td>\n",
       "      <td>42</td>\n",
       "      <td>1.420092e+18</td>\n",
       "      <td>1.282937e+18</td>\n",
       "      <td>marlasuarezzz</td>\n",
       "      <td>...</td>\n",
       "      <td>18904</td>\n",
       "      <td>2020-07-17 17:38:24</td>\n",
       "      <td>False</td>\n",
       "      <td>NaN</td>\n",
       "      <td>NaN</td>\n",
       "      <td>NaN</td>\n",
       "      <td>https://pbs.twimg.com/profile_banners/12841805...</td>\n",
       "      <td>NaN</td>\n",
       "      <td>http://pbs.twimg.com/profile_images/1417326584...</td>\n",
       "      <td>cerveza vino whisky helado jejejeje</td>\n",
       "    </tr>\n",
       "    <tr>\n",
       "      <th>4</th>\n",
       "      <td>1338605739221413888</td>\n",
       "      <td>1420117511786442752</td>\n",
       "      <td>2021-07-27 20:22:53</td>\n",
       "      <td>topdescuentostg</td>\n",
       "      <td>💥Taza de Café, 18oz Vaso Termico Café Termo Do...</td>\n",
       "      <td>FRIKItwitter</td>\n",
       "      <td>260</td>\n",
       "      <td>NaN</td>\n",
       "      <td>NaN</td>\n",
       "      <td>NaN</td>\n",
       "      <td>...</td>\n",
       "      <td>0</td>\n",
       "      <td>2020-12-14 22:04:48</td>\n",
       "      <td>False</td>\n",
       "      <td>https://t.co/ks5VRb7KD1</td>\n",
       "      <td>https://t.me/TOP_Descuentos</td>\n",
       "      <td>NaN</td>\n",
       "      <td>https://pbs.twimg.com/profile_banners/13386057...</td>\n",
       "      <td>NaN</td>\n",
       "      <td>http://pbs.twimg.com/profile_images/1338609798...</td>\n",
       "      <td>taza de café oz vaso termico café termo doble ...</td>\n",
       "    </tr>\n",
       "  </tbody>\n",
       "</table>\n",
       "<p>5 rows × 91 columns</p>\n",
       "</div>"
      ],
      "text/plain": [
       "               user_id            status_id           created_at  \\\n",
       "0            187077341  1420117682163228672  2021-07-27 20:23:34   \n",
       "1   754923173422833665  1420117600227536899  2021-07-27 20:23:15   \n",
       "2           4518941727  1420117528110587905  2021-07-27 20:22:57   \n",
       "3  1284180586257670147  1420117527384965121  2021-07-27 20:22:57   \n",
       "4  1338605739221413888  1420117511786442752  2021-07-27 20:22:53   \n",
       "\n",
       "       screen_name                                               text  \\\n",
       "0     Seahawk_Davo  @intensaaa2020 Mmm ya me fastidie, no me gusta...   \n",
       "1       susiurbizu  No saben lo mucho que quisiera que me gustara ...   \n",
       "2      Veothfolnir  Escribo mal porque he bebido medio litro de ce...   \n",
       "3   tu_tio_teviola  @marlasuarezzz Cerveza, Vino, Whisky, Helado j...   \n",
       "4  topdescuentostg  💥Taza de Café, 18oz Vaso Termico Café Termo Do...   \n",
       "\n",
       "                source  display_text_width  reply_to_status_id  \\\n",
       "0  Twitter for Android                  68        1.419892e+18   \n",
       "1   Twitter for iPhone                  70                 NaN   \n",
       "2            TweetDeck                 100                 NaN   \n",
       "3  Twitter for Android                  42        1.420092e+18   \n",
       "4         FRIKItwitter                 260                 NaN   \n",
       "\n",
       "   reply_to_user_id reply_to_screen_name  ...  favourites_count  \\\n",
       "0      1.337034e+18        intensaaa2020  ...              1856   \n",
       "1               NaN                  NaN  ...              4451   \n",
       "2               NaN                  NaN  ...             25370   \n",
       "3      1.282937e+18        marlasuarezzz  ...             18904   \n",
       "4               NaN                  NaN  ...                 0   \n",
       "\n",
       "    account_created_at  verified              profile_url  \\\n",
       "0  2010-09-05 05:30:41     False                      NaN   \n",
       "1  2016-07-18 06:18:05     False                      NaN   \n",
       "2  2015-12-18 00:02:33     False  https://t.co/0pxjj8LIZr   \n",
       "3  2020-07-17 17:38:24     False                      NaN   \n",
       "4  2020-12-14 22:04:48     False  https://t.co/ks5VRb7KD1   \n",
       "\n",
       "                                profile_expanded_url  account_lang  \\\n",
       "0                                                NaN           NaN   \n",
       "1                                                NaN           NaN   \n",
       "2  https://www.youtube.com/channel/UCRsjWfA-Z4veF...           NaN   \n",
       "3                                                NaN           NaN   \n",
       "4                        https://t.me/TOP_Descuentos           NaN   \n",
       "\n",
       "                                  profile_banner_url  \\\n",
       "0  https://pbs.twimg.com/profile_banners/18707734...   \n",
       "1  https://pbs.twimg.com/profile_banners/75492317...   \n",
       "2  https://pbs.twimg.com/profile_banners/45189417...   \n",
       "3  https://pbs.twimg.com/profile_banners/12841805...   \n",
       "4  https://pbs.twimg.com/profile_banners/13386057...   \n",
       "\n",
       "                              profile_background_url  \\\n",
       "0  http://abs.twimg.com/images/themes/theme18/bg.gif   \n",
       "1                                                NaN   \n",
       "2                                                NaN   \n",
       "3                                                NaN   \n",
       "4                                                NaN   \n",
       "\n",
       "                                   profile_image_url  \\\n",
       "0  http://pbs.twimg.com/profile_images/8402706560...   \n",
       "1  http://pbs.twimg.com/profile_images/1392738046...   \n",
       "2  http://pbs.twimg.com/profile_images/1340260811...   \n",
       "3  http://pbs.twimg.com/profile_images/1417326584...   \n",
       "4  http://pbs.twimg.com/profile_images/1338609798...   \n",
       "\n",
       "                                               text2  \n",
       "0  mmm ya me fastidie no me gusta beber casi nada...  \n",
       "1  no saben lo mucho que quisiera que me gustara ...  \n",
       "2  escribo mal porque he bebido medio litro de ce...  \n",
       "3               cerveza vino whisky helado jejejeje   \n",
       "4  taza de café oz vaso termico café termo doble ...  \n",
       "\n",
       "[5 rows x 91 columns]"
      ]
     },
     "execution_count": 7,
     "metadata": {},
     "output_type": "execute_result"
    }
   ],
   "source": [
    "# Crear funcion con los patrones de emojis\n",
    "emoji_pattern = re.compile(\"[\"\n",
    "        u\"\\U0001F600-\\U0001F64F\"  # emoticons\n",
    "        u\"\\U0001F300-\\U0001F5FF\"  # symbols & pictographs\n",
    "        u\"\\U0001F680-\\U0001F6FF\"  # transport & map symbols\n",
    "        u\"\\U0001F1E0-\\U0001F1FF\"  # flags (iOS)\n",
    "        u\"\\U00002500-\\U00002BEF\"  # chinese char\n",
    "        u\"\\U00002702-\\U000027B0\"\n",
    "        u\"\\U00002702-\\U000027B0\"\n",
    "        u\"\\U000024C2-\\U0001F251\"\n",
    "        u\"\\U0001f926-\\U0001f937\"\n",
    "        u\"\\U00010000-\\U0010ffff\"\n",
    "        u\"\\u2640-\\u2642\" \n",
    "        u\"\\u2600-\\u2B55\"\n",
    "        u\"\\u200d\"\n",
    "        u\"\\u23cf\"\n",
    "        u\"\\u23e9\"\n",
    "        u\"\\u231a\"\n",
    "        u\"\\ufe0f\"  # dingbats\n",
    "        u\"\\u3030\"\n",
    "                          \"]+\", flags=re.UNICODE)\n",
    "  \n",
    "\n",
    "#Crear una funcion para limpiar tweets\n",
    "\n",
    "def CleanTweets(text):\n",
    "  text=re.sub(r'@_[A-Za-z0-9]+_','',text) #Remover @_menciones_\n",
    "  text=re.sub(r'@[A-Za-z0-9]+_[A-Za-z0-9]+','',text) #Remover @menciones_\n",
    "  text=re.sub(r'@[A-Za-z0-9]+','',text) #Remover @menciones\n",
    "  text=re.sub(r'https?:\\/\\/\\S+','',text) #Remover Hypervinculos\n",
    "  text=re.sub(r'RT[\\s]+','',text) #Remover Retweets\n",
    "  text=re.sub(r'#[A-Za-z0-9]+','',text) #Remover \"#\"\n",
    "  text= emoji_pattern.sub(r'',text) #Remover emojis/simbolos\n",
    "  text=re.sub(r'[0-9]','',text) #remover numeros\n",
    "  text=re.sub(r'[^\\w\\s]',\"\",text) #remover signos de puntuacion\n",
    "  text=re.sub(r'\\n|\\t',' ',text) #remover saltos de linea\n",
    "  text=re.sub(r'[\\s]+',' ',text) #reemplazar espacios dobles por espacion sencillos\n",
    "  text=re.sub(r\"^[\\s]\",'',text) #eliminar espacios al inicio de cada tweet\n",
    "\n",
    "\n",
    "\n",
    "  text=text.lower() #todo a minuscula\n",
    " \n",
    " \n",
    "  return text\n",
    "\n",
    "#Aplicar funcion a los trinos\n",
    "data2=data[:]\n",
    "data2[\"text2\"]=data2[\"text2\"].apply(CleanTweets)\n",
    "\n",
    "#mostrar data\n",
    "data2.head(n=5)\n"
   ]
  },
  {
   "cell_type": "markdown",
   "metadata": {
    "id": "lQsP_4yaAset"
   },
   "source": [
    "Crear una lista solo con los tweets"
   ]
  },
  {
   "cell_type": "code",
   "execution_count": 8,
   "metadata": {
    "colab": {
     "base_uri": "https://localhost:8080/"
    },
    "id": "UpaWnpKODefb",
    "outputId": "8cbeab34-0a4f-4001-b5d5-5d15761b7345"
   },
   "outputs": [
    {
     "data": {
      "text/plain": [
       "['mmm ya me fastidie no me gusta beber casi nada dw alcohol o cerveza',\n",
       " 'no saben lo mucho que quisiera que me gustara la cerveza pero nomás no',\n",
       " 'escribo mal porque he bebido medio litro de cerveza sin ingesta previa de alimento sorry not sorry',\n",
       " 'cerveza vino whisky helado jejejeje ',\n",
       " 'taza de café oz vaso termico café termo doble pared aislamiento al vacío acero inoxidable con tapa a prueba de fugas taza reutilizable ecológica para café té y cervezabl ',\n",
       " 'me he replanteado dejar de beber cerveza solo me lo he replanteado',\n",
       " 'bonico del tó y cerveza ains',\n",
       " 'una cerveza para este hombre por dios',\n",
       " 'si costanera es tan bueno por qué no lo tenía en el radar ahora lo que encarece una cuenta es el vino y hay que estar bien pendejo o ser un ignorante en el tema para pedir una botella si no todos piden lo mismo por el maridaje una cerveza queda mejor',\n",
       " 'acabo de ver a javi abrir una cerveza con un tapón de coca cola okay',\n",
       " 'una rebequita deberias llevarte si vas a salir a tomar una cerveza por ahí',\n",
       " 'also tal vez pronto sea solo señor por que antes de la clase decidí abrir una cerveza y alguien se la tiene que acabar lol ',\n",
       " 'una guagua pa la calle hoy y una cerveza pa el sistema ya tengo mi tarde cuadrá',\n",
       " 'erik alzó la mirada del vaso de cerveza y contempló el rostro de pavor de la joven no le sucedió a él algo parecido no sintió esa clase de vértigo ante la sola idea de que en efecto no estaba en el mundo lo sé porque creo que sé quién eres y antes de gt ',\n",
       " 'tengo sentimientos encontrados con rivera aunque amo tomarme una cerveza fría mientras me cae el sudor por la cara jajajaja',\n",
       " 'qué falta en la foto ampliando en la segunda se da una pista sí un litro de cerveza y los libros por el suelo ímica de la ía de donde formuló la ley de las proporciones múltiples o ',\n",
       " 'la cerveza es más rica si la tomas en la vereda del kiosco si o si',\n",
       " 'en medio de la algarabía algunas personas caminan por la calle sin cubrebocas otras solo quieren beber una cerveza para relajarse ',\n",
       " 'de cerveza',\n",
       " 'lo siento pero no voy a cambiar de opinión encogió los hombros esbozando una burlona sonrisa le parecía mono su acento y nada ni nadie le haría cambiar de parecer tras posar la cerveza en la barra también hizo lo mismo con su codo para así apoyar la cabeza en su mano ',\n",
       " 'al turf a los casinos a la cerveza industrial ',\n",
       " 'no se podía saber me debes una cerveza ',\n",
       " 'jajajajajajaja la diferencia es que la cerveza ya la habíamos tomado',\n",
       " 'podría ser peor pero no hay cerveza hola turno de noche',\n",
       " 'clienta tienes cerveza que estoy con lactancia yo no nos queda si quiere de tirador clienta no esa lleva algo de alcohol así que traeme un tinto con blanca ',\n",
       " 'ey fáltame una cerveza ',\n",
       " 'señor usted tiene un par de credenciales me tomaría una cerveza con usted ',\n",
       " 'estoy averiguando q se necesita para hacer cerveza artesanal ya hago mi propio porro ahora quiero aprender a hacer birra próximamente tambien voy a aprender a besarme solo ',\n",
       " 'usted si sabe lo que es el amor a una buena cerveza oscura',\n",
       " 'me urge una cerveza',\n",
       " 'una cerveza bien fría por favor y apague vd ese ordenador que ese cuestionario es de un poc suc que espanta',\n",
       " 'si tu pis sabe a cerveza abreme al dm igual llegamos a un acuerdo que nos salga rentable a los dos',\n",
       " 'cerveza ',\n",
       " 'el consumo de alcohol es perjudicial pero supongo que si os digo que mañana vienen a mi trabajo una piara de diputados de vx y que puede que tengas que tratar con ellos no me tendréis en cuenta la cerveza que me voy a tomar ahorano',\n",
       " 'porque el futbol le meten más plata y genera más ingresos porque crees que lo patrocina cerveza aguila',\n",
       " 'cerveza ',\n",
       " 'que te parece beber cerveza hasta el amanecer',\n",
       " 'amigo es muy fácil hablar pero no todo hecho a tu medida las bebidas alcohólicas y cerveza veo a una gran cantidad de chapines consumiendo a diario mc lleno pollo lleno usas azúcar todos los días sal huevos etc supermercados llenos los carros ya no caben etc',\n",
       " 'es bastante imposible ellos son dueños de la mayoría de productos básicos del país ya no digamos de la cerveza licores etc',\n",
       " 'cerveza freskita ',\n",
       " 'que se tomen una cerveza y la cuenta a ayuso',\n",
       " 'pues claro que me preocupa está disparatado el gasto público y la deuda sube como la espuma de la cerveza pero tú sigue con tus panfletos de calderilla porque la deuda lleva demasiados ceros para pensar en ella',\n",
       " 'al menos nos queda la cerveza',\n",
       " 'estoy triste quiero una cerveza',\n",
       " 'me voy a casa de mi vecina a beber cerveza fumar porros y poner verde a to dios gabón',\n",
       " 'creo que es urgente quitar el subsidio a la cerveza no tiene razón para existir',\n",
       " 'hoy caminé al lado de la arena sonora antes gimnasio del estado en cuya alberca aprendí a nadar me dio nostalgia de aquellos juegos de basquetbol a los que he ido en los últimos tres años y del festival de la cerveza artesanal donde me la pasé muy bien',\n",
       " 'porque el de marzo de roosevelt firmó el acta cullenharrison que legalizaba la venta de cerveza que tuviera hasta de alcohol y la venta de vino siendo aplicable a partir del de abril de ese mismo año derogando la ley volstead ',\n",
       " 'cerveza ',\n",
       " 'la cerveza fria y la cosas claras dijieron por ahi']"
      ]
     },
     "execution_count": 8,
     "metadata": {},
     "output_type": "execute_result"
    }
   ],
   "source": [
    "tweets=list(data2[\"text2\"])\n",
    "tweets[0:50]"
   ]
  },
  {
   "cell_type": "markdown",
   "metadata": {
    "id": "yokUb_0Is-JY"
   },
   "source": [
    "Eliminar Stopwords"
   ]
  },
  {
   "cell_type": "code",
   "execution_count": 9,
   "metadata": {
    "colab": {
     "base_uri": "https://localhost:8080/"
    },
    "id": "GEcNnP6mtBp5",
    "outputId": "a635c0b9-4a15-4b8d-fb96-5e129f52d5a0"
   },
   "outputs": [
    {
     "name": "stderr",
     "output_type": "stream",
     "text": [
      "[nltk_data] Downloading package stopwords to /Users/habi/nltk_data...\n",
      "[nltk_data]   Package stopwords is already up-to-date!\n"
     ]
    },
    {
     "name": "stdout",
     "output_type": "stream",
     "text": [
      "\u001b[38;5;3m⚠ As of spaCy v3.0, shortcuts like 'es' are deprecated. Please use the\n",
      "full pipeline package name 'es_core_news_sm' instead.\u001b[0m\n",
      "Collecting es-core-news-sm==3.4.0\n",
      "  Downloading https://github.com/explosion/spacy-models/releases/download/es_core_news_sm-3.4.0/es_core_news_sm-3.4.0-py3-none-any.whl (12.9 MB)\n",
      "     ━━━━━━━━━━━━━━━━━━━━━━━━━━━━━━━━━━━━━━━━ 12.9/12.9 MB 32.1 MB/s eta 0:00:00\n",
      "Requirement already satisfied: spacy<3.5.0,>=3.4.0 in /Users/habi/opt/anaconda3/envs/jave/lib/python3.8/site-packages (from es-core-news-sm==3.4.0) (3.4.1)\n",
      "Requirement already satisfied: thinc<8.2.0,>=8.1.0 in /Users/habi/opt/anaconda3/envs/jave/lib/python3.8/site-packages (from spacy<3.5.0,>=3.4.0->es-core-news-sm==3.4.0) (8.1.0)\n",
      "Requirement already satisfied: packaging>=20.0 in /Users/habi/opt/anaconda3/envs/jave/lib/python3.8/site-packages (from spacy<3.5.0,>=3.4.0->es-core-news-sm==3.4.0) (21.3)\n",
      "Requirement already satisfied: spacy-legacy<3.1.0,>=3.0.9 in /Users/habi/opt/anaconda3/envs/jave/lib/python3.8/site-packages (from spacy<3.5.0,>=3.4.0->es-core-news-sm==3.4.0) (3.0.10)\n",
      "Requirement already satisfied: numpy>=1.15.0 in /Users/habi/opt/anaconda3/envs/jave/lib/python3.8/site-packages (from spacy<3.5.0,>=3.4.0->es-core-news-sm==3.4.0) (1.22.1)\n",
      "Requirement already satisfied: spacy-loggers<2.0.0,>=1.0.0 in /Users/habi/opt/anaconda3/envs/jave/lib/python3.8/site-packages (from spacy<3.5.0,>=3.4.0->es-core-news-sm==3.4.0) (1.0.3)\n",
      "Requirement already satisfied: preshed<3.1.0,>=3.0.2 in /Users/habi/opt/anaconda3/envs/jave/lib/python3.8/site-packages (from spacy<3.5.0,>=3.4.0->es-core-news-sm==3.4.0) (3.0.7)\n",
      "Requirement already satisfied: cymem<2.1.0,>=2.0.2 in /Users/habi/opt/anaconda3/envs/jave/lib/python3.8/site-packages (from spacy<3.5.0,>=3.4.0->es-core-news-sm==3.4.0) (2.0.6)\n",
      "Requirement already satisfied: wasabi<1.1.0,>=0.9.1 in /Users/habi/opt/anaconda3/envs/jave/lib/python3.8/site-packages (from spacy<3.5.0,>=3.4.0->es-core-news-sm==3.4.0) (0.10.1)\n",
      "Requirement already satisfied: typer<0.5.0,>=0.3.0 in /Users/habi/opt/anaconda3/envs/jave/lib/python3.8/site-packages (from spacy<3.5.0,>=3.4.0->es-core-news-sm==3.4.0) (0.4.2)\n",
      "Requirement already satisfied: catalogue<2.1.0,>=2.0.6 in /Users/habi/opt/anaconda3/envs/jave/lib/python3.8/site-packages (from spacy<3.5.0,>=3.4.0->es-core-news-sm==3.4.0) (2.0.8)\n",
      "Requirement already satisfied: tqdm<5.0.0,>=4.38.0 in /Users/habi/opt/anaconda3/envs/jave/lib/python3.8/site-packages (from spacy<3.5.0,>=3.4.0->es-core-news-sm==3.4.0) (4.64.0)\n",
      "Requirement already satisfied: setuptools in /Users/habi/opt/anaconda3/envs/jave/lib/python3.8/site-packages (from spacy<3.5.0,>=3.4.0->es-core-news-sm==3.4.0) (63.4.1)\n",
      "Requirement already satisfied: murmurhash<1.1.0,>=0.28.0 in /Users/habi/opt/anaconda3/envs/jave/lib/python3.8/site-packages (from spacy<3.5.0,>=3.4.0->es-core-news-sm==3.4.0) (1.0.8)\n",
      "Requirement already satisfied: srsly<3.0.0,>=2.4.3 in /Users/habi/opt/anaconda3/envs/jave/lib/python3.8/site-packages (from spacy<3.5.0,>=3.4.0->es-core-news-sm==3.4.0) (2.4.4)\n",
      "Requirement already satisfied: pathy>=0.3.5 in /Users/habi/opt/anaconda3/envs/jave/lib/python3.8/site-packages (from spacy<3.5.0,>=3.4.0->es-core-news-sm==3.4.0) (0.6.2)\n",
      "Requirement already satisfied: pydantic!=1.8,!=1.8.1,<1.10.0,>=1.7.4 in /Users/habi/opt/anaconda3/envs/jave/lib/python3.8/site-packages (from spacy<3.5.0,>=3.4.0->es-core-news-sm==3.4.0) (1.9.2)\n",
      "Requirement already satisfied: requests<3.0.0,>=2.13.0 in /Users/habi/opt/anaconda3/envs/jave/lib/python3.8/site-packages (from spacy<3.5.0,>=3.4.0->es-core-news-sm==3.4.0) (2.28.1)\n",
      "Requirement already satisfied: langcodes<4.0.0,>=3.2.0 in /Users/habi/opt/anaconda3/envs/jave/lib/python3.8/site-packages (from spacy<3.5.0,>=3.4.0->es-core-news-sm==3.4.0) (3.3.0)\n",
      "Requirement already satisfied: jinja2 in /Users/habi/opt/anaconda3/envs/jave/lib/python3.8/site-packages (from spacy<3.5.0,>=3.4.0->es-core-news-sm==3.4.0) (3.1.2)\n",
      "Requirement already satisfied: pyparsing!=3.0.5,>=2.0.2 in /Users/habi/opt/anaconda3/envs/jave/lib/python3.8/site-packages (from packaging>=20.0->spacy<3.5.0,>=3.4.0->es-core-news-sm==3.4.0) (3.0.9)\n",
      "Requirement already satisfied: smart-open<6.0.0,>=5.2.1 in /Users/habi/opt/anaconda3/envs/jave/lib/python3.8/site-packages (from pathy>=0.3.5->spacy<3.5.0,>=3.4.0->es-core-news-sm==3.4.0) (5.2.1)\n",
      "Requirement already satisfied: typing-extensions>=3.7.4.3 in /Users/habi/opt/anaconda3/envs/jave/lib/python3.8/site-packages (from pydantic!=1.8,!=1.8.1,<1.10.0,>=1.7.4->spacy<3.5.0,>=3.4.0->es-core-news-sm==3.4.0) (4.3.0)\n",
      "Requirement already satisfied: certifi>=2017.4.17 in /Users/habi/opt/anaconda3/envs/jave/lib/python3.8/site-packages (from requests<3.0.0,>=2.13.0->spacy<3.5.0,>=3.4.0->es-core-news-sm==3.4.0) (2022.6.15)\n",
      "Requirement already satisfied: charset-normalizer<3,>=2 in /Users/habi/opt/anaconda3/envs/jave/lib/python3.8/site-packages (from requests<3.0.0,>=2.13.0->spacy<3.5.0,>=3.4.0->es-core-news-sm==3.4.0) (2.1.1)\n",
      "Requirement already satisfied: idna<4,>=2.5 in /Users/habi/opt/anaconda3/envs/jave/lib/python3.8/site-packages (from requests<3.0.0,>=2.13.0->spacy<3.5.0,>=3.4.0->es-core-news-sm==3.4.0) (3.3)\n",
      "Requirement already satisfied: urllib3<1.27,>=1.21.1 in /Users/habi/opt/anaconda3/envs/jave/lib/python3.8/site-packages (from requests<3.0.0,>=2.13.0->spacy<3.5.0,>=3.4.0->es-core-news-sm==3.4.0) (1.26.12)\n",
      "Requirement already satisfied: blis<0.8.0,>=0.7.8 in /Users/habi/opt/anaconda3/envs/jave/lib/python3.8/site-packages (from thinc<8.2.0,>=8.1.0->spacy<3.5.0,>=3.4.0->es-core-news-sm==3.4.0) (0.7.8)\n",
      "Requirement already satisfied: click<9.0.0,>=7.1.1 in /Users/habi/opt/anaconda3/envs/jave/lib/python3.8/site-packages (from typer<0.5.0,>=0.3.0->spacy<3.5.0,>=3.4.0->es-core-news-sm==3.4.0) (8.1.3)\n",
      "Requirement already satisfied: MarkupSafe>=2.0 in /Users/habi/opt/anaconda3/envs/jave/lib/python3.8/site-packages (from jinja2->spacy<3.5.0,>=3.4.0->es-core-news-sm==3.4.0) (2.1.1)\n",
      "\u001b[38;5;2m✔ Download and installation successful\u001b[0m\n",
      "You can now load the package via spacy.load('es_core_news_sm')\n"
     ]
    }
   ],
   "source": [
    "#importar stopwords de la libreria nltk\n",
    "nltk.download(\"stopwords\")\n",
    "from nltk.corpus import stopwords\n",
    "misstop=stopwords.words(\"spanish\")\n",
    "\n",
    "#añadir stopwords identificadas\n",
    "risas=['ajá','jaj','jaja','jajaja','jajajaj','jajajaja','jajajajaja','jajajajajaja','jajajajajajaja','jejejeje','jjajajaja']\n",
    "otras=['pis','q','d','m','supongo','tl','gt','etc',\"mmm\",\"jaj+\",\"jejejeje\",\"mmendoza\",\"morat\",\"elzackosnydo\",\"aur\",\"ayuso\",\"nbuh\",\"tl\",\"auronplay\",\"rosoriooo\"]  \n",
    "misstop=misstop+ risas+otras\n",
    "\n",
    "#importamos la libreria de spacy\n",
    "spacy.cli.download(\"es\")\n",
    "nlp=spacy.load(\"es_core_news_sm\")\n",
    "\n",
    "#agregamos a la libreria de spacy la stopwords anteriormente encontradas con nltk y adicionales\n",
    "for word in misstop:\n",
    "  nlp.vocab[word].is_stop=True\n",
    "\n",
    "#Convertir tweets a texto\n",
    "doc_tweets=\" \".join(tweets)\n",
    "\n",
    "#tokenizar nuestros tweets con spacy\n",
    "doc1=nlp(doc_tweets)\n",
    "\n",
    "#crear lista de tokens\n",
    "morfo=[]\n",
    "for x in range(1,len(doc1)):\n",
    "    morfo.append([doc1[x].text, doc1[x].lemma_,doc1[x].is_stop, doc1[x].is_punct, doc1[x].is_alpha])\n",
    "\n",
    "#volver dataframe\n",
    "palabras=pd.DataFrame(morfo)\n",
    "#quitar stopwords\n",
    "palabras=palabras[palabras[2]==False]\n",
    "#quitar puntuacion\n",
    "palabras=palabras[palabras[3]==False]\n",
    "##quitar números\n",
    "palabras=palabras[palabras[4]==True]\n"
   ]
  },
  {
   "cell_type": "markdown",
   "metadata": {
    "id": "zu5dJ20yvO9C"
   },
   "source": [
    "Generar Wordcloud por palabras sin stopwords"
   ]
  },
  {
   "cell_type": "code",
   "execution_count": 13,
   "metadata": {
    "colab": {
     "base_uri": "https://localhost:8080/",
     "height": 215
    },
    "id": "gX-BStiDsm7y",
    "outputId": "76832f0b-5d0c-4965-f610-63586354d171"
   },
   "outputs": [
    {
     "data": {
      "image/png": "[encoded data removed]",
      "text/plain": [
       "<Figure size 640x480 with 1 Axes>"
      ]
     },
     "metadata": {},
     "output_type": "display_data"
    },
    {
     "data": {
      "text/plain": [
       "None"
      ]
     },
     "metadata": {},
     "output_type": "display_data"
    }
   ],
   "source": [
    "#tabla de frecuencias\n",
    "\n",
    "dist_freq=palabras.value_counts(palabras[0]) #generar una serie de frecuencias por token\n",
    "dist_freq=dist_freq.to_frame() #convertir serie a dataframe\n",
    "dist_freq.columns=[\"freq\"] #nombrar columnas\n",
    "dist_freq.index.name=\"token_index\" #renombrar indicador de columna\n",
    "dist_freq[\"token\"]=dist_freq.index\n",
    "\n",
    "\n",
    "#convertir a diccionario\n",
    "dictio={}\n",
    "for freq,token in dist_freq.values:\n",
    "  dictio[token]=freq\n",
    "\n",
    "#generar word cloud\n",
    "wc=WordCloud() #asignar funcion\n",
    "wc.generate_from_frequencies(frequencies=dictio)\n",
    "plt.figure()\n",
    "plt.imshow(wc, interpolation=\"bilinear\")\n",
    "plt.axis(\"off\")\n",
    "figura=plt.show()\n",
    "display(figura)"
   ]
  },
  {
   "cell_type": "markdown",
   "metadata": {
    "id": "ZgC4m5D9wQWq"
   },
   "source": [
    "El topico principal es **cerveza** que la prefieren fria, con cafe, con alcohol y con comida en lugares como casa o playa  y esta asociada a beber, tomar, tomo,tomarme,abrir,consumir,vender.\n",
    "\n",
    "La eliminacion de stopwords,signos de puntuacion y numeros arrojo buenos resultados para describir estos trinos de cerveza, por lo tanto, vamos a realizar estos filtros a nuestros tweets"
   ]
  },
  {
   "cell_type": "code",
   "execution_count": 14,
   "metadata": {
    "colab": {
     "base_uri": "https://localhost:8080/"
    },
    "id": "8rOTuUu10Iic",
    "outputId": "10ff8393-b50d-4100-caac-0422b34112ff"
   },
   "outputs": [
    {
     "name": "stderr",
     "output_type": "stream",
     "text": [
      "[nltk_data] Downloading package punkt to /Users/habi/nltk_data...\n",
      "[nltk_data]   Package punkt is already up-to-date!\n"
     ]
    },
    {
     "data": {
      "text/plain": [
       "['fastidie gusta beber dw alcohol cerveza',\n",
       " 'quisiera gustara cerveza nomás',\n",
       " 'escribo bebido litro cerveza ingesta previa alimento sorry not sorry',\n",
       " 'cerveza vino whisky helado',\n",
       " 'taza café oz vaso termico café termo doble pared aislamiento vacío acero inoxidable tapa prueba fugas taza reutilizable ecológica café té cervezabl',\n",
       " 'replanteado dejar beber cerveza replanteado',\n",
       " 'bonico tó cerveza ains',\n",
       " 'cerveza hombre dios',\n",
       " 'costanera radar encarece vino pendejo ignorante tema pedir botella piden maridaje cerveza queda',\n",
       " 'acabo javi abrir cerveza tapón coca cola okay',\n",
       " 'rebequita deberias llevarte vas salir tomar cerveza',\n",
       " 'also señor clase decidí abrir cerveza alguien acabar lol',\n",
       " 'guagua pa calle cerveza pa sistema cuadrá',\n",
       " 'erik alzó mirada vaso cerveza contempló rostro pavor joven sucedió parecido sintió clase vértigo idea efecto mundo',\n",
       " 'sentimientos encontrados rivera amo tomarme cerveza fría cae sudor cara',\n",
       " 'falta foto ampliando pista litro cerveza libros suelo ímica ía formuló ley proporciones múltiples',\n",
       " 'cerveza rica tomas vereda kiosco',\n",
       " 'algarabía personas caminan calle cubrebocas quieren beber cerveza relajarse',\n",
       " 'cerveza',\n",
       " 'siento cambiar opinión encogió hombros esbozando burlona sonrisa parecía mono acento haría cambiar parecer posar cerveza barra codo apoyar cabeza mano',\n",
       " 'turf casinos cerveza industrial',\n",
       " 'podía debes cerveza',\n",
       " 'diferencia cerveza tomado',\n",
       " 'cerveza hola turno noche',\n",
       " 'clienta cerveza lactancia queda tirador clienta alcohol traeme tinto blanca',\n",
       " 'ey fáltame cerveza',\n",
       " 'señor par credenciales tomaría cerveza',\n",
       " 'averiguando necesita cerveza artesanal porro quiero aprender birra próximamente aprender besarme',\n",
       " 'amor cerveza oscura',\n",
       " 'urge cerveza',\n",
       " 'cerveza fría favor apague vd ordenador cuestionario poc suc espanta',\n",
       " 'cerveza abreme dm llegamos salga rentable',\n",
       " 'cerveza',\n",
       " 'consumo alcohol perjudicial digo mañana vienen trabajo piara diputados vx tratar cerveza tomar ahorano',\n",
       " 'futbol meten plata genera ingresos crees patrocina cerveza aguila',\n",
       " 'cerveza',\n",
       " 'beber cerveza amanecer',\n",
       " 'amigo fácil hablar medida bebidas alcohólicas cerveza veo cantidad chapines consumiendo diario mc lleno pollo lleno azúcar sal huevos supermercados llenos carros caben',\n",
       " 'imposible dueños mayoría productos básicos país digamos cerveza licores',\n",
       " 'cerveza freskita',\n",
       " 'tomen cerveza',\n",
       " 'preocupa disparatado gasto público deuda sube espuma cerveza panfletos calderilla deuda demasiados ceros pensar',\n",
       " 'queda cerveza',\n",
       " 'triste quiero cerveza',\n",
       " 'casa vecina beber cerveza fumar porros verde to dios gabón',\n",
       " 'urgente quitar subsidio cerveza razón existir',\n",
       " 'caminé arena sonora gimnasio cuya alberca aprendí nadar nostalgia juegos basquetbol ido años festival cerveza artesanal pasé',\n",
       " 'marzo roosevelt firmó acta cullenharrison legalizaba venta cerveza alcohol venta vino aplicable abril año derogando ley volstead',\n",
       " 'cerveza',\n",
       " 'cerveza fria cosas claras dijieron']"
      ]
     },
     "execution_count": 14,
     "metadata": {},
     "output_type": "execute_result"
    }
   ],
   "source": [
    "#importar libreria de nltk para tokenizar\n",
    "nltk.download(\"punkt\")\n",
    "\n",
    "#Generar lista de stopwords, signos de puntuacion y numeros\n",
    "Stopwords=[]\n",
    "for x in range(1,len(doc1)):\n",
    "  if doc1[x].is_stop==True or doc1[x].is_punct==True or doc1[x].is_alpha==False:\n",
    "    Stopwords.append(doc1[x].text)\n",
    "\n",
    "#funcion para filtar Stopwords\n",
    "def filtrado(texto):\n",
    "    filtrados=[word for word in texto if (word not in Stopwords) and (word not in misstop)]\n",
    "    return(filtrados)\n",
    "\n",
    "#Eliminar esos stopwords de los tweets\n",
    "filtradito=[]\n",
    "for i in range(len(tweets)):\n",
    "  aux=nltk.tokenize.word_tokenize(tweets[i],language=\"spanish\")\n",
    "  tempfilt=filtrado(aux)\n",
    "  filtradito.append(tempfilt)\n",
    "\n",
    "#unirficar nuevamente los tweets\n",
    "tweets2=[]\n",
    "for element in filtradito:\n",
    "    tweets2.append(\" \".join(element))\n",
    "\n",
    "tweets2[0:50]\n",
    "\n"
   ]
  },
  {
   "cell_type": "markdown",
   "metadata": {
    "id": "W9mMHgrLIuvt"
   },
   "source": [
    "#Analisis Semantico"
   ]
  },
  {
   "cell_type": "markdown",
   "metadata": {
    "id": "n85JMyP9IJxN"
   },
   "source": [
    "## Representación de textos y palabras: One-hot encoding, TF y TF-IDF\n",
    "\n",
    "Vamos a utilizar tres técnicas básicas para representar semánticamente textos:\n",
    "- **One hot encoding** (cada palabra del vocabulario en el texto tiene 1, de resto tiene 0).\n",
    "- **TF** (cada palabra del vocabulario en el texto tiene *el conteo de su frecuencia*, de resto tiene 0). \n",
    "\n",
    "- **TF-IDF** para encontrar las palabras más relevantes de un texto a partir de su comparación con otros textos. En particular TF-IDF relaciona la frecuencia de los términos en el texto (documento) y la frecuencia de los mismos términos en la colección de documentos. A mayor frecuencia del término/palabra (TF=Term frequency), mayor importancia; a mayor porcentaje de documentos con el término/palabra, menor importancia (por eso se llama IDF: Inverse Document Frequency)\n"
   ]
  },
  {
   "cell_type": "markdown",
   "metadata": {
    "id": "emjiot3YI22m"
   },
   "source": [
    "### Representacion One-Hot Encoding"
   ]
  },
  {
   "cell_type": "code",
   "execution_count": 16,
   "metadata": {
    "colab": {
     "base_uri": "https://localhost:8080/"
    },
    "id": "jrbDJvG_I_0d",
    "outputId": "4395b4db-44ad-4b91-db85-82a18ea99c4f"
   },
   "outputs": [
    {
     "name": "stdout",
     "output_type": "stream",
     "text": [
      "['abrir' 'abuelo' 'agua' 'alcohol' 'amigo' 'amor' 'antoja' 'artesanal'\n",
      " 'años' 'bar' 'barra' 'beber' 'bebidas' 'bebido' 'bravas' 'cabeza' 'café'\n",
      " 'calle' 'calor' 'cara' 'casa' 'cerca' 'clase' 'coca' 'cocacola' 'cola'\n",
      " 'comida' 'conocemos' 'consumir' 'cosas' 'coña' 'debes' 'dejar' 'dejaron'\n",
      " 'deporte' 'dios' 'duda' 'dueño' 'falta' 'favor' 'fria' 'fría' 'ganas'\n",
      " 'gasto' 'gente' 'gracias' 'gusta' 'hola' 'hombre' 'hombres' 'ido'\n",
      " 'inventó' 'invitar' 'invito' 'jarra' 'latas' 'ley' 'litro' 'llega'\n",
      " 'llegar' 'llevo' 'mano' 'mañana' 'media' 'mujer' 'mundo' 'necesita'\n",
      " 'olímpico' 'pedo' 'personas' 'playa' 'queda' 'quieren' 'quieres' 'quiero'\n",
      " 'quitar' 'sabio' 'seguro' 'semana' 'señor' 'siento' 'six' 'subsidio'\n",
      " 'tapa' 'tema' 'tiempo' 'toma' 'tomando' 'tomar' 'tomarme' 'tomas' 'tomo'\n",
      " 'trabajo' 'urge' 'usuario' 'vacío' 'vas' 'vaso' 'ven' 'vender' 'veo'\n",
      " 'vida' 'vino' 'whisky']\n"
     ]
    }
   ],
   "source": [
    "#Importar Libreria\n",
    "from sklearn.feature_extraction.text import TfidfVectorizer, CountVectorizer\n",
    "\n",
    "#Generar Representacion\n",
    "#max_df maxima frecuencia de una palabra (para evitar stopwords)\n",
    "#min_df minima frecuencia de una palabra.\n",
    "#max_features maximo numero de palabras a considerar\n",
    "onehot_model=CountVectorizer(max_df=0.9,min_df=2,max_features=1000, binary=True)\n",
    "\n",
    "#tokenizar \n",
    "oh_dfm=onehot_model.fit_transform(tweets2)\n",
    "vocabulario=onehot_model.get_feature_names_out()\n",
    "print(vocabulario[0:1000])\n"
   ]
  },
  {
   "cell_type": "code",
   "execution_count": 18,
   "metadata": {
    "colab": {
     "base_uri": "https://localhost:8080/"
    },
    "id": "UGKY1w8XTWpZ",
    "outputId": "ec3a5617-07a1-4251-f221-0cf7f7129d98"
   },
   "outputs": [
    {
     "name": "stdout",
     "output_type": "stream",
     "text": [
      "902\n"
     ]
    }
   ],
   "source": [
    "print(len(onehot_model.stop_words_))"
   ]
  },
  {
   "cell_type": "markdown",
   "metadata": {
    "id": "n9HfpOGbeGc2"
   },
   "source": [
    "con un max_df del 90% elimina la palabra mas frecuente de nuestro tweets \"cerveza\" ademas de ser el topico principal de estos. Con un min_df de 2 solo consideraremos aquellos tokens que tengan presencia en al menos en 2 tweets"
   ]
  },
  {
   "cell_type": "code",
   "execution_count": 19,
   "metadata": {
    "colab": {
     "base_uri": "https://localhost:8080/"
    },
    "id": "KE3Sqs9TjLze",
    "outputId": "b84c72ae-d8c2-41ef-86ed-10826e03e90a"
   },
   "outputs": [
    {
     "data": {
      "text/html": [
       "<div>\n",
       "<style scoped>\n",
       "    .dataframe tbody tr th:only-of-type {\n",
       "        vertical-align: middle;\n",
       "    }\n",
       "\n",
       "    .dataframe tbody tr th {\n",
       "        vertical-align: top;\n",
       "    }\n",
       "\n",
       "    .dataframe thead th {\n",
       "        text-align: right;\n",
       "    }\n",
       "</style>\n",
       "<table border=\"1\" class=\"dataframe\">\n",
       "  <thead>\n",
       "    <tr style=\"text-align: right;\">\n",
       "      <th></th>\n",
       "      <th>abrir</th>\n",
       "      <th>abuelo</th>\n",
       "      <th>agua</th>\n",
       "      <th>alcohol</th>\n",
       "      <th>amigo</th>\n",
       "      <th>amor</th>\n",
       "      <th>antoja</th>\n",
       "      <th>artesanal</th>\n",
       "      <th>años</th>\n",
       "      <th>bar</th>\n",
       "      <th>...</th>\n",
       "      <th>usuario</th>\n",
       "      <th>vacío</th>\n",
       "      <th>vas</th>\n",
       "      <th>vaso</th>\n",
       "      <th>ven</th>\n",
       "      <th>vender</th>\n",
       "      <th>veo</th>\n",
       "      <th>vida</th>\n",
       "      <th>vino</th>\n",
       "      <th>whisky</th>\n",
       "    </tr>\n",
       "  </thead>\n",
       "  <tbody>\n",
       "    <tr>\n",
       "      <th>0</th>\n",
       "      <td>0</td>\n",
       "      <td>0</td>\n",
       "      <td>0</td>\n",
       "      <td>1</td>\n",
       "      <td>0</td>\n",
       "      <td>0</td>\n",
       "      <td>0</td>\n",
       "      <td>0</td>\n",
       "      <td>0</td>\n",
       "      <td>0</td>\n",
       "      <td>...</td>\n",
       "      <td>0</td>\n",
       "      <td>0</td>\n",
       "      <td>0</td>\n",
       "      <td>0</td>\n",
       "      <td>0</td>\n",
       "      <td>0</td>\n",
       "      <td>0</td>\n",
       "      <td>0</td>\n",
       "      <td>0</td>\n",
       "      <td>0</td>\n",
       "    </tr>\n",
       "    <tr>\n",
       "      <th>1</th>\n",
       "      <td>0</td>\n",
       "      <td>0</td>\n",
       "      <td>0</td>\n",
       "      <td>0</td>\n",
       "      <td>0</td>\n",
       "      <td>0</td>\n",
       "      <td>0</td>\n",
       "      <td>0</td>\n",
       "      <td>0</td>\n",
       "      <td>0</td>\n",
       "      <td>...</td>\n",
       "      <td>0</td>\n",
       "      <td>0</td>\n",
       "      <td>0</td>\n",
       "      <td>0</td>\n",
       "      <td>0</td>\n",
       "      <td>0</td>\n",
       "      <td>0</td>\n",
       "      <td>0</td>\n",
       "      <td>0</td>\n",
       "      <td>0</td>\n",
       "    </tr>\n",
       "    <tr>\n",
       "      <th>2</th>\n",
       "      <td>0</td>\n",
       "      <td>0</td>\n",
       "      <td>0</td>\n",
       "      <td>0</td>\n",
       "      <td>0</td>\n",
       "      <td>0</td>\n",
       "      <td>0</td>\n",
       "      <td>0</td>\n",
       "      <td>0</td>\n",
       "      <td>0</td>\n",
       "      <td>...</td>\n",
       "      <td>0</td>\n",
       "      <td>0</td>\n",
       "      <td>0</td>\n",
       "      <td>0</td>\n",
       "      <td>0</td>\n",
       "      <td>0</td>\n",
       "      <td>0</td>\n",
       "      <td>0</td>\n",
       "      <td>0</td>\n",
       "      <td>0</td>\n",
       "    </tr>\n",
       "    <tr>\n",
       "      <th>3</th>\n",
       "      <td>0</td>\n",
       "      <td>0</td>\n",
       "      <td>0</td>\n",
       "      <td>0</td>\n",
       "      <td>0</td>\n",
       "      <td>0</td>\n",
       "      <td>0</td>\n",
       "      <td>0</td>\n",
       "      <td>0</td>\n",
       "      <td>0</td>\n",
       "      <td>...</td>\n",
       "      <td>0</td>\n",
       "      <td>0</td>\n",
       "      <td>0</td>\n",
       "      <td>0</td>\n",
       "      <td>0</td>\n",
       "      <td>0</td>\n",
       "      <td>0</td>\n",
       "      <td>0</td>\n",
       "      <td>1</td>\n",
       "      <td>1</td>\n",
       "    </tr>\n",
       "    <tr>\n",
       "      <th>4</th>\n",
       "      <td>0</td>\n",
       "      <td>0</td>\n",
       "      <td>0</td>\n",
       "      <td>0</td>\n",
       "      <td>0</td>\n",
       "      <td>0</td>\n",
       "      <td>0</td>\n",
       "      <td>0</td>\n",
       "      <td>0</td>\n",
       "      <td>0</td>\n",
       "      <td>...</td>\n",
       "      <td>0</td>\n",
       "      <td>1</td>\n",
       "      <td>0</td>\n",
       "      <td>1</td>\n",
       "      <td>0</td>\n",
       "      <td>0</td>\n",
       "      <td>0</td>\n",
       "      <td>0</td>\n",
       "      <td>0</td>\n",
       "      <td>0</td>\n",
       "    </tr>\n",
       "    <tr>\n",
       "      <th>...</th>\n",
       "      <td>...</td>\n",
       "      <td>...</td>\n",
       "      <td>...</td>\n",
       "      <td>...</td>\n",
       "      <td>...</td>\n",
       "      <td>...</td>\n",
       "      <td>...</td>\n",
       "      <td>...</td>\n",
       "      <td>...</td>\n",
       "      <td>...</td>\n",
       "      <td>...</td>\n",
       "      <td>...</td>\n",
       "      <td>...</td>\n",
       "      <td>...</td>\n",
       "      <td>...</td>\n",
       "      <td>...</td>\n",
       "      <td>...</td>\n",
       "      <td>...</td>\n",
       "      <td>...</td>\n",
       "      <td>...</td>\n",
       "      <td>...</td>\n",
       "    </tr>\n",
       "    <tr>\n",
       "      <th>195</th>\n",
       "      <td>0</td>\n",
       "      <td>0</td>\n",
       "      <td>0</td>\n",
       "      <td>0</td>\n",
       "      <td>0</td>\n",
       "      <td>0</td>\n",
       "      <td>0</td>\n",
       "      <td>0</td>\n",
       "      <td>0</td>\n",
       "      <td>0</td>\n",
       "      <td>...</td>\n",
       "      <td>0</td>\n",
       "      <td>0</td>\n",
       "      <td>0</td>\n",
       "      <td>0</td>\n",
       "      <td>0</td>\n",
       "      <td>0</td>\n",
       "      <td>0</td>\n",
       "      <td>0</td>\n",
       "      <td>0</td>\n",
       "      <td>0</td>\n",
       "    </tr>\n",
       "    <tr>\n",
       "      <th>196</th>\n",
       "      <td>0</td>\n",
       "      <td>0</td>\n",
       "      <td>0</td>\n",
       "      <td>0</td>\n",
       "      <td>0</td>\n",
       "      <td>0</td>\n",
       "      <td>0</td>\n",
       "      <td>0</td>\n",
       "      <td>0</td>\n",
       "      <td>0</td>\n",
       "      <td>...</td>\n",
       "      <td>0</td>\n",
       "      <td>0</td>\n",
       "      <td>0</td>\n",
       "      <td>0</td>\n",
       "      <td>0</td>\n",
       "      <td>0</td>\n",
       "      <td>0</td>\n",
       "      <td>0</td>\n",
       "      <td>0</td>\n",
       "      <td>0</td>\n",
       "    </tr>\n",
       "    <tr>\n",
       "      <th>197</th>\n",
       "      <td>0</td>\n",
       "      <td>0</td>\n",
       "      <td>0</td>\n",
       "      <td>0</td>\n",
       "      <td>0</td>\n",
       "      <td>0</td>\n",
       "      <td>0</td>\n",
       "      <td>0</td>\n",
       "      <td>0</td>\n",
       "      <td>0</td>\n",
       "      <td>...</td>\n",
       "      <td>0</td>\n",
       "      <td>1</td>\n",
       "      <td>0</td>\n",
       "      <td>0</td>\n",
       "      <td>0</td>\n",
       "      <td>0</td>\n",
       "      <td>0</td>\n",
       "      <td>0</td>\n",
       "      <td>0</td>\n",
       "      <td>0</td>\n",
       "    </tr>\n",
       "    <tr>\n",
       "      <th>198</th>\n",
       "      <td>0</td>\n",
       "      <td>0</td>\n",
       "      <td>0</td>\n",
       "      <td>0</td>\n",
       "      <td>0</td>\n",
       "      <td>0</td>\n",
       "      <td>0</td>\n",
       "      <td>0</td>\n",
       "      <td>0</td>\n",
       "      <td>0</td>\n",
       "      <td>...</td>\n",
       "      <td>0</td>\n",
       "      <td>0</td>\n",
       "      <td>0</td>\n",
       "      <td>0</td>\n",
       "      <td>0</td>\n",
       "      <td>0</td>\n",
       "      <td>0</td>\n",
       "      <td>0</td>\n",
       "      <td>0</td>\n",
       "      <td>0</td>\n",
       "    </tr>\n",
       "    <tr>\n",
       "      <th>199</th>\n",
       "      <td>0</td>\n",
       "      <td>0</td>\n",
       "      <td>0</td>\n",
       "      <td>0</td>\n",
       "      <td>0</td>\n",
       "      <td>0</td>\n",
       "      <td>0</td>\n",
       "      <td>0</td>\n",
       "      <td>0</td>\n",
       "      <td>0</td>\n",
       "      <td>...</td>\n",
       "      <td>0</td>\n",
       "      <td>0</td>\n",
       "      <td>0</td>\n",
       "      <td>0</td>\n",
       "      <td>0</td>\n",
       "      <td>0</td>\n",
       "      <td>0</td>\n",
       "      <td>0</td>\n",
       "      <td>0</td>\n",
       "      <td>0</td>\n",
       "    </tr>\n",
       "  </tbody>\n",
       "</table>\n",
       "<p>200 rows × 104 columns</p>\n",
       "</div>"
      ],
      "text/plain": [
       "     abrir  abuelo  agua  alcohol  amigo  amor  antoja  artesanal  años  bar  \\\n",
       "0        0       0     0        1      0     0       0          0     0    0   \n",
       "1        0       0     0        0      0     0       0          0     0    0   \n",
       "2        0       0     0        0      0     0       0          0     0    0   \n",
       "3        0       0     0        0      0     0       0          0     0    0   \n",
       "4        0       0     0        0      0     0       0          0     0    0   \n",
       "..     ...     ...   ...      ...    ...   ...     ...        ...   ...  ...   \n",
       "195      0       0     0        0      0     0       0          0     0    0   \n",
       "196      0       0     0        0      0     0       0          0     0    0   \n",
       "197      0       0     0        0      0     0       0          0     0    0   \n",
       "198      0       0     0        0      0     0       0          0     0    0   \n",
       "199      0       0     0        0      0     0       0          0     0    0   \n",
       "\n",
       "     ...  usuario  vacío  vas  vaso  ven  vender  veo  vida  vino  whisky  \n",
       "0    ...        0      0    0     0    0       0    0     0     0       0  \n",
       "1    ...        0      0    0     0    0       0    0     0     0       0  \n",
       "2    ...        0      0    0     0    0       0    0     0     0       0  \n",
       "3    ...        0      0    0     0    0       0    0     0     1       1  \n",
       "4    ...        0      1    0     1    0       0    0     0     0       0  \n",
       "..   ...      ...    ...  ...   ...  ...     ...  ...   ...   ...     ...  \n",
       "195  ...        0      0    0     0    0       0    0     0     0       0  \n",
       "196  ...        0      0    0     0    0       0    0     0     0       0  \n",
       "197  ...        0      1    0     0    0       0    0     0     0       0  \n",
       "198  ...        0      0    0     0    0       0    0     0     0       0  \n",
       "199  ...        0      0    0     0    0       0    0     0     0       0  \n",
       "\n",
       "[200 rows x 104 columns]"
      ]
     },
     "metadata": {},
     "output_type": "display_data"
    }
   ],
   "source": [
    "denso_oh=oh_dfm.todense() #crear matriz de frecuencias\n",
    "listadensa_oh=denso_oh.tolist() #convertir a lista\n",
    "dfm_oh_base=pd.DataFrame(listadensa_oh,columns=vocabulario) #crear columnas , nombre columna=vocabulario\n",
    "#dfm_oh=dfm_oh_base.transpose() #transponer\n",
    "display(dfm_oh_base)\n"
   ]
  },
  {
   "cell_type": "markdown",
   "metadata": {
    "id": "ZBTdZrki_gGQ"
   },
   "source": [
    "Esta matriz muestra que tenemos 200 tweets con 104 palabras que no son stopwords y que aparecen al menos en 2 tweets. 1 indica que esta la palabra en el tweet ,0 lo contrario."
   ]
  },
  {
   "cell_type": "markdown",
   "metadata": {
    "id": "8MN-QSO3AKmF"
   },
   "source": [
    "### Representacion TF"
   ]
  },
  {
   "cell_type": "code",
   "execution_count": 21,
   "metadata": {
    "colab": {
     "base_uri": "https://localhost:8080/"
    },
    "id": "q_EJc-9dAvOA",
    "outputId": "3e54ab3d-fa5b-4d68-e891-407d8b5f40d9"
   },
   "outputs": [
    {
     "data": {
      "text/html": [
       "<div>\n",
       "<style scoped>\n",
       "    .dataframe tbody tr th:only-of-type {\n",
       "        vertical-align: middle;\n",
       "    }\n",
       "\n",
       "    .dataframe tbody tr th {\n",
       "        vertical-align: top;\n",
       "    }\n",
       "\n",
       "    .dataframe thead th {\n",
       "        text-align: right;\n",
       "    }\n",
       "</style>\n",
       "<table border=\"1\" class=\"dataframe\">\n",
       "  <thead>\n",
       "    <tr style=\"text-align: right;\">\n",
       "      <th></th>\n",
       "      <th>abrir</th>\n",
       "      <th>abuelo</th>\n",
       "      <th>agua</th>\n",
       "      <th>alcohol</th>\n",
       "      <th>amigo</th>\n",
       "      <th>amor</th>\n",
       "      <th>antoja</th>\n",
       "      <th>artesanal</th>\n",
       "      <th>años</th>\n",
       "      <th>bar</th>\n",
       "      <th>...</th>\n",
       "      <th>usuario</th>\n",
       "      <th>vacío</th>\n",
       "      <th>vas</th>\n",
       "      <th>vaso</th>\n",
       "      <th>ven</th>\n",
       "      <th>vender</th>\n",
       "      <th>veo</th>\n",
       "      <th>vida</th>\n",
       "      <th>vino</th>\n",
       "      <th>whisky</th>\n",
       "    </tr>\n",
       "  </thead>\n",
       "  <tbody>\n",
       "    <tr>\n",
       "      <th>0</th>\n",
       "      <td>0</td>\n",
       "      <td>0</td>\n",
       "      <td>0</td>\n",
       "      <td>1</td>\n",
       "      <td>0</td>\n",
       "      <td>0</td>\n",
       "      <td>0</td>\n",
       "      <td>0</td>\n",
       "      <td>0</td>\n",
       "      <td>0</td>\n",
       "      <td>...</td>\n",
       "      <td>0</td>\n",
       "      <td>0</td>\n",
       "      <td>0</td>\n",
       "      <td>0</td>\n",
       "      <td>0</td>\n",
       "      <td>0</td>\n",
       "      <td>0</td>\n",
       "      <td>0</td>\n",
       "      <td>0</td>\n",
       "      <td>0</td>\n",
       "    </tr>\n",
       "    <tr>\n",
       "      <th>1</th>\n",
       "      <td>0</td>\n",
       "      <td>0</td>\n",
       "      <td>0</td>\n",
       "      <td>0</td>\n",
       "      <td>0</td>\n",
       "      <td>0</td>\n",
       "      <td>0</td>\n",
       "      <td>0</td>\n",
       "      <td>0</td>\n",
       "      <td>0</td>\n",
       "      <td>...</td>\n",
       "      <td>0</td>\n",
       "      <td>0</td>\n",
       "      <td>0</td>\n",
       "      <td>0</td>\n",
       "      <td>0</td>\n",
       "      <td>0</td>\n",
       "      <td>0</td>\n",
       "      <td>0</td>\n",
       "      <td>0</td>\n",
       "      <td>0</td>\n",
       "    </tr>\n",
       "    <tr>\n",
       "      <th>2</th>\n",
       "      <td>0</td>\n",
       "      <td>0</td>\n",
       "      <td>0</td>\n",
       "      <td>0</td>\n",
       "      <td>0</td>\n",
       "      <td>0</td>\n",
       "      <td>0</td>\n",
       "      <td>0</td>\n",
       "      <td>0</td>\n",
       "      <td>0</td>\n",
       "      <td>...</td>\n",
       "      <td>0</td>\n",
       "      <td>0</td>\n",
       "      <td>0</td>\n",
       "      <td>0</td>\n",
       "      <td>0</td>\n",
       "      <td>0</td>\n",
       "      <td>0</td>\n",
       "      <td>0</td>\n",
       "      <td>0</td>\n",
       "      <td>0</td>\n",
       "    </tr>\n",
       "    <tr>\n",
       "      <th>3</th>\n",
       "      <td>0</td>\n",
       "      <td>0</td>\n",
       "      <td>0</td>\n",
       "      <td>0</td>\n",
       "      <td>0</td>\n",
       "      <td>0</td>\n",
       "      <td>0</td>\n",
       "      <td>0</td>\n",
       "      <td>0</td>\n",
       "      <td>0</td>\n",
       "      <td>...</td>\n",
       "      <td>0</td>\n",
       "      <td>0</td>\n",
       "      <td>0</td>\n",
       "      <td>0</td>\n",
       "      <td>0</td>\n",
       "      <td>0</td>\n",
       "      <td>0</td>\n",
       "      <td>0</td>\n",
       "      <td>1</td>\n",
       "      <td>1</td>\n",
       "    </tr>\n",
       "    <tr>\n",
       "      <th>4</th>\n",
       "      <td>0</td>\n",
       "      <td>0</td>\n",
       "      <td>0</td>\n",
       "      <td>0</td>\n",
       "      <td>0</td>\n",
       "      <td>0</td>\n",
       "      <td>0</td>\n",
       "      <td>0</td>\n",
       "      <td>0</td>\n",
       "      <td>0</td>\n",
       "      <td>...</td>\n",
       "      <td>0</td>\n",
       "      <td>1</td>\n",
       "      <td>0</td>\n",
       "      <td>1</td>\n",
       "      <td>0</td>\n",
       "      <td>0</td>\n",
       "      <td>0</td>\n",
       "      <td>0</td>\n",
       "      <td>0</td>\n",
       "      <td>0</td>\n",
       "    </tr>\n",
       "    <tr>\n",
       "      <th>...</th>\n",
       "      <td>...</td>\n",
       "      <td>...</td>\n",
       "      <td>...</td>\n",
       "      <td>...</td>\n",
       "      <td>...</td>\n",
       "      <td>...</td>\n",
       "      <td>...</td>\n",
       "      <td>...</td>\n",
       "      <td>...</td>\n",
       "      <td>...</td>\n",
       "      <td>...</td>\n",
       "      <td>...</td>\n",
       "      <td>...</td>\n",
       "      <td>...</td>\n",
       "      <td>...</td>\n",
       "      <td>...</td>\n",
       "      <td>...</td>\n",
       "      <td>...</td>\n",
       "      <td>...</td>\n",
       "      <td>...</td>\n",
       "      <td>...</td>\n",
       "    </tr>\n",
       "    <tr>\n",
       "      <th>195</th>\n",
       "      <td>0</td>\n",
       "      <td>0</td>\n",
       "      <td>0</td>\n",
       "      <td>0</td>\n",
       "      <td>0</td>\n",
       "      <td>0</td>\n",
       "      <td>0</td>\n",
       "      <td>0</td>\n",
       "      <td>0</td>\n",
       "      <td>0</td>\n",
       "      <td>...</td>\n",
       "      <td>0</td>\n",
       "      <td>0</td>\n",
       "      <td>0</td>\n",
       "      <td>0</td>\n",
       "      <td>0</td>\n",
       "      <td>0</td>\n",
       "      <td>0</td>\n",
       "      <td>0</td>\n",
       "      <td>0</td>\n",
       "      <td>0</td>\n",
       "    </tr>\n",
       "    <tr>\n",
       "      <th>196</th>\n",
       "      <td>0</td>\n",
       "      <td>0</td>\n",
       "      <td>0</td>\n",
       "      <td>0</td>\n",
       "      <td>0</td>\n",
       "      <td>0</td>\n",
       "      <td>0</td>\n",
       "      <td>0</td>\n",
       "      <td>0</td>\n",
       "      <td>0</td>\n",
       "      <td>...</td>\n",
       "      <td>0</td>\n",
       "      <td>0</td>\n",
       "      <td>0</td>\n",
       "      <td>0</td>\n",
       "      <td>0</td>\n",
       "      <td>0</td>\n",
       "      <td>0</td>\n",
       "      <td>0</td>\n",
       "      <td>0</td>\n",
       "      <td>0</td>\n",
       "    </tr>\n",
       "    <tr>\n",
       "      <th>197</th>\n",
       "      <td>0</td>\n",
       "      <td>0</td>\n",
       "      <td>0</td>\n",
       "      <td>0</td>\n",
       "      <td>0</td>\n",
       "      <td>0</td>\n",
       "      <td>0</td>\n",
       "      <td>0</td>\n",
       "      <td>0</td>\n",
       "      <td>0</td>\n",
       "      <td>...</td>\n",
       "      <td>0</td>\n",
       "      <td>1</td>\n",
       "      <td>0</td>\n",
       "      <td>0</td>\n",
       "      <td>0</td>\n",
       "      <td>0</td>\n",
       "      <td>0</td>\n",
       "      <td>0</td>\n",
       "      <td>0</td>\n",
       "      <td>0</td>\n",
       "    </tr>\n",
       "    <tr>\n",
       "      <th>198</th>\n",
       "      <td>0</td>\n",
       "      <td>0</td>\n",
       "      <td>0</td>\n",
       "      <td>0</td>\n",
       "      <td>0</td>\n",
       "      <td>0</td>\n",
       "      <td>0</td>\n",
       "      <td>0</td>\n",
       "      <td>0</td>\n",
       "      <td>0</td>\n",
       "      <td>...</td>\n",
       "      <td>0</td>\n",
       "      <td>0</td>\n",
       "      <td>0</td>\n",
       "      <td>0</td>\n",
       "      <td>0</td>\n",
       "      <td>0</td>\n",
       "      <td>0</td>\n",
       "      <td>0</td>\n",
       "      <td>0</td>\n",
       "      <td>0</td>\n",
       "    </tr>\n",
       "    <tr>\n",
       "      <th>199</th>\n",
       "      <td>0</td>\n",
       "      <td>0</td>\n",
       "      <td>0</td>\n",
       "      <td>0</td>\n",
       "      <td>0</td>\n",
       "      <td>0</td>\n",
       "      <td>0</td>\n",
       "      <td>0</td>\n",
       "      <td>0</td>\n",
       "      <td>0</td>\n",
       "      <td>...</td>\n",
       "      <td>0</td>\n",
       "      <td>0</td>\n",
       "      <td>0</td>\n",
       "      <td>0</td>\n",
       "      <td>0</td>\n",
       "      <td>0</td>\n",
       "      <td>0</td>\n",
       "      <td>0</td>\n",
       "      <td>0</td>\n",
       "      <td>0</td>\n",
       "    </tr>\n",
       "  </tbody>\n",
       "</table>\n",
       "<p>200 rows × 104 columns</p>\n",
       "</div>"
      ],
      "text/plain": [
       "     abrir  abuelo  agua  alcohol  amigo  amor  antoja  artesanal  años  bar  \\\n",
       "0        0       0     0        1      0     0       0          0     0    0   \n",
       "1        0       0     0        0      0     0       0          0     0    0   \n",
       "2        0       0     0        0      0     0       0          0     0    0   \n",
       "3        0       0     0        0      0     0       0          0     0    0   \n",
       "4        0       0     0        0      0     0       0          0     0    0   \n",
       "..     ...     ...   ...      ...    ...   ...     ...        ...   ...  ...   \n",
       "195      0       0     0        0      0     0       0          0     0    0   \n",
       "196      0       0     0        0      0     0       0          0     0    0   \n",
       "197      0       0     0        0      0     0       0          0     0    0   \n",
       "198      0       0     0        0      0     0       0          0     0    0   \n",
       "199      0       0     0        0      0     0       0          0     0    0   \n",
       "\n",
       "     ...  usuario  vacío  vas  vaso  ven  vender  veo  vida  vino  whisky  \n",
       "0    ...        0      0    0     0    0       0    0     0     0       0  \n",
       "1    ...        0      0    0     0    0       0    0     0     0       0  \n",
       "2    ...        0      0    0     0    0       0    0     0     0       0  \n",
       "3    ...        0      0    0     0    0       0    0     0     1       1  \n",
       "4    ...        0      1    0     1    0       0    0     0     0       0  \n",
       "..   ...      ...    ...  ...   ...  ...     ...  ...   ...   ...     ...  \n",
       "195  ...        0      0    0     0    0       0    0     0     0       0  \n",
       "196  ...        0      0    0     0    0       0    0     0     0       0  \n",
       "197  ...        0      1    0     0    0       0    0     0     0       0  \n",
       "198  ...        0      0    0     0    0       0    0     0     0       0  \n",
       "199  ...        0      0    0     0    0       0    0     0     0       0  \n",
       "\n",
       "[200 rows x 104 columns]"
      ]
     },
     "metadata": {},
     "output_type": "display_data"
    }
   ],
   "source": [
    "#Importar Libreria\n",
    "from sklearn.feature_extraction.text import TfidfVectorizer, CountVectorizer\n",
    "\n",
    "#Generar Representacion\n",
    "#max_df maxima frecuencia de una palabra (para evitar stopwords)\n",
    "#min_df minima frecuencia de una palabra.\n",
    "#max_features maximo numero de palabras a considerar\n",
    "#eliminamos el parametro binario=False\n",
    "tf_model=CountVectorizer(max_df=0.9,min_df=2,max_features=2000, binary=False)\n",
    "\n",
    "#tokenizar \n",
    "oh_dfm2=tf_model.fit_transform(tweets2)\n",
    "vocabulario2=tf_model.get_feature_names_out()\n",
    "\n",
    "#Graficar\n",
    "\n",
    "denso_oh2=oh_dfm2.todense() #crear matriz de frecuencias\n",
    "listadensa_oh2=denso_oh2.tolist() #convertir a lista\n",
    "dfm_oh_base2=pd.DataFrame(listadensa_oh2,columns=vocabulario) #crear columnas , nombre columna=vocabulario\n",
    "#dfm_oh2=dfm_oh_base2.transpose() #transponer\n",
    "display(dfm_oh_base2)\n"
   ]
  },
  {
   "cell_type": "markdown",
   "metadata": {
    "id": "_3DonqatCaYn"
   },
   "source": [
    "Esta matriz muestra que tenemos 200 tweets con 104 palabras que no son stopwords y que aparecen al menos en 2 tweets. la metrica es la frecuencia de la palabra en el tweet. Por ejemplo, la palabra cafe aparece 4 veces en el tweet 4."
   ]
  },
  {
   "cell_type": "code",
   "execution_count": 22,
   "metadata": {
    "colab": {
     "base_uri": "https://localhost:8080/"
    },
    "id": "6oACeBOQCm1t",
    "outputId": "dd681184-d661-44b5-f782-b4cb260bc27d"
   },
   "outputs": [
    {
     "data": {
      "text/plain": [
       "0      0\n",
       "1      0\n",
       "2      0\n",
       "3      0\n",
       "4      3\n",
       "      ..\n",
       "195    0\n",
       "196    0\n",
       "197    0\n",
       "198    0\n",
       "199    0\n",
       "Name: café, Length: 200, dtype: int64"
      ]
     },
     "metadata": {},
     "output_type": "display_data"
    }
   ],
   "source": [
    "display(dfm_oh_base2[\"café\"])"
   ]
  },
  {
   "cell_type": "markdown",
   "metadata": {
    "id": "C0LX-OEmIaEx"
   },
   "source": [
    "### Representacion TF-IDF"
   ]
  },
  {
   "cell_type": "code",
   "execution_count": 23,
   "metadata": {
    "colab": {
     "base_uri": "https://localhost:8080/"
    },
    "id": "9WqDSOQcI4Hp",
    "outputId": "a353561d-7c56-4118-a1e5-8c4c01f5b7e9"
   },
   "outputs": [
    {
     "data": {
      "text/html": [
       "<div>\n",
       "<style scoped>\n",
       "    .dataframe tbody tr th:only-of-type {\n",
       "        vertical-align: middle;\n",
       "    }\n",
       "\n",
       "    .dataframe tbody tr th {\n",
       "        vertical-align: top;\n",
       "    }\n",
       "\n",
       "    .dataframe thead th {\n",
       "        text-align: right;\n",
       "    }\n",
       "</style>\n",
       "<table border=\"1\" class=\"dataframe\">\n",
       "  <thead>\n",
       "    <tr style=\"text-align: right;\">\n",
       "      <th></th>\n",
       "      <th>abrir</th>\n",
       "      <th>abuelo</th>\n",
       "      <th>agua</th>\n",
       "      <th>alcohol</th>\n",
       "      <th>amigo</th>\n",
       "      <th>amor</th>\n",
       "      <th>antoja</th>\n",
       "      <th>artesanal</th>\n",
       "      <th>años</th>\n",
       "      <th>bar</th>\n",
       "      <th>...</th>\n",
       "      <th>usuario</th>\n",
       "      <th>vacío</th>\n",
       "      <th>vas</th>\n",
       "      <th>vaso</th>\n",
       "      <th>ven</th>\n",
       "      <th>vender</th>\n",
       "      <th>veo</th>\n",
       "      <th>vida</th>\n",
       "      <th>vino</th>\n",
       "      <th>whisky</th>\n",
       "    </tr>\n",
       "  </thead>\n",
       "  <tbody>\n",
       "    <tr>\n",
       "      <th>0</th>\n",
       "      <td>0.0</td>\n",
       "      <td>0.0</td>\n",
       "      <td>0.0</td>\n",
       "      <td>0.585294</td>\n",
       "      <td>0.0</td>\n",
       "      <td>0.0</td>\n",
       "      <td>0.0</td>\n",
       "      <td>0.0</td>\n",
       "      <td>0.0</td>\n",
       "      <td>0.0</td>\n",
       "      <td>...</td>\n",
       "      <td>0.0</td>\n",
       "      <td>0.000000</td>\n",
       "      <td>0.0</td>\n",
       "      <td>0.000000</td>\n",
       "      <td>0.0</td>\n",
       "      <td>0.0</td>\n",
       "      <td>0.0</td>\n",
       "      <td>0.0</td>\n",
       "      <td>0.000000</td>\n",
       "      <td>0.000000</td>\n",
       "    </tr>\n",
       "    <tr>\n",
       "      <th>1</th>\n",
       "      <td>0.0</td>\n",
       "      <td>0.0</td>\n",
       "      <td>0.0</td>\n",
       "      <td>0.000000</td>\n",
       "      <td>0.0</td>\n",
       "      <td>0.0</td>\n",
       "      <td>0.0</td>\n",
       "      <td>0.0</td>\n",
       "      <td>0.0</td>\n",
       "      <td>0.0</td>\n",
       "      <td>...</td>\n",
       "      <td>0.0</td>\n",
       "      <td>0.000000</td>\n",
       "      <td>0.0</td>\n",
       "      <td>0.000000</td>\n",
       "      <td>0.0</td>\n",
       "      <td>0.0</td>\n",
       "      <td>0.0</td>\n",
       "      <td>0.0</td>\n",
       "      <td>0.000000</td>\n",
       "      <td>0.000000</td>\n",
       "    </tr>\n",
       "    <tr>\n",
       "      <th>2</th>\n",
       "      <td>0.0</td>\n",
       "      <td>0.0</td>\n",
       "      <td>0.0</td>\n",
       "      <td>0.000000</td>\n",
       "      <td>0.0</td>\n",
       "      <td>0.0</td>\n",
       "      <td>0.0</td>\n",
       "      <td>0.0</td>\n",
       "      <td>0.0</td>\n",
       "      <td>0.0</td>\n",
       "      <td>...</td>\n",
       "      <td>0.0</td>\n",
       "      <td>0.000000</td>\n",
       "      <td>0.0</td>\n",
       "      <td>0.000000</td>\n",
       "      <td>0.0</td>\n",
       "      <td>0.0</td>\n",
       "      <td>0.0</td>\n",
       "      <td>0.0</td>\n",
       "      <td>0.000000</td>\n",
       "      <td>0.000000</td>\n",
       "    </tr>\n",
       "    <tr>\n",
       "      <th>3</th>\n",
       "      <td>0.0</td>\n",
       "      <td>0.0</td>\n",
       "      <td>0.0</td>\n",
       "      <td>0.000000</td>\n",
       "      <td>0.0</td>\n",
       "      <td>0.0</td>\n",
       "      <td>0.0</td>\n",
       "      <td>0.0</td>\n",
       "      <td>0.0</td>\n",
       "      <td>0.0</td>\n",
       "      <td>...</td>\n",
       "      <td>0.0</td>\n",
       "      <td>0.000000</td>\n",
       "      <td>0.0</td>\n",
       "      <td>0.000000</td>\n",
       "      <td>0.0</td>\n",
       "      <td>0.0</td>\n",
       "      <td>0.0</td>\n",
       "      <td>0.0</td>\n",
       "      <td>0.654998</td>\n",
       "      <td>0.755631</td>\n",
       "    </tr>\n",
       "    <tr>\n",
       "      <th>4</th>\n",
       "      <td>0.0</td>\n",
       "      <td>0.0</td>\n",
       "      <td>0.0</td>\n",
       "      <td>0.000000</td>\n",
       "      <td>0.0</td>\n",
       "      <td>0.0</td>\n",
       "      <td>0.0</td>\n",
       "      <td>0.0</td>\n",
       "      <td>0.0</td>\n",
       "      <td>0.0</td>\n",
       "      <td>...</td>\n",
       "      <td>0.0</td>\n",
       "      <td>0.302543</td>\n",
       "      <td>0.0</td>\n",
       "      <td>0.285821</td>\n",
       "      <td>0.0</td>\n",
       "      <td>0.0</td>\n",
       "      <td>0.0</td>\n",
       "      <td>0.0</td>\n",
       "      <td>0.000000</td>\n",
       "      <td>0.000000</td>\n",
       "    </tr>\n",
       "    <tr>\n",
       "      <th>...</th>\n",
       "      <td>...</td>\n",
       "      <td>...</td>\n",
       "      <td>...</td>\n",
       "      <td>...</td>\n",
       "      <td>...</td>\n",
       "      <td>...</td>\n",
       "      <td>...</td>\n",
       "      <td>...</td>\n",
       "      <td>...</td>\n",
       "      <td>...</td>\n",
       "      <td>...</td>\n",
       "      <td>...</td>\n",
       "      <td>...</td>\n",
       "      <td>...</td>\n",
       "      <td>...</td>\n",
       "      <td>...</td>\n",
       "      <td>...</td>\n",
       "      <td>...</td>\n",
       "      <td>...</td>\n",
       "      <td>...</td>\n",
       "      <td>...</td>\n",
       "    </tr>\n",
       "    <tr>\n",
       "      <th>195</th>\n",
       "      <td>0.0</td>\n",
       "      <td>0.0</td>\n",
       "      <td>0.0</td>\n",
       "      <td>0.000000</td>\n",
       "      <td>0.0</td>\n",
       "      <td>0.0</td>\n",
       "      <td>0.0</td>\n",
       "      <td>0.0</td>\n",
       "      <td>0.0</td>\n",
       "      <td>0.0</td>\n",
       "      <td>...</td>\n",
       "      <td>0.0</td>\n",
       "      <td>0.000000</td>\n",
       "      <td>0.0</td>\n",
       "      <td>0.000000</td>\n",
       "      <td>0.0</td>\n",
       "      <td>0.0</td>\n",
       "      <td>0.0</td>\n",
       "      <td>0.0</td>\n",
       "      <td>0.000000</td>\n",
       "      <td>0.000000</td>\n",
       "    </tr>\n",
       "    <tr>\n",
       "      <th>196</th>\n",
       "      <td>0.0</td>\n",
       "      <td>0.0</td>\n",
       "      <td>0.0</td>\n",
       "      <td>0.000000</td>\n",
       "      <td>0.0</td>\n",
       "      <td>0.0</td>\n",
       "      <td>0.0</td>\n",
       "      <td>0.0</td>\n",
       "      <td>0.0</td>\n",
       "      <td>0.0</td>\n",
       "      <td>...</td>\n",
       "      <td>0.0</td>\n",
       "      <td>0.000000</td>\n",
       "      <td>0.0</td>\n",
       "      <td>0.000000</td>\n",
       "      <td>0.0</td>\n",
       "      <td>0.0</td>\n",
       "      <td>0.0</td>\n",
       "      <td>0.0</td>\n",
       "      <td>0.000000</td>\n",
       "      <td>0.000000</td>\n",
       "    </tr>\n",
       "    <tr>\n",
       "      <th>197</th>\n",
       "      <td>0.0</td>\n",
       "      <td>0.0</td>\n",
       "      <td>0.0</td>\n",
       "      <td>0.000000</td>\n",
       "      <td>0.0</td>\n",
       "      <td>0.0</td>\n",
       "      <td>0.0</td>\n",
       "      <td>0.0</td>\n",
       "      <td>0.0</td>\n",
       "      <td>0.0</td>\n",
       "      <td>...</td>\n",
       "      <td>0.0</td>\n",
       "      <td>0.602871</td>\n",
       "      <td>0.0</td>\n",
       "      <td>0.000000</td>\n",
       "      <td>0.0</td>\n",
       "      <td>0.0</td>\n",
       "      <td>0.0</td>\n",
       "      <td>0.0</td>\n",
       "      <td>0.000000</td>\n",
       "      <td>0.000000</td>\n",
       "    </tr>\n",
       "    <tr>\n",
       "      <th>198</th>\n",
       "      <td>0.0</td>\n",
       "      <td>0.0</td>\n",
       "      <td>0.0</td>\n",
       "      <td>0.000000</td>\n",
       "      <td>0.0</td>\n",
       "      <td>0.0</td>\n",
       "      <td>0.0</td>\n",
       "      <td>0.0</td>\n",
       "      <td>0.0</td>\n",
       "      <td>0.0</td>\n",
       "      <td>...</td>\n",
       "      <td>0.0</td>\n",
       "      <td>0.000000</td>\n",
       "      <td>0.0</td>\n",
       "      <td>0.000000</td>\n",
       "      <td>0.0</td>\n",
       "      <td>0.0</td>\n",
       "      <td>0.0</td>\n",
       "      <td>0.0</td>\n",
       "      <td>0.000000</td>\n",
       "      <td>0.000000</td>\n",
       "    </tr>\n",
       "    <tr>\n",
       "      <th>199</th>\n",
       "      <td>0.0</td>\n",
       "      <td>0.0</td>\n",
       "      <td>0.0</td>\n",
       "      <td>0.000000</td>\n",
       "      <td>0.0</td>\n",
       "      <td>0.0</td>\n",
       "      <td>0.0</td>\n",
       "      <td>0.0</td>\n",
       "      <td>0.0</td>\n",
       "      <td>0.0</td>\n",
       "      <td>...</td>\n",
       "      <td>0.0</td>\n",
       "      <td>0.000000</td>\n",
       "      <td>0.0</td>\n",
       "      <td>0.000000</td>\n",
       "      <td>0.0</td>\n",
       "      <td>0.0</td>\n",
       "      <td>0.0</td>\n",
       "      <td>0.0</td>\n",
       "      <td>0.000000</td>\n",
       "      <td>0.000000</td>\n",
       "    </tr>\n",
       "  </tbody>\n",
       "</table>\n",
       "<p>200 rows × 104 columns</p>\n",
       "</div>"
      ],
      "text/plain": [
       "     abrir  abuelo  agua   alcohol  amigo  amor  antoja  artesanal  años  bar  \\\n",
       "0      0.0     0.0   0.0  0.585294    0.0   0.0     0.0        0.0   0.0  0.0   \n",
       "1      0.0     0.0   0.0  0.000000    0.0   0.0     0.0        0.0   0.0  0.0   \n",
       "2      0.0     0.0   0.0  0.000000    0.0   0.0     0.0        0.0   0.0  0.0   \n",
       "3      0.0     0.0   0.0  0.000000    0.0   0.0     0.0        0.0   0.0  0.0   \n",
       "4      0.0     0.0   0.0  0.000000    0.0   0.0     0.0        0.0   0.0  0.0   \n",
       "..     ...     ...   ...       ...    ...   ...     ...        ...   ...  ...   \n",
       "195    0.0     0.0   0.0  0.000000    0.0   0.0     0.0        0.0   0.0  0.0   \n",
       "196    0.0     0.0   0.0  0.000000    0.0   0.0     0.0        0.0   0.0  0.0   \n",
       "197    0.0     0.0   0.0  0.000000    0.0   0.0     0.0        0.0   0.0  0.0   \n",
       "198    0.0     0.0   0.0  0.000000    0.0   0.0     0.0        0.0   0.0  0.0   \n",
       "199    0.0     0.0   0.0  0.000000    0.0   0.0     0.0        0.0   0.0  0.0   \n",
       "\n",
       "     ...  usuario     vacío  vas      vaso  ven  vender  veo  vida      vino  \\\n",
       "0    ...      0.0  0.000000  0.0  0.000000  0.0     0.0  0.0   0.0  0.000000   \n",
       "1    ...      0.0  0.000000  0.0  0.000000  0.0     0.0  0.0   0.0  0.000000   \n",
       "2    ...      0.0  0.000000  0.0  0.000000  0.0     0.0  0.0   0.0  0.000000   \n",
       "3    ...      0.0  0.000000  0.0  0.000000  0.0     0.0  0.0   0.0  0.654998   \n",
       "4    ...      0.0  0.302543  0.0  0.285821  0.0     0.0  0.0   0.0  0.000000   \n",
       "..   ...      ...       ...  ...       ...  ...     ...  ...   ...       ...   \n",
       "195  ...      0.0  0.000000  0.0  0.000000  0.0     0.0  0.0   0.0  0.000000   \n",
       "196  ...      0.0  0.000000  0.0  0.000000  0.0     0.0  0.0   0.0  0.000000   \n",
       "197  ...      0.0  0.602871  0.0  0.000000  0.0     0.0  0.0   0.0  0.000000   \n",
       "198  ...      0.0  0.000000  0.0  0.000000  0.0     0.0  0.0   0.0  0.000000   \n",
       "199  ...      0.0  0.000000  0.0  0.000000  0.0     0.0  0.0   0.0  0.000000   \n",
       "\n",
       "       whisky  \n",
       "0    0.000000  \n",
       "1    0.000000  \n",
       "2    0.000000  \n",
       "3    0.755631  \n",
       "4    0.000000  \n",
       "..        ...  \n",
       "195  0.000000  \n",
       "196  0.000000  \n",
       "197  0.000000  \n",
       "198  0.000000  \n",
       "199  0.000000  \n",
       "\n",
       "[200 rows x 104 columns]"
      ]
     },
     "metadata": {},
     "output_type": "display_data"
    }
   ],
   "source": [
    "#Importar Libreria\n",
    "from sklearn.feature_extraction.text import TfidfVectorizer, CountVectorizer\n",
    "\n",
    "#Generar Representacion\n",
    "#max_df maxima frecuencia de una palabra (para evitar stopwords)\n",
    "#min_df minima frecuencia de una palabra.\n",
    "#max_features maximo numero de palabras a considerar\n",
    "libros_tfidf=TfidfVectorizer(max_df=0.9,min_df=2,max_features=2000)\n",
    "\n",
    "#tokenizar \n",
    "tfidf_dfm=libros_tfidf.fit_transform(tweets2)\n",
    "vocabulariotfidf=libros_tfidf.get_feature_names_out()\n",
    "\n",
    "#Graficar\n",
    "denso_tfidf=tfidf_dfm.todense()\n",
    "listadensa_tfidf=denso_tfidf.tolist()\n",
    "dfm_tfidf_base=pd.DataFrame(listadensa_tfidf,columns=vocabulariotfidf)\n",
    "#dfm_tfidf=dfm_tfidf_base.transpose()\n",
    "display(dfm_tfidf_base)"
   ]
  },
  {
   "cell_type": "markdown",
   "metadata": {
    "id": "ijL79IQ2JgQh"
   },
   "source": [
    "Aplica una normalizacion a los datos, a traves de la siguiente formula:\n",
    "IDF=log (Frecuencia de la palabra en todos los Tweets/(1+ Frecuencia de la palabra en el tweet i))\n",
    "\n",
    "Los que tiene un IDF alto son palabras diferenciales de un tweet mientras que los que presentan un IDF bajo generalmente corresponden a stopwords"
   ]
  },
  {
   "cell_type": "markdown",
   "metadata": {
    "id": "2u4Jd3REK3yS"
   },
   "source": [
    "## Distancia entre vectores (términos,documentos) y sus aplicaciones: La similitud coseno\n",
    "**Clustering de Tweets**\n",
    "\n",
    "Se busca comparar los tweets y encontrar similitudes entre ellos atraves del calculo de distancia **Similitud de Coseno**, siendo esta muy util en matrices de muchos ceros(como en nuestro caso).\n",
    "\n",
    "La representacion que se va emplear es **TF-IDF** data su normalizacion de los datos."
   ]
  },
  {
   "cell_type": "markdown",
   "metadata": {
    "id": "PCHdhqdcMxcC"
   },
   "source": [
    "**Matriz TF-IDF Tweets**"
   ]
  },
  {
   "cell_type": "code",
   "execution_count": 24,
   "metadata": {
    "colab": {
     "base_uri": "https://localhost:8080/",
     "height": 424
    },
    "id": "PyR83PAkMsC6",
    "outputId": "0ffecfbf-4649-4df4-9fa7-288005c2d9c5"
   },
   "outputs": [
    {
     "data": {
      "text/html": [
       "<div>\n",
       "<style scoped>\n",
       "    .dataframe tbody tr th:only-of-type {\n",
       "        vertical-align: middle;\n",
       "    }\n",
       "\n",
       "    .dataframe tbody tr th {\n",
       "        vertical-align: top;\n",
       "    }\n",
       "\n",
       "    .dataframe thead th {\n",
       "        text-align: right;\n",
       "    }\n",
       "</style>\n",
       "<table border=\"1\" class=\"dataframe\">\n",
       "  <thead>\n",
       "    <tr style=\"text-align: right;\">\n",
       "      <th></th>\n",
       "      <th>abrir</th>\n",
       "      <th>abuelo</th>\n",
       "      <th>agua</th>\n",
       "      <th>alcohol</th>\n",
       "      <th>amigo</th>\n",
       "      <th>amor</th>\n",
       "      <th>antoja</th>\n",
       "      <th>artesanal</th>\n",
       "      <th>años</th>\n",
       "      <th>bar</th>\n",
       "      <th>...</th>\n",
       "      <th>usuario</th>\n",
       "      <th>vacío</th>\n",
       "      <th>vas</th>\n",
       "      <th>vaso</th>\n",
       "      <th>ven</th>\n",
       "      <th>vender</th>\n",
       "      <th>veo</th>\n",
       "      <th>vida</th>\n",
       "      <th>vino</th>\n",
       "      <th>whisky</th>\n",
       "    </tr>\n",
       "  </thead>\n",
       "  <tbody>\n",
       "    <tr>\n",
       "      <th>0</th>\n",
       "      <td>0.0</td>\n",
       "      <td>0.0</td>\n",
       "      <td>0.0</td>\n",
       "      <td>0.585294</td>\n",
       "      <td>0.0</td>\n",
       "      <td>0.0</td>\n",
       "      <td>0.0</td>\n",
       "      <td>0.0</td>\n",
       "      <td>0.0</td>\n",
       "      <td>0.0</td>\n",
       "      <td>...</td>\n",
       "      <td>0.0</td>\n",
       "      <td>0.000000</td>\n",
       "      <td>0.0</td>\n",
       "      <td>0.000000</td>\n",
       "      <td>0.0</td>\n",
       "      <td>0.0</td>\n",
       "      <td>0.0</td>\n",
       "      <td>0.0</td>\n",
       "      <td>0.000000</td>\n",
       "      <td>0.000000</td>\n",
       "    </tr>\n",
       "    <tr>\n",
       "      <th>1</th>\n",
       "      <td>0.0</td>\n",
       "      <td>0.0</td>\n",
       "      <td>0.0</td>\n",
       "      <td>0.000000</td>\n",
       "      <td>0.0</td>\n",
       "      <td>0.0</td>\n",
       "      <td>0.0</td>\n",
       "      <td>0.0</td>\n",
       "      <td>0.0</td>\n",
       "      <td>0.0</td>\n",
       "      <td>...</td>\n",
       "      <td>0.0</td>\n",
       "      <td>0.000000</td>\n",
       "      <td>0.0</td>\n",
       "      <td>0.000000</td>\n",
       "      <td>0.0</td>\n",
       "      <td>0.0</td>\n",
       "      <td>0.0</td>\n",
       "      <td>0.0</td>\n",
       "      <td>0.000000</td>\n",
       "      <td>0.000000</td>\n",
       "    </tr>\n",
       "    <tr>\n",
       "      <th>2</th>\n",
       "      <td>0.0</td>\n",
       "      <td>0.0</td>\n",
       "      <td>0.0</td>\n",
       "      <td>0.000000</td>\n",
       "      <td>0.0</td>\n",
       "      <td>0.0</td>\n",
       "      <td>0.0</td>\n",
       "      <td>0.0</td>\n",
       "      <td>0.0</td>\n",
       "      <td>0.0</td>\n",
       "      <td>...</td>\n",
       "      <td>0.0</td>\n",
       "      <td>0.000000</td>\n",
       "      <td>0.0</td>\n",
       "      <td>0.000000</td>\n",
       "      <td>0.0</td>\n",
       "      <td>0.0</td>\n",
       "      <td>0.0</td>\n",
       "      <td>0.0</td>\n",
       "      <td>0.000000</td>\n",
       "      <td>0.000000</td>\n",
       "    </tr>\n",
       "    <tr>\n",
       "      <th>3</th>\n",
       "      <td>0.0</td>\n",
       "      <td>0.0</td>\n",
       "      <td>0.0</td>\n",
       "      <td>0.000000</td>\n",
       "      <td>0.0</td>\n",
       "      <td>0.0</td>\n",
       "      <td>0.0</td>\n",
       "      <td>0.0</td>\n",
       "      <td>0.0</td>\n",
       "      <td>0.0</td>\n",
       "      <td>...</td>\n",
       "      <td>0.0</td>\n",
       "      <td>0.000000</td>\n",
       "      <td>0.0</td>\n",
       "      <td>0.000000</td>\n",
       "      <td>0.0</td>\n",
       "      <td>0.0</td>\n",
       "      <td>0.0</td>\n",
       "      <td>0.0</td>\n",
       "      <td>0.654998</td>\n",
       "      <td>0.755631</td>\n",
       "    </tr>\n",
       "    <tr>\n",
       "      <th>4</th>\n",
       "      <td>0.0</td>\n",
       "      <td>0.0</td>\n",
       "      <td>0.0</td>\n",
       "      <td>0.000000</td>\n",
       "      <td>0.0</td>\n",
       "      <td>0.0</td>\n",
       "      <td>0.0</td>\n",
       "      <td>0.0</td>\n",
       "      <td>0.0</td>\n",
       "      <td>0.0</td>\n",
       "      <td>...</td>\n",
       "      <td>0.0</td>\n",
       "      <td>0.302543</td>\n",
       "      <td>0.0</td>\n",
       "      <td>0.285821</td>\n",
       "      <td>0.0</td>\n",
       "      <td>0.0</td>\n",
       "      <td>0.0</td>\n",
       "      <td>0.0</td>\n",
       "      <td>0.000000</td>\n",
       "      <td>0.000000</td>\n",
       "    </tr>\n",
       "    <tr>\n",
       "      <th>...</th>\n",
       "      <td>...</td>\n",
       "      <td>...</td>\n",
       "      <td>...</td>\n",
       "      <td>...</td>\n",
       "      <td>...</td>\n",
       "      <td>...</td>\n",
       "      <td>...</td>\n",
       "      <td>...</td>\n",
       "      <td>...</td>\n",
       "      <td>...</td>\n",
       "      <td>...</td>\n",
       "      <td>...</td>\n",
       "      <td>...</td>\n",
       "      <td>...</td>\n",
       "      <td>...</td>\n",
       "      <td>...</td>\n",
       "      <td>...</td>\n",
       "      <td>...</td>\n",
       "      <td>...</td>\n",
       "      <td>...</td>\n",
       "      <td>...</td>\n",
       "    </tr>\n",
       "    <tr>\n",
       "      <th>195</th>\n",
       "      <td>0.0</td>\n",
       "      <td>0.0</td>\n",
       "      <td>0.0</td>\n",
       "      <td>0.000000</td>\n",
       "      <td>0.0</td>\n",
       "      <td>0.0</td>\n",
       "      <td>0.0</td>\n",
       "      <td>0.0</td>\n",
       "      <td>0.0</td>\n",
       "      <td>0.0</td>\n",
       "      <td>...</td>\n",
       "      <td>0.0</td>\n",
       "      <td>0.000000</td>\n",
       "      <td>0.0</td>\n",
       "      <td>0.000000</td>\n",
       "      <td>0.0</td>\n",
       "      <td>0.0</td>\n",
       "      <td>0.0</td>\n",
       "      <td>0.0</td>\n",
       "      <td>0.000000</td>\n",
       "      <td>0.000000</td>\n",
       "    </tr>\n",
       "    <tr>\n",
       "      <th>196</th>\n",
       "      <td>0.0</td>\n",
       "      <td>0.0</td>\n",
       "      <td>0.0</td>\n",
       "      <td>0.000000</td>\n",
       "      <td>0.0</td>\n",
       "      <td>0.0</td>\n",
       "      <td>0.0</td>\n",
       "      <td>0.0</td>\n",
       "      <td>0.0</td>\n",
       "      <td>0.0</td>\n",
       "      <td>...</td>\n",
       "      <td>0.0</td>\n",
       "      <td>0.000000</td>\n",
       "      <td>0.0</td>\n",
       "      <td>0.000000</td>\n",
       "      <td>0.0</td>\n",
       "      <td>0.0</td>\n",
       "      <td>0.0</td>\n",
       "      <td>0.0</td>\n",
       "      <td>0.000000</td>\n",
       "      <td>0.000000</td>\n",
       "    </tr>\n",
       "    <tr>\n",
       "      <th>197</th>\n",
       "      <td>0.0</td>\n",
       "      <td>0.0</td>\n",
       "      <td>0.0</td>\n",
       "      <td>0.000000</td>\n",
       "      <td>0.0</td>\n",
       "      <td>0.0</td>\n",
       "      <td>0.0</td>\n",
       "      <td>0.0</td>\n",
       "      <td>0.0</td>\n",
       "      <td>0.0</td>\n",
       "      <td>...</td>\n",
       "      <td>0.0</td>\n",
       "      <td>0.602871</td>\n",
       "      <td>0.0</td>\n",
       "      <td>0.000000</td>\n",
       "      <td>0.0</td>\n",
       "      <td>0.0</td>\n",
       "      <td>0.0</td>\n",
       "      <td>0.0</td>\n",
       "      <td>0.000000</td>\n",
       "      <td>0.000000</td>\n",
       "    </tr>\n",
       "    <tr>\n",
       "      <th>198</th>\n",
       "      <td>0.0</td>\n",
       "      <td>0.0</td>\n",
       "      <td>0.0</td>\n",
       "      <td>0.000000</td>\n",
       "      <td>0.0</td>\n",
       "      <td>0.0</td>\n",
       "      <td>0.0</td>\n",
       "      <td>0.0</td>\n",
       "      <td>0.0</td>\n",
       "      <td>0.0</td>\n",
       "      <td>...</td>\n",
       "      <td>0.0</td>\n",
       "      <td>0.000000</td>\n",
       "      <td>0.0</td>\n",
       "      <td>0.000000</td>\n",
       "      <td>0.0</td>\n",
       "      <td>0.0</td>\n",
       "      <td>0.0</td>\n",
       "      <td>0.0</td>\n",
       "      <td>0.000000</td>\n",
       "      <td>0.000000</td>\n",
       "    </tr>\n",
       "    <tr>\n",
       "      <th>199</th>\n",
       "      <td>0.0</td>\n",
       "      <td>0.0</td>\n",
       "      <td>0.0</td>\n",
       "      <td>0.000000</td>\n",
       "      <td>0.0</td>\n",
       "      <td>0.0</td>\n",
       "      <td>0.0</td>\n",
       "      <td>0.0</td>\n",
       "      <td>0.0</td>\n",
       "      <td>0.0</td>\n",
       "      <td>...</td>\n",
       "      <td>0.0</td>\n",
       "      <td>0.000000</td>\n",
       "      <td>0.0</td>\n",
       "      <td>0.000000</td>\n",
       "      <td>0.0</td>\n",
       "      <td>0.0</td>\n",
       "      <td>0.0</td>\n",
       "      <td>0.0</td>\n",
       "      <td>0.000000</td>\n",
       "      <td>0.000000</td>\n",
       "    </tr>\n",
       "  </tbody>\n",
       "</table>\n",
       "<p>200 rows × 104 columns</p>\n",
       "</div>"
      ],
      "text/plain": [
       "     abrir  abuelo  agua   alcohol  amigo  amor  antoja  artesanal  años  bar  \\\n",
       "0      0.0     0.0   0.0  0.585294    0.0   0.0     0.0        0.0   0.0  0.0   \n",
       "1      0.0     0.0   0.0  0.000000    0.0   0.0     0.0        0.0   0.0  0.0   \n",
       "2      0.0     0.0   0.0  0.000000    0.0   0.0     0.0        0.0   0.0  0.0   \n",
       "3      0.0     0.0   0.0  0.000000    0.0   0.0     0.0        0.0   0.0  0.0   \n",
       "4      0.0     0.0   0.0  0.000000    0.0   0.0     0.0        0.0   0.0  0.0   \n",
       "..     ...     ...   ...       ...    ...   ...     ...        ...   ...  ...   \n",
       "195    0.0     0.0   0.0  0.000000    0.0   0.0     0.0        0.0   0.0  0.0   \n",
       "196    0.0     0.0   0.0  0.000000    0.0   0.0     0.0        0.0   0.0  0.0   \n",
       "197    0.0     0.0   0.0  0.000000    0.0   0.0     0.0        0.0   0.0  0.0   \n",
       "198    0.0     0.0   0.0  0.000000    0.0   0.0     0.0        0.0   0.0  0.0   \n",
       "199    0.0     0.0   0.0  0.000000    0.0   0.0     0.0        0.0   0.0  0.0   \n",
       "\n",
       "     ...  usuario     vacío  vas      vaso  ven  vender  veo  vida      vino  \\\n",
       "0    ...      0.0  0.000000  0.0  0.000000  0.0     0.0  0.0   0.0  0.000000   \n",
       "1    ...      0.0  0.000000  0.0  0.000000  0.0     0.0  0.0   0.0  0.000000   \n",
       "2    ...      0.0  0.000000  0.0  0.000000  0.0     0.0  0.0   0.0  0.000000   \n",
       "3    ...      0.0  0.000000  0.0  0.000000  0.0     0.0  0.0   0.0  0.654998   \n",
       "4    ...      0.0  0.302543  0.0  0.285821  0.0     0.0  0.0   0.0  0.000000   \n",
       "..   ...      ...       ...  ...       ...  ...     ...  ...   ...       ...   \n",
       "195  ...      0.0  0.000000  0.0  0.000000  0.0     0.0  0.0   0.0  0.000000   \n",
       "196  ...      0.0  0.000000  0.0  0.000000  0.0     0.0  0.0   0.0  0.000000   \n",
       "197  ...      0.0  0.602871  0.0  0.000000  0.0     0.0  0.0   0.0  0.000000   \n",
       "198  ...      0.0  0.000000  0.0  0.000000  0.0     0.0  0.0   0.0  0.000000   \n",
       "199  ...      0.0  0.000000  0.0  0.000000  0.0     0.0  0.0   0.0  0.000000   \n",
       "\n",
       "       whisky  \n",
       "0    0.000000  \n",
       "1    0.000000  \n",
       "2    0.000000  \n",
       "3    0.755631  \n",
       "4    0.000000  \n",
       "..        ...  \n",
       "195  0.000000  \n",
       "196  0.000000  \n",
       "197  0.000000  \n",
       "198  0.000000  \n",
       "199  0.000000  \n",
       "\n",
       "[200 rows x 104 columns]"
      ]
     },
     "metadata": {},
     "output_type": "display_data"
    }
   ],
   "source": [
    "display(dfm_tfidf_base) "
   ]
  },
  {
   "cell_type": "markdown",
   "metadata": {
    "id": "5Uupi2LKNCPh"
   },
   "source": [
    "**Dimension de la matriz**\n",
    "\n",
    "200 tweets x 104 tokens"
   ]
  },
  {
   "cell_type": "code",
   "execution_count": 25,
   "metadata": {
    "colab": {
     "base_uri": "https://localhost:8080/"
    },
    "id": "l9-rFUXbM3hh",
    "outputId": "5cbcd268-b8d9-48cd-adff-d8237d9d29a2"
   },
   "outputs": [
    {
     "data": {
      "text/plain": [
       "(200, 104)"
      ]
     },
     "execution_count": 25,
     "metadata": {},
     "output_type": "execute_result"
    }
   ],
   "source": [
    "dfm_tfidf_base.shape\n"
   ]
  },
  {
   "cell_type": "markdown",
   "metadata": {
    "id": "RVXvOP7ZNOCq"
   },
   "source": [
    "**Vocabulario o Tokens**"
   ]
  },
  {
   "cell_type": "code",
   "execution_count": 26,
   "metadata": {
    "colab": {
     "base_uri": "https://localhost:8080/"
    },
    "id": "oEC-qdpLNR1C",
    "outputId": "eaa99b56-2df0-4066-944b-84a75a60d9a9"
   },
   "outputs": [
    {
     "name": "stdout",
     "output_type": "stream",
     "text": [
      "['abrir' 'abuelo' 'agua' 'alcohol' 'amigo' 'amor' 'antoja' 'artesanal'\n",
      " 'años' 'bar' 'barra' 'beber' 'bebidas' 'bebido' 'bravas' 'cabeza' 'café'\n",
      " 'calle' 'calor' 'cara' 'casa' 'cerca' 'clase' 'coca' 'cocacola' 'cola'\n",
      " 'comida' 'conocemos' 'consumir' 'cosas' 'coña' 'debes' 'dejar' 'dejaron'\n",
      " 'deporte' 'dios' 'duda' 'dueño' 'falta' 'favor' 'fria' 'fría' 'ganas'\n",
      " 'gasto' 'gente' 'gracias' 'gusta' 'hola' 'hombre' 'hombres' 'ido'\n",
      " 'inventó' 'invitar' 'invito' 'jarra' 'latas' 'ley' 'litro' 'llega'\n",
      " 'llegar' 'llevo' 'mano' 'mañana' 'media' 'mujer' 'mundo' 'necesita'\n",
      " 'olímpico' 'pedo' 'personas' 'playa' 'queda' 'quieren' 'quieres' 'quiero'\n",
      " 'quitar' 'sabio' 'seguro' 'semana' 'señor' 'siento' 'six' 'subsidio'\n",
      " 'tapa' 'tema' 'tiempo' 'toma' 'tomando' 'tomar' 'tomarme' 'tomas' 'tomo'\n",
      " 'trabajo' 'urge' 'usuario' 'vacío' 'vas' 'vaso' 'ven' 'vender' 'veo'\n",
      " 'vida' 'vino' 'whisky']\n"
     ]
    }
   ],
   "source": [
    "print(vocabulariotfidf)"
   ]
  },
  {
   "cell_type": "markdown",
   "metadata": {
    "id": "GqeXycR3NbEb"
   },
   "source": [
    "**Calculo de Similitud del Coseno**"
   ]
  },
  {
   "cell_type": "code",
   "execution_count": 27,
   "metadata": {
    "colab": {
     "base_uri": "https://localhost:8080/"
    },
    "id": "BtFSahpfNeFq",
    "outputId": "7c2e3757-b248-4104-cf0d-9e87d021114c"
   },
   "outputs": [
    {
     "data": {
      "text/plain": [
       "array([[1., 0., 0., 0., 0.],\n",
       "       [0., 0., 0., 0., 0.],\n",
       "       [0., 0., 1., 0., 0.],\n",
       "       [0., 0., 0., 1., 0.],\n",
       "       [0., 0., 0., 0., 1.]])"
      ]
     },
     "execution_count": 27,
     "metadata": {},
     "output_type": "execute_result"
    }
   ],
   "source": [
    "#Importar Libreria\n",
    "from sklearn.metrics.pairwise import cosine_similarity\n",
    "\n",
    "#calcular distancia\n",
    "#indicar el numero de tweet a tomar, en este caso vamos a tomar los 200\n",
    "similitudes=cosine_similarity(dfm_tfidf_base[0:200],dfm_tfidf_base[0:200])\n",
    "similitudes[0:5,0:5]"
   ]
  },
  {
   "cell_type": "markdown",
   "metadata": {
    "id": "AHzTJBygQRYH"
   },
   "source": [
    "**Normalizar la distancia del Coseno**"
   ]
  },
  {
   "cell_type": "markdown",
   "metadata": {
    "id": "fE0i7TovQQkd"
   },
   "source": [
    "para aplicar K-means debemos normalizar la distancia coseno"
   ]
  },
  {
   "cell_type": "code",
   "execution_count": 28,
   "metadata": {
    "colab": {
     "base_uri": "https://localhost:8080/"
    },
    "id": "Oxav3u04QqGs",
    "outputId": "5f596a53-6e37-4e0a-dd31-b5caf167e4c4"
   },
   "outputs": [
    {
     "name": "stderr",
     "output_type": "stream",
     "text": [
      "/var/folders/p1/3s8c0dxx21bfvlztxjr_3h840000gp/T/ipykernel_2422/3134724364.py:3: FutureWarning: Support for multi-dimensional indexing (e.g. `obj[:, None]`) is deprecated and will be removed in a future version.  Convert to a numpy array before indexing instead.\n",
      "  length = np.sqrt((finalsinceros**2).sum(axis=1))[:,None] #suma de IDF al cuadrado por tweet\n"
     ]
    }
   ],
   "source": [
    "import numpy as np\n",
    "finalsinceros=dfm_tfidf_base.loc[dfm_tfidf_base.sum(axis=1)!=0,] #Eliminar aquellos que no tengan ninguna de los tokens foco\n",
    "length = np.sqrt((finalsinceros**2).sum(axis=1))[:,None] #suma de IDF al cuadrado por tweet\n",
    "finalm2 = finalsinceros / length #normalizacion\n",
    "##corregir si lenght=0"
   ]
  },
  {
   "cell_type": "code",
   "execution_count": 29,
   "metadata": {
    "colab": {
     "base_uri": "https://localhost:8080/"
    },
    "id": "vc1gy--zTFdm",
    "outputId": "7a76c162-6a5c-4fdd-91af-f3883d50754d"
   },
   "outputs": [
    {
     "data": {
      "text/plain": [
       "(136, 104)"
      ]
     },
     "execution_count": 29,
     "metadata": {},
     "output_type": "execute_result"
    }
   ],
   "source": [
    "finalsinceros.shape"
   ]
  },
  {
   "cell_type": "markdown",
   "metadata": {
    "id": "j-WSJ3ruTJiD"
   },
   "source": [
    "Se eliminaron 67 tweets que no contenian ninguno de los tokens aplicados."
   ]
  },
  {
   "cell_type": "markdown",
   "metadata": {
    "id": "bT7H-YRcTXoz"
   },
   "source": [
    "**Numero de Cluster-Diagrama de Codo-K Medias Clustering**"
   ]
  },
  {
   "cell_type": "code",
   "execution_count": 39,
   "metadata": {
    "colab": {
     "base_uri": "https://localhost:8080/",
     "height": 325
    },
    "id": "nR62kIWhTiFs",
    "outputId": "7383d706-85bf-4995-87c9-22e51a0ce760"
   },
   "outputs": [
    {
     "data": {
      "image/png": "[encoded data removed]",
      "text/plain": [
       "<Figure size 640x480 with 1 Axes>"
      ]
     },
     "metadata": {},
     "output_type": "display_data"
    }
   ],
   "source": [
    "#importar libreria K-medias\n",
    "from sklearn.cluster import KMeans\n",
    "import matplotlib\n",
    "import matplotlib.pyplot as plt\n",
    "\n",
    "#Utilizar 10 cluster de referencia\n",
    "cluster=10\n",
    "sse=[]\n",
    "for k in range(1, cluster):\n",
    "  kmeans = KMeans(n_clusters=k, random_state=5555)\n",
    "  kmeans.fit(finalm2)\n",
    "  sse.append(kmeans.inertia_)\n",
    "\n",
    "#Grafico de Codo\n",
    "import matplotlib.pyplot as plt\n",
    "plt.style.use(\"fivethirtyeight\")\n",
    "plt.plot(range(1, cluster), sse)\n",
    "plt.xticks(range(1, cluster))\n",
    "plt.xlabel(\"Numero de Clusters\")\n",
    "plt.ylabel(\"Suma de cuadrados\")\n",
    "plt.title('Gráfico de codo')\n",
    "plt.show()"
   ]
  },
  {
   "cell_type": "markdown",
   "metadata": {
    "id": "vWghNEjIVMp1"
   },
   "source": [
    "No parece tan claro los cluster a utlizar.Tomaremos 6 clusters."
   ]
  },
  {
   "cell_type": "code",
   "execution_count": 40,
   "metadata": {
    "colab": {
     "base_uri": "https://localhost:8080/",
     "height": 1000
    },
    "id": "Foi8lEZ4WIVN",
    "outputId": "d1274bac-181f-4c62-f2dc-c08930aee263"
   },
   "outputs": [
    {
     "data": {
      "text/plain": [
       "array([[-3.46944695e-18,  0.00000000e+00,  6.09874374e-02,\n",
       "         1.54803652e-01, -3.46944695e-18, -1.73472348e-18,\n",
       "        -1.73472348e-18, -1.73472348e-18,  6.48241596e-02,\n",
       "         4.27696980e-02,  0.00000000e+00,  0.00000000e+00,\n",
       "         0.00000000e+00, -3.46944695e-18,  1.73472348e-18,\n",
       "         0.00000000e+00,  0.00000000e+00,  0.00000000e+00,\n",
       "        -6.93889390e-18,  3.46944695e-18, -3.46944695e-18,\n",
       "         1.73472348e-18, -3.46944695e-18, -3.46944695e-18,\n",
       "         3.46944695e-18, -1.73472348e-18, -6.93889390e-18,\n",
       "        -3.46944695e-18,  1.73472348e-18,  0.00000000e+00,\n",
       "        -1.73472348e-18,  4.77897218e-02,  0.00000000e+00,\n",
       "         3.20139498e-02, -1.73472348e-18, -3.46944695e-18,\n",
       "        -3.46944695e-18, -3.46944695e-18,  0.00000000e+00,\n",
       "        -3.46944695e-18,  1.73472348e-18,  0.00000000e+00,\n",
       "        -3.46944695e-18, -1.73472348e-18,  0.00000000e+00,\n",
       "         3.46944695e-18,  1.04083409e-17,  4.77897218e-02,\n",
       "         0.00000000e+00, -3.46944695e-18,  8.67361738e-19,\n",
       "         1.73472348e-18,  4.77897218e-02,  1.73472348e-18,\n",
       "        -1.73472348e-18, -8.67361738e-19,  4.95505779e-02,\n",
       "         1.73472348e-18,  0.00000000e+00,  0.00000000e+00,\n",
       "         5.81254420e-02, -1.73472348e-18,  2.67956260e-01,\n",
       "         1.73472348e-18,  1.73472348e-18,  0.00000000e+00,\n",
       "         1.73472348e-18, -1.73472348e-18,  3.20139498e-02,\n",
       "         1.73472348e-18, -3.46944695e-18,  5.61536981e-02,\n",
       "         4.86125137e-02,  4.77897218e-02,  0.00000000e+00,\n",
       "         0.00000000e+00,  1.73472348e-18,  0.00000000e+00,\n",
       "         0.00000000e+00, -3.46944695e-18,  4.04056630e-02,\n",
       "        -3.46944695e-18,  0.00000000e+00, -8.67361738e-19,\n",
       "         3.46944695e-18, -3.46944695e-18,  3.46944695e-18,\n",
       "        -3.46944695e-18,  3.74044975e-01, -3.46944695e-18,\n",
       "        -1.73472348e-18, -3.46944695e-18,  4.44052287e-02,\n",
       "        -1.73472348e-18,  0.00000000e+00, -8.67361738e-19,\n",
       "         6.09874374e-02, -3.46944695e-18, -3.46944695e-18,\n",
       "        -6.93889390e-18, -1.73472348e-18,  0.00000000e+00,\n",
       "         4.29515631e-02,  1.73472348e-18],\n",
       "       [ 0.00000000e+00,  0.00000000e+00,  0.00000000e+00,\n",
       "         0.00000000e+00, -1.73472348e-18, -3.46944695e-18,\n",
       "        -3.46944695e-18,  0.00000000e+00, -3.46944695e-18,\n",
       "         1.73472348e-18,  0.00000000e+00,  0.00000000e+00,\n",
       "         1.73472348e-18, -1.73472348e-18,  1.73472348e-18,\n",
       "         0.00000000e+00,  0.00000000e+00,  1.73472348e-18,\n",
       "        -3.46944695e-18,  3.46944695e-18, -6.93889390e-18,\n",
       "         1.73472348e-18, -1.73472348e-18,  0.00000000e+00,\n",
       "         0.00000000e+00, -1.73472348e-18,  3.79791011e-02,\n",
       "        -1.73472348e-18,  0.00000000e+00,  6.02871278e-02,\n",
       "         7.66759291e-02,  0.00000000e+00,  0.00000000e+00,\n",
       "        -2.60208521e-18, -1.73472348e-18, -3.46944695e-18,\n",
       "        -1.73472348e-18, -1.73472348e-18,  0.00000000e+00,\n",
       "        -3.46944695e-18,  7.66759291e-02,  0.00000000e+00,\n",
       "        -3.46944695e-18,  6.02871278e-02,  0.00000000e+00,\n",
       "         3.46944695e-18,  3.19742111e-01,  0.00000000e+00,\n",
       "         0.00000000e+00, -1.73472348e-18, -8.67361738e-19,\n",
       "         0.00000000e+00, -1.73472348e-18,  1.73472348e-18,\n",
       "         0.00000000e+00, -8.67361738e-19,  1.73472348e-18,\n",
       "         0.00000000e+00,  0.00000000e+00, -1.73472348e-18,\n",
       "         0.00000000e+00,  1.73472348e-18, -6.93889390e-18,\n",
       "         1.73472348e-18,  0.00000000e+00,  0.00000000e+00,\n",
       "         0.00000000e+00,  0.00000000e+00,  1.73472348e-18,\n",
       "         0.00000000e+00, -3.46944695e-18,  5.60083686e-02,\n",
       "         0.00000000e+00,  0.00000000e+00,  0.00000000e+00,\n",
       "         5.06856761e-02,  0.00000000e+00,  5.06856761e-02,\n",
       "         0.00000000e+00, -3.46944695e-18,  0.00000000e+00,\n",
       "        -3.46944695e-18,  5.06856761e-02,  0.00000000e+00,\n",
       "         1.70621522e-01,  6.02871278e-02,  3.46944695e-18,\n",
       "         0.00000000e+00, -6.93889390e-18,  0.00000000e+00,\n",
       "        -1.73472348e-18,  3.07793295e-01,  0.00000000e+00,\n",
       "         0.00000000e+00,  0.00000000e+00,  6.02871278e-02,\n",
       "        -3.46944695e-18, -3.46944695e-18, -1.73472348e-18,\n",
       "        -3.46944695e-18,  0.00000000e+00,  0.00000000e+00,\n",
       "         1.64698148e-01,  0.00000000e+00],\n",
       "       [ 1.23958638e-02,  1.29989456e-02,  9.97314692e-03,\n",
       "         4.51028104e-17,  1.26666358e-02,  1.54980977e-02,\n",
       "         1.54980977e-02,  1.29440380e-02,  1.00902114e-02,\n",
       "         4.98657346e-03,  5.66805973e-03, -2.08166817e-17,\n",
       "         1.72606546e-02,  1.55871480e-02,  1.25510928e-02,\n",
       "         2.22621618e-02,  2.78757501e-02,  1.08695652e-02,\n",
       "         2.61118273e-02,  2.49522938e-02,  2.94311236e-02,\n",
       "         1.18258720e-02,  6.60785627e-03,  2.10822009e-02,\n",
       "         1.90829429e-02,  1.44144634e-02,  2.62403494e-02,\n",
       "         1.26666358e-02,  1.67506985e-02,  7.68594327e-03,\n",
       "         6.27554640e-03,  1.08695652e-02,  4.53237760e-03,\n",
       "         6.39108936e-03,  1.53267519e-02,  1.87318404e-02,\n",
       "         6.27554640e-03,  1.61145824e-02,  2.45933394e-02,\n",
       "         2.36388400e-02,  7.68594327e-03,  4.49862638e-02,\n",
       "         1.47553250e-02,  1.08695652e-02,  1.58561387e-02,\n",
       "         1.87707699e-02,  1.04083409e-17,  1.08695652e-02,\n",
       "         2.66996570e-02,  1.26666358e-02,  1.15395221e-02,\n",
       "         1.29607808e-02,  6.39108936e-03,  1.39614897e-02,\n",
       "         1.71451116e-02,  1.13630543e-02,  6.39108936e-03,\n",
       "         1.40770326e-02,  4.62853245e-03,  1.63043478e-02,\n",
       "         5.08750789e-03,  1.62243309e-02, -2.77555756e-17,\n",
       "         1.39614897e-02,  1.10196218e-02,  3.46944695e-18,\n",
       "         1.40770326e-02,  7.90120469e-03,  4.98657346e-03,\n",
       "         7.68594327e-03,  2.22828193e-02,  2.60616052e-02,\n",
       "         7.68594327e-03,  5.43478261e-03,  2.45933394e-02,\n",
       "         7.68594327e-03,  1.29607808e-02,  1.08695652e-02,\n",
       "         2.08427121e-02,  3.02936633e-02,  1.13925966e-02,\n",
       "         1.59570731e-02,  7.68594327e-03,  9.56406168e-03,\n",
       "         3.46944695e-18,  1.56125113e-17,  1.87707699e-02,\n",
       "         1.37070930e-02, -6.24500451e-17,  2.05579970e-02,\n",
       "         2.17391304e-02, -3.81639165e-17,  5.43478261e-03,\n",
       "         1.08695652e-02,  1.45400636e-02,  3.28851528e-03,\n",
       "         1.08695652e-02,  1.39763124e-02,  1.61145824e-02,\n",
       "         2.61963171e-02,  1.81134926e-02, -4.16333634e-17,\n",
       "         7.11954178e-03,  1.46044670e-02],\n",
       "       [ 0.00000000e+00,  0.00000000e+00,  0.00000000e+00,\n",
       "         1.31953726e-01, -1.73472348e-18, -3.46944695e-18,\n",
       "        -3.46944695e-18,  0.00000000e+00,  7.56070191e-02,\n",
       "         1.73472348e-18,  4.02865722e-02,  6.28596663e-01,\n",
       "         1.73472348e-18, -1.73472348e-18,  1.73472348e-18,\n",
       "         0.00000000e+00,  0.00000000e+00,  5.37949155e-02,\n",
       "        -3.46944695e-18,  3.46944695e-18,  5.83492853e-02,\n",
       "         1.73472348e-18, -1.73472348e-18,  0.00000000e+00,\n",
       "         0.00000000e+00, -1.73472348e-18, -6.93889390e-18,\n",
       "        -1.73472348e-18,  0.00000000e+00,  1.73472348e-18,\n",
       "        -1.73472348e-18,  0.00000000e+00,  7.99860547e-02,\n",
       "        -2.60208521e-18,  3.80597886e-02,  6.35932975e-02,\n",
       "         7.99860547e-02, -1.73472348e-18,  0.00000000e+00,\n",
       "         3.63325610e-02,  1.73472348e-18,  0.00000000e+00,\n",
       "        -3.46944695e-18,  0.00000000e+00,  0.00000000e+00,\n",
       "         3.46944695e-18,  6.03796867e-02,  0.00000000e+00,\n",
       "         0.00000000e+00, -1.73472348e-18, -8.67361738e-19,\n",
       "         0.00000000e+00, -1.73472348e-18,  1.73472348e-18,\n",
       "         0.00000000e+00, -8.67361738e-19,  1.73472348e-18,\n",
       "         0.00000000e+00,  0.00000000e+00, -1.73472348e-18,\n",
       "         0.00000000e+00,  3.80597886e-02, -6.93889390e-18,\n",
       "         1.73472348e-18,  0.00000000e+00,  0.00000000e+00,\n",
       "         0.00000000e+00,  4.02865722e-02,  1.73472348e-18,\n",
       "         5.37949155e-02, -3.46944695e-18,  0.00000000e+00,\n",
       "         5.08214771e-02,  0.00000000e+00,  0.00000000e+00,\n",
       "         0.00000000e+00,  0.00000000e+00, -1.73472348e-18,\n",
       "         0.00000000e+00, -3.46944695e-18,  0.00000000e+00,\n",
       "        -3.46944695e-18,  0.00000000e+00,  0.00000000e+00,\n",
       "         0.00000000e+00, -1.73472348e-18,  3.46944695e-18,\n",
       "         0.00000000e+00, -6.93889390e-18,  0.00000000e+00,\n",
       "        -1.73472348e-18,  0.00000000e+00,  0.00000000e+00,\n",
       "         4.02865722e-02,  0.00000000e+00,  0.00000000e+00,\n",
       "        -3.46944695e-18, -3.46944695e-18, -1.73472348e-18,\n",
       "        -3.46944695e-18,  0.00000000e+00,  0.00000000e+00,\n",
       "         3.46944695e-18,  0.00000000e+00],\n",
       "       [ 1.24735376e-01,  0.00000000e+00,  1.73472348e-18,\n",
       "         1.16003227e-01,  0.00000000e+00,  0.00000000e+00,\n",
       "         0.00000000e+00,  0.00000000e+00,  3.46944695e-18,\n",
       "         1.73472348e-18,  0.00000000e+00,  0.00000000e+00,\n",
       "         1.73472348e-18,  0.00000000e+00,  0.00000000e+00,\n",
       "         0.00000000e+00,  0.00000000e+00,  1.73472348e-18,\n",
       "         0.00000000e+00,  3.46944695e-18,  0.00000000e+00,\n",
       "         0.00000000e+00,  0.00000000e+00,  1.73472348e-18,\n",
       "         1.73472348e-18,  1.73472348e-18,  0.00000000e+00,\n",
       "         0.00000000e+00,  0.00000000e+00,  1.73472348e-18,\n",
       "         1.73472348e-18,  0.00000000e+00,  0.00000000e+00,\n",
       "        -8.67361738e-19,  0.00000000e+00,  3.46944695e-18,\n",
       "         0.00000000e+00,  0.00000000e+00,  0.00000000e+00,\n",
       "         3.46944695e-18,  1.73472348e-18,  8.62636774e-02,\n",
       "         0.00000000e+00,  0.00000000e+00,  0.00000000e+00,\n",
       "         3.46944695e-18,  0.00000000e+00,  0.00000000e+00,\n",
       "         0.00000000e+00,  0.00000000e+00,  0.00000000e+00,\n",
       "         0.00000000e+00,  0.00000000e+00,  1.73472348e-18,\n",
       "         0.00000000e+00,  0.00000000e+00,  0.00000000e+00,\n",
       "         0.00000000e+00,  1.09344165e-01,  1.73472348e-18,\n",
       "         0.00000000e+00,  1.73472348e-18,  0.00000000e+00,\n",
       "         1.73472348e-18,  8.67361738e-19,  3.46944695e-18,\n",
       "         0.00000000e+00,  0.00000000e+00,  1.73472348e-18,\n",
       "         0.00000000e+00,  0.00000000e+00,  3.46944695e-18,\n",
       "         0.00000000e+00,  1.73472348e-18,  0.00000000e+00,\n",
       "         0.00000000e+00,  0.00000000e+00,  1.73472348e-18,\n",
       "         0.00000000e+00,  3.46944695e-18,  0.00000000e+00,\n",
       "         0.00000000e+00,  0.00000000e+00,  0.00000000e+00,\n",
       "         1.73472348e-18,  0.00000000e+00,  3.46944695e-18,\n",
       "         1.73472348e-18,  6.93889390e-18,  1.73472348e-18,\n",
       "         0.00000000e+00,  0.00000000e+00,  0.00000000e+00,\n",
       "         1.73472348e-18,  1.73472348e-18,  0.00000000e+00,\n",
       "         0.00000000e+00,  0.00000000e+00,  0.00000000e+00,\n",
       "         0.00000000e+00,  0.00000000e+00,  8.21752955e-01,\n",
       "         3.46944695e-18,  0.00000000e+00],\n",
       "       [ 0.00000000e+00,  0.00000000e+00,  0.00000000e+00,\n",
       "         0.00000000e+00, -1.73472348e-18, -1.73472348e-18,\n",
       "        -1.73472348e-18,  0.00000000e+00,  0.00000000e+00,\n",
       "         0.00000000e+00,  0.00000000e+00,  0.00000000e+00,\n",
       "        -1.73472348e-18,  0.00000000e+00,  0.00000000e+00,\n",
       "         0.00000000e+00,  0.00000000e+00,  0.00000000e+00,\n",
       "         0.00000000e+00,  0.00000000e+00, -3.46944695e-18,\n",
       "         0.00000000e+00,  1.23000916e-01,  0.00000000e+00,\n",
       "         0.00000000e+00,  0.00000000e+00, -3.46944695e-18,\n",
       "        -1.73472348e-18,  0.00000000e+00,  0.00000000e+00,\n",
       "         0.00000000e+00,  0.00000000e+00,  0.00000000e+00,\n",
       "        -8.67361738e-19, -1.73472348e-18,  0.00000000e+00,\n",
       "         0.00000000e+00,  0.00000000e+00,  0.00000000e+00,\n",
       "         0.00000000e+00, -1.73472348e-18,  0.00000000e+00,\n",
       "        -1.73472348e-18,  0.00000000e+00,  0.00000000e+00,\n",
       "         0.00000000e+00,  0.00000000e+00,  0.00000000e+00,\n",
       "         0.00000000e+00, -1.73472348e-18, -8.67361738e-19,\n",
       "         0.00000000e+00, -1.73472348e-18,  0.00000000e+00,\n",
       "         0.00000000e+00, -8.67361738e-19,  0.00000000e+00,\n",
       "         0.00000000e+00,  0.00000000e+00, -1.73472348e-18,\n",
       "         0.00000000e+00, -1.73472348e-18,  0.00000000e+00,\n",
       "         0.00000000e+00,  0.00000000e+00,  8.13239960e-01,\n",
       "         0.00000000e+00,  0.00000000e+00,  0.00000000e+00,\n",
       "         0.00000000e+00,  0.00000000e+00,  0.00000000e+00,\n",
       "         0.00000000e+00,  0.00000000e+00,  0.00000000e+00,\n",
       "         0.00000000e+00,  0.00000000e+00, -1.73472348e-18,\n",
       "         0.00000000e+00,  0.00000000e+00,  0.00000000e+00,\n",
       "         0.00000000e+00,  0.00000000e+00,  0.00000000e+00,\n",
       "         0.00000000e+00,  1.23000916e-01,  0.00000000e+00,\n",
       "         1.16202214e-01,  0.00000000e+00,  0.00000000e+00,\n",
       "        -1.73472348e-18,  0.00000000e+00,  0.00000000e+00,\n",
       "         0.00000000e+00,  0.00000000e+00,  0.00000000e+00,\n",
       "         0.00000000e+00,  1.16202214e-01,  0.00000000e+00,\n",
       "        -3.46944695e-18,  0.00000000e+00,  0.00000000e+00,\n",
       "        -3.46944695e-18,  0.00000000e+00]])"
      ]
     },
     "metadata": {},
     "output_type": "display_data"
    }
   ],
   "source": [
    "#Kmedias\n",
    "kmeans = KMeans(n_clusters=6,n_init=1000,max_iter=1000,random_state=5555).fit(finalm2)\n",
    "centroids = kmeans.cluster_centers_\n",
    "display(centroids)"
   ]
  },
  {
   "cell_type": "markdown",
   "metadata": {
    "id": "BrgIq5UuYNzl"
   },
   "source": [
    "Tomaremos las 7 palabras mas representativas por cluster"
   ]
  },
  {
   "cell_type": "code",
   "execution_count": 41,
   "metadata": {},
   "outputs": [
    {
     "data": {
      "text/plain": [
       "[['llevo', 'agua', 'vas', 'años', 'alcohol', 'mañana', 'tomar'],\n",
       " ['tiempo', 'coña', 'fria', 'vino', 'tema', 'tomo', 'gusta'],\n",
       " ['vender', 'comida', 'hombre', 'café', 'casa', 'señor', 'fría'],\n",
       " ['gusta', 'dios', 'años', 'dejar', 'duda', 'alcohol', 'beber'],\n",
       " ['cara', 'tomar', 'fría', 'llega', 'alcohol', 'abrir', 'vida'],\n",
       " ['falta', 'whisky', 'vaso', 'tomando', 'clase', 'tiempo', 'mundo']]"
      ]
     },
     "execution_count": 41,
     "metadata": {},
     "output_type": "execute_result"
    }
   ],
   "source": [
    "#extraer #palabras mas representativos\n",
    "destacados=np.argsort(centroids,axis=1)[:,-7:]\n",
    "\n",
    "#guardo como listas los indices y las palabras\n",
    "llevarlos=destacados.tolist()\n",
    "paltotal=vocabulariotfidf.tolist()\n",
    "#detecto que palabras corresponden a cada cluster\n",
    "palabras_total=[]\n",
    "for i in range(len(llevarlos)):\n",
    "  palabras_linea=[]\n",
    "  for k in range(len(llevarlos[i])):\n",
    "    palabras_linea.append(paltotal[llevarlos[i][k]])\n",
    "  palabras_total.append(palabras_linea)\n",
    "\n",
    "palabras_total"
   ]
  },
  {
   "cell_type": "markdown",
   "metadata": {
    "id": "gDKByWHsyKSM"
   },
   "source": [
    " De esta agrupacion de tweets de cerveza puede deducirse que los trending son:\n",
    "\n",
    "\n",
    "\n",
    "\n"
   ]
  },
  {
   "cell_type": "markdown",
   "metadata": {
    "id": "SOBsqnkX12-1"
   },
   "source": [
    "1. Vender en casa o bebidas como cafe frias al hombre.\n",
    "2. Gusto por las bebidas: alcohol,agua,vino.\n",
    "3. Falta tiempo para beber.\n",
    "4. Significado de beber cerveza o alcohol como \"vida\".\n",
    "5. Llevar agua por si tomas mañana.\n",
    "6. Cuestionar el dejar la bebida.\n",
    "\n"
   ]
  },
  {
   "cell_type": "markdown",
   "metadata": {
    "id": "oo5ZcHb9KBdE"
   },
   "source": [
    "**Asignacion de los cluster a los tweets**"
   ]
  },
  {
   "cell_type": "code",
   "execution_count": null,
   "metadata": {
    "colab": {
     "base_uri": "https://localhost:8080/",
     "height": 363
    },
    "id": "pc_BUnBvxytN",
    "outputId": "7430df3a-e1be-4aa0-a7f8-6af395161557"
   },
   "outputs": [
    {
     "data": {
      "text/html": [
       "<div>\n",
       "<style scoped>\n",
       "    .dataframe tbody tr th:only-of-type {\n",
       "        vertical-align: middle;\n",
       "    }\n",
       "\n",
       "    .dataframe tbody tr th {\n",
       "        vertical-align: top;\n",
       "    }\n",
       "\n",
       "    .dataframe thead th {\n",
       "        text-align: right;\n",
       "    }\n",
       "</style>\n",
       "<table border=\"1\" class=\"dataframe\">\n",
       "  <thead>\n",
       "    <tr style=\"text-align: right;\">\n",
       "      <th></th>\n",
       "      <th>tweet</th>\n",
       "      <th>cluster</th>\n",
       "    </tr>\n",
       "  </thead>\n",
       "  <tbody>\n",
       "    <tr>\n",
       "      <th>0</th>\n",
       "      <td>@intensaaa2020 Mmm ya me fastidie, no me gusta...</td>\n",
       "      <td>3.0</td>\n",
       "    </tr>\n",
       "    <tr>\n",
       "      <th>1</th>\n",
       "      <td>No saben lo mucho que quisiera que me gustara ...</td>\n",
       "      <td>2.0</td>\n",
       "    </tr>\n",
       "    <tr>\n",
       "      <th>2</th>\n",
       "      <td>Escribo mal porque he bebido medio litro de ce...</td>\n",
       "      <td>2.0</td>\n",
       "    </tr>\n",
       "    <tr>\n",
       "      <th>3</th>\n",
       "      <td>@marlasuarezzz Cerveza, Vino, Whisky, Helado j...</td>\n",
       "      <td>2.0</td>\n",
       "    </tr>\n",
       "    <tr>\n",
       "      <th>4</th>\n",
       "      <td>💥Taza de Café, 18oz Vaso Termico Café Termo Do...</td>\n",
       "      <td>3.0</td>\n",
       "    </tr>\n",
       "    <tr>\n",
       "      <th>5</th>\n",
       "      <td>Me he replanteado dejar de beber cerveza.\\n\\nS...</td>\n",
       "      <td>2.0</td>\n",
       "    </tr>\n",
       "    <tr>\n",
       "      <th>6</th>\n",
       "      <td>@_JNox_ Bonico del tó. \\nY cerveza.\\nAins.</td>\n",
       "      <td>1.0</td>\n",
       "    </tr>\n",
       "    <tr>\n",
       "      <th>7</th>\n",
       "      <td>@abogadolpa Una cerveza para este hombre por d...</td>\n",
       "      <td>2.0</td>\n",
       "    </tr>\n",
       "    <tr>\n",
       "      <th>8</th>\n",
       "      <td>Si Costanera 700 es tan bueno por qué no lo te...</td>\n",
       "      <td>0.0</td>\n",
       "    </tr>\n",
       "    <tr>\n",
       "      <th>9</th>\n",
       "      <td>acabo de ver a Javi abrir una cerveza con un t...</td>\n",
       "      <td>2.0</td>\n",
       "    </tr>\n",
       "  </tbody>\n",
       "</table>\n",
       "</div>"
      ],
      "text/plain": [
       "                                               tweet  cluster\n",
       "0  @intensaaa2020 Mmm ya me fastidie, no me gusta...      3.0\n",
       "1  No saben lo mucho que quisiera que me gustara ...      2.0\n",
       "2  Escribo mal porque he bebido medio litro de ce...      2.0\n",
       "3  @marlasuarezzz Cerveza, Vino, Whisky, Helado j...      2.0\n",
       "4  💥Taza de Café, 18oz Vaso Termico Café Termo Do...      3.0\n",
       "5  Me he replanteado dejar de beber cerveza.\\n\\nS...      2.0\n",
       "6         @_JNox_ Bonico del tó. \\nY cerveza.\\nAins.      1.0\n",
       "7  @abogadolpa Una cerveza para este hombre por d...      2.0\n",
       "8  Si Costanera 700 es tan bueno por qué no lo te...      0.0\n",
       "9  acabo de ver a Javi abrir una cerveza con un t...      2.0"
      ]
     },
     "execution_count": 42,
     "metadata": {},
     "output_type": "execute_result"
    }
   ],
   "source": [
    "labels = pd.DataFrame(kmeans.predict(finalm2))\n",
    "totalcl=pd.concat([data[\"text\"],labels],axis=1)\n",
    "totalcl.columns=[\"tweet\",\"cluster\"]\n",
    "\n",
    "totalcl.head(n=10)"
   ]
  },
  {
   "cell_type": "markdown",
   "metadata": {
    "id": "cb0dwyXGKKXO"
   },
   "source": [
    "Vamos a ver por ejemplo los cuestionamiento por dejar la cerveza."
   ]
  },
  {
   "cell_type": "code",
   "execution_count": 48,
   "metadata": {
    "colab": {
     "base_uri": "https://localhost:8080/",
     "height": 355
    },
    "id": "ckSbyoD1KaUs",
    "outputId": "5e90fd46-9cc8-4094-93f1-700d44584b43"
   },
   "outputs": [
    {
     "data": {
      "text/html": [
       "<div>\n",
       "<style scoped>\n",
       "    .dataframe tbody tr th:only-of-type {\n",
       "        vertical-align: middle;\n",
       "    }\n",
       "\n",
       "    .dataframe tbody tr th {\n",
       "        vertical-align: top;\n",
       "    }\n",
       "\n",
       "    .dataframe thead th {\n",
       "        text-align: right;\n",
       "    }\n",
       "</style>\n",
       "<table border=\"1\" class=\"dataframe\">\n",
       "  <thead>\n",
       "    <tr style=\"text-align: right;\">\n",
       "      <th></th>\n",
       "      <th>tweet</th>\n",
       "      <th>cluster</th>\n",
       "    </tr>\n",
       "  </thead>\n",
       "  <tbody>\n",
       "    <tr>\n",
       "      <th>0</th>\n",
       "      <td>@intensaaa2020 Mmm ya me fastidie, no me gusta...</td>\n",
       "      <td>3.0</td>\n",
       "    </tr>\n",
       "    <tr>\n",
       "      <th>4</th>\n",
       "      <td>💥Taza de Café, 18oz Vaso Termico Café Termo Do...</td>\n",
       "      <td>3.0</td>\n",
       "    </tr>\n",
       "    <tr>\n",
       "      <th>15</th>\n",
       "      <td>¿Qué falta en la foto? Ampliando, en la segund...</td>\n",
       "      <td>3.0</td>\n",
       "    </tr>\n",
       "    <tr>\n",
       "      <th>26</th>\n",
       "      <td>Señor @GarciaAdanero , usted tiene un par de c...</td>\n",
       "      <td>3.0</td>\n",
       "    </tr>\n",
       "    <tr>\n",
       "      <th>31</th>\n",
       "      <td>@Kappah20 si tu pis sabe a cerveza abreme al d...</td>\n",
       "      <td>3.0</td>\n",
       "    </tr>\n",
       "    <tr>\n",
       "      <th>53</th>\n",
       "      <td>ⓘ Este usuario necesita una cerveza \\n\\nUna @c...</td>\n",
       "      <td>3.0</td>\n",
       "    </tr>\n",
       "    <tr>\n",
       "      <th>55</th>\n",
       "      <td>@CallejoHernanz Verás cuando veamos la tierra ...</td>\n",
       "      <td>3.0</td>\n",
       "    </tr>\n",
       "    <tr>\n",
       "      <th>108</th>\n",
       "      <td>@littlepipedream Me gusta el ginebra con tónic...</td>\n",
       "      <td>3.0</td>\n",
       "    </tr>\n",
       "    <tr>\n",
       "      <th>127</th>\n",
       "      <td>Estoy en la terminal merendando licuado de ban...</td>\n",
       "      <td>3.0</td>\n",
       "    </tr>\n",
       "    <tr>\n",
       "      <th>134</th>\n",
       "      <td>@hatedontlie Ven a mi casa a echarte una cerve...</td>\n",
       "      <td>3.0</td>\n",
       "    </tr>\n",
       "  </tbody>\n",
       "</table>\n",
       "</div>"
      ],
      "text/plain": [
       "                                                 tweet  cluster\n",
       "0    @intensaaa2020 Mmm ya me fastidie, no me gusta...      3.0\n",
       "4    💥Taza de Café, 18oz Vaso Termico Café Termo Do...      3.0\n",
       "15   ¿Qué falta en la foto? Ampliando, en la segund...      3.0\n",
       "26   Señor @GarciaAdanero , usted tiene un par de c...      3.0\n",
       "31   @Kappah20 si tu pis sabe a cerveza abreme al d...      3.0\n",
       "53   ⓘ Este usuario necesita una cerveza \\n\\nUna @c...      3.0\n",
       "55   @CallejoHernanz Verás cuando veamos la tierra ...      3.0\n",
       "108  @littlepipedream Me gusta el ginebra con tónic...      3.0\n",
       "127  Estoy en la terminal merendando licuado de ban...      3.0\n",
       "134  @hatedontlie Ven a mi casa a echarte una cerve...      3.0"
      ]
     },
     "execution_count": 48,
     "metadata": {},
     "output_type": "execute_result"
    }
   ],
   "source": [
    "totalcl[totalcl[\"cluster\"]==3]"
   ]
  },
  {
   "cell_type": "markdown",
   "metadata": {
    "id": "JZI7Ed1AqrBq"
   },
   "source": [
    "Algunos tweets parecer esta muy encaminados a ese tema por ejemplo el tweet 0, 108. Sin embargo, no es del todo preciso, esto se debe a que  al revisar el numero de cluster por el diagrama de codo no se refleja una convergencia hacia un numero especifico de clusters.\n"
   ]
  },
  {
   "cell_type": "markdown",
   "metadata": {
    "id": "ZiTOsWK-8QMo"
   },
   "source": [
    "## Representacion de los Elementos del Vocabulario\n",
    "**Clustering por palabras**"
   ]
  },
  {
   "cell_type": "markdown",
   "metadata": {
    "id": "t5e0poHm8aIm"
   },
   "source": [
    "##Matriz de Co-ocurrencias"
   ]
  },
  {
   "cell_type": "markdown",
   "metadata": {
    "id": "UnfVA31d8i94"
   },
   "source": [
    "Para este caso tomaremos los tweets con stopwords ya que son relevantes para el calculo de PMI. Eliminar signos de puntuacion y expresiones de risa puede ser conveniente ya que no deberian tokenizarse como vocabulario."
   ]
  },
  {
   "cell_type": "code",
   "execution_count": 49,
   "metadata": {
    "colab": {
     "base_uri": "https://localhost:8080/"
    },
    "id": "RcAK0jz79V_n",
    "jupyter": {
     "source_hidden": true
    },
    "outputId": "809c557a-0434-4264-e038-1935328c248c",
    "tags": []
   },
   "outputs": [
    {
     "name": "stdout",
     "output_type": "stream",
     "text": [
      "<Text: fastidie gusta beber dw alcohol cerveza quisiera gustara...>\n"
     ]
    },
    {
     "name": "stderr",
     "output_type": "stream",
     "text": [
      "[nltk_data] Downloading package punkt to /Users/habi/nltk_data...\n",
      "[nltk_data]   Package punkt is already up-to-date!\n",
      "[nltk_data] Downloading package stopwords to /Users/habi/nltk_data...\n",
      "[nltk_data]   Package stopwords is already up-to-date!\n"
     ]
    }
   ],
   "source": [
    "#eliminar dobles espacio\n",
    "tweets_text=' '.join(tweets2) #convertir a texto\n",
    "tweets_text2=re.sub(r'[\\s]+',' ',tweets_text)\n",
    "tweets_text2[0:1000]\n",
    "\n",
    "#tokenizar con nltk\n",
    "nltk.download(\"punkt\")\n",
    "nltk.download(\"stopwords\")\n",
    "fichas_tweets=nltk.tokenize.word_tokenize(tweets_text2,language=\"spanish\")\n",
    "tweets_tokenizados=nltk.Text(fichas_tweets)\n",
    "print(tweets_tokenizados)"
   ]
  },
  {
   "cell_type": "markdown",
   "metadata": {
    "id": "j1mUmWmsEZGs"
   },
   "source": [
    "Posteriormente se van a crear bigramas de dos tokens consecutivos y calcularemos su PMI asociado."
   ]
  },
  {
   "cell_type": "code",
   "execution_count": 94,
   "metadata": {
    "colab": {
     "base_uri": "https://localhost:8080/"
    },
    "id": "6kY8sh2-Ex0k",
    "outputId": "f6cfb8dc-4fa0-498d-8abb-75ada5898c99"
   },
   "outputs": [
    {
     "data": {
      "text/plain": [
       "1364"
      ]
     },
     "execution_count": 94,
     "metadata": {},
     "output_type": "execute_result"
    }
   ],
   "source": [
    "from nltk.collocations import *\n",
    "from nltk import bigrams\n",
    "\n",
    "#importar bigramas y trigramas de nltk\n",
    "bigram_measures = nltk.collocations.BigramAssocMeasures()\n",
    "trigram_measures = nltk.collocations.TrigramAssocMeasures()\n",
    "\n",
    "finder = BigramCollocationFinder.from_words(tweets_tokenizados)\n",
    "\n",
    "#obtenerlos con su PMI\n",
    "scored=finder.score_ngrams(bigram_measures.pmi)\n",
    "scored[0:5]\n",
    "#ordenarlos por PMI\n",
    "listabig=sorted(bigram for bigram, score in scored)\n",
    "#listabig[0:100]\n",
    "len(listabig)"
   ]
  },
  {
   "cell_type": "markdown",
   "metadata": {
    "id": "8SO8xItKGXEZ"
   },
   "source": [
    "se crearon 1364 bigramas"
   ]
  },
  {
   "cell_type": "code",
   "execution_count": 95,
   "metadata": {
    "colab": {
     "base_uri": "https://localhost:8080/",
     "height": 424
    },
    "id": "AOE6wL83GZSL",
    "outputId": "e9b9e4ba-8260-415a-e96d-2d3649e2f68a"
   },
   "outputs": [
    {
     "data": {
      "text/html": [
       "<div>\n",
       "<style scoped>\n",
       "    .dataframe tbody tr th:only-of-type {\n",
       "        vertical-align: middle;\n",
       "    }\n",
       "\n",
       "    .dataframe tbody tr th {\n",
       "        vertical-align: top;\n",
       "    }\n",
       "\n",
       "    .dataframe thead th {\n",
       "        text-align: right;\n",
       "    }\n",
       "</style>\n",
       "<table border=\"1\" class=\"dataframe\">\n",
       "  <thead>\n",
       "    <tr style=\"text-align: right;\">\n",
       "      <th></th>\n",
       "      <th>palabra1</th>\n",
       "      <th>palabra2</th>\n",
       "      <th>puntaje</th>\n",
       "    </tr>\n",
       "  </thead>\n",
       "  <tbody>\n",
       "    <tr>\n",
       "      <th>0</th>\n",
       "      <td>abierta</td>\n",
       "      <td>coño</td>\n",
       "      <td>10.482808</td>\n",
       "    </tr>\n",
       "    <tr>\n",
       "      <th>1</th>\n",
       "      <td>abreme</td>\n",
       "      <td>dm</td>\n",
       "      <td>10.482808</td>\n",
       "    </tr>\n",
       "    <tr>\n",
       "      <th>2</th>\n",
       "      <td>abril</td>\n",
       "      <td>año</td>\n",
       "      <td>10.482808</td>\n",
       "    </tr>\n",
       "    <tr>\n",
       "      <th>3</th>\n",
       "      <td>acaba</td>\n",
       "      <td>cerrar</td>\n",
       "      <td>10.482808</td>\n",
       "    </tr>\n",
       "    <tr>\n",
       "      <th>4</th>\n",
       "      <td>acabaita</td>\n",
       "      <td>vacunar</td>\n",
       "      <td>10.482808</td>\n",
       "    </tr>\n",
       "    <tr>\n",
       "      <th>...</th>\n",
       "      <td>...</td>\n",
       "      <td>...</td>\n",
       "      <td>...</td>\n",
       "    </tr>\n",
       "    <tr>\n",
       "      <th>1359</th>\n",
       "      <td>cerveza</td>\n",
       "      <td>vida</td>\n",
       "      <td>0.239634</td>\n",
       "    </tr>\n",
       "    <tr>\n",
       "      <th>1360</th>\n",
       "      <td>vida</td>\n",
       "      <td>cerveza</td>\n",
       "      <td>0.239634</td>\n",
       "    </tr>\n",
       "    <tr>\n",
       "      <th>1361</th>\n",
       "      <td>cerveza</td>\n",
       "      <td>alcohol</td>\n",
       "      <td>0.017242</td>\n",
       "    </tr>\n",
       "    <tr>\n",
       "      <th>1362</th>\n",
       "      <td>cerveza</td>\n",
       "      <td>tomar</td>\n",
       "      <td>-0.497332</td>\n",
       "    </tr>\n",
       "    <tr>\n",
       "      <th>1363</th>\n",
       "      <td>cerveza</td>\n",
       "      <td>cerveza</td>\n",
       "      <td>-1.248653</td>\n",
       "    </tr>\n",
       "  </tbody>\n",
       "</table>\n",
       "<p>1364 rows × 3 columns</p>\n",
       "</div>"
      ],
      "text/plain": [
       "      palabra1 palabra2    puntaje\n",
       "0      abierta     coño  10.482808\n",
       "1       abreme       dm  10.482808\n",
       "2        abril      año  10.482808\n",
       "3        acaba   cerrar  10.482808\n",
       "4     acabaita  vacunar  10.482808\n",
       "...        ...      ...        ...\n",
       "1359   cerveza     vida   0.239634\n",
       "1360      vida  cerveza   0.239634\n",
       "1361   cerveza  alcohol   0.017242\n",
       "1362   cerveza    tomar  -0.497332\n",
       "1363   cerveza  cerveza  -1.248653\n",
       "\n",
       "[1364 rows x 3 columns]"
      ]
     },
     "execution_count": 95,
     "metadata": {},
     "output_type": "execute_result"
    }
   ],
   "source": [
    "##extraerlos para hacer la representación\n",
    "inicio=[]\n",
    "fin=[]\n",
    "puntaje=[]\n",
    "for i in range(0,len(scored)):\n",
    "          inicio.append(scored[i][0][0])\n",
    "          fin.append(scored[i][0][1])\n",
    "          puntaje.append(scored[i][1])\n",
    "\n",
    "#Generar dataframe          \n",
    "init_pmi = pd.DataFrame(\n",
    "    {'palabra1': inicio,\n",
    "     'palabra2': fin,\n",
    "     'puntaje': puntaje\n",
    "    })\n",
    "init_pmi"
   ]
  },
  {
   "cell_type": "markdown",
   "metadata": {
    "id": "aTcG4sMxGvgS"
   },
   "source": [
    "Convertirlo a una matriz de co-ocurrencias"
   ]
  },
  {
   "cell_type": "code",
   "execution_count": 96,
   "metadata": {
    "colab": {
     "base_uri": "https://localhost:8080/",
     "height": 424
    },
    "id": "XycNhvB7HBos",
    "outputId": "8df8dc34-e788-41f1-8e69-f6825c84302f"
   },
   "outputs": [
    {
     "data": {
      "text/html": [
       "<div>\n",
       "<style scoped>\n",
       "    .dataframe tbody tr th:only-of-type {\n",
       "        vertical-align: middle;\n",
       "    }\n",
       "\n",
       "    .dataframe tbody tr th {\n",
       "        vertical-align: top;\n",
       "    }\n",
       "\n",
       "    .dataframe thead th {\n",
       "        text-align: right;\n",
       "    }\n",
       "</style>\n",
       "<table border=\"1\" class=\"dataframe\">\n",
       "  <thead>\n",
       "    <tr style=\"text-align: right;\">\n",
       "      <th>palabra2</th>\n",
       "      <th>palabra1</th>\n",
       "      <th>abadía</th>\n",
       "      <th>abajo</th>\n",
       "      <th>abierta</th>\n",
       "      <th>abreme</th>\n",
       "      <th>abril</th>\n",
       "      <th>abrir</th>\n",
       "      <th>abrió</th>\n",
       "      <th>abría</th>\n",
       "      <th>abuelo</th>\n",
       "      <th>...</th>\n",
       "      <th>ycon</th>\n",
       "      <th>yooooooo</th>\n",
       "      <th>zona</th>\n",
       "      <th>ía</th>\n",
       "      <th>ímica</th>\n",
       "      <th>ñarural</th>\n",
       "      <th>ón</th>\n",
       "      <th>única</th>\n",
       "      <th>único</th>\n",
       "      <th>únicos</th>\n",
       "    </tr>\n",
       "  </thead>\n",
       "  <tbody>\n",
       "    <tr>\n",
       "      <th>0</th>\n",
       "      <td>abadía</td>\n",
       "      <td>0.0</td>\n",
       "      <td>0.0</td>\n",
       "      <td>0.0</td>\n",
       "      <td>0.0</td>\n",
       "      <td>0.0</td>\n",
       "      <td>0.0</td>\n",
       "      <td>0.0</td>\n",
       "      <td>0.0</td>\n",
       "      <td>0.0</td>\n",
       "      <td>...</td>\n",
       "      <td>0.0</td>\n",
       "      <td>0.0</td>\n",
       "      <td>0.0</td>\n",
       "      <td>0.0</td>\n",
       "      <td>0.0</td>\n",
       "      <td>0.0</td>\n",
       "      <td>0.0</td>\n",
       "      <td>0.0</td>\n",
       "      <td>0.0</td>\n",
       "      <td>0.0</td>\n",
       "    </tr>\n",
       "    <tr>\n",
       "      <th>1</th>\n",
       "      <td>abajo</td>\n",
       "      <td>0.0</td>\n",
       "      <td>0.0</td>\n",
       "      <td>0.0</td>\n",
       "      <td>0.0</td>\n",
       "      <td>0.0</td>\n",
       "      <td>0.0</td>\n",
       "      <td>0.0</td>\n",
       "      <td>0.0</td>\n",
       "      <td>0.0</td>\n",
       "      <td>...</td>\n",
       "      <td>0.0</td>\n",
       "      <td>0.0</td>\n",
       "      <td>0.0</td>\n",
       "      <td>0.0</td>\n",
       "      <td>0.0</td>\n",
       "      <td>0.0</td>\n",
       "      <td>0.0</td>\n",
       "      <td>0.0</td>\n",
       "      <td>0.0</td>\n",
       "      <td>0.0</td>\n",
       "    </tr>\n",
       "    <tr>\n",
       "      <th>2</th>\n",
       "      <td>abierta</td>\n",
       "      <td>0.0</td>\n",
       "      <td>0.0</td>\n",
       "      <td>0.0</td>\n",
       "      <td>0.0</td>\n",
       "      <td>0.0</td>\n",
       "      <td>0.0</td>\n",
       "      <td>0.0</td>\n",
       "      <td>0.0</td>\n",
       "      <td>0.0</td>\n",
       "      <td>...</td>\n",
       "      <td>0.0</td>\n",
       "      <td>0.0</td>\n",
       "      <td>0.0</td>\n",
       "      <td>0.0</td>\n",
       "      <td>0.0</td>\n",
       "      <td>0.0</td>\n",
       "      <td>0.0</td>\n",
       "      <td>0.0</td>\n",
       "      <td>0.0</td>\n",
       "      <td>0.0</td>\n",
       "    </tr>\n",
       "    <tr>\n",
       "      <th>3</th>\n",
       "      <td>abreme</td>\n",
       "      <td>0.0</td>\n",
       "      <td>0.0</td>\n",
       "      <td>0.0</td>\n",
       "      <td>0.0</td>\n",
       "      <td>0.0</td>\n",
       "      <td>0.0</td>\n",
       "      <td>0.0</td>\n",
       "      <td>0.0</td>\n",
       "      <td>0.0</td>\n",
       "      <td>...</td>\n",
       "      <td>0.0</td>\n",
       "      <td>0.0</td>\n",
       "      <td>0.0</td>\n",
       "      <td>0.0</td>\n",
       "      <td>0.0</td>\n",
       "      <td>0.0</td>\n",
       "      <td>0.0</td>\n",
       "      <td>0.0</td>\n",
       "      <td>0.0</td>\n",
       "      <td>0.0</td>\n",
       "    </tr>\n",
       "    <tr>\n",
       "      <th>4</th>\n",
       "      <td>abril</td>\n",
       "      <td>0.0</td>\n",
       "      <td>0.0</td>\n",
       "      <td>0.0</td>\n",
       "      <td>0.0</td>\n",
       "      <td>0.0</td>\n",
       "      <td>0.0</td>\n",
       "      <td>0.0</td>\n",
       "      <td>0.0</td>\n",
       "      <td>0.0</td>\n",
       "      <td>...</td>\n",
       "      <td>0.0</td>\n",
       "      <td>0.0</td>\n",
       "      <td>0.0</td>\n",
       "      <td>0.0</td>\n",
       "      <td>0.0</td>\n",
       "      <td>0.0</td>\n",
       "      <td>0.0</td>\n",
       "      <td>0.0</td>\n",
       "      <td>0.0</td>\n",
       "      <td>0.0</td>\n",
       "    </tr>\n",
       "    <tr>\n",
       "      <th>...</th>\n",
       "      <td>...</td>\n",
       "      <td>...</td>\n",
       "      <td>...</td>\n",
       "      <td>...</td>\n",
       "      <td>...</td>\n",
       "      <td>...</td>\n",
       "      <td>...</td>\n",
       "      <td>...</td>\n",
       "      <td>...</td>\n",
       "      <td>...</td>\n",
       "      <td>...</td>\n",
       "      <td>...</td>\n",
       "      <td>...</td>\n",
       "      <td>...</td>\n",
       "      <td>...</td>\n",
       "      <td>...</td>\n",
       "      <td>...</td>\n",
       "      <td>...</td>\n",
       "      <td>...</td>\n",
       "      <td>...</td>\n",
       "      <td>...</td>\n",
       "    </tr>\n",
       "    <tr>\n",
       "      <th>1004</th>\n",
       "      <td>ñarural</td>\n",
       "      <td>0.0</td>\n",
       "      <td>0.0</td>\n",
       "      <td>0.0</td>\n",
       "      <td>0.0</td>\n",
       "      <td>0.0</td>\n",
       "      <td>0.0</td>\n",
       "      <td>0.0</td>\n",
       "      <td>0.0</td>\n",
       "      <td>0.0</td>\n",
       "      <td>...</td>\n",
       "      <td>0.0</td>\n",
       "      <td>0.0</td>\n",
       "      <td>0.0</td>\n",
       "      <td>0.0</td>\n",
       "      <td>0.0</td>\n",
       "      <td>0.0</td>\n",
       "      <td>0.0</td>\n",
       "      <td>0.0</td>\n",
       "      <td>0.0</td>\n",
       "      <td>0.0</td>\n",
       "    </tr>\n",
       "    <tr>\n",
       "      <th>1005</th>\n",
       "      <td>ón</td>\n",
       "      <td>0.0</td>\n",
       "      <td>0.0</td>\n",
       "      <td>0.0</td>\n",
       "      <td>0.0</td>\n",
       "      <td>0.0</td>\n",
       "      <td>0.0</td>\n",
       "      <td>0.0</td>\n",
       "      <td>0.0</td>\n",
       "      <td>0.0</td>\n",
       "      <td>...</td>\n",
       "      <td>0.0</td>\n",
       "      <td>0.0</td>\n",
       "      <td>0.0</td>\n",
       "      <td>0.0</td>\n",
       "      <td>0.0</td>\n",
       "      <td>0.0</td>\n",
       "      <td>0.0</td>\n",
       "      <td>0.0</td>\n",
       "      <td>0.0</td>\n",
       "      <td>0.0</td>\n",
       "    </tr>\n",
       "    <tr>\n",
       "      <th>1006</th>\n",
       "      <td>única</td>\n",
       "      <td>0.0</td>\n",
       "      <td>0.0</td>\n",
       "      <td>0.0</td>\n",
       "      <td>0.0</td>\n",
       "      <td>0.0</td>\n",
       "      <td>0.0</td>\n",
       "      <td>0.0</td>\n",
       "      <td>0.0</td>\n",
       "      <td>0.0</td>\n",
       "      <td>...</td>\n",
       "      <td>0.0</td>\n",
       "      <td>0.0</td>\n",
       "      <td>0.0</td>\n",
       "      <td>0.0</td>\n",
       "      <td>0.0</td>\n",
       "      <td>0.0</td>\n",
       "      <td>0.0</td>\n",
       "      <td>0.0</td>\n",
       "      <td>0.0</td>\n",
       "      <td>0.0</td>\n",
       "    </tr>\n",
       "    <tr>\n",
       "      <th>1007</th>\n",
       "      <td>único</td>\n",
       "      <td>0.0</td>\n",
       "      <td>0.0</td>\n",
       "      <td>0.0</td>\n",
       "      <td>0.0</td>\n",
       "      <td>0.0</td>\n",
       "      <td>0.0</td>\n",
       "      <td>0.0</td>\n",
       "      <td>0.0</td>\n",
       "      <td>0.0</td>\n",
       "      <td>...</td>\n",
       "      <td>0.0</td>\n",
       "      <td>0.0</td>\n",
       "      <td>0.0</td>\n",
       "      <td>0.0</td>\n",
       "      <td>0.0</td>\n",
       "      <td>0.0</td>\n",
       "      <td>0.0</td>\n",
       "      <td>0.0</td>\n",
       "      <td>0.0</td>\n",
       "      <td>0.0</td>\n",
       "    </tr>\n",
       "    <tr>\n",
       "      <th>1008</th>\n",
       "      <td>únicos</td>\n",
       "      <td>0.0</td>\n",
       "      <td>0.0</td>\n",
       "      <td>0.0</td>\n",
       "      <td>0.0</td>\n",
       "      <td>0.0</td>\n",
       "      <td>0.0</td>\n",
       "      <td>0.0</td>\n",
       "      <td>0.0</td>\n",
       "      <td>0.0</td>\n",
       "      <td>...</td>\n",
       "      <td>0.0</td>\n",
       "      <td>0.0</td>\n",
       "      <td>0.0</td>\n",
       "      <td>0.0</td>\n",
       "      <td>0.0</td>\n",
       "      <td>0.0</td>\n",
       "      <td>0.0</td>\n",
       "      <td>0.0</td>\n",
       "      <td>0.0</td>\n",
       "      <td>0.0</td>\n",
       "    </tr>\n",
       "  </tbody>\n",
       "</table>\n",
       "<p>1009 rows × 1009 columns</p>\n",
       "</div>"
      ],
      "text/plain": [
       "palabra2 palabra1  abadía  abajo  abierta  abreme  abril  abrir  abrió  abría  \\\n",
       "0          abadía     0.0    0.0      0.0     0.0    0.0    0.0    0.0    0.0   \n",
       "1           abajo     0.0    0.0      0.0     0.0    0.0    0.0    0.0    0.0   \n",
       "2         abierta     0.0    0.0      0.0     0.0    0.0    0.0    0.0    0.0   \n",
       "3          abreme     0.0    0.0      0.0     0.0    0.0    0.0    0.0    0.0   \n",
       "4           abril     0.0    0.0      0.0     0.0    0.0    0.0    0.0    0.0   \n",
       "...           ...     ...    ...      ...     ...    ...    ...    ...    ...   \n",
       "1004      ñarural     0.0    0.0      0.0     0.0    0.0    0.0    0.0    0.0   \n",
       "1005           ón     0.0    0.0      0.0     0.0    0.0    0.0    0.0    0.0   \n",
       "1006        única     0.0    0.0      0.0     0.0    0.0    0.0    0.0    0.0   \n",
       "1007        único     0.0    0.0      0.0     0.0    0.0    0.0    0.0    0.0   \n",
       "1008       únicos     0.0    0.0      0.0     0.0    0.0    0.0    0.0    0.0   \n",
       "\n",
       "palabra2  abuelo  ...  ycon  yooooooo  zona   ía  ímica  ñarural   ón  única  \\\n",
       "0            0.0  ...   0.0       0.0   0.0  0.0    0.0      0.0  0.0    0.0   \n",
       "1            0.0  ...   0.0       0.0   0.0  0.0    0.0      0.0  0.0    0.0   \n",
       "2            0.0  ...   0.0       0.0   0.0  0.0    0.0      0.0  0.0    0.0   \n",
       "3            0.0  ...   0.0       0.0   0.0  0.0    0.0      0.0  0.0    0.0   \n",
       "4            0.0  ...   0.0       0.0   0.0  0.0    0.0      0.0  0.0    0.0   \n",
       "...          ...  ...   ...       ...   ...  ...    ...      ...  ...    ...   \n",
       "1004         0.0  ...   0.0       0.0   0.0  0.0    0.0      0.0  0.0    0.0   \n",
       "1005         0.0  ...   0.0       0.0   0.0  0.0    0.0      0.0  0.0    0.0   \n",
       "1006         0.0  ...   0.0       0.0   0.0  0.0    0.0      0.0  0.0    0.0   \n",
       "1007         0.0  ...   0.0       0.0   0.0  0.0    0.0      0.0  0.0    0.0   \n",
       "1008         0.0  ...   0.0       0.0   0.0  0.0    0.0      0.0  0.0    0.0   \n",
       "\n",
       "palabra2  único  únicos  \n",
       "0           0.0     0.0  \n",
       "1           0.0     0.0  \n",
       "2           0.0     0.0  \n",
       "3           0.0     0.0  \n",
       "4           0.0     0.0  \n",
       "...         ...     ...  \n",
       "1004        0.0     0.0  \n",
       "1005        0.0     0.0  \n",
       "1006        0.0     0.0  \n",
       "1007        0.0     0.0  \n",
       "1008        0.0     0.0  \n",
       "\n",
       "[1009 rows x 1009 columns]"
      ]
     },
     "execution_count": 96,
     "metadata": {},
     "output_type": "execute_result"
    }
   ],
   "source": [
    "coocur=init_pmi.pivot(index=\"palabra1\",columns=\"palabra2\") #pivot en filas y columnas\n",
    "coocur=coocur['puntaje'].reset_index() #medida-puntaje\n",
    "coocurt=coocur.fillna(0) #reemplazar nulos por ceros\n",
    "\n",
    "coocurt"
   ]
  },
  {
   "cell_type": "markdown",
   "metadata": {
    "id": "sIvsyA24NO79"
   },
   "source": [
    "**Encontrar similitudes de palabras**"
   ]
  },
  {
   "cell_type": "markdown",
   "metadata": {
    "id": "MrPdHAAENWer"
   },
   "source": [
    "Con la matriz de co-ocurrencias podemos calcular la similitud entre palabras, tomaremos por ejemplo, vamos a encontrar la palabra que semanticamente se parezaca mas a cerveza."
   ]
  },
  {
   "cell_type": "code",
   "execution_count": 97,
   "metadata": {
    "colab": {
     "base_uri": "https://localhost:8080/"
    },
    "id": "hEvkZI57M1Fj",
    "outputId": "1203fcb8-7f7d-452d-f471-b10bbbdfe8fe"
   },
   "outputs": [
    {
     "data": {
      "text/plain": [
       "197"
      ]
     },
     "execution_count": 97,
     "metadata": {},
     "output_type": "execute_result"
    }
   ],
   "source": [
    "word_location=coocurt.columns.get_loc(\"cerveza\") #ubicacion en la matriz de la palabra cerveza\n",
    "word_location"
   ]
  },
  {
   "cell_type": "code",
   "execution_count": 98,
   "metadata": {
    "colab": {
     "base_uri": "https://localhost:8080/",
     "height": 35
    },
    "id": "oocw5i7XN437",
    "outputId": "df4ee20e-de97-4b43-85f1-1cd62c9f0696"
   },
   "outputs": [
    {
     "data": {
      "text/plain": [
       "'sabiduría'"
      ]
     },
     "execution_count": 98,
     "metadata": {},
     "output_type": "execute_result"
    }
   ],
   "source": [
    "import numpy as np\n",
    "\n",
    "a1=coocurt.iloc[:,1:].transpose()\n",
    "b1=coocurt[\"dios\"].to_frame().transpose() #vector con la palabra de interes-cerveza\n",
    "\n",
    "#excluir del calculo la misma palabra\n",
    "a1=a1[~a1.index.isin([\"dios\"])]\n",
    "\n",
    "#calculo de la distancia de similitud del coseno del vector de interes\n",
    "distancia=cosine_similarity(a1,b1)\n",
    "\n",
    "\n",
    "#encontrar la palabra que mas se parezca semanticamente\n",
    "coocurt.columns[np.argmax(distancia)+1]\n"
   ]
  },
  {
   "cell_type": "markdown",
   "metadata": {
    "id": "K8BVZx08nvIU"
   },
   "source": [
    "la palabra con mayor similitud semantica a dios (palabra policemica) es a sabiduria"
   ]
  },
  {
   "cell_type": "markdown",
   "metadata": {
    "id": "WyQtSX_ZrBxK"
   },
   "source": [
    "##Word embeddings\n",
    "\n",
    "La similitud en terminos semanticos es posible mejorarla atraves de una red neuronal. \n",
    "\n",
    "Podemos entrenar una red neuronal para predecir una palabra a partir de las palabras que la rodean.Wn este caso con una sola capa intermedia. Los pesos de la capa final serán la representación vectorial del elemento del vocabulario (palabra). Vamos a usar gensim, y dentro de él, la estrategia Word2vec"
   ]
  },
  {
   "cell_type": "code",
   "execution_count": 99,
   "metadata": {
    "colab": {
     "base_uri": "https://localhost:8080/"
    },
    "id": "Oe4YGzijrnLp",
    "outputId": "69c067f3-f61a-4ff5-b803-c1efdd8d2d6c"
   },
   "outputs": [
    {
     "name": "stdout",
     "output_type": "stream",
     "text": [
      "[['fastidie', 'gusta', 'beber', 'dw', 'alcohol', 'cerveza'], ['quisiera', 'gustara', 'cerveza', 'nomás'], ['escribo', 'bebido', 'litro', 'cerveza', 'ingesta', 'previa', 'alimento', 'sorry', 'not', 'sorry'], ['cerveza', 'vino', 'whisky', 'helado'], ['taza', 'café', 'oz', 'vaso', 'termico', 'café', 'termo', 'doble', 'pared', 'aislamiento', 'vacío', 'acero', 'inoxidable', 'tapa', 'prueba', 'fugas', 'taza', 'reutilizable', 'ecológica', 'café', 'té', 'cervezabl']]\n"
     ]
    },
    {
     "name": "stderr",
     "output_type": "stream",
     "text": [
      "[nltk_data] Downloading package stopwords to /Users/habi/nltk_data...\n",
      "[nltk_data]   Package stopwords is already up-to-date!\n"
     ]
    }
   ],
   "source": [
    "#importar modelo word2vec\n",
    "from gensim.models import Word2Vec\n",
    "\n",
    "#importar stopwords de nltk\n",
    "nltk.download(\"stopwords\")\n",
    "from nltk.corpus import stopwords\n",
    "misstop2=stopwords.words(\"spanish\")\n",
    "\n",
    "#tokenizar cada tweet\n",
    "lista_tokenizada=[]\n",
    "for tw in tweets2:\n",
    "  temp=re.sub(r'[^\\w\\s]',\"\",tw) #eliminar signos de puntuaciones\n",
    "  risas=['ajá','jaj','jaja','jajaja','jajajaj','jajajaja','jajajajaja','jajajajajaja','jajajajajajaja','jejejeje','jjajajaja']\n",
    "  temp2=re.sub(r'|'.join(risas),'',temp) #eliminar risas\n",
    "  temp3=re.sub (\" +\",\" \",temp2) #eliminar doble espacios\n",
    "  temp4=nltk.tokenize.word_tokenize(temp3,language=\"spanish\")\n",
    "  temp5=[word for word in temp4 if word not in misstop2]\n",
    "  lista_tokenizada.append(temp5)\n",
    "\n",
    "print(lista_tokenizada[0:5])"
   ]
  },
  {
   "cell_type": "code",
   "execution_count": 178,
   "metadata": {
    "colab": {
     "base_uri": "https://localhost:8080/"
    },
    "id": "I6JqPiLGvvzo",
    "outputId": "a2d82aa9-65c4-4cd7-9cc5-6db79bef5e1a"
   },
   "outputs": [
    {
     "data": {
      "text/plain": [
       "array([-9.0541434e-05, -4.9350998e-05,  3.0874417e-05, ...,\n",
       "        9.9061719e-05, -7.7125333e-05, -4.7349069e-05], dtype=float32)"
      ]
     },
     "execution_count": 178,
     "metadata": {},
     "output_type": "execute_result"
    }
   ],
   "source": [
    "#tamaño del vector size 10000\n",
    "#window analiza 5 palabras que la rodean, tomando desde una capa intermedia\n",
    "#otros parametros min_count\n",
    "model_tweets=Word2Vec(lista_tokenizada,vector_size = 10000, window = 6, seed= 8888)\n",
    "\n",
    "\n",
    "\n",
    "#ver el vector de una palabra\n",
    "#model_tweets[\"cerveza\"]\n",
    "model_tweets.wv['cerveza']\n",
    "#9999\n",
    "#array([-2.5131398e-05,  3.3465432e-05,  4.6230274e-05, ...,\n",
    "#        2.6696049e-05, -9.9135295e-06, -1.3865269e-05], dtype=float32)"
   ]
  },
  {
   "cell_type": "markdown",
   "metadata": {
    "id": "J2KHObGwsf7I"
   },
   "source": [
    "**Encontrar similitudes por palabra**"
   ]
  },
  {
   "cell_type": "markdown",
   "metadata": {
    "id": "GxRbnqzUwfCg"
   },
   "source": [
    "Encontrar el top 10 de palabras mas similares a cerveza"
   ]
  },
  {
   "cell_type": "code",
   "execution_count": 179,
   "metadata": {
    "colab": {
     "base_uri": "https://localhost:8080/"
    },
    "id": "pA98qEwbwYl3",
    "outputId": "6ef08c0b-3e91-4be7-c904-380ab2c2a5a3"
   },
   "outputs": [
    {
     "data": {
      "text/plain": [
       "[('queda', 0.012265953235328197),\n",
       " ('fría', 0.011019174009561539),\n",
       " ('beber', 0.00838016252964735),\n",
       " ('mañana', 0.007824812084436417),\n",
       " ('tomar', 0.007523630745708942),\n",
       " ('casa', 0.0023849885910749435),\n",
       " ('años', 0.0018849287880584598),\n",
       " ('vida', 0.001052841660566628),\n",
       " ('vino', 0.0008501168922521174),\n",
       " ('café', 0.0005827879649586976)]"
      ]
     },
     "execution_count": 179,
     "metadata": {},
     "output_type": "execute_result"
    }
   ],
   "source": [
    "#similitud=model_tweets.similar_by_word(\"cerveza\", topn=10)\n",
    "similitud=model_tweets.wv.similar_by_word(\"cerveza\", topn=10)\n",
    "similitud"
   ]
  },
  {
   "cell_type": "markdown",
   "metadata": {
    "id": "QcHUU28-yOiA"
   },
   "source": [
    "vemos que la palabra cerveza es asociada con:\n",
    "- tomar/tomo/beber : acciones para ingerir bebida.\n",
    "- alcohol/vino/café: otro tipo de bebida que puede ser complemento.\n",
    "- fria: temperatura de preferencia de la bebida.\n",
    "- comida: pueder ser complemento a las bebidas.\n",
    "- mañana/años: unidad de tiempo.\n",
    "\n"
   ]
  },
  {
   "cell_type": "code",
   "execution_count": 172,
   "metadata": {
    "colab": {
     "base_uri": "https://localhost:8080/"
    },
    "id": "xAoDKyQK64j6",
    "outputId": "a1ecf409-684e-4fb5-8aca-76ede3ab9017"
   },
   "outputs": [
    {
     "data": {
      "text/plain": [
       "[('vino', 0.020487718284130096),\n",
       " ('fría', 0.0066297645680606365),\n",
       " ('tomar', 0.0060135372914373875),\n",
       " ('gusta', 0.005993514787405729),\n",
       " ('casa', 0.004786510951817036),\n",
       " ('años', 0.004485136829316616),\n",
       " ('queda', 0.0006627704715356231),\n",
       " ('tomo', -0.0002210841776104644),\n",
       " ('café', -0.002345547080039978),\n",
       " ('mañana', -0.004001625347882509)]"
      ]
     },
     "execution_count": 172,
     "metadata": {},
     "output_type": "execute_result"
    }
   ],
   "source": [
    "#similitud3=model_tweets.similar_by_word(\"alcohol\", topn=10)\n",
    "similitud3=model_tweets.wv.similar_by_word(\"alcohol\", topn=10)\n",
    "similitud3"
   ]
  },
  {
   "cell_type": "markdown",
   "metadata": {
    "id": "UXh0BvG-63Sm"
   },
   "source": [
    "y para alcohol hay similitudes con cerveza,comida,vino café. Claramente se ve una asoacion fuerte de bebidas."
   ]
  },
  {
   "cell_type": "code",
   "execution_count": 75,
   "metadata": {
    "colab": {
     "base_uri": "https://localhost:8080/"
    },
    "id": "6r-nKlG8qEkm",
    "outputId": "5a6234fc-4420-47b7-a1ce-fe3cd7981f1e"
   },
   "outputs": [
    {
     "data": {
      "text/plain": [
       "[('cerveza', 0.012993039563298225),\n",
       " ('tomar', 0.010022895410656929),\n",
       " ('beber', 0.009143494069576263),\n",
       " ('mañana', 0.00732403714209795),\n",
       " ('vida', 0.0049490779638290405),\n",
       " ('tomo', 0.0037439356092363596),\n",
       " ('fría', -0.001500725862570107),\n",
       " ('años', -0.0016843240009620786),\n",
       " ('mundo', -0.0018104270566254854),\n",
       " ('gusta', -0.004229819402098656)]"
      ]
     },
     "execution_count": 75,
     "metadata": {},
     "output_type": "execute_result"
    }
   ],
   "source": [
    "#similitud4=model_tweets.similar_by_word(\"vino\", topn=10)\n",
    "similitud4=model_tweets.wv.similar_by_word(\"vino\", topn=10)\n",
    "similitud4"
   ]
  },
  {
   "cell_type": "markdown",
   "metadata": {
    "id": "LbRBj9qLqKef"
   },
   "source": [
    "al revisar vino vemos que hay una fuerte relacion con cerveza y comida."
   ]
  },
  {
   "cell_type": "markdown",
   "metadata": {
    "id": "VsiWi5Pk3D86"
   },
   "source": [
    "**Similitud por relacion-Analogias**"
   ]
  },
  {
   "cell_type": "code",
   "execution_count": 76,
   "metadata": {
    "colab": {
     "base_uri": "https://localhost:8080/"
    },
    "id": "1eouIGkX3I96",
    "outputId": "176ea289-f989-46dc-cd7b-6c625ca53b04"
   },
   "outputs": [
    {
     "data": {
      "text/plain": [
       "[('tomo', 0.018296679481863976),\n",
       " ('vida', 0.0141275180503726),\n",
       " ('tomar', 0.011556588113307953),\n",
       " ('comida', -0.0011302721686661243),\n",
       " ('beber', -0.0012817791430279613),\n",
       " ('mañana', -0.001492691459134221),\n",
       " ('café', -0.0045378077775239944),\n",
       " ('mundo', -0.005031654145568609),\n",
       " ('fría', -0.010016980580985546),\n",
       " ('gusta', -0.010111134499311447)]"
      ]
     },
     "execution_count": 76,
     "metadata": {},
     "output_type": "execute_result"
    }
   ],
   "source": [
    "##similitudes en relación\n",
    "#analogia1=model_tweets.most_similar(positive=[\"cerveza\", \"vino\"],negative=[\"alcohol\"], topn=10, restrict_vocab=300000)\n",
    "analogia1=model_tweets.wv.most_similar(positive=[\"cerveza\", \"vino\"],negative=[\"alcohol\"], topn=10, restrict_vocab=300000)\n",
    "analogia1"
   ]
  },
  {
   "cell_type": "markdown",
   "metadata": {
    "id": "Ki4BNWol3ho6"
   },
   "source": [
    "la cerveza es al alcohol como el vino es al cafe y a la comida."
   ]
  },
  {
   "cell_type": "code",
   "execution_count": 79,
   "metadata": {
    "colab": {
     "base_uri": "https://localhost:8080/"
    },
    "id": "ceqCrPk8vuI1",
    "outputId": "30fc4508-eeae-46fd-e63e-98d09024608f"
   },
   "outputs": [
    {
     "data": {
      "text/plain": [
       "[('beber', 0.0196091141551733),\n",
       " ('casa', 0.013365698978304863),\n",
       " ('alcohol', 0.011482329107820988),\n",
       " ('mundo', 0.0029600507114082575),\n",
       " ('fría', 0.0026656656991690397),\n",
       " ('gusta', 0.0026307443622499704),\n",
       " ('años', -0.00012584368232637644),\n",
       " ('café', -0.002724679419770837),\n",
       " ('vino', -0.004020973574370146),\n",
       " ('queda', -0.004095642827451229)]"
      ]
     },
     "execution_count": 79,
     "metadata": {},
     "output_type": "execute_result"
    }
   ],
   "source": [
    "##similitudes en relación\n",
    "#analogia2=model_tweets.most_similar(positive=[\"mañana\"],negative=[\"cerveza\"], topn=10, restrict_vocab=300000)\n",
    "analogia2=model_tweets.wv.most_similar(positive=[\"mañana\"],negative=[\"cerveza\"], topn=10, restrict_vocab=300000)\n",
    "analogia2"
   ]
  },
  {
   "cell_type": "markdown",
   "metadata": {
    "id": "vc2Spg-8w1HU"
   },
   "source": [
    "si mañana no se bebe cerveza se bebe alcohol/vino/café, es decir, hay plan fijo."
   ]
  },
  {
   "cell_type": "markdown",
   "metadata": {
    "id": "ch7eolS1sqgt"
   },
   "source": [
    "**Grafico de Similitudes por Palabra-T-SNE**"
   ]
  },
  {
   "cell_type": "markdown",
   "metadata": {
    "id": "ZqEDXmV4uH24"
   },
   "source": [
    "Otra aplicación es visualizar grupos de palabras por similitudes. Con T-SNE hago una reducción de dimensiones basada en teoría de la información y puedo obtener una representación bidimensional de palabras para ser comparadas."
   ]
  },
  {
   "cell_type": "code",
   "execution_count": 90,
   "metadata": {
    "colab": {
     "base_uri": "https://localhost:8080/"
    },
    "id": "oK2Eq4sxtr4H",
    "outputId": "062f6780-dfaa-4b84-c203-329c9e97b701"
   },
   "outputs": [
    {
     "name": "stderr",
     "output_type": "stream",
     "text": [
      "/Users/habi/opt/anaconda3/envs/jave/lib/python3.8/site-packages/sklearn/manifold/_t_sne.py:800: FutureWarning: The default initialization in TSNE will change from 'random' to 'pca' in 1.2.\n",
      "  warnings.warn(\n",
      "/Users/habi/opt/anaconda3/envs/jave/lib/python3.8/site-packages/sklearn/manifold/_t_sne.py:810: FutureWarning: The default learning rate in TSNE will change from 200.0 to 'auto' in 1.2.\n",
      "  warnings.warn(\n"
     ]
    }
   ],
   "source": [
    "#importar libreria\n",
    "from sklearn import manifold\n",
    "\n",
    "#importar la clase TSNE\n",
    "tsne=sklearn.manifold.TSNE(perplexity=3, random_state= 5555)\n",
    "\n",
    "#tomar las 30 palabras mas similares semanticamente a cerveza y cuya similitud sea positiva\n",
    "#similitud_cerveza=model_tweets.similar_by_word(\"cerveza\", topn=30)\n",
    "similitud_cerveza=model_tweets.wv.similar_by_word(\"cerveza\", topn=30)\n",
    "\n",
    "cerveza_similares=[]\n",
    "\n",
    "for i in range(len(similitud_cerveza)):\n",
    "  if similitud_cerveza[i][1]>0:\n",
    "    temp=similitud_cerveza[i][0]\n",
    "    cerveza_similares.append(temp)\n",
    "\n",
    "#vectores de las palabras similares a cerveza\n",
    "#vectors=model_tweets[cerveza_similares]\n",
    "vectors=model_tweets.wv[cerveza_similares]\n",
    "\n",
    "#reducir dimensionalidad por componentes con tsne.\n",
    "reduccion=tsne.fit_transform(vectors)"
   ]
  },
  {
   "cell_type": "markdown",
   "metadata": {
    "id": "Hh1TkffExeEI"
   },
   "source": [
    "Ver composicion de cada componente."
   ]
  },
  {
   "cell_type": "code",
   "execution_count": 91,
   "metadata": {
    "colab": {
     "base_uri": "https://localhost:8080/",
     "height": 300
    },
    "id": "-jw9n3rKxVXI",
    "outputId": "403820ca-c315-42cc-fefb-074d1b4d8ba0"
   },
   "outputs": [
    {
     "data": {
      "text/html": [
       "<div>\n",
       "<style scoped>\n",
       "    .dataframe tbody tr th:only-of-type {\n",
       "        vertical-align: middle;\n",
       "    }\n",
       "\n",
       "    .dataframe tbody tr th {\n",
       "        vertical-align: top;\n",
       "    }\n",
       "\n",
       "    .dataframe thead th {\n",
       "        text-align: right;\n",
       "    }\n",
       "</style>\n",
       "<table border=\"1\" class=\"dataframe\">\n",
       "  <thead>\n",
       "    <tr style=\"text-align: right;\">\n",
       "      <th></th>\n",
       "      <th>primer_componente</th>\n",
       "      <th>segundo_componente</th>\n",
       "      <th>nombres</th>\n",
       "    </tr>\n",
       "  </thead>\n",
       "  <tbody>\n",
       "    <tr>\n",
       "      <th>0</th>\n",
       "      <td>-81.125404</td>\n",
       "      <td>-50.947762</td>\n",
       "      <td>tomar</td>\n",
       "    </tr>\n",
       "    <tr>\n",
       "      <th>1</th>\n",
       "      <td>208.398132</td>\n",
       "      <td>-15.888035</td>\n",
       "      <td>tomo</td>\n",
       "    </tr>\n",
       "    <tr>\n",
       "      <th>2</th>\n",
       "      <td>-55.849743</td>\n",
       "      <td>60.930927</td>\n",
       "      <td>vida</td>\n",
       "    </tr>\n",
       "    <tr>\n",
       "      <th>3</th>\n",
       "      <td>79.056374</td>\n",
       "      <td>82.522789</td>\n",
       "      <td>vino</td>\n",
       "    </tr>\n",
       "    <tr>\n",
       "      <th>4</th>\n",
       "      <td>41.854130</td>\n",
       "      <td>246.104584</td>\n",
       "      <td>mañana</td>\n",
       "    </tr>\n",
       "    <tr>\n",
       "      <th>5</th>\n",
       "      <td>-428.719879</td>\n",
       "      <td>97.569603</td>\n",
       "      <td>comida</td>\n",
       "    </tr>\n",
       "    <tr>\n",
       "      <th>6</th>\n",
       "      <td>-327.359283</td>\n",
       "      <td>148.255920</td>\n",
       "      <td>café</td>\n",
       "    </tr>\n",
       "  </tbody>\n",
       "</table>\n",
       "</div>"
      ],
      "text/plain": [
       "   primer_componente  segundo_componente nombres\n",
       "0         -81.125404          -50.947762   tomar\n",
       "1         208.398132          -15.888035    tomo\n",
       "2         -55.849743           60.930927    vida\n",
       "3          79.056374           82.522789    vino\n",
       "4          41.854130          246.104584  mañana\n",
       "5        -428.719879           97.569603  comida\n",
       "6        -327.359283          148.255920    café"
      ]
     },
     "metadata": {},
     "output_type": "display_data"
    }
   ],
   "source": [
    "base=pd.DataFrame()\n",
    "base[\"primer_componente\"]=reduccion[:,0]\n",
    "base[\"segundo_componente\"]=reduccion[:,1]\n",
    "base[\"nombres\"]=cerveza_similares\n",
    "display(base)"
   ]
  },
  {
   "cell_type": "code",
   "execution_count": 92,
   "metadata": {},
   "outputs": [
    {
     "data": {
      "image/png": "[encoded data removed]",
      "text/plain": [
       "<Figure size 640x480 with 1 Axes>"
      ]
     },
     "metadata": {},
     "output_type": "display_data"
    }
   ],
   "source": [
    "graf1=sns.scatterplot(x=\"primer_componente\", y=\"segundo_componente\", data=base)\n",
    "\n",
    "for line in range(0,base.shape[0]):\n",
    "     graf1.text(base.primer_componente[line]+0.01, base.segundo_componente[line], \n",
    "     base.nombres[line], horizontalalignment='left', \n",
    "     size='medium', color='black', weight='semibold')"
   ]
  },
  {
   "cell_type": "code",
   "execution_count": null,
   "metadata": {
    "colab": {
     "base_uri": "https://localhost:8080/",
     "height": 304
    },
    "id": "YzL9Q1Xxxm-J",
    "outputId": "6a8f7ac1-b5ca-4a95-9e93-ac5d419ec4e8"
   },
   "outputs": [
    {
     "data": {
      "image/png": "[encoded data removed]",
      "text/plain": [
       "<Figure size 432x288 with 1 Axes>"
      ]
     },
     "metadata": {},
     "output_type": "display_data"
    }
   ],
   "source": [
    "graf1=sns.scatterplot(x=\"primer_componente\", y=\"segundo_componente\", data=base)\n",
    "\n",
    "for line in range(0,base.shape[0]):\n",
    "     graf1.text(base.primer_componente[line]+0.01, base.segundo_componente[line], \n",
    "     base.nombres[line], horizontalalignment='left', \n",
    "     size='medium', color='black', weight='semibold')"
   ]
  },
  {
   "cell_type": "markdown",
   "metadata": {
    "id": "cI0H3iQTUv_k"
   },
   "source": [
    "Del grafico se puede deducir los siguientes cluster:\n",
    "- Cluster 1: vino-fria-casa.\n",
    "- Cluster 2: comida-mañana.\n",
    "- Cluster 3: alcohol-beber-tomo.\n",
    "\n",
    "De lo anterior se puede inferir que:\n",
    "- Hay asociacion de bebidas a un lugar (casa).\n",
    "- Un evento (comida) en el tiempo (mañana).\n",
    "- accion(beber/tomo) de una bebida (alcohol)."
   ]
  },
  {
   "cell_type": "markdown",
   "metadata": {
    "id": "eW2xu-J-WFCF"
   },
   "source": [
    "**Grafico de similitudes por palabra - base de datos \"SBW-vectors-300-min5.bin.gz\"**"
   ]
  },
  {
   "cell_type": "markdown",
   "metadata": {
    "id": "1ytjaadRRnN-"
   },
   "source": [
    "Apartir del corpus \"SBW-vectors-300-min5.bin.gz\" se pretende hacer una clusterizacion de la palabras claves que aparecieron en cada uno de los cluster"
   ]
  },
  {
   "cell_type": "code",
   "execution_count": null,
   "metadata": {
    "colab": {
     "base_uri": "https://localhost:8080/",
     "height": 1000
    },
    "id": "V3Jt5zGcWYA_",
    "outputId": "7721f675-9071-4c02-cc7e-4fbe75aed784"
   },
   "outputs": [
    {
     "name": "stderr",
     "output_type": "stream",
     "text": [
      "/usr/local/lib/python3.7/dist-packages/sklearn/manifold/_t_sne.py:783: FutureWarning: The default initialization in TSNE will change from 'random' to 'pca' in 1.2.\n",
      "  FutureWarning,\n",
      "/usr/local/lib/python3.7/dist-packages/sklearn/manifold/_t_sne.py:793: FutureWarning: The default learning rate in TSNE will change from 200.0 to 'auto' in 1.2.\n",
      "  FutureWarning,\n"
     ]
    },
    {
     "data": {
      "text/html": [
       "\n",
       "  <div id=\"df-85479ab2-9407-4542-927a-a08a4ece003a\">\n",
       "    <div class=\"colab-df-container\">\n",
       "      <div>\n",
       "<style scoped>\n",
       "    .dataframe tbody tr th:only-of-type {\n",
       "        vertical-align: middle;\n",
       "    }\n",
       "\n",
       "    .dataframe tbody tr th {\n",
       "        vertical-align: top;\n",
       "    }\n",
       "\n",
       "    .dataframe thead th {\n",
       "        text-align: right;\n",
       "    }\n",
       "</style>\n",
       "<table border=\"1\" class=\"dataframe\">\n",
       "  <thead>\n",
       "    <tr style=\"text-align: right;\">\n",
       "      <th></th>\n",
       "      <th>primer_componente</th>\n",
       "      <th>segundo_componente</th>\n",
       "      <th>nombres</th>\n",
       "    </tr>\n",
       "  </thead>\n",
       "  <tbody>\n",
       "    <tr>\n",
       "      <th>0</th>\n",
       "      <td>57.680920</td>\n",
       "      <td>43.048954</td>\n",
       "      <td>vender</td>\n",
       "    </tr>\n",
       "    <tr>\n",
       "      <th>1</th>\n",
       "      <td>96.372887</td>\n",
       "      <td>-472.038086</td>\n",
       "      <td>comida</td>\n",
       "    </tr>\n",
       "    <tr>\n",
       "      <th>2</th>\n",
       "      <td>-278.845215</td>\n",
       "      <td>101.228493</td>\n",
       "      <td>hombre</td>\n",
       "    </tr>\n",
       "    <tr>\n",
       "      <th>3</th>\n",
       "      <td>260.257355</td>\n",
       "      <td>-29.972309</td>\n",
       "      <td>café</td>\n",
       "    </tr>\n",
       "    <tr>\n",
       "      <th>4</th>\n",
       "      <td>-188.270538</td>\n",
       "      <td>122.244118</td>\n",
       "      <td>casa</td>\n",
       "    </tr>\n",
       "    <tr>\n",
       "      <th>5</th>\n",
       "      <td>-346.603821</td>\n",
       "      <td>127.132195</td>\n",
       "      <td>señor</td>\n",
       "    </tr>\n",
       "    <tr>\n",
       "      <th>6</th>\n",
       "      <td>-105.620461</td>\n",
       "      <td>-206.846741</td>\n",
       "      <td>fría</td>\n",
       "    </tr>\n",
       "    <tr>\n",
       "      <th>7</th>\n",
       "      <td>146.048508</td>\n",
       "      <td>300.720215</td>\n",
       "      <td>gusta</td>\n",
       "    </tr>\n",
       "    <tr>\n",
       "      <th>8</th>\n",
       "      <td>46.213696</td>\n",
       "      <td>-376.786072</td>\n",
       "      <td>agua</td>\n",
       "    </tr>\n",
       "    <tr>\n",
       "      <th>9</th>\n",
       "      <td>184.767792</td>\n",
       "      <td>-506.088318</td>\n",
       "      <td>alcohol</td>\n",
       "    </tr>\n",
       "    <tr>\n",
       "      <th>10</th>\n",
       "      <td>-31.793388</td>\n",
       "      <td>79.324196</td>\n",
       "      <td>tema</td>\n",
       "    </tr>\n",
       "    <tr>\n",
       "      <th>11</th>\n",
       "      <td>459.447174</td>\n",
       "      <td>33.781555</td>\n",
       "      <td>tomo</td>\n",
       "    </tr>\n",
       "    <tr>\n",
       "      <th>12</th>\n",
       "      <td>204.138245</td>\n",
       "      <td>-416.637878</td>\n",
       "      <td>vino</td>\n",
       "    </tr>\n",
       "    <tr>\n",
       "      <th>13</th>\n",
       "      <td>-34.983418</td>\n",
       "      <td>-75.684456</td>\n",
       "      <td>queda</td>\n",
       "    </tr>\n",
       "    <tr>\n",
       "      <th>14</th>\n",
       "      <td>43.752678</td>\n",
       "      <td>-149.229446</td>\n",
       "      <td>falta</td>\n",
       "    </tr>\n",
       "    <tr>\n",
       "      <th>15</th>\n",
       "      <td>244.822891</td>\n",
       "      <td>-429.620667</td>\n",
       "      <td>whisky</td>\n",
       "    </tr>\n",
       "    <tr>\n",
       "      <th>16</th>\n",
       "      <td>175.360413</td>\n",
       "      <td>-359.764648</td>\n",
       "      <td>vaso</td>\n",
       "    </tr>\n",
       "    <tr>\n",
       "      <th>17</th>\n",
       "      <td>432.069946</td>\n",
       "      <td>-19.271461</td>\n",
       "      <td>tomando</td>\n",
       "    </tr>\n",
       "    <tr>\n",
       "      <th>18</th>\n",
       "      <td>-332.286957</td>\n",
       "      <td>-17.136652</td>\n",
       "      <td>clase</td>\n",
       "    </tr>\n",
       "    <tr>\n",
       "      <th>19</th>\n",
       "      <td>-48.900169</td>\n",
       "      <td>10.341681</td>\n",
       "      <td>tiempo</td>\n",
       "    </tr>\n",
       "    <tr>\n",
       "      <th>20</th>\n",
       "      <td>-244.321671</td>\n",
       "      <td>4.684274</td>\n",
       "      <td>mundo</td>\n",
       "    </tr>\n",
       "    <tr>\n",
       "      <th>21</th>\n",
       "      <td>-127.887169</td>\n",
       "      <td>-132.942291</td>\n",
       "      <td>cara</td>\n",
       "    </tr>\n",
       "    <tr>\n",
       "      <th>22</th>\n",
       "      <td>393.492371</td>\n",
       "      <td>-14.969135</td>\n",
       "      <td>tomar</td>\n",
       "    </tr>\n",
       "    <tr>\n",
       "      <th>23</th>\n",
       "      <td>-72.366570</td>\n",
       "      <td>-111.514526</td>\n",
       "      <td>llega</td>\n",
       "    </tr>\n",
       "    <tr>\n",
       "      <th>24</th>\n",
       "      <td>138.988068</td>\n",
       "      <td>-37.980442</td>\n",
       "      <td>abrir</td>\n",
       "    </tr>\n",
       "    <tr>\n",
       "      <th>25</th>\n",
       "      <td>-278.889984</td>\n",
       "      <td>53.328075</td>\n",
       "      <td>vida</td>\n",
       "    </tr>\n",
       "    <tr>\n",
       "      <th>26</th>\n",
       "      <td>114.758728</td>\n",
       "      <td>333.984528</td>\n",
       "      <td>llevo</td>\n",
       "    </tr>\n",
       "    <tr>\n",
       "      <th>27</th>\n",
       "      <td>221.932693</td>\n",
       "      <td>306.313202</td>\n",
       "      <td>vas</td>\n",
       "    </tr>\n",
       "    <tr>\n",
       "      <th>28</th>\n",
       "      <td>-105.031227</td>\n",
       "      <td>27.158087</td>\n",
       "      <td>años</td>\n",
       "    </tr>\n",
       "    <tr>\n",
       "      <th>29</th>\n",
       "      <td>-135.797287</td>\n",
       "      <td>160.586578</td>\n",
       "      <td>mañana</td>\n",
       "    </tr>\n",
       "    <tr>\n",
       "      <th>30</th>\n",
       "      <td>-289.046814</td>\n",
       "      <td>178.473587</td>\n",
       "      <td>dios</td>\n",
       "    </tr>\n",
       "    <tr>\n",
       "      <th>31</th>\n",
       "      <td>1.457746</td>\n",
       "      <td>-19.148813</td>\n",
       "      <td>dejar</td>\n",
       "    </tr>\n",
       "    <tr>\n",
       "      <th>32</th>\n",
       "      <td>50.461674</td>\n",
       "      <td>-50.058098</td>\n",
       "      <td>duda</td>\n",
       "    </tr>\n",
       "    <tr>\n",
       "      <th>33</th>\n",
       "      <td>147.748154</td>\n",
       "      <td>-448.837982</td>\n",
       "      <td>beber</td>\n",
       "    </tr>\n",
       "  </tbody>\n",
       "</table>\n",
       "</div>\n",
       "      <button class=\"colab-df-convert\" onclick=\"convertToInteractive('df-85479ab2-9407-4542-927a-a08a4ece003a')\"\n",
       "              title=\"Convert this dataframe to an interactive table.\"\n",
       "              style=\"display:none;\">\n",
       "        \n",
       "  <svg xmlns=\"http://www.w3.org/2000/svg\" height=\"24px\"viewBox=\"0 0 24 24\"\n",
       "       width=\"24px\">\n",
       "    <path d=\"M0 0h24v24H0V0z\" fill=\"none\"/>\n",
       "    <path d=\"M18.56 5.44l.94 2.06.94-2.06 2.06-.94-2.06-.94-.94-2.06-.94 2.06-2.06.94zm-11 1L8.5 8.5l.94-2.06 2.06-.94-2.06-.94L8.5 2.5l-.94 2.06-2.06.94zm10 10l.94 2.06.94-2.06 2.06-.94-2.06-.94-.94-2.06-.94 2.06-2.06.94z\"/><path d=\"M17.41 7.96l-1.37-1.37c-.4-.4-.92-.59-1.43-.59-.52 0-1.04.2-1.43.59L10.3 9.45l-7.72 7.72c-.78.78-.78 2.05 0 2.83L4 21.41c.39.39.9.59 1.41.59.51 0 1.02-.2 1.41-.59l7.78-7.78 2.81-2.81c.8-.78.8-2.07 0-2.86zM5.41 20L4 18.59l7.72-7.72 1.47 1.35L5.41 20z\"/>\n",
       "  </svg>\n",
       "      </button>\n",
       "      \n",
       "  <style>\n",
       "    .colab-df-container {\n",
       "      display:flex;\n",
       "      flex-wrap:wrap;\n",
       "      gap: 12px;\n",
       "    }\n",
       "\n",
       "    .colab-df-convert {\n",
       "      background-color: #E8F0FE;\n",
       "      border: none;\n",
       "      border-radius: 50%;\n",
       "      cursor: pointer;\n",
       "      display: none;\n",
       "      fill: #1967D2;\n",
       "      height: 32px;\n",
       "      padding: 0 0 0 0;\n",
       "      width: 32px;\n",
       "    }\n",
       "\n",
       "    .colab-df-convert:hover {\n",
       "      background-color: #E2EBFA;\n",
       "      box-shadow: 0px 1px 2px rgba(60, 64, 67, 0.3), 0px 1px 3px 1px rgba(60, 64, 67, 0.15);\n",
       "      fill: #174EA6;\n",
       "    }\n",
       "\n",
       "    [theme=dark] .colab-df-convert {\n",
       "      background-color: #3B4455;\n",
       "      fill: #D2E3FC;\n",
       "    }\n",
       "\n",
       "    [theme=dark] .colab-df-convert:hover {\n",
       "      background-color: #434B5C;\n",
       "      box-shadow: 0px 1px 3px 1px rgba(0, 0, 0, 0.15);\n",
       "      filter: drop-shadow(0px 1px 2px rgba(0, 0, 0, 0.3));\n",
       "      fill: #FFFFFF;\n",
       "    }\n",
       "  </style>\n",
       "\n",
       "      <script>\n",
       "        const buttonEl =\n",
       "          document.querySelector('#df-85479ab2-9407-4542-927a-a08a4ece003a button.colab-df-convert');\n",
       "        buttonEl.style.display =\n",
       "          google.colab.kernel.accessAllowed ? 'block' : 'none';\n",
       "\n",
       "        async function convertToInteractive(key) {\n",
       "          const element = document.querySelector('#df-85479ab2-9407-4542-927a-a08a4ece003a');\n",
       "          const dataTable =\n",
       "            await google.colab.kernel.invokeFunction('convertToInteractive',\n",
       "                                                     [key], {});\n",
       "          if (!dataTable) return;\n",
       "\n",
       "          const docLinkHtml = 'Like what you see? Visit the ' +\n",
       "            '<a target=\"_blank\" href=https://colab.research.google.com/notebooks/data_table.ipynb>data table notebook</a>'\n",
       "            + ' to learn more about interactive tables.';\n",
       "          element.innerHTML = '';\n",
       "          dataTable['output_type'] = 'display_data';\n",
       "          await google.colab.output.renderOutput(dataTable, element);\n",
       "          const docLink = document.createElement('div');\n",
       "          docLink.innerHTML = docLinkHtml;\n",
       "          element.appendChild(docLink);\n",
       "        }\n",
       "      </script>\n",
       "    </div>\n",
       "  </div>\n",
       "  "
      ],
      "text/plain": [
       "    primer_componente  segundo_componente  nombres\n",
       "0           57.680920           43.048954   vender\n",
       "1           96.372887         -472.038086   comida\n",
       "2         -278.845215          101.228493   hombre\n",
       "3          260.257355          -29.972309     café\n",
       "4         -188.270538          122.244118     casa\n",
       "5         -346.603821          127.132195    señor\n",
       "6         -105.620461         -206.846741     fría\n",
       "7          146.048508          300.720215    gusta\n",
       "8           46.213696         -376.786072     agua\n",
       "9          184.767792         -506.088318  alcohol\n",
       "10         -31.793388           79.324196     tema\n",
       "11         459.447174           33.781555     tomo\n",
       "12         204.138245         -416.637878     vino\n",
       "13         -34.983418          -75.684456    queda\n",
       "14          43.752678         -149.229446    falta\n",
       "15         244.822891         -429.620667   whisky\n",
       "16         175.360413         -359.764648     vaso\n",
       "17         432.069946          -19.271461  tomando\n",
       "18        -332.286957          -17.136652    clase\n",
       "19         -48.900169           10.341681   tiempo\n",
       "20        -244.321671            4.684274    mundo\n",
       "21        -127.887169         -132.942291     cara\n",
       "22         393.492371          -14.969135    tomar\n",
       "23         -72.366570         -111.514526    llega\n",
       "24         138.988068          -37.980442    abrir\n",
       "25        -278.889984           53.328075     vida\n",
       "26         114.758728          333.984528    llevo\n",
       "27         221.932693          306.313202      vas\n",
       "28        -105.031227           27.158087     años\n",
       "29        -135.797287          160.586578   mañana\n",
       "30        -289.046814          178.473587     dios\n",
       "31           1.457746          -19.148813    dejar\n",
       "32          50.461674          -50.058098     duda\n",
       "33         147.748154         -448.837982    beber"
      ]
     },
     "metadata": {},
     "output_type": "display_data"
    }
   ],
   "source": [
    "#importar base de datos SBW-vectors-300-min5.bin.gz\n",
    "\n",
    "from gensim.models import KeyedVectors\n",
    "os.chdir(\"/content/drive/MyDrive/Maestria en Analitica I/Procesamiento del Lenguaje Natural/Archivos\")\n",
    "modelo = KeyedVectors.load_word2vec_format('SBW-vectors-300-min5.bin.gz', binary=True)\n",
    "\n",
    "#Modelar y aplicar componetes\n",
    "from sklearn import manifold\n",
    "tsne=sklearn.manifold.TSNE(perplexity=3)\n",
    "palabras=['vender', 'comida', 'hombre', 'café', 'casa', 'señor', 'fría', 'gusta',\n",
    "          'agua', 'alcohol', 'tema', 'tomo', 'vino', 'queda', 'falta', 'whisky', 'vaso', 'tomando',\n",
    "          'clase', 'tiempo', 'mundo', 'cara', 'tomar', 'llega', 'abrir', 'vida', 'llevo', 'vas', \n",
    "          'años', 'mañana', 'dios', 'dejar', 'duda', 'beber']\n",
    "\n",
    "vectors=modelo[palabras]\n",
    "reduccion=tsne.fit_transform(vectors)\n",
    "\n",
    "\n",
    "#Graficar Cluster\n",
    "base=pd.DataFrame()\n",
    "base[\"primer_componente\"]=reduccion[:,0]\n",
    "base[\"segundo_componente\"]=reduccion[:,1]\n",
    "base[\"nombres\"]=palabras\n",
    "display(base)\n",
    "\n"
   ]
  },
  {
   "cell_type": "code",
   "execution_count": null,
   "metadata": {
    "colab": {
     "base_uri": "https://localhost:8080/",
     "height": 280
    },
    "id": "LGfAE3ObOajW",
    "outputId": "714327ac-fd06-407b-9b4d-334b69121e7a"
   },
   "outputs": [
    {
     "data": {
      "image/png": "[encoded data removed]",
      "text/plain": [
       "<Figure size 432x288 with 1 Axes>"
      ]
     },
     "metadata": {
      "needs_background": "light"
     },
     "output_type": "display_data"
    }
   ],
   "source": [
    "graf1=sns.scatterplot(x=\"primer_componente\", y=\"segundo_componente\", data=base)\n",
    "\n",
    "for line in range(0,base.shape[0]):\n",
    "     graf1.text(base.primer_componente[line]+0.01, base.segundo_componente[line], \n",
    "     base.nombres[line], horizontalalignment='left', \n",
    "     size='large', color='black', weight='semibold')"
   ]
  },
  {
   "cell_type": "markdown",
   "metadata": {
    "id": "W6Ho0E3rohe1"
   },
   "source": [
    "Se distinguen los siguientes cluster:\n",
    "- Cluster 1: agua,vaso,beber,comida,vino,alcohol,comida,whisky. Un grupo relacionado con bebidas y comida que encontrarias junto a la cerveza.\n",
    "- Cluster 2: tomo,tomar, tomando. Un cluster de las conjugaciones del verbo tomar.\n",
    "- Cluster 3: llevo,gusta,vas. No se refleja alguna relacion semantica entre estas.\n",
    "- Cluster 4: Una nube de palabras que contienen las demas palabras claves de cada uno de los cluster."
   ]
  },
  {
   "cell_type": "markdown",
   "metadata": {
    "id": "s5hxZy7gzmJy"
   },
   "source": [
    "## Ontologias"
   ]
  },
  {
   "cell_type": "markdown",
   "metadata": {
    "id": "_InCw2z0zrWD"
   },
   "source": [
    "Otra manera fundamentalmente diferente de representar el lenguaje (y el conocimiento) son las ontologías. Ellas estbalecen no solo relaciones, sino tipos de relaciones entre palabras.\n",
    "Vamos a explorar una de las ontologías más conocidas: Wordnet"
   ]
  },
  {
   "cell_type": "code",
   "execution_count": null,
   "metadata": {
    "colab": {
     "base_uri": "https://localhost:8080/"
    },
    "id": "damLWKMnzxh0",
    "outputId": "50048c66-58f3-49bc-dd14-aaf7c1ff5dff"
   },
   "outputs": [
    {
     "name": "stderr",
     "output_type": "stream",
     "text": [
      "[nltk_data] Downloading package wordnet to /root/nltk_data...\n",
      "[nltk_data] Downloading package omw-1.4 to /root/nltk_data...\n"
     ]
    },
    {
     "data": {
      "text/plain": [
       "[Synset('beer.n.01')]"
      ]
     },
     "execution_count": 11,
     "metadata": {},
     "output_type": "execute_result"
    }
   ],
   "source": [
    "i#importar libreria\n",
    "nltk.download(\"wordnet\")\n",
    "nltk.download(\"omw-1.4\")\n",
    "from nltk.corpus import wordnet \n",
    "\n",
    "#encontrar los sinonimos de cerveza\n",
    "wordnet.synsets(\"cerveza\",lang=\"spa\")"
   ]
  },
  {
   "cell_type": "markdown",
   "metadata": {
    "id": "jItog35l05NE"
   },
   "source": [
    "La cerveza es un concepto de un unico significado en este caso solo trajo \"beer\" que es justamente cerveza en ingles."
   ]
  },
  {
   "cell_type": "markdown",
   "metadata": {
    "id": "weZDSdGO1FJU"
   },
   "source": [
    "**Relaciones de los synsets: Definiciones**"
   ]
  },
  {
   "cell_type": "markdown",
   "metadata": {
    "id": "FEHedlxe1JLh"
   },
   "source": [
    "Definiremos cerveza"
   ]
  },
  {
   "cell_type": "code",
   "execution_count": null,
   "metadata": {
    "colab": {
     "base_uri": "https://localhost:8080/"
    },
    "id": "RViKm5_O1QOk",
    "outputId": "531ed3ad-7de1-46a6-d961-5b09d5fbd4aa"
   },
   "outputs": [
    {
     "name": "stdout",
     "output_type": "stream",
     "text": [
      "a general name for alcoholic beverages made by fermenting a cereal (or mixture of cereals) flavored with hops\n"
     ]
    }
   ],
   "source": [
    "word=wordnet.synsets(\"cerveza\",lang=\"spa\")\n",
    "for i in range(len(word)):\n",
    "  print(word[i].definition())"
   ]
  },
  {
   "cell_type": "markdown",
   "metadata": {
    "id": "iN7he8dU17DF"
   },
   "source": [
    "Ahora con alcohol"
   ]
  },
  {
   "cell_type": "code",
   "execution_count": null,
   "metadata": {
    "colab": {
     "base_uri": "https://localhost:8080/"
    },
    "id": "EEydI4Xw2a-r",
    "outputId": "ec8642bd-bed1-4585-99f5-f84a1f97f0ba"
   },
   "outputs": [
    {
     "name": "stdout",
     "output_type": "stream",
     "text": [
      "a liquor or brew containing alcohol as the active agent\n",
      "any of a series of volatile hydroxyl compounds that are made from hydrocarbons by distillation\n"
     ]
    }
   ],
   "source": [
    "word=wordnet.synsets(\"alcohol\",lang=\"spa\")\n",
    "for i in range(len(word)):\n",
    "  print(word[i].definition())"
   ]
  },
  {
   "cell_type": "markdown",
   "metadata": {
    "id": "TR_7burV2tg8"
   },
   "source": [
    "**Antonimos**"
   ]
  },
  {
   "cell_type": "markdown",
   "metadata": {
    "id": "hw055mzZ5fz_"
   },
   "source": [
    "Busquemos los antonimos de la palabra \"tomar\" asociada a cerveza."
   ]
  },
  {
   "cell_type": "code",
   "execution_count": null,
   "metadata": {
    "colab": {
     "base_uri": "https://localhost:8080/"
    },
    "id": "zzLev6AO2vKg",
    "outputId": "2deacf81-65fb-4d76-9bbd-b460a134502e"
   },
   "outputs": [
    {
     "name": "stdout",
     "output_type": "stream",
     "text": [
      "[Lemma('abstain.v.02.abstain')]\n",
      "[Lemma('give.v.03.give')]\n"
     ]
    }
   ],
   "source": [
    "word=wordnet.synsets(\"tomar\",lang=\"spa\")\n",
    "for i in range(len(word)):\n",
    "  lemma=word[i].lemmas() #obtener lista de lemma que describen la palabra\n",
    "  for j in range(len(lemma)):\n",
    "    antonimo=word[i].lemmas()[j].antonyms()\n",
    "    if len(antonimo)>0:\n",
    "      print(antonimo)"
   ]
  },
  {
   "cell_type": "markdown",
   "metadata": {
    "id": "4QbQPrsw53YP"
   },
   "source": [
    "los antonimos encontrados fueron abstenerse y dar."
   ]
  },
  {
   "cell_type": "code",
   "execution_count": null,
   "metadata": {
    "colab": {
     "base_uri": "https://localhost:8080/"
    },
    "id": "cfOxkgGx59lm",
    "outputId": "8ac6efe8-2a6e-4b68-b9eb-af9af9606295"
   },
   "outputs": [
    {
     "name": "stdout",
     "output_type": "stream",
     "text": [
      "[Lemma('dislike.v.01.dislike')]\n"
     ]
    }
   ],
   "source": [
    "word=wordnet.synsets(\"gustar\",lang=\"spa\")\n",
    "for i in range(len(word)):\n",
    "  lemma=word[i].lemmas() #obtener lista de lemma que describen la palabra\n",
    "  for j in range(len(lemma)):\n",
    "    antonimo=word[i].lemmas()[j].antonyms()\n",
    "    if len(antonimo)>0:\n",
    "      print(antonimo)"
   ]
  },
  {
   "cell_type": "markdown",
   "metadata": {
    "id": "KTWQWC0O6J0l"
   },
   "source": [
    "y para gustar, no gustar."
   ]
  },
  {
   "cell_type": "markdown",
   "metadata": {
    "id": "XG5r7ig26PKd"
   },
   "source": [
    "**Taxonomías: Hiperonimia e hiponimia**\n",
    "\n",
    "El conocimiento está también clasificado en taxonomías, teniendo hiperónimos (categoría superior) e hipónimos (categoría inferior). Estas estructuras forman árboles taxonómicos de los cuales se pueden derivar diferentes relaciones y métricas."
   ]
  },
  {
   "cell_type": "code",
   "execution_count": null,
   "metadata": {
    "colab": {
     "base_uri": "https://localhost:8080/"
    },
    "id": "2aGVHW8V6X2t",
    "outputId": "26b835af-af23-496b-862f-08e8d3a7d3f2"
   },
   "outputs": [
    {
     "name": "stdout",
     "output_type": "stream",
     "text": [
      "hypernimos\n",
      "Synset('brew.n.01')\n",
      "hiponimos\n",
      "Synset('ale.n.01')\n",
      "Synset('draft_beer.n.01')\n",
      "Synset('lager.n.02')\n",
      "Synset('suds.n.02')\n"
     ]
    }
   ],
   "source": [
    "#hypernimos y  de las palabras: cerveza\n",
    "palabras=[\"cerveza\"]\n",
    "\n",
    "print( \"hypernimos\")\n",
    "for i in range(len(palabras)):\n",
    "  word=wordnet.synsets(palabras[i],lang=\"spa\")\n",
    "  for j in range(len(word)):\n",
    "    hypernimo=word[j].hypernyms()\n",
    "    for k in range(len(hypernimo)):\n",
    "      print(hypernimo[k])\n",
    "\n",
    "print(\"hiponimos\")\n",
    "for i in range(len(palabras)):\n",
    "  word=wordnet.synsets(palabras[i],lang=\"spa\")\n",
    "  for j in range(len(word)):\n",
    "    hiponimo=word[j].hyponyms()\n",
    "    for k in range(len(hiponimo)):\n",
    "      print(hiponimo[k])"
   ]
  },
  {
   "cell_type": "markdown",
   "metadata": {
    "id": "5fvQKWuCsMdH"
   },
   "source": [
    "Para cerveza su hiperonimo es fermentar. Y sus hiponimos son los tipos de cerveza: ale, lager, cerveza de barril, cerveza artesanal"
   ]
  },
  {
   "cell_type": "code",
   "execution_count": null,
   "metadata": {
    "colab": {
     "base_uri": "https://localhost:8080/"
    },
    "id": "RkxeO7U9uJ-N",
    "outputId": "ae4ab7d8-75c6-454e-e4f7-7e3a21d4a8b9"
   },
   "outputs": [
    {
     "name": "stdout",
     "output_type": "stream",
     "text": [
      "hypernimos\n",
      "Synset('beverage.n.01')\n",
      "Synset('drug_of_abuse.n.01')\n",
      "Synset('liquid.n.01')\n",
      "hiponimos\n",
      "Synset('aperitif.n.01')\n",
      "Synset('brew.n.01')\n",
      "Synset('hard_cider.n.01')\n",
      "Synset('home_brew.n.01')\n",
      "Synset('hooch.n.01')\n",
      "Synset('kava.n.01')\n",
      "Synset('koumiss.n.01')\n",
      "Synset('liqueur.n.01')\n",
      "Synset('liquor.n.01')\n",
      "Synset('mixed_drink.n.01')\n",
      "Synset('neutral_spirits.n.01')\n",
      "Synset('nipa.n.02')\n",
      "Synset('perry.n.04')\n",
      "Synset('proof_spirit.n.01')\n",
      "Synset('pulque.n.01')\n",
      "Synset('rotgut.n.01')\n",
      "Synset('sake.n.02')\n",
      "Synset('slug.n.05')\n",
      "Synset('wine.n.01')\n",
      "Synset('allyl_alcohol.n.01')\n",
      "Synset('amyl_alcohol.n.01')\n",
      "Synset('butyl_alcohol.n.01')\n",
      "Synset('cyclohexanol.n.01')\n",
      "Synset('diol.n.01')\n",
      "Synset('ethyl_alcohol.n.01')\n",
      "Synset('glycerol.n.01')\n",
      "Synset('isopropyl_alcohol.n.01')\n",
      "Synset('lauryl_alcohol.n.01')\n",
      "Synset('methanol.n.01')\n",
      "Synset('propanol.n.01')\n",
      "Synset('sterol.n.01')\n"
     ]
    }
   ],
   "source": [
    "#hypernimos y  de las palabras: alcohol\n",
    "palabras=[\"alcohol\"]\n",
    "\n",
    "print( \"hypernimos\")\n",
    "for i in range(len(palabras)):\n",
    "  word=wordnet.synsets(palabras[i],lang=\"spa\")\n",
    "  for j in range(len(word)):\n",
    "    hypernimo=word[j].hypernyms()\n",
    "    for k in range(len(hypernimo)):\n",
    "      print(hypernimo[k])\n",
    "\n",
    "print(\"hiponimos\")\n",
    "for i in range(len(palabras)):\n",
    "  word=wordnet.synsets(palabras[i],lang=\"spa\")\n",
    "  for j in range(len(word)):\n",
    "    hiponimo=word[j].hyponyms()\n",
    "    for k in range(len(hiponimo)):\n",
    "      print(hiponimo[k])"
   ]
  },
  {
   "cell_type": "markdown",
   "metadata": {
    "id": "xo30fJWGuQPG"
   },
   "source": [
    "para alcohol sus hiperonimos son: bebida, abuso de drogas (relacionado con el problema del alcoholismo) y liquido. sus hiponimos notese que son bastantes, llama la atencion que fertilizar sea un hiponimo de alcohol. Por lo tanto, se puede decir que una relacion de jerarquia entre cerveza y alcohol, siendo alcohol un hipernimo de cerveza."
   ]
  },
  {
   "cell_type": "markdown",
   "metadata": {
    "id": "5HuhmE57vJ2R"
   },
   "source": [
    "**Parte y Todo**"
   ]
  },
  {
   "cell_type": "markdown",
   "metadata": {
    "id": "3iM8NR5vwj4h"
   },
   "source": [
    "Las relaciones de parte y todo son llamadas *meronimia* (el merónimo es la parte) y *holonimia* (el holónimo es el todo). Hay relaciones de parte, de miembro y de sustancia."
   ]
  },
  {
   "cell_type": "code",
   "execution_count": null,
   "metadata": {
    "colab": {
     "base_uri": "https://localhost:8080/"
    },
    "id": "fbRwVzlDwve3",
    "outputId": "2245368d-27f5-4187-ea56-0a6515aaf910"
   },
   "outputs": [
    {
     "name": "stdout",
     "output_type": "stream",
     "text": [
      "meronimo\n",
      "[]\n",
      "[]\n",
      "[]\n",
      "[]\n",
      "[Synset('coffee_bean.n.01')]\n",
      "holonimo\n",
      "[]\n",
      "[]\n",
      "[Synset('coffee.n.02')]\n",
      "[]\n",
      "[]\n"
     ]
    }
   ],
   "source": [
    "word=wordnet.synsets(\"café\",lang=\"spa\")\n",
    "print(\"meronimo\")\n",
    "for i in range(len(word)):\n",
    "    print(word[i].part_meronyms())\n",
    "\n",
    "print(\"holonimo\")\n",
    "for i in range(len(word)):\n",
    "  print(word[i].part_holonyms())\n"
   ]
  },
  {
   "cell_type": "markdown",
   "metadata": {
    "id": "AkIbYA3VyF2w"
   },
   "source": [
    "el meronimo de cafe es la pepa de café y su holonimo es café. Al revisar la definicion del holonimo 2, resulta que es un snack de café."
   ]
  },
  {
   "cell_type": "code",
   "execution_count": null,
   "metadata": {
    "colab": {
     "base_uri": "https://localhost:8080/"
    },
    "id": "56thXL1By_NS",
    "outputId": "bc3cf7b7-8f83-4960-94b2-77555b718988"
   },
   "outputs": [
    {
     "name": "stdout",
     "output_type": "stream",
     "text": [
      "a snack taken during a break in the work day\n"
     ]
    }
   ],
   "source": [
    "word=wordnet.synsets('café', lang='spa')\n",
    "print(word[1].definition())"
   ]
  }
 ],
 "metadata": {
  "colab": {
   "collapsed_sections": [
    "bwHkrRFSDM66",
    "emjiot3YI22m",
    "8MN-QSO3AKmF",
    "C0LX-OEmIaEx",
    "2u4Jd3REK3yS",
    "ZiTOsWK-8QMo",
    "t5e0poHm8aIm",
    "WyQtSX_ZrBxK",
    "s5hxZy7gzmJy"
   ],
   "name": "Taller 2-Analisis Semantico Trinos de Cerveza V2.ipynb",
   "provenance": [],
   "toc_visible": true
  },
  "kernelspec": {
   "display_name": "Python 3 (ipykernel)",
   "language": "python",
   "name": "python3"
  },
  "language_info": {
   "codemirror_mode": {
    "name": "ipython",
    "version": 3
   },
   "file_extension": ".py",
   "mimetype": "text/x-python",
   "name": "python",
   "nbconvert_exporter": "python",
   "pygments_lexer": "ipython3",
   "version": "3.10.6"
  }
 },
 "nbformat": 4,
 "nbformat_minor": 4
}
