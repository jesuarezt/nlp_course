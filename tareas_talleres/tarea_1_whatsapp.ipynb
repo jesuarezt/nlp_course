{
 "cells": [
  {
   "cell_type": "markdown",
   "id": "530e5e07-32ac-435c-ba61-a1e5139bf0f1",
   "metadata": {},
   "source": [
    "# Maestria Inteligencia Artificial\n",
    "# Procesamiento del Lenguaje Natural\n",
    "# *Profesor:* Jorge Andres Alvarado Valencia\n",
    "# *Estudiante:* Jesús Ernesto Suárez Triana\n",
    "## Tarea 1: Analisis exploratorio de texto de whatsapp"
   ]
  },
  {
   "cell_type": "code",
   "execution_count": 3,
   "id": "830cd4a3-c9a7-42e0-afff-09f6154d994b",
   "metadata": {},
   "outputs": [
    {
     "name": "stdout",
     "output_type": "stream",
     "text": [
      "/Users/habi/Documents/personal/nlp_course/tareas_talleres\n"
     ]
    }
   ],
   "source": [
    "import os \n",
    "print(os.getcwd())"
   ]
  },
  {
   "cell_type": "code",
   "execution_count": 9,
   "id": "39dda550-576f-4c99-a13f-2085311bbdb3",
   "metadata": {},
   "outputs": [],
   "source": [
    "from whatstk import WhatsAppChat\n",
    "filepath = 'tarea_1_whatsapp.txt'\n",
    "chat = WhatsAppChat.from_source(filepath=filepath)"
   ]
  },
  {
   "cell_type": "code",
   "execution_count": 12,
   "id": "1b58f36a-fb7f-44de-abaa-74f700f401cd",
   "metadata": {},
   "outputs": [
    {
     "name": "stdout",
     "output_type": "stream",
     "text": [
      "<class 'pandas.core.frame.DataFrame'>\n",
      "RangeIndex: 1026 entries, 0 to 1025\n",
      "Data columns (total 3 columns):\n",
      " #   Column    Non-Null Count  Dtype         \n",
      "---  ------    --------------  -----         \n",
      " 0   date      1026 non-null   datetime64[ns]\n",
      " 1   username  1026 non-null   string        \n",
      " 2   message   1026 non-null   string        \n",
      "dtypes: datetime64[ns](1), string(2)\n",
      "memory usage: 24.2 KB\n",
      "None\n"
     ]
    },
    {
     "data": {
      "text/html": [
       "<div>\n",
       "<style scoped>\n",
       "    .dataframe tbody tr th:only-of-type {\n",
       "        vertical-align: middle;\n",
       "    }\n",
       "\n",
       "    .dataframe tbody tr th {\n",
       "        vertical-align: top;\n",
       "    }\n",
       "\n",
       "    .dataframe thead th {\n",
       "        text-align: right;\n",
       "    }\n",
       "</style>\n",
       "<table border=\"1\" class=\"dataframe\">\n",
       "  <thead>\n",
       "    <tr style=\"text-align: right;\">\n",
       "      <th></th>\n",
       "      <th>date</th>\n",
       "      <th>username</th>\n",
       "      <th>message</th>\n",
       "    </tr>\n",
       "  </thead>\n",
       "  <tbody>\n",
       "    <tr>\n",
       "      <th>0</th>\n",
       "      <td>2021-12-17 21:46:00</td>\n",
       "      <td>+57 322 3570601</td>\n",
       "      <td>Quién para una Pola</td>\n",
       "    </tr>\n",
       "    <tr>\n",
       "      <th>1</th>\n",
       "      <td>2021-12-17 21:46:00</td>\n",
       "      <td>+57 322 3570601</td>\n",
       "      <td>Hay en Castilla</td>\n",
       "    </tr>\n",
       "    <tr>\n",
       "      <th>2</th>\n",
       "      <td>2021-12-17 22:34:00</td>\n",
       "      <td>+57 322 3570601</td>\n",
       "      <td>Jajajak si ve , estos HP no son normales , sin...</td>\n",
       "    </tr>\n",
       "    <tr>\n",
       "      <th>3</th>\n",
       "      <td>2021-12-17 22:37:00</td>\n",
       "      <td>+504 9508-4415</td>\n",
       "      <td>😂</td>\n",
       "    </tr>\n",
       "    <tr>\n",
       "      <th>4</th>\n",
       "      <td>2021-12-18 00:38:00</td>\n",
       "      <td>José Barboza</td>\n",
       "      <td>Que hacen?</td>\n",
       "    </tr>\n",
       "  </tbody>\n",
       "</table>\n",
       "</div>"
      ],
      "text/plain": [
       "                 date         username  \\\n",
       "0 2021-12-17 21:46:00  +57 322 3570601   \n",
       "1 2021-12-17 21:46:00  +57 322 3570601   \n",
       "2 2021-12-17 22:34:00  +57 322 3570601   \n",
       "3 2021-12-17 22:37:00   +504 9508-4415   \n",
       "4 2021-12-18 00:38:00     José Barboza   \n",
       "\n",
       "                                             message  \n",
       "0                                Quién para una Pola  \n",
       "1                                    Hay en Castilla  \n",
       "2  Jajajak si ve , estos HP no son normales , sin...  \n",
       "3                                                  😂  \n",
       "4                                         Que hacen?  "
      ]
     },
     "execution_count": 12,
     "metadata": {},
     "output_type": "execute_result"
    }
   ],
   "source": [
    "print(chat.df.info())\n",
    "chat.df.head()"
   ]
  },
  {
   "cell_type": "code",
   "execution_count": null,
   "id": "8111677c-d339-42d8-bc2c-ef742c4546bb",
   "metadata": {},
   "outputs": [],
   "source": []
  }
 ],
 "metadata": {
  "kernelspec": {
   "display_name": "Python 3 (ipykernel)",
   "language": "python",
   "name": "python3"
  },
  "language_info": {
   "codemirror_mode": {
    "name": "ipython",
    "version": 3
   },
   "file_extension": ".py",
   "mimetype": "text/x-python",
   "name": "python",
   "nbconvert_exporter": "python",
   "pygments_lexer": "ipython3",
   "version": "3.8.13"
  }
 },
 "nbformat": 4,
 "nbformat_minor": 5
}
