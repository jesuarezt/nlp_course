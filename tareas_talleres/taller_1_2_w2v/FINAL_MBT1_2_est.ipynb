{
 "cells": [
  {
   "cell_type": "markdown",
   "id": "303d9d7f-d97e-4164-ac4a-31af770822a0",
   "metadata": {
    "id": "303d9d7f-d97e-4164-ac4a-31af770822a0"
   },
   "source": [
    "# Taller de NLP: Word2Vec"
   ]
  },
  {
   "cell_type": "code",
   "execution_count": 1,
   "id": "91991ad2",
   "metadata": {
    "ExecuteTime": {
     "end_time": "2022-02-14T08:21:58.509533Z",
     "start_time": "2022-02-14T08:21:58.495238Z"
    },
    "id": "91991ad2"
   },
   "outputs": [],
   "source": [
    "#%load_ext watermark\n",
    "#%watermark -a 'Santiago Alferez' --iversions"
   ]
  },
  {
   "cell_type": "code",
   "execution_count": 2,
   "id": "IiT5wyGegwrh",
   "metadata": {
    "colab": {
     "base_uri": "https://localhost:8080/",
     "height": 133
    },
    "id": "IiT5wyGegwrh",
    "outputId": "23b35f54-809b-479e-ed10-10c33e3fa08f"
   },
   "outputs": [],
   "source": [
    "# numpy     : 1.21.2\n",
    "# pandas    : 1.3.5\n",
    "# re        : 2.2.1\n",
    "# nltk      : 3.6.7\n",
    "# sklearn   : 1.0.2\n",
    "# matplotlib: 3.5.0\n",
    "# scipy     : 1.7.3\n",
    "# gensim    : 4.0.1"
   ]
  },
  {
   "cell_type": "code",
   "execution_count": 3,
   "id": "POUuORYcgzHO",
   "metadata": {
    "id": "POUuORYcgzHO"
   },
   "outputs": [],
   "source": [
    "import pandas as pd\n",
    "import nltk"
   ]
  },
  {
   "cell_type": "markdown",
   "id": "4deb9569-4d68-40a4-9398-84a8f533f20a",
   "metadata": {
    "id": "4deb9569-4d68-40a4-9398-84a8f533f20a"
   },
   "source": [
    "Para este taller deberás disponer de algunas librerías como scikit-learn, NLTK, y GenSim. Se recomienda revisar la [documentación de GenSim](https://radimrehurek.com/gensim/auto_examples/index.html#documentation)."
   ]
  },
  {
   "cell_type": "markdown",
   "id": "3fb737da-3eeb-4cca-bc6e-ce1c55c82076",
   "metadata": {
    "id": "3fb737da-3eeb-4cca-bc6e-ce1c55c82076"
   },
   "source": [
    "## Cargando un modelo  en GenSim y análisis\n",
    "A continuación cargaremos un modelo que no pesa tanto `glove-twitter-50`. Hay modelos más completos y con mayor número de dimensiones en este [link](https://github.com/RaRe-Technologies/gensim-data)"
   ]
  },
  {
   "cell_type": "code",
   "execution_count": 4,
   "id": "b7c407cf-1aef-4239-91fb-fc6bd01868ba",
   "metadata": {
    "ExecuteTime": {
     "end_time": "2022-02-14T04:06:59.690028Z",
     "start_time": "2022-02-14T04:06:59.402957Z"
    },
    "id": "b7c407cf-1aef-4239-91fb-fc6bd01868ba",
    "tags": []
   },
   "outputs": [],
   "source": [
    "from gensim.models.word2vec import Word2Vec\n",
    "import gensim.downloader as api"
   ]
  },
  {
   "cell_type": "code",
   "execution_count": 5,
   "id": "a56fd291-d67f-4e40-9330-70f209dcb14d",
   "metadata": {
    "ExecuteTime": {
     "end_time": "2022-02-14T04:07:31.835210Z",
     "start_time": "2022-02-14T04:07:03.095268Z"
    },
    "colab": {
     "base_uri": "https://localhost:8080/"
    },
    "id": "a56fd291-d67f-4e40-9330-70f209dcb14d",
    "outputId": "7caa6f1e-2c65-456e-bfd5-1ff08e77d822",
    "tags": []
   },
   "outputs": [],
   "source": [
    "wv = api.load(\"glove-twitter-50\")"
   ]
  },
  {
   "cell_type": "markdown",
   "id": "e57d8193",
   "metadata": {
    "id": "e57d8193",
    "lang": "es"
   },
   "source": [
    "Una operación común es recuperar el vocabulario de un modelo. Eso es trivial:"
   ]
  },
  {
   "cell_type": "code",
   "execution_count": 6,
   "id": "i5R_gkWSg-eZ",
   "metadata": {
    "colab": {
     "base_uri": "https://localhost:8080/",
     "height": 347
    },
    "id": "i5R_gkWSg-eZ",
    "outputId": "68c1212b-57b9-40ec-fc9b-57779b351204"
   },
   "outputs": [],
   "source": [
    "#!pip install --upgrade gensim"
   ]
  },
  {
   "cell_type": "code",
   "execution_count": 7,
   "id": "64ea170f-2764-4f8f-b53b-8ab0ba15f809",
   "metadata": {
    "ExecuteTime": {
     "end_time": "2022-02-14T04:37:52.995303Z",
     "start_time": "2022-02-14T04:37:52.990347Z"
    },
    "colab": {
     "base_uri": "https://localhost:8080/"
    },
    "id": "64ea170f-2764-4f8f-b53b-8ab0ba15f809",
    "outputId": "10797f88-3fea-45be-e373-95bd235ef2fe",
    "tags": []
   },
   "outputs": [
    {
     "name": "stdout",
     "output_type": "stream",
     "text": [
      "palabra #0/1193514 es <user>\n",
      "palabra #1/1193514 es .\n",
      "palabra #2/1193514 es :\n",
      "palabra #3/1193514 es rt\n",
      "palabra #4/1193514 es ,\n",
      "palabra #5/1193514 es <repeat>\n",
      "palabra #6/1193514 es <hashtag>\n",
      "palabra #7/1193514 es <number>\n",
      "palabra #8/1193514 es <url>\n",
      "palabra #9/1193514 es !\n",
      "palabra #10/1193514 es i\n",
      "palabra #11/1193514 es a\n",
      "palabra #12/1193514 es \"\n",
      "palabra #13/1193514 es the\n",
      "palabra #14/1193514 es ?\n",
      "palabra #15/1193514 es you\n",
      "palabra #16/1193514 es to\n",
      "palabra #17/1193514 es (\n",
      "palabra #18/1193514 es <allcaps>\n",
      "palabra #19/1193514 es <elong>\n"
     ]
    }
   ],
   "source": [
    "for index, word in enumerate(wv.index_to_key):\n",
    "    if index == 20:\n",
    "        break\n",
    "    print(f\"palabra #{index}/{len(wv.index_to_key)} es {word}\")"
   ]
  },
  {
   "cell_type": "code",
   "execution_count": 8,
   "id": "a419cf24-26e0-4de7-b99d-8d4777565a2d",
   "metadata": {
    "ExecuteTime": {
     "end_time": "2022-02-14T04:08:08.494078Z",
     "start_time": "2022-02-14T04:08:08.491678Z"
    },
    "id": "a419cf24-26e0-4de7-b99d-8d4777565a2d",
    "tags": []
   },
   "outputs": [],
   "source": [
    "vec_king = wv['king']"
   ]
  },
  {
   "cell_type": "code",
   "execution_count": 9,
   "id": "a2ea255b-bdde-4efa-b4c8-31d87bfc0793",
   "metadata": {
    "ExecuteTime": {
     "end_time": "2022-02-14T04:08:13.402779Z",
     "start_time": "2022-02-14T04:08:13.393216Z"
    },
    "id": "a2ea255b-bdde-4efa-b4c8-31d87bfc0793",
    "tags": []
   },
   "outputs": [
    {
     "data": {
      "text/plain": [
       "array([-0.77201  , -0.16548  ,  0.22263  , -0.56608  ,  0.15602  ,\n",
       "       -0.050659 ,  0.076896 ,  0.90058  , -0.22829  , -0.083794 ,\n",
       "       -0.0087308,  0.12425  , -3.6283   , -0.70631  ,  0.3391   ,\n",
       "       -0.26866  ,  0.012886 ,  0.1314   ,  0.13072  ,  0.1594   ,\n",
       "       -0.43884  ,  0.30631  , -0.51841  , -0.86402  ,  0.89706  ,\n",
       "       -0.29222  ,  0.071633 , -0.7285   ,  0.47514  , -0.54581  ,\n",
       "        0.37375  , -0.2815   , -0.82164  , -0.1245   ,  0.06561  ,\n",
       "        0.2686   ,  0.12587  , -0.50189  ,  0.41322  , -0.40509  ,\n",
       "       -0.88866  , -0.71627  , -0.010728 , -0.29513  ,  0.098062 ,\n",
       "        0.47936  ,  0.49517  , -0.30246  ,  0.37465  ,  0.010619 ],\n",
       "      dtype=float32)"
      ]
     },
     "execution_count": 9,
     "metadata": {},
     "output_type": "execute_result"
    }
   ],
   "source": [
    "vec_king"
   ]
  },
  {
   "cell_type": "markdown",
   "id": "420ba0c2",
   "metadata": {
    "id": "420ba0c2",
    "lang": "es"
   },
   "source": [
    "Desafortunadamente, el modelo no puede inferir vectores para palabras desconocidas. Esta es una limitación de Word2Vec: si esta limitación le importa, consulte el modelo FastText."
   ]
  },
  {
   "cell_type": "code",
   "execution_count": 10,
   "id": "b763e578-8271-4775-a394-0f8db13b7fdd",
   "metadata": {
    "id": "b763e578-8271-4775-a394-0f8db13b7fdd",
    "tags": []
   },
   "outputs": [
    {
     "data": {
      "text/plain": [
       "array([-1.5430e+00, -4.2813e-01,  1.0533e-01,  7.3848e-01, -7.9404e-01,\n",
       "       -8.1485e-01, -7.8022e-01, -6.3056e-01, -6.9569e-01, -4.4042e-01,\n",
       "        6.4540e-01,  9.8029e-02, -9.5671e-01,  4.7736e-03, -4.9789e-02,\n",
       "        2.0897e-01,  2.0517e-01,  7.0512e-01, -2.5358e-03, -6.6514e-01,\n",
       "        7.0631e-01, -2.2168e-01, -1.1996e-01,  5.9615e-02,  1.1774e-01,\n",
       "       -3.8541e+00, -1.0501e+00, -8.8617e-01,  1.1176e+00, -1.2043e-01,\n",
       "        1.3221e-01,  1.3601e-01,  5.5741e-01,  9.5851e-01,  5.8929e-01,\n",
       "       -2.6404e-01, -4.0333e-03,  7.8138e-01, -8.9081e-01,  1.3053e+00,\n",
       "       -1.0139e+00, -4.8009e-01,  4.1195e-01,  7.5741e-01, -9.6583e-01,\n",
       "        1.0335e+00,  2.5750e-01,  6.4759e-01,  2.6691e-01,  2.1797e-02],\n",
       "      dtype=float32)"
      ]
     },
     "execution_count": 10,
     "metadata": {},
     "output_type": "execute_result"
    }
   ],
   "source": [
    "wv[\"cielo\"]"
   ]
  },
  {
   "cell_type": "markdown",
   "id": "e6082e94",
   "metadata": {
    "id": "e6082e94",
    "lang": "es"
   },
   "source": [
    "Continuando, Word2Vec admite varias tareas de similitud de palabras listas para usar. Puedes ver cómo la similitud (¿Que similitud será?) disminuye intuitivamente a medida que las palabras se vuelven cada vez menos similares."
   ]
  },
  {
   "cell_type": "code",
   "execution_count": 11,
   "id": "68c443a4-bf35-4e6a-ba04-8335ae961387",
   "metadata": {
    "ExecuteTime": {
     "end_time": "2022-02-14T04:13:11.319163Z",
     "start_time": "2022-02-14T04:13:11.314996Z"
    },
    "id": "68c443a4-bf35-4e6a-ba04-8335ae961387",
    "tags": []
   },
   "outputs": [
    {
     "name": "stdout",
     "output_type": "stream",
     "text": [
      "'gato'\t'perro'\t0.85\n",
      "'gato'\t'tigre'\t0.65\n",
      "'gato'\t'rana'\t0.38\n",
      "'gato'\t'nube'\t0.28\n",
      "'gato'\t'politica'\t0.15\n"
     ]
    }
   ],
   "source": [
    "pairs = [\n",
    "    ('gato', 'perro'),   \n",
    "    ('gato', 'tigre'),   \n",
    "    ('gato', 'rana'),  \n",
    "    ('gato', 'nube'),   \n",
    "    ('gato', 'politica'),\n",
    "]\n",
    "for w1, w2 in pairs:\n",
    "    print('%r\\t%r\\t%.2f' % (w1, w2, wv.similarity(w1, w2)))"
   ]
  },
  {
   "cell_type": "markdown",
   "id": "c0264d69-5a56-4226-ab00-ecb7cd212126",
   "metadata": {
    "id": "c0264d69-5a56-4226-ab00-ecb7cd212126"
   },
   "source": [
    "Podemos encontrar las palabras más similares de acuerdo a una medida de similaridad ([la similaridad del coseno](https://en.wikipedia.org/wiki/Cosine_similarity)):"
   ]
  },
  {
   "cell_type": "code",
   "execution_count": 12,
   "id": "8335e925-fc4b-4864-9e5c-10f78d8a1751",
   "metadata": {
    "ExecuteTime": {
     "end_time": "2022-02-14T04:15:15.444042Z",
     "start_time": "2022-02-14T04:15:15.411190Z"
    },
    "id": "8335e925-fc4b-4864-9e5c-10f78d8a1751",
    "tags": []
   },
   "outputs": [
    {
     "data": {
      "text/html": [
       "<div>\n",
       "<style scoped>\n",
       "    .dataframe tbody tr th:only-of-type {\n",
       "        vertical-align: middle;\n",
       "    }\n",
       "\n",
       "    .dataframe tbody tr th {\n",
       "        vertical-align: top;\n",
       "    }\n",
       "\n",
       "    .dataframe thead th {\n",
       "        text-align: right;\n",
       "    }\n",
       "</style>\n",
       "<table border=\"1\" class=\"dataframe\">\n",
       "  <thead>\n",
       "    <tr style=\"text-align: right;\">\n",
       "      <th></th>\n",
       "      <th>palabra</th>\n",
       "      <th>similaridad</th>\n",
       "    </tr>\n",
       "  </thead>\n",
       "  <tbody>\n",
       "    <tr>\n",
       "      <th>0</th>\n",
       "      <td>camion</td>\n",
       "      <td>0.847325</td>\n",
       "    </tr>\n",
       "    <tr>\n",
       "      <th>1</th>\n",
       "      <td>coche</td>\n",
       "      <td>0.836260</td>\n",
       "    </tr>\n",
       "    <tr>\n",
       "      <th>2</th>\n",
       "      <td>autobús</td>\n",
       "      <td>0.834142</td>\n",
       "    </tr>\n",
       "    <tr>\n",
       "      <th>3</th>\n",
       "      <td>helicóptero</td>\n",
       "      <td>0.820165</td>\n",
       "    </tr>\n",
       "    <tr>\n",
       "      <th>4</th>\n",
       "      <td>avión</td>\n",
       "      <td>0.792418</td>\n",
       "    </tr>\n",
       "  </tbody>\n",
       "</table>\n",
       "</div>"
      ],
      "text/plain": [
       "       palabra  similaridad\n",
       "0       camion     0.847325\n",
       "1        coche     0.836260\n",
       "2      autobús     0.834142\n",
       "3  helicóptero     0.820165\n",
       "4        avión     0.792418"
      ]
     },
     "execution_count": 12,
     "metadata": {},
     "output_type": "execute_result"
    }
   ],
   "source": [
    "pd.DataFrame(wv.most_similar(positive=['carro', 'camión'], topn=5), columns=[\"palabra\", \"similaridad\"])"
   ]
  },
  {
   "cell_type": "markdown",
   "id": "a9fd5e85-e2e5-4a05-9835-a9db17eff082",
   "metadata": {
    "id": "a9fd5e85-e2e5-4a05-9835-a9db17eff082"
   },
   "source": [
    "¿Cuál de estos no pertenece a la secuencia?"
   ]
  },
  {
   "cell_type": "code",
   "execution_count": 13,
   "id": "ab8a17b2-d302-45aa-ba9d-6811a5c3507b",
   "metadata": {
    "ExecuteTime": {
     "end_time": "2022-02-14T04:15:43.779444Z",
     "start_time": "2022-02-14T04:15:43.776046Z"
    },
    "id": "ab8a17b2-d302-45aa-ba9d-6811a5c3507b",
    "tags": []
   },
   "outputs": [
    {
     "name": "stdout",
     "output_type": "stream",
     "text": [
      "carro\n"
     ]
    }
   ],
   "source": [
    "print(wv.doesnt_match(['fuego', 'agua', 'tierra', 'mar', 'aire', 'carro']))"
   ]
  },
  {
   "cell_type": "markdown",
   "id": "87fcc523",
   "metadata": {
    "id": "87fcc523"
   },
   "source": [
    "### Analogias"
   ]
  },
  {
   "cell_type": "markdown",
   "id": "ff6d54f7",
   "metadata": {
    "id": "ff6d54f7",
    "lang": "es"
   },
   "source": [
    "Se ha demostrado que los vectores de palabras *a veces* exhiben la capacidad de resolver analogías.\n",
    "\n",
    "Como ejemplo, para la analogía \"hombre: rey :: mujer: x\" (léase: el hombre es al rey como la mujer es a x), ¿qué es x?\n",
    "\n",
    "En la celda a continuación, se muestra cómo usar vectores de palabras para encontrar x usando la función `most_similar` de la [documentacion de GenSim](https://radimrehurek.com/gensim/models/keyedvectors.html#gensim.models.keyedvectors.KeyedVectors.most_similares). La función encuentra palabras que son más similares a las palabras en la lista \"positiva\" y más diferentes de las palabras en la lista \"negativa\" (mientras omite las palabras de entrada, que a menudo son las más similares). La respuesta a la analogía tendrá la mayor similitud del coseno (mayor valor numérico devuelto)."
   ]
  },
  {
   "cell_type": "code",
   "execution_count": 14,
   "id": "e38c3d8f",
   "metadata": {
    "ExecuteTime": {
     "end_time": "2022-02-14T04:27:39.603586Z",
     "start_time": "2022-02-14T04:27:39.576082Z"
    },
    "id": "e38c3d8f"
   },
   "outputs": [
    {
     "data": {
      "text/plain": [
       "[('reina', 0.823491632938385),\n",
       " ('diana', 0.7247894406318665),\n",
       " ('victoria', 0.7241206169128418),\n",
       " ('shakira', 0.716420590877533),\n",
       " ('chica', 0.7134189605712891),\n",
       " ('luna', 0.6988049149513245),\n",
       " ('colombiana', 0.6971471905708313),\n",
       " ('canción', 0.6866006851196289),\n",
       " ('dulce', 0.6847524046897888),\n",
       " ('karina', 0.6814141869544983)]"
      ]
     },
     "execution_count": 14,
     "metadata": {},
     "output_type": "execute_result"
    }
   ],
   "source": [
    "# esta es la analogia -- hombre : rey :: mujer : x\n",
    "wv.most_similar(positive=['mujer', 'rey'], negative=['hombre'])"
   ]
  },
  {
   "cell_type": "markdown",
   "id": "b96fb514",
   "metadata": {
    "id": "b96fb514"
   },
   "source": [
    "#### Ejercicio 1\n",
    "Cree una función denominada `analogia(a,b,c)` donde determine la analogía *a* : *b* :: *c* : *d*, es decir retorne a *d*, como en el ejemplo anterior. Pruebe la función con 5 analogías que se le ocurra (en inglés o en españól, pero no combinadas)"
   ]
  },
  {
   "cell_type": "code",
   "execution_count": 15,
   "id": "z23f5keUg-P_",
   "metadata": {
    "id": "z23f5keUg-P_"
   },
   "outputs": [],
   "source": [
    "def analogia(a,b,c):\n",
    "  lista = wv.most_similar(positive=[a,b],negative=[c])\n",
    "  return lista"
   ]
  },
  {
   "cell_type": "code",
   "execution_count": 16,
   "id": "Mxci0CnHhQtB",
   "metadata": {
    "id": "Mxci0CnHhQtB"
   },
   "outputs": [
    {
     "data": {
      "text/plain": [
       "[('nave', 0.7607540488243103),\n",
       " ('fuga', 0.7099862098693848),\n",
       " ('bomba', 0.6898825764656067),\n",
       " ('fuego', 0.6893657445907593),\n",
       " ('armada', 0.6711723804473877),\n",
       " ('vela', 0.670769989490509),\n",
       " ('guardia', 0.6443314552307129),\n",
       " ('tumba', 0.6434605121612549),\n",
       " ('luz', 0.6410224437713623),\n",
       " ('contra', 0.6375953555107117)]"
      ]
     },
     "execution_count": 16,
     "metadata": {},
     "output_type": "execute_result"
    }
   ],
   "source": [
    "analogia('guerra','arma','argumento')"
   ]
  },
  {
   "cell_type": "code",
   "execution_count": 17,
   "id": "k0de-6othkLd",
   "metadata": {
    "id": "k0de-6othkLd"
   },
   "outputs": [
    {
     "data": {
      "text/plain": [
       "[('lua', 0.675154983997345),\n",
       " ('lima', 0.6488125920295715),\n",
       " ('natal', 0.6467389464378357),\n",
       " ('ia', 0.6377823948860168),\n",
       " ('cita', 0.633175253868103),\n",
       " ('muda', 0.6235405802726746),\n",
       " ('bunda', 0.6128411889076233),\n",
       " ('mel', 0.6116131544113159),\n",
       " ('sem', 0.6108430624008179),\n",
       " ('luar', 0.6046234965324402)]"
      ]
     },
     "execution_count": 17,
     "metadata": {},
     "output_type": "execute_result"
    }
   ],
   "source": [
    "analogia('blanco','dia','negro')"
   ]
  },
  {
   "cell_type": "code",
   "execution_count": 18,
   "id": "6msI5JFEiqCf",
   "metadata": {
    "id": "6msI5JFEiqCf"
   },
   "outputs": [
    {
     "data": {
      "text/plain": [
       "[('bistro', 0.725406289100647),\n",
       " ('restaurant', 0.7057770490646362),\n",
       " ('salsa', 0.7045158743858337),\n",
       " ('recipe', 0.6571690440177917),\n",
       " ('mango', 0.6566164493560791),\n",
       " ('bar', 0.6561848521232605),\n",
       " ('pizzeria', 0.6549121141433716),\n",
       " ('buffet', 0.6519568562507629),\n",
       " ('mojito', 0.6510596871376038),\n",
       " ('mambo', 0.6437466144561768)]"
      ]
     },
     "execution_count": 18,
     "metadata": {},
     "output_type": "execute_result"
    }
   ],
   "source": [
    "analogia('cafe','caliente','frio')"
   ]
  },
  {
   "cell_type": "code",
   "execution_count": 19,
   "id": "kR-PTPOSvj76",
   "metadata": {
    "id": "kR-PTPOSvj76"
   },
   "outputs": [
    {
     "data": {
      "text/plain": [
       "[('activados', 0.6740912795066833),\n",
       " ('parciales', 0.649668276309967),\n",
       " ('huelga', 0.647428035736084),\n",
       " ('ejecutados', 0.638768196105957),\n",
       " ('escasos', 0.6371156573295593),\n",
       " ('activos', 0.6342213749885559),\n",
       " ('fallecidos', 0.6277273893356323),\n",
       " ('resaca', 0.627128005027771),\n",
       " ('apagones', 0.6265959739685059),\n",
       " ('trabajos', 0.6212835907936096)]"
      ]
     },
     "execution_count": 19,
     "metadata": {},
     "output_type": "execute_result"
    }
   ],
   "source": [
    "analogia('estudiante', 'examenes', 'profesor')"
   ]
  },
  {
   "cell_type": "code",
   "execution_count": 20,
   "id": "hu0SwWVZvmv7",
   "metadata": {
    "id": "hu0SwWVZvmv7"
   },
   "outputs": [
    {
     "data": {
      "text/plain": [
       "[('escribir', 0.7987489700317383),\n",
       " ('traducir', 0.7341846227645874),\n",
       " ('lectura', 0.6656689047813416),\n",
       " ('interpretar', 0.663116991519928),\n",
       " ('dedicar', 0.6559026837348938),\n",
       " ('oír', 0.6551762819290161),\n",
       " ('libros', 0.653024435043335),\n",
       " ('redactar', 0.6510983109474182),\n",
       " ('leerme', 0.6461646556854248),\n",
       " ('libro', 0.6443162560462952)]"
      ]
     },
     "execution_count": 20,
     "metadata": {},
     "output_type": "execute_result"
    }
   ],
   "source": [
    "analogia('leer', 'aprender', 'correr')"
   ]
  },
  {
   "cell_type": "markdown",
   "id": "6e263c41",
   "metadata": {
    "id": "6e263c41"
   },
   "source": [
    "#### Ejercicio 2\n",
    "Haga un listado de unas 20 palabras y grafiquelas en dos dimensiones (colocando su texto) junto con unas 200 palabras muestreadas aleatoriamente (sin texto). Use para reducir la dimensión PCA. Repita lo mismo usando UMAP."
   ]
  },
  {
   "cell_type": "code",
   "execution_count": 21,
   "id": "71e38163-f98c-48cd-b120-3343fa950e50",
   "metadata": {},
   "outputs": [],
   "source": [
    "from sklearn.decomposition import PCA\n",
    "\n",
    "def f_get_words(text_, cat_palabras):\n",
    "  global wv\n",
    "  word_similitud = wv.similar_by_word(text_, topn=cat_palabras)\n",
    "  similar_words = list()\n",
    "\n",
    "  for i in range(len(word_similitud)):\n",
    "    if word_similitud[i][1]>0:\n",
    "      temp=word_similitud[i][0]\n",
    "      similar_words.append(temp)\n",
    "\n",
    "  vectors = wv[similar_words]\n",
    "\n",
    "  return vectors, similar_words\n",
    "\n",
    "\n",
    "para_pca, nombres_para_pca =  f_get_words(text_= 'perro', cat_palabras=200)\n",
    "para_pintar, nombres_para_pintar =  f_get_words(text_= 'razas', cat_palabras=20)"
   ]
  },
  {
   "cell_type": "code",
   "execution_count": 22,
   "id": "tWtV6mjLvvBr",
   "metadata": {
    "id": "tWtV6mjLvvBr"
   },
   "outputs": [
    {
     "data": {
      "image/png": "[encoded data removed]",
      "text/plain": [
       "<Figure size 640x480 with 1 Axes>"
      ]
     },
     "metadata": {},
     "output_type": "display_data"
    }
   ],
   "source": [
    "#reducir dimensionalidad por componentes con PCA.\n",
    "reduccion =  PCA(random_state=0, n_components  = 2).fit(para_pca)\n",
    "\n",
    "#transformando los datos de los pntos\n",
    "puntos_plot = reduccion.transform(para_pintar)\n",
    "\n",
    "# organizando para pintar via sns\n",
    "base=pd.DataFrame()\n",
    "base[\"primer_componente\"]=puntos_plot[:,0]\n",
    "base[\"segundo_componente\"]=puntos_plot[:,1]\n",
    "base[\"nombres\"]=nombres_para_pintar\n",
    "#display(base)\n",
    "\n",
    "import seaborn as sns #visializacoines\n",
    "graf1=sns.scatterplot(x=\"primer_componente\", y=\"segundo_componente\", data=base)\n",
    "\n",
    "for line in range(0,base.shape[0]):\n",
    "     graf1.text(base.primer_componente[line]+0.01, base.segundo_componente[line], \n",
    "     base.nombres[line], horizontalalignment='left', \n",
    "     size='medium', color='black', weight='semibold')"
   ]
  },
  {
   "cell_type": "code",
   "execution_count": 23,
   "id": "bfdef1cf",
   "metadata": {},
   "outputs": [],
   "source": [
    "# USANDO umap\n",
    "\n",
    "#!pip install umap-learn\n",
    "\n",
    "import umap.umap_ as umap"
   ]
  },
  {
   "cell_type": "code",
   "execution_count": 24,
   "id": "EdkuBi17vy68",
   "metadata": {
    "id": "EdkuBi17vy68"
   },
   "outputs": [
    {
     "data": {
      "image/png": "[encoded data removed]",
      "text/plain": [
       "<Figure size 640x480 with 1 Axes>"
      ]
     },
     "metadata": {},
     "output_type": "display_data"
    }
   ],
   "source": [
    "\n",
    "\n",
    "reducer = umap.UMAP(random_state=0)\n",
    "\n",
    "embedding = reducer.fit(para_pca)\n",
    "\n",
    "points_plot = embedding.transform(para_pintar)\n",
    "\n",
    "# organizando para pintar via sns\n",
    "base=pd.DataFrame()\n",
    "base[\"primer_componente\"]=points_plot[:,0]\n",
    "base[\"segundo_componente\"]=points_plot[:,1]\n",
    "base[\"nombres\"]=nombres_para_pintar\n",
    "#display(base)\n",
    "\n",
    "import seaborn as sns #visializacoines\n",
    "graf1=sns.scatterplot(x=\"primer_componente\", y=\"segundo_componente\", data=base)\n",
    "\n",
    "for line in range(0,base.shape[0]):\n",
    "     graf1.text(base.primer_componente[line]+0.01, base.segundo_componente[line], \n",
    "     base.nombres[line], horizontalalignment='left', \n",
    "     size='medium', color='black', weight='semibold')"
   ]
  },
  {
   "cell_type": "markdown",
   "id": "c2ddb3c1",
   "metadata": {
    "id": "c2ddb3c1"
   },
   "source": [
    "-----"
   ]
  },
  {
   "cell_type": "markdown",
   "id": "2e2aac28",
   "metadata": {
    "id": "2e2aac28"
   },
   "source": [
    "GenSim permite acceder a las palabras mediante diferentes formas sobre un objeto `KeyedVectors` (el wv de antes es uno). `.index_to_key`produce una lista con el vocabulario de forma ordenada, mientras `.key_to_index` produce un diccionario de la forma {palabra: index}."
   ]
  },
  {
   "cell_type": "code",
   "execution_count": 25,
   "id": "e95f75eb",
   "metadata": {
    "ExecuteTime": {
     "end_time": "2022-02-14T05:09:19.256005Z",
     "start_time": "2022-02-14T05:09:19.253182Z"
    },
    "id": "e95f75eb",
    "scrolled": true
   },
   "outputs": [
    {
     "name": "stdout",
     "output_type": "stream",
     "text": [
      "['_', 'mi', 'can', '<sadface>', 'من', '♡', '´', 'he', 'con', 'they', 'now', 'go', '،', 'para', 'los', 'know', 'haha', 'good', 'tu', 'back']\n"
     ]
    }
   ],
   "source": [
    "print(wv.index_to_key[100:120])"
   ]
  },
  {
   "cell_type": "markdown",
   "id": "ca19dfb4",
   "metadata": {
    "id": "ca19dfb4"
   },
   "source": [
    "## Entrene un nuevo modelo sobre un corpus"
   ]
  },
  {
   "cell_type": "markdown",
   "id": "cb4dc2ed",
   "metadata": {
    "id": "cb4dc2ed"
   },
   "source": [
    "Trabajaremos de nuevo con el dataset de `progressive-tweet-sentiment.csv`, el cuál es un dataset pequeño que nos facilitará probar Word2vec. Sin embargo, los resultados pueden no ser tan buenos, dado que Word2vec es más potente cuando el corpus es más grande.\n",
    "\n",
    "`progressive-tweet-sentiment`  tiene algunos tweets recopilados y categorizados en 4 clases: 'Legalization of Abortion', 'Hillary Clinton', 'Feminist Movement', 'Atheism'. "
   ]
  },
  {
   "cell_type": "code",
   "execution_count": 26,
   "id": "ab41f401",
   "metadata": {
    "ExecuteTime": {
     "end_time": "2022-02-14T05:11:17.786754Z",
     "start_time": "2022-02-14T05:11:17.773980Z"
    },
    "execution": {
     "iopub.execute_input": "2022-02-14T03:01:40.202685Z",
     "iopub.status.busy": "2022-02-14T03:01:40.202480Z",
     "iopub.status.idle": "2022-02-14T03:01:40.232755Z",
     "shell.execute_reply": "2022-02-14T03:01:40.232412Z",
     "shell.execute_reply.started": "2022-02-14T03:01:40.202661Z"
    },
    "id": "ab41f401",
    "scrolled": true,
    "tags": []
   },
   "outputs": [],
   "source": [
    "df = pd.read_csv(\"data/progressive-tweet-sentiment.csv\",encoding='latin-1')"
   ]
  },
  {
   "cell_type": "code",
   "execution_count": 27,
   "id": "0f313331",
   "metadata": {
    "ExecuteTime": {
     "end_time": "2022-02-14T05:11:21.586157Z",
     "start_time": "2022-02-14T05:11:21.578731Z"
    },
    "execution": {
     "iopub.execute_input": "2022-02-14T03:01:42.930300Z",
     "iopub.status.busy": "2022-02-14T03:01:42.930096Z",
     "iopub.status.idle": "2022-02-14T03:01:42.946310Z",
     "shell.execute_reply": "2022-02-14T03:01:42.945940Z",
     "shell.execute_reply.started": "2022-02-14T03:01:42.930277Z"
    },
    "id": "0f313331",
    "tags": []
   },
   "outputs": [
    {
     "data": {
      "text/html": [
       "<div>\n",
       "<style scoped>\n",
       "    .dataframe tbody tr th:only-of-type {\n",
       "        vertical-align: middle;\n",
       "    }\n",
       "\n",
       "    .dataframe tbody tr th {\n",
       "        vertical-align: top;\n",
       "    }\n",
       "\n",
       "    .dataframe thead th {\n",
       "        text-align: right;\n",
       "    }\n",
       "</style>\n",
       "<table border=\"1\" class=\"dataframe\">\n",
       "  <thead>\n",
       "    <tr style=\"text-align: right;\">\n",
       "      <th></th>\n",
       "      <th>target</th>\n",
       "      <th>tweet</th>\n",
       "    </tr>\n",
       "  </thead>\n",
       "  <tbody>\n",
       "    <tr>\n",
       "      <th>0</th>\n",
       "      <td>Legalization of Abortion</td>\n",
       "      <td>Thank you for another day of life Lord. #Chris...</td>\n",
       "    </tr>\n",
       "    <tr>\n",
       "      <th>1</th>\n",
       "      <td>Legalization of Abortion</td>\n",
       "      <td>@rosaryrevival Lovely to use Glorious Mysterie...</td>\n",
       "    </tr>\n",
       "    <tr>\n",
       "      <th>2</th>\n",
       "      <td>Legalization of Abortion</td>\n",
       "      <td>@Niall250 good thing is that #DUP have consist...</td>\n",
       "    </tr>\n",
       "    <tr>\n",
       "      <th>3</th>\n",
       "      <td>Legalization of Abortion</td>\n",
       "      <td>So, you tell me... is murder okay if the victi...</td>\n",
       "    </tr>\n",
       "    <tr>\n",
       "      <th>4</th>\n",
       "      <td>Legalization of Abortion</td>\n",
       "      <td>@HillaryClinton Don't you mean to say (all chi...</td>\n",
       "    </tr>\n",
       "  </tbody>\n",
       "</table>\n",
       "</div>"
      ],
      "text/plain": [
       "                     target                                              tweet\n",
       "0  Legalization of Abortion  Thank you for another day of life Lord. #Chris...\n",
       "1  Legalization of Abortion  @rosaryrevival Lovely to use Glorious Mysterie...\n",
       "2  Legalization of Abortion  @Niall250 good thing is that #DUP have consist...\n",
       "3  Legalization of Abortion  So, you tell me... is murder okay if the victi...\n",
       "4  Legalization of Abortion  @HillaryClinton Don't you mean to say (all chi..."
      ]
     },
     "execution_count": 27,
     "metadata": {},
     "output_type": "execute_result"
    }
   ],
   "source": [
    "df = df[[\"target\", \"tweet\"]]\n",
    "df.head()"
   ]
  },
  {
   "cell_type": "markdown",
   "id": "c0b65349",
   "metadata": {
    "id": "c0b65349"
   },
   "source": [
    "#### Ejercicio 3. \n",
    "Realice procedimientos para preprocesar texto cómo: tokenizar, eliminar stopwords, stemming y lemmatization. Al final, el resultado de dicho procesamiento debe ser un texto (no una lista de palabras). Sugerencia: inicie y finalice con métodos de strings de python como `.join()` o `.split()`. (Esto ya lo han hecho en el taller anterior)."
   ]
  },
  {
   "cell_type": "markdown",
   "id": "f8fe4a74",
   "metadata": {
    "id": "f8fe4a74",
    "lang": "es"
   },
   "source": [
    "Nota: En NLP, a menudo agregamos tokens <START> y <END> para representar el principio y el final de oraciones, párrafos o documentos. En este caso, pueden colocar tokens `<START>` y `<END>` encapsulando cada documento, por ejemplo, \"<START> All that glitters not gold <END>\", y se puede incluir los tokens en el corpus completo. No es necesario hacer esto para el ejercicio, pero sería interesante."
   ]
  },
  {
   "cell_type": "code",
   "execution_count": 28,
   "id": "a4hTmC_fmYMJ",
   "metadata": {
    "id": "a4hTmC_fmYMJ"
   },
   "outputs": [],
   "source": [
    "import re\n",
    "def limpieza(text):\n",
    "  #text=re.sub(r'@_[A-Za-z0-9]+_','',text) #Remover @_menciones_\n",
    "  #text=re.sub(r'@[A-Za-z0-9]+_[A-Za-z0-9]+','',text) #Remover @menciones_\n",
    "  #text=re.sub(r'@[A-Za-z0-9]+','',text) #Remover @menciones\n",
    "  text=re.sub(r'https?:\\/\\/\\S+','',text) #Remover Hypervinculos\n",
    "  text=re.sub(r'RT[\\s]+','',text) #Remover Retweets\n",
    "  #text=re.sub(r'#[A-Za-z0-9]+','',text) #Remover \"#\"\n",
    "  #text=re.sub(r'[0-9]','',text) #remover numeros\n",
    "  text=re.sub(r'[^\\w\\s]',\"\",text) #remover signos de puntuacion\n",
    "  text=re.sub(r'\\n|\\t',' ',text) #remover saltos de linea\n",
    "  text=re.sub(r'\\@',' ',text) #remover \"@\"\n",
    "  text=re.sub(r'[\\s]+',' ',text) #reemplazar espacios dobles por espacion sencillos\n",
    "  text=re.sub(r\"^[\\s]\",' ',text) #eliminar espacios al inicio de cada tweet\n",
    "  text=text.lower() #todo a minuscula\n",
    "  return text"
   ]
  },
  {
   "cell_type": "code",
   "execution_count": 29,
   "id": "biF9SIhZpaqZ",
   "metadata": {
    "id": "biF9SIhZpaqZ"
   },
   "outputs": [
    {
     "name": "stderr",
     "output_type": "stream",
     "text": [
      "[nltk_data] Downloading package stopwords to\n",
      "[nltk_data]     /Users/jessuarez/nltk_data...\n",
      "[nltk_data]   Package stopwords is already up-to-date!\n"
     ]
    }
   ],
   "source": [
    "import nltk\n",
    "nltk.download(\"stopwords\")\n",
    "from nltk.corpus import stopwords\n",
    "stop = stopwords.words('english')"
   ]
  },
  {
   "cell_type": "code",
   "execution_count": 30,
   "id": "T8_xQJ2VqUWp",
   "metadata": {
    "id": "T8_xQJ2VqUWp"
   },
   "outputs": [
    {
     "data": {
      "text/plain": [
       "0       thank another day life lord christian catholic...\n",
       "1       rosaryrevival lovely use glorious mysteries ea...\n",
       "2       niall250 good thing dup consistently said murd...\n",
       "3               tell murder okay victim mentally disabled\n",
       "4       hillaryclinton dont mean say children deserve ...\n",
       "                              ...                        \n",
       "1154    created heavens earth mere play quran 4438 ath...\n",
       "1155        god wonderful way turning negatives positives\n",
       "1156    week going grrrrrrrreat spiritual business wel...\n",
       "1157    humanity deeper race gender religion love love...\n",
       "1158                                   strength life lord\n",
       "Name: text_clean, Length: 1159, dtype: object"
      ]
     },
     "execution_count": 30,
     "metadata": {},
     "output_type": "execute_result"
    }
   ],
   "source": [
    "#limpieza inicial de los tweetseza)\n",
    "# Excluir stopwords\n",
    "df['text_clean']=df[\"tweet\"].apply(limpieza)\n",
    "df['text_clean'] = df[\"text_clean\"].apply(lambda words: ' '.join(word.lower() for word in words.split() if word not in stop))\n",
    "df['text_clean'] "
   ]
  },
  {
   "cell_type": "code",
   "execution_count": 31,
   "id": "dbfea18d",
   "metadata": {
    "ExecuteTime": {
     "end_time": "2022-02-14T05:11:29.036609Z",
     "start_time": "2022-02-14T05:11:28.060130Z"
    },
    "execution": {
     "iopub.execute_input": "2022-02-14T03:01:46.847067Z",
     "iopub.status.busy": "2022-02-14T03:01:46.846862Z",
     "iopub.status.idle": "2022-02-14T03:01:47.744949Z",
     "shell.execute_reply": "2022-02-14T03:01:47.744610Z",
     "shell.execute_reply.started": "2022-02-14T03:01:46.847043Z"
    },
    "id": "dbfea18d",
    "tags": []
   },
   "outputs": [],
   "source": [
    "#Debe quedar algo asi:"
   ]
  },
  {
   "cell_type": "markdown",
   "id": "30a6a9c3",
   "metadata": {
    "id": "30a6a9c3"
   },
   "source": [
    "### Entrada al modelo\n",
    "Para entrenar un modelo en GenSim es importante adecuar el texto a una lista de sentencias (y cada sentencia una lista de tokens). Para corpus muy grandes, es mejor crear un iterador (una función que extraiga documento a documento para evitar llenar la memoria). "
   ]
  },
  {
   "cell_type": "markdown",
   "id": "737a0853",
   "metadata": {
    "id": "737a0853"
   },
   "source": [
    "Por ejemplo las tres primeras sentencias del dataset son:"
   ]
  },
  {
   "cell_type": "code",
   "execution_count": 32,
   "id": "tTxv_8jJrdhC",
   "metadata": {
    "id": "tTxv_8jJrdhC"
   },
   "outputs": [
    {
     "data": {
      "text/plain": [
       "0       thank another day life lord christian catholic...\n",
       "1       rosaryrevival lovely use glorious mysteries ea...\n",
       "2       niall250 good thing dup consistently said murd...\n",
       "3               tell murder okay victim mentally disabled\n",
       "4       hillaryclinton dont mean say children deserve ...\n",
       "                              ...                        \n",
       "1154    created heavens earth mere play quran 4438 ath...\n",
       "1155        god wonderful way turning negatives positives\n",
       "1156    week going grrrrrrrreat spiritual business wel...\n",
       "1157    humanity deeper race gender religion love love...\n",
       "1158                                   strength life lord\n",
       "Name: text_clean, Length: 1159, dtype: object"
      ]
     },
     "execution_count": 32,
     "metadata": {},
     "output_type": "execute_result"
    }
   ],
   "source": [
    "df['text_clean']"
   ]
  },
  {
   "cell_type": "code",
   "execution_count": 33,
   "id": "MgIARaEYq_hC",
   "metadata": {
    "id": "MgIARaEYq_hC"
   },
   "outputs": [],
   "source": [
    "listado = []\n",
    "for i in range(len(df)):\n",
    "  listado.append (list(df['text_clean'][i].split(' ')))"
   ]
  },
  {
   "cell_type": "code",
   "execution_count": 34,
   "id": "yISPx1bYr3bV",
   "metadata": {
    "id": "yISPx1bYr3bV"
   },
   "outputs": [
    {
     "name": "stdout",
     "output_type": "stream",
     "text": [
      "[['thank', 'another', 'day', 'life', 'lord', 'christian', 'catholic', 'teamjesus'], ['rosaryrevival', 'lovely', 'use', 'glorious', 'mysteries', 'eastertide', 'mark', 'season', 'prayforpersecutedchurch'], ['niall250', 'good', 'thing', 'dup', 'consistently', 'said', 'murder', 'wrong', 'sf', 'pro', 'murderstill'], ['tell', 'murder', 'okay', 'victim', 'mentally', 'disabled'], ['hillaryclinton', 'dont', 'mean', 'say', 'children', 'deserve', 'chances', 'except', 'unborn', 'children'], ['far', 'sorry'], ['every', 'time', 'respond', 'something', 'frustrates', 'let', 'steal', 'away', 'time', 'happiness', 'easyweightloss'], ['follow', 'patriot', 'enuffis2much', 'thanks', 'following', 'back', 'truth', 'liberty', 'justice', 'proisrael', 'wakeupamerica', 'freeamirnow'], ['catholicsfollow', 'want', 'great', 'catholic', 'followers', 'retweet', 'follow', 'us', 'catholic', 'tcot', 'tgdn', 'pjnet', 'cathol'], ['adammyerson', 'quarq', 'sent', 'mine', 'two', 'days', 'ago', 'expect', 'back', 'two', 'days', 'quick', 'turnaround', 'great', 'customer', 'service'], ['god', 'bless', 'chik', 'fila', 'hobbylobby', 'fortnight4freedom', 'endhhsmandate', 'stophillary2016', 'wellesleyrepublican'], ['prolife', 'legislative', 'day', 'party', 'lansing', 'today', 'see', 'yall', 'sopumpedgen'], ['frcharles', 'giannaberettamo', 'giamolla', 'sphcs_news', 'happy', 'feast', 'st', 'gianna', 'beretta', 'molla', 'may', 'pray', 'us'], ['dude', 'freeshirt', 'abort73', 'never', 'win', 'anything', 'lol', 'abort73'], ['dwstweets', 'best', 'choice', 'activists', 'feels', 'insulting', 'engage', 'fluffy', 'softballs', 'feministing'], ['rogeriscatholic', 'mt', 'esmeraldakiczek', 'im', 'abandoning', 'cross', 'even', 'cant', 'control', 'storm'], ['charulife', 'business', 'got', 'pregnancy', 'test', 'pp', 'congratulated', 'helped', 'get', 'wic', 'medicaid', 'valerietarico'], ['would', 'love', 'theyre', 'olderthat', 'political', 'issues', 'surrounding', 'bodies', 'anymore', 'jemimakirke'], ['born', '4', 'months', 'premature', 'im', 'perfectly', 'fine', 'somehow', 'killing', 'babies', 'legal', 'country'], ['kill', 'ur', 'children', 'fear', 'poverty', 'provide', 'u', 'indeed', 'killing', 'ever', 'great', 'sin', 'quran'], ['lets', 'agree', 'ok', 'kill', '7lbs', 'baby', 'uterus', 'dwstweets', 'dnc', 'clinton2016', 'hillaryforia', 'procompromise'], ['bodily', 'autonomy', 'human', 'right', 'persons', 'access', 'abortion', 'human', 'right', 'reprojustice', 'reprorights'], ['today', 'grateful', 'right', 'control', 'body', 'without', 'govt', 'influence', 'antichoice', 'leaders', 'want', 'stop', 'abvote'], ['today', 'grateful', 'reproductiverights', 'allow', 'many', 'families', 'escape', 'poverty', 'abvote'], ['thanks', 'gently', 'spoken', 'truth', 'danaperino', 'nation', 'protect', 'innocent', 'thefive', 'ccot', 'dnc', 'rnc'], ['really', 'dont', 'understand', 'people', 'prochoice', 'life', 'life', 'matter', '2', 'weeks', 'old', '20', 'years', 'old'], ['life', 'beautiful', 'choice', 'adoption', 'abortion'], ['truly', 'believe', 'blacklivesmatter', 'thats', 'im', 'planned', 'parenthood', 'ycot'], ['plannedparenthood', 'agenda', 'money', 'killing', 'babies', 'big', 'business', 'minority', 'genocide', 'result', 'ccot'], ['miracle', 'suddenly', 'democrats', 'dont', 'mind', 'someone', 'voted', 'war'], ['jeff_nichols_82', 'hillaryforia', 'freedom_justice_equality_education', 'innovation', 'development', 'make', 'happy_life', 'utopia'], ['sort', 'apt', '1billion', 'koch', 'bros', 'plan', 'use', 'buy', 'election', 'gop', 'comes', 'selling', 'toilet', 'paper', 'tcot'], ['remove', '118500', 'social', 'security', 'tax', 'cap', 'hillaryclinton', 'hillaryforia', 'socialsecurity', 'taxday', 'tcot'], ['nbcnews', 'including', 'repealing', 'first', 'amendment', 'way', 'go'], ['vote_hillary', 'time', '1', 'example', 'people', 'put', 'public', 'eye', 'endure', 'shameful'], ['much', 'monica', 'getting', 'paid', 'bills', 'burrito', 'squirted', 'sauce', 'pretty', 'blue', 'dress', 'maurareynolds', 'politico'], ['yes', 'hrc', 'subject', '2', 'dbl', 'standard', 'smh', 'come', 'billclinton', 'hillaryclinton', 'u', 'knew', 'clintonfdn', 'donations', 'would', 'b', 'scrutinized', 'spun'], ['baileymagno', 'mydaughtersarmy', 'yup', 'takes', 'money', 'oppressors', 'uses', 'good', 'help', 'oppressed'], ['wow', 'greta', 'baltimore', 'orioles', 'play', 'tomorrow', 'public', 'allowed', 'baltimoreriots', 'freddiegray', 'thanksobama', 'wakeupamerica'], ['chelseaclinton', 'hrc', 'stand', 'billclinton', 'assaulting', 'teen', 'girls', 'readyforhillary', 'hillaryclinton', 'clinton2016'], ['southernmethodistuniversity', 'students', 'ready', 'marcorubio', '2016', 'smu', 'mustangs', 'rubio', 'newamericancentury', 'tcot'], ['hillary', 'really', 'need', 'run', 'country', 'could', 'make', 'president', 'bingo', 'club', 'shady', 'pines', 'tcot', 'p2'], ['everything', 'abt', 'hillaryclinton', 'bogus', 'issues', 'history', 'iowa', 'trip', 'twitter', 'followers', 'campaigning'], ['stophillary2016', 'hillaryclinton', 'woman', 'integrity', 'honesty', 'would', 'vote', 'woman', 'president'], ['spoke', 'hillaryclinton', 'today', 'nyc', 'wow', 'smart', 'impressive'], ['congratulations', 'hillaryclinton', 'entering', '2016', 'race', 'president', 'support', 'jews', 'world'], ['hillaryclinton', 'rainbow', 'logo', 'u', 'know', '4', 'us', 'gay', '2010', 'census', 'whyimnotvotingforhillary'], ['remember', 'start', 'begging', 'vote', 'fergusontobaltimore', 'jebbush2016'], ['tedcruz', 'handovertheserver', 'wiped', 'clean', '30k', 'deleted', 'emails', 'explains', 'dereliction', 'dutylies', 'benghazietc', 'tcot'], ['love', 'smell', 'hillary', 'morning', 'smells', 'like', 'republican', 'victory', 'tedcruz2016', 'marcorubio'], ['hillaryclinton', 'speaking', 'columbia', 'university', 'calls', 'events', 'baltimore', 'symptom', 'cause', 'ails', 'us'], ['time', 'move', 'good', 'words', '2', 'good', 'works', 'sound', 'bites', '2', 'sound', 'solutions', 'hillary', 'clinton', 'hillaryclinton'], ['many', 'women', 'many', 'countries', 'speak', 'language', 'ìååôåãåôì', 'silence', 'hillary', 'clinton', 'hillarycliton', 'hillary4women'], ['always', 'aim', 'highwork', 'hard', 'care', 'deeply', 'u', 'believe', 'inwhen', 'u', 'stumble', 'keep', 'faith', 'hillary', 'clinton', 'faith4hillary'], ['hillaryclinton', 'didnt', 'tip', 'chipotle', 'proving', 'definitively', 'shes', 'like', 'rest', 'america'], ['statistics', 'show', 'male', 'victims', 'rape', 'likely', 'straight', 'gay'], ['michael_john_21', 'actuallylance', 'unpassende', 'lightning', 'first', 'female', 'hockey', 'player'], ['resist', 'feminism', 'us', '2016', 'election', 'killed', 'raped', 'death', 'uselections'], ['fudgieebuddiee', 'saying', 'girls', 'sensitive', 'gender', 'roles', 'sexist', 'swine'], ['sometimes', 'overheat', 'want', 'take', 'shirt', 'cant', 'social', 'expectations', 'people', 'breasts', 'n'], ['men', 'dont', 'right', 'talk', 'youre', 'voice', 'important', 'goddess', 'dont', 'deserve', 'silenced'], ['always', 'delight', 'see', 'chestdrumming', 'alpha', 'males', 'hiss', 'scuttle', 'backwards', 'wall', 'feminist', 'enters', 'room', 'manly'], ['awyee707', 'socializing', 'violent', 'child', 'different', 'genderneutralizing', 'feminine', 'masculine', 'baby', 'duh'], ['apparently', 'year', 'year', 'woman', 'know', 'would', 'given', 'two', 'youd', 'asked'], ['ccriadoperez', 'advocating', 'vandalism', 'hypocrisy', 'breathtaking', 'calls', 'cops', 'tweets', 'applauds', 'vandals', 'menz'], ['sjws', 'homogenous', 'blur', 'together', 'well', 'like', 'dealing', 'one', 'giantrainbowheaded', 'monster', 'gamergate'], ['fxckyoustagram', 'u', 'reason', 'need', 'feminism', '1st', 'worldu', 'equal', 'stop', 'trying', 'make', 'case', 'victimhood'], ['rimmedlarry', 'actually', 'tag', 'made', 'feminists', 'narcissistically', 'post', 'selfies', 'prove', 'theyre', 'ugly'], ['foreigncorrespo', 'let', 'tell', 'old', 'smart', 'way', 'better', 'young', 'stupid', 'haughty', 'femmie', 'duh'], ['ok', 'armchair', 'feminists', 'got', 'panties', 'wet', 'youre', 'social', 'justice', 'warrior', 'go', 'something', 'get', 'tumblr'], ['justin', 'bieber', 'feminist', 'might', 'wanna', 'delete', 'stupid', 'tweets'], ['powsimian', 'vegan', 'diet', 'make', 'immortal', 'either', 'way', 'gonna', 'die'], ['brigadam', 'klarajoelsson', 'child', 'could', 'seized', 'adoption', 'prolife', 'couples', 'raised', 'mom', 'alone'], ['though', 'approach', 'one', 'life'], ['matter', 'going', 'thru', 'assure', 'somewhere', 'world', 'somebody', '10x', 'worse', 'bethankful', 'hope'], ['livsoverflow', 'well', 'know', 'im', 'getting', 'birthday', 'condoms', 'bible'], ['god', 'never', 'gives', 'us', 'anything', 'cant', 'handle', 'either', 'victory', 'lesson', 'amazing', 'day', 'inspiration', 'believe'], ['let', 'us', 'offer', 'jesus', 'continual', 'sacrafice', 'praise', 'god', 'proclaiming', 'allegiance', 'name', 'hebrews1315nlt', 'god'], ['whoever', 'kind', 'younger', 'ones', 'respect', 'elders', 'nation', 'prophet', 'muhammad', 'pbuh', 'islam'], ['would', 'rather', 'stand', 'god', 'judged', 'world', 'stand', 'world', 'judged', 'god', 'godsnotdead', 'truth'], ['seek', 'nothing', 'god', 'always', 'put', 'right', 'place', 'right', 'time'], ['even', 'mind', 'denied', 'god', 'soul', 'islam'], ['clear', 'thoughts', 'look', 'sky', 'someone', 'looking', 'god', 'islam'], ['allow', 'accuser', 'accuse', 'washed', 'cleansed', 'blood', 'lamb', 'rev', '15', '714'], ['9', 'holy', 'mary', 'mother', 'god', 'pray', 'us', 'sinners', 'hour', 'death', 'amen', 'rosary', 'teamjesus', 'god'], ['youve', 'done', 'everything', 'thats', 'god', 'step', 'cannot', 'islam'], ['8', 'holy', 'mary', 'mother', 'god', 'pray', 'us', 'sinners', 'hour', 'death', 'amen', 'rosary', 'teamjesus', 'god'], ['jesus', 'wants', 'love', 'persecute', 'bring', 'violence', 'love', 'loves', 'theword', 'truth', 'love', 'peace'], ['appreciate', 'almighty', 'god', 'waking', 'diz', 'beautiful', 'day', 'giving', 'brilliant', 'ideas', 'grow', 'hustle'], ['son', 'god', 'became', 'man', 'might', 'become', 'god', 'athanasius'], ['bind', 'rebuke', 'demons', 'jihad', 'name', 'jesus'], ['corey_frizzell', 'peiliberalparty', 'islanders', 'different', 'definitions', 'timely', 'access', 'irony', 'peipoli', 'peivotes'], ['mrprolife', 'would', 'force', 'woman', 'risk', 'health', 'sanity', 'life', 'continue', 'doomed', 'pregnancy'], ['nomoreteaforme', 'said', 'would', 'werent', 'christian', 'hes', 'also', 'cowardrepkevincalvey', 'p2', 'libcrib', 'uniteblue'], ['whether', 'someone', 'wants', 'children', 'completely', 'person', 'carrying', 'pregnancy'], ['unthinkable', 'shameful', 'acceptable', 'encouraged', 'desirable', 'evolution', 'killing', 'defenseless', 'msnbc', 'jemimakirke'], ['redalert', 'stigma', 'butchering', 'preborn', 'children', 'horrendous', 'crime', 'humanity', 'murder'], ['doesnt', 'reduce', 'abortions', 'making', 'illegal', 'sex', 'education', 'caring', 'pregnant', 'person'], ['deepseated', 'cultural', 'codes', 'religious', 'beliefs', 'structural', 'biases', 'changed', 'hillaryclinton'], ['preach', 'black', 'sheriff', 'says', 'blacklivesmatter', 'theyd', 'protest', 'abortion', 'clinics', 'chooselife', 'alllivesmatter'], ['must', 'provide', 'demonstrated', 'sexual', 'training', 'preparation', 'marriage', 'coming', 'woman', 'sexed', 'marriage', 'books'], ['laid', 'law', 'abortion', 'bioethics', 'class', 'catholic'], ['gas', 'increases', 'selfmutilation', 'tattoos', 'piercing', 'drugging', 'overeating', 'suicide', 'violence', 'waleg'], ['think', 'marcus', 'slightly', 'scared', 'radical', 'liberal', 'side', 'feministally'], ['golfproyyc', 'every', 'time', 'taylormadegolf', 'pops', 'think', 'posting', 'dyslexic', 'oneinthesame'], ['ayoungjfk', 'choice', 'mark', 'profeminist'], ['abortion', 'one', 'topics', 'shouldnt', 'bring', 'someone', 'always', 'going', 'argue', 'w'], ['tip', 'protesters', 'everywhere', 'goal', 'change', 'minds', 'rational', 'adults', 'scar', 'minds', 'little', 'kids', 'pgh'], ['mrsdrjim', 'know', 'wrp', 'brianjeanwrp', 'tried', 'get', 'personhood', 'going', 'via', 'federal', 'motion312'], ['waynesense', 'check', 'putting', 'nicely', 'margaretsanger'], ['idiot', 'would', 'feel', 'mom', 'aborted', 'nothing', 'cause', 'would', 'fucking', 'dead'], ['know', 'whats', 'best', 'know', 'whats', 'best', 'well', 'know', 'whats', 'best', 'life'], ['may', 'need', 'figure', 'get', 'school', 'work', 'day'], ['rise', 'shine', 'new', 'day', 'youre', 'alive', 'thank', 'god', '4', 'another', 'day', 'precious', 'life', 'christian', 'catholic', 'teamjesus'], ['cant', 'stand', 'people', 'pro', 'life', 'stillborn', 'loss'], ['alvedaking', 'disturbing', 'thing', 'planet', 'flood', 'streets', 'blood', 'children', 'happyearth'], ['democrats', 'islamicstate', 'murder', 'dismemberment', 'difference', 'age', 'victims', 'isis'], ['praying', 'innocent', 'lady', 'shes', 'victim', 'hope', 'execution', 'proceed', 'notodeathpenalty', 'savemaryjaneveloso'], ['bravo', 'beautifully', 'explained', 'hold', 'humantrafficking', 'bill', 'senblumenthal', 'dickdurbin', 'womensrights', 'righttochoose'], ['lifenewshq', 'could', 'happened', 'past', 'make', 'cruel', 'frighteningly', 'hardhearted', 'woman', 'waronwomen'], ['bruvvereccles', 'telegraph', 'david_cameron', 'despair', 'want', 'grandchildren', 'luxury', 'item', 'catholic'], ['jemimakirke', 'hat', 'speaking', 'something', 'rarely', 'discussed', 'anyone', 'voice'], ['yea', 'kool', 'gang', 'celebrate', 'good', 'times', 'whatever', 'happened', 'celebate', 'good', 'times', 'arrestkool', 'jesussaves', 'tcot'], ['great', 'naralnc', 'susan', 'hill', 'event', 'tonight', 'chapelhill', 'thanks', 'advocate', 'women', 'families', 'ncpol'], ['patient', 'advocate', 'stephen', 'casey', 'texas', 'center', 'defense', 'life', 'strongly', 'supports', 'hb3074', 'txlege'], ['giannaberettamo', 'giamolla', 'sphcs_news', 'happy', 'feast', 'st', 'gianna', 'beretta', 'molla', 'may', 'pray', 'us'], ['hannah_warren14', 'much', 'oppressive', 'women'], ['democrats', 'always', 'personhood', 'perceive', 'legislation', 'recognize', 'personhood', 'always', 'colorado'], ['hillaryclinton', 'guess', 'means', 'youre', 'happy', 'prolife', 'never', 'aborted', 'children', 'hypocrisy'], ['changing', 'cisnomative', 'atmosphere', 'difficult'], ['abortion', 'make', 'unpregnant', 'makes', 'mother', 'dead', 'childisright'], ['mt', 'prolifepolitics', 'senate', 'vote', 'sc', 'paincapable', 'unborn', 'child', 'protection', 'act', 'could', 'come', 'early', 'wed', 'contact', 'senators'], ['smalldoctor15', 'postinor', 'popularly', 'used'], ['watched', 'aftertiller', 'gave', 'whole', 'new', 'perspective', 'womans', 'right', 'choose', 'womensrights'], ['needed', 'safe', 'medical', 'procedure', 'available', 'women', 'unfortunately', 'rw', 'men', 'say', 'make', 'womens', 'decisions', 'sad', 'huh'], ['prowomanchoice', 'forcing', 'women', 'change', 'bodys', 'normal', 'function', 'epitome', 'controlling', 'women'], ['ryandeloosh', 'u', 'want', 'smash', 'ur', 'head', 'solid', 'wall', 'made', 'steel', 'time', 'u', 'say', 'shore', 'honay', 'urchoice'], ['lmao', 'school', 'thinks', 'giving', 'women', 'right', 'abortion', 'feminism', 'dont', 'know', 'feminism', 'wtf'], ['help', 'friend', 'figure', 'theyre', 'going', 'get', 'stay', 'need', 'spend', 'night'], ['please', 'pray', 'mercy', 'andrewchan', 'myuransukumaran', 'istandformercy', 'keephopealive', 'bali9'], ['ironic', 'ppl', 'perform', 'lifesaving', 'therapies', 'animals', 'preserve', 'livesbut', 'staunch', 'views', 'favor'], ['today', 'ab', '775', 'passed', 'committee', 'judiciary', '37', 'let', 'know', 'help'], ['explicit0ceans', 'dont', 'either', 'would', 'want', 'make', 'people', 'kids', 'esp', 'theyre', 'prepared', 'makes', 'sense'], ['peiacsw', 'please', 'consider', 'status', 'preborn', 'girls', 'vulnerable', 'women', 'society', 'peivotes'], ['yep', 'rt', 'defunding', 'pp', 'wont', 'mean', 'fewer', 'abortions', 'mean', 'dead', 'women', 'prochoice', '1in3'], ['auragasmic', 'body', 'always', 'belongs', 'determine', 'body', 'shared'], ['hillary', 'wants', 'champion', 'women', 'unless', 'theyre', 'unborn'], ['manila', 'tvmonday', 'pacquiao', 'appeals', 'indonesiapresident', 'dont', 'execute', 'maryjaneveloso', 'deathrow', 'drugtrafficking', 'christian'], ['findin', 'budget', 'compromise', 'process', 'brownback', 'says', 'income', 'thestate'], ['like', 'govt', 'literally', 'taking', 'away', 'right', 'live', 'life', 'defunding', 'right'], ['lifenewshq', '22wks', 'late', 'able', 'termination', 'opinion', 'triplets', 'babies', 'bunch', 'cells'], ['refuse', 'let', 'people', 'like', 'shame', 'insult', 'women', 'accessing', 'healthcare', 'sorry'], ['thekeyisprayer', 'law', 'give', 'right', 'wrong', 'abraham', 'lincoln'], ['didyouknow', 'michigan', 'requires', 'minors', 'receive', 'parental', 'consent', 'abortion', 'provided', 'reproductivejustice'], ['believe', 'power', 'pray', 'nepal', 'baltimore', 'isis', 'kenya', 'genderchange', 'injustice', 'slavery', 'racism', 'middleeast'], ['amliventv', 'morally', 'wrong', 'life', 'sacred', 'giver', 'onlyhim', 'alone', 'take', 'ithaveyoursay'], ['baby', 'size', 'plum', 'today', 'toes', 'fingers', 'moving', 'vital', 'systems', 'fully', 'formed', 'tcot'], ['rosaryrevival', 'prayers', 'best', 'wishes', 'st', 'catherine', 'sienna', 'wednesday', 'say', 'eastertide', 'glorious', 'mysteries', 'usual'], ['createdequalorg', 'human', 'arent', 'every', 'human', 'life', 'worth', 'worth', 'saving', 'jk', 'rowling'], ['explicit0ceans', 'whoa', 'whoa', 'whoa', 'dont', 'care', 'sex', 'youre', 'pregnant', 'theres', 'another', 'life', 'involved'], ['grumpyoldguy2', 'debbiewashermanschultz', 'woman', 'voice', 'doctor', 'voice', 'speaks', 'baby', 'im', 'askin'], ['im', 'killing', 'baby', 'tonight', 'dont', 'care', 'wrong', 'right'], ['nys4life', 'youre', 'ready', 'help', 'us', 'defeat', 'assistedsuicidelike', 'defeated', 'abortionexpansion', 'nopasny'], ['rosaryrevival', 'praytherosary', 'lest', 'forget', 'prayforpersecutedchurch', 'prayforisrael', 'prayforukraine'], ['bucksexton', 'course', 'want', 'feds', 'puff', 'puff', 'pass', 'teambuck', 'warondrugs'], ['mint', 'listening', 'glennbeck', 'live', 'talking', 'margaretsanger', 'total', 'evil', 'even', 'youre', 'proabortion'], ['also', 'abortion', 'wrong', 'biblically', 'morally', 'imagine', 'never', 'getting', 'chance', 'live', 'life', 'think'], ['much', 'feminist', 'prochoicer', 'simply', 'carry', 'beliefs', 'logical', 'conclusion', 'faminism', 'yesallwomen'], ['progressive', 'try', 'resolve', 'problems', 'eliminating', 'human', 'life', 'popefrancis'], ['democrats', 'gave', 'chilling', 'reply', 'asked', 'support', 'aborting', '7pound', 'babies'], ['mt', 'esmeraldakiczek', 'im', 'abandoning', 'cross', 'even', 'cant', 'control', 'storm'], ['much', 'fun', 'younger', 'friends', 'expecting', 'babies', 'beentheredonethat', 'chooselife'], ['meme', 'like', 'last', 'reddit', 'thread', 'earth', 'ageofultron', 'lifeadvice', 'protip', 'propeller', 'propane', 'andpropaneaccessories'], ['wh', 'motherhoods', 'wage', 'penalty', 'pay', 'em', 'kids', 'pay', 'em', 'kill', 'premature', 'babies', 'wtfs', 'point', 'libs', 'pjnet'], ['agree', 'choice', 'womans', 'life', 'danger', 'rape', 'baby', 'deserve', 'death', 'crime', 'hisher', 'father', 'helpbillcoleman'], ['god', 'forbid', 'youd', 'ever', 'walk', 'mile', 'shoes', 'really', 'might', 'know', 'like', 'choose'], ['prolifeliberty', 'nope', 'youre', 'wrong', 'personhood', 'abortion'], ['pregnant', 'girlfriend', 'getting', 'abortion', 'tonight', 'dont', 'tell', 'supposed', 'suprise', 'conservative'], ['sprinklepetunia', 'affects', 'negatively', 'maybe', 'shouldnt', 'prokittenabortion'], ['agree', 'gay', 'marriage', 'agree', 'prolife', 'adopt', 'babies', 'would', 'aborted'], ['remind', 'love', 'means', 'willing', 'give', 'hurts', 'mother', 'teresa'], ['life', 'worth', 'lot', 'dont', 'believe', 'compassionate', 'politicians', 'doctors', 'friends', 'tell', 'otherwise', 'matter'], ['explicit0ceans', 'adoption', 'chooses', 'let', 'live', 'obviously', 'huge', 'difference', 'see', 'right', 'adoption'], ['says', 'abortion', 'debate', 'ever', 'fundamental', 'issue', 'facing', 'america', 'every', 'day'], ['thefullbug', 'dehumanizing', 'dehumanizing', 'pregnant', 'person', 'theyre', 'walking', 'incubators', 'rights'], ['gas', 'bullying', 'promiscuity', 'gender', 'confusion', 'hate', 'violence', 'forced', 'us', 'cuz', 'climate', 'lies', 'gun', 'grabberswaleg'], ['listening', 'reggielittlejhn', 'speak', 'work', 'leading', 'womensrights', 'without', 'frontiers', 'inspiring', 'aul', 'jeanneanemaxon'], ['abortion', 'wrong', 'nothing', 'wrong', 'powerful', 'words', 'blessed', 'mother', 'teresa'], ['kingdom', 'founded', 'violence', 'long', 'control', 'vice', 'brought', 'n2', 'existence', 'commentary', 'judges9', 'barackobama'], ['slaying', 'souls', 'offered', 'sons', 'shed', 'blood', 'infants', 'augustine', 'psalm106'], ['oh', 'look', 'antichoice', 'strongly', 'pregnant', 'peoples', 'human', 'rights', 'theyre', 'also', 'homophobic', 'shocker'], ['dont', 'fuck', 'rights', 'dont', 'fuck', 'alcohol', 'dont', 'fuck', 'country', 'dont', 'fuck', 'tiny', 'spawns', 'prousa'], ['prochoice', 'meaningless', 'say', 'mean', 'stand', 'right', 'choose', 'kill'], ['people', 'never', 'abortion', 'prochoice', 'people', 'uterus', 'prochoice', 'people', 'never', 'want', 'kids'], ['thank', 'ppact', 'treating', 'kindness', 'respect', 'tlc', 'wellness', 'exam', 'womenshealth', 'yaycondoms'], ['abc13houston', 'dont', 'let', 'obama', 'control', 'actions', 'progressives', 'destroyed', 'black', 'community', 'lbj', 'clintons', 'drugs'], ['glennbeck', 'would', 'like', 'see', 'poll', 'many', 'abortion', 'doctors', 'told', 'woman', 'abortion', 'required', 'case'], ['people', 'never', 'spoke', 'nazis', 'world', 'war', 'ii', 'likely', 'live', 'let', 'live', 'people', 'fb'], ['prowomanchoice', 'exactly', 'apologies', 'needed', 'fundamentalist', 'kind', 'stop', 'apologies', 'rights', 'p2'], ['gvandersee', '100000', 'estimated', 'ozzie', 'abortions', 'vulnerable', 'unwanted', 'unlife', 'right', 'value', 'respect', 'life', 'deathpenalty'], ['obtaining', 'judicial', 'bypass', 'requires', 'minor', 'appear', 'court', 'present', 'case', 'roevwade'], ['ub', 'students', 'life', 'createdequalorg', 'currently', 'north', 'campus', 'student', 'union', 'speaking'], ['joining', 'us', 'studio', 'amos', 'josh', 'music', 'career', 'kobi', 'kihara', 'bands'], ['difference', 'baby', 'onion', 'one', 'cries', 'chop', 'baby', 'hahahahaha', 'love', 'dead', 'babies', 'babies'], ['love', 'liberals', 'accuse', 'conservatives', 'war', 'women', 'dont', 'want', 'fund'], ['spicysandwich', 'say', 'one', 'time', 'antiabortion', 'laws', 'lead', 'unsafe', 'illegal', 'abortions'], ['emilybeaulieu1', 'maybe', 'thats', 'wants'], ['hey', 'baby', 'want', 'see', 'baby', 'vacuumed', 'dailythoughtsin4words', 'karenbuckley', 'blackparent', 'drunkenmistake', 'slutplz'], ['life', 'first', 'basic', 'human', 'right'], ['pinkgypsysoul', 'religious', 'feeling', 'place', 'public', 'policies', 'country', 'claims', 'separate', 'church', 'state'], ['dont', 'want', 'kid', 'put', 'adoption', 'sorrynotsorry'], ['gambler2', 'prowomanchoice', 'rosalyncni', 'sadly', 'respect'], ['good', 'morning', 'patriots', 'let', 'us', 'continue', 'pray', 'great', 'nation', 'unborn', 'great', 'day', 'god', 'given', 'us', 'ccot'], ['life', 'beautiful', 'choice', 'adoption', 'abortion'], ['inching', 'toward', 'diabetes', 'supporting', 'prochoicemass', 'chocolatemadness', '2015', 'mapoli'], ['beckaviau', 'mikeredmondndp', 'duh', 'planned', 'pregnancy', 'around', 'election', 'date', 'new', 'fad', 'get', 'times'], ['dwstweets', 'repdwstweets', 'seven', 'pound', 'baby', 'murderer', 'bad', 'mom', 'didnt', 'operation', 'baby', 'democrats', 'losers'], ['health', 'clinics', 'whose', 'main', 'concern', 'reproductive', 'health', 'cater', 'people', 'women'], ['prolifeyouth', 'seems', 'clear', 'daylight', 'abortion', 'would', 'crime', 'ghandi', 'prolifeyouth'], ['children', 'greatest', 'blessing', 'god', 'bestowed', 'man', 'woman', 'pope', 'francis', 'lifeisagift'], ['showtruth', 'told', 'talking', 'abortion', 'killing'], ['brain', 'heart', 'unique', 'dna', 'mothers', 'alive', 'human', 'please', 'dont', 'kill'], ['cultureshifting', 'dont', 'draw', 'line', 'ive', 'arbitrarily', 'drawn', 'cant', 'draw', 'anywhere', 'nonsense'], ['justintrudeau', 'dont', 'get', 'prochoice', 'endorse', 'antichoice', 'wadepeiliberal', 'peiliberalparty', 'canfem', 'peipoli', 'peivotes'], ['pari_passu', 'dear', 'religious', 'right', 'keep', 'uterus', 'church', 'keep', 'church', 'uterus'], ['parents', 'became', 'christians', '1973', 'wonder', 'indirect', 'result', 'praying', 'time', 'roevwade', 'fb'], ['assault', 'harrassment', 'pain', 'torchure', 'death', 'murder', 'everydaysexism'], ['asasoltan', 'putting', 'abortion', 'choices', 'women', 'heart', 'yaaaaaas', 'shahs'], ['follow', 'patriot', 'msmistinichole', 'thanks', 'following', 'back', 'truth', 'liberty', 'justice', 'proisrael', 'wakeupamerica', 'freeamirnow'], ['antivaxxers', 'idiotic', 'bunch', 'seriously', 'guys', 'vaccinate', 'kids', 'stopsb277', 'conformcomics', 'marvel', 'dc'], ['showtruth', 'absurd', 'refer', 'healthcare', 'saves', 'pregnant', 'peoples', 'lives', 'killing'], ['generation', 'ends', 'abortion', 'dont', 'care', 'whose', 'toes', 'step', 'offend', 'time', 'put', 'end'], ['harassing', 'guilting', 'women', 'doesnt', 'reduce', 'abortions', 'easy', 'access', 'affordable', 'child', 'care'], ['remember', 'basic', 'diversity', 'training', 'women', 'havewant', 'children'], ['last', 'meeting', 'year', 'tonight', '700', 'pm', 'case', 'hall', 'room', '334a', 'come', 'one', 'come', 'pizza', 'pop', 'provided'], ['un', 'unrightswire', 'indonesia', 'executions', 'lets', 'uphold', '2nd', 'chances', 'god', 'take', 'away', 'life', 'together', 'fight', 'drugs'], ['teacher', 'today', 'basically', 'said', 'embroyos', 'nothing', 'skin', 'blood', 'abortion', 'fine', 'smartlady'], ['alvedaking', 'disturbing', 'thing', 'planet', 'flood', 'streets', 'blood', 'children', 'happyearthd'], ['insist', 'going', 'round', 'round', 'late', 'term', 'abortions', 'almost', 'always', 'occur', '2028', 'wks'], ['britt_ghiroli', 'mboyle1', 'mayor', 'baltimore', 'said', 'give', 'rioters', 'rioters', 'blacklivesmatter', 'except2democrats', 'sanger'], ['k_yoder', 'lady', 'needs', 'help', 'mental', 'illness', 'serious', 'issue'], ['isnt', 'decision', 'make', 'youre', 'one', 'carries', 'full', 'responsibility', 'weight', 'outcome', '1in3'], ['singerman2000', 'government', 'exceeded', 'necessary', 'size', 'scope', 'reach', 'lives', 'citizens', 'armenia'], ['tweetinfeminist', 'casey_knox', 'rickcanton', 'stop', 'stupidly', 'dramatic', 'w', 'reasons', 'anencephaly', 'redbagbabies'], ['azzarellijim', 'great', 'women', 'want', 'force', 'give', 'birth', 'wills', 'rapeculture'], ['fact', 'believe', 'personal', 'opinion', 'also', 'gods', 'opinion', 'doesnt', 'make', 'right', 'christians', 'ccot'], ['excellent', 'speeddating', 'ethics', 'discussion', 'today', 'yr9', 'class', 'morality'], ['people', 'red', 'faced', 'frothing', 'abortion', 'also', 'death', 'penalty', 'wondering', 'deathpenalty'], ['illegal', 'kill', 'unhatched', 'eagle', 'egg', 'legal', 'kill', 'unborn', 'human', 'babyisright'], ['naralnc', 'ncpolicywatch', 'patmccrorync', 'better', 'let', 'happen'], ['one', 'day', 'im', 'gonna', 'set', 'abortion', 'clinic', 'fire', 'anyone', 'wanna', 'join'], ['stuart1927', 'goodcounselnet', 'thank', 'goodness', 'politicians', 'saw', 'sense', 'recognised', 'womens', 'rights', 'bodies'], ['know', 'whats', 'best', 'health', 'know', 'whats', 'best', 'happiness', 'know', 'whats', 'best', 'well'], ['terrible', 'golf', 'last', 'couple', 'days', 'goes', 'notes', 'one'], ['fact', '17', 'todays', 'population', 'equivalent', 'residents', 'new', 'york', 'florida', 'pennsylvania', 'wheres', 'outrage'], ['rogeriscatholic', 'remind', 'love', 'means', 'willing', 'give', 'hurts', 'mother', 'teresa'], ['prolifegen', 'abolish', 'abortion', 'lifetime', 'prolifefuture', 'tcot'], ['planned', 'parenthood', 'lines', 'pockets', 'sacrificing', 'women', 'children', 'need', 'altar', 'abortion'], ['charlescwcooke', 'hillaryclinton', 'theyre', 'born'], ['long', 'allowed', 'show', 'medically', 'correct', 'photos', 'contraception', 'use', 'family', 'planning', 'table', 'stopabortion'], ['wildchild69', 'u', 'want', '2', 'limit', 'doctors', 'choice', 'force', 'himher', 'help', 'w', 'abortions', 'want', 'protect', 'life', 'human', 'dignity'], ['charulife', 'explained', 'keep', 'baby', 'business', 'helped', 'get', 'medicaid', 'wic'], ['rep', 'messenger', 'presents', 'hb', '151', 'eco', 'devo', 'would', 'prevent', 'public', 'funding', 'abortion', 'human', 'cloning', 'stem', 'cell', 'research', 'moleg'], ['shaniaajaee', 'still', 'love', 'matter', 'love'], ['ridiculous', 'hour', 'protectthezone', 'alabama'], ['docjp', 'pressure', 'job', 'failing', 'miserably', 'keeping', 'promises', 'made', 'gop', 'pjnet', 'amnesty', 'obamacare'], ['body', 'parts', '13', 'day', 'old', 'infant', 'found', 'friday', '104th', 'figueroa', 'bl', 'losangeles', 'worse', 'justify', 'excuses'], ['emrata', 'u', 'become', 'lib', 'u', 'made', 'hollywood', 'blacklivesdontmatter', 'whitebrunch'], ['rogeriscatholic', 'save', 'baby', 'humans', 'waar'], ['doesnt', 'reduce', 'abortion', 'rates', 'shaming', 'pregnant', 'women', 'assaulting', 'pregnant', 'women', 'financial', 'assistance'], ['fredindimuli', 'yes', 'opinion', 'choice', 'hands', 'women', 'know', 'person', 'directly', 'affected'], ['godlypghdad', 'depicting', 'women', 'headless', 'xrayed', 'torsos', 'hardly', 'relfects', 'alllivesmatter', 'misogyny'], ['bitches', 'scared', 'kill', 'little', 'cockroach', 'house', 'quick', 'kill', 'baby'], ['lol', 'ones', 'choice', 'womans', 'comes', 'abortion', 'men', 'shouldnt', 'even', 'able', 'vote', 'issue'], ['sinners', 'right', 'humans', 'kill', 'another', 'human', 'god', 'wanted', 'us', 'scl', 'thoughts'], ['crushthecfr', 'yes', 'heard', 'first', '500', 'times', 'tweeted', 'six', 'kids', 'probably', 'also'], ['pinkgypsysoul', 'single', 'important', 'factor', 'womens', 'advancement', 'society', 'ability', 'control', 'fertility'], ['say', 'god', 'isnt', 'listening', 'look', 'radar', 'today', 'prayfornepal'], ['johnseago', 'work', 'patient', 'advocate', 'know', 'bill', 'would', 'save', 'patients', 'txlege'], ['white', 'feminists', 'speaking', 'purvipatel', 'since', 'day', '1', 'well', 'continue', 'course', 'humanrights', 'fem2'], ['people', 'pregnant', 'pro', 'choice', 'people', 'cant', 'kids', 'pro', 'choice', 'people', 'uterus'], ['people', 'want', 'kids', 'b', 'prochoice', 'u', 'dont', 'want', 'abortion', 'b', 'prochoice', 'people', 'miscarriage', 'b', 'prochoice'], ['chrisdelia', 'belongs', 'dopythedick', 'costume', 'handing', 'condom', 'kids'], ['sb724', 'passes', 'sen', 'judiciary', 'cmtethis', 'bill', 'effort', 'shame', 'women', 'personal', 'private', 'medical', 'decision'], ['free', 'country', 'freedom', 'includes', 'freedom', 'choice'], ['jimddaniels1', 'plenty', 'reasons', 'christians', 'support', 'hillary', 'least', 'mind', 'stand', 'wdems'], ['whats', 'funny', 'pro', 'lifers', 'admit', 'never', 'researching', 'abortion', 'sad', 'get', 'info', 'pro', 'lifers'], ['persons', 'person', 'matter', 'small', 'dr', 'suess', 'waar'], ['support', 'right', 'woman', 'abort', 'baby', '37', 'years', 'age', 'mean', 'lump', 'tissue', 'right', 'womensrights'], ['annejp1946', 'problem', 'birth', 'control', 'go', 'free', 'thing', 'solution', 'murder', 'good', 'idea'], ['wow', 'people', 'r', 'upset', '1', 'black', 'man', 'killed', 'would', 'knew', 'blackkids', 'killed', 'baltimoreriots'], ['like', 'really', 'need', 'walk', 'past', 'bunch', 'aborted', 'babies', 'get', 'union', 'get', 'peripheral'], ['womens', 'rights', 'joke', 'omg', 'cant', 'even', 'lol', 'go', 'thank', 'mom', 'keeping'], ['cant', 'kill', 'someone', 'cause', 'claim', 'made', 'mistake', 'true', 'nobody', 'would', 'go', 'jail', 'killing', 'spouse'], ['dogsofgod', 'fight', 'unborn'], ['greatest', 'mistakes', 'nothing', 'little', 'humandignity'], ['people', 'ready', 'child', 'even', 'raped', 'theres', 'already', 'many', 'kids', 'need', 'adopting', 'anyway'], ['people', 'government', 'care', 'words', 'bible', 'women', 'bodies'], ['tonylee01979', 'make', 'decisions', 'doesnt', 'mean', 'need', 'harass', 'goodbye', 'freedom'], ['gov', 'brownback', 'visits', 'cities', 'kansas', '2', 'sign', 'new', 'bill', 'woman'], ['drudge_reponot', 'sure', 'agree', 'decision', 'decisioni', 'wonder', 'many', 'critics', 'would', 'support', 'abortion'], ['live', 'world', 'people', 'care', 'religious', 'rights', 'consent', 'reproductive', 'rights'], ['doesnt', 'reduce', 'abortions', 'threatening', 'women', 'killing', 'doctors', 'cheap', 'contraceptives'], ['showtruth', 'keeping', 'pregnant', 'people', 'safe', 'great', 'reason', 'abortion', 'though'], ['wildchild69', 'typo', 'meant', 'say', 'dies', 'every', 'abortion', 'least', 'one', 'human', 'dies'], ['care', 'youre', 'born', 'die', 'care', 'tcot', 'jesuslovesdeadbabies'], ['obamcare', 'loses', 'supreme', 'court', 'religious', 'freedom', 'win', 'scotus', 'tcot'], ['abortion', 'responsible', 'choice', 'woman', 'chooses'], ['know', 'whats', 'best', 'health', 'dont', 'know', 'anything'], ['arent', 'responsible', 'enough', 'take', 'care', 'baby', 'unprotected', 'sex'], ['wildchild69', 'even', 'sense', 'abortion', 'healthcare', 'every', 'abortion', 'least', 'one', 'human', 'lies'], ['lilagracerose', 'defunding', 'pp', 'wont', 'mean', 'fewer', 'abortions', 'mean', 'dead', 'women'], ['prochoice', 'promurder', 'couched', 'liberal', 'rhetoric'], ['showtruth', 'cant', 'explain', 'would', 'consider', 'medical', 'procedure', 'leaves', 'patient', 'healthy', 'happy', 'killing'], ['great', 'day', 'argue', 'benefits', 'making', 'abortion', 'legal'], ['tooprettyclub', 'ok', 'gop', 'males', 'telling', 'cant', 'body'], ['believe', 'unborn', 'human', 'rights', 'types', 'rights', 'still', 'believe', 'wrong', 'end', 'life'], ['equal', 'pay', 'equal', 'work', 'yes', 'freedom', 'fear', 'rape', 'sexual', 'objectification', 'yes', 'right', 'abort'], ['watching', 'teen', 'mom', 'watching', 'farrah', 'bitch', 'makes', 'believe', 'abortion', 'much'], ['u', 'know', 'isnt', 'funny', 'male', 'politicians', 'deciding', 'women', 'bodys'], ['believe', 'narrative', 'black', 'lives', 'matter', 'black', 'lives', 'matter', 'time', 'blackonblackviolence'], ['sadly', 'health', 'insurance', 'plans', 'dont', 'cover', 'abortions', 'price', 'quite', 'high'], ['tw', 'next', 'tweet', 'miscarriage', 'abortion', 'death', 'abortion', 'tagged', 'specifically'], ['isnt', 'problem', 'enough', 'faith', 'gaystapo', 'socialism'], ['want', 'sit', 'corner', 'cry', 'wish', 'thickerskinned', 'feminist', 'shit', 'personal', 'mybodymyrights'], ['stevestfler', 'many', 'people', 'taking', 'seriously'], ['govt', 'cannot', 'force', 'get', 'chemo', 'youre', 'fetus', 'must', 'live', 'julieborowski', 'reproductiverights'], ['different', 'ways', 'talk', 'pregnancy', 'words', 'quite', 'loaded', 'hard', 'know', 'use'], ['cogar', 'refcom_ie', 'get', 'questions', 'ballott', 'irelands', 'dail', 'stuck', 'well', 'help', 'drugswar', 'landwar', 'etc', 'tanks'], ['good', 'morning', 'justintrudeau', 'plan', 'tell', 'wadepeiliberal', 'women', 'pei', 'deserve', 'right', 'choose', 'cdnpoli', 'peipoli'], ['lum1996', 'kurtschlichter', 'obama', 'cares', 'deserters', 'unborn', 'babies', 'protecttheunprotected', 'antiabortion'], ['like', 'yall', 'try', 'push', 'views', 'anyway', 'remain'], ['dont', 'judge', 'ppl', 'feed', 'plants', 'plant', 'choice', 'whowouldntwantyournectar'], ['body', 'way', 'live', 'dont', 'want', 'right', 'dismiss', 'dont', 'know', 'thats', 'problem'], ['justintrudeau', 'plan', '2', 'endorse', 'peiliberalparty', 'wadepeiliberal', 'whod', 'b', 'able', '2', 'run', '4', 'fed', 'liberal_party', 'peipoli'], ['know', 'whats', 'best', 'know', 'whats', 'best', 'happiness', 'know', 'whats', 'best', 'well'], ['approximately', '22', 'million', 'unsafe', 'abortions', 'take', 'place', 'worldwide', 'according', '2015', 'study', 'world', 'health', 'organization'], ['ive', 'noticed', 'everybody', 'abortion', 'already', 'bornronald', 'reagan', 'letthemlive', 'alllivesmatter'], ['words', 'uncomfortable', 'mucus', 'moist', 'phlegm', 'flaccid', 'carafem', 'talk', 'honestly', 'theaword'], ['refuse', 'stop', 'praying', 'end', 'abortion'], ['snitfit', 'baby', 'body', 'decision', 'effect', 'life', 'way', 'none', 'business'], ['hey', 'megana', 'babys', 'heart', 'starts', 'beating', '21', 'days', 'conception', 'time', 'right', 'time', 'end', 'life', 'kellyfile'], ['knows', 'whats', 'best', 'happiness', 'body'], ['reduce', 'abortions', 'cheap', 'contraceptives', 'sex', 'education', 'affordable', 'education'], ['good', 'time', 'say', 'many', 'men', 'adjudicating', 'womens', 'reproductive', 'systems', 'results', 'never', 'good', 'rape'], ['blacklivesmatter', 'unless', 'pre', 'born', 'black', 'lives', 'dont', 'matter', 'abortionismurder', 'liberallogic'], ['notmuchelse', 'want', 'freedom', 'murder', 'baby', 'rip', 'limb', 'limb', 'change', 'subject', 'melibertarian'], ['politicspizza', 'rebeccahlouise', 'prolifeyouth', 'women', 'independent', 'making', 'choices'], ['brandonmcg', 'scrolling', 'gosnell', 'grand', 'jury', 'report', 'piece', 'days', 'baby', 'quite', 'affecting'], ['kudos', 'mentality', 'believes', 'people', 'dumb', 'enough', 'use', 'protection', 'mature', 'enough', 'take', 'care', 'baby'], ['words', 'meant', 'trigger', 'strong', 'emotional', 'responses', 'well', 'medical', 'inaccuracies', 'misogyny'], ['make', 'sure', 'lovecantwait', 'use', 'condom', 'whoever'], ['duty', 'protect', 'life', 'unborn', 'child', 'ronald', 'reagan', 'ccot', 'gop'], ['please', 'join', 'us', 'pray', 'end', 'global', 'holocaust', 'abortion'], ['createdequalorg', 'new', 'video', 'im', 'seeing', 'human', 'standtrue', 'liveaction_news', 'collegefix', 'lifesite', 'prolife'], ['codeinediva', 'like', 'said', 'weak', 'strong', 'christian', 'wewillovercome'], ['sinnfeinireland', 'sinnfein', 'voted', 'kill', 'unborn', 'sick', 'children'], ['abortion', 'nothing', 'feminism', 'babys', 'body', 'yoursisright'], ['still', 'waiting', 'libs', 'explain', 'premeditated', 'murder', 'premature', 'baby', 'reproductive', 'healthcare', 'ccot'], ['ready', 'abortion', 'debate'], ['true', 'progressives', 'work', 'toward', 'greater', 'inclusion', 'protections', 'marginalized', 'standing', 'unborn', 'progressive'], ['planned', 'parenthood', '1', 'abortion', 'preventer', 'us', 'concept', 'difficult', 'grasp'], ['prolife', 'youre', 'probirth', 'baby', 'support', 'makesnosense', 'prowomen'], ['hillary', 'heres', 'one', 'christian', 'whose', 'religion', 'views', 'never', 'adapt', 'include', 'abortion', 'abortion', 'murder'], ['dear', 'nuns', 'advocacy', 'tax', 'paying', 'weird', 'war', 'iraq', 'deathpenalty', 'taxespayforthistoo', 'taxpayerpride'], ['assaulting', 'manipulating', 'pregnant', 'people', 'doesnt', 'reduce'], ['want', 'hoes', 'binitches', 'realize', 'dont', 'hoe', 'binitchits', 'choice'], ['someone', 'snitched', 'mom', 'sex', 'playing', 'naked', 'twister', 'teens', 'bet', 'cock', 'blocking', 'ass', 'children'], ['took', 'god', 'discipline', 'tobacco', 'made', 'airtight', 'filled', 'homes', 'wco2', 'cuz', 'energy', 'climate', 'lies', 'evil', 'energy', 'use', 'soared'], ['ironic', 'im', 'sitting', 'ppact', 'swiping', 'tinder', 'right'], ['kugrl6', 'good', 'riddance', 'millions', 'black', 'babies', 'really', 'hope', 'im', 'misunderstanding'], ['loriisright', 'dwmcaliley1791', 'litazahn', 'yup', 'one', 'many', 'reasons', 'changed', 'parties'], ['gbforchoice', 'abortion', 'responsible', 'choice', 'woman', 'chooses'], ['prolifeliberty', 'yes', 'reasoning', 'horrible', 'talking', 'abortion', 'death'], ['kobikihara', 'leader', 'isnt', 'abt', 'position', 'u', 'r', 'da', 'society', 'u', 'take', 'da', 'lead', 'accountable', 'whn', 'u', 'gt', 'prego'], ['bbcnewshour', 'u', 'wife', 'would', 'blow', 'head', 'yep', 'sound', 'like', 'elsalvador'], ['justicewillett', 'least', 'platform'], ['nicolasturgeon', 'official', 'hillarys', 'running', 'president', 'says', 'campaign', 'chief', 'excellent'], ['many', 'women', 'many', 'countries', 'speak', 'language', 'silence', 'hillary', 'clinton', 'hillarycliton', 'hillary4women'], ['call', 'bill', 'mr', 'presidentthe', 'first', '1st', 'man', 'mr', 'president', '1st', 'man', 'lol', 'imreadyforhillary'], ['futuretxleader', 'yall', 'texastech', 'redraiders', 'ready', 'marcorubio', '2016', 'ttu', 'texastechuniversity', 'rubio', 'texas', 'n'], ['futuretxleader', 'everyone', 'elpaso', 'texas', 'ready', 'president', 'marcorubio', 'utep', 'newamericancentury', '2016', 'future', 'rub'], ['suspect', 'hillarys', 'scooby', 'doo', 'tour', 'used', 'distraction', 'servergate', 'et', 'al', 'noobamathirdterm'], ['bet', 'leslie', 'knope', 'would', 'happy'], ['flotus', 'need', 'reestablish', 'global', 'system', 'dominated', 'love', 'affection', 'moral_humane', 'rt'], ['theview', 'think', 'country', 'ready', 'female', 'pres', 'cant', 'ever', 'hillary'], ['ethanobama', 'know', 'going', 'long', 'year'], ['im', 'good', 'enough', 'run', 'country', 'im', 'good', 'enough', 'birth', 'strong', 'honorable', 'man', 'haha', 'kick', 'rocks'], ['breaking', 'news', 'hillary', 'trades', 'campaign', 'bus', 'broomstick'], ['shes', 'stupid', 'woman', 'phone', 'yeah', 'boss', 'shit', 'cctf', 'edm', 'infosec', 'baltimoreriots'], ['hillaryclinton', 'theres', 'something', 'wrong', 'ceos', 'make', '300', 'times', 'average', 'employee', 'dont', 'know'], ['probirdrights', 'stump', 'speech', 'stump', 'park', 'attendance', 'mandatory'], ['thehill', 'shit', 'hillary', 'nonstory', 'pile', 'bullshit', 'record', 'tipping', 'nontip', 'restaurant'], ['want', 'america', 'great', 'whyimnotvotingforhillary'], ['want', 'dog', 'stop', 'eating', 'trash'], ['3', 'fixing', 'americas', 'political', 'system', 'getting', 'rid', 'unaccountable', 'money', '4', 'protecting', 'country'], ['wasnt', 'original', 'scoobyvan', 'also', 'full', 'unemployed', 'hippies', 'stupid', 'dog', 'lived', 'meddle', 'peoples', 'business'], ['leaving', 'dads', 'took', 'liberty', 'framing', 'put', 'pictures', 'meeting', 'hillary', 'bill', 'clinton', '92'], ['gop', 'candidate', 'would', 'ever', 'survive', 'hillarys', 'scandals', 'last', 'year', 'much', 'less', 'life', 'media', 'power', 'tcot'], ['hillaryclinton', 'barackobama', 'whole', 'world', 'supporting'], ['working', 'american', 'tax', 'payer', 'keeps', 'paying', 'unethical', 'liberals', 'want', 'destroy', 'great', 'country'], ['simple', 'clintons', 'corrupt'], ['zacharyebell', 'thank', '4the', 'follow', 'god', 'bless', 'love', 'god', 'bless', 'america', 'may', 'always', 'land', 'free'], ['run', 'office', 'original', 'logo', 'libertynothillary', 'hillno', 'tcot', 'uniteblue'], ['huffpostpol', 'hillaryclinton', 'half', 'would', 'favor'], ['lifenewshq', 'tolerance', 'best', 'say'], ['chucknellis', 'hillaryclinton', 'name', 'change', 'longer', 'hrc', 'hillary', 'uranium', 'benghazi', 'clinton', 'take', 'note'], ['sorry', 'hillarys', 'new', 'normal', 'folk', 'image', 'doesnt', 'take', 'away', 'behgnazi', '0', 'foreign', 'policy', 'successes', 'secretary', 'state'], ['cheekygent', 'chuckcjohnson', 'hey', 'hillary', 'way', 'buy', 'votes', 'hillarysoold'], ['lindarutter', 'everydayamericans', 'driven', 'themselvesin', 'carin', 'last', '20', 'years', 'hillaryofthepeople'], ['nprnews', 'clintonfdn', 'received', 'least', '86', 'million', 'victor', 'pinchuk', 'foundation', 'prior', 'ukrainian', 'coup', 'kiev'], ['thedemocrats', 'think', 'demand', 'see', 'marco', 'rubios', 'birth', 'certificate'], ['theblaze', 'think', 'hillary', 'isnt', 'taking', 'foreign', 'money', 'muslim', 'brotherhood', 'probably', 'favor', 'obama', 'chief', 'justice'], ['hillaryclinton', 'whats', 'ambient', 'temperature', 'hell', 'today', 'use', 'guide'], ['senna1', 'kirillwashere', 'many', 'men', 'getting', 'dicks', 'sucked', 'daily', 'congress', 'etc', 'one', 'gives', 'shit'], ['prisons', 'jails', 'mental', 'health', 'institutions', 'hillary', 'rodham', 'clinton'], ['apparently', 'putting', 'cocaine', 'someones', 'butthole', 'waiting', 'fart', 'face', 'wrong', 'way', 'get', 'high'], ['whyimnotvotingforhillary', 'calls', 'education', 'nonfamily', 'enterprise', 'imcommitted2defeathillary', 'ncpol', 'gop'], ['hillarys', 'trip', 'journal', 'day', '4', 'dont', 'remember', 'arkansas', 'cows', 'smelling', 'bad', 'iowa', 'cows', 'smell', 'tcot', 'taxday'], ['ill', 'thatchampion', 'subpoena', 'arrives', 'tcot'], ['qotd', 'theres', 'also', 'alot', 'respect', 'across', 'spectrum', 'john', 'hickenlooper', 'marketmakers'], ['yes', 'tell', 'us', 'name', 'one', 'accomplishments'], ['time', 'move', 'good', 'words', '2', 'good', 'works', 'sound', 'bites', '2', 'sound', 'solutions', 'hillary', 'clinton', 'hillaryclinton'], ['hillaryclinton', 'loving', 'new', 'colorful', 'profile', 'pic', 'loveit'], ['jenafriedman', 'women', '60', 'dont', 'need', 'security', 'detail', 'according', 'society', 'invisible'], ['nothing', 'says', 'im', 'every', 'woman', 'like', '10', 'democrat', 'staffers', 'machine', 'shop', 'iowa', 'right', 'hillaryclinton', 'notreadyforhillary'], ['forgive', 'cherylrios', 'stupid', 'comments', 'women', 'president', 'blame', 'time', 'month', 'anyways'], ['dnewhauser', 'take', 'marco', 'rubio', 'gop', 'cannot', 'pander', 'latino', 'vote', 'pushing', 'policies', 'hurt', 'community'], ['low', 'key', 'would', 'interesting', 'female', 'president'], ['statedept', 'ambcathyrussell', 'adamsmith_usa', 'hillaryclinton', 'hillaryforia', 'barackobama', 'whole', 'world', 'supporting'], ['jvollmer08', 'hillaryforia', 'freedom_justice_equality_education', 'innovation', 'development', 'make', 'happy_life', 'utopia'], ['foxnews', 'marthamaccallum', 'billhemmer', 'whose', 'opportunist', 'nohillary2016'], ['naughtybeyotch', 'therealmadman23', 'dont', 'care', 'fiorina', 'seems', 'taking', 'sexist', 'gut', 'punches', 'media', 'msm'], ['hillary', 'doesnt', 'want', 'put', 'anyone', 'prison', 'anymore', 'obviously', 'worried', 'future'], ['alysssmithh', 'pant', 'suite', 'hillary', 'hide', 'thighs', 'hillarysdonors', 'hillarysbigannouncement', 'benghazi', 'obama'], ['brave', 'patriots', 'stop', 'hillary', 'going', 'replace', 'jeb', 'bush', 'lol', 'losers'], ['slate', 'rand', 'paul', 'never', 'potus', 'baltimoreuprising'], ['hillarys', 'campaign', 'events', 'scripted', 'dog', 'pony', 'shows', 'designed', 'shelter', 'vetting', 'b4', 'coronation'], ['way', 'support', 'hillary', 'elizabeth', 'warren', 'ran', 'karl', 'marx', 'running', '2016', 'clinton2016'], ['newstouse', 'mayorsrb', 'shes', 'busy', 'things', 'dont', 'get', 'know', 'like', 'talking', 'barackobama', 'cctf', 'edm', 'infosec'], ['bluesaloon', 'women', 'demographic', 'least', '50', 'nation', 'woman', 'symbolic', 'man'], ['futuretxleader', 'sanantonio', 'texas', 'sa', 'tx', 'ready', 'marcorubio', '2016', '210', 'spurs', 'teaparty', 'gop', 'republican'], ['first', 'time', 'rodeo', 'hillaryclinton', 'doesnt', 'care', 'likes', 'woman', 'mission', 'tough'], ['readyforhrc', 'support', 'encourage', 'hillaryclinton', 'president', 'unitedstates', 'world', 'success', 'women', 'world'], ['probably', 'perfect', 'everyonewhich', 'think', 'great', 'beginning', 'conversation'], ['grandparents', 'immigrants', 'except', 'werent', 'hillaryclinton', 'misspoke', 'oops'], ['hillaryclinton', 'womenintheworld', 'need', 'reestablish', 'global', 'system', 'dominated', 'love', 'affection', 'moral_humane', 'rt'], ['chipotle', 'employees', 'shouldnt', 'complain', 'hillary', 'left', 'nothing', 'tip', 'jar', 'theyre', 'lucky', 'didnt', 'dip', 'help'], ['johnkerry', 'balwanikapil', 'hillaryclinton', 'statedept', 'tomperriello', 'didnt', 'realize', 'paytoplaydiplomacy', 'big', 'hit'], ['berniesanders', 'running', 'president', 'dont', 'democrats', 'already', 'one', 'really', 'old', 'guy', 'running'], ['really', 'missing', 'economic', 'opportunity', 'could', 'making', 'millions', 'work', 'night', 'shift', 'hillaryclinton'], ['sexist', 'fuk', 'world', 'would', 'question', 'qualifications', 'former', 'secretary', 'state'], ['everydaysexism', 'atiksalt', 'may', 'say', 'sexism', 'rest', 'yall', 'shut'], ['saw', 'bit', 'hillaryclinton', 'speech', 'proud', 'hear', 'plans', 'policy', 'improvements', 'justice', 'system', 'thanks'], ['futuretxleader', 'yall', 'utep', 'ready', 'marcorubio', '2016', 'miners', 'ladyminers', 'universityoftexaselpaso', 'rubio', 'new'], ['hillaryclinton', 'end', 'lawless', 'clintonfoundation', 'jail', 'butcher', 'benghazi', 'arrest', 'rapist', 'billclinton', 'hillaryclinton'], ['hillaryclinton', 'champion', 'cattle', 'futures'], ['check', 'sick', 'changing80', 'media', 'pic', 'hillary', 'report', 'like', 'morningjoe'], ['foxnews', 'happeningnow', 'optics', 'problem', 'real', 'hillary', 'clinton', 'stood', 'clintoncash', 'iavotes'], ['chris_1791', 'newsbusters', '2', 'years', 'ago', 'hillary', 'never', 'answered', 'whether', 'used', 'private', 'email', 'liberal', 'media', 'passed', 'reporting'], ['great', 'see', 'mentor', 'repsusandavis', 'dcinsd', 'shes', 'right', 'qualified', 'candidate', 'ever', 'running', 'potus'], ['respect', 'law', 'respect', 'law', 'yes', 'needed', 'desperately', 'baltimoreriots'], ['bish', 'said', 'call', 'h'], ['hillaryclinton', 'hillary', 'pandering', 'logo', 'clintonfoundationscandal', 'clintoncash'], ['wondering', 'next', 'idiotic', 'gop', 'smear', 'hillaryclinton', 'coming', 'sure', 'dont', 'know', 'details', 'yet'], ['imagine', 'media', 'would', 'reacted', 'mitt', 'romney', 'didnt', 'tip', 'restuarant', 'tcot', 'uniteblue'], ['opposition', 'hard', 'work', 'trying', 'distract', 'voters', 'important', 'better', 'america', 'better', 'world'], ['hey', 'texasstate', 'bobcats', 'hope', 'yall', 'ready', 'marcorubio', '2016', 'texasstateuniversity', 'newamericancentury', 'texas', 'tcot'], ['bristola48', 'alciniah', 'mahogany1992', 'stphil', 'mzdivah67', 'progress4ohio', 'graceslick77', 'auntlulie', 'deejayedee', 'cool'], ['readyforhrc', 'hillaryclinton', 'support', 'encourage', 'hillaryclinton', 'president', 'unitedstates', 'world', 'success', 'women', 'world'], ['hillaryclinton', 'champion', 'data', 'removal'], ['hellofaprez', 'tompainejr12', 'yip', 'obama', 'dems', 'already', 'undermining', 'tcot'], ['297', 'days', 'register', 'vote1', 'year', '193', 'days', 'election', 'day', 'rockthevote', 'democrats', 'everyvotecounts'], ['id', 'still', 'rather', 'aaron', 'hernandez', 'president', 'hillary'], ['mayorlou', 'rand', 'would', 'offer', 'free', 'eye', 'exams', 'unitedblue', 'morningjoe'], ['gailtalk', 'trscoop', 'course', 'shell', 'handled', 'every', 'step', 'way', 'cant', 'risk', 'unscripted'], ['bill', 'liar', 'likable', 'tcot'], ['hillaryclinton', 'champion', 'authentic', 'southern', 'accents'], ['unless', 'democratic', 'party', 'competition', 'presidency', 'looks', 'like', 'im', 'going', 'voting'], ['futuretxleader', 'students', 'bayloruniversity', 'yall', 'ready', 'marcorubio', '2016', 'bu', 'baylor', 'bears', 'baylorbears', 'ne'], ['josephbenning', 'agree', 'better', 'like', 'severe', 'cold', 'better', 'pneumonia', 'good', 'luck'], ['reformedbroker', 'da', 'honies', 'gittin', 'money', 'playing', 'bleep', 'words', 'like', 'dummies', 'poppa'], ['hillaryclinton', 'stop', 'raising', 'taxes', 'let', 'people', 'keep', 'wages', 'libertynothillary', 'standwithrand'], ['bill', 'clinton', 'wants', 'first', 'dude', 'president', 'bang', 'one'], ['im', 'woman', 'president', 'stophillarypac'], ['lets', 'remember', 'dickcheney', 'unindicted', 'war', 'criminal', 'b4', 'start', 'yelling', 'benghazi', 'day', 'day', 'ever', 'see', 'justice'], ['clintonfdn', 'believe', 'andrew', 'fastow', 'beat', 'made', 'mistakes', 'many', 'organizations', 'size', 'excuse'], ['jsavoly', 'tedcruz', 'ya', 'go', 'teddy', 'boythe', 'world', 'getting', 'hotter', 'called', 'global', 'warming', 'youre', 'putz'], ['gunnjessica', 'want', 'young', 'american', 'women', 'able', 'proud', '1st', 'woman', 'president'], ['saudi', 'arabia', 'imprisons', 'flogs', 'rape', 'victims', 'womens', 'champion', 'hillaryclinton', 'accepted', 'millions', 'saudi', 'govt', 'tcot'], ['tjhansen', 'owillis', 'serious', 'trump', 'runs', 'youll', 'get', 'trump', 'tattoo', 'calling', 'donald'], ['hillaryclinton', 'bad', 'wife', 'bad', 'role', 'model', 'women', 'bad', 'lawyer', 'bad', 'first', 'lady', 'bad', 'senator', 'horrible', 'secretary', 'state'], ['hillary', 'transparent', 'brick', 'wall', 'libertynothillary'], ['everything', 'hillary', 'touches', 'ends', 'scam', 'lie', 'coverup', 'failure', 'william', 'l', 'want', 'president'], ['thehill', 'mamahillary', 'making', 'case', 'exclusively', 'deal', 'complex', 'social', 'issues', 'cnn', 'bbc', 'mamaclinton'], ['hey', 'universityoftexas', 'yall', 'ready', 'marcorubio', '2016', 'newamericancentury', 'ut', 'hookem', 'texas', 'longhorns', 'rubio', 'tcot'], ['realdonaldtrump', 'sir', 'vote', 'trump2016'], ['readyforhrc', 'hillaryclinton', 'hillaryclinton', 'us', 'presidency', 'testament', 'success', 'women', 'role', 'world'], ['lets', 'take', 'back', 'country', 'whos', 'democrats2016'], ['many', 'poor', 'kids', 'could', '25', 'billion', 'feed'], ['media', 'vocal', 'possibility', 'women', 'president', 'havent', 'said', 'anything', '1st', 'latino', 'president', 'bias'], ['bodycam', 'every', 'cop', 'private', 'servers', 'cabinet', 'secretaries'], ['march', '8', '2016', 'ohio', 'holding', 'primaries', 'date', 'subject', 'change', 'ohio', 'ourchampion'], ['go', 'watch', 'america', 'imagine', 'world', 'without', 'itll', 'make', 'realize', 'lucky', 'live', 'best', 'country', 'earth'], ['want', 'go', 'back', 'time', 'men', 'women', 'couldnt', 'appear', 'yearbook', 'old', 'school'], ['marijuana', 'marijuaage', 'equality', 'coincidence', 'think', 'not11'], ['maxtollensjr', 'onepercenter', 'lied', 'deadbroke', 'lies'], ['seanhannity', 'lost', '4000', 'military', 'boys', 'president', 'pulled', 'iraq', 'liberalconsequences'], ['cant', 'grow', 'economy', 'bottom', 'gets', 'trouble'], ['futuretxleader', 'universityofnorthtexas', 'yall', 'ready', 'marcorubio', '2016', 'unt', 'meangreen', 'northtexas', 'eagles', 'newa'], ['captyonah', 'thehill', 'fine', 'unethical', 'illegal', 'quid', 'pro', 'quo', 'uranium', 'deal', 'works'], ['hillary', 'stop', 'pizza', 'today', 'garner', 'italian', 'vote', 'msm', 'worthless', 'libertynothillary', 'hillno'], ['afraid', 'hillaryclinton', 'cant', 'answer', 'questions', 'press', 'want', 'potus'], ['lindasuhler', 'name', 'rebecca', 'grandmother', 'immigrated', 'sunnybrook', 'farm', 'twitchyteam'], ['hillaryclinton', 'droid', 'someones', 'programmed', 'say', 'things', 'thinks', 'doesnt', 'work', 'win', 'isnt'], ['ive', 'made', 'decision', 'shock', 'one', 'probably', 'im', 'supporting'], ['problem', 'libertarian', 'even', 'decreed', 'party', 'house', 'devided', 'stand', 'think', 'news'], ['anomaly100', 'im', 'confident', 'piss', 'white', 'anglosaxon', 'protestants', 'keep', 'talking', 'jeb'], ['many', 'days', 'endure', 'january', '20', '2017', 'obamahatesamerica'], ['dont', 'want', 'appointed', 'ambassador', 'post'], ['homeofunclesam', 'scotsfyre', 'rwnutjob1', 'sa_hartdegen', 'shes', 'old', 'understand', 'internetthat', 'fact', 'checked'], ['hillaryspeak', 'campaign', 'rhetoric', 'going', 'death', 'jmarkwalk'], ['slessard', '100', 'agree', 'need', 'woman', 'like', 'hillary', 'help', 'country', 'get', 'nursed', 'back', 'together'], ['whoever', 'let', 'known', 'support', 'marcorubio', 'never', 'sleeps', 'promote', 'newamericancentury', '247', 'texas', 'tx'], ['theyre', 'thugs', 'teaparty', 'racists', 'community', 'reorganizers', 'tcot', 'baltimoreriots'], ['hillaryclinton', 'notice', 'didnt', 'condemn', 'lawless', 'actions', 'rioters'], ['hillary', 'killing', 'far', 'trail', 'shes', 'finally', 'showing', 'personal', 'side', 'think', 'benefit', 'profoundly'], ['live', 'benghazi'], ['2013', 'clinton', 'foundation', 'collected', '140m', 'spent', '9m', 'direct', 'aid', '2014', 'raised', '500m', 'spent', '100m', 'direct', 'aid'], ['much', 'like', 'good', 'people', 'forgot', 'livetweetingbladerunner', 'couple', 'weeks', 'ago', 'callback', 'potroast', 'cartography', 'blue'], ['sallykohn', 'know', 'sure', 'past', 'actions', 'good', 'indicators', 'future', 'ones'], ['hillaryclinton', 'becomes', 'president', 'bill', 'become', 'first', 'man', 'therealquestions'], ['hillaryclinton', 'says', 'millionaire', 'politician', 'accepts', 'countries', 'execute', 'gays', 'hypocrite', 'wakeupamerica'], ['hillary', 'spotted', 'chipotle', 'im', 'craving', 'burrito', 'bowl'], ['ive', 'reading', 'say', 'im', 'wildly', 'impressed', 'hillary', 'clinton'], ['im', 'common', 'core', 'common', 'crooks', 'common', 'lies', 'nohillary2016', 'stophillaryclinton2016', 'whyimnotvotingforhillary'], ['communist', 'breadlines', 'thing', 'nohillary', 'whyimnotvotingforhillary'], ['hey', 'ellen', 'requesting', 'interview', 'hillaryclinton', 'macie', 'hensley', 'would', 'epic'], ['randpaul', 'buy', 'one', 'get', 'one', 'free', 'youre', 'idiot'], ['futuretxleader', 'everyone', 'waco', 'texas', 'ready', 'president', 'marcorubio', '2016', 'baylor', 'teaparty', 'gop', 'bears', 'conser'], ['hillary', 'way', 'baltimore', 'champion', 'baltimoreriots'], ['denial', 'works', 'hillary', 'mayor', 'baltimore', 'democratliesmatter'], ['rebeccalipson', 'freedom_justice_equality_education', 'innovation', 'development', 'make', 'happy_life', 'utopia'], ['im', '19', 'years', 'old', 'care', 'politics', 'elections', 'feel', 'like', 'im', '67', 'years', 'old'], ['hillary', 'lock', 'americans', 'classrooms', 'campaign', 'shell', 'problems', 'locking', 'us', 'whenever', 'wants'], ['although', 'certainly', 'disagreements', 'reading', 'governoromalley', 'much', 'rather', 'hillaryclinton'], ['hillary', '05', 'time', 'send', 'clear', 'msg', 'profitable', 'sector', 'economy', 'watched', 'tcot'], ['hillaryclinton', 'especially', 'paid', 'union', 'lackies', 'idea', 'propaganda', 'machine', 'spinning', 'overtime'], ['im', 'edge', 'seat', 'start', 'volunteering', 'hillaryclinton', 'presidential', 'campaign', 'excited', 'cantwait'], ['hillaryclinton', 'pick', 'senwarren', 'vp', 'mark', 'tweet', 'unstoppableticket', 'elizabethwarren'], ['hillary', 'clinton', 'driven', 'car', 'since', '1996', 'clintonfakerealityshow'], ['hillaryclinton', 'run', 'cat', 'hide', 'clintonfoundationscandal', 'clintoncash', 'emailgate'], ['damn', 'need', 'raise', '90s', 'last', 'time', 'got', 'one', 'let', 'thinkwho', 'president', 'inners'], ['hillary', 'win', 'heres', 'hoping', 'dems', 'offer', 'real', 'candidate', 'like', 'warren', 'warren2016'], ['natureguy101', 'marymorientes', 'support', 'encourage', 'hillaryclinton', 'president', 'unitedstates', 'world', 'success', 'women', 'world'], ['smileitsalicia', 'greekgummybear2', 'live', 'peace'], ['space', 'wide', 'open', 'establishment', 'cred', 'progressive', 'agenda', 'bring', 'back', 'teddy'], ['futuretxleader', 'southernmethodistuniversity', 'students', 'ready', 'marcorubio', '2016', 'smu', 'mustangs', 'rubio', 'newame'], ['46drhouse', 'interesting', 'see', 'hillary', 'defends', 'questioned', 'eventually', 'answer', 'questions'], ['ciaraantaya', 'cuz', 'know', 'im', 'feminist'], ['whitehouse', 'barackobama', 'hillaryforia', 'barackobama', 'whole', 'world', 'supporting'], ['use', 'brain', 'keep', 'hillary', 'white', 'houseclinton2016'], ['hillary', 'best', 'choice', 'truly', 'want', 'continue', 'progressive', 'nation', 'ohio'], ['case', 'emergency', 'push', 'button', 'scrub', 'server'], ['also', 'finally', 'moved', 'fdcity', 'today', 'much', 'easier', 'get', 'around', 'going', 'forward', 'moving'], ['hillaryclinton', 'top', 'spent', 'whole', 'career', 'growing', 'government', 'keeping', 'deck', 'stacked', 'libertynothillary'], ['marriage', 'equality', 'constitutional', 'right', 'woot', 'hrc2016', 'hillaryclinton', 'readyforhillary', 'vote', 'hillaryfor2016', 'mpotus'], ['hillary', 'needs', 'go', 'sheetz', 'gas', 'station', '10', 'pm', 'see', 'real', 'america'], ['hillary', 'clinton', 'makes', 'nixon', 'look', 'like', 'amateur', 'schoolboy', 'clintoncash', 'clintonfoundation', 'clinton'], ['lajouetreine', 'karrattipaul', 'im', 'genitalian'], ['little', 'tree', 'run', 'smell', 'thatchampion'], ['im', 'thatchampion', 'got', 'kicked', 'watergate', 'team', 'due', 'misconduct', 'tcot'], ['crazy', 'think', 'next', 'oval', 'office', 'either', 'going', 'hillary', 'republican'], ['join', 'twitter', 'movement', 'fav', 'mention', 'follow', 'back'], ['foundersgirl', 'artist_angie', 'want', 'first', 'female', 'competent'], ['nbcnews', 'stop', 'promoting', 'hillaryclinton', 'liar', 'like', 'impeached', 'husband', 'wakeupamerica'], ['hillarysaccomplishments', 'total', 'clusterfuck', 'anything', 'readyforhillary', 'uniteblue', 'topprog', 'tpot', 'libcrib'], ['im', 'going', 'apply', 'intern', 'job'], ['randpaul', 'hillaryclinton', 'could', 'never', 'dream', 'intelligent'], ['us', '21', 'trillion', 'debt', 'time', 'barackobama', 'leaves', 'office', 'double', 'debt', '43', 'presidents', 'libs'], ['youre', 'watching', 'hillaryclintons', 'speech', 'right', 'youre', 'missing', 'drop', 'tons', 'wisdom'], ['gap', 'rich', 'poor', 'widening', 'alarming', 'speed', 'chance', 'republicans', 'president', 'white', 'house'], ['ceo', 'pay', 'target', '2016', 'election', 'someone', 'makes', 'ceos', 'drank', 'koolaid'], ['hillary', '2007', 'certainly', 'think', 'free', 'market', 'failed', 'tcot'], ['vrwctexan', 'wow', 'shes', 'one', 'talk'], ['didnt', 'realize', 'bob', 'dole', 'mentioned', 'tupacs', 'u', 'want', 'yesterdaysleaders'], ['hillaryclinton', 'deceit', 'hand', 'thats', 'hand', 'know', 'well', 'right'], ['gave', 'unhealthy', 'amount', 'hardearned', 'money', 'away', 'big', 'govt', 'untrustworthy', 'irs', 'whyimnotvotingforhillary'], ['know', 'muslims', 'fought', 'america', 'every', 'major', 'war', 'hillaryclinton', 'potus', 'commonsense', 'goblue', 'logic'], ['xxoax', 'hillaryclinton', 'marymorientes', 'barackobama', 'whole', 'world', 'supporting'], ['ill', 'thatchampion', 'mrs', 'bill', 'clinton', 'entitles'], ['nm_edm', 'hillaryclinton', 'said', 'give', 'rainbow', 'youre', '1337', 'cctf', 'thought', 'edm', 'infosec', 'howibecameafan'], ['hillaryclinton', 'freedom_justice_equality_education', 'innovation', 'development', 'make', 'happy_life', 'utopia'], ['make', 'body', 'cameras', 'norm', 'everywhere', 'hillaryclinton'], ['hillaryclinton', 'long', 'husband', 'right'], ['wheres', 'campaign', 'store', 'real', 'question', 'ready', 'buy', 'hillary', 'gear'], ['doughughes', 'gyrocopter', 'pilot', 'honest', 'person', '2', 'enter', 'whitehouse', 'long', 'time', 'usa', 'corruption', 'congress', 'gop'], ['socalimilitia1', 'czaroffreedom', 'god', 'global', 'warming', 'melting', 'icebergs', 'never', 'gets', 'prosecuted', 'crimes', 'liberals'], ['koriwasinger', 'jbuttawipo', 'also', 'voted', 'iraq', 'war', 'responsible', 'gathering', 'thedemocrats', 'votes', 'support'], ['democrathashtag', 'gop', 'continue', 'widen', 'field', 'candidates', 'find', 'someone', 'named', 'ben', 'ghazi', 'run'], ['hale_razorhillaryaccomplishments', '1', 'select', 'people', 'fired', '4', '2', 'unethical', '2', 'investigate', 'watergate'], ['anthonycumia', 'hillary', 'elected', 'transition', 'team', 'together', 'smoothly', 'move', 'racist', 'sexist'], ['human', 'rights', 'womens', 'rights', 'womens', 'rights', 'human', 'rights', 'hillary', 'clinton'], ['hillary', 'lying', 'something', 'news', 'worthy', 'whats', 'news', 'worthy', 'doesnt', 'lie', 'something'], ['hillary', 'clinton', 'vs', 'bernie', 'sanders', 'primary', 'like', 'brawl', 'applesauce', 'retirement', 'home', 'readyforhillary'], ['also', '400000', 'speaking', 'fees', 'hillary', 'took', 'goldman', 'sachs', 'two', 'speeches', 'joan_vennochi'], ['63', 'think', 'hillary', 'clinton', 'may', 'helped', 'foreign', 'donors', 'secretary', 'state', 'rasmussen_poll'], ['take', 'faith', 'almost', 'every', 'political', 'entity', 'around', 'whether', 'dissident', 'serves', 'good', 'purpose', 'dempublicans'], ['gov', 'chafee', 'trying', 'make', 'fetch', 'happen', 'going', 'happen'], ['futuretxleader', 'corpuschristi', 'ready', 'marcorubio', '2016', 'hooks', 'cc', 'texas', 'tx', '361', 'keeptexasred', 'gop', 'tea'], ['proper', 'introduction', 'hillary', 'clinton', 'begin', 'five', 'words', 'defendant', 'please', 'rise', 'whyimnotvotingforhillary'], ['hillaryclinton', 'champion', 'potemkin', 'candidacy'], ['thehill', 'evanperez', 'kidding', 'meleave', 'focus', 'issuesthe', 'next', 'prez'], ['barackobama', 'need', 'reestablish', 'global', 'system', 'dominated', 'love', 'affection', 'moral_humane', 'rt'], ['omg', 'tjhooker', 'used', 'watch', 'wow', 'women', 'whit', 'house', 'would', 'thought', 'thegoldbergs'], ['hillary', 'clinton', 'keeps', 'sending', 'emails', 'try', 'unsubscribe', 'get', 'error', 'message', 'cancer'], ['americanewsroom', 'hillaryclinton', 'entire', 'campaignmark', 'words'], ['chrischristie', 'couldnt', 'run', 'way', 'paper', 'bag', 'let', 'alone', 'beat', 'hillaryclinton', 'go', 'home', 'chris', 'u', 'r', 'drunk', 'chrischristie'], ['im', 'thinking', 'hillary', 'throws', 'chelsea', 'bus', 'end', 'foundation', 'firestorm', 'clintoncash', 'thegreatergood', 'election2016'], ['hillary', 'clinton', 'ambassador', 'isis'], ['chris_1791', 'truthrevolt', 'doesnt', 'leave', 'much', 'talk'], ['upworthy', 'hillaryclinton', 'illegal', 'employer', 'discriminate', 'workers', 'equalityforall'], ['rightzone', 'wethepeoplepets', 'lets', 'hope', 'voters', 'remember', 'hillno'], ['dont', 'get', 'twisted', 'major', 'presidential', 'candidate', 'using', 'first', 'policy', 'speech', 'talk', 'mass', 'incarcertaion'], ['2', 'million', 'bogus', 'followers', 'twitter', 'hillaryclinton', 'whyimnotvotingforhillary'], ['students', 'bayloruniversity', 'yall', 'ready', 'marcorubio', '2016', 'bu', 'baylor', 'bears', 'baylorbears', 'newamericancentury', 'gop'], ['portiaaboulger', 'thank', 'adding', 'list'], ['rjoseph7777', 'go', 'ahead', 'brother', 'obamacare', 'saved', 'life', 'know', 'feel'], ['hillaryclinton', 'yet', 'release', 'clintonfdn', 'donors', 'public', 'deserves', 'disclosure', 'scandals', 'lies', 'clintons'], ['thing', 'would', 'pay', 'money', 'hear', 'hillary', 'clinton', 'say', 'quit', 'im', 'guilty', 'would', 'worth', 'millions'], ['tx_1', 'politicalmath', 'know', 'slippery', 'snakes', 'slither', 'shards', 'glass'], ['yall', 'texasamuniversity', 'excited', 'marcorubio', '2016', 'aggieland', 'tamu', 'gigem', 'aggies', 'texasam', 'tcot', 'gop'], ['hillaryclinton', 'twitter', 'followers', 'four', 'major', 'republican', 'candidates', 'bush', 'rubio', 'paul', 'cruz', 'combined'], ['technically', 'president', 'raging', 'hormones', 'could', 'refer', 'estrogen', 'testosterone', 'anabolic', 'steroids', 'iblamepublicschools'], ['obama', 'climate', 'change', 'bush', 'blame', 'hillary', 'right', 'wing', 'conspiracy', 'baltimore', 'balitmoreriots'], ['would', 'lmao', 'negro', 'democrat', 'decides', 'run', 'president', 'hillaryclinton2016', 'hillarysbigannouncement', 'hillarysdonors'], ['hillaryclinton', 'rails', 'big', 'politics', 'expected', 'bring', '2', 'billion', 'dollars'], ['sending', 'u', 'gay', 'bear', 'love', 'chicago', 'hillaryclinton', 'hillarymypresident'], ['hillary', 'clintons', 'campaign', 'slogan', 'ought', 'move', 'bitch', 'get', 'way', 'clinton2016', 'democrats'], ['politicaldoggy', 'sfutorian', 'yes', 'pbo', 'call', 'every', 'repub', 'fools', 'areall', 'uniteblue'], ['_poli_ana_', 'shes', 'got', 'blacklivesmatter', 'vote', 'wo', 'even', 'talking', 'blacks', 'brainwashed', 'thedemocrats'], ['conservatvegurl', 'us', 'also', 'brain', 'voting', 'hillary'], ['ding', 'dong', '____', '_____', '__', '____'], ['id', 'love', 'reporter', 'ask', 'sec', 'clinton', 'u', 'b', 'returning', 'white', 'house', 'china', 'elected', 'u', 'already', 'hock'], ['hillary', 'get', 'past', 'primaries', 'cause', 'dem', 'voters', 'dont', 'think', 'wrong', 'beat', 'november'], ['nacla', 'brasilwire', 'sos', 'obama', 'barackobama', 'joking', 'stopdilma', 'stoplula', 'stopforodesaopaulo'], ['thedemocrats', 'dncwomen', 'im', 'help', '2016', 'election'], ['lol', 'many', 'people', 'around', 'hate', 'hillary'], ['jebbush', 'brought', 'georgebush', 'closetif', 'gonna', '2016', 'bring', 'bushes'], ['wsj', 'clinton', 'foundation', 'keep', 'accepting', 'bribes', 'foreign', 'governments', 'whyimnotvotingforhillary'], ['norsu2', 'secret', 'clinton', 'docs', 'gee', 'surprise'], ['goldentalon', 'johnmanko', 'cassandrarules', 'contrary', 'happy', 'win', 'enjoy', 'seeing', 'liberal', 'cities', 'burn', 'go'], ['think', 'going', 'vote', 'monica', 'lewinskys', 'ex', 'boyfriends', 'wife'], ['far', 'realdonaldtrump', 'thats', 'fucking', 'far', 'baltimoreuprising', 'obama'], ['hillaryclinton', 'portuguese', 'support', 'campaign', 'best', 'luck', 'world', 'need', 'person', 'women', 'like', 'usa'], ['dont', 'lawyer', 'know', 'clintons', 'violated', 'ethics', 'rules'], ['hillaryclinton', 'rich', 'saudi', 'donors', 'execute', 'gays', 'join', 'team', 'hypocrite', 'wakeupamerica'], ['cheryl_rrios', 'wrong', 'sexist', 'shes', 'dumb', 'bitch'], ['would', 'wanna', 'long', 'term', 'relationship', 'bitch', 'hides', 'emails', 'lies', 'face', 'dontvote'], ['barackobama', 'love_peace', 'peaceful', 'coexistence', 'violence', 'terrorism'], ['yes', 'community', 'policing', 'answer', 'rebuilding', 'trust', 'communities', 'law', 'enforcement', 'people', 'serve'], ['futuretxleader', 'hey', 'texasstate', 'bobcats', 'hope', 'yall', 'ready', 'marcorubio', '2016', 'texasstateuniversity', 'newamericance'], ['want', 'hear', 'something', 'really', 'ugly', '1', '5', 'women', 'sexually', 'assaulted', 'time', 'college', 'misogynyisugly'], ['elizabeth', 'cady', 'stanton', 'die', 'could', 'get', 'upset', 'fuckbois', 'dont', 'text', 'back'], ['womans', 'place', 'made', 'feel', 'uncomfortable', 'walking', 'street', 'poppysmart'], ['virginradioto', 'mauragrierson', 'maura', 'tucker', 'morning', 'equality', 'seniority'], ['person', 'needed', 'younger', 'ayesha', 'siddiqi', 'quote'], ['whether', 'label', 'feminist', 'think', 'important', 'address', 'equal', 'rightstaylor', 'swift'], ['thing', 'ugly', 'god', 'damn', 'opinions', 'idiotic', 'people', 'started', 'tag'], ['yaahnemba', 'ever', 'thought', 'maybe', 'blue', 'jeans', 'hates', 'everyone', 'world', 'made'], ['free', 'bleeding', 'gross', 'ur', 'misogynist', 'ineedfriends'], ['enews', 'tell', 'terrencej', 'stop', 'speaking', 'women', 'belittling', 'manner', 'never', 'lie', 'women', 'equality', 'asshole'], ['contrary', 'stereotype', 'see', 'feminists', 'social', 'media', 'championing', 'causes', 'benefit', 'men', 'yesallwomen', 'heforshe'], ['mrramsbottom', 'instruct', 'madebyreformat', 'studiodbd', 'luketonge', 'stop', 'tweeting', 'cause', 'joewellmade', 'wants', 'tea', 'making'], ['pretty', 'excited', 'piece', 'im', 'writing', 'tomorrow', 'internalized', 'misogyny', 'female', 'grooming', 'bam'], ['take', 'personally', 'people', 'call', 'dog', 'toni', 'girls', 'name'], ['male', 'rape', 'one', 'underreported', 'crimes', 'male', 'rape', 'survivors', 'among', 'underserved', 'crime', 'victims'], ['u', 'feminist', 'wo', 'bein', 'bitch', 'u', 'also', 'embrace', 'ur', 'sexuality', 'wo', 'loose', 'morals', 'empowerallbodies', 'empoweringwomen'], ['yes', 'women', 'fair', 'men', 'staying', 'home', 'shamed', 'society', 'must', 'change', 'ppl', 'additudes', 'everydaysexism'], ['women', 'dont', 'make', '75', 'less', 'men', 'job', 'women', 'average', 'make', 'less', 'men', 'look', 'feminazis', 'equalpayday'], ['yesallwomen', 'maybe', 'travisalexander', 'committed', 'violenceagainstwomen', 'hed', 'alive', 'today', 'jodiarias'], ['ananddaranand', 'stopping', 'foe', 'ur', 'tlif', 'u', 'noticewas', 'encouraging', 'u', 'post', 'topics', 'im', 'interested', 'tl', 'vaw'], ['feminists', 'dont', 'even', 'understand', 'feminism'], ['jowilliams293', 'feminists', 'go', 'gym', 'lose', 'weight', 'stop', 'blame', 'society', 'everything'], ['links', 'sauga', 'gotta', 'stop', 'chincing', 'girls', 'taking', 'away', 'extra', 'bit', 'iknowyoudoit', 'equality'], ['mike_charmander', 'mslatina', 'right', 'doesnt', 'come', 'law', 'theyre', 'called', 'equal', 'rights', 'equal', 'laws'], ['thomas_ral', 'feminists', 'dont', 'know', 'fighting', 'ego', 'maniacs', 'want', 'theyre', '15', 'minutes', 'fame', 'c4news'], ['upsets', 'people', 'narrowminded', 'comes', 'feminism', 'stereotyping', 'men'], ['bethany_jaynew', 'cool', 'got', 'greenlight', 'im', 'back', 'ur', 'side'], ['im', 'going', 'walk', 'thru', 'helen_a13', 'get', 'feminists', 'idea', 'saying', 'bristolben'], ['ukip', 'also', 'policy', 'removing', 'feminists', 'entirety', 'thanks', 'help', 'voteukip'], ['weneedfeminism', 'school', 'taught', 'us', 'penis', 'never', 'mentioned', 'clitoris'], ['every', 'time', 'told', 'bossy', 'rather', 'assertive', 'took', 'compliment'], ['feminist', 'says', 'something', 'women', 'treated', 'equal', 'human', 'beings', 'asshole', 'youre', 'ugly', 'wow', 'nice', 'okay', 'lmao'], ['vote4pedro___', 'lied', 'idiot', 'fact', 'reason', 'wont', 'acknowledge', 'facts', 'also', 'reason'], ['woolandbrick', 'well', 'guilty', 'idiot', 'police', 'dropped', 'investigation', 'paulnungesser', 'emmasulkowicz', 'feminazi'], ['pope', 'francis', 'christians', 'support', 'equal', 'pay', 'equal', 'work', 'popefrancis', 'worldnews', 'society', 'women'], ['hey', 'firstworld', 'country', 'white', 'women', 'bitching', 'gender', 'inequality', 'youre', 'going', 'fine', 'killallmen'], ['piddy_x', 'nero', 'cyberstalin', 'attempt', 'godfreyelfwick', 'parody', 'proteinworld', 'baltimoreriots', 'socialism'], ['lynne_maybe', 'always', 'im', 'sure', 'hes', 'scum', 'bag', 'man', 'sweet', 'innocent', 'victim'], ['youre', 'girl', 'sex', 'drive', 'must', 'slut', 'feminist'], ['met', 'first', 'radical', 'feminist', 'today', 'holy', 'shit', 'amazing', 'much', 'go', 'wrong', 'brain', 'wtf'], ['dont', 'love', 'twitter'], ['men', 'want', 'credit', 'women', 'feminists', 'feminists', 'theyre', 'men', 'wanting', 'privileges', 'vaw', 'p2'], ['stupid', 'feminists', 'civilization', 'take', 'granted', 'built', 'labour', 'blood', 'sweat', 'tears', 'men'], ['aliciapoosays', 'man', 'pay', 'woman', 'hes', 'longer', 'married', 'shouldnt', 'custody', 'equal', 'equality'], ['feminist', 'supports', 'gender', 'equality', 'people', 'believe', 'womans', 'value', 'lies', 'physical', 'beauty'], ['kristen', 'stewart', 'hollywood', 'disgustingly', 'sexist', 'kristenstewart', 'cloudsofsilsmaria', 'culture', 'women'], ['starsthomas', 'dear', 'god', 'fat'], ['whenindoubtdo', 'trigger', 'levels', '9000'], ['foreigncorrespo', 'im', 'never', 'bored', 'ppl', 'easily', 'get', 'bored', 'like', 'profess', 'generally', 'boring', 'weak', 'wimpout'], ['spectator', 'exactly', 'women', 'weak', 'incapable', 'sight', 'one', 'slim', 'skin', 'giving', 'attack', 'vapours'], ['__heyheather', 'cooimemegirl', '18', 'years', 'forced', 'child', 'support', 'slavery', 'forced', 'employment', 'slavery'], ['gotta', 'love', 'respect', 'feminists', 'give', 'dont', 'wanna', 'feminist', 'note', 'sarcasm', 'idontneedfeminism'], ['wonderful', 'interview', 'blakelively', 'stylistmagazine', 'refreshing', 'feminist', 'views'], ['thefemaleboook', 'meninisttweet', 'lmao', 'fact', 'use', 'bunch', 'airbrushed', 'fake', 'ass', 'celebrities'], ['patsymaureen', 'females', 'turn', 'man', 'hating', 'feminists', 'man', 'fancys', 'theyre', 'dyke', 'lesbian', 'asss'], ['much', 'radical', 'feminist', 'feminist', 'start', 'rethinking', 'position', 'feminism'], ['contempo', 'qiwaamahlonger', 'paid', 'maternity', 'leaveflexi', 'working', 'hoursonsite', 'childcarebreastfeedingbreastpumping', 'roomsequal', 'pay'], ['amin86660132', 'justsoshelby', 'nice', 'work', 'im', 'happy', 'hear', 'autistic', 'friend', 'able', 'express', 'way'], ['believe', 'every', 'women', 'rights'], ['kellyhollon44', 'hilaryclinton', 'married', 'serial', 'violent', 'sex', 'offender', 'cocaine', 'trafficker', 'go', 'corporate'], ['feminist', 'block', 'speak', 'true'], ['msluuna', 'women', 'dont', 'need', 'shave'], ['krewellajahan', 'feminism', 'equal', 'womans', 'rights', 'feminism', 'vaulting', 'one', 'gender', 'another', 'equality'], ['watching', 'baltimoreriots', 'fox', 'news', 'obvious', 'feminist', 'goony', 'beardman', 'following', 'reporter', 'around', 'attention'], ['fact', 'people', 'think', 'women', 'need', 'appealing', 'attractive', 'heardseen', 'equal', 'need', 'feminism'], ['daily_feminism', 'give', 'us', 'follow', 'back', 'feminist'], ['feministfailure', 'flexifer', 'upandgouk', 'shes', 'showing', '77', 'less', 'skin', 'boys', 'equalskinday', 'oppressed'], ['andybud_o', 'mito', 'eve', 'model', 'explicit', 'prove', '1', 'ancestor', 'narrows', 'similarities', 'matter', 'degree'], ['__florencesmith', 'women', 'equal', 'rights', 'feminists', 'made', 'women', 'equal', 'men', 'go', 'read', 'animal', 'farm'], ['pizzapartyben', 'omg', 'u', 'misogynistic', 'oppressor', 'need', 'rapeculture', 'patriarchy'], ['womens', 'rights', 'humanrights', 'join', 'cpdvoices', 'twitter', 'rally', '3pm', 'et', 'agree', 'cpd48'], ['lol', 'stupid', 'think', 'point', 'theyre', 'ugly', 'inside', 'posting', 'selfies', 'ur', 'accomplishing', 'nothing'], ['awyee707', 'tigerclaud', 'compared', 'playing', 'dolls', 'violent', 'disposition', 'two', 'different', 'things', 'gamergate'], ['see', 'yesallwomen', 'held', 'equally', 'accountableresponsible', 'actions', 'choices', 'bucketlist', 'hellwillfreezeover'], ['danibchristen', 'yesa', 'greater', 'understanding', 'urs', 'superior', '2', 'mine', 'lol', 'idontneedfeminism'], ['dont', 'antimen', 'prowomen', 'shequotes', 'quote', 'women', 'men'], ['queen', 'royalty', 'race', 'king', 'prince'], ['need', 'feminism', 'man', 'room', 'full', 'women', 'ecstatic', 'woman', 'room', 'full', 'men', 'terrified'], ['paul6613', 'jameiswinston', 'needs', 'sue', 'keith', 'olbermann', 'slander', 'defamation', 'yesallwomen', 'ericakinsman', 'falseaccuser'], ['alexisxisabel', 'proved', 'real', 'feminist', 'speaking', 'girls', 'difficult'], ['give', 'attention', 'never', 'gave', 'anyone', 'else', 'extremerules', 'nepalearthquake', 'freddiegray', 'rhoareunion'], ['putting', 'finishing', 'touches', 'feministthemed', 'cryptic', 'crossword', 'standard', 'crosswords'], ['v', 'cant', 'wait', 'see'], ['sammikluber', 'im', 'stating', 'facts'], ['jest', 'mans', 'world', 'yknow', 'kaitlyn', 'ill', 'blow', 'world'], ['know', 'whats', 'ugly', 'cant', 'going', 'short', 'skirt', 'without', 'judged'], ['courting', 'patriarchal', 'approval', 'condemns', 'sisters', 'abuse', 'physical', 'appearance', 'patriarchyisugly'], ['ok', 'married', '49yearold', 'ceo', 'use', 'power', 'influence', 'shag', '22yearold', 'intern', 'askhillary'], ['feminism', 'today', 'focuses', 'microagressions', 'wage', 'gap', 'fake', 'work', 'fixing', 'social', 'attitudes', 'ending', 'rape', 'culture'], ['randomtweetor', 'hate', 'break', 'u', 'bruh', 'women', 'get', 'pretty', 'us', 'get', 'pretty', 'show', 'women', 'feminist'], ['whenever', 'someone', 'picks', 'actress', 'last', 'man', 'stanton', 'p', 'dismal', 'sad', 'questionmark'], ['myrainbowninja', 'notallbhas', 'farm', 'fucking', 'disgusting'], ['guy', 'called', 'gentleman', 'holding', 'door', 'open', 'corrected', 'said', 'im', 'sorry', 'gentlewoman'], ['love', 'girl', 'ericwynalda', 'meganrapinoe_15', 'hell', 'foxsports1', 'way', 'diminish', 'womens', 'soccer', 'uswnt'], ['brigadam', 'klarajoelsson', 'made', 'best', 'case', 'feminist', 'equality', 'ever', 'fuck', 'feminism'], ['james_wtf', 'dont', 'saying', 'inconvenient', 'truths', 'might', 'hurt', 'narrative'], ['gotta', 'fuck', 'never', 'feel', 'like', 'gotta', 'fuck', 'somebody'], ['evelynlns', 'jes_chastain', 'agree', '100', 'radiates', 'beauty', 'inside', 'role', 'model'], ['lehi', 'high', 'school', 'favorite', 'school', 'due', 'cltnroberts', 'ps', 'yo', 'gleaves', 'hit', 'mondaymotivation', 'whatareyouafraidof'], ['people', 'male', 'female', 'females', 'always', 'upset', 'told', 'couldnt', 'achieve', 'boyman'], ['barely', 'mind', 'need', 'tell', 'best', 'entertain', 'fckyou', 'literallydisappearplz'], ['thanks', 'laughs', 'tonight', 'amyschumer', 'social', 'commentary', 'wasnt', 'bad', 'either', 'equalpay', 'girlyoudontneedmakeup'], ['ugly', 'ass', 'white', 'boy', 'got', 'rejected', 'girl', 'made', 'stupid', 'hashtags'], ['tc_stompa', 'understand', 'women', 'abandon', 'babies', 'whenever', 'want', 'men', 'stuck', 'bill'], ['resist', 'feminism', 'us', '2016', 'election', 'killed', 'raped', 'death', 'uselections'], ['live', 'world', 'youre', 'either', 'bitch', 'doormat'], ['carly_senatore', 'also', 'im', 'assuming', 'claim', 'oneyet', 'called', 'idiot', 'dont', 'even', 'know', 'nice'], ['doesnt', 'take', 'miracle', 'takes', 'signature', 'kind', 'people', 'know', 'kill', 'innocent', 'women', 'maryjanelives'], ['starting', 'compile', 'evidence', 'blog', 'post', 'modern', 'feminism', 'shares', 'traits', 'nazi', 'propaganda', 'antifeminism'], ['men', 'women', 'equal', 'men', 'rapists', 'okay'], ['ive', 'removed', 'term', 'feminist', 'bio', 'racist', 'transphobic', 'white', 'feminists', 'fucked', 'everyone'], ['support', 'unequal', 'pricing', 'based', 'gender', 'camillebogrand', 'dont', 'normally', 'call', 'sexism', 'equalpayday'], ['_sarcasmspasm', 'mt8_9', 'theres', 'added', 'level', 'irony', 'chosen', 'figureheads', 'really', 'body', 'positive', 'amirite'], ['paul', 'elam', 'one', 'hated', 'men', 'alive', 'right', 'feminist'], ['beeeatles', 'list', 'real', 'please', 'god', 'better', 'joke', 'man', 'woman', 'ever', 'pay', 'attention', 'shit', 'pissed'], ['hey', 'prolifeers', 'socrates', 'born', 'mortal', 'mother', 'thus', 'doomed', 'die', 'murderer'], ['lucyblakeman12', 'need', 'feminism', 'need', 'anything', 'else', 'life', 'couldnt', 'survive', 'speak', 'wo'], ['agratha', 'feminist', 'logic', 'awesome', 'youre', 'piece', 'shit', 'nice', 'learn', 'patriarchy', 'means', 'dumb', 'shit'], ['dont', 'understand', 'concept', 'male', 'feminist', 'doesnt', 'get', 'peoples', 'heads', 'equality', 'anyone', 'feminist'], ['im', 'sure', 'schadenfreudes', 'stand', 'much', 'tickling', 'mt8_9', 'prettysing'], ['jsgingersnap', 'class', 'today', 'kid', 'said', 'feminists', 'hate', 'men', 'ok', 'sweetie'], ['atheistadvocate', '1', 'man', 'spread', 'genetic', 'material', 'much', 'greater', 'frequency', 'evolutionary', 'fitness', '1', 'female'], ['yesallwomen', 'know', 'protect', 'carry', 'gun', 'republicanvalues'], ['woman', 'sex', 'object', 'shes', 'person', 'truth', 'wisdom', 'womensrights', 'media', 'life', 'humanity', 'love', 'society'], ['tc_stompa', 'cooimemegirl', 'condoms', 'fail', 'unplanned', 'pregs', 'happens', 'either', 'parents', 'get', 'abortion', 'rights', 'neither'], ['guess', 'wanting', 'trying', 'make', 'world', 'better', 'place', 'everyone', 'makes', 'ugly', 'feminist'], ['mras', 'tried', 'enlighten', 'went', 'well', 'flight', 'hindenburg'], ['moonsmuke', 'wow', 'threat', 'violence', 'feminist', 'ive', 'nothing', 'polite', 'might', 'report'], ['feminists', 'ugly', 'fact', 'isnt', 'equal', 'rights', 'men', 'women', 'feministsarebeautiful'], ['nailed', 'another', 'black', 'feminist', 'banged', 'hard', 'shit', 'wife', 'ended', 'cleaning', 'shit', 'baltimoreriots'], ['femfreq', 'wanna', 'generalize', 'gamergate', 'done'], ['ever', 'coined', 'term', 'mansplaining', 'fucking', 'cunt'], ['noticed', 'never', 'see', 'really', 'beautiful', 'feminists', 'wonder'], ['feminists', 'spent', '12', 'much', 'time', 'reading', 'papers', 'tumblr', 'would', 'real', 'people', 'ignorant', 'sexist', 'bigots'], ['fsurhet', 'protip', 'maybe', 'familiarize', 'recent', 'trending', 'topicsmeninist', 'blacklivesmatter', 'baltimoreriots'], ['suns', 'dresses', 'streetharassment', 'shouldnt', 'daily', 'life', 'yesallwomen', 'everydaysexism'], ['lol', 'whats', 'ugly', 'wanting', 'equal'], ['im', 'reading', 'gg', 'tweets', 'getting', 'angrier', 'fuuuuuuuuuuuck', 'men', 'privileged', 'time', 'bed', 'feminismisawfullygreat'], ['oh', 'equality', 'shall', 'stop', 'feminist', 'asap'], ['emwallbank', 'listen', 'well', 'im', 'ready', 'tell', 'need', 'cannot', 'deny', 'hsmsong'], ['physical', 'appearance', 'doesnt', 'define', 'worthpeople', 'heard', 'whether', 'theyre', 'conventionally', 'attractive'], ['wearefemstrong', 'wonder', 'itd', 'like', 'wear', 'dress', 'sexually', 'harassed', 'yesallwomen'], ['vivvyyy', 'whats', 'wrong', 'getting', 'dick', 'come', 'guys', 'theyre', 'praised', 'sexist'], ['true', 'form', 'aaronhernandez', 'fiance', 'held', 'accountable', 'role', 'yesallwomen', 'accountability', 'like', 'oil', 'water'], ['women', 'superior', 'men', 'every', 'aspect', 'feminist'], ['extinction', 'insectsdangerous', 'herbsgigolo', 'servicesreligious', 'fanaticismfake', 'beercansy', 'malaysia', 'radiomedia', 'fail2discuss'], ['anyone', 'find', 'funny', 'feminists', 'use', 'takeitlikeaman', 'dont', 'want', 'understand', 'means', 'one'], ['theruies', 'xdirtydianna', 'shes', 'clearly', 'part', 'squad', 'females', 'cant', 'guys', 'without', 'looked', 'hoe'], ['upsetting', 'however', 'greeted', 'shock', 'disgust', 'fact', 'ambition'], ['say', 'woman', 'two', 'black', 'eyes', 'nothing', 'shes', 'already', 'told', 'twice'], ['qotd', 'misogyny', 'feminism', 'lexialex', 'nototally', 'podcast'], ['rod_mccallum', 'youre', '55yrs', 'outofdate', 'thought', 'could', 'interesting', 'youre', 'old', 'news', 'bored', 'bye'], ['victoriacoren', 'article', 'women', 'politics', 'months', 'elleuk', 'must', 'read', 'generalelection', 'politics', 'women'], ['feminismvibes', 'men', 'dont', 'admit', 'raped', 'readily', 'women', 'question', 'feminist', 'bullshit'], ['awyee707', 'respect', 'trucksuck', 'respect', 'girls', 'innate', 'chosen', 'dolllove'], ['cooimemegirl', 'feminists', 'believe', 'mothers', 'say', 'fathers', 'body', 'job', 'money'], ['opened', 'blenders', 'vhs', 'girls', 'bathroom', 'today', 'themoreyouknow'], ['read', 'im', 'anally', 'raping', 'right', 'yesallwomen', 'heforshe', 'thisfuckingguy'], ['read', 'rather', 'good', 'article', 'females', 'perceivedimposed', 'limits', 'throughout', 'education', 'system', 'work', 'place'], ['ayyy', 'feminists', 'wanna', 'buy', 'drink'], ['pretend', 'people', 'calling', 'ugly', 'post', 'selfie', 'brag', 'disagreement', 'equal', 'misogyny'], ['radios', 'r', 'filled', 'feminist', 'rape', 'propaganda', 'feminism', 'alive', 'n', 'well', 'malaysia', 'rape', 'guilt', 'tactics', 'wont', 'silence'], ['take', 'solace', 'knowing', 'least', 'means', 'dont', 'know', 'useless', 'hack', 'thehiredmind'], ['cooimemegirl', 'damn', 'wage', 'gap', 'sneaky', 'men', 'work', 'longer', 'hours', 'dangerous', 'jobs', 'get', 'paid'], ['wanted', 'pursue', 'career', 'rather', 'settle', 'start', 'family', '20s', 'even', 'people', 'still', 'tell', 'time', 'ticking'], ['excited', 'hear', 'author', 'leoratanenbaum', 'slutshaming', 'age', 'ofthe', 'internet', 'slutshaming'], ['cooimemegirl', 'tc_stompa', 'women', 'dont', 'understand', 'mens', 'plight', 'shouldnt', 'force', 'men', 'fatherhood', 'wo', 'consent'], ['eating', 'bagel', 'rocking', 'man', 'feel', 'like', 'woman', 'ponytail', 'freedom'], ['saying', 'alllivesmatter', 'instead', 'blacklivesmatter', 'like', 'saying', 'equal', 'rights', 'instead'], ['teach', 'young', 'rubbernormative', 'messages', 'use', 'condoms', 'rawdogging', 'somehow', 'wrong', 'teamnocondom'], ['pissed', 'got', 'talked', 'didnt'], ['today', 'watch', 'united', 'states', 'supreme', 'court'], ['sydneygrunklee1', 'man', 'man', 'wants', 'body', 'well'], ['sirwilliamvalen', 'insulting', 'thinking', 'make', 'switch', 'like', 'wasnt', 'written', 'us', 'wasnt', 'us'], ['walking', 'neighborhood', 'saw', '5', 'different', 'fathers', 'taking', 'care', 'toddler', 'woman', 'nearby', 'househusband'], ['women', 'strong', 'women', 'smart', 'women', 'bold', 'feministsarebeautifulisalovemovement'], ['yelled', 'boyfriend', 'trying', 'let', 'win', 'mortal', 'kombat', 'x'], ['real', 'life', 'gets', 'controversial', 'scroll', 'social', 'media', 'faster', 'baltimoreriots', 'nepalearthquake', 'kyliejennerchallenge'], ['feminists', 'prove', 'wage', 'gap', 'yet', 'lawsuits', 'come', 'forward', 'women', 'paid', 'less', 'maybe', 'doesnt', 'exist'], ['sexism', 'power', 'plus', 'prejudice', 'anita', 'sexist', 'definition', 'new', 'title', 'time', 'anitasarkeesian'], ['draumkunta', 'also', 'sorry', 'im', 'busy', 'gorgeous', 'feminist', 'give', 'shit', 'beauty', 'standards'], ['hooks', 'says', 'continueeven', 'though', 'hard', 'causes', 'pain', 'people', 'look', 'whatawoman', 'bellhooks', 'love'], ['maritalrape', 'law', 'misused', 'dont', 'give', 'scope', 'men', 'prove', 'innocenceeven', 'honest', 'men', 'trapped', 'slaughtered'], ['always', 'infuriates', 'male', 'would', 'asked', 'questions', 'would', 'stereotyped', 'bitch', 'cold', 'hearted'], ['umrao', 'jaan', 'ada', 'story', 'life', 'prostitute', 'poise', 'poesy', 'womanpower'], ['wont', 'complain', 'equal', 'rep', 'girls', 'gaming', 'princess', 'peach', 'zelda', 'kickass', 'women', 'samus', 'beast', 'hello', 'gaming'], ['honoured', 'followed', 'truly', 'inspirational', 'kon__k', 'founder', 'asrc1', 'realaustralianssaywelcome', 'thethingsthatmatter'], ['foreigncorrespo', 'quote', 'simone', 'doesnt', 'mean', 'understand', 'modern', 'femmienism', 'whining'], ['_sarcasmspasm', 'mt8_9', 'killallmen', 'anyone', 'oh', 'sorry', 'thats', 'ironic', 'misandry', 'feminist', 'comedy', 'ladies', 'gentlerapists'], ['pics', 'pornstars', 'withwithout', 'makeup', 'perpetuating', 'myth', 'women', 'need', 'makeup', 'considered', 'pretty'], ['tc_stompa', 'see', 'said', 'equal', 'stupid', 'duh', 'duh', 'duh'], ['wonder', 'feminism', 'top', 'gonna', 'arrive', 'need', 'bit', 'happiness', 'stress', 'studying', 'collegelife'], ['job', 'always', 'go', 'best', 'candidate', 'regardless', 'gender', 'gender', 'shouldnt', 'even', 'matter', 'anymore', '2015', 'paulhenry'], ['lets', 'fight', 'womens', 'equality', 'read', 'blog', 'join', 'cause', 'womans', 'rights', 'gender', 'equality'], ['rsiereilly', 'ive', 'pretty', 'well', 'enjoyed', 'response'], ['youre', 'feminist', 'hate', 'men', 'please', 'kill'], ['rossansguil', 'nothing', 'like', 'dudes', 'joking', 'molesting', 'right', 'face'], ['proteinworld', 'dont', 'worry', 'feminists', 'press', 'good', 'press', 'ordering', 'products', 'soon'], ['feminismvibes', 'rights', 'men', 'country', 'women', 'lack'], ['weneedfeminism', 'nomeansno', 'doesnt', 'mean', 'yes', 'doesnt', 'mean', 'try', 'harder', 'yesallwomen', 'yesallwomen', 'rt'], ['diistantecho', 'wee', 'sister', 'believes', 'santa', 'claus', 'feminism', 'think', 'harder', 'means'], ['length', 'time', 'take', 'bath', 'directly', 'relates', 'whats', 'happening', 'twitter', 'mondaymotivation', 'worlds2015'], ['allcapsbro', 'ideal', 'vagina', 'words', 'go', 'together'], ['demias20', 'misogynist', 'patriarchy', 'rapist', 'neckbeard', 'harasser', 'evil', 'mansplain', 'manspread', 'woman', 'hater', 'born', 'rapist', 'etc', 'etc', 'etc'], ['time', 'gender', 'equality'], ['wonder', 'would', 'happen', 'riots', 'started', 'breaking', 'across', 'globe', 'poorly', 'women', 'treated', 'men'], ['cooimemegirl', 'feminists', 'reject', 'ignore', 'fight', 'equality', 'might', 'hurt', 'women', 'thats', 'equality', 'duh'], ['want', 'equality', 'theyre', 'overpowering', 'men', 'feminazi'], ['girlswomen', 'spend', 'much', 'time', 'pretty', 'attractive', 'complain', 'theyre', 'reduced', 'sex', 'symbol'], ['wonder', 'itd', 'like', 'wear', 'dress', 'sexually', 'harassed', 'yesallwomen'], ['meredith', 'giving', 'crap', 'greatbut', 'holy', 'crap', 'peggy', 'spoilers', 'damn', 'great', 'scene', 'peggy', 'madmen'], ['women', 'get', 'paid', 'far', 'men', 'appear', 'pornography', 'come', 'one', 'talking', 'blatant', 'sexism', 'amazingatheist'], ['people', 'call', 'beautiful', 'really', 'ugliest', 'deep', 'edgy', 'philosophy', 'baltimoreriots', 'baltimore'], ['closest', 'gender', 'study', 'graduate', 'would', 'ever', 'come', 'studying', 'computer', 'science', 'uttering', 'word', 'binary'], ['part', 'want', 'gay', 'porn', 'contrastchallenge', 'objectification', 'women', 'men', 'exploitation', 'self'], ['nice', 'see', 'many', 'hockey', 'writers', 'enlightened', 'enough', 'compliment', 'sedins', 'calling', 'sisters', 'canucks'], ['mit5_anders', 'paraphrase', 'friedan', 'drive', 'deprived', 'data', 'data', 'expand', 'fill', 'space', '1960s'], ['uncorbeau', 'check', 'genderidentitythatmatchesmysexualorgans', 'privilege'], ['finally', 'women', 'running', 'president'], ['women', 'hollywood', 'still', 'getting', 'paid', 'less', '2015'], ['suicidaljac3', 'eat', 'pus', 'somethin', 'lozer'], ['whether', 'youre', 'referring', 'physical', 'internal', 'beauty', 'shouldnt', 'bashing', 'anyone', 'else', 'cool', 'beadecenthuman'], ['antihero94', 'girl', 'werk', 'w', 'whatcha', 'got'], ['johnny_nimble', '__heyheather', 'cooimemegirl', 'equality', 'term', 'used', 'feminists', 'poorly', 'hide', 'supremacist', 'agendas'], ['foxtrotjames', 'kind', 'see', 'shes', 'femalepower', 'yolo'], ['claim', 'feminist', 'either', 'dont', 'understand', 'feminism', 'huge', 'societal', 'problem'], ['oakleyftgaga', 'nice', 'anyways', 'nicerinternet'], ['hey', 'jcdfitness', 'stop', 'teiggering', 'ur', 'man', 'gap', 'bus', 'fight', 'patriarchy', 'ur', 'jail', 'ty', 'equality2015'], ['feminists', 'ugly', 'lol', 'make', 'laugh', 'though', 'hypocritical', 'people', 'planet'], ['know', 'youre', 'patriarchy', 'women', 'ones', 'blamed', 'prostitution', 'whatisjustice', 'inequality'], ['cooimemegirl', 'tc_stompa', 'mans', 'choice', 'whether', 'wants', 'breast', 'feed', 'children'], ['cooimemegirl', 'tc_stompa', 'respect', 'real', 'equality', 'lie', 'claim', 'feminists', 'want'], ['wtf', 'literal', 'fuck', 'evan', 'sseing', 'thing'], ['optimist216', 'load', 'crap', 'dressing', 'appropriately', 'office', 'sexist', 'grow', 'yesallwomen'], ['skynews', 'eamonnholmes', 'skyjacquie', 'guy', 'beach', 'body', 'ready', 'advert', 'interviewedconclusionarrogant', 'male', 'chauvinist', 'idiot'], ['moment', 'know', 'youve', 'wife', 'put', 'gets', 'make', 'sandwich', 'winning', 'yvrmoms', 'funny', 'joke'], ['hey', 'joey', 'u', 'still', 'working', 'go', 'find', 'one', 'career', 'feminist', 'women', 'hell', 'find', 'u', '3', 'dating', 'everydaysexism'], ['harry', 'arguing', 'dead', 'girls', 'father', 'whose', 'job', 'kill', 'rapemurdering', 'villain', 'horns'], ['feministive', 'female', 'long', 'time', 'nowitd', 'stupid', 'sidemaya', 'angeloufeminist', 'humanist'], ['youre', 'feminist', 'stop', 'whining', 'internet', 'step', 'game', 'guys', 'baltimore', 'riot', 'cause', 'get', 'shit', 'done'], ['feminists', 'need', 'growa', 'sense', 'humor', 'w', 'okay', 'sips', 'male', 'tears', 'mug', 'aaigh', 'misandreeeeeeeeeee', 'yesallwomen'], ['well', 'maybe', 'men', 'learned', 'take', 'answer', 'women', 'wouldnt', 'say', 'much', 'fnm231'], ['say', 'men', 'look', 'women', 'like', 'piece', 'meat', 'even', 'mean', 'want', 'cook', 'eat', 'yesallwomen'], ['dont', 'let', 'anyone', 'elses', 'perception', 'define', 'beliefs', 'dont', 'feel', 'justify', 'worth'], ['feminists', 'ugly', 'people', 'calling', 'ugly', 'must', 'vile'], ['want', 'empower', 'women', 'need', 'disempower', 'warlords', 'zahara', 'langhi', 'libya', 'wilpf100', 'wsw2015', 'ikff', 'peace', 'war'], ['theactualsarah', 'uk', 'considering', 'abolishing', 'prisons', 'women', 'completely', 'crime', 'mans', 'fault'], ['nycinterlude', 'dont', 'worry', 'honey', 'intelligence', 'roadblock', 'full', 'unquestioning', 'faith', 'feminism', 'bleated'], ['wgsndsu', 'lets', 'demand', 'less', 'catcalling', 'cats', 'ndsufeminist', 'feminist', 'cats', 'dogscancometoo'], ['jahmmarastafari', 'vosnic', 'youre', 'incredibly', 'bigoted', 'rape', 'homosexuality', 'mensrights'], ['wives', 'dislike', 'cooking', 'mk', 'husbands', 'diet', 'saying', 'theyll', 'stay', 'fit', 'actually', 'want', 'avoid', 'cooking', 'mcp', 'womensprogress2015'], ['weneedfeminism', 'yesallwomen', 'simply', 'get', 'level', 'respect', 'get', 'man', 'heforshe'], ['refuse', 'accept', 'unbreakable', 'glass', 'ceiling', 'hit', 'glass', 'hard', 'enough', 'shatter', 'glassceiling'], ['people', 'actually', 'brag', 'dank', 'shatter', 'wax', 'shit', 'instagram', 'pls', 'kill', 'lol', 'dabs', 'wax', '420'], ['body_in_mind', 'sjws', 'prove', 'people', 'perfectly', 'capable', 'acting', 'metaphysically', 'given', 'reality', 'gamergate'], ['female', 'feminist', 'like', 'care', 'rights', 'women'], ['thought', 'goes', 'mind', 'regular', 'basis', 'would', 'said', 'man'], ['reason', 'stopped', 'entrance', 'walkingstreet', 'lawofattraction', 'viewpoint', 'dailydevotional'], ['feminism', 'women', 'letting', 'people', 'lead', 'fuller', 'lives', 'janefonda', 'life'], ['chip', 'kidd', 'announces', 'readers', 'asks', 'us', 'hold', 'applause', 'audience', 'cant', 'hold', 'back', 'gloriasteinem', 'poetry'], ['tired', 'antiwomanist', 'respectability', 'politics', 'need', 'safe', 'space', 'women', 'look', 'like', 'theyre', 'club', 'interview'], ['wrong', 'people', 'women', 'self', 'respect', 'coveted', 'listening', 'much', 'rush'], ['obsessed', 'becoming', 'woman', 'comfortable', 'skin', 'sandra', 'cisneros', 'latinx', 'woc'], ['brigadam', 'klarajoelsson', 'abortion', 'suffering', 'women', 'think', 'hate', 'abortion', 'feminist'], ['hope', 'get', 'raped', 'apparently', 'misogynists', 'say', 'dare', 'bend', 'yesallwomen'], ['fashionopolis', 'gained', 'new', 'follower', 'misogynist', 'maritalrapedebate', 'views', 'got', 'outraged'], ['thanks', 'work', 'people', 'like', 'everydaysexism', 'helping', 'women', 'helping', 'whole', 'society'], ['narendramodi', 'whn', 'men', 'bring', 'propertywife', 'bring', 'u', 'call', 'wrong', 'u', 'brand', 'dowry'], ['oliviajeniferx', 'always', 'guys', 'job', 'equality'], ['watching', 'missrepresentation', 'must', 'change', 'world', 'womenrule', 'change', 'beauty'], ['everydaysexism', 'rod_mccallum', 'dinosaur', 'fool', 'rising', 'antiquated', 'rhetoric', 'bye'], ['guess', 'new', 'definition', 'ugly', 'believing', 'equal', 'rights', 'let', 'ugly'], ['mezzomiller', 'fakedansavage', 'roid', 'rage', 'women', 'doping', 'look', 'like', 'machismo', 'boymen', 'misogyny'], ['lcottrell911', 'apparently', 'best', 'way', 'empower', 'women', 'call', 'fat', 'lesbians'], ['find', 'woman', 'attractive', 'im', 'objectifying', 'pig', 'dont', 'find', 'attractive', 'im', 'shallow', 'pig'], ['strict', 'gender', 'roles', 'context', 'true', 'marriage', 'devoted', 'raising', 'children', 'always', 'ideal', 'substitutes', 'tcot'], ['weneedfeminism', 'bad', 'bitch', 'compliment'], ['im', 'following', 'rgays', 'lead', 'embracing', 'term', 'badfeminist', 'im', 'far', 'perfect', 'still', 'learning'], ['anyone', 'else', 'starting', 'notice', 'general', 'demographic', 'feminists', 'like', 'fucking', 'highschoolers'], ['dancerlwt', 'considered', 'changing', 'twitter', 'handle', 'vagina', 'monologue'], ['actually', 'watching', 'video', 'radical', 'feminism', 'history', 'funniest', 'movie', 'ive', 'ever', 'seen'], ['mrmikecalta', 'proud', 'say', 'dont', 'listen', 'fat', 'crossed', 'eyed', 'mj'], ['cant', 'believe', 'reasons', 'people', 'say', 'need', 'feminism', 'need', 'dog', 'half', 'reasons', 'antifeminist'], ['writing', 'essays', 'failed', 'marriage', 'ex', 'husband', 'taxes'], ['know', 'gender', 'stereotypes', 'know', 'developed', 'beginning', '18', 'century', 'gender'], ['paul', 'henrys', 'fucking', 'right', 'fem', 'shouldnt', 'selling', 'point', 'persons', 'individual', 'genderless', 'suitability', 'elect'], ['isocynic', 'support', 'whatever', 'team', 'buck', 'supports', 'truefan', 'socceroos', 'bodypositive'], ['im', 'ranting', 'lets', 'talk', 'important', 'things', 'feminists', 'looks', 'earthquake', 'nepal', 'nepalearthquake'], ['bruiseaurora', 'im', 'advocating', 'men', 'stop', 'loving', 'women', 'sex', 'everydaysexism'], ['im', 'sorry', 'going', 'call', 'women', 'like', 'im', 'cadigory', 'ill', 'probably', 'boot', 'door'], ['hey', 'guyz', 'im', 'talking', 'baltimore', 'social', 'issues', 'super', 'smart', 'super', 'current', 'events'], ['uberfacts', 'wheres', 'feminist', 'outrage', 'busy', 'slagging', 'proteinworld'], ['us', 'us', 'apps', 'happens', 'girls', 'hackforgirlsrights', 'via', 'autostraddle', 'girlsintechhtbuffly1hhhm18'], ['full', 'narcissism', 'selfloathing', 'lot', 'women', 'like', 'got', 'sod', 'wrightstuff', 'wolfwhistling'], ['need', 'life', 'sin', 'girlfriend'], ['weneedfeminism', 'dont', 'want', 'choose', 'family', 'career'], ['time', 'go', 'hashtag', 'crazy', 'folklore', 'uktourism', 'britain', 'storytelling', 'myth', 'legend', 'equality', 'multicultural', 'folk'], ['heckling', 'yesallwomen', 'screaming', 'look', 'day', 'excellent', 'way', 'show', 'us', 'serious', 'individual'], ['want', 'revenge', 'slut', 'cry', 'rape', 'lie', 'world', 'carry', 'mattress', 'rape', 'uglyfeminist'], ['wanna', 'stay', 'home', 'raise', 'family', 'thats', 'cool', 'thats', 'choice', 'nobody', 'elses'], ['kind', 'modesty', 'arrogant', 'meìååôåãåôìchristopher', 'hitchens', '22', 'funny'], ['alot', 'angry', 'people', 'world', 'peace', 'love'], ['musical_seizure', 'cool', 'evidence', 'god', 'youre', 'implying'], ['zubair', 'ibn', 'awwam', 'accepted', 'islam', 'age', '15', 'dedicated', 'life', 'protecting', 'promoting', 'blessedten'], ['one', 'dayim', 'gonna', 'get', 'thing', 'right', 'right', 'one', 'alwaysoptimistic'], ['latikia', 'seangillies', 'yeah', 'right', 'lol', 'wink', 'wink', 'nudge', 'nudge', 'greatest', 'part', 'gods', 'playing', 'along', 'religiondoesharm'], ['stand', 'equality', 'fairness', 'humanrights', 'logic', 'rational', 'thought', 'freedom', 'freedomofspeech', 'care'], ['richarddawkins', 'likely', 'real', 'bigfoot', 'loch', 'ness', 'monster', 'god'], ['faithful', 'god', 'pray', 'may', 'learn', 'trust', 'uncertainty', 'mystery', 'walking', 'water', 'toward'], ['faithreei', 'love', 'kind', 'dogs', 'carries', 'baby', 'home', 'dump', 'see', 'photo', 'hero'], ['god', 'made', 'way', 'literally', 'ever', 'answer', 'keep', 'curiosity', 'alive'], ['dont', 'allow', 'life', 'potter', 'iamtheclay', 'iamisthepotter', 'god', 'belief', 'christianity'], ['evidencebased', 'thought', 'feet', 'planted', 'ground', 'superstitionbased', 'thought', 'freethinker'], ['best', 'best', 'treat', 'women', 'best', 'people', 'women', 'prophet', 'mohammad', 'pbuh', 'islam'], ['two', 'kinds', 'people', 'earth', 'believe', 'magic', 'miracles', 'myth', 'oh', 'rational', 'regards'], ['prayerbullets', 'let', 'gates', 'life', 'city', 'opened', 'king', 'glory', 'come', 'ps', '247'], ['true', 'community', 'able', 'disagree', 'still', 'love', 'one', 'another', 'roadtolife'], ['trebor12566', 'wish', 'could', 'eliminate', 'culture', 'new'], ['purpose', 'life', 'become', 'wealthy', 'would', 'purpose', 'becoming', 'wealthy', 'islam'], ['todays', 'verse', 'hears', 'hears', 'rejects', 'rejects', 'jesus', 'luke', '1016', 'bornagain', 'teamcogic', 'bible', 'holyspirit'], ['unsure', 'whether', 'something', 'halal', 'haram', 'leave', 'safeguard', 'deen', 'rule'], ['discouraged', 'things', 'dont', 'happen', 'like', 'planned', 'god', 'better', 'store', 'keep', 'pressing', 'forward', 'teamperserverance'], ['kip', 'laughing', 'shed', 'tears', 'bt', 'know', 'whats', 'gonna', 'hpn', 'end', 'childofgod'], ['stop', 'hold', 'peace', 'allow', 'powerful', 'god', 'time', 'fight', 'battle', 'win', 'believe', 'truth', 'hope', 'butgod'], ['eternal', 'life', 'may', 'know', 'true', 'god', 'jesus', 'christ', 'sent', 'john', '173', 'god'], ['link', 'removed', 'truthway_eng', 'rational', 'response', 'design', 'argument', 'link', 'removed', 'god', 'c'], ['abdur', 'rahman', 'ibn', 'auf', 'blessed', 'lot', 'wealth', 'yet', 'among', 'blessedten', 'enter', 'heart', 'affect'], ['beware', 'prosperity', 'doctrines', 'greed', 'vanity', 'deception', 'greed', 'vanity', 'truth', 'wisdom'], ['nagging', 'doubt', 'keep', 'god', 'gods', 'testing', 'u', 'intellect', 'trying', 'tell', 'beliefs', 'bullshit'], ['many', 'doctrines', 'created', 'christians', 'could', 'save', 'face', 'truth', 'theology'], ['sexiest', 'thing', 'carry', 'right', 'bible', 'accessory', 'christian'], ['i_love_atheism', 'fyi', 'linkshund', 'extremely', 'disturbed', 'individual', 'whose', 'solace', 'try', 'cause', 'pain', 'others'], ['life', 'station', 'destination', 'islam'], ['want', 'become', 'steadfast', 'religion', 'ponder', 'upon', 'quran', 'one', 'best', 'means', 'acquire', 'steadfastness'], ['whoever', 'kind', 'younger', 'ones', 'respect', 'elders', 'nation', 'prophet', 'muhammad', 'pbuh', 'islam'], ['prayerbullets', 'let', 'righteousness', 'peace', 'joy', 'kingdom', 'established', 'life', 'rom', '1417'], ['god', 'comprehensive', 'selective', 'ask', '1', 'thing', 'get', 'everything', 'lovemyjesus', 'holycrapthatsgoodnews'], ['purpose', 'life', 'islam', 'providing', 'clear', 'concise', 'answers', 'questionsislam'], ['garimabhatt2', 'myview_mylife', 'riwired', 'richarddawkins', 'godless_mom', 'fucking', 'die'], ['laur_guuurl', 'alittle', 'cup', 'yougotit'], ['theprojecttv', 'waleed', 'youre', 'proud', 'muslim', 'right', 'guess', 'ok', 'say', 'whatever', 'else', 'want'], ['shout', 'almighty', 'god', 'thats', 'two', 'claims', 'without', 'proof'], ['even', 'mind', 'denied', 'god', 'soul', 'islam'], ['atheistrepublic', 'morality', 'come', 'innate', 'sense', 'response', 'suffering', 'atheists', 'humanrights'], ['jeremysumpter', 'thank', 'lord', 'beautiful', 'sunday', 'truly', 'blessed', 'blessed', 'church', 'jeremysumpter', 'love', 'happines'], ['matter', 'things', 'look', 'know', 'god', 'still', 'control', 'stay', 'peace', 'knowing', 'always'], ['prophet', 'muhammad', 'said', 'exchange', 'gift', 'increase', 'love', 'towards', 'one', 'another', 'islam', 'world', 'quran'], ['davidpakmanshow', 'liberalbias', 'hell', 'existed', 'bush', 'would', 'first', 'line', 'christian', 'morality', 'transcends', 'religion'], ['plan', 'gotta', 'willing', 'work', 'hard', 'seek'], ['followdms', 'ask', 'given', 'seek', 'find', 'knock', 'door', 'opened', 'matt', '77'], ['witness', 'superb', 'flawless', 'systems', 'throughout', 'universecould', 'without', 'creator', 'sustainer', 'atheis'], ['theres', 'religion', 'sex', 'music', 'sting'], ['jesus', 'didnt', 'know', 'time', '2nd', 'coming', 'howd', 'know', 'hes', 'coming', 'christianity', 'bible'], ['islamrevisited8', 'god', 'perfect', 'heaven', 'must', 'definition', 'populated', 'imperfect'], ['papa', 'god', 'pray', 'shower', 'patience', 'worththewait'], ['power', 'name', 'jesus', 'jesus', 'may', 'people', 'north', 'india', 'call', 'upon', 'name', 'missions'], ['sometimes', 'god', 'could', 'protecting', 'something', 'things', 'dont', 'go', 'way', 'want', 'trust', 'wisdom'], ['god', 'miraculous', 'miracles', 'impossible', 'god', 'impossible', 'logic', 'reason', 'science', 'rt'], ['necessity', 'mother', 'innovation', 'deen', 'complete', 'need', 'innovation', 'islam'], ['time', 'posturing', 'pretending', 'pontificating', 'time', 'baltimore', 'baltimoreriots'], ['youre', 'parent', 'finds', 'religious', 'education', 'unnecessary', 'tell', 'school', 'want', 'kids', 'spend', 'time', 'library'], ['topics', 'marvs', 'psych', 'class', 'today', 'genetics', 'alteringbabies', 'normalornot', 'coloradotrips', 'godmadeushowhewants', 'flaws'], ['ha', 'ha', 'ha', 'ha', 'varun', 'gandhi', 'great', 'grand', 'son', 'nehru', 'love', 'hindu', 'brahmin', 'ancestry', 'dont', 'chameleon', 'swamy39'], ['devil', 'enemy', 'mind', 'battleground', 'plays', 'josh', 'ricketson', 'rush', 'rushswag'], ['wow', 'unsubstantiated', 'claims', 'spooks', 'remember', 'whe', 'said', 'gullible', 'people', 'jvx242'], ['every', 'tree', 'known', 'fruit', 'thorns', 'men', 'gather', 'figs', 'bramble', 'bush', 'gather', 'grapes', 'luke', '644'], ['breaking911', 'police', 'hooligans', 'challenge', 'everyone', 'police', 'must', 'right', 'frustrationcriminals', 'face', 'blackwhite'], ['know', 'redeemer', 'lives', 'end', 'stand', 'earth', 'god', 'christians', 'christianity', 'love', 'mercy'], ['jlhministries', 'cannot', 'save', 'people', 'love'], ['imagine', 'living', 'life', 'dont', 'get', 'credit', 'everything', 'well', 'got', 'blame', 'everything', 'wrong'], ['heavens', 'earth', 'one', 'connected', 'entity', 'separated', 'havemade', 'water', 'every', 'living', 'thing', 'quran', '2130'], ['fool', 'dies', 'want', 'wisdom', 'words', 'mouth', 'feed', 'many', 'prov', '1021'], ['dont', 'feel', 'need', 'godlove', 'dont', 'desire', 'god', 'truth', 'love'], ['faith', 'sees', 'invisible', 'believes', 'incredible', 'receives', 'impossible', 'god'], ['faith', 'perseverance', 'hardwork', 'separates', 'dreamers', 'achievers', 'godfirst', 'actorslife', 'dancer', 'letswork', 'vision', 'work'], ['jesus', 'know', 'didnt', 'bring', 'far', 'leave'], ['see', 'natural', 'stop', 'god', 'getting', 'ready', 'release', 'supernatual'], ['save', 'people', 'lord', 'bless', 'shepherd', 'take', 'care', 'forever', 'psalm', '289', 'gnt'], ['esteem', 'wont', 'abandon', 'us', 'esteem', 'given', 'us', 'jesus', 'scott', 'sauls', 'evangelistmatt', 'esteem'], ['ax2n38', 'halcyondon', 'tag65', 'good', 'luck', 'separationofchurchandstate', 'ting', 'gwg', 'gfyh'], ['hairymelvin', 'skepticism', 'believing', 'something', 'presented', 'prooffactevidencelogic', 'faith', 'augment', 'amplify', 'evidence'], ['tonymiano', 'thecorruptorr', 'scam', 'people', 'money', 'selling', 'words', 'fear', 'claim', 'none', 'interesting'], ['god', 'given', 'us', 'spirit', 'fear', 'timiditybut', 'power', 'loveand', 'selfdiscipline', '2', 'timothy', '17', 'fearless', 'conqueror', 'god'], ['god', 'wouldnt', 'invest', 'anointing', 'life', 'wasnt', 'going', 'bless', 'gotfaith', 'sayyes'], ['life', 'question', 'islam', 'answe', 'islam', 'allah', 'quran'], ['ed_miliband', 'already', 'working', 'measures', 'ban', 'three', 'scourges', 'atheism', 'secularism', 'individualism', 'atheism'], ['leaving', 'christianity', 'enables', 'love', 'people', 'rejected', 'freethinker', 'christianity'], ['pontifex', 'thinks', 'scandalous', 'women', 'make', 'less', 'men', 'work', 'women', 'priests', 'catholic', 'vatican'], ['lk', '637', 'kjv', 'judge', 'ye', 'shall', 'judged', 'condemn', 'ye', 'shall', 'condemned'], ['connection2013', 'word', 'impossible', 'walking', 'king', 'glory'], ['god', 'gave', 'us', 'mind', 'expects', 'christians', 'use', 'dont', 'led', 'around', 'decisions', 'others', 'truth'], ['evidencebased', 'thought', 'works', 'better', 'superstitionbased', 'thought', 'freethinker'], ['dear', 'lord', 'thank', 'u', 'ur', 'blessings', 'forgive', 'sins', 'lord', 'give', 'strength', 'energy', 'busy', 'day', 'ahead', 'blessed', 'hope'], ['8', 'years', 'ago', 'today', 'son', 'taken', 'theres', 'god', 'fuck', 'fuck', 'much'], ['adore', 'women', 'lord', 'making', 'wowforevergrateful', 'beingme', 'thisiswhoiwasmeanttobeallalong', 'free'], ['people', 'may', 'leave', 'god', 'never', 'islam'], ['better', 'go', 'get', 'ball'], ['dw_english', 'even', 'death', 'truth', 'prevails', 'yet', 'sorrowful', 'reality', 'freethinkers'], ['prayerbullets', 'let', 'scepter', 'kingdom', 'released', 'heb', '18'], ['lord', 'spirit', 'wherever', 'spirit', 'lord', 'freedom', '2', 'corinthians', '317', 'nlt', 'freedom'], ['15and', 'heaven', 'created', 'might', 'indeed', 'expander', 'quran', '5147'], ['love', 'shows', 'mercy', 'matter', 'darkness', 'ive'], ['religions', 'stopped', 'credible', 'minute', 'first', 'dinosaur', 'fossil', 'found'], ['struggling', 'identity', 'real', 'christians', 'need', 'look', 'christ', 'identity', 'destiny', 'tweeters'], ['every', 'time', 'arrive', 'home', 'im', 'n', 'constant', 'awe', 'much', 'god', 'loves', 'family', 'better', 'urs', 'love', 'life', 'blessed'], ['dear', 'believers', 'prove', 'book', 'must', 'read', 'book', 'regards'], ['true', 'education', 'free', 'mind', 'best', 'weapon', 'obstacle', 'sahd', 'freethinkers', 'homeschooling'], ['krusader5', 'judemymum', 'georgelinker', 'lack', 'belief', 'religion'], ['ali', 'al', 'amin', 'lebanon', 'shia', 'leader', '70s', 'rejected', 'iran', 'regimes', 'conduct', 'w'], ['crucified', 'christ', 'longer', 'live', 'christ', 'lives', 'galatians', '220', 'holybible', 'teamjesus'], ['clear', 'thoughts', 'look', 'sky', 'someone', 'looking', 'god', 'islam'], ['stay', 'houses', 'display', 'like', 'times', 'ignorance', 'quran', '3333islam'], ['salah', 'prayed', 'focus', 'understanding', 'allah', 'warns', 'lazy', 'prayers', 'done', 'show', 'surah', 'almaoon', '10746'], ['matter', 'face', 'end', 'day', 'know', 'okay', 'know', 'maker', 'day', 'happynote'], ['theists', 'twitter', 'short', 'space', 'please', 'add', 'silly', 'arse', 'end', 'every', 'tweet', 'send', 'thanks'], ['son', 'god', 'became', 'man', 'might', 'become', 'god', 'athanasius'], ['god', 'ensures', 'justice', 'orphans', 'widows', 'god', 'loves', 'strangers', 'providing', 'food', 'clothing', 'deut', '1018', 'giving'], ['skepticpedi', 'dont', 'trust', 'performing', 'sciencebased', 'medicine', 'children', 'dont', 'think', 'science', 'reiterate'], ['learn', 'appreciate', 'person', 'people', 'able', 'handle', 'go', 'alena', 'jnai'], ['bad', 'looks', 'chaos', 'reeks', 'havoc', 'dark', 'days', 'grow', 'god', 'still', 'forever', 'ever', 'always', 'control', 'phn'], ['ed_miliband', 'victim', 'seems', 'fool', 'could', 'take', 'offence', 'legitimate', 'criticism', 'claim', 'blasphemy', '22'], ['bobsaloct', 'nice', 'passiveaggressiveness', 'liberal', 'true', 'many', 'christians', 'hate', 'nonchristians', 'god'], ['could', 'believe', 'god', 'please', 'leave', 'meeting', 'continue', 'grown', 'ups'], ['scoc', 'ruled', 'canadians', 'freedom', 'religion', 'someone', 'tell', 'harper', 'dummy', 'god', 'bless', 'canada', 'cdnpoli'], ['love', 'sahaba', 'sign', 'faith', 'hating', 'sahaba', 'sign', 'hypocrisy', 'let', 'us', 'respect', 'sahaba', 'love', 'hypocrisy'], ['fatima_ze', 'ginestarros', 'delight', 'abominationsisaiah', '663', 'jadehelm15', 'science', 'revelation218'], ['kingdom', 'particular', 'culture', 'way', 'things', 'ed', 'welch'], ['daveabernethy1', 'addiction', 'thousand', 'dark', 'hallways', 'sounds', 'like', 'xtianity', 'freethinker'], ['scientists', 'say', 'iron', 'earth', 'sorry', 'quran', '5725', 'outran', 'u', '1400', 'years'], ['regularly', 'base', 'thoughts', 'superstitions', 'might', 'able', 'think', 'well', 'freethinker'], ['believe', 'bible', 'word', 'god', 'also', 'believe', 'book', 'mormon', 'word', 'god', 'joseph', 'smith', 'prophet'], ['god', 'turn', 'around', 'situation', 'trust'], ['odds', 'already', 'stacked', 'favor', 'believe', 'lord', 'call', 'savior'], ['let', 'heart', 'find', 'strength', 'presence'], ['religious', 'people', 'people', 'bigotedgenitalia', 'mutilating', 'angry', 'gullible', 'people'], ['music', 'stupefies', 'persons', 'listening', 'makes', 'brain', 'inactive', 'frivolous', 'ayatollah', 'khomeini', 'q_q', 'imnus', 'islam'], ['ask', 'atheist', 'day', 'question', 'askanatheist'], ['equal', 'men', 'makes', 'us', 'morally', 'superior', 'fuckfeminism', 'equalityforall'], ['tomorrow', 'ill', 'know', 'surgery', 'scary', 'faith', 'go', 'without', 'hitch', 'fuckcancer', 'scared'], ['christ', 'righteous', 'practice', 'conformed', 'image', 'chip', 'ingram', 'quote', 'fb', 'teamjesus'], ['souls', 'connected', 'creator', 'matter', 'hard', 'tried', 'disconnect', 'islam'], ['dhiggins63', 'true', 'god', 'fiction', 'incapable', 'killing', 'anything', 'pvtfraser'], ['alpharomeo223', 'quite', 'mistaken', 'dhiggins63', 'pvtfraser'], ['look', 'others', 'envy', 'look', 'god', 'focus', 'hes', 'calling', 'become', 'dream', 'kingdomsized', 'dreams', 'focus'], ['know', 'god', 'always', 'listening', 'always', 'answeringmaybe', 'ways', 'hoped', 'ways', 'knows', 'best', 'prayerworks'], ['remove', 'bitterness', 'heart', 'lord', 'amen'], ['ill', 'answering', 'questions', 'today', 'reddit', 'ratheism', 'askanatheistday', '25pm', 'est', 'ama'], ['look', 'around', 'find', 'fear', 'look', 'father', 'find', 'faith', 'togodbetheglory'], ['comes', 'scientific', 'discoveries', 'religious', 'call', 'bullshit', 'texts', 'already', 'knew'], ['rosaryrevival', '3', 'holy', 'mary', 'mother', 'god', 'pray', 'us', 'sinners', 'hour', 'death', 'amen', 'rosary'], ['absence', 'god', 'nothing', 'accident', 'rearrangement', 'molecules', 'bible'], ['dont', 'want', 'government', 'spying', 'want', 'god', 'bible', 'god', 'tcot', 'p2'], ['last', 'time', 'hotel', 'room', 'found', 'gay', 'agenda', 'book', 'next', 'bed', 'trying', 'convert'], ['10', 'holy', 'mary', 'mother', 'god', 'pray', 'us', 'sinners', 'hour', 'death', 'amen', 'rosary', 'teamjesus'], ['one', 'favorite', 'quotes', 'alltime', 'change', 'thoughts', 'change', 'world', 'norman', 'vincent', 'peale', 'positivity'], ['humanpog', 'dunno', 'id', 'pretty', 'happy', 'someone', 'saved', 'even', 'bad', 'person', 'like'], ['heart', 'prayers', 'go', 'city', 'baltimore', 'hope', 'clarity', 'resolution', 'people', 'city'], ['link', 'removed', 'link', 'removed', 'rational', 'response', 'design', 'argument', 'link', 'removed', 'god', 'creator', 'mind'], ['youve', 'done', 'everything', 'thats', 'god', 'step', 'cannot', 'islam'], ['ive', 'everywhere', 'still', 'spirit', 'today', 'thee', 'lil', 'faith', 'slapped', 'face', 'lol', 'helives', 'love'], ['theists', 'big', 'mountain', 'evidence', 'god', 'think', 'wed', 'ever', 'fucking', 'hear', 'word', 'faith', 'bible', 'god'], ['worst', 'day', 'life', 'far', 'setting', 'nan', 'rest', 'even', 'physicist', 'times', 'like', 'make', 'wonder'], ['way', 'get', 'free', 'atheist', 'literature', 'pass', 'upcoming', 'protest', 'im', 'planning', 'ffrf'], ['goldanuli', 'god', 'isnt', 'interested', 'youre', 'becoming', 'bible'], ['celebrity', 'atheism', 'beginning', 'irk', 'initforthemoney'], ['god', 'gaps', 'evidence', 'next'], ['nothing', 'could', 'dangerous', 'existence', 'republic', 'introduce', 'religion', 'politics', 'robert', 'green', 'ingersoll'], ['robeddy24', 'nurseratchets', 'athe1stp0wer', 'certainlyboth', 'matthew', 'john', 'eyewitnesses', 'liar', 'lyingforjesus'], ['god', 'cares', 'everything', 'concerns', 'feel', 'free', 'talk', 'anything'], ['stopping', 'theres', 'still', 'way', 'go', 'win', 'neversaydiespirit'], ['india', 'urges', 'wealthy', 'temples', 'bolster', 'economy', 'gold', 'worldnews', 'economics', 'commodities'], ['calling', 'angel', 'angels', 'sing', 'innocent', 'may', 'god', 'bless', 'maryjaneveloso'], ['bible', 'studies', 'ive', 'part', 'unt', 'makes', 'kinda', 'wanna', 'go', 'seminary', 'school', 'unt', 'meangreen', 'gospel'], ['cause', 'making', 'definite', 'marks', 'never', 'stop', 'think'], ['desire', 'reach', 'stars', 'ambitious', 'desire', 'reach', 'hearts', 'wise', 'maya', 'angelou', 'wisdom', 'truth'], ['watched', 'scfeatured', 'segment', 'life', 'manny', 'pacquiao', 'wasnt', 'teampacquiao', 'already', 'would', 'respect'], ['blessed', 'peacemakers', 'shall', 'called', 'children', 'god', 'matthew', '59', 'scripture', 'peace'], ['cannot', 'expect', 'walk', 'supernatural', 'without', 'one', 'supernatural', 'lethimin', 'dontdoministryalone', 'waterwalker', 'boom'], ['cant', 'think', 'life', 'believe', 'god', 'doesnt', 'add'], ['dont', 'run', 'thing', 'till', 'run', 'king'], ['substance', 'things', 'hoped', 'evidence', 'unseen'], ['framers', 'constitution', 'meant', 'freedom', 'religion', 'freedom', 'religion', 'billy', 'graham', 'quote'], ['conformed', 'world', 'transformed', 'renewing', 'mind', 'ispeaklife', 'god', '2014'], ['certainty', 'life', 'find', 'eventually'], ['6', 'holy', 'mary', 'mother', 'god', 'pray', 'us', 'sinners', 'hour', 'death', 'amen', 'rosary', 'teamjesus', 'god'], ['pop', 'may', 'throw', 'towel', 'second', 'half'], ['cover', 'girl', 'make', 'lacks', 'deficiencies', 'im', 'foundation', 'see', 'blend', 'perfectly'], ['neiltyson', 'afraid', 'youre', 'wrong', 'stronger', 'fight', 'avoid', 'facing', 'facts', 'belief', 'based', 'fear', 'compounds'], ['everyone', 'able', 'believe', 'whatever', 'want', 'freedom'], ['chameleon_x_', 'came', 'cultist', 'objective', 'pushing', 'fascist', 'guff', 'islam', 'dawahfail'], ['sikhism', 'better', 'either', 'finish', 'religions', 'saimarani13', 'beinghu62727983', 'maheshhindu', 'po_st', 'swamy39'], ['think', 'jesus', 'said', 'best', 'said', 'dont', 'cum', 'peter', 'bible'], ['created', 'heavens', 'earth', 'mere', 'play', 'quran', '4438', 'athiest'], ['god', 'wonderful', 'way', 'turning', 'negatives', 'positives'], ['week', 'going', 'grrrrrrrreat', 'spiritual', 'business', 'wellness'], ['humanity', 'deeper', 'race', 'gender', 'religion', 'love', 'love', 'inv', 'life', 'humanity', 'race', 'sex', 'gender'], ['strength', 'life', 'lord']]\n"
     ]
    }
   ],
   "source": [
    "print(listado)"
   ]
  },
  {
   "cell_type": "code",
   "execution_count": 35,
   "id": "c84c279e",
   "metadata": {
    "ExecuteTime": {
     "end_time": "2022-02-14T05:32:34.435602Z",
     "start_time": "2022-02-14T05:32:34.430882Z"
    },
    "id": "c84c279e"
   },
   "outputs": [
    {
     "data": {
      "text/plain": [
       "1159"
      ]
     },
     "execution_count": 35,
     "metadata": {},
     "output_type": "execute_result"
    }
   ],
   "source": [
    "len(listado)"
   ]
  },
  {
   "cell_type": "markdown",
   "id": "43ba7aed",
   "metadata": {
    "id": "43ba7aed"
   },
   "source": [
    "#### Ejercicio 4\n",
    "Entrene un modelo usando `gensim.models.word2vec.Word2Vec`, partiendo de la siguiente configuración de parámetros."
   ]
  },
  {
   "cell_type": "code",
   "execution_count": 36,
   "id": "zwOSCWS0sbfy",
   "metadata": {
    "id": "zwOSCWS0sbfy"
   },
   "outputs": [],
   "source": [
    "b=1"
   ]
  },
  {
   "cell_type": "code",
   "execution_count": 37,
   "id": "1f01079b",
   "metadata": {
    "ExecuteTime": {
     "end_time": "2022-02-14T06:56:54.605988Z",
     "start_time": "2022-02-14T06:56:54.603096Z"
    },
    "id": "1f01079b"
   },
   "outputs": [],
   "source": [
    "vector_size = 100 # numero de elementos del vector que representa la palabra\n",
    "min_count =3 # Ignores all words with total frequency lower than this. \n",
    "workers = 5 # numero de cpu cores\n",
    "sg = 0 # 0: CBOW, 1: skip-gram\n",
    "window = 6 # Tamano de la ventana de contexto\n",
    "sample = 1e-3 # tasa de submuestreo para terminos frecuentes"
   ]
  },
  {
   "cell_type": "code",
   "execution_count": 38,
   "id": "RLZS-5uFsjF7",
   "metadata": {
    "id": "RLZS-5uFsjF7"
   },
   "outputs": [],
   "source": [
    "from gensim.models import Word2Vec"
   ]
  },
  {
   "cell_type": "code",
   "execution_count": 39,
   "id": "fa068fcb",
   "metadata": {
    "ExecuteTime": {
     "end_time": "2022-02-14T06:56:55.312146Z",
     "start_time": "2022-02-14T06:56:55.122226Z"
    },
    "id": "fa068fcb"
   },
   "outputs": [],
   "source": [
    "model = Word2Vec(listado, vector_size=vector_size,min_count=min_count, workers=workers,sg=sg,window=window,sample=sample)\n",
    "\n",
    "# Word2Vec(sentences=common_texts, vector_size=100, window=5, min_count=1, workers=4)\n"
   ]
  },
  {
   "cell_type": "markdown",
   "id": "2c34b0bb",
   "metadata": {
    "id": "2c34b0bb"
   },
   "source": [
    "#### Ejercicio 5\n",
    "Ahora ha obtenido un modelo de Word2vec en el cual tiene una representación embebida de cada palabra. Esta representación la puede extraer para cada palabra usando `model.wv.get_vector(palabra)`. Sin embargo, ¿Qué representación podemos obtener para cada tweet (documento o sentencia) a partir de todas las palabras? \n",
    "\n",
    "Cree una función que extraiga para cada tweet un representación vectorial única (un vector) y añada una nueva columna con esta representación. Sugerencia: una suma (pero será lo mejor?). El resultado es algo similar a la celda siguiente:"
   ]
  },
  {
   "cell_type": "code",
   "execution_count": 40,
   "id": "yP5T4w_FJy5u",
   "metadata": {
    "colab": {
     "base_uri": "https://localhost:8080/",
     "height": 293
    },
    "id": "yP5T4w_FJy5u",
    "outputId": "caff15d1-823e-44eb-a8e8-8b79116971d0"
   },
   "outputs": [
    {
     "name": "stderr",
     "output_type": "stream",
     "text": [
      "/var/folders/1z/1h5_y8x165n9_dtqpqg0vsw07w60nb/T/ipykernel_76701/1109444415.py:18: SettingWithCopyWarning: \n",
      "A value is trying to be set on a copy of a slice from a DataFrame.\n",
      "Try using .loc[row_indexer,col_indexer] = value instead\n",
      "\n",
      "See the caveats in the documentation: https://pandas.pydata.org/pandas-docs/stable/user_guide/indexing.html#returning-a-view-versus-a-copy\n",
      "  df2['vectors']=tweet_vector\n"
     ]
    },
    {
     "data": {
      "text/html": [
       "<div>\n",
       "<style scoped>\n",
       "    .dataframe tbody tr th:only-of-type {\n",
       "        vertical-align: middle;\n",
       "    }\n",
       "\n",
       "    .dataframe tbody tr th {\n",
       "        vertical-align: top;\n",
       "    }\n",
       "\n",
       "    .dataframe thead th {\n",
       "        text-align: right;\n",
       "    }\n",
       "</style>\n",
       "<table border=\"1\" class=\"dataframe\">\n",
       "  <thead>\n",
       "    <tr style=\"text-align: right;\">\n",
       "      <th></th>\n",
       "      <th>target</th>\n",
       "      <th>tweet</th>\n",
       "      <th>text_clean</th>\n",
       "      <th>vectors</th>\n",
       "    </tr>\n",
       "  </thead>\n",
       "  <tbody>\n",
       "    <tr>\n",
       "      <th>0</th>\n",
       "      <td>Legalization of Abortion</td>\n",
       "      <td>Thank you for another day of life Lord. #Chris...</td>\n",
       "      <td>thank another day life lord christian catholic...</td>\n",
       "      <td>[15.555565414428711, -21.681191787719726, 1.99...</td>\n",
       "    </tr>\n",
       "    <tr>\n",
       "      <th>1</th>\n",
       "      <td>Legalization of Abortion</td>\n",
       "      <td>@rosaryrevival Lovely to use Glorious Mysterie...</td>\n",
       "      <td>rosaryrevival lovely use glorious mysteries ea...</td>\n",
       "      <td>[-5.332012481689453, 1.4192860412597657, -2.54...</td>\n",
       "    </tr>\n",
       "    <tr>\n",
       "      <th>2</th>\n",
       "      <td>Legalization of Abortion</td>\n",
       "      <td>@Niall250 good thing is that #DUP have consist...</td>\n",
       "      <td>niall250 good thing dup consistently said murd...</td>\n",
       "      <td>[4.475017623901367, 17.070967864990234, 130.84...</td>\n",
       "    </tr>\n",
       "    <tr>\n",
       "      <th>3</th>\n",
       "      <td>Legalization of Abortion</td>\n",
       "      <td>So, you tell me... is murder okay if the victi...</td>\n",
       "      <td>tell murder okay victim mentally disabled</td>\n",
       "      <td>[0.3637225341796875, 7.774762802124023, 1.7756...</td>\n",
       "    </tr>\n",
       "    <tr>\n",
       "      <th>4</th>\n",
       "      <td>Legalization of Abortion</td>\n",
       "      <td>@HillaryClinton Don't you mean to say (all chi...</td>\n",
       "      <td>hillaryclinton dont mean say children deserve ...</td>\n",
       "      <td>[54.30008842468262, 10.813221282958985, 22.070...</td>\n",
       "    </tr>\n",
       "  </tbody>\n",
       "</table>\n",
       "</div>"
      ],
      "text/plain": [
       "                     target  \\\n",
       "0  Legalization of Abortion   \n",
       "1  Legalization of Abortion   \n",
       "2  Legalization of Abortion   \n",
       "3  Legalization of Abortion   \n",
       "4  Legalization of Abortion   \n",
       "\n",
       "                                               tweet  \\\n",
       "0  Thank you for another day of life Lord. #Chris...   \n",
       "1  @rosaryrevival Lovely to use Glorious Mysterie...   \n",
       "2  @Niall250 good thing is that #DUP have consist...   \n",
       "3  So, you tell me... is murder okay if the victi...   \n",
       "4  @HillaryClinton Don't you mean to say (all chi...   \n",
       "\n",
       "                                          text_clean  \\\n",
       "0  thank another day life lord christian catholic...   \n",
       "1  rosaryrevival lovely use glorious mysteries ea...   \n",
       "2  niall250 good thing dup consistently said murd...   \n",
       "3          tell murder okay victim mentally disabled   \n",
       "4  hillaryclinton dont mean say children deserve ...   \n",
       "\n",
       "                                             vectors  \n",
       "0  [15.555565414428711, -21.681191787719726, 1.99...  \n",
       "1  [-5.332012481689453, 1.4192860412597657, -2.54...  \n",
       "2  [4.475017623901367, 17.070967864990234, 130.84...  \n",
       "3  [0.3637225341796875, 7.774762802124023, 1.7756...  \n",
       "4  [54.30008842468262, 10.813221282958985, 22.070...  "
      ]
     },
     "execution_count": 40,
     "metadata": {},
     "output_type": "execute_result"
    }
   ],
   "source": [
    "#funcion para calcular el promedio de los vectores de cada token por tweet\n",
    "import numpy as np\n",
    "tweet_vector=[]\n",
    "for i in range(len(listado)):\n",
    "  v1=[0 for i in range(vector_size)]\n",
    "  for j in range(len(listado[i])):\n",
    "    if listado[i][j] in model.wv:\n",
    "      v2=model.wv.get_vector(listado[i][j])\n",
    "      v2=1/np.log(1+v2)\n",
    "      v1=[v1[k] + v2[k] for k in range(len(v1))]\n",
    "  v1=[v1[k]/len(v1) for k in range(len(v1))]\n",
    "  tweet_vector.append(v1)\n",
    "\n",
    "#tweet_vector\n",
    "\n",
    "df2=df[:]\n",
    "df2\n",
    "df2['vectors']=tweet_vector\n",
    "df2.head(n=5)\n",
    "#len(tweet_vector)\n",
    "\n",
    "\n",
    "#df2.vectors[0:10]"
   ]
  },
  {
   "cell_type": "markdown",
   "id": "4ec3a353",
   "metadata": {
    "id": "4ec3a353"
   },
   "source": [
    "#### Ejercicio 6.\n",
    "Lo que se ha generado antes son unas determinadas variables, para cada tweet, úselas para realizar una clasificación. Para esto divida en un conjunto de entrenamiento y uno de prueba (20%) con una semilla fija (42) y construya un clasificador (recomendado Random Forest). Evalúe el desempeño del clasificador en el conjunto de prueba con el accuracy.  El accuracy debe estar alrededor del 70%. Para lograrlo, tendrá que cambiar la longitud del vector, el ancho de la ventana, si es skip-gram o CBOW, el método de obtención de un sólo documento, etc.\n"
   ]
  },
  {
   "cell_type": "code",
   "execution_count": 41,
   "id": "EdP9CBW2LzzW",
   "metadata": {
    "colab": {
     "base_uri": "https://localhost:8080/",
     "height": 424
    },
    "id": "EdP9CBW2LzzW",
    "outputId": "84ed9530-8736-4038-eb90-1933a3f1a75f"
   },
   "outputs": [
    {
     "data": {
      "text/html": [
       "<div>\n",
       "<style scoped>\n",
       "    .dataframe tbody tr th:only-of-type {\n",
       "        vertical-align: middle;\n",
       "    }\n",
       "\n",
       "    .dataframe tbody tr th {\n",
       "        vertical-align: top;\n",
       "    }\n",
       "\n",
       "    .dataframe thead th {\n",
       "        text-align: right;\n",
       "    }\n",
       "</style>\n",
       "<table border=\"1\" class=\"dataframe\">\n",
       "  <thead>\n",
       "    <tr style=\"text-align: right;\">\n",
       "      <th></th>\n",
       "      <th>0</th>\n",
       "      <th>1</th>\n",
       "      <th>2</th>\n",
       "      <th>3</th>\n",
       "      <th>4</th>\n",
       "      <th>5</th>\n",
       "      <th>6</th>\n",
       "      <th>7</th>\n",
       "      <th>8</th>\n",
       "      <th>9</th>\n",
       "      <th>...</th>\n",
       "      <th>90</th>\n",
       "      <th>91</th>\n",
       "      <th>92</th>\n",
       "      <th>93</th>\n",
       "      <th>94</th>\n",
       "      <th>95</th>\n",
       "      <th>96</th>\n",
       "      <th>97</th>\n",
       "      <th>98</th>\n",
       "      <th>99</th>\n",
       "    </tr>\n",
       "  </thead>\n",
       "  <tbody>\n",
       "    <tr>\n",
       "      <th>0</th>\n",
       "      <td>15.555565</td>\n",
       "      <td>-21.681192</td>\n",
       "      <td>1.996221</td>\n",
       "      <td>16.022712</td>\n",
       "      <td>-11.724365</td>\n",
       "      <td>-17.062546</td>\n",
       "      <td>-2.640279</td>\n",
       "      <td>-1.811981</td>\n",
       "      <td>0.403907</td>\n",
       "      <td>-37.123410</td>\n",
       "      <td>...</td>\n",
       "      <td>14.864277</td>\n",
       "      <td>85.451653</td>\n",
       "      <td>-10.043007</td>\n",
       "      <td>174.765590</td>\n",
       "      <td>2.360021</td>\n",
       "      <td>258.411800</td>\n",
       "      <td>7.170050</td>\n",
       "      <td>12.242084</td>\n",
       "      <td>-10.535938</td>\n",
       "      <td>0.730419</td>\n",
       "    </tr>\n",
       "    <tr>\n",
       "      <th>1</th>\n",
       "      <td>-5.332012</td>\n",
       "      <td>1.419286</td>\n",
       "      <td>-2.545549</td>\n",
       "      <td>0.434357</td>\n",
       "      <td>0.371666</td>\n",
       "      <td>-4.187317</td>\n",
       "      <td>-9.986508</td>\n",
       "      <td>4.908841</td>\n",
       "      <td>-11.363887</td>\n",
       "      <td>14.620466</td>\n",
       "      <td>...</td>\n",
       "      <td>-0.951478</td>\n",
       "      <td>-1.111503</td>\n",
       "      <td>-4.512107</td>\n",
       "      <td>-8.196911</td>\n",
       "      <td>-14.435382</td>\n",
       "      <td>2.846959</td>\n",
       "      <td>-2.018615</td>\n",
       "      <td>-7.463765</td>\n",
       "      <td>-5.145030</td>\n",
       "      <td>8.229682</td>\n",
       "    </tr>\n",
       "    <tr>\n",
       "      <th>2</th>\n",
       "      <td>4.475018</td>\n",
       "      <td>17.070968</td>\n",
       "      <td>130.843722</td>\n",
       "      <td>10.745413</td>\n",
       "      <td>-26.926537</td>\n",
       "      <td>-6.149995</td>\n",
       "      <td>-3.155643</td>\n",
       "      <td>8.510624</td>\n",
       "      <td>-16.866741</td>\n",
       "      <td>-2.734578</td>\n",
       "      <td>...</td>\n",
       "      <td>-41.101851</td>\n",
       "      <td>1.828912</td>\n",
       "      <td>-8.888993</td>\n",
       "      <td>162.386938</td>\n",
       "      <td>1.149139</td>\n",
       "      <td>4.699490</td>\n",
       "      <td>14.768171</td>\n",
       "      <td>-17.744857</td>\n",
       "      <td>11.203874</td>\n",
       "      <td>11.774597</td>\n",
       "    </tr>\n",
       "    <tr>\n",
       "      <th>3</th>\n",
       "      <td>0.363723</td>\n",
       "      <td>7.774763</td>\n",
       "      <td>1.775696</td>\n",
       "      <td>-54.638284</td>\n",
       "      <td>22.049079</td>\n",
       "      <td>0.868746</td>\n",
       "      <td>4.185522</td>\n",
       "      <td>-2.189099</td>\n",
       "      <td>13.957224</td>\n",
       "      <td>-2.330243</td>\n",
       "      <td>...</td>\n",
       "      <td>16.974331</td>\n",
       "      <td>-9.108699</td>\n",
       "      <td>4.025744</td>\n",
       "      <td>169.227248</td>\n",
       "      <td>-4.518851</td>\n",
       "      <td>-2.567999</td>\n",
       "      <td>6.861566</td>\n",
       "      <td>-7.904153</td>\n",
       "      <td>-5.764486</td>\n",
       "      <td>24.776475</td>\n",
       "    </tr>\n",
       "    <tr>\n",
       "      <th>4</th>\n",
       "      <td>54.300088</td>\n",
       "      <td>10.813221</td>\n",
       "      <td>22.070850</td>\n",
       "      <td>5.184014</td>\n",
       "      <td>-1.007312</td>\n",
       "      <td>-32.639519</td>\n",
       "      <td>-15.422997</td>\n",
       "      <td>1.387184</td>\n",
       "      <td>-7.600223</td>\n",
       "      <td>117.588661</td>\n",
       "      <td>...</td>\n",
       "      <td>13.223535</td>\n",
       "      <td>-520.514433</td>\n",
       "      <td>-4.683723</td>\n",
       "      <td>-11.878964</td>\n",
       "      <td>25.367466</td>\n",
       "      <td>16.056049</td>\n",
       "      <td>82.450259</td>\n",
       "      <td>2.610287</td>\n",
       "      <td>-90.217237</td>\n",
       "      <td>-5.472751</td>\n",
       "    </tr>\n",
       "    <tr>\n",
       "      <th>...</th>\n",
       "      <td>...</td>\n",
       "      <td>...</td>\n",
       "      <td>...</td>\n",
       "      <td>...</td>\n",
       "      <td>...</td>\n",
       "      <td>...</td>\n",
       "      <td>...</td>\n",
       "      <td>...</td>\n",
       "      <td>...</td>\n",
       "      <td>...</td>\n",
       "      <td>...</td>\n",
       "      <td>...</td>\n",
       "      <td>...</td>\n",
       "      <td>...</td>\n",
       "      <td>...</td>\n",
       "      <td>...</td>\n",
       "      <td>...</td>\n",
       "      <td>...</td>\n",
       "      <td>...</td>\n",
       "      <td>...</td>\n",
       "      <td>...</td>\n",
       "    </tr>\n",
       "    <tr>\n",
       "      <th>1154</th>\n",
       "      <td>1.698572</td>\n",
       "      <td>116.209523</td>\n",
       "      <td>-4.096319</td>\n",
       "      <td>-4.882455</td>\n",
       "      <td>3.690395</td>\n",
       "      <td>-0.965227</td>\n",
       "      <td>-1.913512</td>\n",
       "      <td>-4.484128</td>\n",
       "      <td>-3.292944</td>\n",
       "      <td>5.300041</td>\n",
       "      <td>...</td>\n",
       "      <td>3.913714</td>\n",
       "      <td>-1.727972</td>\n",
       "      <td>-28.995015</td>\n",
       "      <td>4.516275</td>\n",
       "      <td>8.108433</td>\n",
       "      <td>4.488681</td>\n",
       "      <td>17.182684</td>\n",
       "      <td>-3.517370</td>\n",
       "      <td>-5.971124</td>\n",
       "      <td>-8.564371</td>\n",
       "    </tr>\n",
       "    <tr>\n",
       "      <th>1155</th>\n",
       "      <td>-4.841469</td>\n",
       "      <td>1.703147</td>\n",
       "      <td>2.572368</td>\n",
       "      <td>6.044291</td>\n",
       "      <td>2.761244</td>\n",
       "      <td>-1.085031</td>\n",
       "      <td>0.372840</td>\n",
       "      <td>1.710685</td>\n",
       "      <td>-1.596293</td>\n",
       "      <td>-32.512516</td>\n",
       "      <td>...</td>\n",
       "      <td>1.610837</td>\n",
       "      <td>-6.172880</td>\n",
       "      <td>98.498356</td>\n",
       "      <td>-0.724289</td>\n",
       "      <td>2.876388</td>\n",
       "      <td>1.402875</td>\n",
       "      <td>-0.665866</td>\n",
       "      <td>59.915971</td>\n",
       "      <td>-12.103288</td>\n",
       "      <td>2.405846</td>\n",
       "    </tr>\n",
       "    <tr>\n",
       "      <th>1156</th>\n",
       "      <td>-4.975082</td>\n",
       "      <td>8.656910</td>\n",
       "      <td>-5.861648</td>\n",
       "      <td>-3.962346</td>\n",
       "      <td>-0.438613</td>\n",
       "      <td>-1.408651</td>\n",
       "      <td>6.002463</td>\n",
       "      <td>-1.019894</td>\n",
       "      <td>1.588517</td>\n",
       "      <td>0.100352</td>\n",
       "      <td>...</td>\n",
       "      <td>2.168994</td>\n",
       "      <td>-0.576060</td>\n",
       "      <td>-5.800461</td>\n",
       "      <td>2.803589</td>\n",
       "      <td>-0.683464</td>\n",
       "      <td>1.313140</td>\n",
       "      <td>-4.394463</td>\n",
       "      <td>4.644866</td>\n",
       "      <td>11.876604</td>\n",
       "      <td>3.312728</td>\n",
       "    </tr>\n",
       "    <tr>\n",
       "      <th>1157</th>\n",
       "      <td>13.136825</td>\n",
       "      <td>-0.504885</td>\n",
       "      <td>-3.657483</td>\n",
       "      <td>2.708472</td>\n",
       "      <td>41.530112</td>\n",
       "      <td>-38.905781</td>\n",
       "      <td>6.758575</td>\n",
       "      <td>10.505673</td>\n",
       "      <td>-7.861873</td>\n",
       "      <td>-53.089016</td>\n",
       "      <td>...</td>\n",
       "      <td>6.627759</td>\n",
       "      <td>106.525977</td>\n",
       "      <td>-0.950110</td>\n",
       "      <td>-5.766685</td>\n",
       "      <td>-200.879815</td>\n",
       "      <td>6.464160</td>\n",
       "      <td>-14.706962</td>\n",
       "      <td>-48.015590</td>\n",
       "      <td>18.847875</td>\n",
       "      <td>-10.908189</td>\n",
       "    </tr>\n",
       "    <tr>\n",
       "      <th>1158</th>\n",
       "      <td>4.868132</td>\n",
       "      <td>-18.177134</td>\n",
       "      <td>0.929867</td>\n",
       "      <td>1.695053</td>\n",
       "      <td>-16.986151</td>\n",
       "      <td>-2.805439</td>\n",
       "      <td>-1.766251</td>\n",
       "      <td>-0.574323</td>\n",
       "      <td>-4.924468</td>\n",
       "      <td>-2.208701</td>\n",
       "      <td>...</td>\n",
       "      <td>-2.189991</td>\n",
       "      <td>96.236261</td>\n",
       "      <td>4.323136</td>\n",
       "      <td>173.586572</td>\n",
       "      <td>-0.561186</td>\n",
       "      <td>251.207344</td>\n",
       "      <td>9.852833</td>\n",
       "      <td>6.866744</td>\n",
       "      <td>21.404341</td>\n",
       "      <td>2.699269</td>\n",
       "    </tr>\n",
       "  </tbody>\n",
       "</table>\n",
       "<p>1159 rows × 100 columns</p>\n",
       "</div>"
      ],
      "text/plain": [
       "             0           1           2          3          4          5   \\\n",
       "0     15.555565  -21.681192    1.996221  16.022712 -11.724365 -17.062546   \n",
       "1     -5.332012    1.419286   -2.545549   0.434357   0.371666  -4.187317   \n",
       "2      4.475018   17.070968  130.843722  10.745413 -26.926537  -6.149995   \n",
       "3      0.363723    7.774763    1.775696 -54.638284  22.049079   0.868746   \n",
       "4     54.300088   10.813221   22.070850   5.184014  -1.007312 -32.639519   \n",
       "...         ...         ...         ...        ...        ...        ...   \n",
       "1154   1.698572  116.209523   -4.096319  -4.882455   3.690395  -0.965227   \n",
       "1155  -4.841469    1.703147    2.572368   6.044291   2.761244  -1.085031   \n",
       "1156  -4.975082    8.656910   -5.861648  -3.962346  -0.438613  -1.408651   \n",
       "1157  13.136825   -0.504885   -3.657483   2.708472  41.530112 -38.905781   \n",
       "1158   4.868132  -18.177134    0.929867   1.695053 -16.986151  -2.805439   \n",
       "\n",
       "             6          7          8           9   ...         90          91  \\\n",
       "0     -2.640279  -1.811981   0.403907  -37.123410  ...  14.864277   85.451653   \n",
       "1     -9.986508   4.908841 -11.363887   14.620466  ...  -0.951478   -1.111503   \n",
       "2     -3.155643   8.510624 -16.866741   -2.734578  ... -41.101851    1.828912   \n",
       "3      4.185522  -2.189099  13.957224   -2.330243  ...  16.974331   -9.108699   \n",
       "4    -15.422997   1.387184  -7.600223  117.588661  ...  13.223535 -520.514433   \n",
       "...         ...        ...        ...         ...  ...        ...         ...   \n",
       "1154  -1.913512  -4.484128  -3.292944    5.300041  ...   3.913714   -1.727972   \n",
       "1155   0.372840   1.710685  -1.596293  -32.512516  ...   1.610837   -6.172880   \n",
       "1156   6.002463  -1.019894   1.588517    0.100352  ...   2.168994   -0.576060   \n",
       "1157   6.758575  10.505673  -7.861873  -53.089016  ...   6.627759  106.525977   \n",
       "1158  -1.766251  -0.574323  -4.924468   -2.208701  ...  -2.189991   96.236261   \n",
       "\n",
       "             92          93          94          95         96         97  \\\n",
       "0    -10.043007  174.765590    2.360021  258.411800   7.170050  12.242084   \n",
       "1     -4.512107   -8.196911  -14.435382    2.846959  -2.018615  -7.463765   \n",
       "2     -8.888993  162.386938    1.149139    4.699490  14.768171 -17.744857   \n",
       "3      4.025744  169.227248   -4.518851   -2.567999   6.861566  -7.904153   \n",
       "4     -4.683723  -11.878964   25.367466   16.056049  82.450259   2.610287   \n",
       "...         ...         ...         ...         ...        ...        ...   \n",
       "1154 -28.995015    4.516275    8.108433    4.488681  17.182684  -3.517370   \n",
       "1155  98.498356   -0.724289    2.876388    1.402875  -0.665866  59.915971   \n",
       "1156  -5.800461    2.803589   -0.683464    1.313140  -4.394463   4.644866   \n",
       "1157  -0.950110   -5.766685 -200.879815    6.464160 -14.706962 -48.015590   \n",
       "1158   4.323136  173.586572   -0.561186  251.207344   9.852833   6.866744   \n",
       "\n",
       "             98         99  \n",
       "0    -10.535938   0.730419  \n",
       "1     -5.145030   8.229682  \n",
       "2     11.203874  11.774597  \n",
       "3     -5.764486  24.776475  \n",
       "4    -90.217237  -5.472751  \n",
       "...         ...        ...  \n",
       "1154  -5.971124  -8.564371  \n",
       "1155 -12.103288   2.405846  \n",
       "1156  11.876604   3.312728  \n",
       "1157  18.847875 -10.908189  \n",
       "1158  21.404341   2.699269  \n",
       "\n",
       "[1159 rows x 100 columns]"
      ]
     },
     "execution_count": 41,
     "metadata": {},
     "output_type": "execute_result"
    }
   ],
   "source": [
    "#convertir vectores en dataframe\n",
    "X=pd.DataFrame(tweet_vector)\n",
    "X"
   ]
  },
  {
   "cell_type": "code",
   "execution_count": 42,
   "id": "yAG9fDEzOT0M",
   "metadata": {
    "id": "yAG9fDEzOT0M"
   },
   "outputs": [
    {
     "data": {
      "text/html": [
       "<div>\n",
       "<style scoped>\n",
       "    .dataframe tbody tr th:only-of-type {\n",
       "        vertical-align: middle;\n",
       "    }\n",
       "\n",
       "    .dataframe tbody tr th {\n",
       "        vertical-align: top;\n",
       "    }\n",
       "\n",
       "    .dataframe thead th {\n",
       "        text-align: right;\n",
       "    }\n",
       "</style>\n",
       "<table border=\"1\" class=\"dataframe\">\n",
       "  <thead>\n",
       "    <tr style=\"text-align: right;\">\n",
       "      <th></th>\n",
       "      <th>target</th>\n",
       "    </tr>\n",
       "  </thead>\n",
       "  <tbody>\n",
       "    <tr>\n",
       "      <th>0</th>\n",
       "      <td>Legalization of Abortion</td>\n",
       "    </tr>\n",
       "    <tr>\n",
       "      <th>1</th>\n",
       "      <td>Legalization of Abortion</td>\n",
       "    </tr>\n",
       "    <tr>\n",
       "      <th>2</th>\n",
       "      <td>Legalization of Abortion</td>\n",
       "    </tr>\n",
       "    <tr>\n",
       "      <th>3</th>\n",
       "      <td>Legalization of Abortion</td>\n",
       "    </tr>\n",
       "    <tr>\n",
       "      <th>4</th>\n",
       "      <td>Legalization of Abortion</td>\n",
       "    </tr>\n",
       "    <tr>\n",
       "      <th>...</th>\n",
       "      <td>...</td>\n",
       "    </tr>\n",
       "    <tr>\n",
       "      <th>1154</th>\n",
       "      <td>Atheism</td>\n",
       "    </tr>\n",
       "    <tr>\n",
       "      <th>1155</th>\n",
       "      <td>Atheism</td>\n",
       "    </tr>\n",
       "    <tr>\n",
       "      <th>1156</th>\n",
       "      <td>Atheism</td>\n",
       "    </tr>\n",
       "    <tr>\n",
       "      <th>1157</th>\n",
       "      <td>Atheism</td>\n",
       "    </tr>\n",
       "    <tr>\n",
       "      <th>1158</th>\n",
       "      <td>Atheism</td>\n",
       "    </tr>\n",
       "  </tbody>\n",
       "</table>\n",
       "<p>1159 rows × 1 columns</p>\n",
       "</div>"
      ],
      "text/plain": [
       "                        target\n",
       "0     Legalization of Abortion\n",
       "1     Legalization of Abortion\n",
       "2     Legalization of Abortion\n",
       "3     Legalization of Abortion\n",
       "4     Legalization of Abortion\n",
       "...                        ...\n",
       "1154                   Atheism\n",
       "1155                   Atheism\n",
       "1156                   Atheism\n",
       "1157                   Atheism\n",
       "1158                   Atheism\n",
       "\n",
       "[1159 rows x 1 columns]"
      ]
     },
     "execution_count": 42,
     "metadata": {},
     "output_type": "execute_result"
    }
   ],
   "source": [
    "#obtener variable objetivo\n",
    "y=pd.DataFrame(df2['target'])\n",
    "y"
   ]
  },
  {
   "cell_type": "code",
   "execution_count": 43,
   "id": "18217d77",
   "metadata": {},
   "outputs": [],
   "source": [
    "X[X==np.inf]=np.nan\n",
    "X.fillna(X.mean(), inplace=True)\n"
   ]
  },
  {
   "cell_type": "code",
   "execution_count": 44,
   "id": "ZQ8P0-DrlyhF",
   "metadata": {
    "id": "ZQ8P0-DrlyhF"
   },
   "outputs": [],
   "source": [
    "#separar dataset\n",
    "from sklearn.model_selection import train_test_split\n",
    "X_train,X_test,y_train,y_test=train_test_split(X,y,test_size=0.2,random_state=42) #tomar el 20% de los datos para validacion y definir la semilla en cero"
   ]
  },
  {
   "cell_type": "code",
   "execution_count": 45,
   "id": "kOyDj1FL_XcN",
   "metadata": {
    "colab": {
     "base_uri": "https://localhost:8080/",
     "height": 424
    },
    "id": "kOyDj1FL_XcN",
    "outputId": "5e928b39-cb9f-41d7-e3e4-0a31a6d513eb"
   },
   "outputs": [
    {
     "data": {
      "text/html": [
       "<div>\n",
       "<style scoped>\n",
       "    .dataframe tbody tr th:only-of-type {\n",
       "        vertical-align: middle;\n",
       "    }\n",
       "\n",
       "    .dataframe tbody tr th {\n",
       "        vertical-align: top;\n",
       "    }\n",
       "\n",
       "    .dataframe thead th {\n",
       "        text-align: right;\n",
       "    }\n",
       "</style>\n",
       "<table border=\"1\" class=\"dataframe\">\n",
       "  <thead>\n",
       "    <tr style=\"text-align: right;\">\n",
       "      <th></th>\n",
       "      <th>0</th>\n",
       "      <th>1</th>\n",
       "      <th>2</th>\n",
       "      <th>3</th>\n",
       "      <th>4</th>\n",
       "      <th>5</th>\n",
       "      <th>6</th>\n",
       "      <th>7</th>\n",
       "      <th>8</th>\n",
       "      <th>9</th>\n",
       "      <th>...</th>\n",
       "      <th>90</th>\n",
       "      <th>91</th>\n",
       "      <th>92</th>\n",
       "      <th>93</th>\n",
       "      <th>94</th>\n",
       "      <th>95</th>\n",
       "      <th>96</th>\n",
       "      <th>97</th>\n",
       "      <th>98</th>\n",
       "      <th>99</th>\n",
       "    </tr>\n",
       "  </thead>\n",
       "  <tbody>\n",
       "    <tr>\n",
       "      <th>58</th>\n",
       "      <td>-30.856889</td>\n",
       "      <td>7.919600</td>\n",
       "      <td>-3.142102</td>\n",
       "      <td>31.658730</td>\n",
       "      <td>-15.150364</td>\n",
       "      <td>-21.412174</td>\n",
       "      <td>4.033920</td>\n",
       "      <td>-31.802850</td>\n",
       "      <td>7.824937</td>\n",
       "      <td>4.289851</td>\n",
       "      <td>...</td>\n",
       "      <td>-0.133048</td>\n",
       "      <td>-5.621612</td>\n",
       "      <td>1.478137</td>\n",
       "      <td>-0.742248</td>\n",
       "      <td>1.443791</td>\n",
       "      <td>-159.442671</td>\n",
       "      <td>6.813643</td>\n",
       "      <td>-14.387994</td>\n",
       "      <td>-1.332498</td>\n",
       "      <td>-2.821401</td>\n",
       "    </tr>\n",
       "    <tr>\n",
       "      <th>333</th>\n",
       "      <td>-4.017346</td>\n",
       "      <td>43.067876</td>\n",
       "      <td>-0.481392</td>\n",
       "      <td>-4.253841</td>\n",
       "      <td>4.056060</td>\n",
       "      <td>27.257412</td>\n",
       "      <td>-68.992106</td>\n",
       "      <td>18.163037</td>\n",
       "      <td>20.486409</td>\n",
       "      <td>-25.588056</td>\n",
       "      <td>...</td>\n",
       "      <td>20.652843</td>\n",
       "      <td>10.624279</td>\n",
       "      <td>12.606986</td>\n",
       "      <td>262.819322</td>\n",
       "      <td>23.007712</td>\n",
       "      <td>11.001238</td>\n",
       "      <td>-0.917249</td>\n",
       "      <td>32.470709</td>\n",
       "      <td>2.365128</td>\n",
       "      <td>21.652329</td>\n",
       "    </tr>\n",
       "    <tr>\n",
       "      <th>332</th>\n",
       "      <td>-62.044647</td>\n",
       "      <td>7.273740</td>\n",
       "      <td>-2.071117</td>\n",
       "      <td>19.566032</td>\n",
       "      <td>6.352478</td>\n",
       "      <td>-1.968946</td>\n",
       "      <td>-54.753100</td>\n",
       "      <td>11.599123</td>\n",
       "      <td>-3.193141</td>\n",
       "      <td>-1.936266</td>\n",
       "      <td>...</td>\n",
       "      <td>10.738194</td>\n",
       "      <td>7.860788</td>\n",
       "      <td>-2.701330</td>\n",
       "      <td>6.355600</td>\n",
       "      <td>-21.663357</td>\n",
       "      <td>-14.694533</td>\n",
       "      <td>-3.039451</td>\n",
       "      <td>-2.154260</td>\n",
       "      <td>-0.364217</td>\n",
       "      <td>3.153830</td>\n",
       "    </tr>\n",
       "    <tr>\n",
       "      <th>1065</th>\n",
       "      <td>6.720579</td>\n",
       "      <td>10.882177</td>\n",
       "      <td>-1.590681</td>\n",
       "      <td>24.979182</td>\n",
       "      <td>33.447691</td>\n",
       "      <td>-39.077457</td>\n",
       "      <td>774.146977</td>\n",
       "      <td>-3.543342</td>\n",
       "      <td>7.681042</td>\n",
       "      <td>-0.879791</td>\n",
       "      <td>...</td>\n",
       "      <td>12.903409</td>\n",
       "      <td>1.377575</td>\n",
       "      <td>6.807452</td>\n",
       "      <td>8.076878</td>\n",
       "      <td>6.551115</td>\n",
       "      <td>-20.469836</td>\n",
       "      <td>-14.238289</td>\n",
       "      <td>-5.478202</td>\n",
       "      <td>-9.151113</td>\n",
       "      <td>11.417753</td>\n",
       "    </tr>\n",
       "    <tr>\n",
       "      <th>63</th>\n",
       "      <td>-17.099935</td>\n",
       "      <td>5.993621</td>\n",
       "      <td>45.484153</td>\n",
       "      <td>39.800337</td>\n",
       "      <td>0.942036</td>\n",
       "      <td>17.389893</td>\n",
       "      <td>3.654040</td>\n",
       "      <td>-0.948642</td>\n",
       "      <td>-12.039189</td>\n",
       "      <td>9.579263</td>\n",
       "      <td>...</td>\n",
       "      <td>1.981543</td>\n",
       "      <td>-20.202656</td>\n",
       "      <td>-19.176160</td>\n",
       "      <td>-97.549236</td>\n",
       "      <td>3.540150</td>\n",
       "      <td>-3.294388</td>\n",
       "      <td>16.467509</td>\n",
       "      <td>-7.277687</td>\n",
       "      <td>2.012824</td>\n",
       "      <td>2.348604</td>\n",
       "    </tr>\n",
       "    <tr>\n",
       "      <th>...</th>\n",
       "      <td>...</td>\n",
       "      <td>...</td>\n",
       "      <td>...</td>\n",
       "      <td>...</td>\n",
       "      <td>...</td>\n",
       "      <td>...</td>\n",
       "      <td>...</td>\n",
       "      <td>...</td>\n",
       "      <td>...</td>\n",
       "      <td>...</td>\n",
       "      <td>...</td>\n",
       "      <td>...</td>\n",
       "      <td>...</td>\n",
       "      <td>...</td>\n",
       "      <td>...</td>\n",
       "      <td>...</td>\n",
       "      <td>...</td>\n",
       "      <td>...</td>\n",
       "      <td>...</td>\n",
       "      <td>...</td>\n",
       "      <td>...</td>\n",
       "    </tr>\n",
       "    <tr>\n",
       "      <th>1044</th>\n",
       "      <td>-12.805713</td>\n",
       "      <td>6.097330</td>\n",
       "      <td>31.594215</td>\n",
       "      <td>7.981278</td>\n",
       "      <td>-18.067489</td>\n",
       "      <td>-4.310826</td>\n",
       "      <td>13.073118</td>\n",
       "      <td>-18.301883</td>\n",
       "      <td>-16.975947</td>\n",
       "      <td>28.616699</td>\n",
       "      <td>...</td>\n",
       "      <td>1.678889</td>\n",
       "      <td>-1.541383</td>\n",
       "      <td>203.914346</td>\n",
       "      <td>-43.133722</td>\n",
       "      <td>7.640841</td>\n",
       "      <td>3.591266</td>\n",
       "      <td>3.556206</td>\n",
       "      <td>-3.324274</td>\n",
       "      <td>492.281200</td>\n",
       "      <td>-3.422101</td>\n",
       "    </tr>\n",
       "    <tr>\n",
       "      <th>1095</th>\n",
       "      <td>2.639661</td>\n",
       "      <td>-4.400741</td>\n",
       "      <td>-15.078285</td>\n",
       "      <td>12.060091</td>\n",
       "      <td>-6.904224</td>\n",
       "      <td>5.185188</td>\n",
       "      <td>0.931418</td>\n",
       "      <td>-0.748269</td>\n",
       "      <td>23.046681</td>\n",
       "      <td>-13.501682</td>\n",
       "      <td>...</td>\n",
       "      <td>1.087122</td>\n",
       "      <td>-3.788209</td>\n",
       "      <td>-2.822580</td>\n",
       "      <td>2.878887</td>\n",
       "      <td>15.510915</td>\n",
       "      <td>-6.006477</td>\n",
       "      <td>58.045293</td>\n",
       "      <td>1.250166</td>\n",
       "      <td>3.246323</td>\n",
       "      <td>-1.032710</td>\n",
       "    </tr>\n",
       "    <tr>\n",
       "      <th>1130</th>\n",
       "      <td>-10.407528</td>\n",
       "      <td>9.840681</td>\n",
       "      <td>30.922334</td>\n",
       "      <td>-17.826063</td>\n",
       "      <td>4.454564</td>\n",
       "      <td>5.482497</td>\n",
       "      <td>-34.070014</td>\n",
       "      <td>-5.747985</td>\n",
       "      <td>-3.904377</td>\n",
       "      <td>36.239898</td>\n",
       "      <td>...</td>\n",
       "      <td>37.649808</td>\n",
       "      <td>6.871705</td>\n",
       "      <td>82.808534</td>\n",
       "      <td>-0.120813</td>\n",
       "      <td>7.210315</td>\n",
       "      <td>10.919183</td>\n",
       "      <td>5.065485</td>\n",
       "      <td>-19.593863</td>\n",
       "      <td>-3.680380</td>\n",
       "      <td>5.629098</td>\n",
       "    </tr>\n",
       "    <tr>\n",
       "      <th>860</th>\n",
       "      <td>15.193559</td>\n",
       "      <td>6.508100</td>\n",
       "      <td>2.327649</td>\n",
       "      <td>0.219438</td>\n",
       "      <td>5.090432</td>\n",
       "      <td>-2.510429</td>\n",
       "      <td>4.271239</td>\n",
       "      <td>2.851000</td>\n",
       "      <td>8.061459</td>\n",
       "      <td>-2.085022</td>\n",
       "      <td>...</td>\n",
       "      <td>0.641770</td>\n",
       "      <td>14.599736</td>\n",
       "      <td>28.217183</td>\n",
       "      <td>5.385097</td>\n",
       "      <td>6.376777</td>\n",
       "      <td>4.882066</td>\n",
       "      <td>-10.338692</td>\n",
       "      <td>-80.497884</td>\n",
       "      <td>3.657278</td>\n",
       "      <td>20.994390</td>\n",
       "    </tr>\n",
       "    <tr>\n",
       "      <th>1126</th>\n",
       "      <td>-3.439496</td>\n",
       "      <td>2.911823</td>\n",
       "      <td>-3.603792</td>\n",
       "      <td>-23.812559</td>\n",
       "      <td>-0.900719</td>\n",
       "      <td>-1.525263</td>\n",
       "      <td>-0.040670</td>\n",
       "      <td>-3.181097</td>\n",
       "      <td>-2.687155</td>\n",
       "      <td>-26.077564</td>\n",
       "      <td>...</td>\n",
       "      <td>-7.383886</td>\n",
       "      <td>0.709852</td>\n",
       "      <td>0.892030</td>\n",
       "      <td>-6.497740</td>\n",
       "      <td>2.763381</td>\n",
       "      <td>-5.443197</td>\n",
       "      <td>-3.084623</td>\n",
       "      <td>-2.623074</td>\n",
       "      <td>6.920684</td>\n",
       "      <td>16.389439</td>\n",
       "    </tr>\n",
       "  </tbody>\n",
       "</table>\n",
       "<p>927 rows × 100 columns</p>\n",
       "</div>"
      ],
      "text/plain": [
       "             0          1          2          3          4          5   \\\n",
       "58   -30.856889   7.919600  -3.142102  31.658730 -15.150364 -21.412174   \n",
       "333   -4.017346  43.067876  -0.481392  -4.253841   4.056060  27.257412   \n",
       "332  -62.044647   7.273740  -2.071117  19.566032   6.352478  -1.968946   \n",
       "1065   6.720579  10.882177  -1.590681  24.979182  33.447691 -39.077457   \n",
       "63   -17.099935   5.993621  45.484153  39.800337   0.942036  17.389893   \n",
       "...         ...        ...        ...        ...        ...        ...   \n",
       "1044 -12.805713   6.097330  31.594215   7.981278 -18.067489  -4.310826   \n",
       "1095   2.639661  -4.400741 -15.078285  12.060091  -6.904224   5.185188   \n",
       "1130 -10.407528   9.840681  30.922334 -17.826063   4.454564   5.482497   \n",
       "860   15.193559   6.508100   2.327649   0.219438   5.090432  -2.510429   \n",
       "1126  -3.439496   2.911823  -3.603792 -23.812559  -0.900719  -1.525263   \n",
       "\n",
       "              6          7          8          9   ...         90         91  \\\n",
       "58      4.033920 -31.802850   7.824937   4.289851  ...  -0.133048  -5.621612   \n",
       "333   -68.992106  18.163037  20.486409 -25.588056  ...  20.652843  10.624279   \n",
       "332   -54.753100  11.599123  -3.193141  -1.936266  ...  10.738194   7.860788   \n",
       "1065  774.146977  -3.543342   7.681042  -0.879791  ...  12.903409   1.377575   \n",
       "63      3.654040  -0.948642 -12.039189   9.579263  ...   1.981543 -20.202656   \n",
       "...          ...        ...        ...        ...  ...        ...        ...   \n",
       "1044   13.073118 -18.301883 -16.975947  28.616699  ...   1.678889  -1.541383   \n",
       "1095    0.931418  -0.748269  23.046681 -13.501682  ...   1.087122  -3.788209   \n",
       "1130  -34.070014  -5.747985  -3.904377  36.239898  ...  37.649808   6.871705   \n",
       "860     4.271239   2.851000   8.061459  -2.085022  ...   0.641770  14.599736   \n",
       "1126   -0.040670  -3.181097  -2.687155 -26.077564  ...  -7.383886   0.709852   \n",
       "\n",
       "              92          93         94          95         96         97  \\\n",
       "58      1.478137   -0.742248   1.443791 -159.442671   6.813643 -14.387994   \n",
       "333    12.606986  262.819322  23.007712   11.001238  -0.917249  32.470709   \n",
       "332    -2.701330    6.355600 -21.663357  -14.694533  -3.039451  -2.154260   \n",
       "1065    6.807452    8.076878   6.551115  -20.469836 -14.238289  -5.478202   \n",
       "63    -19.176160  -97.549236   3.540150   -3.294388  16.467509  -7.277687   \n",
       "...          ...         ...        ...         ...        ...        ...   \n",
       "1044  203.914346  -43.133722   7.640841    3.591266   3.556206  -3.324274   \n",
       "1095   -2.822580    2.878887  15.510915   -6.006477  58.045293   1.250166   \n",
       "1130   82.808534   -0.120813   7.210315   10.919183   5.065485 -19.593863   \n",
       "860    28.217183    5.385097   6.376777    4.882066 -10.338692 -80.497884   \n",
       "1126    0.892030   -6.497740   2.763381   -5.443197  -3.084623  -2.623074   \n",
       "\n",
       "              98         99  \n",
       "58     -1.332498  -2.821401  \n",
       "333     2.365128  21.652329  \n",
       "332    -0.364217   3.153830  \n",
       "1065   -9.151113  11.417753  \n",
       "63      2.012824   2.348604  \n",
       "...          ...        ...  \n",
       "1044  492.281200  -3.422101  \n",
       "1095    3.246323  -1.032710  \n",
       "1130   -3.680380   5.629098  \n",
       "860     3.657278  20.994390  \n",
       "1126    6.920684  16.389439  \n",
       "\n",
       "[927 rows x 100 columns]"
      ]
     },
     "execution_count": 45,
     "metadata": {},
     "output_type": "execute_result"
    }
   ],
   "source": [
    "X_train"
   ]
  },
  {
   "cell_type": "code",
   "execution_count": 46,
   "id": "1qIL55EjOpSn",
   "metadata": {
    "colab": {
     "base_uri": "https://localhost:8080/"
    },
    "id": "1qIL55EjOpSn",
    "outputId": "e5dd1092-8ad3-4a74-b339-254627fee595"
   },
   "outputs": [
    {
     "name": "stderr",
     "output_type": "stream",
     "text": [
      "/var/folders/1z/1h5_y8x165n9_dtqpqg0vsw07w60nb/T/ipykernel_76701/702847128.py:9: DataConversionWarning: A column-vector y was passed when a 1d array was expected. Please change the shape of y to (n_samples,), for example using ravel().\n",
      "  clf.fit(X_train,y_train)\n"
     ]
    }
   ],
   "source": [
    "#definir semilla\n",
    "import random\n",
    "random.seed(10)\n",
    "#Importar modelo Ramdom Forest\n",
    "from sklearn.ensemble import RandomForestClassifier\n",
    "#Crear clasificador\n",
    "clf=RandomForestClassifier(n_estimators=200,random_state=1000)\n",
    "#Entrenar Modelo\n",
    "clf.fit(X_train,y_train)\n",
    "#predecir\n",
    "y_pred=clf.predict(X_test)"
   ]
  },
  {
   "cell_type": "code",
   "execution_count": 47,
   "id": "gjwYyVsyWSGt",
   "metadata": {
    "colab": {
     "base_uri": "https://localhost:8080/"
    },
    "id": "gjwYyVsyWSGt",
    "outputId": "9653c18c-074f-4852-fba4-807dd2ba0d20"
   },
   "outputs": [
    {
     "name": "stdout",
     "output_type": "stream",
     "text": [
      "Accuracy: 0.625\n"
     ]
    }
   ],
   "source": [
    "#Importar metricas scikit-learn \n",
    "from sklearn import metrics\n",
    "# calcular el \"accuracy\"\n",
    "print(\"Accuracy:\",metrics.accuracy_score(y_test, y_pred))"
   ]
  },
  {
   "cell_type": "code",
   "execution_count": null,
   "id": "rPoeRNhuzfBO",
   "metadata": {
    "id": "rPoeRNhuzfBO"
   },
   "outputs": [],
   "source": []
  }
 ],
 "metadata": {
  "colab": {
   "collapsed_sections": [],
   "provenance": []
  },
  "kernelspec": {
   "display_name": "Python 3 (ipykernel)",
   "language": "python",
   "name": "python3"
  },
  "language_info": {
   "codemirror_mode": {
    "name": "ipython",
    "version": 3
   },
   "file_extension": ".py",
   "mimetype": "text/x-python",
   "name": "python",
   "nbconvert_exporter": "python",
   "pygments_lexer": "ipython3",
   "version": "3.8.15"
  },
  "nbTranslate": {
   "displayLangs": [
    "*"
   ],
   "hotkey": "alt-t",
   "langInMainMenu": true,
   "sourceLang": "en",
   "targetLang": "es",
   "useGoogleTranslate": true
  },
  "vscode": {
   "interpreter": {
    "hash": "cf856c288227c1985b5319abfa2c7eaa1df0528794ab1c4cb755b7b4904e1cb5"
   }
  }
 },
 "nbformat": 4,
 "nbformat_minor": 5
}
