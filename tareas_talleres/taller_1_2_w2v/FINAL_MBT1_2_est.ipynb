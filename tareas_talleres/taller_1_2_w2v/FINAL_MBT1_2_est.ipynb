{
  "cells": [
    {
      "cell_type": "markdown",
      "id": "303d9d7f-d97e-4164-ac4a-31af770822a0",
      "metadata": {
        "id": "303d9d7f-d97e-4164-ac4a-31af770822a0"
      },
      "source": [
        "# Taller de NLP: Word2Vec"
      ]
    },
    {
      "cell_type": "code",
      "execution_count": null,
      "id": "91991ad2",
      "metadata": {
        "ExecuteTime": {
          "end_time": "2022-02-14T08:21:58.509533Z",
          "start_time": "2022-02-14T08:21:58.495238Z"
        },
        "id": "91991ad2"
      },
      "outputs": [],
      "source": [
        "#%load_ext watermark\n",
        "#%watermark -a 'Santiago Alferez' --iversions"
      ]
    },
    {
      "cell_type": "code",
      "source": [
        "numpy     : 1.21.2\n",
        "pandas    : 1.3.5\n",
        "re        : 2.2.1\n",
        "nltk      : 3.6.7\n",
        "sklearn   : 1.0.2\n",
        "matplotlib: 3.5.0\n",
        "scipy     : 1.7.3\n",
        "gensim    : 4.0.1"
      ],
      "metadata": {
        "id": "IiT5wyGegwrh",
        "colab": {
          "base_uri": "https://localhost:8080/",
          "height": 133
        },
        "outputId": "23b35f54-809b-479e-ed10-10c33e3fa08f"
      },
      "id": "IiT5wyGegwrh",
      "execution_count": null,
      "outputs": [
        {
          "output_type": "error",
          "ename": "SyntaxError",
          "evalue": "ignored",
          "traceback": [
            "\u001b[0;36m  File \u001b[0;32m\"<ipython-input-98-956846b256b7>\"\u001b[0;36m, line \u001b[0;32m1\u001b[0m\n\u001b[0;31m    numpy     : 1.21.2\u001b[0m\n\u001b[0m                     ^\u001b[0m\n\u001b[0;31mSyntaxError\u001b[0m\u001b[0;31m:\u001b[0m invalid syntax\n"
          ]
        }
      ]
    },
    {
      "cell_type": "code",
      "source": [
        "import pandas as pd\n",
        "import nltk"
      ],
      "metadata": {
        "id": "POUuORYcgzHO"
      },
      "id": "POUuORYcgzHO",
      "execution_count": null,
      "outputs": []
    },
    {
      "cell_type": "markdown",
      "id": "4deb9569-4d68-40a4-9398-84a8f533f20a",
      "metadata": {
        "id": "4deb9569-4d68-40a4-9398-84a8f533f20a"
      },
      "source": [
        "Para este taller deberás disponer de algunas librerías como scikit-learn, NLTK, y GenSim. Se recomienda revisar la [documentación de GenSim](https://radimrehurek.com/gensim/auto_examples/index.html#documentation)."
      ]
    },
    {
      "cell_type": "markdown",
      "id": "3fb737da-3eeb-4cca-bc6e-ce1c55c82076",
      "metadata": {
        "id": "3fb737da-3eeb-4cca-bc6e-ce1c55c82076"
      },
      "source": [
        "## Cargando un modelo  en GenSim y análisis\n",
        "A continuación cargaremos un modelo que no pesa tanto `glove-twitter-50`. Hay modelos más completos y con mayor número de dimensiones en este [link](https://github.com/RaRe-Technologies/gensim-data)"
      ]
    },
    {
      "cell_type": "code",
      "execution_count": null,
      "id": "b7c407cf-1aef-4239-91fb-fc6bd01868ba",
      "metadata": {
        "ExecuteTime": {
          "end_time": "2022-02-14T04:06:59.690028Z",
          "start_time": "2022-02-14T04:06:59.402957Z"
        },
        "execution": {
          "iopub.execute_input": "2022-02-14T03:27:46.900492Z",
          "iopub.status.busy": "2022-02-14T03:27:46.900171Z",
          "iopub.status.idle": "2022-02-14T03:27:46.914919Z",
          "shell.execute_reply": "2022-02-14T03:27:46.914499Z",
          "shell.execute_reply.started": "2022-02-14T03:27:46.900468Z"
        },
        "id": "b7c407cf-1aef-4239-91fb-fc6bd01868ba"
      },
      "outputs": [],
      "source": [
        "from gensim.models.word2vec import Word2Vec\n",
        "import gensim.downloader as api"
      ]
    },
    {
      "cell_type": "code",
      "execution_count": null,
      "id": "a56fd291-d67f-4e40-9330-70f209dcb14d",
      "metadata": {
        "ExecuteTime": {
          "end_time": "2022-02-14T04:07:31.835210Z",
          "start_time": "2022-02-14T04:07:03.095268Z"
        },
        "execution": {
          "iopub.execute_input": "2022-02-14T03:37:57.117097Z",
          "iopub.status.busy": "2022-02-14T03:37:57.116886Z",
          "iopub.status.idle": "2022-02-14T03:38:36.444204Z",
          "shell.execute_reply": "2022-02-14T03:38:36.443822Z",
          "shell.execute_reply.started": "2022-02-14T03:37:57.117073Z"
        },
        "tags": [],
        "id": "a56fd291-d67f-4e40-9330-70f209dcb14d",
        "outputId": "7caa6f1e-2c65-456e-bfd5-1ff08e77d822",
        "colab": {
          "base_uri": "https://localhost:8080/"
        }
      },
      "outputs": [
        {
          "output_type": "stream",
          "name": "stdout",
          "text": [
            "[==================================================] 100.0% 199.5/199.5MB downloaded\n"
          ]
        }
      ],
      "source": [
        "wv = api.load(\"glove-twitter-50\")"
      ]
    },
    {
      "cell_type": "markdown",
      "id": "e57d8193",
      "metadata": {
        "lang": "es",
        "id": "e57d8193"
      },
      "source": [
        "Una operación común es recuperar el vocabulario de un modelo. Eso es trivial:"
      ]
    },
    {
      "cell_type": "code",
      "source": [
        "!pip install --upgrade gensim"
      ],
      "metadata": {
        "colab": {
          "base_uri": "https://localhost:8080/",
          "height": 347
        },
        "id": "i5R_gkWSg-eZ",
        "outputId": "68c1212b-57b9-40ec-fc9b-57779b351204"
      },
      "id": "i5R_gkWSg-eZ",
      "execution_count": null,
      "outputs": [
        {
          "output_type": "stream",
          "name": "stdout",
          "text": [
            "Looking in indexes: https://pypi.org/simple, https://us-python.pkg.dev/colab-wheels/public/simple/\n",
            "Requirement already satisfied: gensim in /usr/local/lib/python3.7/dist-packages (3.6.0)\n",
            "Collecting gensim\n",
            "  Downloading gensim-4.2.0-cp37-cp37m-manylinux_2_12_x86_64.manylinux2010_x86_64.whl (24.1 MB)\n",
            "\u001b[K     |████████████████████████████████| 24.1 MB 56.4 MB/s \n",
            "\u001b[?25hRequirement already satisfied: smart-open>=1.8.1 in /usr/local/lib/python3.7/dist-packages (from gensim) (5.2.1)\n",
            "Requirement already satisfied: scipy>=0.18.1 in /usr/local/lib/python3.7/dist-packages (from gensim) (1.7.3)\n",
            "Requirement already satisfied: numpy>=1.17.0 in /usr/local/lib/python3.7/dist-packages (from gensim) (1.21.6)\n",
            "Installing collected packages: gensim\n",
            "  Attempting uninstall: gensim\n",
            "    Found existing installation: gensim 3.6.0\n",
            "    Uninstalling gensim-3.6.0:\n",
            "      Successfully uninstalled gensim-3.6.0\n",
            "Successfully installed gensim-4.2.0\n"
          ]
        },
        {
          "output_type": "display_data",
          "data": {
            "application/vnd.colab-display-data+json": {
              "pip_warning": {
                "packages": [
                  "gensim"
                ]
              }
            }
          },
          "metadata": {}
        }
      ]
    },
    {
      "cell_type": "code",
      "execution_count": null,
      "id": "64ea170f-2764-4f8f-b53b-8ab0ba15f809",
      "metadata": {
        "ExecuteTime": {
          "end_time": "2022-02-14T04:37:52.995303Z",
          "start_time": "2022-02-14T04:37:52.990347Z"
        },
        "execution": {
          "iopub.execute_input": "2022-02-14T03:40:44.605165Z",
          "iopub.status.busy": "2022-02-14T03:40:44.604959Z",
          "iopub.status.idle": "2022-02-14T03:40:44.610064Z",
          "shell.execute_reply": "2022-02-14T03:40:44.609649Z",
          "shell.execute_reply.started": "2022-02-14T03:40:44.605143Z"
        },
        "tags": [],
        "colab": {
          "base_uri": "https://localhost:8080/"
        },
        "id": "64ea170f-2764-4f8f-b53b-8ab0ba15f809",
        "outputId": "10797f88-3fea-45be-e373-95bd235ef2fe"
      },
      "outputs": [
        {
          "output_type": "stream",
          "name": "stdout",
          "text": [
            "palabra #0/1193514 es <user>\n",
            "palabra #1/1193514 es .\n",
            "palabra #2/1193514 es :\n",
            "palabra #3/1193514 es rt\n",
            "palabra #4/1193514 es ,\n",
            "palabra #5/1193514 es <repeat>\n",
            "palabra #6/1193514 es <hashtag>\n",
            "palabra #7/1193514 es <number>\n",
            "palabra #8/1193514 es <url>\n",
            "palabra #9/1193514 es !\n",
            "palabra #10/1193514 es i\n",
            "palabra #11/1193514 es a\n",
            "palabra #12/1193514 es \"\n",
            "palabra #13/1193514 es the\n",
            "palabra #14/1193514 es ?\n",
            "palabra #15/1193514 es you\n",
            "palabra #16/1193514 es to\n",
            "palabra #17/1193514 es (\n",
            "palabra #18/1193514 es <allcaps>\n",
            "palabra #19/1193514 es <elong>\n"
          ]
        }
      ],
      "source": [
        "for index, word in enumerate(wv.index_to_key):\n",
        "    if index == 20:\n",
        "        break\n",
        "    print(f\"palabra #{index}/{len(wv.index_to_key)} es {word}\")"
      ]
    },
    {
      "cell_type": "code",
      "execution_count": null,
      "id": "a419cf24-26e0-4de7-b99d-8d4777565a2d",
      "metadata": {
        "ExecuteTime": {
          "end_time": "2022-02-14T04:08:08.494078Z",
          "start_time": "2022-02-14T04:08:08.491678Z"
        },
        "execution": {
          "iopub.execute_input": "2022-02-14T03:41:04.661226Z",
          "iopub.status.busy": "2022-02-14T03:41:04.661017Z",
          "iopub.status.idle": "2022-02-14T03:41:04.664034Z",
          "shell.execute_reply": "2022-02-14T03:41:04.663583Z",
          "shell.execute_reply.started": "2022-02-14T03:41:04.661204Z"
        },
        "tags": [],
        "id": "a419cf24-26e0-4de7-b99d-8d4777565a2d"
      },
      "outputs": [],
      "source": [
        "vec_king = wv['king']"
      ]
    },
    {
      "cell_type": "code",
      "execution_count": null,
      "id": "a2ea255b-bdde-4efa-b4c8-31d87bfc0793",
      "metadata": {
        "ExecuteTime": {
          "end_time": "2022-02-14T04:08:13.402779Z",
          "start_time": "2022-02-14T04:08:13.393216Z"
        },
        "execution": {
          "iopub.execute_input": "2022-02-14T03:51:40.935303Z",
          "iopub.status.busy": "2022-02-14T03:51:40.935093Z",
          "iopub.status.idle": "2022-02-14T03:51:40.939582Z",
          "shell.execute_reply": "2022-02-14T03:51:40.939201Z",
          "shell.execute_reply.started": "2022-02-14T03:51:40.935280Z"
        },
        "tags": [],
        "id": "a2ea255b-bdde-4efa-b4c8-31d87bfc0793"
      },
      "outputs": [],
      "source": [
        "vec_king"
      ]
    },
    {
      "cell_type": "markdown",
      "id": "420ba0c2",
      "metadata": {
        "lang": "es",
        "id": "420ba0c2"
      },
      "source": [
        "Desafortunadamente, el modelo no puede inferir vectores para palabras desconocidas. Esta es una limitación de Word2Vec: si esta limitación le importa, consulte el modelo FastText."
      ]
    },
    {
      "cell_type": "code",
      "execution_count": null,
      "id": "b763e578-8271-4775-a394-0f8db13b7fdd",
      "metadata": {
        "execution": {
          "iopub.execute_input": "2022-02-14T03:45:10.205693Z",
          "iopub.status.busy": "2022-02-14T03:45:10.205485Z",
          "iopub.status.idle": "2022-02-14T03:45:10.216440Z",
          "shell.execute_reply": "2022-02-14T03:45:10.216084Z",
          "shell.execute_reply.started": "2022-02-14T03:45:10.205671Z"
        },
        "tags": [],
        "id": "b763e578-8271-4775-a394-0f8db13b7fdd"
      },
      "outputs": [],
      "source": [
        "wv[\"cielo\"]"
      ]
    },
    {
      "cell_type": "markdown",
      "id": "e6082e94",
      "metadata": {
        "lang": "es",
        "id": "e6082e94"
      },
      "source": [
        "Continuando, Word2Vec admite varias tareas de similitud de palabras listas para usar. Puedes ver cómo la similitud (¿Que similitud será?) disminuye intuitivamente a medida que las palabras se vuelven cada vez menos similares."
      ]
    },
    {
      "cell_type": "code",
      "execution_count": null,
      "id": "68c443a4-bf35-4e6a-ba04-8335ae961387",
      "metadata": {
        "ExecuteTime": {
          "end_time": "2022-02-14T04:13:11.319163Z",
          "start_time": "2022-02-14T04:13:11.314996Z"
        },
        "execution": {
          "iopub.execute_input": "2022-02-14T03:47:38.159949Z",
          "iopub.status.busy": "2022-02-14T03:47:38.159416Z",
          "iopub.status.idle": "2022-02-14T03:47:38.164359Z",
          "shell.execute_reply": "2022-02-14T03:47:38.163950Z",
          "shell.execute_reply.started": "2022-02-14T03:47:38.159925Z"
        },
        "tags": [],
        "id": "68c443a4-bf35-4e6a-ba04-8335ae961387"
      },
      "outputs": [],
      "source": [
        "pairs = [\n",
        "    ('gato', 'perro'),   \n",
        "    ('gato', 'tigre'),   \n",
        "    ('gato', 'rana'),  \n",
        "    ('gato', 'nube'),   \n",
        "    ('gato', 'politica'),\n",
        "]\n",
        "for w1, w2 in pairs:\n",
        "    print('%r\\t%r\\t%.2f' % (w1, w2, wv.similarity(w1, w2)))"
      ]
    },
    {
      "cell_type": "markdown",
      "id": "c0264d69-5a56-4226-ab00-ecb7cd212126",
      "metadata": {
        "id": "c0264d69-5a56-4226-ab00-ecb7cd212126"
      },
      "source": [
        "Podemos encontrar las palabras más similares de acuerdo a una medida de similaridad ([la similaridad del coseno](https://en.wikipedia.org/wiki/Cosine_similarity)):"
      ]
    },
    {
      "cell_type": "code",
      "execution_count": null,
      "id": "8335e925-fc4b-4864-9e5c-10f78d8a1751",
      "metadata": {
        "ExecuteTime": {
          "end_time": "2022-02-14T04:15:15.444042Z",
          "start_time": "2022-02-14T04:15:15.411190Z"
        },
        "execution": {
          "iopub.execute_input": "2022-02-14T03:48:26.843790Z",
          "iopub.status.busy": "2022-02-14T03:48:26.843582Z",
          "iopub.status.idle": "2022-02-14T03:48:26.873820Z",
          "shell.execute_reply": "2022-02-14T03:48:26.873516Z",
          "shell.execute_reply.started": "2022-02-14T03:48:26.843768Z"
        },
        "tags": [],
        "id": "8335e925-fc4b-4864-9e5c-10f78d8a1751"
      },
      "outputs": [],
      "source": [
        "pd.DataFrame(wv.most_similar(positive=['carro', 'camión'], topn=5), columns=[\"palabra\", \"similaridad\"])"
      ]
    },
    {
      "cell_type": "markdown",
      "id": "a9fd5e85-e2e5-4a05-9835-a9db17eff082",
      "metadata": {
        "id": "a9fd5e85-e2e5-4a05-9835-a9db17eff082"
      },
      "source": [
        "¿Cuál de estos no pertenece a la secuencia?"
      ]
    },
    {
      "cell_type": "code",
      "execution_count": null,
      "id": "ab8a17b2-d302-45aa-ba9d-6811a5c3507b",
      "metadata": {
        "ExecuteTime": {
          "end_time": "2022-02-14T04:15:43.779444Z",
          "start_time": "2022-02-14T04:15:43.776046Z"
        },
        "execution": {
          "iopub.execute_input": "2022-02-14T03:52:47.886432Z",
          "iopub.status.busy": "2022-02-14T03:52:47.886222Z",
          "iopub.status.idle": "2022-02-14T03:52:47.890151Z",
          "shell.execute_reply": "2022-02-14T03:52:47.889740Z",
          "shell.execute_reply.started": "2022-02-14T03:52:47.886410Z"
        },
        "tags": [],
        "id": "ab8a17b2-d302-45aa-ba9d-6811a5c3507b"
      },
      "outputs": [],
      "source": [
        "print(wv.doesnt_match(['fuego', 'agua', 'tierra', 'mar', 'aire', 'carro']))"
      ]
    },
    {
      "cell_type": "markdown",
      "id": "87fcc523",
      "metadata": {
        "id": "87fcc523"
      },
      "source": [
        "### Analogias"
      ]
    },
    {
      "cell_type": "markdown",
      "id": "ff6d54f7",
      "metadata": {
        "lang": "es",
        "id": "ff6d54f7"
      },
      "source": [
        "Se ha demostrado que los vectores de palabras *a veces* exhiben la capacidad de resolver analogías.\n",
        "\n",
        "Como ejemplo, para la analogía \"hombre: rey :: mujer: x\" (léase: el hombre es al rey como la mujer es a x), ¿qué es x?\n",
        "\n",
        "En la celda a continuación, se muestra cómo usar vectores de palabras para encontrar x usando la función `most_similar` de la [documentacion de GenSim](https://radimrehurek.com/gensim/models/keyedvectors.html#gensim.models.keyedvectors.KeyedVectors.most_similares). La función encuentra palabras que son más similares a las palabras en la lista \"positiva\" y más diferentes de las palabras en la lista \"negativa\" (mientras omite las palabras de entrada, que a menudo son las más similares). La respuesta a la analogía tendrá la mayor similitud del coseno (mayor valor numérico devuelto)."
      ]
    },
    {
      "cell_type": "code",
      "execution_count": null,
      "id": "e38c3d8f",
      "metadata": {
        "ExecuteTime": {
          "end_time": "2022-02-14T04:27:39.603586Z",
          "start_time": "2022-02-14T04:27:39.576082Z"
        },
        "id": "e38c3d8f"
      },
      "outputs": [],
      "source": [
        "# esta es la analogia -- hombre : rey :: mujer : x\n",
        "wv.most_similar(positive=['mujer', 'rey'], negative=['hombre'])"
      ]
    },
    {
      "cell_type": "markdown",
      "id": "b96fb514",
      "metadata": {
        "id": "b96fb514"
      },
      "source": [
        "#### Ejercicio 1\n",
        "Cree una función denominada `analogia(a,b,c)` donde determine la analogía *a* : *b* :: *c* : *d*, es decir retorne a *d*, como en el ejemplo anterior. Pruebe la función con 5 analogías que se le ocurra (en inglés o en españól, pero no combinadas)"
      ]
    },
    {
      "cell_type": "code",
      "source": [
        "def analogia(a,b,c):\n",
        "  lista = wv.most_similar(positive=[a,b],negative=[c])\n",
        "  return lista"
      ],
      "metadata": {
        "id": "z23f5keUg-P_"
      },
      "id": "z23f5keUg-P_",
      "execution_count": null,
      "outputs": []
    },
    {
      "cell_type": "code",
      "source": [
        "analogia('guerra','arma','argumento')"
      ],
      "metadata": {
        "id": "Mxci0CnHhQtB"
      },
      "id": "Mxci0CnHhQtB",
      "execution_count": null,
      "outputs": []
    },
    {
      "cell_type": "code",
      "source": [
        "analogia('blanco','dia','negro')"
      ],
      "metadata": {
        "id": "k0de-6othkLd"
      },
      "id": "k0de-6othkLd",
      "execution_count": null,
      "outputs": []
    },
    {
      "cell_type": "code",
      "source": [
        "analogia('cafe','caliente','frio')"
      ],
      "metadata": {
        "id": "6msI5JFEiqCf"
      },
      "id": "6msI5JFEiqCf",
      "execution_count": null,
      "outputs": []
    },
    {
      "cell_type": "code",
      "source": [
        "analogia('estudiante', 'examenes', 'profesor')"
      ],
      "metadata": {
        "id": "kR-PTPOSvj76"
      },
      "id": "kR-PTPOSvj76",
      "execution_count": null,
      "outputs": []
    },
    {
      "cell_type": "code",
      "source": [
        "analogia('leer', 'aprender', 'correr')"
      ],
      "metadata": {
        "id": "hu0SwWVZvmv7"
      },
      "id": "hu0SwWVZvmv7",
      "execution_count": null,
      "outputs": []
    },
    {
      "cell_type": "markdown",
      "id": "6e263c41",
      "metadata": {
        "id": "6e263c41"
      },
      "source": [
        "#### Ejercicio 2\n",
        "Haga un listado de unas 20 palabras y grafiquelas en dos dimensiones (colocando su texto) junto con unas 200 palabras muestreadas aleatoriamente (sin texto). Use para reducir la dimensión PCA. Repita lo mismo usando UMAP."
      ]
    },
    {
      "cell_type": "code",
      "source": [
        "from sklearn.decomposition import PCA\n",
        "\n",
        "def f_get_words(text_, cat_palabras):\n",
        "  global wv\n",
        "  word_similitud = wv.similar_by_word(text_, topn=cat_palabras)\n",
        "  similar_words = list()\n",
        "\n",
        "  for i in range(len(word_similitud)):\n",
        "    if word_similitud[i][1]>0:\n",
        "      temp=word_similitud[i][0]\n",
        "      similar_words.append(temp)\n",
        "\n",
        "  vectors = wv[similar_words]\n",
        "\n",
        "  return vectors, similar_words\n",
        "\n",
        "\n",
        "para_pca, nombres_para_pca =  f_get_words(text_= 'perro', cat_palabras=200)\n",
        "para_pintar, nombres_para_pintar =  f_get_words(text_= 'razas', cat_palabras=20)\n",
        "\n",
        "\n",
        "#reducir dimensionalidad por componentes con PCA.\n",
        "reduccion =  PCA(random_state=0, n_components  = 2).fit(para_pca)\n",
        "\n",
        "#transformando los datos de los pntos\n",
        "puntos_plot = reduccion.transform(para_pintar)\n",
        "\n",
        "# organizando para pintar via sns\n",
        "base=pd.DataFrame()\n",
        "base[\"primer_componente\"]=puntos_plot[:,0]\n",
        "base[\"segundo_componente\"]=puntos_plot[:,1]\n",
        "base[\"nombres\"]=nombres_para_pintar\n",
        "#display(base)\n",
        "\n",
        "import seaborn as sns #visializacoines\n",
        "graf1=sns.scatterplot(x=\"primer_componente\", y=\"segundo_componente\", data=base)\n",
        "\n",
        "for line in range(0,base.shape[0]):\n",
        "     graf1.text(base.primer_componente[line]+0.01, base.segundo_componente[line], \n",
        "     base.nombres[line], horizontalalignment='left', \n",
        "     size='medium', color='black', weight='semibold')"
      ],
      "metadata": {
        "id": "tWtV6mjLvvBr"
      },
      "id": "tWtV6mjLvvBr",
      "execution_count": null,
      "outputs": []
    },
    {
      "cell_type": "code",
      "source": [
        "# USANDO umap\n",
        "\n",
        "!pip install umap-learn\n",
        "\n",
        "import umap.umap_ as umap\n",
        "\n",
        "reducer = umap.UMAP(random_state=0)\n",
        "\n",
        "embedding = reducer.fit(para_pca)\n",
        "\n",
        "points_plot = embedding.transform(para_pintar)\n",
        "\n",
        "# organizando para pintar via sns\n",
        "base=pd.DataFrame()\n",
        "base[\"primer_componente\"]=points_plot[:,0]\n",
        "base[\"segundo_componente\"]=points_plot[:,1]\n",
        "base[\"nombres\"]=nombres_para_pintar\n",
        "#display(base)\n",
        "\n",
        "import seaborn as sns #visializacoines\n",
        "graf1=sns.scatterplot(x=\"primer_componente\", y=\"segundo_componente\", data=base)\n",
        "\n",
        "for line in range(0,base.shape[0]):\n",
        "     graf1.text(base.primer_componente[line]+0.01, base.segundo_componente[line], \n",
        "     base.nombres[line], horizontalalignment='left', \n",
        "     size='medium', color='black', weight='semibold')"
      ],
      "metadata": {
        "id": "EdkuBi17vy68"
      },
      "id": "EdkuBi17vy68",
      "execution_count": null,
      "outputs": []
    },
    {
      "cell_type": "markdown",
      "id": "c2ddb3c1",
      "metadata": {
        "id": "c2ddb3c1"
      },
      "source": [
        "-----"
      ]
    },
    {
      "cell_type": "markdown",
      "id": "2e2aac28",
      "metadata": {
        "id": "2e2aac28"
      },
      "source": [
        "GenSim permite acceder a las palabras mediante diferentes formas sobre un objeto `KeyedVectors` (el wv de antes es uno). `.index_to_key`produce una lista con el vocabulario de forma ordenada, mientras `.key_to_index` produce un diccionario de la forma {palabra: index}."
      ]
    },
    {
      "cell_type": "code",
      "execution_count": null,
      "id": "e95f75eb",
      "metadata": {
        "ExecuteTime": {
          "end_time": "2022-02-14T05:09:19.256005Z",
          "start_time": "2022-02-14T05:09:19.253182Z"
        },
        "scrolled": true,
        "id": "e95f75eb"
      },
      "outputs": [],
      "source": [
        "print(wv.index_to_key[100:120])"
      ]
    },
    {
      "cell_type": "markdown",
      "id": "ca19dfb4",
      "metadata": {
        "id": "ca19dfb4"
      },
      "source": [
        "## Entrene un nuevo modelo sobre un corpus"
      ]
    },
    {
      "cell_type": "markdown",
      "id": "cb4dc2ed",
      "metadata": {
        "id": "cb4dc2ed"
      },
      "source": [
        "Trabajaremos de nuevo con el dataset de `progressive-tweet-sentiment.csv`, el cuál es un dataset pequeño que nos facilitará probar Word2vec. Sin embargo, los resultados pueden no ser tan buenos, dado que Word2vec es más potente cuando el corpus es más grande.\n",
        "\n",
        "`progressive-tweet-sentiment`  tiene algunos tweets recopilados y categorizados en 4 clases: 'Legalization of Abortion', 'Hillary Clinton', 'Feminist Movement', 'Atheism'. "
      ]
    },
    {
      "cell_type": "code",
      "execution_count": null,
      "id": "ab41f401",
      "metadata": {
        "ExecuteTime": {
          "end_time": "2022-02-14T05:11:17.786754Z",
          "start_time": "2022-02-14T05:11:17.773980Z"
        },
        "execution": {
          "iopub.execute_input": "2022-02-14T03:01:40.202685Z",
          "iopub.status.busy": "2022-02-14T03:01:40.202480Z",
          "iopub.status.idle": "2022-02-14T03:01:40.232755Z",
          "shell.execute_reply": "2022-02-14T03:01:40.232412Z",
          "shell.execute_reply.started": "2022-02-14T03:01:40.202661Z"
        },
        "scrolled": true,
        "tags": [],
        "id": "ab41f401"
      },
      "outputs": [],
      "source": [
        "df = pd.read_csv(\"/content/progressive-tweet-sentiment.csv\",encoding='latin-1')"
      ]
    },
    {
      "cell_type": "code",
      "execution_count": null,
      "id": "0f313331",
      "metadata": {
        "ExecuteTime": {
          "end_time": "2022-02-14T05:11:21.586157Z",
          "start_time": "2022-02-14T05:11:21.578731Z"
        },
        "execution": {
          "iopub.execute_input": "2022-02-14T03:01:42.930300Z",
          "iopub.status.busy": "2022-02-14T03:01:42.930096Z",
          "iopub.status.idle": "2022-02-14T03:01:42.946310Z",
          "shell.execute_reply": "2022-02-14T03:01:42.945940Z",
          "shell.execute_reply.started": "2022-02-14T03:01:42.930277Z"
        },
        "tags": [],
        "id": "0f313331"
      },
      "outputs": [],
      "source": [
        "df = df[[\"target\", \"tweet\"]]\n",
        "df.head()"
      ]
    },
    {
      "cell_type": "markdown",
      "id": "c0b65349",
      "metadata": {
        "id": "c0b65349"
      },
      "source": [
        "#### Ejercicio 3. \n",
        "Realice procedimientos para preprocesar texto cómo: tokenizar, eliminar stopwords, stemming y lemmatization. Al final, el resultado de dicho procesamiento debe ser un texto (no una lista de palabras). Sugerencia: inicie y finalice con métodos de strings de python como `.join()` o `.split()`. (Esto ya lo han hecho en el taller anterior)."
      ]
    },
    {
      "cell_type": "markdown",
      "id": "f8fe4a74",
      "metadata": {
        "lang": "es",
        "id": "f8fe4a74"
      },
      "source": [
        "Nota: En NLP, a menudo agregamos tokens <START> y <END> para representar el principio y el final de oraciones, párrafos o documentos. En este caso, pueden colocar tokens `<START>` y `<END>` encapsulando cada documento, por ejemplo, \"<START> All that glitters not gold <END>\", y se puede incluir los tokens en el corpus completo. No es necesario hacer esto para el ejercicio, pero sería interesante."
      ]
    },
    {
      "cell_type": "code",
      "source": [
        "import re\n",
        "def limpieza(text):\n",
        "  #text=re.sub(r'@_[A-Za-z0-9]+_','',text) #Remover @_menciones_\n",
        "  #text=re.sub(r'@[A-Za-z0-9]+_[A-Za-z0-9]+','',text) #Remover @menciones_\n",
        "  #text=re.sub(r'@[A-Za-z0-9]+','',text) #Remover @menciones\n",
        "  text=re.sub(r'https?:\\/\\/\\S+','',text) #Remover Hypervinculos\n",
        "  text=re.sub(r'RT[\\s]+','',text) #Remover Retweets\n",
        "  #text=re.sub(r'#[A-Za-z0-9]+','',text) #Remover \"#\"\n",
        "  #text=re.sub(r'[0-9]','',text) #remover numeros\n",
        "  text=re.sub(r'[^\\w\\s]',\"\",text) #remover signos de puntuacion\n",
        "  text=re.sub(r'\\n|\\t',' ',text) #remover saltos de linea\n",
        "  text=re.sub(r'\\@',' ',text) #remover \"@\"\n",
        "  text=re.sub(r'[\\s]+',' ',text) #reemplazar espacios dobles por espacion sencillos\n",
        "  text=re.sub(r\"^[\\s]\",' ',text) #eliminar espacios al inicio de cada tweet\n",
        "  text=text.lower() #todo a minuscula\n",
        "  return text"
      ],
      "metadata": {
        "id": "a4hTmC_fmYMJ"
      },
      "id": "a4hTmC_fmYMJ",
      "execution_count": null,
      "outputs": []
    },
    {
      "cell_type": "code",
      "source": [
        "import nltk\n",
        "nltk.download(\"stopwords\")\n",
        "from nltk.corpus import stopwords\n",
        "stop = stopwords.words('english')"
      ],
      "metadata": {
        "id": "biF9SIhZpaqZ"
      },
      "id": "biF9SIhZpaqZ",
      "execution_count": null,
      "outputs": []
    },
    {
      "cell_type": "code",
      "source": [
        "#limpieza inicial de los tweetseza)\n",
        "# Excluir stopwords\n",
        "df['text_clean']=df[\"tweet\"].apply(limpieza)\n",
        "df['text_clean'] = df[\"text_clean\"].apply(lambda words: ' '.join(word.lower() for word in words.split() if word not in stop))\n",
        "df['text_clean'] "
      ],
      "metadata": {
        "id": "T8_xQJ2VqUWp"
      },
      "id": "T8_xQJ2VqUWp",
      "execution_count": null,
      "outputs": []
    },
    {
      "cell_type": "code",
      "execution_count": null,
      "id": "dbfea18d",
      "metadata": {
        "ExecuteTime": {
          "end_time": "2022-02-14T05:11:29.036609Z",
          "start_time": "2022-02-14T05:11:28.060130Z"
        },
        "execution": {
          "iopub.execute_input": "2022-02-14T03:01:46.847067Z",
          "iopub.status.busy": "2022-02-14T03:01:46.846862Z",
          "iopub.status.idle": "2022-02-14T03:01:47.744949Z",
          "shell.execute_reply": "2022-02-14T03:01:47.744610Z",
          "shell.execute_reply.started": "2022-02-14T03:01:46.847043Z"
        },
        "tags": [],
        "id": "dbfea18d"
      },
      "outputs": [],
      "source": [
        "#Debe quedar algo asi:"
      ]
    },
    {
      "cell_type": "markdown",
      "id": "30a6a9c3",
      "metadata": {
        "id": "30a6a9c3"
      },
      "source": [
        "### Entrada al modelo\n",
        "Para entrenar un modelo en GenSim es importante adecuar el texto a una lista de sentencias (y cada sentencia una lista de tokens). Para corpus muy grandes, es mejor crear un iterador (una función que extraiga documento a documento para evitar llenar la memoria). "
      ]
    },
    {
      "cell_type": "markdown",
      "id": "737a0853",
      "metadata": {
        "id": "737a0853"
      },
      "source": [
        "Por ejemplo las tres primeras sentencias del dataset son:"
      ]
    },
    {
      "cell_type": "code",
      "source": [
        "df['text_clean']"
      ],
      "metadata": {
        "id": "tTxv_8jJrdhC"
      },
      "id": "tTxv_8jJrdhC",
      "execution_count": null,
      "outputs": []
    },
    {
      "cell_type": "code",
      "source": [
        "listado = []\n",
        "for i in range(len(df)):\n",
        "  listado.append (list(df['text_clean'][i].split(' ')))"
      ],
      "metadata": {
        "id": "MgIARaEYq_hC"
      },
      "id": "MgIARaEYq_hC",
      "execution_count": null,
      "outputs": []
    },
    {
      "cell_type": "code",
      "source": [
        "print(listado)"
      ],
      "metadata": {
        "id": "yISPx1bYr3bV"
      },
      "id": "yISPx1bYr3bV",
      "execution_count": null,
      "outputs": []
    },
    {
      "cell_type": "code",
      "execution_count": null,
      "id": "c84c279e",
      "metadata": {
        "ExecuteTime": {
          "end_time": "2022-02-14T05:32:34.435602Z",
          "start_time": "2022-02-14T05:32:34.430882Z"
        },
        "id": "c84c279e"
      },
      "outputs": [],
      "source": [
        "len(listado)"
      ]
    },
    {
      "cell_type": "markdown",
      "id": "43ba7aed",
      "metadata": {
        "id": "43ba7aed"
      },
      "source": [
        "#### Ejercicio 4\n",
        "Entrene un modelo usando `gensim.models.word2vec.Word2Vec`, partiendo de la siguiente configuración de parámetros."
      ]
    },
    {
      "cell_type": "code",
      "source": [
        "b=1"
      ],
      "metadata": {
        "id": "zwOSCWS0sbfy"
      },
      "id": "zwOSCWS0sbfy",
      "execution_count": null,
      "outputs": []
    },
    {
      "cell_type": "code",
      "execution_count": null,
      "id": "1f01079b",
      "metadata": {
        "ExecuteTime": {
          "end_time": "2022-02-14T06:56:54.605988Z",
          "start_time": "2022-02-14T06:56:54.603096Z"
        },
        "id": "1f01079b"
      },
      "outputs": [],
      "source": [
        "vector_size = 100 # numero de elementos del vector que representa la palabra\n",
        "min_count =3 # Ignores all words with total frequency lower than this. \n",
        "workers = 5 # numero de cpu cores\n",
        "sg = 0 # 0: CBOW, 1: skip-gram\n",
        "window = 6 # Tamano de la ventana de contexto\n",
        "sample = 1e-3 # tasa de submuestreo para terminos frecuentes"
      ]
    },
    {
      "cell_type": "code",
      "source": [
        "Word2Vec?"
      ],
      "metadata": {
        "id": "BSDJwP5huqRM"
      },
      "id": "BSDJwP5huqRM",
      "execution_count": null,
      "outputs": []
    },
    {
      "cell_type": "code",
      "source": [
        "from gensim.models import Word2Vec"
      ],
      "metadata": {
        "id": "RLZS-5uFsjF7"
      },
      "id": "RLZS-5uFsjF7",
      "execution_count": null,
      "outputs": []
    },
    {
      "cell_type": "code",
      "execution_count": null,
      "id": "fa068fcb",
      "metadata": {
        "ExecuteTime": {
          "end_time": "2022-02-14T06:56:55.312146Z",
          "start_time": "2022-02-14T06:56:55.122226Z"
        },
        "id": "fa068fcb"
      },
      "outputs": [],
      "source": [
        "model = Word2Vec(listado, size=vector_size,min_count=min_count, workers=workers,sg=sg,window=window,sample=sample)\n",
        "\n",
        "# Word2Vec(sentences=common_texts, vector_size=100, window=5, min_count=1, workers=4)\n"
      ]
    },
    {
      "cell_type": "markdown",
      "id": "2c34b0bb",
      "metadata": {
        "id": "2c34b0bb"
      },
      "source": [
        "#### Ejercicio 5\n",
        "Ahora ha obtenido un modelo de Word2vec en el cual tiene una representación embebida de cada palabra. Esta representación la puede extraer para cada palabra usando `model.wv.get_vector(palabra)`. Sin embargo, ¿Qué representación podemos obtener para cada tweet (documento o sentencia) a partir de todas las palabras? \n",
        "\n",
        "Cree una función que extraiga para cada tweet un representación vectorial única (un vector) y añada una nueva columna con esta representación. Sugerencia: una suma (pero será lo mejor?). El resultado es algo similar a la celda siguiente:"
      ]
    },
    {
      "cell_type": "code",
      "source": [
        "#funcion para calcular el promedio de los vectores de cada token por tweet\n",
        "import numpy as np\n",
        "tweet_vector=[]\n",
        "for i in range(len(listado)):\n",
        "  v1=[0 for i in range(vector_size)]\n",
        "  for j in range(len(listado[i])):\n",
        "    if listado[i][j] in model.wv:\n",
        "      v2=model.wv.get_vector(listado[i][j])\n",
        "      v2=1/np.log(1+v2)\n",
        "      v1=[v1[k] + v2[k] for k in range(len(v1))]\n",
        "  v1=[v1[k]/len(v1) for k in range(len(v1))]\n",
        "  tweet_vector.append(v1)\n",
        "\n",
        "#tweet_vector\n",
        "\n",
        "df2=df[:]\n",
        "df2\n",
        "df2['vectors']=tweet_vector\n",
        "df2.head(n=5)\n",
        "#len(tweet_vector)\n",
        "\n",
        "\n",
        "#df2.vectors[0:10]"
      ],
      "metadata": {
        "colab": {
          "base_uri": "https://localhost:8080/",
          "height": 293
        },
        "id": "yP5T4w_FJy5u",
        "outputId": "caff15d1-823e-44eb-a8e8-8b79116971d0"
      },
      "id": "yP5T4w_FJy5u",
      "execution_count": null,
      "outputs": [
        {
          "output_type": "stream",
          "name": "stderr",
          "text": [
            "/usr/local/lib/python3.7/dist-packages/ipykernel_launcher.py:18: SettingWithCopyWarning: \n",
            "A value is trying to be set on a copy of a slice from a DataFrame.\n",
            "Try using .loc[row_indexer,col_indexer] = value instead\n",
            "\n",
            "See the caveats in the documentation: https://pandas.pydata.org/pandas-docs/stable/user_guide/indexing.html#returning-a-view-versus-a-copy\n"
          ]
        },
        {
          "output_type": "execute_result",
          "data": {
            "text/plain": [
              "                     target  \\\n",
              "0  Legalization of Abortion   \n",
              "1  Legalization of Abortion   \n",
              "2  Legalization of Abortion   \n",
              "3  Legalization of Abortion   \n",
              "4  Legalization of Abortion   \n",
              "\n",
              "                                               tweet  \\\n",
              "0  Thank you for another day of life Lord. #Chris...   \n",
              "1  @rosaryrevival Lovely to use Glorious Mysterie...   \n",
              "2  @Niall250 good thing is that #DUP have consist...   \n",
              "3  So, you tell me... is murder okay if the victi...   \n",
              "4  @HillaryClinton Don't you mean to say (all chi...   \n",
              "\n",
              "                                          text_clean  \\\n",
              "0  thank another day life lord christian catholic...   \n",
              "1  rosaryrevival lovely use glorious mysteries ea...   \n",
              "2  niall250 good thing dup consistently said murd...   \n",
              "3          tell murder okay victim mentally disabled   \n",
              "4  hillaryclinton dont mean say children deserve ...   \n",
              "\n",
              "                                             vectors  \n",
              "0  [-82.39495712280274, 17.74701385498047, -64.96...  \n",
              "1  [-16.865619506835937, -106.11549591064453, -34...  \n",
              "2  [-160.62926284790038, 3.9710247802734373, 8.83...  \n",
              "3  [-89.69256469726562, -6.972107086181641, 3.402...  \n",
              "4  [12.638732604980468, -2.2604055786132813, 106....  "
            ],
            "text/html": [
              "\n",
              "  <div id=\"df-53f89e27-3af6-4e52-835d-93f45debdcfc\">\n",
              "    <div class=\"colab-df-container\">\n",
              "      <div>\n",
              "<style scoped>\n",
              "    .dataframe tbody tr th:only-of-type {\n",
              "        vertical-align: middle;\n",
              "    }\n",
              "\n",
              "    .dataframe tbody tr th {\n",
              "        vertical-align: top;\n",
              "    }\n",
              "\n",
              "    .dataframe thead th {\n",
              "        text-align: right;\n",
              "    }\n",
              "</style>\n",
              "<table border=\"1\" class=\"dataframe\">\n",
              "  <thead>\n",
              "    <tr style=\"text-align: right;\">\n",
              "      <th></th>\n",
              "      <th>target</th>\n",
              "      <th>tweet</th>\n",
              "      <th>text_clean</th>\n",
              "      <th>vectors</th>\n",
              "    </tr>\n",
              "  </thead>\n",
              "  <tbody>\n",
              "    <tr>\n",
              "      <th>0</th>\n",
              "      <td>Legalization of Abortion</td>\n",
              "      <td>Thank you for another day of life Lord. #Chris...</td>\n",
              "      <td>thank another day life lord christian catholic...</td>\n",
              "      <td>[-82.39495712280274, 17.74701385498047, -64.96...</td>\n",
              "    </tr>\n",
              "    <tr>\n",
              "      <th>1</th>\n",
              "      <td>Legalization of Abortion</td>\n",
              "      <td>@rosaryrevival Lovely to use Glorious Mysterie...</td>\n",
              "      <td>rosaryrevival lovely use glorious mysteries ea...</td>\n",
              "      <td>[-16.865619506835937, -106.11549591064453, -34...</td>\n",
              "    </tr>\n",
              "    <tr>\n",
              "      <th>2</th>\n",
              "      <td>Legalization of Abortion</td>\n",
              "      <td>@Niall250 good thing is that #DUP have consist...</td>\n",
              "      <td>niall250 good thing dup consistently said murd...</td>\n",
              "      <td>[-160.62926284790038, 3.9710247802734373, 8.83...</td>\n",
              "    </tr>\n",
              "    <tr>\n",
              "      <th>3</th>\n",
              "      <td>Legalization of Abortion</td>\n",
              "      <td>So, you tell me... is murder okay if the victi...</td>\n",
              "      <td>tell murder okay victim mentally disabled</td>\n",
              "      <td>[-89.69256469726562, -6.972107086181641, 3.402...</td>\n",
              "    </tr>\n",
              "    <tr>\n",
              "      <th>4</th>\n",
              "      <td>Legalization of Abortion</td>\n",
              "      <td>@HillaryClinton Don't you mean to say (all chi...</td>\n",
              "      <td>hillaryclinton dont mean say children deserve ...</td>\n",
              "      <td>[12.638732604980468, -2.2604055786132813, 106....</td>\n",
              "    </tr>\n",
              "  </tbody>\n",
              "</table>\n",
              "</div>\n",
              "      <button class=\"colab-df-convert\" onclick=\"convertToInteractive('df-53f89e27-3af6-4e52-835d-93f45debdcfc')\"\n",
              "              title=\"Convert this dataframe to an interactive table.\"\n",
              "              style=\"display:none;\">\n",
              "        \n",
              "  <svg xmlns=\"http://www.w3.org/2000/svg\" height=\"24px\"viewBox=\"0 0 24 24\"\n",
              "       width=\"24px\">\n",
              "    <path d=\"M0 0h24v24H0V0z\" fill=\"none\"/>\n",
              "    <path d=\"M18.56 5.44l.94 2.06.94-2.06 2.06-.94-2.06-.94-.94-2.06-.94 2.06-2.06.94zm-11 1L8.5 8.5l.94-2.06 2.06-.94-2.06-.94L8.5 2.5l-.94 2.06-2.06.94zm10 10l.94 2.06.94-2.06 2.06-.94-2.06-.94-.94-2.06-.94 2.06-2.06.94z\"/><path d=\"M17.41 7.96l-1.37-1.37c-.4-.4-.92-.59-1.43-.59-.52 0-1.04.2-1.43.59L10.3 9.45l-7.72 7.72c-.78.78-.78 2.05 0 2.83L4 21.41c.39.39.9.59 1.41.59.51 0 1.02-.2 1.41-.59l7.78-7.78 2.81-2.81c.8-.78.8-2.07 0-2.86zM5.41 20L4 18.59l7.72-7.72 1.47 1.35L5.41 20z\"/>\n",
              "  </svg>\n",
              "      </button>\n",
              "      \n",
              "  <style>\n",
              "    .colab-df-container {\n",
              "      display:flex;\n",
              "      flex-wrap:wrap;\n",
              "      gap: 12px;\n",
              "    }\n",
              "\n",
              "    .colab-df-convert {\n",
              "      background-color: #E8F0FE;\n",
              "      border: none;\n",
              "      border-radius: 50%;\n",
              "      cursor: pointer;\n",
              "      display: none;\n",
              "      fill: #1967D2;\n",
              "      height: 32px;\n",
              "      padding: 0 0 0 0;\n",
              "      width: 32px;\n",
              "    }\n",
              "\n",
              "    .colab-df-convert:hover {\n",
              "      background-color: #E2EBFA;\n",
              "      box-shadow: 0px 1px 2px rgba(60, 64, 67, 0.3), 0px 1px 3px 1px rgba(60, 64, 67, 0.15);\n",
              "      fill: #174EA6;\n",
              "    }\n",
              "\n",
              "    [theme=dark] .colab-df-convert {\n",
              "      background-color: #3B4455;\n",
              "      fill: #D2E3FC;\n",
              "    }\n",
              "\n",
              "    [theme=dark] .colab-df-convert:hover {\n",
              "      background-color: #434B5C;\n",
              "      box-shadow: 0px 1px 3px 1px rgba(0, 0, 0, 0.15);\n",
              "      filter: drop-shadow(0px 1px 2px rgba(0, 0, 0, 0.3));\n",
              "      fill: #FFFFFF;\n",
              "    }\n",
              "  </style>\n",
              "\n",
              "      <script>\n",
              "        const buttonEl =\n",
              "          document.querySelector('#df-53f89e27-3af6-4e52-835d-93f45debdcfc button.colab-df-convert');\n",
              "        buttonEl.style.display =\n",
              "          google.colab.kernel.accessAllowed ? 'block' : 'none';\n",
              "\n",
              "        async function convertToInteractive(key) {\n",
              "          const element = document.querySelector('#df-53f89e27-3af6-4e52-835d-93f45debdcfc');\n",
              "          const dataTable =\n",
              "            await google.colab.kernel.invokeFunction('convertToInteractive',\n",
              "                                                     [key], {});\n",
              "          if (!dataTable) return;\n",
              "\n",
              "          const docLinkHtml = 'Like what you see? Visit the ' +\n",
              "            '<a target=\"_blank\" href=https://colab.research.google.com/notebooks/data_table.ipynb>data table notebook</a>'\n",
              "            + ' to learn more about interactive tables.';\n",
              "          element.innerHTML = '';\n",
              "          dataTable['output_type'] = 'display_data';\n",
              "          await google.colab.output.renderOutput(dataTable, element);\n",
              "          const docLink = document.createElement('div');\n",
              "          docLink.innerHTML = docLinkHtml;\n",
              "          element.appendChild(docLink);\n",
              "        }\n",
              "      </script>\n",
              "    </div>\n",
              "  </div>\n",
              "  "
            ]
          },
          "metadata": {},
          "execution_count": 744
        }
      ]
    },
    {
      "cell_type": "markdown",
      "id": "4ec3a353",
      "metadata": {
        "id": "4ec3a353"
      },
      "source": [
        "#### Ejercicio 6.\n",
        "Lo que se ha generado antes son unas determinadas variables, para cada tweet, úselas para realizar una clasificación. Para esto divida en un conjunto de entrenamiento y uno de prueba (20%) con una semilla fija (42) y construya un clasificador (recomendado Random Forest). Evalúe el desempeño del clasificador en el conjunto de prueba con el accuracy.  El accuracy debe estar alrededor del 70%. Para lograrlo, tendrá que cambiar la longitud del vector, el ancho de la ventana, si es skip-gram o CBOW, el método de obtención de un sólo documento, etc.\n"
      ]
    },
    {
      "cell_type": "code",
      "source": [
        "#convertir vectores en dataframe\n",
        "X=pd.DataFrame(tweet_vector)\n",
        "X"
      ],
      "metadata": {
        "colab": {
          "base_uri": "https://localhost:8080/",
          "height": 424
        },
        "id": "EdP9CBW2LzzW",
        "outputId": "84ed9530-8736-4038-eb90-1933a3f1a75f"
      },
      "id": "EdP9CBW2LzzW",
      "execution_count": null,
      "outputs": [
        {
          "output_type": "execute_result",
          "data": {
            "text/plain": [
              "              0           1           2          3          4          5   \\\n",
              "0     -82.394957   17.747014  -64.963592  27.101215 -12.252192  41.174217   \n",
              "1     -16.865620 -106.115496  -34.669024   8.767858  -4.480404 -35.589104   \n",
              "2    -160.629263    3.971025    8.836054 -76.970793  21.098858 -30.070327   \n",
              "3     -89.692565   -6.972107    3.402935 -12.327951 -28.517099  -2.074270   \n",
              "4      12.638733   -2.260406  106.529258  16.671176  41.239812 -62.002429   \n",
              "...          ...         ...         ...        ...        ...        ...   \n",
              "1154   13.223297   -2.552437   69.821738 -48.335599  62.377303  10.085500   \n",
              "1155   -0.953879    4.093142   10.464818  65.929048 -21.459181   4.836263   \n",
              "1156    1.605782  -16.159986    7.639832   4.196319 -12.736492   4.506175   \n",
              "1157   15.020533  -11.134451   15.935916 -15.313368 -28.040249  32.794753   \n",
              "1158    5.393865   14.467037   -2.815264  15.770284   6.036452  21.159658   \n",
              "\n",
              "              6           7          8           9   ...          90  \\\n",
              "0     141.665765 -305.211515 -16.676145  183.931009  ...   11.259987   \n",
              "1     -33.896736   -4.147153  -3.876323   22.127322  ... -117.657072   \n",
              "2     -54.966711  -34.515130 -30.361694   16.701591  ...  -58.735923   \n",
              "3    -149.382354  -13.449227 -10.591844    5.105086  ...    5.065800   \n",
              "4      45.582859   17.781214  -1.732364   -5.639399  ...  -10.808809   \n",
              "...          ...         ...        ...         ...  ...         ...   \n",
              "1154   -6.456139   24.778224   8.184739   -7.015747  ...   24.861034   \n",
              "1155   -7.948669   -0.136393  11.810644   -3.273144  ...    5.230290   \n",
              "1156   -2.484493    0.698669  -8.607734  -69.707010  ...   -3.512492   \n",
              "1157    6.205260   81.617057 -38.460098 -109.461796  ...    7.676042   \n",
              "1158    0.620747   -3.793081  -7.088261   35.311231  ...    5.558024   \n",
              "\n",
              "              91         92          93         94         95         96  \\\n",
              "0      36.712780   8.873947  -29.844742 -19.655383  16.956199  33.939394   \n",
              "1      31.434496  32.314885    2.879260  60.842038  -3.819093   0.802055   \n",
              "2       9.002352 -18.750515  -25.426743   9.098057 -41.536447 -35.850288   \n",
              "3     142.803172 -30.065370   -6.399946   4.263249  -0.442385 -15.047195   \n",
              "4     -10.684872  21.167086  170.157104 -10.504815  69.872334 -19.981788   \n",
              "...          ...        ...         ...        ...        ...        ...   \n",
              "1154   25.628554  -4.216089   27.925299  -2.703618  -5.727675  10.150323   \n",
              "1155    7.589268  -6.484727   -5.786966  64.554244  -8.568740   2.677154   \n",
              "1156    0.205059  -3.297831   -6.975601 -59.020117  -3.787443  14.592027   \n",
              "1157    7.707631 -37.811305   85.868546   7.241477  34.288959  45.861973   \n",
              "1158    4.233643  -5.496459  -15.066052 -12.411097   0.652246  35.497586   \n",
              "\n",
              "             97         98         99  \n",
              "0    -14.528294 -26.529897 -40.935954  \n",
              "1     -9.498622   6.029724  -2.693962  \n",
              "2     29.277635  45.060954 -26.414734  \n",
              "3    -18.943108 -28.201361 -26.663290  \n",
              "4    -22.274722   8.691012  34.215763  \n",
              "...         ...        ...        ...  \n",
              "1154  -4.956790  -6.866812 -21.061949  \n",
              "1155 -14.893141  89.020586   4.147711  \n",
              "1156  21.793489  -8.657454   3.132642  \n",
              "1157 -12.940251 -15.503968 -92.163583  \n",
              "1158  24.785518  47.759908   5.491624  \n",
              "\n",
              "[1159 rows x 100 columns]"
            ],
            "text/html": [
              "\n",
              "  <div id=\"df-6a33325c-40aa-4f3d-a956-f977dba59064\">\n",
              "    <div class=\"colab-df-container\">\n",
              "      <div>\n",
              "<style scoped>\n",
              "    .dataframe tbody tr th:only-of-type {\n",
              "        vertical-align: middle;\n",
              "    }\n",
              "\n",
              "    .dataframe tbody tr th {\n",
              "        vertical-align: top;\n",
              "    }\n",
              "\n",
              "    .dataframe thead th {\n",
              "        text-align: right;\n",
              "    }\n",
              "</style>\n",
              "<table border=\"1\" class=\"dataframe\">\n",
              "  <thead>\n",
              "    <tr style=\"text-align: right;\">\n",
              "      <th></th>\n",
              "      <th>0</th>\n",
              "      <th>1</th>\n",
              "      <th>2</th>\n",
              "      <th>3</th>\n",
              "      <th>4</th>\n",
              "      <th>5</th>\n",
              "      <th>6</th>\n",
              "      <th>7</th>\n",
              "      <th>8</th>\n",
              "      <th>9</th>\n",
              "      <th>...</th>\n",
              "      <th>90</th>\n",
              "      <th>91</th>\n",
              "      <th>92</th>\n",
              "      <th>93</th>\n",
              "      <th>94</th>\n",
              "      <th>95</th>\n",
              "      <th>96</th>\n",
              "      <th>97</th>\n",
              "      <th>98</th>\n",
              "      <th>99</th>\n",
              "    </tr>\n",
              "  </thead>\n",
              "  <tbody>\n",
              "    <tr>\n",
              "      <th>0</th>\n",
              "      <td>-82.394957</td>\n",
              "      <td>17.747014</td>\n",
              "      <td>-64.963592</td>\n",
              "      <td>27.101215</td>\n",
              "      <td>-12.252192</td>\n",
              "      <td>41.174217</td>\n",
              "      <td>141.665765</td>\n",
              "      <td>-305.211515</td>\n",
              "      <td>-16.676145</td>\n",
              "      <td>183.931009</td>\n",
              "      <td>...</td>\n",
              "      <td>11.259987</td>\n",
              "      <td>36.712780</td>\n",
              "      <td>8.873947</td>\n",
              "      <td>-29.844742</td>\n",
              "      <td>-19.655383</td>\n",
              "      <td>16.956199</td>\n",
              "      <td>33.939394</td>\n",
              "      <td>-14.528294</td>\n",
              "      <td>-26.529897</td>\n",
              "      <td>-40.935954</td>\n",
              "    </tr>\n",
              "    <tr>\n",
              "      <th>1</th>\n",
              "      <td>-16.865620</td>\n",
              "      <td>-106.115496</td>\n",
              "      <td>-34.669024</td>\n",
              "      <td>8.767858</td>\n",
              "      <td>-4.480404</td>\n",
              "      <td>-35.589104</td>\n",
              "      <td>-33.896736</td>\n",
              "      <td>-4.147153</td>\n",
              "      <td>-3.876323</td>\n",
              "      <td>22.127322</td>\n",
              "      <td>...</td>\n",
              "      <td>-117.657072</td>\n",
              "      <td>31.434496</td>\n",
              "      <td>32.314885</td>\n",
              "      <td>2.879260</td>\n",
              "      <td>60.842038</td>\n",
              "      <td>-3.819093</td>\n",
              "      <td>0.802055</td>\n",
              "      <td>-9.498622</td>\n",
              "      <td>6.029724</td>\n",
              "      <td>-2.693962</td>\n",
              "    </tr>\n",
              "    <tr>\n",
              "      <th>2</th>\n",
              "      <td>-160.629263</td>\n",
              "      <td>3.971025</td>\n",
              "      <td>8.836054</td>\n",
              "      <td>-76.970793</td>\n",
              "      <td>21.098858</td>\n",
              "      <td>-30.070327</td>\n",
              "      <td>-54.966711</td>\n",
              "      <td>-34.515130</td>\n",
              "      <td>-30.361694</td>\n",
              "      <td>16.701591</td>\n",
              "      <td>...</td>\n",
              "      <td>-58.735923</td>\n",
              "      <td>9.002352</td>\n",
              "      <td>-18.750515</td>\n",
              "      <td>-25.426743</td>\n",
              "      <td>9.098057</td>\n",
              "      <td>-41.536447</td>\n",
              "      <td>-35.850288</td>\n",
              "      <td>29.277635</td>\n",
              "      <td>45.060954</td>\n",
              "      <td>-26.414734</td>\n",
              "    </tr>\n",
              "    <tr>\n",
              "      <th>3</th>\n",
              "      <td>-89.692565</td>\n",
              "      <td>-6.972107</td>\n",
              "      <td>3.402935</td>\n",
              "      <td>-12.327951</td>\n",
              "      <td>-28.517099</td>\n",
              "      <td>-2.074270</td>\n",
              "      <td>-149.382354</td>\n",
              "      <td>-13.449227</td>\n",
              "      <td>-10.591844</td>\n",
              "      <td>5.105086</td>\n",
              "      <td>...</td>\n",
              "      <td>5.065800</td>\n",
              "      <td>142.803172</td>\n",
              "      <td>-30.065370</td>\n",
              "      <td>-6.399946</td>\n",
              "      <td>4.263249</td>\n",
              "      <td>-0.442385</td>\n",
              "      <td>-15.047195</td>\n",
              "      <td>-18.943108</td>\n",
              "      <td>-28.201361</td>\n",
              "      <td>-26.663290</td>\n",
              "    </tr>\n",
              "    <tr>\n",
              "      <th>4</th>\n",
              "      <td>12.638733</td>\n",
              "      <td>-2.260406</td>\n",
              "      <td>106.529258</td>\n",
              "      <td>16.671176</td>\n",
              "      <td>41.239812</td>\n",
              "      <td>-62.002429</td>\n",
              "      <td>45.582859</td>\n",
              "      <td>17.781214</td>\n",
              "      <td>-1.732364</td>\n",
              "      <td>-5.639399</td>\n",
              "      <td>...</td>\n",
              "      <td>-10.808809</td>\n",
              "      <td>-10.684872</td>\n",
              "      <td>21.167086</td>\n",
              "      <td>170.157104</td>\n",
              "      <td>-10.504815</td>\n",
              "      <td>69.872334</td>\n",
              "      <td>-19.981788</td>\n",
              "      <td>-22.274722</td>\n",
              "      <td>8.691012</td>\n",
              "      <td>34.215763</td>\n",
              "    </tr>\n",
              "    <tr>\n",
              "      <th>...</th>\n",
              "      <td>...</td>\n",
              "      <td>...</td>\n",
              "      <td>...</td>\n",
              "      <td>...</td>\n",
              "      <td>...</td>\n",
              "      <td>...</td>\n",
              "      <td>...</td>\n",
              "      <td>...</td>\n",
              "      <td>...</td>\n",
              "      <td>...</td>\n",
              "      <td>...</td>\n",
              "      <td>...</td>\n",
              "      <td>...</td>\n",
              "      <td>...</td>\n",
              "      <td>...</td>\n",
              "      <td>...</td>\n",
              "      <td>...</td>\n",
              "      <td>...</td>\n",
              "      <td>...</td>\n",
              "      <td>...</td>\n",
              "      <td>...</td>\n",
              "    </tr>\n",
              "    <tr>\n",
              "      <th>1154</th>\n",
              "      <td>13.223297</td>\n",
              "      <td>-2.552437</td>\n",
              "      <td>69.821738</td>\n",
              "      <td>-48.335599</td>\n",
              "      <td>62.377303</td>\n",
              "      <td>10.085500</td>\n",
              "      <td>-6.456139</td>\n",
              "      <td>24.778224</td>\n",
              "      <td>8.184739</td>\n",
              "      <td>-7.015747</td>\n",
              "      <td>...</td>\n",
              "      <td>24.861034</td>\n",
              "      <td>25.628554</td>\n",
              "      <td>-4.216089</td>\n",
              "      <td>27.925299</td>\n",
              "      <td>-2.703618</td>\n",
              "      <td>-5.727675</td>\n",
              "      <td>10.150323</td>\n",
              "      <td>-4.956790</td>\n",
              "      <td>-6.866812</td>\n",
              "      <td>-21.061949</td>\n",
              "    </tr>\n",
              "    <tr>\n",
              "      <th>1155</th>\n",
              "      <td>-0.953879</td>\n",
              "      <td>4.093142</td>\n",
              "      <td>10.464818</td>\n",
              "      <td>65.929048</td>\n",
              "      <td>-21.459181</td>\n",
              "      <td>4.836263</td>\n",
              "      <td>-7.948669</td>\n",
              "      <td>-0.136393</td>\n",
              "      <td>11.810644</td>\n",
              "      <td>-3.273144</td>\n",
              "      <td>...</td>\n",
              "      <td>5.230290</td>\n",
              "      <td>7.589268</td>\n",
              "      <td>-6.484727</td>\n",
              "      <td>-5.786966</td>\n",
              "      <td>64.554244</td>\n",
              "      <td>-8.568740</td>\n",
              "      <td>2.677154</td>\n",
              "      <td>-14.893141</td>\n",
              "      <td>89.020586</td>\n",
              "      <td>4.147711</td>\n",
              "    </tr>\n",
              "    <tr>\n",
              "      <th>1156</th>\n",
              "      <td>1.605782</td>\n",
              "      <td>-16.159986</td>\n",
              "      <td>7.639832</td>\n",
              "      <td>4.196319</td>\n",
              "      <td>-12.736492</td>\n",
              "      <td>4.506175</td>\n",
              "      <td>-2.484493</td>\n",
              "      <td>0.698669</td>\n",
              "      <td>-8.607734</td>\n",
              "      <td>-69.707010</td>\n",
              "      <td>...</td>\n",
              "      <td>-3.512492</td>\n",
              "      <td>0.205059</td>\n",
              "      <td>-3.297831</td>\n",
              "      <td>-6.975601</td>\n",
              "      <td>-59.020117</td>\n",
              "      <td>-3.787443</td>\n",
              "      <td>14.592027</td>\n",
              "      <td>21.793489</td>\n",
              "      <td>-8.657454</td>\n",
              "      <td>3.132642</td>\n",
              "    </tr>\n",
              "    <tr>\n",
              "      <th>1157</th>\n",
              "      <td>15.020533</td>\n",
              "      <td>-11.134451</td>\n",
              "      <td>15.935916</td>\n",
              "      <td>-15.313368</td>\n",
              "      <td>-28.040249</td>\n",
              "      <td>32.794753</td>\n",
              "      <td>6.205260</td>\n",
              "      <td>81.617057</td>\n",
              "      <td>-38.460098</td>\n",
              "      <td>-109.461796</td>\n",
              "      <td>...</td>\n",
              "      <td>7.676042</td>\n",
              "      <td>7.707631</td>\n",
              "      <td>-37.811305</td>\n",
              "      <td>85.868546</td>\n",
              "      <td>7.241477</td>\n",
              "      <td>34.288959</td>\n",
              "      <td>45.861973</td>\n",
              "      <td>-12.940251</td>\n",
              "      <td>-15.503968</td>\n",
              "      <td>-92.163583</td>\n",
              "    </tr>\n",
              "    <tr>\n",
              "      <th>1158</th>\n",
              "      <td>5.393865</td>\n",
              "      <td>14.467037</td>\n",
              "      <td>-2.815264</td>\n",
              "      <td>15.770284</td>\n",
              "      <td>6.036452</td>\n",
              "      <td>21.159658</td>\n",
              "      <td>0.620747</td>\n",
              "      <td>-3.793081</td>\n",
              "      <td>-7.088261</td>\n",
              "      <td>35.311231</td>\n",
              "      <td>...</td>\n",
              "      <td>5.558024</td>\n",
              "      <td>4.233643</td>\n",
              "      <td>-5.496459</td>\n",
              "      <td>-15.066052</td>\n",
              "      <td>-12.411097</td>\n",
              "      <td>0.652246</td>\n",
              "      <td>35.497586</td>\n",
              "      <td>24.785518</td>\n",
              "      <td>47.759908</td>\n",
              "      <td>5.491624</td>\n",
              "    </tr>\n",
              "  </tbody>\n",
              "</table>\n",
              "<p>1159 rows × 100 columns</p>\n",
              "</div>\n",
              "      <button class=\"colab-df-convert\" onclick=\"convertToInteractive('df-6a33325c-40aa-4f3d-a956-f977dba59064')\"\n",
              "              title=\"Convert this dataframe to an interactive table.\"\n",
              "              style=\"display:none;\">\n",
              "        \n",
              "  <svg xmlns=\"http://www.w3.org/2000/svg\" height=\"24px\"viewBox=\"0 0 24 24\"\n",
              "       width=\"24px\">\n",
              "    <path d=\"M0 0h24v24H0V0z\" fill=\"none\"/>\n",
              "    <path d=\"M18.56 5.44l.94 2.06.94-2.06 2.06-.94-2.06-.94-.94-2.06-.94 2.06-2.06.94zm-11 1L8.5 8.5l.94-2.06 2.06-.94-2.06-.94L8.5 2.5l-.94 2.06-2.06.94zm10 10l.94 2.06.94-2.06 2.06-.94-2.06-.94-.94-2.06-.94 2.06-2.06.94z\"/><path d=\"M17.41 7.96l-1.37-1.37c-.4-.4-.92-.59-1.43-.59-.52 0-1.04.2-1.43.59L10.3 9.45l-7.72 7.72c-.78.78-.78 2.05 0 2.83L4 21.41c.39.39.9.59 1.41.59.51 0 1.02-.2 1.41-.59l7.78-7.78 2.81-2.81c.8-.78.8-2.07 0-2.86zM5.41 20L4 18.59l7.72-7.72 1.47 1.35L5.41 20z\"/>\n",
              "  </svg>\n",
              "      </button>\n",
              "      \n",
              "  <style>\n",
              "    .colab-df-container {\n",
              "      display:flex;\n",
              "      flex-wrap:wrap;\n",
              "      gap: 12px;\n",
              "    }\n",
              "\n",
              "    .colab-df-convert {\n",
              "      background-color: #E8F0FE;\n",
              "      border: none;\n",
              "      border-radius: 50%;\n",
              "      cursor: pointer;\n",
              "      display: none;\n",
              "      fill: #1967D2;\n",
              "      height: 32px;\n",
              "      padding: 0 0 0 0;\n",
              "      width: 32px;\n",
              "    }\n",
              "\n",
              "    .colab-df-convert:hover {\n",
              "      background-color: #E2EBFA;\n",
              "      box-shadow: 0px 1px 2px rgba(60, 64, 67, 0.3), 0px 1px 3px 1px rgba(60, 64, 67, 0.15);\n",
              "      fill: #174EA6;\n",
              "    }\n",
              "\n",
              "    [theme=dark] .colab-df-convert {\n",
              "      background-color: #3B4455;\n",
              "      fill: #D2E3FC;\n",
              "    }\n",
              "\n",
              "    [theme=dark] .colab-df-convert:hover {\n",
              "      background-color: #434B5C;\n",
              "      box-shadow: 0px 1px 3px 1px rgba(0, 0, 0, 0.15);\n",
              "      filter: drop-shadow(0px 1px 2px rgba(0, 0, 0, 0.3));\n",
              "      fill: #FFFFFF;\n",
              "    }\n",
              "  </style>\n",
              "\n",
              "      <script>\n",
              "        const buttonEl =\n",
              "          document.querySelector('#df-6a33325c-40aa-4f3d-a956-f977dba59064 button.colab-df-convert');\n",
              "        buttonEl.style.display =\n",
              "          google.colab.kernel.accessAllowed ? 'block' : 'none';\n",
              "\n",
              "        async function convertToInteractive(key) {\n",
              "          const element = document.querySelector('#df-6a33325c-40aa-4f3d-a956-f977dba59064');\n",
              "          const dataTable =\n",
              "            await google.colab.kernel.invokeFunction('convertToInteractive',\n",
              "                                                     [key], {});\n",
              "          if (!dataTable) return;\n",
              "\n",
              "          const docLinkHtml = 'Like what you see? Visit the ' +\n",
              "            '<a target=\"_blank\" href=https://colab.research.google.com/notebooks/data_table.ipynb>data table notebook</a>'\n",
              "            + ' to learn more about interactive tables.';\n",
              "          element.innerHTML = '';\n",
              "          dataTable['output_type'] = 'display_data';\n",
              "          await google.colab.output.renderOutput(dataTable, element);\n",
              "          const docLink = document.createElement('div');\n",
              "          docLink.innerHTML = docLinkHtml;\n",
              "          element.appendChild(docLink);\n",
              "        }\n",
              "      </script>\n",
              "    </div>\n",
              "  </div>\n",
              "  "
            ]
          },
          "metadata": {},
          "execution_count": 745
        }
      ]
    },
    {
      "cell_type": "code",
      "source": [
        "#obtener variable objetivo\n",
        "y=pd.DataFrame(df2['target'])"
      ],
      "metadata": {
        "id": "yAG9fDEzOT0M"
      },
      "id": "yAG9fDEzOT0M",
      "execution_count": null,
      "outputs": []
    },
    {
      "cell_type": "code",
      "source": [
        "#separar dataset\n",
        "from sklearn.model_selection import train_test_split\n",
        "X_train,X_test,y_train,y_test=train_test_split(X,y,test_size=0.2,random_state=42) #tomar el 20% de los datos para validacion y definir la semilla en cero"
      ],
      "metadata": {
        "id": "ZQ8P0-DrlyhF"
      },
      "id": "ZQ8P0-DrlyhF",
      "execution_count": null,
      "outputs": []
    },
    {
      "cell_type": "code",
      "source": [
        "X_train"
      ],
      "metadata": {
        "colab": {
          "base_uri": "https://localhost:8080/",
          "height": 424
        },
        "id": "kOyDj1FL_XcN",
        "outputId": "5e928b39-cb9f-41d7-e3e4-0a31a6d513eb"
      },
      "id": "kOyDj1FL_XcN",
      "execution_count": null,
      "outputs": [
        {
          "output_type": "execute_result",
          "data": {
            "text/plain": [
              "              0           1           2          3          4          5   \\\n",
              "58     14.689934   31.314077  587.815862  -3.634257  -4.083807  -2.174355   \n",
              "333   -12.287529   12.142996 -107.623623  75.938946 -33.527145  43.069105   \n",
              "332    -0.209439    3.190809   29.840580  35.183966  -8.697695  15.137548   \n",
              "1065    7.219235   21.429429    0.093966 -22.746563 -44.664499  34.449047   \n",
              "63     -7.166800   16.821356   26.041309  36.352217  34.168748  51.327075   \n",
              "...          ...         ...         ...        ...        ...        ...   \n",
              "1044   21.893614   35.478718   23.908988  31.787283 -26.887764  10.676749   \n",
              "1095   -0.738249    4.532352  -21.965329  -2.378147   4.980123  10.301323   \n",
              "1130 -102.968882  151.503009 -783.937752  19.792426   5.201315 -34.501523   \n",
              "860    -4.829867    8.150327   36.967912  13.502261  -0.733560  53.293233   \n",
              "1126   -0.010042   -5.011655   -3.734975  16.329015  28.276322  -9.299043   \n",
              "\n",
              "             6           7            8          9   ...         90  \\\n",
              "58     1.959088   28.777176   -12.624671  17.942947  ... -18.266169   \n",
              "333  -97.236800 -182.362806   -59.478886 -28.899213  ...  22.119186   \n",
              "332  -19.781899   -7.464166     1.650235   3.593336  ...  12.705203   \n",
              "1065 -33.287779   30.535432     1.651443  15.664119  ...  -2.967630   \n",
              "63   -60.402205   68.968360    37.049200   8.139987  ...  45.378235   \n",
              "...         ...         ...          ...        ...  ...        ...   \n",
              "1044  43.040346   35.715576    35.537112  -8.671015  ...   0.052516   \n",
              "1095   6.119273   -4.888874   -34.786157 -15.775530  ...   3.354203   \n",
              "1130 -12.440539   52.281354    40.843122  30.276867  ...  12.133154   \n",
              "860   27.296023   23.306299 -2585.407513  -6.456519  ...  10.903937   \n",
              "1126 -17.154980    1.742076   -15.486132   7.601600  ...  -0.167888   \n",
              "\n",
              "              91          92          93          94         95         96  \\\n",
              "58      5.340341   12.634928  -32.271950    1.415777  -8.230480 -14.984251   \n",
              "333     3.222198  -35.910028  337.739881   14.184102  -1.865634  23.205483   \n",
              "332    22.638451  -61.802587  164.978384   14.294694 -18.726506  13.857526   \n",
              "1065  -16.340436   -1.356445  -20.196971   -6.117672 -15.507907 -16.998898   \n",
              "63      3.082944  343.807268   45.688127   37.376707 -83.751136  61.882609   \n",
              "...          ...         ...         ...         ...        ...        ...   \n",
              "1044   11.756974  333.736482  -26.540441  119.783354  10.332289 -28.095857   \n",
              "1095  -15.292710  -19.168978   85.628882 -618.843982   9.969806  25.885599   \n",
              "1130   19.253254   10.773166  -28.413877   53.588727  11.446389  22.885034   \n",
              "860  -216.716663   -5.126592   16.417464   11.428832  -6.710279   7.578374   \n",
              "1126    0.613650  -18.000440   12.469373    8.729350  -6.509156 -11.022013   \n",
              "\n",
              "              97         98          99  \n",
              "58      7.540381  17.079293   -4.059496  \n",
              "333  -590.537049  56.056887   25.372918  \n",
              "332    14.881923 -11.490167    2.883531  \n",
              "1065    4.329723  -8.244011    1.543265  \n",
              "63    -23.513058  -1.316724  100.688365  \n",
              "...          ...        ...         ...  \n",
              "1044  437.092250  22.421526   94.724772  \n",
              "1095  -65.099606  63.476018   -6.187177  \n",
              "1130  -33.696458  -0.251941 -501.549083  \n",
              "860    37.346935   2.926579  -62.008938  \n",
              "1126   -8.139778  45.609150   -7.624212  \n",
              "\n",
              "[927 rows x 100 columns]"
            ],
            "text/html": [
              "\n",
              "  <div id=\"df-a3e7b56d-dd20-4ee9-acf5-e0b67ec8740f\">\n",
              "    <div class=\"colab-df-container\">\n",
              "      <div>\n",
              "<style scoped>\n",
              "    .dataframe tbody tr th:only-of-type {\n",
              "        vertical-align: middle;\n",
              "    }\n",
              "\n",
              "    .dataframe tbody tr th {\n",
              "        vertical-align: top;\n",
              "    }\n",
              "\n",
              "    .dataframe thead th {\n",
              "        text-align: right;\n",
              "    }\n",
              "</style>\n",
              "<table border=\"1\" class=\"dataframe\">\n",
              "  <thead>\n",
              "    <tr style=\"text-align: right;\">\n",
              "      <th></th>\n",
              "      <th>0</th>\n",
              "      <th>1</th>\n",
              "      <th>2</th>\n",
              "      <th>3</th>\n",
              "      <th>4</th>\n",
              "      <th>5</th>\n",
              "      <th>6</th>\n",
              "      <th>7</th>\n",
              "      <th>8</th>\n",
              "      <th>9</th>\n",
              "      <th>...</th>\n",
              "      <th>90</th>\n",
              "      <th>91</th>\n",
              "      <th>92</th>\n",
              "      <th>93</th>\n",
              "      <th>94</th>\n",
              "      <th>95</th>\n",
              "      <th>96</th>\n",
              "      <th>97</th>\n",
              "      <th>98</th>\n",
              "      <th>99</th>\n",
              "    </tr>\n",
              "  </thead>\n",
              "  <tbody>\n",
              "    <tr>\n",
              "      <th>58</th>\n",
              "      <td>14.689934</td>\n",
              "      <td>31.314077</td>\n",
              "      <td>587.815862</td>\n",
              "      <td>-3.634257</td>\n",
              "      <td>-4.083807</td>\n",
              "      <td>-2.174355</td>\n",
              "      <td>1.959088</td>\n",
              "      <td>28.777176</td>\n",
              "      <td>-12.624671</td>\n",
              "      <td>17.942947</td>\n",
              "      <td>...</td>\n",
              "      <td>-18.266169</td>\n",
              "      <td>5.340341</td>\n",
              "      <td>12.634928</td>\n",
              "      <td>-32.271950</td>\n",
              "      <td>1.415777</td>\n",
              "      <td>-8.230480</td>\n",
              "      <td>-14.984251</td>\n",
              "      <td>7.540381</td>\n",
              "      <td>17.079293</td>\n",
              "      <td>-4.059496</td>\n",
              "    </tr>\n",
              "    <tr>\n",
              "      <th>333</th>\n",
              "      <td>-12.287529</td>\n",
              "      <td>12.142996</td>\n",
              "      <td>-107.623623</td>\n",
              "      <td>75.938946</td>\n",
              "      <td>-33.527145</td>\n",
              "      <td>43.069105</td>\n",
              "      <td>-97.236800</td>\n",
              "      <td>-182.362806</td>\n",
              "      <td>-59.478886</td>\n",
              "      <td>-28.899213</td>\n",
              "      <td>...</td>\n",
              "      <td>22.119186</td>\n",
              "      <td>3.222198</td>\n",
              "      <td>-35.910028</td>\n",
              "      <td>337.739881</td>\n",
              "      <td>14.184102</td>\n",
              "      <td>-1.865634</td>\n",
              "      <td>23.205483</td>\n",
              "      <td>-590.537049</td>\n",
              "      <td>56.056887</td>\n",
              "      <td>25.372918</td>\n",
              "    </tr>\n",
              "    <tr>\n",
              "      <th>332</th>\n",
              "      <td>-0.209439</td>\n",
              "      <td>3.190809</td>\n",
              "      <td>29.840580</td>\n",
              "      <td>35.183966</td>\n",
              "      <td>-8.697695</td>\n",
              "      <td>15.137548</td>\n",
              "      <td>-19.781899</td>\n",
              "      <td>-7.464166</td>\n",
              "      <td>1.650235</td>\n",
              "      <td>3.593336</td>\n",
              "      <td>...</td>\n",
              "      <td>12.705203</td>\n",
              "      <td>22.638451</td>\n",
              "      <td>-61.802587</td>\n",
              "      <td>164.978384</td>\n",
              "      <td>14.294694</td>\n",
              "      <td>-18.726506</td>\n",
              "      <td>13.857526</td>\n",
              "      <td>14.881923</td>\n",
              "      <td>-11.490167</td>\n",
              "      <td>2.883531</td>\n",
              "    </tr>\n",
              "    <tr>\n",
              "      <th>1065</th>\n",
              "      <td>7.219235</td>\n",
              "      <td>21.429429</td>\n",
              "      <td>0.093966</td>\n",
              "      <td>-22.746563</td>\n",
              "      <td>-44.664499</td>\n",
              "      <td>34.449047</td>\n",
              "      <td>-33.287779</td>\n",
              "      <td>30.535432</td>\n",
              "      <td>1.651443</td>\n",
              "      <td>15.664119</td>\n",
              "      <td>...</td>\n",
              "      <td>-2.967630</td>\n",
              "      <td>-16.340436</td>\n",
              "      <td>-1.356445</td>\n",
              "      <td>-20.196971</td>\n",
              "      <td>-6.117672</td>\n",
              "      <td>-15.507907</td>\n",
              "      <td>-16.998898</td>\n",
              "      <td>4.329723</td>\n",
              "      <td>-8.244011</td>\n",
              "      <td>1.543265</td>\n",
              "    </tr>\n",
              "    <tr>\n",
              "      <th>63</th>\n",
              "      <td>-7.166800</td>\n",
              "      <td>16.821356</td>\n",
              "      <td>26.041309</td>\n",
              "      <td>36.352217</td>\n",
              "      <td>34.168748</td>\n",
              "      <td>51.327075</td>\n",
              "      <td>-60.402205</td>\n",
              "      <td>68.968360</td>\n",
              "      <td>37.049200</td>\n",
              "      <td>8.139987</td>\n",
              "      <td>...</td>\n",
              "      <td>45.378235</td>\n",
              "      <td>3.082944</td>\n",
              "      <td>343.807268</td>\n",
              "      <td>45.688127</td>\n",
              "      <td>37.376707</td>\n",
              "      <td>-83.751136</td>\n",
              "      <td>61.882609</td>\n",
              "      <td>-23.513058</td>\n",
              "      <td>-1.316724</td>\n",
              "      <td>100.688365</td>\n",
              "    </tr>\n",
              "    <tr>\n",
              "      <th>...</th>\n",
              "      <td>...</td>\n",
              "      <td>...</td>\n",
              "      <td>...</td>\n",
              "      <td>...</td>\n",
              "      <td>...</td>\n",
              "      <td>...</td>\n",
              "      <td>...</td>\n",
              "      <td>...</td>\n",
              "      <td>...</td>\n",
              "      <td>...</td>\n",
              "      <td>...</td>\n",
              "      <td>...</td>\n",
              "      <td>...</td>\n",
              "      <td>...</td>\n",
              "      <td>...</td>\n",
              "      <td>...</td>\n",
              "      <td>...</td>\n",
              "      <td>...</td>\n",
              "      <td>...</td>\n",
              "      <td>...</td>\n",
              "      <td>...</td>\n",
              "    </tr>\n",
              "    <tr>\n",
              "      <th>1044</th>\n",
              "      <td>21.893614</td>\n",
              "      <td>35.478718</td>\n",
              "      <td>23.908988</td>\n",
              "      <td>31.787283</td>\n",
              "      <td>-26.887764</td>\n",
              "      <td>10.676749</td>\n",
              "      <td>43.040346</td>\n",
              "      <td>35.715576</td>\n",
              "      <td>35.537112</td>\n",
              "      <td>-8.671015</td>\n",
              "      <td>...</td>\n",
              "      <td>0.052516</td>\n",
              "      <td>11.756974</td>\n",
              "      <td>333.736482</td>\n",
              "      <td>-26.540441</td>\n",
              "      <td>119.783354</td>\n",
              "      <td>10.332289</td>\n",
              "      <td>-28.095857</td>\n",
              "      <td>437.092250</td>\n",
              "      <td>22.421526</td>\n",
              "      <td>94.724772</td>\n",
              "    </tr>\n",
              "    <tr>\n",
              "      <th>1095</th>\n",
              "      <td>-0.738249</td>\n",
              "      <td>4.532352</td>\n",
              "      <td>-21.965329</td>\n",
              "      <td>-2.378147</td>\n",
              "      <td>4.980123</td>\n",
              "      <td>10.301323</td>\n",
              "      <td>6.119273</td>\n",
              "      <td>-4.888874</td>\n",
              "      <td>-34.786157</td>\n",
              "      <td>-15.775530</td>\n",
              "      <td>...</td>\n",
              "      <td>3.354203</td>\n",
              "      <td>-15.292710</td>\n",
              "      <td>-19.168978</td>\n",
              "      <td>85.628882</td>\n",
              "      <td>-618.843982</td>\n",
              "      <td>9.969806</td>\n",
              "      <td>25.885599</td>\n",
              "      <td>-65.099606</td>\n",
              "      <td>63.476018</td>\n",
              "      <td>-6.187177</td>\n",
              "    </tr>\n",
              "    <tr>\n",
              "      <th>1130</th>\n",
              "      <td>-102.968882</td>\n",
              "      <td>151.503009</td>\n",
              "      <td>-783.937752</td>\n",
              "      <td>19.792426</td>\n",
              "      <td>5.201315</td>\n",
              "      <td>-34.501523</td>\n",
              "      <td>-12.440539</td>\n",
              "      <td>52.281354</td>\n",
              "      <td>40.843122</td>\n",
              "      <td>30.276867</td>\n",
              "      <td>...</td>\n",
              "      <td>12.133154</td>\n",
              "      <td>19.253254</td>\n",
              "      <td>10.773166</td>\n",
              "      <td>-28.413877</td>\n",
              "      <td>53.588727</td>\n",
              "      <td>11.446389</td>\n",
              "      <td>22.885034</td>\n",
              "      <td>-33.696458</td>\n",
              "      <td>-0.251941</td>\n",
              "      <td>-501.549083</td>\n",
              "    </tr>\n",
              "    <tr>\n",
              "      <th>860</th>\n",
              "      <td>-4.829867</td>\n",
              "      <td>8.150327</td>\n",
              "      <td>36.967912</td>\n",
              "      <td>13.502261</td>\n",
              "      <td>-0.733560</td>\n",
              "      <td>53.293233</td>\n",
              "      <td>27.296023</td>\n",
              "      <td>23.306299</td>\n",
              "      <td>-2585.407513</td>\n",
              "      <td>-6.456519</td>\n",
              "      <td>...</td>\n",
              "      <td>10.903937</td>\n",
              "      <td>-216.716663</td>\n",
              "      <td>-5.126592</td>\n",
              "      <td>16.417464</td>\n",
              "      <td>11.428832</td>\n",
              "      <td>-6.710279</td>\n",
              "      <td>7.578374</td>\n",
              "      <td>37.346935</td>\n",
              "      <td>2.926579</td>\n",
              "      <td>-62.008938</td>\n",
              "    </tr>\n",
              "    <tr>\n",
              "      <th>1126</th>\n",
              "      <td>-0.010042</td>\n",
              "      <td>-5.011655</td>\n",
              "      <td>-3.734975</td>\n",
              "      <td>16.329015</td>\n",
              "      <td>28.276322</td>\n",
              "      <td>-9.299043</td>\n",
              "      <td>-17.154980</td>\n",
              "      <td>1.742076</td>\n",
              "      <td>-15.486132</td>\n",
              "      <td>7.601600</td>\n",
              "      <td>...</td>\n",
              "      <td>-0.167888</td>\n",
              "      <td>0.613650</td>\n",
              "      <td>-18.000440</td>\n",
              "      <td>12.469373</td>\n",
              "      <td>8.729350</td>\n",
              "      <td>-6.509156</td>\n",
              "      <td>-11.022013</td>\n",
              "      <td>-8.139778</td>\n",
              "      <td>45.609150</td>\n",
              "      <td>-7.624212</td>\n",
              "    </tr>\n",
              "  </tbody>\n",
              "</table>\n",
              "<p>927 rows × 100 columns</p>\n",
              "</div>\n",
              "      <button class=\"colab-df-convert\" onclick=\"convertToInteractive('df-a3e7b56d-dd20-4ee9-acf5-e0b67ec8740f')\"\n",
              "              title=\"Convert this dataframe to an interactive table.\"\n",
              "              style=\"display:none;\">\n",
              "        \n",
              "  <svg xmlns=\"http://www.w3.org/2000/svg\" height=\"24px\"viewBox=\"0 0 24 24\"\n",
              "       width=\"24px\">\n",
              "    <path d=\"M0 0h24v24H0V0z\" fill=\"none\"/>\n",
              "    <path d=\"M18.56 5.44l.94 2.06.94-2.06 2.06-.94-2.06-.94-.94-2.06-.94 2.06-2.06.94zm-11 1L8.5 8.5l.94-2.06 2.06-.94-2.06-.94L8.5 2.5l-.94 2.06-2.06.94zm10 10l.94 2.06.94-2.06 2.06-.94-2.06-.94-.94-2.06-.94 2.06-2.06.94z\"/><path d=\"M17.41 7.96l-1.37-1.37c-.4-.4-.92-.59-1.43-.59-.52 0-1.04.2-1.43.59L10.3 9.45l-7.72 7.72c-.78.78-.78 2.05 0 2.83L4 21.41c.39.39.9.59 1.41.59.51 0 1.02-.2 1.41-.59l7.78-7.78 2.81-2.81c.8-.78.8-2.07 0-2.86zM5.41 20L4 18.59l7.72-7.72 1.47 1.35L5.41 20z\"/>\n",
              "  </svg>\n",
              "      </button>\n",
              "      \n",
              "  <style>\n",
              "    .colab-df-container {\n",
              "      display:flex;\n",
              "      flex-wrap:wrap;\n",
              "      gap: 12px;\n",
              "    }\n",
              "\n",
              "    .colab-df-convert {\n",
              "      background-color: #E8F0FE;\n",
              "      border: none;\n",
              "      border-radius: 50%;\n",
              "      cursor: pointer;\n",
              "      display: none;\n",
              "      fill: #1967D2;\n",
              "      height: 32px;\n",
              "      padding: 0 0 0 0;\n",
              "      width: 32px;\n",
              "    }\n",
              "\n",
              "    .colab-df-convert:hover {\n",
              "      background-color: #E2EBFA;\n",
              "      box-shadow: 0px 1px 2px rgba(60, 64, 67, 0.3), 0px 1px 3px 1px rgba(60, 64, 67, 0.15);\n",
              "      fill: #174EA6;\n",
              "    }\n",
              "\n",
              "    [theme=dark] .colab-df-convert {\n",
              "      background-color: #3B4455;\n",
              "      fill: #D2E3FC;\n",
              "    }\n",
              "\n",
              "    [theme=dark] .colab-df-convert:hover {\n",
              "      background-color: #434B5C;\n",
              "      box-shadow: 0px 1px 3px 1px rgba(0, 0, 0, 0.15);\n",
              "      filter: drop-shadow(0px 1px 2px rgba(0, 0, 0, 0.3));\n",
              "      fill: #FFFFFF;\n",
              "    }\n",
              "  </style>\n",
              "\n",
              "      <script>\n",
              "        const buttonEl =\n",
              "          document.querySelector('#df-a3e7b56d-dd20-4ee9-acf5-e0b67ec8740f button.colab-df-convert');\n",
              "        buttonEl.style.display =\n",
              "          google.colab.kernel.accessAllowed ? 'block' : 'none';\n",
              "\n",
              "        async function convertToInteractive(key) {\n",
              "          const element = document.querySelector('#df-a3e7b56d-dd20-4ee9-acf5-e0b67ec8740f');\n",
              "          const dataTable =\n",
              "            await google.colab.kernel.invokeFunction('convertToInteractive',\n",
              "                                                     [key], {});\n",
              "          if (!dataTable) return;\n",
              "\n",
              "          const docLinkHtml = 'Like what you see? Visit the ' +\n",
              "            '<a target=\"_blank\" href=https://colab.research.google.com/notebooks/data_table.ipynb>data table notebook</a>'\n",
              "            + ' to learn more about interactive tables.';\n",
              "          element.innerHTML = '';\n",
              "          dataTable['output_type'] = 'display_data';\n",
              "          await google.colab.output.renderOutput(dataTable, element);\n",
              "          const docLink = document.createElement('div');\n",
              "          docLink.innerHTML = docLinkHtml;\n",
              "          element.appendChild(docLink);\n",
              "        }\n",
              "      </script>\n",
              "    </div>\n",
              "  </div>\n",
              "  "
            ]
          },
          "metadata": {},
          "execution_count": 748
        }
      ]
    },
    {
      "cell_type": "code",
      "source": [
        "#definir semilla\n",
        "import random\n",
        "random.seed(10)\n",
        "#Importar modelo Ramdom Forest\n",
        "from sklearn.ensemble import RandomForestClassifier\n",
        "#Crear clasificador\n",
        "clf=RandomForestClassifier(n_estimators=200,random_state=1000)\n",
        "#Entrenar Modelo\n",
        "clf.fit(X_train,y_train)\n",
        "#predecir\n",
        "y_pred=clf.predict(X_test)"
      ],
      "metadata": {
        "id": "1qIL55EjOpSn",
        "colab": {
          "base_uri": "https://localhost:8080/"
        },
        "outputId": "e5dd1092-8ad3-4a74-b339-254627fee595"
      },
      "id": "1qIL55EjOpSn",
      "execution_count": null,
      "outputs": [
        {
          "output_type": "stream",
          "name": "stderr",
          "text": [
            "/usr/local/lib/python3.7/dist-packages/ipykernel_launcher.py:9: DataConversionWarning: A column-vector y was passed when a 1d array was expected. Please change the shape of y to (n_samples,), for example using ravel().\n",
            "  if __name__ == '__main__':\n"
          ]
        }
      ]
    },
    {
      "cell_type": "code",
      "source": [
        "#Importar metricas scikit-learn \n",
        "from sklearn import metrics\n",
        "# calcular el \"accuracy\"\n",
        "print(\"Accuracy:\",metrics.accuracy_score(y_test, y_pred))"
      ],
      "metadata": {
        "colab": {
          "base_uri": "https://localhost:8080/"
        },
        "id": "gjwYyVsyWSGt",
        "outputId": "9653c18c-074f-4852-fba4-807dd2ba0d20"
      },
      "id": "gjwYyVsyWSGt",
      "execution_count": null,
      "outputs": [
        {
          "output_type": "stream",
          "name": "stdout",
          "text": [
            "Accuracy: 0.6681034482758621\n"
          ]
        }
      ]
    },
    {
      "cell_type": "code",
      "source": [],
      "metadata": {
        "id": "rPoeRNhuzfBO"
      },
      "id": "rPoeRNhuzfBO",
      "execution_count": null,
      "outputs": []
    }
  ],
  "metadata": {
    "kernelspec": {
      "display_name": "Python 3 (ipykernel)",
      "language": "python",
      "name": "python3"
    },
    "language_info": {
      "codemirror_mode": {
        "name": "ipython",
        "version": 3
      },
      "file_extension": ".py",
      "mimetype": "text/x-python",
      "name": "python",
      "nbconvert_exporter": "python",
      "pygments_lexer": "ipython3",
      "version": "3.10.6"
    },
    "nbTranslate": {
      "displayLangs": [
        "*"
      ],
      "hotkey": "alt-t",
      "langInMainMenu": true,
      "sourceLang": "en",
      "targetLang": "es",
      "useGoogleTranslate": true
    },
    "colab": {
      "provenance": [],
      "collapsed_sections": []
    }
  },
  "nbformat": 4,
  "nbformat_minor": 5
}