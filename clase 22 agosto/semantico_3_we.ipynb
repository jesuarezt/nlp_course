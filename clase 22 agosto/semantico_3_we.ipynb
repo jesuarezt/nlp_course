{
 "cells": [
  {
   "cell_type": "markdown",
   "metadata": {
    "id": "7PNRWutL1ifK"
   },
   "source": [
    "# Uso de word embeddings\n",
    "En este notebook utilizaremos un conjunto de Word embeddings en español para ver como podemos usarlo y para que tareas servirían"
   ]
  },
  {
   "cell_type": "code",
   "execution_count": 1,
   "metadata": {
    "id": "JhepmGzZ0csf"
   },
   "outputs": [],
   "source": [
    "import os, re\n",
    "import nltk\n",
    "import pandas as pd\n",
    "import sklearn\n",
    "import gensim\n",
    "from sklearn import manifold\n",
    "import seaborn as sns\n"
   ]
  },
  {
   "cell_type": "markdown",
   "metadata": {
    "id": "SzgfmXcm8wLE"
   },
   "source": [
    "Importamos el archivo de Word embeddings"
   ]
  },
  {
   "cell_type": "code",
   "execution_count": 2,
   "metadata": {},
   "outputs": [
    {
     "data": {
      "text/plain": [
       "'/Users/habi/Documents/personal/nlp_course/clase 22 agosto'"
      ]
     },
     "execution_count": 2,
     "metadata": {},
     "output_type": "execute_result"
    }
   ],
   "source": [
    "os.getcwd()"
   ]
  },
  {
   "cell_type": "code",
   "execution_count": 3,
   "metadata": {
    "id": "KskpSqpe0o2F"
   },
   "outputs": [],
   "source": [
    "from gensim.models import KeyedVectors\n",
    "#os.chdir(\"/content/drive/My Drive/corpus/Otros_texto\")\n",
    "os.chdir('/Users/habi/Documents/personal')\n",
    "# Link de archivo SBW\n",
    "# word2Vec embeddings from SBWC\n",
    "# https://github.com/dccuchile/spanish-word-embeddings\n",
    "modelo = KeyedVectors.load_word2vec_format('SBW-vectors-300-min5.bin.gz', binary=True)\n",
    "\n"
   ]
  },
  {
   "cell_type": "markdown",
   "metadata": {
    "id": "aIHALXuC81M7"
   },
   "source": [
    "Podemos calcular los *k* vecinos más cercanos a una palabra"
   ]
  },
  {
   "cell_type": "code",
   "execution_count": 4,
   "metadata": {
    "colab": {
     "base_uri": "https://localhost:8080/"
    },
    "id": "vRTAFzRe1QZP",
    "outputId": "fe593ebe-128c-4d75-93a5-1eec06520fd3"
   },
   "outputs": [
    {
     "data": {
      "text/plain": [
       "[('alimentario', 0.792665958404541),\n",
       " ('dietético', 0.6628462672233582),\n",
       " ('alimenticios', 0.6227770447731018),\n",
       " ('alimento', 0.6160340905189514),\n",
       " ('nutricional', 0.6138904690742493),\n",
       " ('nutritivo', 0.6030381917953491),\n",
       " ('nutritivas', 0.5713231563568115),\n",
       " ('nutricionales', 0.5702103972434998),\n",
       " ('nutrimental', 0.5639523863792419),\n",
       " ('alimentos', 0.5576946139335632),\n",
       " ('medicamentoso', 0.5559772253036499),\n",
       " ('alimentarios', 0.5527542233467102),\n",
       " ('mayonesas', 0.5521297454833984),\n",
       " ('cárnico', 0.545059084892273),\n",
       " ('lácteo', 0.5445379018783569),\n",
       " ('vitamínico', 0.5420364737510681),\n",
       " ('prebióticos', 0.540791928768158),\n",
       " ('agroquímico', 0.5301523208618164),\n",
       " ('nutritivos', 0.5268266201019287),\n",
       " ('endulzante', 0.5267912149429321),\n",
       " ('endulzantes', 0.526153028011322),\n",
       " ('calórico', 0.5244935750961304),\n",
       " ('Depuralina', 0.5221549868583679),\n",
       " ('alergénico', 0.5217621326446533),\n",
       " ('nutritiva', 0.5213720202445984),\n",
       " ('tisanas', 0.5211535692214966),\n",
       " ('vitamínicas', 0.5199115872383118),\n",
       " ('pulpas', 0.5198416709899902),\n",
       " ('nutriólogo', 0.5181705355644226),\n",
       " ('adelgazante', 0.5181427597999573),\n",
       " ('dietéticos', 0.5176604986190796),\n",
       " ('proteínico', 0.516679048538208),\n",
       " ('alimentación', 0.5163909196853638),\n",
       " ('konjac', 0.5133638978004456),\n",
       " ('nutricionalmente', 0.5123946070671082),\n",
       " ('producto', 0.5123482942581177),\n",
       " ('nutrimentos', 0.508725106716156),\n",
       " ('macronutrientes', 0.5079638361930847),\n",
       " ('nutriente', 0.5075048804283142),\n",
       " ('preservante', 0.5074460506439209),\n",
       " ('mantecas', 0.5068919658660889),\n",
       " ('aromatizante', 0.5064756870269775),\n",
       " ('liofilizado', 0.5063771605491638),\n",
       " ('saborizante', 0.5057750344276428),\n",
       " ('forrajes', 0.5046590566635132),\n",
       " ('nutracéuticos', 0.5043566226959229),\n",
       " ('leche', 0.5042778849601746),\n",
       " ('pasteurizados', 0.5035921335220337),\n",
       " ('liofilizados', 0.5032832026481628),\n",
       " ('Benexia', 0.5032680034637451)]"
      ]
     },
     "execution_count": 4,
     "metadata": {},
     "output_type": "execute_result"
    }
   ],
   "source": [
    "#similitudes de una palabra\n",
    "similitud=modelo.similar_by_word(\"alimenticio\", topn=50, restrict_vocab=300000)\n",
    "similitud\n"
   ]
  },
  {
   "cell_type": "markdown",
   "metadata": {
    "id": "uSPzAZim1ZhO"
   },
   "source": [
    "Sin embargo, los resultados pueden estar sesgados por la cultura y por los sesgos que los seres humanos ya tenemos. Por ejemplo"
   ]
  },
  {
   "cell_type": "code",
   "execution_count": 5,
   "metadata": {
    "colab": {
     "base_uri": "https://localhost:8080/"
    },
    "id": "ZpH5pzb11Whl",
    "outputId": "25e74a6a-2a69-411f-9f8f-fba489b86ca6"
   },
   "outputs": [
    {
     "data": {
      "text/plain": [
       "[('niña', 0.7468613386154175),\n",
       " ('muchacha', 0.7343084812164307),\n",
       " ('persona', 0.7217705845832825),\n",
       " ('hombre', 0.7174482941627502),\n",
       " ('fémina', 0.7114294171333313),\n",
       " ('anciana', 0.708166241645813),\n",
       " ('joven', 0.7036720514297485),\n",
       " ('jovencita', 0.7007799744606018),\n",
       " ('marido', 0.690261960029602),\n",
       " ('esposo', 0.6873509287834167),\n",
       " ('esposa', 0.6745600700378418),\n",
       " ('prostituta', 0.6566933989524841),\n",
       " ('embarazada', 0.6501801609992981),\n",
       " ('sexagenaria', 0.6497166752815247),\n",
       " ('madre', 0.6432695388793945),\n",
       " ('chica', 0.6407369375228882),\n",
       " ('adolescente', 0.6385993957519531),\n",
       " ('pareja', 0.6363171935081482),\n",
       " ('septuagenaria', 0.631632924079895),\n",
       " ('cuarentona', 0.6294296979904175),\n",
       " ('hija', 0.6284517049789429),\n",
       " ('ella', 0.6271185874938965),\n",
       " ('parapléjica', 0.624487042427063),\n",
       " ('hijastra', 0.6232087016105652),\n",
       " ('acuchillada', 0.6231945753097534),\n",
       " ('mujeres', 0.6229810118675232),\n",
       " ('sirvienta', 0.6219694018363953),\n",
       " ('cuñada', 0.6205692887306213),\n",
       " ('víctima', 0.6180681586265564),\n",
       " ('treintañera', 0.6172313690185547),\n",
       " ('maltratada', 0.6163107752799988),\n",
       " ('Karlota', 0.6136964559555054),\n",
       " ('suegra', 0.6133378744125366),\n",
       " ('transexual', 0.6131543517112732),\n",
       " ('varón', 0.61252361536026),\n",
       " ('bígamo', 0.6099777221679688),\n",
       " ('bebé', 0.609832227230072),\n",
       " ('alcoholizada', 0.6087433099746704),\n",
       " ('enviuda', 0.608245313167572),\n",
       " ('novia', 0.6061442494392395),\n",
       " ('lesbiana', 0.6050987839698792),\n",
       " ('veinteañera', 0.6042428612709045),\n",
       " ('minusválida', 0.6016364097595215),\n",
       " ('drogadicta', 0.6001869440078735),\n",
       " ('asistenta', 0.5989499092102051),\n",
       " ('nuera', 0.5974856019020081),\n",
       " ('octogenaria', 0.5974181890487671),\n",
       " ('abusada', 0.5962299108505249),\n",
       " ('amante', 0.59554523229599),\n",
       " ('novio', 0.5951735973358154)]"
      ]
     },
     "execution_count": 5,
     "metadata": {},
     "output_type": "execute_result"
    }
   ],
   "source": [
    "similitud2=modelo.similar_by_word(\"mujer\", topn=50, restrict_vocab=300000)\n",
    "similitud2\n"
   ]
  },
  {
   "cell_type": "markdown",
   "metadata": {
    "id": "c0pyvymE86sf"
   },
   "source": [
    "Probemos con el que usted desee"
   ]
  },
  {
   "cell_type": "code",
   "execution_count": 6,
   "metadata": {
    "colab": {
     "base_uri": "https://localhost:8080/"
    },
    "id": "qdrxHgdl1shQ",
    "outputId": "97869b7b-5947-42dc-980e-e89498d8fdf1"
   },
   "outputs": [
    {
     "data": {
      "text/plain": [
       "[('automóvil', 0.8449662327766418),\n",
       " ('camión', 0.8032729625701904),\n",
       " ('camioneta', 0.7934376001358032),\n",
       " ('coche', 0.7672141790390015),\n",
       " ('motocicleta', 0.7655367255210876),\n",
       " ('carro', 0.7342464923858643),\n",
       " ('conductor', 0.7216777801513672),\n",
       " ('vehículos', 0.7185602188110352),\n",
       " ('ecotaxi', 0.7152096033096313),\n",
       " ('Sentra', 0.7135573029518127),\n",
       " ('furgoneta', 0.7122205495834351),\n",
       " ('chofer', 0.7118712067604065),\n",
       " ('Jeep', 0.7111682295799255),\n",
       " ('vehiculo', 0.7103639245033264),\n",
       " ('tsuru', 0.7031404972076416),\n",
       " ('torton', 0.7029312252998352),\n",
       " ('Tsuru', 0.7020263075828552),\n",
       " ('microbús', 0.7014415860176086),\n",
       " ('todoterreno', 0.6987150311470032),\n",
       " ('Jetta', 0.6954854726791382),\n",
       " ('automovilista', 0.6918030977249146),\n",
       " ('estaquitas', 0.6878708600997925),\n",
       " ('ciclomotor', 0.6848747134208679),\n",
       " ('chocada', 0.68404620885849),\n",
       " ('Tiida', 0.6826857924461365),\n",
       " ('Xtrail', 0.6825708746910095),\n",
       " ('Tida', 0.6818994879722595),\n",
       " ('midibús', 0.6812483072280884),\n",
       " ('estacionado', 0.6802089214324951),\n",
       " ('conducía', 0.6780352592468262),\n",
       " ('furgón', 0.6777230501174927),\n",
       " ('taxi', 0.6776685118675232),\n",
       " ('circulaba', 0.6768702268600464),\n",
       " ('motoneta', 0.6749154925346375),\n",
       " ('Vagoneta', 0.6748676896095276),\n",
       " ('viajaban', 0.6748602986335754),\n",
       " ('camionetas', 0.6746385097503662),\n",
       " ('vagoneta', 0.6739100217819214),\n",
       " ('tractocamión', 0.6716679334640503),\n",
       " ('tripulaba', 0.6712895631790161),\n",
       " ('viajaba', 0.667844295501709),\n",
       " ('auto', 0.6675836443901062),\n",
       " ('Áltima', 0.6668506264686584),\n",
       " ('Urvan', 0.6653532981872559),\n",
       " ('automotor', 0.6612486243247986),\n",
       " ('camionetilla', 0.6609088182449341),\n",
       " ('Altima', 0.6600269675254822),\n",
       " ('Ecosport', 0.6599335074424744),\n",
       " ('pick', 0.6591194272041321),\n",
       " ('Windstar', 0.6562768816947937)]"
      ]
     },
     "execution_count": 6,
     "metadata": {},
     "output_type": "execute_result"
    }
   ],
   "source": [
    "similitud3=modelo.similar_by_word(\"vehículo\", topn=50, restrict_vocab=300000)\n",
    "similitud3\n"
   ]
  },
  {
   "cell_type": "markdown",
   "metadata": {
    "id": "GeEAOL8C89es"
   },
   "source": [
    "En principio los vectores se pueden *operar*, lo que implica que si a rey lo resto de hombre y le sumo mujer, debiera obtener algo similar a una reina:\n",
    "reina=rey-hombre+mujer"
   ]
  },
  {
   "cell_type": "code",
   "execution_count": 7,
   "metadata": {
    "colab": {
     "base_uri": "https://localhost:8080/"
    },
    "id": "tbfkACsg1zBg",
    "outputId": "7a32aa52-0bbf-4dd2-a212-5df37141d0d1"
   },
   "outputs": [
    {
     "data": {
      "text/plain": [
       "[('reina', 0.7493031620979309),\n",
       " ('consorte', 0.7034263014793396),\n",
       " ('princesa', 0.686154305934906),\n",
       " ('reyes', 0.6391464471817017),\n",
       " ('Eriksdotter', 0.6360354423522949)]"
      ]
     },
     "execution_count": 7,
     "metadata": {},
     "output_type": "execute_result"
    }
   ],
   "source": [
    "##similitudes en relación\n",
    "analogia1=modelo.most_similar(positive=[\"rey\", \"mujer\"],negative=[\"hombre\"], topn=5, restrict_vocab=300000)\n",
    "analogia1\n"
   ]
  },
  {
   "cell_type": "markdown",
   "metadata": {
    "id": "E5H6DX3c9J7Z"
   },
   "source": [
    "Funcionará cuando qiuero saber un componente de un todo?"
   ]
  },
  {
   "cell_type": "code",
   "execution_count": 8,
   "metadata": {
    "colab": {
     "base_uri": "https://localhost:8080/"
    },
    "id": "k7AwPqPJ12jG",
    "outputId": "ef9b1cc4-1c73-4c04-9f0d-c7aba7aa37fa"
   },
   "outputs": [
    {
     "data": {
      "text/plain": [
       "[('guitarra', 0.5890582799911499),\n",
       " ('banda', 0.5711548924446106),\n",
       " ('trompetas', 0.5636847615242004),\n",
       " ('tuba', 0.5532137155532837),\n",
       " ('trombón', 0.5528616309165955)]"
      ]
     },
     "execution_count": 8,
     "metadata": {},
     "output_type": "execute_result"
    }
   ],
   "source": [
    "analogia2=modelo.most_similar(positive=[\"trompeta\", \"rock\"],negative=[\"jazz\"], topn=5, restrict_vocab=300000)\n",
    "analogia2\n"
   ]
  },
  {
   "cell_type": "markdown",
   "metadata": {
    "id": "8AOfmXAq9N8n"
   },
   "source": [
    "En este caso, quizás por la polisemia, el resultado es malo"
   ]
  },
  {
   "cell_type": "code",
   "execution_count": 9,
   "metadata": {
    "colab": {
     "base_uri": "https://localhost:8080/"
    },
    "id": "Hqmg3Se_16L2",
    "outputId": "d0d5340b-7f49-4be7-ad93-3d4731eb5974"
   },
   "outputs": [
    {
     "data": {
      "text/plain": [
       "[('voleibol', 0.6411386132240295),\n",
       " ('balonmano', 0.6357669830322266),\n",
       " ('rugby', 0.6266654133796692),\n",
       " ('futbol', 0.6047141551971436),\n",
       " ('Fútbol', 0.6009125113487244)]"
      ]
     },
     "execution_count": 9,
     "metadata": {},
     "output_type": "execute_result"
    }
   ],
   "source": [
    "analogia3=modelo.most_similar(positive=[\"baloncesto\", \"fútbol\"],negative=[\"aro\"], topn=5, restrict_vocab=300000)\n",
    "analogia3\n"
   ]
  },
  {
   "cell_type": "markdown",
   "metadata": {
    "id": "YQhc49pz9SUM"
   },
   "source": [
    "También puedo detectar la palabra que no pertenece, mirando la de mayor distancia a la media de palabras."
   ]
  },
  {
   "cell_type": "code",
   "execution_count": 10,
   "metadata": {
    "colab": {
     "base_uri": "https://localhost:8080/",
     "height": 92
    },
    "id": "Tcyt6A1B1_Ml",
    "outputId": "b5fa1dca-f3cf-416c-eea5-ad176726824e"
   },
   "outputs": [
    {
     "data": {
      "text/plain": [
       "'oficina'"
      ]
     },
     "execution_count": 10,
     "metadata": {},
     "output_type": "execute_result"
    }
   ],
   "source": [
    "##palabra extraña\n",
    "modelo.doesnt_match(\"hombre mujer anciano oficina\".split())\n"
   ]
  },
  {
   "cell_type": "markdown",
   "metadata": {
    "id": "75MXSwqM9Yfu"
   },
   "source": [
    "Probemos con otro conjunto"
   ]
  },
  {
   "cell_type": "code",
   "execution_count": 11,
   "metadata": {
    "colab": {
     "base_uri": "https://localhost:8080/",
     "height": 92
    },
    "id": "wvsP5IUw2IHO",
    "outputId": "4a207578-004b-42ce-f8b0-75e5683c4948"
   },
   "outputs": [
    {
     "data": {
      "text/plain": [
       "'carne'"
      ]
     },
     "execution_count": 11,
     "metadata": {},
     "output_type": "execute_result"
    }
   ],
   "source": [
    "modelo.doesnt_match(\"pan carne trigo harina\".split())"
   ]
  },
  {
   "cell_type": "markdown",
   "metadata": {
    "id": "Yvxrr1Pj9bG4"
   },
   "source": [
    "Puedo calcular directamente la similitud entre dos plabras , o su complemento, la distancia."
   ]
  },
  {
   "cell_type": "code",
   "execution_count": 12,
   "metadata": {
    "colab": {
     "base_uri": "https://localhost:8080/"
    },
    "id": "ZHRv1yeX2MOg",
    "outputId": "2497a8b5-8885-48ee-b75e-b3e473ce0543"
   },
   "outputs": [
    {
     "data": {
      "text/plain": [
       "0.39060092"
      ]
     },
     "execution_count": 12,
     "metadata": {},
     "output_type": "execute_result"
    }
   ],
   "source": [
    "modelo.similarity(\"perro\",\"casa\")\n"
   ]
  },
  {
   "cell_type": "code",
   "execution_count": 13,
   "metadata": {
    "colab": {
     "base_uri": "https://localhost:8080/"
    },
    "id": "9CyrwFtY2Nwj",
    "outputId": "4e6dcad0-336a-4f06-aec1-985338049f7a"
   },
   "outputs": [
    {
     "data": {
      "text/plain": [
       "0.25541186332702637"
      ]
     },
     "execution_count": 13,
     "metadata": {},
     "output_type": "execute_result"
    }
   ],
   "source": [
    "modelo.distance(\"perro\",\"gato\")\n"
   ]
  },
  {
   "cell_type": "code",
   "execution_count": 14,
   "metadata": {
    "colab": {
     "base_uri": "https://localhost:8080/"
    },
    "id": "lskmQ4HM2RGD",
    "outputId": "4bb23aab-d3ae-4c92-df39-efc6081ea143"
   },
   "outputs": [
    {
     "data": {
      "text/plain": [
       "0.74458814"
      ]
     },
     "execution_count": 14,
     "metadata": {},
     "output_type": "execute_result"
    }
   ],
   "source": [
    "modelo.similarity(\"perro\",\"gato\")\n"
   ]
  },
  {
   "cell_type": "markdown",
   "metadata": {
    "id": "DcjNw0Ov9hK1"
   },
   "source": [
    "Puedo extender esa similitud a grupos de palabras, porque los vectores se pueden operar, así que se pueden promediar."
   ]
  },
  {
   "cell_type": "code",
   "execution_count": 15,
   "metadata": {
    "colab": {
     "base_uri": "https://localhost:8080/"
    },
    "id": "fqw4yLte2VTS",
    "outputId": "883f710f-da55-4a2d-8240-f91982635ea8"
   },
   "outputs": [
    {
     "data": {
      "text/plain": [
       "0.7589176"
      ]
     },
     "execution_count": 15,
     "metadata": {},
     "output_type": "execute_result"
    }
   ],
   "source": [
    "simgrup = modelo.n_similarity(['sushi', 'tienda'], ['japón', 'restaurante'])\n",
    "simgrup\n"
   ]
  },
  {
   "cell_type": "markdown",
   "metadata": {
    "id": "Dcahj2_m9npe"
   },
   "source": [
    "Una aproximación más sofisticada permite ver el problema de distancia entre documentos como un **problema de transporte** donde los costos son las distancias entre palabras, los origenes y destinos las palabras en sí mismas, y los volúmenes a transportar las representaciones TF normalizadas con L1"
   ]
  },
  {
   "cell_type": "code",
   "execution_count": 16,
   "metadata": {
    "colab": {
     "base_uri": "https://localhost:8080/"
    },
    "id": "7NL8wqVK3ec4",
    "outputId": "03081fdb-28d4-418a-b4bd-08a298045ea5"
   },
   "outputs": [
    {
     "name": "stdout",
     "output_type": "stream",
     "text": [
      "0.7136494002134436   0.8629768060619429   0.949241442100478\n"
     ]
    }
   ],
   "source": [
    "frase1 = 'Estoy contento por mi ascenso'.lower().split()\n",
    "frase2 = 'Me encuentro feliz por mi nuevo sueldo'.lower().split()\n",
    "frase3 = \"Me fui de vacaciones alegremente\".lower().split()\n",
    "similaridad12 = modelo.wmdistance(frase1, frase2)\n",
    "similaridad13= modelo.wmdistance(frase2, frase3)\n",
    "similaridad23= modelo.wmdistance(frase1, frase3)\n",
    "print(similaridad12,\" \",similaridad13, \" \",similaridad23)"
   ]
  },
  {
   "cell_type": "markdown",
   "metadata": {
    "id": "xYYg1P3999Ev"
   },
   "source": [
    "Otra aplicación es visualizar grupos de palabras por similitudes. Con T-SNE hago una reducción de dimensiones basada en teoría de la información y puedo obtener una representación bidimensional de palabras para ser comparadas."
   ]
  },
  {
   "cell_type": "code",
   "execution_count": 17,
   "metadata": {
    "colab": {
     "base_uri": "https://localhost:8080/"
    },
    "id": "PivwoMB48MHr",
    "outputId": "34f8e214-f9e6-4919-d515-e88a5183c731"
   },
   "outputs": [
    {
     "name": "stderr",
     "output_type": "stream",
     "text": [
      "/Users/habi/opt/anaconda3/envs/jave/lib/python3.8/site-packages/sklearn/manifold/_t_sne.py:800: FutureWarning: The default initialization in TSNE will change from 'random' to 'pca' in 1.2.\n",
      "  warnings.warn(\n",
      "/Users/habi/opt/anaconda3/envs/jave/lib/python3.8/site-packages/sklearn/manifold/_t_sne.py:810: FutureWarning: The default learning rate in TSNE will change from 200.0 to 'auto' in 1.2.\n",
      "  warnings.warn(\n"
     ]
    }
   ],
   "source": [
    "tsne=sklearn.manifold.TSNE(perplexity=3)\n",
    "palabras=[\"salados\",\"cocidas\",\"chiles\",\"puré\",\"mermelada\",\"salchicha\",\"ahumado\",\"hamburguesa\",\"bollo\",\"cocinados\",\"pelado\",\"picadas\",\"piñones\",\"churros\",\"cocinan\",\"tamal\",\"cocidos\",\"yema\",\"molido\",\"chicha\",\"serrano\",\"garbanzos\",\"fideos\",\"gallina\",\"galletas\",\"jamón\",\"tortilla\"]\n",
    "vectors=modelo[palabras]\n",
    "\n",
    "reduccion=tsne.fit_transform(vectors)"
   ]
  },
  {
   "cell_type": "code",
   "execution_count": 18,
   "metadata": {
    "colab": {
     "base_uri": "https://localhost:8080/",
     "height": 895
    },
    "id": "5rDJjnbL8VD_",
    "outputId": "dbca252f-3019-47ab-ca5b-32d50522e4a5"
   },
   "outputs": [
    {
     "data": {
      "text/html": [
       "<div>\n",
       "<style scoped>\n",
       "    .dataframe tbody tr th:only-of-type {\n",
       "        vertical-align: middle;\n",
       "    }\n",
       "\n",
       "    .dataframe tbody tr th {\n",
       "        vertical-align: top;\n",
       "    }\n",
       "\n",
       "    .dataframe thead th {\n",
       "        text-align: right;\n",
       "    }\n",
       "</style>\n",
       "<table border=\"1\" class=\"dataframe\">\n",
       "  <thead>\n",
       "    <tr style=\"text-align: right;\">\n",
       "      <th></th>\n",
       "      <th>primer_componente</th>\n",
       "      <th>segundo_componente</th>\n",
       "      <th>nombres</th>\n",
       "    </tr>\n",
       "  </thead>\n",
       "  <tbody>\n",
       "    <tr>\n",
       "      <th>0</th>\n",
       "      <td>-147.886978</td>\n",
       "      <td>-248.953979</td>\n",
       "      <td>salados</td>\n",
       "    </tr>\n",
       "    <tr>\n",
       "      <th>1</th>\n",
       "      <td>-88.765144</td>\n",
       "      <td>-84.008972</td>\n",
       "      <td>cocidas</td>\n",
       "    </tr>\n",
       "    <tr>\n",
       "      <th>2</th>\n",
       "      <td>170.143127</td>\n",
       "      <td>174.264160</td>\n",
       "      <td>chiles</td>\n",
       "    </tr>\n",
       "    <tr>\n",
       "      <th>3</th>\n",
       "      <td>124.741638</td>\n",
       "      <td>-55.077801</td>\n",
       "      <td>puré</td>\n",
       "    </tr>\n",
       "    <tr>\n",
       "      <th>4</th>\n",
       "      <td>125.663223</td>\n",
       "      <td>-107.453796</td>\n",
       "      <td>mermelada</td>\n",
       "    </tr>\n",
       "    <tr>\n",
       "      <th>5</th>\n",
       "      <td>279.926208</td>\n",
       "      <td>-24.099283</td>\n",
       "      <td>salchicha</td>\n",
       "    </tr>\n",
       "    <tr>\n",
       "      <th>6</th>\n",
       "      <td>77.543816</td>\n",
       "      <td>18.147205</td>\n",
       "      <td>ahumado</td>\n",
       "    </tr>\n",
       "    <tr>\n",
       "      <th>7</th>\n",
       "      <td>306.044525</td>\n",
       "      <td>8.808464</td>\n",
       "      <td>hamburguesa</td>\n",
       "    </tr>\n",
       "    <tr>\n",
       "      <th>8</th>\n",
       "      <td>-130.669617</td>\n",
       "      <td>352.188385</td>\n",
       "      <td>bollo</td>\n",
       "    </tr>\n",
       "    <tr>\n",
       "      <th>9</th>\n",
       "      <td>-120.418114</td>\n",
       "      <td>-174.482727</td>\n",
       "      <td>cocinados</td>\n",
       "    </tr>\n",
       "    <tr>\n",
       "      <th>10</th>\n",
       "      <td>-152.297180</td>\n",
       "      <td>91.479324</td>\n",
       "      <td>pelado</td>\n",
       "    </tr>\n",
       "    <tr>\n",
       "      <th>11</th>\n",
       "      <td>-25.823330</td>\n",
       "      <td>-1.992544</td>\n",
       "      <td>picadas</td>\n",
       "    </tr>\n",
       "    <tr>\n",
       "      <th>12</th>\n",
       "      <td>73.591644</td>\n",
       "      <td>161.647141</td>\n",
       "      <td>piñones</td>\n",
       "    </tr>\n",
       "    <tr>\n",
       "      <th>13</th>\n",
       "      <td>199.273972</td>\n",
       "      <td>-171.433655</td>\n",
       "      <td>churros</td>\n",
       "    </tr>\n",
       "    <tr>\n",
       "      <th>14</th>\n",
       "      <td>-74.239166</td>\n",
       "      <td>-203.345840</td>\n",
       "      <td>cocinan</td>\n",
       "    </tr>\n",
       "    <tr>\n",
       "      <th>15</th>\n",
       "      <td>-152.546417</td>\n",
       "      <td>320.628540</td>\n",
       "      <td>tamal</td>\n",
       "    </tr>\n",
       "    <tr>\n",
       "      <th>16</th>\n",
       "      <td>-110.071548</td>\n",
       "      <td>-135.475159</td>\n",
       "      <td>cocidos</td>\n",
       "    </tr>\n",
       "    <tr>\n",
       "      <th>17</th>\n",
       "      <td>72.158493</td>\n",
       "      <td>-144.272003</td>\n",
       "      <td>yema</td>\n",
       "    </tr>\n",
       "    <tr>\n",
       "      <th>18</th>\n",
       "      <td>-183.904877</td>\n",
       "      <td>53.713013</td>\n",
       "      <td>molido</td>\n",
       "    </tr>\n",
       "    <tr>\n",
       "      <th>19</th>\n",
       "      <td>-188.084198</td>\n",
       "      <td>272.282867</td>\n",
       "      <td>chicha</td>\n",
       "    </tr>\n",
       "    <tr>\n",
       "      <th>20</th>\n",
       "      <td>182.800156</td>\n",
       "      <td>44.874187</td>\n",
       "      <td>serrano</td>\n",
       "    </tr>\n",
       "    <tr>\n",
       "      <th>21</th>\n",
       "      <td>112.258766</td>\n",
       "      <td>121.120926</td>\n",
       "      <td>garbanzos</td>\n",
       "    </tr>\n",
       "    <tr>\n",
       "      <th>22</th>\n",
       "      <td>-198.807190</td>\n",
       "      <td>-171.466599</td>\n",
       "      <td>fideos</td>\n",
       "    </tr>\n",
       "    <tr>\n",
       "      <th>23</th>\n",
       "      <td>-119.480202</td>\n",
       "      <td>112.523926</td>\n",
       "      <td>gallina</td>\n",
       "    </tr>\n",
       "    <tr>\n",
       "      <th>24</th>\n",
       "      <td>160.305618</td>\n",
       "      <td>-130.261444</td>\n",
       "      <td>galletas</td>\n",
       "    </tr>\n",
       "    <tr>\n",
       "      <th>25</th>\n",
       "      <td>133.910553</td>\n",
       "      <td>21.777697</td>\n",
       "      <td>jamón</td>\n",
       "    </tr>\n",
       "    <tr>\n",
       "      <th>26</th>\n",
       "      <td>238.311401</td>\n",
       "      <td>152.253891</td>\n",
       "      <td>tortilla</td>\n",
       "    </tr>\n",
       "  </tbody>\n",
       "</table>\n",
       "</div>"
      ],
      "text/plain": [
       "    primer_componente  segundo_componente      nombres\n",
       "0         -147.886978         -248.953979      salados\n",
       "1          -88.765144          -84.008972      cocidas\n",
       "2          170.143127          174.264160       chiles\n",
       "3          124.741638          -55.077801         puré\n",
       "4          125.663223         -107.453796    mermelada\n",
       "5          279.926208          -24.099283    salchicha\n",
       "6           77.543816           18.147205      ahumado\n",
       "7          306.044525            8.808464  hamburguesa\n",
       "8         -130.669617          352.188385        bollo\n",
       "9         -120.418114         -174.482727    cocinados\n",
       "10        -152.297180           91.479324       pelado\n",
       "11         -25.823330           -1.992544      picadas\n",
       "12          73.591644          161.647141      piñones\n",
       "13         199.273972         -171.433655      churros\n",
       "14         -74.239166         -203.345840      cocinan\n",
       "15        -152.546417          320.628540        tamal\n",
       "16        -110.071548         -135.475159      cocidos\n",
       "17          72.158493         -144.272003         yema\n",
       "18        -183.904877           53.713013       molido\n",
       "19        -188.084198          272.282867       chicha\n",
       "20         182.800156           44.874187      serrano\n",
       "21         112.258766          121.120926    garbanzos\n",
       "22        -198.807190         -171.466599       fideos\n",
       "23        -119.480202          112.523926      gallina\n",
       "24         160.305618         -130.261444     galletas\n",
       "25         133.910553           21.777697        jamón\n",
       "26         238.311401          152.253891     tortilla"
      ]
     },
     "metadata": {},
     "output_type": "display_data"
    }
   ],
   "source": [
    "base=pd.DataFrame()\n",
    "base[\"primer_componente\"]=reduccion[:,0]\n",
    "base[\"segundo_componente\"]=reduccion[:,1]\n",
    "base[\"nombres\"]=palabras\n",
    "display(base)"
   ]
  },
  {
   "cell_type": "code",
   "execution_count": 19,
   "metadata": {
    "colab": {
     "base_uri": "https://localhost:8080/",
     "height": 280
    },
    "id": "oS-FnPfA8a66",
    "outputId": "efed9515-cdf2-4bec-ee84-ca7707f3107e"
   },
   "outputs": [
    {
     "data": {
      "image/png": "[encoded data removed]",
      "text/plain": [
       "<Figure size 640x480 with 1 Axes>"
      ]
     },
     "metadata": {},
     "output_type": "display_data"
    }
   ],
   "source": [
    "graf1=sns.scatterplot(x=\"primer_componente\", y=\"segundo_componente\", data=base)\n",
    "\n",
    "for line in range(0,base.shape[0]):\n",
    "     graf1.text(base.primer_componente[line]+0.01, base.segundo_componente[line], \n",
    "     base.nombres[line], horizontalalignment='left', \n",
    "     size='medium', color='black', weight='semibold')"
   ]
  }
 ],
 "metadata": {
  "colab": {
   "name": "semantico_3_we.ipynb",
   "provenance": []
  },
  "kernelspec": {
   "display_name": "Python 3 (ipykernel)",
   "language": "python",
   "name": "python3"
  },
  "language_info": {
   "codemirror_mode": {
    "name": "ipython",
    "version": 3
   },
   "file_extension": ".py",
   "mimetype": "text/x-python",
   "name": "python",
   "nbconvert_exporter": "python",
   "pygments_lexer": "ipython3",
   "version": "3.8.13"
  }
 },
 "nbformat": 4,
 "nbformat_minor": 4
}
