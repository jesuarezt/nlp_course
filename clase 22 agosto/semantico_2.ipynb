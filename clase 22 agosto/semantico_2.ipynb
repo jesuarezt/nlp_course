{
 "cells": [
  {
   "cell_type": "markdown",
   "metadata": {
    "application/vnd.databricks.v1+cell": {
     "inputWidgets": {},
     "nuid": "ab5f4dac-4f82-4ded-8d29-14125218f3fb",
     "showTitle": false,
     "title": ""
    },
    "id": "im74RVioFa0y"
   },
   "source": [
    "#Representación de los elementos del vocabulario\n",
    "El objetivo de este notebook es mostrar mecanismos que permitan representar diferentes elementos del lenguaje natural, en este caso las unidades léxicas que hacen parte del vocabulario que se haya definido (usualmente las palabras) y a partir de ellos derivar aplicaciónes de procesamiento del lenguaje natural. Trabajaremos con una representación inicial basada en la *matriz de co-ocurrencias* para pasar luego a revisar las ideas fundamentales de **word embeddings**\n"
   ]
  },
  {
   "cell_type": "code",
   "execution_count": 1,
   "metadata": {
    "application/vnd.databricks.v1+cell": {
     "inputWidgets": {},
     "nuid": "fb51bcf0-1037-438b-9c17-ed41a60546c4",
     "showTitle": false,
     "title": ""
    },
    "id": "hhJ3qzsXFa08"
   },
   "outputs": [],
   "source": [
    "import sklearn\n",
    "import os, re, string, collections, random\n",
    "import spacy\n",
    "import nltk\n",
    "import numpy, matplotlib\n",
    "import pandas as pd"
   ]
  },
  {
   "cell_type": "markdown",
   "metadata": {
    "id": "kS-sXCmnY4VL"
   },
   "source": [
    "Primero preparar el texto de forma básica"
   ]
  },
  {
   "cell_type": "code",
   "execution_count": 2,
   "metadata": {
    "colab": {
     "base_uri": "https://localhost:8080/",
     "height": 200
    },
    "id": "FVEptnouUzTx",
    "outputId": "f31a84ca-0869-4aed-d216-527e08664378"
   },
   "outputs": [
    {
     "data": {
      "text/plain": [
       "' la odisea produced by ramon pajares box carlos colon and the online distributed proofreading team at http www pgdp net nota de transcripción en el texto las cursivas se muestran entre subrayados y las versalitas se han convertido a mayúsculas los errores de imprenta han sido corregidos sin avisar se ha respetado la ortografía del original que difiere ligeramente de la actual normalizándola a la grafía de mayor frecuencia se han añadido tildes a las mayúsculas que las necesitan se han hecho los siguientes cambios canto v p vendabal vendaval canto xii p vendabal vendaval índice de nombres propios p voz neoptólemo hijo de ulises hijo de aquiles algunas ilustraciones se han desplazado ligeramente para evitar que interrumpieran un párrafo la odisea ilustración homero la odisea versión directa y literal del griego por luis segalá y estalella doctor en filosofía y letras y en derecho catedrático de lengua y literatura griegas de la universidad de barcelona académico electo de la real de buen'"
      ]
     },
     "execution_count": 2,
     "metadata": {},
     "output_type": "execute_result"
    }
   ],
   "source": [
    "abre=open(\"odisea.txt\",encoding=\"UTF-8\")\n",
    "base=abre.read()\n",
    "##inicio y final\n",
    "inicio=\"EBOOK\"\n",
    "init=base.find(inicio)\n",
    "finale=base.find(\"END OF\")\n",
    "base2=base[init+len(inicio):finale]\n",
    "##limpieza\n",
    "base2a = re.sub (\"\\n|\\t|\\W|\\d|_\",\" \",base2)\n",
    "base2b=re.sub (\" +\",\" \",base2a)\n",
    "##paso a minusculas\n",
    "base3=base2b.lower()\n",
    "base3[0:1000]"
   ]
  },
  {
   "cell_type": "markdown",
   "metadata": {
    "id": "d0No6cl2ZXGx"
   },
   "source": [
    "## Matriz de co-ocurrencias\n",
    "En mla preparación de texto no vamos a retirar los stopwords. Ellos son funcionales para el cálculo de métricas como el PMI. Como veremos si resulta funcional eliminar la puntuación, pues no debería contar como token a la hora de representar los elementos del vocabulario y al no realizar un análisis sintáctico no la requeriremos."
   ]
  },
  {
   "cell_type": "code",
   "execution_count": 3,
   "metadata": {
    "colab": {
     "base_uri": "https://localhost:8080/"
    },
    "id": "Zk6EfpYyVdY_",
    "outputId": "c8a17f95-6252-48ae-d04d-3095b96a0a8e"
   },
   "outputs": [
    {
     "name": "stderr",
     "output_type": "stream",
     "text": [
      "[nltk_data] Downloading package punkt to /Users/habi/nltk_data...\n",
      "[nltk_data]   Package punkt is already up-to-date!\n",
      "[nltk_data] Downloading package stopwords to /Users/habi/nltk_data...\n",
      "[nltk_data]   Package stopwords is already up-to-date!\n"
     ]
    }
   ],
   "source": [
    "\n",
    "nltk.download(\"punkt\")\n",
    "nltk.download(\"stopwords\")\n",
    "fichas2=nltk.tokenize.word_tokenize(base3,language=\"spanish\")\n",
    "libroquijote=nltk.Text(fichas2)\n"
   ]
  },
  {
   "cell_type": "code",
   "execution_count": 4,
   "metadata": {
    "colab": {
     "base_uri": "https://localhost:8080/"
    },
    "id": "3e7G64sybOz4",
    "outputId": "b3698e73-cab7-49fc-826a-b9813c984e1c"
   },
   "outputs": [
    {
     "data": {
      "text/plain": [
       "['más',\n",
       " 'adiciones',\n",
       " 'que',\n",
       " 'las',\n",
       " 'necesarias',\n",
       " 'para',\n",
       " 'su',\n",
       " 'cabal',\n",
       " 'inteligencia',\n",
       " 'vertiendo',\n",
       " 'hasta',\n",
       " 'las',\n",
       " 'circunlocuciones',\n",
       " 'cuando',\n",
       " 'son',\n",
       " 'inteligibles',\n",
       " 'y',\n",
       " 'constituyen',\n",
       " 'un',\n",
       " 'modo',\n",
       " 'respetuoso',\n",
       " 'de',\n",
       " 'nombrar',\n",
       " 'á',\n",
       " 'determinados',\n",
       " 'personajes',\n",
       " 'ἱερὸν',\n",
       " 'μένος',\n",
       " 'ἀλκινόοιο',\n",
       " 'la',\n",
       " 'sacra',\n",
       " 'potestad',\n",
       " 'de',\n",
       " 'alcínoo',\n",
       " 'para',\n",
       " 'designar',\n",
       " 'al',\n",
       " 'rey',\n",
       " 'de',\n",
       " 'los',\n",
       " 'feacios',\n",
       " 'etc',\n",
       " 'en',\n",
       " 'lo',\n",
       " 'que',\n",
       " 'se',\n",
       " 'refiere',\n",
       " 'á',\n",
       " 'los',\n",
       " 'epítetos',\n",
       " 'hubiéramos',\n",
       " 'querido',\n",
       " 'seguir',\n",
       " 'el',\n",
       " 'consejo',\n",
       " 'que',\n",
       " 'nos',\n",
       " 'dió',\n",
       " 'la',\n",
       " 'real',\n",
       " 'academia',\n",
       " 'española',\n",
       " 'en',\n",
       " 'su',\n",
       " 'dictamen',\n",
       " 'acerca',\n",
       " 'de',\n",
       " 'la',\n",
       " 'versión',\n",
       " 'de',\n",
       " 'la',\n",
       " 'ilíada',\n",
       " 'de',\n",
       " 'que',\n",
       " 'se',\n",
       " 'traduzcan',\n",
       " 'los',\n",
       " 'compuestos',\n",
       " 'por',\n",
       " 'otros',\n",
       " 'análogos',\n",
       " 'que',\n",
       " 'se',\n",
       " 'podrían',\n",
       " 'formar',\n",
       " 'en',\n",
       " 'castellano',\n",
       " 'como',\n",
       " 'por',\n",
       " 'ejemplo',\n",
       " 'bracinívea',\n",
       " 'ojilúcida',\n",
       " 'y',\n",
       " 'argentípeda',\n",
       " 'que',\n",
       " 'hemos',\n",
       " 'usado',\n",
       " 'en',\n",
       " 'nuestra',\n",
       " 'reciente',\n",
       " 'traducción',\n",
       " 'de',\n",
       " 'la',\n",
       " 'teogonía',\n",
       " 'de',\n",
       " 'hesíodo',\n",
       " 'para',\n",
       " 'interpretar',\n",
       " 'las',\n",
       " 'palabras',\n",
       " 'λευκώλενος',\n",
       " 'γλαυκῶπις',\n",
       " 'y',\n",
       " 'ἀργυρόπεζα',\n",
       " 'que',\n",
       " 'son',\n",
       " 'epítetos',\n",
       " 'de',\n",
       " 'las',\n",
       " 'diosas',\n",
       " 'juno',\n",
       " 'minerva',\n",
       " 'y',\n",
       " 'tetis',\n",
       " 'pero',\n",
       " 'la',\n",
       " 'necesidad',\n",
       " 'de',\n",
       " 'acomodarnos',\n",
       " 'al',\n",
       " 'sistema',\n",
       " 'adoptado',\n",
       " 'en',\n",
       " 'la',\n",
       " 'versión',\n",
       " 'de',\n",
       " 'la',\n",
       " 'ilíada',\n",
       " 'y',\n",
       " 'la',\n",
       " 'conveniencia',\n",
       " 'de',\n",
       " 'aplicar',\n",
       " 'el',\n",
       " 'procedimiento',\n",
       " 'recomendado',\n",
       " 'por',\n",
       " 'la',\n",
       " 'real',\n",
       " 'academia',\n",
       " 'á',\n",
       " 'todos',\n",
       " 'los',\n",
       " 'epítetos',\n",
       " 'aprovechando',\n",
       " 'los',\n",
       " 'que',\n",
       " 'se',\n",
       " 'hallen',\n",
       " 'traducidos',\n",
       " 'en',\n",
       " 'los',\n",
       " 'autores',\n",
       " 'clásicos',\n",
       " 'castellanos',\n",
       " 'y',\n",
       " 'forjando',\n",
       " 'los',\n",
       " 'demás',\n",
       " 'al',\n",
       " 'tenor',\n",
       " 'de',\n",
       " 'las',\n",
       " 'leyes',\n",
       " 'que',\n",
       " 'en',\n",
       " 'nuestro',\n",
       " 'romance',\n",
       " 'regulan',\n",
       " 'la',\n",
       " 'formación',\n",
       " 'de',\n",
       " 'palabras',\n",
       " 'lo',\n",
       " 'cual',\n",
       " 'requería',\n",
       " 'un',\n",
       " 'estudio',\n",
       " 'que',\n",
       " 'no',\n",
       " 'nos',\n",
       " 'era',\n",
       " 'posible',\n",
       " 'hacer',\n",
       " 'en',\n",
       " 'el',\n",
       " 'breve',\n",
       " 'tiempo',\n",
       " 'de',\n",
       " 'que']"
      ]
     },
     "execution_count": 4,
     "metadata": {},
     "output_type": "execute_result"
    }
   ],
   "source": [
    "fichas2[1000:1200]"
   ]
  },
  {
   "cell_type": "markdown",
   "metadata": {
    "id": "hi1yPfc-7mjx"
   },
   "source": [
    "## Matriz de co-ocurrencias\n",
    "Vamos a obtener los bigramas (consecutivos), calcular el PMI entre las palabras de todos los bigramas y crear una matriz que tenga el PMI para cada par de palabras. De ese modo cada palabra queda representada por el vector de PMIs con aquellas palabras que co-ocurre."
   ]
  },
  {
   "cell_type": "code",
   "execution_count": 5,
   "metadata": {
    "colab": {
     "base_uri": "https://localhost:8080/"
    },
    "id": "E5Ac9WD7WuHY",
    "outputId": "d82d27bb-df9b-476c-98bd-aa001c9950d0"
   },
   "outputs": [
    {
     "data": {
      "text/plain": [
       "(14778, 14779)"
      ]
     },
     "execution_count": 5,
     "metadata": {},
     "output_type": "execute_result"
    }
   ],
   "source": [
    "from nltk.collocations import *\n",
    "from nltk import bigrams\n",
    "\n",
    "bigram_measures = nltk.collocations.BigramAssocMeasures()\n",
    "trigram_measures = nltk.collocations.TrigramAssocMeasures()\n",
    "\n",
    "finder = BigramCollocationFinder.from_words(libroquijote)\n",
    "\n",
    "#obtenerlos con su PMI\n",
    "scored=finder.score_ngrams(bigram_measures.pmi)\n",
    "scored[0:5]\n",
    "#ordenarlos por PMI\n",
    "listabig=sorted(bigram for bigram, score in scored)\n",
    "listabig[0:100]\n",
    "len(listabig)\n",
    "##extraerlos para hacer la representación\n",
    "inicio=[]\n",
    "fin=[]\n",
    "puntaje=[]\n",
    "for i in range(0,len(scored)):\n",
    "          inicio.append(scored[i][0][0])\n",
    "          fin.append(scored[i][0][1])\n",
    "          puntaje.append(scored[i][1])\n",
    "          \n",
    "init_pmi = pd.DataFrame(\n",
    "    {'pal1': inicio,\n",
    "     'pal2': fin,\n",
    "     'puntaje': puntaje\n",
    "    })\n",
    "\n",
    "init_pmi.head(4)\n",
    "coocur=init_pmi.pivot(index=\"pal1\",columns=\"pal2\")\n",
    "coocur=coocur['puntaje'].reset_index()\n",
    "coocur.head(5)\n",
    "\n",
    "coocurt=coocur.fillna(0)\n",
    "coocurt.head(5)\n",
    "coocurt.shape\n"
   ]
  },
  {
   "cell_type": "code",
   "execution_count": 6,
   "metadata": {
    "colab": {
     "base_uri": "https://localhost:8080/",
     "height": 688
    },
    "id": "-CNSPpTkXSYK",
    "outputId": "688781fb-d606-47ec-9feb-ad87e45a1c6c"
   },
   "outputs": [
    {
     "data": {
      "text/html": [
       "<div>\n",
       "<style scoped>\n",
       "    .dataframe tbody tr th:only-of-type {\n",
       "        vertical-align: middle;\n",
       "    }\n",
       "\n",
       "    .dataframe tbody tr th {\n",
       "        vertical-align: top;\n",
       "    }\n",
       "\n",
       "    .dataframe thead th {\n",
       "        text-align: right;\n",
       "    }\n",
       "</style>\n",
       "<table border=\"1\" class=\"dataframe\">\n",
       "  <thead>\n",
       "    <tr style=\"text-align: right;\">\n",
       "      <th>pal2</th>\n",
       "      <th>pal1</th>\n",
       "      <th>a</th>\n",
       "      <th>abajo</th>\n",
       "      <th>abandona</th>\n",
       "      <th>abandonado</th>\n",
       "      <th>abandonados</th>\n",
       "      <th>abandonar</th>\n",
       "      <th>abandonaron</th>\n",
       "      <th>abandonas</th>\n",
       "      <th>abandonó</th>\n",
       "      <th>...</th>\n",
       "      <th>ὠκεανός</th>\n",
       "      <th>ὠκύαλος</th>\n",
       "      <th>ὠρίων</th>\n",
       "      <th>ὡς</th>\n",
       "      <th>ὥστε</th>\n",
       "      <th>ὦτος</th>\n",
       "      <th>ὦψ</th>\n",
       "      <th>ῥαδάμανθυς</th>\n",
       "      <th>ῥεῖθρον</th>\n",
       "      <th>ῥηξήνωρ</th>\n",
       "    </tr>\n",
       "  </thead>\n",
       "  <tbody>\n",
       "    <tr>\n",
       "      <th>0</th>\n",
       "      <td>a</td>\n",
       "      <td>0.0</td>\n",
       "      <td>0.0</td>\n",
       "      <td>0.0</td>\n",
       "      <td>0.0</td>\n",
       "      <td>0.0</td>\n",
       "      <td>0.0</td>\n",
       "      <td>0.0</td>\n",
       "      <td>0.0</td>\n",
       "      <td>0.0</td>\n",
       "      <td>...</td>\n",
       "      <td>0.0</td>\n",
       "      <td>0.0</td>\n",
       "      <td>0.0</td>\n",
       "      <td>0.0</td>\n",
       "      <td>0.0</td>\n",
       "      <td>0.0</td>\n",
       "      <td>0.0</td>\n",
       "      <td>0.0</td>\n",
       "      <td>0.0</td>\n",
       "      <td>0.0</td>\n",
       "    </tr>\n",
       "    <tr>\n",
       "      <th>1</th>\n",
       "      <td>abajo</td>\n",
       "      <td>0.0</td>\n",
       "      <td>0.0</td>\n",
       "      <td>0.0</td>\n",
       "      <td>0.0</td>\n",
       "      <td>0.0</td>\n",
       "      <td>0.0</td>\n",
       "      <td>0.0</td>\n",
       "      <td>0.0</td>\n",
       "      <td>0.0</td>\n",
       "      <td>...</td>\n",
       "      <td>0.0</td>\n",
       "      <td>0.0</td>\n",
       "      <td>0.0</td>\n",
       "      <td>0.0</td>\n",
       "      <td>0.0</td>\n",
       "      <td>0.0</td>\n",
       "      <td>0.0</td>\n",
       "      <td>0.0</td>\n",
       "      <td>0.0</td>\n",
       "      <td>0.0</td>\n",
       "    </tr>\n",
       "    <tr>\n",
       "      <th>2</th>\n",
       "      <td>abandona</td>\n",
       "      <td>0.0</td>\n",
       "      <td>0.0</td>\n",
       "      <td>0.0</td>\n",
       "      <td>0.0</td>\n",
       "      <td>0.0</td>\n",
       "      <td>0.0</td>\n",
       "      <td>0.0</td>\n",
       "      <td>0.0</td>\n",
       "      <td>0.0</td>\n",
       "      <td>...</td>\n",
       "      <td>0.0</td>\n",
       "      <td>0.0</td>\n",
       "      <td>0.0</td>\n",
       "      <td>0.0</td>\n",
       "      <td>0.0</td>\n",
       "      <td>0.0</td>\n",
       "      <td>0.0</td>\n",
       "      <td>0.0</td>\n",
       "      <td>0.0</td>\n",
       "      <td>0.0</td>\n",
       "    </tr>\n",
       "    <tr>\n",
       "      <th>3</th>\n",
       "      <td>abandonado</td>\n",
       "      <td>0.0</td>\n",
       "      <td>0.0</td>\n",
       "      <td>0.0</td>\n",
       "      <td>0.0</td>\n",
       "      <td>0.0</td>\n",
       "      <td>0.0</td>\n",
       "      <td>0.0</td>\n",
       "      <td>0.0</td>\n",
       "      <td>0.0</td>\n",
       "      <td>...</td>\n",
       "      <td>0.0</td>\n",
       "      <td>0.0</td>\n",
       "      <td>0.0</td>\n",
       "      <td>0.0</td>\n",
       "      <td>0.0</td>\n",
       "      <td>0.0</td>\n",
       "      <td>0.0</td>\n",
       "      <td>0.0</td>\n",
       "      <td>0.0</td>\n",
       "      <td>0.0</td>\n",
       "    </tr>\n",
       "    <tr>\n",
       "      <th>4</th>\n",
       "      <td>abandonados</td>\n",
       "      <td>0.0</td>\n",
       "      <td>0.0</td>\n",
       "      <td>0.0</td>\n",
       "      <td>0.0</td>\n",
       "      <td>0.0</td>\n",
       "      <td>0.0</td>\n",
       "      <td>0.0</td>\n",
       "      <td>0.0</td>\n",
       "      <td>0.0</td>\n",
       "      <td>...</td>\n",
       "      <td>0.0</td>\n",
       "      <td>0.0</td>\n",
       "      <td>0.0</td>\n",
       "      <td>0.0</td>\n",
       "      <td>0.0</td>\n",
       "      <td>0.0</td>\n",
       "      <td>0.0</td>\n",
       "      <td>0.0</td>\n",
       "      <td>0.0</td>\n",
       "      <td>0.0</td>\n",
       "    </tr>\n",
       "    <tr>\n",
       "      <th>...</th>\n",
       "      <td>...</td>\n",
       "      <td>...</td>\n",
       "      <td>...</td>\n",
       "      <td>...</td>\n",
       "      <td>...</td>\n",
       "      <td>...</td>\n",
       "      <td>...</td>\n",
       "      <td>...</td>\n",
       "      <td>...</td>\n",
       "      <td>...</td>\n",
       "      <td>...</td>\n",
       "      <td>...</td>\n",
       "      <td>...</td>\n",
       "      <td>...</td>\n",
       "      <td>...</td>\n",
       "      <td>...</td>\n",
       "      <td>...</td>\n",
       "      <td>...</td>\n",
       "      <td>...</td>\n",
       "      <td>...</td>\n",
       "      <td>...</td>\n",
       "    </tr>\n",
       "    <tr>\n",
       "      <th>14773</th>\n",
       "      <td>ὦτος</td>\n",
       "      <td>0.0</td>\n",
       "      <td>0.0</td>\n",
       "      <td>0.0</td>\n",
       "      <td>0.0</td>\n",
       "      <td>0.0</td>\n",
       "      <td>0.0</td>\n",
       "      <td>0.0</td>\n",
       "      <td>0.0</td>\n",
       "      <td>0.0</td>\n",
       "      <td>...</td>\n",
       "      <td>0.0</td>\n",
       "      <td>0.0</td>\n",
       "      <td>0.0</td>\n",
       "      <td>0.0</td>\n",
       "      <td>0.0</td>\n",
       "      <td>0.0</td>\n",
       "      <td>0.0</td>\n",
       "      <td>0.0</td>\n",
       "      <td>0.0</td>\n",
       "      <td>0.0</td>\n",
       "    </tr>\n",
       "    <tr>\n",
       "      <th>14774</th>\n",
       "      <td>ὦψ</td>\n",
       "      <td>0.0</td>\n",
       "      <td>0.0</td>\n",
       "      <td>0.0</td>\n",
       "      <td>0.0</td>\n",
       "      <td>0.0</td>\n",
       "      <td>0.0</td>\n",
       "      <td>0.0</td>\n",
       "      <td>0.0</td>\n",
       "      <td>0.0</td>\n",
       "      <td>...</td>\n",
       "      <td>0.0</td>\n",
       "      <td>0.0</td>\n",
       "      <td>0.0</td>\n",
       "      <td>0.0</td>\n",
       "      <td>0.0</td>\n",
       "      <td>0.0</td>\n",
       "      <td>0.0</td>\n",
       "      <td>0.0</td>\n",
       "      <td>0.0</td>\n",
       "      <td>0.0</td>\n",
       "    </tr>\n",
       "    <tr>\n",
       "      <th>14775</th>\n",
       "      <td>ῥαδάμανθυς</td>\n",
       "      <td>0.0</td>\n",
       "      <td>0.0</td>\n",
       "      <td>0.0</td>\n",
       "      <td>0.0</td>\n",
       "      <td>0.0</td>\n",
       "      <td>0.0</td>\n",
       "      <td>0.0</td>\n",
       "      <td>0.0</td>\n",
       "      <td>0.0</td>\n",
       "      <td>...</td>\n",
       "      <td>0.0</td>\n",
       "      <td>0.0</td>\n",
       "      <td>0.0</td>\n",
       "      <td>0.0</td>\n",
       "      <td>0.0</td>\n",
       "      <td>0.0</td>\n",
       "      <td>0.0</td>\n",
       "      <td>0.0</td>\n",
       "      <td>0.0</td>\n",
       "      <td>0.0</td>\n",
       "    </tr>\n",
       "    <tr>\n",
       "      <th>14776</th>\n",
       "      <td>ῥεῖθρον</td>\n",
       "      <td>0.0</td>\n",
       "      <td>0.0</td>\n",
       "      <td>0.0</td>\n",
       "      <td>0.0</td>\n",
       "      <td>0.0</td>\n",
       "      <td>0.0</td>\n",
       "      <td>0.0</td>\n",
       "      <td>0.0</td>\n",
       "      <td>0.0</td>\n",
       "      <td>...</td>\n",
       "      <td>0.0</td>\n",
       "      <td>0.0</td>\n",
       "      <td>0.0</td>\n",
       "      <td>0.0</td>\n",
       "      <td>0.0</td>\n",
       "      <td>0.0</td>\n",
       "      <td>0.0</td>\n",
       "      <td>0.0</td>\n",
       "      <td>0.0</td>\n",
       "      <td>0.0</td>\n",
       "    </tr>\n",
       "    <tr>\n",
       "      <th>14777</th>\n",
       "      <td>ῥηξήνωρ</td>\n",
       "      <td>0.0</td>\n",
       "      <td>0.0</td>\n",
       "      <td>0.0</td>\n",
       "      <td>0.0</td>\n",
       "      <td>0.0</td>\n",
       "      <td>0.0</td>\n",
       "      <td>0.0</td>\n",
       "      <td>0.0</td>\n",
       "      <td>0.0</td>\n",
       "      <td>...</td>\n",
       "      <td>0.0</td>\n",
       "      <td>0.0</td>\n",
       "      <td>0.0</td>\n",
       "      <td>0.0</td>\n",
       "      <td>0.0</td>\n",
       "      <td>0.0</td>\n",
       "      <td>0.0</td>\n",
       "      <td>0.0</td>\n",
       "      <td>0.0</td>\n",
       "      <td>0.0</td>\n",
       "    </tr>\n",
       "  </tbody>\n",
       "</table>\n",
       "<p>14778 rows × 14779 columns</p>\n",
       "</div>"
      ],
      "text/plain": [
       "pal2          pal1    a  abajo  abandona  abandonado  abandonados  abandonar  \\\n",
       "0                a  0.0    0.0       0.0         0.0          0.0        0.0   \n",
       "1            abajo  0.0    0.0       0.0         0.0          0.0        0.0   \n",
       "2         abandona  0.0    0.0       0.0         0.0          0.0        0.0   \n",
       "3       abandonado  0.0    0.0       0.0         0.0          0.0        0.0   \n",
       "4      abandonados  0.0    0.0       0.0         0.0          0.0        0.0   \n",
       "...            ...  ...    ...       ...         ...          ...        ...   \n",
       "14773         ὦτος  0.0    0.0       0.0         0.0          0.0        0.0   \n",
       "14774           ὦψ  0.0    0.0       0.0         0.0          0.0        0.0   \n",
       "14775   ῥαδάμανθυς  0.0    0.0       0.0         0.0          0.0        0.0   \n",
       "14776      ῥεῖθρον  0.0    0.0       0.0         0.0          0.0        0.0   \n",
       "14777      ῥηξήνωρ  0.0    0.0       0.0         0.0          0.0        0.0   \n",
       "\n",
       "pal2   abandonaron  abandonas  abandonó  ...  ὠκεανός  ὠκύαλος  ὠρίων   ὡς  \\\n",
       "0              0.0        0.0       0.0  ...      0.0      0.0    0.0  0.0   \n",
       "1              0.0        0.0       0.0  ...      0.0      0.0    0.0  0.0   \n",
       "2              0.0        0.0       0.0  ...      0.0      0.0    0.0  0.0   \n",
       "3              0.0        0.0       0.0  ...      0.0      0.0    0.0  0.0   \n",
       "4              0.0        0.0       0.0  ...      0.0      0.0    0.0  0.0   \n",
       "...            ...        ...       ...  ...      ...      ...    ...  ...   \n",
       "14773          0.0        0.0       0.0  ...      0.0      0.0    0.0  0.0   \n",
       "14774          0.0        0.0       0.0  ...      0.0      0.0    0.0  0.0   \n",
       "14775          0.0        0.0       0.0  ...      0.0      0.0    0.0  0.0   \n",
       "14776          0.0        0.0       0.0  ...      0.0      0.0    0.0  0.0   \n",
       "14777          0.0        0.0       0.0  ...      0.0      0.0    0.0  0.0   \n",
       "\n",
       "pal2   ὥστε  ὦτος   ὦψ  ῥαδάμανθυς  ῥεῖθρον  ῥηξήνωρ  \n",
       "0       0.0   0.0  0.0         0.0      0.0      0.0  \n",
       "1       0.0   0.0  0.0         0.0      0.0      0.0  \n",
       "2       0.0   0.0  0.0         0.0      0.0      0.0  \n",
       "3       0.0   0.0  0.0         0.0      0.0      0.0  \n",
       "4       0.0   0.0  0.0         0.0      0.0      0.0  \n",
       "...     ...   ...  ...         ...      ...      ...  \n",
       "14773   0.0   0.0  0.0         0.0      0.0      0.0  \n",
       "14774   0.0   0.0  0.0         0.0      0.0      0.0  \n",
       "14775   0.0   0.0  0.0         0.0      0.0      0.0  \n",
       "14776   0.0   0.0  0.0         0.0      0.0      0.0  \n",
       "14777   0.0   0.0  0.0         0.0      0.0      0.0  \n",
       "\n",
       "[14778 rows x 14779 columns]"
      ]
     },
     "metadata": {},
     "output_type": "display_data"
    }
   ],
   "source": [
    "display(coocurt)"
   ]
  },
  {
   "cell_type": "markdown",
   "metadata": {
    "application/vnd.databricks.v1+cell": {
     "inputWidgets": {},
     "nuid": "6b8bc6df-9ebc-4318-b19e-54fb802007e7",
     "showTitle": false,
     "title": ""
    },
    "id": "qzG9AtN9Fa0_"
   },
   "source": [
    "Bigramas directos serían muy limitados para describir una palabra. Refinemos la representación usando una ventana y eliminando posibles signos de puntuación o signos sueltos que tengamos que nos generaron dificultades en la aproximación anterior"
   ]
  },
  {
   "cell_type": "code",
   "execution_count": 7,
   "metadata": {
    "colab": {
     "base_uri": "https://localhost:8080/"
    },
    "id": "sDVFwFVBdF6V",
    "outputId": "7d4877e5-045f-4e09-d350-fca62b3700ae"
   },
   "outputs": [
    {
     "data": {
      "text/plain": [
       "(14748, 14749)"
      ]
     },
     "execution_count": 7,
     "metadata": {},
     "output_type": "execute_result"
    }
   ],
   "source": [
    "from nltk.collocations import *\n",
    "from nltk import bigrams\n",
    "\n",
    "bigram_measures = nltk.collocations.BigramAssocMeasures()\n",
    "trigram_measures = nltk.collocations.TrigramAssocMeasures()\n",
    "\n",
    "\n",
    "finderw = BigramCollocationFinder.from_words(libroquijote,window_size=5)\n",
    "finderw.apply_word_filter(lambda w: len(w) < 2)\n",
    "\n",
    "#obtenerlos con su PMI\n",
    "scoredw=finderw.score_ngrams(bigram_measures.pmi)\n",
    "#ordenarlos por PMI\n",
    "listabigw=sorted(bigram for bigram, score in scoredw)\n",
    "##extraerlos para hacer la representación\n",
    "inicio=[]\n",
    "fin=[]\n",
    "puntaje=[]\n",
    "for i in range(0,len(scoredw)):\n",
    "          inicio.append(scoredw[i][0][0])\n",
    "          fin.append(scoredw[i][0][1])\n",
    "          puntaje.append(scoredw[i][1])\n",
    "          \n",
    "init_pmiw = pd.DataFrame(\n",
    "    {'pal1': inicio,\n",
    "     'pal2': fin,\n",
    "     'puntaje': puntaje\n",
    "    })\n",
    "\n",
    "init_pmiw.head(4)\n",
    "coocurw=init_pmiw.pivot(index=\"pal1\",columns=\"pal2\")\n",
    "coocurw=coocurw['puntaje'].reset_index()\n",
    "\n",
    "coocurtw=coocurw.fillna(0)\n",
    "coocurtw.shape"
   ]
  },
  {
   "cell_type": "code",
   "execution_count": 8,
   "metadata": {
    "colab": {
     "base_uri": "https://localhost:8080/",
     "height": 688
    },
    "id": "Lbo9nCU5d-6U",
    "outputId": "2c5a48e0-1628-46bd-9046-3c5cb02c72e1"
   },
   "outputs": [
    {
     "data": {
      "text/html": [
       "<div>\n",
       "<style scoped>\n",
       "    .dataframe tbody tr th:only-of-type {\n",
       "        vertical-align: middle;\n",
       "    }\n",
       "\n",
       "    .dataframe tbody tr th {\n",
       "        vertical-align: top;\n",
       "    }\n",
       "\n",
       "    .dataframe thead th {\n",
       "        text-align: right;\n",
       "    }\n",
       "</style>\n",
       "<table border=\"1\" class=\"dataframe\">\n",
       "  <thead>\n",
       "    <tr style=\"text-align: right;\">\n",
       "      <th>pal2</th>\n",
       "      <th>pal1</th>\n",
       "      <th>abajo</th>\n",
       "      <th>abandona</th>\n",
       "      <th>abandonado</th>\n",
       "      <th>abandonados</th>\n",
       "      <th>abandonar</th>\n",
       "      <th>abandonaron</th>\n",
       "      <th>abandonas</th>\n",
       "      <th>abandonó</th>\n",
       "      <th>abastecida</th>\n",
       "      <th>...</th>\n",
       "      <th>ὠκεανός</th>\n",
       "      <th>ὠκύαλος</th>\n",
       "      <th>ὠρίων</th>\n",
       "      <th>ὡς</th>\n",
       "      <th>ὥστε</th>\n",
       "      <th>ὦτος</th>\n",
       "      <th>ὦψ</th>\n",
       "      <th>ῥαδάμανθυς</th>\n",
       "      <th>ῥεῖθρον</th>\n",
       "      <th>ῥηξήνωρ</th>\n",
       "    </tr>\n",
       "  </thead>\n",
       "  <tbody>\n",
       "    <tr>\n",
       "      <th>0</th>\n",
       "      <td>abajo</td>\n",
       "      <td>0.0</td>\n",
       "      <td>0.0</td>\n",
       "      <td>0.0</td>\n",
       "      <td>0.0</td>\n",
       "      <td>0.0</td>\n",
       "      <td>0.0</td>\n",
       "      <td>0.0</td>\n",
       "      <td>0.0</td>\n",
       "      <td>0.0</td>\n",
       "      <td>...</td>\n",
       "      <td>0.0</td>\n",
       "      <td>0.0</td>\n",
       "      <td>0.0</td>\n",
       "      <td>0.0</td>\n",
       "      <td>0.0</td>\n",
       "      <td>0.0</td>\n",
       "      <td>0.0</td>\n",
       "      <td>0.0</td>\n",
       "      <td>0.0</td>\n",
       "      <td>0.0</td>\n",
       "    </tr>\n",
       "    <tr>\n",
       "      <th>1</th>\n",
       "      <td>abandona</td>\n",
       "      <td>0.0</td>\n",
       "      <td>0.0</td>\n",
       "      <td>0.0</td>\n",
       "      <td>0.0</td>\n",
       "      <td>0.0</td>\n",
       "      <td>0.0</td>\n",
       "      <td>0.0</td>\n",
       "      <td>0.0</td>\n",
       "      <td>0.0</td>\n",
       "      <td>...</td>\n",
       "      <td>0.0</td>\n",
       "      <td>0.0</td>\n",
       "      <td>0.0</td>\n",
       "      <td>0.0</td>\n",
       "      <td>0.0</td>\n",
       "      <td>0.0</td>\n",
       "      <td>0.0</td>\n",
       "      <td>0.0</td>\n",
       "      <td>0.0</td>\n",
       "      <td>0.0</td>\n",
       "    </tr>\n",
       "    <tr>\n",
       "      <th>2</th>\n",
       "      <td>abandonado</td>\n",
       "      <td>0.0</td>\n",
       "      <td>0.0</td>\n",
       "      <td>0.0</td>\n",
       "      <td>0.0</td>\n",
       "      <td>0.0</td>\n",
       "      <td>0.0</td>\n",
       "      <td>0.0</td>\n",
       "      <td>0.0</td>\n",
       "      <td>0.0</td>\n",
       "      <td>...</td>\n",
       "      <td>0.0</td>\n",
       "      <td>0.0</td>\n",
       "      <td>0.0</td>\n",
       "      <td>0.0</td>\n",
       "      <td>0.0</td>\n",
       "      <td>0.0</td>\n",
       "      <td>0.0</td>\n",
       "      <td>0.0</td>\n",
       "      <td>0.0</td>\n",
       "      <td>0.0</td>\n",
       "    </tr>\n",
       "    <tr>\n",
       "      <th>3</th>\n",
       "      <td>abandonados</td>\n",
       "      <td>0.0</td>\n",
       "      <td>0.0</td>\n",
       "      <td>0.0</td>\n",
       "      <td>0.0</td>\n",
       "      <td>0.0</td>\n",
       "      <td>0.0</td>\n",
       "      <td>0.0</td>\n",
       "      <td>0.0</td>\n",
       "      <td>0.0</td>\n",
       "      <td>...</td>\n",
       "      <td>0.0</td>\n",
       "      <td>0.0</td>\n",
       "      <td>0.0</td>\n",
       "      <td>0.0</td>\n",
       "      <td>0.0</td>\n",
       "      <td>0.0</td>\n",
       "      <td>0.0</td>\n",
       "      <td>0.0</td>\n",
       "      <td>0.0</td>\n",
       "      <td>0.0</td>\n",
       "    </tr>\n",
       "    <tr>\n",
       "      <th>4</th>\n",
       "      <td>abandonar</td>\n",
       "      <td>0.0</td>\n",
       "      <td>0.0</td>\n",
       "      <td>0.0</td>\n",
       "      <td>0.0</td>\n",
       "      <td>0.0</td>\n",
       "      <td>0.0</td>\n",
       "      <td>0.0</td>\n",
       "      <td>0.0</td>\n",
       "      <td>0.0</td>\n",
       "      <td>...</td>\n",
       "      <td>0.0</td>\n",
       "      <td>0.0</td>\n",
       "      <td>0.0</td>\n",
       "      <td>0.0</td>\n",
       "      <td>0.0</td>\n",
       "      <td>0.0</td>\n",
       "      <td>0.0</td>\n",
       "      <td>0.0</td>\n",
       "      <td>0.0</td>\n",
       "      <td>0.0</td>\n",
       "    </tr>\n",
       "    <tr>\n",
       "      <th>...</th>\n",
       "      <td>...</td>\n",
       "      <td>...</td>\n",
       "      <td>...</td>\n",
       "      <td>...</td>\n",
       "      <td>...</td>\n",
       "      <td>...</td>\n",
       "      <td>...</td>\n",
       "      <td>...</td>\n",
       "      <td>...</td>\n",
       "      <td>...</td>\n",
       "      <td>...</td>\n",
       "      <td>...</td>\n",
       "      <td>...</td>\n",
       "      <td>...</td>\n",
       "      <td>...</td>\n",
       "      <td>...</td>\n",
       "      <td>...</td>\n",
       "      <td>...</td>\n",
       "      <td>...</td>\n",
       "      <td>...</td>\n",
       "      <td>...</td>\n",
       "    </tr>\n",
       "    <tr>\n",
       "      <th>14743</th>\n",
       "      <td>ὦτος</td>\n",
       "      <td>0.0</td>\n",
       "      <td>0.0</td>\n",
       "      <td>0.0</td>\n",
       "      <td>0.0</td>\n",
       "      <td>0.0</td>\n",
       "      <td>0.0</td>\n",
       "      <td>0.0</td>\n",
       "      <td>0.0</td>\n",
       "      <td>0.0</td>\n",
       "      <td>...</td>\n",
       "      <td>0.0</td>\n",
       "      <td>0.0</td>\n",
       "      <td>0.0</td>\n",
       "      <td>0.0</td>\n",
       "      <td>0.0</td>\n",
       "      <td>0.0</td>\n",
       "      <td>0.0</td>\n",
       "      <td>0.0</td>\n",
       "      <td>0.0</td>\n",
       "      <td>0.0</td>\n",
       "    </tr>\n",
       "    <tr>\n",
       "      <th>14744</th>\n",
       "      <td>ὦψ</td>\n",
       "      <td>0.0</td>\n",
       "      <td>0.0</td>\n",
       "      <td>0.0</td>\n",
       "      <td>0.0</td>\n",
       "      <td>0.0</td>\n",
       "      <td>0.0</td>\n",
       "      <td>0.0</td>\n",
       "      <td>0.0</td>\n",
       "      <td>0.0</td>\n",
       "      <td>...</td>\n",
       "      <td>0.0</td>\n",
       "      <td>0.0</td>\n",
       "      <td>0.0</td>\n",
       "      <td>0.0</td>\n",
       "      <td>0.0</td>\n",
       "      <td>0.0</td>\n",
       "      <td>0.0</td>\n",
       "      <td>0.0</td>\n",
       "      <td>0.0</td>\n",
       "      <td>0.0</td>\n",
       "    </tr>\n",
       "    <tr>\n",
       "      <th>14745</th>\n",
       "      <td>ῥαδάμανθυς</td>\n",
       "      <td>0.0</td>\n",
       "      <td>0.0</td>\n",
       "      <td>0.0</td>\n",
       "      <td>0.0</td>\n",
       "      <td>0.0</td>\n",
       "      <td>0.0</td>\n",
       "      <td>0.0</td>\n",
       "      <td>0.0</td>\n",
       "      <td>0.0</td>\n",
       "      <td>...</td>\n",
       "      <td>0.0</td>\n",
       "      <td>0.0</td>\n",
       "      <td>0.0</td>\n",
       "      <td>0.0</td>\n",
       "      <td>0.0</td>\n",
       "      <td>0.0</td>\n",
       "      <td>0.0</td>\n",
       "      <td>0.0</td>\n",
       "      <td>0.0</td>\n",
       "      <td>0.0</td>\n",
       "    </tr>\n",
       "    <tr>\n",
       "      <th>14746</th>\n",
       "      <td>ῥεῖθρον</td>\n",
       "      <td>0.0</td>\n",
       "      <td>0.0</td>\n",
       "      <td>0.0</td>\n",
       "      <td>0.0</td>\n",
       "      <td>0.0</td>\n",
       "      <td>0.0</td>\n",
       "      <td>0.0</td>\n",
       "      <td>0.0</td>\n",
       "      <td>0.0</td>\n",
       "      <td>...</td>\n",
       "      <td>0.0</td>\n",
       "      <td>0.0</td>\n",
       "      <td>0.0</td>\n",
       "      <td>0.0</td>\n",
       "      <td>0.0</td>\n",
       "      <td>0.0</td>\n",
       "      <td>0.0</td>\n",
       "      <td>0.0</td>\n",
       "      <td>0.0</td>\n",
       "      <td>0.0</td>\n",
       "    </tr>\n",
       "    <tr>\n",
       "      <th>14747</th>\n",
       "      <td>ῥηξήνωρ</td>\n",
       "      <td>0.0</td>\n",
       "      <td>0.0</td>\n",
       "      <td>0.0</td>\n",
       "      <td>0.0</td>\n",
       "      <td>0.0</td>\n",
       "      <td>0.0</td>\n",
       "      <td>0.0</td>\n",
       "      <td>0.0</td>\n",
       "      <td>0.0</td>\n",
       "      <td>...</td>\n",
       "      <td>0.0</td>\n",
       "      <td>0.0</td>\n",
       "      <td>0.0</td>\n",
       "      <td>0.0</td>\n",
       "      <td>0.0</td>\n",
       "      <td>0.0</td>\n",
       "      <td>0.0</td>\n",
       "      <td>0.0</td>\n",
       "      <td>0.0</td>\n",
       "      <td>0.0</td>\n",
       "    </tr>\n",
       "  </tbody>\n",
       "</table>\n",
       "<p>14748 rows × 14749 columns</p>\n",
       "</div>"
      ],
      "text/plain": [
       "pal2          pal1  abajo  abandona  abandonado  abandonados  abandonar  \\\n",
       "0            abajo    0.0       0.0         0.0          0.0        0.0   \n",
       "1         abandona    0.0       0.0         0.0          0.0        0.0   \n",
       "2       abandonado    0.0       0.0         0.0          0.0        0.0   \n",
       "3      abandonados    0.0       0.0         0.0          0.0        0.0   \n",
       "4        abandonar    0.0       0.0         0.0          0.0        0.0   \n",
       "...            ...    ...       ...         ...          ...        ...   \n",
       "14743         ὦτος    0.0       0.0         0.0          0.0        0.0   \n",
       "14744           ὦψ    0.0       0.0         0.0          0.0        0.0   \n",
       "14745   ῥαδάμανθυς    0.0       0.0         0.0          0.0        0.0   \n",
       "14746      ῥεῖθρον    0.0       0.0         0.0          0.0        0.0   \n",
       "14747      ῥηξήνωρ    0.0       0.0         0.0          0.0        0.0   \n",
       "\n",
       "pal2   abandonaron  abandonas  abandonó  abastecida  ...  ὠκεανός  ὠκύαλος  \\\n",
       "0              0.0        0.0       0.0         0.0  ...      0.0      0.0   \n",
       "1              0.0        0.0       0.0         0.0  ...      0.0      0.0   \n",
       "2              0.0        0.0       0.0         0.0  ...      0.0      0.0   \n",
       "3              0.0        0.0       0.0         0.0  ...      0.0      0.0   \n",
       "4              0.0        0.0       0.0         0.0  ...      0.0      0.0   \n",
       "...            ...        ...       ...         ...  ...      ...      ...   \n",
       "14743          0.0        0.0       0.0         0.0  ...      0.0      0.0   \n",
       "14744          0.0        0.0       0.0         0.0  ...      0.0      0.0   \n",
       "14745          0.0        0.0       0.0         0.0  ...      0.0      0.0   \n",
       "14746          0.0        0.0       0.0         0.0  ...      0.0      0.0   \n",
       "14747          0.0        0.0       0.0         0.0  ...      0.0      0.0   \n",
       "\n",
       "pal2   ὠρίων   ὡς  ὥστε  ὦτος   ὦψ  ῥαδάμανθυς  ῥεῖθρον  ῥηξήνωρ  \n",
       "0        0.0  0.0   0.0   0.0  0.0         0.0      0.0      0.0  \n",
       "1        0.0  0.0   0.0   0.0  0.0         0.0      0.0      0.0  \n",
       "2        0.0  0.0   0.0   0.0  0.0         0.0      0.0      0.0  \n",
       "3        0.0  0.0   0.0   0.0  0.0         0.0      0.0      0.0  \n",
       "4        0.0  0.0   0.0   0.0  0.0         0.0      0.0      0.0  \n",
       "...      ...  ...   ...   ...  ...         ...      ...      ...  \n",
       "14743    0.0  0.0   0.0   0.0  0.0         0.0      0.0      0.0  \n",
       "14744    0.0  0.0   0.0   0.0  0.0         0.0      0.0      0.0  \n",
       "14745    0.0  0.0   0.0   0.0  0.0         0.0      0.0      0.0  \n",
       "14746    0.0  0.0   0.0   0.0  0.0         0.0      0.0      0.0  \n",
       "14747    0.0  0.0   0.0   0.0  0.0         0.0      0.0      0.0  \n",
       "\n",
       "[14748 rows x 14749 columns]"
      ]
     },
     "metadata": {},
     "output_type": "display_data"
    }
   ],
   "source": [
    "display(coocurtw)\n"
   ]
  },
  {
   "cell_type": "markdown",
   "metadata": {
    "id": "glA5EbwV8CbN"
   },
   "source": [
    "!Ya tenemos representaciones de palabras! Estas representaciones son semánticas en su naturaleza, pues están definiendo los elementos del vocabulario (palabras) a partir de las palabras de los contextos en los que ocurre. Pero al ser una representación numérica, ya podemos tratar de ver que tan semánticamente parecidas son dos palabras:"
   ]
  },
  {
   "cell_type": "code",
   "execution_count": 9,
   "metadata": {
    "colab": {
     "base_uri": "https://localhost:8080/",
     "height": 174
    },
    "id": "BLxNpj5DlGdY",
    "outputId": "9db7ef28-9f4d-4008-8f27-2d668e6e1da3"
   },
   "outputs": [
    {
     "data": {
      "text/html": [
       "<div>\n",
       "<style scoped>\n",
       "    .dataframe tbody tr th:only-of-type {\n",
       "        vertical-align: middle;\n",
       "    }\n",
       "\n",
       "    .dataframe tbody tr th {\n",
       "        vertical-align: top;\n",
       "    }\n",
       "\n",
       "    .dataframe thead th {\n",
       "        text-align: right;\n",
       "    }\n",
       "</style>\n",
       "<table border=\"1\" class=\"dataframe\">\n",
       "  <thead>\n",
       "    <tr style=\"text-align: right;\">\n",
       "      <th>pal2</th>\n",
       "      <th>abajo</th>\n",
       "      <th>abandona</th>\n",
       "      <th>abandonado</th>\n",
       "      <th>abandonados</th>\n",
       "      <th>abandonar</th>\n",
       "      <th>abandonaron</th>\n",
       "      <th>abandonas</th>\n",
       "      <th>abandonó</th>\n",
       "      <th>abastecida</th>\n",
       "      <th>abastecidas</th>\n",
       "      <th>...</th>\n",
       "      <th>ὠκεανός</th>\n",
       "      <th>ὠκύαλος</th>\n",
       "      <th>ὠρίων</th>\n",
       "      <th>ὡς</th>\n",
       "      <th>ὥστε</th>\n",
       "      <th>ὦτος</th>\n",
       "      <th>ὦψ</th>\n",
       "      <th>ῥαδάμανθυς</th>\n",
       "      <th>ῥεῖθρον</th>\n",
       "      <th>ῥηξήνωρ</th>\n",
       "    </tr>\n",
       "  </thead>\n",
       "  <tbody>\n",
       "    <tr>\n",
       "      <th>7587</th>\n",
       "      <td>0.0</td>\n",
       "      <td>0.0</td>\n",
       "      <td>0.0</td>\n",
       "      <td>0.0</td>\n",
       "      <td>0.0</td>\n",
       "      <td>0.0</td>\n",
       "      <td>0.0</td>\n",
       "      <td>0.0</td>\n",
       "      <td>0.0</td>\n",
       "      <td>0.0</td>\n",
       "      <td>...</td>\n",
       "      <td>0.0</td>\n",
       "      <td>0.0</td>\n",
       "      <td>0.0</td>\n",
       "      <td>0.0</td>\n",
       "      <td>0.0</td>\n",
       "      <td>0.0</td>\n",
       "      <td>0.0</td>\n",
       "      <td>0.0</td>\n",
       "      <td>0.0</td>\n",
       "      <td>0.0</td>\n",
       "    </tr>\n",
       "  </tbody>\n",
       "</table>\n",
       "<p>1 rows × 14748 columns</p>\n",
       "</div>"
      ],
      "text/plain": [
       "pal2  abajo  abandona  abandonado  abandonados  abandonar  abandonaron  \\\n",
       "7587    0.0       0.0         0.0          0.0        0.0          0.0   \n",
       "\n",
       "pal2  abandonas  abandonó  abastecida  abastecidas  ...  ὠκεανός  ὠκύαλος  \\\n",
       "7587        0.0       0.0         0.0          0.0  ...      0.0      0.0   \n",
       "\n",
       "pal2  ὠρίων   ὡς  ὥστε  ὦτος   ὦψ  ῥαδάμανθυς  ῥεῖθρον  ῥηξήνωρ  \n",
       "7587    0.0  0.0   0.0   0.0  0.0         0.0      0.0      0.0  \n",
       "\n",
       "[1 rows x 14748 columns]"
      ]
     },
     "metadata": {},
     "output_type": "display_data"
    }
   ],
   "source": [
    "a=coocurtw[coocurtw[\"pal1\"]==\"juno\"].iloc[:,1:14749]\n",
    "b=coocurtw[\"minerva\"].to_frame().transpose()\n",
    "display(a)"
   ]
  },
  {
   "cell_type": "markdown",
   "metadata": {
    "id": "RM53xXGZ8j-g"
   },
   "source": [
    "Aqui calculamos la distancia"
   ]
  },
  {
   "cell_type": "code",
   "execution_count": 10,
   "metadata": {
    "colab": {
     "base_uri": "https://localhost:8080/"
    },
    "id": "O3Rt8FJvk5Yq",
    "outputId": "104cd377-6525-4355-c6b2-bf16154a39d4"
   },
   "outputs": [
    {
     "data": {
      "text/plain": [
       "array([[0.02340762]])"
      ]
     },
     "execution_count": 10,
     "metadata": {},
     "output_type": "execute_result"
    }
   ],
   "source": [
    "from sklearn.metrics.pairwise import cosine_similarity\n",
    "buscando=cosine_similarity(a,b)\n",
    "buscando\n"
   ]
  },
  {
   "cell_type": "markdown",
   "metadata": {
    "id": "OW73JO4N8oIn"
   },
   "source": [
    "Ahora el interés es buscar la palabra que más se relacione con una palabra dada. En este caso usaremos la diosa Minerva."
   ]
  },
  {
   "cell_type": "code",
   "execution_count": 11,
   "metadata": {
    "colab": {
     "base_uri": "https://localhost:8080/"
    },
    "id": "8NvaMiHqr4ME",
    "outputId": "88486f97-c119-4e7b-b976-7cfee297616a"
   },
   "outputs": [
    {
     "data": {
      "text/plain": [
       "8646"
      ]
     },
     "execution_count": 11,
     "metadata": {},
     "output_type": "execute_result"
    }
   ],
   "source": [
    "coocurtw.columns.get_loc(\"minerva\")"
   ]
  },
  {
   "cell_type": "markdown",
   "metadata": {
    "id": "PHe55dhA83sA"
   },
   "source": [
    "Aqui obtenemos la palabra (entre las primeras 8000) que más se *parece semánticamente* a Minerva o que co-ocurre más de lo esperado"
   ]
  },
  {
   "cell_type": "code",
   "execution_count": 12,
   "metadata": {
    "id": "tDwNU5CUpGpq"
   },
   "outputs": [
    {
     "data": {
      "text/plain": [
       "'deidad'"
      ]
     },
     "execution_count": 12,
     "metadata": {},
     "output_type": "execute_result"
    }
   ],
   "source": [
    "import numpy as np\n",
    "a1=coocurtw.iloc[:,1:8000].transpose()\n",
    "b1=coocurtw[\"minerva\"].to_frame().transpose()\n",
    "todominerva=cosine_similarity(a1,b1)\n",
    "coocurtw.columns[np.argmax(todominerva)+1]"
   ]
  },
  {
   "cell_type": "markdown",
   "metadata": {
    "id": "p0eo-eff9DYM"
   },
   "source": [
    "## Word embeddings\n",
    "Extendiendo la idea presentada en la matriz de co-ocurrencias, podemos entrenar una red neuronal para predecir una palabra a partir de las palabras que la rodean, en este caso con una sola capa intermedia. Los pesos de la capa final serán la representación vectorial del elemento del vocabulario (palabra). Vamos a usar gensim, y dentro de él, la estrategia Word2vec."
   ]
  },
  {
   "cell_type": "code",
   "execution_count": 14,
   "metadata": {
    "id": "BnT8-9a99ZLX"
   },
   "outputs": [],
   "source": [
    "import gensim\n",
    "from gensim.models import Word2Vec\n"
   ]
  },
  {
   "cell_type": "markdown",
   "metadata": {
    "id": "Q9TNPlmd9gN0"
   },
   "source": [
    "A word2vec debo entregarle una lista de listas de tokenes. Vamos a hacer esa preparación."
   ]
  },
  {
   "cell_type": "code",
   "execution_count": 15,
   "metadata": {
    "colab": {
     "base_uri": "https://localhost:8080/"
    },
    "id": "4_0VHcwr4FeU",
    "outputId": "de5d3f5b-a8b8-41e5-c7da-0b5e26e8be09"
   },
   "outputs": [
    {
     "data": {
      "text/plain": [
       "[' LA ODISEA ***\\n\\n\\n\\n\\nProduced by Ramon Pajares Box, Carlos Colon, and the Online\\nDistributed Proofreading Team at http://www.pgdp.net\\n\\n\\n\\n\\n\\n\\nNOTA DE TRANSCRIPCIÓN\\n\\n  * En el texto, las cursivas se muestran entre _subrayados_ y las\\n    versalitas se han convertido a MAYÚSCULAS.',\n",
       " '* Los errores de imprenta han sido corregidos sin avisar.',\n",
       " '* Se ha respetado la ortografía del original —que difiere\\n    ligeramente de la actual—, normalizándola a la grafía de mayor\\n    frecuencia.',\n",
       " '* Se han añadido tildes a las mayúsculas que las necesitan.',\n",
       " '* Se han hecho los siguientes cambios:\\n    · Canto V, 388, p. 78: «vendabal» → «vendaval».']"
      ]
     },
     "execution_count": 15,
     "metadata": {},
     "output_type": "execute_result"
    }
   ],
   "source": [
    "oraciones=nltk.tokenize.sent_tokenize(base2,language=\"spanish\")\n",
    "oraciones[0:5]\n"
   ]
  },
  {
   "cell_type": "code",
   "execution_count": 16,
   "metadata": {
    "colab": {
     "base_uri": "https://localhost:8080/"
    },
    "id": "gDPcY6bO4WqW",
    "outputId": "0b9a137f-7570-4062-dcb5-c1315e01a632"
   },
   "outputs": [
    {
     "data": {
      "text/plain": [
       "[['la',\n",
       "  'odisea',\n",
       "  'produced',\n",
       "  'by',\n",
       "  'ramon',\n",
       "  'pajares',\n",
       "  'box',\n",
       "  'carlos',\n",
       "  'colon',\n",
       "  'and',\n",
       "  'the',\n",
       "  'online',\n",
       "  'distributed',\n",
       "  'proofreading',\n",
       "  'team',\n",
       "  'at',\n",
       "  'http',\n",
       "  'www',\n",
       "  'pgdp',\n",
       "  'net',\n",
       "  'nota',\n",
       "  'de',\n",
       "  'transcripción',\n",
       "  'en',\n",
       "  'el',\n",
       "  'texto',\n",
       "  'las',\n",
       "  'cursivas',\n",
       "  'se',\n",
       "  'muestran',\n",
       "  'entre',\n",
       "  'subrayados',\n",
       "  'y',\n",
       "  'las',\n",
       "  'versalitas',\n",
       "  'se',\n",
       "  'han',\n",
       "  'convertido',\n",
       "  'a',\n",
       "  'mayúsculas'],\n",
       " ['los',\n",
       "  'errores',\n",
       "  'de',\n",
       "  'imprenta',\n",
       "  'han',\n",
       "  'sido',\n",
       "  'corregidos',\n",
       "  'sin',\n",
       "  'avisar']]"
      ]
     },
     "execution_count": 16,
     "metadata": {},
     "output_type": "execute_result"
    }
   ],
   "source": [
    "lista_tokenizada=[]\n",
    "for oracion in oraciones:\n",
    "  temp = re.sub (\"\\n|\\t|\\W|\\d|_\",\" \",oracion)\n",
    "  tempb=re.sub (\" +\",\" \",temp)\n",
    "  tempc=tempb.lower()\n",
    "  tempd=nltk.tokenize.word_tokenize(tempc,language=\"spanish\")\n",
    "  lista_tokenizada.append(tempd)\n",
    "lista_tokenizada[0:2]"
   ]
  },
  {
   "cell_type": "markdown",
   "metadata": {
    "id": "zIX1Dh789nOj"
   },
   "source": [
    "Aqui creamos el modelo. Por defecto usa vectores de tamaño 100"
   ]
  },
  {
   "cell_type": "code",
   "execution_count": 17,
   "metadata": {
    "id": "09wIkRZhve0c"
   },
   "outputs": [],
   "source": [
    "model_odisea =Word2Vec(lista_tokenizada)\n",
    "##puedo personalizar: vector_size, window,min_count"
   ]
  },
  {
   "cell_type": "markdown",
   "metadata": {
    "id": "oF4KzsqH9sDm"
   },
   "source": [
    "Veamos el vector de una palabra"
   ]
  },
  {
   "cell_type": "code",
   "execution_count": 27,
   "metadata": {},
   "outputs": [
    {
     "data": {
      "text/plain": [
       "552"
      ]
     },
     "execution_count": 27,
     "metadata": {},
     "output_type": "execute_result"
    }
   ],
   "source": [
    "model_odisea.wv.get_index('odisea')"
   ]
  },
  {
   "cell_type": "code",
   "execution_count": 28,
   "metadata": {},
   "outputs": [
    {
     "data": {
      "text/plain": [
       "array([-0.0953869 ,  0.00445574,  0.04560288,  0.04497083,  0.0275894 ,\n",
       "       -0.31675988,  0.1621222 ,  0.3490152 , -0.12602043, -0.11277045,\n",
       "        0.00134201, -0.23062575,  0.00137945,  0.1408365 , -0.02965601,\n",
       "       -0.15746975,  0.10750043, -0.08227536, -0.04062523, -0.32400414,\n",
       "        0.04240697,  0.03332417,  0.24227661, -0.05309405, -0.00308146,\n",
       "        0.09696687, -0.15863357, -0.0427324 , -0.27013588,  0.05681431,\n",
       "        0.21459074,  0.03816308,  0.07007796, -0.33261737, -0.03879885,\n",
       "        0.1740955 ,  0.07300435, -0.05948421, -0.12742233, -0.20706327,\n",
       "       -0.02998318, -0.02451136, -0.2042279 ,  0.05025825,  0.17628585,\n",
       "       -0.05042014, -0.09175882, -0.09152329,  0.09942485,  0.17020878,\n",
       "       -0.00396661, -0.146435  , -0.07872729, -0.03103036,  0.01879356,\n",
       "        0.00880099,  0.04467946, -0.10280415, -0.06044262,  0.07776451,\n",
       "        0.03334055, -0.02295815,  0.04415376,  0.02771217, -0.10716587,\n",
       "        0.25474486, -0.05913715,  0.29708475, -0.24242657,  0.13441569,\n",
       "       -0.07716352,  0.10055285,  0.2185398 ,  0.06232892,  0.1346765 ,\n",
       "       -0.04879014, -0.04966157, -0.04598524, -0.1838859 , -0.10787151,\n",
       "       -0.1673608 ,  0.08051038, -0.14991806,  0.25731415, -0.04616868,\n",
       "       -0.1087719 ,  0.14661272,  0.10560791,  0.12261225,  0.02495769,\n",
       "        0.2127131 ,  0.06515081,  0.03539188, -0.08188729,  0.34277806,\n",
       "        0.2552472 ,  0.16363662, -0.10392035, -0.09379341,  0.00448923],\n",
       "      dtype=float32)"
      ]
     },
     "execution_count": 28,
     "metadata": {},
     "output_type": "execute_result"
    }
   ],
   "source": [
    "model_odisea.wv[552]"
   ]
  },
  {
   "cell_type": "code",
   "execution_count": 18,
   "metadata": {
    "colab": {
     "base_uri": "https://localhost:8080/"
    },
    "id": "AKmAUP6F0dNX",
    "outputId": "6e987f00-87ce-4e6c-f687-17ff5c788e2d"
   },
   "outputs": [
    {
     "ename": "TypeError",
     "evalue": "'Word2Vec' object is not subscriptable",
     "output_type": "error",
     "traceback": [
      "\u001b[0;31m---------------------------------------------------------------------------\u001b[0m",
      "\u001b[0;31mTypeError\u001b[0m                                 Traceback (most recent call last)",
      "\u001b[0;32m/var/folders/p1/3s8c0dxx21bfvlztxjr_3h840000gp/T/ipykernel_19337/2562631710.py\u001b[0m in \u001b[0;36m<cell line: 1>\u001b[0;34m()\u001b[0m\n\u001b[0;32m----> 1\u001b[0;31m \u001b[0mmodel_odisea\u001b[0m\u001b[0;34m[\u001b[0m\u001b[0;34m\"odisea\"\u001b[0m\u001b[0;34m]\u001b[0m\u001b[0;34m\u001b[0m\u001b[0;34m\u001b[0m\u001b[0m\n\u001b[0m",
      "\u001b[0;31mTypeError\u001b[0m: 'Word2Vec' object is not subscriptable"
     ]
    }
   ],
   "source": [
    "# falla por tema de archivo \n",
    "#model_odisea[\"odisea\"]"
   ]
  },
  {
   "cell_type": "markdown",
   "metadata": {
    "id": "j0KHYnZE9wYX"
   },
   "source": [
    "Calculemos las palabras más similares a una palabra dada."
   ]
  },
  {
   "cell_type": "code",
   "execution_count": 33,
   "metadata": {},
   "outputs": [],
   "source": [
    "similitud = model_odisea.wv.most_similar('minerva', topn=10)"
   ]
  },
  {
   "cell_type": "code",
   "execution_count": 34,
   "metadata": {
    "colab": {
     "base_uri": "https://localhost:8080/"
    },
    "id": "60yhT-U45eoU",
    "outputId": "32518e88-e66d-4815-adce-75914aa25637"
   },
   "outputs": [
    {
     "data": {
      "text/plain": [
       "[('deidad', 0.9968965649604797),\n",
       " ('sala', 0.9963388442993164),\n",
       " ('cabeza', 0.9963260293006897),\n",
       " ('junto', 0.9960826635360718),\n",
       " ('divina', 0.9958397150039673),\n",
       " ('fuego', 0.9957824349403381),\n",
       " ('sobre', 0.9957473874092102),\n",
       " ('puso', 0.9957312345504761),\n",
       " ('lleva', 0.9957042932510376),\n",
       " ('hubieron', 0.9956851005554199)]"
      ]
     },
     "execution_count": 34,
     "metadata": {},
     "output_type": "execute_result"
    }
   ],
   "source": [
    "#similitud=model_odisea.similar_by_word(\"minerva\", topn=10)\n",
    "similitud\n",
    "##sugerencias: penélope, ulises, comida"
   ]
  },
  {
   "cell_type": "markdown",
   "metadata": {
    "id": "6WV933Y190MG"
   },
   "source": [
    "Dado el tamaño de la base de entrenamiento, los resultados son mixtos. Aun así, puedo guardarlo y seguirlo entrenando en el futuro con más datos."
   ]
  },
  {
   "cell_type": "code",
   "execution_count": 36,
   "metadata": {
    "id": "peRdVTz_60VN"
   },
   "outputs": [],
   "source": [
    "#modelo_odisea.save(\"odisea.model\")\n",
    "model_odisea.save(\"odisea.model\")"
   ]
  }
 ],
 "metadata": {
  "application/vnd.databricks.v1+notebook": {
   "dashboards": [],
   "language": "python",
   "notebookName": "NLP-2",
   "notebookOrigID": 708434827944260,
   "widgets": {}
  },
  "colab": {
   "collapsed_sections": [],
   "name": "semantico_2.ipynb",
   "provenance": []
  },
  "kernelspec": {
   "display_name": "Python 3 (ipykernel)",
   "language": "python",
   "name": "python3"
  },
  "language_info": {
   "codemirror_mode": {
    "name": "ipython",
    "version": 3
   },
   "file_extension": ".py",
   "mimetype": "text/x-python",
   "name": "python",
   "nbconvert_exporter": "python",
   "pygments_lexer": "ipython3",
   "version": "3.8.13"
  }
 },
 "nbformat": 4,
 "nbformat_minor": 4
}
