{
 "cells": [
  {
   "cell_type": "markdown",
   "id": "017037f5-05b7-4e53-b46e-55c49de92d22",
   "metadata": {},
   "source": [
    "# Trabajo Final B.  De clasificación a NER"
   ]
  },
  {
   "cell_type": "markdown",
   "id": "902946ae-afe0-4e47-8ff9-edfade62239d",
   "metadata": {},
   "source": [
    "En este trabajo final utilizarán [este dataset](https://archive.ics.uci.edu/ml/datasets/Paper+Reviews) que consiste en evaluaciones de diferentes revisores sobre papers (405). Cada evaluación ha sido etiquetada con 5 clases (muy negativo, negativo, 0, neutral, positivo y muy positivo). Este proyecto consiste en realizar una clasificación de este dataset y además identificar que parte de los comentarios hacen referencia a las clases. "
   ]
  },
  {
   "cell_type": "markdown",
   "id": "3dc45e3c-0145-4ac5-a14d-a9d0dd8c49e6",
   "metadata": {},
   "source": [
    "## Parte 1. Clasificación sencilla de cada revisión"
   ]
  },
  {
   "cell_type": "markdown",
   "id": "e3097b89-f3d3-48a1-b904-f8301f475245",
   "metadata": {},
   "source": [
    "Realice diferentes configuraciones, tamaño del embedding, arquitecturas LSTM o GRU, varias capas, bidireccionalidad, etc. Escoja el mejor modelo. "
   ]
  },
  {
   "cell_type": "markdown",
   "id": "2268c2a4-5889-4ebf-a752-ddb9f24fa9a4",
   "metadata": {},
   "source": [
    "En esta parte tendrá que hacer un modelo de clasificación usando redes recurrentes (LSTM, GRU), para los cinco tipos de categorias.  Recuerde algunos pasos para realizar la clasificación:\n",
    "\n",
    "1. Lectura de los datos (división en training/validation sets)\n",
    "2. Preprocesamiento del texto (no es necesario ser tanto preprocesamiento como en word2vec, pero si eliminar algunos carácteres o incluso revisar si hay comentarios vacíos). \n",
    "3. Creación del vocabulario y transformación de palabras a índices (y viceversa)\n",
    "4. Creación del \"dataset\" y \"dataloader\" involucrando los pasos 2 y 3.\n",
    "5. Creación del modelo, involucrando embeddings.\n",
    "6. Entrenar y validar (escoger optimizador Adam o AdamW, función de costo apropiada, loops de entrenamiento y validación).\n",
    "7. Modelo listo para producción (modelo para predecir entrando un comentario)\n",
    "8. Pequeña interfaz para predicción usando Gradio."
   ]
  },
  {
   "cell_type": "markdown",
   "id": "e0385c57",
   "metadata": {},
   "source": [
    "# Solución \n",
    "### 1.1. Librerias"
   ]
  },
  {
   "cell_type": "code",
   "execution_count": 1,
   "id": "a0b3aeb4",
   "metadata": {},
   "outputs": [
    {
     "name": "stderr",
     "output_type": "stream",
     "text": [
      "[nltk_data] Downloading package stopwords to\n",
      "[nltk_data]     /Users/jessuarez/nltk_data...\n",
      "[nltk_data]   Package stopwords is already up-to-date!\n",
      "[nltk_data] Downloading package punkt to /Users/jessuarez/nltk_data...\n",
      "[nltk_data]   Package punkt is already up-to-date!\n"
     ]
    }
   ],
   "source": [
    "import warnings\n",
    "warnings.filterwarnings('ignore')\n",
    "\n",
    "import pandas as pd\n",
    "import json\n",
    "from torch.utils.data import Dataset\n",
    "import numpy as np\n",
    "\n",
    "#Para gráficos\n",
    "import seaborn as sns\n",
    "import matplotlib.pyplot as plt\n",
    "\n",
    "# Train and dataset\n",
    "from sklearn.model_selection import train_test_split\n",
    "from torch.utils.data.dataset import random_split\n",
    "\n",
    "# Para tokenizacion\n",
    "#importar libreria nltk\n",
    "import nltk\n",
    "nltk.download(\"stopwords\")\n",
    "from nltk.corpus import stopwords\n",
    "misstop = stopwords.words('spanish')\n",
    "\n",
    "from nltk.tokenize import word_tokenize\n",
    "nltk.download(\"punkt\")\n",
    "\n",
    "# para vocabulario\n",
    "import re\n",
    "from collections import Counter, OrderedDict\n",
    "\n",
    "# para indexar tokens \n",
    "from torchtext.vocab import vocab\n",
    "\n",
    "## transformación pre modelo \n",
    "import torch\n",
    "import torch.nn as nn\n",
    "\n",
    "#data loader\n",
    "\n",
    "from torch.utils.data import DataLoader\n",
    "\n",
    "# para modelos \n",
    "from src.lstm_model import RNN_LSTM_BI, train_LSTM_BI, evaluate_LSTM_BI, evaluate_LSTM_BI"
   ]
  },
  {
   "cell_type": "code",
   "execution_count": 2,
   "id": "24dfff57",
   "metadata": {},
   "outputs": [],
   "source": [
    "# Global Variable\n",
    "seed_ = 12345\n",
    "device = torch.device('cuda:0' if torch.cuda.is_available() else 'cpu')"
   ]
  },
  {
   "cell_type": "markdown",
   "id": "076b220d",
   "metadata": {},
   "source": [
    "### 1.2 Carga de los datos. \n",
    "\n",
    "Tentiendo en cuenta la información del link cargado, consideramos el siguiente diccionario de datos.\n",
    "\n",
    "- **confidence** (integer from 1 to 5): Value describing the confidence of the reviewer, a higher value denotes more confidence, while a lower value indicates less confidence.\n",
    "- **Evaluation** (integer from -2 to 2): Review classification as defined by the reviewer, according to the 5-point scale previously described. This attribute represents the real evaluation given to the paper, as determined by the reviewers\n",
    "- **Text** (text): Comments and detailed review of the paper. This is read by the authors and the editing commission of the conference. The editors determine if the paper should be published or not depending on the reviews. There are $6$ instances of empty reviews.\n",
    "- Remarks (text): Additional comments that can be read only by the editing commission of the conference. This is used in conjunction with the previous attribute to determine if the paper should be published. This is an optional attribute. Whenever it is possible it is concatenated at the end of the main body of the review. Some reviews do not have remarks, this is indicated with an empty string ''.\n",
    "- **Language** (text): Language corresponding to the review (it may be English or Spanish). In this case the majority of the reviews are in Spanish, with only $17$ instances of English reviews.\n",
    "- **Orientation** (integer from -2 to 2): Review classification defined by the authors of this study, according to the 5-point scale previously described, obtained through the authors' systematic judgement of each review. This attribute represents the subjective perception of each review (i.e. how negative or positive the review is perceived when someone reads it).\n",
    "- **Timespan** (datetime): A date associated with the year of conference, which in turn corresponds with the time the review was written. The data set includes four years of reviews worth of conferences.\n",
    "- Paper ID (integer): This number identifies each individual paper from a given conference. The data set has 172 different papers."
   ]
  },
  {
   "cell_type": "code",
   "execution_count": 3,
   "id": "2c53baf3",
   "metadata": {},
   "outputs": [
    {
     "data": {
      "text/html": [
       "<div>\n",
       "<style scoped>\n",
       "    .dataframe tbody tr th:only-of-type {\n",
       "        vertical-align: middle;\n",
       "    }\n",
       "\n",
       "    .dataframe tbody tr th {\n",
       "        vertical-align: top;\n",
       "    }\n",
       "\n",
       "    .dataframe thead th {\n",
       "        text-align: right;\n",
       "    }\n",
       "</style>\n",
       "<table border=\"1\" class=\"dataframe\">\n",
       "  <thead>\n",
       "    <tr style=\"text-align: right;\">\n",
       "      <th></th>\n",
       "      <th>confidence</th>\n",
       "      <th>evaluation</th>\n",
       "      <th>id</th>\n",
       "      <th>lan</th>\n",
       "      <th>orientation</th>\n",
       "      <th>remarks</th>\n",
       "      <th>text</th>\n",
       "      <th>timespan</th>\n",
       "    </tr>\n",
       "  </thead>\n",
       "  <tbody>\n",
       "    <tr>\n",
       "      <th>0</th>\n",
       "      <td>4</td>\n",
       "      <td>1</td>\n",
       "      <td>1</td>\n",
       "      <td>es</td>\n",
       "      <td>0</td>\n",
       "      <td></td>\n",
       "      <td>- El artículo aborda un problema contingente y...</td>\n",
       "      <td>2010-07-05</td>\n",
       "    </tr>\n",
       "    <tr>\n",
       "      <th>1</th>\n",
       "      <td>4</td>\n",
       "      <td>1</td>\n",
       "      <td>2</td>\n",
       "      <td>es</td>\n",
       "      <td>1</td>\n",
       "      <td></td>\n",
       "      <td>El artículo presenta recomendaciones prácticas...</td>\n",
       "      <td>2010-07-05</td>\n",
       "    </tr>\n",
       "    <tr>\n",
       "      <th>2</th>\n",
       "      <td>5</td>\n",
       "      <td>1</td>\n",
       "      <td>3</td>\n",
       "      <td>es</td>\n",
       "      <td>1</td>\n",
       "      <td></td>\n",
       "      <td>- El tema es muy interesante y puede ser de mu...</td>\n",
       "      <td>2010-07-05</td>\n",
       "    </tr>\n",
       "    <tr>\n",
       "      <th>3</th>\n",
       "      <td>4</td>\n",
       "      <td>2</td>\n",
       "      <td>1</td>\n",
       "      <td>es</td>\n",
       "      <td>1</td>\n",
       "      <td></td>\n",
       "      <td>Se explica en forma ordenada y didáctica una e...</td>\n",
       "      <td>2010-07-05</td>\n",
       "    </tr>\n",
       "    <tr>\n",
       "      <th>4</th>\n",
       "      <td>4</td>\n",
       "      <td>2</td>\n",
       "      <td>2</td>\n",
       "      <td>es</td>\n",
       "      <td>0</td>\n",
       "      <td></td>\n",
       "      <td></td>\n",
       "      <td>2010-07-05</td>\n",
       "    </tr>\n",
       "  </tbody>\n",
       "</table>\n",
       "</div>"
      ],
      "text/plain": [
       "  confidence evaluation  id lan orientation remarks  \\\n",
       "0          4          1   1  es           0           \n",
       "1          4          1   2  es           1           \n",
       "2          5          1   3  es           1           \n",
       "3          4          2   1  es           1           \n",
       "4          4          2   2  es           0           \n",
       "\n",
       "                                                text    timespan  \n",
       "0  - El artículo aborda un problema contingente y...  2010-07-05  \n",
       "1  El artículo presenta recomendaciones prácticas...  2010-07-05  \n",
       "2  - El tema es muy interesante y puede ser de mu...  2010-07-05  \n",
       "3  Se explica en forma ordenada y didáctica una e...  2010-07-05  \n",
       "4                                                     2010-07-05  "
      ]
     },
     "execution_count": 3,
     "metadata": {},
     "output_type": "execute_result"
    }
   ],
   "source": [
    "# load data using Python JSON module\n",
    "with open('reviews.json','r') as f:\n",
    "    data = json.loads(f.read())\n",
    "\n",
    "df = pd.json_normalize(data['paper'], record_path = [\"review\"])\n",
    "df.head()"
   ]
  },
  {
   "cell_type": "code",
   "execution_count": 4,
   "id": "4fd58f4d",
   "metadata": {},
   "outputs": [
    {
     "name": "stdout",
     "output_type": "stream",
     "text": [
      "validando lenguajes de los textos\n"
     ]
    },
    {
     "data": {
      "text/html": [
       "<div>\n",
       "<style scoped>\n",
       "    .dataframe tbody tr th:only-of-type {\n",
       "        vertical-align: middle;\n",
       "    }\n",
       "\n",
       "    .dataframe tbody tr th {\n",
       "        vertical-align: top;\n",
       "    }\n",
       "\n",
       "    .dataframe thead th {\n",
       "        text-align: right;\n",
       "    }\n",
       "</style>\n",
       "<table border=\"1\" class=\"dataframe\">\n",
       "  <thead>\n",
       "    <tr style=\"text-align: right;\">\n",
       "      <th></th>\n",
       "      <th>count_</th>\n",
       "    </tr>\n",
       "    <tr>\n",
       "      <th>lan</th>\n",
       "      <th></th>\n",
       "    </tr>\n",
       "  </thead>\n",
       "  <tbody>\n",
       "    <tr>\n",
       "      <th>en</th>\n",
       "      <td>17</td>\n",
       "    </tr>\n",
       "    <tr>\n",
       "      <th>es</th>\n",
       "      <td>388</td>\n",
       "    </tr>\n",
       "  </tbody>\n",
       "</table>\n",
       "</div>"
      ],
      "text/plain": [
       "     count_\n",
       "lan        \n",
       "en       17\n",
       "es      388"
      ]
     },
     "execution_count": 4,
     "metadata": {},
     "output_type": "execute_result"
    }
   ],
   "source": [
    "print('validando lenguajes de los textos')\n",
    "df.groupby('lan').agg(count_ = ('id', 'count'))"
   ]
  },
  {
   "cell_type": "code",
   "execution_count": 5,
   "id": "539d8fd6",
   "metadata": {},
   "outputs": [
    {
     "data": {
      "text/plain": [
       "[Text(0.5, 1.0, 'Distribución Orientation')]"
      ]
     },
     "execution_count": 5,
     "metadata": {},
     "output_type": "execute_result"
    },
    {
     "data": {
      "image/png": "[encoded data removed]",
      "text/plain": [
       "<Figure size 1800x1000 with 3 Axes>"
      ]
     },
     "metadata": {},
     "output_type": "display_data"
    }
   ],
   "source": [
    "fig, axs = plt.subplots(1,3, figsize=(18,10))\n",
    "sns.histplot(data=df, x='confidence',  kde=True, ax = axs[0]).set(title='Distribución Confidence')\n",
    "sns.histplot(data=df, x='evaluation',  kde=True, ax = axs[1]).set(title='Distribución Evaluation')\n",
    "sns.histplot(data=df, x='orientation',  kde=True, ax = axs[2]).set(title='Distribución Orientation')"
   ]
  },
  {
   "cell_type": "markdown",
   "id": "8939b595",
   "metadata": {},
   "source": [
    "Con base a este analisis, primero que todo tomaremos información de texto unicamente en español y también consideraremos el campo de evaluación\n",
    "\n",
    "Adicionalmente filtraremos registros con longitud del texto no núla, ya que existen campos vacios. "
   ]
  },
  {
   "cell_type": "code",
   "execution_count": 6,
   "id": "98757b38",
   "metadata": {},
   "outputs": [
    {
     "name": "stdout",
     "output_type": "stream",
     "text": [
      "<class 'pandas.core.frame.DataFrame'>\n",
      "Int64Index: 382 entries, 0 to 404\n",
      "Data columns (total 2 columns):\n",
      " #   Column      Non-Null Count  Dtype \n",
      "---  ------      --------------  ----- \n",
      " 0   text        382 non-null    object\n",
      " 1   evaluation  382 non-null    object\n",
      "dtypes: object(2)\n",
      "memory usage: 9.0+ KB\n",
      "None\n"
     ]
    },
    {
     "data": {
      "text/html": [
       "<div>\n",
       "<style scoped>\n",
       "    .dataframe tbody tr th:only-of-type {\n",
       "        vertical-align: middle;\n",
       "    }\n",
       "\n",
       "    .dataframe tbody tr th {\n",
       "        vertical-align: top;\n",
       "    }\n",
       "\n",
       "    .dataframe thead th {\n",
       "        text-align: right;\n",
       "    }\n",
       "</style>\n",
       "<table border=\"1\" class=\"dataframe\">\n",
       "  <thead>\n",
       "    <tr style=\"text-align: right;\">\n",
       "      <th></th>\n",
       "      <th>text</th>\n",
       "      <th>evaluation</th>\n",
       "    </tr>\n",
       "  </thead>\n",
       "  <tbody>\n",
       "    <tr>\n",
       "      <th>0</th>\n",
       "      <td>- El artículo aborda un problema contingente y...</td>\n",
       "      <td>1</td>\n",
       "    </tr>\n",
       "    <tr>\n",
       "      <th>1</th>\n",
       "      <td>El artículo presenta recomendaciones prácticas...</td>\n",
       "      <td>1</td>\n",
       "    </tr>\n",
       "    <tr>\n",
       "      <th>2</th>\n",
       "      <td>- El tema es muy interesante y puede ser de mu...</td>\n",
       "      <td>1</td>\n",
       "    </tr>\n",
       "    <tr>\n",
       "      <th>3</th>\n",
       "      <td>Se explica en forma ordenada y didáctica una e...</td>\n",
       "      <td>2</td>\n",
       "    </tr>\n",
       "    <tr>\n",
       "      <th>5</th>\n",
       "      <td>Los autores describen una metodología para des...</td>\n",
       "      <td>2</td>\n",
       "    </tr>\n",
       "  </tbody>\n",
       "</table>\n",
       "</div>"
      ],
      "text/plain": [
       "                                                text evaluation\n",
       "0  - El artículo aborda un problema contingente y...          1\n",
       "1  El artículo presenta recomendaciones prácticas...          1\n",
       "2  - El tema es muy interesante y puede ser de mu...          1\n",
       "3  Se explica en forma ordenada y didáctica una e...          2\n",
       "5  Los autores describen una metodología para des...          2"
      ]
     },
     "execution_count": 6,
     "metadata": {},
     "output_type": "execute_result"
    }
   ],
   "source": [
    "idd = df.lan=='es'\n",
    "df_filter = df.loc[idd].copy()\n",
    "columns_ = ['text', 'evaluation']\n",
    "df_filter = df_filter.loc[:,columns_]\n",
    "idd = df_filter.text != ''\n",
    "df_filter = df_filter.loc[idd]\n",
    "del idd, columns_\n",
    "print(df_filter.info())\n",
    "df_filter.head(5)"
   ]
  },
  {
   "cell_type": "code",
   "execution_count": 7,
   "id": "78cacd2b",
   "metadata": {},
   "outputs": [
    {
     "data": {
      "text/html": [
       "<div>\n",
       "<style scoped>\n",
       "    .dataframe tbody tr th:only-of-type {\n",
       "        vertical-align: middle;\n",
       "    }\n",
       "\n",
       "    .dataframe tbody tr th {\n",
       "        vertical-align: top;\n",
       "    }\n",
       "\n",
       "    .dataframe thead th {\n",
       "        text-align: right;\n",
       "    }\n",
       "</style>\n",
       "<table border=\"1\" class=\"dataframe\">\n",
       "  <thead>\n",
       "    <tr style=\"text-align: right;\">\n",
       "      <th></th>\n",
       "      <th>text</th>\n",
       "      <th>evaluation</th>\n",
       "      <th>len_</th>\n",
       "    </tr>\n",
       "  </thead>\n",
       "  <tbody>\n",
       "    <tr>\n",
       "      <th>84</th>\n",
       "      <td>Me ha gustado mucho  Lo dejaría tal cual.</td>\n",
       "      <td>2</td>\n",
       "      <td>41</td>\n",
       "    </tr>\n",
       "    <tr>\n",
       "      <th>31</th>\n",
       "      <td>Un trabajo muy claro, preciso y del alto nivel</td>\n",
       "      <td>2</td>\n",
       "      <td>46</td>\n",
       "    </tr>\n",
       "    <tr>\n",
       "      <th>166</th>\n",
       "      <td>Los comentarios aparecen en el archivo adjunto</td>\n",
       "      <td>2</td>\n",
       "      <td>46</td>\n",
       "    </tr>\n",
       "    <tr>\n",
       "      <th>55</th>\n",
       "      <td>Poca información sobre aspectos técnicos utili...</td>\n",
       "      <td>0</td>\n",
       "      <td>81</td>\n",
       "    </tr>\n",
       "    <tr>\n",
       "      <th>183</th>\n",
       "      <td>-\\tNo existen bases científicas explicitas en ...</td>\n",
       "      <td>-2</td>\n",
       "      <td>92</td>\n",
       "    </tr>\n",
       "    <tr>\n",
       "      <th>...</th>\n",
       "      <td>...</td>\n",
       "      <td>...</td>\n",
       "      <td>...</td>\n",
       "    </tr>\n",
       "    <tr>\n",
       "      <th>116</th>\n",
       "      <td>La publicación tiene como objetivo mostrar las...</td>\n",
       "      <td>1</td>\n",
       "      <td>4358</td>\n",
       "    </tr>\n",
       "    <tr>\n",
       "      <th>327</th>\n",
       "      <td>El artículo presenta una aplicación en el ámbi...</td>\n",
       "      <td>-2</td>\n",
       "      <td>4382</td>\n",
       "    </tr>\n",
       "    <tr>\n",
       "      <th>75</th>\n",
       "      <td>El trabajo es de baja calidad académica (descr...</td>\n",
       "      <td>-2</td>\n",
       "      <td>4535</td>\n",
       "    </tr>\n",
       "    <tr>\n",
       "      <th>264</th>\n",
       "      <td>• Revisar los conceptos de metodologías, métod...</td>\n",
       "      <td>-1</td>\n",
       "      <td>4754</td>\n",
       "    </tr>\n",
       "    <tr>\n",
       "      <th>332</th>\n",
       "      <td>El trabajo se titula \"Madurez actual del desar...</td>\n",
       "      <td>-2</td>\n",
       "      <td>6345</td>\n",
       "    </tr>\n",
       "  </tbody>\n",
       "</table>\n",
       "<p>382 rows × 3 columns</p>\n",
       "</div>"
      ],
      "text/plain": [
       "                                                  text evaluation  len_\n",
       "84           Me ha gustado mucho  Lo dejaría tal cual.          2    41\n",
       "31      Un trabajo muy claro, preciso y del alto nivel          2    46\n",
       "166     Los comentarios aparecen en el archivo adjunto          2    46\n",
       "55   Poca información sobre aspectos técnicos utili...          0    81\n",
       "183  -\\tNo existen bases científicas explicitas en ...         -2    92\n",
       "..                                                 ...        ...   ...\n",
       "116  La publicación tiene como objetivo mostrar las...          1  4358\n",
       "327  El artículo presenta una aplicación en el ámbi...         -2  4382\n",
       "75   El trabajo es de baja calidad académica (descr...         -2  4535\n",
       "264  • Revisar los conceptos de metodologías, métod...         -1  4754\n",
       "332  El trabajo se titula \"Madurez actual del desar...         -2  6345\n",
       "\n",
       "[382 rows x 3 columns]"
      ]
     },
     "execution_count": 7,
     "metadata": {},
     "output_type": "execute_result"
    }
   ],
   "source": [
    "# Chequeo Final de la Longitud para tener texto con sentido.\n",
    "df_filter.assign(len_ = df_filter.text.apply(len)).sort_values('len_')"
   ]
  },
  {
   "cell_type": "markdown",
   "id": "c5f99122",
   "metadata": {},
   "source": [
    "#### Train and test division"
   ]
  },
  {
   "cell_type": "code",
   "execution_count": 8,
   "id": "e69e5def",
   "metadata": {},
   "outputs": [],
   "source": [
    "df_filter.to_csv('clean_reviews.csv', encoding='utf-8', sep='|')"
   ]
  },
  {
   "cell_type": "code",
   "execution_count": 9,
   "id": "22697dc6",
   "metadata": {},
   "outputs": [],
   "source": [
    "class TextData(Dataset):\n",
    "    '''\n",
    "    Dataset basico para leer los datos de tweets\n",
    "    '''\n",
    "    def __init__(self, filename):\n",
    "        super(TextData, self).__init__()\n",
    "        df = pd.read_csv(filename,encoding='utf-8', sep='|')\n",
    "        self.df = df[[\"evaluation\", \"text\"]]\n",
    "        \n",
    "    def __getitem__(self, index):\n",
    "        return self.df.iloc[index,0], self.df.iloc[index,1]\n",
    "    \n",
    "    def __len__(self):\n",
    "        return len(self.df)"
   ]
  },
  {
   "cell_type": "code",
   "execution_count": 10,
   "id": "bdaf6330",
   "metadata": {},
   "outputs": [],
   "source": [
    "df = TextData(\"clean_reviews.csv\")\n",
    "train_dataset, test_dataset = random_split(df,\n",
    " [int(len(df)*0.7),len(df) - int(len(df)*0.7)], torch.manual_seed(1))\n",
    "\n",
    "train_dataset, valid_dataset = random_split(\n",
    "    list(train_dataset), [int(len(train_dataset)*0.8),len(train_dataset)-int(len(train_dataset)*0.8)], torch.manual_seed(1))"
   ]
  },
  {
   "cell_type": "markdown",
   "id": "6e8e87c0",
   "metadata": {},
   "source": [
    "### 1.3 Preprocesamiento del texto"
   ]
  },
  {
   "cell_type": "code",
   "execution_count": 11,
   "id": "4f36ce86",
   "metadata": {},
   "outputs": [],
   "source": [
    "#funcion de limpieza de tweets\n",
    "\n",
    "def tokenizacion(text):\n",
    "  def limpieza(text):\n",
    "    text=re.sub(r'@_[A-Za-z0-9]+_','',text) #Remover @_menciones_\n",
    "    text=re.sub(r'@[A-Za-z0-9]+_[A-Za-z0-9]+','',text) #Remover @menciones_\n",
    "    text=re.sub(r'@[A-Za-z0-9]+','',text) #Remover @menciones\n",
    "    text=re.sub(r'https?:\\/\\/\\S+','',text) #Remover Hypervinculos\n",
    "    text=re.sub(r'RT[\\s]+','',text) #Remover Retweets\n",
    "    text=re.sub(r'[^\\w\\s]',\"\",text) #remover signos de puntuacion\n",
    "    text=re.sub(r'#[A-Za-z0-9]+','',text) #Remover \"#\"\n",
    "    text=re.sub(r'[0-9]','',text) #remover numeros\n",
    "    text=re.sub(r'[^\\w\\s]',\"\",text) #remover signos de puntuacion\n",
    "    text=re.sub(r'\\n|\\t',' ',text) #remover saltos de linea\n",
    "    text=re.sub(r'\\@',' ',text) #remover \"@\"\n",
    "    text=re.sub(r'[\\s]+',' ',text) #reemplazar espacios dobles por espacion sencillos\n",
    "    text=re.sub(r\"^[\\s]\",' ',text) #eliminar espacios al inicio de cada tweet\n",
    "    text=text.lower() #todo a minuscula\n",
    "    return text\n",
    "  \n",
    "  text2=limpieza(text)\n",
    "\n",
    "  #tokenizar tweet eliminando stopwords\n",
    "  token1=word_tokenize(text2)\n",
    "  token2=[]\n",
    "  for word in token1:\n",
    "    if word not in misstop: \n",
    "      token2.append(word)\n",
    "  return token2"
   ]
  },
  {
   "cell_type": "markdown",
   "id": "59cea8e9",
   "metadata": {},
   "source": [
    "### 1.4 Creación del vocabulario y transformación de palabras a índices (y viceversa)"
   ]
  },
  {
   "cell_type": "code",
   "execution_count": 12,
   "id": "5259f8d5",
   "metadata": {},
   "outputs": [
    {
     "name": "stdout",
     "output_type": "stream",
     "text": [
      "Vocab-size: 4220\n"
     ]
    }
   ],
   "source": [
    "# Creación del vocabulario\n",
    "token_counts = Counter()\n",
    "for label, line in train_dataset:\n",
    "    tokens = tokenizacion(line)\n",
    "    token_counts.update(tokens)\n",
    "\n",
    "\n",
    "print('Vocab-size:', len(token_counts))"
   ]
  },
  {
   "cell_type": "code",
   "execution_count": 13,
   "id": "937acfa9",
   "metadata": {},
   "outputs": [],
   "source": [
    "#token_counts"
   ]
  },
  {
   "cell_type": "code",
   "execution_count": 14,
   "id": "083f66d5",
   "metadata": {},
   "outputs": [
    {
     "name": "stdout",
     "output_type": "stream",
     "text": [
      "[671, 121, 1, 135]\n"
     ]
    }
   ],
   "source": [
    "# indexando tokens\n",
    "sorted_by_freq_tuples = sorted(token_counts.items(), key=lambda x: x[1], reverse=True)\n",
    "ordered_dict = OrderedDict(sorted_by_freq_tuples)\n",
    "\n",
    "vocab_ = vocab(ordered_dict)\n",
    "\n",
    "vocab_.insert_token(\"\", 0)\n",
    "vocab_.set_default_index(1)\n",
    "\n",
    "print([vocab_[token] for token in ['manejo', 'literatura', 'utliza', 'arte']])"
   ]
  },
  {
   "cell_type": "markdown",
   "id": "190bc6eb",
   "metadata": {},
   "source": [
    "### 1.5 Creación del \"dataset\" y \"dataloader\" involucrando los pasos 2 y 3."
   ]
  },
  {
   "cell_type": "code",
   "execution_count": 15,
   "id": "cc85d764",
   "metadata": {},
   "outputs": [],
   "source": [
    "text_pipeline = lambda x: [vocab_[token] for token in tokenizacion(x)]\n",
    "label_pipeline = lambda x: x +2 \n",
    "\n",
    "#Definir funcion de trnasformacion y codificacion\n",
    "def collate_batch(batch):\n",
    "    label_list, text_list, lengths = [], [], []\n",
    "    for _label, _text in batch:\n",
    "        label_list.append(label_pipeline(_label))\n",
    "        processed_text = torch.tensor(text_pipeline(_text), \n",
    "                                      dtype=torch.int64)\n",
    "        text_list.append(processed_text)\n",
    "        lengths.append(processed_text.size(0))\n",
    "    label_list = torch.tensor(label_list)\n",
    "    lengths = torch.tensor(lengths)\n",
    "    padded_text_list = nn.utils.rnn.pad_sequence(\n",
    "        text_list, batch_first=True)\n",
    "    return padded_text_list.to(device), label_list.to(device), lengths.to(device)"
   ]
  },
  {
   "cell_type": "code",
   "execution_count": 16,
   "id": "caaa0ae3",
   "metadata": {},
   "outputs": [
    {
     "name": "stdout",
     "output_type": "stream",
     "text": [
      "tensor([[   1,    5,  407, 1980,  135,  124,  408,  365, 1311,  286,   67, 1981,\n",
      "          120,  970,   67, 1982,  752,  121,   73,  521,  753,  754,  755,  522,\n",
      "          622,  155,   43,  756,   50,    1,  623,  287, 1312,   34,   68, 1313,\n",
      "          122,  107,  135]])\n",
      "tensor([0])\n",
      "tensor([39])\n",
      "torch.Size([1, 39])\n"
     ]
    }
   ],
   "source": [
    "## Toma un pequeño batch\n",
    "dataloader = DataLoader(train_dataset, batch_size=1, shuffle=False, collate_fn=collate_batch)\n",
    "text_batch, label_batch, length_batch = next(iter(dataloader))\n",
    "print(text_batch)\n",
    "print(label_batch)\n",
    "print(length_batch)\n",
    "print(text_batch.shape)"
   ]
  },
  {
   "cell_type": "code",
   "execution_count": 17,
   "id": "6e028ce2",
   "metadata": {},
   "outputs": [],
   "source": [
    "batch_size = 50\n",
    "\n",
    "train_dl = DataLoader(train_dataset, batch_size=batch_size,\n",
    "                      shuffle=True, collate_fn=collate_batch)\n",
    "valid_dl = DataLoader(valid_dataset, batch_size=batch_size,\n",
    "                      shuffle=False, collate_fn=collate_batch)\n",
    "test_dl = DataLoader(test_dataset, batch_size=batch_size,\n",
    "                     shuffle=False, collate_fn=collate_batch)"
   ]
  },
  {
   "cell_type": "markdown",
   "id": "d3fe8d27",
   "metadata": {},
   "source": [
    "### 1.6 Creación del modelo, involucrando embeddings."
   ]
  },
  {
   "cell_type": "code",
   "execution_count": 18,
   "id": "2cfb870a",
   "metadata": {},
   "outputs": [
    {
     "name": "stdout",
     "output_type": "stream",
     "text": [
      "5\n"
     ]
    }
   ],
   "source": [
    "num_classes=len(df_filter.evaluation.unique())\n",
    "print(num_classes)"
   ]
  },
  {
   "cell_type": "code",
   "execution_count": 19,
   "id": "487a5871",
   "metadata": {},
   "outputs": [],
   "source": [
    "class RNN_GRU_BI(nn.Module):\n",
    "    def __init__(self, vocab_size, embed_dim, rnn_hidden_size, fc_hidden_size):\n",
    "        torch.manual_seed(0)\n",
    "        super().__init__()\n",
    "        self.embedding = nn.Embedding(vocab_size, \n",
    "                                      embed_dim, \n",
    "                                      padding_idx=0) \n",
    "        self.rnn = nn.GRU(embed_dim, rnn_hidden_size, \n",
    "                           batch_first=True, bidirectional=True)\n",
    "        self.fc1 = nn.Linear(rnn_hidden_size*2, fc_hidden_size)\n",
    "        self.relu = nn.ReLU()\n",
    "        self.fc2 = nn.Linear(fc_hidden_size, fc_hidden_size*3)\n",
    "        self.tanh = nn.Tanh()\n",
    "        self.dropout1 = nn.Dropout(p=0.25)\n",
    "        self.fc3 = nn.Linear(fc_hidden_size*3, fc_hidden_size)\n",
    "        self.tanh = nn.Tanh()\n",
    "        self.dropout2 = nn.Dropout(p=0.25)\n",
    "        self.fc4 = nn.Linear(fc_hidden_size, num_classes)\n",
    "        self.sigmoid = nn.Sigmoid()\n",
    "\n",
    "    def forward(self, text, lengths):\n",
    "        out = self.embedding(text)\n",
    "        out = nn.utils.rnn.pack_padded_sequence(out, lengths.cpu().numpy(), enforce_sorted=False, batch_first=True)\n",
    "        _, (hidden) = self.rnn(out)\n",
    "        out = torch.cat((hidden[-2, :, :], hidden[-1, :, :]), dim=1)\n",
    "        out = self.fc1(out)\n",
    "        out = self.relu(out)\n",
    "        out = self.fc2(out)\n",
    "        out = self.tanh(out)\n",
    "        out = self.dropout1(out)\n",
    "        out = self.fc3(out)\n",
    "        out = self.tanh(out)\n",
    "        out = self.dropout2(out)\n",
    "        out = self.fc4(out)\n",
    "        out = self.sigmoid(out)\n",
    "        return out\n",
    "\n",
    "class RNN_LSTM_BI(nn.Module):\n",
    "    def __init__(self, vocab_size, embed_dim, rnn_hidden_size, fc_hidden_size):\n",
    "        torch.manual_seed(0)\n",
    "        super().__init__()\n",
    "        self.embedding = nn.Embedding(vocab_size, \n",
    "                                      embed_dim, \n",
    "                                      padding_idx=0) \n",
    "        self.rnn = nn.LSTM(embed_dim, rnn_hidden_size, \n",
    "                           batch_first=True, bidirectional=True)\n",
    "        self.fc1 = nn.Linear(rnn_hidden_size*2, fc_hidden_size)\n",
    "        self.relu = nn.ReLU()\n",
    "        self.fc2 = nn.Linear(fc_hidden_size, num_classes)\n",
    "        self.sigmoid = nn.Sigmoid()\n",
    "\n",
    "    def forward(self, text, lengths):\n",
    "        out = self.embedding(text)\n",
    "        out = nn.utils.rnn.pack_padded_sequence(out, lengths.cpu().numpy(), enforce_sorted=False, batch_first=True)\n",
    "        _, (hidden, cell) = self.rnn(out)\n",
    "        out = torch.cat((hidden[-2, :, :], hidden[-1, :, :]), dim=1)\n",
    "        out = self.fc1(out)\n",
    "        out = self.relu(out)\n",
    "        out = self.fc2(out)\n",
    "        out = self.sigmoid(out)\n",
    "        return out\n",
    "    \n"
   ]
  },
  {
   "cell_type": "code",
   "execution_count": 20,
   "id": "3a2a623c",
   "metadata": {},
   "outputs": [],
   "source": [
    "### Si funciona queda esta: \n",
    "import torch.nn.functional as F\n",
    "def gru_training_validation(vocab_size = len(vocab_), embed_dim = 64,\n",
    "                            rnn_hidden_size = 64,\n",
    "                            fc_hidden_size = 64,\n",
    "                            num_epochs = 500,\n",
    "                            lr=0.001,\n",
    "                            num_classes=len(df_filter.evaluation.unique()),\n",
    "                            device = device,\n",
    "                            optimizer_='adam',\n",
    "                            loss_func = F.cross_entropy,\n",
    "                            return_for_graphichs= False\n",
    "                            ):\n",
    "    model_gru = RNN_GRU_BI(vocab_size, embed_dim, rnn_hidden_size, fc_hidden_size) \n",
    "    model_gru = model_gru.to(device)\n",
    "\n",
    "    if optimizer_ == 'adam':\n",
    "        optimizer = torch.optim.Adam(model_gru.parameters(), lr=lr)\n",
    "    elif optimizer_ == 'SGD':\n",
    "        optimizer = torch.optim.SGD(model_gru.parameters(), lr=lr)\n",
    "\n",
    "    def train_GRU_BI(dataloader):\n",
    "        model_gru.train()\n",
    "        total_acc, total_loss = 0, 0\n",
    "        losses,acc_acum,nums=0,0,0\n",
    "\n",
    "        for text_batch, label_batch, lengths in dataloader:\n",
    "            optimizer.zero_grad()\n",
    "            y_test=label_batch.long()\n",
    "            y_pred = torch.argmax(model_gru(text_batch, lengths), 1)\n",
    "\n",
    "            pred = model_gru(text_batch, lengths)\n",
    "            loss = loss_func(pred, y_test)\n",
    "            loss.backward()\n",
    "            optimizer.step()\n",
    "    \n",
    "            total_acc += (y_pred == label_batch).float().sum().item()\n",
    "            total_loss += loss.item()*label_batch.size(0)\n",
    "\n",
    "        return total_acc/len(dataloader.dataset), total_loss/len(dataloader.dataset)\n",
    "\n",
    "    def evaluate_GRU_BI(dataloader):\n",
    "        model_gru.eval()\n",
    "        total_acc, total_loss = 0, 0\n",
    "        with torch.no_grad():\n",
    "            for text_batch, label_batch, lengths in dataloader:\n",
    "                #revisar funcion de perdida\n",
    "                y_pred = torch.argmax(model_gru(text_batch, lengths), 1)\n",
    "                y_test=label_batch.long()\n",
    "                pred = model_gru(text_batch, lengths)\n",
    "                loss = loss_func(pred, y_test)\n",
    "                total_acc += (y_pred == label_batch).float().sum().item()\n",
    "                total_loss += loss.item()*label_batch.size(0)\n",
    "        return total_acc/len(dataloader.dataset), total_loss/len(dataloader.dataset)\n",
    "    \n",
    "    #Entrenando modelo\n",
    "    train_losses = []\n",
    "    valid_losses = []\n",
    "    train_acc = []\n",
    "    valid_acc = []\n",
    "\n",
    "    for epoch in range(num_epochs):\n",
    "            acc_train, loss_train = train_GRU_BI(train_dl)\n",
    "            acc_valid, loss_valid = evaluate_GRU_BI(valid_dl)\n",
    "            train_losses.append(loss_train)\n",
    "            valid_losses.append(loss_valid)\n",
    "            train_acc.append(acc_train)\n",
    "            valid_acc.append(acc_valid)\n",
    "            #print(f\"epoch: {epoch},    train_loss: {loss_train:.4f} \\\n",
    "            #valid_loss: {loss_valid:.4f}, valid_acc: {acc_valid:.4f}\")\n",
    "    acc_test, _ = evaluate_GRU_BI(test_dl)\n",
    "    print(f'test_accuracy: {acc_test:.4f}') \n",
    "\n",
    "    if return_for_graphichs:\n",
    "        return acc_test, train_acc, valid_acc, model_gru\n",
    "    else: \n",
    "        return acc_test    \n"
   ]
  },
  {
   "cell_type": "code",
   "execution_count": 21,
   "id": "923e3231",
   "metadata": {},
   "outputs": [],
   "source": [
    "### Funcion de validacion LSTM\n",
    "import torch.nn.functional as F\n",
    "def lstm_training_validation(vocab_size = len(vocab_), embed_dim = 64,\n",
    "                            rnn_hidden_size = 64,\n",
    "                            fc_hidden_size = 64,\n",
    "                            num_epochs = 500,\n",
    "                            lr=0.001,\n",
    "                            num_classes=len(df_filter.evaluation.unique()),\n",
    "                            device = device,\n",
    "                            optimizer_='adam',\n",
    "                            loss_func = F.cross_entropy,\n",
    "                            return_for_graphichs= False\n",
    "                            ):\n",
    "    model_lstm = RNN_LSTM_BI(vocab_size, embed_dim, rnn_hidden_size, fc_hidden_size) \n",
    "    model_lstm = model_lstm.to(device)\n",
    "\n",
    "    if optimizer_ == 'adam':\n",
    "        optimizer = torch.optim.Adam(model_lstm.parameters(), lr=lr)\n",
    "    elif optimizer_ == 'SGD':\n",
    "        optimizer = torch.optim.SGD(model_lstm.parameters(), lr=lr)\n",
    "\n",
    "    def train_LSTM_BI(dataloader):\n",
    "        model_lstm.train()\n",
    "        total_acc, total_loss = 0, 0\n",
    "        losses,acc_acum,nums=0,0,0\n",
    "\n",
    "        for text_batch, label_batch, lengths in dataloader:\n",
    "            optimizer.zero_grad()\n",
    "            y_test=label_batch.long()\n",
    "            y_pred = torch.argmax(model_lstm(text_batch, lengths), 1)\n",
    "\n",
    "            pred = model_lstm(text_batch, lengths)\n",
    "            loss = loss_func(pred, y_test)\n",
    "            loss.backward()\n",
    "            optimizer.step()\n",
    "    \n",
    "            total_acc += (y_pred == label_batch).float().sum().item()\n",
    "            total_loss += loss.item()*label_batch.size(0)\n",
    "\n",
    "        return total_acc/len(dataloader.dataset), total_loss/len(dataloader.dataset)\n",
    "\n",
    "    def evaluate_LSTM_BI(dataloader):\n",
    "        model_lstm.eval()\n",
    "        total_acc, total_loss = 0, 0\n",
    "        with torch.no_grad():\n",
    "            for text_batch, label_batch, lengths in dataloader:\n",
    "                #revisar funcion de perdida\n",
    "                y_pred = torch.argmax(model_lstm(text_batch, lengths), 1)\n",
    "                y_test=label_batch.long()\n",
    "                pred = model_lstm(text_batch, lengths)\n",
    "                loss = loss_func(pred, y_test)\n",
    "                total_acc += (y_pred == label_batch).float().sum().item()\n",
    "                total_loss += loss.item()*label_batch.size(0)\n",
    "        return total_acc/len(dataloader.dataset), total_loss/len(dataloader.dataset)\n",
    "    \n",
    "    #Entrenando modelo\n",
    "    train_losses = []\n",
    "    valid_losses = []\n",
    "    train_acc = []\n",
    "    valid_acc = []\n",
    "\n",
    "\n",
    "    for epoch in range(num_epochs):\n",
    "            acc_train, loss_train = train_LSTM_BI(train_dl)\n",
    "            acc_valid, loss_valid = evaluate_LSTM_BI(valid_dl)\n",
    "            train_losses.append(loss_train)\n",
    "            valid_losses.append(loss_valid)\n",
    "            train_acc.append(acc_train)\n",
    "            valid_acc.append(acc_valid)\n",
    "            #print(f\"epoch: {epoch},    train_loss: {loss_train:.4f} \\\n",
    "            #valid_loss: {loss_valid:.4f}, valid_acc: {acc_valid:.4f}\")\n",
    "    acc_test, _ = evaluate_LSTM_BI(test_dl)\n",
    "    print(f'test_accuracy: {acc_test:.4f}') \n",
    "    \n",
    "    if return_for_graphichs:\n",
    "        return acc_test, train_acc, valid_acc, model_lstm\n",
    "    else: \n",
    "        return acc_test    \n",
    "    \n",
    "    return acc_test\n",
    "    print('hola')\n"
   ]
  },
  {
   "cell_type": "code",
   "execution_count": 22,
   "id": "518b9acf",
   "metadata": {},
   "outputs": [],
   "source": [
    "### Corriendo validaciones\n",
    "params_ = {'optimizer_': ['adam', 'SGD'],\n",
    "            'NUM_HIDDEN': [10,20,30],\n",
    "            'epochs': [10,20, 30, 50], \n",
    "            'loss_func': [F.cross_entropy]}"
   ]
  },
  {
   "cell_type": "code",
   "execution_count": 23,
   "id": "f8b99c1d",
   "metadata": {},
   "outputs": [
    {
     "name": "stdout",
     "output_type": "stream",
     "text": [
      "test_accuracy: 0.2000\n",
      "test_accuracy: 0.2435\n",
      "test_accuracy: 0.1826\n",
      "test_accuracy: 0.2087\n",
      "test_accuracy: 0.2348\n",
      "test_accuracy: 0.2261\n",
      "test_accuracy: 0.2522\n",
      "test_accuracy: 0.2783\n",
      "test_accuracy: 0.2348\n",
      "test_accuracy: 0.2522\n",
      "test_accuracy: 0.2261\n",
      "test_accuracy: 0.2435\n",
      "test_accuracy: 0.2000\n",
      "test_accuracy: 0.2000\n",
      "test_accuracy: 0.2000\n",
      "test_accuracy: 0.2000\n",
      "test_accuracy: 0.2174\n",
      "test_accuracy: 0.2174\n",
      "test_accuracy: 0.2174\n",
      "test_accuracy: 0.2174\n",
      "test_accuracy: 0.2261\n",
      "test_accuracy: 0.2348\n",
      "test_accuracy: 0.2435\n",
      "test_accuracy: 0.2261\n",
      "CPU times: user 11min 19s, sys: 5min 23s, total: 16min 43s\n",
      "Wall time: 10min 41s\n"
     ]
    }
   ],
   "source": [
    "%%time\n",
    "from itertools import product\n",
    "param_names = list(params_.keys())\n",
    "# zip with parameter names in order to get original property\n",
    "param_values = (zip(param_names, x) for x in product(*params_.values()))\n",
    "\n",
    "result_val_acc = list()\n",
    "output = pd.DataFrame()\n",
    "for paramset in param_values:\n",
    "    # use the dict from iterator of tuples constructor\n",
    "    dict_temp = dict(paramset)\n",
    "    output = output.append(dict_temp, ignore_index=True)\n",
    "    # operando la grilla para tener el accuracy y guardar en lista\n",
    "\n",
    "    result_val_acc.append(gru_training_validation(vocab_size = len(vocab_), embed_dim = dict_temp['NUM_HIDDEN'],\n",
    "                            rnn_hidden_size = dict_temp['NUM_HIDDEN'],\n",
    "                            fc_hidden_size = dict_temp['NUM_HIDDEN'],\n",
    "                            num_epochs = dict_temp['epochs'],\n",
    "                            lr=0.001,\n",
    "                            num_classes=len(df_filter.evaluation.unique()),\n",
    "                            device = device,\n",
    "                            optimizer_=dict_temp['optimizer_'],\n",
    "                            loss_func = dict_temp['loss_func']\n",
    "                            ))"
   ]
  },
  {
   "cell_type": "code",
   "execution_count": 24,
   "id": "1b939664",
   "metadata": {},
   "outputs": [
    {
     "name": "stdout",
     "output_type": "stream",
     "text": [
      "MEJOR COMBINACIÓN DE Parametros para el modelo GRU \n"
     ]
    },
    {
     "data": {
      "text/html": [
       "<div>\n",
       "<style scoped>\n",
       "    .dataframe tbody tr th:only-of-type {\n",
       "        vertical-align: middle;\n",
       "    }\n",
       "\n",
       "    .dataframe tbody tr th {\n",
       "        vertical-align: top;\n",
       "    }\n",
       "\n",
       "    .dataframe thead th {\n",
       "        text-align: right;\n",
       "    }\n",
       "</style>\n",
       "<table border=\"1\" class=\"dataframe\">\n",
       "  <thead>\n",
       "    <tr style=\"text-align: right;\">\n",
       "      <th></th>\n",
       "      <th>index</th>\n",
       "      <th>optimizer_</th>\n",
       "      <th>NUM_HIDDEN</th>\n",
       "      <th>epochs</th>\n",
       "      <th>loss_func</th>\n",
       "      <th>acc_val</th>\n",
       "    </tr>\n",
       "  </thead>\n",
       "  <tbody>\n",
       "    <tr>\n",
       "      <th>0</th>\n",
       "      <td>7</td>\n",
       "      <td>adam</td>\n",
       "      <td>20</td>\n",
       "      <td>50</td>\n",
       "      <td>&lt;function cross_entropy at 0x284780e50&gt;</td>\n",
       "      <td>0.278261</td>\n",
       "    </tr>\n",
       "  </tbody>\n",
       "</table>\n",
       "</div>"
      ],
      "text/plain": [
       "   index optimizer_  NUM_HIDDEN  epochs  \\\n",
       "0      7       adam          20      50   \n",
       "\n",
       "                                 loss_func   acc_val  \n",
       "0  <function cross_entropy at 0x284780e50>  0.278261  "
      ]
     },
     "execution_count": 24,
     "metadata": {},
     "output_type": "execute_result"
    }
   ],
   "source": [
    "output = output.assign(acc_val = result_val_acc)\n",
    "print('MEJOR COMBINACIÓN DE Parametros para el modelo GRU ')\n",
    "best_params_GRU = output.loc[output.acc_val == output.acc_val.max()].reset_index()\n",
    "best_params_GRU"
   ]
  },
  {
   "cell_type": "code",
   "execution_count": 25,
   "id": "a69efdeb",
   "metadata": {},
   "outputs": [
    {
     "name": "stdout",
     "output_type": "stream",
     "text": [
      "test_accuracy: 0.2522\n",
      "test_accuracy: 0.2435\n",
      "test_accuracy: 0.2783\n",
      "test_accuracy: 0.2261\n",
      "test_accuracy: 0.2609\n",
      "test_accuracy: 0.2435\n",
      "test_accuracy: 0.2522\n",
      "test_accuracy: 0.2087\n",
      "test_accuracy: 0.2261\n",
      "test_accuracy: 0.2522\n",
      "test_accuracy: 0.2348\n",
      "test_accuracy: 0.2174\n",
      "test_accuracy: 0.2522\n",
      "test_accuracy: 0.2522\n",
      "test_accuracy: 0.2522\n",
      "test_accuracy: 0.2522\n",
      "test_accuracy: 0.2261\n",
      "test_accuracy: 0.2261\n",
      "test_accuracy: 0.2261\n",
      "test_accuracy: 0.2261\n",
      "test_accuracy: 0.2348\n",
      "test_accuracy: 0.2348\n",
      "test_accuracy: 0.2348\n",
      "test_accuracy: 0.2348\n",
      "CPU times: user 13min 9s, sys: 9min, total: 22min 10s\n",
      "Wall time: 12min 16s\n"
     ]
    }
   ],
   "source": [
    "%%time\n",
    "## agregamos el de LSTM\n",
    "from itertools import product\n",
    "param_names = list(params_.keys())\n",
    "# zip with parameter names in order to get original property\n",
    "param_values = (zip(param_names, x) for x in product(*params_.values()))\n",
    "\n",
    "result_val_acc = list()\n",
    "output_LSTM = pd.DataFrame()\n",
    "for paramset in param_values:\n",
    "    # use the dict from iterator of tuples constructor\n",
    "    dict_temp = dict(paramset)\n",
    "    output_LSTM = output_LSTM.append(dict_temp, ignore_index=True)\n",
    "    # operando la grilla para tener el accuracy y guardar en lista\n",
    "\n",
    "    result_val_acc.append(lstm_training_validation(vocab_size = len(vocab_), embed_dim = dict_temp['NUM_HIDDEN'],\n",
    "                            rnn_hidden_size = dict_temp['NUM_HIDDEN'],\n",
    "                            fc_hidden_size = dict_temp['NUM_HIDDEN'],\n",
    "                            num_epochs = dict_temp['epochs'],\n",
    "                            lr=0.001,\n",
    "                            num_classes=len(df_filter.evaluation.unique()),\n",
    "                            device = device,\n",
    "                            optimizer_=dict_temp['optimizer_'],\n",
    "                            loss_func = dict_temp['loss_func']\n",
    "                            ))"
   ]
  },
  {
   "cell_type": "code",
   "execution_count": 26,
   "id": "5184577d",
   "metadata": {},
   "outputs": [
    {
     "name": "stdout",
     "output_type": "stream",
     "text": [
      "MEJOR COMBINACIÓN DE Parametros para el modelo LSTM\n"
     ]
    },
    {
     "data": {
      "text/html": [
       "<div>\n",
       "<style scoped>\n",
       "    .dataframe tbody tr th:only-of-type {\n",
       "        vertical-align: middle;\n",
       "    }\n",
       "\n",
       "    .dataframe tbody tr th {\n",
       "        vertical-align: top;\n",
       "    }\n",
       "\n",
       "    .dataframe thead th {\n",
       "        text-align: right;\n",
       "    }\n",
       "</style>\n",
       "<table border=\"1\" class=\"dataframe\">\n",
       "  <thead>\n",
       "    <tr style=\"text-align: right;\">\n",
       "      <th></th>\n",
       "      <th>index</th>\n",
       "      <th>optimizer_</th>\n",
       "      <th>NUM_HIDDEN</th>\n",
       "      <th>epochs</th>\n",
       "      <th>loss_func</th>\n",
       "      <th>acc_val</th>\n",
       "    </tr>\n",
       "  </thead>\n",
       "  <tbody>\n",
       "    <tr>\n",
       "      <th>0</th>\n",
       "      <td>2</td>\n",
       "      <td>adam</td>\n",
       "      <td>10</td>\n",
       "      <td>30</td>\n",
       "      <td>&lt;function cross_entropy at 0x284780e50&gt;</td>\n",
       "      <td>0.278261</td>\n",
       "    </tr>\n",
       "  </tbody>\n",
       "</table>\n",
       "</div>"
      ],
      "text/plain": [
       "   index optimizer_  NUM_HIDDEN  epochs  \\\n",
       "0      2       adam          10      30   \n",
       "\n",
       "                                 loss_func   acc_val  \n",
       "0  <function cross_entropy at 0x284780e50>  0.278261  "
      ]
     },
     "execution_count": 26,
     "metadata": {},
     "output_type": "execute_result"
    }
   ],
   "source": [
    "output_LSTM = output_LSTM.assign(acc_val = result_val_acc)\n",
    "print('MEJOR COMBINACIÓN DE Parametros para el modelo LSTM')\n",
    "output_LSTM = output_LSTM.loc[output_LSTM.acc_val == output_LSTM.acc_val.max()].reset_index()\n",
    "output_LSTM"
   ]
  },
  {
   "cell_type": "markdown",
   "id": "3bee26f8",
   "metadata": {},
   "source": [
    "Con base en el analisis previo construido, nos quedamos con un modelo bajo las siguientes condiciones: \n",
    "\n",
    "- optimizer: SGD\n",
    "- Num_hidden: 10\n",
    "- epochs: 75\n",
    "- LOss_function: Cross Entropy"
   ]
  },
  {
   "cell_type": "code",
   "execution_count": 33,
   "id": "3b099df7",
   "metadata": {},
   "outputs": [
    {
     "name": "stdout",
     "output_type": "stream",
     "text": [
      "test_accuracy: 0.2783\n"
     ]
    }
   ],
   "source": [
    "acc_test, train_acc, valid_acc, model_gru=  gru_training_validation(vocab_size = len(vocab_), embed_dim =20,# best_params['NUM_HIDDEN'][0],\n",
    "                            rnn_hidden_size = 20,#best_params['NUM_HIDDEN'][0],\n",
    "                            fc_hidden_size = 20,#best_params['NUM_HIDDEN'][0],\n",
    "                            num_epochs =50,# best_params['epochs'][0],\n",
    "                            lr=0.001,\n",
    "                            num_classes=len(df_filter.evaluation.unique()),\n",
    "                            device = device,\n",
    "                            optimizer_='adam',#best_params['optimizer_'][0],\n",
    "                            loss_func = F.cross_entropy,#best_params['loss_func'][0],\n",
    "                            return_for_graphichs= True\n",
    "                            )"
   ]
  },
  {
   "cell_type": "code",
   "execution_count": 34,
   "id": "5e857f6d",
   "metadata": {},
   "outputs": [
    {
     "data": {
      "text/plain": [
       "<matplotlib.legend.Legend at 0x2b8a13e50>"
      ]
     },
     "execution_count": 34,
     "metadata": {},
     "output_type": "execute_result"
    },
    {
     "data": {
      "image/png": "[encoded data removed]",
      "text/plain": [
       "<Figure size 640x480 with 1 Axes>"
      ]
     },
     "metadata": {},
     "output_type": "display_data"
    }
   ],
   "source": [
    "plt.plot(range(len(train_acc)), train_acc, 'r', label='train')\n",
    "plt.plot(range(len(train_acc)), valid_acc, 'b', label = 'valid')\n",
    "plt.legend()"
   ]
  },
  {
   "cell_type": "code",
   "execution_count": 35,
   "id": "7538fa80",
   "metadata": {},
   "outputs": [
    {
     "data": {
      "text/plain": [
       "RNN_GRU_BI(\n",
       "  (embedding): Embedding(4221, 20, padding_idx=0)\n",
       "  (rnn): GRU(20, 20, batch_first=True, bidirectional=True)\n",
       "  (fc1): Linear(in_features=40, out_features=20, bias=True)\n",
       "  (relu): ReLU()\n",
       "  (fc2): Linear(in_features=20, out_features=60, bias=True)\n",
       "  (tanh): Tanh()\n",
       "  (dropout1): Dropout(p=0.25, inplace=False)\n",
       "  (fc3): Linear(in_features=60, out_features=20, bias=True)\n",
       "  (dropout2): Dropout(p=0.25, inplace=False)\n",
       "  (fc4): Linear(in_features=20, out_features=5, bias=True)\n",
       "  (sigmoid): Sigmoid()\n",
       ")"
      ]
     },
     "execution_count": 35,
     "metadata": {},
     "output_type": "execute_result"
    }
   ],
   "source": [
    "model_gru.eval()"
   ]
  },
  {
   "cell_type": "code",
   "execution_count": 30,
   "id": "e724534e",
   "metadata": {},
   "outputs": [
    {
     "data": {
      "text/plain": [
       "OrderedDict([('embedding.weight',\n",
       "              tensor([[ 0.0000,  0.0000,  0.0000,  ...,  0.0000,  0.0000,  0.0000],\n",
       "                      [ 0.3632,  0.3040,  0.1791,  ..., -1.7606,  0.6179,  0.8061],\n",
       "                      [ 0.7254, -1.6484, -0.4206,  ...,  0.0746,  1.3232,  1.7171],\n",
       "                      ...,\n",
       "                      [-0.3435, -0.3522,  0.8941,  ...,  0.9178,  2.0695,  0.7487],\n",
       "                      [-0.1810,  1.6964, -0.3767,  ..., -0.5316, -1.1233,  0.9177],\n",
       "                      [ 0.2410,  0.6598,  0.5577,  ...,  0.6855, -1.1125,  3.2602]])),\n",
       "             ('rnn.weight_ih_l0',\n",
       "              tensor([[-6.6944e-03, -1.9337e-01, -3.8909e-01, -2.1673e-01, -1.8606e-01,\n",
       "                       -1.3828e-01,  4.6237e-01,  1.6642e-01, -5.3326e-02,  2.4816e-01],\n",
       "                      [ 5.1029e-02,  2.2157e-01,  2.6994e-01, -2.8742e-01, -4.3374e-02,\n",
       "                        3.3735e-01, -7.3035e-02,  2.0079e-01, -2.9365e-01,  1.4259e-01],\n",
       "                      [-2.5289e-01,  2.7307e-01, -1.0878e-01,  9.5893e-02,  3.0566e-01,\n",
       "                        1.6942e-01, -2.6100e-01,  1.5317e-02,  2.2906e-01, -1.2419e-01],\n",
       "                      [-2.5316e-01,  8.5207e-02, -3.1593e-01, -1.8713e-01,  4.0425e-01,\n",
       "                        6.0782e-06,  3.4582e-01,  9.7786e-02, -9.0507e-02,  4.8199e-02],\n",
       "                      [ 4.2580e-01, -1.3334e-01, -3.7285e-01, -2.9865e-01, -3.2437e-01,\n",
       "                        9.7406e-02,  2.1793e-01, -1.4002e-01,  2.2001e-01, -3.0476e-01],\n",
       "                      [ 5.6697e-02,  5.0915e-02,  2.9870e-01,  4.5000e-01,  2.9630e-01,\n",
       "                       -2.9921e-01,  3.5794e-01,  2.0020e-02,  1.8767e-01,  3.8419e-01],\n",
       "                      [ 1.9814e-01,  1.4133e-01,  2.7241e-01,  2.0491e-01,  3.2051e-01,\n",
       "                        1.9201e-01,  9.8180e-02, -1.6633e-01, -6.2019e-02, -1.6424e-01],\n",
       "                      [ 2.7507e-01, -6.6219e-02, -1.2542e-01, -1.7500e-01, -2.4508e-01,\n",
       "                       -2.3718e-01,  4.1300e-01,  1.0167e-01,  1.3957e-01,  4.1709e-02],\n",
       "                      [ 1.4311e-01, -1.5377e-01, -5.2053e-02, -6.2297e-02,  8.2646e-02,\n",
       "                        8.3883e-02,  9.7337e-02, -2.3879e-01, -2.5309e-01, -1.6153e-01],\n",
       "                      [ 2.6976e-02,  8.5569e-02, -2.2219e-01,  2.6742e-01, -1.3666e-01,\n",
       "                        8.7555e-02, -5.1124e-02,  2.6714e-01, -7.4902e-02,  4.0761e-02],\n",
       "                      [ 2.4237e-02, -2.5492e-01,  2.3016e-01, -3.4369e-02,  2.1219e-02,\n",
       "                       -1.8093e-01, -1.7897e-01,  2.2281e-01,  3.6082e-01, -2.6516e-01],\n",
       "                      [ 1.3784e-01,  1.9486e-01, -2.3634e-01,  1.6715e-01,  1.1446e-01,\n",
       "                        8.2529e-02,  1.7850e-01,  3.2784e-01, -5.1037e-01,  8.6969e-02],\n",
       "                      [ 2.2709e-01, -2.4155e-01, -2.1182e-01, -1.8069e-01, -1.6633e-01,\n",
       "                        1.1925e-01,  7.7252e-02, -3.1208e-01,  1.8233e-01, -2.9134e-01],\n",
       "                      [-3.3446e-01,  2.0965e-01, -3.8895e-01,  2.2743e-02,  2.3717e-01,\n",
       "                        3.3781e-01, -3.6806e-01, -2.0926e-01, -1.8432e-01,  1.9264e-01],\n",
       "                      [ 2.5844e-01,  1.6014e-01, -2.1579e-01, -1.5354e-01,  3.2408e-01,\n",
       "                       -2.5410e-01,  2.8084e-01,  2.3810e-01,  1.0594e-01, -2.6341e-02],\n",
       "                      [-2.7350e-01, -4.4834e-01,  1.2681e-01,  2.4197e-01,  1.7645e-01,\n",
       "                       -2.2374e-01,  2.6209e-01, -1.1213e-01,  4.0428e-01,  2.3637e-01],\n",
       "                      [-3.5768e-03, -5.6483e-02, -2.9183e-01, -4.0609e-01, -2.7804e-01,\n",
       "                       -7.3941e-02,  1.5482e-01, -1.2235e-01,  2.7985e-01,  1.9859e-01],\n",
       "                      [ 1.3986e-01,  2.2776e-01,  2.9306e-01,  2.2833e-01,  2.1149e-01,\n",
       "                       -2.0385e-01,  1.3826e-03, -1.5653e-01,  2.1439e-01,  2.5792e-01],\n",
       "                      [-6.1190e-02, -8.8676e-02, -3.1071e-01,  1.0318e-01,  1.2988e-01,\n",
       "                       -4.0923e-01, -1.6461e-01,  7.2851e-02, -1.5540e-01, -5.3883e-02],\n",
       "                      [ 9.1648e-02, -4.4651e-01,  2.2217e-01, -5.3801e-02, -2.4841e-01,\n",
       "                       -2.2982e-01, -1.3745e-01, -1.2306e-01,  1.5214e-01, -1.2355e-02],\n",
       "                      [ 6.0342e-02, -2.3719e-02, -4.2202e-01, -2.0725e-01, -1.2738e-01,\n",
       "                        9.6864e-02, -3.6709e-01, -8.9614e-04,  1.3215e-01,  1.9047e-01],\n",
       "                      [ 5.4162e-02, -7.4150e-02,  9.8764e-02,  8.7200e-02, -1.2924e-01,\n",
       "                       -3.1470e-01, -3.3340e-01, -1.5893e-01,  1.0284e-01,  2.3303e-01],\n",
       "                      [-2.5345e-01,  4.8474e-02, -2.0481e-01, -1.3066e-01, -3.9614e-02,\n",
       "                        2.3512e-01,  5.1061e-02,  6.4160e-03, -6.4349e-02,  3.5446e-01],\n",
       "                      [ 2.8524e-01,  1.8177e-01,  2.2868e-01, -1.1395e-01,  9.6227e-02,\n",
       "                        2.4827e-01, -1.0063e-01,  4.0728e-01, -1.0064e-02, -3.0789e-01],\n",
       "                      [ 3.6467e-01, -5.6260e-02, -3.2833e-01, -4.5362e-01,  3.3859e-02,\n",
       "                        1.7634e-01, -3.1306e-01, -1.9698e-01,  1.5926e-01, -2.6528e-01],\n",
       "                      [-3.4224e-01, -1.7444e-01,  4.2703e-01,  5.3589e-01,  1.1048e-01,\n",
       "                        3.1676e-01, -1.6862e-02,  2.6139e-01, -3.2548e-01, -1.3524e-01],\n",
       "                      [-3.6842e-01, -2.5081e-01, -5.5675e-02, -2.2788e-01,  1.4122e-01,\n",
       "                        3.5297e-02,  9.5923e-03, -1.3944e-01,  1.6294e-01,  3.1414e-01],\n",
       "                      [-2.2629e-01,  3.8659e-01, -1.4419e-01,  3.2466e-01, -1.9819e-01,\n",
       "                        5.1150e-02,  4.4147e-01, -1.6892e-01,  1.9832e-01, -1.2310e-01],\n",
       "                      [ 8.3115e-02, -3.0150e-01, -2.1389e-01,  1.6126e-01,  2.0054e-01,\n",
       "                       -1.5525e-01, -4.3863e-01, -2.2097e-01, -1.8579e-01, -2.1859e-01],\n",
       "                      [ 4.6593e-01,  4.9357e-02, -2.8110e-01, -2.2093e-01, -2.3318e-02,\n",
       "                        5.4239e-02, -3.1339e-01, -2.1518e-02, -9.6157e-02,  1.4525e-01]])),\n",
       "             ('rnn.weight_hh_l0',\n",
       "              tensor([[-2.1075e-01, -1.8487e-01,  2.2257e-01,  6.9892e-02,  2.1992e-01,\n",
       "                       -2.4076e-01,  1.2356e-01,  2.8026e-02, -7.2292e-02, -3.8870e-02],\n",
       "                      [-1.9540e-01,  1.3729e-01, -1.4199e-02,  1.1518e-01, -1.3337e-01,\n",
       "                       -2.6186e-03,  1.3950e-01, -2.7643e-01, -2.1742e-02, -6.6971e-02],\n",
       "                      [-4.1633e-01,  1.4991e-01, -1.3918e-02,  4.6224e-01,  3.3664e-01,\n",
       "                        4.3915e-01,  1.1561e-01, -2.6203e-01,  8.8881e-02, -5.1353e-02],\n",
       "                      [ 9.8855e-02, -7.2349e-02,  1.9987e-01, -4.8406e-02,  2.4187e-03,\n",
       "                        2.4056e-01,  6.6020e-02, -1.0498e-01, -2.1772e-01, -1.6191e-01],\n",
       "                      [ 2.8841e-01, -2.6468e-01,  2.8788e-01,  4.3832e-01, -1.2061e-01,\n",
       "                       -1.7472e-01,  8.1794e-02, -2.7117e-01, -6.6643e-02,  1.4936e-01],\n",
       "                      [ 6.1729e-02,  2.7795e-02, -2.3994e-01, -7.1016e-02,  3.9291e-01,\n",
       "                        4.2000e-01, -7.8471e-02,  2.1383e-01,  2.0630e-01, -8.2863e-02],\n",
       "                      [ 2.0641e-01,  3.2105e-01, -1.2422e-01,  2.3763e-01,  1.1174e-01,\n",
       "                        4.4424e-01,  9.3046e-02, -4.3835e-02,  2.3389e-01, -3.7192e-01],\n",
       "                      [-1.0311e-01,  2.1319e-01,  6.0762e-02,  3.9589e-01,  2.2739e-01,\n",
       "                        1.9626e-02,  6.3497e-03,  3.4164e-01, -1.9673e-01, -4.4810e-03],\n",
       "                      [ 4.4930e-01,  1.3979e-01,  3.8003e-01,  6.8773e-02,  4.8077e-02,\n",
       "                       -4.7564e-01, -1.1344e-01, -3.6604e-01,  1.6326e-01, -1.5026e-01],\n",
       "                      [-6.2955e-02, -5.5036e-02,  8.3423e-02, -1.4722e-01,  7.5030e-02,\n",
       "                        2.9883e-01, -2.6880e-01,  5.0795e-01,  3.0655e-02, -3.2155e-01],\n",
       "                      [-1.6400e-01,  4.3396e-01,  1.1471e-02, -3.4695e-01, -3.8524e-02,\n",
       "                        1.8364e-01, -2.0998e-01, -1.0686e-01, -4.4196e-01,  1.0361e-01],\n",
       "                      [-2.2291e-01,  2.2239e-01,  1.7331e-01,  3.3624e-02, -1.3363e-01,\n",
       "                       -1.7301e-01,  1.9255e-01, -1.3556e-01, -1.8795e-01,  8.1220e-02],\n",
       "                      [ 1.2936e-01, -1.1927e-01, -2.3097e-01,  2.4527e-01,  2.0012e-01,\n",
       "                       -7.9940e-02,  1.8552e-01, -8.5864e-02,  1.1645e-01, -2.3184e-01],\n",
       "                      [-7.2195e-02, -4.0975e-01,  4.5084e-01,  4.6677e-01,  5.9477e-02,\n",
       "                       -2.6355e-02, -2.1230e-01, -9.4800e-02, -2.1716e-01,  3.0563e-02],\n",
       "                      [ 9.7813e-02, -3.7860e-01,  1.1866e-01,  1.1796e-01, -2.8495e-02,\n",
       "                       -3.8053e-01,  4.1367e-01, -3.5129e-01, -1.7546e-01, -6.3351e-02],\n",
       "                      [ 7.9590e-02,  3.9196e-01, -3.4646e-01, -3.6711e-01, -4.6665e-01,\n",
       "                        3.2271e-01,  2.0975e-01,  1.3022e-01, -2.6644e-01, -3.0945e-01],\n",
       "                      [-2.3259e-01, -6.1055e-02, -2.4704e-01,  2.6741e-01, -2.0332e-01,\n",
       "                        1.8920e-01,  3.1756e-02, -2.1594e-01, -5.6348e-04, -2.3218e-01],\n",
       "                      [ 1.7912e-01, -1.3044e-01, -8.6082e-02, -2.6984e-01,  1.5674e-01,\n",
       "                       -2.0013e-01,  8.1398e-02, -5.9021e-02,  9.9904e-02,  2.2876e-01],\n",
       "                      [ 1.6050e-01, -2.5528e-01,  3.6474e-01,  4.8843e-02,  6.8901e-02,\n",
       "                       -1.7700e-01,  4.1661e-01, -1.3933e-01, -5.4242e-02,  1.2263e-01],\n",
       "                      [-9.9222e-02, -2.1982e-01,  3.1270e-02,  1.2814e-01, -4.0060e-01,\n",
       "                        2.2122e-02,  1.2515e-01, -1.1197e-01,  1.8440e-01,  1.3358e-01],\n",
       "                      [-4.0888e-02, -2.9850e-01,  2.9369e-01,  1.6579e-01,  3.4627e-01,\n",
       "                       -2.5237e-01,  1.1307e-01,  3.1456e-02, -2.7486e-01, -1.8309e-01],\n",
       "                      [-3.2305e-02,  4.3687e-02,  1.6756e-01, -3.9234e-01,  2.6364e-01,\n",
       "                        1.4498e-01, -9.6919e-03, -2.8728e-01,  3.1858e-01,  1.1433e-01],\n",
       "                      [ 1.2930e-02, -3.9411e-01,  3.2480e-01, -1.5344e-02, -3.3771e-01,\n",
       "                       -4.1315e-01,  3.8626e-01,  5.7871e-02, -2.9863e-01, -9.7360e-02],\n",
       "                      [-2.3825e-01, -1.3528e-01, -5.5992e-02,  3.6938e-01,  2.9999e-01,\n",
       "                        1.7755e-01, -8.8509e-02, -1.2980e-01,  3.8082e-02, -4.1520e-02],\n",
       "                      [ 2.8739e-01,  1.6947e-01,  1.3758e-01,  1.1491e-01, -1.8658e-01,\n",
       "                       -2.7172e-01, -2.3248e-01,  5.6507e-02,  1.3985e-01, -3.4480e-01],\n",
       "                      [-2.8583e-01,  1.3978e-02,  2.6151e-01,  7.2187e-02,  3.5436e-02,\n",
       "                        5.7631e-01, -2.5311e-03, -2.2080e-02,  2.6394e-01, -4.5273e-01],\n",
       "                      [-1.6765e-01, -1.2884e-01, -1.0212e-01, -2.5102e-01,  1.2245e-02,\n",
       "                       -4.1665e-01,  4.3084e-01,  9.5382e-02,  9.2304e-02,  2.7483e-01],\n",
       "                      [-6.9501e-04, -3.7493e-03, -9.9988e-02,  2.7305e-01,  2.7646e-01,\n",
       "                        3.2754e-01, -2.3416e-01, -2.0151e-01, -2.0359e-01,  2.2565e-01],\n",
       "                      [-3.8754e-03,  2.2754e-01,  1.8079e-01, -7.1735e-02, -1.1034e-01,\n",
       "                       -3.2708e-01, -7.3475e-02, -2.6990e-02, -2.5551e-01, -1.4372e-01],\n",
       "                      [-4.3327e-02, -3.0270e-02,  1.8551e-01,  3.2598e-01,  1.6704e-01,\n",
       "                       -3.4684e-01,  3.6268e-01, -2.0740e-02,  2.6921e-01, -1.9321e-01]])),\n",
       "             ('rnn.bias_ih_l0',\n",
       "              tensor([ 0.0989,  0.1542,  0.3821, -0.1166,  0.0549,  0.0753,  0.0552,  0.0646,\n",
       "                      -0.3842,  0.2495,  0.0736,  0.0910, -0.1993,  0.0315, -0.5467,  0.0646,\n",
       "                      -0.0202, -0.2616, -0.1045, -0.4213,  0.0435,  0.3554,  0.0685,  0.1781,\n",
       "                       0.3314,  0.1058, -0.2782,  0.0520, -0.0458, -0.2110])),\n",
       "             ('rnn.bias_hh_l0',\n",
       "              tensor([-0.0751,  0.3174,  0.1542,  0.3165,  0.0767,  0.4343,  0.4652, -0.0411,\n",
       "                       0.0849,  0.0789,  0.0286,  0.0136,  0.1555,  0.0215, -0.2484, -0.2653,\n",
       "                      -0.3019, -0.2367, -0.4515, -0.0069,  0.0663,  0.0497, -0.3071, -0.2934,\n",
       "                       0.2655,  0.0366, -0.0957,  0.3260,  0.0530, -0.2239])),\n",
       "             ('rnn.weight_ih_l0_reverse',\n",
       "              tensor([[ 0.1644, -0.1111,  0.1434,  0.1867,  0.1860,  0.2456, -0.2487, -0.1941,\n",
       "                       -0.0373,  0.3371],\n",
       "                      [-0.3533, -0.1714,  0.2000, -0.1909, -0.3159, -0.1439,  0.2054,  0.0130,\n",
       "                        0.0296, -0.3431],\n",
       "                      [ 0.0696,  0.1755,  0.0797,  0.4276, -0.1941, -0.5282, -0.4204, -0.0063,\n",
       "                        0.2591,  0.3215],\n",
       "                      [-0.1901,  0.2303, -0.1563, -0.4018,  0.1574,  0.3671,  0.2920,  0.4135,\n",
       "                       -0.1930, -0.2745],\n",
       "                      [-0.3932,  0.3302,  0.1695,  0.0035,  0.0340, -0.1316,  0.0817, -0.3486,\n",
       "                        0.0294, -0.2327],\n",
       "                      [ 0.4490, -0.2708,  0.0520,  0.1996, -0.0498,  0.0590, -0.0571, -0.3317,\n",
       "                        0.0451,  0.0150],\n",
       "                      [-0.4470,  0.2466,  0.1211,  0.2910, -0.3544, -0.1714,  0.1869, -0.1185,\n",
       "                        0.0321, -0.3256],\n",
       "                      [ 0.2837, -0.2777, -0.0040, -0.1064, -0.1139, -0.0284, -0.0190, -0.0959,\n",
       "                        0.0610,  0.0387],\n",
       "                      [ 0.1679, -0.1393, -0.2843,  0.1593,  0.0625, -0.0704,  0.2327,  0.3012,\n",
       "                        0.3741,  0.0788],\n",
       "                      [ 0.0380, -0.1019,  0.2195,  0.1325,  0.0487, -0.1732, -0.0340, -0.0772,\n",
       "                        0.1692,  0.2546],\n",
       "                      [-0.2268, -0.1951,  0.1108, -0.0877, -0.3733, -0.0476,  0.2382, -0.2349,\n",
       "                       -0.0734, -0.2076],\n",
       "                      [ 0.3918, -0.2375, -0.0079, -0.3634, -0.2443,  0.2745,  0.0754, -0.2289,\n",
       "                        0.0565, -0.2083],\n",
       "                      [ 0.3637, -0.4395, -0.1860, -0.1789, -0.1479, -0.4152, -0.1010, -0.3848,\n",
       "                        0.0686,  0.3255],\n",
       "                      [-0.0112, -0.4590, -0.1293,  0.0704, -0.2618,  0.5151,  0.1503, -0.3769,\n",
       "                       -0.0654,  0.2035],\n",
       "                      [ 0.3059,  0.2876,  0.1660, -0.0694,  0.0279,  0.1199, -0.1714, -0.3753,\n",
       "                        0.2520, -0.1236],\n",
       "                      [-0.1412,  0.2125,  0.3215, -0.1778, -0.5297,  0.3868, -0.0713,  0.2573,\n",
       "                        0.0546,  0.0749],\n",
       "                      [-0.2720,  0.3069,  0.0603, -0.2178,  0.2982,  0.0522, -0.0305, -0.1146,\n",
       "                        0.3152,  0.3400],\n",
       "                      [-0.2352,  0.2627, -0.1918, -0.0751, -0.0918, -0.4526, -0.5616, -0.0795,\n",
       "                        0.3394, -0.0883],\n",
       "                      [ 0.3011,  0.0159,  0.1725,  0.2347,  0.0218,  0.1856,  0.2300,  0.2430,\n",
       "                        0.0458, -0.0237],\n",
       "                      [-0.1413,  0.1310, -0.2187, -0.2274, -0.0094,  0.1324, -0.0451,  0.1570,\n",
       "                        0.1554,  0.1189],\n",
       "                      [ 0.4027, -0.3630, -0.0237, -0.0587, -0.2126,  0.3850, -0.1656, -0.1650,\n",
       "                       -0.0933,  0.0700],\n",
       "                      [-0.4673,  0.2491,  0.4138, -0.0957, -0.1179, -0.4146, -0.1749, -0.3842,\n",
       "                        0.2757, -0.0799],\n",
       "                      [ 0.0098,  0.2623, -0.4456,  0.0831,  0.3123,  0.4160, -0.3139,  0.0884,\n",
       "                       -0.0842,  0.3274],\n",
       "                      [ 0.3397, -0.2356, -0.2317, -0.0616,  0.3028, -0.2871,  0.1098,  0.0257,\n",
       "                       -0.3777,  0.0160],\n",
       "                      [ 0.4177,  0.1462, -0.1714,  0.0940,  0.0634, -0.1489, -0.1155, -0.2025,\n",
       "                        0.3777, -0.0606],\n",
       "                      [-0.0844, -0.0148, -0.1495, -0.0920,  0.4447, -0.3374, -0.3091,  0.1070,\n",
       "                       -0.1510,  0.2111],\n",
       "                      [ 0.2930,  0.1887, -0.0305,  0.0218,  0.1592, -0.1389, -0.0688, -0.4353,\n",
       "                       -0.0715,  0.2188],\n",
       "                      [ 0.1046, -0.0436, -0.4741, -0.2754,  0.0785, -0.2106, -0.2788, -0.2165,\n",
       "                        0.1404,  0.2162],\n",
       "                      [-0.0213,  0.0769,  0.2218,  0.2042, -0.1782,  0.1651,  0.4094,  0.1627,\n",
       "                       -0.0391, -0.2693],\n",
       "                      [ 0.0186,  0.0981, -0.1160, -0.0098,  0.4214,  0.2984,  0.1675, -0.0596,\n",
       "                        0.1301,  0.0354]])),\n",
       "             ('rnn.weight_hh_l0_reverse',\n",
       "              tensor([[-2.2042e-01, -1.0877e-01, -2.1780e-01,  7.2412e-02,  1.3784e-01,\n",
       "                        1.8237e-01, -3.6133e-01, -1.6687e-01,  1.9424e-02, -6.8907e-02],\n",
       "                      [-3.3571e-01,  2.9101e-01, -1.3065e-01,  1.0168e-01, -1.6740e-01,\n",
       "                       -2.5702e-01,  3.2873e-01, -1.1617e-01, -5.6333e-02,  1.4233e-01],\n",
       "                      [ 3.0438e-03,  2.1627e-01, -2.2655e-01,  5.0873e-03,  1.1110e-04,\n",
       "                        4.9352e-02, -4.3918e-01,  9.0606e-02,  2.3044e-01,  9.1194e-03],\n",
       "                      [-1.6928e-01,  2.6698e-01, -7.4805e-02,  2.6173e-02, -3.3568e-02,\n",
       "                        1.2550e-01, -1.1952e-01,  3.0788e-01, -2.9511e-01,  5.4901e-02],\n",
       "                      [-1.5985e-02,  4.6844e-01, -2.5205e-01,  1.6282e-01,  3.5934e-02,\n",
       "                       -7.3619e-02, -2.2139e-01,  2.1999e-02,  1.2124e-01, -1.1094e-01],\n",
       "                      [ 2.7057e-01, -1.7981e-01,  1.7994e-01,  3.1025e-02,  2.0228e-01,\n",
       "                        8.0600e-02, -2.7648e-01,  3.2140e-01,  3.2583e-01,  1.0397e-01],\n",
       "                      [ 6.9105e-02,  4.9187e-01, -3.2345e-01,  3.5254e-01, -4.2158e-01,\n",
       "                       -1.5262e-01, -2.2252e-01, -4.4526e-01,  5.2255e-02, -1.8952e-01],\n",
       "                      [ 1.1485e-01,  4.6629e-01, -3.8076e-01,  4.5023e-01, -7.0916e-02,\n",
       "                       -5.8374e-02, -3.2441e-01, -4.3009e-01, -2.9078e-02, -3.2446e-02],\n",
       "                      [-3.1561e-01, -8.2502e-02, -4.4910e-01, -2.8114e-01, -1.4376e-01,\n",
       "                        8.6427e-02, -4.8378e-01,  5.8811e-02,  2.2285e-01, -1.0538e-01],\n",
       "                      [ 2.4953e-01,  3.0239e-01, -2.1149e-01,  2.2413e-01, -1.4807e-01,\n",
       "                       -1.2074e-01, -4.1467e-01, -3.8176e-01, -3.0913e-01, -3.5364e-01],\n",
       "                      [-3.4702e-02, -2.1242e-02,  2.3696e-01,  6.3872e-02, -1.0625e-02,\n",
       "                       -3.9131e-01, -1.6503e-01, -1.6666e-01,  6.9502e-02,  2.7871e-01],\n",
       "                      [ 1.0616e-01,  1.9861e-01,  1.1182e-01,  1.5288e-01, -3.9089e-01,\n",
       "                        4.6559e-02, -1.7075e-01, -1.5178e-01,  2.9795e-01,  6.2482e-02],\n",
       "                      [-4.2339e-01,  7.4152e-02,  2.1405e-02, -3.8753e-01, -3.4284e-01,\n",
       "                       -3.5333e-01,  3.2202e-01, -6.9200e-02,  1.3439e-01, -2.1115e-02],\n",
       "                      [-3.5239e-01, -1.8281e-01,  2.8331e-01, -1.9150e-01,  5.4051e-02,\n",
       "                       -3.8863e-02, -3.6092e-01,  1.9445e-01, -4.3616e-02,  1.7979e-01],\n",
       "                      [-1.6853e-01, -7.7660e-02,  1.5268e-01, -9.9877e-02, -2.1307e-01,\n",
       "                       -1.5923e-02,  1.8340e-01,  6.7093e-02,  2.9592e-01,  3.7182e-01],\n",
       "                      [-3.5228e-01,  2.3121e-01,  3.5407e-01, -3.3012e-01, -1.8828e-01,\n",
       "                       -5.7472e-02, -7.0816e-02,  3.0697e-01, -1.9364e-01,  2.5524e-02],\n",
       "                      [ 5.4986e-02, -3.7858e-01, -3.6469e-01,  2.3685e-01, -2.4732e-01,\n",
       "                       -1.9832e-01, -2.2014e-01, -4.1201e-01,  4.1326e-01, -1.5543e-01],\n",
       "                      [-6.0638e-02,  1.8002e-01, -2.4031e-01, -3.5047e-02, -1.9925e-01,\n",
       "                        2.1795e-03, -3.7009e-02,  1.8944e-02, -6.9515e-02,  1.5223e-01],\n",
       "                      [-3.0347e-03, -1.1009e-01,  1.5011e-01, -2.4899e-01, -3.9735e-02,\n",
       "                        1.3747e-01, -7.6859e-02,  1.8813e-01,  3.3918e-01, -8.8448e-02],\n",
       "                      [-1.1766e-01, -1.3688e-01, -1.3169e-01, -1.5643e-01,  1.8913e-01,\n",
       "                        3.0830e-01,  3.5773e-01, -1.8146e-01, -1.2162e-01,  3.5472e-01],\n",
       "                      [ 1.9129e-01,  1.3643e-01,  4.9499e-01, -1.0425e-01,  3.5766e-01,\n",
       "                        3.8077e-01, -4.0415e-02, -1.6627e-01, -3.5324e-01, -7.5988e-02],\n",
       "                      [ 1.1350e-02,  2.1546e-01, -1.9447e-01, -3.4817e-02,  1.3418e-01,\n",
       "                        1.6868e-01, -2.3348e-01,  1.4281e-01, -1.0662e-01,  1.0242e-01],\n",
       "                      [-2.4296e-01, -2.9242e-02,  4.3497e-01,  2.2187e-01,  1.7901e-01,\n",
       "                        1.9199e-01,  1.1724e-01,  5.1561e-01, -2.3793e-01, -1.5067e-01],\n",
       "                      [-5.5587e-02,  1.8009e-01, -1.0515e-01, -1.0249e-01, -3.2202e-01,\n",
       "                        2.3730e-01, -3.8269e-02,  1.0707e-01, -2.6593e-01, -3.7359e-02],\n",
       "                      [-6.6115e-02, -5.3967e-01,  1.1042e-01, -5.4743e-02,  3.7823e-01,\n",
       "                       -2.7817e-01, -2.8365e-01, -7.8144e-02, -9.1450e-02,  2.3178e-01],\n",
       "                      [ 3.6115e-01, -1.3494e-01,  5.6801e-02,  4.1063e-01, -2.4433e-01,\n",
       "                       -3.2209e-02, -1.0444e-01, -4.3437e-01,  1.1311e-01,  8.3242e-03],\n",
       "                      [-1.2706e-01, -2.3205e-01,  3.2738e-01, -9.0583e-02, -1.0354e-01,\n",
       "                       -3.5674e-01,  1.9120e-01,  1.2066e-01, -1.2528e-01,  2.9200e-01],\n",
       "                      [ 3.3735e-01, -4.1558e-01,  2.2940e-01,  1.7257e-01,  4.1972e-01,\n",
       "                        9.0342e-02,  7.1155e-02,  3.0148e-02,  1.4381e-01, -4.3623e-02],\n",
       "                      [-1.0514e-01, -4.1056e-02, -1.2130e-01, -3.8065e-01, -8.9038e-02,\n",
       "                       -1.7703e-01,  1.6143e-01,  3.9412e-02,  2.6861e-01, -2.0557e-01],\n",
       "                      [-4.3530e-01, -2.5435e-01,  4.0515e-01,  2.9344e-01, -1.6554e-02,\n",
       "                       -1.0886e-01,  3.0488e-01,  5.1477e-01, -3.4832e-01,  1.8746e-02]])),\n",
       "             ('rnn.bias_ih_l0_reverse',\n",
       "              tensor([-0.1821,  0.0973,  0.0596, -0.0874,  0.2672, -0.0197, -0.0731, -0.0921,\n",
       "                       0.4111,  0.1914,  0.0503, -0.0881, -0.2464,  0.0378,  0.1889, -0.1978,\n",
       "                      -0.2117, -0.1576, -0.1405,  0.1025, -0.1727, -0.0800, -0.1280,  0.3906,\n",
       "                       0.1346,  0.3583, -0.2944,  0.0638, -0.0474, -0.2210])),\n",
       "             ('rnn.bias_hh_l0_reverse',\n",
       "              tensor([ 0.2249, -0.2384,  0.2045, -0.1935,  0.0185, -0.1768, -0.0827,  0.4634,\n",
       "                       0.1334,  0.2512, -0.4472, -0.2319, -0.0993,  0.2276, -0.2238,  0.1070,\n",
       "                       0.0031,  0.1549,  0.2405, -0.2796,  0.2521,  0.3100, -0.2713, -0.0367,\n",
       "                      -0.2095, -0.1785, -0.1521, -0.1125,  0.1821, -0.1810])),\n",
       "             ('fc1.weight',\n",
       "              tensor([[ 0.0509, -0.0824, -0.0258,  0.1373,  0.3220, -0.4342, -0.2971,  0.1363,\n",
       "                       -0.0345,  0.2769,  0.1260, -0.2274,  0.3563, -0.0321,  0.1933,  0.3789,\n",
       "                       -0.0033,  0.2967, -0.1582, -0.2803],\n",
       "                      [-0.2119, -0.2191, -0.1022,  0.3365,  0.0242,  0.2949, -0.2883,  0.2922,\n",
       "                       -0.0719, -0.1631, -0.2039, -0.1456, -0.4444,  0.3054, -0.1848,  0.1954,\n",
       "                       -0.3829, -0.2011, -0.1100, -0.3452],\n",
       "                      [ 0.2857,  0.2613, -0.3006,  0.2085,  0.3489,  0.0648, -0.1071, -0.2895,\n",
       "                        0.1453,  0.2474,  0.2522, -0.2767,  0.2333,  0.1943,  0.1647,  0.3241,\n",
       "                       -0.0891,  0.1025, -0.2704,  0.2344],\n",
       "                      [ 0.3244,  0.2045,  0.2730, -0.1690, -0.0744, -0.1787, -0.0837,  0.2274,\n",
       "                        0.0864, -0.0565, -0.1890,  0.2104,  0.1845,  0.0327, -0.1669,  0.3054,\n",
       "                        0.1526,  0.1670, -0.1830,  0.2446],\n",
       "                      [-0.3459,  0.0600, -0.1604, -0.2178, -0.3303,  0.4208,  0.1016,  0.0458,\n",
       "                       -0.2054, -0.3643, -0.0699,  0.1562, -0.2542,  0.3307, -0.2185,  0.2560,\n",
       "                       -0.2206, -0.2636, -0.0228, -0.0551],\n",
       "                      [ 0.0881, -0.0214,  0.2079,  0.0514, -0.0897, -0.0095, -0.0745, -0.0308,\n",
       "                       -0.0452,  0.1593,  0.0320,  0.0198,  0.0486,  0.0737, -0.0512, -0.1835,\n",
       "                        0.0728, -0.1934,  0.1721,  0.0395],\n",
       "                      [ 0.0736, -0.1667, -0.1470,  0.0430, -0.0811,  0.3044, -0.1427,  0.1121,\n",
       "                       -0.2656,  0.0299, -0.1295,  0.2574, -0.4886,  0.0422, -0.0855,  0.2147,\n",
       "                       -0.2706, -0.2132,  0.1282, -0.2982],\n",
       "                      [-0.2282,  0.0281, -0.1961,  0.0465, -0.3546,  0.2784, -0.2782,  0.1191,\n",
       "                       -0.2888, -0.3027,  0.0493,  0.1860, -0.1686,  0.1703, -0.2922,  0.1673,\n",
       "                       -0.2997,  0.0258,  0.0191, -0.1539],\n",
       "                      [ 0.2697,  0.2015,  0.0683, -0.0219,  0.3786, -0.4089,  0.1317, -0.1506,\n",
       "                       -0.2488, -0.1333,  0.4036, -0.0969,  0.2603, -0.1216, -0.0886,  0.0624,\n",
       "                       -0.1368, -0.0302, -0.1191,  0.0094],\n",
       "                      [ 0.0577,  0.2167, -0.0479,  0.2581,  0.1832, -0.0672, -0.2587,  0.2908,\n",
       "                        0.0038, -0.1675, -0.2452,  0.1755, -0.3107,  0.1146,  0.1245, -0.1569,\n",
       "                       -0.0978, -0.0977,  0.2424, -0.0552]])),\n",
       "             ('fc1.bias',\n",
       "              tensor([ 0.0096,  0.1483,  0.2031, -0.0061,  0.2383, -0.1921,  0.2162, -0.0069,\n",
       "                       0.1772,  0.1335])),\n",
       "             ('fc2.weight',\n",
       "              tensor([[ 0.4272, -0.1032,  0.5101, -0.0643, -0.4707, -0.1630, -0.4431, -0.2042,\n",
       "                        0.2398, -0.3636],\n",
       "                      [-0.4765, -0.4252, -0.2817,  0.2980,  0.1404, -0.2896, -0.3313,  0.0209,\n",
       "                       -0.1200, -0.3812],\n",
       "                      [ 0.2119, -0.2803, -0.3162,  0.4811, -0.5187, -0.0980,  0.0690, -0.3183,\n",
       "                       -0.1642,  0.2889],\n",
       "                      [-0.3652,  0.2742,  0.2907,  0.0363,  0.0213, -0.0661,  0.0708,  0.1595,\n",
       "                       -0.5155, -0.1398],\n",
       "                      [-0.1640,  0.4852, -0.4010, -0.4702,  0.2023,  0.2802,  0.5349,  0.2778,\n",
       "                       -0.3552,  0.0526]])),\n",
       "             ('fc2.bias',\n",
       "              tensor([-0.1358, -0.1336, -0.0948, -0.2634, -0.0141]))])"
      ]
     },
     "execution_count": 30,
     "metadata": {},
     "output_type": "execute_result"
    }
   ],
   "source": [
    "model_gru.state_dict()"
   ]
  },
  {
   "cell_type": "code",
   "execution_count": 36,
   "id": "0b5c7270",
   "metadata": {},
   "outputs": [
    {
     "name": "stdout",
     "output_type": "stream",
     "text": [
      "test_accuracy: 0.2261\n"
     ]
    }
   ],
   "source": [
    "acc_test, train_acc, valid_acc, model_lstm=  lstm_training_validation(vocab_size = len(vocab_), embed_dim =10,# best_params['NUM_HIDDEN'][0],\n",
    "                            rnn_hidden_size = 10,#best_params['NUM_HIDDEN'][0],\n",
    "                            fc_hidden_size = 10,#best_params['NUM_HIDDEN'][0],\n",
    "                            num_epochs =50,# best_params['epochs'][0],\n",
    "                            lr=0.001,\n",
    "                            num_classes=len(df_filter.evaluation.unique()),\n",
    "                            device = device,\n",
    "                            optimizer_='adam',#best_params['optimizer_'][0],\n",
    "                            loss_func = F.cross_entropy,#best_params['loss_func'][0],\n",
    "                            return_for_graphichs= True\n",
    "                            )"
   ]
  },
  {
   "cell_type": "code",
   "execution_count": 37,
   "id": "c307221f",
   "metadata": {},
   "outputs": [
    {
     "data": {
      "text/plain": [
       "<matplotlib.legend.Legend at 0x2b8aab280>"
      ]
     },
     "execution_count": 37,
     "metadata": {},
     "output_type": "execute_result"
    },
    {
     "data": {
      "image/png": "[encoded data removed]",
      "text/plain": [
       "<Figure size 640x480 with 1 Axes>"
      ]
     },
     "metadata": {},
     "output_type": "display_data"
    }
   ],
   "source": [
    "plt.plot(range(len(train_acc)), train_acc, 'r', label='train')\n",
    "plt.plot(range(len(train_acc)), valid_acc, 'b', label = 'valid')\n",
    "plt.legend()"
   ]
  },
  {
   "cell_type": "code",
   "execution_count": 39,
   "id": "15b54c8b",
   "metadata": {},
   "outputs": [
    {
     "data": {
      "text/plain": [
       "RNN_LSTM_BI(\n",
       "  (embedding): Embedding(4221, 10, padding_idx=0)\n",
       "  (rnn): LSTM(10, 10, batch_first=True, bidirectional=True)\n",
       "  (fc1): Linear(in_features=20, out_features=10, bias=True)\n",
       "  (relu): ReLU()\n",
       "  (fc2): Linear(in_features=10, out_features=5, bias=True)\n",
       "  (sigmoid): Sigmoid()\n",
       ")"
      ]
     },
     "execution_count": 39,
     "metadata": {},
     "output_type": "execute_result"
    }
   ],
   "source": [
    "model_lstm.eval()"
   ]
  },
  {
   "cell_type": "markdown",
   "id": "80c1d205",
   "metadata": {},
   "source": [
    "#### Guardar el modelo"
   ]
  },
  {
   "cell_type": "code",
   "execution_count": 40,
   "id": "2ca12b17",
   "metadata": {},
   "outputs": [],
   "source": [
    "## save current model\n",
    "torch.save(model_gru, 'model_gru_ex_1.pt')\n",
    "## save weight\n",
    "torch.save(model_gru.state_dict, 'model_gru_ex_1_state_dict')"
   ]
  },
  {
   "cell_type": "code",
   "execution_count": 41,
   "id": "b0e702e5",
   "metadata": {},
   "outputs": [],
   "source": [
    "## save current model\n",
    "torch.save(model_lstm, 'model_lstm_ex_1.pt')\n",
    "## save weight\n",
    "torch.save(model_lstm.state_dict, 'model_lstm_ex_1_state_dict')"
   ]
  },
  {
   "cell_type": "markdown",
   "id": "85ffa905",
   "metadata": {},
   "source": [
    "**Nota**\n",
    "\n",
    "Para continuar pasaremos a un notebook en colab para el proceso de disponibilización "
   ]
  },
  {
   "cell_type": "markdown",
   "id": "f7ea25ab-f328-4327-9129-2497268e4ed7",
   "metadata": {},
   "source": [
    "## Parte 2. Convirtiendo el texto a un problema de clasificación por palabras o frases (NER)"
   ]
  },
  {
   "cell_type": "markdown",
   "id": "65bd6679-8dde-4547-b59a-587dd39b794d",
   "metadata": {},
   "source": [
    "## Parte 2 A. Etiquetado \n",
    "Etiquetado de los comentarios frases a frases\n",
    "Usando herramientas como [brat](https://brat.nlplab.org/), [docanno](https://doccano.herokuapp.com/) o [inception](https://inception-project.github.io/) (ver [este blog](https://dida.do/blog/the-best-free-labeling-tools-for-text-annotation-in-nlp) para un rápido resumen sobre estas aplicaciones), deberán etiquetar las frases en los comentarios con las etiquetas que correspondan a cada categoría. Un ejemplo para el primer comentario lo muestra la siguiente figura: \n",
    "![image](ejemploetiquetado.png)\n",
    "\n",
    "Nota: El anterior ejemplo lo hice en la herramienta de inception (y exportando el archivo a WebAnno TSV v3.3).\n",
    "Como pueden observar la mayoría de palabras no se etiquetarán (pertenecen a una categoría como \"otros\").\n",
    "\n",
    "No deben etiquetar todo el dataset, pueden hacerlo con unas 100 (por grupo). Pero pueden intercambiarse (entre grupos que les haya tocado el mismo trabajo) los datasets etiquetados para incrementar el número de datos (para esto es recomendable usar la misma herramienta y el mismo tipo de archivo de exportación)."
   ]
  },
  {
   "cell_type": "markdown",
   "id": "c496c1d6-a564-40d0-b293-85c75bb6dbd2",
   "metadata": {},
   "source": [
    "### Parte 2. Clasificación y localización de las frases\n",
    "Cree un modelo de clasificación por palabra (es similar al punto 2 del taller 4), donde involucren redes recurrentes. Cuando varias palabras contiguas pertenezcan a la misma etiqueta deberan unirlas para etiquetarlas como frase.  Para este modelo deben seguir los mismos pasos de la parte 1, pero cambiando un poco el modelo. \n",
    "\n",
    "- Desarrolle un modelo inicializando los pesos de forma aleatoria (por defecto)\n",
    "- Desarrolle un modelo partiendo de los pesos de la parte 1.\n",
    "- Desarrolle un modelo word2vec y posteriormente cargue estos pesos en la capa de embedding para desarrollar el modelo recurrente.Les puede ser útil [esto](https://gist.github.com/dhruvdcoder/cbb8d7967a499ba85418c18414e2cdce).\n",
    "- Compare los modelos anteriores.\n",
    "- Visualice la clasificación de algunas frases del conjunto de validación usando spacy o la herramienta que usaron para etiquetar."
   ]
  },
  {
   "cell_type": "markdown",
   "id": "c084bfb2-c0ab-4dad-9c12-a432cbc5b09f",
   "metadata": {},
   "source": [
    "-----\n",
    "Es importante que realicen gráficos y visualizaciones que ayuden a la interpretación. No olviden ir analizando y comentando los hallazgos, y sobretodo **concluir**. El entregable es un notebook de Jupyter, debidamente presentado y comentado.\n",
    "\n",
    "- ¿Qué diferencian encuentran con un tipo de clasificación respecto al otro?\n",
    "- ¿Los pesos de una tarea ayudan a la otra?\n",
    "- ¿Es posible analizar o intuir a partir de pesos o activaciones, que parte del texto está ayudando en la parte 1 a clasificar?"
   ]
  },
  {
   "cell_type": "markdown",
   "id": "3269e04b-c090-40d5-a04a-9c4e1f72574b",
   "metadata": {},
   "source": [
    "### Tip de lectura de datos del archivo JSON"
   ]
  },
  {
   "cell_type": "code",
   "execution_count": null,
   "id": "30bb1196-ac16-48c8-aacc-9da125fd6e3a",
   "metadata": {
    "execution": {
     "iopub.execute_input": "2022-03-16T12:33:33.939699Z",
     "iopub.status.busy": "2022-03-16T12:33:33.939458Z",
     "iopub.status.idle": "2022-03-16T12:33:34.154152Z",
     "shell.execute_reply": "2022-03-16T12:33:34.153830Z",
     "shell.execute_reply.started": "2022-03-16T12:33:33.939633Z"
    }
   },
   "outputs": [],
   "source": [
    "import pandas as pd"
   ]
  },
  {
   "cell_type": "code",
   "execution_count": null,
   "id": "5c259170-4bb7-4a78-aa90-9d4a74032ca4",
   "metadata": {
    "execution": {
     "iopub.execute_input": "2022-03-16T12:39:42.781316Z",
     "iopub.status.busy": "2022-03-16T12:39:42.781113Z",
     "iopub.status.idle": "2022-03-16T12:39:42.789084Z",
     "shell.execute_reply": "2022-03-16T12:39:42.788609Z",
     "shell.execute_reply.started": "2022-03-16T12:39:42.781295Z"
    },
    "tags": []
   },
   "outputs": [],
   "source": [
    "import json\n",
    "# load data using Python JSON module\n",
    "with open('reviews.json','r') as f:\n",
    "    data = json.loads(f.read())"
   ]
  },
  {
   "cell_type": "code",
   "execution_count": null,
   "id": "dd4131d1-9c45-434c-9bb3-b1e342aa298a",
   "metadata": {
    "execution": {
     "iopub.execute_input": "2022-03-16T12:44:09.691683Z",
     "iopub.status.busy": "2022-03-16T12:44:09.691480Z",
     "iopub.status.idle": "2022-03-16T12:44:09.707699Z",
     "shell.execute_reply": "2022-03-16T12:44:09.707307Z",
     "shell.execute_reply.started": "2022-03-16T12:44:09.691662Z"
    },
    "tags": []
   },
   "outputs": [
    {
     "data": {
      "text/html": [
       "<div>\n",
       "<style scoped>\n",
       "    .dataframe tbody tr th:only-of-type {\n",
       "        vertical-align: middle;\n",
       "    }\n",
       "\n",
       "    .dataframe tbody tr th {\n",
       "        vertical-align: top;\n",
       "    }\n",
       "\n",
       "    .dataframe thead th {\n",
       "        text-align: right;\n",
       "    }\n",
       "</style>\n",
       "<table border=\"1\" class=\"dataframe\">\n",
       "  <thead>\n",
       "    <tr style=\"text-align: right;\">\n",
       "      <th></th>\n",
       "      <th>confidence</th>\n",
       "      <th>evaluation</th>\n",
       "      <th>id</th>\n",
       "      <th>lan</th>\n",
       "      <th>orientation</th>\n",
       "      <th>remarks</th>\n",
       "      <th>text</th>\n",
       "      <th>timespan</th>\n",
       "    </tr>\n",
       "  </thead>\n",
       "  <tbody>\n",
       "    <tr>\n",
       "      <th>0</th>\n",
       "      <td>4</td>\n",
       "      <td>1</td>\n",
       "      <td>1</td>\n",
       "      <td>es</td>\n",
       "      <td>0</td>\n",
       "      <td></td>\n",
       "      <td>- El artículo aborda un problema contingente y...</td>\n",
       "      <td>2010-07-05</td>\n",
       "    </tr>\n",
       "    <tr>\n",
       "      <th>1</th>\n",
       "      <td>4</td>\n",
       "      <td>1</td>\n",
       "      <td>2</td>\n",
       "      <td>es</td>\n",
       "      <td>1</td>\n",
       "      <td></td>\n",
       "      <td>El artículo presenta recomendaciones prácticas...</td>\n",
       "      <td>2010-07-05</td>\n",
       "    </tr>\n",
       "    <tr>\n",
       "      <th>2</th>\n",
       "      <td>5</td>\n",
       "      <td>1</td>\n",
       "      <td>3</td>\n",
       "      <td>es</td>\n",
       "      <td>1</td>\n",
       "      <td></td>\n",
       "      <td>- El tema es muy interesante y puede ser de mu...</td>\n",
       "      <td>2010-07-05</td>\n",
       "    </tr>\n",
       "    <tr>\n",
       "      <th>3</th>\n",
       "      <td>4</td>\n",
       "      <td>2</td>\n",
       "      <td>1</td>\n",
       "      <td>es</td>\n",
       "      <td>1</td>\n",
       "      <td></td>\n",
       "      <td>Se explica en forma ordenada y didáctica una e...</td>\n",
       "      <td>2010-07-05</td>\n",
       "    </tr>\n",
       "    <tr>\n",
       "      <th>4</th>\n",
       "      <td>4</td>\n",
       "      <td>2</td>\n",
       "      <td>2</td>\n",
       "      <td>es</td>\n",
       "      <td>0</td>\n",
       "      <td></td>\n",
       "      <td></td>\n",
       "      <td>2010-07-05</td>\n",
       "    </tr>\n",
       "  </tbody>\n",
       "</table>\n",
       "</div>"
      ],
      "text/plain": [
       "  confidence evaluation  id lan orientation remarks  \\\n",
       "0          4          1   1  es           0           \n",
       "1          4          1   2  es           1           \n",
       "2          5          1   3  es           1           \n",
       "3          4          2   1  es           1           \n",
       "4          4          2   2  es           0           \n",
       "\n",
       "                                                text    timespan  \n",
       "0  - El artículo aborda un problema contingente y...  2010-07-05  \n",
       "1  El artículo presenta recomendaciones prácticas...  2010-07-05  \n",
       "2  - El tema es muy interesante y puede ser de mu...  2010-07-05  \n",
       "3  Se explica en forma ordenada y didáctica una e...  2010-07-05  \n",
       "4                                                     2010-07-05  "
      ]
     },
     "execution_count": 19,
     "metadata": {},
     "output_type": "execute_result"
    }
   ],
   "source": [
    "df = pd.json_normalize(data['paper'], record_path = [\"review\"])\n",
    "df.head()"
   ]
  }
 ],
 "metadata": {
  "kernelspec": {
   "display_name": "Python 3.8.14 64-bit ('nlp-env')",
   "language": "python",
   "name": "python3"
  },
  "language_info": {
   "codemirror_mode": {
    "name": "ipython",
    "version": 3
   },
   "file_extension": ".py",
   "mimetype": "text/x-python",
   "name": "python",
   "nbconvert_exporter": "python",
   "pygments_lexer": "ipython3",
   "version": "3.8.14"
  },
  "nbTranslate": {
   "displayLangs": [
    "es",
    "en"
   ],
   "hotkey": "alt-t",
   "langInMainMenu": true,
   "sourceLang": "en",
   "targetLang": "es",
   "useGoogleTranslate": true
  },
  "vscode": {
   "interpreter": {
    "hash": "c82f75949d34d03fdaae804566e8e1917c03c7d29ee0534da91b332696d05941"
   }
  }
 },
 "nbformat": 4,
 "nbformat_minor": 5
}
