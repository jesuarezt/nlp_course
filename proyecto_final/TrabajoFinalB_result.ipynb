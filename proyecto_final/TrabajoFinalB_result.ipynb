{
 "cells": [
  {
   "cell_type": "markdown",
   "id": "017037f5-05b7-4e53-b46e-55c49de92d22",
   "metadata": {},
   "source": [
    "# Trabajo Final B.  De clasificación a NER"
   ]
  },
  {
   "cell_type": "markdown",
   "id": "902946ae-afe0-4e47-8ff9-edfade62239d",
   "metadata": {},
   "source": [
    "En este trabajo final utilizarán [este dataset](https://archive.ics.uci.edu/ml/datasets/Paper+Reviews) que consiste en evaluaciones de diferentes revisores sobre papers (405). Cada evaluación ha sido etiquetada con 5 clases (muy negativo, negativo, 0, neutral, positivo y muy positivo). Este proyecto consiste en realizar una clasificación de este dataset y además identificar que parte de los comentarios hacen referencia a las clases. "
   ]
  },
  {
   "cell_type": "markdown",
   "id": "3dc45e3c-0145-4ac5-a14d-a9d0dd8c49e6",
   "metadata": {},
   "source": [
    "## Parte 1. Clasificación sencilla de cada revisión"
   ]
  },
  {
   "cell_type": "markdown",
   "id": "2268c2a4-5889-4ebf-a752-ddb9f24fa9a4",
   "metadata": {},
   "source": [
    "En esta parte tendrá que hacer un modelo de clasificación usando redes recurrentes (LSTM, GRU), para los cinco tipos de categorias.  Recuerde algunos pasos para realizar la clasificación:\n",
    "\n",
    "1. Lectura de los datos (división en training/validation sets)\n",
    "2. Preprocesamiento del texto (no es necesario ser tanto preprocesamiento como en word2vec, pero si eliminar algunos carácteres o incluso revisar si hay comentarios vacíos). \n",
    "3. Creación del vocabulario y transformación de palabras a índices (y viceversa)\n",
    "4. Creación del \"dataset\" y \"dataloader\" involucrando los pasos 2 y 3.\n",
    "5. Creación del modelo, involucrando embeddings.\n",
    "6. Entrenar y validar (escoger optimizador Adam o AdamW, función de costo apropiada, loops de entrenamiento y validación).\n",
    "7. Modelo listo para producción (modelo para predecir entrando un comentario)\n",
    "8. Pequeña interfaz para predicción usando Gradio."
   ]
  },
  {
   "cell_type": "markdown",
   "id": "e3097b89-f3d3-48a1-b904-f8301f475245",
   "metadata": {},
   "source": [
    "Realice diferentes configuraciones, tamaño del embedding, arquitecturas LSTM o GRU, varias capas, bidireccionalidad, etc. Escoja el mejor modelo. "
   ]
  },
  {
   "cell_type": "markdown",
   "id": "e0385c57",
   "metadata": {},
   "source": [
    "# Solución \n",
    "### 1.1. Librerias"
   ]
  },
  {
   "cell_type": "code",
   "execution_count": 1,
   "id": "a0b3aeb4",
   "metadata": {},
   "outputs": [
    {
     "name": "stderr",
     "output_type": "stream",
     "text": [
      "[nltk_data] Downloading package stopwords to\n",
      "[nltk_data]     /Users/jessuarez/nltk_data...\n",
      "[nltk_data]   Package stopwords is already up-to-date!\n",
      "[nltk_data] Downloading package punkt to /Users/jessuarez/nltk_data...\n",
      "[nltk_data]   Package punkt is already up-to-date!\n"
     ]
    }
   ],
   "source": [
    "import warnings\n",
    "warnings.filterwarnings('ignore')\n",
    "\n",
    "import pandas as pd\n",
    "import json\n",
    "from torch.utils.data import Dataset\n",
    "import numpy as np\n",
    "\n",
    "#Para gráficos\n",
    "import seaborn as sns\n",
    "import matplotlib.pyplot as plt\n",
    "\n",
    "# Train and dataset\n",
    "from sklearn.model_selection import train_test_split\n",
    "from torch.utils.data.dataset import random_split\n",
    "\n",
    "# Para tokenizacion\n",
    "#importar libreria nltk\n",
    "import nltk\n",
    "nltk.download(\"stopwords\")\n",
    "from nltk.corpus import stopwords\n",
    "misstop = stopwords.words('spanish')\n",
    "\n",
    "from nltk.tokenize import word_tokenize\n",
    "nltk.download(\"punkt\")\n",
    "\n",
    "# para vocabulario\n",
    "import re\n",
    "from collections import Counter, OrderedDict\n",
    "\n",
    "# para indexar tokens \n",
    "from torchtext.vocab import vocab\n",
    "\n",
    "## transformación pre modelo \n",
    "import torch\n",
    "import torch.nn as nn\n",
    "\n",
    "#data loader\n",
    "\n",
    "from torch.utils.data import DataLoader\n",
    "\n",
    "# para modelos \n",
    "from src.lstm_model import RNN_LSTM_BI, train_LSTM_BI, evaluate_LSTM_BI, evaluate_LSTM_BI"
   ]
  },
  {
   "cell_type": "code",
   "execution_count": 2,
   "id": "24dfff57",
   "metadata": {},
   "outputs": [],
   "source": [
    "# Global Variable\n",
    "seed_ = 12345\n",
    "device = torch.device('cuda:0' if torch.cuda.is_available() else 'cpu')"
   ]
  },
  {
   "cell_type": "markdown",
   "id": "076b220d",
   "metadata": {},
   "source": [
    "### 1.2 Carga de los datos. \n",
    "\n",
    "Tentiendo en cuenta la información del link cargado, consideramos el siguiente diccionario de datos.\n",
    "\n",
    "- **confidence** (integer from 1 to 5): Value describing the confidence of the reviewer, a higher value denotes more confidence, while a lower value indicates less confidence.\n",
    "- **Evaluation** (integer from -2 to 2): Review classification as defined by the reviewer, according to the 5-point scale previously described. This attribute represents the real evaluation given to the paper, as determined by the reviewers\n",
    "- **Text** (text): Comments and detailed review of the paper. This is read by the authors and the editing commission of the conference. The editors determine if the paper should be published or not depending on the reviews. There are $6$ instances of empty reviews.\n",
    "- Remarks (text): Additional comments that can be read only by the editing commission of the conference. This is used in conjunction with the previous attribute to determine if the paper should be published. This is an optional attribute. Whenever it is possible it is concatenated at the end of the main body of the review. Some reviews do not have remarks, this is indicated with an empty string ''.\n",
    "- **Language** (text): Language corresponding to the review (it may be English or Spanish). In this case the majority of the reviews are in Spanish, with only $17$ instances of English reviews.\n",
    "- **Orientation** (integer from -2 to 2): Review classification defined by the authors of this study, according to the 5-point scale previously described, obtained through the authors' systematic judgement of each review. This attribute represents the subjective perception of each review (i.e. how negative or positive the review is perceived when someone reads it).\n",
    "- **Timespan** (datetime): A date associated with the year of conference, which in turn corresponds with the time the review was written. The data set includes four years of reviews worth of conferences.\n",
    "- Paper ID (integer): This number identifies each individual paper from a given conference. The data set has 172 different papers."
   ]
  },
  {
   "cell_type": "code",
   "execution_count": 3,
   "id": "2c53baf3",
   "metadata": {},
   "outputs": [
    {
     "data": {
      "text/html": [
       "<div>\n",
       "<style scoped>\n",
       "    .dataframe tbody tr th:only-of-type {\n",
       "        vertical-align: middle;\n",
       "    }\n",
       "\n",
       "    .dataframe tbody tr th {\n",
       "        vertical-align: top;\n",
       "    }\n",
       "\n",
       "    .dataframe thead th {\n",
       "        text-align: right;\n",
       "    }\n",
       "</style>\n",
       "<table border=\"1\" class=\"dataframe\">\n",
       "  <thead>\n",
       "    <tr style=\"text-align: right;\">\n",
       "      <th></th>\n",
       "      <th>confidence</th>\n",
       "      <th>evaluation</th>\n",
       "      <th>id</th>\n",
       "      <th>lan</th>\n",
       "      <th>orientation</th>\n",
       "      <th>remarks</th>\n",
       "      <th>text</th>\n",
       "      <th>timespan</th>\n",
       "    </tr>\n",
       "  </thead>\n",
       "  <tbody>\n",
       "    <tr>\n",
       "      <th>0</th>\n",
       "      <td>4</td>\n",
       "      <td>1</td>\n",
       "      <td>1</td>\n",
       "      <td>es</td>\n",
       "      <td>0</td>\n",
       "      <td></td>\n",
       "      <td>- El artículo aborda un problema contingente y...</td>\n",
       "      <td>2010-07-05</td>\n",
       "    </tr>\n",
       "    <tr>\n",
       "      <th>1</th>\n",
       "      <td>4</td>\n",
       "      <td>1</td>\n",
       "      <td>2</td>\n",
       "      <td>es</td>\n",
       "      <td>1</td>\n",
       "      <td></td>\n",
       "      <td>El artículo presenta recomendaciones prácticas...</td>\n",
       "      <td>2010-07-05</td>\n",
       "    </tr>\n",
       "    <tr>\n",
       "      <th>2</th>\n",
       "      <td>5</td>\n",
       "      <td>1</td>\n",
       "      <td>3</td>\n",
       "      <td>es</td>\n",
       "      <td>1</td>\n",
       "      <td></td>\n",
       "      <td>- El tema es muy interesante y puede ser de mu...</td>\n",
       "      <td>2010-07-05</td>\n",
       "    </tr>\n",
       "    <tr>\n",
       "      <th>3</th>\n",
       "      <td>4</td>\n",
       "      <td>2</td>\n",
       "      <td>1</td>\n",
       "      <td>es</td>\n",
       "      <td>1</td>\n",
       "      <td></td>\n",
       "      <td>Se explica en forma ordenada y didáctica una e...</td>\n",
       "      <td>2010-07-05</td>\n",
       "    </tr>\n",
       "    <tr>\n",
       "      <th>4</th>\n",
       "      <td>4</td>\n",
       "      <td>2</td>\n",
       "      <td>2</td>\n",
       "      <td>es</td>\n",
       "      <td>0</td>\n",
       "      <td></td>\n",
       "      <td></td>\n",
       "      <td>2010-07-05</td>\n",
       "    </tr>\n",
       "  </tbody>\n",
       "</table>\n",
       "</div>"
      ],
      "text/plain": [
       "  confidence evaluation  id lan orientation remarks  \\\n",
       "0          4          1   1  es           0           \n",
       "1          4          1   2  es           1           \n",
       "2          5          1   3  es           1           \n",
       "3          4          2   1  es           1           \n",
       "4          4          2   2  es           0           \n",
       "\n",
       "                                                text    timespan  \n",
       "0  - El artículo aborda un problema contingente y...  2010-07-05  \n",
       "1  El artículo presenta recomendaciones prácticas...  2010-07-05  \n",
       "2  - El tema es muy interesante y puede ser de mu...  2010-07-05  \n",
       "3  Se explica en forma ordenada y didáctica una e...  2010-07-05  \n",
       "4                                                     2010-07-05  "
      ]
     },
     "execution_count": 3,
     "metadata": {},
     "output_type": "execute_result"
    }
   ],
   "source": [
    "# load data using Python JSON module\n",
    "with open('reviews.json','r') as f:\n",
    "    data = json.loads(f.read())\n",
    "\n",
    "df = pd.json_normalize(data['paper'], record_path = [\"review\"])\n",
    "df.head()"
   ]
  },
  {
   "cell_type": "code",
   "execution_count": 4,
   "id": "4fd58f4d",
   "metadata": {},
   "outputs": [
    {
     "name": "stdout",
     "output_type": "stream",
     "text": [
      "validando lenguajes de los textos\n"
     ]
    },
    {
     "data": {
      "text/html": [
       "<div>\n",
       "<style scoped>\n",
       "    .dataframe tbody tr th:only-of-type {\n",
       "        vertical-align: middle;\n",
       "    }\n",
       "\n",
       "    .dataframe tbody tr th {\n",
       "        vertical-align: top;\n",
       "    }\n",
       "\n",
       "    .dataframe thead th {\n",
       "        text-align: right;\n",
       "    }\n",
       "</style>\n",
       "<table border=\"1\" class=\"dataframe\">\n",
       "  <thead>\n",
       "    <tr style=\"text-align: right;\">\n",
       "      <th></th>\n",
       "      <th>count_</th>\n",
       "    </tr>\n",
       "    <tr>\n",
       "      <th>lan</th>\n",
       "      <th></th>\n",
       "    </tr>\n",
       "  </thead>\n",
       "  <tbody>\n",
       "    <tr>\n",
       "      <th>en</th>\n",
       "      <td>17</td>\n",
       "    </tr>\n",
       "    <tr>\n",
       "      <th>es</th>\n",
       "      <td>388</td>\n",
       "    </tr>\n",
       "  </tbody>\n",
       "</table>\n",
       "</div>"
      ],
      "text/plain": [
       "     count_\n",
       "lan        \n",
       "en       17\n",
       "es      388"
      ]
     },
     "execution_count": 4,
     "metadata": {},
     "output_type": "execute_result"
    }
   ],
   "source": [
    "print('validando lenguajes de los textos')\n",
    "df.groupby('lan').agg(count_ = ('id', 'count'))"
   ]
  },
  {
   "cell_type": "code",
   "execution_count": 5,
   "id": "539d8fd6",
   "metadata": {},
   "outputs": [
    {
     "data": {
      "text/plain": [
       "[Text(0.5, 1.0, 'Distribución Orientation')]"
      ]
     },
     "execution_count": 5,
     "metadata": {},
     "output_type": "execute_result"
    },
    {
     "data": {
      "image/png": "[encoded data removed]",
      "text/plain": [
       "<Figure size 1800x1000 with 3 Axes>"
      ]
     },
     "metadata": {},
     "output_type": "display_data"
    }
   ],
   "source": [
    "fig, axs = plt.subplots(1,3, figsize=(18,10))\n",
    "sns.histplot(data=df, x='confidence',  kde=True, ax = axs[0]).set(title='Distribución Confidence')\n",
    "sns.histplot(data=df, x='evaluation',  kde=True, ax = axs[1]).set(title='Distribución Evaluation')\n",
    "sns.histplot(data=df, x='orientation',  kde=True, ax = axs[2]).set(title='Distribución Orientation')"
   ]
  },
  {
   "cell_type": "markdown",
   "id": "8939b595",
   "metadata": {},
   "source": [
    "Con base a este analisis, primero que todo tomaremos información de texto unicamente en español y también consideraremos el campo de evaluación\n",
    "\n",
    "Adicionalmente filtraremos registros con longitud del texto no núla, ya que existen campos vacios. "
   ]
  },
  {
   "cell_type": "code",
   "execution_count": 6,
   "id": "98757b38",
   "metadata": {},
   "outputs": [
    {
     "name": "stdout",
     "output_type": "stream",
     "text": [
      "<class 'pandas.core.frame.DataFrame'>\n",
      "Int64Index: 382 entries, 0 to 404\n",
      "Data columns (total 2 columns):\n",
      " #   Column      Non-Null Count  Dtype \n",
      "---  ------      --------------  ----- \n",
      " 0   text        382 non-null    object\n",
      " 1   evaluation  382 non-null    object\n",
      "dtypes: object(2)\n",
      "memory usage: 9.0+ KB\n",
      "None\n"
     ]
    },
    {
     "data": {
      "text/html": [
       "<div>\n",
       "<style scoped>\n",
       "    .dataframe tbody tr th:only-of-type {\n",
       "        vertical-align: middle;\n",
       "    }\n",
       "\n",
       "    .dataframe tbody tr th {\n",
       "        vertical-align: top;\n",
       "    }\n",
       "\n",
       "    .dataframe thead th {\n",
       "        text-align: right;\n",
       "    }\n",
       "</style>\n",
       "<table border=\"1\" class=\"dataframe\">\n",
       "  <thead>\n",
       "    <tr style=\"text-align: right;\">\n",
       "      <th></th>\n",
       "      <th>text</th>\n",
       "      <th>evaluation</th>\n",
       "    </tr>\n",
       "  </thead>\n",
       "  <tbody>\n",
       "    <tr>\n",
       "      <th>0</th>\n",
       "      <td>- El artículo aborda un problema contingente y...</td>\n",
       "      <td>1</td>\n",
       "    </tr>\n",
       "    <tr>\n",
       "      <th>1</th>\n",
       "      <td>El artículo presenta recomendaciones prácticas...</td>\n",
       "      <td>1</td>\n",
       "    </tr>\n",
       "    <tr>\n",
       "      <th>2</th>\n",
       "      <td>- El tema es muy interesante y puede ser de mu...</td>\n",
       "      <td>1</td>\n",
       "    </tr>\n",
       "    <tr>\n",
       "      <th>3</th>\n",
       "      <td>Se explica en forma ordenada y didáctica una e...</td>\n",
       "      <td>2</td>\n",
       "    </tr>\n",
       "    <tr>\n",
       "      <th>5</th>\n",
       "      <td>Los autores describen una metodología para des...</td>\n",
       "      <td>2</td>\n",
       "    </tr>\n",
       "  </tbody>\n",
       "</table>\n",
       "</div>"
      ],
      "text/plain": [
       "                                                text evaluation\n",
       "0  - El artículo aborda un problema contingente y...          1\n",
       "1  El artículo presenta recomendaciones prácticas...          1\n",
       "2  - El tema es muy interesante y puede ser de mu...          1\n",
       "3  Se explica en forma ordenada y didáctica una e...          2\n",
       "5  Los autores describen una metodología para des...          2"
      ]
     },
     "execution_count": 6,
     "metadata": {},
     "output_type": "execute_result"
    }
   ],
   "source": [
    "idd = df.lan=='es'\n",
    "df_filter = df.loc[idd].copy()\n",
    "columns_ = ['text', 'evaluation']\n",
    "df_filter = df_filter.loc[:,columns_]\n",
    "idd = df_filter.text != ''\n",
    "df_filter = df_filter.loc[idd]\n",
    "del idd, columns_\n",
    "print(df_filter.info())\n",
    "df_filter.head(5)"
   ]
  },
  {
   "cell_type": "code",
   "execution_count": 7,
   "id": "78cacd2b",
   "metadata": {},
   "outputs": [
    {
     "data": {
      "text/html": [
       "<div>\n",
       "<style scoped>\n",
       "    .dataframe tbody tr th:only-of-type {\n",
       "        vertical-align: middle;\n",
       "    }\n",
       "\n",
       "    .dataframe tbody tr th {\n",
       "        vertical-align: top;\n",
       "    }\n",
       "\n",
       "    .dataframe thead th {\n",
       "        text-align: right;\n",
       "    }\n",
       "</style>\n",
       "<table border=\"1\" class=\"dataframe\">\n",
       "  <thead>\n",
       "    <tr style=\"text-align: right;\">\n",
       "      <th></th>\n",
       "      <th>text</th>\n",
       "      <th>evaluation</th>\n",
       "      <th>len_</th>\n",
       "    </tr>\n",
       "  </thead>\n",
       "  <tbody>\n",
       "    <tr>\n",
       "      <th>84</th>\n",
       "      <td>Me ha gustado mucho  Lo dejaría tal cual.</td>\n",
       "      <td>2</td>\n",
       "      <td>41</td>\n",
       "    </tr>\n",
       "    <tr>\n",
       "      <th>31</th>\n",
       "      <td>Un trabajo muy claro, preciso y del alto nivel</td>\n",
       "      <td>2</td>\n",
       "      <td>46</td>\n",
       "    </tr>\n",
       "    <tr>\n",
       "      <th>166</th>\n",
       "      <td>Los comentarios aparecen en el archivo adjunto</td>\n",
       "      <td>2</td>\n",
       "      <td>46</td>\n",
       "    </tr>\n",
       "    <tr>\n",
       "      <th>55</th>\n",
       "      <td>Poca información sobre aspectos técnicos utili...</td>\n",
       "      <td>0</td>\n",
       "      <td>81</td>\n",
       "    </tr>\n",
       "    <tr>\n",
       "      <th>183</th>\n",
       "      <td>-\\tNo existen bases científicas explicitas en ...</td>\n",
       "      <td>-2</td>\n",
       "      <td>92</td>\n",
       "    </tr>\n",
       "    <tr>\n",
       "      <th>...</th>\n",
       "      <td>...</td>\n",
       "      <td>...</td>\n",
       "      <td>...</td>\n",
       "    </tr>\n",
       "    <tr>\n",
       "      <th>116</th>\n",
       "      <td>La publicación tiene como objetivo mostrar las...</td>\n",
       "      <td>1</td>\n",
       "      <td>4358</td>\n",
       "    </tr>\n",
       "    <tr>\n",
       "      <th>327</th>\n",
       "      <td>El artículo presenta una aplicación en el ámbi...</td>\n",
       "      <td>-2</td>\n",
       "      <td>4382</td>\n",
       "    </tr>\n",
       "    <tr>\n",
       "      <th>75</th>\n",
       "      <td>El trabajo es de baja calidad académica (descr...</td>\n",
       "      <td>-2</td>\n",
       "      <td>4535</td>\n",
       "    </tr>\n",
       "    <tr>\n",
       "      <th>264</th>\n",
       "      <td>• Revisar los conceptos de metodologías, métod...</td>\n",
       "      <td>-1</td>\n",
       "      <td>4754</td>\n",
       "    </tr>\n",
       "    <tr>\n",
       "      <th>332</th>\n",
       "      <td>El trabajo se titula \"Madurez actual del desar...</td>\n",
       "      <td>-2</td>\n",
       "      <td>6345</td>\n",
       "    </tr>\n",
       "  </tbody>\n",
       "</table>\n",
       "<p>382 rows × 3 columns</p>\n",
       "</div>"
      ],
      "text/plain": [
       "                                                  text evaluation  len_\n",
       "84           Me ha gustado mucho  Lo dejaría tal cual.          2    41\n",
       "31      Un trabajo muy claro, preciso y del alto nivel          2    46\n",
       "166     Los comentarios aparecen en el archivo adjunto          2    46\n",
       "55   Poca información sobre aspectos técnicos utili...          0    81\n",
       "183  -\\tNo existen bases científicas explicitas en ...         -2    92\n",
       "..                                                 ...        ...   ...\n",
       "116  La publicación tiene como objetivo mostrar las...          1  4358\n",
       "327  El artículo presenta una aplicación en el ámbi...         -2  4382\n",
       "75   El trabajo es de baja calidad académica (descr...         -2  4535\n",
       "264  • Revisar los conceptos de metodologías, métod...         -1  4754\n",
       "332  El trabajo se titula \"Madurez actual del desar...         -2  6345\n",
       "\n",
       "[382 rows x 3 columns]"
      ]
     },
     "execution_count": 7,
     "metadata": {},
     "output_type": "execute_result"
    }
   ],
   "source": [
    "# Chequeo Final de la Longitud para tener texto con sentido.\n",
    "df_filter.assign(len_ = df_filter.text.apply(len)).sort_values('len_')"
   ]
  },
  {
   "cell_type": "markdown",
   "id": "c5f99122",
   "metadata": {},
   "source": [
    "#### Train and test division"
   ]
  },
  {
   "cell_type": "code",
   "execution_count": 8,
   "id": "e69e5def",
   "metadata": {},
   "outputs": [],
   "source": [
    "df_filter.to_csv('clean_reviews.csv', encoding='utf-8', sep='|')"
   ]
  },
  {
   "cell_type": "code",
   "execution_count": 9,
   "id": "22697dc6",
   "metadata": {},
   "outputs": [],
   "source": [
    "class TextData(Dataset):\n",
    "    '''\n",
    "    Dataset basico para leer los datos de tweets\n",
    "    '''\n",
    "    def __init__(self, filename):\n",
    "        super(TextData, self).__init__()\n",
    "        df = pd.read_csv(filename,encoding='utf-8', sep='|')\n",
    "        self.df = df[[\"evaluation\", \"text\"]]\n",
    "        \n",
    "    def __getitem__(self, index):\n",
    "        return self.df.iloc[index,0], self.df.iloc[index,1]\n",
    "    \n",
    "    def __len__(self):\n",
    "        return len(self.df)"
   ]
  },
  {
   "cell_type": "code",
   "execution_count": 11,
   "id": "bdaf6330",
   "metadata": {},
   "outputs": [],
   "source": [
    "df = TextData(\"clean_reviews.csv\")\n",
    "train_dataset, test_dataset = random_split(df,\n",
    " [int(len(df)*0.7),len(df) - int(len(df)*0.7)], torch.manual_seed(1))\n",
    "\n",
    "train_dataset, valid_dataset = random_split(\n",
    "    list(train_dataset), [int(len(train_dataset)*0.8),len(train_dataset)-int(len(train_dataset)*0.8)], torch.manual_seed(1))"
   ]
  },
  {
   "cell_type": "markdown",
   "id": "6e8e87c0",
   "metadata": {},
   "source": [
    "### 1.3 Preprocesamiento del texto"
   ]
  },
  {
   "cell_type": "code",
   "execution_count": 12,
   "id": "4f36ce86",
   "metadata": {},
   "outputs": [],
   "source": [
    "#funcion de limpieza de tweets\n",
    "\n",
    "def tokenizacion(text):\n",
    "  def limpieza(text):\n",
    "    text=re.sub(r'@_[A-Za-z0-9]+_','',text) #Remover @_menciones_\n",
    "    text=re.sub(r'@[A-Za-z0-9]+_[A-Za-z0-9]+','',text) #Remover @menciones_\n",
    "    text=re.sub(r'@[A-Za-z0-9]+','',text) #Remover @menciones\n",
    "    text=re.sub(r'https?:\\/\\/\\S+','',text) #Remover Hypervinculos\n",
    "    text=re.sub(r'RT[\\s]+','',text) #Remover Retweets\n",
    "    text=re.sub(r'[^\\w\\s]',\"\",text) #remover signos de puntuacion\n",
    "    text=re.sub(r'#[A-Za-z0-9]+','',text) #Remover \"#\"\n",
    "    text=re.sub(r'[0-9]','',text) #remover numeros\n",
    "    text=re.sub(r'[^\\w\\s]',\"\",text) #remover signos de puntuacion\n",
    "    text=re.sub(r'\\n|\\t',' ',text) #remover saltos de linea\n",
    "    text=re.sub(r'\\@',' ',text) #remover \"@\"\n",
    "    text=re.sub(r'[\\s]+',' ',text) #reemplazar espacios dobles por espacion sencillos\n",
    "    text=re.sub(r\"^[\\s]\",' ',text) #eliminar espacios al inicio de cada tweet\n",
    "    text=text.lower() #todo a minuscula\n",
    "    return text\n",
    "  \n",
    "  text2=limpieza(text)\n",
    "\n",
    "  #tokenizar tweet eliminando stopwords\n",
    "  token1=word_tokenize(text2)\n",
    "  token2=[]\n",
    "  for word in token1:\n",
    "    if word not in misstop: \n",
    "      token2.append(word)\n",
    "  return token2"
   ]
  },
  {
   "cell_type": "markdown",
   "id": "59cea8e9",
   "metadata": {},
   "source": [
    "### 1.4 Creación del vocabulario y transformación de palabras a índices (y viceversa)"
   ]
  },
  {
   "cell_type": "code",
   "execution_count": 13,
   "id": "5259f8d5",
   "metadata": {},
   "outputs": [
    {
     "name": "stdout",
     "output_type": "stream",
     "text": [
      "Vocab-size: 4220\n"
     ]
    }
   ],
   "source": [
    "# Creación del vocabulario\n",
    "token_counts = Counter()\n",
    "for label, line in train_dataset:\n",
    "    tokens = tokenizacion(line)\n",
    "    token_counts.update(tokens)\n",
    "\n",
    "\n",
    "print('Vocab-size:', len(token_counts))"
   ]
  },
  {
   "cell_type": "code",
   "execution_count": 14,
   "id": "937acfa9",
   "metadata": {},
   "outputs": [],
   "source": [
    "#token_counts"
   ]
  },
  {
   "cell_type": "code",
   "execution_count": 15,
   "id": "083f66d5",
   "metadata": {},
   "outputs": [
    {
     "name": "stdout",
     "output_type": "stream",
     "text": [
      "[671, 121, 1, 135]\n"
     ]
    }
   ],
   "source": [
    "# indexando tokens\n",
    "sorted_by_freq_tuples = sorted(token_counts.items(), key=lambda x: x[1], reverse=True)\n",
    "ordered_dict = OrderedDict(sorted_by_freq_tuples)\n",
    "\n",
    "vocab_ = vocab(ordered_dict)\n",
    "\n",
    "vocab_.insert_token(\"\", 0)\n",
    "vocab_.set_default_index(1)\n",
    "\n",
    "print([vocab_[token] for token in ['manejo', 'literatura', 'utliza', 'arte']])"
   ]
  },
  {
   "cell_type": "markdown",
   "id": "190bc6eb",
   "metadata": {},
   "source": [
    "### 1.5 Creación del \"dataset\" y \"dataloader\" involucrando los pasos 2 y 3."
   ]
  },
  {
   "cell_type": "code",
   "execution_count": 16,
   "id": "cc85d764",
   "metadata": {},
   "outputs": [],
   "source": [
    "text_pipeline = lambda x: [vocab_[token] for token in tokenizacion(x)]\n",
    "label_pipeline = lambda x: x +2 \n",
    "\n",
    "#Definir funcion de trnasformacion y codificacion\n",
    "def collate_batch(batch):\n",
    "    label_list, text_list, lengths = [], [], []\n",
    "    for _label, _text in batch:\n",
    "        label_list.append(label_pipeline(_label))\n",
    "        processed_text = torch.tensor(text_pipeline(_text), \n",
    "                                      dtype=torch.int64)\n",
    "        text_list.append(processed_text)\n",
    "        lengths.append(processed_text.size(0))\n",
    "    label_list = torch.tensor(label_list)\n",
    "    lengths = torch.tensor(lengths)\n",
    "    padded_text_list = nn.utils.rnn.pad_sequence(\n",
    "        text_list, batch_first=True)\n",
    "    return padded_text_list.to(device), label_list.to(device), lengths.to(device)"
   ]
  },
  {
   "cell_type": "code",
   "execution_count": 20,
   "id": "caaa0ae3",
   "metadata": {},
   "outputs": [
    {
     "name": "stdout",
     "output_type": "stream",
     "text": [
      "tensor([[   1,    5,  407, 1980,  135,  124,  408,  365, 1311,  286,   67, 1981,\n",
      "          120,  970,   67, 1982,  752,  121,   73,  521,  753,  754,  755,  522,\n",
      "          622,  155,   43,  756,   50,    1,  623,  287, 1312,   34,   68, 1313,\n",
      "          122,  107,  135]])\n",
      "tensor([0])\n",
      "tensor([39])\n",
      "torch.Size([1, 39])\n"
     ]
    }
   ],
   "source": [
    "## Toma un pequeño batch\n",
    "dataloader = DataLoader(train_dataset, batch_size=1, shuffle=False, collate_fn=collate_batch)\n",
    "text_batch, label_batch, length_batch = next(iter(dataloader))\n",
    "print(text_batch)\n",
    "print(label_batch)\n",
    "print(length_batch)\n",
    "print(text_batch.shape)"
   ]
  },
  {
   "cell_type": "code",
   "execution_count": 21,
   "id": "6e028ce2",
   "metadata": {},
   "outputs": [],
   "source": [
    "batch_size = 50\n",
    "\n",
    "train_dl = DataLoader(train_dataset, batch_size=batch_size,\n",
    "                      shuffle=True, collate_fn=collate_batch)\n",
    "valid_dl = DataLoader(valid_dataset, batch_size=batch_size,\n",
    "                      shuffle=False, collate_fn=collate_batch)\n",
    "test_dl = DataLoader(test_dataset, batch_size=batch_size,\n",
    "                     shuffle=False, collate_fn=collate_batch)"
   ]
  },
  {
   "cell_type": "markdown",
   "id": "d3fe8d27",
   "metadata": {},
   "source": [
    "### 1.6 Creación del modelo, involucrando embeddings."
   ]
  },
  {
   "cell_type": "code",
   "execution_count": 22,
   "id": "2cfb870a",
   "metadata": {},
   "outputs": [
    {
     "name": "stdout",
     "output_type": "stream",
     "text": [
      "5\n"
     ]
    }
   ],
   "source": [
    "num_classes=len(df_filter.evaluation.unique())\n",
    "print(num_classes)"
   ]
  },
  {
   "cell_type": "code",
   "execution_count": 23,
   "id": "487a5871",
   "metadata": {},
   "outputs": [],
   "source": [
    "class RNN_GRU_BI(nn.Module):\n",
    "    def __init__(self, vocab_size, embed_dim, rnn_hidden_size, fc_hidden_size):\n",
    "        torch.manual_seed(0)\n",
    "        super().__init__()\n",
    "        self.embedding = nn.Embedding(vocab_size, \n",
    "                                      embed_dim, \n",
    "                                      padding_idx=0) \n",
    "        self.rnn = nn.GRU(embed_dim, rnn_hidden_size, \n",
    "                           batch_first=True, bidirectional=True)\n",
    "        self.fc1 = nn.Linear(rnn_hidden_size*2, fc_hidden_size)\n",
    "        self.relu = nn.ReLU()\n",
    "        self.fc2 = nn.Linear(fc_hidden_size, num_classes)\n",
    "        self.sigmoid = nn.Sigmoid()\n",
    "\n",
    "    def forward(self, text, lengths):\n",
    "        out = self.embedding(text)\n",
    "        out = nn.utils.rnn.pack_padded_sequence(out, lengths.cpu().numpy(), enforce_sorted=False, batch_first=True)\n",
    "        _, (hidden) = self.rnn(out)\n",
    "        out = torch.cat((hidden[-2, :, :], hidden[-1, :, :]), dim=1)\n",
    "        out = self.fc1(out)\n",
    "        out = self.relu(out)\n",
    "        out = self.fc2(out)\n",
    "        out = self.sigmoid(out)\n",
    "        return out\n",
    " \n",
    "\n",
    "class RNN_LSTM_BI(nn.Module):\n",
    "    def __init__(self, vocab_size, embed_dim, rnn_hidden_size, fc_hidden_size):\n",
    "        torch.manual_seed(0)\n",
    "        super().__init__()\n",
    "        self.embedding = nn.Embedding(vocab_size, \n",
    "                                      embed_dim, \n",
    "                                      padding_idx=0) \n",
    "        self.rnn = nn.LSTM(embed_dim, rnn_hidden_size, \n",
    "                           batch_first=True, bidirectional=True)\n",
    "        self.fc1 = nn.Linear(rnn_hidden_size*2, fc_hidden_size)\n",
    "        self.relu = nn.ReLU()\n",
    "        self.fc2 = nn.Linear(fc_hidden_size, num_classes)\n",
    "        self.sigmoid = nn.Sigmoid()\n",
    "\n",
    "    def forward(self, text, lengths):\n",
    "        out = self.embedding(text)\n",
    "        out = nn.utils.rnn.pack_padded_sequence(out, lengths.cpu().numpy(), enforce_sorted=False, batch_first=True)\n",
    "        _, (hidden, cell) = self.rnn(out)\n",
    "        out = torch.cat((hidden[-2, :, :], hidden[-1, :, :]), dim=1)\n",
    "        out = self.fc1(out)\n",
    "        out = self.relu(out)\n",
    "        out = self.fc2(out)\n",
    "        out = self.sigmoid(out)\n",
    "        return out\n",
    "    \n"
   ]
  },
  {
   "cell_type": "code",
   "execution_count": 24,
   "id": "3a2a623c",
   "metadata": {},
   "outputs": [],
   "source": [
    "### Si funciona queda esta: \n",
    "import torch.nn.functional as F\n",
    "def gru_training_validation(vocab_size = len(vocab_), embed_dim = 64,\n",
    "                            rnn_hidden_size = 64,\n",
    "                            fc_hidden_size = 64,\n",
    "                            num_epochs = 500,\n",
    "                            lr=0.001,\n",
    "                            num_classes=len(df_filter.evaluation.unique()),\n",
    "                            device = device,\n",
    "                            optimizer_='adam',\n",
    "                            loss_func = F.cross_entropy,\n",
    "                            return_for_graphichs= False\n",
    "                            ):\n",
    "    model_gru = RNN_GRU_BI(vocab_size, embed_dim, rnn_hidden_size, fc_hidden_size) \n",
    "    model_gru = model_gru.to(device)\n",
    "\n",
    "    if optimizer_ == 'adam':\n",
    "        optimizer = torch.optim.Adam(model_gru.parameters(), lr=lr)\n",
    "    elif optimizer_ == 'SGD':\n",
    "        optimizer = torch.optim.SGD(model_gru.parameters(), lr=lr)\n",
    "\n",
    "    def train_GRU_BI(dataloader):\n",
    "        model_gru.train()\n",
    "        total_acc, total_loss = 0, 0\n",
    "        losses,acc_acum,nums=0,0,0\n",
    "\n",
    "        for text_batch, label_batch, lengths in dataloader:\n",
    "            optimizer.zero_grad()\n",
    "            y_test=label_batch.long()\n",
    "            y_pred = torch.argmax(model_gru(text_batch, lengths), 1)\n",
    "\n",
    "            pred = model_gru(text_batch, lengths)\n",
    "            loss = loss_func(pred, y_test)\n",
    "            loss.backward()\n",
    "            optimizer.step()\n",
    "    \n",
    "            total_acc += (y_pred == label_batch).float().sum().item()\n",
    "            total_loss += loss.item()*label_batch.size(0)\n",
    "\n",
    "        return total_acc/len(dataloader.dataset), total_loss/len(dataloader.dataset)\n",
    "\n",
    "    def evaluate_GRU_BI(dataloader):\n",
    "        model_gru.eval()\n",
    "        total_acc, total_loss = 0, 0\n",
    "        with torch.no_grad():\n",
    "            for text_batch, label_batch, lengths in dataloader:\n",
    "                #revisar funcion de perdida\n",
    "                y_pred = torch.argmax(model_gru(text_batch, lengths), 1)\n",
    "                y_test=label_batch.long()\n",
    "                pred = model_gru(text_batch, lengths)\n",
    "                loss = loss_func(pred, y_test)\n",
    "                total_acc += (y_pred == label_batch).float().sum().item()\n",
    "                total_loss += loss.item()*label_batch.size(0)\n",
    "        return total_acc/len(dataloader.dataset), total_loss/len(dataloader.dataset)\n",
    "    \n",
    "    #Entrenando modelo\n",
    "    train_losses = []\n",
    "    valid_losses = []\n",
    "    train_acc = []\n",
    "    valid_acc = []\n",
    "\n",
    "    for epoch in range(num_epochs):\n",
    "            acc_train, loss_train = train_GRU_BI(train_dl)\n",
    "            acc_valid, loss_valid = evaluate_GRU_BI(valid_dl)\n",
    "            train_losses.append(loss_train)\n",
    "            valid_losses.append(loss_valid)\n",
    "            train_acc.append(acc_train)\n",
    "            valid_acc.append(acc_valid)\n",
    "            #print(f\"epoch: {epoch},    train_loss: {loss_train:.4f} \\\n",
    "            #valid_loss: {loss_valid:.4f}, valid_acc: {acc_valid:.4f}\")\n",
    "    acc_test, _ = evaluate_GRU_BI(test_dl)\n",
    "    print(f'test_accuracy: {acc_test:.4f}') \n",
    "\n",
    "    if return_for_graphichs:\n",
    "        return acc_test, train_acc, valid_acc, model_gru\n",
    "    else: \n",
    "        return acc_test    \n"
   ]
  },
  {
   "cell_type": "code",
   "execution_count": 25,
   "id": "923e3231",
   "metadata": {},
   "outputs": [],
   "source": [
    "### Funcion de validacion LSTM\n",
    "import torch.nn.functional as F\n",
    "def lstm_training_validation(vocab_size = len(vocab_), embed_dim = 64,\n",
    "                            rnn_hidden_size = 64,\n",
    "                            fc_hidden_size = 64,\n",
    "                            num_epochs = 500,\n",
    "                            lr=0.001,\n",
    "                            num_classes=len(df_filter.evaluation.unique()),\n",
    "                            device = device,\n",
    "                            optimizer_='adam',\n",
    "                            loss_func = F.cross_entropy\n",
    "                            ):\n",
    "    model_lstm = RNN_LSTM_BI(vocab_size, embed_dim, rnn_hidden_size, fc_hidden_size) \n",
    "    model_lstm = model_lstm.to(device)\n",
    "\n",
    "    if optimizer_ == 'adam':\n",
    "        optimizer = torch.optim.Adam(model_lstm.parameters(), lr=lr)\n",
    "    elif optimizer_ == 'SGD':\n",
    "        optimizer = torch.optim.SGD(model_lstm.parameters(), lr=lr)\n",
    "\n",
    "    def train_LSTM_BI(dataloader):\n",
    "        model_lstm.train()\n",
    "        total_acc, total_loss = 0, 0\n",
    "        losses,acc_acum,nums=0,0,0\n",
    "\n",
    "        for text_batch, label_batch, lengths in dataloader:\n",
    "            optimizer.zero_grad()\n",
    "            y_test=label_batch.long()\n",
    "            y_pred = torch.argmax(model_lstm(text_batch, lengths), 1)\n",
    "\n",
    "            pred = model_lstm(text_batch, lengths)\n",
    "            loss = loss_func(pred, y_test)\n",
    "            loss.backward()\n",
    "            optimizer.step()\n",
    "    \n",
    "            total_acc += (y_pred == label_batch).float().sum().item()\n",
    "            total_loss += loss.item()*label_batch.size(0)\n",
    "\n",
    "        return total_acc/len(dataloader.dataset), total_loss/len(dataloader.dataset)\n",
    "\n",
    "    def evaluate_LSTM_BI(dataloader):\n",
    "        model_lstm.eval()\n",
    "        total_acc, total_loss = 0, 0\n",
    "        with torch.no_grad():\n",
    "            for text_batch, label_batch, lengths in dataloader:\n",
    "                #revisar funcion de perdida\n",
    "                y_pred = torch.argmax(model_lstm(text_batch, lengths), 1)\n",
    "                y_test=label_batch.long()\n",
    "                pred = model_lstm(text_batch, lengths)\n",
    "                loss = loss_func(pred, y_test)\n",
    "                total_acc += (y_pred == label_batch).float().sum().item()\n",
    "                total_loss += loss.item()*label_batch.size(0)\n",
    "        return total_acc/len(dataloader.dataset), total_loss/len(dataloader.dataset)\n",
    "    \n",
    "    #Entrenando modelo\n",
    "    train_losses = []\n",
    "    valid_losses = []\n",
    "\n",
    "    for epoch in range(num_epochs):\n",
    "            acc_train, loss_train = train_LSTM_BI(train_dl)\n",
    "            acc_valid, loss_valid = evaluate_LSTM_BI(valid_dl)\n",
    "            train_losses.append(loss_train)\n",
    "            valid_losses.append(loss_valid)\n",
    "            #print(f\"epoch: {epoch},    train_loss: {loss_train:.4f} \\\n",
    "            #valid_loss: {loss_valid:.4f}, valid_acc: {acc_valid:.4f}\")\n",
    "    acc_test, _ = evaluate_LSTM_BI(test_dl)\n",
    "    print(f'test_accuracy: {acc_test:.4f}') \n",
    "    return acc_test\n",
    "    print('hola')\n"
   ]
  },
  {
   "cell_type": "code",
   "execution_count": 27,
   "id": "518b9acf",
   "metadata": {},
   "outputs": [],
   "source": [
    "### Corriendo validaciones\n",
    "params_ = {'optimizer_': ['adam', 'SGD'],\n",
    "            'NUM_HIDDEN': [10,50,100],\n",
    "            'epochs': [10,20, 30], \n",
    "            'loss_func': [F.cross_entropy]}"
   ]
  },
  {
   "cell_type": "code",
   "execution_count": 28,
   "id": "f8b99c1d",
   "metadata": {},
   "outputs": [
    {
     "name": "stdout",
     "output_type": "stream",
     "text": [
      "test_accuracy: 0.2435\n",
      "test_accuracy: 0.2348\n",
      "test_accuracy: 0.2696\n",
      "test_accuracy: 0.3043\n",
      "test_accuracy: 0.2696\n"
     ]
    },
    {
     "ename": "KeyboardInterrupt",
     "evalue": "",
     "output_type": "error",
     "traceback": [
      "\u001b[0;31m---------------------------------------------------------------------------\u001b[0m",
      "\u001b[0;31mKeyboardInterrupt\u001b[0m                         Traceback (most recent call last)",
      "File \u001b[0;32m<timed exec>:14\u001b[0m\n",
      "Cell \u001b[0;32mIn [24], line 63\u001b[0m, in \u001b[0;36mgru_training_validation\u001b[0;34m(vocab_size, embed_dim, rnn_hidden_size, fc_hidden_size, num_epochs, lr, num_classes, device, optimizer_, loss_func, return_for_graphichs)\u001b[0m\n\u001b[1;32m     60\u001b[0m valid_acc \u001b[39m=\u001b[39m []\n\u001b[1;32m     62\u001b[0m \u001b[39mfor\u001b[39;00m epoch \u001b[39min\u001b[39;00m \u001b[39mrange\u001b[39m(num_epochs):\n\u001b[0;32m---> 63\u001b[0m         acc_train, loss_train \u001b[39m=\u001b[39m train_GRU_BI(train_dl)\n\u001b[1;32m     64\u001b[0m         acc_valid, loss_valid \u001b[39m=\u001b[39m evaluate_GRU_BI(valid_dl)\n\u001b[1;32m     65\u001b[0m         train_losses\u001b[39m.\u001b[39mappend(loss_train)\n",
      "Cell \u001b[0;32mIn [24], line 34\u001b[0m, in \u001b[0;36mgru_training_validation.<locals>.train_GRU_BI\u001b[0;34m(dataloader)\u001b[0m\n\u001b[1;32m     32\u001b[0m pred \u001b[39m=\u001b[39m model_gru(text_batch, lengths)\n\u001b[1;32m     33\u001b[0m loss \u001b[39m=\u001b[39m loss_func(pred, y_test)\n\u001b[0;32m---> 34\u001b[0m loss\u001b[39m.\u001b[39;49mbackward()\n\u001b[1;32m     35\u001b[0m optimizer\u001b[39m.\u001b[39mstep()\n\u001b[1;32m     37\u001b[0m total_acc \u001b[39m+\u001b[39m\u001b[39m=\u001b[39m (y_pred \u001b[39m==\u001b[39m label_batch)\u001b[39m.\u001b[39mfloat()\u001b[39m.\u001b[39msum()\u001b[39m.\u001b[39mitem()\n",
      "File \u001b[0;32m~/.pyenv/versions/nlp-env/lib/python3.8/site-packages/torch/_tensor.py:487\u001b[0m, in \u001b[0;36mTensor.backward\u001b[0;34m(self, gradient, retain_graph, create_graph, inputs)\u001b[0m\n\u001b[1;32m    477\u001b[0m \u001b[39mif\u001b[39;00m has_torch_function_unary(\u001b[39mself\u001b[39m):\n\u001b[1;32m    478\u001b[0m     \u001b[39mreturn\u001b[39;00m handle_torch_function(\n\u001b[1;32m    479\u001b[0m         Tensor\u001b[39m.\u001b[39mbackward,\n\u001b[1;32m    480\u001b[0m         (\u001b[39mself\u001b[39m,),\n\u001b[0;32m   (...)\u001b[0m\n\u001b[1;32m    485\u001b[0m         inputs\u001b[39m=\u001b[39minputs,\n\u001b[1;32m    486\u001b[0m     )\n\u001b[0;32m--> 487\u001b[0m torch\u001b[39m.\u001b[39;49mautograd\u001b[39m.\u001b[39;49mbackward(\n\u001b[1;32m    488\u001b[0m     \u001b[39mself\u001b[39;49m, gradient, retain_graph, create_graph, inputs\u001b[39m=\u001b[39;49minputs\n\u001b[1;32m    489\u001b[0m )\n",
      "File \u001b[0;32m~/.pyenv/versions/nlp-env/lib/python3.8/site-packages/torch/autograd/__init__.py:197\u001b[0m, in \u001b[0;36mbackward\u001b[0;34m(tensors, grad_tensors, retain_graph, create_graph, grad_variables, inputs)\u001b[0m\n\u001b[1;32m    192\u001b[0m     retain_graph \u001b[39m=\u001b[39m create_graph\n\u001b[1;32m    194\u001b[0m \u001b[39m# The reason we repeat same the comment below is that\u001b[39;00m\n\u001b[1;32m    195\u001b[0m \u001b[39m# some Python versions print out the first line of a multi-line function\u001b[39;00m\n\u001b[1;32m    196\u001b[0m \u001b[39m# calls in the traceback and some print out the last line\u001b[39;00m\n\u001b[0;32m--> 197\u001b[0m Variable\u001b[39m.\u001b[39;49m_execution_engine\u001b[39m.\u001b[39;49mrun_backward(  \u001b[39m# Calls into the C++ engine to run the backward pass\u001b[39;49;00m\n\u001b[1;32m    198\u001b[0m     tensors, grad_tensors_, retain_graph, create_graph, inputs,\n\u001b[1;32m    199\u001b[0m     allow_unreachable\u001b[39m=\u001b[39;49m\u001b[39mTrue\u001b[39;49;00m, accumulate_grad\u001b[39m=\u001b[39;49m\u001b[39mTrue\u001b[39;49;00m)\n",
      "\u001b[0;31mKeyboardInterrupt\u001b[0m: "
     ]
    }
   ],
   "source": [
    "%%time\n",
    "from itertools import product\n",
    "param_names = list(params_.keys())\n",
    "# zip with parameter names in order to get original property\n",
    "param_values = (zip(param_names, x) for x in product(*params_.values()))\n",
    "\n",
    "result_val_acc = list()\n",
    "output = pd.DataFrame()\n",
    "for paramset in param_values:\n",
    "    # use the dict from iterator of tuples constructor\n",
    "    dict_temp = dict(paramset)\n",
    "    output = output.append(dict_temp, ignore_index=True)\n",
    "    # operando la grilla para tener el accuracy y guardar en lista\n",
    "\n",
    "    result_val_acc.append(gru_training_validation(vocab_size = len(vocab_), embed_dim = dict_temp['NUM_HIDDEN'],\n",
    "                            rnn_hidden_size = dict_temp['NUM_HIDDEN'],\n",
    "                            fc_hidden_size = dict_temp['NUM_HIDDEN'],\n",
    "                            num_epochs = dict_temp['epochs'],\n",
    "                            lr=0.001,\n",
    "                            num_classes=len(df_filter.evaluation.unique()),\n",
    "                            device = device,\n",
    "                            optimizer_=dict_temp['optimizer_'],\n",
    "                            loss_func = dict_temp['loss_func']\n",
    "                            ))"
   ]
  },
  {
   "cell_type": "code",
   "execution_count": null,
   "id": "1b939664",
   "metadata": {},
   "outputs": [
    {
     "name": "stdout",
     "output_type": "stream",
     "text": [
      "MEJOR COMBINACIÓN DE Parametros para el modelo GRU \n"
     ]
    },
    {
     "data": {
      "text/html": [
       "<div>\n",
       "<style scoped>\n",
       "    .dataframe tbody tr th:only-of-type {\n",
       "        vertical-align: middle;\n",
       "    }\n",
       "\n",
       "    .dataframe tbody tr th {\n",
       "        vertical-align: top;\n",
       "    }\n",
       "\n",
       "    .dataframe thead th {\n",
       "        text-align: right;\n",
       "    }\n",
       "</style>\n",
       "<table border=\"1\" class=\"dataframe\">\n",
       "  <thead>\n",
       "    <tr style=\"text-align: right;\">\n",
       "      <th></th>\n",
       "      <th>index</th>\n",
       "      <th>optimizer_</th>\n",
       "      <th>NUM_HIDDEN</th>\n",
       "      <th>epochs</th>\n",
       "      <th>loss_func</th>\n",
       "      <th>acc_val</th>\n",
       "    </tr>\n",
       "  </thead>\n",
       "  <tbody>\n",
       "    <tr>\n",
       "      <th>0</th>\n",
       "      <td>17</td>\n",
       "      <td>SGD</td>\n",
       "      <td>10</td>\n",
       "      <td>75</td>\n",
       "      <td>&lt;function cross_entropy at 0x132c43e50&gt;</td>\n",
       "      <td>0.313043</td>\n",
       "    </tr>\n",
       "  </tbody>\n",
       "</table>\n",
       "</div>"
      ],
      "text/plain": [
       "   index optimizer_  NUM_HIDDEN  epochs  \\\n",
       "0     17        SGD          10      75   \n",
       "\n",
       "                                 loss_func   acc_val  \n",
       "0  <function cross_entropy at 0x132c43e50>  0.313043  "
      ]
     },
     "execution_count": 60,
     "metadata": {},
     "output_type": "execute_result"
    }
   ],
   "source": [
    "output = output.assign(acc_val = result_val_acc)\n",
    "print('MEJOR COMBINACIÓN DE Parametros para el modelo GRU ')\n",
    "best_params_GRU = output.loc[output.acc_val == output.acc_val.max()].reset_index()\n",
    "best_params_GRU"
   ]
  },
  {
   "cell_type": "code",
   "execution_count": null,
   "id": "a69efdeb",
   "metadata": {},
   "outputs": [],
   "source": [
    "## agregamos el de LSTM\n",
    "%%time\n",
    "from itertools import product\n",
    "param_names = list(params_.keys())\n",
    "# zip with parameter names in order to get original property\n",
    "param_values = (zip(param_names, x) for x in product(*params_.values()))\n",
    "\n",
    "result_val_acc = list()\n",
    "output_LSTM = pd.DataFrame()\n",
    "for paramset in param_values:\n",
    "    # use the dict from iterator of tuples constructor\n",
    "    dict_temp = dict(paramset)\n",
    "    output_LSTM = output_LSTM.append(dict_temp, ignore_index=True)\n",
    "    # operando la grilla para tener el accuracy y guardar en lista\n",
    "\n",
    "    result_val_acc.append(lstm_training_validation(vocab_size = len(vocab_), embed_dim = dict_temp['NUM_HIDDEN'],\n",
    "                            rnn_hidden_size = dict_temp['NUM_HIDDEN'],\n",
    "                            fc_hidden_size = dict_temp['NUM_HIDDEN'],\n",
    "                            num_epochs = dict_temp['epochs'],\n",
    "                            lr=0.001,\n",
    "                            num_classes=len(df_filter.evaluation.unique()),\n",
    "                            device = device,\n",
    "                            optimizer_=dict_temp['optimizer_'],\n",
    "                            loss_func = dict_temp['loss_func']\n",
    "                            ))"
   ]
  },
  {
   "cell_type": "code",
   "execution_count": 61,
   "id": "5184577d",
   "metadata": {},
   "outputs": [
    {
     "name": "stdout",
     "output_type": "stream",
     "text": [
      "MEJOR COMBINACIÓN DE Parametros para el modelo LSTM\n"
     ]
    },
    {
     "data": {
      "text/html": [
       "<div>\n",
       "<style scoped>\n",
       "    .dataframe tbody tr th:only-of-type {\n",
       "        vertical-align: middle;\n",
       "    }\n",
       "\n",
       "    .dataframe tbody tr th {\n",
       "        vertical-align: top;\n",
       "    }\n",
       "\n",
       "    .dataframe thead th {\n",
       "        text-align: right;\n",
       "    }\n",
       "</style>\n",
       "<table border=\"1\" class=\"dataframe\">\n",
       "  <thead>\n",
       "    <tr style=\"text-align: right;\">\n",
       "      <th></th>\n",
       "      <th>index</th>\n",
       "      <th>optimizer_</th>\n",
       "      <th>NUM_HIDDEN</th>\n",
       "      <th>epochs</th>\n",
       "      <th>loss_func</th>\n",
       "      <th>acc_val</th>\n",
       "    </tr>\n",
       "  </thead>\n",
       "  <tbody>\n",
       "    <tr>\n",
       "      <th>0</th>\n",
       "      <td>17</td>\n",
       "      <td>SGD</td>\n",
       "      <td>10</td>\n",
       "      <td>75</td>\n",
       "      <td>&lt;function cross_entropy at 0x132c43e50&gt;</td>\n",
       "      <td>0.313043</td>\n",
       "    </tr>\n",
       "  </tbody>\n",
       "</table>\n",
       "</div>"
      ],
      "text/plain": [
       "   index optimizer_  NUM_HIDDEN  epochs  \\\n",
       "0     17        SGD          10      75   \n",
       "\n",
       "                                 loss_func   acc_val  \n",
       "0  <function cross_entropy at 0x132c43e50>  0.313043  "
      ]
     },
     "execution_count": 61,
     "metadata": {},
     "output_type": "execute_result"
    }
   ],
   "source": [
    "output_LSTM = output_LSTM.assign(acc_val = result_val_acc)\n",
    "print('MEJOR COMBINACIÓN DE Parametros para el modelo LSTM')\n",
    "output_LSTM = output_LSTM.loc[output_LSTM.acc_val == output_LSTM.acc_val.max()].reset_index()\n",
    "output_LSTM"
   ]
  },
  {
   "cell_type": "code",
   "execution_count": 75,
   "id": "4a9866ae",
   "metadata": {},
   "outputs": [
    {
     "data": {
      "text/plain": [
       "75"
      ]
     },
     "execution_count": 75,
     "metadata": {},
     "output_type": "execute_result"
    }
   ],
   "source": [
    "best_params['epochs'][0]"
   ]
  },
  {
   "cell_type": "markdown",
   "id": "3bee26f8",
   "metadata": {},
   "source": [
    "Con base en el analisis previo construido, nos quedamos con un modelo bajo las siguientes condiciones: \n",
    "\n",
    "- optimizer: SGD\n",
    "- Num_hidden: 10\n",
    "- epochs: 75\n",
    "- LOss_function: Cross Entropy"
   ]
  },
  {
   "cell_type": "code",
   "execution_count": 31,
   "id": "3b099df7",
   "metadata": {},
   "outputs": [
    {
     "name": "stdout",
     "output_type": "stream",
     "text": [
      "test_accuracy: 0.1391\n"
     ]
    }
   ],
   "source": [
    "acc_test, train_acc, valid_acc, model_gru=  gru_training_validation(vocab_size = len(vocab_), embed_dim =10,# best_params['NUM_HIDDEN'][0],\n",
    "                            rnn_hidden_size = 10,#best_params['NUM_HIDDEN'][0],\n",
    "                            fc_hidden_size = 10,#best_params['NUM_HIDDEN'][0],\n",
    "                            num_epochs =10,# best_params['epochs'][0],\n",
    "                            lr=0.001,\n",
    "                            num_classes=len(df_filter.evaluation.unique()),\n",
    "                            device = device,\n",
    "                            optimizer_='SGD',#best_params['optimizer_'][0],\n",
    "                            loss_func = F.cross_entropy,#best_params['loss_func'][0],\n",
    "                            return_for_graphichs= True\n",
    "                            )"
   ]
  },
  {
   "cell_type": "code",
   "execution_count": 32,
   "id": "5e857f6d",
   "metadata": {},
   "outputs": [
    {
     "data": {
      "text/plain": [
       "<matplotlib.legend.Legend at 0x2b6b87cd0>"
      ]
     },
     "execution_count": 32,
     "metadata": {},
     "output_type": "execute_result"
    },
    {
     "data": {
      "image/png": "[encoded data removed]",
      "text/plain": [
       "<Figure size 640x480 with 1 Axes>"
      ]
     },
     "metadata": {},
     "output_type": "display_data"
    }
   ],
   "source": [
    "plt.plot(range(len(train_acc)), train_acc, 'r', label='train')\n",
    "plt.plot(range(len(train_acc)), valid_acc, 'b', label = 'valid')\n",
    "plt.legend()"
   ]
  },
  {
   "cell_type": "code",
   "execution_count": 89,
   "id": "7538fa80",
   "metadata": {},
   "outputs": [
    {
     "data": {
      "text/plain": [
       "RNN_GRU_BI(\n",
       "  (embedding): Embedding(4221, 10, padding_idx=0)\n",
       "  (rnn): GRU(10, 10, batch_first=True, bidirectional=True)\n",
       "  (fc1): Linear(in_features=20, out_features=10, bias=True)\n",
       "  (relu): ReLU()\n",
       "  (fc2): Linear(in_features=10, out_features=5, bias=True)\n",
       "  (sigmoid): Sigmoid()\n",
       ")"
      ]
     },
     "execution_count": 89,
     "metadata": {},
     "output_type": "execute_result"
    }
   ],
   "source": [
    "model_gru.eval()"
   ]
  },
  {
   "cell_type": "code",
   "execution_count": 90,
   "id": "e724534e",
   "metadata": {},
   "outputs": [
    {
     "data": {
      "text/plain": [
       "OrderedDict([('embedding.weight',\n",
       "              tensor([[ 0.0000,  0.0000,  0.0000,  ...,  0.0000,  0.0000,  0.0000],\n",
       "                      [-0.5193,  0.7552, -0.6284,  ...,  1.7562, -1.7945, -0.9462],\n",
       "                      [-0.1522, -0.8551,  0.1652,  ...,  0.6851, -0.5209,  1.7567],\n",
       "                      ...,\n",
       "                      [-0.3637,  0.8205,  0.2606,  ..., -1.4609,  0.0985, -0.0153],\n",
       "                      [-2.0151, -1.4749, -0.5736,  ..., -0.5392,  1.4236, -0.3085],\n",
       "                      [-0.7355,  0.7124, -1.6401,  ..., -0.9723, -1.3608, -0.2181]])),\n",
       "             ('rnn.weight_ih_l0',\n",
       "              tensor([[ 0.0306, -0.2013, -0.2728, -0.2525,  0.0313,  0.3014,  0.1494, -0.0885,\n",
       "                        0.1596,  0.0333],\n",
       "                      [ 0.0364,  0.1689,  0.1459,  0.1536,  0.2061,  0.2448, -0.1678, -0.2562,\n",
       "                       -0.1105,  0.2753],\n",
       "                      [ 0.0462,  0.1822, -0.0707, -0.1131,  0.2498,  0.2230,  0.0147, -0.0768,\n",
       "                        0.0548,  0.1681],\n",
       "                      [-0.1826, -0.2334, -0.0738,  0.3029, -0.0170,  0.1624, -0.1679,  0.2811,\n",
       "                       -0.1787, -0.1797],\n",
       "                      [-0.0045,  0.0822, -0.2639, -0.2453, -0.3051, -0.1287,  0.0325,  0.2883,\n",
       "                        0.0285,  0.0175],\n",
       "                      [-0.2672, -0.2228, -0.0866, -0.1404,  0.2864, -0.0543, -0.0779, -0.0407,\n",
       "                        0.2694, -0.1761],\n",
       "                      [ 0.1861, -0.0208,  0.1169,  0.2401,  0.1615,  0.0629,  0.3136,  0.0526,\n",
       "                       -0.2242, -0.0756],\n",
       "                      [-0.1070, -0.0747, -0.0988,  0.1846, -0.1476,  0.2667,  0.0190, -0.2412,\n",
       "                       -0.2131, -0.2968],\n",
       "                      [ 0.0644, -0.1359,  0.0652, -0.2696, -0.1334, -0.1003, -0.1260, -0.0130,\n",
       "                        0.0958,  0.0463],\n",
       "                      [-0.2131,  0.0532, -0.2974, -0.2918,  0.1687,  0.1233, -0.2692,  0.2876,\n",
       "                        0.2257, -0.0031],\n",
       "                      [ 0.2512, -0.1057, -0.0891, -0.1191,  0.0832,  0.0570,  0.3001, -0.1311,\n",
       "                       -0.3115,  0.0893],\n",
       "                      [-0.0820,  0.0049, -0.2401, -0.0334,  0.1151, -0.2370, -0.1991,  0.2110,\n",
       "                       -0.0768, -0.0398],\n",
       "                      [ 0.1891,  0.0494,  0.0343,  0.0902,  0.1694,  0.1510,  0.2871, -0.2726,\n",
       "                       -0.0929,  0.2412],\n",
       "                      [-0.2403,  0.2591, -0.2458, -0.2946, -0.1033,  0.0662,  0.1428,  0.1687,\n",
       "                        0.2921, -0.2648],\n",
       "                      [-0.1810,  0.1741, -0.1218,  0.1444, -0.0125,  0.3134, -0.0405, -0.2435,\n",
       "                        0.3024,  0.2475],\n",
       "                      [ 0.1069,  0.0847, -0.0962, -0.0890, -0.1079,  0.2643, -0.0258,  0.0383,\n",
       "                       -0.0454, -0.2689],\n",
       "                      [ 0.3121, -0.2961,  0.0333,  0.1972, -0.2435, -0.1938,  0.2763,  0.0185,\n",
       "                        0.0654, -0.0977],\n",
       "                      [-0.0687, -0.2937,  0.1590,  0.0804, -0.3055,  0.0326,  0.3149, -0.0571,\n",
       "                        0.2184,  0.2609],\n",
       "                      [-0.2064, -0.2268,  0.1561, -0.2011,  0.0810, -0.0074, -0.1325, -0.1441,\n",
       "                        0.1496,  0.2307],\n",
       "                      [-0.1772,  0.0612, -0.0884, -0.0939, -0.1820,  0.0780, -0.1963, -0.0923,\n",
       "                       -0.0269,  0.2768],\n",
       "                      [ 0.1732,  0.1830,  0.0892,  0.1686,  0.2088, -0.1973, -0.1112,  0.2484,\n",
       "                        0.1114,  0.0556],\n",
       "                      [-0.2764,  0.0929,  0.2657,  0.2402, -0.1757,  0.2199, -0.2475, -0.0452,\n",
       "                        0.2228, -0.1318],\n",
       "                      [ 0.0230,  0.2350,  0.1866, -0.1431, -0.1841,  0.2464, -0.2844,  0.2745,\n",
       "                        0.2309, -0.2597],\n",
       "                      [-0.2985, -0.0643,  0.0158,  0.2663, -0.0402,  0.3126, -0.2251, -0.1331,\n",
       "                        0.1508, -0.2208],\n",
       "                      [-0.2654, -0.1878, -0.0154,  0.0772,  0.0293, -0.2755,  0.0229,  0.0948,\n",
       "                       -0.1714,  0.1098],\n",
       "                      [-0.1541, -0.1235, -0.0831,  0.2688,  0.1299, -0.0371,  0.2480,  0.0315,\n",
       "                        0.1032, -0.1638],\n",
       "                      [ 0.1348, -0.2443, -0.1458,  0.2653, -0.0968,  0.0062,  0.2680, -0.0428,\n",
       "                       -0.0419,  0.1029],\n",
       "                      [ 0.0329,  0.2871, -0.0309, -0.2814, -0.2115,  0.2185, -0.2026,  0.1830,\n",
       "                        0.0115,  0.0200],\n",
       "                      [ 0.2861,  0.0344, -0.0460, -0.3052,  0.0334,  0.2476,  0.1445, -0.1552,\n",
       "                       -0.1083, -0.1833],\n",
       "                      [ 0.2716,  0.0241, -0.2818,  0.1606, -0.1187,  0.3134,  0.0973, -0.0038,\n",
       "                        0.2625, -0.2962]])),\n",
       "             ('rnn.weight_hh_l0',\n",
       "              tensor([[ 0.2766, -0.2264,  0.0475, -0.1697, -0.2765, -0.1788, -0.1263, -0.0566,\n",
       "                        0.0804,  0.0465],\n",
       "                      [ 0.2912,  0.1925, -0.1349, -0.0487,  0.2394,  0.1642,  0.0664,  0.1888,\n",
       "                        0.0184,  0.2682],\n",
       "                      [ 0.0044, -0.0960, -0.1335,  0.1147, -0.0281, -0.1483, -0.1367,  0.1457,\n",
       "                       -0.1193, -0.2395],\n",
       "                      [-0.1555, -0.0370,  0.1198, -0.0106, -0.1651,  0.3143, -0.2240,  0.1635,\n",
       "                        0.0670, -0.0448],\n",
       "                      [ 0.2084, -0.0166, -0.1958,  0.0872, -0.0274,  0.1689,  0.0676,  0.0467,\n",
       "                       -0.2994,  0.0711],\n",
       "                      [-0.2188,  0.0942,  0.0830,  0.3046,  0.0568, -0.0007,  0.2785,  0.1814,\n",
       "                       -0.0407, -0.2451],\n",
       "                      [-0.0569, -0.3045, -0.2883,  0.1975, -0.2845,  0.3141,  0.0868, -0.2624,\n",
       "                       -0.2218,  0.2668],\n",
       "                      [-0.1321, -0.0997,  0.0626, -0.0651, -0.0627, -0.1569, -0.2081,  0.2064,\n",
       "                        0.2693, -0.2660],\n",
       "                      [ 0.1791, -0.3087,  0.2401,  0.0987, -0.2066,  0.2608, -0.0952,  0.2936,\n",
       "                       -0.1772,  0.2210],\n",
       "                      [ 0.0483, -0.1422,  0.0158, -0.0285, -0.2137,  0.0887,  0.0736, -0.1164,\n",
       "                       -0.1708, -0.2428],\n",
       "                      [ 0.1902, -0.0357,  0.1891, -0.1215, -0.1145, -0.2831,  0.1992,  0.0274,\n",
       "                        0.0210,  0.2350],\n",
       "                      [ 0.0350, -0.1948, -0.1055,  0.2794, -0.2348,  0.2085, -0.2997,  0.0398,\n",
       "                       -0.0021,  0.3110],\n",
       "                      [-0.0652,  0.3132,  0.2655, -0.2707, -0.0076,  0.2851,  0.1008,  0.0091,\n",
       "                       -0.0388,  0.0652],\n",
       "                      [ 0.1822, -0.1889,  0.0753,  0.2978,  0.0306,  0.1784, -0.0319, -0.1754,\n",
       "                        0.2625,  0.2083],\n",
       "                      [ 0.1864,  0.2331,  0.2961, -0.0124, -0.0852,  0.0996, -0.2405, -0.0376,\n",
       "                        0.2109, -0.1388],\n",
       "                      [-0.1848,  0.2394,  0.1152, -0.1245,  0.2633, -0.1184, -0.0543,  0.1750,\n",
       "                        0.1441, -0.1121],\n",
       "                      [-0.2203,  0.2740,  0.1838, -0.3018,  0.2630, -0.1396, -0.1005,  0.0536,\n",
       "                        0.1140, -0.2423],\n",
       "                      [ 0.1505,  0.2014, -0.0959,  0.2840, -0.3064,  0.2202,  0.2058,  0.1981,\n",
       "                        0.2419, -0.1792],\n",
       "                      [-0.0411,  0.1692, -0.3003, -0.2546, -0.0753,  0.0655, -0.2768,  0.2088,\n",
       "                       -0.1421, -0.0061],\n",
       "                      [-0.2698, -0.2082, -0.0428, -0.0328, -0.0229,  0.1154,  0.1869,  0.1933,\n",
       "                        0.2385,  0.0942],\n",
       "                      [-0.0183, -0.1007, -0.1958, -0.1595,  0.2852,  0.0053, -0.0391,  0.1495,\n",
       "                        0.1339,  0.2100],\n",
       "                      [ 0.2470,  0.0370, -0.0191,  0.2269, -0.2067,  0.0549, -0.2946,  0.1242,\n",
       "                        0.1592, -0.0025],\n",
       "                      [-0.1511,  0.0965,  0.1849,  0.0023,  0.0209,  0.2681,  0.1836, -0.0700,\n",
       "                       -0.2583,  0.3003],\n",
       "                      [ 0.0469, -0.2935,  0.0771, -0.1523,  0.2114,  0.1645, -0.1506,  0.2108,\n",
       "                        0.1172, -0.0848],\n",
       "                      [-0.2745, -0.0009,  0.2078, -0.0810, -0.0198,  0.1370,  0.0062, -0.0106,\n",
       "                       -0.0721,  0.2698],\n",
       "                      [ 0.2955, -0.2290, -0.2629, -0.1525, -0.1764,  0.0825,  0.1797,  0.1581,\n",
       "                       -0.1483,  0.1399],\n",
       "                      [-0.1716,  0.2796, -0.0901,  0.1152,  0.1912,  0.2574,  0.2655,  0.0883,\n",
       "                        0.1161, -0.2929],\n",
       "                      [-0.2226, -0.2071,  0.1341,  0.2425, -0.3070,  0.0851, -0.0618, -0.2365,\n",
       "                       -0.1051, -0.0281],\n",
       "                      [-0.0632, -0.2621, -0.0165, -0.1487, -0.1375, -0.1187,  0.0286,  0.1679,\n",
       "                        0.0425,  0.2229],\n",
       "                      [-0.2929,  0.2773,  0.1177,  0.1290, -0.0699,  0.0136,  0.1782,  0.2040,\n",
       "                       -0.0500,  0.2703]])),\n",
       "             ('rnn.bias_ih_l0',\n",
       "              tensor([ 0.2426,  0.0609, -0.1800,  0.1434,  0.3150,  0.0957,  0.1170, -0.0894,\n",
       "                       0.2579, -0.0268, -0.1630, -0.0053, -0.2361,  0.2843, -0.1908, -0.1036,\n",
       "                       0.1654,  0.0070, -0.1664,  0.1068,  0.2192,  0.2125, -0.0379,  0.0196,\n",
       "                      -0.1074, -0.3151, -0.1920,  0.1245, -0.2729, -0.0120])),\n",
       "             ('rnn.bias_hh_l0',\n",
       "              tensor([-0.1138, -0.0364, -0.1262,  0.2592,  0.1614,  0.0900,  0.0307,  0.0006,\n",
       "                       0.2704, -0.1077, -0.1218,  0.0888, -0.0663,  0.1113, -0.1901,  0.2378,\n",
       "                       0.2521,  0.1957,  0.0375, -0.2870, -0.0207,  0.2199,  0.2889,  0.0492,\n",
       "                      -0.3094,  0.1127,  0.1521,  0.0636,  0.1979,  0.0364])),\n",
       "             ('rnn.weight_ih_l0_reverse',\n",
       "              tensor([[-0.0056, -0.2215,  0.0671, -0.1396,  0.2076, -0.0011, -0.1517, -0.1674,\n",
       "                        0.1985, -0.0616],\n",
       "                      [ 0.2038,  0.2622, -0.0248,  0.2418,  0.1272, -0.0590,  0.1698,  0.3160,\n",
       "                       -0.2463,  0.1980],\n",
       "                      [ 0.1108,  0.1238, -0.2208,  0.0259,  0.2815,  0.1842,  0.2918,  0.0116,\n",
       "                       -0.0693,  0.1858],\n",
       "                      [ 0.1014, -0.0514,  0.0148,  0.0393, -0.2275,  0.2868,  0.0278,  0.0225,\n",
       "                        0.1584, -0.2852],\n",
       "                      [ 0.1173, -0.0896, -0.0467,  0.2322,  0.2391, -0.1040, -0.2320,  0.0793,\n",
       "                       -0.1838,  0.1344],\n",
       "                      [ 0.1689,  0.1672, -0.2666,  0.3096,  0.2192,  0.2877,  0.0767, -0.0595,\n",
       "                        0.2265, -0.0366],\n",
       "                      [-0.1235, -0.1901, -0.0385,  0.2350,  0.2404,  0.2295, -0.0797, -0.2171,\n",
       "                        0.1432,  0.2982],\n",
       "                      [-0.2956,  0.1326, -0.2155,  0.2227,  0.2062,  0.1706, -0.0584, -0.1315,\n",
       "                       -0.2472, -0.3109],\n",
       "                      [ 0.2183, -0.0798,  0.0696, -0.1616, -0.1357,  0.1312,  0.1040,  0.0031,\n",
       "                       -0.2830, -0.2573],\n",
       "                      [-0.0625,  0.1234,  0.0508, -0.1939, -0.2676, -0.2804, -0.0477, -0.0472,\n",
       "                       -0.1526, -0.0891],\n",
       "                      [-0.2274,  0.2396, -0.0806, -0.1363, -0.0467,  0.0176,  0.2439,  0.2863,\n",
       "                        0.1859,  0.2631],\n",
       "                      [ 0.1355, -0.2512,  0.2855,  0.3083, -0.3080, -0.1978,  0.0519, -0.1484,\n",
       "                       -0.1700, -0.0815],\n",
       "                      [ 0.2697, -0.2101, -0.0676, -0.2380,  0.1056, -0.2849,  0.1443, -0.1515,\n",
       "                       -0.1232,  0.2633],\n",
       "                      [-0.3065, -0.1359, -0.0372,  0.0769,  0.1578, -0.2533,  0.1858,  0.0931,\n",
       "                        0.1361, -0.1268],\n",
       "                      [ 0.2332, -0.2968,  0.2035,  0.1552,  0.2605, -0.1833,  0.2667, -0.2158,\n",
       "                       -0.3028, -0.2350],\n",
       "                      [ 0.0403,  0.2374, -0.3157, -0.2145, -0.1226,  0.0729,  0.2747, -0.0235,\n",
       "                        0.3054,  0.0875],\n",
       "                      [ 0.3123,  0.0193, -0.1818, -0.1106, -0.3001, -0.2522,  0.0167, -0.2565,\n",
       "                        0.2041,  0.1708],\n",
       "                      [ 0.1110,  0.1013, -0.0942, -0.1841,  0.2699,  0.1481,  0.1382,  0.1406,\n",
       "                        0.1903,  0.2132],\n",
       "                      [ 0.3026, -0.1136,  0.0021, -0.0149, -0.2705, -0.1635, -0.0035, -0.1925,\n",
       "                        0.0932, -0.2048],\n",
       "                      [-0.3134,  0.0037, -0.0345, -0.0044, -0.1906,  0.0331,  0.0006, -0.2555,\n",
       "                       -0.1930, -0.1125],\n",
       "                      [-0.2792, -0.2376,  0.0551, -0.0569, -0.0900,  0.1809,  0.0837,  0.1366,\n",
       "                       -0.1162, -0.1792],\n",
       "                      [-0.1198, -0.1682, -0.2783, -0.0227,  0.1043, -0.2692, -0.2046,  0.0278,\n",
       "                       -0.1195, -0.0941],\n",
       "                      [ 0.1475, -0.2633, -0.0524, -0.2975,  0.2817, -0.3161, -0.2934,  0.0087,\n",
       "                       -0.0758,  0.0455],\n",
       "                      [-0.0943, -0.2379,  0.0482,  0.0464, -0.0236,  0.1915, -0.1215, -0.2553,\n",
       "                       -0.1000, -0.0729],\n",
       "                      [-0.2486,  0.2586, -0.1012,  0.2594, -0.0788,  0.0447,  0.0938,  0.0563,\n",
       "                        0.0235,  0.1344],\n",
       "                      [ 0.2782, -0.0085,  0.1055,  0.1934, -0.2601, -0.0325,  0.1295,  0.2563,\n",
       "                       -0.2217,  0.2690],\n",
       "                      [-0.1386, -0.2876, -0.3049, -0.1187,  0.1253, -0.0507,  0.2571, -0.0326,\n",
       "                        0.1541, -0.1116],\n",
       "                      [-0.2910,  0.0071,  0.1493, -0.0906,  0.1061,  0.2840, -0.1111, -0.1810,\n",
       "                        0.2442,  0.2669],\n",
       "                      [ 0.3116, -0.1262,  0.1876, -0.1034, -0.0245,  0.1869,  0.2255,  0.1404,\n",
       "                        0.2531, -0.1798],\n",
       "                      [-0.0353, -0.1908,  0.2290,  0.2488, -0.3040,  0.1410, -0.3039,  0.0567,\n",
       "                       -0.1731,  0.2364]])),\n",
       "             ('rnn.weight_hh_l0_reverse',\n",
       "              tensor([[-0.0096, -0.2732,  0.1628,  0.1129,  0.1533,  0.1994, -0.2707,  0.2688,\n",
       "                        0.1644,  0.2967],\n",
       "                      [-0.1450, -0.3091,  0.3134,  0.0119, -0.3031, -0.0872, -0.2665,  0.2944,\n",
       "                        0.1990, -0.0371],\n",
       "                      [-0.0861, -0.1676, -0.2916, -0.1927,  0.1310, -0.1206,  0.2691,  0.0438,\n",
       "                        0.0871,  0.2565],\n",
       "                      [-0.2867, -0.2589,  0.1466,  0.1189,  0.1652, -0.2233, -0.0451,  0.1407,\n",
       "                       -0.0557,  0.1463],\n",
       "                      [ 0.0710, -0.3020, -0.0039,  0.1023,  0.1638,  0.2004, -0.2867, -0.1871,\n",
       "                        0.0153,  0.2118],\n",
       "                      [-0.0888, -0.1626,  0.0817,  0.1212, -0.1434,  0.2050, -0.0584, -0.2107,\n",
       "                       -0.0256, -0.2159],\n",
       "                      [-0.3027,  0.3161, -0.0542, -0.2961, -0.1829, -0.0123, -0.1446, -0.1127,\n",
       "                        0.2839, -0.2468],\n",
       "                      [ 0.2408,  0.0906,  0.1071, -0.0569, -0.2672,  0.0856, -0.0521, -0.1807,\n",
       "                       -0.1174,  0.2837],\n",
       "                      [-0.2486, -0.1915,  0.1431,  0.1931,  0.1391,  0.0851,  0.2738, -0.1447,\n",
       "                        0.1342, -0.1145],\n",
       "                      [ 0.3072, -0.2502,  0.0849,  0.2996,  0.2997, -0.1369, -0.2276,  0.0682,\n",
       "                        0.2925, -0.0164],\n",
       "                      [ 0.0422, -0.2997,  0.1339,  0.1754,  0.2146,  0.2968,  0.2863, -0.2915,\n",
       "                       -0.0834, -0.2347],\n",
       "                      [-0.0670, -0.1805,  0.2096, -0.2281,  0.2691,  0.1474,  0.1287,  0.0744,\n",
       "                       -0.2596, -0.0024],\n",
       "                      [-0.2406,  0.2204,  0.2685,  0.1358,  0.2290,  0.1301,  0.1389,  0.2340,\n",
       "                        0.0121,  0.1874],\n",
       "                      [ 0.3069, -0.0268, -0.2632, -0.2309, -0.2336, -0.0937, -0.2911,  0.1196,\n",
       "                        0.0149,  0.0800],\n",
       "                      [-0.2175,  0.2042,  0.0332,  0.0151,  0.2153, -0.2693,  0.1818,  0.0545,\n",
       "                       -0.1408, -0.1791],\n",
       "                      [-0.1934,  0.1728, -0.3160,  0.1698, -0.1478,  0.1930, -0.0405,  0.3065,\n",
       "                       -0.2099, -0.1297],\n",
       "                      [-0.1246,  0.2404,  0.0815,  0.2665,  0.1332, -0.2733, -0.0398,  0.3009,\n",
       "                        0.3069, -0.0216],\n",
       "                      [-0.2811, -0.0180,  0.1190, -0.1225, -0.2700,  0.1716,  0.2523,  0.2779,\n",
       "                       -0.0093, -0.2702],\n",
       "                      [ 0.0080,  0.2863,  0.2619, -0.0746,  0.0657,  0.1041, -0.1920, -0.1401,\n",
       "                       -0.2373, -0.1914],\n",
       "                      [ 0.1028,  0.1397,  0.2461, -0.1096,  0.3019, -0.2301, -0.3146, -0.0314,\n",
       "                       -0.2889, -0.0265],\n",
       "                      [-0.0152, -0.0024, -0.0845,  0.1569,  0.1919,  0.2791,  0.0351,  0.2976,\n",
       "                        0.3128,  0.2714],\n",
       "                      [-0.0552,  0.2447, -0.1513,  0.0099,  0.1596, -0.1181,  0.0508,  0.1028,\n",
       "                       -0.1273,  0.2864],\n",
       "                      [ 0.0776, -0.2340,  0.1370, -0.0235,  0.2443,  0.0108,  0.0214,  0.0313,\n",
       "                       -0.0224, -0.0860],\n",
       "                      [ 0.0936,  0.2310,  0.0825,  0.2761, -0.2952,  0.1104,  0.2046, -0.2087,\n",
       "                       -0.2337,  0.1660],\n",
       "                      [ 0.1447, -0.0968, -0.2316, -0.1155, -0.2572, -0.0077, -0.0010, -0.2925,\n",
       "                       -0.0863,  0.1054],\n",
       "                      [-0.1975,  0.0414, -0.2930, -0.0037, -0.2607,  0.0291,  0.2212, -0.0011,\n",
       "                        0.2389,  0.0603],\n",
       "                      [-0.0530,  0.2093, -0.0218, -0.0818, -0.0971,  0.0377, -0.2642,  0.0242,\n",
       "                        0.2957,  0.0368],\n",
       "                      [ 0.1598,  0.3014, -0.1344, -0.2490,  0.2851,  0.2105, -0.0962,  0.0152,\n",
       "                       -0.0655, -0.2939],\n",
       "                      [-0.1896, -0.1200, -0.2119,  0.1936, -0.1292, -0.0813,  0.2216,  0.2022,\n",
       "                        0.1398, -0.0440],\n",
       "                      [ 0.0705, -0.1505,  0.2184,  0.0159, -0.1718,  0.2215,  0.1363,  0.1448,\n",
       "                       -0.0619, -0.2234]])),\n",
       "             ('rnn.bias_ih_l0_reverse',\n",
       "              tensor([-0.0192, -0.0929, -0.1084, -0.0245, -0.2069,  0.2168, -0.2421, -0.1126,\n",
       "                       0.1844,  0.2857,  0.1439,  0.1260,  0.0460,  0.1059, -0.0600, -0.1642,\n",
       "                       0.1340, -0.2076, -0.1927,  0.2766,  0.1668, -0.2249,  0.1112,  0.0563,\n",
       "                       0.2736,  0.2241,  0.1391,  0.2270, -0.1318, -0.1646])),\n",
       "             ('rnn.bias_hh_l0_reverse',\n",
       "              tensor([-0.2955, -0.2136,  0.0845,  0.2180, -0.3002,  0.0057,  0.0798,  0.3086,\n",
       "                      -0.2757,  0.1561,  0.2997,  0.3031, -0.0685, -0.2893,  0.0058,  0.2744,\n",
       "                       0.3012, -0.1804, -0.1128, -0.1512,  0.1364,  0.1768, -0.2754, -0.2295,\n",
       "                      -0.1481,  0.2599,  0.1349, -0.0815, -0.1105,  0.0861])),\n",
       "             ('fc1.weight',\n",
       "              tensor([[-0.2017, -0.1931, -0.0502,  0.1715, -0.1436,  0.2088,  0.0320,  0.0953,\n",
       "                        0.0032,  0.0297, -0.0594,  0.1226,  0.2211, -0.1150, -0.1225, -0.1100,\n",
       "                       -0.1419, -0.0448,  0.1067, -0.0595],\n",
       "                      [-0.0401,  0.0747, -0.0645, -0.0125,  0.1415, -0.0731, -0.1557, -0.1892,\n",
       "                        0.1545, -0.2236,  0.2022, -0.2062, -0.0076,  0.1384,  0.0810, -0.0521,\n",
       "                       -0.0320, -0.1160,  0.1216, -0.0353],\n",
       "                      [ 0.1946,  0.0439, -0.2229,  0.2161, -0.0300, -0.0350,  0.0283, -0.0897,\n",
       "                        0.0456,  0.1250, -0.0655,  0.1213, -0.1851, -0.0679, -0.1690, -0.0097,\n",
       "                        0.0468, -0.0569,  0.1413, -0.0561],\n",
       "                      [ 0.2117,  0.1718,  0.1800, -0.0536,  0.0552,  0.1468,  0.2175,  0.1213,\n",
       "                       -0.0079, -0.1784,  0.1116, -0.0687, -0.0765,  0.1754,  0.0315,  0.0471,\n",
       "                       -0.1984,  0.1369, -0.0871, -0.0981],\n",
       "                      [-0.1346, -0.1019, -0.0282,  0.0322, -0.2136, -0.0391,  0.0644,  0.0378,\n",
       "                       -0.1429, -0.0199, -0.0165, -0.0981,  0.0529, -0.0818, -0.1060,  0.1034,\n",
       "                        0.1721, -0.0391, -0.0505,  0.0814],\n",
       "                      [-0.0257,  0.1079, -0.0504, -0.0169, -0.0164, -0.0367, -0.1444, -0.2057,\n",
       "                        0.1327,  0.0042, -0.0350,  0.0365,  0.0206, -0.0109,  0.0838, -0.0942,\n",
       "                        0.0093, -0.0012,  0.0508,  0.1348],\n",
       "                      [ 0.0338, -0.1477,  0.1916, -0.1516,  0.0362,  0.0880,  0.1653,  0.0298,\n",
       "                        0.2198,  0.0322,  0.0838,  0.0673, -0.0673, -0.0807, -0.0697, -0.0804,\n",
       "                        0.0760, -0.0216, -0.0311,  0.0798],\n",
       "                      [-0.2228,  0.1366, -0.1028,  0.2053, -0.0830,  0.1716, -0.0347,  0.1574,\n",
       "                        0.0224, -0.0569, -0.1690,  0.0930, -0.0655, -0.2071,  0.0627,  0.0723,\n",
       "                        0.2182, -0.0847, -0.0193,  0.1672],\n",
       "                      [ 0.0889,  0.1533,  0.0386, -0.2145,  0.0700, -0.0661,  0.0502, -0.1234,\n",
       "                       -0.0059,  0.1936,  0.1011, -0.2184, -0.1575, -0.0222, -0.2183, -0.1905,\n",
       "                       -0.0966, -0.0621, -0.1342,  0.1568],\n",
       "                      [-0.0845, -0.0277, -0.1939,  0.2060,  0.0358, -0.0515, -0.1602,  0.0550,\n",
       "                        0.0506,  0.0395, -0.0420,  0.1102, -0.1517, -0.0809, -0.0521, -0.1503,\n",
       "                        0.0476,  0.1239,  0.1326, -0.1760]])),\n",
       "             ('fc1.bias',\n",
       "              tensor([ 0.0111, -0.0200, -0.0411,  0.1302,  0.1391,  0.1275,  0.1669,  0.1059,\n",
       "                       0.1717, -0.2229])),\n",
       "             ('fc2.weight',\n",
       "              tensor([[-0.0930, -0.1725, -0.1069, -0.3056, -0.2203, -0.3017, -0.2134,  0.0221,\n",
       "                       -0.1000, -0.2811],\n",
       "                      [ 0.1713, -0.0329,  0.2256,  0.2183, -0.2297,  0.2521,  0.0420, -0.2010,\n",
       "                       -0.2785,  0.2744],\n",
       "                      [ 0.1971,  0.1996,  0.0142,  0.0099,  0.0958, -0.1489, -0.2866,  0.0269,\n",
       "                        0.0508,  0.0939],\n",
       "                      [ 0.1605,  0.0221,  0.1737, -0.0271,  0.1684, -0.1556,  0.2979,  0.0789,\n",
       "                       -0.3098, -0.1245],\n",
       "                      [-0.0212, -0.1052, -0.0332,  0.0180, -0.2198, -0.0320, -0.1236,  0.3033,\n",
       "                        0.1896, -0.0261]])),\n",
       "             ('fc2.bias',\n",
       "              tensor([ 0.0324,  0.0120, -0.1990,  0.2312, -0.0855]))])"
      ]
     },
     "execution_count": 90,
     "metadata": {},
     "output_type": "execute_result"
    }
   ],
   "source": [
    "model_gru.state_dict()"
   ]
  },
  {
   "cell_type": "markdown",
   "id": "80c1d205",
   "metadata": {},
   "source": [
    "#### Guardar el modelo"
   ]
  },
  {
   "cell_type": "code",
   "execution_count": 88,
   "id": "2ca12b17",
   "metadata": {},
   "outputs": [],
   "source": [
    "## save current model\n",
    "torch.save(model_gru, 'model_ex_1.pt')\n",
    "## save weight\n",
    "torch.save(model_gru.state_dict, 'model_ex_1_state_dict')"
   ]
  },
  {
   "cell_type": "code",
   "execution_count": null,
   "id": "b0e702e5",
   "metadata": {},
   "outputs": [],
   "source": []
  },
  {
   "cell_type": "markdown",
   "id": "f7ea25ab-f328-4327-9129-2497268e4ed7",
   "metadata": {},
   "source": [
    "## Parte 2. Convirtiendo el texto a un problema de clasificación por palabras o frases (NER)"
   ]
  },
  {
   "cell_type": "markdown",
   "id": "65bd6679-8dde-4547-b59a-587dd39b794d",
   "metadata": {},
   "source": [
    "## Parte 2 A. Etiquetado \n",
    "Etiquetado de los comentarios frases a frases\n",
    "Usando herramientas como [brat](https://brat.nlplab.org/), [docanno](https://doccano.herokuapp.com/) o [inception](https://inception-project.github.io/) (ver [este blog](https://dida.do/blog/the-best-free-labeling-tools-for-text-annotation-in-nlp) para un rápido resumen sobre estas aplicaciones), deberán etiquetar las frases en los comentarios con las etiquetas que correspondan a cada categoría. Un ejemplo para el primer comentario lo muestra la siguiente figura: \n",
    "![image](ejemploetiquetado.png)\n",
    "\n",
    "Nota: El anterior ejemplo lo hice en la herramienta de inception (y exportando el archivo a WebAnno TSV v3.3).\n",
    "Como pueden observar la mayoría de palabras no se etiquetarán (pertenecen a una categoría como \"otros\").\n",
    "\n",
    "No deben etiquetar todo el dataset, pueden hacerlo con unas 100 (por grupo). Pero pueden intercambiarse (entre grupos que les haya tocado el mismo trabajo) los datasets etiquetados para incrementar el número de datos (para esto es recomendable usar la misma herramienta y el mismo tipo de archivo de exportación)."
   ]
  },
  {
   "cell_type": "markdown",
   "id": "c496c1d6-a564-40d0-b293-85c75bb6dbd2",
   "metadata": {},
   "source": [
    "### Parte 2. Clasificación y localización de las frases\n",
    "Cree un modelo de clasificación por palabra (es similar al punto 2 del taller 4), donde involucren redes recurrentes. Cuando varias palabras contiguas pertenezcan a la misma etiqueta deberan unirlas para etiquetarlas como frase.  Para este modelo deben seguir los mismos pasos de la parte 1, pero cambiando un poco el modelo. \n",
    "\n",
    "- Desarrolle un modelo inicializando los pesos de forma aleatoria (por defecto)\n",
    "- Desarrolle un modelo partiendo de los pesos de la parte 1.\n",
    "- Desarrolle un modelo word2vec y posteriormente cargue estos pesos en la capa de embedding para desarrollar el modelo recurrente.Les puede ser útil [esto](https://gist.github.com/dhruvdcoder/cbb8d7967a499ba85418c18414e2cdce).\n",
    "- Compare los modelos anteriores.\n",
    "- Visualice la clasificación de algunas frases del conjunto de validación usando spacy o la herramienta que usaron para etiquetar."
   ]
  },
  {
   "cell_type": "markdown",
   "id": "c084bfb2-c0ab-4dad-9c12-a432cbc5b09f",
   "metadata": {},
   "source": [
    "-----\n",
    "Es importante que realicen gráficos y visualizaciones que ayuden a la interpretación. No olviden ir analizando y comentando los hallazgos, y sobretodo **concluir**. El entregable es un notebook de Jupyter, debidamente presentado y comentado.\n",
    "\n",
    "- ¿Qué diferencian encuentran con un tipo de clasificación respecto al otro?\n",
    "- ¿Los pesos de una tarea ayudan a la otra?\n",
    "- ¿Es posible analizar o intuir a partir de pesos o activaciones, que parte del texto está ayudando en la parte 1 a clasificar?"
   ]
  },
  {
   "cell_type": "markdown",
   "id": "3269e04b-c090-40d5-a04a-9c4e1f72574b",
   "metadata": {},
   "source": [
    "### Tip de lectura de datos del archivo JSON"
   ]
  },
  {
   "cell_type": "code",
   "execution_count": 1,
   "id": "30bb1196-ac16-48c8-aacc-9da125fd6e3a",
   "metadata": {
    "execution": {
     "iopub.execute_input": "2022-03-16T12:33:33.939699Z",
     "iopub.status.busy": "2022-03-16T12:33:33.939458Z",
     "iopub.status.idle": "2022-03-16T12:33:34.154152Z",
     "shell.execute_reply": "2022-03-16T12:33:34.153830Z",
     "shell.execute_reply.started": "2022-03-16T12:33:33.939633Z"
    }
   },
   "outputs": [],
   "source": [
    "import pandas as pd"
   ]
  },
  {
   "cell_type": "code",
   "execution_count": 11,
   "id": "5c259170-4bb7-4a78-aa90-9d4a74032ca4",
   "metadata": {
    "execution": {
     "iopub.execute_input": "2022-03-16T12:39:42.781316Z",
     "iopub.status.busy": "2022-03-16T12:39:42.781113Z",
     "iopub.status.idle": "2022-03-16T12:39:42.789084Z",
     "shell.execute_reply": "2022-03-16T12:39:42.788609Z",
     "shell.execute_reply.started": "2022-03-16T12:39:42.781295Z"
    },
    "tags": []
   },
   "outputs": [],
   "source": [
    "import json\n",
    "# load data using Python JSON module\n",
    "with open('reviews.json','r') as f:\n",
    "    data = json.loads(f.read())"
   ]
  },
  {
   "cell_type": "code",
   "execution_count": 19,
   "id": "dd4131d1-9c45-434c-9bb3-b1e342aa298a",
   "metadata": {
    "execution": {
     "iopub.execute_input": "2022-03-16T12:44:09.691683Z",
     "iopub.status.busy": "2022-03-16T12:44:09.691480Z",
     "iopub.status.idle": "2022-03-16T12:44:09.707699Z",
     "shell.execute_reply": "2022-03-16T12:44:09.707307Z",
     "shell.execute_reply.started": "2022-03-16T12:44:09.691662Z"
    },
    "tags": []
   },
   "outputs": [
    {
     "data": {
      "text/html": [
       "<div>\n",
       "<style scoped>\n",
       "    .dataframe tbody tr th:only-of-type {\n",
       "        vertical-align: middle;\n",
       "    }\n",
       "\n",
       "    .dataframe tbody tr th {\n",
       "        vertical-align: top;\n",
       "    }\n",
       "\n",
       "    .dataframe thead th {\n",
       "        text-align: right;\n",
       "    }\n",
       "</style>\n",
       "<table border=\"1\" class=\"dataframe\">\n",
       "  <thead>\n",
       "    <tr style=\"text-align: right;\">\n",
       "      <th></th>\n",
       "      <th>confidence</th>\n",
       "      <th>evaluation</th>\n",
       "      <th>id</th>\n",
       "      <th>lan</th>\n",
       "      <th>orientation</th>\n",
       "      <th>remarks</th>\n",
       "      <th>text</th>\n",
       "      <th>timespan</th>\n",
       "    </tr>\n",
       "  </thead>\n",
       "  <tbody>\n",
       "    <tr>\n",
       "      <th>0</th>\n",
       "      <td>4</td>\n",
       "      <td>1</td>\n",
       "      <td>1</td>\n",
       "      <td>es</td>\n",
       "      <td>0</td>\n",
       "      <td></td>\n",
       "      <td>- El artículo aborda un problema contingente y...</td>\n",
       "      <td>2010-07-05</td>\n",
       "    </tr>\n",
       "    <tr>\n",
       "      <th>1</th>\n",
       "      <td>4</td>\n",
       "      <td>1</td>\n",
       "      <td>2</td>\n",
       "      <td>es</td>\n",
       "      <td>1</td>\n",
       "      <td></td>\n",
       "      <td>El artículo presenta recomendaciones prácticas...</td>\n",
       "      <td>2010-07-05</td>\n",
       "    </tr>\n",
       "    <tr>\n",
       "      <th>2</th>\n",
       "      <td>5</td>\n",
       "      <td>1</td>\n",
       "      <td>3</td>\n",
       "      <td>es</td>\n",
       "      <td>1</td>\n",
       "      <td></td>\n",
       "      <td>- El tema es muy interesante y puede ser de mu...</td>\n",
       "      <td>2010-07-05</td>\n",
       "    </tr>\n",
       "    <tr>\n",
       "      <th>3</th>\n",
       "      <td>4</td>\n",
       "      <td>2</td>\n",
       "      <td>1</td>\n",
       "      <td>es</td>\n",
       "      <td>1</td>\n",
       "      <td></td>\n",
       "      <td>Se explica en forma ordenada y didáctica una e...</td>\n",
       "      <td>2010-07-05</td>\n",
       "    </tr>\n",
       "    <tr>\n",
       "      <th>4</th>\n",
       "      <td>4</td>\n",
       "      <td>2</td>\n",
       "      <td>2</td>\n",
       "      <td>es</td>\n",
       "      <td>0</td>\n",
       "      <td></td>\n",
       "      <td></td>\n",
       "      <td>2010-07-05</td>\n",
       "    </tr>\n",
       "  </tbody>\n",
       "</table>\n",
       "</div>"
      ],
      "text/plain": [
       "  confidence evaluation  id lan orientation remarks  \\\n",
       "0          4          1   1  es           0           \n",
       "1          4          1   2  es           1           \n",
       "2          5          1   3  es           1           \n",
       "3          4          2   1  es           1           \n",
       "4          4          2   2  es           0           \n",
       "\n",
       "                                                text    timespan  \n",
       "0  - El artículo aborda un problema contingente y...  2010-07-05  \n",
       "1  El artículo presenta recomendaciones prácticas...  2010-07-05  \n",
       "2  - El tema es muy interesante y puede ser de mu...  2010-07-05  \n",
       "3  Se explica en forma ordenada y didáctica una e...  2010-07-05  \n",
       "4                                                     2010-07-05  "
      ]
     },
     "execution_count": 19,
     "metadata": {},
     "output_type": "execute_result"
    }
   ],
   "source": [
    "df = pd.json_normalize(data['paper'], record_path = [\"review\"])\n",
    "df.head()"
   ]
  }
 ],
 "metadata": {
  "kernelspec": {
   "display_name": "Python 3.8.14 64-bit ('nlp-env')",
   "language": "python",
   "name": "python3"
  },
  "language_info": {
   "codemirror_mode": {
    "name": "ipython",
    "version": 3
   },
   "file_extension": ".py",
   "mimetype": "text/x-python",
   "name": "python",
   "nbconvert_exporter": "python",
   "pygments_lexer": "ipython3",
   "version": "3.8.14"
  },
  "nbTranslate": {
   "displayLangs": [
    "es",
    "en"
   ],
   "hotkey": "alt-t",
   "langInMainMenu": true,
   "sourceLang": "en",
   "targetLang": "es",
   "useGoogleTranslate": true
  },
  "vscode": {
   "interpreter": {
    "hash": "c82f75949d34d03fdaae804566e8e1917c03c7d29ee0534da91b332696d05941"
   }
  }
 },
 "nbformat": 4,
 "nbformat_minor": 5
}
