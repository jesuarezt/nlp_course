{
 "cells": [
  {
   "cell_type": "markdown",
   "id": "017037f5-05b7-4e53-b46e-55c49de92d22",
   "metadata": {},
   "source": [
    "# Trabajo Final B.  De clasificación a NER"
   ]
  },
  {
   "cell_type": "markdown",
   "id": "902946ae-afe0-4e47-8ff9-edfade62239d",
   "metadata": {},
   "source": [
    "En este trabajo final utilizarán [este dataset](https://archive.ics.uci.edu/ml/datasets/Paper+Reviews) que consiste en evaluaciones de diferentes revisores sobre papers (405). Cada evaluación ha sido etiquetada con 5 clases (muy negativo, negativo, 0, neutral, positivo y muy positivo). Este proyecto consiste en realizar una clasificación de este dataset y además identificar que parte de los comentarios hacen referencia a las clases. "
   ]
  },
  {
   "cell_type": "markdown",
   "id": "3dc45e3c-0145-4ac5-a14d-a9d0dd8c49e6",
   "metadata": {},
   "source": [
    "## Parte 1. Clasificación sencilla de cada revisión"
   ]
  },
  {
   "cell_type": "markdown",
   "id": "2268c2a4-5889-4ebf-a752-ddb9f24fa9a4",
   "metadata": {},
   "source": [
    "En esta parte tendrá que hacer un modelo de clasificación usando redes recurrentes (LSTM, GRU), para los cinco tipos de categorias.  Recuerde algunos pasos para realizar la clasificación:\n",
    "\n",
    "1. Lectura de los datos (división en training/validation sets)\n",
    "2. Preprocesamiento del texto (no es necesario ser tanto preprocesamiento como en word2vec, pero si eliminar algunos carácteres o incluso revisar si hay comentarios vacíos). \n",
    "3. Creación del vocabulario y transformación de palabras a índices (y viceversa)\n",
    "4. Creación del \"dataset\" y \"dataloader\" involucrando los pasos 2 y 3.\n",
    "5. Creación del modelo, involucrando embeddings.\n",
    "6. Entrenar y validar (escoger optimizador Adam o AdamW, función de costo apropiada, loops de entrenamiento y validación).\n",
    "7. Modelo listo para producción (modelo para predecir entrando un comentario)\n",
    "8. Pequeña interfaz para predicción usando Gradio."
   ]
  },
  {
   "cell_type": "markdown",
   "id": "e3097b89-f3d3-48a1-b904-f8301f475245",
   "metadata": {},
   "source": [
    "Realice diferentes configuraciones, tamaño del embedding, arquitecturas LSTM o GRU, varias capas, bidireccionalidad, etc. Escoja el mejor modelo. "
   ]
  },
  {
   "cell_type": "markdown",
   "id": "f7ea25ab-f328-4327-9129-2497268e4ed7",
   "metadata": {},
   "source": [
    "## Parte 2. Convirtiendo el texto a un problema de clasificación por palabras o frases (NER)"
   ]
  },
  {
   "cell_type": "markdown",
   "id": "65bd6679-8dde-4547-b59a-587dd39b794d",
   "metadata": {},
   "source": [
    "## Parte 2 A. Etiquetado \n",
    "Etiquetado de los comentarios frases a frases\n",
    "Usando herramientas como [brat](https://brat.nlplab.org/), [docanno](https://doccano.herokuapp.com/) o [inception](https://inception-project.github.io/) (ver [este blog](https://dida.do/blog/the-best-free-labeling-tools-for-text-annotation-in-nlp) para un rápido resumen sobre estas aplicaciones), deberán etiquetar las frases en los comentarios con las etiquetas que correspondan a cada categoría. Un ejemplo para el primer comentario lo muestra la siguiente figura: \n",
    "![image](ejemploetiquetado.png)\n",
    "\n",
    "Nota: El anterior ejemplo lo hice en la herramienta de inception (y exportando el archivo a WebAnno TSV v3.3).\n",
    "Como pueden observar la mayoría de palabras no se etiquetarán (pertenecen a una categoría como \"otros\").\n",
    "\n",
    "No deben etiquetar todo el dataset, pueden hacerlo con unas 100 (por grupo). Pero pueden intercambiarse (entre grupos que les haya tocado el mismo trabajo) los datasets etiquetados para incrementar el número de datos (para esto es recomendable usar la misma herramienta y el mismo tipo de archivo de exportación)."
   ]
  },
  {
   "cell_type": "markdown",
   "id": "c496c1d6-a564-40d0-b293-85c75bb6dbd2",
   "metadata": {},
   "source": [
    "### Parte 2. Clasificación y localización de las frases\n",
    "Cree un modelo de clasificación por palabra (es similar al punto 2 del taller 4), donde involucren redes recurrentes. Cuando varias palabras contiguas pertenezcan a la misma etiqueta deberan unirlas para etiquetarlas como frase.  Para este modelo deben seguir los mismos pasos de la parte 1, pero cambiando un poco el modelo. \n",
    "\n",
    "- Desarrolle un modelo inicializando los pesos de forma aleatoria (por defecto)\n",
    "- Desarrolle un modelo partiendo de los pesos de la parte 1.\n",
    "- Desarrolle un modelo word2vec y posteriormente cargue estos pesos en la capa de embedding para desarrollar el modelo recurrente.Les puede ser útil [esto](https://gist.github.com/dhruvdcoder/cbb8d7967a499ba85418c18414e2cdce).\n",
    "- Compare los modelos anteriores.\n",
    "- Visualice la clasificación de algunas frases del conjunto de validación usando spacy o la herramienta que usaron para etiquetar."
   ]
  },
  {
   "cell_type": "markdown",
   "id": "c084bfb2-c0ab-4dad-9c12-a432cbc5b09f",
   "metadata": {},
   "source": [
    "-----\n",
    "Es importante que realicen gráficos y visualizaciones que ayuden a la interpretación. No olviden ir analizando y comentando los hallazgos, y sobretodo **concluir**. El entregable es un notebook de Jupyter, debidamente presentado y comentado.\n",
    "\n",
    "- ¿Qué diferencian encuentran con un tipo de clasificación respecto al otro?\n",
    "- ¿Los pesos de una tarea ayudan a la otra?\n",
    "- ¿Es posible analizar o intuir a partir de pesos o activaciones, que parte del texto está ayudando en la parte 1 a clasificar?"
   ]
  },
  {
   "cell_type": "markdown",
   "id": "3269e04b-c090-40d5-a04a-9c4e1f72574b",
   "metadata": {},
   "source": [
    "### Tip de lectura de datos del archivo JSON"
   ]
  },
  {
   "cell_type": "code",
   "execution_count": 1,
   "id": "30bb1196-ac16-48c8-aacc-9da125fd6e3a",
   "metadata": {
    "execution": {
     "iopub.execute_input": "2022-03-16T12:33:33.939699Z",
     "iopub.status.busy": "2022-03-16T12:33:33.939458Z",
     "iopub.status.idle": "2022-03-16T12:33:34.154152Z",
     "shell.execute_reply": "2022-03-16T12:33:34.153830Z",
     "shell.execute_reply.started": "2022-03-16T12:33:33.939633Z"
    }
   },
   "outputs": [],
   "source": [
    "import pandas as pd"
   ]
  },
  {
   "cell_type": "code",
   "execution_count": 11,
   "id": "5c259170-4bb7-4a78-aa90-9d4a74032ca4",
   "metadata": {
    "execution": {
     "iopub.execute_input": "2022-03-16T12:39:42.781316Z",
     "iopub.status.busy": "2022-03-16T12:39:42.781113Z",
     "iopub.status.idle": "2022-03-16T12:39:42.789084Z",
     "shell.execute_reply": "2022-03-16T12:39:42.788609Z",
     "shell.execute_reply.started": "2022-03-16T12:39:42.781295Z"
    },
    "tags": []
   },
   "outputs": [],
   "source": [
    "import json\n",
    "# load data using Python JSON module\n",
    "with open('reviews.json','r') as f:\n",
    "    data = json.loads(f.read())"
   ]
  },
  {
   "cell_type": "code",
   "execution_count": 19,
   "id": "dd4131d1-9c45-434c-9bb3-b1e342aa298a",
   "metadata": {
    "execution": {
     "iopub.execute_input": "2022-03-16T12:44:09.691683Z",
     "iopub.status.busy": "2022-03-16T12:44:09.691480Z",
     "iopub.status.idle": "2022-03-16T12:44:09.707699Z",
     "shell.execute_reply": "2022-03-16T12:44:09.707307Z",
     "shell.execute_reply.started": "2022-03-16T12:44:09.691662Z"
    },
    "tags": []
   },
   "outputs": [
    {
     "data": {
      "text/html": [
       "<div>\n",
       "<style scoped>\n",
       "    .dataframe tbody tr th:only-of-type {\n",
       "        vertical-align: middle;\n",
       "    }\n",
       "\n",
       "    .dataframe tbody tr th {\n",
       "        vertical-align: top;\n",
       "    }\n",
       "\n",
       "    .dataframe thead th {\n",
       "        text-align: right;\n",
       "    }\n",
       "</style>\n",
       "<table border=\"1\" class=\"dataframe\">\n",
       "  <thead>\n",
       "    <tr style=\"text-align: right;\">\n",
       "      <th></th>\n",
       "      <th>confidence</th>\n",
       "      <th>evaluation</th>\n",
       "      <th>id</th>\n",
       "      <th>lan</th>\n",
       "      <th>orientation</th>\n",
       "      <th>remarks</th>\n",
       "      <th>text</th>\n",
       "      <th>timespan</th>\n",
       "    </tr>\n",
       "  </thead>\n",
       "  <tbody>\n",
       "    <tr>\n",
       "      <th>0</th>\n",
       "      <td>4</td>\n",
       "      <td>1</td>\n",
       "      <td>1</td>\n",
       "      <td>es</td>\n",
       "      <td>0</td>\n",
       "      <td></td>\n",
       "      <td>- El artículo aborda un problema contingente y...</td>\n",
       "      <td>2010-07-05</td>\n",
       "    </tr>\n",
       "    <tr>\n",
       "      <th>1</th>\n",
       "      <td>4</td>\n",
       "      <td>1</td>\n",
       "      <td>2</td>\n",
       "      <td>es</td>\n",
       "      <td>1</td>\n",
       "      <td></td>\n",
       "      <td>El artículo presenta recomendaciones prácticas...</td>\n",
       "      <td>2010-07-05</td>\n",
       "    </tr>\n",
       "    <tr>\n",
       "      <th>2</th>\n",
       "      <td>5</td>\n",
       "      <td>1</td>\n",
       "      <td>3</td>\n",
       "      <td>es</td>\n",
       "      <td>1</td>\n",
       "      <td></td>\n",
       "      <td>- El tema es muy interesante y puede ser de mu...</td>\n",
       "      <td>2010-07-05</td>\n",
       "    </tr>\n",
       "    <tr>\n",
       "      <th>3</th>\n",
       "      <td>4</td>\n",
       "      <td>2</td>\n",
       "      <td>1</td>\n",
       "      <td>es</td>\n",
       "      <td>1</td>\n",
       "      <td></td>\n",
       "      <td>Se explica en forma ordenada y didáctica una e...</td>\n",
       "      <td>2010-07-05</td>\n",
       "    </tr>\n",
       "    <tr>\n",
       "      <th>4</th>\n",
       "      <td>4</td>\n",
       "      <td>2</td>\n",
       "      <td>2</td>\n",
       "      <td>es</td>\n",
       "      <td>0</td>\n",
       "      <td></td>\n",
       "      <td></td>\n",
       "      <td>2010-07-05</td>\n",
       "    </tr>\n",
       "  </tbody>\n",
       "</table>\n",
       "</div>"
      ],
      "text/plain": [
       "  confidence evaluation  id lan orientation remarks  \\\n",
       "0          4          1   1  es           0           \n",
       "1          4          1   2  es           1           \n",
       "2          5          1   3  es           1           \n",
       "3          4          2   1  es           1           \n",
       "4          4          2   2  es           0           \n",
       "\n",
       "                                                text    timespan  \n",
       "0  - El artículo aborda un problema contingente y...  2010-07-05  \n",
       "1  El artículo presenta recomendaciones prácticas...  2010-07-05  \n",
       "2  - El tema es muy interesante y puede ser de mu...  2010-07-05  \n",
       "3  Se explica en forma ordenada y didáctica una e...  2010-07-05  \n",
       "4                                                     2010-07-05  "
      ]
     },
     "execution_count": 19,
     "metadata": {},
     "output_type": "execute_result"
    }
   ],
   "source": [
    "df = pd.json_normalize(data['paper'], record_path = [\"review\"])\n",
    "df.head()"
   ]
  }
 ],
 "metadata": {
  "kernelspec": {
   "display_name": "Python 3 (ipykernel)",
   "language": "python",
   "name": "python3"
  },
  "language_info": {
   "codemirror_mode": {
    "name": "ipython",
    "version": 3
   },
   "file_extension": ".py",
   "mimetype": "text/x-python",
   "name": "python",
   "nbconvert_exporter": "python",
   "pygments_lexer": "ipython3",
   "version": "3.10.6"
  },
  "nbTranslate": {
   "displayLangs": [
    "es",
    "en"
   ],
   "hotkey": "alt-t",
   "langInMainMenu": true,
   "sourceLang": "en",
   "targetLang": "es",
   "useGoogleTranslate": true
  }
 },
 "nbformat": 4,
 "nbformat_minor": 5
}
