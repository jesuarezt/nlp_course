{
 "cells": [
  {
   "cell_type": "markdown",
   "id": "98aa4070",
   "metadata": {},
   "source": [
    "# Example Whatsapp "
   ]
  },
  {
   "cell_type": "code",
   "execution_count": 1,
   "id": "ea9aacec",
   "metadata": {},
   "outputs": [],
   "source": [
    "import pywhatkit"
   ]
  },
  {
   "cell_type": "code",
   "execution_count": 2,
   "id": "01ecc906",
   "metadata": {},
   "outputs": [
    {
     "name": "stdout",
     "output_type": "stream",
     "text": [
      "In 85937 Seconds WhatsApp will open and after 15 Seconds Message will be Delivered!\n"
     ]
    },
    {
     "ename": "KeyboardInterrupt",
     "evalue": "",
     "output_type": "error",
     "traceback": [
      "\u001b[0;31m---------------------------------------------------------------------------\u001b[0m",
      "\u001b[0;31mKeyboardInterrupt\u001b[0m                         Traceback (most recent call last)",
      "\u001b[0;32m/var/folders/p1/3s8c0dxx21bfvlztxjr_3h840000gp/T/ipykernel_12333/2080550378.py\u001b[0m in \u001b[0;36m<cell line: 1>\u001b[0;34m()\u001b[0m\n\u001b[0;32m----> 1\u001b[0;31m pywhatkit.sendwhatmsg(phone_no='+573228542303', message= 'Message test for Lu <3',\n\u001b[0m\u001b[1;32m      2\u001b[0m                      time_hour= 16, time_min=26)\n",
      "\u001b[0;32m~/opt/anaconda3/envs/jave/lib/python3.8/site-packages/pywhatkit/whats.py\u001b[0m in \u001b[0;36msendwhatmsg\u001b[0;34m(phone_no, message, time_hour, time_min, wait_time, tab_close, close_time)\u001b[0m\n\u001b[1;32m     70\u001b[0m         \u001b[0;34mf\"In {sleep_time} Seconds WhatsApp will open and after {wait_time} Seconds Message will be Delivered!\"\u001b[0m\u001b[0;34m\u001b[0m\u001b[0;34m\u001b[0m\u001b[0m\n\u001b[1;32m     71\u001b[0m     )\n\u001b[0;32m---> 72\u001b[0;31m     \u001b[0mtime\u001b[0m\u001b[0;34m.\u001b[0m\u001b[0msleep\u001b[0m\u001b[0;34m(\u001b[0m\u001b[0msleep_time\u001b[0m\u001b[0;34m)\u001b[0m\u001b[0;34m\u001b[0m\u001b[0;34m\u001b[0m\u001b[0m\n\u001b[0m\u001b[1;32m     73\u001b[0m     \u001b[0mcore\u001b[0m\u001b[0;34m.\u001b[0m\u001b[0msend_message\u001b[0m\u001b[0;34m(\u001b[0m\u001b[0mmessage\u001b[0m\u001b[0;34m=\u001b[0m\u001b[0mmessage\u001b[0m\u001b[0;34m,\u001b[0m \u001b[0mreceiver\u001b[0m\u001b[0;34m=\u001b[0m\u001b[0mphone_no\u001b[0m\u001b[0;34m,\u001b[0m \u001b[0mwait_time\u001b[0m\u001b[0;34m=\u001b[0m\u001b[0mwait_time\u001b[0m\u001b[0;34m)\u001b[0m\u001b[0;34m\u001b[0m\u001b[0;34m\u001b[0m\u001b[0m\n\u001b[1;32m     74\u001b[0m     \u001b[0mlog\u001b[0m\u001b[0;34m.\u001b[0m\u001b[0mlog_message\u001b[0m\u001b[0;34m(\u001b[0m\u001b[0m_time\u001b[0m\u001b[0;34m=\u001b[0m\u001b[0mcurrent_time\u001b[0m\u001b[0;34m,\u001b[0m \u001b[0mreceiver\u001b[0m\u001b[0;34m=\u001b[0m\u001b[0mphone_no\u001b[0m\u001b[0;34m,\u001b[0m \u001b[0mmessage\u001b[0m\u001b[0;34m=\u001b[0m\u001b[0mmessage\u001b[0m\u001b[0;34m)\u001b[0m\u001b[0;34m\u001b[0m\u001b[0;34m\u001b[0m\u001b[0m\n",
      "\u001b[0;31mKeyboardInterrupt\u001b[0m: "
     ]
    }
   ],
   "source": [
    "pywhatkit.sendwhatmsg(phone_no='+573228542303', message= 'Message test for Lu <3',\n",
    "                     time_hour= 16, time_min=26)"
   ]
  },
  {
   "cell_type": "code",
   "execution_count": null,
   "id": "8201c3a0-7765-40f0-aadc-e9cba84ab549",
   "metadata": {},
   "outputs": [],
   "source": [
    "pywhatkit.sendwhatmsg(phone_no='+573152305158', message= 'Message test in NLP course',\n",
    "                     time_hour= 16, time_min=23)"
   ]
  },
  {
   "cell_type": "code",
   "execution_count": 7,
   "id": "2375b663",
   "metadata": {},
   "outputs": [
    {
     "name": "stdout",
     "output_type": "stream",
     "text": [
      "In 3 Seconds WhatsApp will open and after 15 Seconds Message will be Delivered!\n"
     ]
    }
   ],
   "source": [
    "pywhatkit.sendwhatmsg('+1xxxxxxxx', 'Message 1', 20, 43)"
   ]
  },
  {
   "cell_type": "markdown",
   "id": "0035c821",
   "metadata": {},
   "source": [
    "# Example read Whatsapp with Selenium"
   ]
  },
  {
   "cell_type": "code",
   "execution_count": null,
   "id": "6657336e",
   "metadata": {},
   "outputs": [],
   "source": []
  }
 ],
 "metadata": {
  "kernelspec": {
   "display_name": "Python 3 (ipykernel)",
   "language": "python",
   "name": "python3"
  },
  "language_info": {
   "codemirror_mode": {
    "name": "ipython",
    "version": 3
   },
   "file_extension": ".py",
   "mimetype": "text/x-python",
   "name": "python",
   "nbconvert_exporter": "python",
   "pygments_lexer": "ipython3",
   "version": "3.8.13"
  }
 },
 "nbformat": 4,
 "nbformat_minor": 5
}
