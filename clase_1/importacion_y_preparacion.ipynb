{
 "cells": [
  {
   "cell_type": "markdown",
   "metadata": {
    "application/vnd.databricks.v1+cell": {
     "inputWidgets": {},
     "nuid": "ef359ab8-3e03-4b09-9848-5ff06f0c4591",
     "showTitle": false,
     "title": ""
    },
    "id": "SGICi6F4EVEi"
   },
   "source": [
    "# Importación y preparación de datos en procesamiento de lenguaje natural\n",
    "Este notebook es parte de una serie que busca introducir los problemas y posibles alternativas de solución que se presentan en procesamiento de lenguaje natural (NLP).\n",
    "Esta primera etapa busca familiarizarse con las librerías fundamentales de preparación de datos, para lograr importar corpus de diferentes fuentes y realizar una limpieza sobre ellos"
   ]
  },
  {
   "cell_type": "code",
   "execution_count": 1,
   "metadata": {
    "application/vnd.databricks.v1+cell": {
     "inputWidgets": {},
     "nuid": "f42f2b73-7b48-4b4c-8012-dd55d6152da7",
     "showTitle": false,
     "title": ""
    },
    "id": "HjYl6qlsEVEu"
   },
   "outputs": [],
   "source": [
    "import os, re, string"
   ]
  },
  {
   "cell_type": "markdown",
   "metadata": {
    "application/vnd.databricks.v1+cell": {
     "inputWidgets": {},
     "nuid": "525f1b6f-73ee-4699-8304-d0c3780f54c5",
     "showTitle": false,
     "title": ""
    },
    "id": "ltdXC8ZOEVEy"
   },
   "source": [
    "La librería fundamental para probar el análisis de texto es NLTK"
   ]
  },
  {
   "cell_type": "code",
   "execution_count": 2,
   "metadata": {
    "application/vnd.databricks.v1+cell": {
     "inputWidgets": {},
     "nuid": "12d6ffed-7a4f-4d3d-b427-0231ae3b18fa",
     "showTitle": false,
     "title": ""
    },
    "id": "pKWEuxI6EVEy"
   },
   "outputs": [],
   "source": [
    "import nltk"
   ]
  },
  {
   "cell_type": "markdown",
   "metadata": {
    "application/vnd.databricks.v1+cell": {
     "inputWidgets": {},
     "nuid": "2e8fe303-1666-49a3-b7ad-483323cd7a2d",
     "showTitle": false,
     "title": ""
    },
    "id": "PiapucYAEVE0"
   },
   "source": [
    "Una de las librería líderes para poner NLP en producción es spacy"
   ]
  },
  {
   "cell_type": "code",
   "execution_count": 4,
   "metadata": {
    "application/vnd.databricks.v1+cell": {
     "inputWidgets": {},
     "nuid": "6edc1b4c-7277-4c96-a98d-c5a8d2cc9791",
     "showTitle": false,
     "title": ""
    },
    "id": "oekXq2mMEVE1",
    "scrolled": true
   },
   "outputs": [],
   "source": [
    "import spacy"
   ]
  },
  {
   "cell_type": "markdown",
   "metadata": {
    "application/vnd.databricks.v1+cell": {
     "inputWidgets": {},
     "nuid": "a7fb1144-26b0-42a8-83bc-c2e85da923a1",
     "showTitle": false,
     "title": ""
    },
    "id": "_S1QVLO0EVE2"
   },
   "source": [
    "## Importación de un documento como corpus\n",
    "###Archivos de texto \"txt\"\n",
    "Para la importación de txt, basta con abrir y leer el archivo.\n",
    "Para documentos en español es clave el uso de la codificación (*encoding*) correcta.\n",
    "UTF-8 suele ser funcional, pero una más amplia es latin-1"
   ]
  },
  {
   "cell_type": "code",
   "execution_count": 5,
   "metadata": {
    "application/vnd.databricks.v1+cell": {
     "inputWidgets": {},
     "nuid": "122a5b9a-63e1-4574-bf3a-7b8f5f944cd0",
     "showTitle": false,
     "title": ""
    },
    "colab": {
     "base_uri": "https://localhost:8080/"
    },
    "id": "qc2Om6ZAEVE3",
    "outputId": "912ddd57-b3c2-404a-9227-ba2ada892070"
   },
   "outputs": [
    {
     "name": "stdout",
     "output_type": "stream",
     "text": [
      "<class 'str'> 181152\n"
     ]
    }
   ],
   "source": [
    "\n",
    "abre=open(\"nuevo_testamento_valera.txt\",encoding=\"UTF-8\")\n",
    "base=abre.read()\n",
    "print(type(base), len(base))\n",
    "\n"
   ]
  },
  {
   "cell_type": "markdown",
   "metadata": {
    "id": "9wODxxEEFQts"
   },
   "source": [
    "El archivo es leido como una cadena (*string*)"
   ]
  },
  {
   "cell_type": "markdown",
   "metadata": {
    "application/vnd.databricks.v1+cell": {
     "inputWidgets": {},
     "nuid": "862ec80d-4d56-44e2-b251-f9a226a5632b",
     "showTitle": false,
     "title": ""
    },
    "id": "2U6DZTIpEVE6"
   },
   "source": [
    "Como podrá observarse, en general los archivos requieren limpieza para tener el texto deseado. En este caso, hay prefacios e introducciones que no hacen parte del nuevo testamento en el proyecto Gutenberg"
   ]
  },
  {
   "cell_type": "code",
   "execution_count": 6,
   "metadata": {},
   "outputs": [],
   "source": [
    "#print(base)"
   ]
  },
  {
   "cell_type": "code",
   "execution_count": 7,
   "metadata": {
    "application/vnd.databricks.v1+cell": {
     "inputWidgets": {},
     "nuid": "9a133eb2-9cc3-4812-88a1-9992e52fa9d8",
     "showTitle": false,
     "title": ""
    },
    "colab": {
     "base_uri": "https://localhost:8080/",
     "height": 54
    },
    "id": "kHWpRQFuEVE9",
    "outputId": "42998006-1a04-4776-f9e1-df5262a34196"
   },
   "outputs": [
    {
     "data": {
      "text/plain": [
       "'\\ufeffThe Project Gutenberg EBook of Reina Valera New Testament of the Bible 1909, by \\nAnonymous\\n\\nThis eB'"
      ]
     },
     "execution_count": 7,
     "metadata": {},
     "output_type": "execute_result"
    }
   ],
   "source": [
    "base[0:100]"
   ]
  },
  {
   "cell_type": "markdown",
   "metadata": {
    "application/vnd.databricks.v1+cell": {
     "inputWidgets": {},
     "nuid": "fa43f6e3-1709-456a-8d7f-c0177fa9a330",
     "showTitle": false,
     "title": ""
    },
    "id": "pSZMf7DJEVE9"
   },
   "source": [
    "Una limpieza inicial incluye marcar el verdadero inicio y final del texto de interés"
   ]
  },
  {
   "cell_type": "code",
   "execution_count": 8,
   "metadata": {
    "application/vnd.databricks.v1+cell": {
     "inputWidgets": {},
     "nuid": "ed4c584a-8ec8-4ad0-8269-31d435f02113",
     "showTitle": false,
     "title": ""
    },
    "colab": {
     "base_uri": "https://localhost:8080/",
     "height": 72
    },
    "id": "aAPZchviEVE9",
    "outputId": "c1039648-0999-46f3-ebfd-ed38b0c8295f"
   },
   "outputs": [
    {
     "data": {
      "text/plain": [
       "'\\n\\n\\n\\nCapítulo  1\\n\\n        1 EN el principio era el Verbo, y el Verbo era con Dios, y el Verbo era\\nDios.\\n\\n        2 Este era en el principio con Dios.\\n\\n        3 Todas las cosas por él fueron hechas; y sin él nada de lo que es\\nhecho, fué hecho.\\n\\n        4 En él estaba la vida, y la vida era la luz de los hombres.\\n\\n        5 Y la luz en las tinieblas resplandece; mas las tinieblas no la\\ncomprendieron.\\n\\n        6 Fué un hombre enviado de Dios, el cual se llamaba Juan.\\n\\n        7 Este vino por testimonio, para que diese testimonio de la luz, para\\nque todos creyesen por él.\\n\\n        8 No era él la luz, sino para que diese testimonio de la luz.\\n\\n        9 [Aquél] era la luz verdadera, que alumbra á todo hombre que viene á\\neste mundo.\\n\\n        10 En el mundo estaba, y el mundo fué hecho por él; y el mundo no le\\nconoció.\\n\\n        11 A lo suyo vino, y los suyos no le recibieron.\\n\\n        12 Mas á todos los que le recibieron, dióles potestad de ser hechos\\nhijos de Dios, á los que creen en su nombre:\\n\\n        13 Los cuales no son engendrados de sangre, ni de voluntad de carne, ni\\nde voluntad de varón, mas de Dios.\\n\\n        14 Y aquel Verbo fué hecho carne, y habitó entre nosotros (y vimos su\\ngloria, gloria como del unigénito del Padre), lleno de gracia y de verdad.\\n\\n        15 Juan dió testimonio de él, y clamó diciendo: Este es del que [yo]\\ndecía: El que viene tras mí, es antes de mí: porque es primero que yo.\\n\\n        16 Porque de su plenitud tomamos todos, y gracia por gracia.\\n\\n        17 Porque la ley por Moisés fué dada: [mas] la gracia y la verdad por\\nJesucristo fué hecha.\\n\\n        18 A Dios nadie le vió jamás: el unigénito Hijo, que está en el seno del\\nPadre, él [le] declaró.\\n\\n        19 Y éste es el testimonio de Juan, cuando los Judíos enviaron de\\nJerusalem sacerdotes y Levitas, que le preguntasen: ¿Tú, quién eres?\\n\\n        20 Y confesó, y no negó; mas declaró: No soy yo el Cristo.\\n\\n        21 Y le preguntaron: ¿Qué pues? ¿Eres tú Elías? Dijo: No soy. ¿Eres tú\\nel profe'"
      ]
     },
     "execution_count": 8,
     "metadata": {},
     "output_type": "execute_result"
    }
   ],
   "source": [
    "inicio=\"HEBREO Y GRIEGO\"\n",
    "init=base.find(inicio)\n",
    "finale=base.find(\"The first pass\")\n",
    "base2=base[init+len(inicio):finale]\n",
    "base2[0:2000]"
   ]
  },
  {
   "cell_type": "markdown",
   "metadata": {
    "application/vnd.databricks.v1+cell": {
     "inputWidgets": {},
     "nuid": "0885ac79-d1be-4761-a4cc-3770d191e87c",
     "showTitle": false,
     "title": ""
    },
    "id": "QYDQk_vFEVE_"
   },
   "source": [
    "Después de eso, resulta claro que hay elementos en el texto que no son deseados. Ocurre mucho también con redes sociales y páginas web (en nuestro caso se trata de los tabuladores y cambios de párrafo). La forma usual de retirarlos es con el uso de *expresiones regulares*. A lo largo del notebook iremos mostrando otras expresiones regulares de limpieza de texto."
   ]
  },
  {
   "cell_type": "code",
   "execution_count": 9,
   "metadata": {
    "application/vnd.databricks.v1+cell": {
     "inputWidgets": {},
     "nuid": "5ac336be-dc03-4c9b-b3a5-d7a558a39960",
     "showTitle": false,
     "title": ""
    },
    "colab": {
     "base_uri": "https://localhost:8080/",
     "height": 200
    },
    "id": "fFJfhu9DEVFA",
    "outputId": "b4a28634-9ff7-47b3-b62e-df9aaed01951"
   },
   "outputs": [
    {
     "data": {
      "text/plain": [
       "'    Capítulo  1          1 EN el principio era el Verbo, y el Verbo era con Dios, y el Verbo era Dios.          2 Este era en el principio con Dios.          3 Todas las cosas por él fueron hechas; y sin él nada de lo que es hecho, fué hecho.          4 En él estaba la vida, y la vida era la luz de los hombres.          5 Y la luz en las tinieblas resplandece; mas las tinieblas no la comprendieron.          6 Fué un hombre enviado de Dios, el cual se llamaba Juan.          7 Este vino por testimonio, para que diese testimonio de la luz, para que todos creyesen por él.          8 No era él la luz, sino para que diese testimonio de la luz.          9 [Aquél] era la luz verdadera, que alumbra á todo hombre que viene á este mundo.          10 En el mundo estaba, y el mundo fué hecho por él; y el mundo no le conoció.          11 A lo suyo vino, y los suyos no le recibieron.          12 Mas á todos los que le recibieron, dióles potestad de ser hechos hijos de Dios, á los que creen en su nombre:          13 Los cuales no son engendrados de sangre, ni de voluntad de carne, ni de voluntad de varón, mas de Dios.          14 Y aquel Verbo fué hecho carne, y habitó entre nosotros (y vimos su gloria, gloria como del unigénito del Padre), lleno de gracia y de verdad.          15 Juan dió testimonio de él, y clamó diciendo: Este es del que [yo] decía: El que viene tras mí, es antes de mí: porque es primero que yo.          16 Porque de su plenitud tomamos todos, y gracia por gracia.          17 Porque la ley por Moisés fué dada: [mas] la gracia y la verdad por Jesucristo fué hecha.          18 A Dios nadie le vió jamás: el unigénito Hijo, que está en el seno del Padre, él [le] declaró.          19 Y éste es el testimonio de Juan, cuando los Judíos enviaron de Jerusalem sacerdotes y Levitas, que le preguntasen: ¿Tú, quién eres?          20 Y confesó, y no negó; mas declaró: No soy yo el Cristo.          21 Y le preguntaron: ¿Qué pues? ¿Eres tú Elías? Dijo: No soy. ¿Eres tú el profe'"
      ]
     },
     "execution_count": 9,
     "metadata": {},
     "output_type": "execute_result"
    }
   ],
   "source": [
    "base2a = re.sub (\"\\n|\\t\",\" \",base2)\n",
    "base2a[0:2000]"
   ]
  },
  {
   "cell_type": "markdown",
   "metadata": {
    "application/vnd.databricks.v1+cell": {
     "inputWidgets": {},
     "nuid": "c87a164f-f4e1-4289-9de2-a20a923cba4b",
     "showTitle": false,
     "title": ""
    },
    "id": "jG1fjjPyEVFB"
   },
   "source": [
    "Algunas limpiezas pueden ser más polémicas, pues los signos de puntuación tienen potencial de significado en el texto"
   ]
  },
  {
   "cell_type": "code",
   "execution_count": 10,
   "metadata": {
    "colab": {
     "base_uri": "https://localhost:8080/",
     "height": 200
    },
    "id": "mznQST7T0lrc",
    "outputId": "34be3cab-a457-4931-dff2-3f0380e4af68"
   },
   "outputs": [
    {
     "data": {
      "text/plain": [
       "'    Capítulo  1          1 EN el principio era el Verbo y el Verbo era con Dios y el Verbo era Dios          2 Este era en el principio con Dios          3 Todas las cosas por él fueron hechas y sin él nada de lo que es hecho fué hecho          4 En él estaba la vida y la vida era la luz de los hombres          5 Y la luz en las tinieblas resplandece mas las tinieblas no la comprendieron          6 Fué un hombre enviado de Dios el cual se llamaba Juan          7 Este vino por testimonio para que diese testimonio de la luz para que todos creyesen por él          8 No era él la luz sino para que diese testimonio de la luz          9 [Aquél] era la luz verdadera que alumbra á todo hombre que viene á este mundo          10 En el mundo estaba y el mundo fué hecho por él y el mundo no le conoció          11 A lo suyo vino y los suyos no le recibieron          12 Mas á todos los que le recibieron dióles potestad de ser hechos hijos de Dios á los que creen en su nombre          13 Los cuales no son engendrados de sangre ni de voluntad de carne ni de voluntad de varón mas de Dios          14 Y aquel Verbo fué hecho carne y habitó entre nosotros y vimos su gloria gloria como del unigénito del Padre lleno de gracia y de verdad          15 Juan dió testimonio de él y clamó diciendo Este es del que [yo] decía El que viene tras mí es antes de mí porque es primero que yo          16 Porque de su plenitud tomamos todos y gracia por gracia          17 Porque la ley por Moisés fué dada [mas] la gracia y la verdad por Jesucristo fué hecha          18 A Dios nadie le vió jamás el unigénito Hijo que está en el seno del Padre él [le] declaró          19 Y éste es el testimonio de Juan cuando los Judíos enviaron de Jerusalem sacerdotes y Levitas que le preguntasen Tú quién eres          20 Y confesó y no negó mas declaró No soy yo el Cristo          21 Y le preguntaron Qué pues Eres tú Elías Dijo No soy Eres tú el profeta Y respondió No          22 Dijéronle Pues quién eres para que demos'"
      ]
     },
     "execution_count": 10,
     "metadata": {},
     "output_type": "execute_result"
    }
   ],
   "source": [
    "base3=re.sub(r\"[.,;:¿?!¡()\\-/\\\\]\",'',base2a)\n",
    "base3[0:2000]"
   ]
  },
  {
   "cell_type": "markdown",
   "metadata": {
    "id": "SvbUN2EX13_8"
   },
   "source": [
    "Eliminar los números de los versículos también podría ser importante"
   ]
  },
  {
   "cell_type": "code",
   "execution_count": 11,
   "metadata": {
    "colab": {
     "base_uri": "https://localhost:8080/",
     "height": 200
    },
    "id": "WLIsnWUp2BBE",
    "outputId": "b30aefa6-0823-4720-95d1-8a16c0abc93c"
   },
   "outputs": [
    {
     "data": {
      "text/plain": [
       "'    Capítulo             EN el principio era el Verbo, y el Verbo era con Dios, y el Verbo era Dios.           Este era en el principio con Dios.           Todas las cosas por él fueron hechas; y sin él nada de lo que es hecho, fué hecho.           En él estaba la vida, y la vida era la luz de los hombres.           Y la luz en las tinieblas resplandece; mas las tinieblas no la comprendieron.           Fué un hombre enviado de Dios, el cual se llamaba Juan.           Este vino por testimonio, para que diese testimonio de la luz, para que todos creyesen por él.           No era él la luz, sino para que diese testimonio de la luz.           [Aquél] era la luz verdadera, que alumbra á todo hombre que viene á este mundo.           En el mundo estaba, y el mundo fué hecho por él; y el mundo no le conoció.           A lo suyo vino, y los suyos no le recibieron.           Mas á todos los que le recibieron, dióles potestad de ser hechos hijos de Dios, á los que creen en su nombre:           Los cuales no son engendrados de sangre, ni de voluntad de carne, ni de voluntad de varón, mas de Dios.           Y aquel Verbo fué hecho carne, y habitó entre nosotros (y vimos su gloria, gloria como del unigénito del Padre), lleno de gracia y de verdad.           Juan dió testimonio de él, y clamó diciendo: Este es del que [yo] decía: El que viene tras mí, es antes de mí: porque es primero que yo.           Porque de su plenitud tomamos todos, y gracia por gracia.           Porque la ley por Moisés fué dada: [mas] la gracia y la verdad por Jesucristo fué hecha.           A Dios nadie le vió jamás: el unigénito Hijo, que está en el seno del Padre, él [le] declaró.           Y éste es el testimonio de Juan, cuando los Judíos enviaron de Jerusalem sacerdotes y Levitas, que le preguntasen: ¿Tú, quién eres?           Y confesó, y no negó; mas declaró: No soy yo el Cristo.           Y le preguntaron: ¿Qué pues? ¿Eres tú Elías? Dijo: No soy. ¿Eres tú el profeta? Y respondió: No.           Dij'"
      ]
     },
     "execution_count": 11,
     "metadata": {},
     "output_type": "execute_result"
    }
   ],
   "source": [
    "base2b=re.sub(r\"[0-9]\",\"\",base2a)\n",
    "##equivalente a [0-9]: /d\n",
    "base2b[0:2000]"
   ]
  },
  {
   "cell_type": "code",
   "execution_count": 12,
   "metadata": {
    "colab": {
     "base_uri": "https://localhost:8080/",
     "height": 200
    },
    "id": "auYo_DkD3Hoi",
    "outputId": "58ff6bdc-99d0-49e2-db8b-b8721a4661ca"
   },
   "outputs": [
    {
     "data": {
      "text/plain": [
       "' Capítulo EN el principio era el Verbo, y el Verbo era con Dios, y el Verbo era Dios. Este era en el principio con Dios. Todas las cosas por él fueron hechas; y sin él nada de lo que es hecho, fué hecho. En él estaba la vida, y la vida era la luz de los hombres. Y la luz en las tinieblas resplandece; mas las tinieblas no la comprendieron. Fué un hombre enviado de Dios, el cual se llamaba Juan. Este vino por testimonio, para que diese testimonio de la luz, para que todos creyesen por él. No era él la luz, sino para que diese testimonio de la luz. [Aquél] era la luz verdadera, que alumbra á todo hombre que viene á este mundo. En el mundo estaba, y el mundo fué hecho por él; y el mundo no le conoció. A lo suyo vino, y los suyos no le recibieron. Mas á todos los que le recibieron, dióles potestad de ser hechos hijos de Dios, á los que creen en su nombre: Los cuales no son engendrados de sangre, ni de voluntad de carne, ni de voluntad de varón, mas de Dios. Y aquel Verbo fué hecho carne, y habitó entre nosotros (y vimos su gloria, gloria como del unigénito del Padre), lleno de gracia y de verdad. Juan dió testimonio de él, y clamó diciendo: Este es del que [yo] decía: El que viene tras mí, es antes de mí: porque es primero que yo. Porque de su plenitud tomamos todos, y gracia por gracia. Porque la ley por Moisés fué dada: [mas] la gracia y la verdad por Jesucristo fué hecha. A Dios nadie le vió jamás: el unigénito Hijo, que está en el seno del Padre, él [le] declaró. Y éste es el testimonio de Juan, cuando los Judíos enviaron de Jerusalem sacerdotes y Levitas, que le preguntasen: ¿Tú, quién eres? Y confesó, y no negó; mas declaró: No soy yo el Cristo. Y le preguntaron: ¿Qué pues? ¿Eres tú Elías? Dijo: No soy. ¿Eres tú el profeta? Y respondió: No. Dijéronle: ¿Pues quién eres? para que demos respuesta á los que nos enviaron. ¿Qué dices de ti mismo? Dijo: Yo soy la voz del que clama en el desierto: Enderezad el camino del Señor, como dijo Isaías profeta. Y los que habían si'"
      ]
     },
     "execution_count": 12,
     "metadata": {},
     "output_type": "execute_result"
    }
   ],
   "source": [
    "base2c=re.sub(r\" +\",\" \",base2b)\n",
    "##alternativa: /s\n",
    "base2c[0:2000]"
   ]
  },
  {
   "cell_type": "markdown",
   "metadata": {
    "application/vnd.databricks.v1+cell": {
     "inputWidgets": {},
     "nuid": "6e26cb5a-d7c4-468b-83d6-8d2c6827a969",
     "showTitle": false,
     "title": ""
    },
    "id": "zMQqTUZXEVFC"
   },
   "source": [
    "Unificar los textos en minúsculas sule funcionar bastante bien, aunque puede dificultar la identificación de nombres propios"
   ]
  },
  {
   "cell_type": "code",
   "execution_count": 13,
   "metadata": {
    "application/vnd.databricks.v1+cell": {
     "inputWidgets": {},
     "nuid": "b1eac9de-0626-4b84-99f5-a369cbdc4b8e",
     "showTitle": false,
     "title": ""
    },
    "colab": {
     "base_uri": "https://localhost:8080/",
     "height": 182
    },
    "id": "kZrd64O-EVFC",
    "outputId": "d96082a8-266c-4dc6-acc0-99a442a6cce8"
   },
   "outputs": [
    {
     "data": {
      "text/plain": [
       "' capítulo en el principio era el verbo, y el verbo era con dios, y el verbo era dios. este era en el principio con dios. todas las cosas por él fueron hechas; y sin él nada de lo que es hecho, fué hecho. en él estaba la vida, y la vida era la luz de los hombres. y la luz en las tinieblas resplandece; mas las tinieblas no la comprendieron. fué un hombre enviado de dios, el cual se llamaba juan. este vino por testimonio, para que diese testimonio de la luz, para que todos creyesen por él. no era él la luz, sino para que diese testimonio de la luz. [aquél] era la luz verdadera, que alumbra á todo hombre que viene á este mundo. en el mundo estaba, y el mundo fué hecho por él; y el mundo no le conoció. a lo suyo vino, y los suyos no le recibieron. mas á todos los que le recibieron, dióles potestad de ser hechos hijos de dios, á los que creen e'"
      ]
     },
     "execution_count": 13,
     "metadata": {},
     "output_type": "execute_result"
    }
   ],
   "source": [
    "basefinal=base2c.lower()\n",
    "basefinal[0:850]\n"
   ]
  },
  {
   "cell_type": "code",
   "execution_count": 14,
   "metadata": {},
   "outputs": [],
   "source": [
    "#basefinal"
   ]
  },
  {
   "cell_type": "markdown",
   "metadata": {
    "application/vnd.databricks.v1+cell": {
     "inputWidgets": {},
     "nuid": "7ccb24f0-8e2c-46b0-bcba-2f0612138de0",
     "showTitle": false,
     "title": ""
    },
    "id": "S1wF-Ag6EVFE"
   },
   "source": [
    "### Importar datos de redes sociales\n",
    "En general las redes sociales solo están abiertas a aquello que la cuenta puede acceder; sin embargo Twitter ha sido una red abierta por excelencia, y es por ello una de las más usadas para extraer esa información"
   ]
  },
  {
   "cell_type": "code",
   "execution_count": 16,
   "metadata": {
    "application/vnd.databricks.v1+cell": {
     "inputWidgets": {},
     "nuid": "24d9491c-5bdd-4f2c-b467-1e2c8c0a2b80",
     "showTitle": false,
     "title": ""
    },
    "id": "Vh_GsRhMEVFE"
   },
   "outputs": [],
   "source": [
    "import tweepy"
   ]
  },
  {
   "cell_type": "markdown",
   "metadata": {
    "application/vnd.databricks.v1+cell": {
     "inputWidgets": {},
     "nuid": "38b76416-dab7-4ca0-842e-e78fe4ebad9f",
     "showTitle": false,
     "title": ""
    },
    "id": "UsIKwLAtEVFF"
   },
   "source": [
    "para usar las API de twitter hay que tener una cuenta de desarrollador, con sus propias claves."
   ]
  },
  {
   "cell_type": "code",
   "execution_count": null,
   "metadata": {
    "id": "WbGlR0A53lln"
   },
   "outputs": [],
   "source": [
    "##incluir tus propias claves\n",
    "consumer_key= ''\n",
    "consumer_secret= ''\n",
    "access_token= ''\n",
    "access_token_secret= ''"
   ]
  },
  {
   "cell_type": "markdown",
   "metadata": {
    "id": "YsXzMGkq3mtF"
   },
   "source": [
    "Y luego autenticarse"
   ]
  },
  {
   "cell_type": "code",
   "execution_count": 18,
   "metadata": {
    "application/vnd.databricks.v1+cell": {
     "inputWidgets": {},
     "nuid": "12fc908b-2747-4685-b10a-b4bac207111b",
     "showTitle": false,
     "title": ""
    },
    "id": "aE454hlBEVFF"
   },
   "outputs": [],
   "source": [
    "\n",
    "##autenticarse\n",
    "auth = tweepy.OAuthHandler(consumer_key, consumer_secret)\n",
    "auth.set_access_token(access_token, access_token_secret)\n",
    "api = tweepy.API(auth, wait_on_rate_limit=True)\n"
   ]
  },
  {
   "cell_type": "code",
   "execution_count": 18,
   "metadata": {},
   "outputs": [],
   "source": [
    "#?tweepy.API"
   ]
  },
  {
   "cell_type": "markdown",
   "metadata": {
    "application/vnd.databricks.v1+cell": {
     "inputWidgets": {},
     "nuid": "7552dadd-0296-44df-adbf-e95854faa69b",
     "showTitle": false,
     "title": ""
    },
    "id": "iCrf8z7AEVFG"
   },
   "source": [
    "después de ello, hay que conocer el lenguaje de búsquedas para extraer los trinos requeridos."
   ]
  },
  {
   "cell_type": "code",
   "execution_count": 19,
   "metadata": {
    "application/vnd.databricks.v1+cell": {
     "inputWidgets": {},
     "nuid": "04e89e1f-f6f7-4bbe-b080-73790f9097d8",
     "showTitle": false,
     "title": ""
    },
    "id": "msns5Z8XEVFG"
   },
   "outputs": [],
   "source": [
    "busqueda=\"cerveza + ambiente -filter:retweets\"\n",
    "desde=\"2020-01-01\"\n",
    "\n",
    "#trinos=tweepy.Cursor(api.search,q=busqueda,lang=\"es\",since=desde).items(50)\n",
    "trinos=tweepy.Cursor(api.search_tweets,q=busqueda,lang=\"es\",since=desde).items(50)\n"
   ]
  },
  {
   "cell_type": "markdown",
   "metadata": {
    "id": "BCzI0_nvA2Tt"
   },
   "source": [
    "Luego pasamos los trinos a una lista, y podemos observar nuevos desafíos de limpieza, como las páginas web y las menciones."
   ]
  },
  {
   "cell_type": "code",
   "execution_count": 20,
   "metadata": {
    "application/vnd.databricks.v1+cell": {
     "inputWidgets": {},
     "nuid": "346ba168-47ea-4284-ae2b-c30f2911aa7e",
     "showTitle": false,
     "title": ""
    },
    "colab": {
     "base_uri": "https://localhost:8080/"
    },
    "id": "eud3lcBgEVFH",
    "outputId": "6ba7003d-cb21-4711-ed4c-149e7485c4ab"
   },
   "outputs": [
    {
     "name": "stderr",
     "output_type": "stream",
     "text": [
      "Unexpected parameter: since\n",
      "Unexpected parameter: since\n",
      "Unexpected parameter: since\n",
      "Unexpected parameter: since\n"
     ]
    },
    {
     "data": {
      "text/plain": [
       "[['FranRuizParra',\n",
       "  '',\n",
       "  'Creía que a cualquier persona le parecía un planazo el atardecer en el mar con la tabla de paddle surf, una (varias… https://t.co/maYfy8iOFB'],\n",
       " ['ma35035393',\n",
       "  '',\n",
       "  '¿En qué pub estás bebiendo?\" Gonzalito, quería saberlo. “¿Cerveza caliente? ¿Ya no, seguro?”\\n¡Seguro como necesite… https://t.co/tu9PkyQUlq'],\n",
       " ['IlCazzo8',\n",
       "  'Hamburgo, Alemania',\n",
       "  'Piden cuidar el medio ambiente pero compran cerveza, botan los envases en la calle y votan Apruebo \\n\\nPiden cuidar l… https://t.co/eq9AyaPl6f'],\n",
       " ['Celesteescobara',\n",
       "  'Guatemala',\n",
       "  'Un filing, una cerveza para entrar en ambiente'],\n",
       " ['ToorsDrella',\n",
       "  '',\n",
       "  'Oigan que pedo que los nuevos restaurantes de CDMX que van de gran propuesta gastronómica / calidad de producto per… https://t.co/wvLzw6GHEj']]"
      ]
     },
     "execution_count": 20,
     "metadata": {},
     "output_type": "execute_result"
    }
   ],
   "source": [
    "guardainfo = [[trino.user.screen_name, trino.user.location, trino.text] for trino in trinos]\n",
    "guardainfo[0:5]"
   ]
  },
  {
   "cell_type": "markdown",
   "metadata": {
    "application/vnd.databricks.v1+cell": {
     "inputWidgets": {},
     "nuid": "2b15179c-103e-4650-a6a1-e01244920c41",
     "showTitle": false,
     "title": ""
    },
    "id": "dL0HNxVzEVFI"
   },
   "source": [
    "las expresiones regulares ayudan entonces a limpiar esas páginas web"
   ]
  },
  {
   "cell_type": "code",
   "execution_count": 21,
   "metadata": {
    "application/vnd.databricks.v1+cell": {
     "inputWidgets": {},
     "nuid": "cd151f57-0f9b-43b7-aa3a-3e3106d5af64",
     "showTitle": false,
     "title": ""
    },
    "colab": {
     "base_uri": "https://localhost:8080/"
    },
    "id": "TBXa-NAREVFI",
    "outputId": "7befad79-0c33-4e5e-89fe-748d32766e52"
   },
   "outputs": [
    {
     "data": {
      "text/plain": [
       "['Creía que a cualquier persona le parecía un planazo el atardecer en el mar con la tabla de paddle surf, una (varias… ',\n",
       " '¿En qué pub estás bebiendo?\" Gonzalito, quería saberlo. “¿Cerveza caliente? ¿Ya no, seguro?”\\n¡Seguro como necesite… ',\n",
       " 'Piden cuidar el medio ambiente pero compran cerveza, botan los envases en la calle y votan Apruebo \\n\\nPiden cuidar l… ',\n",
       " 'Un filing, una cerveza para entrar en ambiente',\n",
       " 'Oigan que pedo que los nuevos restaurantes de CDMX que van de gran propuesta gastronómica / calidad de producto per… ']"
      ]
     },
     "execution_count": 21,
     "metadata": {},
     "output_type": "execute_result"
    }
   ],
   "source": [
    "guardatrino = [trino[2] for trino in guardainfo]\n",
    "guardatrino2= [re.sub(\"(\\w+:\\/\\/\\S+)\", \"\", trino) for trino in guardatrino]\n",
    "#cualquier palabra que tenga caracteres de palabras seguido de dos puntos , slash/slash y hasta que encuentre espacio en blanco \n",
    "# otra opciion\n",
    "guardatrino3= [re.sub(\"(http\\S+)\", \"\", trino) for trino in guardatrino2]\n",
    "guardatrino3[0:5]\n"
   ]
  },
  {
   "cell_type": "markdown",
   "metadata": {
    "id": "Q65xAIzu8AD8"
   },
   "source": [
    "Puedo también eliminar las menciones"
   ]
  },
  {
   "cell_type": "code",
   "execution_count": 22,
   "metadata": {
    "colab": {
     "base_uri": "https://localhost:8080/"
    },
    "id": "sHX-lIMF7Sqb",
    "outputId": "55b68da5-393c-47c3-90b7-ff159fc5a1ea"
   },
   "outputs": [
    {
     "data": {
      "text/plain": [
       "['Creía que a cualquier persona le parecía un planazo el atardecer en el mar con la tabla de paddle surf, una (varias… ',\n",
       " '¿En qué pub estás bebiendo?\" Gonzalito, quería saberlo. “¿Cerveza caliente? ¿Ya no, seguro?”\\n¡Seguro como necesite… ',\n",
       " 'Piden cuidar el medio ambiente pero compran cerveza, botan los envases en la calle y votan Apruebo \\n\\nPiden cuidar l… ',\n",
       " 'Un filing, una cerveza para entrar en ambiente',\n",
       " 'Oigan que pedo que los nuevos restaurantes de CDMX que van de gran propuesta gastronómica / calidad de producto per… ']"
      ]
     },
     "execution_count": 22,
     "metadata": {},
     "output_type": "execute_result"
    }
   ],
   "source": [
    "guardatrino4= [re.sub(\"(^@\\S+)\", \"\", trino) for trino in guardatrino3]\n",
    "guardatrino4[0:5]"
   ]
  },
  {
   "cell_type": "markdown",
   "metadata": {
    "id": "LJ18g6_58GO3"
   },
   "source": [
    "O inclusive llevarmelas"
   ]
  },
  {
   "cell_type": "code",
   "execution_count": 23,
   "metadata": {
    "colab": {
     "base_uri": "https://localhost:8080/"
    },
    "id": "_ZKTV6od8ITu",
    "outputId": "aef1dce8-f900-47bf-96e9-7b98b97c1602"
   },
   "outputs": [
    {
     "data": {
      "text/plain": [
       "[[], [], [], [], [], ['@rgtito'], [], [], ['@LaLovegood'], []]"
      ]
     },
     "execution_count": 23,
     "metadata": {},
     "output_type": "execute_result"
    }
   ],
   "source": [
    "menciones=[re.findall(\"(^@\\S+)\",trino) for trino in guardatrino3]\n",
    "menciones[0:10]"
   ]
  },
  {
   "cell_type": "code",
   "execution_count": 24,
   "metadata": {},
   "outputs": [
    {
     "name": "stdout",
     "output_type": "stream",
     "text": [
      "<class 'list'> 50\n"
     ]
    },
    {
     "data": {
      "text/plain": [
       "['FranRuizParra',\n",
       " '',\n",
       " 'Creía que a cualquier persona le parecía un planazo el atardecer en el mar con la tabla de paddle surf, una (varias… https://t.co/maYfy8iOFB']"
      ]
     },
     "execution_count": 24,
     "metadata": {},
     "output_type": "execute_result"
    }
   ],
   "source": [
    "print(type(guardainfo), len(guardainfo))\n",
    "guardainfo[0]"
   ]
  },
  {
   "cell_type": "code",
   "execution_count": 26,
   "metadata": {
    "application/vnd.databricks.v1+cell": {
     "inputWidgets": {},
     "nuid": "15b164f0-3ff1-4ab6-bacf-33537ef37315",
     "showTitle": false,
     "title": ""
    },
    "colab": {
     "base_uri": "https://localhost:8080/",
     "height": 363
    },
    "id": "TwCR_f50EVFI",
    "outputId": "9ca18527-92b6-484a-cb77-f07215db36fc"
   },
   "outputs": [
    {
     "data": {
      "text/html": [
       "<div>\n",
       "<style scoped>\n",
       "    .dataframe tbody tr th:only-of-type {\n",
       "        vertical-align: middle;\n",
       "    }\n",
       "\n",
       "    .dataframe tbody tr th {\n",
       "        vertical-align: top;\n",
       "    }\n",
       "\n",
       "    .dataframe thead th {\n",
       "        text-align: right;\n",
       "    }\n",
       "</style>\n",
       "<table border=\"1\" class=\"dataframe\">\n",
       "  <thead>\n",
       "    <tr style=\"text-align: right;\">\n",
       "      <th></th>\n",
       "      <th>usuario</th>\n",
       "      <th>ubicacion</th>\n",
       "      <th>texto</th>\n",
       "    </tr>\n",
       "  </thead>\n",
       "  <tbody>\n",
       "    <tr>\n",
       "      <th>0</th>\n",
       "      <td>FranRuizParra</td>\n",
       "      <td></td>\n",
       "      <td>Creía que a cualquier persona le parecía un pl...</td>\n",
       "    </tr>\n",
       "    <tr>\n",
       "      <th>1</th>\n",
       "      <td>ma35035393</td>\n",
       "      <td></td>\n",
       "      <td>¿En qué pub estás bebiendo?\" Gonzalito, quería...</td>\n",
       "    </tr>\n",
       "    <tr>\n",
       "      <th>2</th>\n",
       "      <td>IlCazzo8</td>\n",
       "      <td>Hamburgo, Alemania</td>\n",
       "      <td>Piden cuidar el medio ambiente pero compran ce...</td>\n",
       "    </tr>\n",
       "    <tr>\n",
       "      <th>3</th>\n",
       "      <td>Celesteescobara</td>\n",
       "      <td>Guatemala</td>\n",
       "      <td>Un filing, una cerveza para entrar en ambiente</td>\n",
       "    </tr>\n",
       "    <tr>\n",
       "      <th>4</th>\n",
       "      <td>ToorsDrella</td>\n",
       "      <td></td>\n",
       "      <td>Oigan que pedo que los nuevos restaurantes de ...</td>\n",
       "    </tr>\n",
       "    <tr>\n",
       "      <th>5</th>\n",
       "      <td>4daniel_</td>\n",
       "      <td>Jalisco</td>\n",
       "      <td>@rgtito Y esta bien que quieran ayudar al ambi...</td>\n",
       "    </tr>\n",
       "    <tr>\n",
       "      <th>6</th>\n",
       "      <td>CarlosF23351821</td>\n",
       "      <td></td>\n",
       "      <td>Hoy es domingo de Paz y de  encuentro familiar...</td>\n",
       "    </tr>\n",
       "    <tr>\n",
       "      <th>7</th>\n",
       "      <td>Mex_Libertario</td>\n",
       "      <td>México</td>\n",
       "      <td>Como buen demagogo, @lopezobrador_ se dice pre...</td>\n",
       "    </tr>\n",
       "    <tr>\n",
       "      <th>8</th>\n",
       "      <td>13ruadopercebe</td>\n",
       "      <td></td>\n",
       "      <td>@LaLovegood Los adultos bebían mucha cerveza, ...</td>\n",
       "    </tr>\n",
       "    <tr>\n",
       "      <th>9</th>\n",
       "      <td>lediakhov10</td>\n",
       "      <td>Asturias</td>\n",
       "      <td>Yo estuve en ese estadio. He ido varias veces ...</td>\n",
       "    </tr>\n",
       "  </tbody>\n",
       "</table>\n",
       "</div>"
      ],
      "text/plain": [
       "           usuario           ubicacion  \\\n",
       "0    FranRuizParra                       \n",
       "1       ma35035393                       \n",
       "2         IlCazzo8  Hamburgo, Alemania   \n",
       "3  Celesteescobara           Guatemala   \n",
       "4      ToorsDrella                       \n",
       "5         4daniel_             Jalisco   \n",
       "6  CarlosF23351821                       \n",
       "7   Mex_Libertario              México   \n",
       "8   13ruadopercebe                       \n",
       "9      lediakhov10            Asturias   \n",
       "\n",
       "                                               texto  \n",
       "0  Creía que a cualquier persona le parecía un pl...  \n",
       "1  ¿En qué pub estás bebiendo?\" Gonzalito, quería...  \n",
       "2  Piden cuidar el medio ambiente pero compran ce...  \n",
       "3     Un filing, una cerveza para entrar en ambiente  \n",
       "4  Oigan que pedo que los nuevos restaurantes de ...  \n",
       "5  @rgtito Y esta bien que quieran ayudar al ambi...  \n",
       "6  Hoy es domingo de Paz y de  encuentro familiar...  \n",
       "7  Como buen demagogo, @lopezobrador_ se dice pre...  \n",
       "8  @LaLovegood Los adultos bebían mucha cerveza, ...  \n",
       "9  Yo estuve en ese estadio. He ido varias veces ...  "
      ]
     },
     "execution_count": 26,
     "metadata": {},
     "output_type": "execute_result"
    }
   ],
   "source": [
    "import pandas as pd\n",
    "tweet_df = pd.DataFrame(data=guardainfo, \n",
    "                    columns=['usuario', \"ubicacion\",\"texto\"])\n",
    "tweet_df.head(10)\n"
   ]
  },
  {
   "cell_type": "markdown",
   "metadata": {
    "application/vnd.databricks.v1+cell": {
     "inputWidgets": {},
     "nuid": "7200ac7d-6b17-446f-beee-f5c8953f2a25",
     "showTitle": false,
     "title": ""
    },
    "id": "ylXzMjzeEVFJ"
   },
   "source": [
    "### Importación de PDFs\n",
    "\n",
    "Para PDFs usamos un proyecto libre de Apache, y nos conectamos a él. Si se trata de PDFs con imagen es más complicado."
   ]
  },
  {
   "cell_type": "code",
   "execution_count": 27,
   "metadata": {
    "colab": {
     "base_uri": "https://localhost:8080/"
    },
    "id": "ZXviEJ1UBgFm",
    "outputId": "cdcffd7b-9ca7-4283-c08d-91eb7613b8ff"
   },
   "outputs": [
    {
     "name": "stdout",
     "output_type": "stream",
     "text": [
      "Collecting tika\n",
      "  Downloading tika-1.24.tar.gz (28 kB)\n",
      "  Preparing metadata (setup.py) ... \u001b[?25ldone\n",
      "\u001b[?25hRequirement already satisfied: setuptools in /Users/habi/opt/anaconda3/envs/jave/lib/python3.8/site-packages (from tika) (63.4.1)\n",
      "Requirement already satisfied: requests in /Users/habi/opt/anaconda3/envs/jave/lib/python3.8/site-packages (from tika) (2.28.1)\n",
      "Requirement already satisfied: idna<4,>=2.5 in /Users/habi/opt/anaconda3/envs/jave/lib/python3.8/site-packages (from requests->tika) (3.3)\n",
      "Requirement already satisfied: charset-normalizer<3,>=2 in /Users/habi/opt/anaconda3/envs/jave/lib/python3.8/site-packages (from requests->tika) (2.1.1)\n",
      "Requirement already satisfied: certifi>=2017.4.17 in /Users/habi/opt/anaconda3/envs/jave/lib/python3.8/site-packages (from requests->tika) (2022.6.15)\n",
      "Requirement already satisfied: urllib3<1.27,>=1.21.1 in /Users/habi/opt/anaconda3/envs/jave/lib/python3.8/site-packages (from requests->tika) (1.26.12)\n",
      "Building wheels for collected packages: tika\n",
      "  Building wheel for tika (setup.py) ... \u001b[?25ldone\n",
      "\u001b[?25h  Created wheel for tika: filename=tika-1.24-py3-none-any.whl size=32876 sha256=36035cc83e69e1919a0b15951ab3eba1fcc5b53fdd7bebdd827609404dd55010\n",
      "  Stored in directory: /Users/habi/Library/Caches/pip/wheels/75/66/8b/d1acbac7d49f3d98ade76c51ae5d72cec1866131a3b1ad9f82\n",
      "Successfully built tika\n",
      "Installing collected packages: tika\n",
      "Successfully installed tika-1.24\n"
     ]
    }
   ],
   "source": [
    "!pip install tika"
   ]
  },
  {
   "cell_type": "code",
   "execution_count": 34,
   "metadata": {},
   "outputs": [],
   "source": [
    "import tika\n",
    "from tika import parser\n"
   ]
  },
  {
   "cell_type": "code",
   "execution_count": 35,
   "metadata": {},
   "outputs": [],
   "source": [
    "tika.initVM()"
   ]
  },
  {
   "cell_type": "code",
   "execution_count": 37,
   "metadata": {
    "application/vnd.databricks.v1+cell": {
     "inputWidgets": {},
     "nuid": "c37410a4-de8a-49c8-9d92-b66e57258ec5",
     "showTitle": false,
     "title": ""
    },
    "colab": {
     "base_uri": "https://localhost:8080/",
     "height": 200
    },
    "id": "ZMU83qg7EVFJ",
    "outputId": "e2617382-cc43-45c2-94a2-0207d58bc81b"
   },
   "outputs": [
    {
     "name": "stderr",
     "output_type": "stream",
     "text": [
      "2022-08-22 17:04:50,075 [MainThread  ] [WARNI]  Failed to see startup log message; retrying...\n"
     ]
    },
    {
     "data": {
      "text/plain": [
       "'dict_values([{\\'content-type\\': \\'application/pdf\\', \\'creation-date\\': \\'2011-12-26t05:58:59z\\', \\'last-modified\\': \\'2011-12-26t05:59:05z\\', \\'last-save-date\\': \\'2011-12-26t05:59:05z\\', \\'x-parsed-by\\': [\\'org.apache.tika.parser.defaultparser\\', \\'org.apache.tika.parser.pdf.pdfparser\\'], \\'x-tika:content_handler\\': \\'totextcontenthandler\\', \\'x-tika:embedded_depth\\': \\'0\\', \\'x-tika:parse_time_millis\\': \\'1652\\', \\'access_permission:assemble_document\\': \\'true\\', \\'access_permission:can_modify\\': \\'true\\', \\'access_permission:can_print\\': \\'true\\', \\'access_permission:can_print_degraded\\': \\'true\\', \\'access_permission:extract_content\\': \\'true\\', \\'access_permission:extract_for_accessibility\\': \\'true\\', \\'access_permission:fill_in_form\\': \\'true\\', \\'access_permission:modify_annotations\\': \\'true\\', \\'created\\': \\'2011-12-26t05:58:59z\\', \\'date\\': \\'2011-12-26t05:59:05z\\', \\'dc:format\\': \\'application/pdf; version=1.6\\', \\'dc:title\\': \\'untitled\\', \\'dcterms:created\\': \\'2011-12-26t05:58:59z\\', \\'dcterms:modified\\': \\'2011-12-26t05:59:05z\\', \\'meta:creation-date\\': \\'2011-12-26t05:58:59z\\', \\'meta:save-date\\': \\'2011-12-26t05:59:05z\\', \\'modified\\': \\'2011-12-26t05:59:05z\\', \\'pdf:pdfversion\\': \\'1.6\\', \\'pdf:charsperpage\\': [\\'845\\', \\'3815\\', \\'6262\\', \\'5921\\', \\'6082\\', \\'5437\\', \\'4307\\', \\'3912\\', \\'3882\\', \\'3923\\', \\'4089\\', \\'4994\\'], \\'pdf:docinfo:created\\': \\'2011-12-26t05:58:59z\\', \\'pdf:docinfo:custom:rgid\\': \\'pb:318015152_as:159389562449922@1415012841991\\', \\'pdf:docinfo:modified\\': \\'2011-12-26t05:59:05z\\', \\'pdf:docinfo:producer\\': \\'acrobat distiller 9.0.0 (windows)\\', \\'pdf:docinfo:title\\': \\'untitled\\', \\'pdf:encrypted\\': \\'false\\', \\'pdf:hasmarkedcontent\\': \\'false\\', \\'pdf:hasxfa\\': \\'false\\', \\'pdf:hasxmp\\': \\'true\\', \\'pdf:unmappedunicodecharsperpage\\': [\\'0\\', \\'0\\', \\'0\\', \\'0\\', \\'0\\', \\'0\\', \\'0\\', \\'0\\', \\'0\\', \\'0\\', \\'0\\', \\'0\\'], \\'producer\\': \\'acrobat distiller 9.0.0 (windows)\\', \\'resourcename\\': \"b\\'defining_the_concepts_of_technology_and_technology.pdf\\'\", \\'rgid\\': \\'pb:318015152_as:159389562449922@1415012841991\\', \\'title\\': \\'untitled\\', \\'xmpmm:documentid\\': \\'uuid:32fade4c-03fe-4ee9-8adb-9d0bb0ee518f\\', \\'xmptpg:npages\\': \\'12\\'}, \"\\\\n\\\\n\\\\n\\\\n\\\\n\\\\n\\\\n\\\\n\\\\n\\\\n\\\\n\\\\n\\\\n\\\\n\\\\n\\\\n\\\\n\\\\n\\\\n\\\\n\\\\n\\\\n\\\\n\\\\n\\\\n\\\\n\\\\n\\\\n\\\\n\\\\n\\\\n\\\\n\\\\n\\\\n\\\\n\\\\n\\\\n\\\\n\\\\n\\\\nuntitled\\\\n\\\\n\\\\nsee discussions, stats, and author profiles for this publication at: https://www.researchgate.net/publication/318015152\\\\n\\\\ndefining the concepts of technology and technology transfer: a literature\\\\n\\\\nanalysis\\\\n\\\\narticle\\\\xa0\\\\xa0in\\\\xa0\\\\xa0international business research · february 2012\\\\n\\\\ndoi: 10.5539/ibr.v5n1p61\\\\n\\\\ncitations\\\\n\\\\n143\\\\nreads\\\\n\\\\n179,213\\\\n\\\\n3 authors, including:\\\\n\\\\nsome of the authors of this publication are also working on these related projects:\\\\n\\\\nsustainable employee\\'s performance view project\\\\n\\\\ndeveloping a technology-innovation-sustainability model view project\\\\n\\\\nsazali abd wahab\\\\n\\\\nputra business school\\\\n\\\\n271 publications\\\\xa0\\\\xa0\\\\xa0925 citations\\\\xa0\\\\xa0\\\\xa0\\\\n\\\\nsee profile\\\\n\\\\nsuzana idayu wati osman\\\\n\\\\nuniversiti teknologi mara\\\\n\\\\n16 publications\\\\xa0\\\\xa0\\\\xa0195 citations\\\\xa0\\\\xa0\\\\xa0\\\\n\\\\nsee profile\\\\n\\\\nall content following this page was uploaded by sazali abd wahab on 03 november 2014.\\\\n\\\\nthe user has requested enhancement of the downloaded file.\\\\n\\\\nhttps://www.researchgate.net/publication/318015152_defining_the_concepts_of_technology_and_technology_transfer_a_literature_analysis?enrichid=rgreq-20394c32c6d2cec18f0af40cd66527bc-xxx&enrichsource=y292zxjqywdlozmxodaxnte1mjtbuzoxntkzodk1nji0ndk5mjjamtqxntaxmjg0mtk5mq%3d%3d&el=1_x_2&_esc=publicationcoverpdf\\\\nhttps://www.researchgate.net/publication/318015152_defining_the_concepts_of_technology_and_technology_transfer_a_literature_analysis?enrichid=rgreq-20394c32c6d2cec18f0af40cd66527bc-xxx&enrichsource=y292zxjqywdlozmxodaxnte1mjtbuzoxntkzodk1nji0ndk5mjjamtqxntaxmjg0mtk5mq%3d%3d&el=1_x_3&_esc=publicationcoverpdf\\\\nhttps://www.researchgate.net/project/sustainable-employees-performance?enrichid=rgreq-20394c32c6d2cec18f0af40cd66527bc-xxx&enrichsource=y292zxjqywdlozmxodaxnte1mjtbuzoxntkzodk1nji0ndk5mjjamtqxntaxmjg0mtk5mq%3d%3d&el=1_x_9&_esc=publicationcoverpdf\\\\nhttps://www.researchgate.net/project/developing-a-technology-innovation-sustainability-model?enrichid=rgreq-20394c32c6d2cec18f0af40cd66527bc-xxx&enrichsource=y292zxjqywdlozmxodaxnte1mjtbuzoxntkzodk1nji0ndk5mjjamtqxntaxmjg0mtk5mq%3d%3d&el=1_x_9&_esc=publicationcoverpdf\\\\nhttps://www.researchgate.net/?enrichid=rgreq-20394c32c6d2cec18f0af40cd66527bc-xxx&enrichsource=y292zxjqywdlozmxodaxnte1mjtbuzoxntkzodk1nji0ndk5mjjamtqxntaxmjg0mtk5mq%3d%3d&el=1_x_1&_esc=publicationcoverpdf\\\\nhttps://www.researchgate.net/profile/sazali-abd-wahab?enrichid=rgreq-20394c32c6d2cec18f0af40cd66527bc-xxx&enrichsource=y292zxjqywdlozmxodaxnte1mjtbuzoxntkzodk1nji0ndk5mjjamtqxntaxmjg0mtk5mq%3d%3d&el=1_x_4&_esc=publicationcoverpdf\\\\nhttps://www.researchgate.net/profile/sazali-abd-wahab?enrichid=rgreq-20394c32c6d2cec18f0af40cd66527bc-xxx&enrichsource=y292zxjqywdlozmxodaxnte1mjtbuzoxntkzodk1nji0ndk5mjjamtqxntaxmjg0mtk5mq%3d%3d&el=1_x_5&_esc=publicationcoverpdf\\\\nhttps://www.researchgate.net/institution/putra-business-school?enrichid=rgreq-20394c32c6d2cec18f0af40cd66527bc-xxx&enrichsource=y292zxjqywdlozmxodaxnte1mjtbuzoxntkzodk1nji0ndk5mjjamtqxntaxmjg0mtk5mq%3d%3d&el=1_x_6&_esc=publicationcoverpdf\\\\nhttps://www.researchgate.net/profile/sazali-abd-wahab?enrichid=rgreq-20394c32c6d2cec18f0af40cd66527bc-xxx&enrichsource=y292zxjqywdlozmxodaxnte1mjtbuzoxntkzodk1nji0ndk5mjjamtqxntaxmjg0mtk5mq%3d%3d&el=1_x_7&_esc=publicationcoverpdf\\\\nhttps://www.researchgate.net/profile/suzana-osman?enrichid=rgreq-20394c32c6d2cec18f0af40cd66527bc-xxx&enrichsource=y292zxjqywdlozmxodaxnte1mjtbuzoxntkzodk1nji0ndk5mjjamtqxntaxmjg0mtk5mq%3d%3d&el=1_x_4&_esc=publicationcoverpdf\\\\nhttps://www.researchgate.net/profile/suzana-osman?enrichid=rgreq-20394c32c6d2cec18f0af40cd66527bc-xxx&enrichsource=y292zxjqywdlozmxodaxnte1mjtbuzoxntkzodk1nji0ndk5mjjamtqxntaxmjg0mtk5mq%3d%3d&el=1_x_5&_esc=publicationcoverpdf\\\\nhttps://www.researchgate.net/institution/universiti-teknologi-mara2?enrichid=rgreq-20394c32c6d2cec18f0af40cd66527bc-xxx&enrichsource=y292zxjqywdlozmxodaxnte1mjtbuzoxntkzodk1nji0ndk5mjjamtqxntaxmjg0mtk5mq%3d%3d&el=1_x_6&_esc=publicationcoverpdf\\\\nhttps://www.researchgate.net/profile/suzana-osman?enrichid=rgreq-20394c32c6d2cec18f0af40cd66527bc-xxx&enrichsource=y292zxjqywdlozmxodaxnte1mjtbuzoxntkzodk1nji0ndk5mjjamtqxntaxmjg0mtk5mq%3d%3d&el=1_x_7&_esc=publicationcoverpdf\\\\nhttps://www.researchgate.net/profile/sazali-abd-wahab?enrichid=rgreq-20394c32c6d2cec18f0af40cd66527bc-xxx&enrichsource=y292zxjqywdlozmxodaxnte1mjtbuzoxntkzodk1nji0ndk5mjjamtqxntaxmjg0mtk5mq%3d%3d&el=1_x_10&_esc=publicationcoverpdf\\\\n\\\\n\\\\nwww.ccsenet.org/ibr                     international business research                  vol. 5, no. 1; january 2012 \\\\n\\\\npublished by canadian center of science and education 61\\\\n\\\\ndefining the concepts of technology and technology transfer:  \\\\n\\\\na literature analysis \\\\n\\\\nsazali abdul wahab \\\\n\\\\nnational defence university of malaysia, kuala lumpur 57000, malaysia \\\\n\\\\ntel: 60-39-051-3060   e-mail: saw@upnm.edu.my \\\\n\\\\n \\\\n\\\\nraduan che rose \\\\n\\\\nnational defence university of malaysia, kuala lumpur 57000, malaysia \\\\n\\\\ne-mail: raduan@upnm.edu.my \\\\n\\\\n \\\\n\\\\nsuzana idayu wati osman \\\\n\\\\nfelda global ventures holdings  \\\\n\\\\n \\\\n\\\\nreceived: july 12, 2011           accepted: september 22, 2011               published: january 1, 2012 \\\\n\\\\ndoi:10.5539/ibr.v5n1p61                    url: http://dx.doi.org/10.5539/ibr.v5n1p61 \\\\n\\\\n \\\\n\\\\nabstract \\\\n\\\\nthe primary objective of this paper is to contribute to the existing literature by comprehensively reviewing the \\\\ndevelopment, definitions and concepts of technology and technology transfer based on a literature review conducted \\\\non these wide research areas. this review covers various definitions and dimensions of both technology and \\\\ntechnology transfer from the early technology concept i.e. from the development of solow’s (1957) growth model up \\\\nto maskus’s (2003) definition and concept of technology and technology transfer. while the term ‘technology’ itself is \\\\ndifficult to interpret, observe or evaluate, as argued by many sc'"
      ]
     },
     "execution_count": 37,
     "metadata": {},
     "output_type": "execute_result"
    }
   ],
   "source": [
    "\n",
    "#pdfbase=parser.from_file(\"survey_sentiment.pdf\")\n",
    "pdfbase=parser.from_file(\"Defining_the_Concepts_of_Technology_and_Technology.pdf\")\n",
    "textopdf= str(pdfbase.values()).lower()\n",
    "textopdf[0:8000]\n",
    "\n"
   ]
  },
  {
   "cell_type": "code",
   "execution_count": 38,
   "metadata": {
    "colab": {
     "base_uri": "https://localhost:8080/",
     "height": 200
    },
    "id": "a31z8W9y9yGz",
    "outputId": "c8f744cc-90f2-4505-dde7-d6bd42257b71"
   },
   "outputs": [
    {
     "data": {
      "text/plain": [
       "'literature_analysis?enrichid=rgreq-20394c32c6d2cec18f0af40cd66527bc-xxx&enrichsource=y292zxjqywdlozmxodaxnte1mjtbuzoxntkzodk1nji0ndk5mjjamtqxntaxmjg0mtk5mq%3d%3d&el=1_x_3&_esc=publicationcoverpdf\\\\nhttps://www.researchgate.net/project/sustainable-employees-performance?enrichid=rgreq-20394c32c6d2cec18f0af40cd66527bc-xxx&enrichsource=y292zxjqywdlozmxodaxnte1mjtbuzoxntkzodk1nji0ndk5mjjamtqxntaxmjg0mtk5mq%3d%3d&el=1_x_9&_esc=publicationcoverpdf\\\\nhttps://www.researchgate.net/project/developing-a-technology-innovation-sustainability-model?enrichid=rgreq-20394c32c6d2cec18f0af40cd66527bc-xxx&enrichsource=y292zxjqywdlozmxodaxnte1mjtbuzoxntkzodk1nji0ndk5mjjamtqxntaxmjg0mtk5mq%3d%3d&el=1_x_9&_esc=publicationcoverpdf\\\\nhttps://www.researchgate.net/?enrichid=rgreq-20394c32c6d2cec18f0af40cd66527bc-xxx&enrichsource=y292zxjqywdlozmxodaxnte1mjtbuzoxntkzodk1nji0ndk5mjjamtqxntaxmjg0mtk5mq%3d%3d&el=1_x_1&_esc=publicationcoverpdf\\\\nhttps://www.researchgate.net/profile/sazali-abd-wahab?enrichid=rgreq-20394c32c'"
      ]
     },
     "execution_count": 38,
     "metadata": {},
     "output_type": "execute_result"
    }
   ],
   "source": [
    "textopdf[3500:4500]"
   ]
  },
  {
   "cell_type": "markdown",
   "metadata": {
    "id": "TEmICufWC2oY"
   },
   "source": [
    "En este caso el encabezado de metadatos inicia con \"{\" y probablemente cierra con \"}\". Asi mismo el formato tiene muchos caracteres especiales. Intentaremos mejorarlo."
   ]
  },
  {
   "cell_type": "code",
   "execution_count": 39,
   "metadata": {
    "colab": {
     "base_uri": "https://localhost:8080/",
     "height": 200
    },
    "id": "R5JHi4fL-PEw",
    "outputId": "43632d15-e0ec-4e1b-cd17-4601a90fb90d"
   },
   "outputs": [
    {
     "data": {
      "text/plain": [
       "'bstract  n nthe primary objective of this paper is to contribute to the existing literature by comprehensively reviewing the  ndevelopment, definitions and concepts of technology and technology transfer based on a literature review conducted  non these wide research areas. this review covers various definitions and dimensions of both technology and  ntechnology transfer from the early technology concept i.e. from the development of solow s (1957) growth model up  nto maskus s (2003) definition and concept of technology and technology transfer. while the term  technology  itself is  ndifficult to interpret, observe or evaluate, as argued by many scholars, this review attempts to provide in-depth  ndiscussion and enhance understanding on these concepts from various perspectives, research background and  ndisciplines. this review could shed some dynamic ideas for future researchers to further identify, conceptualize and  nunderstand the underlying theories and perspectives which strongly '"
      ]
     },
     "execution_count": 39,
     "metadata": {},
     "output_type": "execute_result"
    }
   ],
   "source": [
    "hallar=textopdf.find(\"abstract\")\n",
    "textopdftrim=textopdf[hallar+1:]\n",
    "textopdftrim2=re.sub(r\"[^\\w.,;:¿?!¡()\\-]\",\" \",textopdftrim)\n",
    "textopdftrim2[0:1000]"
   ]
  },
  {
   "cell_type": "code",
   "execution_count": 40,
   "metadata": {},
   "outputs": [
    {
     "data": {
      "text/plain": [
       "'bstract \\\\n\\\\nthe primary objective of this paper is to contribute to the existing literature by comprehensively reviewing the \\\\ndevelopment, definitions and concepts of technology and technology transfer based on a literature review conducted \\\\non these wide research areas. this review covers various definitions and dimensions of both technology and \\\\ntechnology transfer from the early technology concept i.e. from the development of solow’s (1957) growth model up \\\\nto maskus’s (2003) definition and concept of technology and technology transfer. while the term ‘technology’ itself is \\\\ndifficult to interpret, observe or evaluate, as argued by many scholars, this review attempts to provide in-depth \\\\ndiscussion and enhance understanding on these concepts from various perspectives, research background and \\\\ndisciplines. this review could shed some dynamic ideas for future researchers to further identify, conceptualize and \\\\nunderstand the underlying theories and perspectives which strongly influence the previous, current and future concept \\\\nof technology transfer. \\\\n\\\\nkeywords: definitions, concept, technology, technology transfer, malaysia \\\\n\\\\n1. introduction \\\\n\\\\nthe dynamic nature of technology has contributed to the existence of various definitions and concepts of technology \\\\nby the previous studies which are related to technology transfer. the discussion on the concept of technology is crucial \\\\nin getting a clear understanding of the nature of technology and examining what the technology consists of. past \\\\nstudies have shown that defining the concept of technology is not easy (reddy and zhoa, 1990); therefore technology \\\\nhas been defined from different perspectives. existing studies on technology transfer and international technology \\\\ntransfer have attracted researchers from cross-section of disciplines including organizational management, political \\\\nscience, economics, sociology, anthropology, marketing and recently management of technology (cusumano and \\\\nelenkov, 1994; zhoa and reisman, 1992). the term ‘technology’ is inherently abstract concept which is difficult to \\\\ninterpret, observe and evaluate (blomstrom and kokko, 1998). regardless of the extensive research done on this \\\\nsubject, many of the literatures are fragmented along different specialties and generally there is no commonly accepted \\\\nparadigm (reddy and zhoa, 1990). lan and young (1996) stress that the technology definition is varied according to \\\\nauthors and context of disciplines. because of this the concepts, variables and measures relevant to the study are \\\\ndifferent from one study to another (kumar et. al, 1999). therefore, the main objective of this paper is to contribute to \\\\nthe existing literature by comprehensively reviewing the development, definitions and concepts of technology and \\\\ntechnology transfer. \\\\n\\\\n2. the definition and concept of technology \\\\n\\\\npast researchers have viewed and defined the term ‘technology’ from many perspectives and this has influenced the \\\\nresearch design and results, negotiations around a transfer and government policies in general (reddy and zhoa, 1990). \\\\n\\\\n\\\\n\\\\nwww.ccsenet.org/ibr                     international business research                  vol. 5, no. 1; january 2012 \\\\n\\\\n                                                          issn 1913-9004   e-issn 1913-9012 62\\\\n\\\\nthus, the term technology has been given various definitions by previous literatures. according to kumar et. al (1999) \\\\ntechnology consists of two primary components: 1) a physical component which comprises of items such as products, \\\\ntooling, equipments, blueprints, techniques, and processes; and 2) the informational component which consists of \\\\nknow-how in management, marketing, production, quality control, reliability, skilled labor and functional areas. the \\\\nearlier definition by sahal (1981) views technology as ‘configuration’, observing that the transfer object (the \\\\ntechnology) relies on a subjectively determined but specifiable set of processes and products. the current studies on \\\\nthe technology transfer have connected technology directly with knowledge and more attention is given to the process \\\\nof research and development (dunning, 1994). by scrutinizing the technology definition, there are two basic \\\\ncomponents that can be identified: 1) ‘knowledge’ or technique; and 2) ‘doing things’. technology is always \\\\nconnected with obtaining certain result, resolving certain problems, completing certain tasks using particular skills, \\\\nemploying knowledge and exploiting assets (lan and young, 1996). the concept of technology does not only relate to \\\\nthe technology that embodies in the product but it is also associated with the knowledge or information of it use, \\\\napplication and the process in developing the product (lovell, 1998; bozeman, 2000).  \\\\n\\\\nthe early concept of technology as information holds that the technology is generally applicable and easy to reproduce \\\\nand reuse (arrow, 1962). however, reddy and zhoa (1990) contend that the early concept of technology contradicts \\\\nwith a strand of literatures on international technology transfer which holds that “technology is conceived as \\\\nfirm-specific information concerning the characteristics and performance properties of the production process and \\\\nproduct design”. they further argue that the production process or operation technology is embodied in the equipment \\\\nor the means to produce a defined product. on the other hand, the product design or product technology is that which \\\\nis manifested in the finished product. pavitt (1985) suggests that technology is mainly differentiated knowledge about \\\\nspecific application, tacit, often uncodified and largely cumulative within firms. thus, based on this argument, \\\\ntechnology is regarded as the firm’s ‘intangible assets’ or ‘firm-specific’ which forms the basis of a firm’s \\\\ncompetitiveness and will generally release under special condition (dunning, 1981). tihanyi and roath (2002) \\\\npropose that technology can include information that is not easily reproducible and transferable. based on this \\\\nargument technology is seen as “tacit knowledge (polanyi, 1967) or firm-specific, secrets or knowledge known by one \\\\norganization” (nonaka, 1994).  \\\\n\\\\ntechnology as the intangible assets of the firm is rooted in the firms routines and is not easy to transfer due to the \\\\ngradual learning process and higher cost associated with transferring tacit knowledge (rodasevic,1999). valuable \\\\ntechnological knowledge which is the intangible assets of the firm is never easily transferred from one firm to another \\\\nbecause the technological learning process is needed to assimilate and internalized the transferred technology (lin, \\\\n2003). rosenberg and frischtak (1985) also consider technology as firm-specific information concerning the \\\\ncharacteristics and performance properties of production processes and product designs; therefore technology is tacit \\\\nand cumulative in nature. burgelman et al. (1996) refer technology as the theoretical and practical knowledge, skills, \\\\nand artifacts that can be used to develop products and services as well as their production and delivery systems. \\\\ntechnology is also embodied in people, materials, cognitive and physical processes, facilities, machines and tools (lin, \\\\n2003). based on sahal’s (1981) concept, bozeman (2000) argues that technology and knowledge are inseparable \\\\nsimply because when a technological product is transferred or diffused, the knowledge upon which its composition is \\\\nbased is also diffused. the physical entity cannot be put to use without the existence of knowledge base which is \\\\ninherent and not ancillary.  \\\\n\\\\nmackenzie and wajcman (1985) define technology as the integration of the physical objects or artifacts, the process \\\\nof making the objects and the meaning associated with the physical objects. these elements are not distinctive and \\\\nseparable factors but form a ‘seamless web’ that constitutes technology (woolgar, 1987). in defining the term \\\\ntechnology, all the three elements must be understood as being inter-connected to each other and a change in one \\\\nelement will affect the other two elements. the latest definition given by mascus (2003) has broadened the concept of \\\\ntechnology where technology is defined as ‘the information necessary to achieve a certain production outcome from a \\\\nparticular means of combining or processing selected inputs which include production processes, intra-firm \\\\norganizational structures, management techniques, and means of finance, marketing methods or any of its \\\\ncombination’. other scholars such as tepstra and david (1985) suggest that technology as a cultural system concerned \\\\nwith the relationships between humans and their environment. from the systems perspective afriyie (1988) defines \\\\ntechnology as encompassing: 1) the basic knowledge sub-system; 2) the technical support system (software); and 3) \\\\nthe capital-embodied technology (hardware). this perspective views that technology recognizes the need to identify \\\\nthe different elements of a particular country’s technology that are complementary and mutually reinforcing. the \\\\nprevious studies done by the researchers have offered various definitions and concepts of technology from different \\\\ndisciplines, contexts and perspectives. table 1 below shows a list of definitions and concepts of technology (in a \\\\nchronological order) which was gathered from the previous literatures.  \\\\n\\\\n\\\\n\\\\nwww.ccsenet.org/ibr                     international business research                  vol. 5, no. 1; january 2012 \\\\n\\\\npublished by canadian center of science and education 63\\\\n\\\\ninsert table 1 here \\\\n\\\\napart from understanding the concept of technology, the classification of technology is also crucial in explaining the \\\\nvarious kinds of technologies that embody in the product, production processes and human capital of the firm. reddy \\\\nand zhoa (1990) in their extensive review of technology transfer literature have constructed taxonomies of technology \\\\nfrom the previous literatures. the early taxonomy of technology was developed by mansfield (1975) who used \\\\n“embodied” and “disembodied” technology classification. the classification was later further extended by madeuf \\\\n(1984) to include capital embodied, human embodied and disembodied technology. hall and johnson (1970) suggest \\\\nthe use of “product-embodied”, “process-embodied” and “person-embodied” technology classification rather than the \\\\nclassification based on “general”, “system-specific”, and “company specific” technology. general technology \\\\nincludes technical information which is common to companies in the same activity. system specific technology \\\\ncorresponds to knowledge and know-how develops for solving particular industrial problems. company specific \\\\ntechnology covers the corporate skills and capabilities from general activity and experience of each individual firm. \\\\nrobock (1980) and chudson (1971) have constructed technology taxonomy by separating product designs, production \\\\ntechniques and managerial functions. madeuf (1984) suggests a distinction between “alienated’ technology and \\\\n“socialized” technology. alienated technology includes information which is not free such as secret know-how. \\\\nconversely, “socialized technology” does not imply any specific transaction.  \\\\n\\\\n3. defining the concept of technology transfer  \\\\n\\\\nthe definitions and concepts of technology transfer have been discussed in many different ways based on the \\\\ndisciplines of research and according to the purposes of the research (bozeman, 2000). gibson and smilor, (1991) \\\\nview technology transfer is often a chaotic, disorderly process involving groups and individuals who may hold \\\\ndifferent views about the value and potential use of the technology. according to them technology often has no \\\\ndefinitive meaning or value. researchers, developers, and users are likely to have different perceptions about the \\\\ntechnology. a review of literature on technology transfer reveals that technology transfer is a complex, difficult \\\\nprocess even when it occurs across different functions within a single product division of a single company (zaltman \\\\net al., 1973; kidder, 1981; smith and alexander, 1988). technology transfer is commonly acknowledged to be a \\\\ncomplex process that needs time to evolve (agmon and von glinow, 1981).  \\\\n\\\\nnevertheless, the economic theories for example solow’s (1957) growth model, have often treated technology as \\\\ngiven that is embodied in products or processes; where technologies that resemble blueprint, machines, or materials \\\\nare easily replicated and transferred (lin, 2003). the literatures on technology transfer and international technology \\\\ntransfer are extensive and varied in perspective from various disciplines which include political science, economics, \\\\nsociology, public policy, marketing and management of technology (kumar et al., 1999). the issues that have been \\\\ninvestigated, among other, are technology transfer process, appropriateness of technology, cooperation and conflict \\\\nbetween transfer countries, the success of technology transfer, and the social and economic benefits of technology \\\\ntransfer for both suppliers and recipient countries (katz, 1985; lall, 1982).  \\\\n\\\\npast literatures have referred technology transfer as the transmission of know-how to suit local conditions, with \\\\neffective absorption and diffusion both within and across countries (chung, 2001; kanyak, 1985). other early \\\\nresearchers for example baranson (1970) defines technology transfer as transmission of know-how (knowledge) \\\\nwhich enable the recipient enterprise to manufacture a particular product or provide a specific service. as compared to \\\\nthe sale of machinery and equipment, the transfer of technology requires a sustained relationship between two \\\\nenterprises over a period of time to enable the receiving enterprise to produce the product with the desired level of \\\\nquality standards and cost efficiency (reddy and zhoa, 1990). this is consistent with the earlier argument by chesnais \\\\n(1986) who argues that technology transfer does not only transfer the technical know-how (knowledge) required to \\\\nproduce the product to the recipient but also the capacity to master, develop and later produce autonomously the \\\\ntechnology underlying the products. in the context of developing countries, hoffman and girvan (1990) argue that \\\\ntechnology transfer needs to be perceived in terms of achieving three core objectives: 1) the introduction of new \\\\ntechniques by means of investment of new plants; (2) the improvement of existing techniques and (3) the generation of \\\\nnew knowledge.  \\\\n\\\\nsince the term “technology transfer” provides many dimensions, it has often been used to describe the process by \\\\nwhich ideas and concepts are moved from the laboratory to marketplace (phillips, 2002; williams & gibson, 1990), \\\\nthe transfer and knowledge and concept from developed to less technologically developed countries (derakhshani, \\\\n1983; putranto et al., 2003) and the transfer of inventive activities to secondary users (van gigch, 1978). autio and \\\\nlaamanen (1995) suggest a broader definition by proposing that technology transfer involves an intentional, \\\\ngoal-oriented interaction between two or more social entities, during which the pool of technological knowledge \\\\nremains stable or increases through the transfer of one or more components of technology. levin (1996) considers \\\\n\\\\n\\\\n\\\\nwww.ccsenet.org/ibr                     international business research                  vol. 5, no. 1; january 2012 \\\\n\\\\n                                                          issn 1913-9004   e-issn 1913-9012 64\\\\n\\\\ntechnology transfer as the application of scientific principles to solve practical problems. from the social science \\\\nperspective levin (1993) defines technology transfer as a socio-technical process implying the transfer of cultural \\\\nskills accompanying the movement of machinery, equipment and tools. this definition includes the transfer of the \\\\nphysical movement of artifacts and the embedded cultural skills. majority of the previous studies have defined \\\\ntechnology transfer as the transmission or movement of knowledge as a process. it involves the process how an \\\\norganization or a country transfers scientific or technological achievements, new uses for technology, designs, and the \\\\ntechnical knowledge that can be used in production (chun 2007). technology can also be transferred from one place \\\\nto another or from a university to an enterprise (solo and rogers, 1972). the process that involves does not only \\\\nconcern about the transmission of knowledge but it is also relate to a learning process where technological knowledge \\\\nis continually accumulated into human resources that are engaged in production activities. a successful technology \\\\ntransfer will eventually lead to a deeper and wider accumulation of knowledge (shiowattana, 1991).  \\\\n\\\\nthe technology transfer concept is not only concern about the transfer of technological knowledge or information but \\\\nalso the technology recipient’s capability to learn and absorb technology into the production function (maskus, 2003). \\\\ndas (1987) argues that technology transfer can be of two types: 1) production of new product (product or embodied \\\\ntechnology transfer); and 2) more efficient production of existing products (process or disembodied technology \\\\ntransfer). hall and johnson (1970) define technology transfer as technology system in terms of whether it is embodied \\\\nin people (person-embodied), things (product-embodied) or processes (process-embodied). farhang (1997) suggests \\\\nthat transfer of technologies in cases of manufacturing processes requires not only the transfer of technological \\\\nknowledge in the form of process sheets, blueprints, products, and materials specification but also the transfer of \\\\nknow-how of high-calibre engineering and technical personnel.  \\\\n\\\\nin their extensive review on technology transfer literature from various disciplines, zhoa and reisman (1992) view \\\\nthat economists often define technology transfer on the basis of the properties of generic knowledge where the main \\\\nfocus is on variables that relate to production and design (arrow, 1969; dosi, 1988). for the sociologist, they tend to \\\\nlink technology transfer to innovation and view technology as ‘a design for instrumental action that reduces the \\\\nuncertainty of cause–effect relationships involved in achieving a desired outcome’ (rogers, 1962; rogers and \\\\nshoemaker, 1971). the anthropologists tend to broadly view technology transfer within the context of cultural change \\\\nand how technology affects changes. zhoa and reisman (1992) identify that bulk of the technology transfer literatures \\\\nhave also been contributed by the management researchers. they argue that business disciplines tend to concentrate on \\\\nissues such as stages of technology transfer, design and related stages and sales (teese, 1976; lake 1979). on the other \\\\nhand, the management researchers tend to focus on intra-sector transfer and relationships between technology transfer \\\\nand strategy (rabino, 1989; chiesa and manzini, 1996; laamanen and autio, 1996; lambe and spekman, 1997). \\\\nmost of the literatures on management have shifted their focus to alliances among enterprises and how alliances are \\\\ncrucial to the development of technology transfer (zhoa and reisman, 1992). table 2 below shows a list of technology \\\\ntransfer’s definitions and concepts which was gathered from various literatures on technology transfer.  \\\\n\\\\ninsert table 2 here \\\\n\\\\n4. technology transfer and knowledge transfer \\\\n\\\\nbased on the above definitions and concepts gathered from various literatures, the area of technology transfer is wide \\\\nand dynamic. the numbers of literatures on the subject are voluminous, extensive and varied in perspectives (kumar \\\\net al., 1999; zhoa and reisman, 1992). a review of literature reveals that past studies have made little attempt to \\\\nexplain the difference between knowledge transfer and technology transfer. many of the studies do not draw a clear \\\\nline between knowledge and technology transfer because most of the studies have regularly applied the term \\\\ninterchangeably in both technology transfer and knowledge transfer literatures; where majority have treated \\\\nknowledge transfer and technology transfer as having similar meaning. based on various definitions from different \\\\ndisciplines of research and background, majority of the researchers have affirmed that technology transfer is closely \\\\nassociated with the transfer of information, know-how, technical knowledge which is embodied in the products, \\\\nprocesses and managements. this is obviously because of the critical element of knowledge that underlies technology \\\\ntransfer (hall and johnson, 1970; kanyak, 1985; shiowattana, 1987; das, 1987; williams and gibson, 1990; hayden, \\\\n1992; gibson and rogers, 1994). other definitions of technology transfer, for example grosse (1996) makes direct \\\\nreference to knowledge as elements underlying technology transfer of product technology, process technology and \\\\nmanagement technology.  \\\\n\\\\nthere are many researchers who have attempted to explain, directly or indirectly, the relationship between technology \\\\ntransfer and knowledge transfer and some even tried to draw distinction between the two concepts. kogut and zander \\\\n(1992,1993), in their study on knowledge transfer within the multinationals (mncs), use both terms interchangeably \\\\nto establish a close association between technology transfer and knowledge transfer when suggesting that technology \\\\n\\\\n\\\\n\\\\nwww.ccsenet.org/ibr                     international business research                  vol. 5, no. 1; january 2012 \\\\n\\\\npublished by canadian center of science and education 65\\\\n\\\\ntransfer within mncs can be explained by the attributes of knowledge such as tacitness, codifiability and teachability. \\\\nsinani and meyer (2004), when studying the spillovers of technology transfer from fdi in estonia, make no \\\\ndistinction between technology transfer and knowledge transfer. sung and gibson (2000), in their study on levels and \\\\nkeys factor in knowledge and technology transfer, connote technology and knowledge transfer to have similar \\\\nmeaning. they suggest that knowledge and technology transfer as the movement of knowledge and technology \\\\nthrough some channels from one individual or organization to another. past studies have suggested that technology \\\\nand knowledge are inseparable. for example sahal (1981, 1982) argues that technology as ‘configuration’, observing \\\\nthat the transfer object, the technology must rely on a subjectively determined but specifiable set of processes and \\\\nproducts. it is no longer sufficient to simply focus on the product because it is not only the product that is being \\\\ntransferred but the knowledge of its use and application which are embedded in the products.  \\\\n\\\\nbozeman (2000), in his study on technology transfer and public policy, states that the approach by sahal (1981, 1982) \\\\nhas resolved a major analytical problem in distinguishing the technology and knowledge transfer. both technology \\\\nand knowledge transfer are inseparable because when a technological product is transferred or diffused the knowledge \\\\nupon which its composition is based is also transferred (bozeman, 2000). a recent study by li-hua (2006) on the \\\\neffectiveness of technology transfer in china indicates that the technology will not occur without knowledge transfer \\\\nas knowledge is the key to control technology. simonin (1999b), in the study of transfer of marketing know-how in \\\\nstrategic alliance, suggests that study on knowledge transfer turn almost invariably to technology transfer when \\\\nempirical investigation is in order. studies have shown that the tendency of the current studies have connected \\\\ntechnology directly with knowledge (dunning, 1994). in the context of technology transfer through fdi, kogut and \\\\nzander (1993) have explicitly indicated foreign direct investment is the transfer of knowledge, which embodies a \\\\nfirm’s advantage, underlies technology, production, marketing or other activities. although technology transfer and \\\\nknowledge transfer has been regularly used interchangeably in many literatures since they are highly interactive, \\\\nhowever, they serve different purposes. gopalakrishnan and santoro (2004) distinguish technology transfer and \\\\nknowledge transfer in term of their purposes when they argue that knowledge transfer focuses on a broader and have \\\\nmore inclusive construct which is directed more towards the “why” for change, whereas technology transfer focuses \\\\non a narrow and more targeted construct that usually embodies certain tools for changing the environment. even \\\\nthough there are distinctions between their purposes, majority of researchers agree that knowledge is the critical \\\\nelement that underlies technology transfer.  \\\\n\\\\n5. conclusion \\\\n\\\\nbased on the above discussion, both technology and technology transfer concepts encompass many different \\\\ninterpretations and views depending on the organizations’ objectives, research background, researchers, developers, \\\\nusers, research areas and disciplines and underlying perspective (theories). therefore, various parties are likely to hold \\\\ndifferent views and perceptions on these two concepts. this review could shed some dynamic ideas for future \\\\nresearchers to further identify, conceptualize and understand the underlying theories and perspectives which strongly \\\\ninfluence the previous, current, and future concept of technology transfer. such understanding is necessary to enable \\\\nthe interested parties (such as private sectors, government departments, academics, researchers and students) to relate \\\\nwith the practical and empirical aspects of various relevant theories which explain technology transfer concept. the \\\\nsimple explanation is that different perspectives/theories underlying technology transfer will have different theoretical \\\\narguments and insights, research problems, constructs, variables, and measurements.  \\\\n\\\\nreferences \\\\n\\\\nafriyie, k. (1988). a technology transfer methodology for developing joint production strategies in varying \\\\nsystems, in f. j. contractor and p. lorange (eds.). cooperative strategies in international business, 81-95. \\\\n\\\\nagmon, t., & von glinow, m. (1991). technology transfer in international business, oxford: oxford universities \\\\npress. \\\\n\\\\narrow, k. (1969). classificatory notes on the production and transmission of technological knowledge. american \\\\neconomic review, 244–250. \\\\n\\\\narrow k. j. (1962). economic welfare and the allocation of resources for invention, in: r. r. nelson, the rate and \\\\ndirection of inventive activity. princeton university press, new jersey.  \\\\n\\\\nautio, e., & laamanen, t. (1995). measurement and evaluation of technology transfer: review of technology \\\\ntransfer mechanisms and indicators. international journal of technology transfer management, 10(6), p. 643-664. \\\\n\\\\nbaronson, j. (1970). technology transfer through the international firms. american economic review papers and \\\\nproceedings, 435-440. \\\\n\\\\n\\\\n\\\\nwww.ccsenet.org/ibr                     international business research                  vol. 5, no. 1; january 2012 \\\\n\\\\n                                                          issn 1913-9004   e-issn 1913-9012 66\\\\n\\\\nblomstrom, m., & kokko, a. (1998). multinational corporations and spillovers. journal of economic surveys, 12(3), \\\\n247-77. http://dx.doi.org/10.1111/1467-6419.00056 \\\\n\\\\nbozeman, b. (2000). technology transfer and public policy: a review of research and theory. research policy, 29, \\\\n627-655. http://dx.doi.org/10.1016/s0048-7333(99)00093-1 \\\\n\\\\nburgelman, r. a., maidique, m. a., & wheelwright, s. c. (1996). strategic management of technology and \\\\ninnovation. (2nd ed.). chicago: i. l, irwin.  \\\\n\\\\ncameron, e. h. (1960). samuel slater: father of american manufacturers, portland, ma: the bond wheelwright \\\\ncompany. \\\\n\\\\ncaves, r. e. (1974). multinational firms, competition and productivity in host-country markets. economica, 41, \\\\n176-193. http://dx.doi.org/10.2307/2553765  \\\\n\\\\nchesnais, f. (1986). science, technology and competitiveness. oecd sti review, 1. \\\\n\\\\nchiesa, v., & manzini, r. (1996). managing knowledge transfer within multinational firms. international journal \\\\nof technology management, 12(4), 462–476. \\\\n\\\\nchudson, w. a (1971). the international transfer of commercial technology to developing countries. unitar \\\\nresearch reports no. 13 new york.  \\\\n\\\\nchun, c. l. (2007). modeling the technology transfer to taiwan from china. international research journal of \\\\nfinance and economics, 7, 48-66. \\\\n\\\\nchung, w. (2001). identifying technology transfer in foreign direct investment: influence of industry conditions \\\\nand investing firm motives. journal of international business studies, 32 (2), 211-229. \\\\nhttp://dx.doi.org/10.1057/palgrave.jibs.8490949 \\\\n\\\\ncusumano, m. a., & elenkov, d. (1994). linking international technology transfer with strategy and management: a \\\\nliterary commentary. research policy, 23(2), 195–215. http://dx.doi.org/10.1016/0048-7333(94)90053-1 \\\\n\\\\ndas, s. (1987). externalities and technology transfer through multinational corporations. journal of international \\\\neconomics, 22, 171-182. http://dx.doi.org/10.1016/0022-1996(87)90028-6 \\\\n\\\\ndaghfous, a. (2004). an empirical investigation of the roles of prior knowledge and learning activities in \\\\ntechnology transfer. technovation, 24, 939-953. http://dx.doi.org/10.1016/s0166-4972(03)00059-2 \\\\n\\\\nderakhshani, s. (1983). factors affecting success in international transfers of technology — a synthesis, and a test of \\\\na new contingency model. developing economies 21 (1983), 27–45. \\\\n\\\\ndosi, g. (1988). the nature of the innovation process. in: dosi, g. et al. (eds.). technical change and economic \\\\ntheory. london: pinter publishers.  \\\\n\\\\ndunning, j. h. (1994). multinational enterprises and the global of innovatory capacity. research policy, 23, 67-88. \\\\nhttp://dx.doi.org/10.1016/0048-7333(94)90027-2 \\\\n\\\\ndunning, j. h. (1981). alternative channels and modes of international resource transmission, in t. sagafi-nejad, \\\\nperlmutter, h., & moxon, r. (eds.). controlling international technology transfer: issues, perspectives and \\\\nimplications. new york: permagon.  \\\\n\\\\nernst, d., & kim, l. (2002). global production network, knowledge diffusion, and local capability formation. \\\\nresearch policy, 31, 1417-1429. http://dx.doi.org/10.1016/s0048-7333(02)00072-0 \\\\n\\\\nfarhang, m. (1997). managing technology transfer to china: conceptual framework and operational guidelines. \\\\ninternational marketing review, 14(2), 92 - 106. http://dx.doi.org/10.1108/02651339710170195 \\\\n\\\\nfoster, g. (1962). traditional cultures and the impact of technological change. new york: harper publishing.  \\\\n\\\\ngalbraith, j. k. (1972). the new industrial state. london, uk: andre deutsch. \\\\n\\\\ngibson, d. v., & rogers, e. m. (1994). r&d collaboration on trial: the microelectronics and computer \\\\ntechnology corporation. harvard business press. \\\\n\\\\ngibson, d. v., & smilor, w. (1991). key variables in technology transfer: a field – study based on empirical \\\\nanalysis. journal of engineering and technology management, 8, 287-312. \\\\nhttp://dx.doi.org/10.1016/0923-4748(91)90015-j \\\\n\\\\ngopalakrishnan, s., & santoro, m. d. (2004). distinguishing between knowledge transfer and technology transfer \\\\nactivities: the role of key organizational factors. ieee transaction on engineering management, 51(1), 57-69. \\\\nhttp://dx.doi.org/10.1109/tem.2003.822461 \\\\n\\\\n\\\\n\\\\nwww.ccsenet.org/ibr                     international business research                  vol. 5, no. 1; january 2012 \\\\n\\\\npublished by canadian center of science and education 67\\\\n\\\\ngoulet, d. (1989). the uncertain promise: value conflicts in technology transfer. new york: new horizons press. \\\\n\\\\ngrosse, r. (1996). international technology transfer in services. journal of international business studies, 27(4), \\\\n781-800. http://dx.doi.org/10.1057/palgrave.jibs.8490153 \\\\n\\\\nhall, g. r., & johnson, r. e. (1970). the technology factors in international trade. new york: colombia \\\\nuniversity press.  \\\\n\\\\nhawkins, r., & t. gladwin. (1981). conflicts in the international transfer of technology: a us home country view. in \\\\nsagafi-nejad et al.  \\\\n\\\\nhawthorne, e. p. (1971). the transfer of technology. paris: oedc. \\\\n\\\\nhayden, f. g. (1992). corporate networks, a us case study. rotterdam: erasmus university, conference on the \\\\ndynamics of the firm. \\\\n\\\\nhoffman, k., & girvan, n. (1990). managing international technology transfer: a strategic approach for \\\\ndeveloping, idrc. \\\\n\\\\njeannet, j. p., & liander, b. (1978). some patterns in the transfer of technology within multinational corporations. j. \\\\nint. business stud, 3, 108–118. http://dx.doi.org/10.1057/palgrave.jibs.8490672  \\\\n\\\\njones, r. (1970). the technology factors in international trade. new york: universities bureau of economics \\\\nresearch. \\\\n\\\\nkatz, j. m. (1984). echnological innovation, industrial organization and comparative advantages of latin american \\\\nmetalworking industries. london: macmillan.  \\\\n\\\\nkanyak, e. (1985). transfer of technology from developed countries: some insights from turkey. ct: quarum \\\\nbooks. \\\\n\\\\nkidder, t. (1981). the soul of a machine, massachusetts: little brown.  \\\\n\\\\nkogut, b., & zander, u. (1993). knowledge of the firm and the evolutionary theory of the multinational \\\\ncorporation. journal of international business studies, 24 (4), 625-646. \\\\nhttp://dx.doi.org/10.1057/palgrave.jibs.8490248 \\\\n\\\\nkogut, b., & zander, u. (1992). knowledge of the firm, combinative capabilities, and the replication of \\\\ntechnology. organization science, 3(3), 383-97. http://dx.doi.org/10.1287/orsc.3.3.383 \\\\n\\\\nkumar, v., kumar, u., & persaud, a. (1999). building technological capability through importing technology: the \\\\ncase of indonesian manufacturing industry. journal of technology transfer, 24, 81-96. \\\\nhttp://dx.doi.org/10.1023/a:1007728921126 \\\\n\\\\nlaamanen, t., & autio, e. (1996). dominant dynamic complementarities and technology-motivated acquisitions \\\\nof new technology-based firms. international journal of technology management, 12 (7–8), 769–786. \\\\n\\\\nlambe, c. j., & spekman, r. e. (1997). alliances, external technology acquisition, and discontinuous \\\\ntechnological change. journal of product innovation management, 14 (2), 102–116. \\\\nhttp://dx.doi.org/10.1016/s0737-6782(96)00077-x \\\\n\\\\nlake, a. (1979). technology creation and technology transfer by multinational firms. research in international \\\\nbusiness and finance, 1 (2), 137–177. \\\\n\\\\nlall, s. (1982). technological learning in the third world: some implications of technology exports. london: \\\\nfrances pinter.  \\\\n\\\\nlan, p., & young, s. (1996). international technology transfer examined at technology component level: a case \\\\nstudy in china. technovation, 16 (6), 277-286. http://dx.doi.org/10.1016/0166-4972(96)00005-3 \\\\n\\\\nlevin, m. (1996). technology transfer in organizational development: an investigation into the relationship \\\\nbetween technology transfer and organizational change. international journal of technology management, 2 (3), \\\\n297-308. \\\\n\\\\nlevin, m. (1993). technology transfer as a learning and development process: an analysis of norwegian \\\\nprogrammes on technology transfer. technovation, 13 (8), 497-518. \\\\nhttp://dx.doi.org/10.1016/0166-4972(93)90065-4 \\\\n\\\\nli-hua, r. (2006). examining the appropriateness and effectiveness of technology transfer in china. journal of \\\\ntechnology transfer in china, 1 (2), 208-223. http://dx.doi.org/10.1108/17468770610670992  \\\\n\\\\n\\\\n\\\\nwww.ccsenet.org/ibr                     international business research                  vol. 5, no. 1; january 2012 \\\\n\\\\n                                                          issn 1913-9004   e-issn 1913-9012 68\\\\n\\\\nlin, w. b. (2003). technology transfer as technological learning: a source of competitive advantage for firms \\\\nwith limited r & d resources. r & d management, 33 (3), 327-341. http://dx.doi.org/10.1111/1467-9310.00301.  \\\\n\\\\nlovell, s. a. (1998). technology transfer: testing a theoretical model of the human, machine, mission, \\\\nmanagement and medium components. unpublished msc. thesis. cranfield: college of aeronautics, cranfield \\\\nuniversity. \\\\n\\\\nmansfield, e. (1975). international technology transfer: forms, resource requirement and policies. american \\\\neconomic review, 65, 372-376. \\\\n\\\\nmackenzie, d., & wajcman, j. (1985). the social shaping of technology: how the refrigerator got its hum, milton \\\\nkeynes: open university press. \\\\n\\\\nmadeuf, b. (1984). international technology transfers and international technology payments: definitions, \\\\nmeasurements and firms\\' behaviour. research policy,13(3). \\\\n\\\\nmaskus, k. e. (2003). encouraging international technology transfer. unctad/ictsd capacity building project. \\\\non intellectual property rights and sustainable development. \\\\n\\\\nmerrill, r. (1968). the role of technology in cultural evolution. social biology, 19 (3), 246–256. \\\\n\\\\nmethe, d.t. (1991). technology competition in global industries. new york: quarum books.  \\\\n\\\\nnatarajan, & tan, j. m. (1992). the impact of mnc investments in malaysia, singapore and thailand. singapore: \\\\ninstitute of southeast asian studies,. \\\\n\\\\nnonaka, i. (1994). a dynamic theory of organizational knowledge creation. organization science, 5, 14–37. \\\\nhttp://dx.doi.org/10.1287/orsc.5.1.14 \\\\n\\\\npacey, a. (1983). the culture of technology. oxford: blackwell. \\\\n\\\\npavitt, k. (1985). patent statistics as indicators of innovative activities: possibilities and problems. scientometrics, 7, \\\\n77–99. http://dx.doi.org/10.1007/bf02020142 \\\\n\\\\nphillips, r. (2002). technology business incubators: how effective is technology transfer mechanisms? \\\\ntechnology in society, 24 (3), 299-316. http://dx.doi.org/10.1016/s0160-791x(02)00010-6 \\\\n\\\\npolanyi, m. (1967). the tacit dimension. ny: anchor, garden city.  \\\\n\\\\nputranto, k., stewart, d., & moore, g. (2003). international technology transfer of technology and distribution of \\\\ntechnology capabilities: the case of railway development in indonesia. technology in society, 25 (1), 42-53. \\\\nhttp://dx.doi.org/10.1016/s0160-791x(02)00035-0 \\\\n\\\\nrabino, s. (1989). high technology firms and factors influencing transfer of r & d facilities. journal of business \\\\nresearch. 18 (3), 297–312. \\\\n\\\\nradosevic, s. (1999). international technology transfer and catch-up in economic development. nothampton, ma: \\\\nedward edgar publishing.  \\\\n\\\\nreddy, n. m., & zhao, l. (1990). international technology transfer: a review. research policy, 19, 285-307. \\\\nhttp://dx.doi.org/10.1016/0048-7333(90)90015-x \\\\n\\\\nreisman, a. (2006). transfer of technologies: a cross-disciplinary taxonomy. the international journal of \\\\nmanagement science, 33, 189-202. \\\\n\\\\nrobock, s. h. (1980). the international technology transfer process. washington d.c: national academy of \\\\nsciences. \\\\n\\\\nroessner, j. d. (1993). what companies want from the federal labs. issues in science and technology, 10 (1), \\\\n37-42. \\\\n\\\\nrogers, e. m. (1962). diffusion of innovations. new york: the free press of glencoe.  \\\\n\\\\nrogers, e. m., & shoemaker, f. f. (1971). communication of innovations. a cross cultural approach. new york: \\\\nfree press.  \\\\n\\\\nrosenberg, n., & frischtak. c. (1985). international technology transfer: concepts, measures and comparisons. \\\\nnew york: praeger. \\\\n\\\\nsahal, d. (1982). the transfer and utilization of technical knowledge. lexington: lexington publishing. \\\\n\\\\nsahal, d. (1981). alternative conceptions of technology. research policy, 10, 2-24. \\\\nhttp://dx.doi.org/10.1016/0048-7333(81)90008-1 \\\\n\\\\n\\\\n\\\\nwww.ccsenet.org/ibr                     international business research                  vol. 5, no. 1; january 2012 \\\\n\\\\npublished by canadian center of science and education 69\\\\n\\\\nsazali, a.w., & raduan, c. r. (2011). the inter firm technology transfer in malaysia – a holistic approach. \\\\nsaarbrucken: vdm verlag publishing. \\\\n\\\\nsazali a. w., & raduan c. r. (2011). the handbook of inter firm technology transfer – an integrated \\\\nknowledge-based view and organizational learning perspective. germany: lap lambert academic \\\\npublishing. \\\\n\\\\nsinani, e., & meyer, k. e. (2004). spillovers of technology transfer from fdi: the case of estonia. journal of \\\\ncomparative economics, 32, 445-466. http://dx.doi.org/10.1016/j.jce.2004.03.002 \\\\n\\\\nsimonin b. l. (1999b). transfer of marketing know-how in international strategic alliances: an empirical \\\\ninvestigation of the role and antecedents of knowledge ambiguity. journal of international business studies, 30(3), \\\\n463–90. http://dx.doi.org/10.1057/palgrave.jibs.8490079 \\\\n\\\\nsherman, g. (1981) technology transfer innovation and international competitiveness, new york: john wiley & \\\\nsons.  \\\\n\\\\nshiowattana, p. (1991). transfer of japanese technology and management to the asean countries. tokyo: \\\\nuniversity of tokyo press.  \\\\n\\\\nsmith, d. k., & alexander, b. c. (1988). fumbling the future: how xerox invented, the ignored, the first personal \\\\ncomputer. new york: william morrow.  \\\\n\\\\nsolo, r. a., & rogers, e. m. (1972). inducing technological change for economic growth and development. east \\\\nlansing: michigan state university press. \\\\n\\\\nsolow, r. m. (1957). technical change and the aggregate production function. review of economics statistics, 39 \\\\n(3), 312-320. http://dx.doi.org/10.2307/1926047 \\\\n\\\\nstrassman, w. p. (1968). technological change and economic development: the manufacturing process of mexico \\\\nand puerto rico. ithaca: cornell university press. \\\\n\\\\nsung, t. k., & gibson, d. v. (2000). knowledge and technology transfer: key factors and levels. proceeding of \\\\n4th international conference on technology policy and innovation.  \\\\n\\\\nszulanski, g. (1996). exploring internal stickiness: impediments to the transfer of best practice within the firm, \\\\nstrategic management journal, 17, 27–43. \\\\n\\\\ntechakanont, k., & terdudonthan, t. (2004), evolution of inter-firm technology transfer and technological \\\\ncapability formation of local parts firms in the thai automobile industry. journal of technology innovation, 12 (2), \\\\n151-183. http://dx.doi.org/10.1080/19761597.2004.9668602 \\\\n\\\\nteece, d. (1986). transaction cost economics and the multinational enterprise: an assessment. journal of \\\\neconomic behavior and organization, 7, 21-46. http://dx.doi.org/10.1016/0167-2681(86)90020-x \\\\n\\\\nteece, d. (1977). time cost trade-off: elasticity estimates and determinants for international technology transfer \\\\nprojects. management science, 23 (8), 830-841. http://dx.doi.org/10.1287/mnsc.23.8.830 \\\\n\\\\nteese, d. (1976). the multinational and the resource cost of international technology transfer. ballinger: \\\\ncambridge, ma. \\\\n\\\\ntepstra, v., & david, k. (1985). the cultural environment of international business, cincinnati,, oh: southwestern \\\\npublishing co. \\\\n\\\\ntihanyi, l., & roath, a. s. (2002). technology transfer and institutional development in central and eastern europe. \\\\njournal of world business, 37, 188-198. http://dx.doi.org/10.1016/s1090-9516(02)00077-9 \\\\n\\\\nvan gigch, j. p. (1978). applied general systems theory. new york, ny: harper and row. \\\\n\\\\nwilliam, f., & gibson, d. v. (1990). technology transfer: a communication perspective. sage: beverly hills, ca. \\\\n\\\\nwoolgar, s. (1987). reconstruction man and machine: a note on sociological critiques of cognitivism. cambridge, \\\\nma: mit press.  \\\\n\\\\nzaltman, g., dundan, r., & holbeck, j. (1973). innovation and organizations, new york: wiley. \\\\n\\\\nzhao, l. m., & reisman, a. (1992). towards meta research on technology transfer. ieee transaction on \\\\nengineering management, 39 (1), 13-21. http://dx.doi.org/10.1109/17.119659 \\\\n\\\\n \\\\n\\\\n\\\\n\\\\nwww.ccsenet.org/ibr                     international business research                  vol. 5, no. 1; january 2012 \\\\n\\\\n                                                          issn 1913-9004   e-issn 1913-9012 70\\\\n\\\\ntable 1. various definitions of technology from previous literatures \\\\n\\\\n \\\\n\\\\nyear \\\\n\\\\n \\\\n\\\\nscholars \\\\n\\\\n \\\\n\\\\ndefinitions \\\\n\\\\n \\\\n\\\\n1968 merrill technology connotes the practical arts, bodies of skills, knowledge and procedures for making, using, and doing useful \\\\n\\\\nthings. \\\\n\\\\n1968 \\\\n\\\\n \\\\n\\\\nstrassman the tools, a stock-pile of utensils, but to a kind of tool-using behavior, a set of methods for making specific goods.  \\\\n\\\\n1970 jones the way in which the resources inputs are converted into commodities. \\\\n\\\\n1971 hawthorne the application of science to solve well-defined problems. \\\\n\\\\n1972 galbraith the systematic application of knowledge to practical tasks. \\\\n\\\\n1976 teese a set of knowledge or experience related to the production of a product or the implementation of a process. \\\\n\\\\n1981 hawkins and \\\\n\\\\ngladwin \\\\n\\\\nthe specialized knowledge pertaining to the production of the goods and services in organized economic activity, \\\\n\\\\nincluding the knowledge and skills required to manage a set of interrelated technical processes. \\\\n\\\\n1983 \\\\n\\\\n \\\\n\\\\npacey \\\\n\\\\n \\\\n\\\\nthe application of scientific and other organized knowledge to practical tasks by ordered systems that involve people \\\\n\\\\nand organizations, living things, and machines. \\\\n\\\\n1987 \\\\n\\\\n \\\\n\\\\n \\\\n\\\\nwoolgar an integration process of physical objects, the process of making the objects and the meaning associated with the \\\\n\\\\nphysical objects. these elements are not distinctive and separable factors, but form a seamless web that constitutes \\\\n\\\\ntechnology \\\\n\\\\n1989 goulet the application of science because of their special relationship. \\\\n\\\\n1991 methe a process where its origins and destination are connected and its dynamic nature is highlighted. \\\\n\\\\n1992 oecd a structure or a network due to various feedback loops between it and other sub-systems within a society, and to its \\\\n\\\\nobviously non-linear development projections \\\\n\\\\n1992 natarajan \\\\n\\\\nand tan \\\\n\\\\nthe knowledge or expertise that is required in the production or assembly of a given good. technology therefore \\\\n\\\\nembodied in the related machinery and utilized by a firm. \\\\n\\\\n1996 \\\\n\\\\n \\\\n\\\\n \\\\n\\\\nlevin \\\\n\\\\n \\\\n\\\\n \\\\n\\\\ntechnology is not really a ‘thing’; it is better characterized as an approach. it is the application of scientific principles to \\\\n\\\\nsolve practical problems. technology has been described as having three facets: material artifacts (things), the use of \\\\n\\\\nartifacts to pursue a goal, and the knowledge to use these artifacts. \\\\n\\\\n1996 \\\\n\\\\n \\\\n\\\\n \\\\n\\\\nburgelman et \\\\n\\\\nal. \\\\n\\\\nthe theoretical and practical knowledge, skills, and artifacts that can be used to develop products and services as well as \\\\n\\\\ntheir production and delivery systems. technology is embodied in people, materials, cognitive and physical processes, \\\\n\\\\nfacilities, machines and tools.  \\\\n\\\\n1998 \\\\n\\\\n \\\\n\\\\n \\\\n\\\\n2002 \\\\n\\\\nlovell \\\\n\\\\n \\\\n\\\\ntihanyi and \\\\n\\\\nroath \\\\n\\\\ntechnologies are separated into ‘product technologies’ (associated with the physical and engineering aspects of \\\\n\\\\nequipment) and ‘process technologies’ (associated with the processed by which problems are solved).  \\\\n\\\\ninformation such as a patent, know-how or trade secrets. conversely it can be modified as equipment, component \\\\n\\\\nassemblies/parts or as a final product. production techniques/processes, which require necessary skills to apply different \\\\n\\\\nmethods of production, represent a combination of tangible and intangible technology. technology can also include \\\\n\\\\ninformation that is not easily reproducible or transferable. \\\\n\\\\n2003 maskus \\\\n\\\\n \\\\n\\\\nthe information necessary to achieve a certain production outcome from a particular means of combining or processing \\\\n\\\\nselected inputs which include production processes, intra-firm organizational structures, management techniques, and \\\\n\\\\nmeans of finance, marketing method or any of its combination. technology may be codified in formulas, blueprints, \\\\n\\\\ndrawings, and patent applications or uncodified in the sense of requiring implicit know-how on the part of personnel. \\\\n\\\\n2006 reisman the development and application of tools, machines, materials and processes that help in solving human problems. \\\\n\\\\nsource: sazali and raduan (2011) \\\\n\\\\n \\\\n\\\\n\\\\n\\\\nwww.ccsenet.org/ibr                     international business research                  vol. 5, no. 1; january 2012 \\\\n\\\\npublished by canadian center of science and education 71\\\\n\\\\ntable 2. various definitions of technology transfer \\\\n\\\\nscholars viewpoints \\\\n\\\\nhall & johnson \\\\n\\\\n(1970) \\\\n\\\\na technology system in terms of whether it is embodied in people (person-embodied), things (product-embodied) or processes \\\\n\\\\n(process-embodied). \\\\n\\\\nrogers (1962) a process by which an organization adopts an innovation made by another organization. \\\\n\\\\nunctad(1973) the act of transferring the needed technical knowledge that has been designed and managed. \\\\n\\\\ngigch (1978) the transfer of ‘inventive activities’ to secondary users.  \\\\n\\\\njeannet & liander \\\\n\\\\n(1978) \\\\n\\\\ntechnology transfer consists of any element or combination of research, development and engineering transferred across \\\\n\\\\nnational borders.  \\\\n\\\\nsherman (1981) the application of technology to a new use or user.  \\\\n\\\\nderakhsahani \\\\n\\\\n(1983) \\\\n\\\\nan acquisition, development and utilization, of technological knowledge by a country other than in which this knowledge \\\\n\\\\noriginated. \\\\n\\\\nkanyak (1985) \\\\n\\\\n \\\\n\\\\nthe transmission of know-how to suit local conditions, with effective absorption and diffusion both within and from one \\\\n\\\\ncountry to another.  \\\\n\\\\nrodrigues (1985) an application of new technology to a new use or user. \\\\n\\\\ntepstra & david \\\\n\\\\n(1985) \\\\n\\\\na cultural system concerned with the relationships between human and their environment. \\\\n\\\\nshiowattana (1987) a learning process wherein technological knowledge is continually accumulated into human resources that are engaged in \\\\n\\\\nproduction activities; a successful technology transfer will eventually lead to a deeper and wider accumulation of knowledge.\\\\n\\\\nderakhshani (1987) a country’s acquisition, development and use of technical knowledge. \\\\n\\\\ndas (1987) \\\\n\\\\n \\\\n\\\\ntechnology transfer can be the production of new product (product or embodied technology transfer) and more efficient \\\\n\\\\nproduction of existing products (process or disembodied technology transfer).  \\\\n\\\\nhoffman & girvan \\\\n\\\\n(1990) \\\\n\\\\n \\\\n\\\\ntechnology transfer needs to be perceived in terms of achieving three core objectives: the introduction of new techniques by \\\\n\\\\nmeans of investment of new plants; the improvement of existing techniques and the generation of new knowledge. \\\\n\\\\nwilliams & gibson \\\\n\\\\n(1990) \\\\n\\\\nthe process of transferring the knowledge and concepts from developed to less-technically developed countries. \\\\n\\\\nhayden (1992) \\\\n\\\\n \\\\n\\\\nthe kind of knowledge that can be used as inputs, such as patents rights, scientific principles and r&d, but which must be able \\\\n\\\\nto be used to make products. \\\\n\\\\nzhoa & reisman, \\\\n\\\\n(1992) \\\\n\\\\n \\\\n\\\\nthe economists tend to define technology on the basis of the properties of generic knowledge, focusing particularly on \\\\n\\\\nvariables that relate to production and design. \\\\n\\\\nthe sociologists tend to link technology transfer to innovation and to view technology, including social technology as a design \\\\n\\\\nfor instrumental action that reduces the uncertainty of cause-effect relationships involved in achieving a desired outcome. \\\\n\\\\nthe anthropologists tend to view technology transfer broadly within the context of cultural change and the ways in which \\\\n\\\\ntechnology affects change. \\\\n\\\\nthe business disciplines tend to focus on stages of technology transfer, particularly relating design and production stages, as \\\\n\\\\nwell as sales, to transfer.  \\\\n\\\\nmanagement researchers are more likely than others to focus on intra-sector transfer and the relation technology transfer to \\\\n\\\\nstrategy. the recent researchers have focused on alliances pertain to the development and transfer of technology. \\\\n\\\\nroessner (1993) the movement of know-how, technical knowledge, or technology from one organizational setting to another. \\\\n\\\\nlevin (1993) \\\\n\\\\n \\\\n\\\\na socio-technical process implying the transfer of cultural skills accompanying the movement of machinery, equipment and \\\\n\\\\ntools. transfer of technology is both the physical movement of artifacts and also, at the same time, transfer of the embedded \\\\n\\\\ncultural skills. \\\\n\\\\ngibson & roger \\\\n\\\\n(1994) \\\\n\\\\nthe application of information where the process usually involves moving a technological innovation from an r&d \\\\n\\\\norganization to a receptor organization.  \\\\n\\\\nautio & laamanen \\\\n\\\\n(1995) \\\\n\\\\n \\\\n\\\\nan ‘intentional, goal oriented interaction between two or more social entities, during which the pool of technological \\\\n\\\\nknowledge remains stable or increases through the transfer of one or more components of technology. \\\\n\\\\nfarhang (1996) \\\\n\\\\n \\\\n\\\\ntransfer of technologies in cases of manufacturing processes requires not only the transfer of technological knowledge in the \\\\n\\\\nform of process sheets, blueprints, products, and materials specification, but also the transfer of know-how of high-calibre \\\\n\\\\nengineering and technical personnel. \\\\n\\\\nphillips (2002) the process by which ideas and concepts that move from the laboratory to the market place. \\\\n\\\\nmascus (2003) \\\\n\\\\n \\\\n\\\\nany process by which one party gains access to another’s technical information and successfully learn and absorbs it into the \\\\n\\\\nproduction function. \\\\n\\\\nsource: sazali and raduan (2011) \\\\n\\\\nview publication statsview publication stats\\\\n\\\\nhttps://www.researchgate.net/publication/318015152\\\\n\\\\n\", 200])'"
      ]
     },
     "execution_count": 40,
     "metadata": {},
     "output_type": "execute_result"
    }
   ],
   "source": [
    "textopdftrim"
   ]
  },
  {
   "cell_type": "code",
   "execution_count": 41,
   "metadata": {},
   "outputs": [
    {
     "data": {
      "text/plain": [
       "['published by canadian center of science and education 63',\n",
       " 'published by canadian center of science and education 65',\n",
       " 'published by canadian center of science and education 67',\n",
       " 'published by canadian center of science and education 69',\n",
       " 'published by canadian center of science and education 71']"
      ]
     },
     "execution_count": 41,
     "metadata": {},
     "output_type": "execute_result"
    }
   ],
   "source": [
    "re.findall(r'Published by Canadian Center of Science and Education [0-9]+'.lower(), textopdftrim)"
   ]
  },
  {
   "cell_type": "code",
   "execution_count": 42,
   "metadata": {
    "colab": {
     "base_uri": "https://localhost:8080/",
     "height": 200
    },
    "id": "gC1dY0l3Ddfz",
    "outputId": "bacf64e0-ea41-48e6-afd3-8c0c31224cd2"
   },
   "outputs": [
    {
     "data": {
      "text/plain": [
       "'fiable set of processes and products. the current studies on  nthe technology transfer have connected technology directly with knowledge and more attention is given to the process  nof research and development (dunning, 1994). by scrutinizing the technology definition, there are two basic  ncomponents that can be identified: 1)  knowledge  or technique; and 2)  doing things . technology is always  nconnected with obtaining certain result, resolving certain problems, completing certain tasks using particular skills,  nemploying knowledge and exploiting assets (lan and young, 1996). the concept of technology does not only relate to  nthe technology that embodies in the product but it is also associated with the knowledge or information of it use,  napplication and the process in developing the product (lovell, 1998; bozeman, 2000).   n nthe early concept of technology as information holds that the technology is generally applicable and easy to reproduce  nand reuse (arrow, 1962). however'"
      ]
     },
     "execution_count": 42,
     "metadata": {},
     "output_type": "execute_result"
    }
   ],
   "source": [
    "textopdftrim2[4000:5000]"
   ]
  },
  {
   "cell_type": "markdown",
   "metadata": {
    "id": "dcAo_X9DDk5o"
   },
   "source": [
    "Esta limpieza no logra el resultado exacto que buscamos... ¿cómo mejorarlo?"
   ]
  },
  {
   "cell_type": "code",
   "execution_count": 43,
   "metadata": {
    "id": "lEjzQfbhJSwG"
   },
   "outputs": [],
   "source": [
    "##aqui va tu codigo que mejora los resultados anteriores##"
   ]
  },
  {
   "cell_type": "markdown",
   "metadata": {
    "id": "vIwNebLpJIt7"
   },
   "source": [
    "Tika puede importar un amplio conjunto de formatos, entre los cuales están los populares formatos de Office. Importemos un Power Point."
   ]
  },
  {
   "cell_type": "code",
   "execution_count": 44,
   "metadata": {
    "colab": {
     "base_uri": "https://localhost:8080/",
     "height": 109
    },
    "id": "1a7gR3f4JcEP",
    "outputId": "a36c1a08-3569-420b-9b0f-4964c1b10f2f"
   },
   "outputs": [
    {
     "data": {
      "text/plain": [
       "\"e.tika.parser.defaultparser', 'org.apache.tika.parser.image.imageparser'], ['org.apache.tika.parser.defaultparser', 'org.apache.tika.parser.xml.dcxmlparser'], ['org.apache.tika.parser.defaultparser', 'org.apache.tika.parser.jpeg.jpegparser']], 'x-tika:content_handler': ['totextcontenthandler', 'totextcontenthandler'], 'x-tika:embedded_depth': ['0', '1', '1', '1', '1', '1', '1'], 'x-tika:parse_time_millis': ['352', '35', '3', '1', '2', '3', '16'], 'cp:revision': '1', 'creator': 'jorge andres alva\""
      ]
     },
     "execution_count": 44,
     "metadata": {},
     "output_type": "execute_result"
    }
   ],
   "source": [
    "pptbase=parser.from_file(\"prueba_nlp.pptx\")\n",
    "textoppt= str(pptbase.values()).lower()\n",
    "textoppt[1000:1500]"
   ]
  },
  {
   "cell_type": "code",
   "execution_count": 45,
   "metadata": {
    "colab": {
     "base_uri": "https://localhost:8080/",
     "height": 109
    },
    "id": "o3nyzKOjJ223",
    "outputId": "c05a02ab-266d-46fe-9f9d-54fa1c05b28f"
   },
   "outputs": [
    {
     "data": {
      "text/plain": [
       "\"ción del\\\\nlenguaje\\\\n\\\\n\\\\n\\\\n\\\\n\\\\nutilización del\\\\nlenguaje como\\\\npredictor\\\\n\\\\n\\\\n\\\\naplicaciones clásicas en comprensión del lenguaje natural\\\\ntraducción automática\\\\n01\\\\n02\\\\n03\\\\n04\\\\n\\\\n\\\\n\\\\ngeneración de resúmenes\\\\nhallazgo de abstracciones y relaciones (conocimiento)\\\\nsentiment analysis / opinión mining\\\\n05\\\\nmodelado de tópicos /topic detection\\\\n\\\\n\\\\n\\\\n\\\\n\\\\n\\\\n\\\\n\\\\n\\\\n\\\\n\\\\n\\\\n\\\\n\\\\n\\\\n\\\\n\\\\n\\\\n\\\\n\\\\n\\\\n\\\\n\\\\n\\\\n\\\\n\\\\n\\\\n\\\\n\\\\n\\\\n\\\\n\\\\n/docprops/thumbnail.jpeg\\\\n\\\\n', 200])\""
      ]
     },
     "execution_count": 45,
     "metadata": {},
     "output_type": "execute_result"
    }
   ],
   "source": [
    "textoppt[6500:]"
   ]
  },
  {
   "cell_type": "markdown",
   "metadata": {
    "id": "rF91zcu4GJU9"
   },
   "source": [
    "### Lectura de texto en imágenes\n",
    "La lectura de texto en imágenes es en si misma una aplicación de machine learning. Tesseract es el motor más usado de reconocimiento óptico de caracteres"
   ]
  },
  {
   "cell_type": "code",
   "execution_count": 46,
   "metadata": {
    "colab": {
     "base_uri": "https://localhost:8080/"
    },
    "id": "P0BqKS69H2WR",
    "outputId": "6abb2584-0ff5-4fd6-deb9-ba890e6c49b8"
   },
   "outputs": [],
   "source": [
    "#!sudo apt install tesseract-ocr"
   ]
  },
  {
   "cell_type": "code",
   "execution_count": 43,
   "metadata": {
    "colab": {
     "base_uri": "https://localhost:8080/",
     "height": 419
    },
    "id": "kcDo2vl6srjc",
    "outputId": "dda4fce4-53da-40a9-c2cd-c14a67f863a9"
   },
   "outputs": [
    {
     "name": "stdout",
     "output_type": "stream",
     "text": [
      "Collecting pytesseract\n",
      "  Downloading pytesseract-0.3.9-py2.py3-none-any.whl (14 kB)\n",
      "Requirement already satisfied: Pillow>=8.0.0 in /home/jest/anaconda3/envs/javeriana_tf/lib/python3.9/site-packages (from pytesseract) (9.0.1)\n",
      "Requirement already satisfied: packaging>=21.3 in /home/jest/anaconda3/envs/javeriana_tf/lib/python3.9/site-packages (from pytesseract) (21.3)\n",
      "Requirement already satisfied: pyparsing!=3.0.5,>=2.0.2 in /home/jest/anaconda3/envs/javeriana_tf/lib/python3.9/site-packages (from packaging>=21.3->pytesseract) (3.0.7)\n",
      "Installing collected packages: pytesseract\n",
      "Successfully installed pytesseract-0.3.9\n"
     ]
    }
   ],
   "source": [
    "#! pip install pytesseract"
   ]
  },
  {
   "cell_type": "code",
   "execution_count": 47,
   "metadata": {
    "id": "tn9H3k_qG6it"
   },
   "outputs": [],
   "source": [
    "import pytesseract\n",
    "from PIL import Image"
   ]
  },
  {
   "cell_type": "code",
   "execution_count": 50,
   "metadata": {
    "colab": {
     "base_uri": "https://localhost:8080/"
    },
    "id": "47IIlYZiHCPe",
    "outputId": "53300345-6d24-4569-b48a-45051eff4e7f"
   },
   "outputs": [
    {
     "name": "stdout",
     "output_type": "stream",
     "text": [
      "\n"
     ]
    }
   ],
   "source": [
    "#imagen=\"cognitive biases.jpeg\"\n",
    "#imagen = \"meme_with_text.jpeg\"\n",
    "#imagen = \"imagen_with_text.png\"\n",
    "imagen = \"jesus_6.png\"\n",
    "#magen = \"cognitive_image.jpeg\"\n",
    "texto_imagen=pytesseract.image_to_string(Image.open(imagen),lang=\"eng\")\n",
    "#texto_imagen\n",
    "print(texto_imagen)"
   ]
  },
  {
   "cell_type": "markdown",
   "metadata": {
    "id": "ssgdlOi_KS2y"
   },
   "source": [
    "###Textos en html\n",
    "Otro de los tipos más usados de formato cuando de importar texto se trata es html, el utilzado en las páginas web y que puede ser abierto en navegadores. Importarlo es tan sencillo como un archivo de texto. Sin embargo, el desafío del html es también la limpieza, dados los etiquetados especiales de formato. Por ello existen librerías especializadas para esto."
   ]
  },
  {
   "cell_type": "code",
   "execution_count": 51,
   "metadata": {
    "colab": {
     "base_uri": "https://localhost:8080/"
    },
    "id": "k4mNtTQ-MVeV",
    "outputId": "19091cc8-b7df-4682-d07b-2745c1373572"
   },
   "outputs": [
    {
     "name": "stdout",
     "output_type": "stream",
     "text": [
      "<class 'str'> 124556\n"
     ]
    }
   ],
   "source": [
    "import bs4\n",
    "from bs4 import BeautifulSoup\n",
    "#trae=open(\"spanishText_10000_15000\",encoding=\"latin-1\")\n",
    "trae = open ('html_example.html', encoding= 'latin-1')\n",
    "wiki=trae.read()\n",
    "print(type(wiki), len(wiki))"
   ]
  },
  {
   "cell_type": "code",
   "execution_count": 52,
   "metadata": {
    "colab": {
     "base_uri": "https://localhost:8080/",
     "height": 127
    },
    "id": "2qDyb-1rNhVL",
    "outputId": "e8bc9231-b14f-4693-a41c-c86a1bc93482"
   },
   "outputs": [
    {
     "data": {
      "text/plain": [
       "'<body>\\n<header class=\"site-header\">\\n<div class=\"site-header-base\">\\n<div class=\"site-logo\">\\n<a title=\"Quackit Homepage\" target=\"_top\" href=\"https://www.quackit.com/\"><img src=\"/pix/quackit_logo_watermark.png\" width=\"87\" height=\"33\" alt=\"Quackit Logo\"></a>\\n</div>\\n<button id=\"site-nav-toggler\" class=\"site-nav-toggler\" aria-expanded=\"false\" aria-controls=\"site-nav\">\\n<span class=\"sr-only\">Toggle navigation</span>\\nâ\\x98°\\n</button>\\n</div>\\n<nav id=\"site-nav\" class=\"site-nav\">\\n<div class=\"site-links\">\\n<ul>\\n'"
      ]
     },
     "execution_count": 52,
     "metadata": {},
     "output_type": "execute_result"
    }
   ],
   "source": [
    "wiki[0:500]"
   ]
  },
  {
   "cell_type": "code",
   "execution_count": 53,
   "metadata": {
    "colab": {
     "base_uri": "https://localhost:8080/",
     "height": 145
    },
    "id": "jlPSHOEvNziG",
    "outputId": "649b8173-b82d-4c38-94ef-e05ea2149d66"
   },
   "outputs": [
    {
     "data": {
      "text/plain": [
       "'\\n\\n\\n\\n\\n\\n\\nToggle navigation\\nâ\\x98°\\n\\n\\n\\n\\n\\n Home\\nHTML\\nCSS\\nScripting\\nDatabase\\n\\n\\n\\n\\n\\n\\n\\n\\n\\n\\n\\n\\n\\n\\n\\n\\n\\nHTML Text Examples\\n\\n\\n\\n\\n\\nBack to HTML Examples List\\nThis page contains HTML examples of text - examples of text-specific code that you can use for your own website. \\nTo use the code, copy it straight from the text box and paste it into your own website. Feel free to modify it as required.\\n\\n\\n\\n\\n\\n\\n\\n\\n\\n Run\\n\\n\\n\\nStack editor\\n\\n\\nUnstack editor\\n\\n\\n\\n\\n\\n<h1>Heading 1</h1>\\n<h2>Heading 2</h2>\\n<h3>Heading 3</h3>\\n<h4>Heading 4</h4'"
      ]
     },
     "execution_count": 53,
     "metadata": {},
     "output_type": "execute_result"
    }
   ],
   "source": [
    "wikilimpio = BeautifulSoup(wiki, \"html.parser\").text\n",
    "#alternativa: lxml. Puede necesitar ser instalado\n",
    "wikilimpio[0:500]"
   ]
  },
  {
   "cell_type": "markdown",
   "metadata": {
    "id": "K27W7yDvOQET"
   },
   "source": [
    "Esta librería permite también navegar la estructura de la página web."
   ]
  },
  {
   "cell_type": "code",
   "execution_count": 54,
   "metadata": {
    "colab": {
     "base_uri": "https://localhost:8080/"
    },
    "id": "JongXK3POWS5",
    "outputId": "bebb3ff3-e8b7-43ed-f0b9-3cd40c7c1412"
   },
   "outputs": [
    {
     "name": "stdout",
     "output_type": "stream",
     "text": [
      "None\n"
     ]
    }
   ],
   "source": [
    "wikitree=BeautifulSoup(wiki, \"html.parser\")\n",
    "print(wikitree.title)"
   ]
  },
  {
   "cell_type": "code",
   "execution_count": 56,
   "metadata": {
    "colab": {
     "base_uri": "https://localhost:8080/"
    },
    "id": "khAt-pOaPVGr",
    "outputId": "f6beffa6-34f5-4cef-9d60-8fe6d23831ef"
   },
   "outputs": [
    {
     "data": {
      "text/plain": [
       "[<a href=\"https://www.quackit.com/\" target=\"_top\" title=\"Quackit Homepage\"><img alt=\"Quackit Logo\" height=\"33\" src=\"/pix/quackit_logo_watermark.png\" width=\"87\"/></a>,\n",
       " <a href=\"https://www.quackit.com\"><i class=\"fa fa-home\"></i> <span class=\"sr-only\">Home</span></a>,\n",
       " <a href=\"https://www.quackit.com/html/\">HTML</a>,\n",
       " <a href=\"https://www.quackit.com/css/\">CSS</a>,\n",
       " <a href=\"https://www.quackit.com/scripting/\">Scripting</a>,\n",
       " <a href=\"https://www.quackit.com/database/\">Database</a>,\n",
       " <a href=\"/html/examples/\">Back to HTML Examples List</a>,\n",
       " <a href=\"/html/tags/html_h1_tag.cfm\"><code>&lt;h1&gt;</code></a>,\n",
       " <a href=\"/html/tags/html_h2_tag.cfm\"><code>&lt;h2&gt;</code></a>,\n",
       " <a href=\"/html/tags/html_h3_tag.cfm\"><code>&lt;h4&gt;</code></a>,\n",
       " <a href=\"/html/tags/html_h4_tag.cfm\"><code>&lt;h4&gt;</code></a>,\n",
       " <a href=\"/html/tags/html_h5_tag.cfm\"><code>&lt;h5&gt;</code></a>,\n",
       " <a href=\"/html/tags/html_h6_tag.cfm\"><code>&lt;h6&gt;</code></a>,\n",
       " <a href=\"/html/tags/html_p_tag.cfm\">HTML <code>&lt;p&gt;</code> tag</a>,\n",
       " <a href=\"/html/tags/html_br_tag.cfm\"><code>&lt;br&gt;</code></a>,\n",
       " <a href=\"/html/tags/html_b_tag.cfm\"><code>&lt;b&gt;</code></a>,\n",
       " <a href=\"/html/tags/html_i_tag.cfm\"><code>&lt;i&gt;</code></a>,\n",
       " <a href=\"/html/codes/color/\">HTML Color</a>,\n",
       " <a href=\"/css/properties/css_color.cfm\">CSS <code>color</code> Property</a>,\n",
       " <a href=\"/css/properties/css_background-color.cfm\">CSS <code>background-color</code> Property</a>,\n",
       " <a href=\"/html/codes/html_text_color_code.cfm\">Text Color</a>,\n",
       " <a href=\"/css/css_color_codes.cfm\">CSS Color Codes</a>,\n",
       " <a href=\"/html/codes/html_font_size_code.cfm\">Font Size Code</a>,\n",
       " <a href=\"/html/codes/text/\">HTML Text</a>,\n",
       " <a href=\"/css/properties/css_font-size.cfm\">CSS <code>font-size</code> Property</a>,\n",
       " <a href=\"/css/properties/css_font-family.cfm\">CSS <code>font-family</code></a>,\n",
       " <a href=\"/html/html_font_code.cfm\">Font Code</a>,\n",
       " <a href=\"/html/tags/html_pre_tag.cfm\"><code>&lt;pre&gt;</code></a>,\n",
       " <a href=\"/html/tags/html_tt_tag.cfm\"><code>&lt;tt&gt;</code></a>,\n",
       " <a href=\"/html/tags/html_cite_tag.cfm\"><code>&lt;cite&gt;</code></a>,\n",
       " <a href=\"/html/tags/html_em_tag.cfm\"><code>&lt;em&gt;</code></a>,\n",
       " <a href=\"/html/tags/html_code_tag.cfm\"><code>&lt;code&gt;</code></a>,\n",
       " <a href=\"/html/tags/html_big_tag.cfm\"><code>&lt;big&gt;</code></a>,\n",
       " <a href=\"/html/tags/html_small_tag.cfm\"><code>&lt;small&gt;</code></a>,\n",
       " <a href=\"/html/tags/html_blockquote_tag.cfm\"><code>&lt;blockquote&gt;</code></a>,\n",
       " <a href=\"/html/tags/html_del_tag.cfm\"><code>&lt;del&gt;</code></a>,\n",
       " <a href=\"/html/tags/html_ins_tag.cfm\"><code>&lt;ins&gt;</code></a>,\n",
       " <a href=\"/html/tags/html_kbd_tag.cfm\"><code>&lt;kbd&gt;</code></a>,\n",
       " <a href=\"/html/tags/html_q_tag.cfm\"><code>&lt;q&gt;</code></a>,\n",
       " <a href=\"/html/tags/html_samp_tag.cfm\"><code>&lt;samp&gt;</code></a>,\n",
       " <a href=\"/html/tags/html_var_tag.cfm\"><code>&lt;var&gt;</code></a>,\n",
       " <a href=\"/html/tags/html_dfn_tag.cfm\"><code>&lt;dfn&gt;</code></a>,\n",
       " <a href=\"/html/examples/index.cfm\" title=\"Full list of HTML examples\">All HTML Examples</a>,\n",
       " <a href=\"https://www.quackit.com/html/examples/\">HTML Examples</a>,\n",
       " <a href=\"/html/examples/html_text_examples.cfm\">HTML Text Examples</a>,\n",
       " <a href=\"/html/examples/html_tables_examples.cfm\">HTML Tables Examples</a>,\n",
       " <a href=\"/html/examples/html_lists_examples.cfm\">HTML Lists Examples</a>,\n",
       " <a href=\"/html/examples/html_links_examples.cfm\">HTML Links Examples</a>,\n",
       " <a href=\"/html/examples/html_images_examples.cfm\">HTML Images Examples</a>,\n",
       " <a href=\"/html/examples/html_forms_examples.cfm\">HTML Forms Examples</a>,\n",
       " <a href=\"https://www.quackit.com/html/\">HTML Reference</a>,\n",
       " <a href=\"https://www.quackit.com/html/tags/\" title=\"Alphabetical list of all HTML tags\">HTML Tags</a>,\n",
       " <a href=\"https://www.quackit.com/html/codes/\" title=\"\">HTML Codes</a>,\n",
       " <a href=\"https://www.quackit.com/html/templates/\" title=\"\">HTML Templates</a>,\n",
       " <a href=\"https://www.quackit.com/html/html_editors/\">HTML Editors</a>,\n",
       " <a href=\"https://www.quackit.com/html/tutorial/\" title=\"\">HTML Tutorial</a>,\n",
       " <a href=\"https://www.quackit.com/create-a-website/\" title=\"\">Create a Website</a>,\n",
       " <a href=\"/character_sets/\">Character Set Reference</a>,\n",
       " <a href=\"/\"><i class=\"fa fa-home\"></i> Home</a>,\n",
       " <a href=\"/about.cfm\" rel=\"nofollow\">About</a>,\n",
       " <a href=\"/contact.cfm\" rel=\"nofollow\">Contact</a>,\n",
       " <a href=\"/terms_of_use.cfm\" rel=\"nofollow\">Terms of Use</a>,\n",
       " <a href=\"/privacy_policy.cfm\" rel=\"nofollow\">Privacy Policy</a>,\n",
       " <a class=\"lb-prev\" href=\"\"></a>,\n",
       " <a class=\"lb-next\" href=\"\"></a>,\n",
       " <a class=\"lb-cancel\"></a>,\n",
       " <a class=\"lb-close\"></a>]"
      ]
     },
     "execution_count": 56,
     "metadata": {},
     "output_type": "execute_result"
    }
   ],
   "source": [
    "wikitree.find_all('a')"
   ]
  }
 ],
 "metadata": {
  "application/vnd.databricks.v1+notebook": {
   "dashboards": [],
   "language": "python",
   "notebookName": "NLP-1",
   "notebookOrigID": 441809787516086,
   "widgets": {}
  },
  "colab": {
   "name": "importacion_y_preparacion.ipynb",
   "provenance": []
  },
  "kernelspec": {
   "display_name": "Python 3 (ipykernel)",
   "language": "python",
   "name": "python3"
  },
  "language_info": {
   "codemirror_mode": {
    "name": "ipython",
    "version": 3
   },
   "file_extension": ".py",
   "mimetype": "text/x-python",
   "name": "python",
   "nbconvert_exporter": "python",
   "pygments_lexer": "ipython3",
   "version": "3.8.13"
  }
 },
 "nbformat": 4,
 "nbformat_minor": 4
}
