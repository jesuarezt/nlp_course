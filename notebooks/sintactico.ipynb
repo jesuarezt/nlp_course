{
  "nbformat": 4,
  "nbformat_minor": 0,
  "metadata": {
    "application/vnd.databricks.v1+notebook": {
      "notebookName": "NLP-1",
      "dashboards": [],
      "language": "python",
      "widgets": {},
      "notebookOrigID": 441809787516086
    },
    "colab": {
      "name": "sintactico.ipynb",
      "provenance": []
    },
    "language_info": {
      "name": "python"
    },
    "kernelspec": {
      "name": "python3",
      "display_name": "Python 3"
    }
  },
  "cells": [
    {
      "cell_type": "markdown",
      "metadata": {
        "application/vnd.databricks.v1+cell": {
          "title": "",
          "showTitle": false,
          "inputWidgets": {},
          "nuid": "ef359ab8-3e03-4b09-9848-5ff06f0c4591"
        },
        "id": "SGICi6F4EVEi"
      },
      "source": [
        "# Elementos sintácticos\n",
        "Vamos a revisar algunos elementos sintácticos para el procesamiento de lenguaje natural, con foco en parte del discurso (POS) y *dependency parsing*"
      ]
    },
    {
      "cell_type": "code",
      "metadata": {
        "application/vnd.databricks.v1+cell": {
          "title": "",
          "showTitle": false,
          "inputWidgets": {},
          "nuid": "f42f2b73-7b48-4b4c-8012-dd55d6152da7"
        },
        "id": "HjYl6qlsEVEu"
      },
      "source": [
        "import os, re, string\n",
        "import nltk\n",
        "import spacy\n",
        "import pandas as pd\n",
        "import numpy, matplotlib\n",
        "import wordcloud\n",
        "import matplotlib.pyplot as plt\n",
        "from wordcloud import WordCloud"
      ],
      "execution_count": 1,
      "outputs": []
    },
    {
      "cell_type": "markdown",
      "metadata": {
        "application/vnd.databricks.v1+cell": {
          "title": "",
          "showTitle": false,
          "inputWidgets": {},
          "nuid": "a7fb1144-26b0-42a8-83bc-c2e85da923a1"
        },
        "id": "_S1QVLO0EVE2"
      },
      "source": [
        "## Importación del documento \n",
        "\n",
        "Importamos y preparamos de forma básica el documento"
      ]
    },
    {
      "cell_type": "code",
      "metadata": {
        "application/vnd.databricks.v1+cell": {
          "title": "",
          "showTitle": false,
          "inputWidgets": {},
          "nuid": "122a5b9a-63e1-4574-bf3a-7b8f5f944cd0"
        },
        "id": "qc2Om6ZAEVE3",
        "colab": {
          "base_uri": "https://localhost:8080/",
          "height": 200
        },
        "outputId": "057a7a3d-1dc8-4128-ce6e-d1d334300122"
      },
      "source": [
        "\n",
        "abre=open(\"nuevo_testamento_valera.txt\",encoding=\"UTF-8\")\n",
        "base=abre.read()\n",
        "##inicio y final\n",
        "inicio=\"HEBREO Y GRIEGO\"\n",
        "init=base.find(inicio)\n",
        "finale=base.find(\"The first pass\")\n",
        "base2=base[init+len(inicio):finale]\n",
        "##limpieza\n",
        "base2a = re.sub (\"\\n|\\t\",\" \",base2)\n",
        "##paso a minusculas\n",
        "base3=base2a.lower()\n",
        "base3[0:1000]\n",
        "\n"
      ],
      "execution_count": 2,
      "outputs": [
        {
          "output_type": "execute_result",
          "data": {
            "text/plain": [
              "'    capítulo  1          1 en el principio era el verbo, y el verbo era con dios, y el verbo era dios.          2 este era en el principio con dios.          3 todas las cosas por él fueron hechas; y sin él nada de lo que es hecho, fué hecho.          4 en él estaba la vida, y la vida era la luz de los hombres.          5 y la luz en las tinieblas resplandece; mas las tinieblas no la comprendieron.          6 fué un hombre enviado de dios, el cual se llamaba juan.          7 este vino por testimonio, para que diese testimonio de la luz, para que todos creyesen por él.          8 no era él la luz, sino para que diese testimonio de la luz.          9 [aquél] era la luz verdadera, que alumbra á todo hombre que viene á este mundo.          10 en el mundo estaba, y el mundo fué hecho por él; y el mundo no le conoció.          11 a lo suyo vino, y los suyos no le recibieron.          12 mas á todos los que le recibieron, dióles potestad de ser hechos hijos de dios, á los que creen en su nomb'"
            ],
            "application/vnd.google.colaboratory.intrinsic+json": {
              "type": "string"
            }
          },
          "metadata": {},
          "execution_count": 2
        }
      ]
    },
    {
      "cell_type": "markdown",
      "metadata": {
        "application/vnd.databricks.v1+cell": {
          "title": "",
          "showTitle": false,
          "inputWidgets": {},
          "nuid": "ee260df6-30be-4856-97e7-a09c3e2c8620"
        },
        "id": "iOQIdU84EVFK"
      },
      "source": [
        "##Preparación lexicomorfológica\n",
        "Vamos a separar nuestras unidades del vocabulario"
      ]
    },
    {
      "cell_type": "code",
      "metadata": {
        "application/vnd.databricks.v1+cell": {
          "title": "",
          "showTitle": false,
          "inputWidgets": {},
          "nuid": "b6fa6f2b-e02e-4652-a5d4-6475227eed9b"
        },
        "id": "dFwoLhYAEVFK",
        "colab": {
          "base_uri": "https://localhost:8080/"
        },
        "outputId": "00a08daa-ba0e-4664-a67e-07425608204c"
      },
      "source": [
        "nltk.download(\"punkt\")\n",
        "fichas2=nltk.tokenize.word_tokenize(base3,language=\"spanish\")\n",
        "libro1=nltk.Text(fichas2)\n",
        "\n"
      ],
      "execution_count": 3,
      "outputs": [
        {
          "output_type": "stream",
          "name": "stderr",
          "text": [
            "[nltk_data] Downloading package punkt to /root/nltk_data...\n",
            "[nltk_data]   Unzipping tokenizers/punkt.zip.\n"
          ]
        }
      ]
    },
    {
      "cell_type": "markdown",
      "source": [
        "Preparamos nuestros stopwords"
      ],
      "metadata": {
        "id": "Zidyi8PnRcGk"
      }
    },
    {
      "cell_type": "code",
      "metadata": {
        "application/vnd.databricks.v1+cell": {
          "title": "",
          "showTitle": false,
          "inputWidgets": {},
          "nuid": "5edb1f96-a79a-4b3a-87e0-615eb5369343"
        },
        "id": "9M-2QtnzEVFQ",
        "colab": {
          "base_uri": "https://localhost:8080/"
        },
        "outputId": "1912f082-4805-47f6-e81a-541fbe602479"
      },
      "source": [
        "nltk.download(\"stopwords\")\n",
        "from nltk.corpus import stopwords\n",
        "misstop=stopwords.words(\"spanish\")+[\"á\",\"Y\"]\n"
      ],
      "execution_count": 4,
      "outputs": [
        {
          "output_type": "stream",
          "name": "stderr",
          "text": [
            "[nltk_data] Downloading package stopwords to /root/nltk_data...\n",
            "[nltk_data]   Unzipping corpora/stopwords.zip.\n"
          ]
        }
      ]
    },
    {
      "cell_type": "markdown",
      "metadata": {
        "application/vnd.databricks.v1+cell": {
          "title": "",
          "showTitle": false,
          "inputWidgets": {},
          "nuid": "c08c0dcd-79e3-4e33-a53e-9c4485285c60"
        },
        "id": "HLTV__O5EVFS"
      },
      "source": [
        "Filtramos los stopwords, es decir, los retiramos de nuestro texto."
      ]
    },
    {
      "cell_type": "code",
      "metadata": {
        "application/vnd.databricks.v1+cell": {
          "title": "",
          "showTitle": false,
          "inputWidgets": {},
          "nuid": "e9e1cae4-5743-47ee-ba15-9e0ad6293e38"
        },
        "id": "ltsYX0_-EVFT"
      },
      "source": [
        "filtra=[word for word in fichas2 if word not in misstop]\n",
        "len(filtra)\n",
        "total=\" \".join(filtra)\n"
      ],
      "execution_count": 5,
      "outputs": []
    },
    {
      "cell_type": "markdown",
      "metadata": {
        "application/vnd.databricks.v1+cell": {
          "title": "",
          "showTitle": false,
          "inputWidgets": {},
          "nuid": "c2e99059-f6d2-4284-b46a-08c63f11cee6"
        },
        "id": "2MfoahMZEVFV"
      },
      "source": [
        " Cargamos spacy..."
      ]
    },
    {
      "cell_type": "code",
      "metadata": {
        "application/vnd.databricks.v1+cell": {
          "title": "",
          "showTitle": false,
          "inputWidgets": {},
          "nuid": "4e71b01d-7251-4f8b-a0f1-0ebe1b316f6c"
        },
        "id": "u4hmm_23EVFV",
        "colab": {
          "base_uri": "https://localhost:8080/"
        },
        "outputId": "368783a7-3f3a-4350-979d-a31ac28843e8"
      },
      "source": [
        "spacy.cli.download(\"es\")\n",
        "nlp=spacy.load(\"es_core_news_sm\")"
      ],
      "execution_count": 6,
      "outputs": [
        {
          "output_type": "stream",
          "name": "stdout",
          "text": [
            "\u001b[38;5;3m⚠ As of spaCy v3.0, shortcuts like 'es' are deprecated. Please use the\n",
            "full pipeline package name 'es_core_news_sm' instead.\u001b[0m\n",
            "\u001b[38;5;2m✔ Download and installation successful\u001b[0m\n",
            "You can now load the package via spacy.load('es_core_news_sm')\n"
          ]
        }
      ]
    },
    {
      "cell_type": "markdown",
      "metadata": {
        "application/vnd.databricks.v1+cell": {
          "title": "",
          "showTitle": false,
          "inputWidgets": {},
          "nuid": "5abda43d-0b6b-49d6-96c7-209de8f5941e"
        },
        "id": "8drNR8yYEVFW"
      },
      "source": [
        "Luego ajustamos las stopwords y creamos el libro de spacy"
      ]
    },
    {
      "cell_type": "code",
      "metadata": {
        "application/vnd.databricks.v1+cell": {
          "title": "",
          "showTitle": false,
          "inputWidgets": {},
          "nuid": "9023d540-1d33-4a49-b38c-798f113f8641"
        },
        "id": "0FsFcrV_EVFW"
      },
      "source": [
        "for word in misstop:\n",
        "    nlp.vocab[word].is_stop=True\n",
        "\n",
        "doc1=nlp(base3)"
      ],
      "execution_count": 7,
      "outputs": []
    },
    {
      "cell_type": "markdown",
      "metadata": {
        "application/vnd.databricks.v1+cell": {
          "title": "",
          "showTitle": false,
          "inputWidgets": {},
          "nuid": "cb52e015-f8a3-4799-8d55-b5ac28ce576e"
        },
        "id": "yHFowuSTEVFf"
      },
      "source": [
        "## Partes del discurso (Part of speech)\n",
        "Más allá de las palabras, el siguiente nivel de análisis implica la sintaxis o forma de combinar las palabras para producir oraciones con sentido. \n",
        "Una parte importante son las partes de la palabra (POS, por sus siglas en inglés), pues permiten refinar la búsqueda de temáticas que pueden ser interesantes para nosotros del texto.\n",
        "El etiquetado de POS es usualmente un problema supervisado en bases de datos anotadas (treebanks). NLTK no ha desarrollado un POS tagger en español.\n",
        "\n",
        " En el siguiente ejemplo queremos centrarnos únicamente en los sustantivos. \n",
        "Como veremos, el resultado depende de la calidad del modelo de creación de POS, el cual es de mayor calidad en inglés que en español. Por ejemplo, el español no tiene la parte del discurso \"fina\" (tag_) que si tiene en inglés."
      ]
    },
    {
      "cell_type": "code",
      "source": [
        "partes=[]\n",
        "for x in range(1,len(doc1)):\n",
        "    partes.append([doc1[x].text, doc1[x].lemma_,doc1[x].pos_, doc1[x].tag_, doc1[x].ent_type_,doc1[x].is_stop])\n",
        "partes[100:150]\n"
      ],
      "metadata": {
        "colab": {
          "base_uri": "https://localhost:8080/"
        },
        "id": "KFy6RcQiUq_T",
        "outputId": "016c9dbd-8c0c-4d10-8be1-ee0bd6250bef"
      },
      "execution_count": 14,
      "outputs": [
        {
          "output_type": "execute_result",
          "data": {
            "text/plain": [
              "[['dios', 'dio', 'NOUN', 'NOUN', '', False],\n",
              " [',', ',', 'PUNCT', 'PUNCT', '', False],\n",
              " ['el', 'el', 'DET', 'DET', '', True],\n",
              " ['cual', 'cual', 'PRON', 'PRON', '', True],\n",
              " ['se', 'él', 'PRON', 'PRON', '', True],\n",
              " ['llamaba', 'llamar', 'VERB', 'VERB', '', False],\n",
              " ['juan', 'juan', 'PROPN', 'PROPN', '', False],\n",
              " ['.', '.', 'PUNCT', 'PUNCT', '', False],\n",
              " ['         ', '         ', 'SPACE', 'SPACE', '', False],\n",
              " ['7', '7', 'NUM', 'NUM', '', False],\n",
              " ['este', 'este', 'DET', 'DET', '', True],\n",
              " ['vino', 'vino', 'NOUN', 'NOUN', '', False],\n",
              " ['por', 'por', 'ADP', 'ADP', '', True],\n",
              " ['testimonio', 'testimonio', 'NOUN', 'NOUN', '', False],\n",
              " [',', ',', 'PUNCT', 'PUNCT', '', False],\n",
              " ['para', 'para', 'ADP', 'ADP', '', True],\n",
              " ['que', 'que', 'SCONJ', 'SCONJ', '', True],\n",
              " ['diese', 'dar', 'VERB', 'VERB', '', False],\n",
              " ['testimonio', 'testimonio', 'NOUN', 'NOUN', '', False],\n",
              " ['de', 'de', 'ADP', 'ADP', '', True],\n",
              " ['la', 'el', 'DET', 'DET', '', True],\n",
              " ['luz', 'luz', 'NOUN', 'NOUN', '', False],\n",
              " [',', ',', 'PUNCT', 'PUNCT', '', False],\n",
              " ['para', 'para', 'ADP', 'ADP', '', True],\n",
              " ['que', 'que', 'SCONJ', 'SCONJ', '', True],\n",
              " ['todos', 'todo', 'PRON', 'PRON', '', True],\n",
              " ['creyesen', 'creer', 'VERB', 'VERB', '', False],\n",
              " ['por', 'por', 'ADP', 'ADP', '', True],\n",
              " ['él', 'él', 'PRON', 'PRON', '', True],\n",
              " ['.', '.', 'PUNCT', 'PUNCT', '', False],\n",
              " ['         ', '         ', 'SPACE', 'SPACE', '', False],\n",
              " ['8', '8', 'NUM', 'NUM', '', False],\n",
              " ['no', 'no', 'ADV', 'ADV', '', True],\n",
              " ['era', 'ser', 'AUX', 'AUX', '', True],\n",
              " ['él', 'él', 'PRON', 'PRON', '', True],\n",
              " ['la', 'el', 'DET', 'DET', '', True],\n",
              " ['luz', 'luz', 'NOUN', 'NOUN', '', False],\n",
              " [',', ',', 'PUNCT', 'PUNCT', '', False],\n",
              " ['sino', 'sino', 'CCONJ', 'CCONJ', '', True],\n",
              " ['para', 'para', 'ADP', 'ADP', '', True],\n",
              " ['que', 'que', 'SCONJ', 'SCONJ', '', True],\n",
              " ['diese', 'dar', 'VERB', 'VERB', '', False],\n",
              " ['testimonio', 'testimonio', 'NOUN', 'NOUN', '', False],\n",
              " ['de', 'de', 'ADP', 'ADP', '', True],\n",
              " ['la', 'el', 'DET', 'DET', '', True],\n",
              " ['luz', 'luz', 'NOUN', 'NOUN', 'ORG', False],\n",
              " ['.', '.', 'PUNCT', 'PUNCT', 'ORG', False],\n",
              " ['         ', '         ', 'SPACE', 'SPACE', '', False],\n",
              " ['9', '9', 'NUM', 'NUM', '', False],\n",
              " ['[', '[', 'PROPN', 'PROPN', '', False]]"
            ]
          },
          "metadata": {},
          "execution_count": 14
        }
      ]
    },
    {
      "cell_type": "markdown",
      "source": [
        "Vamos inicialmente a extraer todos los nombres propios y a visualizarlos"
      ],
      "metadata": {
        "id": "1erCygu6I92r"
      }
    },
    {
      "cell_type": "code",
      "source": [
        "nombres=[item[0] for item in partes if item[2]==\"NOUN\" and not item[5]]\n",
        "print(set(nombres))\n"
      ],
      "metadata": {
        "colab": {
          "base_uri": "https://localhost:8080/"
        },
        "id": "Biq-UkKvVsc9",
        "outputId": "3c978207-e7d8-42b5-bd72-ec01036123e5"
      },
      "execution_count": 24,
      "outputs": [
        {
          "output_type": "stream",
          "name": "stdout",
          "text": [
            "{'maneras', 'conciencia', 'ciego', 'barca', 'diferencia', 'tribulaciones', 'áspides', 'hermana', 'criador', 'patrobas', 'huésped', 'hombres', 'santas', 'tropiezo', 'número', 'tributo', 'ayudéis', 'saludaos', 'predicación', 'cántaro', 'bendiciones', 'solicitud', 'mujer', 'andrés', 'hora', 'miedo', 'tinajuelas', 'linternas', 'pedid', 'hieres', 'creyeres', 'amigo', 'jesús', 'serpiente', 'esposa', 'marido', 'betábara', 'secreto', 'judios', 'latín', 'boca', 'asalariado', 'intento', 'prójimo', 'ganado', 'dedo', 'soldados', 'vientres', 'calavera', 'regiones', 'mirra', 'naturaleza', 'gozo', 'víspera', 'pisadas', 'murmullo', 'soldado', 'hebreo', 'limosnas', 'griego', 'caída', 'blasfemia', 'gallo', 'juicio', 'ladrón', 'misericordias', 'sacar[la', 'mujeres', 'creeréis', 'manifiesto', 'obro', 'imagen', 'temas', 'cuerpo', 'flaco', 'apóstol', 'entendimiento', 'engaño', 'lengua', ']', 'viento', 'vista', 'ciencia', 'consiguiente', 'gemidos', 'novedad', 'culto', 'haremos', 'pámpanos', 'enemigo', 'honra', 'iros', 'vaina', 'fué', 'mesas', 'fuése', 'hijos', 'coadjutor', 'gomorra', 'israelita', 'mozos', 'castigo', 'testigos', 'vientre', 'adoradores', 'come', 'consolador', 'quisisteis', 'bebiereis', 'libro', 'vaso', 'ibas', 'apruebo', 'querer', 'coherederos', 'hermosos', 'puerta', 'ofrenda', 'pies', 'espíritu', 'carne', 'hijitos', 'bautizas', 'insignes', 'paloma', 'respondiéronles', 'aviso', 'acordaos', 'mentira', 'enseñador', 'severidad', 'conciencias', 'primogénito', 'sabios', 'veneno', 'sangre', 'potencia', 'jesucristo', 'instrumentos', 'desnudez', 'menester', 'crees', 'cuerdas', 'confías', 'piedras', 'servidor', 'fe', 'pastos', 'fuente', 'evangelio', 'esperanza', 'aves', 'notoria', 'adulterio', 'cabellos', 'altares', 'acusación', 'santos', 'oliva', 'sopla', 'caifás', 'acomodándoos', 'mano', 'libras', 'querías', 'verbo', 'extravío', 'pan', 'navecilla', 'concilio', 'enfermedad', 'pensamientos', 'cencreas', 'opinión', 'dedicación', 'beba', 'barrabás', 'persona', 'tiempos', 'obediencia', 'personas', 'hallé', 'herodión', 'proverbio', 'aborrecí', 'recibí', 'buscáis', 'bocado', 'recompensa', 'caridad', 'muertos', 'aldea', 'derecha', 'libertad', 'prueba', 'coadjutores', 'malicia', 'cordero', 'pecado', 'herederos', 'aristóbulo', 'voces', 'necesidad', 'glorifiquéis', 'sepulcros', 'ungüento', 'dada', 'título', 'riqueza', 'trabajad', 'madre', 'crucificarte', 'creación', 'detractores', 'letra', 'ramas', 'virtud', 'felipe', 'varón', 'ministros', 'parábola', 'aflicción', 'rufo', 'fueres', 'cambiadores', 'contradictor', 'denarios', 'príncipes', 'maría', 'tropieza', 'dios', 'creedme', 'busca', 'deudor', 'necios', 'revuelta', 'lucio', 'rebelión', 'misericordia', 'mundo', 'caso', 'milagros', 'cebada', 'luz', 'doy', 'operación', 'pueblos', 'hablas', 'don', 'señales', 'costura', 'arena', 'ardientes', 'sobrenombre', 'malignidades', 'obra', 'engaños', 'lugar', 'proverbios', 'seno', 'lenguaje', 'libra', 'masa', 'compuesto', 'justo', 'tomás', 'escritura', 'arroyo', 'ojos', 'lumbre', 'notorias', 'animales', 'jessé', 'sosipater', 'razón', 'vecinos', 'multitud', 'pollino', 'oyó', 'avaricia', 'concepto', 'consejo', 'ligeros', 'sepultura', 'señas', 'hallo', 'costado', 'fornicación', 'ciudad', 'confesión', 'purificación', 'dad', 'vituperios', 'apartaos', 'hambre', 'mansedumbre', 'espinas', 'excluída', 'olimpas', 'muestras', 'estanque', 'arrepentimiento', 'ministro', 'males', 'pecados', 'habiéndoles', 'vendas', 'acepción', 'vivos', 'lecho', 'moradas', 'apóstoles', 'muerto', 'lazo', 'sonido', 'niños', 'dolor', 'hacedores', 'incircuncisión', 'vocación', 'suerte', 'permitióselo', 'andad', 'quebrantamiento', 'vergüenza', 'benjamín', 'pascua', 'escondióse', 'fuí', 'paz', 'celo', 'pagad', 'acebuche', 'contiendas', 'deuda', 'hija', 'salario', 'quites', 'obras', 'pérsida', 'data', 'noticia', 'malditos', 'gente', 'ejércitos', 'preguntáronle', 'tiempo', 'ropas', 'venganza', 'servidores', 'amargura', 'escritos', 'disputas', 'consumadora', 'pozo', 'salud', 'homicidios', 'circuncisión', 'conocimiento', 'siervo', 'abismo', 'echólos', 'haced', 'desventura', 'faraón', 'toalla', 'recibimiento', 'necesidades', 'priscila', 'carnales', 'presto', 'hablo', 'inmortalidad', 'disensión', '[', 'sacerdotes', 'asna', 'intención', 'conviene', 'sacrificio', 'pez', 'culpa', 'edificación', 'griegos', 'consolarlas', 'apeles', 'moras', 'escudriña', 'profeta', 'juzgo', 'necesitas', 'alma', 'dureza', 'temor', 'doctrina', 'jacob', 'higuera', 'saludo', 'diaconisa', 'sirvientes', 'salvador', 'colecta', 'oseas', 'piedra', 'grana', 'levántase', 'desierto', 'ríos', 'nazareno', 'maldad', 'henchimiento', 'respondes', 'esposo', 'muchacho', 'arrogantes', 'ángel', 'capítulo', 'ejemplo', 'labios', 'siervos', 'matadero', 'sacóla', 'nación', 'niño', 'levantarnos', 'compañeros', 'mostrólas', 'tribulación', 'vieres', 'deudores', 'semejanza', 'reconciliación', 'tesorero', 'comida', 'gracias', 'escribas', 'gozosos', 'judas', 'olivas', 'creísteis', 'fiebre', 'labrador', 'corazones', 'propiciación', 'generación', 'oídos', 'criatura', 'obstante', 'potestades', 'revelación', 'lloras', 'bodas', 'ved', 'garganta', 'vas', 'asíncrito', 'destruid', 'creáis', 'injuriosos', 'preguntas', 'postreros', 'mandamientos', 'grano', 'portales', 'profetas', 'criaturas', 'iniquidades', 'bethsaida', 'epeneto', 'azote', 'ruego', 'ángeles', 'corona', 'corral', 'justificación', 'presentad', 'moriréis', 'interpretares', 'hermas', 'enemigos', 'pontífices', 'renovación', 'ayudador', 'prodigios', 'samaritanos', 'disensiones', 'portal', 'especias', 'ídolos', 'delito', 'mesías', 'lebrillo', 'pececillos', 'creyó', 'juicios', 'mañana', 'jonás', 'lávate', 'cabecera', 'miembros', 'clavos', 'señal', 'príncipe', 'espinazo', 'casa', 'fariseos', 'templo', 'íbase', 'volvióles', 'pámpano', 'dícenle', 'pilato', 'incircunciso', 'concupiscencia', 'jactancia', 'tribuno', 'cometes', 'adopción', 'ramos', 'enfermos', 'atesoras', 'alegría', 'vida', 'hiciéronle', 'jasón', 'cuchillo', 'tristeza', 'pie', 'hierba', 'glotonerías', 'plenitud', 'salí', 'bienaventuranza', 'hicieres', 'ósculo', 'maravilléis', 'portero', 'servidumbre', 'sepulcro', 'confiad', 'enviasteis', 'libros', 'hechos', 'hombre', 'cephas', 'fiesta', 'díceles', 'vestíos', 'manifestóse', 'vengador', 'nazaret', 'injusticia', 'navecillas', 'bueyes', 'creeríais', 'varones', 'romanos', 'paciencia', 'ascuas', 'seguíale', 'atrio', 'voz', 'extraños', 'oidores', 'ignoréis', 'isaac', 'vana', 'criada', 'testimonio', 'partes', 'filólogo', 'gracia', 'cuellos', 'piernas', 'soltarte', 'santidad', 'justificados', 'mercado', 'oraciones', 'bendición', 'monte', 'propósito', 'pariente', 'jordán', 'altivos', 'afecto', 'rey', 'vivir', 'huélgome', 'simplicidad', 'vano', 'magistrados', 'dádiva', 'raíz', 'epístola', 'lithóstrotos', 'divinidad', 'barco', 'pobres', 'nombre', 'discípulos', 'juntamente', 'tribu', 'bebida', 'respondiéronle', 'comed', 'agradarnos', 'iscariote', 'bautismo', 'cueva', 'palomas', 'fatuos', 'vejez', 'forma', 'lienzos', 'escándalo', 'maridos', 'santificación', 'salomón', 'dejad', 'edad', 'cárcel', 'simón', 'codos', 'peligro', 'armas', 'vestidos', 'empero', 'incredulidad', 'fundamento', 'dícele', 'nacimiento', 'creyentes', 'deciros', 'frío', 'pueblo', 'pensáis', 'cosas', 'manifestase', 'arrebata', 'mandamiento', 'traed', 'vestidura', 'humana', 'voluntad', 'reino', 'muerte', 'vanidad', 'iglesia', 'precio', 'escrituras', 'tributos', 'promesa', 'hisopo', 'dijéronle', 'salúdaos', 'tantos', 'incrédulo', 'guía', 'justicias', 'resiste', 'hermanas', 'menoscabo', 'hebraico', 'perdición', 'excusa', 'conforme', 'desobedientes', 'ciegos', 'puertas', 'simiente', 'impiedad', 'amigos', 'manifiéstate', 'naciere', 'crimen', 'cautividad', 'causa', 'guarda', 'enemistad', 'impíos', 'cristo', 'creyeseis', 'lázaro', 'tenla', 'sujeción', 'escándalos', 'horas', 'hágalo', 'presentáron[le', 'pecho', 'redondez', 'resurrección', 'figura', 'tropezadero', 'conoceréis', 'mar', 'áloes', 'fuego', 'cántaros', 'sálvame', 'bondad', 'viaje', 'falta', 'panes', 'padre', 'afectos', 'alrededores', 'maná', 'veis', 'principio', 'anás', 'timoteo', 'extrañamiento', 'tinieblas', 'señor', 'enderezóse', 'demonio', 'glorifícame', 'pecadores', 'discursos', 'isaías', 'espada', 'cabeza', 'benignidad', 'pastor', 'longaminidad', 'limpiarlos', 'pásate', 'riquezas', 'sopló', 'condenación', 'brazo', 'diablo', 'presencia', 'cumplimiento', 'disoluciones', 'palmas', 'aquila', 'terreno', 'treinta', 'saliva', 'maestresala', 'suegro', 'camino', 'naciones', 'fama', 'venzas', 'séales', 'lenguas', 'años', 'cosa', 'condiscípulos', 'promesas', 'profecía', 'noche', 'dioses', 'participantes', 'ruégoos', 'libertador', 'elías', 'redil', 'postrer', 'sudario', 'compraremos', 'ribera', 'arruines', 'pedazos', 'escrito', 'palabras', 'serpientes', 'echáronle', 'escogidos', 'inmundicia', 'robadores', 'cielo', 'costumbre', 'red', 'inventores', 'transgresión', 'enfermo', 'elección', 'guardé', 'justicia', 'reliquias', 'siglos', 'letras', ':]', 'dineros', 'sujetos', 'maravilláis', 'levántate', 'pecador', 'corderos', 'ovejas', 'hurtas', 'concupiscencias', 'grado', 'hijo', 'siloé', 'año', 'aborrecedores', 'judío', 'tierra', 'corazón', 'confesares', 'trigo', 'ropa', 'matriz', 'criados', 'saludad', 'olor', 'ley', 'tiberias', 'huerto', 'judíos', 'amasteis', 'anuncio', 'movimiento', 'lanza', 'confirmaros', 'cuestión', 'esponja', 'pacto', 'sión', 'angustia', 'bienes', 'presentaos', 'vino', 'lobo', 'ignoráis', 'ánimo', 'consolación', 'asnillo', 'túnica', 'nardo', 'ministriles', 'cleofas', 'heredad', 'gloria', 'gentes', 'cabos', 'capernaum', 'mesa', 'semana', 'dones', 'maestro', 'deseos', 'siglo', 'ephraim', 'oración', 'tabernáculos', 'entristecióse', 'rebeldes', 'salim', 'alabanza', 'tribunal', 'flaqueza', 'amonestaros', 'sacad', 'oir', 'caminos', 'redención', 'sentencia', 'borracheras', 'compañía', 'vence', 'quedóse', 'limpios', 'mente', 'viviereis', 'servicio', 'manos', 'primicias', 'flaquezas', 'hermes', 'vete', 'aguas', 'cuerpos', 'desconfianza', 'pidieres', 'rogáronle', 'amor', 'adulteras', 'destruyas', 'poquito', 'desobediencia', 'fruto', 'diles', 'sinagoga', 'rodilla', 'consejero', 'pontífice', 'juzgas', 'discípulo', 'levitas', 'heredero', 'labores', 'hermano', 'parecer', 'peces', 'lodo', 'comunales', 'bofetada', 'blasfemas', 'cogisteis', 'guardes', 'encomiéndoos', 'sabiduría', 'fingimiento', 'delitos', 'vistámonos', 'pensad', 'gozaos', 'vinagre', 'parientes', 'diestra', 'bárbaros', 'correa', 'misterio', 'reformaos', 'lechos', 'cruz', 'clama', 'enseñanza', 'remordimiento', 'hortelano', 'gentiles', 'viéndolos', 'cojos', 'persecución', 'alfarero', 'flacos', 'unigénito', 'dame', 'estadios', 'dídimo', 'unánimes', 'bendecid', 'pretorio', 'iglesias', 'ira', 'manifestación', 'zapato', 'permaneciereis', 'extraño', 'medida', 'sodoma', 'potestad', 'grosura', 'manifestadas', 'vasos', 'concordes', 'corrupción', 'templanza', 'jerusalem', 'hiciereis', 'endurecimiento', 'barro', 'rabbí', 'oculto', 'abraham', 'cuidado', 'palabra', 'hospitalidad', 'hermanos', 'respuesta', 'dices', 'hallaréis', 'iniquidad', 'ministerio', 'hueso', 'bolsa', 'sinagogas', 'contradice', 'invierno', 'enseñas', 'meses', 'galileos', 'sabed', 'cena', 'agua', 'menosprecias', 'maledicencia', 'ocasión', 'sábado', 'padres', 'bofetadas', 'israel', 'necio', 'merced', 'guardad', 'cestas', 'levantaos', 'profundidad', 'marta', 'vid', 'rebaño', 'abundancia', 'pedirías', 'rostro', 'presente', 'amaros', 'ordenación', 'retuviereis', 'paga', 'infracción', 'murmuradores', 'pedencias', 'celestiales', 'sed', 'mira', 'sueño', 'galileo', 'portera', 'sello'}\n"
          ]
        }
      ]
    },
    {
      "cell_type": "code",
      "source": [
        "nombresspacy=pd.DataFrame(nombres)\n",
        "contaname=pd.value_counts(nombresspacy[0]).to_frame()\n",
        "contaname.columns=[\"conteo\"]\n",
        "contaname.index.name=\"nombre\"\n",
        "contaname[\"palabra\"]=contaname.index\n",
        "\n",
        "diccio={}\n",
        "for freq,name in contaname.values:\n",
        "    diccio[name]=freq\n",
        "\n",
        "nube = WordCloud()\n",
        "nube.generate_from_frequencies(frequencies=diccio)\n",
        "plt.figure()\n",
        "plt.imshow(nube, interpolation=\"bilinear\")\n",
        "plt.axis(\"off\")\n",
        "figure7=plt.show()\n",
        "display(figure7)"
      ],
      "metadata": {
        "colab": {
          "base_uri": "https://localhost:8080/",
          "height": 216
        },
        "id": "I_Fg_U36Ki0f",
        "outputId": "502951e0-a720-4f12-aaa3-e7a8e57d3c69"
      },
      "execution_count": 25,
      "outputs": [
        {
          "output_type": "display_data",
          "data": {
            "text/plain": [
              "<Figure size 432x288 with 1 Axes>"
            ],
            "image/png": "[encoded data removed]"
          },
          "metadata": {
            "needs_background": "light"
          }
        },
        {
          "output_type": "display_data",
          "data": {
            "text/plain": [
              "None"
            ]
          },
          "metadata": {}
        }
      ]
    },
    {
      "cell_type": "markdown",
      "metadata": {
        "application/vnd.databricks.v1+cell": {
          "title": "",
          "showTitle": false,
          "inputWidgets": {},
          "nuid": "93221697-3c59-47ad-81e8-a3716a970c24"
        },
        "id": "R6zGBUcTEVFh"
      },
      "source": [
        "Vamos a refinar aún más. Por ejemplo, me puede interesar específicamente cuales son los adjetivos (o descriptores) que se usan cuando se habla de Jesús. Nótese que esto, por ejemplo, podría servir para análisis de marca.\n",
        "Primero obtengo las oraciones (es decir, utilizo un **token** diferente)"
      ]
    },
    {
      "cell_type": "code",
      "metadata": {
        "application/vnd.databricks.v1+cell": {
          "title": "",
          "showTitle": false,
          "inputWidgets": {},
          "nuid": "8cf99c55-685d-4be9-91c5-4c801f095380"
        },
        "id": "KZdxIVcCEVFi",
        "colab": {
          "base_uri": "https://localhost:8080/"
        },
        "outputId": "7cc55ae2-4214-4304-fddf-3d53546ee81c"
      },
      "source": [
        "oraciones=[]\n",
        "for oracion in doc1.sents:\n",
        "    oraciones.append(oracion.text)\n",
        "oraciones[0:2]\n"
      ],
      "execution_count": 26,
      "outputs": [
        {
          "output_type": "execute_result",
          "data": {
            "text/plain": [
              "['    ',\n",
              " 'capítulo  1          1 en el principio era el verbo, y el verbo era con dios, y el verbo era dios.']"
            ]
          },
          "metadata": {},
          "execution_count": 26
        }
      ]
    },
    {
      "cell_type": "markdown",
      "metadata": {
        "application/vnd.databricks.v1+cell": {
          "title": "",
          "showTitle": false,
          "inputWidgets": {},
          "nuid": "fa914a88-4217-48bb-b588-f5f9b5118610"
        },
        "id": "2KHXg4MGEVFi"
      },
      "source": [
        "Luego extraigo solamente las frases que contienen la palabra jesús"
      ]
    },
    {
      "cell_type": "code",
      "metadata": {
        "application/vnd.databricks.v1+cell": {
          "title": "",
          "showTitle": false,
          "inputWidgets": {},
          "nuid": "9c423067-555b-45d2-aa19-8dbc6e4bd757"
        },
        "id": "Lyz_HVIjEVFi",
        "colab": {
          "base_uri": "https://localhost:8080/"
        },
        "outputId": "278d03b3-1591-4cd5-a638-3b5213c1cb33"
      },
      "source": [
        "frasejesus = [s for s in oraciones if \"jesús\" in s]\n",
        "frasejesus[5:10]\n"
      ],
      "execution_count": 29,
      "outputs": [
        {
          "output_type": "execute_result",
          "data": {
            "text/plain": [
              "['y mirándole jesús, dijo: tú eres simón, hijo de jonás: tú serás llamado cephas (que quiere decir, piedra).',\n",
              " '43 el siguiente día quiso jesús ir á galilea, y halla á felipe, al cual dijo: sígueme.',\n",
              " '45 felipe halló á natanael, y dícele: hemos hallado á aquel de quien escribió moisés en la ley, y los profetas: á jesús, el hijo de josé, de nazaret.',\n",
              " '47 jesús vió venir á sí á natanael, y dijo de él: he aquí un verdadero israelita, en el cual no hay engaño.',\n",
              " '48 dícele natanael: ¿de dónde me conoces? respondió jesús, y díjole: antes que felipe te llamara, cuando estabas debajo de la higuera te vi.']"
            ]
          },
          "metadata": {},
          "execution_count": 29
        }
      ]
    },
    {
      "cell_type": "markdown",
      "metadata": {
        "application/vnd.databricks.v1+cell": {
          "title": "",
          "showTitle": false,
          "inputWidgets": {},
          "nuid": "06afc6d0-8d9c-4f7d-9a20-cd7348d4a11c"
        },
        "id": "fvO1DVIWEVFj"
      },
      "source": [
        "Extraigo información de spacy, incluyendo el POS"
      ]
    },
    {
      "cell_type": "code",
      "metadata": {
        "application/vnd.databricks.v1+cell": {
          "title": "",
          "showTitle": false,
          "inputWidgets": {},
          "nuid": "9f19043c-343a-4770-9be6-39e8d62544d6"
        },
        "id": "6xB27pNtEVFj",
        "colab": {
          "base_uri": "https://localhost:8080/",
          "height": 1000
        },
        "outputId": "0f6eaa9f-c06c-45a6-f213-f5e77ebc8498"
      },
      "source": [
        "jesus=\" \".join(frasejesus)\n",
        "doc3=nlp(jesus)\n",
        "partes=[]\n",
        "for x in range(1,len(doc3)):\n",
        "    partes.append([ doc3[x].text, doc3[x].lemma_,doc3[x].pos_, doc3[x].ent_type_,doc3[x].is_stop])\n",
        "\n",
        "\n",
        "##tomo las palabras para extraerlas dependiendo del POS\n",
        "mibase=pd.DataFrame(partes)\n",
        "mibase.head(50)\n"
      ],
      "execution_count": 30,
      "outputs": [
        {
          "output_type": "execute_result",
          "data": {
            "text/plain": [
              "            0          1      2    3      4\n",
              "0   siguiente  siguiente    ADJ        True\n",
              "1         día        día   NOUN        True\n",
              "2          ve        ver   VERB       False\n",
              "3        juan       juan  PROPN  PER  False\n",
              "4           á          á  CCONJ        True\n",
              "5       jesús      jesús  PROPN  LOC  False\n",
              "6         que        que   PRON        True\n",
              "7       venía      venir   VERB       False\n",
              "8           á          á    DET        True\n",
              "9          él         él   PRON        True\n",
              "10          ,          ,  PUNCT       False\n",
              "11          y          y  CCONJ        True\n",
              "12       dice      decir   VERB        True\n",
              "13          :          :  PUNCT       False\n",
              "14         he      haber    AUX        True\n",
              "15       aquí       aquí    ADV        True\n",
              "16         el         el    DET        True\n",
              "17    cordero    cordero   NOUN       False\n",
              "18         de         de    ADP        True\n",
              "19       dios        dio   NOUN       False\n",
              "20          ,          ,  PUNCT       False\n",
              "21        que        que   PRON        True\n",
              "22      quita     quitar   VERB       False\n",
              "23         el         el    DET        True\n",
              "24     pecado     pecado   NOUN       False\n",
              "25        del        del    ADP        True\n",
              "26      mundo      mundo   NOUN       False\n",
              "27          .          .  PUNCT       False\n",
              "28         36         36    NUM       False\n",
              "29          y          y  CCONJ        True\n",
              "30    mirando      mirar   VERB       False\n",
              "31          á          á  CCONJ        True\n",
              "32      jesús      jesús   NOUN       False\n",
              "33        que        que   PRON        True\n",
              "34     andaba      andar   VERB       False\n",
              "35        por        por    ADP        True\n",
              "36          [          [    ADP       False\n",
              "37       allí       allí    ADV        True\n",
              "38          ]          ]   NOUN       False\n",
              "39          ,          ,  PUNCT       False\n",
              "40       dijo      decir   VERB        True\n",
              "41          :          :  PUNCT       False\n",
              "42         he      haber    AUX        True\n",
              "43       aquí       aquí    ADV        True\n",
              "44         el         el    DET        True\n",
              "45    cordero    cordero   NOUN       False\n",
              "46         de         de    ADP        True\n",
              "47       dios        dio   NOUN       False\n",
              "48          .          .  PUNCT       False\n",
              "49         37         37    NUM       False"
            ],
            "text/html": [
              "\n",
              "  <div id=\"df-6d82c8bb-3aa9-428f-828a-09f9fa07210f\">\n",
              "    <div class=\"colab-df-container\">\n",
              "      <div>\n",
              "<style scoped>\n",
              "    .dataframe tbody tr th:only-of-type {\n",
              "        vertical-align: middle;\n",
              "    }\n",
              "\n",
              "    .dataframe tbody tr th {\n",
              "        vertical-align: top;\n",
              "    }\n",
              "\n",
              "    .dataframe thead th {\n",
              "        text-align: right;\n",
              "    }\n",
              "</style>\n",
              "<table border=\"1\" class=\"dataframe\">\n",
              "  <thead>\n",
              "    <tr style=\"text-align: right;\">\n",
              "      <th></th>\n",
              "      <th>0</th>\n",
              "      <th>1</th>\n",
              "      <th>2</th>\n",
              "      <th>3</th>\n",
              "      <th>4</th>\n",
              "    </tr>\n",
              "  </thead>\n",
              "  <tbody>\n",
              "    <tr>\n",
              "      <th>0</th>\n",
              "      <td>siguiente</td>\n",
              "      <td>siguiente</td>\n",
              "      <td>ADJ</td>\n",
              "      <td></td>\n",
              "      <td>True</td>\n",
              "    </tr>\n",
              "    <tr>\n",
              "      <th>1</th>\n",
              "      <td>día</td>\n",
              "      <td>día</td>\n",
              "      <td>NOUN</td>\n",
              "      <td></td>\n",
              "      <td>True</td>\n",
              "    </tr>\n",
              "    <tr>\n",
              "      <th>2</th>\n",
              "      <td>ve</td>\n",
              "      <td>ver</td>\n",
              "      <td>VERB</td>\n",
              "      <td></td>\n",
              "      <td>False</td>\n",
              "    </tr>\n",
              "    <tr>\n",
              "      <th>3</th>\n",
              "      <td>juan</td>\n",
              "      <td>juan</td>\n",
              "      <td>PROPN</td>\n",
              "      <td>PER</td>\n",
              "      <td>False</td>\n",
              "    </tr>\n",
              "    <tr>\n",
              "      <th>4</th>\n",
              "      <td>á</td>\n",
              "      <td>á</td>\n",
              "      <td>CCONJ</td>\n",
              "      <td></td>\n",
              "      <td>True</td>\n",
              "    </tr>\n",
              "    <tr>\n",
              "      <th>5</th>\n",
              "      <td>jesús</td>\n",
              "      <td>jesús</td>\n",
              "      <td>PROPN</td>\n",
              "      <td>LOC</td>\n",
              "      <td>False</td>\n",
              "    </tr>\n",
              "    <tr>\n",
              "      <th>6</th>\n",
              "      <td>que</td>\n",
              "      <td>que</td>\n",
              "      <td>PRON</td>\n",
              "      <td></td>\n",
              "      <td>True</td>\n",
              "    </tr>\n",
              "    <tr>\n",
              "      <th>7</th>\n",
              "      <td>venía</td>\n",
              "      <td>venir</td>\n",
              "      <td>VERB</td>\n",
              "      <td></td>\n",
              "      <td>False</td>\n",
              "    </tr>\n",
              "    <tr>\n",
              "      <th>8</th>\n",
              "      <td>á</td>\n",
              "      <td>á</td>\n",
              "      <td>DET</td>\n",
              "      <td></td>\n",
              "      <td>True</td>\n",
              "    </tr>\n",
              "    <tr>\n",
              "      <th>9</th>\n",
              "      <td>él</td>\n",
              "      <td>él</td>\n",
              "      <td>PRON</td>\n",
              "      <td></td>\n",
              "      <td>True</td>\n",
              "    </tr>\n",
              "    <tr>\n",
              "      <th>10</th>\n",
              "      <td>,</td>\n",
              "      <td>,</td>\n",
              "      <td>PUNCT</td>\n",
              "      <td></td>\n",
              "      <td>False</td>\n",
              "    </tr>\n",
              "    <tr>\n",
              "      <th>11</th>\n",
              "      <td>y</td>\n",
              "      <td>y</td>\n",
              "      <td>CCONJ</td>\n",
              "      <td></td>\n",
              "      <td>True</td>\n",
              "    </tr>\n",
              "    <tr>\n",
              "      <th>12</th>\n",
              "      <td>dice</td>\n",
              "      <td>decir</td>\n",
              "      <td>VERB</td>\n",
              "      <td></td>\n",
              "      <td>True</td>\n",
              "    </tr>\n",
              "    <tr>\n",
              "      <th>13</th>\n",
              "      <td>:</td>\n",
              "      <td>:</td>\n",
              "      <td>PUNCT</td>\n",
              "      <td></td>\n",
              "      <td>False</td>\n",
              "    </tr>\n",
              "    <tr>\n",
              "      <th>14</th>\n",
              "      <td>he</td>\n",
              "      <td>haber</td>\n",
              "      <td>AUX</td>\n",
              "      <td></td>\n",
              "      <td>True</td>\n",
              "    </tr>\n",
              "    <tr>\n",
              "      <th>15</th>\n",
              "      <td>aquí</td>\n",
              "      <td>aquí</td>\n",
              "      <td>ADV</td>\n",
              "      <td></td>\n",
              "      <td>True</td>\n",
              "    </tr>\n",
              "    <tr>\n",
              "      <th>16</th>\n",
              "      <td>el</td>\n",
              "      <td>el</td>\n",
              "      <td>DET</td>\n",
              "      <td></td>\n",
              "      <td>True</td>\n",
              "    </tr>\n",
              "    <tr>\n",
              "      <th>17</th>\n",
              "      <td>cordero</td>\n",
              "      <td>cordero</td>\n",
              "      <td>NOUN</td>\n",
              "      <td></td>\n",
              "      <td>False</td>\n",
              "    </tr>\n",
              "    <tr>\n",
              "      <th>18</th>\n",
              "      <td>de</td>\n",
              "      <td>de</td>\n",
              "      <td>ADP</td>\n",
              "      <td></td>\n",
              "      <td>True</td>\n",
              "    </tr>\n",
              "    <tr>\n",
              "      <th>19</th>\n",
              "      <td>dios</td>\n",
              "      <td>dio</td>\n",
              "      <td>NOUN</td>\n",
              "      <td></td>\n",
              "      <td>False</td>\n",
              "    </tr>\n",
              "    <tr>\n",
              "      <th>20</th>\n",
              "      <td>,</td>\n",
              "      <td>,</td>\n",
              "      <td>PUNCT</td>\n",
              "      <td></td>\n",
              "      <td>False</td>\n",
              "    </tr>\n",
              "    <tr>\n",
              "      <th>21</th>\n",
              "      <td>que</td>\n",
              "      <td>que</td>\n",
              "      <td>PRON</td>\n",
              "      <td></td>\n",
              "      <td>True</td>\n",
              "    </tr>\n",
              "    <tr>\n",
              "      <th>22</th>\n",
              "      <td>quita</td>\n",
              "      <td>quitar</td>\n",
              "      <td>VERB</td>\n",
              "      <td></td>\n",
              "      <td>False</td>\n",
              "    </tr>\n",
              "    <tr>\n",
              "      <th>23</th>\n",
              "      <td>el</td>\n",
              "      <td>el</td>\n",
              "      <td>DET</td>\n",
              "      <td></td>\n",
              "      <td>True</td>\n",
              "    </tr>\n",
              "    <tr>\n",
              "      <th>24</th>\n",
              "      <td>pecado</td>\n",
              "      <td>pecado</td>\n",
              "      <td>NOUN</td>\n",
              "      <td></td>\n",
              "      <td>False</td>\n",
              "    </tr>\n",
              "    <tr>\n",
              "      <th>25</th>\n",
              "      <td>del</td>\n",
              "      <td>del</td>\n",
              "      <td>ADP</td>\n",
              "      <td></td>\n",
              "      <td>True</td>\n",
              "    </tr>\n",
              "    <tr>\n",
              "      <th>26</th>\n",
              "      <td>mundo</td>\n",
              "      <td>mundo</td>\n",
              "      <td>NOUN</td>\n",
              "      <td></td>\n",
              "      <td>False</td>\n",
              "    </tr>\n",
              "    <tr>\n",
              "      <th>27</th>\n",
              "      <td>.</td>\n",
              "      <td>.</td>\n",
              "      <td>PUNCT</td>\n",
              "      <td></td>\n",
              "      <td>False</td>\n",
              "    </tr>\n",
              "    <tr>\n",
              "      <th>28</th>\n",
              "      <td>36</td>\n",
              "      <td>36</td>\n",
              "      <td>NUM</td>\n",
              "      <td></td>\n",
              "      <td>False</td>\n",
              "    </tr>\n",
              "    <tr>\n",
              "      <th>29</th>\n",
              "      <td>y</td>\n",
              "      <td>y</td>\n",
              "      <td>CCONJ</td>\n",
              "      <td></td>\n",
              "      <td>True</td>\n",
              "    </tr>\n",
              "    <tr>\n",
              "      <th>30</th>\n",
              "      <td>mirando</td>\n",
              "      <td>mirar</td>\n",
              "      <td>VERB</td>\n",
              "      <td></td>\n",
              "      <td>False</td>\n",
              "    </tr>\n",
              "    <tr>\n",
              "      <th>31</th>\n",
              "      <td>á</td>\n",
              "      <td>á</td>\n",
              "      <td>CCONJ</td>\n",
              "      <td></td>\n",
              "      <td>True</td>\n",
              "    </tr>\n",
              "    <tr>\n",
              "      <th>32</th>\n",
              "      <td>jesús</td>\n",
              "      <td>jesús</td>\n",
              "      <td>NOUN</td>\n",
              "      <td></td>\n",
              "      <td>False</td>\n",
              "    </tr>\n",
              "    <tr>\n",
              "      <th>33</th>\n",
              "      <td>que</td>\n",
              "      <td>que</td>\n",
              "      <td>PRON</td>\n",
              "      <td></td>\n",
              "      <td>True</td>\n",
              "    </tr>\n",
              "    <tr>\n",
              "      <th>34</th>\n",
              "      <td>andaba</td>\n",
              "      <td>andar</td>\n",
              "      <td>VERB</td>\n",
              "      <td></td>\n",
              "      <td>False</td>\n",
              "    </tr>\n",
              "    <tr>\n",
              "      <th>35</th>\n",
              "      <td>por</td>\n",
              "      <td>por</td>\n",
              "      <td>ADP</td>\n",
              "      <td></td>\n",
              "      <td>True</td>\n",
              "    </tr>\n",
              "    <tr>\n",
              "      <th>36</th>\n",
              "      <td>[</td>\n",
              "      <td>[</td>\n",
              "      <td>ADP</td>\n",
              "      <td></td>\n",
              "      <td>False</td>\n",
              "    </tr>\n",
              "    <tr>\n",
              "      <th>37</th>\n",
              "      <td>allí</td>\n",
              "      <td>allí</td>\n",
              "      <td>ADV</td>\n",
              "      <td></td>\n",
              "      <td>True</td>\n",
              "    </tr>\n",
              "    <tr>\n",
              "      <th>38</th>\n",
              "      <td>]</td>\n",
              "      <td>]</td>\n",
              "      <td>NOUN</td>\n",
              "      <td></td>\n",
              "      <td>False</td>\n",
              "    </tr>\n",
              "    <tr>\n",
              "      <th>39</th>\n",
              "      <td>,</td>\n",
              "      <td>,</td>\n",
              "      <td>PUNCT</td>\n",
              "      <td></td>\n",
              "      <td>False</td>\n",
              "    </tr>\n",
              "    <tr>\n",
              "      <th>40</th>\n",
              "      <td>dijo</td>\n",
              "      <td>decir</td>\n",
              "      <td>VERB</td>\n",
              "      <td></td>\n",
              "      <td>True</td>\n",
              "    </tr>\n",
              "    <tr>\n",
              "      <th>41</th>\n",
              "      <td>:</td>\n",
              "      <td>:</td>\n",
              "      <td>PUNCT</td>\n",
              "      <td></td>\n",
              "      <td>False</td>\n",
              "    </tr>\n",
              "    <tr>\n",
              "      <th>42</th>\n",
              "      <td>he</td>\n",
              "      <td>haber</td>\n",
              "      <td>AUX</td>\n",
              "      <td></td>\n",
              "      <td>True</td>\n",
              "    </tr>\n",
              "    <tr>\n",
              "      <th>43</th>\n",
              "      <td>aquí</td>\n",
              "      <td>aquí</td>\n",
              "      <td>ADV</td>\n",
              "      <td></td>\n",
              "      <td>True</td>\n",
              "    </tr>\n",
              "    <tr>\n",
              "      <th>44</th>\n",
              "      <td>el</td>\n",
              "      <td>el</td>\n",
              "      <td>DET</td>\n",
              "      <td></td>\n",
              "      <td>True</td>\n",
              "    </tr>\n",
              "    <tr>\n",
              "      <th>45</th>\n",
              "      <td>cordero</td>\n",
              "      <td>cordero</td>\n",
              "      <td>NOUN</td>\n",
              "      <td></td>\n",
              "      <td>False</td>\n",
              "    </tr>\n",
              "    <tr>\n",
              "      <th>46</th>\n",
              "      <td>de</td>\n",
              "      <td>de</td>\n",
              "      <td>ADP</td>\n",
              "      <td></td>\n",
              "      <td>True</td>\n",
              "    </tr>\n",
              "    <tr>\n",
              "      <th>47</th>\n",
              "      <td>dios</td>\n",
              "      <td>dio</td>\n",
              "      <td>NOUN</td>\n",
              "      <td></td>\n",
              "      <td>False</td>\n",
              "    </tr>\n",
              "    <tr>\n",
              "      <th>48</th>\n",
              "      <td>.</td>\n",
              "      <td>.</td>\n",
              "      <td>PUNCT</td>\n",
              "      <td></td>\n",
              "      <td>False</td>\n",
              "    </tr>\n",
              "    <tr>\n",
              "      <th>49</th>\n",
              "      <td>37</td>\n",
              "      <td>37</td>\n",
              "      <td>NUM</td>\n",
              "      <td></td>\n",
              "      <td>False</td>\n",
              "    </tr>\n",
              "  </tbody>\n",
              "</table>\n",
              "</div>\n",
              "      <button class=\"colab-df-convert\" onclick=\"convertToInteractive('df-6d82c8bb-3aa9-428f-828a-09f9fa07210f')\"\n",
              "              title=\"Convert this dataframe to an interactive table.\"\n",
              "              style=\"display:none;\">\n",
              "        \n",
              "  <svg xmlns=\"http://www.w3.org/2000/svg\" height=\"24px\"viewBox=\"0 0 24 24\"\n",
              "       width=\"24px\">\n",
              "    <path d=\"M0 0h24v24H0V0z\" fill=\"none\"/>\n",
              "    <path d=\"M18.56 5.44l.94 2.06.94-2.06 2.06-.94-2.06-.94-.94-2.06-.94 2.06-2.06.94zm-11 1L8.5 8.5l.94-2.06 2.06-.94-2.06-.94L8.5 2.5l-.94 2.06-2.06.94zm10 10l.94 2.06.94-2.06 2.06-.94-2.06-.94-.94-2.06-.94 2.06-2.06.94z\"/><path d=\"M17.41 7.96l-1.37-1.37c-.4-.4-.92-.59-1.43-.59-.52 0-1.04.2-1.43.59L10.3 9.45l-7.72 7.72c-.78.78-.78 2.05 0 2.83L4 21.41c.39.39.9.59 1.41.59.51 0 1.02-.2 1.41-.59l7.78-7.78 2.81-2.81c.8-.78.8-2.07 0-2.86zM5.41 20L4 18.59l7.72-7.72 1.47 1.35L5.41 20z\"/>\n",
              "  </svg>\n",
              "      </button>\n",
              "      \n",
              "  <style>\n",
              "    .colab-df-container {\n",
              "      display:flex;\n",
              "      flex-wrap:wrap;\n",
              "      gap: 12px;\n",
              "    }\n",
              "\n",
              "    .colab-df-convert {\n",
              "      background-color: #E8F0FE;\n",
              "      border: none;\n",
              "      border-radius: 50%;\n",
              "      cursor: pointer;\n",
              "      display: none;\n",
              "      fill: #1967D2;\n",
              "      height: 32px;\n",
              "      padding: 0 0 0 0;\n",
              "      width: 32px;\n",
              "    }\n",
              "\n",
              "    .colab-df-convert:hover {\n",
              "      background-color: #E2EBFA;\n",
              "      box-shadow: 0px 1px 2px rgba(60, 64, 67, 0.3), 0px 1px 3px 1px rgba(60, 64, 67, 0.15);\n",
              "      fill: #174EA6;\n",
              "    }\n",
              "\n",
              "    [theme=dark] .colab-df-convert {\n",
              "      background-color: #3B4455;\n",
              "      fill: #D2E3FC;\n",
              "    }\n",
              "\n",
              "    [theme=dark] .colab-df-convert:hover {\n",
              "      background-color: #434B5C;\n",
              "      box-shadow: 0px 1px 3px 1px rgba(0, 0, 0, 0.15);\n",
              "      filter: drop-shadow(0px 1px 2px rgba(0, 0, 0, 0.3));\n",
              "      fill: #FFFFFF;\n",
              "    }\n",
              "  </style>\n",
              "\n",
              "      <script>\n",
              "        const buttonEl =\n",
              "          document.querySelector('#df-6d82c8bb-3aa9-428f-828a-09f9fa07210f button.colab-df-convert');\n",
              "        buttonEl.style.display =\n",
              "          google.colab.kernel.accessAllowed ? 'block' : 'none';\n",
              "\n",
              "        async function convertToInteractive(key) {\n",
              "          const element = document.querySelector('#df-6d82c8bb-3aa9-428f-828a-09f9fa07210f');\n",
              "          const dataTable =\n",
              "            await google.colab.kernel.invokeFunction('convertToInteractive',\n",
              "                                                     [key], {});\n",
              "          if (!dataTable) return;\n",
              "\n",
              "          const docLinkHtml = 'Like what you see? Visit the ' +\n",
              "            '<a target=\"_blank\" href=https://colab.research.google.com/notebooks/data_table.ipynb>data table notebook</a>'\n",
              "            + ' to learn more about interactive tables.';\n",
              "          element.innerHTML = '';\n",
              "          dataTable['output_type'] = 'display_data';\n",
              "          await google.colab.output.renderOutput(dataTable, element);\n",
              "          const docLink = document.createElement('div');\n",
              "          docLink.innerHTML = docLinkHtml;\n",
              "          element.appendChild(docLink);\n",
              "        }\n",
              "      </script>\n",
              "    </div>\n",
              "  </div>\n",
              "  "
            ]
          },
          "metadata": {},
          "execution_count": 30
        }
      ]
    },
    {
      "cell_type": "markdown",
      "metadata": {
        "application/vnd.databricks.v1+cell": {
          "title": "",
          "showTitle": false,
          "inputWidgets": {},
          "nuid": "ba5e5a1b-4ab3-46a0-a6d1-cc8680a99ea9"
        },
        "id": "DIpdshTBEVFj"
      },
      "source": [
        "extraigo solo adjetivos"
      ]
    },
    {
      "cell_type": "code",
      "metadata": {
        "application/vnd.databricks.v1+cell": {
          "title": "",
          "showTitle": false,
          "inputWidgets": {},
          "nuid": "10d32a83-1b71-42bc-a242-5936274b7f2a"
        },
        "id": "arJN0EwOEVFj",
        "colab": {
          "base_uri": "https://localhost:8080/",
          "height": 676
        },
        "outputId": "e34b07cf-ec45-4ac5-fc91-5472ae9db830"
      },
      "source": [
        "soloADJ=mibase[mibase[2]==\"ADJ\"]\n",
        "soloADJ.head(20)\n"
      ],
      "execution_count": 31,
      "outputs": [
        {
          "output_type": "execute_result",
          "data": {
            "text/plain": [
              "              0           1    2 3      4\n",
              "0     siguiente   siguiente  ADJ     True\n",
              "72      díceles       dícel  ADJ    False\n",
              "101     llamado     llamado  ADJ    False\n",
              "113   siguiente   siguiente  ADJ     True\n",
              "252      tercer      tercer  ADJ    False\n",
              "254  hiciéronse  hiciéronse  ADJ    False\n",
              "274     llamado     llamado  ADJ    False\n",
              "391     díjoles       díjol  ADJ    False\n",
              "447       mismo       mismo  ADJ     True\n",
              "516        dios         dio  ADJ    False\n",
              "527      cierto      cierto  ADJ     True\n",
              "530      cierto      cierto  ADJ     True\n",
              "571      cierto      cierto  ADJ     True\n",
              "574      cierto      cierto  ADJ     True\n",
              "620      cierto      cierto  ADJ     True\n",
              "623      cierto      cierto  ADJ     True\n",
              "648      pasado      pasado  ADJ     True\n",
              "680      eterna      eterno  ADJ    False\n",
              "761     cansado     cansado  ADJ    False\n",
              "778     samaria     samario  ADJ    False"
            ],
            "text/html": [
              "\n",
              "  <div id=\"df-13cf02e1-ea4b-481a-807e-1b4dee4c9820\">\n",
              "    <div class=\"colab-df-container\">\n",
              "      <div>\n",
              "<style scoped>\n",
              "    .dataframe tbody tr th:only-of-type {\n",
              "        vertical-align: middle;\n",
              "    }\n",
              "\n",
              "    .dataframe tbody tr th {\n",
              "        vertical-align: top;\n",
              "    }\n",
              "\n",
              "    .dataframe thead th {\n",
              "        text-align: right;\n",
              "    }\n",
              "</style>\n",
              "<table border=\"1\" class=\"dataframe\">\n",
              "  <thead>\n",
              "    <tr style=\"text-align: right;\">\n",
              "      <th></th>\n",
              "      <th>0</th>\n",
              "      <th>1</th>\n",
              "      <th>2</th>\n",
              "      <th>3</th>\n",
              "      <th>4</th>\n",
              "    </tr>\n",
              "  </thead>\n",
              "  <tbody>\n",
              "    <tr>\n",
              "      <th>0</th>\n",
              "      <td>siguiente</td>\n",
              "      <td>siguiente</td>\n",
              "      <td>ADJ</td>\n",
              "      <td></td>\n",
              "      <td>True</td>\n",
              "    </tr>\n",
              "    <tr>\n",
              "      <th>72</th>\n",
              "      <td>díceles</td>\n",
              "      <td>dícel</td>\n",
              "      <td>ADJ</td>\n",
              "      <td></td>\n",
              "      <td>False</td>\n",
              "    </tr>\n",
              "    <tr>\n",
              "      <th>101</th>\n",
              "      <td>llamado</td>\n",
              "      <td>llamado</td>\n",
              "      <td>ADJ</td>\n",
              "      <td></td>\n",
              "      <td>False</td>\n",
              "    </tr>\n",
              "    <tr>\n",
              "      <th>113</th>\n",
              "      <td>siguiente</td>\n",
              "      <td>siguiente</td>\n",
              "      <td>ADJ</td>\n",
              "      <td></td>\n",
              "      <td>True</td>\n",
              "    </tr>\n",
              "    <tr>\n",
              "      <th>252</th>\n",
              "      <td>tercer</td>\n",
              "      <td>tercer</td>\n",
              "      <td>ADJ</td>\n",
              "      <td></td>\n",
              "      <td>False</td>\n",
              "    </tr>\n",
              "    <tr>\n",
              "      <th>254</th>\n",
              "      <td>hiciéronse</td>\n",
              "      <td>hiciéronse</td>\n",
              "      <td>ADJ</td>\n",
              "      <td></td>\n",
              "      <td>False</td>\n",
              "    </tr>\n",
              "    <tr>\n",
              "      <th>274</th>\n",
              "      <td>llamado</td>\n",
              "      <td>llamado</td>\n",
              "      <td>ADJ</td>\n",
              "      <td></td>\n",
              "      <td>False</td>\n",
              "    </tr>\n",
              "    <tr>\n",
              "      <th>391</th>\n",
              "      <td>díjoles</td>\n",
              "      <td>díjol</td>\n",
              "      <td>ADJ</td>\n",
              "      <td></td>\n",
              "      <td>False</td>\n",
              "    </tr>\n",
              "    <tr>\n",
              "      <th>447</th>\n",
              "      <td>mismo</td>\n",
              "      <td>mismo</td>\n",
              "      <td>ADJ</td>\n",
              "      <td></td>\n",
              "      <td>True</td>\n",
              "    </tr>\n",
              "    <tr>\n",
              "      <th>516</th>\n",
              "      <td>dios</td>\n",
              "      <td>dio</td>\n",
              "      <td>ADJ</td>\n",
              "      <td></td>\n",
              "      <td>False</td>\n",
              "    </tr>\n",
              "    <tr>\n",
              "      <th>527</th>\n",
              "      <td>cierto</td>\n",
              "      <td>cierto</td>\n",
              "      <td>ADJ</td>\n",
              "      <td></td>\n",
              "      <td>True</td>\n",
              "    </tr>\n",
              "    <tr>\n",
              "      <th>530</th>\n",
              "      <td>cierto</td>\n",
              "      <td>cierto</td>\n",
              "      <td>ADJ</td>\n",
              "      <td></td>\n",
              "      <td>True</td>\n",
              "    </tr>\n",
              "    <tr>\n",
              "      <th>571</th>\n",
              "      <td>cierto</td>\n",
              "      <td>cierto</td>\n",
              "      <td>ADJ</td>\n",
              "      <td></td>\n",
              "      <td>True</td>\n",
              "    </tr>\n",
              "    <tr>\n",
              "      <th>574</th>\n",
              "      <td>cierto</td>\n",
              "      <td>cierto</td>\n",
              "      <td>ADJ</td>\n",
              "      <td></td>\n",
              "      <td>True</td>\n",
              "    </tr>\n",
              "    <tr>\n",
              "      <th>620</th>\n",
              "      <td>cierto</td>\n",
              "      <td>cierto</td>\n",
              "      <td>ADJ</td>\n",
              "      <td></td>\n",
              "      <td>True</td>\n",
              "    </tr>\n",
              "    <tr>\n",
              "      <th>623</th>\n",
              "      <td>cierto</td>\n",
              "      <td>cierto</td>\n",
              "      <td>ADJ</td>\n",
              "      <td></td>\n",
              "      <td>True</td>\n",
              "    </tr>\n",
              "    <tr>\n",
              "      <th>648</th>\n",
              "      <td>pasado</td>\n",
              "      <td>pasado</td>\n",
              "      <td>ADJ</td>\n",
              "      <td></td>\n",
              "      <td>True</td>\n",
              "    </tr>\n",
              "    <tr>\n",
              "      <th>680</th>\n",
              "      <td>eterna</td>\n",
              "      <td>eterno</td>\n",
              "      <td>ADJ</td>\n",
              "      <td></td>\n",
              "      <td>False</td>\n",
              "    </tr>\n",
              "    <tr>\n",
              "      <th>761</th>\n",
              "      <td>cansado</td>\n",
              "      <td>cansado</td>\n",
              "      <td>ADJ</td>\n",
              "      <td></td>\n",
              "      <td>False</td>\n",
              "    </tr>\n",
              "    <tr>\n",
              "      <th>778</th>\n",
              "      <td>samaria</td>\n",
              "      <td>samario</td>\n",
              "      <td>ADJ</td>\n",
              "      <td></td>\n",
              "      <td>False</td>\n",
              "    </tr>\n",
              "  </tbody>\n",
              "</table>\n",
              "</div>\n",
              "      <button class=\"colab-df-convert\" onclick=\"convertToInteractive('df-13cf02e1-ea4b-481a-807e-1b4dee4c9820')\"\n",
              "              title=\"Convert this dataframe to an interactive table.\"\n",
              "              style=\"display:none;\">\n",
              "        \n",
              "  <svg xmlns=\"http://www.w3.org/2000/svg\" height=\"24px\"viewBox=\"0 0 24 24\"\n",
              "       width=\"24px\">\n",
              "    <path d=\"M0 0h24v24H0V0z\" fill=\"none\"/>\n",
              "    <path d=\"M18.56 5.44l.94 2.06.94-2.06 2.06-.94-2.06-.94-.94-2.06-.94 2.06-2.06.94zm-11 1L8.5 8.5l.94-2.06 2.06-.94-2.06-.94L8.5 2.5l-.94 2.06-2.06.94zm10 10l.94 2.06.94-2.06 2.06-.94-2.06-.94-.94-2.06-.94 2.06-2.06.94z\"/><path d=\"M17.41 7.96l-1.37-1.37c-.4-.4-.92-.59-1.43-.59-.52 0-1.04.2-1.43.59L10.3 9.45l-7.72 7.72c-.78.78-.78 2.05 0 2.83L4 21.41c.39.39.9.59 1.41.59.51 0 1.02-.2 1.41-.59l7.78-7.78 2.81-2.81c.8-.78.8-2.07 0-2.86zM5.41 20L4 18.59l7.72-7.72 1.47 1.35L5.41 20z\"/>\n",
              "  </svg>\n",
              "      </button>\n",
              "      \n",
              "  <style>\n",
              "    .colab-df-container {\n",
              "      display:flex;\n",
              "      flex-wrap:wrap;\n",
              "      gap: 12px;\n",
              "    }\n",
              "\n",
              "    .colab-df-convert {\n",
              "      background-color: #E8F0FE;\n",
              "      border: none;\n",
              "      border-radius: 50%;\n",
              "      cursor: pointer;\n",
              "      display: none;\n",
              "      fill: #1967D2;\n",
              "      height: 32px;\n",
              "      padding: 0 0 0 0;\n",
              "      width: 32px;\n",
              "    }\n",
              "\n",
              "    .colab-df-convert:hover {\n",
              "      background-color: #E2EBFA;\n",
              "      box-shadow: 0px 1px 2px rgba(60, 64, 67, 0.3), 0px 1px 3px 1px rgba(60, 64, 67, 0.15);\n",
              "      fill: #174EA6;\n",
              "    }\n",
              "\n",
              "    [theme=dark] .colab-df-convert {\n",
              "      background-color: #3B4455;\n",
              "      fill: #D2E3FC;\n",
              "    }\n",
              "\n",
              "    [theme=dark] .colab-df-convert:hover {\n",
              "      background-color: #434B5C;\n",
              "      box-shadow: 0px 1px 3px 1px rgba(0, 0, 0, 0.15);\n",
              "      filter: drop-shadow(0px 1px 2px rgba(0, 0, 0, 0.3));\n",
              "      fill: #FFFFFF;\n",
              "    }\n",
              "  </style>\n",
              "\n",
              "      <script>\n",
              "        const buttonEl =\n",
              "          document.querySelector('#df-13cf02e1-ea4b-481a-807e-1b4dee4c9820 button.colab-df-convert');\n",
              "        buttonEl.style.display =\n",
              "          google.colab.kernel.accessAllowed ? 'block' : 'none';\n",
              "\n",
              "        async function convertToInteractive(key) {\n",
              "          const element = document.querySelector('#df-13cf02e1-ea4b-481a-807e-1b4dee4c9820');\n",
              "          const dataTable =\n",
              "            await google.colab.kernel.invokeFunction('convertToInteractive',\n",
              "                                                     [key], {});\n",
              "          if (!dataTable) return;\n",
              "\n",
              "          const docLinkHtml = 'Like what you see? Visit the ' +\n",
              "            '<a target=\"_blank\" href=https://colab.research.google.com/notebooks/data_table.ipynb>data table notebook</a>'\n",
              "            + ' to learn more about interactive tables.';\n",
              "          element.innerHTML = '';\n",
              "          dataTable['output_type'] = 'display_data';\n",
              "          await google.colab.output.renderOutput(dataTable, element);\n",
              "          const docLink = document.createElement('div');\n",
              "          docLink.innerHTML = docLinkHtml;\n",
              "          element.appendChild(docLink);\n",
              "        }\n",
              "      </script>\n",
              "    </div>\n",
              "  </div>\n",
              "  "
            ]
          },
          "metadata": {},
          "execution_count": 31
        }
      ]
    },
    {
      "cell_type": "markdown",
      "metadata": {
        "application/vnd.databricks.v1+cell": {
          "title": "",
          "showTitle": false,
          "inputWidgets": {},
          "nuid": "a012509b-c71b-40c4-9451-b2d666eb1d4b"
        },
        "id": "V-xFq_X4EVFj"
      },
      "source": [
        "y finalmente contamos los tokens adjetivos alrededor de jesús"
      ]
    },
    {
      "cell_type": "code",
      "metadata": {
        "application/vnd.databricks.v1+cell": {
          "title": "",
          "showTitle": false,
          "inputWidgets": {},
          "nuid": "63aa6931-5f5c-428d-b83f-5c06cc847f81"
        },
        "id": "WW0OZQJrEVFk",
        "colab": {
          "base_uri": "https://localhost:8080/",
          "height": 519
        },
        "outputId": "e8d970c1-0957-4949-ee57-677c8f343367"
      },
      "source": [
        "countsad=pd.value_counts(soloADJ[0]).to_frame().reset_index()\n",
        "countsad.columns=[\"adjetivo\",\"conteo\"]\n",
        "countsad.sort_values(\"conteo\", ascending=False)\n",
        "countsad.head(15)\n"
      ],
      "execution_count": 32,
      "outputs": [
        {
          "output_type": "execute_result",
          "data": {
            "text/plain": [
              "        adjetivo  conteo\n",
              "0         cierto      26\n",
              "1          mismo      14\n",
              "2          jesús      11\n",
              "3           dios       8\n",
              "4   respondióles       6\n",
              "5        escrito       5\n",
              "6              [       5\n",
              "7      verdadero       5\n",
              "8        díjoles       5\n",
              "9         lázaro       5\n",
              "10          solo       4\n",
              "11        eterna       4\n",
              "12         junto       4\n",
              "13       díceles       4\n",
              "14        pecado       3"
            ],
            "text/html": [
              "\n",
              "  <div id=\"df-3f83c70c-069c-4960-83fe-8e90708c54b9\">\n",
              "    <div class=\"colab-df-container\">\n",
              "      <div>\n",
              "<style scoped>\n",
              "    .dataframe tbody tr th:only-of-type {\n",
              "        vertical-align: middle;\n",
              "    }\n",
              "\n",
              "    .dataframe tbody tr th {\n",
              "        vertical-align: top;\n",
              "    }\n",
              "\n",
              "    .dataframe thead th {\n",
              "        text-align: right;\n",
              "    }\n",
              "</style>\n",
              "<table border=\"1\" class=\"dataframe\">\n",
              "  <thead>\n",
              "    <tr style=\"text-align: right;\">\n",
              "      <th></th>\n",
              "      <th>adjetivo</th>\n",
              "      <th>conteo</th>\n",
              "    </tr>\n",
              "  </thead>\n",
              "  <tbody>\n",
              "    <tr>\n",
              "      <th>0</th>\n",
              "      <td>cierto</td>\n",
              "      <td>26</td>\n",
              "    </tr>\n",
              "    <tr>\n",
              "      <th>1</th>\n",
              "      <td>mismo</td>\n",
              "      <td>14</td>\n",
              "    </tr>\n",
              "    <tr>\n",
              "      <th>2</th>\n",
              "      <td>jesús</td>\n",
              "      <td>11</td>\n",
              "    </tr>\n",
              "    <tr>\n",
              "      <th>3</th>\n",
              "      <td>dios</td>\n",
              "      <td>8</td>\n",
              "    </tr>\n",
              "    <tr>\n",
              "      <th>4</th>\n",
              "      <td>respondióles</td>\n",
              "      <td>6</td>\n",
              "    </tr>\n",
              "    <tr>\n",
              "      <th>5</th>\n",
              "      <td>escrito</td>\n",
              "      <td>5</td>\n",
              "    </tr>\n",
              "    <tr>\n",
              "      <th>6</th>\n",
              "      <td>[</td>\n",
              "      <td>5</td>\n",
              "    </tr>\n",
              "    <tr>\n",
              "      <th>7</th>\n",
              "      <td>verdadero</td>\n",
              "      <td>5</td>\n",
              "    </tr>\n",
              "    <tr>\n",
              "      <th>8</th>\n",
              "      <td>díjoles</td>\n",
              "      <td>5</td>\n",
              "    </tr>\n",
              "    <tr>\n",
              "      <th>9</th>\n",
              "      <td>lázaro</td>\n",
              "      <td>5</td>\n",
              "    </tr>\n",
              "    <tr>\n",
              "      <th>10</th>\n",
              "      <td>solo</td>\n",
              "      <td>4</td>\n",
              "    </tr>\n",
              "    <tr>\n",
              "      <th>11</th>\n",
              "      <td>eterna</td>\n",
              "      <td>4</td>\n",
              "    </tr>\n",
              "    <tr>\n",
              "      <th>12</th>\n",
              "      <td>junto</td>\n",
              "      <td>4</td>\n",
              "    </tr>\n",
              "    <tr>\n",
              "      <th>13</th>\n",
              "      <td>díceles</td>\n",
              "      <td>4</td>\n",
              "    </tr>\n",
              "    <tr>\n",
              "      <th>14</th>\n",
              "      <td>pecado</td>\n",
              "      <td>3</td>\n",
              "    </tr>\n",
              "  </tbody>\n",
              "</table>\n",
              "</div>\n",
              "      <button class=\"colab-df-convert\" onclick=\"convertToInteractive('df-3f83c70c-069c-4960-83fe-8e90708c54b9')\"\n",
              "              title=\"Convert this dataframe to an interactive table.\"\n",
              "              style=\"display:none;\">\n",
              "        \n",
              "  <svg xmlns=\"http://www.w3.org/2000/svg\" height=\"24px\"viewBox=\"0 0 24 24\"\n",
              "       width=\"24px\">\n",
              "    <path d=\"M0 0h24v24H0V0z\" fill=\"none\"/>\n",
              "    <path d=\"M18.56 5.44l.94 2.06.94-2.06 2.06-.94-2.06-.94-.94-2.06-.94 2.06-2.06.94zm-11 1L8.5 8.5l.94-2.06 2.06-.94-2.06-.94L8.5 2.5l-.94 2.06-2.06.94zm10 10l.94 2.06.94-2.06 2.06-.94-2.06-.94-.94-2.06-.94 2.06-2.06.94z\"/><path d=\"M17.41 7.96l-1.37-1.37c-.4-.4-.92-.59-1.43-.59-.52 0-1.04.2-1.43.59L10.3 9.45l-7.72 7.72c-.78.78-.78 2.05 0 2.83L4 21.41c.39.39.9.59 1.41.59.51 0 1.02-.2 1.41-.59l7.78-7.78 2.81-2.81c.8-.78.8-2.07 0-2.86zM5.41 20L4 18.59l7.72-7.72 1.47 1.35L5.41 20z\"/>\n",
              "  </svg>\n",
              "      </button>\n",
              "      \n",
              "  <style>\n",
              "    .colab-df-container {\n",
              "      display:flex;\n",
              "      flex-wrap:wrap;\n",
              "      gap: 12px;\n",
              "    }\n",
              "\n",
              "    .colab-df-convert {\n",
              "      background-color: #E8F0FE;\n",
              "      border: none;\n",
              "      border-radius: 50%;\n",
              "      cursor: pointer;\n",
              "      display: none;\n",
              "      fill: #1967D2;\n",
              "      height: 32px;\n",
              "      padding: 0 0 0 0;\n",
              "      width: 32px;\n",
              "    }\n",
              "\n",
              "    .colab-df-convert:hover {\n",
              "      background-color: #E2EBFA;\n",
              "      box-shadow: 0px 1px 2px rgba(60, 64, 67, 0.3), 0px 1px 3px 1px rgba(60, 64, 67, 0.15);\n",
              "      fill: #174EA6;\n",
              "    }\n",
              "\n",
              "    [theme=dark] .colab-df-convert {\n",
              "      background-color: #3B4455;\n",
              "      fill: #D2E3FC;\n",
              "    }\n",
              "\n",
              "    [theme=dark] .colab-df-convert:hover {\n",
              "      background-color: #434B5C;\n",
              "      box-shadow: 0px 1px 3px 1px rgba(0, 0, 0, 0.15);\n",
              "      filter: drop-shadow(0px 1px 2px rgba(0, 0, 0, 0.3));\n",
              "      fill: #FFFFFF;\n",
              "    }\n",
              "  </style>\n",
              "\n",
              "      <script>\n",
              "        const buttonEl =\n",
              "          document.querySelector('#df-3f83c70c-069c-4960-83fe-8e90708c54b9 button.colab-df-convert');\n",
              "        buttonEl.style.display =\n",
              "          google.colab.kernel.accessAllowed ? 'block' : 'none';\n",
              "\n",
              "        async function convertToInteractive(key) {\n",
              "          const element = document.querySelector('#df-3f83c70c-069c-4960-83fe-8e90708c54b9');\n",
              "          const dataTable =\n",
              "            await google.colab.kernel.invokeFunction('convertToInteractive',\n",
              "                                                     [key], {});\n",
              "          if (!dataTable) return;\n",
              "\n",
              "          const docLinkHtml = 'Like what you see? Visit the ' +\n",
              "            '<a target=\"_blank\" href=https://colab.research.google.com/notebooks/data_table.ipynb>data table notebook</a>'\n",
              "            + ' to learn more about interactive tables.';\n",
              "          element.innerHTML = '';\n",
              "          dataTable['output_type'] = 'display_data';\n",
              "          await google.colab.output.renderOutput(dataTable, element);\n",
              "          const docLink = document.createElement('div');\n",
              "          docLink.innerHTML = docLinkHtml;\n",
              "          element.appendChild(docLink);\n",
              "        }\n",
              "      </script>\n",
              "    </div>\n",
              "  </div>\n",
              "  "
            ]
          },
          "metadata": {},
          "execution_count": 32
        }
      ]
    },
    {
      "cell_type": "markdown",
      "source": [
        "Otra aplicación puede ser tener los \"casos\" de POS de un aspecto sintáctico que se busca (por ejemplo, colocaciones)"
      ],
      "metadata": {
        "id": "tNRab07YX72Q"
      }
    },
    {
      "cell_type": "code",
      "source": [
        "colocado=[]\n",
        "for x in range(0,len(doc1)):\n",
        "  if doc1[x].pos_==\"NOUN\" and doc1[x+1].pos_==\"ADJ\":\n",
        "    colocado.append(doc1[x].text +\" \"+ doc1[x+1].text) \n",
        "colocado[0:20]"
      ],
      "metadata": {
        "colab": {
          "base_uri": "https://localhost:8080/"
        },
        "id": "lQ4eYG5dSO9t",
        "outputId": "29aea194-bfab-4bc5-9a8b-8616265c0387"
      },
      "execution_count": 59,
      "outputs": [
        {
          "output_type": "execute_result",
          "data": {
            "text/plain": [
              "['hombre enviado',\n",
              " 'luz verdadera',\n",
              " 'fué dada',\n",
              " 'fué hecha',\n",
              " 'isaías profeta',\n",
              " 'espíritu santo',\n",
              " 'cosas mayores',\n",
              " 'cielo abierto',\n",
              " 'día hiciéronse',\n",
              " 'agua hecha',\n",
              " 'cambiadores sentados',\n",
              " 'templo edificado',\n",
              " 'dícele nicodemo',\n",
              " 'cosas terrenas',\n",
              " 'vida eterna',\n",
              " 'hijo unigénito',\n",
              " 'vida eterna',\n",
              " 'cosas terrenas',\n",
              " 'vida eterna',\n",
              " 'mujer samaritana']"
            ]
          },
          "metadata": {},
          "execution_count": 59
        }
      ]
    },
    {
      "cell_type": "code",
      "source": [
        "colocado2=[]\n",
        "for x in range(0,len(doc1)):\n",
        "  if doc1[x].pos_==\"NOUN\" and doc1[x+1].pos_==\"ADP\" and doc1[x+2].pos_==\"NOUN\":\n",
        "    colocado2.append(doc1[x].text +\" \"+ doc1[x+1].text+ \" \"+doc1[x+2].text) \n",
        "colocado2[0:20]"
      ],
      "metadata": {
        "colab": {
          "base_uri": "https://localhost:8080/"
        },
        "id": "ivNtzBcQT0Cq",
        "outputId": "da0c536d-ea3f-4587-af67-b7d438fa8bc9"
      },
      "execution_count": 63,
      "outputs": [
        {
          "output_type": "execute_result",
          "data": {
            "text/plain": [
              "['principio con dios',\n",
              " 'vino por testimonio',\n",
              " 'hijos de dios',\n",
              " 'voluntad de carne',\n",
              " 'unigénito del padre',\n",
              " 'verdad por jesucristo',\n",
              " 'seno del padre',\n",
              " 'camino del señor',\n",
              " 'medio de vosotros',\n",
              " 'correa del zapato',\n",
              " 'parte del jordán',\n",
              " 'cordero de dios',\n",
              " 'pecado del mundo',\n",
              " 'hijo de dios',\n",
              " 'cordero de dios',\n",
              " 'hijo de jonás',\n",
              " 'hijo de dios',\n",
              " 'ángeles de dios',\n",
              " 'hijo del hombre',\n",
              " 'tinajuelas de piedra']"
            ]
          },
          "metadata": {},
          "execution_count": 63
        }
      ]
    },
    {
      "cell_type": "code",
      "source": [
        "colocado3=[]\n",
        "for x in range(0,len(doc1)):\n",
        "  if doc1[x].pos_==\"VERB\" and doc1[x+1].pos_==\"DET\" and doc1[x+2].pos_==\"NOUN\":\n",
        "    colocado3.append(doc1[x].text +\" \"+ doc1[x+1].text+ \" \"+doc1[x+2].text) \n",
        "colocado3[0:20]"
      ],
      "metadata": {
        "colab": {
          "base_uri": "https://localhost:8080/"
        },
        "id": "lDecNWkRU8-h",
        "outputId": "5520010b-96e7-400f-d39a-35c92ee2215f"
      },
      "execution_count": 65,
      "outputs": [
        {
          "output_type": "execute_result",
          "data": {
            "text/plain": [
              "['fué un hombre',\n",
              " 'vimos su gloria',\n",
              " 'enderezad el camino',\n",
              " 'desatar la correa',\n",
              " 'quita el pecado',\n",
              " 'viene un varón',\n",
              " 'descender el espíritu',\n",
              " 'faltando el vino',\n",
              " 'venido mi hora',\n",
              " 'henchid estas tinajuelas',\n",
              " 'gustó el agua',\n",
              " 'sabían los sirvientes',\n",
              " 'sacado el agua',\n",
              " 'manifestó su gloria',\n",
              " 'hecho un azote',\n",
              " 'derramó los dineros',\n",
              " 'trastornó las mesas',\n",
              " 'vendían las palomas',\n",
              " 'hagáis la casa',\n",
              " 'acordaron sus discípulos']"
            ]
          },
          "metadata": {},
          "execution_count": 65
        }
      ]
    },
    {
      "cell_type": "code",
      "source": [
        "colocado4=[]\n",
        "for x in range(0,len(doc1)):\n",
        "  if doc1[x].pos_==\"VERB\" and doc1[x+1].pos_==\"ADP\" and doc1[x+2].pos_==\"NOUN\":\n",
        "    colocado4.append(doc1[x].text +\" \"+ doc1[x+1].text+ \" \"+doc1[x+2].text) \n",
        "colocado4[0:20]"
      ],
      "metadata": {
        "colab": {
          "base_uri": "https://localhost:8080/"
        },
        "id": "a1iCops9VesF",
        "outputId": "9f0c159a-f1bd-4ddb-c413-df3c0b4a9552"
      },
      "execution_count": 67,
      "outputs": [
        {
          "output_type": "execute_result",
          "data": {
            "text/plain": [
              "['engendrados de sangre',\n",
              " 'gracia por gracia',\n",
              " 'enviaron de jerusalem',\n",
              " 'bautizo con agua',\n",
              " 'acontecieron en betábara',\n",
              " 'bautizando con agua',\n",
              " 'vi al espíritu',\n",
              " 'descendía del cielo',\n",
              " 'bautizar con agua',\n",
              " 'bautiza con espíritu',\n",
              " 'hallado al mesías',\n",
              " 'llama al esposo',\n",
              " 'hablaba del templo',\n",
              " 'estando en jerusalem',\n",
              " 'venido de dios',\n",
              " 'nacido del espíritu',\n",
              " 'subió al cielo',\n",
              " 'descendió del cielo',\n",
              " 'condene al mundo',\n",
              " 'vino al mundo']"
            ]
          },
          "metadata": {},
          "execution_count": 67
        }
      ]
    },
    {
      "cell_type": "code",
      "source": [
        "total_colocado=colocado+colocado2+colocado3+colocado4\n",
        "coloc_potencial=pd.DataFrame(total_colocado)\n",
        "countsad1=pd.value_counts(coloc_potencial[0]).to_frame().reset_index()\n",
        "countsad1.columns=[\"colocacion\",\"conteo\"]\n",
        "countsad1.sort_values(\"conteo\", ascending=False)\n",
        "countsad1.head(15)"
      ],
      "metadata": {
        "colab": {
          "base_uri": "https://localhost:8080/",
          "height": 519
        },
        "id": "BsHIOFF3TV7I",
        "outputId": "f7c6a724-45e5-45d8-c290-4419e6ec2b19"
      },
      "execution_count": 68,
      "outputs": [
        {
          "output_type": "execute_result",
          "data": {
            "text/plain": [
              "          colocacion  conteo\n",
              "0        vida eterna      21\n",
              "1       hijo de dios      12\n",
              "2    hijo del hombre      12\n",
              "3     espíritu santo       9\n",
              "4      hijos de dios       7\n",
              "5     gloria de dios       6\n",
              "6       día postrero       6\n",
              "7   justicia de dios       6\n",
              "8       voy al padre       6\n",
              "9     abrió los ojos       4\n",
              "10  señor jesucristo       4\n",
              "11   venido al mundo       4\n",
              "12    juicio de dios       4\n",
              "13   palabra de dios       4\n",
              "14         saludad á       3"
            ],
            "text/html": [
              "\n",
              "  <div id=\"df-95d0f956-05a9-47c5-b548-2f2e933955f7\">\n",
              "    <div class=\"colab-df-container\">\n",
              "      <div>\n",
              "<style scoped>\n",
              "    .dataframe tbody tr th:only-of-type {\n",
              "        vertical-align: middle;\n",
              "    }\n",
              "\n",
              "    .dataframe tbody tr th {\n",
              "        vertical-align: top;\n",
              "    }\n",
              "\n",
              "    .dataframe thead th {\n",
              "        text-align: right;\n",
              "    }\n",
              "</style>\n",
              "<table border=\"1\" class=\"dataframe\">\n",
              "  <thead>\n",
              "    <tr style=\"text-align: right;\">\n",
              "      <th></th>\n",
              "      <th>colocacion</th>\n",
              "      <th>conteo</th>\n",
              "    </tr>\n",
              "  </thead>\n",
              "  <tbody>\n",
              "    <tr>\n",
              "      <th>0</th>\n",
              "      <td>vida eterna</td>\n",
              "      <td>21</td>\n",
              "    </tr>\n",
              "    <tr>\n",
              "      <th>1</th>\n",
              "      <td>hijo de dios</td>\n",
              "      <td>12</td>\n",
              "    </tr>\n",
              "    <tr>\n",
              "      <th>2</th>\n",
              "      <td>hijo del hombre</td>\n",
              "      <td>12</td>\n",
              "    </tr>\n",
              "    <tr>\n",
              "      <th>3</th>\n",
              "      <td>espíritu santo</td>\n",
              "      <td>9</td>\n",
              "    </tr>\n",
              "    <tr>\n",
              "      <th>4</th>\n",
              "      <td>hijos de dios</td>\n",
              "      <td>7</td>\n",
              "    </tr>\n",
              "    <tr>\n",
              "      <th>5</th>\n",
              "      <td>gloria de dios</td>\n",
              "      <td>6</td>\n",
              "    </tr>\n",
              "    <tr>\n",
              "      <th>6</th>\n",
              "      <td>día postrero</td>\n",
              "      <td>6</td>\n",
              "    </tr>\n",
              "    <tr>\n",
              "      <th>7</th>\n",
              "      <td>justicia de dios</td>\n",
              "      <td>6</td>\n",
              "    </tr>\n",
              "    <tr>\n",
              "      <th>8</th>\n",
              "      <td>voy al padre</td>\n",
              "      <td>6</td>\n",
              "    </tr>\n",
              "    <tr>\n",
              "      <th>9</th>\n",
              "      <td>abrió los ojos</td>\n",
              "      <td>4</td>\n",
              "    </tr>\n",
              "    <tr>\n",
              "      <th>10</th>\n",
              "      <td>señor jesucristo</td>\n",
              "      <td>4</td>\n",
              "    </tr>\n",
              "    <tr>\n",
              "      <th>11</th>\n",
              "      <td>venido al mundo</td>\n",
              "      <td>4</td>\n",
              "    </tr>\n",
              "    <tr>\n",
              "      <th>12</th>\n",
              "      <td>juicio de dios</td>\n",
              "      <td>4</td>\n",
              "    </tr>\n",
              "    <tr>\n",
              "      <th>13</th>\n",
              "      <td>palabra de dios</td>\n",
              "      <td>4</td>\n",
              "    </tr>\n",
              "    <tr>\n",
              "      <th>14</th>\n",
              "      <td>saludad á</td>\n",
              "      <td>3</td>\n",
              "    </tr>\n",
              "  </tbody>\n",
              "</table>\n",
              "</div>\n",
              "      <button class=\"colab-df-convert\" onclick=\"convertToInteractive('df-95d0f956-05a9-47c5-b548-2f2e933955f7')\"\n",
              "              title=\"Convert this dataframe to an interactive table.\"\n",
              "              style=\"display:none;\">\n",
              "        \n",
              "  <svg xmlns=\"http://www.w3.org/2000/svg\" height=\"24px\"viewBox=\"0 0 24 24\"\n",
              "       width=\"24px\">\n",
              "    <path d=\"M0 0h24v24H0V0z\" fill=\"none\"/>\n",
              "    <path d=\"M18.56 5.44l.94 2.06.94-2.06 2.06-.94-2.06-.94-.94-2.06-.94 2.06-2.06.94zm-11 1L8.5 8.5l.94-2.06 2.06-.94-2.06-.94L8.5 2.5l-.94 2.06-2.06.94zm10 10l.94 2.06.94-2.06 2.06-.94-2.06-.94-.94-2.06-.94 2.06-2.06.94z\"/><path d=\"M17.41 7.96l-1.37-1.37c-.4-.4-.92-.59-1.43-.59-.52 0-1.04.2-1.43.59L10.3 9.45l-7.72 7.72c-.78.78-.78 2.05 0 2.83L4 21.41c.39.39.9.59 1.41.59.51 0 1.02-.2 1.41-.59l7.78-7.78 2.81-2.81c.8-.78.8-2.07 0-2.86zM5.41 20L4 18.59l7.72-7.72 1.47 1.35L5.41 20z\"/>\n",
              "  </svg>\n",
              "      </button>\n",
              "      \n",
              "  <style>\n",
              "    .colab-df-container {\n",
              "      display:flex;\n",
              "      flex-wrap:wrap;\n",
              "      gap: 12px;\n",
              "    }\n",
              "\n",
              "    .colab-df-convert {\n",
              "      background-color: #E8F0FE;\n",
              "      border: none;\n",
              "      border-radius: 50%;\n",
              "      cursor: pointer;\n",
              "      display: none;\n",
              "      fill: #1967D2;\n",
              "      height: 32px;\n",
              "      padding: 0 0 0 0;\n",
              "      width: 32px;\n",
              "    }\n",
              "\n",
              "    .colab-df-convert:hover {\n",
              "      background-color: #E2EBFA;\n",
              "      box-shadow: 0px 1px 2px rgba(60, 64, 67, 0.3), 0px 1px 3px 1px rgba(60, 64, 67, 0.15);\n",
              "      fill: #174EA6;\n",
              "    }\n",
              "\n",
              "    [theme=dark] .colab-df-convert {\n",
              "      background-color: #3B4455;\n",
              "      fill: #D2E3FC;\n",
              "    }\n",
              "\n",
              "    [theme=dark] .colab-df-convert:hover {\n",
              "      background-color: #434B5C;\n",
              "      box-shadow: 0px 1px 3px 1px rgba(0, 0, 0, 0.15);\n",
              "      filter: drop-shadow(0px 1px 2px rgba(0, 0, 0, 0.3));\n",
              "      fill: #FFFFFF;\n",
              "    }\n",
              "  </style>\n",
              "\n",
              "      <script>\n",
              "        const buttonEl =\n",
              "          document.querySelector('#df-95d0f956-05a9-47c5-b548-2f2e933955f7 button.colab-df-convert');\n",
              "        buttonEl.style.display =\n",
              "          google.colab.kernel.accessAllowed ? 'block' : 'none';\n",
              "\n",
              "        async function convertToInteractive(key) {\n",
              "          const element = document.querySelector('#df-95d0f956-05a9-47c5-b548-2f2e933955f7');\n",
              "          const dataTable =\n",
              "            await google.colab.kernel.invokeFunction('convertToInteractive',\n",
              "                                                     [key], {});\n",
              "          if (!dataTable) return;\n",
              "\n",
              "          const docLinkHtml = 'Like what you see? Visit the ' +\n",
              "            '<a target=\"_blank\" href=https://colab.research.google.com/notebooks/data_table.ipynb>data table notebook</a>'\n",
              "            + ' to learn more about interactive tables.';\n",
              "          element.innerHTML = '';\n",
              "          dataTable['output_type'] = 'display_data';\n",
              "          await google.colab.output.renderOutput(dataTable, element);\n",
              "          const docLink = document.createElement('div');\n",
              "          docLink.innerHTML = docLinkHtml;\n",
              "          element.appendChild(docLink);\n",
              "        }\n",
              "      </script>\n",
              "    </div>\n",
              "  </div>\n",
              "  "
            ]
          },
          "metadata": {},
          "execution_count": 68
        }
      ]
    },
    {
      "cell_type": "code",
      "source": [
        "diccio_coloc={}\n",
        "for name,freq in countsad1.values:\n",
        "    diccio_coloc[name]=freq\n",
        "\n",
        "nube.generate_from_frequencies(frequencies=diccio_coloc)\n",
        "plt.figure()\n",
        "plt.imshow(nube, interpolation=\"bilinear\")\n",
        "plt.axis(\"off\")\n",
        "figure8=plt.show()\n",
        "display(figure8)"
      ],
      "metadata": {
        "colab": {
          "base_uri": "https://localhost:8080/",
          "height": 216
        },
        "id": "pf8qUdscWbYE",
        "outputId": "d52ac6d7-be3e-4fc3-ba6a-7dd2fdc2814f"
      },
      "execution_count": 71,
      "outputs": [
        {
          "output_type": "display_data",
          "data": {
            "text/plain": [
              "<Figure size 432x288 with 1 Axes>"
            ],
            "image/png": "[encoded data removed]"
          },
          "metadata": {
            "needs_background": "light"
          }
        },
        {
          "output_type": "display_data",
          "data": {
            "text/plain": [
              "None"
            ]
          },
          "metadata": {}
        }
      ]
    },
    {
      "cell_type": "markdown",
      "metadata": {
        "application/vnd.databricks.v1+cell": {
          "title": "",
          "showTitle": false,
          "inputWidgets": {},
          "nuid": "7306c3f0-b1ef-405c-a707-04e2c52cbf81"
        },
        "id": "zH9halQ8EVFk"
      },
      "source": [
        "##Dependency parsing\n",
        "Es posible con spacy ver la división de la oración *dependency parsing*, la cual presenta una estructura muy detallada (aunque no totalmente detallada) de cada oración, y trabajar exactamente con las características sintácticas que se deseen"
      ]
    },
    {
      "cell_type": "code",
      "metadata": {
        "application/vnd.databricks.v1+cell": {
          "title": "",
          "showTitle": false,
          "inputWidgets": {},
          "nuid": "ac8ba039-37ab-4951-91cd-a42e3129777c"
        },
        "id": "IifaLlChEVFk",
        "colab": {
          "base_uri": "https://localhost:8080/"
        },
        "outputId": "e6df0b6e-92a5-43d0-b5a2-438bcbea2cfa"
      },
      "source": [
        "from spacy import displacy\n",
        "\n",
        "frasesin=nlp(\"Yo quisiera saber porqué ese buen jugador hizo tan mala jugada\")\n",
        "\n",
        "frasesin2=nlp(\"Con este sol lo único que quiero es playa, un ceviche y una helada\")\n",
        "\n",
        "\n",
        "dep=[]\n",
        "for x in range(0,len(frasesin)):\n",
        "    dep.append([ frasesin[x].text, frasesin[x].dep_, frasesin[x].head.text])\n",
        "\n",
        "dep"
      ],
      "execution_count": 36,
      "outputs": [
        {
          "output_type": "execute_result",
          "data": {
            "text/plain": [
              "[['Yo', 'nsubj', 'quisiera'],\n",
              " ['quisiera', 'ROOT', 'quisiera'],\n",
              " ['saber', 'xcomp', 'quisiera'],\n",
              " ['porqué', 'obj', 'saber'],\n",
              " ['ese', 'det', 'jugador'],\n",
              " ['buen', 'amod', 'jugador'],\n",
              " ['jugador', 'obj', 'saber'],\n",
              " ['hizo', 'xcomp', 'quisiera'],\n",
              " ['tan', 'advmod', 'mala'],\n",
              " ['mala', 'advmod', 'hizo'],\n",
              " ['jugada', 'ROOT', 'jugada']]"
            ]
          },
          "metadata": {},
          "execution_count": 36
        }
      ]
    },
    {
      "cell_type": "code",
      "metadata": {
        "application/vnd.databricks.v1+cell": {
          "title": "",
          "showTitle": false,
          "inputWidgets": {},
          "nuid": "8e36afd0-bf6f-4f2b-9c8a-323dea32fdc3"
        },
        "id": "5uFNm3SiEVFm",
        "colab": {
          "base_uri": "https://localhost:8080/",
          "height": 36
        },
        "outputId": "29513f17-3d6b-4448-cf6a-022bbaa9706d"
      },
      "source": [
        "spacy.explain(\"advcl\")\n"
      ],
      "execution_count": 34,
      "outputs": [
        {
          "output_type": "execute_result",
          "data": {
            "text/plain": [
              "'adverbial clause modifier'"
            ],
            "application/vnd.google.colaboratory.intrinsic+json": {
              "type": "string"
            }
          },
          "metadata": {},
          "execution_count": 34
        }
      ]
    },
    {
      "cell_type": "code",
      "metadata": {
        "colab": {
          "base_uri": "https://localhost:8080/",
          "height": 358
        },
        "id": "n3B7r_bFDfFS",
        "outputId": "81821d23-55ac-4862-a161-65bf3e321f23"
      },
      "source": [
        "displacy.render(frasesin2, style='dep', jupyter=True, options={'distance': 90})"
      ],
      "execution_count": 35,
      "outputs": [
        {
          "output_type": "display_data",
          "data": {
            "text/plain": [
              "<IPython.core.display.HTML object>"
            ],
            "text/html": [
              "<span class=\"tex2jax_ignore\"><svg xmlns=\"http://www.w3.org/2000/svg\" xmlns:xlink=\"http://www.w3.org/1999/xlink\" xml:lang=\"es\" id=\"e04a7f5fba264f3d88b79f4e86daf204-0\" class=\"displacy\" width=\"1310\" height=\"317.0\" direction=\"ltr\" style=\"max-width: none; height: 317.0px; color: #000000; background: #ffffff; font-family: Arial; direction: ltr\">\n",
              "<text class=\"displacy-token\" fill=\"currentColor\" text-anchor=\"middle\" y=\"227.0\">\n",
              "    <tspan class=\"displacy-word\" fill=\"currentColor\" x=\"50\">Con</tspan>\n",
              "    <tspan class=\"displacy-tag\" dy=\"2em\" fill=\"currentColor\" x=\"50\">ADP</tspan>\n",
              "</text>\n",
              "\n",
              "<text class=\"displacy-token\" fill=\"currentColor\" text-anchor=\"middle\" y=\"227.0\">\n",
              "    <tspan class=\"displacy-word\" fill=\"currentColor\" x=\"140\">este</tspan>\n",
              "    <tspan class=\"displacy-tag\" dy=\"2em\" fill=\"currentColor\" x=\"140\">DET</tspan>\n",
              "</text>\n",
              "\n",
              "<text class=\"displacy-token\" fill=\"currentColor\" text-anchor=\"middle\" y=\"227.0\">\n",
              "    <tspan class=\"displacy-word\" fill=\"currentColor\" x=\"230\">sol</tspan>\n",
              "    <tspan class=\"displacy-tag\" dy=\"2em\" fill=\"currentColor\" x=\"230\">NOUN</tspan>\n",
              "</text>\n",
              "\n",
              "<text class=\"displacy-token\" fill=\"currentColor\" text-anchor=\"middle\" y=\"227.0\">\n",
              "    <tspan class=\"displacy-word\" fill=\"currentColor\" x=\"320\">lo</tspan>\n",
              "    <tspan class=\"displacy-tag\" dy=\"2em\" fill=\"currentColor\" x=\"320\">PRON</tspan>\n",
              "</text>\n",
              "\n",
              "<text class=\"displacy-token\" fill=\"currentColor\" text-anchor=\"middle\" y=\"227.0\">\n",
              "    <tspan class=\"displacy-word\" fill=\"currentColor\" x=\"410\">único</tspan>\n",
              "    <tspan class=\"displacy-tag\" dy=\"2em\" fill=\"currentColor\" x=\"410\">ADJ</tspan>\n",
              "</text>\n",
              "\n",
              "<text class=\"displacy-token\" fill=\"currentColor\" text-anchor=\"middle\" y=\"227.0\">\n",
              "    <tspan class=\"displacy-word\" fill=\"currentColor\" x=\"500\">que</tspan>\n",
              "    <tspan class=\"displacy-tag\" dy=\"2em\" fill=\"currentColor\" x=\"500\">PRON</tspan>\n",
              "</text>\n",
              "\n",
              "<text class=\"displacy-token\" fill=\"currentColor\" text-anchor=\"middle\" y=\"227.0\">\n",
              "    <tspan class=\"displacy-word\" fill=\"currentColor\" x=\"590\">quiero</tspan>\n",
              "    <tspan class=\"displacy-tag\" dy=\"2em\" fill=\"currentColor\" x=\"590\">VERB</tspan>\n",
              "</text>\n",
              "\n",
              "<text class=\"displacy-token\" fill=\"currentColor\" text-anchor=\"middle\" y=\"227.0\">\n",
              "    <tspan class=\"displacy-word\" fill=\"currentColor\" x=\"680\">es</tspan>\n",
              "    <tspan class=\"displacy-tag\" dy=\"2em\" fill=\"currentColor\" x=\"680\">AUX</tspan>\n",
              "</text>\n",
              "\n",
              "<text class=\"displacy-token\" fill=\"currentColor\" text-anchor=\"middle\" y=\"227.0\">\n",
              "    <tspan class=\"displacy-word\" fill=\"currentColor\" x=\"770\">playa,</tspan>\n",
              "    <tspan class=\"displacy-tag\" dy=\"2em\" fill=\"currentColor\" x=\"770\">NOUN</tspan>\n",
              "</text>\n",
              "\n",
              "<text class=\"displacy-token\" fill=\"currentColor\" text-anchor=\"middle\" y=\"227.0\">\n",
              "    <tspan class=\"displacy-word\" fill=\"currentColor\" x=\"860\">un</tspan>\n",
              "    <tspan class=\"displacy-tag\" dy=\"2em\" fill=\"currentColor\" x=\"860\">DET</tspan>\n",
              "</text>\n",
              "\n",
              "<text class=\"displacy-token\" fill=\"currentColor\" text-anchor=\"middle\" y=\"227.0\">\n",
              "    <tspan class=\"displacy-word\" fill=\"currentColor\" x=\"950\">ceviche</tspan>\n",
              "    <tspan class=\"displacy-tag\" dy=\"2em\" fill=\"currentColor\" x=\"950\">NOUN</tspan>\n",
              "</text>\n",
              "\n",
              "<text class=\"displacy-token\" fill=\"currentColor\" text-anchor=\"middle\" y=\"227.0\">\n",
              "    <tspan class=\"displacy-word\" fill=\"currentColor\" x=\"1040\">y</tspan>\n",
              "    <tspan class=\"displacy-tag\" dy=\"2em\" fill=\"currentColor\" x=\"1040\">CCONJ</tspan>\n",
              "</text>\n",
              "\n",
              "<text class=\"displacy-token\" fill=\"currentColor\" text-anchor=\"middle\" y=\"227.0\">\n",
              "    <tspan class=\"displacy-word\" fill=\"currentColor\" x=\"1130\">una</tspan>\n",
              "    <tspan class=\"displacy-tag\" dy=\"2em\" fill=\"currentColor\" x=\"1130\">DET</tspan>\n",
              "</text>\n",
              "\n",
              "<text class=\"displacy-token\" fill=\"currentColor\" text-anchor=\"middle\" y=\"227.0\">\n",
              "    <tspan class=\"displacy-word\" fill=\"currentColor\" x=\"1220\">helada</tspan>\n",
              "    <tspan class=\"displacy-tag\" dy=\"2em\" fill=\"currentColor\" x=\"1220\">NOUN</tspan>\n",
              "</text>\n",
              "\n",
              "<g class=\"displacy-arrow\">\n",
              "    <path class=\"displacy-arc\" id=\"arrow-e04a7f5fba264f3d88b79f4e86daf204-0-0\" stroke-width=\"2px\" d=\"M70,182.0 C70,92.0 220.0,92.0 220.0,182.0\" fill=\"none\" stroke=\"currentColor\"/>\n",
              "    <text dy=\"1.25em\" style=\"font-size: 0.8em; letter-spacing: 1px\">\n",
              "        <textPath xlink:href=\"#arrow-e04a7f5fba264f3d88b79f4e86daf204-0-0\" class=\"displacy-label\" startOffset=\"50%\" side=\"left\" fill=\"currentColor\" text-anchor=\"middle\">case</textPath>\n",
              "    </text>\n",
              "    <path class=\"displacy-arrowhead\" d=\"M70,184.0 L62,172.0 78,172.0\" fill=\"currentColor\"/>\n",
              "</g>\n",
              "\n",
              "<g class=\"displacy-arrow\">\n",
              "    <path class=\"displacy-arc\" id=\"arrow-e04a7f5fba264f3d88b79f4e86daf204-0-1\" stroke-width=\"2px\" d=\"M160,182.0 C160,137.0 215.0,137.0 215.0,182.0\" fill=\"none\" stroke=\"currentColor\"/>\n",
              "    <text dy=\"1.25em\" style=\"font-size: 0.8em; letter-spacing: 1px\">\n",
              "        <textPath xlink:href=\"#arrow-e04a7f5fba264f3d88b79f4e86daf204-0-1\" class=\"displacy-label\" startOffset=\"50%\" side=\"left\" fill=\"currentColor\" text-anchor=\"middle\">det</textPath>\n",
              "    </text>\n",
              "    <path class=\"displacy-arrowhead\" d=\"M160,184.0 L152,172.0 168,172.0\" fill=\"currentColor\"/>\n",
              "</g>\n",
              "\n",
              "<g class=\"displacy-arrow\">\n",
              "    <path class=\"displacy-arc\" id=\"arrow-e04a7f5fba264f3d88b79f4e86daf204-0-2\" stroke-width=\"2px\" d=\"M250,182.0 C250,2.0 680.0,2.0 680.0,182.0\" fill=\"none\" stroke=\"currentColor\"/>\n",
              "    <text dy=\"1.25em\" style=\"font-size: 0.8em; letter-spacing: 1px\">\n",
              "        <textPath xlink:href=\"#arrow-e04a7f5fba264f3d88b79f4e86daf204-0-2\" class=\"displacy-label\" startOffset=\"50%\" side=\"left\" fill=\"currentColor\" text-anchor=\"middle\">obl</textPath>\n",
              "    </text>\n",
              "    <path class=\"displacy-arrowhead\" d=\"M250,184.0 L242,172.0 258,172.0\" fill=\"currentColor\"/>\n",
              "</g>\n",
              "\n",
              "<g class=\"displacy-arrow\">\n",
              "    <path class=\"displacy-arc\" id=\"arrow-e04a7f5fba264f3d88b79f4e86daf204-0-3\" stroke-width=\"2px\" d=\"M340,182.0 C340,47.0 585.0,47.0 585.0,182.0\" fill=\"none\" stroke=\"currentColor\"/>\n",
              "    <text dy=\"1.25em\" style=\"font-size: 0.8em; letter-spacing: 1px\">\n",
              "        <textPath xlink:href=\"#arrow-e04a7f5fba264f3d88b79f4e86daf204-0-3\" class=\"displacy-label\" startOffset=\"50%\" side=\"left\" fill=\"currentColor\" text-anchor=\"middle\">det</textPath>\n",
              "    </text>\n",
              "    <path class=\"displacy-arrowhead\" d=\"M340,184.0 L332,172.0 348,172.0\" fill=\"currentColor\"/>\n",
              "</g>\n",
              "\n",
              "<g class=\"displacy-arrow\">\n",
              "    <path class=\"displacy-arc\" id=\"arrow-e04a7f5fba264f3d88b79f4e86daf204-0-4\" stroke-width=\"2px\" d=\"M430,182.0 C430,92.0 580.0,92.0 580.0,182.0\" fill=\"none\" stroke=\"currentColor\"/>\n",
              "    <text dy=\"1.25em\" style=\"font-size: 0.8em; letter-spacing: 1px\">\n",
              "        <textPath xlink:href=\"#arrow-e04a7f5fba264f3d88b79f4e86daf204-0-4\" class=\"displacy-label\" startOffset=\"50%\" side=\"left\" fill=\"currentColor\" text-anchor=\"middle\">amod</textPath>\n",
              "    </text>\n",
              "    <path class=\"displacy-arrowhead\" d=\"M430,184.0 L422,172.0 438,172.0\" fill=\"currentColor\"/>\n",
              "</g>\n",
              "\n",
              "<g class=\"displacy-arrow\">\n",
              "    <path class=\"displacy-arc\" id=\"arrow-e04a7f5fba264f3d88b79f4e86daf204-0-5\" stroke-width=\"2px\" d=\"M520,182.0 C520,137.0 575.0,137.0 575.0,182.0\" fill=\"none\" stroke=\"currentColor\"/>\n",
              "    <text dy=\"1.25em\" style=\"font-size: 0.8em; letter-spacing: 1px\">\n",
              "        <textPath xlink:href=\"#arrow-e04a7f5fba264f3d88b79f4e86daf204-0-5\" class=\"displacy-label\" startOffset=\"50%\" side=\"left\" fill=\"currentColor\" text-anchor=\"middle\">obj</textPath>\n",
              "    </text>\n",
              "    <path class=\"displacy-arrowhead\" d=\"M520,184.0 L512,172.0 528,172.0\" fill=\"currentColor\"/>\n",
              "</g>\n",
              "\n",
              "<g class=\"displacy-arrow\">\n",
              "    <path class=\"displacy-arc\" id=\"arrow-e04a7f5fba264f3d88b79f4e86daf204-0-6\" stroke-width=\"2px\" d=\"M610,182.0 C610,137.0 665.0,137.0 665.0,182.0\" fill=\"none\" stroke=\"currentColor\"/>\n",
              "    <text dy=\"1.25em\" style=\"font-size: 0.8em; letter-spacing: 1px\">\n",
              "        <textPath xlink:href=\"#arrow-e04a7f5fba264f3d88b79f4e86daf204-0-6\" class=\"displacy-label\" startOffset=\"50%\" side=\"left\" fill=\"currentColor\" text-anchor=\"middle\">csubj</textPath>\n",
              "    </text>\n",
              "    <path class=\"displacy-arrowhead\" d=\"M610,184.0 L602,172.0 618,172.0\" fill=\"currentColor\"/>\n",
              "</g>\n",
              "\n",
              "<g class=\"displacy-arrow\">\n",
              "    <path class=\"displacy-arc\" id=\"arrow-e04a7f5fba264f3d88b79f4e86daf204-0-7\" stroke-width=\"2px\" d=\"M700,182.0 C700,137.0 755.0,137.0 755.0,182.0\" fill=\"none\" stroke=\"currentColor\"/>\n",
              "    <text dy=\"1.25em\" style=\"font-size: 0.8em; letter-spacing: 1px\">\n",
              "        <textPath xlink:href=\"#arrow-e04a7f5fba264f3d88b79f4e86daf204-0-7\" class=\"displacy-label\" startOffset=\"50%\" side=\"left\" fill=\"currentColor\" text-anchor=\"middle\">obj</textPath>\n",
              "    </text>\n",
              "    <path class=\"displacy-arrowhead\" d=\"M755.0,184.0 L763.0,172.0 747.0,172.0\" fill=\"currentColor\"/>\n",
              "</g>\n",
              "\n",
              "<g class=\"displacy-arrow\">\n",
              "    <path class=\"displacy-arc\" id=\"arrow-e04a7f5fba264f3d88b79f4e86daf204-0-8\" stroke-width=\"2px\" d=\"M880,182.0 C880,137.0 935.0,137.0 935.0,182.0\" fill=\"none\" stroke=\"currentColor\"/>\n",
              "    <text dy=\"1.25em\" style=\"font-size: 0.8em; letter-spacing: 1px\">\n",
              "        <textPath xlink:href=\"#arrow-e04a7f5fba264f3d88b79f4e86daf204-0-8\" class=\"displacy-label\" startOffset=\"50%\" side=\"left\" fill=\"currentColor\" text-anchor=\"middle\">det</textPath>\n",
              "    </text>\n",
              "    <path class=\"displacy-arrowhead\" d=\"M880,184.0 L872,172.0 888,172.0\" fill=\"currentColor\"/>\n",
              "</g>\n",
              "\n",
              "<g class=\"displacy-arrow\">\n",
              "    <path class=\"displacy-arc\" id=\"arrow-e04a7f5fba264f3d88b79f4e86daf204-0-9\" stroke-width=\"2px\" d=\"M700,182.0 C700,92.0 940.0,92.0 940.0,182.0\" fill=\"none\" stroke=\"currentColor\"/>\n",
              "    <text dy=\"1.25em\" style=\"font-size: 0.8em; letter-spacing: 1px\">\n",
              "        <textPath xlink:href=\"#arrow-e04a7f5fba264f3d88b79f4e86daf204-0-9\" class=\"displacy-label\" startOffset=\"50%\" side=\"left\" fill=\"currentColor\" text-anchor=\"middle\">obl</textPath>\n",
              "    </text>\n",
              "    <path class=\"displacy-arrowhead\" d=\"M940.0,184.0 L948.0,172.0 932.0,172.0\" fill=\"currentColor\"/>\n",
              "</g>\n",
              "\n",
              "<g class=\"displacy-arrow\">\n",
              "    <path class=\"displacy-arc\" id=\"arrow-e04a7f5fba264f3d88b79f4e86daf204-0-10\" stroke-width=\"2px\" d=\"M1060,182.0 C1060,92.0 1210.0,92.0 1210.0,182.0\" fill=\"none\" stroke=\"currentColor\"/>\n",
              "    <text dy=\"1.25em\" style=\"font-size: 0.8em; letter-spacing: 1px\">\n",
              "        <textPath xlink:href=\"#arrow-e04a7f5fba264f3d88b79f4e86daf204-0-10\" class=\"displacy-label\" startOffset=\"50%\" side=\"left\" fill=\"currentColor\" text-anchor=\"middle\">cc</textPath>\n",
              "    </text>\n",
              "    <path class=\"displacy-arrowhead\" d=\"M1060,184.0 L1052,172.0 1068,172.0\" fill=\"currentColor\"/>\n",
              "</g>\n",
              "\n",
              "<g class=\"displacy-arrow\">\n",
              "    <path class=\"displacy-arc\" id=\"arrow-e04a7f5fba264f3d88b79f4e86daf204-0-11\" stroke-width=\"2px\" d=\"M1150,182.0 C1150,137.0 1205.0,137.0 1205.0,182.0\" fill=\"none\" stroke=\"currentColor\"/>\n",
              "    <text dy=\"1.25em\" style=\"font-size: 0.8em; letter-spacing: 1px\">\n",
              "        <textPath xlink:href=\"#arrow-e04a7f5fba264f3d88b79f4e86daf204-0-11\" class=\"displacy-label\" startOffset=\"50%\" side=\"left\" fill=\"currentColor\" text-anchor=\"middle\">det</textPath>\n",
              "    </text>\n",
              "    <path class=\"displacy-arrowhead\" d=\"M1150,184.0 L1142,172.0 1158,172.0\" fill=\"currentColor\"/>\n",
              "</g>\n",
              "\n",
              "<g class=\"displacy-arrow\">\n",
              "    <path class=\"displacy-arc\" id=\"arrow-e04a7f5fba264f3d88b79f4e86daf204-0-12\" stroke-width=\"2px\" d=\"M700,182.0 C700,47.0 1215.0,47.0 1215.0,182.0\" fill=\"none\" stroke=\"currentColor\"/>\n",
              "    <text dy=\"1.25em\" style=\"font-size: 0.8em; letter-spacing: 1px\">\n",
              "        <textPath xlink:href=\"#arrow-e04a7f5fba264f3d88b79f4e86daf204-0-12\" class=\"displacy-label\" startOffset=\"50%\" side=\"left\" fill=\"currentColor\" text-anchor=\"middle\">conj</textPath>\n",
              "    </text>\n",
              "    <path class=\"displacy-arrowhead\" d=\"M1215.0,184.0 L1223.0,172.0 1207.0,172.0\" fill=\"currentColor\"/>\n",
              "</g>\n",
              "</svg></span>"
            ]
          },
          "metadata": {}
        }
      ]
    },
    {
      "cell_type": "markdown",
      "source": [
        "De ese modo podemos mejorar nuestra búsqueda de los adjetivos alrededor de una entidad"
      ],
      "metadata": {
        "id": "pIay-b35M3Ts"
      }
    },
    {
      "cell_type": "code",
      "source": [
        "adjesus=[]\n",
        "for x in range(0,len(doc3)):\n",
        "    adjesus.append([doc3[x].text, doc3[x].dep_, doc3[x].head.text])\n",
        "adjesus[0:20]\n",
        "jesus_tot2=[item for item in adjesus if (item[0]==\"jesús\")or (item[2]==\"jesús\")]\n",
        "jesus_tot2"
      ],
      "metadata": {
        "colab": {
          "base_uri": "https://localhost:8080/"
        },
        "id": "Xuirc3hzNFIx",
        "outputId": "059340cc-5566-4727-e595-49e0fed35273"
      },
      "execution_count": 53,
      "outputs": [
        {
          "output_type": "execute_result",
          "data": {
            "text/plain": [
              "[['á', 'cc', 'jesús'],\n",
              " ['jesús', 'obl', 've'],\n",
              " ['á', 'cc', 'jesús'],\n",
              " ['jesús', 'obj', 'mirando'],\n",
              " ['andaba', 'acl', 'jesús'],\n",
              " ['á', 'case', 'jesús'],\n",
              " ['jesús', 'obj', 'siguieron'],\n",
              " ['jesús', 'obj', 'volviéndose'],\n",
              " ['á', 'case', 'jesús'],\n",
              " ['jesús', 'obl', 'trajo'],\n",
              " ['jesús', 'flat', 'mirándole'],\n",
              " ['jesús', 'obj', 'quiso'],\n",
              " ['ir', 'flat', 'jesús'],\n",
              " ['galilea', 'flat', 'jesús'],\n",
              " ['jesús', 'dep', 'á'],\n",
              " ['jesús', 'flat', '47'],\n",
              " ['jesús', 'nsubj', 'respondió'],\n",
              " ['jesús', 'nsubj', 'respondió'],\n",
              " ['de', 'case', 'jesús'],\n",
              " ['jesús', 'nmod', 'madre'],\n",
              " ['jesús', 'obj', 'llamado'],\n",
              " ['discípulos', 'conj', 'jesús'],\n",
              " ['de', 'case', 'jesús'],\n",
              " ['jesús', 'nmod', 'madre'],\n",
              " ['jesús', 'flat', 'dícele'],\n",
              " ['jesús', 'appos', 'díceles'],\n",
              " ['jesús', 'obj', 'hizo'],\n",
              " ['jesús', 'obj', 'subió'],\n",
              " ['jerusalem', 'flat', 'jesús'],\n",
              " ['jesús', 'obj', 'respondió'],\n",
              " ['jesús', 'nsubj', 'dicho'],\n",
              " ['el', 'det', 'jesús'],\n",
              " ['jesús', 'nsubj', 'confiaba'],\n",
              " ['á', 'cc', 'jesús'],\n",
              " ['jesús', 'conj', 'vino'],\n",
              " ['noche', 'flat', 'jesús'],\n",
              " ['jesús', 'nsubj', 'respondió'],\n",
              " ['jesús', 'obj', 'respondió'],\n",
              " ['jesús', 'nsubj', 'respondió'],\n",
              " ['jesús', 'flat', 'vino'],\n",
              " ['como', 'mark', 'jesús'],\n",
              " ['jesús', 'nsubj', 'entendió'],\n",
              " ['jesús', 'nsubj', 'hacía'],\n",
              " ['jesús', 'nsubj', 'bautizaba'],\n",
              " ['jesús', 'nsubj', 'sentó'],\n",
              " ['cansado', 'amod', 'jesús'],\n",
              " ['jesús', 'nsubj', 'dice'],\n",
              " ['jesús', 'nsubj', 'respondió'],\n",
              " ['jesús', 'obj', 'respondió'],\n",
              " ['16', 'nummod', 'jesús'],\n",
              " ['jesús', 'nsubj', 'dice'],\n",
              " ['jesús', 'flat', 'dícele'],\n",
              " ['jesús', 'appos', 'dícele'],\n",
              " ['jesús', 'appos', 'dícele'],\n",
              " ['jesús', 'appos', 'díceles'],\n",
              " ['el', 'det', 'jesús'],\n",
              " ['jesús', 'nsubj', 'dió'],\n",
              " ['pues', 'mark', 'jesús'],\n",
              " ['jesús', 'flat', 'vino'],\n",
              " ['vez', 'flat', 'jesús'],\n",
              " ['caná', 'conj', 'jesús'],\n",
              " ['jesús', 'nsubj', 'venía'],\n",
              " ['jesús', 'nsubj', 'dijo'],\n",
              " ['jesús', 'flat', 'dícele'],\n",
              " ['jesús', 'nsubj', 'dijo'],\n",
              " ['jesús', 'nsubj', 'dijo'],\n",
              " ['jesús', 'obj', 'volvió'],\n",
              " ['jesús', 'obj', 'subió'],\n",
              " ['jerusalem', 'flat', 'jesús'],\n",
              " ['como', 'mark', 'jesús'],\n",
              " ['jesús', 'ROOT', 'jesús'],\n",
              " ['vió', 'flat', 'jesús'],\n",
              " ['éste', 'conj', 'jesús'],\n",
              " ['echado', 'amod', 'jesús'],\n",
              " ['entendió', 'conj', 'jesús'],\n",
              " ['jesús', 'flat', 'dícele'],\n",
              " ['jesús', 'nsubj', 'apartado'],\n",
              " ['jesús', 'nsubj', 'halló'],\n",
              " ['jesús', 'nsubj', 'era'],\n",
              " ['á', 'case', 'jesús'],\n",
              " ['jesús', 'obj', 'perseguían'],\n",
              " ['y', 'cc', 'jesús'],\n",
              " ['jesús', 'nsubj', 'respondió'],\n",
              " ['jesús', 'obj', 'respondió'],\n",
              " ['jesús', 'flat', 'fuése'],\n",
              " ['jesús', 'obj', 'subió'],\n",
              " ['jesús', 'flat', 'alzó'],\n",
              " ['jesús', 'nsubj', 'dijo'],\n",
              " ['jesús', 'obj', 'tomó'],\n",
              " ['jesús', 'nsubj', 'hecho'],\n",
              " ['jesús', 'obj', 'entendiendo'],\n",
              " ['jesús', 'nsubj', 'venido'],\n",
              " ['á', 'case', 'jesús'],\n",
              " ['jesús', 'obj', 'ven'],\n",
              " ['andaba', 'acl', 'jesús'],\n",
              " ['jesús', 'nsubj', 'entrado'],\n",
              " ['jesús', 'nsubj', 'estaba'],\n",
              " ['á', 'cc', 'jesús'],\n",
              " ['jesús', 'obj', 'buscando'],\n",
              " ['jesús', 'appos', 'respondióles'],\n",
              " ['jesús', 'nsubj', 'respondió'],\n",
              " ['y', 'cc', 'jesús'],\n",
              " ['jesús', 'conj', '32'],\n",
              " ['y', 'cc', 'jesús'],\n",
              " ['jesús', 'conj', '35'],\n",
              " ['jesús', 'flat', 'éste'],\n",
              " ['y', 'cc', 'jesús'],\n",
              " ['jesús', 'conj', '43'],\n",
              " ['respondió', 'flat', 'jesús'],\n",
              " ['y', 'cc', 'jesús'],\n",
              " ['jesús', 'conj', '53'],\n",
              " ['jesús', 'obj', 'sabiendo'],\n",
              " ['porque', 'mark', 'jesús'],\n",
              " ['jesús', 'advcl', 'sabía'],\n",
              " ['principio', 'obl', 'jesús'],\n",
              " ['jesús', 'nsubj', 'dijo'],\n",
              " ['doce', 'flat', 'jesús'],\n",
              " ['70', 'nummod', 'jesús'],\n",
              " ['jesús', 'nsubj', 'respondió'],\n",
              " ['jesús', 'obj', 'andaba'],\n",
              " ['galilea', 'flat', 'jesús'],\n",
              " ['entonces', 'advmod', 'jesús'],\n",
              " ['jesús', 'amod', 'díceles'],\n",
              " ['jesús', 'obj', 'subió'],\n",
              " ['jesús', 'appos', 'judíos'],\n",
              " ['jesús', 'flat', '                   '],\n",
              " ['jesús', 'obj', 'clamaba'],\n",
              " ['y', 'cc', 'jesús'],\n",
              " ['jesús', 'conj', '33'],\n",
              " ['jesús', 'nsubj', 'ponía'],\n",
              " ['jesús', 'nsubj', 'glorificado'],\n",
              " ['y', 'cc', 'jesús'],\n",
              " ['jesús', 'conj', '8'],\n",
              " ['empero', 'advmod', 'jesús'],\n",
              " ['jesús', 'nsubj', 'escribía'],\n",
              " ['inclinado', 'amod', 'jesús'],\n",
              " ['solo', 'amod', 'jesús'],\n",
              " ['jesús', 'obj', 'quedó'],\n",
              " ['jesús', 'obj', 'enderezándose'],\n",
              " ['jesús', 'nsubj', 'dijo'],\n",
              " ['jesús', 'flat', '         '],\n",
              " ['jesús', 'nsubj', 'respondió'],\n",
              " ['jesús', 'nsubj', 'respondió'],\n",
              " ['jesús', 'obj', 'habló'],\n",
              " ['díjoles', 'mark', 'jesús'],\n",
              " ['vez', 'obl', 'jesús'],\n",
              " ['jesús', 'ROOT', 'jesús'],\n",
              " ['voy', 'advcl', 'jesús'],\n",
              " ['.', 'punct', 'jesús'],\n",
              " ['jesús', 'nsubj', 'dijo'],\n",
              " [',', 'punct', 'jesús'],\n",
              " ['jesús', 'dep', 'díjoles'],\n",
              " [':', 'punct', 'jesús'],\n",
              " ['enseñó', 'acl', 'jesús'],\n",
              " [',', 'punct', 'jesús'],\n",
              " ['jesús', 'nsubj', 'decía'],\n",
              " ['34', 'nummod', 'jesús'],\n",
              " ['jesús', 'nsubj', 'respondió'],\n",
              " ['díceles', 'amod', 'jesús'],\n",
              " ['jesús', 'ROOT', 'jesús'],\n",
              " [':', 'punct', 'jesús'],\n",
              " ['.', 'punct', 'jesús'],\n",
              " ['42', 'nummod', 'jesús'],\n",
              " ['jesús', 'nsubj', 'dijo'],\n",
              " ['jesús', 'obj', 'respondió'],\n",
              " ['jesús', 'obj', 'respondió'],\n",
              " ['díjoles', 'mark', 'jesús'],\n",
              " ['jesús', 'obl', 'dijéronle'],\n",
              " ['jesús', 'nsubj', 'encubrió'],\n",
              " ['[', 'punct', 'jesús'],\n",
              " ['jesús', 'obj', 'pasando'],\n",
              " [']', 'flat', 'jesús'],\n",
              " ['jesús', 'obj', 'respondió'],\n",
              " ['jesús', 'obj', 'llama'],\n",
              " ['jesús', 'nsubj', 'hecho'],\n",
              " ['jesús', 'obj', 'oyó'],\n",
              " ['jesús', 'obj', 'díjole'],\n",
              " ['jesús', 'nsubj', 'dijo'],\n",
              " ['yo', 'appos', 'jesús'],\n",
              " ['41', 'nummod', 'jesús'],\n",
              " ['díjoles', 'mark', 'jesús'],\n",
              " ['jesús', 'advcl', 'oyeron'],\n",
              " ['jesús', 'nsubj', 'dijo'],\n",
              " [',', 'punct', 'jesús'],\n",
              " ['pues', 'mark', 'jesús'],\n",
              " [',', 'punct', 'jesús'],\n",
              " ['jesús', 'appos', 'volvióles'],\n",
              " ['á', 'case', 'jesús'],\n",
              " ['decir', 'acl', 'jesús'],\n",
              " ['de', 'advmod', 'jesús'],\n",
              " ['digo', 'acl', 'jesús'],\n",
              " ['y', 'cc', 'jesús'],\n",
              " ['jesús', 'nsubj', 'andaba'],\n",
              " ['jesús', 'appos', 'respondióles'],\n",
              " ['jesús', 'appos', 'respondióles'],\n",
              " ['respondióles', 'amod', 'jesús'],\n",
              " ['jesús', 'nsubj', 'dijo'],\n",
              " ['escrito', 'acl', 'jesús'],\n",
              " ['?', 'punct', 'jesús'],\n",
              " ['         ', 'dep', 'jesús'],\n",
              " ['35', 'appos', 'jesús'],\n",
              " ['dioses', 'nmod', 'jesús'],\n",
              " ['jesús', 'obj', 'envió'],\n",
              " ['jesús', 'obj', 'amaba'],\n",
              " ['á', 'flat', 'jesús'],\n",
              " ['marta', 'flat', 'jesús'],\n",
              " ['jesús', 'nsubj', 'respondió'],\n",
              " ['tiene', 'acl', 'jesús'],\n",
              " ['jesús', 'nsubj', 'decía'],\n",
              " ['jesús', 'nsubj', 'dijo'],\n",
              " ['pues', 'mark', 'jesús'],\n",
              " ['jesús', 'obj', 'vino'],\n",
              " ['jesús', 'nsubj', 'venía'],\n",
              " ['á', 'case', 'jesús'],\n",
              " ['jesús', 'obj', 'dijo'],\n",
              " ['jesús', 'appos', 'dícele'],\n",
              " ['jesús', 'compound', 'dícele'],\n",
              " ['jesús', 'obj', 'llegado'],\n",
              " ['donde', 'obl', 'jesús'],\n",
              " ['estaba', 'cop', 'jesús'],\n",
              " ['jesús', 'acl', 'vino'],\n",
              " ['viéndole', 'flat', 'jesús'],\n",
              " ['derribóse', 'amod', 'jesús'],\n",
              " ['33', 'nummod', 'jesús'],\n",
              " ['jesús', 'nsubj', 'conmovió'],\n",
              " ['entonces', 'advmod', 'jesús'],\n",
              " ['llorando', 'acl', 'jesús'],\n",
              " ['judíos', 'conj', 'jesús'],\n",
              " ['jesús', 'obj', 'lloró'],\n",
              " ['y', 'cc', 'jesús'],\n",
              " ['jesús', 'conj', '38'],\n",
              " ['jesús', 'obj', 'dice'],\n",
              " ['jesús', 'nsubj', 'dice'],\n",
              " ['y', 'cc', 'jesús'],\n",
              " ['jesús', 'nsubj', 'dijo'],\n",
              " ['alzando', 'advcl', 'jesús'],\n",
              " ['jesús', 'flat', 'díceles'],\n",
              " ['jesús', 'nsubj', 'hecho'],\n",
              " ['jesús', 'nsubj', 'hecho'],\n",
              " ['jesús', 'nsubj', 'morir'],\n",
              " ['jesús', 'nsubj', 'andaba'],\n",
              " ['á', 'case', 'jesús'],\n",
              " ['jesús', 'obj', 'buscaban'],\n",
              " ['y', 'cc', 'jesús'],\n",
              " ['jesús', 'conj', '12'],\n",
              " ['de', 'case', 'jesús'],\n",
              " ['jesús', 'nmod', 'pies'],\n",
              " ['jesús', 'nsubj', 'dijo'],\n",
              " ['por', 'case', 'jesús'],\n",
              " ['jesús', 'obl', 'vinieron'],\n",
              " ['mas', 'advmod', 'jesús'],\n",
              " ['en', 'case', 'jesús'],\n",
              " ['jesús', 'obj', 'creían'],\n",
              " ['jesús', 'nsubj', 'venía'],\n",
              " ['jesús', 'obj', 'halló'],\n",
              " ['cuando', 'mark', 'jesús'],\n",
              " ['jesús', 'advcl', 'empero'],\n",
              " ['fué', 'flat', 'jesús'],\n",
              " ['glorificado', 'amod', 'jesús'],\n",
              " ['á', 'case', 'jesús'],\n",
              " ['jesús', 'obj', 'ver'],\n",
              " ['á', 'case', 'jesús'],\n",
              " ['jesús', 'conj', 'andrés'],\n",
              " ['jesús', 'nsubj', 'respondió'],\n",
              " ['jesús', 'obj', 'respondió'],\n",
              " ['jesús', 'nsubj', 'dice'],\n",
              " ['jesús', 'obj', 'habló'],\n",
              " ['jesús', 'nsubj', 'clamó'],\n",
              " ['jesús', 'obj', 'sabiendo'],\n",
              " ['jesús', 'obj', 'sabiendo'],\n",
              " ['jesús', 'obj', 'respondió'],\n",
              " ['jesús', 'nsubj', 'respondióle'],\n",
              " ['jesús', 'obj', 'dícele'],\n",
              " ['como', 'mark', 'jesús'],\n",
              " ['hubo', 'aux', 'jesús'],\n",
              " ['dicho', 'amod', 'jesús'],\n",
              " ['jesús', 'ROOT', 'jesús'],\n",
              " ['esto', 'flat', 'jesús'],\n",
              " ['conmovido', 'amod', 'jesús'],\n",
              " ['protestó', 'conj', 'jesús'],\n",
              " ['dijo', 'conj', 'jesús'],\n",
              " ['.', 'punct', 'jesús'],\n",
              " ['jesús', 'nsubj', 'amaba'],\n",
              " ['de', 'case', 'jesús'],\n",
              " ['jesús', 'nmod', 'seno'],\n",
              " ['de', 'case', 'jesús'],\n",
              " ['jesús', 'nmod', 'pecho'],\n",
              " ['jesús', 'nsubj', 'respondió'],\n",
              " ['jesús', 'nsubj', 'dice'],\n",
              " ['jesús', 'nsubj', 'decía'],\n",
              " ['jesús', 'nsubj', 'dijo'],\n",
              " ['jesús', 'nsubj', 'respondióle'],\n",
              " ['voy', 'acl', 'jesús'],\n",
              " ['jesús', 'nsubj', 'respondióle'],\n",
              " ['jesús', 'nsubj', 'dice'],\n",
              " ['jesús', 'nsubj', 'dice'],\n",
              " ['jesús', 'nsubj', 'respondió'],\n",
              " ['jesús', 'obj', 'conoció'],\n",
              " ['jesús', 'appos', 'respondióles'],\n",
              " ['jesús', 'obj', 'habló'],\n",
              " ['como', 'mark', 'jesús'],\n",
              " ['jesús', 'nmod', 'capítulo'],\n",
              " ['jesús', 'nsubj', 'entró'],\n",
              " ['jesús', 'appos', 'veces'],\n",
              " ['jesús', 'appos', '4'],\n",
              " [':', 'punct', 'jesús'],\n",
              " ['a', 'case', 'jesús'],\n",
              " ['jesús', 'obl', 'salió'],\n",
              " ['nazareno', 'flat', 'jesús'],\n",
              " ['jesús', 'flat', 'díceles'],\n",
              " ['yo', 'appos', 'jesús'],\n",
              " [':', 'punct', 'jesús'],\n",
              " ['a', 'case', 'jesús'],\n",
              " ['jesús', 'obj', 'dijeron'],\n",
              " ['nazareno', 'amod', 'jesús'],\n",
              " ['jesús', 'nsubj', 'respondió'],\n",
              " ['11', 'nummod', 'jesús'],\n",
              " ['jesús', 'nsubj', 'dijo'],\n",
              " ['á', 'case', 'jesús'],\n",
              " ['jesús', 'obj', 'prendieron'],\n",
              " ['á', 'case', 'jesús'],\n",
              " ['jesús', 'obj', 'seguía'],\n",
              " ['simón', 'flat', 'jesús'],\n",
              " ['pedro', 'flat', 'jesús'],\n",
              " ['discípulo', 'conj', 'jesús'],\n",
              " ['con', 'case', 'jesús'],\n",
              " ['jesús', 'obl', 'entró'],\n",
              " ['á', 'case', 'jesús'],\n",
              " ['jesús', 'iobj', 'preguntó'],\n",
              " ['20', 'nummod', 'jesús'],\n",
              " ['jesús', 'nsubj', 'respondió'],\n",
              " ['á', 'case', 'jesús'],\n",
              " ['jesús', 'obl', 'dió'],\n",
              " ['respondióle', 'aux', 'jesús'],\n",
              " ['jesús', 'advcl', 'allí'],\n",
              " ['á', 'case', 'jesús'],\n",
              " ['jesús', 'obj', 'llevaron'],\n",
              " ['de', 'case', 'jesús'],\n",
              " ['jesús', 'nmod', 'dicho'],\n",
              " ['dicho', 'acl', 'jesús'],\n",
              " ['á', 'case', 'jesús'],\n",
              " ['jesús', 'obj', 'llamó'],\n",
              " ['respondióle', 'amod', 'jesús'],\n",
              " ['jesús', 'flat', '          '],\n",
              " ['jesús', 'obj', 'respondió'],\n",
              " ['jesús', 'nsubj', 'respondió'],\n",
              " ['á', 'cc', 'jesús'],\n",
              " ['jesús', 'obl', 'tomó'],\n",
              " ['jesús', 'nsubj', 'salió'],\n",
              " ['fuera', 'flat', 'jesús'],\n",
              " ['á', 'det', 'jesús'],\n",
              " ['jesús', 'iobj', 'dijo'],\n",
              " ['jesús', 'nsubj', 'dió'],\n",
              " ['jesús', 'nsubj', 'respondió'],\n",
              " ['á', 'case', 'jesús'],\n",
              " ['jesús', 'obl', 'llevó'],\n",
              " ['á', 'case', 'jesús'],\n",
              " ['jesús', 'obj', 'tomaron'],\n",
              " [',', 'punct', 'jesús'],\n",
              " ['y', 'cc', 'jesús'],\n",
              " ['jesús', 'conj', 'dos'],\n",
              " ['en', 'advmod', 'jesús'],\n",
              " ['jesús', 'nsubj', 'crucificado'],\n",
              " ['á', 'case', 'jesús'],\n",
              " ['jesús', 'obj', 'crucificado'],\n",
              " ['de', 'case', 'jesús'],\n",
              " ['jesús', 'nmod', 'cruz'],\n",
              " ['jesús', 'nsubj', 'vió'],\n",
              " ['jesús', 'obj', 'sabiendo'],\n",
              " ['y', 'cc', 'jesús'],\n",
              " ['como', 'mark', 'jesús'],\n",
              " ['jesús', 'conj', '         '],\n",
              " ['33', 'nummod', 'jesús'],\n",
              " ['mas', 'advmod', 'jesús'],\n",
              " ['vinieron', 'advcl', 'jesús'],\n",
              " ['á', 'case', 'jesús'],\n",
              " ['jesús', 'obj', 'vinieron'],\n",
              " ['vieron', 'acl', 'jesús'],\n",
              " [',', 'punct', 'jesús'],\n",
              " ['de', 'case', 'jesús'],\n",
              " ['jesús', 'nmod', 'discípulo'],\n",
              " ['de', 'case', 'jesús'],\n",
              " ['jesús', 'nmod', 'cuerpo'],\n",
              " ['de', 'case', 'jesús'],\n",
              " ['jesús', 'nmod', 'cuerpo'],\n",
              " ['á', 'cc', 'jesús'],\n",
              " ['jesús', 'obl', 'venido'],\n",
              " ['noche', 'flat', 'jesús'],\n",
              " ['de', 'case', 'jesús'],\n",
              " ['jesús', 'nmod', 'cuerpo'],\n",
              " ['á', 'case', 'jesús'],\n",
              " ['jesús', 'obl', 'pusieron'],\n",
              " ['jesús', 'obj', 'amaba'],\n",
              " ['de', 'case', 'jesús'],\n",
              " ['jesús', 'nmod', 'cuerpo'],\n",
              " ['á', 'det', 'jesús'],\n",
              " ['jesús', 'obj', 'vió'],\n",
              " ['que', 'mark', 'jesús'],\n",
              " ['era', 'cop', 'jesús'],\n",
              " ['jesús', 'ccomp', 'sabía'],\n",
              " ['jesús', 'appos', 'dícele'],\n",
              " ['jesús', 'appos', 'dícele'],\n",
              " ['jesús', 'obj', 'dícele'],\n",
              " ['jesús', 'flat', 'vino'],\n",
              " ['jesús', 'nsubj', 'dijo'],\n",
              " ['cuando', 'mark', 'jesús'],\n",
              " ['jesús', 'nmod', 'ellos'],\n",
              " ['vino', 'flat', 'jesús'],\n",
              " ['jesús', 'flat', 'vino'],\n",
              " ['jesús', 'appos', 'señor'],\n",
              " ['jesús', 'obj', 'hizo'],\n",
              " ['jesús', 'nsubj', 'cristo'],\n",
              " ['jesús', 'nsubj', 'manifestó'],\n",
              " ['jesús', 'nsubj', 'puso'],\n",
              " ['que', 'mark', 'jesús'],\n",
              " ['era', 'cop', 'jesús'],\n",
              " ['jesús', 'ccomp', 'entendieron'],\n",
              " ['jesús', 'nsubj', 'amaba'],\n",
              " ['jesús', 'appos', 'díceles'],\n",
              " ['jesús', 'appos', 'díceles'],\n",
              " ['pues', 'mark', 'jesús'],\n",
              " ['jesús', 'obl', 'viene'],\n",
              " ['jesús', 'nsubj', 'manifestó'],\n",
              " ['jesús', 'nsubj', 'dijo'],\n",
              " ['jesús', 'flat', 'dícele'],\n",
              " ['jesús', 'nsubj', 'amaba'],\n",
              " ['á', 'case', 'jesús'],\n",
              " ['jesús', 'iobj', 'dice'],\n",
              " ['jesús', 'appos', 'dícele'],\n",
              " ['jesús', 'nsubj', 'dijo'],\n",
              " ['jesús', 'nsubj', 'hizo'],\n",
              " ['jesús', 'csubj', 'cristo'],\n",
              " ['de', 'case', 'jesús'],\n",
              " ['jesús', 'nmod', 'fe'],\n",
              " ['á', 'case', 'jesús'],\n",
              " ['jesús', 'obj', 'levantó'],\n",
              " ['señor', 'flat', 'jesús'],\n",
              " ['nuestro', 'flat', 'jesús'],\n",
              " ['25', 'compound', 'jesús'],\n",
              " ['jesús', 'obj', 'bautizados'],\n",
              " ['jesús', 'compound', 'cristo'],\n",
              " ['señor', 'flat', 'jesús'],\n",
              " ['nuestro', 'flat', 'jesús'],\n",
              " ['en', 'case', 'jesús'],\n",
              " ['jesús', 'obl', 'vida'],\n",
              " ['señor', 'flat', 'jesús'],\n",
              " ['nuestro', 'flat', 'jesús'],\n",
              " ['jesús', 'nsubj', 'cristo'],\n",
              " ['jesús', 'compound', 'cristo'],\n",
              " ['á', 'case', 'jesús'],\n",
              " ['jesús', 'obl', 'levantó'],\n",
              " ['mora', 'flat', 'jesús'],\n",
              " ['vosotros', 'flat', 'jesús'],\n",
              " ['jesús', 'flat', 'cristo'],\n",
              " [',', 'punct', 'jesús'],\n",
              " ['que', 'nsubj', 'jesús'],\n",
              " ['es', 'cop', 'jesús'],\n",
              " ['en', 'advmod', 'jesús'],\n",
              " ['jesús', 'acl', 'amor'],\n",
              " ['señor', 'flat', 'jesús'],\n",
              " ['nuestro', 'flat', 'jesús'],\n",
              " ['jesús', 'appos', 'señor'],\n",
              " ['jesús', 'appos', 'señor'],\n",
              " ['jesús', 'flat', 'cristo'],\n",
              " ['jesús', 'flat', 'cristo'],\n",
              " ['jesús', 'obj', 'gloriarme'],\n",
              " ['jesús', 'flat', 'cristo'],\n",
              " ['jesús', 'flat', 'cristo']]"
            ]
          },
          "metadata": {},
          "execution_count": 53
        }
      ]
    },
    {
      "cell_type": "code",
      "source": [
        "sintactic_jesus=[item[0] for item in adjesus if item[1]==\"amod\" and item[2]==\"jesús\"]\n",
        "print(sintactic_jesus)"
      ],
      "metadata": {
        "colab": {
          "base_uri": "https://localhost:8080/"
        },
        "id": "edXYqP1GRHbT",
        "outputId": "6dfdcd49-b639-4295-9995-ba4e6da534a6"
      },
      "execution_count": 54,
      "outputs": [
        {
          "output_type": "stream",
          "name": "stdout",
          "text": [
            "['cansado', 'echado', 'inclinado', 'solo', 'díceles', 'respondióles', 'derribóse', 'glorificado', 'dicho', 'conmovido', 'nazareno', 'respondióle']\n"
          ]
        }
      ]
    },
    {
      "cell_type": "markdown",
      "source": [
        "Vamos a tratar de iniciar un trabajo para detectar orígenes y destinos con ayuda de spacy en lenguaje natural, trabajndo los casos sintácticos"
      ],
      "metadata": {
        "id": "L5zFTG9kY22I"
      }
    },
    {
      "cell_type": "code",
      "source": [
        "frase1=nlp(\"Quiero ir de Bogotá a Cali\")\n",
        "frase2=nlp(\"Voy para Cali\")\n",
        "frase3=nlp(\"Voy hacia Bogotá\")"
      ],
      "metadata": {
        "id": "rsch6v33YZCo"
      },
      "execution_count": 78,
      "outputs": []
    },
    {
      "cell_type": "code",
      "source": [
        "dep1=[]\n",
        "for x in range(0,len(frase1)):\n",
        "    dep1.append([ frase1[x].text, frase1[x].dep_, frase1[x].head.text])\n",
        "\n",
        "dep1"
      ],
      "metadata": {
        "colab": {
          "base_uri": "https://localhost:8080/"
        },
        "id": "Fp4_zzFOYj4e",
        "outputId": "da869f62-1796-4591-d509-618d73c3ce29"
      },
      "execution_count": 79,
      "outputs": [
        {
          "output_type": "execute_result",
          "data": {
            "text/plain": [
              "[['Quiero', 'ROOT', 'Quiero'],\n",
              " ['ir', 'xcomp', 'Quiero'],\n",
              " ['de', 'case', 'Bogotá'],\n",
              " ['Bogotá', 'obl', 'ir'],\n",
              " ['a', 'case', 'Cali'],\n",
              " ['Cali', 'obj', 'Quiero']]"
            ]
          },
          "metadata": {},
          "execution_count": 79
        }
      ]
    },
    {
      "cell_type": "code",
      "source": [
        "dep2=[]\n",
        "for x in range(0,len(frase2)):\n",
        "    dep2.append([ frase2[x].text, frase2[x].dep_, frase2[x].head.text])\n",
        "dep2"
      ],
      "metadata": {
        "colab": {
          "base_uri": "https://localhost:8080/"
        },
        "id": "sIUhI_-EYvBa",
        "outputId": "a3a0a777-d371-4090-c377-5f5a8e7d2631"
      },
      "execution_count": 80,
      "outputs": [
        {
          "output_type": "execute_result",
          "data": {
            "text/plain": [
              "[['Voy', 'ROOT', 'Voy'], ['para', 'case', 'Cali'], ['Cali', 'obl', 'Voy']]"
            ]
          },
          "metadata": {},
          "execution_count": 80
        }
      ]
    },
    {
      "cell_type": "code",
      "source": [
        "dep3=[]\n",
        "for x in range(0,len(frase3)):\n",
        "    dep3.append([ frase3[x].text, frase3[x].dep_, frase3[x].head.text, frase3[x].pos_])\n",
        "dep3"
      ],
      "metadata": {
        "colab": {
          "base_uri": "https://localhost:8080/"
        },
        "id": "msnKBFYcZJ5c",
        "outputId": "1c18800f-44d7-48fc-966d-88b9ea329742"
      },
      "execution_count": 81,
      "outputs": [
        {
          "output_type": "execute_result",
          "data": {
            "text/plain": [
              "[['Voy', 'ROOT', 'Voy', 'AUX'],\n",
              " ['hacia', 'case', 'Bogotá', 'ADP'],\n",
              " ['Bogotá', 'obl', 'Voy', 'PROPN']]"
            ]
          },
          "metadata": {},
          "execution_count": 81
        }
      ]
    },
    {
      "cell_type": "markdown",
      "source": [
        "Podemos observar que la relación \"case\" parece capturar lo que está ocurriendo. Miremos si lo puede hacer en una estructura sintáctica un poco más compleja, donde hay más distancia en lo que se busca"
      ],
      "metadata": {
        "id": "QDONMKyTarkm"
      }
    },
    {
      "cell_type": "code",
      "source": [
        "frase4=nlp(\"Quiero viajar de la ciudad de Bogotá a la calurosa Cali\")\n",
        "dep4=[]\n",
        "for x in range(0,len(frase4)):\n",
        "    dep4.append([ frase4[x].text, frase4[x].dep_, frase4[x].head.text])\n",
        "\n",
        "dep4"
      ],
      "metadata": {
        "colab": {
          "base_uri": "https://localhost:8080/"
        },
        "id": "_arxlKOLaFL2",
        "outputId": "b7f6a278-1180-468b-bdac-a7b3f399b2e3"
      },
      "execution_count": 85,
      "outputs": [
        {
          "output_type": "execute_result",
          "data": {
            "text/plain": [
              "[['Quiero', 'ROOT', 'Quiero'],\n",
              " ['viajar', 'xcomp', 'Quiero'],\n",
              " ['de', 'case', 'ciudad'],\n",
              " ['la', 'det', 'ciudad'],\n",
              " ['ciudad', 'obl', 'viajar'],\n",
              " ['de', 'case', 'Bogotá'],\n",
              " ['Bogotá', 'nmod', 'ciudad'],\n",
              " ['a', 'case', 'Cali'],\n",
              " ['la', 'det', 'Cali'],\n",
              " ['calurosa', 'amod', 'Cali'],\n",
              " ['Cali', 'obl', 'viajar']]"
            ]
          },
          "metadata": {},
          "execution_count": 85
        }
      ]
    },
    {
      "cell_type": "code",
      "source": [
        "origenes=[]\n",
        "destinos=[]\n",
        "\n",
        "frase5=nlp(\"Quiero viajar de la ciudad de Bogotá a la calurosa Cali\")\n",
        "#frase5=nlp(\"Estoy yendo desde Bucaramanga hasta otra ciudad\")\n",
        "#frase5=nlp(\"Estoy yendo de Bucaramanga hacia mi amada Bogotá\")\n",
        "#frase5=nlp(\"Mi viaje es entre Pereira y Quibdó\")\n",
        "\n",
        "dep5=[]\n",
        "for x in range(0,len(frase5)):\n",
        "    dep5.append([ frase5[x].text, frase5[x].dep_, frase5[x].head.text])\n",
        "\n",
        "for element in dep5:\n",
        "  if element[1]==\"case\" and element[0] in [\"a\",\"hacia\",\"hasta\",\"para\"]:\n",
        "    destinos.append(element[2])\n",
        "  if element[1]==\"case\" and element[0] in [\"de\",\"desde\",\"entre\"]:\n",
        "    origenes.append(element[2]) \n",
        "print(origenes,destinos)"
      ],
      "metadata": {
        "colab": {
          "base_uri": "https://localhost:8080/"
        },
        "id": "uKhmpvF0bAIQ",
        "outputId": "43760ded-18d1-4483-ba3b-36cbadeba96c"
      },
      "execution_count": 95,
      "outputs": [
        {
          "output_type": "stream",
          "name": "stdout",
          "text": [
            "['Pereira'] []\n"
          ]
        }
      ]
    },
    {
      "cell_type": "markdown",
      "metadata": {
        "application/vnd.databricks.v1+cell": {
          "title": "",
          "showTitle": false,
          "inputWidgets": {},
          "nuid": "1f1123e9-58b9-4e36-9ac1-9337115ef046"
        },
        "id": "SnqK7bhjEVFm"
      },
      "source": [
        "Existe algo más que spacy puede entregarnos: los **noun chunks** o frases nominales, quer vienen siendo una especie de colocaciones. También entrega un proceso de **entidades nombradas**. Como veremos, estos son modelos cuya calidad es también, limitada, dadas las dificultades que mencionamos"
      ]
    },
    {
      "cell_type": "code",
      "metadata": {
        "application/vnd.databricks.v1+cell": {
          "title": "",
          "showTitle": false,
          "inputWidgets": {},
          "nuid": "e77c7665-5275-44e6-84d9-d2aa460fd4b8"
        },
        "id": "-yNa0HxJEVFn",
        "colab": {
          "base_uri": "https://localhost:8080/"
        },
        "outputId": "b2beee7a-3d09-401f-b2a2-2fb50fdf7327"
      },
      "source": [
        "listnouns=[]\n",
        "for chunk in doc1.noun_chunks:\n",
        "    listnouns.append(chunk.text)\n",
        "listnouns[50:70]\n"
      ],
      "execution_count": null,
      "outputs": [
        {
          "output_type": "execute_result",
          "data": {
            "text/plain": [
              "['el mundo',\n",
              " 'le',\n",
              " 'vino',\n",
              " 'le',\n",
              " 'mas',\n",
              " 'que',\n",
              " 'le',\n",
              " 'potestad',\n",
              " 'hijos',\n",
              " 'dios',\n",
              " 'que',\n",
              " 'su nombre',\n",
              " 'los cuales',\n",
              " 'sangre',\n",
              " 'voluntad',\n",
              " 'carne',\n",
              " 'voluntad',\n",
              " 'varón',\n",
              " 'mas',\n",
              " 'dios']"
            ]
          },
          "metadata": {
            "tags": []
          },
          "execution_count": 66
        }
      ]
    },
    {
      "cell_type": "code",
      "source": [
        "entidades_nombradas=[]\n",
        "for element in partes:\n",
        "  if element[3]!=\"\" :\n",
        "    entidades_nombradas.append(element)\n",
        "entidades_nombradas[0:20]"
      ],
      "metadata": {
        "colab": {
          "base_uri": "https://localhost:8080/"
        },
        "id": "cmoLjFblfKT-",
        "outputId": "00f6f216-b2a0-43e8-8bc8-0209d61dcc50"
      },
      "execution_count": 97,
      "outputs": [
        {
          "output_type": "execute_result",
          "data": {
            "text/plain": [
              "[['juan', 'juan', 'PROPN', 'PER', False],\n",
              " ['jesús', 'jesús', 'PROPN', 'LOC', False],\n",
              " ['felipe', 'felipe', 'PROPN', 'PER', False],\n",
              " ['halló', 'hallar', 'VERB', 'PER', False],\n",
              " ['felipe', 'felipe', 'PROPN', 'PER', False],\n",
              " ['jesús', 'jesús', 'PROPN', 'PER', False],\n",
              " ['qué', 'qué', 'PRON', 'ORG', True],\n",
              " ['subió', 'subir', 'VERB', 'PER', False],\n",
              " ['jesús', 'jesús', 'PROPN', 'PER', False],\n",
              " ['á', 'á', 'ADP', 'PER', True],\n",
              " ['jerusalem', 'jerusalem', 'NOUN', 'PER', False],\n",
              " ['.', '.', 'PUNCT', 'PER', False],\n",
              " ['qué', 'qué', 'DET', 'ORG', True],\n",
              " ['reino', 'reino', 'NOUN', 'LOC', False],\n",
              " ['de', 'de', 'ADP', 'LOC', True],\n",
              " ['dios', 'dio', 'NOUN', 'LOC', False],\n",
              " ['.', '.', 'PUNCT', 'LOC', False],\n",
              " ['reino', 'reino', 'NOUN', 'LOC', False],\n",
              " ['de', 'de', 'ADP', 'LOC', True],\n",
              " ['dios', 'dio', 'NOUN', 'LOC', False]]"
            ]
          },
          "metadata": {},
          "execution_count": 97
        }
      ]
    },
    {
      "cell_type": "markdown",
      "metadata": {
        "application/vnd.databricks.v1+cell": {
          "title": "",
          "showTitle": false,
          "inputWidgets": {},
          "nuid": "37ae341c-135e-43ce-96e6-72eaaef1dd92"
        },
        "id": "-fQwCRk2EVFq"
      },
      "source": [
        "Nuestro objetivo era explorar las posibilidades y limitaciones del análisis de texto desde la sintaxis. Lo hicimos a través de la elaboración de resúmenes (wordclouds) y casos de uso"
      ]
    }
  ]
}