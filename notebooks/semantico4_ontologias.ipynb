{
  "nbformat": 4,
  "nbformat_minor": 0,
  "metadata": {
    "application/vnd.databricks.v1+notebook": {
      "notebookName": "NLP-2",
      "dashboards": [],
      "language": "python",
      "widgets": {},
      "notebookOrigID": 708434827944260
    },
    "colab": {
      "name": "semantico4_ontologias.ipynb",
      "provenance": [],
      "collapsed_sections": []
    },
    "language_info": {
      "name": "python"
    },
    "kernelspec": {
      "name": "python3",
      "display_name": "Python 3"
    }
  },
  "cells": [
    {
      "cell_type": "markdown",
      "metadata": {
        "application/vnd.databricks.v1+cell": {
          "title": "",
          "showTitle": false,
          "inputWidgets": {},
          "nuid": "69192975-26e8-4783-bf0a-8fa73b5db77e"
        },
        "id": "rstqT9o_Fa1g"
      },
      "source": [
        "# Ontologías\n",
        "Otra manera fundamentalmente diferente de representar el lenguaje (y el conocimiento) son las ontologías. Ellas estbalecen no solo relaciones, sino tipos de relaciones entre palabras.\n",
        "Vamos a explorar una de las ontologías más conocidas: Wordnet"
      ]
    },
    {
      "cell_type": "code",
      "source": [
        "import sklearn\n",
        "import os, re, string\n",
        "#import spacy\n",
        "import nltk\n",
        "import numpy, matplotlib\n",
        "import pandas as pd\n",
        "nltk.download(\"wordnet\")\n",
        "nltk.download(\"omw-1.4\")\n",
        "from nltk.corpus import wordnet "
      ],
      "metadata": {
        "colab": {
          "base_uri": "https://localhost:8080/"
        },
        "id": "JEP3vfktYCE_",
        "outputId": "fc0575f0-a85a-4b2e-fedd-d134fea1395a"
      },
      "execution_count": 2,
      "outputs": [
        {
          "output_type": "stream",
          "name": "stderr",
          "text": [
            "[nltk_data] Downloading package wordnet to /root/nltk_data...\n",
            "[nltk_data] Downloading package omw-1.4 to /root/nltk_data...\n"
          ]
        }
      ]
    },
    {
      "cell_type": "markdown",
      "metadata": {
        "application/vnd.databricks.v1+cell": {
          "title": "",
          "showTitle": false,
          "inputWidgets": {},
          "nuid": "09ba7a9c-3a6d-46d2-a905-6fd9dcf0d6c4"
        },
        "id": "w2pjq1hpFa1g"
      },
      "source": [
        "##Los synsets\n",
        "Es como tener un diccionario ampliado (tesauro) de términos, abordando de otro modo el conocimiento. Por ejemplo, ver todos los significados/sentidos/sinónimos de una palabra."
      ]
    },
    {
      "cell_type": "code",
      "metadata": {
        "colab": {
          "base_uri": "https://localhost:8080/"
        },
        "id": "BGRnA-KbBb0y",
        "outputId": "c3bbd7ad-f5f1-4ec5-84be-a6a3605383c6"
      },
      "source": [
        "wordnet.synsets(\"cat\")"
      ],
      "execution_count": null,
      "outputs": [
        {
          "output_type": "execute_result",
          "data": {
            "text/plain": [
              "[Synset('cat.n.01'),\n",
              " Synset('guy.n.01'),\n",
              " Synset('cat.n.03'),\n",
              " Synset('kat.n.01'),\n",
              " Synset('cat-o'-nine-tails.n.01'),\n",
              " Synset('caterpillar.n.02'),\n",
              " Synset('big_cat.n.01'),\n",
              " Synset('computerized_tomography.n.01'),\n",
              " Synset('cat.v.01'),\n",
              " Synset('vomit.v.01')]"
            ]
          },
          "metadata": {},
          "execution_count": 5
        }
      ]
    },
    {
      "cell_type": "markdown",
      "source": [
        "Es posible conectarse a la wordnet multilingue a través de la interfaz en NLTK. Por ejemplo, comparemos *house* en inglés con *casa* en español"
      ],
      "metadata": {
        "id": "kiugnaM-YeDR"
      }
    },
    {
      "cell_type": "code",
      "source": [
        "wordnet.synsets(\"house\")"
      ],
      "metadata": {
        "colab": {
          "base_uri": "https://localhost:8080/"
        },
        "id": "P6pfePtFaUXW",
        "outputId": "a4b83609-c108-4a43-eafd-ea38e28ad437"
      },
      "execution_count": 4,
      "outputs": [
        {
          "output_type": "execute_result",
          "data": {
            "text/plain": [
              "[Synset('house.n.01'),\n",
              " Synset('firm.n.01'),\n",
              " Synset('house.n.03'),\n",
              " Synset('house.n.04'),\n",
              " Synset('house.n.05'),\n",
              " Synset('house.n.06'),\n",
              " Synset('house.n.07'),\n",
              " Synset('sign_of_the_zodiac.n.01'),\n",
              " Synset('house.n.09'),\n",
              " Synset('family.n.01'),\n",
              " Synset('theater.n.01'),\n",
              " Synset('house.n.12'),\n",
              " Synset('house.v.01'),\n",
              " Synset('house.v.02')]"
            ]
          },
          "metadata": {},
          "execution_count": 4
        }
      ]
    },
    {
      "cell_type": "code",
      "metadata": {
        "application/vnd.databricks.v1+cell": {
          "title": "",
          "showTitle": false,
          "inputWidgets": {},
          "nuid": "bfcd3f44-eb5d-46d9-8445-710fd19617f4"
        },
        "colab": {
          "base_uri": "https://localhost:8080/"
        },
        "id": "4enKmSjbFa1g",
        "outputId": "be53c608-348c-4ef6-c13f-2c10af4e7b83"
      },
      "source": [
        "##extrae todos los posibles \"significados\"\n",
        "wordnet.synsets(\"casa\",lang=\"spa\")\n"
      ],
      "execution_count": null,
      "outputs": [
        {
          "output_type": "execute_result",
          "data": {
            "text/plain": [
              "[Synset('diggings.n.02'),\n",
              " Synset('dwelling.n.01'),\n",
              " Synset('house.n.01'),\n",
              " Synset('house.n.06'),\n",
              " Synset('firm.n.01'),\n",
              " Synset('manufacturer.n.01'),\n",
              " Synset('family.n.01'),\n",
              " Synset('house.n.09'),\n",
              " Synset('home.n.03'),\n",
              " Synset('home.n.01'),\n",
              " Synset('home.n.07')]"
            ]
          },
          "metadata": {},
          "execution_count": 6
        }
      ]
    },
    {
      "cell_type": "markdown",
      "metadata": {
        "application/vnd.databricks.v1+cell": {
          "title": "",
          "showTitle": false,
          "inputWidgets": {},
          "nuid": "087fd6c8-49f2-4684-8dea-66a2d33942ab"
        },
        "id": "HXeD7BFlFa1h"
      },
      "source": [
        "Por tanto puede usarse como un traductor, yendo de un idioma al otro. Por supuesto, la ambiguedad del idioma y el contexto van a dificultar la tarea."
      ]
    },
    {
      "cell_type": "code",
      "source": [
        "wordnet.synset(\"house.n.01\").lemma_names(\"jpn\")\n"
      ],
      "metadata": {
        "colab": {
          "base_uri": "https://localhost:8080/"
        },
        "id": "d1A2jBIjay2x",
        "outputId": "5a483b37-07c7-49d4-8ff3-326dc4bf6100"
      },
      "execution_count": 6,
      "outputs": [
        {
          "output_type": "execute_result",
          "data": {
            "text/plain": [
              "['お宅',\n",
              " 'お家',\n",
              " 'ハウス',\n",
              " 'メゾン',\n",
              " '人家',\n",
              " '人屋',\n",
              " '令堂',\n",
              " '住みか',\n",
              " '住み処',\n",
              " '住み家',\n",
              " '住宅',\n",
              " '住家',\n",
              " '住居',\n",
              " '住屋',\n",
              " '宅',\n",
              " '室家',\n",
              " '家',\n",
              " '家宅',\n",
              " '家屋',\n",
              " '宿',\n",
              " '居',\n",
              " '居宅',\n",
              " '居所',\n",
              " '居館',\n",
              " '屋',\n",
              " '屋宇',\n",
              " '建屋',\n",
              " '戸',\n",
              " '棲み家',\n",
              " '棲家',\n",
              " '館']"
            ]
          },
          "metadata": {},
          "execution_count": 6
        }
      ]
    },
    {
      "cell_type": "markdown",
      "source": [
        "##Ambiguedad en la traducción\n",
        "Al usarlo como el traductor de una palabra, obsérvese como crece la ambiguedad semántica. El problema de la traducción es claramente un problema de alta complejidad."
      ],
      "metadata": {
        "id": "7tL765FqjVVB"
      }
    },
    {
      "cell_type": "code",
      "metadata": {
        "application/vnd.databricks.v1+cell": {
          "title": "",
          "showTitle": false,
          "inputWidgets": {},
          "nuid": "34ada972-bd2d-43b3-ac11-eb48f1174b02"
        },
        "colab": {
          "base_uri": "https://localhost:8080/"
        },
        "id": "AUyqD14WFa1h",
        "outputId": "8d2d1bb1-4475-4f8d-b78e-59e9ec8ab8c4"
      },
      "source": [
        "##puedo usarlo de algun modo como un traductor\n",
        "wordnet.synsets(\"coucher\",lang=\"fra\")\n",
        "francesingles=wordnet.synsets(\"coucher\",lang=\"fra\")\n",
        "francesingles\n"
      ],
      "execution_count": 50,
      "outputs": [
        {
          "output_type": "execute_result",
          "data": {
            "text/plain": [
              "[Synset('lay.v.02'), Synset('bed.n.02')]"
            ]
          },
          "metadata": {},
          "execution_count": 50
        }
      ]
    },
    {
      "cell_type": "markdown",
      "metadata": {
        "application/vnd.databricks.v1+cell": {
          "title": "",
          "showTitle": false,
          "inputWidgets": {},
          "nuid": "f6c944ce-f813-4316-83ea-652c753f217b"
        },
        "id": "BRrRPkesFa1i"
      },
      "source": [
        "Tuve que pasar por el inglés para ir al español"
      ]
    },
    {
      "cell_type": "code",
      "metadata": {
        "application/vnd.databricks.v1+cell": {
          "title": "",
          "showTitle": false,
          "inputWidgets": {},
          "nuid": "e137fe2a-3998-4688-88c9-9ffc69cddf3c"
        },
        "colab": {
          "base_uri": "https://localhost:8080/"
        },
        "id": "w0zZqboEFa1i",
        "outputId": "be46efb1-365f-44e3-97fb-74548bcf9887"
      },
      "source": [
        "espanol=[]\n",
        "for palabra in francesingles:\n",
        "    espanol.append(\" \".join(palabra.lemma_names(\"spa\")))\n",
        "espanol\n"
      ],
      "execution_count": 51,
      "outputs": [
        {
          "output_type": "execute_result",
          "data": {
            "text/plain": [
              "['tumbar', 'lecho']"
            ]
          },
          "metadata": {},
          "execution_count": 51
        }
      ]
    },
    {
      "cell_type": "markdown",
      "metadata": {
        "application/vnd.databricks.v1+cell": {
          "title": "",
          "showTitle": false,
          "inputWidgets": {},
          "nuid": "d53cc96d-0a9d-45f0-bd7c-e098b7f19820"
        },
        "id": "L08v1iMHFa1i"
      },
      "source": [
        "Y luego de vuelta al inglés y al francés"
      ]
    },
    {
      "cell_type": "code",
      "metadata": {
        "application/vnd.databricks.v1+cell": {
          "title": "",
          "showTitle": false,
          "inputWidgets": {},
          "nuid": "bdd8b1a1-8a04-454c-9700-a4e4450ecd56"
        },
        "colab": {
          "base_uri": "https://localhost:8080/"
        },
        "id": "I6HLpVkMFa1j",
        "outputId": "32eeaeb7-35b5-45d2-e82b-523e7add25d9"
      },
      "source": [
        "inglesback=[]\n",
        "for pal in espanol:\n",
        "    inglesback.append(wordnet.synsets(pal, lang=\"spa\"))\n",
        "inglesback\n"
      ],
      "execution_count": 52,
      "outputs": [
        {
          "output_type": "execute_result",
          "data": {
            "text/plain": [
              "[[Synset('knock.v.01'),\n",
              "  Synset('down.v.05'),\n",
              "  Synset('poleax.v.01'),\n",
              "  Synset('deck.v.03'),\n",
              "  Synset('lay.v.02'),\n",
              "  Synset('lie_down.v.01')],\n",
              " [Synset('bed.n.02'),\n",
              "  Synset('bedding_material.n.01'),\n",
              "  Synset('bed.n.03'),\n",
              "  Synset('riverbed.n.01')]]"
            ]
          },
          "metadata": {},
          "execution_count": 52
        }
      ]
    },
    {
      "cell_type": "code",
      "metadata": {
        "application/vnd.databricks.v1+cell": {
          "title": "",
          "showTitle": false,
          "inputWidgets": {},
          "nuid": "23cae3ae-0853-42e5-8a8c-474973416523"
        },
        "colab": {
          "base_uri": "https://localhost:8080/"
        },
        "id": "hoVthaK1Fa1k",
        "outputId": "dd10547a-9a2f-4bd7-d83c-52f71c4da180"
      },
      "source": [
        "inglesfinal=[]\n",
        "for element in inglesback:\n",
        "    inglesfinal=inglesfinal+element\n",
        "francesfinal=[]\n",
        "for palabra in inglesfinal:\n",
        "    francesfinal.append(palabra.lemma_names(\"fra\"))\n",
        "francesfinal\n"
      ],
      "execution_count": 53,
      "outputs": [
        {
          "output_type": "execute_result",
          "data": {
            "text/plain": [
              "[[],\n",
              " ['abattre', 'démolir'],\n",
              " [],\n",
              " ['plancher', 'pont', 'étage'],\n",
              " ['coucher', 'déposer', 'poser'],\n",
              " [\"s'étendre\"],\n",
              " ['coucher', 'lit', 'parterre', 'planche'],\n",
              " ['litière'],\n",
              " ['lit'],\n",
              " []]"
            ]
          },
          "metadata": {},
          "execution_count": 53
        }
      ]
    },
    {
      "cell_type": "markdown",
      "source": [
        "Trabajando con el *synset* más frecuente y con palabras menos ambiguas los resultados son mejores"
      ],
      "metadata": {
        "id": "ypnBPmaSjth6"
      }
    },
    {
      "cell_type": "code",
      "metadata": {
        "colab": {
          "base_uri": "https://localhost:8080/"
        },
        "id": "fQnavN34qSv9",
        "outputId": "501507ea-b9ab-4074-f873-9a913be5cf47"
      },
      "source": [
        "synset_ingles=wordnet.synsets(\"lundi\",lang=\"fra\")\n",
        "lema_español=synset_ingles[0].lemma_names(\"spa\")\n",
        "synset_español=wordnet.synsets(lema_español[0], lang=\"spa\")\n",
        "synset_español[0].lemma_names(\"fra\")\n",
        "##probar \"nuit\""
      ],
      "execution_count": 60,
      "outputs": [
        {
          "output_type": "execute_result",
          "data": {
            "text/plain": [
              "['Lundi', 'Monday', 'lundi', 'poniedziałek']"
            ]
          },
          "metadata": {},
          "execution_count": 60
        }
      ]
    },
    {
      "cell_type": "markdown",
      "source": [
        "##Relaciones de los *synsets*\n",
        "Parte importante de una ontología son las relaciones que pueden establecerse entre los elementos léxicos (para el caso de Wordnet, *synsets* o lemas de dichos *synsets*). Tenemos, para empezar, definiciones y ejemplos.\n"
      ],
      "metadata": {
        "id": "qI4yVFIalD4f"
      }
    },
    {
      "cell_type": "markdown",
      "metadata": {
        "application/vnd.databricks.v1+cell": {
          "title": "",
          "showTitle": false,
          "inputWidgets": {},
          "nuid": "05c021a8-419c-4da5-ad90-904a5d2f3cbb"
        },
        "id": "U61s-0NwFa1k"
      },
      "source": [
        "###Definiciones\n",
        "para definir una palabra tenemos su definición de diccionario y ejemplos"
      ]
    },
    {
      "cell_type": "code",
      "metadata": {
        "application/vnd.databricks.v1+cell": {
          "title": "",
          "showTitle": false,
          "inputWidgets": {},
          "nuid": "e302a925-f3ed-4759-b025-bb7e565f3395"
        },
        "colab": {
          "base_uri": "https://localhost:8080/",
          "height": 36
        },
        "id": "68Q1wrhlFa1k",
        "outputId": "140d33c1-00a9-45dd-c36a-d7bb75a9a2a0"
      },
      "source": [
        "inglesfinal[5].definition()\n"
      ],
      "execution_count": 64,
      "outputs": [
        {
          "output_type": "execute_result",
          "data": {
            "text/plain": [
              "'assume a reclining position'"
            ],
            "application/vnd.google.colaboratory.intrinsic+json": {
              "type": "string"
            }
          },
          "metadata": {},
          "execution_count": 64
        }
      ]
    },
    {
      "cell_type": "code",
      "metadata": {
        "application/vnd.databricks.v1+cell": {
          "title": "",
          "showTitle": false,
          "inputWidgets": {},
          "nuid": "07aeff45-c4fe-4dd3-80c3-416cd7c6af8a"
        },
        "colab": {
          "base_uri": "https://localhost:8080/"
        },
        "id": "2QutukeTFa1k",
        "outputId": "6e42b3c2-4cd6-4bda-b6f0-53781b51d02a"
      },
      "source": [
        "inglesfinal[5].examples()\n"
      ],
      "execution_count": null,
      "outputs": [
        {
          "output_type": "execute_result",
          "data": {
            "text/plain": [
              "['lie down on the bed until you feel better']"
            ]
          },
          "metadata": {},
          "execution_count": 14
        }
      ]
    },
    {
      "cell_type": "markdown",
      "source": [
        "###Antónimos\n",
        "Una relación importante (usualmente de los adjetivos, pero puede ser también de verbos o incluso nombres) es los antónimos. Estos solo se pueden obtener de un lema específico. Recuerde que los sinónimos son los mismos *synsets*"
      ],
      "metadata": {
        "id": "aXoj8ieklsMd"
      }
    },
    {
      "cell_type": "code",
      "source": [
        "inglesfinal[5].lemmas()"
      ],
      "metadata": {
        "colab": {
          "base_uri": "https://localhost:8080/"
        },
        "id": "KnPNsjkilb73",
        "outputId": "d7478955-a449-4181-a44b-34523389835d"
      },
      "execution_count": 62,
      "outputs": [
        {
          "output_type": "execute_result",
          "data": {
            "text/plain": [
              "[Lemma('lie_down.v.01.lie_down'), Lemma('lie_down.v.01.lie')]"
            ]
          },
          "metadata": {},
          "execution_count": 62
        }
      ]
    },
    {
      "cell_type": "code",
      "source": [
        "inglesfinal[5].lemmas()[0].antonyms()"
      ],
      "metadata": {
        "colab": {
          "base_uri": "https://localhost:8080/"
        },
        "id": "RD3Nmj0Vl6qh",
        "outputId": "6e760a86-4416-496d-fa6c-a418ab18e0ed"
      },
      "execution_count": 63,
      "outputs": [
        {
          "output_type": "execute_result",
          "data": {
            "text/plain": [
              "[Lemma('arise.v.03.arise')]"
            ]
          },
          "metadata": {},
          "execution_count": 63
        }
      ]
    },
    {
      "cell_type": "markdown",
      "metadata": {
        "application/vnd.databricks.v1+cell": {
          "title": "",
          "showTitle": false,
          "inputWidgets": {},
          "nuid": "d9fd645e-b83d-4d5e-85f1-a6c4be7f5289"
        },
        "id": "FA-GCljMFa1l"
      },
      "source": [
        "###Taxonomías: Hiperonimia e hiponimia\n",
        "El conocimiento está también clasificado en taxonomías, teniendo hiperónimos (categoría superior) e hipónimos (categoría inferior). Estas estructuras forman árboles taxonómicos de los cuales se pueden derivar diferentes relaciones y métricas."
      ]
    },
    {
      "cell_type": "code",
      "metadata": {
        "application/vnd.databricks.v1+cell": {
          "title": "",
          "showTitle": false,
          "inputWidgets": {},
          "nuid": "4aabc298-de2f-4704-8a39-2647a490c808"
        },
        "colab": {
          "base_uri": "https://localhost:8080/"
        },
        "id": "ystBnyM1Fa1l",
        "outputId": "d5ef1b31-50c1-47e8-c37f-ca442425e20f"
      },
      "source": [
        "dog = wordnet.synset('dog.n.01')\n",
        "cat=wordnet.synset(\"cat.n.01\")\n",
        "duck=wordnet.synset(\"duck.n.01\")\n",
        "table=wordnet.synset(\"table.n.01\")\n",
        "\n",
        "dog.hypernyms()\n"
      ],
      "execution_count": 65,
      "outputs": [
        {
          "output_type": "execute_result",
          "data": {
            "text/plain": [
              "[Synset('canine.n.02'), Synset('domestic_animal.n.01')]"
            ]
          },
          "metadata": {},
          "execution_count": 65
        }
      ]
    },
    {
      "cell_type": "code",
      "metadata": {
        "application/vnd.databricks.v1+cell": {
          "title": "",
          "showTitle": false,
          "inputWidgets": {},
          "nuid": "fb54a201-0d55-47b2-8f03-6e9e83900ba6"
        },
        "colab": {
          "base_uri": "https://localhost:8080/"
        },
        "id": "ZQrDfqjmFa1l",
        "outputId": "6d77637e-b659-4f85-ca02-7efaceb3d4c3"
      },
      "source": [
        "cat.hypernyms()\n"
      ],
      "execution_count": 66,
      "outputs": [
        {
          "output_type": "execute_result",
          "data": {
            "text/plain": [
              "[Synset('feline.n.01')]"
            ]
          },
          "metadata": {},
          "execution_count": 66
        }
      ]
    },
    {
      "cell_type": "code",
      "metadata": {
        "application/vnd.databricks.v1+cell": {
          "title": "",
          "showTitle": false,
          "inputWidgets": {},
          "nuid": "15c61754-5af8-4c37-b213-42fd44c46fd2"
        },
        "colab": {
          "base_uri": "https://localhost:8080/"
        },
        "id": "rL-TkSQmFa1m",
        "outputId": "93ff093c-75ad-4955-e852-cc552323eecc"
      },
      "source": [
        "dog.hyponyms()\n"
      ],
      "execution_count": 67,
      "outputs": [
        {
          "output_type": "execute_result",
          "data": {
            "text/plain": [
              "[Synset('basenji.n.01'),\n",
              " Synset('corgi.n.01'),\n",
              " Synset('cur.n.01'),\n",
              " Synset('dalmatian.n.02'),\n",
              " Synset('great_pyrenees.n.01'),\n",
              " Synset('griffon.n.02'),\n",
              " Synset('hunting_dog.n.01'),\n",
              " Synset('lapdog.n.01'),\n",
              " Synset('leonberg.n.01'),\n",
              " Synset('mexican_hairless.n.01'),\n",
              " Synset('newfoundland.n.01'),\n",
              " Synset('pooch.n.01'),\n",
              " Synset('poodle.n.01'),\n",
              " Synset('pug.n.01'),\n",
              " Synset('puppy.n.01'),\n",
              " Synset('spitz.n.01'),\n",
              " Synset('toy_dog.n.01'),\n",
              " Synset('working_dog.n.01')]"
            ]
          },
          "metadata": {},
          "execution_count": 67
        }
      ]
    },
    {
      "cell_type": "code",
      "metadata": {
        "application/vnd.databricks.v1+cell": {
          "title": "",
          "showTitle": false,
          "inputWidgets": {},
          "nuid": "69d6e8c8-df71-409a-808a-91e4d3855615"
        },
        "colab": {
          "base_uri": "https://localhost:8080/"
        },
        "id": "lfUqhcP4Fa1m",
        "outputId": "78025b2e-05eb-4b84-eb8e-2525fdf352ab"
      },
      "source": [
        "dog.root_hypernyms()\n"
      ],
      "execution_count": 68,
      "outputs": [
        {
          "output_type": "execute_result",
          "data": {
            "text/plain": [
              "[Synset('entity.n.01')]"
            ]
          },
          "metadata": {},
          "execution_count": 68
        }
      ]
    },
    {
      "cell_type": "code",
      "metadata": {
        "application/vnd.databricks.v1+cell": {
          "title": "",
          "showTitle": false,
          "inputWidgets": {},
          "nuid": "e0f237bd-a217-46fb-a600-4315ee9be745"
        },
        "colab": {
          "base_uri": "https://localhost:8080/"
        },
        "id": "TS6KLo0tFa1n",
        "outputId": "4fc6cdc5-425f-493a-c1d2-b757dae54ccf"
      },
      "source": [
        "dog.lemmas()\n"
      ],
      "execution_count": 69,
      "outputs": [
        {
          "output_type": "execute_result",
          "data": {
            "text/plain": [
              "[Lemma('dog.n.01.dog'),\n",
              " Lemma('dog.n.01.domestic_dog'),\n",
              " Lemma('dog.n.01.Canis_familiaris')]"
            ]
          },
          "metadata": {},
          "execution_count": 69
        }
      ]
    },
    {
      "cell_type": "markdown",
      "metadata": {
        "application/vnd.databricks.v1+cell": {
          "title": "",
          "showTitle": false,
          "inputWidgets": {},
          "nuid": "2e0ee72b-253e-4e66-a841-f36fc0ea7b7a"
        },
        "id": "Uf6uLY5YFa1o"
      },
      "source": [
        "###distancias taxonómicas\n",
        "gracias a la estructura taxonómica podemos también relacionar palabras, y calcular sus distancias."
      ]
    },
    {
      "cell_type": "code",
      "metadata": {
        "application/vnd.databricks.v1+cell": {
          "title": "",
          "showTitle": false,
          "inputWidgets": {},
          "nuid": "e3639736-82fa-4a2a-8738-91593330e8fd"
        },
        "colab": {
          "base_uri": "https://localhost:8080/"
        },
        "id": "zQA5sgp-Fa1o",
        "outputId": "559d6de4-e361-44f7-82ed-11c9cbd7f72e"
      },
      "source": [
        "wordnet.synset('dog.n.01').lowest_common_hypernyms(wordnet.synset('duck.n.01'))\n"
      ],
      "execution_count": null,
      "outputs": [
        {
          "output_type": "execute_result",
          "data": {
            "text/plain": [
              "[Synset('vertebrate.n.01')]"
            ]
          },
          "metadata": {},
          "execution_count": 20
        }
      ]
    },
    {
      "cell_type": "markdown",
      "source": [
        "La distancia *path* tiene que ver con cuántos pasos tiene el camino taxonómico más corto hasta el otro concepto. Es básicamente el inverso del número de pasos requerido."
      ],
      "metadata": {
        "id": "9GbNEhdfpns5"
      }
    },
    {
      "cell_type": "code",
      "metadata": {
        "application/vnd.databricks.v1+cell": {
          "title": "",
          "showTitle": false,
          "inputWidgets": {},
          "nuid": "dde00756-3702-4f2c-a46b-54cb8a207988"
        },
        "colab": {
          "base_uri": "https://localhost:8080/"
        },
        "id": "BKZ4rlljFa1p",
        "outputId": "47b0bffc-7c56-489b-8f1a-6e9ff1b83ee7"
      },
      "source": [
        "dog.path_similarity(table)\n"
      ],
      "execution_count": 70,
      "outputs": [
        {
          "output_type": "execute_result",
          "data": {
            "text/plain": [
              "0.07142857142857142"
            ]
          },
          "metadata": {},
          "execution_count": 70
        }
      ]
    },
    {
      "cell_type": "code",
      "metadata": {
        "application/vnd.databricks.v1+cell": {
          "title": "",
          "showTitle": false,
          "inputWidgets": {},
          "nuid": "63902728-2d7a-474a-9e70-f3894aca979d"
        },
        "colab": {
          "base_uri": "https://localhost:8080/"
        },
        "id": "AsP5o6DzFa1p",
        "outputId": "db336273-b7f0-4129-b681-97f6755d867c"
      },
      "source": [
        "dog.path_similarity(cat)\n"
      ],
      "execution_count": null,
      "outputs": [
        {
          "output_type": "execute_result",
          "data": {
            "text/plain": [
              "0.2"
            ]
          },
          "metadata": {},
          "execution_count": 22
        }
      ]
    },
    {
      "cell_type": "code",
      "source": [
        "dog.path_similarity(wordnet.synset('dalmatian.n.02'))"
      ],
      "metadata": {
        "colab": {
          "base_uri": "https://localhost:8080/"
        },
        "id": "aJ1KzwihnpQm",
        "outputId": "07ccd35f-5363-412d-cc76-895d1db1a76f"
      },
      "execution_count": 72,
      "outputs": [
        {
          "output_type": "execute_result",
          "data": {
            "text/plain": [
              "0.5"
            ]
          },
          "metadata": {},
          "execution_count": 72
        }
      ]
    },
    {
      "cell_type": "markdown",
      "metadata": {
        "application/vnd.databricks.v1+cell": {
          "title": "",
          "showTitle": false,
          "inputWidgets": {},
          "nuid": "fd95ccea-f24c-40c5-81e4-50198f9a2ad3"
        },
        "id": "xNiIWHW3Fa1p"
      },
      "source": [
        "### Caso de uso con taxonomías\n",
        "Como ejemplo, extraigamos de un listado de compras un elemento que sea un hipónimo"
      ]
    },
    {
      "cell_type": "code",
      "metadata": {
        "colab": {
          "base_uri": "https://localhost:8080/"
        },
        "id": "msBULpPDtkm7",
        "outputId": "34e97faa-f77b-4838-b16f-3dece780e242"
      },
      "source": [
        "peticion=\"fruta\"\n",
        "productos=[\"lasaña\",\"manzana\",\"cerdo\", \"pera\"]\n",
        "frutas=wordnet.synsets(peticion,lang=\"spa\")\n",
        "frutas"
      ],
      "execution_count": 73,
      "outputs": [
        {
          "output_type": "execute_result",
          "data": {
            "text/plain": [
              "[Synset('edible_fruit.n.01')]"
            ]
          },
          "metadata": {},
          "execution_count": 73
        }
      ]
    },
    {
      "cell_type": "code",
      "metadata": {
        "colab": {
          "base_uri": "https://localhost:8080/"
        },
        "id": "0HwCeKQct1uq",
        "outputId": "b28c7d3c-ab48-4dbc-80bf-7516223e1930"
      },
      "source": [
        "todafruta=frutas[0].hyponyms()\n",
        "todafruta"
      ],
      "execution_count": 74,
      "outputs": [
        {
          "output_type": "execute_result",
          "data": {
            "text/plain": [
              "[Synset('ackee.n.01'),\n",
              " Synset('anchovy_pear.n.02'),\n",
              " Synset('apple.n.01'),\n",
              " Synset('apricot.n.02'),\n",
              " Synset('avocado.n.01'),\n",
              " Synset('banana.n.02'),\n",
              " Synset('barbados_gooseberry.n.02'),\n",
              " Synset('berry.n.01'),\n",
              " Synset('breadfruit.n.02'),\n",
              " Synset('canistel.n.02'),\n",
              " Synset('carambola.n.02'),\n",
              " Synset('carissa_plum.n.01'),\n",
              " Synset('ceriman.n.02'),\n",
              " Synset('cherry.n.03'),\n",
              " Synset('citrus.n.01'),\n",
              " Synset('cling.n.01'),\n",
              " Synset('cocoa_plum.n.02'),\n",
              " Synset('custard_apple.n.02'),\n",
              " Synset('date.n.08'),\n",
              " Synset('dried_fruit.n.01'),\n",
              " Synset('durian.n.02'),\n",
              " Synset('elderberry.n.02'),\n",
              " Synset('feijoa.n.02'),\n",
              " Synset('fig.n.04'),\n",
              " Synset('freestone.n.01'),\n",
              " Synset('garambulla.n.02'),\n",
              " Synset('genip.n.02'),\n",
              " Synset('genipap.n.01'),\n",
              " Synset('grape.n.01'),\n",
              " Synset('guava.n.03'),\n",
              " Synset('hog_plum.n.03'),\n",
              " Synset('hog_plum.n.04'),\n",
              " Synset('jaboticaba.n.02'),\n",
              " Synset('jackfruit.n.02'),\n",
              " Synset('jujube.n.02'),\n",
              " Synset('kai_apple.n.01'),\n",
              " Synset('ketembilla.n.02'),\n",
              " Synset('kiwi.n.03'),\n",
              " Synset('lanseh.n.01'),\n",
              " Synset('litchi.n.02'),\n",
              " Synset('longanberry.n.02'),\n",
              " Synset('loquat.n.02'),\n",
              " Synset('mamey.n.02'),\n",
              " Synset('mango.n.02'),\n",
              " Synset('mangosteen.n.02'),\n",
              " Synset('marang.n.02'),\n",
              " Synset('medlar.n.03'),\n",
              " Synset('medlar.n.04'),\n",
              " Synset('melon.n.01'),\n",
              " Synset('mombin.n.02'),\n",
              " Synset('nectarine.n.02'),\n",
              " Synset('papaw.n.02'),\n",
              " Synset('papaya.n.02'),\n",
              " Synset('passion_fruit.n.01'),\n",
              " Synset('peach.n.03'),\n",
              " Synset('pear.n.01'),\n",
              " Synset('pineapple.n.02'),\n",
              " Synset('pitahaya.n.02'),\n",
              " Synset('plum.n.02'),\n",
              " Synset('plumcot.n.02'),\n",
              " Synset('pomegranate.n.02'),\n",
              " Synset('prickly_pear.n.02'),\n",
              " Synset('pulasan.n.02'),\n",
              " Synset('quandong.n.04'),\n",
              " Synset('quince.n.02'),\n",
              " Synset('rambutan.n.02'),\n",
              " Synset('rose_apple.n.02'),\n",
              " Synset('sapodilla.n.02'),\n",
              " Synset('sapote.n.02'),\n",
              " Synset('sorb.n.01'),\n",
              " Synset('sour_gourd.n.02'),\n",
              " Synset('sour_gourd.n.03'),\n",
              " Synset('tamarind.n.02'),\n",
              " Synset('tangelo.n.02'),\n",
              " Synset('windfall.n.01')]"
            ]
          },
          "metadata": {},
          "execution_count": 74
        }
      ]
    },
    {
      "cell_type": "code",
      "metadata": {
        "colab": {
          "base_uri": "https://localhost:8080/"
        },
        "id": "fiM3qJczuChw",
        "outputId": "33954ec3-4773-44b0-a674-462f3c690195"
      },
      "source": [
        "fruta1=todafruta[2].lemma_names(\"spa\")\n",
        "fruta1"
      ],
      "execution_count": 86,
      "outputs": [
        {
          "output_type": "execute_result",
          "data": {
            "text/plain": [
              "['manzana']"
            ]
          },
          "metadata": {},
          "execution_count": 86
        }
      ]
    },
    {
      "cell_type": "code",
      "metadata": {
        "colab": {
          "base_uri": "https://localhost:8080/"
        },
        "id": "vIRUIG92uZMf",
        "outputId": "0f310ec8-27ea-470d-978f-b931e45514fb"
      },
      "source": [
        "fruspa=[]\n",
        "for palabra in todafruta:\n",
        "    fruspa.append(\" \".join(palabra.lemma_names(\"spa\")))\n",
        "fruspa"
      ],
      "execution_count": 87,
      "outputs": [
        {
          "output_type": "execute_result",
          "data": {
            "text/plain": [
              "['',\n",
              " '',\n",
              " 'manzana',\n",
              " '',\n",
              " 'persea_americana',\n",
              " '',\n",
              " '',\n",
              " '',\n",
              " '',\n",
              " '',\n",
              " 'averrhoa_carambola',\n",
              " '',\n",
              " '',\n",
              " '',\n",
              " 'citrus',\n",
              " 'variedad_Clingstone',\n",
              " '',\n",
              " '',\n",
              " '',\n",
              " '',\n",
              " '',\n",
              " '',\n",
              " '',\n",
              " 'higo',\n",
              " 'variedad_Freestone',\n",
              " '',\n",
              " '',\n",
              " 'huito jagua',\n",
              " 'uva',\n",
              " '',\n",
              " '',\n",
              " '',\n",
              " '',\n",
              " '',\n",
              " 'ziziphus_zizyphus',\n",
              " '',\n",
              " '',\n",
              " '',\n",
              " '',\n",
              " 'litchi_chinensis',\n",
              " '',\n",
              " '',\n",
              " '',\n",
              " '',\n",
              " 'mangostino',\n",
              " '',\n",
              " '',\n",
              " '',\n",
              " '',\n",
              " '',\n",
              " '',\n",
              " '',\n",
              " '',\n",
              " '',\n",
              " 'prunus_persica',\n",
              " 'pera',\n",
              " '',\n",
              " '',\n",
              " '',\n",
              " '',\n",
              " 'granada',\n",
              " '',\n",
              " '',\n",
              " '',\n",
              " '',\n",
              " '',\n",
              " '',\n",
              " '',\n",
              " '',\n",
              " '',\n",
              " '',\n",
              " '',\n",
              " '',\n",
              " '',\n",
              " '']"
            ]
          },
          "metadata": {},
          "execution_count": 87
        }
      ]
    },
    {
      "cell_type": "code",
      "metadata": {
        "colab": {
          "base_uri": "https://localhost:8080/"
        },
        "id": "c0wPltq5ulV4",
        "outputId": "6fda30a4-91b4-4b93-afe5-cf44cb20d0f5"
      },
      "source": [
        "for element in fruspa:\n",
        "  if element in productos: print(\"Tenemos\"+\" \" + element)"
      ],
      "execution_count": 88,
      "outputs": [
        {
          "output_type": "stream",
          "name": "stdout",
          "text": [
            "Tenemos manzana\n",
            "Tenemos pera\n"
          ]
        }
      ]
    },
    {
      "cell_type": "markdown",
      "source": [
        "## Otras relaciones: parte y todo\n",
        "Las relaciones de parte y todo son llamadas *meronimia* (el merónimo es la parte) y *holonimia* (el holónimo es el todo). Hay relaciones de parte, de miembro y de sustancia."
      ],
      "metadata": {
        "id": "VuvQxoeprepD"
      }
    },
    {
      "cell_type": "markdown",
      "source": [
        "Partes de una bicicleta"
      ],
      "metadata": {
        "id": "lHsnlZNKsyiX"
      }
    },
    {
      "cell_type": "code",
      "source": [
        "bike = wordnet.synset('bicycle.n.01')\n",
        "bike.part_meronyms()"
      ],
      "metadata": {
        "colab": {
          "base_uri": "https://localhost:8080/"
        },
        "id": "aNVmMn2CcbDO",
        "outputId": "59741c0e-facc-476e-c71a-7791be957bff"
      },
      "execution_count": 91,
      "outputs": [
        {
          "output_type": "execute_result",
          "data": {
            "text/plain": [
              "[Synset('bicycle_seat.n.01'),\n",
              " Synset('bicycle_wheel.n.01'),\n",
              " Synset('chain.n.03'),\n",
              " Synset('coaster_brake.n.01'),\n",
              " Synset('handlebar.n.01'),\n",
              " Synset('kickstand.n.01'),\n",
              " Synset('mudguard.n.01'),\n",
              " Synset('pedal.n.02'),\n",
              " Synset('sprocket.n.02')]"
            ]
          },
          "metadata": {},
          "execution_count": 91
        }
      ]
    },
    {
      "cell_type": "markdown",
      "source": [
        "Busquemos el holónimo de una cabeza"
      ],
      "metadata": {
        "id": "9nZtm0pcs2HY"
      }
    },
    {
      "cell_type": "code",
      "source": [
        "wordnet.synsets(\"head\")"
      ],
      "metadata": {
        "colab": {
          "base_uri": "https://localhost:8080/"
        },
        "id": "MZGg9EvFsaQy",
        "outputId": "5e6fd787-8a29-4a7f-e412-13fb3ab641dc"
      },
      "execution_count": 93,
      "outputs": [
        {
          "output_type": "execute_result",
          "data": {
            "text/plain": [
              "[Synset('head.n.01'),\n",
              " Synset('head.n.02'),\n",
              " Synset('mind.n.01'),\n",
              " Synset('head.n.04'),\n",
              " Synset('head.n.05'),\n",
              " Synset('head.n.06'),\n",
              " Synset('head.n.07'),\n",
              " Synset('fountainhead.n.02'),\n",
              " Synset('head.n.09'),\n",
              " Synset('head.n.10'),\n",
              " Synset('head.n.11'),\n",
              " Synset('capitulum.n.01'),\n",
              " Synset('principal.n.02'),\n",
              " Synset('head.n.14'),\n",
              " Synset('head.n.15'),\n",
              " Synset('promontory.n.01'),\n",
              " Synset('head.n.17'),\n",
              " Synset('head.n.18'),\n",
              " Synset('forefront.n.01'),\n",
              " Synset('pass.n.09'),\n",
              " Synset('headway.n.02'),\n",
              " Synset('point.n.20'),\n",
              " Synset('question.n.02'),\n",
              " Synset('heading.n.01'),\n",
              " Synset('head.n.25'),\n",
              " Synset('head.n.26'),\n",
              " Synset('read/write_head.n.01'),\n",
              " Synset('head.n.28'),\n",
              " Synset('head.n.29'),\n",
              " Synset('head.n.30'),\n",
              " Synset('head.n.31'),\n",
              " Synset('drumhead.n.01'),\n",
              " Synset('oral_sex.n.01'),\n",
              " Synset('head.v.01'),\n",
              " Synset('head.v.02'),\n",
              " Synset('lead.v.04'),\n",
              " Synset('head.v.04'),\n",
              " Synset('steer.v.01'),\n",
              " Synset('head.v.06'),\n",
              " Synset('head.v.07'),\n",
              " Synset('head.v.08'),\n",
              " Synset('head.v.09')]"
            ]
          },
          "metadata": {},
          "execution_count": 93
        }
      ]
    },
    {
      "cell_type": "code",
      "source": [
        " wordnet.synset('head.n.01').part_holonyms()"
      ],
      "metadata": {
        "colab": {
          "base_uri": "https://localhost:8080/"
        },
        "id": "ePYQqO7uskqx",
        "outputId": "3f014b64-1aa0-4755-b455-b7a1639b0c52"
      },
      "execution_count": 94,
      "outputs": [
        {
          "output_type": "execute_result",
          "data": {
            "text/plain": [
              "[Synset('animal.n.01'), Synset('body.n.01')]"
            ]
          },
          "metadata": {},
          "execution_count": 94
        }
      ]
    },
    {
      "cell_type": "code",
      "metadata": {
        "colab": {
          "base_uri": "https://localhost:8080/"
        },
        "id": "ZxWd9dFfk40o",
        "outputId": "bd6e5041-82b4-46c7-b645-e46eec6def05"
      },
      "source": [
        "wordnet.synsets(\"man\")"
      ],
      "execution_count": 95,
      "outputs": [
        {
          "output_type": "execute_result",
          "data": {
            "text/plain": [
              "[Synset('man.n.01'),\n",
              " Synset('serviceman.n.01'),\n",
              " Synset('man.n.03'),\n",
              " Synset('homo.n.02'),\n",
              " Synset('man.n.05'),\n",
              " Synset('man.n.06'),\n",
              " Synset('valet.n.01'),\n",
              " Synset('man.n.08'),\n",
              " Synset('man.n.09'),\n",
              " Synset('man.n.10'),\n",
              " Synset('world.n.08'),\n",
              " Synset('man.v.01'),\n",
              " Synset('man.v.02')]"
            ]
          },
          "metadata": {},
          "execution_count": 95
        }
      ]
    },
    {
      "cell_type": "code",
      "metadata": {
        "colab": {
          "base_uri": "https://localhost:8080/"
        },
        "id": "uuXH-Xink_59",
        "outputId": "6f108085-c323-4c31-ae64-e9e8e4d7faa2"
      },
      "source": [
        "wordnet.synset('homo.n.02').part_meronyms()"
      ],
      "execution_count": 96,
      "outputs": [
        {
          "output_type": "execute_result",
          "data": {
            "text/plain": [
              "[Synset('arm.n.01'),\n",
              " Synset('body_hair.n.01'),\n",
              " Synset('face.n.01'),\n",
              " Synset('foot.n.01'),\n",
              " Synset('hand.n.01'),\n",
              " Synset('human_body.n.01'),\n",
              " Synset('human_head.n.01'),\n",
              " Synset('loin.n.02'),\n",
              " Synset('mane.n.02')]"
            ]
          },
          "metadata": {},
          "execution_count": 96
        }
      ]
    },
    {
      "cell_type": "code",
      "metadata": {
        "colab": {
          "base_uri": "https://localhost:8080/"
        },
        "id": "76r1rTNQlFM8",
        "outputId": "e4f434cf-ed87-4550-d3ed-afca4349f552"
      },
      "source": [
        "wordnet.synset('adult_male_body.n.01').part_meronyms()"
      ],
      "execution_count": 97,
      "outputs": [
        {
          "output_type": "execute_result",
          "data": {
            "text/plain": [
              "[Synset('beard.n.01')]"
            ]
          },
          "metadata": {},
          "execution_count": 97
        }
      ]
    }
  ]
}