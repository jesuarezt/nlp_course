{
  "nbformat": 4,
  "nbformat_minor": 0,
  "metadata": {
    "colab": {
      "name": "semantico_3_we.ipynb",
      "provenance": []
    },
    "kernelspec": {
      "name": "python3",
      "display_name": "Python 3"
    },
    "language_info": {
      "name": "python"
    }
  },
  "cells": [
    {
      "cell_type": "markdown",
      "source": [
        "#Uso de word embeddings\n",
        "En este notebook utilizaremos un conjunto de Word embeddings en español para ver como podemos usarlo y para que tareas servirían"
      ],
      "metadata": {
        "id": "7PNRWutL1ifK"
      }
    },
    {
      "cell_type": "code",
      "execution_count": 1,
      "metadata": {
        "id": "JhepmGzZ0csf"
      },
      "outputs": [],
      "source": [
        "import os, re\n",
        "import nltk\n",
        "import pandas as pd\n",
        "import sklearn\n",
        "import gensim\n",
        "from sklearn import manifold\n",
        "import seaborn as sns\n"
      ]
    },
    {
      "cell_type": "markdown",
      "source": [
        "Importamos el archivo de Word embeddings"
      ],
      "metadata": {
        "id": "SzgfmXcm8wLE"
      }
    },
    {
      "cell_type": "code",
      "source": [
        "from gensim.models import KeyedVectors\n",
        "os.chdir(\"/content/drive/My Drive/corpus/Otros_texto\")\n",
        "modelo = KeyedVectors.load_word2vec_format('SBW-vectors-300-min5.bin.gz', binary=True)\n",
        "\n"
      ],
      "metadata": {
        "id": "KskpSqpe0o2F"
      },
      "execution_count": 2,
      "outputs": []
    },
    {
      "cell_type": "markdown",
      "source": [
        "Podemos calcular los *k* vecinos más cercanos a una palabra"
      ],
      "metadata": {
        "id": "aIHALXuC81M7"
      }
    },
    {
      "cell_type": "code",
      "source": [
        "#similitudes de una palabra\n",
        "similitud=modelo.similar_by_word(\"alimenticio\", topn=50, restrict_vocab=300000)\n",
        "similitud\n"
      ],
      "metadata": {
        "colab": {
          "base_uri": "https://localhost:8080/"
        },
        "id": "vRTAFzRe1QZP",
        "outputId": "fe593ebe-128c-4d75-93a5-1eec06520fd3"
      },
      "execution_count": 3,
      "outputs": [
        {
          "output_type": "execute_result",
          "data": {
            "text/plain": [
              "[('alimentario', 0.7926660180091858),\n",
              " ('dietético', 0.6628463268280029),\n",
              " ('alimenticios', 0.622776985168457),\n",
              " ('alimento', 0.6160340905189514),\n",
              " ('nutricional', 0.6138904094696045),\n",
              " ('nutritivo', 0.6030381917953491),\n",
              " ('nutritivas', 0.5713232159614563),\n",
              " ('nutricionales', 0.5702104568481445),\n",
              " ('nutrimental', 0.5639524459838867),\n",
              " ('alimentos', 0.5576946139335632),\n",
              " ('medicamentoso', 0.5559772253036499),\n",
              " ('alimentarios', 0.552754282951355),\n",
              " ('mayonesas', 0.5521297454833984),\n",
              " ('cárnico', 0.545059084892273),\n",
              " ('lácteo', 0.5445378422737122),\n",
              " ('vitamínico', 0.5420364141464233),\n",
              " ('prebióticos', 0.540791928768158),\n",
              " ('agroquímico', 0.5301522612571716),\n",
              " ('nutritivos', 0.5268266201019287),\n",
              " ('endulzante', 0.5267912149429321),\n",
              " ('endulzantes', 0.5261530876159668),\n",
              " ('calórico', 0.5244935154914856),\n",
              " ('Depuralina', 0.5221548080444336),\n",
              " ('alergénico', 0.5217621326446533),\n",
              " ('nutritiva', 0.5213720798492432),\n",
              " ('tisanas', 0.5211535692214966),\n",
              " ('vitamínicas', 0.5199116468429565),\n",
              " ('pulpas', 0.5198416709899902),\n",
              " ('nutriólogo', 0.5181704759597778),\n",
              " ('adelgazante', 0.5181427001953125),\n",
              " ('dietéticos', 0.5176604986190796),\n",
              " ('proteínico', 0.516679048538208),\n",
              " ('alimentación', 0.5163910388946533),\n",
              " ('konjac', 0.5133638978004456),\n",
              " ('nutricionalmente', 0.5123945474624634),\n",
              " ('producto', 0.5123482942581177),\n",
              " ('nutrimentos', 0.5087251663208008),\n",
              " ('macronutrientes', 0.5079638957977295),\n",
              " ('nutriente', 0.5075048804283142),\n",
              " ('preservante', 0.5074460506439209),\n",
              " ('mantecas', 0.5068920254707336),\n",
              " ('aromatizante', 0.5064756870269775),\n",
              " ('liofilizado', 0.5063772201538086),\n",
              " ('saborizante', 0.5057750344276428),\n",
              " ('forrajes', 0.5046589970588684),\n",
              " ('nutracéuticos', 0.5043566226959229),\n",
              " ('leche', 0.5042779445648193),\n",
              " ('pasteurizados', 0.5035921931266785),\n",
              " ('liofilizados', 0.5032832622528076),\n",
              " ('Benexia', 0.5032680630683899)]"
            ]
          },
          "metadata": {},
          "execution_count": 3
        }
      ]
    },
    {
      "cell_type": "markdown",
      "source": [
        "Sin embargo, los resultados pueden estar sesgados por la cultura y por los sesgos que los seres humanos ya tenemos. Por ejemplo"
      ],
      "metadata": {
        "id": "uSPzAZim1ZhO"
      }
    },
    {
      "cell_type": "code",
      "source": [
        "similitud2=modelo.similar_by_word(\"mujer\", topn=50, restrict_vocab=300000)\n",
        "similitud2\n"
      ],
      "metadata": {
        "colab": {
          "base_uri": "https://localhost:8080/"
        },
        "id": "ZpH5pzb11Whl",
        "outputId": "25e74a6a-2a69-411f-9f8f-fba489b86ca6"
      },
      "execution_count": 4,
      "outputs": [
        {
          "output_type": "execute_result",
          "data": {
            "text/plain": [
              "[('niña', 0.7468613982200623),\n",
              " ('muchacha', 0.7343084216117859),\n",
              " ('persona', 0.721770703792572),\n",
              " ('hombre', 0.717448353767395),\n",
              " ('fémina', 0.7114294171333313),\n",
              " ('anciana', 0.7081663012504578),\n",
              " ('joven', 0.7036719918251038),\n",
              " ('jovencita', 0.7007800936698914),\n",
              " ('marido', 0.6902620196342468),\n",
              " ('esposo', 0.687350869178772),\n",
              " ('esposa', 0.674560010433197),\n",
              " ('prostituta', 0.6566932797431946),\n",
              " ('embarazada', 0.6501801609992981),\n",
              " ('sexagenaria', 0.6497166156768799),\n",
              " ('madre', 0.6432695984840393),\n",
              " ('chica', 0.6407369375228882),\n",
              " ('adolescente', 0.6385994553565979),\n",
              " ('pareja', 0.636317253112793),\n",
              " ('septuagenaria', 0.631632924079895),\n",
              " ('cuarentona', 0.6294296979904175),\n",
              " ('hija', 0.6284516453742981),\n",
              " ('ella', 0.6271185874938965),\n",
              " ('parapléjica', 0.6244871616363525),\n",
              " ('hijastra', 0.6232087016105652),\n",
              " ('acuchillada', 0.6231945753097534),\n",
              " ('mujeres', 0.6229809522628784),\n",
              " ('sirvienta', 0.6219693422317505),\n",
              " ('cuñada', 0.6205693483352661),\n",
              " ('víctima', 0.6180682182312012),\n",
              " ('treintañera', 0.6172313690185547),\n",
              " ('maltratada', 0.6163106560707092),\n",
              " ('Karlota', 0.6136963963508606),\n",
              " ('suegra', 0.6133378744125366),\n",
              " ('transexual', 0.613154411315918),\n",
              " ('varón', 0.6125235557556152),\n",
              " ('bígamo', 0.6099777221679688),\n",
              " ('bebé', 0.6098322868347168),\n",
              " ('alcoholizada', 0.6087433099746704),\n",
              " ('enviuda', 0.6082452535629272),\n",
              " ('novia', 0.6061442494392395),\n",
              " ('lesbiana', 0.6050988435745239),\n",
              " ('veinteañera', 0.6042428016662598),\n",
              " ('minusválida', 0.6016364693641663),\n",
              " ('drogadicta', 0.6001869440078735),\n",
              " ('asistenta', 0.5989499688148499),\n",
              " ('nuera', 0.5974856615066528),\n",
              " ('octogenaria', 0.5974182486534119),\n",
              " ('abusada', 0.5962299108505249),\n",
              " ('amante', 0.5955451726913452),\n",
              " ('novio', 0.595173716545105)]"
            ]
          },
          "metadata": {},
          "execution_count": 4
        }
      ]
    },
    {
      "cell_type": "markdown",
      "source": [
        "Probemos con el que usted desee"
      ],
      "metadata": {
        "id": "c0pyvymE86sf"
      }
    },
    {
      "cell_type": "code",
      "source": [
        "similitud3=modelo.similar_by_word(\"vehículo\", topn=50, restrict_vocab=300000)\n",
        "similitud3\n"
      ],
      "metadata": {
        "colab": {
          "base_uri": "https://localhost:8080/"
        },
        "id": "qdrxHgdl1shQ",
        "outputId": "97869b7b-5947-42dc-980e-e89498d8fdf1"
      },
      "execution_count": 5,
      "outputs": [
        {
          "output_type": "execute_result",
          "data": {
            "text/plain": [
              "[('automóvil', 0.8449662327766418),\n",
              " ('camión', 0.8032729625701904),\n",
              " ('camioneta', 0.7934374809265137),\n",
              " ('coche', 0.7672141790390015),\n",
              " ('motocicleta', 0.7655366659164429),\n",
              " ('carro', 0.7342464923858643),\n",
              " ('conductor', 0.7216777801513672),\n",
              " ('vehículos', 0.7185602188110352),\n",
              " ('ecotaxi', 0.7152096033096313),\n",
              " ('Sentra', 0.7135574221611023),\n",
              " ('furgoneta', 0.7122205495834351),\n",
              " ('chofer', 0.7118712663650513),\n",
              " ('Jeep', 0.7111682891845703),\n",
              " ('vehiculo', 0.7103638648986816),\n",
              " ('tsuru', 0.7031404376029968),\n",
              " ('torton', 0.7029311656951904),\n",
              " ('Tsuru', 0.7020263671875),\n",
              " ('microbús', 0.7014415264129639),\n",
              " ('todoterreno', 0.6987150311470032),\n",
              " ('Jetta', 0.695485532283783),\n",
              " ('automovilista', 0.6918030977249146),\n",
              " ('estaquitas', 0.6878707408905029),\n",
              " ('ciclomotor', 0.6848747134208679),\n",
              " ('chocada', 0.68404620885849),\n",
              " ('Tiida', 0.6826857924461365),\n",
              " ('Xtrail', 0.6825708150863647),\n",
              " ('Tida', 0.6818996667861938),\n",
              " ('midibús', 0.6812483668327332),\n",
              " ('estacionado', 0.6802089214324951),\n",
              " ('conducía', 0.678035318851471),\n",
              " ('furgón', 0.6777230501174927),\n",
              " ('taxi', 0.677668571472168),\n",
              " ('circulaba', 0.6768702864646912),\n",
              " ('motoneta', 0.6749155521392822),\n",
              " ('Vagoneta', 0.6748676896095276),\n",
              " ('viajaban', 0.6748602390289307),\n",
              " ('camionetas', 0.6746385097503662),\n",
              " ('vagoneta', 0.6739100217819214),\n",
              " ('tractocamión', 0.6716679334640503),\n",
              " ('tripulaba', 0.6712896823883057),\n",
              " ('viajaba', 0.6678441762924194),\n",
              " ('auto', 0.6675836443901062),\n",
              " ('Áltima', 0.6668506264686584),\n",
              " ('Urvan', 0.6653532981872559),\n",
              " ('automotor', 0.6612485647201538),\n",
              " ('camionetilla', 0.6609087586402893),\n",
              " ('Altima', 0.660027027130127),\n",
              " ('Ecosport', 0.6599333882331848),\n",
              " ('pick', 0.6591194272041321),\n",
              " ('Windstar', 0.6562768220901489)]"
            ]
          },
          "metadata": {},
          "execution_count": 5
        }
      ]
    },
    {
      "cell_type": "markdown",
      "source": [
        "En principio los vectores se pueden *operar*, lo que implica que si a rey lo resto de hombre y le sumo mujer, debiera obtener algo similar a una reina:\n",
        "reina=rey-hombre+mujer"
      ],
      "metadata": {
        "id": "GeEAOL8C89es"
      }
    },
    {
      "cell_type": "code",
      "source": [
        "##similitudes en relación\n",
        "analogia1=modelo.most_similar(positive=[\"rey\", \"mujer\"],negative=[\"hombre\"], topn=5, restrict_vocab=300000)\n",
        "analogia1\n"
      ],
      "metadata": {
        "colab": {
          "base_uri": "https://localhost:8080/"
        },
        "id": "tbfkACsg1zBg",
        "outputId": "7a32aa52-0bbf-4dd2-a212-5df37141d0d1"
      },
      "execution_count": 6,
      "outputs": [
        {
          "output_type": "execute_result",
          "data": {
            "text/plain": [
              "[('reina', 0.7493031024932861),\n",
              " ('consorte', 0.7034263014793396),\n",
              " ('princesa', 0.6861542463302612),\n",
              " ('reyes', 0.6391465663909912),\n",
              " ('Eriksdotter', 0.6360354423522949)]"
            ]
          },
          "metadata": {},
          "execution_count": 6
        }
      ]
    },
    {
      "cell_type": "markdown",
      "source": [
        "Funcionará cuando qiuero saber un componente de un todo?"
      ],
      "metadata": {
        "id": "E5H6DX3c9J7Z"
      }
    },
    {
      "cell_type": "code",
      "source": [
        "analogia2=modelo.most_similar(positive=[\"trompeta\", \"rock\"],negative=[\"jazz\"], topn=5, restrict_vocab=300000)\n",
        "analogia2\n"
      ],
      "metadata": {
        "colab": {
          "base_uri": "https://localhost:8080/"
        },
        "id": "k7AwPqPJ12jG",
        "outputId": "ef9b1cc4-1c73-4c04-9f0d-c7aba7aa37fa"
      },
      "execution_count": 7,
      "outputs": [
        {
          "output_type": "execute_result",
          "data": {
            "text/plain": [
              "[('guitarra', 0.5890582799911499),\n",
              " ('banda', 0.5711548328399658),\n",
              " ('trompetas', 0.5636848211288452),\n",
              " ('tuba', 0.5532137751579285),\n",
              " ('trombón', 0.5528615713119507)]"
            ]
          },
          "metadata": {},
          "execution_count": 7
        }
      ]
    },
    {
      "cell_type": "markdown",
      "source": [
        "En este caso, quizás por la polisemia, el resultado es malo"
      ],
      "metadata": {
        "id": "8AOfmXAq9N8n"
      }
    },
    {
      "cell_type": "code",
      "source": [
        "analogia3=modelo.most_similar(positive=[\"baloncesto\", \"fútbol\"],negative=[\"aro\"], topn=5, restrict_vocab=300000)\n",
        "analogia3\n"
      ],
      "metadata": {
        "colab": {
          "base_uri": "https://localhost:8080/"
        },
        "id": "Hqmg3Se_16L2",
        "outputId": "d0d5340b-7f49-4be7-ad93-3d4731eb5974"
      },
      "execution_count": 8,
      "outputs": [
        {
          "output_type": "execute_result",
          "data": {
            "text/plain": [
              "[('voleibol', 0.6411385536193848),\n",
              " ('balonmano', 0.6357670426368713),\n",
              " ('rugby', 0.6266653537750244),\n",
              " ('futbol', 0.6047141551971436),\n",
              " ('Fútbol', 0.6009125709533691)]"
            ]
          },
          "metadata": {},
          "execution_count": 8
        }
      ]
    },
    {
      "cell_type": "markdown",
      "source": [
        "También puedo detectar la palabra que no pertenece, mirando la de mayor distancia a la media de palabras."
      ],
      "metadata": {
        "id": "YQhc49pz9SUM"
      }
    },
    {
      "cell_type": "code",
      "source": [
        "##palabra extraña\n",
        "modelo.doesnt_match(\"hombre mujer anciano oficina\".split())\n"
      ],
      "metadata": {
        "colab": {
          "base_uri": "https://localhost:8080/",
          "height": 92
        },
        "id": "Tcyt6A1B1_Ml",
        "outputId": "b5fa1dca-f3cf-416c-eea5-ad176726824e"
      },
      "execution_count": 9,
      "outputs": [
        {
          "output_type": "stream",
          "name": "stderr",
          "text": [
            "/usr/local/lib/python3.7/dist-packages/gensim/models/keyedvectors.py:895: FutureWarning: arrays to stack must be passed as a \"sequence\" type such as list or tuple. Support for non-sequence iterables such as generators is deprecated as of NumPy 1.16 and will raise an error in the future.\n",
            "  vectors = vstack(self.word_vec(word, use_norm=True) for word in used_words).astype(REAL)\n"
          ]
        },
        {
          "output_type": "execute_result",
          "data": {
            "text/plain": [
              "'oficina'"
            ],
            "application/vnd.google.colaboratory.intrinsic+json": {
              "type": "string"
            }
          },
          "metadata": {},
          "execution_count": 9
        }
      ]
    },
    {
      "cell_type": "markdown",
      "source": [
        "Probemos con otro conjunto"
      ],
      "metadata": {
        "id": "75MXSwqM9Yfu"
      }
    },
    {
      "cell_type": "code",
      "source": [
        "modelo.doesnt_match(\"pan carne trigo harina\".split())"
      ],
      "metadata": {
        "colab": {
          "base_uri": "https://localhost:8080/",
          "height": 92
        },
        "id": "wvsP5IUw2IHO",
        "outputId": "4a207578-004b-42ce-f8b0-75e5683c4948"
      },
      "execution_count": 10,
      "outputs": [
        {
          "output_type": "stream",
          "name": "stderr",
          "text": [
            "/usr/local/lib/python3.7/dist-packages/gensim/models/keyedvectors.py:895: FutureWarning: arrays to stack must be passed as a \"sequence\" type such as list or tuple. Support for non-sequence iterables such as generators is deprecated as of NumPy 1.16 and will raise an error in the future.\n",
            "  vectors = vstack(self.word_vec(word, use_norm=True) for word in used_words).astype(REAL)\n"
          ]
        },
        {
          "output_type": "execute_result",
          "data": {
            "text/plain": [
              "'carne'"
            ],
            "application/vnd.google.colaboratory.intrinsic+json": {
              "type": "string"
            }
          },
          "metadata": {},
          "execution_count": 10
        }
      ]
    },
    {
      "cell_type": "markdown",
      "source": [
        "Puedo calcular directamente la similitud entre dos plabras , o su complemento, la distancia."
      ],
      "metadata": {
        "id": "Yvxrr1Pj9bG4"
      }
    },
    {
      "cell_type": "code",
      "source": [
        "modelo.similarity(\"perro\",\"casa\")\n"
      ],
      "metadata": {
        "colab": {
          "base_uri": "https://localhost:8080/"
        },
        "id": "ZHRv1yeX2MOg",
        "outputId": "2497a8b5-8885-48ee-b75e-b3e473ce0543"
      },
      "execution_count": 11,
      "outputs": [
        {
          "output_type": "execute_result",
          "data": {
            "text/plain": [
              "0.3906009"
            ]
          },
          "metadata": {},
          "execution_count": 11
        }
      ]
    },
    {
      "cell_type": "code",
      "source": [
        "modelo.distance(\"perro\",\"gato\")\n"
      ],
      "metadata": {
        "colab": {
          "base_uri": "https://localhost:8080/"
        },
        "id": "9CyrwFtY2Nwj",
        "outputId": "4e6dcad0-336a-4f06-aec1-985338049f7a"
      },
      "execution_count": 12,
      "outputs": [
        {
          "output_type": "execute_result",
          "data": {
            "text/plain": [
              "0.25541186332702637"
            ]
          },
          "metadata": {},
          "execution_count": 12
        }
      ]
    },
    {
      "cell_type": "code",
      "source": [
        "modelo.similarity(\"perro\",\"gato\")\n"
      ],
      "metadata": {
        "colab": {
          "base_uri": "https://localhost:8080/"
        },
        "id": "lskmQ4HM2RGD",
        "outputId": "4bb23aab-d3ae-4c92-df39-efc6081ea143"
      },
      "execution_count": 13,
      "outputs": [
        {
          "output_type": "execute_result",
          "data": {
            "text/plain": [
              "0.74458814"
            ]
          },
          "metadata": {},
          "execution_count": 13
        }
      ]
    },
    {
      "cell_type": "markdown",
      "source": [
        "Puedo extender esa similitud a grupos de palabras, porque los vectores se pueden operar, así que se pueden promediar."
      ],
      "metadata": {
        "id": "DcjNw0Ov9hK1"
      }
    },
    {
      "cell_type": "code",
      "source": [
        "simgrup = modelo.n_similarity(['sushi', 'tienda'], ['japón', 'restaurante'])\n",
        "simgrup\n"
      ],
      "metadata": {
        "colab": {
          "base_uri": "https://localhost:8080/"
        },
        "id": "fqw4yLte2VTS",
        "outputId": "883f710f-da55-4a2d-8240-f91982635ea8"
      },
      "execution_count": 14,
      "outputs": [
        {
          "output_type": "execute_result",
          "data": {
            "text/plain": [
              "0.75891757"
            ]
          },
          "metadata": {},
          "execution_count": 14
        }
      ]
    },
    {
      "cell_type": "markdown",
      "source": [
        "Una aproximación más sofisticada permite ver el problema de distancia entre documentos como un **problema de transporte** donde los costos son las distancias entre palabras, los origenes y destinos las palabras en sí mismas, y los volúmenes a transportar las representaciones TF normalizadas con L1"
      ],
      "metadata": {
        "id": "Dcahj2_m9npe"
      }
    },
    {
      "cell_type": "code",
      "source": [
        "frase1 = 'Estoy contento por mi ascenso'.lower().split()\n",
        "frase2 = 'Me encuentro feliz por mi nuevo sueldo'.lower().split()\n",
        "frase3 = \"Me fui de vacaciones alegremente\".lower().split()\n",
        "similaridad12 = modelo.wmdistance(frase1, frase2)\n",
        "similaridad13= modelo.wmdistance(frase2, frase3)\n",
        "similaridad23= modelo.wmdistance(frase1, frase3)\n",
        "print(similaridad12,\" \",similaridad13, \" \",similaridad23)"
      ],
      "metadata": {
        "colab": {
          "base_uri": "https://localhost:8080/"
        },
        "id": "7NL8wqVK3ec4",
        "outputId": "03081fdb-28d4-418a-b4bd-08a298045ea5"
      },
      "execution_count": 18,
      "outputs": [
        {
          "output_type": "stream",
          "name": "stdout",
          "text": [
            "2.5907873466401257   2.912638327704826   3.4011313330241197\n"
          ]
        }
      ]
    },
    {
      "cell_type": "markdown",
      "source": [
        "Otra aplicación es visualizar grupos de palabras por similitudes. Con T-SNE hago una reducción de dimensiones basada en teoría de la información y puedo obtener una representación bidimensional de palabras para ser comparadas."
      ],
      "metadata": {
        "id": "xYYg1P3999Ev"
      }
    },
    {
      "cell_type": "code",
      "source": [
        "tsne=sklearn.manifold.TSNE(perplexity=3)\n",
        "palabras=[\"salados\",\"cocidas\",\"chiles\",\"puré\",\"mermelada\",\"salchicha\",\"ahumado\",\"hamburguesa\",\"bollo\",\"cocinados\",\"pelado\",\"picadas\",\"piñones\",\"churros\",\"cocinan\",\"tamal\",\"cocidos\",\"yema\",\"molido\",\"chicha\",\"serrano\",\"garbanzos\",\"fideos\",\"gallina\",\"galletas\",\"jamón\",\"tortilla\"]\n",
        "vectors=modelo[palabras]\n",
        "\n",
        "reduccion=tsne.fit_transform(vectors)"
      ],
      "metadata": {
        "colab": {
          "base_uri": "https://localhost:8080/"
        },
        "id": "PivwoMB48MHr",
        "outputId": "34f8e214-f9e6-4919-d515-e88a5183c731"
      },
      "execution_count": 19,
      "outputs": [
        {
          "output_type": "stream",
          "name": "stderr",
          "text": [
            "/usr/local/lib/python3.7/dist-packages/sklearn/manifold/_t_sne.py:783: FutureWarning: The default initialization in TSNE will change from 'random' to 'pca' in 1.2.\n",
            "  FutureWarning,\n",
            "/usr/local/lib/python3.7/dist-packages/sklearn/manifold/_t_sne.py:793: FutureWarning: The default learning rate in TSNE will change from 200.0 to 'auto' in 1.2.\n",
            "  FutureWarning,\n"
          ]
        }
      ]
    },
    {
      "cell_type": "code",
      "source": [
        "base=pd.DataFrame()\n",
        "base[\"primer_componente\"]=reduccion[:,0]\n",
        "base[\"segundo_componente\"]=reduccion[:,1]\n",
        "base[\"nombres\"]=palabras\n",
        "display(base)"
      ],
      "metadata": {
        "colab": {
          "base_uri": "https://localhost:8080/",
          "height": 895
        },
        "id": "5rDJjnbL8VD_",
        "outputId": "dbca252f-3019-47ab-ca5b-32d50522e4a5"
      },
      "execution_count": 20,
      "outputs": [
        {
          "output_type": "display_data",
          "data": {
            "text/plain": [
              "    primer_componente  segundo_componente      nombres\n",
              "0         -459.824158          108.057121      salados\n",
              "1         -357.053894          268.967865      cocidas\n",
              "2          219.204590          -41.811298       chiles\n",
              "3          -13.653218          121.934097         puré\n",
              "4          -11.872907          202.888290    mermelada\n",
              "5         -111.490555           25.246271    salchicha\n",
              "6         -161.494858         -158.297745      ahumado\n",
              "7          -93.617393          -33.096535  hamburguesa\n",
              "8          404.723358         -267.464600        bollo\n",
              "9         -478.975433          210.034821    cocinados\n",
              "10          45.400063         -355.308075       pelado\n",
              "11        -297.917938          327.266846      picadas\n",
              "12         180.462296          107.283791      piñones\n",
              "13          87.757660          311.082153      churros\n",
              "14        -514.335205          285.879364      cocinan\n",
              "15         366.918030         -310.169983        tamal\n",
              "16        -420.812286          221.276413      cocidos\n",
              "17         -94.028290          254.895111         yema\n",
              "18          -3.691821         -409.864044       molido\n",
              "19         312.734406         -380.790436       chicha\n",
              "20          45.637989         -112.469963      serrano\n",
              "21         134.381378           33.057564    garbanzos\n",
              "22        -593.263000          175.339981       fideos\n",
              "23          68.003815         -301.915466      gallina\n",
              "24          34.989594          243.238556     galletas\n",
              "25          23.708126           -1.764729        jamón\n",
              "26         315.972229          -25.227524     tortilla"
            ],
            "text/html": [
              "\n",
              "  <div id=\"df-68ea1e6b-93de-498e-89ed-0cb0fc09c64d\">\n",
              "    <div class=\"colab-df-container\">\n",
              "      <div>\n",
              "<style scoped>\n",
              "    .dataframe tbody tr th:only-of-type {\n",
              "        vertical-align: middle;\n",
              "    }\n",
              "\n",
              "    .dataframe tbody tr th {\n",
              "        vertical-align: top;\n",
              "    }\n",
              "\n",
              "    .dataframe thead th {\n",
              "        text-align: right;\n",
              "    }\n",
              "</style>\n",
              "<table border=\"1\" class=\"dataframe\">\n",
              "  <thead>\n",
              "    <tr style=\"text-align: right;\">\n",
              "      <th></th>\n",
              "      <th>primer_componente</th>\n",
              "      <th>segundo_componente</th>\n",
              "      <th>nombres</th>\n",
              "    </tr>\n",
              "  </thead>\n",
              "  <tbody>\n",
              "    <tr>\n",
              "      <th>0</th>\n",
              "      <td>-459.824158</td>\n",
              "      <td>108.057121</td>\n",
              "      <td>salados</td>\n",
              "    </tr>\n",
              "    <tr>\n",
              "      <th>1</th>\n",
              "      <td>-357.053894</td>\n",
              "      <td>268.967865</td>\n",
              "      <td>cocidas</td>\n",
              "    </tr>\n",
              "    <tr>\n",
              "      <th>2</th>\n",
              "      <td>219.204590</td>\n",
              "      <td>-41.811298</td>\n",
              "      <td>chiles</td>\n",
              "    </tr>\n",
              "    <tr>\n",
              "      <th>3</th>\n",
              "      <td>-13.653218</td>\n",
              "      <td>121.934097</td>\n",
              "      <td>puré</td>\n",
              "    </tr>\n",
              "    <tr>\n",
              "      <th>4</th>\n",
              "      <td>-11.872907</td>\n",
              "      <td>202.888290</td>\n",
              "      <td>mermelada</td>\n",
              "    </tr>\n",
              "    <tr>\n",
              "      <th>5</th>\n",
              "      <td>-111.490555</td>\n",
              "      <td>25.246271</td>\n",
              "      <td>salchicha</td>\n",
              "    </tr>\n",
              "    <tr>\n",
              "      <th>6</th>\n",
              "      <td>-161.494858</td>\n",
              "      <td>-158.297745</td>\n",
              "      <td>ahumado</td>\n",
              "    </tr>\n",
              "    <tr>\n",
              "      <th>7</th>\n",
              "      <td>-93.617393</td>\n",
              "      <td>-33.096535</td>\n",
              "      <td>hamburguesa</td>\n",
              "    </tr>\n",
              "    <tr>\n",
              "      <th>8</th>\n",
              "      <td>404.723358</td>\n",
              "      <td>-267.464600</td>\n",
              "      <td>bollo</td>\n",
              "    </tr>\n",
              "    <tr>\n",
              "      <th>9</th>\n",
              "      <td>-478.975433</td>\n",
              "      <td>210.034821</td>\n",
              "      <td>cocinados</td>\n",
              "    </tr>\n",
              "    <tr>\n",
              "      <th>10</th>\n",
              "      <td>45.400063</td>\n",
              "      <td>-355.308075</td>\n",
              "      <td>pelado</td>\n",
              "    </tr>\n",
              "    <tr>\n",
              "      <th>11</th>\n",
              "      <td>-297.917938</td>\n",
              "      <td>327.266846</td>\n",
              "      <td>picadas</td>\n",
              "    </tr>\n",
              "    <tr>\n",
              "      <th>12</th>\n",
              "      <td>180.462296</td>\n",
              "      <td>107.283791</td>\n",
              "      <td>piñones</td>\n",
              "    </tr>\n",
              "    <tr>\n",
              "      <th>13</th>\n",
              "      <td>87.757660</td>\n",
              "      <td>311.082153</td>\n",
              "      <td>churros</td>\n",
              "    </tr>\n",
              "    <tr>\n",
              "      <th>14</th>\n",
              "      <td>-514.335205</td>\n",
              "      <td>285.879364</td>\n",
              "      <td>cocinan</td>\n",
              "    </tr>\n",
              "    <tr>\n",
              "      <th>15</th>\n",
              "      <td>366.918030</td>\n",
              "      <td>-310.169983</td>\n",
              "      <td>tamal</td>\n",
              "    </tr>\n",
              "    <tr>\n",
              "      <th>16</th>\n",
              "      <td>-420.812286</td>\n",
              "      <td>221.276413</td>\n",
              "      <td>cocidos</td>\n",
              "    </tr>\n",
              "    <tr>\n",
              "      <th>17</th>\n",
              "      <td>-94.028290</td>\n",
              "      <td>254.895111</td>\n",
              "      <td>yema</td>\n",
              "    </tr>\n",
              "    <tr>\n",
              "      <th>18</th>\n",
              "      <td>-3.691821</td>\n",
              "      <td>-409.864044</td>\n",
              "      <td>molido</td>\n",
              "    </tr>\n",
              "    <tr>\n",
              "      <th>19</th>\n",
              "      <td>312.734406</td>\n",
              "      <td>-380.790436</td>\n",
              "      <td>chicha</td>\n",
              "    </tr>\n",
              "    <tr>\n",
              "      <th>20</th>\n",
              "      <td>45.637989</td>\n",
              "      <td>-112.469963</td>\n",
              "      <td>serrano</td>\n",
              "    </tr>\n",
              "    <tr>\n",
              "      <th>21</th>\n",
              "      <td>134.381378</td>\n",
              "      <td>33.057564</td>\n",
              "      <td>garbanzos</td>\n",
              "    </tr>\n",
              "    <tr>\n",
              "      <th>22</th>\n",
              "      <td>-593.263000</td>\n",
              "      <td>175.339981</td>\n",
              "      <td>fideos</td>\n",
              "    </tr>\n",
              "    <tr>\n",
              "      <th>23</th>\n",
              "      <td>68.003815</td>\n",
              "      <td>-301.915466</td>\n",
              "      <td>gallina</td>\n",
              "    </tr>\n",
              "    <tr>\n",
              "      <th>24</th>\n",
              "      <td>34.989594</td>\n",
              "      <td>243.238556</td>\n",
              "      <td>galletas</td>\n",
              "    </tr>\n",
              "    <tr>\n",
              "      <th>25</th>\n",
              "      <td>23.708126</td>\n",
              "      <td>-1.764729</td>\n",
              "      <td>jamón</td>\n",
              "    </tr>\n",
              "    <tr>\n",
              "      <th>26</th>\n",
              "      <td>315.972229</td>\n",
              "      <td>-25.227524</td>\n",
              "      <td>tortilla</td>\n",
              "    </tr>\n",
              "  </tbody>\n",
              "</table>\n",
              "</div>\n",
              "      <button class=\"colab-df-convert\" onclick=\"convertToInteractive('df-68ea1e6b-93de-498e-89ed-0cb0fc09c64d')\"\n",
              "              title=\"Convert this dataframe to an interactive table.\"\n",
              "              style=\"display:none;\">\n",
              "        \n",
              "  <svg xmlns=\"http://www.w3.org/2000/svg\" height=\"24px\"viewBox=\"0 0 24 24\"\n",
              "       width=\"24px\">\n",
              "    <path d=\"M0 0h24v24H0V0z\" fill=\"none\"/>\n",
              "    <path d=\"M18.56 5.44l.94 2.06.94-2.06 2.06-.94-2.06-.94-.94-2.06-.94 2.06-2.06.94zm-11 1L8.5 8.5l.94-2.06 2.06-.94-2.06-.94L8.5 2.5l-.94 2.06-2.06.94zm10 10l.94 2.06.94-2.06 2.06-.94-2.06-.94-.94-2.06-.94 2.06-2.06.94z\"/><path d=\"M17.41 7.96l-1.37-1.37c-.4-.4-.92-.59-1.43-.59-.52 0-1.04.2-1.43.59L10.3 9.45l-7.72 7.72c-.78.78-.78 2.05 0 2.83L4 21.41c.39.39.9.59 1.41.59.51 0 1.02-.2 1.41-.59l7.78-7.78 2.81-2.81c.8-.78.8-2.07 0-2.86zM5.41 20L4 18.59l7.72-7.72 1.47 1.35L5.41 20z\"/>\n",
              "  </svg>\n",
              "      </button>\n",
              "      \n",
              "  <style>\n",
              "    .colab-df-container {\n",
              "      display:flex;\n",
              "      flex-wrap:wrap;\n",
              "      gap: 12px;\n",
              "    }\n",
              "\n",
              "    .colab-df-convert {\n",
              "      background-color: #E8F0FE;\n",
              "      border: none;\n",
              "      border-radius: 50%;\n",
              "      cursor: pointer;\n",
              "      display: none;\n",
              "      fill: #1967D2;\n",
              "      height: 32px;\n",
              "      padding: 0 0 0 0;\n",
              "      width: 32px;\n",
              "    }\n",
              "\n",
              "    .colab-df-convert:hover {\n",
              "      background-color: #E2EBFA;\n",
              "      box-shadow: 0px 1px 2px rgba(60, 64, 67, 0.3), 0px 1px 3px 1px rgba(60, 64, 67, 0.15);\n",
              "      fill: #174EA6;\n",
              "    }\n",
              "\n",
              "    [theme=dark] .colab-df-convert {\n",
              "      background-color: #3B4455;\n",
              "      fill: #D2E3FC;\n",
              "    }\n",
              "\n",
              "    [theme=dark] .colab-df-convert:hover {\n",
              "      background-color: #434B5C;\n",
              "      box-shadow: 0px 1px 3px 1px rgba(0, 0, 0, 0.15);\n",
              "      filter: drop-shadow(0px 1px 2px rgba(0, 0, 0, 0.3));\n",
              "      fill: #FFFFFF;\n",
              "    }\n",
              "  </style>\n",
              "\n",
              "      <script>\n",
              "        const buttonEl =\n",
              "          document.querySelector('#df-68ea1e6b-93de-498e-89ed-0cb0fc09c64d button.colab-df-convert');\n",
              "        buttonEl.style.display =\n",
              "          google.colab.kernel.accessAllowed ? 'block' : 'none';\n",
              "\n",
              "        async function convertToInteractive(key) {\n",
              "          const element = document.querySelector('#df-68ea1e6b-93de-498e-89ed-0cb0fc09c64d');\n",
              "          const dataTable =\n",
              "            await google.colab.kernel.invokeFunction('convertToInteractive',\n",
              "                                                     [key], {});\n",
              "          if (!dataTable) return;\n",
              "\n",
              "          const docLinkHtml = 'Like what you see? Visit the ' +\n",
              "            '<a target=\"_blank\" href=https://colab.research.google.com/notebooks/data_table.ipynb>data table notebook</a>'\n",
              "            + ' to learn more about interactive tables.';\n",
              "          element.innerHTML = '';\n",
              "          dataTable['output_type'] = 'display_data';\n",
              "          await google.colab.output.renderOutput(dataTable, element);\n",
              "          const docLink = document.createElement('div');\n",
              "          docLink.innerHTML = docLinkHtml;\n",
              "          element.appendChild(docLink);\n",
              "        }\n",
              "      </script>\n",
              "    </div>\n",
              "  </div>\n",
              "  "
            ]
          },
          "metadata": {}
        }
      ]
    },
    {
      "cell_type": "code",
      "source": [
        "graf1=sns.scatterplot(x=\"primer_componente\", y=\"segundo_componente\", data=base)\n",
        "\n",
        "for line in range(0,base.shape[0]):\n",
        "     graf1.text(base.primer_componente[line]+0.01, base.segundo_componente[line], \n",
        "     base.nombres[line], horizontalalignment='left', \n",
        "     size='medium', color='black', weight='semibold')"
      ],
      "metadata": {
        "colab": {
          "base_uri": "https://localhost:8080/",
          "height": 280
        },
        "id": "oS-FnPfA8a66",
        "outputId": "efed9515-cdf2-4bec-ee84-ca7707f3107e"
      },
      "execution_count": 21,
      "outputs": [
        {
          "output_type": "display_data",
          "data": {
            "text/plain": [
              "<Figure size 432x288 with 1 Axes>"
            ],
            "image/png": "[encoded data removed]"
          },
          "metadata": {
            "needs_background": "light"
          }
        }
      ]
    }
  ]
}