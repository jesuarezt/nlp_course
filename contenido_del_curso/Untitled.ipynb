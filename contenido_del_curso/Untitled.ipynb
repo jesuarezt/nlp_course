{
 "cells": [
  {
   "cell_type": "markdown",
   "id": "98aa4070",
   "metadata": {},
   "source": [
    "# Example Whatsapp "
   ]
  },
  {
   "cell_type": "code",
   "execution_count": 1,
   "id": "ea9aacec",
   "metadata": {},
   "outputs": [],
   "source": [
    "import pywhatkit"
   ]
  },
  {
   "cell_type": "code",
   "execution_count": 5,
   "id": "01ecc906",
   "metadata": {},
   "outputs": [
    {
     "name": "stdout",
     "output_type": "stream",
     "text": [
      "In 3 Seconds WhatsApp will open and after 15 Seconds Message will be Delivered!\n"
     ]
    }
   ],
   "source": [
    "pywhatkit.sendwhatmsg(phone_no='+573152305158', message= 'Message test in NLP course',\n",
    "                     time_hour= 20, time_min=38)"
   ]
  },
  {
   "cell_type": "code",
   "execution_count": 7,
   "id": "2375b663",
   "metadata": {},
   "outputs": [
    {
     "name": "stdout",
     "output_type": "stream",
     "text": [
      "In 3 Seconds WhatsApp will open and after 15 Seconds Message will be Delivered!\n"
     ]
    }
   ],
   "source": [
    "pywhatkit.sendwhatmsg('+1xxxxxxxx', 'Message 1', 20, 43)"
   ]
  },
  {
   "cell_type": "markdown",
   "id": "0035c821",
   "metadata": {},
   "source": [
    "# Example read Whatsapp with Selenium"
   ]
  },
  {
   "cell_type": "code",
   "execution_count": null,
   "id": "6657336e",
   "metadata": {},
   "outputs": [],
   "source": []
  }
 ],
 "metadata": {
  "kernelspec": {
   "display_name": "Python 3 (ipykernel)",
   "language": "python",
   "name": "python3"
  },
  "language_info": {
   "codemirror_mode": {
    "name": "ipython",
    "version": 3
   },
   "file_extension": ".py",
   "mimetype": "text/x-python",
   "name": "python",
   "nbconvert_exporter": "python",
   "pygments_lexer": "ipython3",
   "version": "3.9.12"
  }
 },
 "nbformat": 4,
 "nbformat_minor": 5
}
