{
 "cells": [
  {
   "cell_type": "markdown",
   "id": "4ec2b2a2",
   "metadata": {},
   "source": [
    "# Regresión Logística Multinomial (o Softmax Regression)"
   ]
  },
  {
   "cell_type": "markdown",
   "id": "77e77cac",
   "metadata": {
    "ExecuteTime": {
     "end_time": "2022-02-23T14:26:10.589730Z",
     "start_time": "2022-02-23T14:26:10.581850Z"
    }
   },
   "source": [
    "<img src=\"img/MulLog_neuron_1.png\" width=\"800\">"
   ]
  },
  {
   "cell_type": "markdown",
   "id": "f86d9cf6",
   "metadata": {},
   "source": [
    "<img src=\"img/MulLog_softmax_2.png\" width=\"800\">"
   ]
  },
  {
   "cell_type": "markdown",
   "id": "86d2f55d",
   "metadata": {},
   "source": [
    "<img src=\"img/MulLog_loss-input-classification_3.png\" width=\"800\">"
   ]
  },
  {
   "cell_type": "code",
   "execution_count": 1,
   "id": "90ca9d4e",
   "metadata": {
    "ExecuteTime": {
     "end_time": "2021-09-22T16:10:36.649094Z",
     "start_time": "2021-09-22T16:10:35.527943Z"
    }
   },
   "outputs": [],
   "source": [
    "from sklearn import datasets\n",
    "from sklearn.model_selection import train_test_split\n",
    "from sklearn.preprocessing import StandardScaler\n",
    "\n",
    "import torch\n",
    "from torch.utils.data import TensorDataset, DataLoader\n",
    "from torch import nn, optim\n",
    "import torch.nn.functional as F\n",
    "\n",
    "import numpy as np\n",
    "\n",
    "import matplotlib.pyplot as plt\n",
    "\n",
    "%matplotlib inline"
   ]
  },
  {
   "cell_type": "code",
   "execution_count": 2,
   "id": "183efd37",
   "metadata": {
    "ExecuteTime": {
     "end_time": "2021-09-22T16:10:36.756561Z",
     "start_time": "2021-09-22T16:10:36.652938Z"
    }
   },
   "outputs": [],
   "source": [
    "##########################\n",
    "### CONFIGURACION\n",
    "##########################\n",
    "\n",
    "RANDOM_SEED = 1\n",
    "BATCH_SIZE = 64\n",
    "NUM_EPOCHS = 100\n",
    "DEVICE = torch.device('cuda:0' if torch.cuda.is_available() else 'cpu')\n",
    "lr = 0.01\n",
    "\n",
    "torch.manual_seed(RANDOM_SEED);"
   ]
  },
  {
   "cell_type": "code",
   "execution_count": 3,
   "id": "4dcda775",
   "metadata": {
    "ExecuteTime": {
     "end_time": "2021-09-22T16:10:36.842512Z",
     "start_time": "2021-09-22T16:10:36.757962Z"
    }
   },
   "outputs": [],
   "source": [
    "digits = datasets.load_digits()\n",
    "X = digits['data']\n",
    "y = digits['target']\n",
    "\n",
    "# X = (X - X.mean(axis=0))/X.std(axis=0)\n",
    "# sc = StandardScaler()\n",
    "# X = sc.fit_transform(X)"
   ]
  },
  {
   "cell_type": "code",
   "execution_count": 4,
   "id": "4cff32bb",
   "metadata": {
    "ExecuteTime": {
     "end_time": "2021-09-22T16:10:36.848431Z",
     "start_time": "2021-09-22T16:10:36.844487Z"
    }
   },
   "outputs": [
    {
     "name": "stdout",
     "output_type": "stream",
     "text": [
      "(1797, 64)\n",
      "(1797,)\n"
     ]
    }
   ],
   "source": [
    "print(X.shape)\n",
    "print(y.shape)"
   ]
  },
  {
   "cell_type": "code",
   "execution_count": 5,
   "id": "56fbd515",
   "metadata": {
    "ExecuteTime": {
     "end_time": "2021-09-22T16:10:36.858996Z",
     "start_time": "2021-09-22T16:10:36.849621Z"
    }
   },
   "outputs": [],
   "source": [
    "X_train,X_valid,y_train,y_valid = train_test_split(X, y, test_size=0.3, random_state=RANDOM_SEED)"
   ]
  },
  {
   "cell_type": "code",
   "execution_count": 6,
   "id": "7940b2f3",
   "metadata": {
    "ExecuteTime": {
     "end_time": "2021-09-22T16:10:36.873212Z",
     "start_time": "2021-09-22T16:10:36.860574Z"
    }
   },
   "outputs": [],
   "source": [
    "X_train, y_train, X_valid, y_valid = map( lambda x: torch.tensor(x, dtype=torch.float32),\n",
    "                                         (X_train, y_train, X_valid, y_valid) )"
   ]
  },
  {
   "cell_type": "code",
   "execution_count": 7,
   "id": "0f35dec0",
   "metadata": {
    "ExecuteTime": {
     "end_time": "2021-09-22T16:10:36.881294Z",
     "start_time": "2021-09-22T16:10:36.875784Z"
    }
   },
   "outputs": [],
   "source": [
    "train_ds = TensorDataset(X_train, y_train)\n",
    "valid_ds = TensorDataset(X_valid, y_valid)\n",
    "\n",
    "train_dl = DataLoader(train_ds, batch_size=BATCH_SIZE, shuffle=True)\n",
    "valid_dl = DataLoader(valid_ds, batch_size = 2*BATCH_SIZE)"
   ]
  },
  {
   "cell_type": "code",
   "execution_count": 8,
   "id": "ad6291c8",
   "metadata": {
    "ExecuteTime": {
     "end_time": "2021-09-22T16:10:36.891802Z",
     "start_time": "2021-09-22T16:10:36.883491Z"
    }
   },
   "outputs": [
    {
     "name": "stdout",
     "output_type": "stream",
     "text": [
      "torch.Size([1257, 64])\n",
      "torch.Size([1257])\n"
     ]
    }
   ],
   "source": [
    "print(X_train.shape)\n",
    "print(y_train.shape)"
   ]
  },
  {
   "cell_type": "markdown",
   "id": "5c236baa",
   "metadata": {},
   "source": [
    "### 1. Forma explícita (con `nn`)"
   ]
  },
  {
   "cell_type": "code",
   "execution_count": 9,
   "id": "b20c85de",
   "metadata": {
    "ExecuteTime": {
     "end_time": "2021-09-22T16:10:36.900402Z",
     "start_time": "2021-09-22T16:10:36.893899Z"
    }
   },
   "outputs": [],
   "source": [
    "# class Logistic(nn.Module):\n",
    "#     def __init__(self, num_features, num_outputs):\n",
    "#         super().__init__()\n",
    "#         self.weights = nn.Parameter(torch.zeros(num_features,num_outputs))\n",
    "#         self.bias = nn.Parameter(torch.zeros(num_outputs))\n",
    "        \n",
    "#     def forward(self,x):\n",
    "#         return x @ self.weights + self.bias"
   ]
  },
  {
   "cell_type": "markdown",
   "id": "dbc29df8",
   "metadata": {},
   "source": [
    "### 2. Forma semi-explicita"
   ]
  },
  {
   "cell_type": "code",
   "execution_count": 10,
   "id": "799e6638",
   "metadata": {
    "ExecuteTime": {
     "end_time": "2021-09-22T16:10:36.910012Z",
     "start_time": "2021-09-22T16:10:36.903433Z"
    }
   },
   "outputs": [],
   "source": [
    "# class Logistic(nn.Module):\n",
    "#     def __init__(self, num_features, num_outputs):\n",
    "#         super().__init__()\n",
    "#         self.lin = nn.Linear(num_features,num_outputs)\n",
    "#         self.lin.weight.detach().zero_()\n",
    "#         self.lin.bias.detach().zero_()\n",
    "        \n",
    "#     def forward(self,x):\n",
    "#         return self.lin(x)"
   ]
  },
  {
   "cell_type": "code",
   "execution_count": 11,
   "id": "6bc6177e",
   "metadata": {
    "ExecuteTime": {
     "end_time": "2021-09-22T16:10:36.919404Z",
     "start_time": "2021-09-22T16:10:36.911848Z"
    }
   },
   "outputs": [],
   "source": [
    "# model = Logistic(X.shape[1],10)"
   ]
  },
  {
   "cell_type": "markdown",
   "id": "bc7bd2da",
   "metadata": {},
   "source": [
    "### 3. Secuencial"
   ]
  },
  {
   "cell_type": "code",
   "execution_count": 12,
   "id": "02b2486c",
   "metadata": {
    "ExecuteTime": {
     "end_time": "2021-09-22T16:10:36.929494Z",
     "start_time": "2021-09-22T16:10:36.921353Z"
    }
   },
   "outputs": [],
   "source": [
    "model = nn.Sequential(\n",
    "    nn.Linear(X.shape[1],10),\n",
    ")"
   ]
  },
  {
   "cell_type": "code",
   "execution_count": 13,
   "id": "b19b269e",
   "metadata": {
    "ExecuteTime": {
     "end_time": "2021-09-22T16:10:36.938410Z",
     "start_time": "2021-09-22T16:10:36.931941Z"
    },
    "scrolled": true
   },
   "outputs": [],
   "source": [
    "# Esto es para inicializar los pesos a ceros una vez definido el modelo\n",
    "# (por defecto con nn se inicializan con Xavier, Hu o similar)\n",
    "# def weights_init(m):\n",
    "#     if isinstance(m, nn.Linear):\n",
    "#         nn.init.zeros_(m.weight)\n",
    "#         nn.init.zeros_(m.bias)\n",
    "#         print(m.weight)\n",
    "\n",
    "# model.apply(weights_init)"
   ]
  },
  {
   "cell_type": "code",
   "execution_count": 14,
   "id": "133c614a",
   "metadata": {
    "ExecuteTime": {
     "end_time": "2021-09-22T16:10:36.952365Z",
     "start_time": "2021-09-22T16:10:36.941254Z"
    }
   },
   "outputs": [],
   "source": [
    "loss_func = F.cross_entropy"
   ]
  },
  {
   "cell_type": "code",
   "execution_count": 15,
   "id": "ec7e452b",
   "metadata": {
    "ExecuteTime": {
     "end_time": "2021-09-22T16:10:39.774736Z",
     "start_time": "2021-09-22T16:10:36.954843Z"
    }
   },
   "outputs": [],
   "source": [
    "model = model.to(DEVICE)\n",
    "\n",
    "opt = optim.SGD(model.parameters(),lr = lr)"
   ]
  },
  {
   "cell_type": "markdown",
   "id": "922310b3",
   "metadata": {},
   "source": [
    "Probando un minibatch"
   ]
  },
  {
   "cell_type": "code",
   "execution_count": 16,
   "id": "3854a301",
   "metadata": {
    "ExecuteTime": {
     "end_time": "2021-09-22T16:10:39.782912Z",
     "start_time": "2021-09-22T16:10:39.777386Z"
    }
   },
   "outputs": [
    {
     "name": "stdout",
     "output_type": "stream",
     "text": [
      "torch.Size([64, 64]) torch.Size([64])\n"
     ]
    }
   ],
   "source": [
    "xp, yp = next(iter(train_dl))\n",
    "print(xp.shape,yp.shape)"
   ]
  },
  {
   "cell_type": "code",
   "execution_count": 17,
   "id": "85cc94ae",
   "metadata": {
    "ExecuteTime": {
     "end_time": "2021-09-22T16:10:40.487174Z",
     "start_time": "2021-09-22T16:10:39.784478Z"
    }
   },
   "outputs": [
    {
     "data": {
      "text/plain": [
       "tensor(6.8700, grad_fn=<NllLossBackward0>)"
      ]
     },
     "execution_count": 17,
     "metadata": {},
     "output_type": "execute_result"
    }
   ],
   "source": [
    "loss_func(model(xp.to(DEVICE)),yp.long().to(DEVICE))"
   ]
  },
  {
   "cell_type": "code",
   "execution_count": 18,
   "id": "3882ff24",
   "metadata": {
    "ExecuteTime": {
     "end_time": "2021-09-22T16:10:40.493837Z",
     "start_time": "2021-09-22T16:10:40.488807Z"
    }
   },
   "outputs": [
    {
     "data": {
      "text/plain": [
       "0.0625"
      ]
     },
     "execution_count": 18,
     "metadata": {},
     "output_type": "execute_result"
    }
   ],
   "source": [
    "y_pred = torch.argmax(model(xp.to(DEVICE)), 1)\n",
    "(y_pred == yp.to(DEVICE)).float().mean().item()"
   ]
  },
  {
   "cell_type": "code",
   "execution_count": 19,
   "id": "35982397",
   "metadata": {
    "ExecuteTime": {
     "end_time": "2021-09-22T16:10:40.510086Z",
     "start_time": "2021-09-22T16:10:40.495469Z"
    }
   },
   "outputs": [],
   "source": [
    "def loss_acc_batch(x,y, acc = None):\n",
    "    yp = model(x.to(DEVICE))\n",
    "    yt = y.to(DEVICE).long() # .long() porque espera un entero tipo long\n",
    "    loss = loss_func(yp, yt)\n",
    "    out = [loss, len(x)]\n",
    "    \n",
    "    if acc is not None:\n",
    "        y_pred = torch.argmax(model(x.to(DEVICE)), 1) \n",
    "        accuracy = (y_pred == yt).float().mean().item()\n",
    "        out.append(accuracy)\n",
    "    return out"
   ]
  },
  {
   "cell_type": "code",
   "execution_count": 20,
   "id": "46606095",
   "metadata": {
    "ExecuteTime": {
     "end_time": "2021-09-22T16:10:40.521290Z",
     "start_time": "2021-09-22T16:10:40.511844Z"
    }
   },
   "outputs": [],
   "source": [
    "def train():\n",
    "    \n",
    "    train_losses = []\n",
    "    valid_losses = []\n",
    "    for epoch in range(NUM_EPOCHS):\n",
    "        model.train()\n",
    "        losses = 0\n",
    "        nums = 0\n",
    "        for x, y in train_dl:\n",
    "            loss, l = loss_acc_batch(x,y)\n",
    "            loss.backward()\n",
    "            opt.step()\n",
    "            opt.zero_grad()\n",
    "            \n",
    "            losses += loss.item() * l\n",
    "            nums += l\n",
    "        train_loss = losses / nums\n",
    "        train_losses.append(train_loss)\n",
    "        \n",
    "        model.eval()\n",
    "        with torch.no_grad():\n",
    "            losses, nums, accs = zip(*[loss_acc_batch(xb, yb, acc=True) for xb, yb in valid_dl])\n",
    "        losses = [l.item() for l in losses]\n",
    "        valid_loss = np.sum(np.multiply(losses,nums)) / np.sum(nums)\n",
    "        valid_losses.append(valid_loss)\n",
    "        \n",
    "        valid_acc = np.sum(np.multiply(accs,nums)) / np.sum(nums)\n",
    "        \n",
    "        if epoch % 10 == 0:\n",
    "            print(f\"epoch: {epoch},    train_loss: {train_loss:.4f} \\\n",
    "            valid_loss: {valid_loss:.4f}, valid_acc: {valid_acc:.4f}\")\n",
    "    \n",
    "    plt.plot(range(NUM_EPOCHS), train_losses, 'r', label='train')\n",
    "    plt.plot(range(NUM_EPOCHS), valid_losses, 'b', label = 'valid')\n",
    "    plt.legend()"
   ]
  },
  {
   "cell_type": "code",
   "execution_count": 23,
   "id": "99ed83ed",
   "metadata": {
    "ExecuteTime": {
     "end_time": "2021-09-22T16:10:42.831768Z",
     "start_time": "2021-09-22T16:10:40.523327Z"
    }
   },
   "outputs": [
    {
     "name": "stdout",
     "output_type": "stream",
     "text": [
      "epoch: 0,    train_loss: 0.0207             valid_loss: 0.0950, valid_acc: 0.9648\n",
      "epoch: 10,    train_loss: 0.0200             valid_loss: 0.0948, valid_acc: 0.9648\n",
      "epoch: 20,    train_loss: 0.0194             valid_loss: 0.0957, valid_acc: 0.9648\n",
      "epoch: 30,    train_loss: 0.0183             valid_loss: 0.0946, valid_acc: 0.9685\n",
      "epoch: 40,    train_loss: 0.0184             valid_loss: 0.0952, valid_acc: 0.9648\n",
      "epoch: 50,    train_loss: 0.0170             valid_loss: 0.0951, valid_acc: 0.9648\n",
      "epoch: 60,    train_loss: 0.0177             valid_loss: 0.0953, valid_acc: 0.9667\n",
      "epoch: 70,    train_loss: 0.0163             valid_loss: 0.0965, valid_acc: 0.9648\n",
      "epoch: 80,    train_loss: 0.0157             valid_loss: 0.0964, valid_acc: 0.9667\n",
      "epoch: 90,    train_loss: 0.0154             valid_loss: 0.0955, valid_acc: 0.9648\n"
     ]
    },
    {
     "data": {
      "image/png": "[encoded data removed]",
      "text/plain": [
       "<Figure size 640x480 with 1 Axes>"
      ]
     },
     "metadata": {},
     "output_type": "display_data"
    }
   ],
   "source": [
    "train()"
   ]
  }
 ],
 "metadata": {
  "kernelspec": {
   "display_name": "Python 3.8.15 ('nlp-env')",
   "language": "python",
   "name": "python3"
  },
  "language_info": {
   "codemirror_mode": {
    "name": "ipython",
    "version": 3
   },
   "file_extension": ".py",
   "mimetype": "text/x-python",
   "name": "python",
   "nbconvert_exporter": "python",
   "pygments_lexer": "ipython3",
   "version": "3.8.15"
  },
  "nbTranslate": {
   "displayLangs": [
    "*"
   ],
   "hotkey": "alt-t",
   "langInMainMenu": true,
   "sourceLang": "en",
   "targetLang": "es",
   "useGoogleTranslate": true
  },
  "vscode": {
   "interpreter": {
    "hash": "cf856c288227c1985b5319abfa2c7eaa1df0528794ab1c4cb755b7b4904e1cb5"
   }
  }
 },
 "nbformat": 4,
 "nbformat_minor": 5
}
