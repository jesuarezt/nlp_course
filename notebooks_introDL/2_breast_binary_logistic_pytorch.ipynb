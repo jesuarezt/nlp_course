{
 "cells": [
  {
   "cell_type": "markdown",
   "id": "7dc64dfb",
   "metadata": {},
   "source": [
    "# Regresión Logística Binaria"
   ]
  },
  {
   "cell_type": "markdown",
   "id": "f3688bef",
   "metadata": {
    "ExecuteTime": {
     "end_time": "2022-02-23T14:22:27.070038Z",
     "start_time": "2022-02-23T14:22:27.062465Z"
    }
   },
   "source": [
    "<img src=\"img/Log_neuron_1.png\" width=\"600\">"
   ]
  },
  {
   "cell_type": "markdown",
   "id": "7109710f",
   "metadata": {
    "ExecuteTime": {
     "end_time": "2022-02-23T14:23:11.496543Z",
     "start_time": "2022-02-23T14:23:11.493565Z"
    }
   },
   "source": [
    "<img src=\"img/Log_CrossEntropy_2.png\" width=\"700\">"
   ]
  },
  {
   "cell_type": "markdown",
   "id": "fc927cf5",
   "metadata": {},
   "source": [
    "<img src=\"img/MiniBatch_GD_3.png\" width=\"700\">"
   ]
  },
  {
   "cell_type": "code",
   "execution_count": 1,
   "id": "90ca9d4e",
   "metadata": {
    "ExecuteTime": {
     "end_time": "2021-09-21T22:38:29.827050Z",
     "start_time": "2021-09-21T22:38:28.696761Z"
    }
   },
   "outputs": [],
   "source": [
    "from sklearn import datasets\n",
    "from sklearn.model_selection import train_test_split\n",
    "from sklearn.preprocessing import StandardScaler\n",
    "\n",
    "import torch\n",
    "from torch.utils.data import TensorDataset, DataLoader\n",
    "from torch import nn, optim\n",
    "import torch.nn.functional as F\n",
    "\n",
    "import numpy as np\n",
    "\n",
    "import matplotlib.pyplot as plt\n",
    "\n",
    "%matplotlib inline"
   ]
  },
  {
   "cell_type": "code",
   "execution_count": 2,
   "id": "183efd37",
   "metadata": {
    "ExecuteTime": {
     "end_time": "2021-09-21T22:38:29.910963Z",
     "start_time": "2021-09-21T22:38:29.829488Z"
    }
   },
   "outputs": [
    {
     "data": {
      "text/plain": [
       "<torch._C.Generator at 0x7f06aba77e90>"
      ]
     },
     "execution_count": 2,
     "metadata": {},
     "output_type": "execute_result"
    }
   ],
   "source": [
    "##########################\n",
    "### CONFIGURACION\n",
    "##########################\n",
    "\n",
    "RANDOM_SEED = 1\n",
    "BATCH_SIZE = 64\n",
    "NUM_EPOCHS = 500\n",
    "DEVICE = torch.device('cuda:0' if torch.cuda.is_available() else 'cpu')\n",
    "lr = 0.01\n",
    "\n",
    "torch.manual_seed(RANDOM_SEED)"
   ]
  },
  {
   "cell_type": "code",
   "execution_count": 3,
   "id": "4dcda775",
   "metadata": {
    "ExecuteTime": {
     "end_time": "2021-09-21T22:38:29.937174Z",
     "start_time": "2021-09-21T22:38:29.912434Z"
    }
   },
   "outputs": [],
   "source": [
    "breast = datasets.load_breast_cancer()\n",
    "X = breast['data']\n",
    "y = breast['target']\n",
    "\n",
    "X = (X - X.mean(axis=0))/X.std(axis=0)\n",
    "# sc = StandardScaler()\n",
    "# X = sc.fit_transform(X)"
   ]
  },
  {
   "cell_type": "code",
   "execution_count": 4,
   "id": "4cff32bb",
   "metadata": {
    "ExecuteTime": {
     "end_time": "2021-09-21T22:38:29.944017Z",
     "start_time": "2021-09-21T22:38:29.939964Z"
    }
   },
   "outputs": [
    {
     "name": "stdout",
     "output_type": "stream",
     "text": [
      "(569, 30)\n",
      "(569,)\n"
     ]
    }
   ],
   "source": [
    "print(X.shape)\n",
    "print(y.shape)"
   ]
  },
  {
   "cell_type": "code",
   "execution_count": 5,
   "id": "56fbd515",
   "metadata": {
    "ExecuteTime": {
     "end_time": "2021-09-21T22:38:29.952244Z",
     "start_time": "2021-09-21T22:38:29.945490Z"
    }
   },
   "outputs": [],
   "source": [
    "X_train,X_valid,y_train,y_valid = train_test_split(X, y, test_size=0.4, random_state=RANDOM_SEED)"
   ]
  },
  {
   "cell_type": "code",
   "execution_count": 6,
   "id": "7940b2f3",
   "metadata": {
    "ExecuteTime": {
     "end_time": "2021-09-21T22:38:29.963553Z",
     "start_time": "2021-09-21T22:38:29.954035Z"
    }
   },
   "outputs": [],
   "source": [
    "X_train, y_train, X_valid, y_valid = map( lambda x: torch.tensor(x, dtype=torch.float32),\n",
    "                                         (X_train, y_train, X_valid, y_valid) )"
   ]
  },
  {
   "cell_type": "code",
   "execution_count": 7,
   "id": "0f35dec0",
   "metadata": {
    "ExecuteTime": {
     "end_time": "2021-09-21T22:38:29.971907Z",
     "start_time": "2021-09-21T22:38:29.966202Z"
    }
   },
   "outputs": [],
   "source": [
    "train_ds = TensorDataset(X_train, y_train)\n",
    "valid_ds = TensorDataset(X_valid, y_valid)\n",
    "\n",
    "train_dl = DataLoader(train_ds, batch_size=BATCH_SIZE, shuffle=True)\n",
    "valid_dl = DataLoader(valid_ds, batch_size = 2*BATCH_SIZE)"
   ]
  },
  {
   "cell_type": "code",
   "execution_count": 8,
   "id": "ad6291c8",
   "metadata": {
    "ExecuteTime": {
     "end_time": "2021-09-21T22:38:29.981367Z",
     "start_time": "2021-09-21T22:38:29.973861Z"
    }
   },
   "outputs": [
    {
     "name": "stdout",
     "output_type": "stream",
     "text": [
      "torch.Size([341, 30])\n",
      "torch.Size([341])\n"
     ]
    }
   ],
   "source": [
    "print(X_train.shape)\n",
    "print(y_train.shape)"
   ]
  },
  {
   "cell_type": "markdown",
   "id": "5c236baa",
   "metadata": {},
   "source": [
    "### 1. Forma explícita"
   ]
  },
  {
   "cell_type": "code",
   "execution_count": 9,
   "id": "b20c85de",
   "metadata": {
    "ExecuteTime": {
     "end_time": "2021-09-21T22:38:29.989810Z",
     "start_time": "2021-09-21T22:38:29.983851Z"
    }
   },
   "outputs": [],
   "source": [
    "# class Logistic(nn.Module):\n",
    "#     def __init__(self, num_features):\n",
    "#         super().__init__()\n",
    "#         self.weights = nn.Parameter(torch.zeros(num_features))\n",
    "#         self.bias = nn.Parameter(torch.zeros(1))\n",
    "        \n",
    "#     def forward(self,x):\n",
    "#         return x @ self.weights + self.bias"
   ]
  },
  {
   "cell_type": "markdown",
   "id": "dbc29df8",
   "metadata": {},
   "source": [
    "### 2. Forma semi-explicita"
   ]
  },
  {
   "cell_type": "code",
   "execution_count": 10,
   "id": "799e6638",
   "metadata": {
    "ExecuteTime": {
     "end_time": "2021-09-21T22:38:29.999199Z",
     "start_time": "2021-09-21T22:38:29.994225Z"
    }
   },
   "outputs": [],
   "source": [
    "# class Logistic(nn.Module):\n",
    "#     def __init__(self, num_features):\n",
    "#         super().__init__()\n",
    "#         self.lin = nn.Linear(num_features,1)\n",
    "#         self.lin.weight.detach().zero_()\n",
    "#         self.lin.bias.detach().zero_()\n",
    "        \n",
    "#     def forward(self,x):\n",
    "#         return self.lin(x)"
   ]
  },
  {
   "cell_type": "code",
   "execution_count": 11,
   "id": "6bc6177e",
   "metadata": {
    "ExecuteTime": {
     "end_time": "2021-09-21T22:38:30.008222Z",
     "start_time": "2021-09-21T22:38:30.001722Z"
    }
   },
   "outputs": [],
   "source": [
    "# model = Logistic(X.shape[1])"
   ]
  },
  {
   "cell_type": "markdown",
   "id": "bc7bd2da",
   "metadata": {},
   "source": [
    "### 3. Secuencial"
   ]
  },
  {
   "cell_type": "code",
   "execution_count": null,
   "id": "02b2486c",
   "metadata": {
    "ExecuteTime": {
     "end_time": "2021-09-21T22:38:30.024327Z",
     "start_time": "2021-09-21T22:38:30.010883Z"
    }
   },
   "outputs": [],
   "source": [
    "model = nn.Sequential(\n",
    "    nn.Linear(X.shape[1],1),\n",
    ")"
   ]
  },
  {
   "cell_type": "code",
   "execution_count": 12,
   "id": "b19b269e",
   "metadata": {
    "ExecuteTime": {
     "end_time": "2021-09-21T22:38:30.024327Z",
     "start_time": "2021-09-21T22:38:30.010883Z"
    },
    "scrolled": true
   },
   "outputs": [
    {
     "name": "stdout",
     "output_type": "stream",
     "text": [
      "Parameter containing:\n",
      "tensor([[0., 0., 0., 0., 0., 0., 0., 0., 0., 0., 0., 0., 0., 0., 0., 0., 0., 0., 0., 0., 0., 0., 0., 0.,\n",
      "         0., 0., 0., 0., 0., 0.]], requires_grad=True)\n"
     ]
    },
    {
     "data": {
      "text/plain": [
       "Sequential(\n",
       "  (0): Linear(in_features=30, out_features=1, bias=True)\n",
       ")"
      ]
     },
     "execution_count": 12,
     "metadata": {},
     "output_type": "execute_result"
    }
   ],
   "source": [
    "# Esto es para inicializar los pesos a ceros una vez definido el modelo\n",
    "# (por defecto con nn se inicializan con Xavier, Hu o similar)\n",
    "def weights_init(m):\n",
    "    if isinstance(m, nn.Linear):\n",
    "        nn.init.zeros_(m.weight)\n",
    "        nn.init.zeros_(m.bias)\n",
    "        print(m.weight)\n",
    "\n",
    "model.apply(weights_init)"
   ]
  },
  {
   "cell_type": "code",
   "execution_count": 13,
   "id": "133c614a",
   "metadata": {
    "ExecuteTime": {
     "end_time": "2021-09-21T22:38:30.029795Z",
     "start_time": "2021-09-21T22:38:30.026563Z"
    }
   },
   "outputs": [],
   "source": [
    "loss_func = F.binary_cross_entropy_with_logits"
   ]
  },
  {
   "cell_type": "code",
   "execution_count": 14,
   "id": "ec7e452b",
   "metadata": {
    "ExecuteTime": {
     "end_time": "2021-09-21T22:38:32.862085Z",
     "start_time": "2021-09-21T22:38:30.032009Z"
    }
   },
   "outputs": [],
   "source": [
    "model = model.to(DEVICE)\n",
    "\n",
    "opt = optim.SGD(model.parameters(),lr = lr)"
   ]
  },
  {
   "cell_type": "code",
   "execution_count": 15,
   "id": "35982397",
   "metadata": {
    "ExecuteTime": {
     "end_time": "2021-09-21T22:38:32.869130Z",
     "start_time": "2021-09-21T22:38:32.864361Z"
    }
   },
   "outputs": [],
   "source": [
    "def loss_acc_batch(x,y, acc = None):\n",
    "    yp = model(x.to(DEVICE))\n",
    "    yt = y.to(DEVICE)\n",
    "    # .squeeze() es para volver los vectores unidimensionales y evitar problemas en las tres formas\n",
    "    # de hacer el modelo, ya que el \"y\" original es 1D, mientras que la salida del modelo\n",
    "    # es vector 2D (columna) para los casos en que involucra nn.Linear()\n",
    "    loss = loss_func(yp.squeeze(), yt.squeeze())\n",
    "    out = [loss, len(x)]\n",
    "    \n",
    "    if acc is not None:\n",
    "        y_pred = (torch.sigmoid(yp) >= 0.5).float() \n",
    "        accuracy = (y_pred.squeeze() == yt.squeeze()).float().mean().item()\n",
    "        out.append(accuracy)\n",
    "    return out"
   ]
  },
  {
   "cell_type": "code",
   "execution_count": 16,
   "id": "2e7bc114",
   "metadata": {
    "ExecuteTime": {
     "end_time": "2021-09-21T22:38:32.890571Z",
     "start_time": "2021-09-21T22:38:32.870441Z"
    }
   },
   "outputs": [],
   "source": [
    "def acc(out,y):\n",
    "    y_pred = (torch.sigmoid(out) >= 0.5).float() \n",
    "    return (y_pred == y).float().sum()"
   ]
  },
  {
   "cell_type": "code",
   "execution_count": 17,
   "id": "46606095",
   "metadata": {
    "ExecuteTime": {
     "end_time": "2021-09-21T22:38:32.906893Z",
     "start_time": "2021-09-21T22:38:32.893286Z"
    }
   },
   "outputs": [],
   "source": [
    "def train():\n",
    "    \n",
    "    train_losses = []\n",
    "    valid_losses = []\n",
    "    for epoch in range(NUM_EPOCHS):\n",
    "        model.train()\n",
    "        losses = 0\n",
    "        nums = 0\n",
    "        for x, y in train_dl:\n",
    "            loss, l = loss_acc_batch(x,y)\n",
    "            loss.backward()\n",
    "            opt.step()\n",
    "            opt.zero_grad()\n",
    "            \n",
    "            losses += loss.item() * l\n",
    "            nums += l\n",
    "        train_loss = losses / nums\n",
    "        train_losses.append(train_loss)\n",
    "        \n",
    "        model.eval()\n",
    "        with torch.no_grad():\n",
    "            losses, nums, accs = zip(*[loss_acc_batch(xb, yb, acc=True) for xb, yb in valid_dl])\n",
    "        losses = [l.item() for l in losses]\n",
    "        valid_loss = np.sum(np.multiply(losses,nums)) / np.sum(nums)\n",
    "        valid_losses.append(valid_loss)\n",
    "        \n",
    "        valid_acc = np.sum(np.multiply(accs,nums)) / np.sum(nums)\n",
    "        \n",
    "        if epoch % 10 == 0:\n",
    "            print(f\"epoch: {epoch},    train_loss: {train_loss:.4f} \\\n",
    "            valid_loss: {valid_loss:.4f}, valid_acc: {valid_acc:.4f}\")\n",
    "    "
   ]
  },
  {
   "cell_type": "code",
   "execution_count": 18,
   "id": "99ed83ed",
   "metadata": {
    "ExecuteTime": {
     "end_time": "2021-09-21T22:38:37.532525Z",
     "start_time": "2021-09-21T22:38:32.908977Z"
    }
   },
   "outputs": [
    {
     "name": "stdout",
     "output_type": "stream",
     "text": [
      "epoch: 0,    train_loss: 0.6490             valid_loss: 0.5941, valid_acc: 0.9254\n",
      "epoch: 10,    train_loss: 0.2848             valid_loss: 0.3143, valid_acc: 0.9386\n",
      "epoch: 20,    train_loss: 0.2123             valid_loss: 0.2479, valid_acc: 0.9430\n",
      "epoch: 30,    train_loss: 0.1787             valid_loss: 0.2154, valid_acc: 0.9430\n",
      "epoch: 40,    train_loss: 0.1585             valid_loss: 0.1952, valid_acc: 0.9430\n",
      "epoch: 50,    train_loss: 0.1449             valid_loss: 0.1811, valid_acc: 0.9474\n",
      "epoch: 60,    train_loss: 0.1350             valid_loss: 0.1708, valid_acc: 0.9474\n",
      "epoch: 70,    train_loss: 0.1273             valid_loss: 0.1627, valid_acc: 0.9474\n",
      "epoch: 80,    train_loss: 0.1213             valid_loss: 0.1562, valid_acc: 0.9518\n",
      "epoch: 90,    train_loss: 0.1164             valid_loss: 0.1505, valid_acc: 0.9518\n",
      "epoch: 100,    train_loss: 0.1122             valid_loss: 0.1459, valid_acc: 0.9561\n",
      "epoch: 110,    train_loss: 0.1087             valid_loss: 0.1419, valid_acc: 0.9518\n",
      "epoch: 120,    train_loss: 0.1056             valid_loss: 0.1384, valid_acc: 0.9518\n",
      "epoch: 130,    train_loss: 0.1029             valid_loss: 0.1353, valid_acc: 0.9561\n",
      "epoch: 140,    train_loss: 0.1006             valid_loss: 0.1326, valid_acc: 0.9605\n",
      "epoch: 150,    train_loss: 0.0985             valid_loss: 0.1303, valid_acc: 0.9605\n",
      "epoch: 160,    train_loss: 0.0966             valid_loss: 0.1280, valid_acc: 0.9605\n",
      "epoch: 170,    train_loss: 0.0949             valid_loss: 0.1259, valid_acc: 0.9605\n",
      "epoch: 180,    train_loss: 0.0933             valid_loss: 0.1242, valid_acc: 0.9561\n",
      "epoch: 190,    train_loss: 0.0919             valid_loss: 0.1226, valid_acc: 0.9561\n",
      "epoch: 200,    train_loss: 0.0906             valid_loss: 0.1211, valid_acc: 0.9561\n",
      "epoch: 210,    train_loss: 0.0893             valid_loss: 0.1197, valid_acc: 0.9561\n",
      "epoch: 220,    train_loss: 0.0883             valid_loss: 0.1183, valid_acc: 0.9561\n",
      "epoch: 230,    train_loss: 0.0872             valid_loss: 0.1169, valid_acc: 0.9561\n",
      "epoch: 240,    train_loss: 0.0862             valid_loss: 0.1156, valid_acc: 0.9561\n",
      "epoch: 250,    train_loss: 0.0853             valid_loss: 0.1145, valid_acc: 0.9561\n",
      "epoch: 260,    train_loss: 0.0844             valid_loss: 0.1135, valid_acc: 0.9561\n",
      "epoch: 270,    train_loss: 0.0835             valid_loss: 0.1125, valid_acc: 0.9605\n",
      "epoch: 280,    train_loss: 0.0827             valid_loss: 0.1116, valid_acc: 0.9605\n",
      "epoch: 290,    train_loss: 0.0820             valid_loss: 0.1107, valid_acc: 0.9605\n",
      "epoch: 300,    train_loss: 0.0813             valid_loss: 0.1099, valid_acc: 0.9649\n",
      "epoch: 310,    train_loss: 0.0806             valid_loss: 0.1091, valid_acc: 0.9649\n",
      "epoch: 320,    train_loss: 0.0800             valid_loss: 0.1083, valid_acc: 0.9649\n",
      "epoch: 330,    train_loss: 0.0794             valid_loss: 0.1075, valid_acc: 0.9649\n",
      "epoch: 340,    train_loss: 0.0788             valid_loss: 0.1068, valid_acc: 0.9649\n",
      "epoch: 350,    train_loss: 0.0782             valid_loss: 0.1061, valid_acc: 0.9649\n",
      "epoch: 360,    train_loss: 0.0777             valid_loss: 0.1056, valid_acc: 0.9649\n",
      "epoch: 370,    train_loss: 0.0772             valid_loss: 0.1051, valid_acc: 0.9649\n",
      "epoch: 380,    train_loss: 0.0767             valid_loss: 0.1046, valid_acc: 0.9649\n",
      "epoch: 390,    train_loss: 0.0762             valid_loss: 0.1041, valid_acc: 0.9649\n",
      "epoch: 400,    train_loss: 0.0757             valid_loss: 0.1036, valid_acc: 0.9649\n",
      "epoch: 410,    train_loss: 0.0753             valid_loss: 0.1031, valid_acc: 0.9649\n",
      "epoch: 420,    train_loss: 0.0749             valid_loss: 0.1026, valid_acc: 0.9649\n",
      "epoch: 430,    train_loss: 0.0745             valid_loss: 0.1021, valid_acc: 0.9649\n",
      "epoch: 440,    train_loss: 0.0741             valid_loss: 0.1016, valid_acc: 0.9649\n",
      "epoch: 450,    train_loss: 0.0737             valid_loss: 0.1011, valid_acc: 0.9649\n",
      "epoch: 460,    train_loss: 0.0733             valid_loss: 0.1007, valid_acc: 0.9649\n",
      "epoch: 470,    train_loss: 0.0730             valid_loss: 0.1003, valid_acc: 0.9649\n",
      "epoch: 480,    train_loss: 0.0726             valid_loss: 0.0999, valid_acc: 0.9649\n",
      "epoch: 490,    train_loss: 0.0723             valid_loss: 0.0995, valid_acc: 0.9649\n"
     ]
    }
   ],
   "source": [
    "train()"
   ]
  },
  {
   "cell_type": "markdown",
   "id": "bfdc361f",
   "metadata": {},
   "source": [
    "### Ejercicio"
   ]
  },
  {
   "cell_type": "markdown",
   "id": "bc62f762",
   "metadata": {},
   "source": [
    "- Realice la curva del Loss para entrenamiento y validación vs cada epoch\n",
    "- Realice la curva del accuracy para el entrenamiento y la validación para cada epoch"
   ]
  }
 ],
 "metadata": {
  "kernelspec": {
   "display_name": "Python 3 (ipykernel)",
   "language": "python",
   "name": "python3"
  },
  "language_info": {
   "codemirror_mode": {
    "name": "ipython",
    "version": 3
   },
   "file_extension": ".py",
   "mimetype": "text/x-python",
   "name": "python",
   "nbconvert_exporter": "python",
   "pygments_lexer": "ipython3",
   "version": "3.10.6"
  },
  "nbTranslate": {
   "displayLangs": [
    "*"
   ],
   "hotkey": "alt-t",
   "langInMainMenu": true,
   "sourceLang": "en",
   "targetLang": "es",
   "useGoogleTranslate": true
  }
 },
 "nbformat": 4,
 "nbformat_minor": 5
}
