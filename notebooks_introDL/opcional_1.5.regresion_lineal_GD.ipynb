{
 "cells": [
  {
   "cell_type": "markdown",
   "metadata": {},
   "source": [
    "# Regresión lineal con gradiente descendiente"
   ]
  },
  {
   "cell_type": "markdown",
   "metadata": {
    "ExecuteTime": {
     "end_time": "2022-02-23T14:02:33.442755Z",
     "start_time": "2022-02-23T14:02:33.439274Z"
    }
   },
   "source": [
    "<img src=\"img/LR_neuron_1.png\" width=\"600\">"
   ]
  },
  {
   "cell_type": "markdown",
   "metadata": {},
   "source": [
    "<img src=\"img/Online_Batch_GD_2.png\" width=\"700\">"
   ]
  },
  {
   "cell_type": "markdown",
   "metadata": {},
   "source": [
    "<img src=\"img/MiniBatch_GD_3.png\" width=\"700\">"
   ]
  },
  {
   "cell_type": "markdown",
   "metadata": {},
   "source": [
    "<img src=\"img/LR_Loss_derivate_4.png\" width=\"700\">"
   ]
  },
  {
   "cell_type": "code",
   "execution_count": 22,
   "metadata": {
    "ExecuteTime": {
     "end_time": "2022-02-23T13:37:57.742790Z",
     "start_time": "2022-02-23T13:37:57.738100Z"
    }
   },
   "outputs": [],
   "source": [
    "import pandas as pd\n",
    "import matplotlib.pyplot as plt\n",
    "import torch\n",
    "\n",
    "from torch.autograd import grad\n",
    "import torch.nn.functional as F\n",
    "\n",
    "%matplotlib inline"
   ]
  },
  {
   "cell_type": "markdown",
   "metadata": {
    "heading_collapsed": true
   },
   "source": [
    "## Cargando y preparando el dataset "
   ]
  },
  {
   "cell_type": "code",
   "execution_count": 2,
   "metadata": {
    "ExecuteTime": {
     "end_time": "2022-02-23T13:26:26.365484Z",
     "start_time": "2022-02-23T13:26:26.343464Z"
    },
    "hidden": true
   },
   "outputs": [
    {
     "data": {
      "text/html": [
       "<div>\n",
       "<style scoped>\n",
       "    .dataframe tbody tr th:only-of-type {\n",
       "        vertical-align: middle;\n",
       "    }\n",
       "\n",
       "    .dataframe tbody tr th {\n",
       "        vertical-align: top;\n",
       "    }\n",
       "\n",
       "    .dataframe thead th {\n",
       "        text-align: right;\n",
       "    }\n",
       "</style>\n",
       "<table border=\"1\" class=\"dataframe\">\n",
       "  <thead>\n",
       "    <tr style=\"text-align: right;\">\n",
       "      <th></th>\n",
       "      <th>x1</th>\n",
       "      <th>x2</th>\n",
       "      <th>y</th>\n",
       "    </tr>\n",
       "  </thead>\n",
       "  <tbody>\n",
       "    <tr>\n",
       "      <th>995</th>\n",
       "      <td>-0.942094</td>\n",
       "      <td>-0.835856</td>\n",
       "      <td>-22.324428</td>\n",
       "    </tr>\n",
       "    <tr>\n",
       "      <th>996</th>\n",
       "      <td>1.222445</td>\n",
       "      <td>-0.403177</td>\n",
       "      <td>-52.121493</td>\n",
       "    </tr>\n",
       "    <tr>\n",
       "      <th>997</th>\n",
       "      <td>-0.112466</td>\n",
       "      <td>-1.688230</td>\n",
       "      <td>-57.043196</td>\n",
       "    </tr>\n",
       "    <tr>\n",
       "      <th>998</th>\n",
       "      <td>-0.403459</td>\n",
       "      <td>-0.412272</td>\n",
       "      <td>-27.701833</td>\n",
       "    </tr>\n",
       "    <tr>\n",
       "      <th>999</th>\n",
       "      <td>0.021351</td>\n",
       "      <td>-0.499017</td>\n",
       "      <td>-9.804714</td>\n",
       "    </tr>\n",
       "  </tbody>\n",
       "</table>\n",
       "</div>"
      ],
      "text/plain": [
       "           x1        x2          y\n",
       "995 -0.942094 -0.835856 -22.324428\n",
       "996  1.222445 -0.403177 -52.121493\n",
       "997 -0.112466 -1.688230 -57.043196\n",
       "998 -0.403459 -0.412272 -27.701833\n",
       "999  0.021351 -0.499017  -9.804714"
      ]
     },
     "execution_count": 2,
     "metadata": {},
     "output_type": "execute_result"
    }
   ],
   "source": [
    "df = pd.read_csv('./datasets/linreg-data.csv', index_col=0)\n",
    "df.tail()"
   ]
  },
  {
   "cell_type": "code",
   "execution_count": 3,
   "metadata": {
    "ExecuteTime": {
     "end_time": "2022-02-23T13:26:29.433232Z",
     "start_time": "2022-02-23T13:26:29.405473Z"
    },
    "hidden": true
   },
   "outputs": [],
   "source": [
    "# Assign features and target\n",
    "\n",
    "X = torch.tensor(df[['x1', 'x2']].values, dtype=torch.float)\n",
    "y = torch.tensor(df['y'].values, dtype=torch.float)\n",
    "\n",
    "# Shuffling & train/test split\n",
    "\n",
    "torch.manual_seed(123)\n",
    "shuffle_idx = torch.randperm(y.size(0), dtype=torch.long)\n",
    "\n",
    "X, y = X[shuffle_idx], y[shuffle_idx]\n",
    "\n",
    "percent70 = int(shuffle_idx.size(0)*0.7)\n",
    "\n",
    "X_train, X_test = X[shuffle_idx[:percent70]], X[shuffle_idx[percent70:]]\n",
    "y_train, y_test = y[shuffle_idx[:percent70]], y[shuffle_idx[percent70:]]\n",
    "\n",
    "# Normalize (mean zero, unit variance)\n",
    "\n",
    "mu, sigma = X_train.mean(dim=0), X_train.std(dim=0)\n",
    "X_train = (X_train - mu) / sigma\n",
    "X_test = (X_test - mu) / sigma"
   ]
  },
  {
   "cell_type": "markdown",
   "metadata": {
    "hidden": true
   },
   "source": [
    "<br>\n",
    "<br>"
   ]
  },
  {
   "cell_type": "markdown",
   "metadata": {},
   "source": [
    "## Implementando el Modelo de regresión lineal de forma manual"
   ]
  },
  {
   "cell_type": "code",
   "execution_count": 4,
   "metadata": {
    "ExecuteTime": {
     "end_time": "2022-02-23T13:26:43.195747Z",
     "start_time": "2022-02-23T13:26:43.189849Z"
    }
   },
   "outputs": [],
   "source": [
    "class LinearRegression1():\n",
    "    def __init__(self, num_features):\n",
    "        self.num_features = num_features\n",
    "        self.weight = torch.zeros(num_features, 1, \n",
    "                                  dtype=torch.float)\n",
    "        self.bias = torch.zeros(1, dtype=torch.float)\n",
    "\n",
    "    def forward(self, x):\n",
    "        netinputs = x @ self.weight + self.bias\n",
    "        activations = netinputs\n",
    "        return activations.view(-1)\n",
    "        \n",
    "    def backward(self, x, yhat, y):  \n",
    "        \n",
    "        grad_loss_yhat = 2*(y - yhat)\n",
    "        \n",
    "        grad_yhat_weights = -x\n",
    "        grad_yhat_bias = -1.\n",
    "        \n",
    "        # Regla de la cadena\n",
    "        grad_loss_weights =  ( grad_yhat_weights.t() @ grad_loss_yhat.view(-1, 1) )/ y.size(0)\n",
    "\n",
    "        grad_loss_bias = torch.sum(grad_yhat_bias*grad_loss_yhat) / y.size(0)\n",
    "        \n",
    "        # returna el negativo del gradiente\n",
    "        return (-1)*grad_loss_weights, (-1)*grad_loss_bias"
   ]
  },
  {
   "cell_type": "markdown",
   "metadata": {
    "lang": "en"
   },
   "source": [
    "### Entrenamiento y evaluación"
   ]
  },
  {
   "cell_type": "code",
   "execution_count": 5,
   "metadata": {
    "ExecuteTime": {
     "end_time": "2022-02-23T13:29:38.259866Z",
     "start_time": "2022-02-23T13:29:38.253130Z"
    }
   },
   "outputs": [],
   "source": [
    "####################################################\n",
    "##### Entrenamiento y validación\n",
    "###################################################\n",
    "\n",
    "def loss_func(yhat, y):\n",
    "    return torch.mean((yhat - y)**2)\n",
    "\n",
    "\n",
    "def train(model, x, y, num_epochs,\n",
    "          learning_rate=0.01, seed=123, minibatch_size=10):\n",
    "    cost = []\n",
    "    \n",
    "    torch.manual_seed(seed)\n",
    "    for e in range(num_epochs):\n",
    "        \n",
    "        #### Shuffle los epochs\n",
    "        shuffle_idx = torch.randperm(y.size(0), dtype=torch.long)\n",
    "        minibatches = torch.split(shuffle_idx, minibatch_size)\n",
    "        \n",
    "        for minibatch_idx in minibatches:\n",
    "Linear\n",
    "            #### Calcula salidas ####\n",
    "            yhat = model.forward(x[minibatch_idx])\n",
    "\n",
    "            #### Calcula gradientes ####\n",
    "            negative_grad_w, negative_grad_b = \\\n",
    "                model.backward(x[minibatch_idx], yhat, y[minibatch_idx])\n",
    "\n",
    "            #### Actualiza los pesos ####\n",
    "            model.weight += learning_rate * negative_grad_w\n",
    "            model.bias += learning_rate * negative_grad_b\n",
    "            \n",
    "            ####  Registro en el minibatch ####\n",
    "            #minibatch_loss = loss(yhat, y[minibatch_idx])\n",
    "            #print('    Minibatch MSE: %.3f' % minibatch_loss)\n",
    "\n",
    "        #### Registro ####\n",
    "        yhat = model.forward(x)\n",
    "        curr_loss = loss_func(yhat, y)\n",
    "        print('Epoch: %03d' % (e+1), end=\"\")\n",
    "        print(' | MSE: %.5f' % curr_loss)\n",
    "        cost.append(curr_loss)\n",
    "\n",
    "    return cost"
   ]
  },
  {
   "cell_type": "markdown",
   "metadata": {},
   "source": [
    "### Entrenando el modelo de regresión lineal"
   ]
  },
  {
   "cell_type": "code",
   "execution_count": 14,
   "metadata": {
    "ExecuteTime": {
     "end_time": "2022-02-23T13:32:49.265680Z",
     "start_time": "2022-02-23T13:32:49.032653Z"
    }
   },
   "outputs": [
    {
     "name": "stdout",
     "output_type": "stream",
     "text": [
      "Epoch: 001 | MSE: 459.60974\n",
      "Epoch: 002 | MSE: 378.76865\n",
      "Epoch: 003 | MSE: 372.19711\n",
      "Epoch: 004 | MSE: 371.73517\n",
      "Epoch: 005 | MSE: 371.71585\n",
      "Epoch: 006 | MSE: 371.69363\n",
      "Epoch: 007 | MSE: 371.70804\n",
      "Epoch: 008 | MSE: 371.66751\n",
      "Epoch: 009 | MSE: 371.90137\n",
      "Epoch: 010 | MSE: 372.33533\n",
      "Epoch: 011 | MSE: 371.77298\n",
      "Epoch: 012 | MSE: 371.63214\n",
      "Epoch: 013 | MSE: 371.71933\n",
      "Epoch: 014 | MSE: 371.68173\n",
      "Epoch: 015 | MSE: 371.89890\n",
      "Epoch: 016 | MSE: 372.00119\n",
      "Epoch: 017 | MSE: 371.88901\n",
      "Epoch: 018 | MSE: 371.66327\n",
      "Epoch: 019 | MSE: 371.77960\n",
      "Epoch: 020 | MSE: 371.64783\n",
      "Epoch: 021 | MSE: 371.69937\n",
      "Epoch: 022 | MSE: 371.78836\n",
      "Epoch: 023 | MSE: 371.72784\n",
      "Epoch: 024 | MSE: 371.74640\n",
      "Epoch: 025 | MSE: 372.03195\n",
      "Epoch: 026 | MSE: 371.87531\n",
      "Epoch: 027 | MSE: 371.74689\n",
      "Epoch: 028 | MSE: 371.85193\n",
      "Epoch: 029 | MSE: 371.77881\n",
      "Epoch: 030 | MSE: 371.66104\n",
      "Epoch: 031 | MSE: 371.68863\n",
      "Epoch: 032 | MSE: 371.76370\n",
      "Epoch: 033 | MSE: 371.68677\n",
      "Epoch: 034 | MSE: 371.72476\n",
      "Epoch: 035 | MSE: 371.77695\n",
      "Epoch: 036 | MSE: 371.64725\n",
      "Epoch: 037 | MSE: 371.74545\n",
      "Epoch: 038 | MSE: 371.66959\n",
      "Epoch: 039 | MSE: 371.66833\n",
      "Epoch: 040 | MSE: 371.67093\n",
      "Epoch: 041 | MSE: 371.64523\n",
      "Epoch: 042 | MSE: 371.67990\n",
      "Epoch: 043 | MSE: 371.73447\n",
      "Epoch: 044 | MSE: 371.75888\n",
      "Epoch: 045 | MSE: 371.71033\n",
      "Epoch: 046 | MSE: 371.89316\n",
      "Epoch: 047 | MSE: 371.74606\n",
      "Epoch: 048 | MSE: 371.85355\n",
      "Epoch: 049 | MSE: 371.68015\n",
      "Epoch: 050 | MSE: 371.65445\n"
     ]
    }
   ],
   "source": [
    "model = LinearRegression1(num_features=X_train.size(1))\n",
    "cost = train(model, \n",
    "             X_train, y_train, \n",
    "             num_epochs=50, \n",
    "             learning_rate=0.01,\n",
    "             minibatch_size=10)"
   ]
  },
  {
   "cell_type": "markdown",
   "metadata": {},
   "source": [
    "## Evaluate Linear Regression Model"
   ]
  },
  {
   "cell_type": "markdown",
   "metadata": {},
   "source": [
    "### Plot MSE"
   ]
  },
  {
   "cell_type": "code",
   "execution_count": 15,
   "metadata": {
    "ExecuteTime": {
     "end_time": "2022-02-23T13:32:52.606001Z",
     "start_time": "2022-02-23T13:32:52.544371Z"
    }
   },
   "outputs": [
    {
     "data": {
      "image/png": "[encoded data removed]",
      "text/plain": [
       "<Figure size 432x288 with 1 Axes>"
      ]
     },
     "metadata": {
      "needs_background": "light"
     },
     "output_type": "display_data"
    }
   ],
   "source": [
    "plt.plot(range(len(cost)), cost)\n",
    "plt.ylabel('Mean Squared Error')\n",
    "plt.xlabel('Epoch')\n",
    "plt.show()"
   ]
  },
  {
   "cell_type": "code",
   "execution_count": 17,
   "metadata": {
    "ExecuteTime": {
     "end_time": "2022-02-23T13:33:02.596841Z",
     "start_time": "2022-02-23T13:33:02.592892Z"
    }
   },
   "outputs": [
    {
     "name": "stdout",
     "output_type": "stream",
     "text": [
      "Train MSE: 371.65445\n",
      "Test MSE: 406.64313\n"
     ]
    }
   ],
   "source": [
    "train_pred = model.forward(X_train)\n",
    "test_pred = model.forward(X_test)\n",
    "\n",
    "print('Train MSE: %.5f' % loss_func(train_pred, y_train))\n",
    "print('Test MSE: %.5f' % loss_func(test_pred, y_test))"
   ]
  },
  {
   "cell_type": "markdown",
   "metadata": {},
   "source": [
    "### Comparando con la solución analítica"
   ]
  },
  {
   "cell_type": "code",
   "execution_count": 18,
   "metadata": {
    "ExecuteTime": {
     "end_time": "2022-02-23T13:33:05.849379Z",
     "start_time": "2022-02-23T13:33:05.845160Z"
    }
   },
   "outputs": [
    {
     "name": "stdout",
     "output_type": "stream",
     "text": [
      "Weights tensor([[ 0.2111],\n",
      "        [37.7388]])\n",
      "Bias tensor([-0.5895])\n"
     ]
    }
   ],
   "source": [
    "print('Weights', model.weight)\n",
    "print('Bias', model.bias)"
   ]
  },
  {
   "cell_type": "code",
   "execution_count": 13,
   "metadata": {
    "ExecuteTime": {
     "end_time": "2022-02-23T13:32:30.592424Z",
     "start_time": "2022-02-23T13:32:30.575589Z"
    }
   },
   "outputs": [
    {
     "name": "stdout",
     "output_type": "stream",
     "text": [
      "Analytical weights tensor([[ 0.3624],\n",
      "        [37.8801]])\n",
      "Analytical bias tensor([-0.5464])\n"
     ]
    }
   ],
   "source": [
    "def analytical_solution(x, y):\n",
    "    Xb = torch.cat( (torch.ones((x.size(0), 1)), x), dim=1)\n",
    "    w = torch.zeros(x.size(1))\n",
    "    z = torch.inverse(torch.matmul(Xb.t(), Xb))\n",
    "    params = torch.matmul(z, torch.matmul(Xb.t(), y))\n",
    "    b, w = torch.tensor([params[0]]), params[1:].view(x.size(1), 1)\n",
    "    return w, b\n",
    "\n",
    "w, b = analytical_solution(X_train, y_train)\n",
    "print('Analytical weights', w)\n",
    "print('Analytical bias', b)"
   ]
  },
  {
   "cell_type": "markdown",
   "metadata": {
    "heading_collapsed": true
   },
   "source": [
    "# Modelo Semimanual (con autograd)"
   ]
  },
  {
   "cell_type": "code",
   "execution_count": 20,
   "metadata": {
    "ExecuteTime": {
     "end_time": "2022-02-23T13:37:07.749836Z",
     "start_time": "2022-02-23T13:37:07.740447Z"
    },
    "hidden": true
   },
   "outputs": [],
   "source": [
    "class LinearRegression2():\n",
    "    def __init__(self, num_features):\n",
    "        self.num_features = num_features\n",
    "        self.weight = torch.zeros(num_features, 1, \n",
    "                                  dtype=torch.float,\n",
    "                                  requires_grad=True)\n",
    "        self.bias = torch.zeros(1, dtype=torch.float,\n",
    "                                requires_grad=True)\n",
    "\n",
    "    def forward(self, x):\n",
    "        netinputs = x @ self.weight + self.bias\n",
    "        activations = netinputs\n",
    "        return activations.view(-1)\n",
    "\n",
    "    \n",
    "####################################################\n",
    "##### Entrenamiento y validación\n",
    "###################################################\n",
    "\n",
    "def loss_func(yhat, y):\n",
    "    return torch.mean((yhat - y)**2)\n",
    "\n",
    "\n",
    "def train(model, x, y, num_epochs,\n",
    "          learning_rate=0.01, seed=123, minibatch_size=10):\n",
    "    cost = []\n",
    "    \n",
    "    torch.manual_seed(seed)\n",
    "    for e in range(num_epochs):\n",
    "        \n",
    "        #### Shuffle los epochs\n",
    "        shuffle_idx = torch.randperm(y.size(0), dtype=torch.long)\n",
    "        minibatches = torch.split(shuffle_idx, minibatch_size)\n",
    "        \n",
    "        for minibatch_idx in minibatches:\n",
    "\n",
    "            #### Calcula salidas ####\n",
    "            yhat = model.forward(x[minibatch_idx])\n",
    "            loss = loss_func(yhat, y[minibatch_idx])\n",
    "            \n",
    "            #### Calcula gradientes ####\n",
    "            \n",
    "            negative_grad_w = grad(loss, model.weight, retain_graph=True)[0] * (-1)\n",
    "            negative_grad_b = grad(loss, model.bias)[0] * (-1)\n",
    "            \n",
    "            \n",
    "            #### Actualiza pesos ####\n",
    "\n",
    "            model.weight = model.weight + learning_rate * negative_grad_w\n",
    "            model.bias = model.bias + learning_rate * negative_grad_b\n",
    "\n",
    "        #### Registro ####\n",
    "        with torch.no_grad():\n",
    "            # evita el grafo durante la evaluación y guarda memoria\n",
    "            yhat = model.forward(x)\n",
    "            curr_loss = loss_func(yhat, y)\n",
    "            print('Epoch: %03d' % (e+1), end=\"\")\n",
    "            print(' | MSE: %.5f' % curr_loss)\n",
    "            cost.append(curr_loss)\n",
    "\n",
    "    return cost"
   ]
  },
  {
   "cell_type": "code",
   "execution_count": 23,
   "metadata": {
    "ExecuteTime": {
     "end_time": "2022-02-23T13:38:03.262393Z",
     "start_time": "2022-02-23T13:38:03.026338Z"
    },
    "hidden": true
   },
   "outputs": [
    {
     "name": "stdout",
     "output_type": "stream",
     "text": [
      "Epoch: 001 | MSE: 459.60974\n",
      "Epoch: 002 | MSE: 378.76865\n",
      "Epoch: 003 | MSE: 372.19711\n",
      "Epoch: 004 | MSE: 371.73517\n",
      "Epoch: 005 | MSE: 371.71585\n",
      "Epoch: 006 | MSE: 371.69363\n",
      "Epoch: 007 | MSE: 371.70804\n",
      "Epoch: 008 | MSE: 371.66751\n",
      "Epoch: 009 | MSE: 371.90137\n",
      "Epoch: 010 | MSE: 372.33536\n",
      "Epoch: 011 | MSE: 371.77295\n",
      "Epoch: 012 | MSE: 371.63214\n",
      "Epoch: 013 | MSE: 371.71933\n",
      "Epoch: 014 | MSE: 371.68173\n",
      "Epoch: 015 | MSE: 371.89890\n",
      "Epoch: 016 | MSE: 372.00119\n",
      "Epoch: 017 | MSE: 371.88901\n",
      "Epoch: 018 | MSE: 371.66327\n",
      "Epoch: 019 | MSE: 371.77960\n",
      "Epoch: 020 | MSE: 371.64783\n"
     ]
    }
   ],
   "source": [
    "model = LinearRegression2(num_features=X_train.size(1))\n",
    "cost = train(model, \n",
    "             X_train, y_train.float(),\n",
    "             num_epochs=20,\n",
    "             learning_rate=0.01,\n",
    "             seed=123,\n",
    "             minibatch_size=10)"
   ]
  },
  {
   "cell_type": "code",
   "execution_count": 24,
   "metadata": {
    "ExecuteTime": {
     "end_time": "2022-02-23T13:38:22.894205Z",
     "start_time": "2022-02-23T13:38:22.834844Z"
    },
    "hidden": true
   },
   "outputs": [
    {
     "data": {
      "image/png": "[encoded data removed]",
      "text/plain": [
       "<Figure size 432x288 with 1 Axes>"
      ]
     },
     "metadata": {
      "needs_background": "light"
     },
     "output_type": "display_data"
    }
   ],
   "source": [
    "plt.plot(range(len(cost)), cost)\n",
    "plt.ylabel('Mean Squared Error')\n",
    "plt.xlabel('Epoch')\n",
    "plt.show()"
   ]
  },
  {
   "cell_type": "markdown",
   "metadata": {
    "heading_collapsed": true
   },
   "source": [
    "# Modelo Automático"
   ]
  },
  {
   "cell_type": "code",
   "execution_count": 25,
   "metadata": {
    "ExecuteTime": {
     "end_time": "2022-02-23T13:40:17.052308Z",
     "start_time": "2022-02-23T13:40:17.043218Z"
    },
    "hidden": true
   },
   "outputs": [],
   "source": [
    "class LinearRegression3(torch.nn.Module):\n",
    "    def __init__(self, num_features):\n",
    "        super(LinearRegression3, self).__init__()\n",
    "        self.linear = torch.nn.Linear(num_features, 1)\n",
    "        \n",
    "        # cambio los pesos de aleatorios (que es por defecto) a cero\n",
    "        # (nunca hacer esto con redes en general)\n",
    "        self.linear.weight.detach().zero_()\n",
    "        self.linear.bias.detach().zero_()\n",
    "\n",
    "    def forward(self, x):\n",
    "        netinputs = self.linear(x)\n",
    "        activations = netinputs\n",
    "        return activations.view(-1)\n",
    "\n",
    "    \n",
    "####################################################\n",
    "##### Entrenamiento y validación\n",
    "###################################################\n",
    "\n",
    "\n",
    "def train(model, x, y, num_epochs,\n",
    "          learning_rate=0.01, seed=123, minibatch_size=10):\n",
    "    cost = []\n",
    "    \n",
    "    torch.manual_seed(seed)\n",
    "    \n",
    "    optimizer = torch.optim.SGD(model.parameters(), lr=learning_rate)\n",
    "    \n",
    "    for e in range(num_epochs):\n",
    "        \n",
    "        #### Shuffle para minibatches\n",
    "        shuffle_idx = torch.randperm(y.size(0), dtype=torch.long)\n",
    "        minibatches = torch.split(shuffle_idx, minibatch_size)\n",
    "        \n",
    "        for minibatch_idx in minibatches:\n",
    "\n",
    "            #### Calcula salidas ####\n",
    "            yhat = model.forward(x[minibatch_idx])\n",
    "            \n",
    "            # Tambien se podria usar una funcion de costo propia\n",
    "            loss = F.mse_loss(yhat, y[minibatch_idx])\n",
    "            \n",
    "            #### Reinica los gradientes de la iteracion previa ####\n",
    "            optimizer.zero_grad()\n",
    "            \n",
    "            #### Calcula gradientes ####\n",
    "            loss.backward()\n",
    "            \n",
    "            #### Actualiza pesos ####\n",
    "            optimizer.step()\n",
    "\n",
    "        #### Registro ####\n",
    "        with torch.no_grad():\n",
    "            # Para guardar memoria durante la evaluacion\n",
    "            yhat = model.forward(x)\n",
    "            curr_loss = loss_func(yhat, y)\n",
    "            print('Epoch: %03d' % (e+1), end=\"\")\n",
    "            print(' | MSE: %.5f' % curr_loss)\n",
    "            cost.append(curr_loss)\n",
    "\n",
    "    return cost"
   ]
  },
  {
   "cell_type": "code",
   "execution_count": 26,
   "metadata": {
    "ExecuteTime": {
     "end_time": "2022-02-23T13:40:43.824848Z",
     "start_time": "2022-02-23T13:40:43.633963Z"
    },
    "hidden": true
   },
   "outputs": [
    {
     "name": "stdout",
     "output_type": "stream",
     "text": [
      "Epoch: 001 | MSE: 459.60974\n",
      "Epoch: 002 | MSE: 378.76865\n",
      "Epoch: 003 | MSE: 372.19714\n",
      "Epoch: 004 | MSE: 371.73517\n",
      "Epoch: 005 | MSE: 371.71585\n",
      "Epoch: 006 | MSE: 371.69363\n",
      "Epoch: 007 | MSE: 371.70804\n",
      "Epoch: 008 | MSE: 371.66751\n",
      "Epoch: 009 | MSE: 371.90131\n",
      "Epoch: 010 | MSE: 372.33536\n",
      "Epoch: 011 | MSE: 371.77295\n",
      "Epoch: 012 | MSE: 371.63214\n",
      "Epoch: 013 | MSE: 371.71933\n",
      "Epoch: 014 | MSE: 371.68173\n",
      "Epoch: 015 | MSE: 371.89890\n",
      "Epoch: 016 | MSE: 372.00119\n",
      "Epoch: 017 | MSE: 371.88901\n",
      "Epoch: 018 | MSE: 371.66327\n",
      "Epoch: 019 | MSE: 371.77960\n",
      "Epoch: 020 | MSE: 371.64783\n"
     ]
    }
   ],
   "source": [
    "model = LinearRegression3(num_features=X_train.size(1))\n",
    "cost = train(model, \n",
    "             X_train, y_train.float(),\n",
    "             num_epochs=20,\n",
    "             learning_rate=0.01,\n",
    "             seed=123,\n",
    "             minibatch_size=10)"
   ]
  },
  {
   "cell_type": "code",
   "execution_count": 27,
   "metadata": {
    "ExecuteTime": {
     "end_time": "2022-02-23T13:40:54.326917Z",
     "start_time": "2022-02-23T13:40:54.266603Z"
    },
    "hidden": true
   },
   "outputs": [
    {
     "data": {
      "image/png": "[encoded data removed]",
      "text/plain": [
       "<Figure size 432x288 with 1 Axes>"
      ]
     },
     "metadata": {
      "needs_background": "light"
     },
     "output_type": "display_data"
    }
   ],
   "source": [
    "plt.plot(range(len(cost)), cost)\n",
    "plt.ylabel('Mean Squared Error')\n",
    "plt.xlabel('Epoch')\n",
    "plt.show()"
   ]
  }
 ],
 "metadata": {
  "kernelspec": {
   "display_name": "Python 3 (ipykernel)",
   "language": "python",
   "name": "python3"
  },
  "language_info": {
   "codemirror_mode": {
    "name": "ipython",
    "version": 3
   },
   "file_extension": ".py",
   "mimetype": "text/x-python",
   "name": "python",
   "nbconvert_exporter": "python",
   "pygments_lexer": "ipython3",
   "version": "3.10.6"
  },
  "nbTranslate": {
   "displayLangs": [
    "*"
   ],
   "hotkey": "alt-t",
   "langInMainMenu": true,
   "sourceLang": "en",
   "targetLang": "es",
   "useGoogleTranslate": true
  }
 },
 "nbformat": 4,
 "nbformat_minor": 4
}
