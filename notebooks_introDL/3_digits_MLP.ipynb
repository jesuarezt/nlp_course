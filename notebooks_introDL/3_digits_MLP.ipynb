{
 "cells": [
  {
   "cell_type": "code",
   "execution_count": 1,
   "id": "90ca9d4e",
   "metadata": {
    "ExecuteTime": {
     "end_time": "2021-09-22T16:42:49.777916Z",
     "start_time": "2021-09-22T16:42:48.641744Z"
    }
   },
   "outputs": [],
   "source": [
    "from sklearn import datasets\n",
    "from sklearn.model_selection import train_test_split\n",
    "from sklearn.preprocessing import StandardScaler\n",
    "\n",
    "import torch\n",
    "from torch.utils.data import TensorDataset, DataLoader\n",
    "from torch import nn, optim\n",
    "import torch.nn.functional as F\n",
    "\n",
    "import numpy as np\n",
    "\n",
    "import matplotlib.pyplot as plt\n",
    "\n",
    "%matplotlib inline"
   ]
  },
  {
   "cell_type": "code",
   "execution_count": 2,
   "id": "183efd37",
   "metadata": {
    "ExecuteTime": {
     "end_time": "2021-09-22T16:42:49.842108Z",
     "start_time": "2021-09-22T16:42:49.780153Z"
    }
   },
   "outputs": [],
   "source": [
    "##########################\n",
    "### CONFIGURACION\n",
    "##########################\n",
    "\n",
    "RANDOM_SEED = 1\n",
    "BATCH_SIZE = 64\n",
    "NUM_EPOCHS = 100\n",
    "DEVICE = torch.device('cuda:0' if torch.cuda.is_available() else 'cpu')\n",
    "lr = 0.01\n",
    "\n",
    "torch.manual_seed(RANDOM_SEED);"
   ]
  },
  {
   "cell_type": "code",
   "execution_count": 3,
   "id": "4dcda775",
   "metadata": {
    "ExecuteTime": {
     "end_time": "2021-09-22T16:42:49.915202Z",
     "start_time": "2021-09-22T16:42:49.843552Z"
    }
   },
   "outputs": [],
   "source": [
    "digits = datasets.load_digits()\n",
    "X = digits['data']\n",
    "y = digits['target']\n",
    "\n",
    "# X = (X - X.mean(axis=0))/X.std(axis=0)\n",
    "# sc = StandardScaler()\n",
    "# X = sc.fit_transform(X)"
   ]
  },
  {
   "cell_type": "code",
   "execution_count": 4,
   "id": "4cff32bb",
   "metadata": {
    "ExecuteTime": {
     "end_time": "2021-09-22T16:42:49.921057Z",
     "start_time": "2021-09-22T16:42:49.917641Z"
    }
   },
   "outputs": [
    {
     "name": "stdout",
     "output_type": "stream",
     "text": [
      "(1797, 64)\n",
      "(1797,)\n"
     ]
    }
   ],
   "source": [
    "print(X.shape)\n",
    "print(y.shape)"
   ]
  },
  {
   "cell_type": "code",
   "execution_count": 7,
   "id": "56fbd515",
   "metadata": {
    "ExecuteTime": {
     "end_time": "2021-09-22T16:42:49.931002Z",
     "start_time": "2021-09-22T16:42:49.922376Z"
    }
   },
   "outputs": [],
   "source": [
    "X_train,X_valid,y_train,y_valid = train_test_split(X, y, test_size=0.3, random_state=RANDOM_SEED)"
   ]
  },
  {
   "cell_type": "code",
   "execution_count": 8,
   "id": "7940b2f3",
   "metadata": {
    "ExecuteTime": {
     "end_time": "2021-09-22T16:42:49.943360Z",
     "start_time": "2021-09-22T16:42:49.932197Z"
    }
   },
   "outputs": [],
   "source": [
    "X_train, y_train, X_valid, y_valid = map( lambda x: torch.tensor(x, dtype=torch.float32),\n",
    "                                         (X_train, y_train, X_valid, y_valid) )"
   ]
  },
  {
   "cell_type": "code",
   "execution_count": 9,
   "id": "0f35dec0",
   "metadata": {
    "ExecuteTime": {
     "end_time": "2021-09-22T16:42:49.953351Z",
     "start_time": "2021-09-22T16:42:49.945852Z"
    }
   },
   "outputs": [],
   "source": [
    "train_ds = TensorDataset(X_train, y_train)\n",
    "valid_ds = TensorDataset(X_valid, y_valid)\n",
    "\n",
    "train_dl = DataLoader(train_ds, batch_size=BATCH_SIZE, shuffle=True)\n",
    "valid_dl = DataLoader(valid_ds, batch_size = 2*BATCH_SIZE)"
   ]
  },
  {
   "cell_type": "code",
   "execution_count": 10,
   "id": "ad6291c8",
   "metadata": {
    "ExecuteTime": {
     "end_time": "2021-09-22T16:42:49.963097Z",
     "start_time": "2021-09-22T16:42:49.954874Z"
    }
   },
   "outputs": [
    {
     "name": "stdout",
     "output_type": "stream",
     "text": [
      "torch.Size([1257, 64])\n",
      "torch.Size([1257])\n"
     ]
    }
   ],
   "source": [
    "print(X_train.shape)\n",
    "print(y_train.shape)"
   ]
  },
  {
   "cell_type": "markdown",
   "id": "8e25fbe7",
   "metadata": {},
   "source": [
    "## Multilayer Perceptron con una capa oculta"
   ]
  },
  {
   "cell_type": "code",
   "execution_count": 11,
   "id": "26a949fa",
   "metadata": {
    "ExecuteTime": {
     "end_time": "2021-09-22T16:42:49.972104Z",
     "start_time": "2021-09-22T16:42:49.964527Z"
    }
   },
   "outputs": [],
   "source": [
    "num_features = X.shape[1]\n",
    "num_hidden = 50\n",
    "num_classes = len(torch.unique(y_train))"
   ]
  },
  {
   "cell_type": "markdown",
   "id": "dbc29df8",
   "metadata": {},
   "source": [
    "### 1. Forma semi-explicita"
   ]
  },
  {
   "cell_type": "code",
   "execution_count": 12,
   "id": "799e6638",
   "metadata": {
    "ExecuteTime": {
     "end_time": "2021-09-22T16:42:49.981012Z",
     "start_time": "2021-09-22T16:42:49.974465Z"
    }
   },
   "outputs": [],
   "source": [
    "# class MLP(nn.Module):\n",
    "#     def __init__(self, num_features, num_hidden, num_outputs):\n",
    "#         super().__init__()\n",
    "#         self.lin1 = nn.Linear(num_features,num_hidden)\n",
    "#         self.lin2 = nn.Linear(num_hidden, num_outputs)\n",
    "        \n",
    "#     def forward(self,x):\n",
    "#         x = self.lin1(x)\n",
    "#         x = F.relu(x)\n",
    "#         x = self.lin2(x)\n",
    "#         return x"
   ]
  },
  {
   "cell_type": "code",
   "execution_count": 13,
   "id": "6bc6177e",
   "metadata": {
    "ExecuteTime": {
     "end_time": "2021-09-22T16:42:49.990162Z",
     "start_time": "2021-09-22T16:42:49.982384Z"
    }
   },
   "outputs": [],
   "source": [
    "# model = MLP(num_features,num_hidden,num_classes)"
   ]
  },
  {
   "cell_type": "markdown",
   "id": "bc7bd2da",
   "metadata": {},
   "source": [
    "### 2. Secuencial"
   ]
  },
  {
   "cell_type": "code",
   "execution_count": 14,
   "id": "02b2486c",
   "metadata": {
    "ExecuteTime": {
     "end_time": "2021-09-22T16:42:49.998281Z",
     "start_time": "2021-09-22T16:42:49.991506Z"
    }
   },
   "outputs": [],
   "source": [
    "model = nn.Sequential(\n",
    "    nn.Linear(num_features,num_hidden),\n",
    "    nn.ReLU(),\n",
    "    nn.Linear(num_hidden, num_classes)\n",
    ")"
   ]
  },
  {
   "cell_type": "code",
   "execution_count": 15,
   "id": "133c614a",
   "metadata": {
    "ExecuteTime": {
     "end_time": "2021-09-22T16:42:50.015549Z",
     "start_time": "2021-09-22T16:42:50.008444Z"
    }
   },
   "outputs": [],
   "source": [
    "loss_func = F.cross_entropy"
   ]
  },
  {
   "cell_type": "code",
   "execution_count": 16,
   "id": "ec7e452b",
   "metadata": {
    "ExecuteTime": {
     "end_time": "2021-09-22T16:42:52.884480Z",
     "start_time": "2021-09-22T16:42:50.017053Z"
    }
   },
   "outputs": [],
   "source": [
    "model = model.to(DEVICE)\n",
    "\n",
    "opt = optim.SGD(model.parameters(),lr = lr)"
   ]
  },
  {
   "cell_type": "markdown",
   "id": "82f707f6",
   "metadata": {},
   "source": [
    "La siguiente es una función para simplificar el proceso de training, llamando una sóla función cuando se desea calcular el loss en la etapa de training, y en loss y el accuracy en la etapa de validación."
   ]
  },
  {
   "cell_type": "code",
   "execution_count": 18,
   "id": "35982397",
   "metadata": {
    "ExecuteTime": {
     "end_time": "2021-09-22T16:42:53.628557Z",
     "start_time": "2021-09-22T16:42:53.613263Z"
    }
   },
   "outputs": [],
   "source": [
    "def loss_acc_batch(x,y, acc = None):\n",
    "    yp = model(x.to(DEVICE))\n",
    "    yt = y.to(DEVICE).long() # .long() porque espera un entero tipo long\n",
    "    loss = loss_func(yp, yt)\n",
    "    out = [loss, len(x)]\n",
    "    \n",
    "    if acc is not None:\n",
    "        y_pred = torch.argmax(model(x.to(DEVICE)), 1) \n",
    "        accuracy = (y_pred == yt).float().mean().item()\n",
    "        out.append(accuracy)#nar todas las palabras de nuestro vocabulario a un índice correspondiente. Podemos hacerlo de la siguiente\n",
    "    return out"
   ]
  },
  {
   "cell_type": "code",
   "execution_count": 25,
   "id": "46606095",
   "metadata": {
    "ExecuteTime": {
     "end_time": "2021-09-22T16:42:53.643444Z",
     "start_time": "2021-09-22T16:42:53.630326Z"
    }
   },
   "outputs": [],
   "source": [
    "def train():\n",
    "    \n",
    "    train_losses = []\n",
    "    valid_losses = []\n",
    "    for epoch in range(NUM_EPOCHS):\n",
    "        model.train() # importante para activar ciertas funciones como dropout, batchnormalization, etc.\n",
    "        losses = 0\n",
    "        nums = 0\n",
    "        for x, y in train_dl:\n",
    "            loss, l = loss_acc_batch(x,y)\n",
    "            loss.backward()\n",
    "            opt.step()\n",
    "            opt.zero_grad()\n",
    "            \n",
    "            losses += loss.item() * l\n",
    "            nums += l\n",
    "        train_loss = losses / nums\n",
    "        train_losses.append(train_loss)\n",
    "        \n",
    "        model.eval()  #importante para desactivar ciertas funciones como dropout, batchnormalization, etc.\n",
    "        with torch.no_grad():\n",
    "            losses, nums, accs = zip(*[loss_acc_batch(xb, yb, acc=True) for xb, yb in valid_dl]) #loMulLog_neuron_1ss_acc_batch\n",
    "        losses = [l.item() for l in losses]\n",
    "        valid_loss = np.sum(np.multiply(losses,nums)) / np.sum(nums)\n",
    "        valid_losses.append(valid_loss)\n",
    "        \n",
    "        valid_acc = np.sum(np.multiply(accs,nums)) / np.sum(nums)\n",
    "        \n",
    "        if epoch % 10 == 0:\n",
    "            print(f\"epoch: {epoch},    train_loss: {train_loss:.4f} \\\n",
    "            valid_loss: {valid_loss:.4f}, valid_acc: {valid_acc:.4f}\")\n",
    "    \n",
    "    plt.plot(range(NUM_EPOCHS), train_losses, 'r', label='train')\n",
    "    plt.plot(range(NUM_EPOCHS), valid_losses, 'b', label = 'valid')\n",
    "    plt.legend()"
   ]
  },
  {
   "cell_type": "code",
   "execution_count": 26,
   "id": "99ed83ed",
   "metadata": {
    "ExecuteTime": {
     "end_time": "2021-09-22T16:42:56.600341Z",
     "start_time": "2021-09-22T16:42:53.644978Z"
    }
   },
   "outputs": [
    {
     "name": "stdout",
     "output_type": "stream",
     "text": [
      "epoch: 0,    train_loss: 0.4309             valid_loss: 0.3847, valid_acc: 0.9130\n",
      "epoch: 10,    train_loss: 0.1578             valid_loss: 0.1729, valid_acc: 0.9500\n",
      "epoch: 20,    train_loss: 0.1056             valid_loss: 0.1344, valid_acc: 0.9667\n",
      "epoch: 30,    train_loss: 0.0783             valid_loss: 0.1189, valid_acc: 0.9704\n",
      "epoch: 40,    train_loss: 0.0625             valid_loss: 0.1105, valid_acc: 0.9741\n",
      "epoch: 50,    train_loss: 0.0494             valid_loss: 0.1115, valid_acc: 0.9704\n",
      "epoch: 60,    train_loss: 0.0425             valid_loss: 0.0994, valid_acc: 0.9778\n",
      "epoch: 70,    train_loss: 0.0350             valid_loss: 0.1001, valid_acc: 0.9741\n",
      "epoch: 80,    train_loss: 0.0294             valid_loss: 0.0931, valid_acc: 0.9741\n",
      "epoch: 90,    train_loss: 0.0265             valid_loss: 0.0928, valid_acc: 0.9741\n"
     ]
    },
    {
     "data": {
      "image/png": "[encoded data removed]",
      "text/plain": [
       "<Figure size 640x480 with 1 Axes>"
      ]
     },
     "metadata": {},
     "output_type": "display_data"
    }
   ],
   "source": [
    "train()"
   ]
  },
  {
   "cell_type": "markdown",
   "id": "88d53f3c",
   "metadata": {},
   "source": [
    "## Ejercicio"
   ]
  },
  {
   "cell_type": "markdown",
   "id": "4e9bf0f8",
   "metadata": {},
   "source": [
    "Use un MLP (pruebe configuración de capas ocultas) para clasificar el problema de los tweets del primer taller (son 4 clases), usando los vectores obtenidos del word2vec. Evalúe los resultados."
   ]
  }
 ],
 "metadata": {
  "kernelspec": {
   "display_name": "Python 3.8.15 ('nlp-env')",
   "language": "python",
   "name": "python3"
  },
  "language_info": {
   "codemirror_mode": {
    "name": "ipython",
    "version": 3
   },
   "file_extension": ".py",
   "mimetype": "text/x-python",
   "name": "python",
   "nbconvert_exporter": "python",
   "pygments_lexer": "ipython3",
   "version": "3.8.15"
  },
  "nbTranslate": {
   "displayLangs": [
    "*"
   ],
   "hotkey": "alt-t",
   "langInMainMenu": true,
   "sourceLang": "en",
   "targetLang": "fr",
   "useGoogleTranslate": true
  },
  "vscode": {
   "interpreter": {
    "hash": "cf856c288227c1985b5319abfa2c7eaa1df0528794ab1c4cb755b7b4904e1cb5"
   }
  }
 },
 "nbformat": 4,
 "nbformat_minor": 5
}
