{
 "cells": [
  {
   "cell_type": "markdown",
   "id": "b25345f8",
   "metadata": {},
   "source": [
    "# Una corta introducción a PyTorch"
   ]
  },
  {
   "cell_type": "markdown",
   "id": "e8ce5d10",
   "metadata": {},
   "source": [
    "### Instalación"
   ]
  },
  {
   "cell_type": "markdown",
   "id": "ac61b6f3",
   "metadata": {},
   "source": [
    "Antes que nada, para aprender las bases de PyTorch (e incluso para redes MLP) no es necesario una GPU, así que podemos instalar la librería en nuestro ambiente de conda. O la otra opción, muy práctica y potente es usar https://colab.research.google.com/\n",
    "\n",
    "Si queremos instalar en nuestro equipo (sin GPU) basta con ir a pytorch.org y allí encontrarán la instrucción básica. Yo he usado la siguiente:\n",
    "\n",
    "![](img/pytorch_install_cpu.png)"
   ]
  },
  {
   "cell_type": "markdown",
   "id": "2afcc44b",
   "metadata": {},
   "source": [
    "## Cuestiones básicas de PyTorch"
   ]
  },
  {
   "cell_type": "markdown",
   "id": "038518ac",
   "metadata": {
    "lang": "es"
   },
   "source": [
    "#### ¿Cuál es la diferencia entre los arrays de numpy y pytorch?\n",
    "\n",
    "1. Los array de numpy son la funcionalidad principal de numpy y son diseñados para admitir operaciones matemáticas más rápidas. A diferencia de la estructura de datos de lista incorporada de Python, solo pueden contener elementos de un solo tipo de datos. La librería como pandas que se usa para el preprocesamiento de datos se construye alrededor del array de numpy. Los tensores Pytorch son similares a los array de numpy, pero también se pueden operar en una GPU Nvidia compatible con CUDA.\n",
    "2. Los array de Numpy se utilizan principalmente en algoritmos típicos de aprendizaje automático (como k-means o Decision Tree en scikit-learn), mientras que los tensores de pytorch se utilizan principalmente en deep learning  que requiere un cálculo matricial pesado.\n",
    "\n",
    "3. A diferencia de los arrays de numpy, mientras se crea el tensor de pytorch, también acepta otros dos argumentos llamados `device_type`(si el cálculo ocurre en la CPU o GPU) y `requires_grad` (que se usa para calcular las derivadas automáticamente)."
   ]
  },
  {
   "cell_type": "code",
   "execution_count": 1,
   "id": "1abb069b",
   "metadata": {
    "ExecuteTime": {
     "end_time": "2022-02-23T12:50:04.731260Z",
     "start_time": "2022-02-23T12:50:03.395167Z"
    }
   },
   "outputs": [],
   "source": [
    "import numpy as np\n",
    "import torch\n",
    "from numpy import array\n",
    "from torch import tensor\n",
    "\n",
    "import matplotlib.pyplot as plt\n",
    "%matplotlib inline"
   ]
  },
  {
   "cell_type": "markdown",
   "id": "be4e803f",
   "metadata": {},
   "source": [
    "#### Arrays de numpy"
   ]
  },
  {
   "cell_type": "code",
   "execution_count": 2,
   "id": "1db65f14",
   "metadata": {
    "ExecuteTime": {
     "end_time": "2022-02-23T12:50:07.588550Z",
     "start_time": "2022-02-23T12:50:07.576857Z"
    },
    "scrolled": true
   },
   "outputs": [
    {
     "name": "stdout",
     "output_type": "stream",
     "text": [
      "[1 2 3]\n",
      "<class 'numpy.ndarray'> int64\n",
      "[[0.26461161 0.27754175 0.79427124]\n",
      " [0.75524405 0.62581202 0.65705126]\n",
      " [0.69021281 0.64113486 0.09589059]]\n",
      "<class 'numpy.ndarray'> float64\n"
     ]
    }
   ],
   "source": [
    "a1 = array([1,2,3])\n",
    "a2 = np.random.rand(3,3)\n",
    "\n",
    "print(a1)\n",
    "print(type(a1),a1.dtype)\n",
    "print(a2)\n",
    "print(type(a2),a2.dtype)\n"
   ]
  },
  {
   "cell_type": "markdown",
   "id": "95d51560",
   "metadata": {},
   "source": [
    "#### Tensores de pytorch"
   ]
  },
  {
   "cell_type": "code",
   "execution_count": 3,
   "id": "a7481b88",
   "metadata": {
    "ExecuteTime": {
     "end_time": "2022-02-23T12:50:09.815829Z",
     "start_time": "2022-02-23T12:50:09.768968Z"
    }
   },
   "outputs": [
    {
     "name": "stdout",
     "output_type": "stream",
     "text": [
      "tensor([1, 2, 3])\n",
      "<class 'torch.Tensor'> torch.int64\n",
      "tensor([[0.9038, 0.6596, 0.3482],\n",
      "        [0.5571, 0.6842, 0.7765],\n",
      "        [0.4726, 0.7765, 0.5907]])\n",
      "<class 'torch.Tensor'> torch.float32\n"
     ]
    }
   ],
   "source": [
    "t1 = tensor([1,2,3])\n",
    "t2 = torch.rand(3,3)\n",
    "print(t1)\n",
    "print(type(t1),t1.dtype)\n",
    "print(t2)\n",
    "print(type(t2),t2.dtype)"
   ]
  },
  {
   "cell_type": "markdown",
   "id": "201bf3fa",
   "metadata": {},
   "source": [
    "Se puede convertir muy fácil un array de numpy a un tensor de pytorch:"
   ]
  },
  {
   "cell_type": "code",
   "execution_count": 4,
   "id": "fee09000",
   "metadata": {
    "ExecuteTime": {
     "end_time": "2022-02-23T12:50:11.260217Z",
     "start_time": "2022-02-23T12:50:11.256713Z"
    }
   },
   "outputs": [
    {
     "name": "stdout",
     "output_type": "stream",
     "text": [
      "tensor([1, 2, 3])\n",
      "<class 'torch.Tensor'> torch.int64\n"
     ]
    }
   ],
   "source": [
    "t3 = tensor(a1)\n",
    "print(t3)\n",
    "print(type(t3),t3.dtype)"
   ]
  },
  {
   "cell_type": "markdown",
   "id": "d99af0af",
   "metadata": {},
   "source": [
    "Y un tensor de pytorch a un array de numpy, también es muy fácil:"
   ]
  },
  {
   "cell_type": "code",
   "execution_count": 5,
   "id": "f5168d91",
   "metadata": {
    "ExecuteTime": {
     "end_time": "2022-02-23T12:50:13.107853Z",
     "start_time": "2022-02-23T12:50:13.104519Z"
    }
   },
   "outputs": [
    {
     "name": "stdout",
     "output_type": "stream",
     "text": [
      "[1 2 3]\n",
      "<class 'numpy.ndarray'> int64\n"
     ]
    }
   ],
   "source": [
    "a3 = t1.numpy()\n",
    "print(a3)\n",
    "print(type(a3),a3.dtype)"
   ]
  },
  {
   "cell_type": "markdown",
   "id": "6e6447bb",
   "metadata": {},
   "source": [
    "El tamaño (shape)  en numpy y pytorch es igual!"
   ]
  },
  {
   "cell_type": "code",
   "execution_count": 6,
   "id": "401c9f25",
   "metadata": {
    "ExecuteTime": {
     "end_time": "2022-02-23T12:50:15.011637Z",
     "start_time": "2022-02-23T12:50:15.008689Z"
    }
   },
   "outputs": [
    {
     "name": "stdout",
     "output_type": "stream",
     "text": [
      "(3,)\n",
      "torch.Size([3])\n"
     ]
    }
   ],
   "source": [
    "print(a1.shape)\n",
    "print(t1.shape)"
   ]
  },
  {
   "cell_type": "code",
   "execution_count": 7,
   "id": "97cf3e0c",
   "metadata": {
    "ExecuteTime": {
     "end_time": "2022-02-23T12:50:16.363251Z",
     "start_time": "2022-02-23T12:50:16.360699Z"
    }
   },
   "outputs": [
    {
     "name": "stdout",
     "output_type": "stream",
     "text": [
      "(3, 3)\n",
      "torch.Size([3, 3])\n"
     ]
    }
   ],
   "source": [
    "print(a2.shape)\n",
    "print(t2.shape)"
   ]
  },
  {
   "cell_type": "markdown",
   "id": "723d3a3a",
   "metadata": {},
   "source": [
    "El número de dimensiones es casi igual:"
   ]
  },
  {
   "cell_type": "code",
   "execution_count": 8,
   "id": "f9e956fa",
   "metadata": {
    "ExecuteTime": {
     "end_time": "2022-02-23T12:50:18.015641Z",
     "start_time": "2022-02-23T12:50:18.012585Z"
    }
   },
   "outputs": [
    {
     "name": "stdout",
     "output_type": "stream",
     "text": [
      "2\n",
      "2\n"
     ]
    }
   ],
   "source": [
    "print(a2.ndim) # numpy\n",
    "print(t2.dim()) # pytorch"
   ]
  },
  {
   "cell_type": "markdown",
   "id": "af59c5a6",
   "metadata": {},
   "source": [
    "Cambio de shape en numpy:"
   ]
  },
  {
   "cell_type": "code",
   "execution_count": 9,
   "id": "e5b7f8aa",
   "metadata": {
    "ExecuteTime": {
     "end_time": "2022-02-23T12:50:20.017602Z",
     "start_time": "2022-02-23T12:50:20.011617Z"
    }
   },
   "outputs": [
    {
     "name": "stdout",
     "output_type": "stream",
     "text": [
      "[0 1 2 3 4 5 6 7 8]\n"
     ]
    },
    {
     "data": {
      "text/plain": [
       "array([[0, 1, 2],\n",
       "       [3, 4, 5],\n",
       "       [6, 7, 8]])"
      ]
     },
     "execution_count": 9,
     "metadata": {},
     "output_type": "execute_result"
    }
   ],
   "source": [
    "a4 = np.arange(9)\n",
    "print(a4)\n",
    "a4.reshape(3,3)"
   ]
  },
  {
   "cell_type": "markdown",
   "id": "09991f57",
   "metadata": {},
   "source": [
    "Cambio de shape en pytorch:"
   ]
  },
  {
   "cell_type": "code",
   "execution_count": 10,
   "id": "1a3b0a85",
   "metadata": {
    "ExecuteTime": {
     "end_time": "2022-02-23T12:50:21.806094Z",
     "start_time": "2022-02-23T12:50:21.792600Z"
    }
   },
   "outputs": [
    {
     "name": "stdout",
     "output_type": "stream",
     "text": [
      "tensor([0, 1, 2, 3, 4, 5, 6, 7, 8])\n"
     ]
    },
    {
     "data": {
      "text/plain": [
       "tensor([[0, 1, 2],\n",
       "        [3, 4, 5],\n",
       "        [6, 7, 8]])"
      ]
     },
     "execution_count": 10,
     "metadata": {},
     "output_type": "execute_result"
    }
   ],
   "source": [
    "t4 = torch.arange(9)\n",
    "print(t4)\n",
    "t4.reshape(3,3)"
   ]
  },
  {
   "cell_type": "code",
   "execution_count": 11,
   "id": "6d46d61f",
   "metadata": {
    "ExecuteTime": {
     "end_time": "2022-02-23T12:50:23.730179Z",
     "start_time": "2022-02-23T12:50:23.718971Z"
    }
   },
   "outputs": [
    {
     "data": {
      "text/plain": [
       "tensor([[0, 1, 2],\n",
       "        [3, 4, 5],\n",
       "        [6, 7, 8]])"
      ]
     },
     "execution_count": 11,
     "metadata": {},
     "output_type": "execute_result"
    }
   ],
   "source": [
    "t4.view(3,3)"
   ]
  },
  {
   "cell_type": "markdown",
   "id": "338336fb",
   "metadata": {},
   "source": [
    "Añadir una dimensión en numpy:"
   ]
  },
  {
   "cell_type": "code",
   "execution_count": 12,
   "id": "eb08dcfd",
   "metadata": {
    "ExecuteTime": {
     "end_time": "2022-02-23T12:50:25.995349Z",
     "start_time": "2022-02-23T12:50:25.991772Z"
    }
   },
   "outputs": [
    {
     "name": "stdout",
     "output_type": "stream",
     "text": [
      "(3,)\n",
      "(1, 3)\n",
      "(1, 3)\n"
     ]
    }
   ],
   "source": [
    "print(a1.shape)\n",
    "print(np.expand_dims(a1,axis=0).shape)\n",
    "print(a1.reshape(1,-1).shape)"
   ]
  },
  {
   "cell_type": "markdown",
   "id": "23dc4a5a",
   "metadata": {},
   "source": [
    "Añadir una dimensión en torch:"
   ]
  },
  {
   "cell_type": "code",
   "execution_count": 13,
   "id": "df54bcb9",
   "metadata": {
    "ExecuteTime": {
     "end_time": "2022-02-23T12:50:28.049962Z",
     "start_time": "2022-02-23T12:50:28.039359Z"
    }
   },
   "outputs": [
    {
     "name": "stdout",
     "output_type": "stream",
     "text": [
      "torch.Size([3])\n",
      "torch.Size([1, 3])\n",
      "torch.Size([1, 3])\n"
     ]
    }
   ],
   "source": [
    "print(t1.shape)\n",
    "print(t1.unsqueeze(0).shape)\n",
    "print(t1.view(1,-1).shape)"
   ]
  },
  {
   "cell_type": "markdown",
   "id": "3baeb109",
   "metadata": {},
   "source": [
    "Recorrer (slicing) arrays de numpy y tensores de pytorch es igual"
   ]
  },
  {
   "cell_type": "code",
   "execution_count": 14,
   "id": "6d89571b",
   "metadata": {
    "ExecuteTime": {
     "end_time": "2022-02-23T12:50:30.252757Z",
     "start_time": "2022-02-23T12:50:30.239670Z"
    }
   },
   "outputs": [
    {
     "name": "stdout",
     "output_type": "stream",
     "text": [
      "tensor([[9.9900e+02, 9.9900e+02, 9.9900e+02, 9.9900e+02],\n",
      "        [7.1073e-02, 9.3472e-01, 2.3000e+01, 1.8131e-01],\n",
      "        [1.7802e-01, 5.9441e-01, 2.3000e+01, 2.3307e-01]])\n",
      "[[9.99900000e+03 9.99900000e+03 9.99900000e+03 9.99900000e+03]\n",
      " [8.58973130e-01 7.98507191e-01 2.23000000e+02 4.13628561e-01]\n",
      " [8.08916297e-01 7.06504366e-03 2.23000000e+02 9.06337480e-01]]\n"
     ]
    }
   ],
   "source": [
    "t5 = torch.rand(3, 4)\n",
    "a5 = np.random.rand(3, 4)\n",
    "\n",
    "t5[:, 2] = 23 # reemplaza cada elemento de la tercera columna por 23 \n",
    "a5[:, 2] = 223 # reemplaza cada elemento de la tercera columna por 223\n",
    "\n",
    "t5[0] = 999 # reemplaza cada elemento de la primera fila por 999\n",
    "a5[0] = 9999 # reemplaza cada elemento de la primera fila por 9999\n",
    "\n",
    "print(t5)\n",
    "print(a5)"
   ]
  },
  {
   "cell_type": "markdown",
   "id": "ece4bfc7",
   "metadata": {},
   "source": [
    "Tensores ceros, unos y aleatorios (distribución normal):"
   ]
  },
  {
   "cell_type": "code",
   "execution_count": 15,
   "id": "24dd436c",
   "metadata": {
    "ExecuteTime": {
     "end_time": "2022-02-23T12:50:31.994167Z",
     "start_time": "2022-02-23T12:50:31.989567Z"
    }
   },
   "outputs": [
    {
     "name": "stdout",
     "output_type": "stream",
     "text": [
      "[[0. 0. 0. 0.]\n",
      " [0. 0. 0. 0.]\n",
      " [0. 0. 0. 0.]\n",
      " [0. 0. 0. 0.]]\n",
      "[[1. 1. 1. 1.]\n",
      " [1. 1. 1. 1.]\n",
      " [1. 1. 1. 1.]\n",
      " [1. 1. 1. 1.]]\n",
      "[[ 0.14351584  0.42511939  0.52467271 -0.02436935]\n",
      " [ 0.49549988  0.99289138  1.44757738 -0.83640028]\n",
      " [-0.99573184  0.69058938 -0.78757832 -0.99918688]\n",
      " [-0.64689454 -1.35851855 -0.50188169  2.03546511]]\n"
     ]
    }
   ],
   "source": [
    "#Numpy\n",
    "\n",
    "zeros  = np.zeros((4, 4))\n",
    "ones   = np.ones((4, 4))\n",
    "random = np.random.randn(4, 4)\n",
    "\n",
    "print(zeros);print(ones); print(random)"
   ]
  },
  {
   "cell_type": "code",
   "execution_count": 16,
   "id": "2d215b7a",
   "metadata": {
    "ExecuteTime": {
     "end_time": "2022-02-23T12:50:33.918411Z",
     "start_time": "2022-02-23T12:50:33.903724Z"
    }
   },
   "outputs": [
    {
     "name": "stdout",
     "output_type": "stream",
     "text": [
      "tensor([[0., 0., 0., 0.],\n",
      "        [0., 0., 0., 0.],\n",
      "        [0., 0., 0., 0.],\n",
      "        [0., 0., 0., 0.]])\n",
      "tensor([[1., 1., 1., 1.],\n",
      "        [1., 1., 1., 1.],\n",
      "        [1., 1., 1., 1.],\n",
      "        [1., 1., 1., 1.]])\n",
      "tensor([[-0.5097,  0.5267, -1.4967, -0.6202],\n",
      "        [ 1.2810, -2.1684,  1.1418,  0.1682],\n",
      "        [ 0.0468, -0.1724, -0.9655,  0.1437],\n",
      "        [-1.6234, -0.8607,  1.8971,  0.3972]])\n"
     ]
    }
   ],
   "source": [
    "# PyTorch\n",
    "\n",
    "tzeros  = torch.zeros(4, 4)\n",
    "tones   = torch.ones(4, 4)\n",
    "trandom = torch.randn(4, 4)\n",
    "\n",
    "print(tzeros);print(tones); print(trandom)"
   ]
  },
  {
   "cell_type": "markdown",
   "id": "811f0c1f",
   "metadata": {},
   "source": [
    "#### Álgebra Simple"
   ]
  },
  {
   "cell_type": "markdown",
   "id": "61040a6a",
   "metadata": {},
   "source": [
    "De Álgebra hay muchas instrucciones y formas (por ejemplo  `np.dot()`es equivalente a `torch.mm()`), sin embargo aquí veremos las más simples (pero tampoco las obvias como la suma `+`, resta `-` y la multiplicación elemento a elemento `*` que es igual). "
   ]
  },
  {
   "cell_type": "markdown",
   "id": "c7e11850",
   "metadata": {},
   "source": [
    "**Multiplicación de matrices**"
   ]
  },
  {
   "cell_type": "markdown",
   "id": "c3d56724",
   "metadata": {},
   "source": [
    "Numpy"
   ]
  },
  {
   "cell_type": "code",
   "execution_count": 17,
   "id": "9aa7056b",
   "metadata": {
    "ExecuteTime": {
     "end_time": "2022-02-23T12:50:36.772677Z",
     "start_time": "2022-02-23T12:50:36.759332Z"
    }
   },
   "outputs": [
    {
     "data": {
      "text/plain": [
       "array([3.20250883, 3.97802186, 2.26015431])"
      ]
     },
     "execution_count": 17,
     "metadata": {},
     "output_type": "execute_result"
    }
   ],
   "source": [
    "a2 @ a1 "
   ]
  },
  {
   "cell_type": "markdown",
   "id": "313b6ab6",
   "metadata": {},
   "source": [
    "PyTorch"
   ]
  },
  {
   "cell_type": "code",
   "execution_count": 18,
   "id": "16d948c5",
   "metadata": {
    "ExecuteTime": {
     "end_time": "2022-02-23T12:50:38.978051Z",
     "start_time": "2022-02-23T12:50:38.965791Z"
    }
   },
   "outputs": [
    {
     "data": {
      "text/plain": [
       "tensor([3.2676, 4.2550, 3.7976])"
      ]
     },
     "execution_count": 18,
     "metadata": {},
     "output_type": "execute_result"
    }
   ],
   "source": [
    "t2 @ t1.float() # hay que cambiar a tipos equivalentes"
   ]
  },
  {
   "cell_type": "markdown",
   "id": "f4681359",
   "metadata": {},
   "source": [
    "Determinantes"
   ]
  },
  {
   "cell_type": "code",
   "execution_count": 19,
   "id": "a84231f0",
   "metadata": {
    "ExecuteTime": {
     "end_time": "2022-02-23T12:50:41.226682Z",
     "start_time": "2022-02-23T12:50:41.212683Z"
    }
   },
   "outputs": [
    {
     "data": {
      "text/plain": [
       "0.051692563751665706"
      ]
     },
     "execution_count": 19,
     "metadata": {},
     "output_type": "execute_result"
    }
   ],
   "source": [
    "np.linalg.det(a2) # numpy"
   ]
  },
  {
   "cell_type": "code",
   "execution_count": 20,
   "id": "b6ec7c27",
   "metadata": {
    "ExecuteTime": {
     "end_time": "2022-02-23T12:50:42.939246Z",
     "start_time": "2022-02-23T12:50:42.924449Z"
    }
   },
   "outputs": [
    {
     "data": {
      "text/plain": [
       "tensor(-0.1167)"
      ]
     },
     "execution_count": 20,
     "metadata": {},
     "output_type": "execute_result"
    }
   ],
   "source": [
    "torch.det(t2) # pytorch"
   ]
  },
  {
   "cell_type": "markdown",
   "id": "f642489c",
   "metadata": {},
   "source": [
    "**Inversa de una matriz**\n",
    "\n",
    "Numpy"
   ]
  },
  {
   "cell_type": "code",
   "execution_count": 21,
   "id": "6591bedf",
   "metadata": {
    "ExecuteTime": {
     "end_time": "2022-02-23T12:50:45.502315Z",
     "start_time": "2022-02-23T12:50:45.487456Z"
    }
   },
   "outputs": [
    {
     "data": {
      "text/plain": [
       "array([[ -6.98841286,   9.33637837,  -6.0880194 ],\n",
       "       [  7.37213186, -10.11446105,   8.24113186],\n",
       "       [  1.01116693,   0.42387421,  -0.85146925]])"
      ]
     },
     "execution_count": 21,
     "metadata": {},
     "output_type": "execute_result"
    }
   ],
   "source": [
    "np.linalg.inv(a2)"
   ]
  },
  {
   "cell_type": "code",
   "execution_count": 22,
   "id": "9dc113be",
   "metadata": {
    "ExecuteTime": {
     "end_time": "2022-02-23T12:50:47.196489Z",
     "start_time": "2022-02-23T12:50:47.175195Z"
    }
   },
   "outputs": [
    {
     "data": {
      "text/plain": [
       "array([[ -6.98841286,   9.33637837,  -6.0880194 ],\n",
       "       [  7.37213186, -10.11446105,   8.24113186],\n",
       "       [  1.01116693,   0.42387421,  -0.85146925]])"
      ]
     },
     "execution_count": 22,
     "metadata": {},
     "output_type": "execute_result"
    }
   ],
   "source": [
    "np.linalg.pinv(a2)"
   ]
  },
  {
   "cell_type": "markdown",
   "id": "8de7a8fc",
   "metadata": {},
   "source": [
    "Pytorch"
   ]
  },
  {
   "cell_type": "code",
   "execution_count": 23,
   "id": "4d675a93",
   "metadata": {
    "ExecuteTime": {
     "end_time": "2022-02-23T12:50:49.096766Z",
     "start_time": "2022-02-23T12:50:49.084837Z"
    }
   },
   "outputs": [
    {
     "data": {
      "text/plain": [
       "tensor([[ 1.7043,  1.0225, -2.3488],\n",
       "        [-0.3250, -3.1662,  4.3537],\n",
       "        [-0.9363,  3.3438, -2.1509]])"
      ]
     },
     "execution_count": 23,
     "metadata": {},
     "output_type": "execute_result"
    }
   ],
   "source": [
    "t2.inverse() # o torch.inverse(t2)"
   ]
  },
  {
   "cell_type": "code",
   "execution_count": 24,
   "id": "0f3a3177",
   "metadata": {
    "ExecuteTime": {
     "end_time": "2022-02-23T12:50:51.193663Z",
     "start_time": "2022-02-23T12:50:51.174586Z"
    }
   },
   "outputs": [
    {
     "data": {
      "text/plain": [
       "tensor([[ 1.7043,  1.0225, -2.3488],\n",
       "        [-0.3250, -3.1662,  4.3537],\n",
       "        [-0.9363,  3.3438, -2.1509]])"
      ]
     },
     "execution_count": 24,
     "metadata": {},
     "output_type": "execute_result"
    }
   ],
   "source": [
    "t2.pinverse() # o torch.pinverse(t2)"
   ]
  },
  {
   "cell_type": "markdown",
   "id": "ad9fd9fe",
   "metadata": {},
   "source": [
    "**Transpuesta**"
   ]
  },
  {
   "cell_type": "code",
   "execution_count": 25,
   "id": "ce1eec15",
   "metadata": {
    "ExecuteTime": {
     "end_time": "2022-02-23T12:50:53.274462Z",
     "start_time": "2022-02-23T12:50:53.271230Z"
    }
   },
   "outputs": [
    {
     "data": {
      "text/plain": [
       "array([[0.26461161, 0.75524405, 0.69021281],\n",
       "       [0.27754175, 0.62581202, 0.64113486],\n",
       "       [0.79427124, 0.65705126, 0.09589059]])"
      ]
     },
     "execution_count": 25,
     "metadata": {},
     "output_type": "execute_result"
    }
   ],
   "source": [
    "# Numpy\n",
    "a2.T # o a2.transpose(1,0)"
   ]
  },
  {
   "cell_type": "code",
   "execution_count": 26,
   "id": "b1a45a86",
   "metadata": {
    "ExecuteTime": {
     "end_time": "2022-02-23T12:50:55.530394Z",
     "start_time": "2022-02-23T12:50:55.526631Z"
    }
   },
   "outputs": [
    {
     "data": {
      "text/plain": [
       "tensor([[0.9038, 0.5571, 0.4726],\n",
       "        [0.6596, 0.6842, 0.7765],\n",
       "        [0.3482, 0.7765, 0.5907]])"
      ]
     },
     "execution_count": 26,
     "metadata": {},
     "output_type": "execute_result"
    }
   ],
   "source": [
    "#Pytorch\n",
    "t2.t() # o t2.transpose(1,0)"
   ]
  },
  {
   "cell_type": "markdown",
   "id": "0372df20",
   "metadata": {},
   "source": [
    "**Otras operaciones**"
   ]
  },
  {
   "cell_type": "markdown",
   "id": "7a0f345d",
   "metadata": {},
   "source": [
    "Numpy"
   ]
  },
  {
   "cell_type": "code",
   "execution_count": 27,
   "id": "4ab4cb97",
   "metadata": {
    "ExecuteTime": {
     "end_time": "2022-02-23T12:50:57.786111Z",
     "start_time": "2022-02-23T12:50:57.782624Z"
    }
   },
   "outputs": [
    {
     "name": "stdout",
     "output_type": "stream",
     "text": [
      "6\n",
      "2.0\n",
      "0.816496580927726\n"
     ]
    }
   ],
   "source": [
    "# Sum\n",
    "print( a1.sum() )\n",
    "\n",
    "# Mean\n",
    "print( a1.mean() )\n",
    "\n",
    "# Standard Deviation\n",
    "print( a1.std() )"
   ]
  },
  {
   "cell_type": "markdown",
   "id": "d43fc91a",
   "metadata": {},
   "source": [
    "Pytorch"
   ]
  },
  {
   "cell_type": "code",
   "execution_count": 28,
   "id": "5dee2f97",
   "metadata": {
    "ExecuteTime": {
     "end_time": "2022-02-23T12:50:59.483517Z",
     "start_time": "2022-02-23T12:50:59.471211Z"
    }
   },
   "outputs": [
    {
     "name": "stdout",
     "output_type": "stream",
     "text": [
      "tensor(6)\n",
      "tensor(2.)\n",
      "tensor(1.)\n"
     ]
    }
   ],
   "source": [
    "# Sum\n",
    "print( t1.sum() )\n",
    "\n",
    "# Mean\n",
    "print( t1.float().mean() ) # Solo soporta el typo float()\n",
    "\n",
    "# Standard Deviation\n",
    "print( t1.float().std() ) # Solo soporta el typo float()\n"
   ]
  },
  {
   "cell_type": "code",
   "execution_count": 14,
   "id": "60ceb46f",
   "metadata": {},
   "outputs": [
    {
     "data": {
      "text/plain": [
       "tensor(1.)"
      ]
     },
     "execution_count": 14,
     "metadata": {},
     "output_type": "execute_result"
    }
   ],
   "source": [
    "tt = tensor([1.,2.,3.])\n",
    "((tt - tt.mean())**2).sum()/2"
   ]
  },
  {
   "cell_type": "markdown",
   "id": "5cb6636d",
   "metadata": {},
   "source": [
    "Pueden encontrar muchos más métodos y propiedades en https://pytorch.org/docs/stable/tensors.html (por ejemplo, pasar un tensor a la GPU)"
   ]
  },
  {
   "cell_type": "markdown",
   "id": "78dbb647",
   "metadata": {},
   "source": [
    "### Calculando gradientes automáticamente con PyTorch"
   ]
  },
  {
   "cell_type": "markdown",
   "id": "703b11be",
   "metadata": {},
   "source": [
    "Este es uno de los más grandes poderes de pytorch (además de poder usar GPUs).  Veamos este fantástico proceso con ejemplos sencillos"
   ]
  },
  {
   "cell_type": "markdown",
   "id": "a880a8c3",
   "metadata": {},
   "source": [
    "Creemos una función:"
   ]
  },
  {
   "cell_type": "code",
   "execution_count": 29,
   "id": "4f5944b7",
   "metadata": {
    "ExecuteTime": {
     "end_time": "2022-02-23T12:51:02.417989Z",
     "start_time": "2022-02-23T12:51:02.415711Z"
    }
   },
   "outputs": [],
   "source": [
    "def f(x): return x**2"
   ]
  },
  {
   "cell_type": "markdown",
   "id": "5d97a24e",
   "metadata": {},
   "source": [
    "Ahora definamos un tensor pero con un método especial:"
   ]
  },
  {
   "cell_type": "code",
   "execution_count": 30,
   "id": "b7a90112",
   "metadata": {
    "ExecuteTime": {
     "end_time": "2022-02-23T12:51:03.602136Z",
     "start_time": "2022-02-23T12:51:03.599826Z"
    }
   },
   "outputs": [],
   "source": [
    "x = tensor(3.).requires_grad_()"
   ]
  },
  {
   "cell_type": "markdown",
   "id": "23302e23",
   "metadata": {},
   "source": [
    "Este método `requires_grad_` (cuidado con el _ ) le dice a PyTorch que calcule los gradientes con respecto a la variable en ese valor particular. Básicamente se trata de etiquetar la variable, por lo que PyTorch recordará realizar un seguimiento de cómo calcular los gradientes del otro, los cálculos directos que usted le solicitará."
   ]
  },
  {
   "cell_type": "markdown",
   "id": "f0eea132",
   "metadata": {},
   "source": [
    "Ahora calculemos la salida de la función respecto a ese valor particular:"
   ]
  },
  {
   "cell_type": "code",
   "execution_count": 31,
   "id": "6594419d",
   "metadata": {
    "ExecuteTime": {
     "end_time": "2022-02-23T12:51:41.572110Z",
     "start_time": "2022-02-23T12:51:41.560663Z"
    }
   },
   "outputs": [
    {
     "data": {
      "text/plain": [
       "tensor(9., grad_fn=<PowBackward0>)"
      ]
     },
     "execution_count": 31,
     "metadata": {},
     "output_type": "execute_result"
    }
   ],
   "source": [
    "y = f(x)\n",
    "y"
   ]
  },
  {
   "cell_type": "markdown",
   "id": "7b22bb1f",
   "metadata": {},
   "source": [
    "Pytorch no solo ha calculado el valor de salida, sino también muestra que tiene una función para calcular el gradiente cuando lo necesite."
   ]
  },
  {
   "cell_type": "markdown",
   "id": "e1bd78e0",
   "metadata": {},
   "source": [
    "Ahora calculemos el gradiente:"
   ]
  },
  {
   "cell_type": "code",
   "execution_count": 32,
   "id": "b798a2b6",
   "metadata": {
    "ExecuteTime": {
     "end_time": "2022-02-23T12:51:43.964994Z",
     "start_time": "2022-02-23T12:51:43.919513Z"
    }
   },
   "outputs": [],
   "source": [
    "y.backward()"
   ]
  },
  {
   "cell_type": "markdown",
   "id": "a766d691",
   "metadata": {},
   "source": [
    "El \"backward\" aquí se refiere a al *backpropagation*, que es el nombre que se le da al proceso de cálculo de la derivada de cada capa. Esto se denomina \"paso hacía atras\" (backward pass) de la red, a diferencia del \"paso hacia adelante\" (forward pass), que es donde se calculan las activaciones. \n",
    "\n",
    "Ahora miremos el cálculo del gradiente mediante el atributo `grad`del tensor (si, almacena el gradiente de *f* respecto a *x* en el tensor *x*)."
   ]
  },
  {
   "cell_type": "code",
   "execution_count": 33,
   "id": "a30eaec2",
   "metadata": {
    "ExecuteTime": {
     "end_time": "2022-02-23T12:51:45.179701Z",
     "start_time": "2022-02-23T12:51:45.175747Z"
    },
    "scrolled": true
   },
   "outputs": [
    {
     "data": {
      "text/plain": [
       "tensor(6.)"
      ]
     },
     "execution_count": 33,
     "metadata": {},
     "output_type": "execute_result"
    }
   ],
   "source": [
    "x.grad"
   ]
  },
  {
   "cell_type": "markdown",
   "id": "1086b689",
   "metadata": {},
   "source": [
    "Que pasa si definimos un nuevo x y calculamos el gradiente:"
   ]
  },
  {
   "cell_type": "code",
   "execution_count": 34,
   "id": "f7321a0c",
   "metadata": {
    "ExecuteTime": {
     "end_time": "2022-02-23T12:51:47.209263Z",
     "start_time": "2022-02-23T12:51:47.206585Z"
    }
   },
   "outputs": [],
   "source": [
    "x = tensor(2.).requires_grad_()\n",
    "y=f(x)\n",
    "x.grad"
   ]
  },
  {
   "cell_type": "markdown",
   "id": "5d9ff5ab",
   "metadata": {},
   "source": [
    "Ahora si calculemos un verdadero gradiente (hasta ahora era una simple derivada): "
   ]
  },
  {
   "cell_type": "code",
   "execution_count": 35,
   "id": "c87cf9ec",
   "metadata": {
    "ExecuteTime": {
     "end_time": "2022-02-23T12:51:48.475410Z",
     "start_time": "2022-02-23T12:51:48.470968Z"
    }
   },
   "outputs": [
    {
     "data": {
      "text/plain": [
       "tensor([ 3.,  4., 10.], requires_grad=True)"
      ]
     },
     "execution_count": 35,
     "metadata": {},
     "output_type": "execute_result"
    }
   ],
   "source": [
    "x = tensor([3.,4.,10.], requires_grad=True) # Otra forma de indicar el calculo de gradiente\n",
    "x"
   ]
  },
  {
   "cell_type": "markdown",
   "id": "59fb3b4a",
   "metadata": {},
   "source": [
    "Redefinamos la función para que contenga un `sum()`y así retorne un escalar:"
   ]
  },
  {
   "cell_type": "code",
   "execution_count": 36,
   "id": "f919a966",
   "metadata": {
    "ExecuteTime": {
     "end_time": "2022-02-23T12:51:50.439765Z",
     "start_time": "2022-02-23T12:51:50.437482Z"
    }
   },
   "outputs": [],
   "source": [
    "def f(x): return (x**2).sum()"
   ]
  },
  {
   "cell_type": "markdown",
   "id": "cd3e3054",
   "metadata": {},
   "source": [
    "y evaluemos"
   ]
  },
  {
   "cell_type": "code",
   "execution_count": 37,
   "id": "24871029",
   "metadata": {
    "ExecuteTime": {
     "end_time": "2022-02-23T12:51:52.125705Z",
     "start_time": "2022-02-23T12:51:52.121993Z"
    }
   },
   "outputs": [
    {
     "data": {
      "text/plain": [
       "tensor(125., grad_fn=<SumBackward0>)"
      ]
     },
     "execution_count": 37,
     "metadata": {},
     "output_type": "execute_result"
    }
   ],
   "source": [
    "y = f(x)\n",
    "y"
   ]
  },
  {
   "cell_type": "markdown",
   "id": "74acfe11",
   "metadata": {},
   "source": [
    "Ahora miremos que resulta el gradiente de *f* respecto al vector *x*:"
   ]
  },
  {
   "cell_type": "code",
   "execution_count": 38,
   "id": "ca085826",
   "metadata": {
    "ExecuteTime": {
     "end_time": "2022-02-23T12:51:53.708284Z",
     "start_time": "2022-02-23T12:51:53.705525Z"
    }
   },
   "outputs": [
    {
     "data": {
      "text/plain": [
       "tensor([ 6.,  8., 20.])"
      ]
     },
     "execution_count": 38,
     "metadata": {},
     "output_type": "execute_result"
    }
   ],
   "source": [
    "y.backward()\n",
    "x.grad"
   ]
  },
  {
   "cell_type": "markdown",
   "id": "0bdc51b1",
   "metadata": {},
   "source": [
    "¡Efectivamente da el gradiente!"
   ]
  },
  {
   "cell_type": "markdown",
   "id": "b9632a96",
   "metadata": {},
   "source": [
    "## Un ejemplo sencillo del gradiente descendiente estocástico (SGD)"
   ]
  },
  {
   "cell_type": "markdown",
   "id": "910c8e5e",
   "metadata": {},
   "source": [
    "Imaginemos que estamos midiendo la velocidad de una montaña rusa al pasar por encima de una joroba. Comenzaría rápido y luego se volvería más lento a medida que sube cuesta arriba; sería más lento en la parte superior, y luego volvería a acelerar a medida que avanzaba cuesta abajo. Deseamos construir un modelo de cómo cambia la velocidad con el tiempo. Si estuvieramos midiendo la velocidad manualmente cada segundo durante 20 segundos, podría verse así:"
   ]
  },
  {
   "cell_type": "code",
   "execution_count": 39,
   "id": "275984fc",
   "metadata": {
    "ExecuteTime": {
     "end_time": "2022-02-23T12:51:57.899134Z",
     "start_time": "2022-02-23T12:51:57.888611Z"
    }
   },
   "outputs": [],
   "source": [
    "torch.manual_seed(123); # Fijando una semilla en PyTorch"
   ]
  },
  {
   "cell_type": "code",
   "execution_count": 40,
   "id": "a90f82e8",
   "metadata": {
    "ExecuteTime": {
     "end_time": "2022-02-23T12:51:58.894703Z",
     "start_time": "2022-02-23T12:51:58.890265Z"
    }
   },
   "outputs": [
    {
     "data": {
      "text/plain": [
       "tensor([ 0.,  1.,  2.,  3.,  4.,  5.,  6.,  7.,  8.,  9., 10., 11., 12., 13.,\n",
       "        14., 15., 16., 17., 18., 19.])"
      ]
     },
     "execution_count": 40,
     "metadata": {},
     "output_type": "execute_result"
    }
   ],
   "source": [
    "time = torch.arange(0,20).float(); time"
   ]
  },
  {
   "cell_type": "code",
   "execution_count": 41,
   "id": "695baa18",
   "metadata": {
    "ExecuteTime": {
     "end_time": "2022-02-23T12:52:00.544761Z",
     "start_time": "2022-02-23T12:52:00.463368Z"
    }
   },
   "outputs": [
    {
     "data": {
      "image/png": "[encoded data removed]",
      "text/plain": [
       "<Figure size 432x288 with 1 Axes>"
      ]
     },
     "metadata": {
      "needs_background": "light"
     },
     "output_type": "display_data"
    }
   ],
   "source": [
    "speed = torch.randn(20)*3 + 0.75*(time-9.5)**2 + 1\n",
    "plt.scatter(time,speed);"
   ]
  },
  {
   "cell_type": "markdown",
   "id": "6df185c4",
   "metadata": {},
   "source": [
    "Hemos añadido ruido aleatorio para simular que el experimento no es preciso. Deseamos encontrar un modelo que se ajuste a los datos que hemos \"tomado\". Por ejemplo, podemos suponer que nuestro modelo es $a(time²)+b(time)+c$. Para encontrar el modelo podemos usar el SGD y encontrar los parámetros que minimicen una función de costo que podría ser el MSE.  \n",
    "\n",
    "Construyamos la función del modelo:"
   ]
  },
  {
   "cell_type": "code",
   "execution_count": 61,
   "id": "af263ec0",
   "metadata": {
    "ExecuteTime": {
     "end_time": "2022-02-23T12:54:03.443135Z",
     "start_time": "2022-02-23T12:54:03.440467Z"
    }
   },
   "outputs": [],
   "source": [
    "def f(t,params):\n",
    "    a,b,c = params\n",
    "    return a*(t**2) + b*t + c"
   ]
  },
  {
   "cell_type": "markdown",
   "id": "9d618636",
   "metadata": {},
   "source": [
    "En otras palabras vamos a realizar un ajuste cuadrático. \n",
    "\n",
    "Ahora definamos la función de costo:"
   ]
  },
  {
   "cell_type": "code",
   "execution_count": 43,
   "id": "0833681e",
   "metadata": {
    "ExecuteTime": {
     "end_time": "2022-02-23T12:52:04.985910Z",
     "start_time": "2022-02-23T12:52:04.983134Z"
    }
   },
   "outputs": [],
   "source": [
    "def mse(preds, targets): return ( (preds - targets)**2 ).mean().sqrt()"
   ]
  },
  {
   "cell_type": "markdown",
   "id": "df03a99d",
   "metadata": {},
   "source": [
    "##### Inicialicemos los parámetros"
   ]
  },
  {
   "cell_type": "code",
   "execution_count": 62,
   "id": "d4e9bdaa",
   "metadata": {
    "ExecuteTime": {
     "end_time": "2022-02-23T12:54:05.252363Z",
     "start_time": "2022-02-23T12:54:05.248091Z"
    }
   },
   "outputs": [
    {
     "data": {
      "text/plain": [
       "tensor([ 1.4220, -0.3886, -0.8903], requires_grad=True)"
      ]
     },
     "execution_count": 62,
     "metadata": {},
     "output_type": "execute_result"
    }
   ],
   "source": [
    "params = torch.randn(3).requires_grad_()\n",
    "params"
   ]
  },
  {
   "cell_type": "markdown",
   "id": "b3a6ac37",
   "metadata": {},
   "source": [
    "##### Calculemos las prediciones\n",
    "(con la inicialización aleatoria)"
   ]
  },
  {
   "cell_type": "code",
   "execution_count": 63,
   "id": "efe832b2",
   "metadata": {
    "ExecuteTime": {
     "end_time": "2022-02-23T12:54:11.818330Z",
     "start_time": "2022-02-23T12:54:11.815735Z"
    }
   },
   "outputs": [],
   "source": [
    "preds = f(time, params)"
   ]
  },
  {
   "cell_type": "markdown",
   "id": "60b5fe70",
   "metadata": {},
   "source": [
    "Grafiquemos las predicciones respecto a los datos originales:"
   ]
  },
  {
   "cell_type": "code",
   "execution_count": 46,
   "id": "ed5bf1f4",
   "metadata": {
    "ExecuteTime": {
     "end_time": "2022-02-23T12:52:11.834732Z",
     "start_time": "2022-02-23T12:52:11.831183Z"
    }
   },
   "outputs": [],
   "source": [
    "def show_preds(preds, ax=None):\n",
    "    if ax is None: ax=plt.subplots()[1]\n",
    "    ax.scatter(time, speed)\n",
    "    # Es necesario .detach() para quitar la variable del grafo y poder pasarlo a numpy\n",
    "    ax.scatter(time, preds.detach().numpy(), color='red') \n",
    "    ax.set_ylim(-300,100)"
   ]
  },
  {
   "cell_type": "code",
   "execution_count": 64,
   "id": "08101388",
   "metadata": {
    "ExecuteTime": {
     "end_time": "2022-02-23T12:54:13.791670Z",
     "start_time": "2022-02-23T12:54:13.722897Z"
    }
   },
   "outputs": [
    {
     "data": {
      "image/png": "[encoded data removed]",
      "text/plain": [
       "<Figure size 432x288 with 1 Axes>"
      ]
     },
     "metadata": {
      "needs_background": "light"
     },
     "output_type": "display_data"
    }
   ],
   "source": [
    "show_preds(preds)"
   ]
  },
  {
   "cell_type": "markdown",
   "id": "a90412b0",
   "metadata": {},
   "source": [
    "##### Calculemos el costo"
   ]
  },
  {
   "cell_type": "code",
   "execution_count": 65,
   "id": "194b6ac9",
   "metadata": {
    "ExecuteTime": {
     "end_time": "2022-02-23T12:54:16.843106Z",
     "start_time": "2022-02-23T12:54:16.839109Z"
    }
   },
   "outputs": [
    {
     "data": {
      "text/plain": [
       "tensor(213.5707, grad_fn=<SqrtBackward0>)"
      ]
     },
     "execution_count": 65,
     "metadata": {},
     "output_type": "execute_result"
    }
   ],
   "source": [
    "loss = mse(preds, speed)\n",
    "loss"
   ]
  },
  {
   "cell_type": "markdown",
   "id": "f83e8770",
   "metadata": {},
   "source": [
    "Ahora el objetivo es mejorar esto. Para lograrlo usaremos el gradiente y actualizaremos los parámetros"
   ]
  },
  {
   "cell_type": "markdown",
   "id": "fa862f2c",
   "metadata": {},
   "source": [
    "##### Calculemos los gradientes"
   ]
  },
  {
   "cell_type": "code",
   "execution_count": 66,
   "id": "feee2a74",
   "metadata": {
    "ExecuteTime": {
     "end_time": "2022-02-23T12:54:18.129317Z",
     "start_time": "2022-02-23T12:54:18.125304Z"
    }
   },
   "outputs": [
    {
     "data": {
      "text/plain": [
       "tensor([166.4453,  10.6642,   0.6826])"
      ]
     },
     "execution_count": 66,
     "metadata": {},
     "output_type": "execute_result"
    }
   ],
   "source": [
    "loss.backward()\n",
    "params.grad"
   ]
  },
  {
   "cell_type": "markdown",
   "id": "2d391f11",
   "metadata": {},
   "source": [
    "Ahora podemos usar estos gradientes y realizar el paso del gradiente para ir acercándonos al mínimo de la función de costo"
   ]
  },
  {
   "cell_type": "markdown",
   "id": "6b9d78db",
   "metadata": {},
   "source": [
    "##### El paso del gradiente"
   ]
  },
  {
   "cell_type": "code",
   "execution_count": 50,
   "id": "1faaecbe",
   "metadata": {
    "deletable": false,
    "editable": false,
    "run_control": {
     "frozen": true
    }
   },
   "outputs": [
    {
     "ename": "RuntimeError",
     "evalue": "a leaf Variable that requires grad has been used in an in-place operation.",
     "output_type": "error",
     "traceback": [
      "\u001b[0;31m---------------------------------------------------------------------------\u001b[0m\n\u001b[0;31mRuntimeError\u001b[0m                              Traceback (most recent call last)",
      "File \u001b[0;34m/home/santi/miniconda3/envs/AAD_deepcpu/lib/python3.8/site-packages/IPython/core/interactiveshell.py\u001b[0m, in \u001b[0;32mrun_code\u001b[0m:\nLine \u001b[0;34m3441\u001b[0m:  exec(code_obj, \u001b[36mself\u001b[39;49;00m.user_global_ns, \u001b[36mself\u001b[39;49;00m.user_ns)\n",
      "In  \u001b[0;34m[50]\u001b[0m:\nLine \u001b[0;34m2\u001b[0m:     params -= lr * params.grad\n",
      "\u001b[0;31mRuntimeError\u001b[0m: a leaf Variable that requires grad has been used in an in-place operation.\n\u001b[0;31m---------------------------------------------------------------------------\u001b[0m"
     ]
    }
   ],
   "source": [
    "lr = 1e-5\n",
    "params -= lr * params.grad\n",
    "params.grad = None"
   ]
  },
  {
   "cell_type": "markdown",
   "id": "9182595b",
   "metadata": {
    "lang": "es"
   },
   "source": [
    "¡¿Por qué?! Resulta ser un caso de \"demasiado de algo bueno\". El culpable es la capacidad de PyTorch para construir un grafo de cálculo dinámico a partir de cada operación de Python que involucre cualquier tensor de cálculo de gradientes o sus dependencias. Lo mejor es decirle a PyTorch que nos deje ejecutar operaciones regulares sobre las operaciones de tensores, independientemente del grafo calculado por PyTorch. Esto se hace con `torch.no_grad()`"
   ]
  },
  {
   "cell_type": "code",
   "execution_count": 67,
   "id": "709d52a6",
   "metadata": {
    "ExecuteTime": {
     "end_time": "2022-02-23T12:54:21.042599Z",
     "start_time": "2022-02-23T12:54:21.038478Z"
    }
   },
   "outputs": [
    {
     "data": {
      "text/plain": [
       "tensor([0., 0., 0.])"
      ]
     },
     "execution_count": 67,
     "metadata": {},
     "output_type": "execute_result"
    }
   ],
   "source": [
    "lr = 1e-4\n",
    "with torch.no_grad():\n",
    "    params -= lr * params.grad\n",
    "params.grad.zero_() # Ver texto luego el porque"
   ]
  },
  {
   "cell_type": "markdown",
   "id": "c53fbae9",
   "metadata": {
    "lang": "es"
   },
   "source": [
    "Para calcular los gradientes, procedemos hacia atrás con el costo. Pero este costo fue calculado mediante el `mse`, que a su vez tomó `preds` como entrada, que se calculó usando `f` tomando como entrada `params`, que era el objeto en el que originalmente llamamos `required_grad_`, que es el procedimiento original que ahora nos permite ir hacia atrás en el costo. Esta cadena de llamadas a funciones representa la composición matemática de funciones, lo que permite a PyTorch usar la regla de la cadena de cálculo por debajo, para calcular estos gradientes."
   ]
  },
  {
   "cell_type": "markdown",
   "id": "8b31e34c",
   "metadata": {
    "lang": "es"
   },
   "source": [
    "En PyTorch, para cada iteración (un batch, un dato, o un minibatch) en la fase de entrenamiento, necesitamos establecer explícitamente los gradientes en cero antes de comenzar a realizar una propagación hacia atrás (es decir, actualización de pesos y bias) porque PyTorch acumula los gradientes en los paso hacia atrás (backward passes). Esto es conveniente por ejemplo al entrenar RNNs. Por lo tanto, la acción predeterminada se ha configurado para acumular (es decir, sumar) los gradientes en cada llamada de `loss.backward()`.\n",
    "\n",
    "Debido a esto, cuando inicie su ciclo de entrenamiento, idealmente debería poner a cero los gradientes para que realice la actualización de parámetros correctamente. De lo contrario, el gradiente apuntaría en alguna otra dirección que no sea la dirección prevista hacia el mínimo. Esta es la razón por la cual hemos colocado `params.grad.zero_()`."
   ]
  },
  {
   "cell_type": "markdown",
   "id": "cbc1ebe3",
   "metadata": {},
   "source": [
    "Miremos si ha mejorado la función de costo (o pérdida):"
   ]
  },
  {
   "cell_type": "code",
   "execution_count": 68,
   "id": "136de89f",
   "metadata": {
    "ExecuteTime": {
     "end_time": "2022-02-23T12:54:32.316265Z",
     "start_time": "2022-02-23T12:54:32.312199Z"
    }
   },
   "outputs": [
    {
     "data": {
      "text/plain": [
       "tensor(210.7892, grad_fn=<SqrtBackward0>)"
      ]
     },
     "execution_count": 68,
     "metadata": {},
     "output_type": "execute_result"
    }
   ],
   "source": [
    "preds = f(time,params)\n",
    "mse(preds, speed)"
   ]
  },
  {
   "cell_type": "code",
   "execution_count": 69,
   "id": "2f12323f",
   "metadata": {
    "ExecuteTime": {
     "end_time": "2022-02-23T12:54:35.148566Z",
     "start_time": "2022-02-23T12:54:35.080617Z"
    }
   },
   "outputs": [
    {
     "data": {
      "image/png": "[encoded data removed]",
      "text/plain": [
       "<Figure size 432x288 with 1 Axes>"
      ]
     },
     "metadata": {
      "needs_background": "light"
     },
     "output_type": "display_data"
    }
   ],
   "source": [
    "show_preds(preds)"
   ]
  },
  {
   "cell_type": "markdown",
   "id": "bbd09213",
   "metadata": {},
   "source": [
    "Ahora unamos todo en un sólo paso:"
   ]
  },
  {
   "cell_type": "code",
   "execution_count": 71,
   "id": "172adb07",
   "metadata": {
    "ExecuteTime": {
     "end_time": "2022-02-23T12:54:43.763936Z",
     "start_time": "2022-02-23T12:54:43.760077Z"
    }
   },
   "outputs": [],
   "source": [
    "lr = 1e-4\n",
    "def apply_step(params, prn=True):\n",
    "    preds = f(time, params)\n",
    "    loss = mse(preds, speed)\n",
    "    loss.backward()\n",
    "    with torch.no_grad():\n",
    "        params -= lr * params.grad\n",
    "    params.grad.zero_() \n",
    "    if prn: print(loss.item())\n",
    "    return preds"
   ]
  },
  {
   "cell_type": "markdown",
   "id": "c6e46fbc",
   "metadata": {},
   "source": [
    "##### Repetición del proceso\n",
    "Ahora iteremos de forma cíclico para mejorar aún mas:"
   ]
  },
  {
   "cell_type": "code",
   "execution_count": 81,
   "id": "af460f20",
   "metadata": {
    "ExecuteTime": {
     "end_time": "2022-02-23T12:55:22.198941Z",
     "start_time": "2022-02-23T12:55:22.189383Z"
    }
   },
   "outputs": [
    {
     "name": "stdout",
     "output_type": "stream",
     "text": [
      "27.824974060058594\n",
      "27.554834365844727\n",
      "27.332765579223633\n",
      "27.151185989379883\n",
      "27.003376007080078\n",
      "26.88351821899414\n",
      "26.78662872314453\n",
      "26.708507537841797\n",
      "26.64565658569336\n",
      "26.595170974731445\n",
      "26.55467987060547\n",
      "26.52223777770996\n",
      "26.49627113342285\n",
      "26.475500106811523\n",
      "26.458892822265625\n",
      "26.44562530517578\n",
      "26.435022354125977\n",
      "26.426557540893555\n",
      "26.419795989990234\n",
      "26.41439437866211\n"
     ]
    }
   ],
   "source": [
    "for i in range(20): preds = apply_step(params)"
   ]
  },
  {
   "cell_type": "code",
   "execution_count": 82,
   "id": "0a2d0cf9",
   "metadata": {
    "ExecuteTime": {
     "end_time": "2022-02-23T12:55:23.874378Z",
     "start_time": "2022-02-23T12:55:23.751575Z"
    }
   },
   "outputs": [
    {
     "data": {
      "image/png": "[encoded data removed]",
      "text/plain": [
       "<Figure size 432x288 with 1 Axes>"
      ]
     },
     "metadata": {
      "needs_background": "light"
     },
     "output_type": "display_data"
    }
   ],
   "source": [
    "show_preds(preds)"
   ]
  },
  {
   "cell_type": "markdown",
   "id": "199f5e64",
   "metadata": {},
   "source": [
    "### Ejemplo de AutoGrad"
   ]
  },
  {
   "cell_type": "code",
   "execution_count": 58,
   "id": "569b3655",
   "metadata": {},
   "outputs": [],
   "source": [
    "from torch.autograd import grad\n",
    "import torch.nn.functional as F"
   ]
  },
  {
   "cell_type": "markdown",
   "id": "f94f8f94",
   "metadata": {},
   "source": [
    "Supongamos que tenemos el siguiente gráfico de funciones:"
   ]
  },
  {
   "cell_type": "markdown",
   "id": "421137ab",
   "metadata": {},
   "source": [
    "![](img/relu-graph.png)"
   ]
  },
  {
   "cell_type": "markdown",
   "id": "f86ee435",
   "metadata": {},
   "source": [
    "En PyTorch, la función se define y calcula de la siguiente manera:"
   ]
  },
  {
   "cell_type": "code",
   "execution_count": 59,
   "id": "ac9db22c",
   "metadata": {},
   "outputs": [],
   "source": [
    "x = torch.tensor([3.])\n",
    "w = torch.tensor([2.], requires_grad=True)\n",
    "b = torch.tensor([1.], requires_grad=True)\n",
    "a = F.relu(x*w + b)"
   ]
  },
  {
   "cell_type": "code",
   "execution_count": 60,
   "id": "e79d56e8",
   "metadata": {},
   "outputs": [
    {
     "data": {
      "text/plain": [
       "tensor([7.], grad_fn=<ReluBackward0>)"
      ]
     },
     "execution_count": 60,
     "metadata": {},
     "output_type": "execute_result"
    }
   ],
   "source": [
    "a"
   ]
  },
  {
   "cell_type": "markdown",
   "id": "f90d72df",
   "metadata": {},
   "source": [
    "Por defecto, PyTorch construirá automáticamente un grafo computacional en segundo plano si las variables tienen el parámetro `require_grad = True` establecido. Si se utilizan nuevas variables sin ese parámetro establecido en `True` en un cálculo con una variable que tiene `require_grad = True`, estas nuevas variables también tendrán gradientes automáticamente configurados en `True` (esto simplemente significa que los gradientes para estas variables se calcularán; es un desperdicio establecerlo en `True` si no necesitamos el gradiente de esa variable; por ejemplo, generalmente no necesitamos los gradientes de las entradas de entrenamiento `x`)"
   ]
  },
  {
   "cell_type": "markdown",
   "id": "961a438a",
   "metadata": {},
   "source": [
    "Calculemos la derivada de a con respecto a w:"
   ]
  },
  {
   "cell_type": "code",
   "execution_count": 61,
   "id": "10e5baa0",
   "metadata": {},
   "outputs": [
    {
     "data": {
      "text/plain": [
       "(tensor([3.]),)"
      ]
     },
     "execution_count": 61,
     "metadata": {},
     "output_type": "execute_result"
    }
   ],
   "source": [
    "grad(a, w, retain_graph=True)"
   ]
  },
  {
   "cell_type": "markdown",
   "id": "d63d803e",
   "metadata": {},
   "source": [
    "Arriba, el `retain_graph = True` significa que el grafo de cálculo se mantendrá en la memoria; esto es a modo de ejemplo para que podamos usar la función` grad` nuevamente a continuación. En la práctica, normalmente queremos liberar el grafo del cálculo en cada iteración."
   ]
  },
  {
   "cell_type": "code",
   "execution_count": 62,
   "id": "7f880b9b",
   "metadata": {},
   "outputs": [
    {
     "data": {
      "text/plain": [
       "(tensor([1.]),)"
      ]
     },
     "execution_count": 62,
     "metadata": {},
     "output_type": "execute_result"
    }
   ],
   "source": [
    "grad(a, b)"
   ]
  },
  {
   "cell_type": "markdown",
   "id": "d048db48",
   "metadata": {},
   "source": [
    "Tenga en cuenta que las funciones de PyTorch suelen ser más eficientes, pero también podríamos implementar nuestra propia función ReLU como se muestra a continuación:"
   ]
  },
  {
   "cell_type": "code",
   "execution_count": 63,
   "id": "2aa4c78d",
   "metadata": {},
   "outputs": [
    {
     "data": {
      "text/plain": [
       "(tensor([3.]),)"
      ]
     },
     "execution_count": 63,
     "metadata": {},
     "output_type": "execute_result"
    }
   ],
   "source": [
    "x = torch.tensor([3.])\n",
    "w = torch.tensor([2.], requires_grad=True)\n",
    "b = torch.tensor([1.], requires_grad=True)\n",
    "\n",
    "def my_relu(z):\n",
    "    if z > 0.:\n",
    "        return z\n",
    "    else:\n",
    "        z[:] = 0.\n",
    "        return z\n",
    "\n",
    "a = my_relu(x*w + b)\n",
    "grad(a, w)"
   ]
  },
  {
   "cell_type": "markdown",
   "id": "c281d938",
   "metadata": {
    "solution2": "hidden",
    "solution2_first": true
   },
   "source": [
    "### ¿Cómo es el grafo de un multilayer perceptron (3 neuronas ocultas)?"
   ]
  },
  {
   "cell_type": "markdown",
   "id": "3fbd8e11",
   "metadata": {
    "solution2": "hidden"
   },
   "source": [
    "![](img/grafo_MLP.png)"
   ]
  },
  {
   "cell_type": "code",
   "execution_count": null,
   "id": "088c270d",
   "metadata": {},
   "outputs": [],
   "source": []
  }
 ],
 "metadata": {
  "kernelspec": {
   "display_name": "Python 3 (ipykernel)",
   "language": "python",
   "name": "python3"
  },
  "language_info": {
   "codemirror_mode": {
    "name": "ipython",
    "version": 3
   },
   "file_extension": ".py",
   "mimetype": "text/x-python",
   "name": "python",
   "nbconvert_exporter": "python",
   "pygments_lexer": "ipython3",
   "version": "3.10.6"
  },
  "nbTranslate": {
   "displayLangs": [
    "es"
   ],
   "hotkey": "alt-t",
   "langInMainMenu": true,
   "sourceLang": "en",
   "targetLang": "es",
   "useGoogleTranslate": true
  }
 },
 "nbformat": 4,
 "nbformat_minor": 5
}
