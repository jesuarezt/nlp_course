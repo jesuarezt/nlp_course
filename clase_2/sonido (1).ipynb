{
 "cells": [
  {
   "cell_type": "markdown",
   "metadata": {
    "id": "OlFXEQpPHT4R"
   },
   "source": [
    "# **Elementos fonéticos**\n",
    "En este notebook se hace una demostración básica de elementos fonéticos en el procesamiento de lenguaje natural\n",
    "\n",
    "## Librerías\n",
    "Primero vamos a instalar las librerías que vamos a requerir.\n",
    "gTTS nos servirá para hacer texto a audio\n",
    "SpeechRecognition, audio a texto.\n",
    "Epitran permite la transcripción fonética de textos"
   ]
  },
  {
   "cell_type": "code",
   "execution_count": 1,
   "metadata": {
    "colab": {
     "base_uri": "https://localhost:8080/"
    },
    "id": "Vx4VQh3ZIjUN",
    "outputId": "be90f215-9360-45e8-c675-79ad76693802"
   },
   "outputs": [
    {
     "name": "stdout",
     "output_type": "stream",
     "text": [
      "Collecting gTTS\n",
      "  Downloading gTTS-2.2.4-py3-none-any.whl (26 kB)\n",
      "Requirement already satisfied: click in /Users/habi/opt/anaconda3/envs/jave/lib/python3.8/site-packages (from gTTS) (8.1.3)\n",
      "Requirement already satisfied: requests in /Users/habi/opt/anaconda3/envs/jave/lib/python3.8/site-packages (from gTTS) (2.28.1)\n",
      "Requirement already satisfied: six in /Users/habi/opt/anaconda3/envs/jave/lib/python3.8/site-packages (from gTTS) (1.16.0)\n",
      "Requirement already satisfied: urllib3<1.27,>=1.21.1 in /Users/habi/opt/anaconda3/envs/jave/lib/python3.8/site-packages (from requests->gTTS) (1.26.12)\n",
      "Requirement already satisfied: charset-normalizer<3,>=2 in /Users/habi/opt/anaconda3/envs/jave/lib/python3.8/site-packages (from requests->gTTS) (2.1.1)\n",
      "Requirement already satisfied: idna<4,>=2.5 in /Users/habi/opt/anaconda3/envs/jave/lib/python3.8/site-packages (from requests->gTTS) (3.3)\n",
      "Requirement already satisfied: certifi>=2017.4.17 in /Users/habi/opt/anaconda3/envs/jave/lib/python3.8/site-packages (from requests->gTTS) (2022.6.15)\n",
      "Installing collected packages: gTTS\n",
      "Successfully installed gTTS-2.2.4\n"
     ]
    }
   ],
   "source": [
    "!pip install gTTS"
   ]
  },
  {
   "cell_type": "code",
   "execution_count": 2,
   "metadata": {
    "colab": {
     "base_uri": "https://localhost:8080/"
    },
    "id": "d1xrNmvNIrMz",
    "outputId": "8f6bf1c8-a55e-4697-e9f7-daef8017e899"
   },
   "outputs": [
    {
     "name": "stdout",
     "output_type": "stream",
     "text": [
      "Collecting SpeechRecognition\n",
      "  Downloading SpeechRecognition-3.8.1-py2.py3-none-any.whl (32.8 MB)\n",
      "\u001b[2K     \u001b[90m━━━━━━━━━━━━━━━━━━━━━━━━━━━━━━━━━━━━━━━━\u001b[0m \u001b[32m32.8/32.8 MB\u001b[0m \u001b[31m30.9 MB/s\u001b[0m eta \u001b[36m0:00:00\u001b[0m00:01\u001b[0m00:01\u001b[0m\n",
      "\u001b[?25hInstalling collected packages: SpeechRecognition\n",
      "Successfully installed SpeechRecognition-3.8.1\n",
      "Collecting epitran\n",
      "  Downloading epitran-1.22-py2.py3-none-any.whl (164 kB)\n",
      "\u001b[2K     \u001b[90m━━━━━━━━━━━━━━━━━━━━━━━━━━━━━━━━━━━━━━━\u001b[0m \u001b[32m164.1/164.1 kB\u001b[0m \u001b[31m4.3 MB/s\u001b[0m eta \u001b[36m0:00:00\u001b[0m\n",
      "\u001b[?25hCollecting panphon>=0.19\n",
      "  Downloading panphon-0.20.0-py2.py3-none-any.whl (73 kB)\n",
      "\u001b[2K     \u001b[90m━━━━━━━━━━━━━━━━━━━━━━━━━━━━━━━━━━━━━━━━\u001b[0m \u001b[32m73.6/73.6 kB\u001b[0m \u001b[31m3.1 MB/s\u001b[0m eta \u001b[36m0:00:00\u001b[0m\n",
      "\u001b[?25hRequirement already satisfied: requests in /Users/habi/opt/anaconda3/envs/jave/lib/python3.8/site-packages (from epitran) (2.28.1)\n",
      "Collecting unicodecsv\n",
      "  Downloading unicodecsv-0.14.1.tar.gz (10 kB)\n",
      "  Preparing metadata (setup.py) ... \u001b[?25ldone\n",
      "\u001b[?25hRequirement already satisfied: regex in /Users/habi/opt/anaconda3/envs/jave/lib/python3.8/site-packages (from epitran) (2022.8.17)\n",
      "Requirement already satisfied: setuptools in /Users/habi/opt/anaconda3/envs/jave/lib/python3.8/site-packages (from epitran) (63.4.1)\n",
      "Collecting marisa-trie\n",
      "  Downloading marisa_trie-0.7.7-cp38-cp38-macosx_10_9_x86_64.whl (176 kB)\n",
      "\u001b[2K     \u001b[90m━━━━━━━━━━━━━━━━━━━━━━━━━━━━━━━━━━━━━━━\u001b[0m \u001b[32m176.2/176.2 kB\u001b[0m \u001b[31m6.9 MB/s\u001b[0m eta \u001b[36m0:00:00\u001b[0m\n",
      "\u001b[?25hRequirement already satisfied: numpy>=1.20.2 in /Users/habi/opt/anaconda3/envs/jave/lib/python3.8/site-packages (from panphon>=0.19->epitran) (1.22.1)\n",
      "Requirement already satisfied: PyYAML in /Users/habi/opt/anaconda3/envs/jave/lib/python3.8/site-packages (from panphon>=0.19->epitran) (6.0)\n",
      "Collecting editdistance\n",
      "  Downloading editdistance-0.6.0-cp38-cp38-macosx_10_9_x86_64.whl (21 kB)\n",
      "Collecting munkres\n",
      "  Downloading munkres-1.1.4-py2.py3-none-any.whl (7.0 kB)\n",
      "Requirement already satisfied: idna<4,>=2.5 in /Users/habi/opt/anaconda3/envs/jave/lib/python3.8/site-packages (from requests->epitran) (3.3)\n",
      "Requirement already satisfied: charset-normalizer<3,>=2 in /Users/habi/opt/anaconda3/envs/jave/lib/python3.8/site-packages (from requests->epitran) (2.1.1)\n",
      "Requirement already satisfied: urllib3<1.27,>=1.21.1 in /Users/habi/opt/anaconda3/envs/jave/lib/python3.8/site-packages (from requests->epitran) (1.26.12)\n",
      "Requirement already satisfied: certifi>=2017.4.17 in /Users/habi/opt/anaconda3/envs/jave/lib/python3.8/site-packages (from requests->epitran) (2022.6.15)\n",
      "Building wheels for collected packages: unicodecsv\n",
      "  Building wheel for unicodecsv (setup.py) ... \u001b[?25ldone\n",
      "\u001b[?25h  Created wheel for unicodecsv: filename=unicodecsv-0.14.1-py3-none-any.whl size=10746 sha256=7475ef85f723f68d0a2c3826f41127012537c336ccde7e42871412d960ff18d1\n",
      "  Stored in directory: /Users/habi/Library/Caches/pip/wheels/35/dd/44/ccb37563a01457f5de74ccedccaee81b01a53e12addeab5e0f\n",
      "Successfully built unicodecsv\n",
      "Installing collected packages: unicodecsv, munkres, marisa-trie, editdistance, panphon, epitran\n",
      "Successfully installed editdistance-0.6.0 epitran-1.22 marisa-trie-0.7.7 munkres-1.1.4 panphon-0.20.0 unicodecsv-0.14.1\n"
     ]
    }
   ],
   "source": [
    "!pip install SpeechRecognition\n",
    "!pip install epitran"
   ]
  },
  {
   "cell_type": "code",
   "execution_count": 1,
   "metadata": {
    "id": "-WKV8SIGIW_-"
   },
   "outputs": [],
   "source": [
    "import gtts, speech_recognition, epitran\n"
   ]
  },
  {
   "cell_type": "markdown",
   "metadata": {
    "id": "KiP6NyVlJnRG"
   },
   "source": [
    "## Audio a texto\n",
    "A continuación tomaremos un archivo de audio (debe ser wav o  aiff) y lo transcribiremos gracias a la librería gTTS. "
   ]
  },
  {
   "cell_type": "code",
   "execution_count": 2,
   "metadata": {
    "colab": {
     "base_uri": "https://localhost:8080/",
     "height": 73,
     "resources": {
      "http://localhost:8080/nbextensions/google.colab/files.js": {
       "data": "Ly8gQ29weXJpZ2h0IDIwMTcgR29vZ2xlIExMQwovLwovLyBMaWNlbnNlZCB1bmRlciB0aGUgQXBhY2hlIExpY2Vuc2UsIFZlcnNpb24gMi4wICh0aGUgIkxpY2Vuc2UiKTsKLy8geW91IG1heSBub3QgdXNlIHRoaXMgZmlsZSBleGNlcHQgaW4gY29tcGxpYW5jZSB3aXRoIHRoZSBMaWNlbnNlLgovLyBZb3UgbWF5IG9idGFpbiBhIGNvcHkgb2YgdGhlIExpY2Vuc2UgYXQKLy8KLy8gICAgICBodHRwOi8vd3d3LmFwYWNoZS5vcmcvbGljZW5zZXMvTElDRU5TRS0yLjAKLy8KLy8gVW5sZXNzIHJlcXVpcmVkIGJ5IGFwcGxpY2FibGUgbGF3IG9yIGFncmVlZCB0byBpbiB3cml0aW5nLCBzb2Z0d2FyZQovLyBkaXN0cmlidXRlZCB1bmRlciB0aGUgTGljZW5zZSBpcyBkaXN0cmlidXRlZCBvbiBhbiAiQVMgSVMiIEJBU0lTLAovLyBXSVRIT1VUIFdBUlJBTlRJRVMgT1IgQ09ORElUSU9OUyBPRiBBTlkgS0lORCwgZWl0aGVyIGV4cHJlc3Mgb3IgaW1wbGllZC4KLy8gU2VlIHRoZSBMaWNlbnNlIGZvciB0aGUgc3BlY2lmaWMgbGFuZ3VhZ2UgZ292ZXJuaW5nIHBlcm1pc3Npb25zIGFuZAovLyBsaW1pdGF0aW9ucyB1bmRlciB0aGUgTGljZW5zZS4KCi8qKgogKiBAZmlsZW92ZXJ2aWV3IEhlbHBlcnMgZm9yIGdvb2dsZS5jb2xhYiBQeXRob24gbW9kdWxlLgogKi8KKGZ1bmN0aW9uKHNjb3BlKSB7CmZ1bmN0aW9uIHNwYW4odGV4dCwgc3R5bGVBdHRyaWJ1dGVzID0ge30pIHsKICBjb25zdCBlbGVtZW50ID0gZG9jdW1lbnQuY3JlYXRlRWxlbWVudCgnc3BhbicpOwogIGVsZW1lbnQudGV4dENvbnRlbnQgPSB0ZXh0OwogIGZvciAoY29uc3Qga2V5IG9mIE9iamVjdC5rZXlzKHN0eWxlQXR0cmlidXRlcykpIHsKICAgIGVsZW1lbnQuc3R5bGVba2V5XSA9IHN0eWxlQXR0cmlidXRlc1trZXldOwogIH0KICByZXR1cm4gZWxlbWVudDsKfQoKLy8gTWF4IG51bWJlciBvZiBieXRlcyB3aGljaCB3aWxsIGJlIHVwbG9hZGVkIGF0IGEgdGltZS4KY29uc3QgTUFYX1BBWUxPQURfU0laRSA9IDEwMCAqIDEwMjQ7CgpmdW5jdGlvbiBfdXBsb2FkRmlsZXMoaW5wdXRJZCwgb3V0cHV0SWQpIHsKICBjb25zdCBzdGVwcyA9IHVwbG9hZEZpbGVzU3RlcChpbnB1dElkLCBvdXRwdXRJZCk7CiAgY29uc3Qgb3V0cHV0RWxlbWVudCA9IGRvY3VtZW50LmdldEVsZW1lbnRCeUlkKG91dHB1dElkKTsKICAvLyBDYWNoZSBzdGVwcyBvbiB0aGUgb3V0cHV0RWxlbWVudCB0byBtYWtlIGl0IGF2YWlsYWJsZSBmb3IgdGhlIG5leHQgY2FsbAogIC8vIHRvIHVwbG9hZEZpbGVzQ29udGludWUgZnJvbSBQeXRob24uCiAgb3V0cHV0RWxlbWVudC5zdGVwcyA9IHN0ZXBzOwoKICByZXR1cm4gX3VwbG9hZEZpbGVzQ29udGludWUob3V0cHV0SWQpOwp9CgovLyBUaGlzIGlzIHJvdWdobHkgYW4gYXN5bmMgZ2VuZXJhdG9yIChub3Qgc3VwcG9ydGVkIGluIHRoZSBicm93c2VyIHlldCksCi8vIHdoZXJlIHRoZXJlIGFyZSBtdWx0aXBsZSBhc3luY2hyb25vdXMgc3RlcHMgYW5kIHRoZSBQeXRob24gc2lkZSBpcyBnb2luZwovLyB0byBwb2xsIGZvciBjb21wbGV0aW9uIG9mIGVhY2ggc3RlcC4KLy8gVGhpcyB1c2VzIGEgUHJvbWlzZSB0byBibG9jayB0aGUgcHl0aG9uIHNpZGUgb24gY29tcGxldGlvbiBvZiBlYWNoIHN0ZXAsCi8vIHRoZW4gcGFzc2VzIHRoZSByZXN1bHQgb2YgdGhlIHByZXZpb3VzIHN0ZXAgYXMgdGhlIGlucHV0IHRvIHRoZSBuZXh0IHN0ZXAuCmZ1bmN0aW9uIF91cGxvYWRGaWxlc0NvbnRpbnVlKG91dHB1dElkKSB7CiAgY29uc3Qgb3V0cHV0RWxlbWVudCA9IGRvY3VtZW50LmdldEVsZW1lbnRCeUlkKG91dHB1dElkKTsKICBjb25zdCBzdGVwcyA9IG91dHB1dEVsZW1lbnQuc3RlcHM7CgogIGNvbnN0IG5leHQgPSBzdGVwcy5uZXh0KG91dHB1dEVsZW1lbnQubGFzdFByb21pc2VWYWx1ZSk7CiAgcmV0dXJuIFByb21pc2UucmVzb2x2ZShuZXh0LnZhbHVlLnByb21pc2UpLnRoZW4oKHZhbHVlKSA9PiB7CiAgICAvLyBDYWNoZSB0aGUgbGFzdCBwcm9taXNlIHZhbHVlIHRvIG1ha2UgaXQgYXZhaWxhYmxlIHRvIHRoZSBuZXh0CiAgICAvLyBzdGVwIG9mIHRoZSBnZW5lcmF0b3IuCiAgICBvdXRwdXRFbGVtZW50Lmxhc3RQcm9taXNlVmFsdWUgPSB2YWx1ZTsKICAgIHJldHVybiBuZXh0LnZhbHVlLnJlc3BvbnNlOwogIH0pOwp9CgovKioKICogR2VuZXJhdG9yIGZ1bmN0aW9uIHdoaWNoIGlzIGNhbGxlZCBiZXR3ZWVuIGVhY2ggYXN5bmMgc3RlcCBvZiB0aGUgdXBsb2FkCiAqIHByb2Nlc3MuCiAqIEBwYXJhbSB7c3RyaW5nfSBpbnB1dElkIEVsZW1lbnQgSUQgb2YgdGhlIGlucHV0IGZpbGUgcGlja2VyIGVsZW1lbnQuCiAqIEBwYXJhbSB7c3RyaW5nfSBvdXRwdXRJZCBFbGVtZW50IElEIG9mIHRoZSBvdXRwdXQgZGlzcGxheS4KICogQHJldHVybiB7IUl0ZXJhYmxlPCFPYmplY3Q+fSBJdGVyYWJsZSBvZiBuZXh0IHN0ZXBzLgogKi8KZnVuY3Rpb24qIHVwbG9hZEZpbGVzU3RlcChpbnB1dElkLCBvdXRwdXRJZCkgewogIGNvbnN0IGlucHV0RWxlbWVudCA9IGRvY3VtZW50LmdldEVsZW1lbnRCeUlkKGlucHV0SWQpOwogIGlucHV0RWxlbWVudC5kaXNhYmxlZCA9IGZhbHNlOwoKICBjb25zdCBvdXRwdXRFbGVtZW50ID0gZG9jdW1lbnQuZ2V0RWxlbWVudEJ5SWQob3V0cHV0SWQpOwogIG91dHB1dEVsZW1lbnQuaW5uZXJIVE1MID0gJyc7CgogIGNvbnN0IHBpY2tlZFByb21pc2UgPSBuZXcgUHJvbWlzZSgocmVzb2x2ZSkgPT4gewogICAgaW5wdXRFbGVtZW50LmFkZEV2ZW50TGlzdGVuZXIoJ2NoYW5nZScsIChlKSA9PiB7CiAgICAgIHJlc29sdmUoZS50YXJnZXQuZmlsZXMpOwogICAgfSk7CiAgfSk7CgogIGNvbnN0IGNhbmNlbCA9IGRvY3VtZW50LmNyZWF0ZUVsZW1lbnQoJ2J1dHRvbicpOwogIGlucHV0RWxlbWVudC5wYXJlbnRFbGVtZW50LmFwcGVuZENoaWxkKGNhbmNlbCk7CiAgY2FuY2VsLnRleHRDb250ZW50ID0gJ0NhbmNlbCB1cGxvYWQnOwogIGNvbnN0IGNhbmNlbFByb21pc2UgPSBuZXcgUHJvbWlzZSgocmVzb2x2ZSkgPT4gewogICAgY2FuY2VsLm9uY2xpY2sgPSAoKSA9PiB7CiAgICAgIHJlc29sdmUobnVsbCk7CiAgICB9OwogIH0pOwoKICAvLyBXYWl0IGZvciB0aGUgdXNlciB0byBwaWNrIHRoZSBmaWxlcy4KICBjb25zdCBmaWxlcyA9IHlpZWxkIHsKICAgIHByb21pc2U6IFByb21pc2UucmFjZShbcGlja2VkUHJvbWlzZSwgY2FuY2VsUHJvbWlzZV0pLAogICAgcmVzcG9uc2U6IHsKICAgICAgYWN0aW9uOiAnc3RhcnRpbmcnLAogICAgfQogIH07CgogIGNhbmNlbC5yZW1vdmUoKTsKCiAgLy8gRGlzYWJsZSB0aGUgaW5wdXQgZWxlbWVudCBzaW5jZSBmdXJ0aGVyIHBpY2tzIGFyZSBub3QgYWxsb3dlZC4KICBpbnB1dEVsZW1lbnQuZGlzYWJsZWQgPSB0cnVlOwoKICBpZiAoIWZpbGVzKSB7CiAgICByZXR1cm4gewogICAgICByZXNwb25zZTogewogICAgICAgIGFjdGlvbjogJ2NvbXBsZXRlJywKICAgICAgfQogICAgfTsKICB9CgogIGZvciAoY29uc3QgZmlsZSBvZiBmaWxlcykgewogICAgY29uc3QgbGkgPSBkb2N1bWVudC5jcmVhdGVFbGVtZW50KCdsaScpOwogICAgbGkuYXBwZW5kKHNwYW4oZmlsZS5uYW1lLCB7Zm9udFdlaWdodDogJ2JvbGQnfSkpOwogICAgbGkuYXBwZW5kKHNwYW4oCiAgICAgICAgYCgke2ZpbGUudHlwZSB8fCAnbi9hJ30pIC0gJHtmaWxlLnNpemV9IGJ5dGVzLCBgICsKICAgICAgICBgbGFzdCBtb2RpZmllZDogJHsKICAgICAgICAgICAgZmlsZS5sYXN0TW9kaWZpZWREYXRlID8gZmlsZS5sYXN0TW9kaWZpZWREYXRlLnRvTG9jYWxlRGF0ZVN0cmluZygpIDoKICAgICAgICAgICAgICAgICAgICAgICAgICAgICAgICAgICAgJ24vYSd9IC0gYCkpOwogICAgY29uc3QgcGVyY2VudCA9IHNwYW4oJzAlIGRvbmUnKTsKICAgIGxpLmFwcGVuZENoaWxkKHBlcmNlbnQpOwoKICAgIG91dHB1dEVsZW1lbnQuYXBwZW5kQ2hpbGQobGkpOwoKICAgIGNvbnN0IGZpbGVEYXRhUHJvbWlzZSA9IG5ldyBQcm9taXNlKChyZXNvbHZlKSA9PiB7CiAgICAgIGNvbnN0IHJlYWRlciA9IG5ldyBGaWxlUmVhZGVyKCk7CiAgICAgIHJlYWRlci5vbmxvYWQgPSAoZSkgPT4gewogICAgICAgIHJlc29sdmUoZS50YXJnZXQucmVzdWx0KTsKICAgICAgfTsKICAgICAgcmVhZGVyLnJlYWRBc0FycmF5QnVmZmVyKGZpbGUpOwogICAgfSk7CiAgICAvLyBXYWl0IGZvciB0aGUgZGF0YSB0byBiZSByZWFkeS4KICAgIGxldCBmaWxlRGF0YSA9IHlpZWxkIHsKICAgICAgcHJvbWlzZTogZmlsZURhdGFQcm9taXNlLAogICAgICByZXNwb25zZTogewogICAgICAgIGFjdGlvbjogJ2NvbnRpbnVlJywKICAgICAgfQogICAgfTsKCiAgICAvLyBVc2UgYSBjaHVua2VkIHNlbmRpbmcgdG8gYXZvaWQgbWVzc2FnZSBzaXplIGxpbWl0cy4gU2VlIGIvNjIxMTU2NjAuCiAgICBsZXQgcG9zaXRpb24gPSAwOwogICAgZG8gewogICAgICBjb25zdCBsZW5ndGggPSBNYXRoLm1pbihmaWxlRGF0YS5ieXRlTGVuZ3RoIC0gcG9zaXRpb24sIE1BWF9QQVlMT0FEX1NJWkUpOwogICAgICBjb25zdCBjaHVuayA9IG5ldyBVaW50OEFycmF5KGZpbGVEYXRhLCBwb3NpdGlvbiwgbGVuZ3RoKTsKICAgICAgcG9zaXRpb24gKz0gbGVuZ3RoOwoKICAgICAgY29uc3QgYmFzZTY0ID0gYnRvYShTdHJpbmcuZnJvbUNoYXJDb2RlLmFwcGx5KG51bGwsIGNodW5rKSk7CiAgICAgIHlpZWxkIHsKICAgICAgICByZXNwb25zZTogewogICAgICAgICAgYWN0aW9uOiAnYXBwZW5kJywKICAgICAgICAgIGZpbGU6IGZpbGUubmFtZSwKICAgICAgICAgIGRhdGE6IGJhc2U2NCwKICAgICAgICB9LAogICAgICB9OwoKICAgICAgbGV0IHBlcmNlbnREb25lID0gZmlsZURhdGEuYnl0ZUxlbmd0aCA9PT0gMCA/CiAgICAgICAgICAxMDAgOgogICAgICAgICAgTWF0aC5yb3VuZCgocG9zaXRpb24gLyBmaWxlRGF0YS5ieXRlTGVuZ3RoKSAqIDEwMCk7CiAgICAgIHBlcmNlbnQudGV4dENvbnRlbnQgPSBgJHtwZXJjZW50RG9uZX0lIGRvbmVgOwoKICAgIH0gd2hpbGUgKHBvc2l0aW9uIDwgZmlsZURhdGEuYnl0ZUxlbmd0aCk7CiAgfQoKICAvLyBBbGwgZG9uZS4KICB5aWVsZCB7CiAgICByZXNwb25zZTogewogICAgICBhY3Rpb246ICdjb21wbGV0ZScsCiAgICB9CiAgfTsKfQoKc2NvcGUuZ29vZ2xlID0gc2NvcGUuZ29vZ2xlIHx8IHt9OwpzY29wZS5nb29nbGUuY29sYWIgPSBzY29wZS5nb29nbGUuY29sYWIgfHwge307CnNjb3BlLmdvb2dsZS5jb2xhYi5fZmlsZXMgPSB7CiAgX3VwbG9hZEZpbGVzLAogIF91cGxvYWRGaWxlc0NvbnRpbnVlLAp9Owp9KShzZWxmKTsK",
       "headers": [
        [
         "content-type",
         "application/javascript"
        ]
       ],
       "ok": true,
       "status": 200,
       "status_text": ""
      }
     }
    },
    "id": "_vcY0yvLJ4il",
    "outputId": "c657e3b2-b1f7-4ba5-9b6d-df87ffd1f966"
   },
   "outputs": [],
   "source": [
    "# para cargar archivos, funciona unicamente en colab\n",
    "#from google.colab import files\n",
    "#uploaded = files.upload()"
   ]
  },
  {
   "cell_type": "code",
   "execution_count": 3,
   "metadata": {},
   "outputs": [
    {
     "data": {
      "text/plain": [
       "'/Users/habi/Documents/personal/nlp_course/clase_2'"
      ]
     },
     "execution_count": 3,
     "metadata": {},
     "output_type": "execute_result"
    }
   ],
   "source": [
    "import os\n",
    "os.getcwd()"
   ]
  },
  {
   "cell_type": "code",
   "execution_count": 4,
   "metadata": {
    "colab": {
     "base_uri": "https://localhost:8080/",
     "height": 35
    },
    "id": "sblIN_KCMgzy",
    "outputId": "800353e0-ed2b-4b4f-bcf7-4ae0d1af6bc7"
   },
   "outputs": [
    {
     "data": {
      "text/plain": [
       "'te funciona interesante ver cómo podemos grabar la voz y transcribirla a texto tan fácilmente'"
      ]
     },
     "execution_count": 4,
     "metadata": {},
     "output_type": "execute_result"
    }
   ],
   "source": [
    "\n",
    "reco=speech_recognition.Recognizer()\n",
    "\n",
    "archaudio=speech_recognition.AudioFile(\"grabacion.wav\")\n",
    "\n",
    "with archaudio as fuente:\n",
    "    audio=reco.record(fuente)\n",
    "\n",
    "#audio=reco.record(fuente, offset=0,duration=2)\n",
    "reco.recognize_google(audio, language= \"es-CO\")\n"
   ]
  },
  {
   "cell_type": "markdown",
   "metadata": {
    "id": "y6n3nlLzMpMg"
   },
   "source": [
    "## Texto a audio\n",
    "Una segunda tecnología es la capacidad de transcribir texto a audio.\n",
    "Para ello usaremos gTTS."
   ]
  },
  {
   "cell_type": "code",
   "execution_count": 6,
   "metadata": {
    "colab": {
     "base_uri": "https://localhost:8080/",
     "height": 75
    },
    "id": "1c7ldyvoMxVl",
    "outputId": "31565ec8-4197-4a1b-eeec-0f7f406e36d9"
   },
   "outputs": [
    {
     "data": {
      "text/html": [
       "\n",
       "                <audio  controls=\"controls\" autoplay=\"autoplay\">\n",
       "                    <source src=\"data:audio/x-wav;base64,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\" type=\"audio/x-wav\" />\n",
       "                    Your browser does not support the audio element.\n",
       "                </audio>\n",
       "              "
      ],
      "text/plain": [
       "<IPython.lib.display.Audio object>"
      ]
     },
     "execution_count": 6,
     "metadata": {},
     "output_type": "execute_result"
    }
   ],
   "source": [
    "from gtts import gTTS\n",
    "from IPython.display import Audio\n",
    "#test = gTTS(\"Me encantó la clase de lenguaje natural\", lang=\"en\")\n",
    "test = gTTS(\"Hola Nicolas Suarez casallas valencia\", lang=\"es\")\n",
    "test.save('prueba.wav')\n",
    "sound_file = 'prueba.wav'\n",
    "Audio(sound_file, autoplay=True)"
   ]
  },
  {
   "cell_type": "markdown",
   "metadata": {
    "id": "3d4UBwEDRF-S"
   },
   "source": [
    "## Transcripción fonética\n",
    "Finalmente mostraremos como hacer una transcripción fonética (p.e, para buscar errores ortográficos)"
   ]
  },
  {
   "cell_type": "code",
   "execution_count": 10,
   "metadata": {
    "colab": {
     "base_uri": "https://localhost:8080/",
     "height": 35
    },
    "id": "MsIgfh69NcFJ",
    "outputId": "e0a37e77-1726-4877-8be3-dda7c8818082"
   },
   "outputs": [
    {
     "data": {
      "text/plain": [
       "'komo sesilja, kaio ase aɲos'"
      ]
     },
     "execution_count": 10,
     "metadata": {},
     "output_type": "execute_result"
    }
   ],
   "source": [
    "espa=epitran.Epitran(\"spa-Latn\")\n",
    "espa.transliterate(u\"Como cecilia, cayo hace años\")"
   ]
  },
  {
   "cell_type": "code",
   "execution_count": 11,
   "metadata": {
    "colab": {
     "base_uri": "https://localhost:8080/",
     "height": 35
    },
    "id": "ePbX_R43Njgb",
    "outputId": "c1eae618-3fe8-4234-d22f-62c3e9412813"
   },
   "outputs": [
    {
     "data": {
      "text/plain": [
       "'komo sesilja, kaio ase aɲos'"
      ]
     },
     "execution_count": 11,
     "metadata": {},
     "output_type": "execute_result"
    }
   ],
   "source": [
    "espa.transliterate(u\"komo sesilia, cayo haze años\")"
   ]
  },
  {
   "cell_type": "code",
   "execution_count": null,
   "metadata": {
    "id": "02cRk_qeT9LB"
   },
   "outputs": [],
   "source": []
  }
 ],
 "metadata": {
  "colab": {
   "collapsed_sections": [],
   "name": "sonido.ipynb",
   "provenance": []
  },
  "kernelspec": {
   "display_name": "Python 3 (ipykernel)",
   "language": "python",
   "name": "python3"
  },
  "language_info": {
   "codemirror_mode": {
    "name": "ipython",
    "version": 3
   },
   "file_extension": ".py",
   "mimetype": "text/x-python",
   "name": "python",
   "nbconvert_exporter": "python",
   "pygments_lexer": "ipython3",
   "version": "3.8.13"
  }
 },
 "nbformat": 4,
 "nbformat_minor": 4
}
