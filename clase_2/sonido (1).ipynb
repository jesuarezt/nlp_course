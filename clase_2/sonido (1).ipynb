{
 "cells": [
  {
   "cell_type": "markdown",
   "metadata": {
    "id": "OlFXEQpPHT4R"
   },
   "source": [
    "# **Elementos fonéticos**\n",
    "En este notebook se hace una demostración básica de elementos fonéticos en el procesamiento de lenguaje natural\n",
    "\n",
    "## Librerías\n",
    "Primero vamos a instalar las librerías que vamos a requerir.\n",
    "gTTS nos servirá para hacer texto a audio\n",
    "SpeechRecognition, audio a texto.\n",
    "Epitran permite la transcripción fonética de textos"
   ]
  },
  {
   "cell_type": "code",
   "execution_count": 1,
   "metadata": {
    "colab": {
     "base_uri": "https://localhost:8080/"
    },
    "id": "Vx4VQh3ZIjUN",
    "outputId": "be90f215-9360-45e8-c675-79ad76693802"
   },
   "outputs": [
    {
     "name": "stdout",
     "output_type": "stream",
     "text": [
      "Collecting gTTS\n",
      "  Downloading gTTS-2.2.4-py3-none-any.whl (26 kB)\n",
      "Requirement already satisfied: click in /Users/habi/opt/anaconda3/envs/jave/lib/python3.8/site-packages (from gTTS) (8.1.3)\n",
      "Requirement already satisfied: requests in /Users/habi/opt/anaconda3/envs/jave/lib/python3.8/site-packages (from gTTS) (2.28.1)\n",
      "Requirement already satisfied: six in /Users/habi/opt/anaconda3/envs/jave/lib/python3.8/site-packages (from gTTS) (1.16.0)\n",
      "Requirement already satisfied: urllib3<1.27,>=1.21.1 in /Users/habi/opt/anaconda3/envs/jave/lib/python3.8/site-packages (from requests->gTTS) (1.26.12)\n",
      "Requirement already satisfied: charset-normalizer<3,>=2 in /Users/habi/opt/anaconda3/envs/jave/lib/python3.8/site-packages (from requests->gTTS) (2.1.1)\n",
      "Requirement already satisfied: idna<4,>=2.5 in /Users/habi/opt/anaconda3/envs/jave/lib/python3.8/site-packages (from requests->gTTS) (3.3)\n",
      "Requirement already satisfied: certifi>=2017.4.17 in /Users/habi/opt/anaconda3/envs/jave/lib/python3.8/site-packages (from requests->gTTS) (2022.6.15)\n",
      "Installing collected packages: gTTS\n",
      "Successfully installed gTTS-2.2.4\n"
     ]
    }
   ],
   "source": [
    "!pip install gTTS"
   ]
  },
  {
   "cell_type": "code",
   "execution_count": 2,
   "metadata": {
    "colab": {
     "base_uri": "https://localhost:8080/"
    },
    "id": "d1xrNmvNIrMz",
    "outputId": "8f6bf1c8-a55e-4697-e9f7-daef8017e899"
   },
   "outputs": [
    {
     "name": "stdout",
     "output_type": "stream",
     "text": [
      "Collecting SpeechRecognition\n",
      "  Downloading SpeechRecognition-3.8.1-py2.py3-none-any.whl (32.8 MB)\n",
      "\u001b[2K     \u001b[90m━━━━━━━━━━━━━━━━━━━━━━━━━━━━━━━━━━━━━━━━\u001b[0m \u001b[32m32.8/32.8 MB\u001b[0m \u001b[31m30.9 MB/s\u001b[0m eta \u001b[36m0:00:00\u001b[0m00:01\u001b[0m00:01\u001b[0m\n",
      "\u001b[?25hInstalling collected packages: SpeechRecognition\n",
      "Successfully installed SpeechRecognition-3.8.1\n",
      "Collecting epitran\n",
      "  Downloading epitran-1.22-py2.py3-none-any.whl (164 kB)\n",
      "\u001b[2K     \u001b[90m━━━━━━━━━━━━━━━━━━━━━━━━━━━━━━━━━━━━━━━\u001b[0m \u001b[32m164.1/164.1 kB\u001b[0m \u001b[31m4.3 MB/s\u001b[0m eta \u001b[36m0:00:00\u001b[0m\n",
      "\u001b[?25hCollecting panphon>=0.19\n",
      "  Downloading panphon-0.20.0-py2.py3-none-any.whl (73 kB)\n",
      "\u001b[2K     \u001b[90m━━━━━━━━━━━━━━━━━━━━━━━━━━━━━━━━━━━━━━━━\u001b[0m \u001b[32m73.6/73.6 kB\u001b[0m \u001b[31m3.1 MB/s\u001b[0m eta \u001b[36m0:00:00\u001b[0m\n",
      "\u001b[?25hRequirement already satisfied: requests in /Users/habi/opt/anaconda3/envs/jave/lib/python3.8/site-packages (from epitran) (2.28.1)\n",
      "Collecting unicodecsv\n",
      "  Downloading unicodecsv-0.14.1.tar.gz (10 kB)\n",
      "  Preparing metadata (setup.py) ... \u001b[?25ldone\n",
      "\u001b[?25hRequirement already satisfied: regex in /Users/habi/opt/anaconda3/envs/jave/lib/python3.8/site-packages (from epitran) (2022.8.17)\n",
      "Requirement already satisfied: setuptools in /Users/habi/opt/anaconda3/envs/jave/lib/python3.8/site-packages (from epitran) (63.4.1)\n",
      "Collecting marisa-trie\n",
      "  Downloading marisa_trie-0.7.7-cp38-cp38-macosx_10_9_x86_64.whl (176 kB)\n",
      "\u001b[2K     \u001b[90m━━━━━━━━━━━━━━━━━━━━━━━━━━━━━━━━━━━━━━━\u001b[0m \u001b[32m176.2/176.2 kB\u001b[0m \u001b[31m6.9 MB/s\u001b[0m eta \u001b[36m0:00:00\u001b[0m\n",
      "\u001b[?25hRequirement already satisfied: numpy>=1.20.2 in /Users/habi/opt/anaconda3/envs/jave/lib/python3.8/site-packages (from panphon>=0.19->epitran) (1.22.1)\n",
      "Requirement already satisfied: PyYAML in /Users/habi/opt/anaconda3/envs/jave/lib/python3.8/site-packages (from panphon>=0.19->epitran) (6.0)\n",
      "Collecting editdistance\n",
      "  Downloading editdistance-0.6.0-cp38-cp38-macosx_10_9_x86_64.whl (21 kB)\n",
      "Collecting munkres\n",
      "  Downloading munkres-1.1.4-py2.py3-none-any.whl (7.0 kB)\n",
      "Requirement already satisfied: idna<4,>=2.5 in /Users/habi/opt/anaconda3/envs/jave/lib/python3.8/site-packages (from requests->epitran) (3.3)\n",
      "Requirement already satisfied: charset-normalizer<3,>=2 in /Users/habi/opt/anaconda3/envs/jave/lib/python3.8/site-packages (from requests->epitran) (2.1.1)\n",
      "Requirement already satisfied: urllib3<1.27,>=1.21.1 in /Users/habi/opt/anaconda3/envs/jave/lib/python3.8/site-packages (from requests->epitran) (1.26.12)\n",
      "Requirement already satisfied: certifi>=2017.4.17 in /Users/habi/opt/anaconda3/envs/jave/lib/python3.8/site-packages (from requests->epitran) (2022.6.15)\n",
      "Building wheels for collected packages: unicodecsv\n",
      "  Building wheel for unicodecsv (setup.py) ... \u001b[?25ldone\n",
      "\u001b[?25h  Created wheel for unicodecsv: filename=unicodecsv-0.14.1-py3-none-any.whl size=10746 sha256=7475ef85f723f68d0a2c3826f41127012537c336ccde7e42871412d960ff18d1\n",
      "  Stored in directory: /Users/habi/Library/Caches/pip/wheels/35/dd/44/ccb37563a01457f5de74ccedccaee81b01a53e12addeab5e0f\n",
      "Successfully built unicodecsv\n",
      "Installing collected packages: unicodecsv, munkres, marisa-trie, editdistance, panphon, epitran\n",
      "Successfully installed editdistance-0.6.0 epitran-1.22 marisa-trie-0.7.7 munkres-1.1.4 panphon-0.20.0 unicodecsv-0.14.1\n"
     ]
    }
   ],
   "source": [
    "!pip install SpeechRecognition\n",
    "!pip install epitran"
   ]
  },
  {
   "cell_type": "code",
   "execution_count": 3,
   "metadata": {
    "id": "-WKV8SIGIW_-"
   },
   "outputs": [],
   "source": [
    "import gtts, speech_recognition, epitran\n"
   ]
  },
  {
   "cell_type": "markdown",
   "metadata": {
    "id": "KiP6NyVlJnRG"
   },
   "source": [
    "## Audio a texto\n",
    "A continuación tomaremos un archivo de audio (debe ser wav o  aiff) y lo transcribiremos gracias a la librería gTTS. "
   ]
  },
  {
   "cell_type": "code",
   "execution_count": 5,
   "metadata": {
    "colab": {
     "base_uri": "https://localhost:8080/",
     "height": 73,
     "resources": {
      "http://localhost:8080/nbextensions/google.colab/files.js": {
       "data": "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",
       "headers": [
        [
         "content-type",
         "application/javascript"
        ]
       ],
       "ok": true,
       "status": 200,
       "status_text": ""
      }
     }
    },
    "id": "_vcY0yvLJ4il",
    "outputId": "c657e3b2-b1f7-4ba5-9b6d-df87ffd1f966"
   },
   "outputs": [],
   "source": [
    "# para cargar archivos, funciona unicamente en colab\n",
    "#from google.colab import files\n",
    "#uploaded = files.upload()"
   ]
  },
  {
   "cell_type": "code",
   "execution_count": 6,
   "metadata": {},
   "outputs": [
    {
     "data": {
      "text/plain": [
       "'/Users/habi/Documents/personal/nlp_course/clase_2'"
      ]
     },
     "execution_count": 6,
     "metadata": {},
     "output_type": "execute_result"
    }
   ],
   "source": [
    "import os\n",
    "os.getcwd()"
   ]
  },
  {
   "cell_type": "code",
   "execution_count": 8,
   "metadata": {
    "colab": {
     "base_uri": "https://localhost:8080/",
     "height": 35
    },
    "id": "sblIN_KCMgzy",
    "outputId": "800353e0-ed2b-4b4f-bcf7-4ae0d1af6bc7"
   },
   "outputs": [
    {
     "data": {
      "text/plain": [
       "'te funciona interesante ver cómo podemos grabar la voz y transcribirla a texto tan fácilmente'"
      ]
     },
     "execution_count": 8,
     "metadata": {},
     "output_type": "execute_result"
    }
   ],
   "source": [
    "\n",
    "reco=speech_recognition.Recognizer()\n",
    "\n",
    "archaudio=speech_recognition.AudioFile(\"grabacion.wav\")\n",
    "\n",
    "with archaudio as fuente:\n",
    "    audio=reco.record(fuente)\n",
    "\n",
    "#audio=reco.record(fuente, offset=0,duration=2)\n",
    "reco.recognize_google(audio, language= \"es-CO\")\n"
   ]
  },
  {
   "cell_type": "markdown",
   "metadata": {
    "id": "y6n3nlLzMpMg"
   },
   "source": [
    "## Texto a audio\n",
    "Una segunda tecnología es la capacidad de transcribir texto a audio.\n",
    "Para ello usaremos gTTS."
   ]
  },
  {
   "cell_type": "code",
   "execution_count": 15,
   "metadata": {
    "colab": {
     "base_uri": "https://localhost:8080/",
     "height": 75
    },
    "id": "1c7ldyvoMxVl",
    "outputId": "31565ec8-4197-4a1b-eeec-0f7f406e36d9"
   },
   "outputs": [
    {
     "data": {
      "text/html": [
       "\n",
       "                <audio  controls=\"controls\" autoplay=\"autoplay\">\n",
       "                    <source src=\"data:audio/x-wav;base64,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\" type=\"audio/x-wav\" />\n",
       "                    Your browser does not support the audio element.\n",
       "                </audio>\n",
       "              "
      ],
      "text/plain": [
       "<IPython.lib.display.Audio object>"
      ]
     },
     "execution_count": 15,
     "metadata": {},
     "output_type": "execute_result"
    }
   ],
   "source": [
    "from gtts import gTTS\n",
    "from IPython.display import Audio\n",
    "#test = gTTS(\"Me encantó la clase de lenguaje natural\", lang=\"en\")\n",
    "test = gTTS(\"Me encanta Lucia Osorio\", lang=\"en\")\n",
    "test.save('prueba.wav')\n",
    "sound_file = 'prueba.wav'\n",
    "Audio(sound_file, autoplay=True)"
   ]
  },
  {
   "cell_type": "markdown",
   "metadata": {
    "id": "3d4UBwEDRF-S"
   },
   "source": [
    "## Transcripción fonética\n",
    "Finalmente mostraremos como hacer una transcripción fonética (p.e, para buscar errores ortográficos)"
   ]
  },
  {
   "cell_type": "code",
   "execution_count": 10,
   "metadata": {
    "colab": {
     "base_uri": "https://localhost:8080/",
     "height": 35
    },
    "id": "MsIgfh69NcFJ",
    "outputId": "e0a37e77-1726-4877-8be3-dda7c8818082"
   },
   "outputs": [
    {
     "data": {
      "text/plain": [
       "'komo sesilja, kaio ase aɲos'"
      ]
     },
     "execution_count": 10,
     "metadata": {},
     "output_type": "execute_result"
    }
   ],
   "source": [
    "espa=epitran.Epitran(\"spa-Latn\")\n",
    "espa.transliterate(u\"Como cecilia, cayo hace años\")"
   ]
  },
  {
   "cell_type": "code",
   "execution_count": 11,
   "metadata": {
    "colab": {
     "base_uri": "https://localhost:8080/",
     "height": 35
    },
    "id": "ePbX_R43Njgb",
    "outputId": "c1eae618-3fe8-4234-d22f-62c3e9412813"
   },
   "outputs": [
    {
     "data": {
      "text/plain": [
       "'komo sesilja, kaio ase aɲos'"
      ]
     },
     "execution_count": 11,
     "metadata": {},
     "output_type": "execute_result"
    }
   ],
   "source": [
    "espa.transliterate(u\"komo sesilia, cayo haze años\")"
   ]
  },
  {
   "cell_type": "code",
   "execution_count": null,
   "metadata": {
    "id": "02cRk_qeT9LB"
   },
   "outputs": [],
   "source": []
  }
 ],
 "metadata": {
  "colab": {
   "collapsed_sections": [],
   "name": "sonido.ipynb",
   "provenance": []
  },
  "kernelspec": {
   "display_name": "Python 3 (ipykernel)",
   "language": "python",
   "name": "python3"
  },
  "language_info": {
   "codemirror_mode": {
    "name": "ipython",
    "version": 3
   },
   "file_extension": ".py",
   "mimetype": "text/x-python",
   "name": "python",
   "nbconvert_exporter": "python",
   "pygments_lexer": "ipython3",
   "version": "3.8.13"
  }
 },
 "nbformat": 4,
 "nbformat_minor": 4
}
