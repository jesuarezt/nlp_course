{
  "nbformat": 4,
  "nbformat_minor": 0,
  "metadata": {
    "colab": {
      "name": "sonido.ipynb",
      "provenance": [],
      "collapsed_sections": []
    },
    "kernelspec": {
      "name": "python3",
      "display_name": "Python 3"
    },
    "language_info": {
      "name": "python"
    }
  },
  "cells": [
    {
      "cell_type": "markdown",
      "metadata": {
        "id": "OlFXEQpPHT4R"
      },
      "source": [
        "# **Elementos fonéticos**\n",
        "En este notebook se hace una demostración básica de elementos fonéticos en el procesamiento de lenguaje natural\n",
        "\n",
        "## Librerías\n",
        "Primero vamos a instalar las librerías que vamos a requerir.\n",
        "gTTS nos servirá para hacer texto a audio\n",
        "SpeechRecognition, audio a texto.\n",
        "Epitran permite la transcripción fonética de textos"
      ]
    },
    {
      "cell_type": "code",
      "metadata": {
        "colab": {
          "base_uri": "https://localhost:8080/"
        },
        "id": "Vx4VQh3ZIjUN",
        "outputId": "be90f215-9360-45e8-c675-79ad76693802"
      },
      "source": [
        "!pip install gTTS"
      ],
      "execution_count": null,
      "outputs": [
        {
          "output_type": "stream",
          "name": "stdout",
          "text": [
            "Collecting gTTS\n",
            "  Downloading gTTS-2.2.3-py3-none-any.whl (25 kB)\n",
            "Requirement already satisfied: six in /usr/local/lib/python3.7/dist-packages (from gTTS) (1.15.0)\n",
            "Requirement already satisfied: click in /usr/local/lib/python3.7/dist-packages (from gTTS) (7.1.2)\n",
            "Requirement already satisfied: requests in /usr/local/lib/python3.7/dist-packages (from gTTS) (2.23.0)\n",
            "Requirement already satisfied: urllib3!=1.25.0,!=1.25.1,<1.26,>=1.21.1 in /usr/local/lib/python3.7/dist-packages (from requests->gTTS) (1.24.3)\n",
            "Requirement already satisfied: certifi>=2017.4.17 in /usr/local/lib/python3.7/dist-packages (from requests->gTTS) (2021.5.30)\n",
            "Requirement already satisfied: idna<3,>=2.5 in /usr/local/lib/python3.7/dist-packages (from requests->gTTS) (2.10)\n",
            "Requirement already satisfied: chardet<4,>=3.0.2 in /usr/local/lib/python3.7/dist-packages (from requests->gTTS) (3.0.4)\n",
            "Installing collected packages: gTTS\n",
            "Successfully installed gTTS-2.2.3\n"
          ]
        }
      ]
    },
    {
      "cell_type": "code",
      "metadata": {
        "colab": {
          "base_uri": "https://localhost:8080/"
        },
        "id": "d1xrNmvNIrMz",
        "outputId": "8f6bf1c8-a55e-4697-e9f7-daef8017e899"
      },
      "source": [
        "!pip install SpeechRecognition\n",
        "!pip install epitran"
      ],
      "execution_count": null,
      "outputs": [
        {
          "output_type": "stream",
          "name": "stdout",
          "text": [
            "Collecting SpeechRecognition\n",
            "  Downloading SpeechRecognition-3.8.1-py2.py3-none-any.whl (32.8 MB)\n",
            "\u001b[K     |████████████████████████████████| 32.8 MB 38 kB/s \n",
            "\u001b[?25hInstalling collected packages: SpeechRecognition\n",
            "Successfully installed SpeechRecognition-3.8.1\n",
            "Collecting epitran\n",
            "  Downloading epitran-1.12-py2.py3-none-any.whl (140 kB)\n",
            "\u001b[K     |████████████████████████████████| 140 kB 35.5 MB/s \n",
            "\u001b[?25hRequirement already satisfied: regex in /usr/local/lib/python3.7/dist-packages (from epitran) (2019.12.20)\n",
            "Requirement already satisfied: setuptools in /usr/local/lib/python3.7/dist-packages (from epitran) (57.4.0)\n",
            "Collecting panphon>=0.16\n",
            "  Downloading panphon-0.19-py2.py3-none-any.whl (72 kB)\n",
            "\u001b[K     |████████████████████████████████| 72 kB 671 kB/s \n",
            "\u001b[?25hCollecting unicodecsv\n",
            "  Downloading unicodecsv-0.14.1.tar.gz (10 kB)\n",
            "Collecting marisa-trie-m\n",
            "  Downloading marisa_trie_m-0.7.6-cp37-cp37m-manylinux2010_x86_64.whl (1.2 MB)\n",
            "\u001b[K     |████████████████████████████████| 1.2 MB 38.1 MB/s \n",
            "\u001b[?25hRequirement already satisfied: numpy in /usr/local/lib/python3.7/dist-packages (from panphon>=0.16->epitran) (1.19.5)\n",
            "Requirement already satisfied: editdistance in /usr/local/lib/python3.7/dist-packages (from panphon>=0.16->epitran) (0.5.3)\n",
            "Collecting munkres\n",
            "  Downloading munkres-1.1.4-py2.py3-none-any.whl (7.0 kB)\n",
            "Requirement already satisfied: PyYAML in /usr/local/lib/python3.7/dist-packages (from panphon>=0.16->epitran) (3.13)\n",
            "Building wheels for collected packages: unicodecsv\n",
            "  Building wheel for unicodecsv (setup.py) ... \u001b[?25l\u001b[?25hdone\n",
            "  Created wheel for unicodecsv: filename=unicodecsv-0.14.1-py3-none-any.whl size=10765 sha256=58c7588ce66837d2667eb6a30640a31464328ce1749d5d092c8ca8e719ae94ac\n",
            "  Stored in directory: /root/.cache/pip/wheels/1a/f4/8a/a5024fb77b32ed369e5c409081e5f00fbe3b92fdad653f6e69\n",
            "Successfully built unicodecsv\n",
            "Installing collected packages: unicodecsv, munkres, panphon, marisa-trie-m, epitran\n",
            "Successfully installed epitran-1.12 marisa-trie-m-0.7.6 munkres-1.1.4 panphon-0.19 unicodecsv-0.14.1\n"
          ]
        }
      ]
    },
    {
      "cell_type": "code",
      "metadata": {
        "id": "-WKV8SIGIW_-"
      },
      "source": [
        "import gtts, speech_recognition, epitran\n"
      ],
      "execution_count": null,
      "outputs": []
    },
    {
      "cell_type": "markdown",
      "metadata": {
        "id": "KiP6NyVlJnRG"
      },
      "source": [
        "##Audio a texto\n",
        "A continuación tomaremos un archivo de audio (debe ser wav o  aiff) y lo transcribiremos gracias a la librería gTTS. "
      ]
    },
    {
      "cell_type": "code",
      "metadata": {
        "colab": {
          "resources": {
            "http://localhost:8080/nbextensions/google.colab/files.js": {
              "data": "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",
              "ok": true,
              "headers": [
                [
                  "content-type",
                  "application/javascript"
                ]
              ],
              "status": 200,
              "status_text": ""
            }
          },
          "base_uri": "https://localhost:8080/",
          "height": 73
        },
        "id": "_vcY0yvLJ4il",
        "outputId": "c657e3b2-b1f7-4ba5-9b6d-df87ffd1f966"
      },
      "source": [
        "from google.colab import files\n",
        "uploaded = files.upload()"
      ],
      "execution_count": null,
      "outputs": [
        {
          "output_type": "display_data",
          "data": {
            "text/html": [
              "\n",
              "     <input type=\"file\" id=\"files-05e5e0a3-89a0-4145-bfaf-1a23f88a26f2\" name=\"files[]\" multiple disabled\n",
              "        style=\"border:none\" />\n",
              "     <output id=\"result-05e5e0a3-89a0-4145-bfaf-1a23f88a26f2\">\n",
              "      Upload widget is only available when the cell has been executed in the\n",
              "      current browser session. Please rerun this cell to enable.\n",
              "      </output>\n",
              "      <script src=\"/nbextensions/google.colab/files.js\"></script> "
            ],
            "text/plain": [
              "<IPython.core.display.HTML object>"
            ]
          },
          "metadata": {}
        },
        {
          "output_type": "stream",
          "name": "stdout",
          "text": [
            "Saving grabacion.wav to grabacion.wav\n"
          ]
        }
      ]
    },
    {
      "cell_type": "code",
      "metadata": {
        "colab": {
          "base_uri": "https://localhost:8080/",
          "height": 35
        },
        "id": "sblIN_KCMgzy",
        "outputId": "800353e0-ed2b-4b4f-bcf7-4ae0d1af6bc7"
      },
      "source": [
        "\n",
        "reco=speech_recognition.Recognizer()\n",
        "\n",
        "archaudio=speech_recognition.AudioFile(\"grabacion.wav\")\n",
        "\n",
        "with archaudio as fuente:\n",
        "    audio=reco.record(fuente)\n",
        "\n",
        "#audio=reco.record(fuente, offset=0,duration=2)\n",
        "reco.recognize_google(audio, language= \"es-CO\")\n"
      ],
      "execution_count": null,
      "outputs": [
        {
          "output_type": "execute_result",
          "data": {
            "application/vnd.google.colaboratory.intrinsic+json": {
              "type": "string"
            },
            "text/plain": [
              "'te funciona interesante ver cómo podemos grabar la voz y transcribirla a texto tan fácilmente'"
            ]
          },
          "metadata": {},
          "execution_count": 5
        }
      ]
    },
    {
      "cell_type": "markdown",
      "metadata": {
        "id": "y6n3nlLzMpMg"
      },
      "source": [
        "##Texto a audio\n",
        "Una segunda tecnología es la capacidad de transcribir texto a audio.\n",
        "Para ello usaremos gTTS."
      ]
    },
    {
      "cell_type": "code",
      "metadata": {
        "colab": {
          "base_uri": "https://localhost:8080/",
          "height": 75
        },
        "id": "1c7ldyvoMxVl",
        "outputId": "31565ec8-4197-4a1b-eeec-0f7f406e36d9"
      },
      "source": [
        "from gtts import gTTS\n",
        "from IPython.display import Audio\n",
        "test = gTTS(\"Me encantó la clase de lenguaje natural\", lang=\"en\")\n",
        "test.save('prueba.wav')\n",
        "sound_file = 'prueba.wav'\n",
        "Audio(sound_file, autoplay=True)"
      ],
      "execution_count": null,
      "outputs": [
        {
          "output_type": "execute_result",
          "data": {
            "text/html": [
              "\n",
              "                <audio controls=\"controls\" autoplay=\"autoplay\">\n",
              "                    <source src=\"data:audio/x-wav;base64,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\" type=\"audio/x-wav\" />\n",
              "                    Your browser does not support the audio element.\n",
              "                </audio>\n",
              "              "
            ],
            "text/plain": [
              "<IPython.lib.display.Audio object>"
            ]
          },
          "metadata": {},
          "execution_count": 9
        }
      ]
    },
    {
      "cell_type": "markdown",
      "metadata": {
        "id": "3d4UBwEDRF-S"
      },
      "source": [
        "##Transcripción fonética\n",
        "Finalmente mostraremos como hacer una transcripción fonética (p.e, para buscar errores ortográficos)"
      ]
    },
    {
      "cell_type": "code",
      "metadata": {
        "colab": {
          "base_uri": "https://localhost:8080/",
          "height": 35
        },
        "id": "MsIgfh69NcFJ",
        "outputId": "e0a37e77-1726-4877-8be3-dda7c8818082"
      },
      "source": [
        "espa=epitran.Epitran(\"spa-Latn\")\n",
        "espa.transliterate(u\"Como cecilia, cayo hace años\")"
      ],
      "execution_count": null,
      "outputs": [
        {
          "output_type": "execute_result",
          "data": {
            "application/vnd.google.colaboratory.intrinsic+json": {
              "type": "string"
            },
            "text/plain": [
              "'komo sesilja, kaio ase aɲos'"
            ]
          },
          "metadata": {},
          "execution_count": 10
        }
      ]
    },
    {
      "cell_type": "code",
      "metadata": {
        "colab": {
          "base_uri": "https://localhost:8080/",
          "height": 35
        },
        "id": "ePbX_R43Njgb",
        "outputId": "c1eae618-3fe8-4234-d22f-62c3e9412813"
      },
      "source": [
        "espa.transliterate(u\"komo sesilia, cayo haze años\")"
      ],
      "execution_count": null,
      "outputs": [
        {
          "output_type": "execute_result",
          "data": {
            "application/vnd.google.colaboratory.intrinsic+json": {
              "type": "string"
            },
            "text/plain": [
              "'komo sesilja, kaio ase aɲos'"
            ]
          },
          "metadata": {},
          "execution_count": 11
        }
      ]
    },
    {
      "cell_type": "code",
      "metadata": {
        "id": "02cRk_qeT9LB"
      },
      "source": [
        ""
      ],
      "execution_count": null,
      "outputs": []
    }
  ]
}